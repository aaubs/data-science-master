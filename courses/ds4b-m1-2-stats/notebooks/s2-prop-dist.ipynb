{
  "nbformat": 4,
  "nbformat_minor": 0,
  "metadata": {
    "colab": {
      "name": "propability distributions.ipynb",
      "private_outputs": true,
      "provenance": [],
      "authorship_tag": "ABX9TyMQ+LYNwj605/6F77+lp5MI",
      "include_colab_link": true
    },
    "kernelspec": {
      "name": "python3",
      "display_name": "Python 3"
    },
    "language_info": {
      "name": "python"
    }
  },
  "cells": [
    {
      "cell_type": "markdown",
      "metadata": {
        "id": "view-in-github",
        "colab_type": "text"
      },
      "source": [
        "<a href=\"https://colab.research.google.com/github/aaubs/ds-master/blob/main/courses/ds4b-m1-2-stats/notebooks/s2-prop-dist.ipynb\" target=\"_parent\"><img src=\"https://colab.research.google.com/assets/colab-badge.svg\" alt=\"Open In Colab\"/></a>"
      ]
    },
    {
      "cell_type": "markdown",
      "source": [
        "# Introduction\n",
        "\n",
        "Probability and Statistics are the foundational pillars of Data Science. In fact, the underlying principle of machine learning and artificial intelligence is nothing but statistical mathematics and linear algebra. Often you will encounter situations, especially in Data Science, where you have to read some research paper which involves a lot of maths in order to understand a particular topic and so if you want to get better at Data Science, it's imperative to have a strong mathematical understanding. This tutorial is about commonly used probability distributions in machine learning literature. If you are a beginner, then this is the right place for you to get started. In this tutorial, you'll:\n",
        "\n",
        "- Learn about probability jargons like random variables, density curve, probability functions, etc.\n",
        "- Learn about different probability distributions and their distribution functions along with some of their properties.\n",
        "- Learn to create and plot these distributions in python.\n",
        "\n",
        "Before getting started, you should be familiar with some mathematical terminologies which is what the next section covers."
      ],
      "metadata": {
        "id": "8uvgpx8x-92Y"
      }
    },
    {
      "cell_type": "markdown",
      "source": [
        "# Random Variable\n",
        "\n",
        "A **random variable** is a variable whose possible values are numerical outcomes of a random phenomenon. There are two types of random variables, discrete and continuous.\n",
        "\n",
        "A **discrete random variable** is one which may take on only a countable number of distinct values and thus can be quantified. For example, you can define a random variable $X$ to be the number which comes up when you roll a fair dice. $X$ can take values : $[1,2,3,4,5,6]$ and therefore is a discrete random variable.\n",
        "\n",
        "The probability distribution of a discrete random variable is a list of probabilities associated with each of its possible values. It is also sometimes called the **probability function** or the probability mass function. To have a mathematical sense, suppose a random variable $X$ may take $k$ different values, with the probability that $X = x_{i}$ defined to be $P(X = x_{i}) = p_{i}$. Then the probabilities $p_{i}$ must satisfy the following:\n",
        "\n",
        "1: 0 < $p_{i}$ < 1 for each $i$\n",
        "\n",
        "2: $p_{1} + p_{2} + ... + p_{k} = 1$.\n",
        "\n",
        "Some examples of discrete probability distributions are Bernoulli distribution, Binomial distribution, Poisson distribution etc.\n",
        "\n",
        "A **continuous random variable** is one which takes an infinite number of possible values. For example, you can define a random variable $X$ to be the height of students in a class. Since the continuous random variable is defined over an interval of values, it is represented by the area under a curve (or the integral).\n",
        "\n",
        "The probability distribution of a continuous random variable, known as **probability distribution functions**, are the functions that take on continuous values. The probability of observing any single value is equal to $0$ since the number of values which may be assumed by the random variable is infinite.\n",
        "For example, a random variable $X$ may take all values over an interval of real numbers. Then the probability that $X$ is in the set of outcomes $A, P(A)$, is defined to be the area above $A$ and under a curve. The curve, which represents a function $p(x)$, must satisfy the following:\n",
        "\n",
        "1: The curve has no negative values $(p(x) > 0$ for all $x$)\n",
        "\n",
        "2: The total area under the curve is equal to $1$.\n",
        "\n",
        "A curve meeting these requirements is often known as a **density curve**. Some examples of continuous probability distributions are normal distribution, exponential distribution, beta distribution, etc.\n",
        "\n",
        "There’s another type of distribution that often pops up in literature which you should know about called **cumulative distribution function**. All random variables (discrete and continuous) have a cumulative distribution function. It is a function giving the probability that the random variable $X$ is less than or equal to $x$, for every value $x$. For a discrete random variable, the cumulative distribution function is found by summing up the probabilities.\n",
        "\n",
        "In the next section, you will explore some important distributions and try to work them out in python but before that import all the necessary libraries that you'll use."
      ],
      "metadata": {
        "id": "RNi7_mS8_VaE"
      }
    },
    {
      "cell_type": "markdown",
      "source": [
        "# Common distributions"
      ],
      "metadata": {
        "id": "yrxxmMCyAWJ9"
      }
    },
    {
      "cell_type": "code",
      "source": [
        "### Python setup\n",
        "\n",
        "# for inline plots in jupyter\n",
        "%matplotlib inline\n",
        "\n",
        "# import matplotlib\n",
        "import matplotlib.pyplot as plt\n",
        "%config InlineBackend.figure_format = 'retina'\n",
        "plt.rcParams[\"figure.figsize\"] = [8, 4]\n",
        "plt.style.use(['seaborn-darkgrid'])\n",
        "\n",
        "# import seaborn\n",
        "import seaborn as sns\n",
        "\n",
        "# settings for seaborn plotting style\n",
        "sns.set(color_codes=True)\n",
        "\n",
        "# settings for seaborn plot sizes\n",
        "sns.set(rc={'figure.figsize':(8,4)})"
      ],
      "metadata": {
        "id": "kFzDMIqgAmHL"
      },
      "execution_count": null,
      "outputs": []
    },
    {
      "cell_type": "markdown",
      "source": [
        "## Uniform Distribution\n",
        "\n",
        "Perhaps one of the simplest and useful distribution is the uniform distribution. The probability distribution function of the continuous uniform distribution is:\n",
        "\n",
        "$$\n",
        "\\begin{equation}\n",
        "  f(x) =\n",
        "    \\begin{cases}\n",
        "      \\frac{1}{b-a} & \\text{for} \\ a \\leq x \\leq b, \\\\\n",
        "      0  & \\text{for} \\ x < a \\ \\text{or} \\ x > b\n",
        "    \\end{cases}       \n",
        "\\end{equation}\n",
        "$$\n",
        "\n",
        "Since any interval of numbers of equal width has an equal probability of being observed, the curve describing the distribution is a rectangle, with constant height across the interval and 0 height elsewhere. Since the area under the curve must be equal to 1, the length of the interval determines the height of the curve. The following figure shows a uniform distribution in interval (a,b). Notice since the area needs to be $1$. The height is set to $1/(b-a)$.\n",
        "\n",
        "You can visualize uniform distribution in python with the help of a random number generator acting over an interval of numbers (a,b). You need to import the `uniform` function from `scipy.stats` module."
      ],
      "metadata": {
        "id": "yPXu_w_NA8VM"
      }
    },
    {
      "cell_type": "code",
      "source": [
        "# import uniform distribution\n",
        "from scipy.stats import uniform"
      ],
      "metadata": {
        "id": "Gyz_Uzl3Cq3E"
      },
      "execution_count": null,
      "outputs": []
    },
    {
      "cell_type": "markdown",
      "source": [
        "The `uniform` function generates a uniform continuous variable between the specified interval via its `loc` and `scale` arguments. This distribution is constant between `loc` and `loc + scale`. The `size` arguments describe the number of random variates. If you want to maintain reproducibility, include a `random_state` argument assigned to a number."
      ],
      "metadata": {
        "id": "mrmo6Dj6Cvo_"
      }
    },
    {
      "cell_type": "code",
      "source": [
        "# random numbers from uniform distribution\n",
        "n = 10000\n",
        "start = 10\n",
        "width = 20\n",
        "data_uniform = uniform.rvs(size=n, loc = start, scale=width)"
      ],
      "metadata": {
        "id": "_-iWh8ihCwdV"
      },
      "execution_count": null,
      "outputs": []
    },
    {
      "cell_type": "markdown",
      "source": [
        "You can use Seaborn’s `distplot` to plot the histogram of the distribution you just created. Seaborn’s distplot takes in multiple arguments to customize the plot. You first create a plot object `ax`. Here, you can specify the number of `bins` in the histogram, specify the `color` of the histogram and specify density plot option with `kde` and linewidth option with `hist_kws`. You can also set labels for x and y axis using the `xlabel` and `ylabel` arguments."
      ],
      "metadata": {
        "id": "aRTEWFX-C0Pf"
      }
    },
    {
      "cell_type": "code",
      "source": [
        "ax = sns.distplot(data_uniform,\n",
        "                  bins=100,\n",
        "                  kde=True,\n",
        "                  color='skyblue',\n",
        "                  hist_kws={\"linewidth\": 15,'alpha':1})\n",
        "\n",
        "ax.set(xlabel='Uniform Distribution ', ylabel='Frequency')"
      ],
      "metadata": {
        "id": "BSz3A4HhC4O8"
      },
      "execution_count": null,
      "outputs": []
    },
    {
      "cell_type": "markdown",
      "source": [
        "## Normal Distribution\n",
        "\n",
        "Normal Distribution, also known as Gaussian distribution, is ubiquitous in Data Science. You will encounter it at many places especially in topics of statistical inference. It is one of the assumptions of many data science algorithms too.\n",
        "\n",
        "A normal distribution has a bell-shaped density curve described by its mean $μ$ and standard deviation $σ$. The density curve is symmetrical, centered about its mean, with its spread determined by its standard deviation showing that data near the mean are more frequent in occurrence than data far from the mean. The probability distribution function of a normal density curve with mean $μ$ and standard deviation $σ$ at a given point $x$ is given by:\n",
        "\n",
        "$$\n",
        "f(x| \\mu, \\sigma^2) = \\frac{1}{\\sqrt{2 \\pi \\sigma^2}} e^{-\\frac{(x-\\mu)^2}{2\\sigma^2}}\n",
        "$$\n",
        "\n",
        "You can generate a normally distributed random variable using `scipy.stats` module's `norm.rvs()` method. The `loc` argument corresponds to the mean of the distribution. `scale` corresponds to standard deviation and `size` to the number of random variates. If you want to maintain reproducibility, include a `random_state` argument assigned to a number."
      ],
      "metadata": {
        "id": "XGuvYkkiDKmq"
      }
    },
    {
      "cell_type": "code",
      "source": [
        "from scipy.stats import norm\n",
        "\n",
        "# generate random numbers from N(0,1)\n",
        "data_normal = norm.rvs(size=10000,loc=0,scale=1)"
      ],
      "metadata": {
        "id": "Tx6beCC4Dk-Y"
      },
      "execution_count": null,
      "outputs": []
    },
    {
      "cell_type": "code",
      "source": [
        "ax = sns.distplot(data_normal,\n",
        "                  bins=100,\n",
        "                  kde=True,\n",
        "                  color='skyblue',\n",
        "                  hist_kws={\"linewidth\": 15,'alpha':1})\n",
        "\n",
        "ax.set(xlabel='Normal Distribution', ylabel='Frequency')"
      ],
      "metadata": {
        "id": "_J1KGI8sDqJU"
      },
      "execution_count": null,
      "outputs": []
    },
    {
      "cell_type": "markdown",
      "source": [
        "## Gamma Distribution\n",
        "\n",
        "The gamma distribution is a two-parameter family of continuous probability distributions. While it is used rarely in its raw form but other popularly used distributions like exponential, chi-squared, erlang distributions are special cases of the gamma distribution. The gamma distribution can be parameterized in terms of a shape parameter $α = k$ and an inverse scale parameter $β = 1/θ$, called a rate parameter., the symbol $Γ(n)$ is the gamma function and is defined as $(n-1)!$ :\n",
        "\n",
        "$$\n",
        "f(x;\\alpha, \\beta) = \\frac{\\beta^\\alpha x^{\\alpha -1}e^{-\\beta x}}{\\Gamma(a)} \\quad \\text{for} \\ x > 0 \\ \\text{and} \\ \\alpha, \\beta > 0,\n",
        "$$\n",
        "\n",
        "You can generate a gamma distributed random variable using `scipy.stats` module's `gamma.rvs()` method which takes shape parameter $a$ as its argument. When $a$ is an integer, gamma reduces to the Erlang distribution, and when $a=1$ to the exponential distribution. To shift distribution use the `loc` argument, to scale use `scale` argument, `size` decides the number of random variates in the distribution. If you want to maintain reproducibility, include a `random_state` argument assigned to a number.\n"
      ],
      "metadata": {
        "id": "Dg-A53xVEJFK"
      }
    },
    {
      "cell_type": "code",
      "source": [
        "from scipy.stats import gamma\n",
        "\n",
        "data_gamma = gamma.rvs(a=5, size=10000)"
      ],
      "metadata": {
        "id": "EFURxt1-EL6V"
      },
      "execution_count": null,
      "outputs": []
    },
    {
      "cell_type": "code",
      "source": [
        "ax = sns.distplot(data_gamma,\n",
        "                  kde=True,\n",
        "                  bins=100,\n",
        "                  color='skyblue',\n",
        "                  hist_kws={\"linewidth\": 15,'alpha':1})\n",
        "\n",
        "ax.set(xlabel='Gamma Distribution', ylabel='Frequency')"
      ],
      "metadata": {
        "id": "rwGd_27EElte"
      },
      "execution_count": null,
      "outputs": []
    },
    {
      "cell_type": "markdown",
      "source": [
        "## Exponential Distribution\n",
        "\n",
        "The exponential distribution describes the time between events in a Poisson point process, i.e., a process in which events occur continuously and independently at a constant average rate. It has a parameter $λ$ called rate parameter, and its equation is described as:\n",
        "\n",
        "$$\n",
        "f(x;\\lambda)=\n",
        "    \\begin{cases}\n",
        "        \\lambda e^{-\\lambda x} & x \\geq 0, \\\\\n",
        "        0 & x < 0\n",
        "    \\end{cases}\n",
        "$$\n",
        "\n",
        "You can generate an exponentially distributed random variable using `scipy.stats` module's `expon.rvs()` method which takes shape parameter `scale` as its argument which is nothing but `1/lambda` in the equation. To shift distribution use the `loc` argument, `size` decides the number of random variates in the distribution. If you want to maintain reproducibility, include a `random_state` argument assigned to a number."
      ],
      "metadata": {
        "id": "uhF8quiGFasn"
      }
    },
    {
      "cell_type": "code",
      "source": [
        "from scipy.stats import expon\n",
        "\n",
        "data_expon = expon.rvs(scale=1,loc=0,size=1000)"
      ],
      "metadata": {
        "id": "bHqfZNlIGuRC"
      },
      "execution_count": null,
      "outputs": []
    },
    {
      "cell_type": "code",
      "source": [
        "ax = sns.distplot(data_expon,\n",
        "                  kde=True,\n",
        "                  bins=100,\n",
        "                  color='skyblue',\n",
        "                  hist_kws={\"linewidth\": 15,'alpha':1})\n",
        "\n",
        "ax.set(xlabel='Exponential Distribution', ylabel='Frequency')"
      ],
      "metadata": {
        "id": "LTWV7Xv6G1HH"
      },
      "execution_count": null,
      "outputs": []
    },
    {
      "cell_type": "markdown",
      "source": [
        "## Poisson Distribution\n",
        "\n",
        "Poisson random variable is typically used to model the number of times an event happened in a time interval. For example, the number of users visited on a website in an interval can be thought of a Poisson process. Poisson distribution is described in terms of the rate ($μ$) at which the events happen. An event can occur 0, 1, 2, … times in an interval. The average number of events in an interval is designated $λ$ (lambda). Lambda is the event rate, also called the rate parameter. The probability of observing $k$ events in an interval is given by the equation:\n",
        "\n",
        "$$\n",
        "P(k \\ \\text{events in interval}) = \\frac{\\lambda^k}{k!} e^{-\\lambda}\n",
        "$$\n",
        "\n",
        "**Note** that the normal distribution is a limiting case of Poisson distribution with the parameter $λ →∞$. Also, if the times between random events follow an exponential distribution with rate $λ$, then the total number of events in a time period of length $t$ follows the Poisson distribution with parameter $λt$.  \n",
        "\n",
        "You can generate a poisson distributed discrete random variable using `scipy.stats` module's `poisson.rvs()` method which takes $μ$ as a shape parameter and is nothing but the $λ$ in the equation. To shift distribution use the `loc` parameter. `size` decides the number of random variates in the distribution. If you want to maintain reproducibility, include a `random_state` argument assigned to a number."
      ],
      "metadata": {
        "id": "TT6sbc8RHqaS"
      }
    },
    {
      "cell_type": "code",
      "source": [
        "n = 100000"
      ],
      "metadata": {
        "id": "5fhR-007irlL"
      },
      "execution_count": null,
      "outputs": []
    },
    {
      "cell_type": "code",
      "source": [
        "from scipy.stats import poisson\n",
        "\n",
        "data_poisson = poisson.rvs(mu=1,\n",
        "                           size=n)"
      ],
      "metadata": {
        "id": "SGy1hpHrIHQH"
      },
      "execution_count": null,
      "outputs": []
    },
    {
      "cell_type": "code",
      "source": [
        "ax = sns.histplot(data_poisson,\n",
        "                  bins=30,\n",
        "                  kde=False,\n",
        "                  color='skyblue',\n",
        "                  #hist_kws={\"linewidth\": 15,'alpha':1}\n",
        "                  )\n",
        "\n",
        "ax.set(xlabel='Poisson Distribution', ylabel='Frequency')"
      ],
      "metadata": {
        "id": "PmkvS3WDIIOL"
      },
      "execution_count": null,
      "outputs": []
    },
    {
      "cell_type": "markdown",
      "source": [
        "## Binomial Distribution\n",
        "\n",
        "A distribution where only two outcomes are possible, such as success or failure, gain or loss, win or lose and where the probability of success and failure is same for all the trials is called a Binomial Distribution. However, The outcomes need not be equally likely, and each trial is independent of each other. The parameters of a binomial distribution are $n$ and $p$ where $n$ is the total number of trials, and $p$ is the probability of success in each trial. Its probability distribution function is given by :\n",
        "\n",
        "$$f(k,n,p) = Pr(k; n,p) = Pr(X = k) = {n \\choose k} p^k (1-p)^{n-k}$$\n",
        "\n",
        "where:\n",
        "\n",
        "$$\n",
        "{n \\choose k} = \\frac{n!}{k!(n-k)!}\n",
        "$$\n",
        "\n",
        "You can generate a binomial distributed discrete random variable using `scipy.stats` module's `binom.rvs()` method which takes $n$ (number of trials) and $p$ (probability of success) as shape parameters. To shift distribution use the `loc` parameter. `size` decides the number of times to repeat the trials. If you want to maintain reproducibility, include a `random_state` argument assigned to a number."
      ],
      "metadata": {
        "id": "qlAIHck6IhK7"
      }
    },
    {
      "cell_type": "code",
      "source": [
        "from scipy.stats import binom\n",
        "\n",
        "data_binom = binom.rvs(n=10,\n",
        "                       p=0.8,\n",
        "                       size=n)"
      ],
      "metadata": {
        "id": "RsKblSAXI1e1"
      },
      "execution_count": null,
      "outputs": []
    },
    {
      "cell_type": "code",
      "source": [
        "ax = sns.histplot(data_binom,\n",
        "                  kde=False,\n",
        "                  color='skyblue',\n",
        "                  #hist_kws={\"linewidth\": 15,'alpha':1}\n",
        "                  )\n",
        "\n",
        "ax.set(xlabel='Binomial Distribution', ylabel='Frequency')"
      ],
      "metadata": {
        "id": "9RBhPDuPI7Hv"
      },
      "execution_count": null,
      "outputs": []
    },
    {
      "cell_type": "markdown",
      "source": [
        "**Note** that since the probability of success was greater than $0.5$ the distribution is skewed towards the right side. Also, poisson distribution is a limiting case of a binomial distribution under the following conditions:\n",
        "\n",
        "1. The number of trials is indefinitely large or $n → ∞$.\n",
        "2. The probability of success for each trial is same and indefinitely small or $p →0$.\n",
        "3. $np = λ$, is finite.\n",
        "\n",
        "Normal distribution is another limiting form of binomial distribution under the following conditions:\n",
        "\n",
        "1. The number of trials is indefinitely large, $n → ∞$.\n",
        "2. Both $p$ and $q$ are not indefinitely small."
      ],
      "metadata": {
        "id": "IQWkCEYjJPDR"
      }
    },
    {
      "cell_type": "markdown",
      "source": [
        "## Bernoulli Distribution\n",
        "\n",
        "A Bernoulli distribution has only two possible outcomes, namely $1$ (success) and $0$ (failure), and a single trial, for example, a coin toss. So the random variable $X$ which has a Bernoulli distribution can take value $1$ with the probability of success, $p$, and the value $0$ with the probability of failure, $q$ or $1-p$. The probabilities of success and failure need not be equally likely. The Bernoulli distribution is a special case of the binomial distribution where a single trial is conducted ($n=1$). Its probability mass function is given by:\n",
        "\n",
        "$$\n",
        "f(k;p) = p^k(1-p)^{1-k} \\quad \\text{for} \\ k \\in \\{0,1\\}\n",
        "$$"
      ],
      "metadata": {
        "id": "cK3K2DHVJYOK"
      }
    },
    {
      "cell_type": "code",
      "source": [
        "from scipy.stats import bernoulli\n",
        "\n",
        "data_bern = bernoulli.rvs(size=n,\n",
        "                          p=0.6)"
      ],
      "metadata": {
        "id": "DxYBNP82S6Zp"
      },
      "execution_count": null,
      "outputs": []
    },
    {
      "cell_type": "code",
      "source": [
        "ax = sns.histplot(data_bern,\n",
        "                 kde=False,\n",
        "                 color=\"skyblue\",\n",
        "                 #hist_kws={\"linewidth\": 15,'alpha':1}\n",
        "                  )\n",
        "\n",
        "ax.set(xlabel='Bernoulli Distribution', ylabel='Frequency')"
      ],
      "metadata": {
        "id": "UcA2yUg3S7OP"
      },
      "execution_count": null,
      "outputs": []
    },
    {
      "cell_type": "markdown",
      "source": [
        "# Further studies\n",
        "\n",
        "## Recommended readings\n",
        "* x\n",
        "\n",
        "## Recommended DataCamp courses\n",
        "* [Statistical Simulation in Python](https://app.datacamp.com/learn/courses/statistical-simulation-in-python)\n",
        "\n",
        "## Further resources\n",
        "* x"
      ],
      "metadata": {
        "id": "5ODNu7GoXD8t"
      }
    }
  ]
}