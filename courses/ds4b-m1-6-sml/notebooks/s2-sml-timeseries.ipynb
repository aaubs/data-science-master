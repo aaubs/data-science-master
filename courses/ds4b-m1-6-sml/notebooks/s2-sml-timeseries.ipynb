{
  "nbformat": 4,
  "nbformat_minor": 0,
  "metadata": {
    "colab": {
      "private_outputs": true,
      "provenance": [],
      "authorship_tag": "ABX9TyOrBN6/JheEKvWTDulUpXyA",
      "include_colab_link": true
    },
    "kernelspec": {
      "name": "python3",
      "display_name": "Python 3"
    },
    "language_info": {
      "name": "python"
    }
  },
  "cells": [
    {
      "cell_type": "markdown",
      "metadata": {
        "id": "view-in-github",
        "colab_type": "text"
      },
      "source": [
        "<a href=\"https://colab.research.google.com/github/aaubs/ds-master/blob/main/courses/ds4b-m1-6-sml/notebooks/s2-sml-timeseries.ipynb\" target=\"_parent\"><img src=\"https://colab.research.google.com/assets/colab-badge.svg\" alt=\"Open In Colab\"/></a>"
      ]
    },
    {
      "cell_type": "markdown",
      "source": [
        "# Introduction to timeseries"
      ],
      "metadata": {
        "id": "96LlJvyeY7bR"
      }
    },
    {
      "cell_type": "code",
      "source": [
        "import numpy as np\n",
        "import pandas as pd\n",
        "import seaborn as sns\n",
        "import altair as alt\n",
        "import matplotlib.pyplot as plt"
      ],
      "metadata": {
        "id": "qaxy9GeKq51A"
      },
      "execution_count": null,
      "outputs": []
    },
    {
      "cell_type": "markdown",
      "source": [
        "# Data example"
      ],
      "metadata": {
        "id": "FjEWylxKqtoK"
      }
    },
    {
      "cell_type": "code",
      "source": [
        "from vega_datasets import data"
      ],
      "metadata": {
        "id": "UvmkE1lqf7A4"
      },
      "execution_count": null,
      "outputs": []
    },
    {
      "cell_type": "markdown",
      "source": [
        "## Weather\n",
        "https://altair-viz.github.io/user_guide/times_and_dates.html"
      ],
      "metadata": {
        "id": "C1EURNMBew03"
      }
    },
    {
      "cell_type": "code",
      "source": [
        "data_temps = data.seattle_temps()\n",
        "data_temps.head()"
      ],
      "metadata": {
        "id": "itKbw_-wey3x"
      },
      "execution_count": null,
      "outputs": []
    },
    {
      "cell_type": "code",
      "source": [
        "data_temps_small = data_temps[data_temps.date < '2010-01-15']"
      ],
      "metadata": {
        "id": "B0U0Cbg2hA2P"
      },
      "execution_count": null,
      "outputs": []
    },
    {
      "cell_type": "code",
      "source": [
        "alt.Chart(data_temps_small).mark_line().encode(\n",
        "    x='date:T',\n",
        "    y='temp:Q'\n",
        ")"
      ],
      "metadata": {
        "id": "sDuOHeYJgovr"
      },
      "execution_count": null,
      "outputs": []
    },
    {
      "cell_type": "code",
      "source": [
        "alt.Chart(data_temps_small).mark_rect().encode(\n",
        "    alt.X('hoursminutes(date):O', title='hour of day'),\n",
        "    alt.Y('monthdate(date):O', title='date'),\n",
        "    alt.Color('temp:Q', title='temperature (F)')\n",
        ")"
      ],
      "metadata": {
        "id": "TYH1umtBiEj9"
      },
      "execution_count": null,
      "outputs": []
    },
    {
      "cell_type": "markdown",
      "source": [
        "## Bonus: Stocks"
      ],
      "metadata": {
        "id": "zpO1Ps1PepKW"
      }
    },
    {
      "cell_type": "code",
      "source": [
        "pip install yfinance\n",
        "import yfinance as yf"
      ],
      "metadata": {
        "id": "Ri6A4fqKrBGp"
      },
      "execution_count": null,
      "outputs": []
    },
    {
      "cell_type": "code",
      "source": [
        "data_stocks = yf.download(tickers='META', period='5y', interval='1d')\n",
        "#Print data\n",
        "data"
      ],
      "metadata": {
        "id": "J5qqOZRb4L1C"
      },
      "execution_count": null,
      "outputs": []
    },
    {
      "cell_type": "code",
      "source": [
        "sns.lineplot(data=data,\n",
        "             x=\"Date\",\n",
        "             y=\"Close\")\n",
        "plt.show()"
      ],
      "metadata": {
        "id": "MloxT0EP5j7F"
      },
      "execution_count": null,
      "outputs": []
    }
  ]
}