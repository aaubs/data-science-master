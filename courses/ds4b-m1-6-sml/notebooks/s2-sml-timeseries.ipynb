{
  "nbformat": 4,
  "nbformat_minor": 0,
  "metadata": {
    "colab": {
      "private_outputs": true,
      "provenance": [],
      "authorship_tag": "ABX9TyOT0SAO1uLFhRipyBBK8o4h",
      "include_colab_link": true
    },
    "kernelspec": {
      "name": "python3",
      "display_name": "Python 3"
    },
    "language_info": {
      "name": "python"
    }
  },
  "cells": [
    {
      "cell_type": "markdown",
      "metadata": {
        "id": "view-in-github",
        "colab_type": "text"
      },
      "source": [
        "<a href=\"https://colab.research.google.com/github/aaubs/ds-master/blob/main/courses/ds4b-m1-6-sml/notebooks/s2-sml-timeseries.ipynb\" target=\"_parent\"><img src=\"https://colab.research.google.com/assets/colab-badge.svg\" alt=\"Open In Colab\"/></a>"
      ]
    },
    {
      "cell_type": "code",
      "source": [
        "import numpy as np\n",
        "import pandas as pd\n",
        "import seaborn as sns\n",
        "import altair as alt\n",
        "import matplotlib.pyplot as plt"
      ],
      "metadata": {
        "id": "qaxy9GeKq51A"
      },
      "execution_count": null,
      "outputs": []
    },
    {
      "cell_type": "markdown",
      "source": [
        "# Introduction to timeseries\n",
        "\n",
        "What is a time series analysis and what are the benefits? A time series analysis focuses on a series of data points ordered in time. This is one of the most widely used data science analyses and is applied in a variety of industries. \n",
        "\n",
        "This approach can play a huge role in helping companies understand and forecast data patterns and other phenomena, and the results can drive better business decisions. For example:\n",
        "\n",
        "* If you’re a retailer, a time series analysis can help you forecast daily sales volumes to guide decisions around inventory and better timing for marketing efforts.\n",
        "* If you’re in the financial industry, a time series analysis can allow you to forecast stock prices for more effective investment decisions\n",
        "* If you’re an agricultural company, a time series analysis can be used for weather forecasting to guide planning decisions around planting and harvesting."
      ],
      "metadata": {
        "id": "96LlJvyeY7bR"
      }
    },
    {
      "cell_type": "markdown",
      "source": [
        "## Basics\n",
        "\n",
        "- A **time-series** data is a series of data points or observations recorded at different or regular time intervals. In general, a time series is a sequence of data points taken at equally spaced time intervals.  The frequency of recorded data points may be hourly, daily, weekly, monthly, quarterly or annually.\n",
        "\n",
        "\n",
        "- **Time-Series Forecasting** is the process of using a statistical model to predict future values of a time-series based on past results.\n",
        "\n",
        "\n",
        "- A time series analysis encompasses statistical methods for analyzing time series data. These methods enable us to extract meaningful statistics, patterns and other characteristics of the data. Time series are visualized with the help of line charts. So, time series analysis involves understanding inherent aspects of the time series data so that we can create meaningful and accurate forecasts.\n",
        "\n",
        "\n",
        "- Applications of time series are used in statistics, finance or business applications. A very common example of time series data is the daily closing value of the stock index like NASDAQ or Dow Jones. Other common applications of time series are sales and demand forecasting, weather forecasting, econometrics, signal processing, pattern recognition and earthquake prediction.\n"
      ],
      "metadata": {
        "id": "VMxA_g5uyW_l"
      }
    },
    {
      "cell_type": "markdown",
      "source": [
        "## Components of a Time-Series\n",
        "\n",
        "\n",
        "- **Trend** - The trend shows a general direction of the time series data over a long period of time. A trend can be increasing(upward), decreasing(downward), or horizontal(stationary).\n",
        "\n",
        "\n",
        "- **Seasonality** - The seasonality component exhibits a trend that repeats with respect to timing, direction, and magnitude. Some examples include an increase in water consumption in summer due to hot weather conditions.\n",
        "\n",
        "\n",
        "- **Cyclical Component** - These are the trends with no set repetition over a particular period of time. A cycle refers to the period of ups and downs, booms and slums of a time series, mostly observed in business cycles. These cycles do not exhibit a seasonal variation but generally occur over a time period of 3 to 12 years depending on the nature of the time series.\n",
        "\n",
        "\n",
        "- **Irregular Variation** - These are the fluctuations in the time series data which become evident when trend and cyclical variations are removed. These variations are unpredictable, erratic, and may or may not be random.\n",
        "\n",
        "- **ETS Decomposition** - ETS Decomposition is used to separate different components of a time series. The term ETS stands for Error, Trend and Seasonality.\n",
        "\n",
        "![timeseries seassions](https://github.com/aaubs/ds-master/blob/main/courses/ds4b-m1-6-sml/notebooks/aaubs.github.io/ds-master/data/Images/m1_sml_time_series_seasson.png?raw=1)"
      ],
      "metadata": {
        "id": "8pcluOVmyiq6"
      }
    },
    {
      "cell_type": "markdown",
      "source": [
        "# Data example"
      ],
      "metadata": {
        "id": "FjEWylxKqtoK"
      }
    },
    {
      "cell_type": "code",
      "source": [
        "from vega_datasets import data"
      ],
      "metadata": {
        "id": "UvmkE1lqf7A4"
      },
      "execution_count": null,
      "outputs": []
    },
    {
      "cell_type": "markdown",
      "source": [
        "# Air Passengers"
      ],
      "metadata": {
        "id": "LpHB7z463-ws"
      }
    },
    {
      "cell_type": "code",
      "source": [
        "data_passengers = pd.read_csv(\"https://raw.githubusercontent.com/aaubs/ds-master/main/data/air_passengers.csv\")"
      ],
      "metadata": {
        "id": "OBBUnayn4C6r"
      },
      "execution_count": null,
      "outputs": []
    },
    {
      "cell_type": "code",
      "source": [
        "data_passengers.head()"
      ],
      "metadata": {
        "id": "s79yd6M74WjM"
      },
      "execution_count": null,
      "outputs": []
    },
    {
      "cell_type": "code",
      "source": [
        "data_passengers.info()"
      ],
      "metadata": {
        "id": "BjC93awg4c9D"
      },
      "execution_count": null,
      "outputs": []
    },
    {
      "cell_type": "code",
      "source": [
        "df['Date'] = pd.to_datetime(df['Date'])\n",
        "# Set the date as index \n",
        "df = df.set_index('Date')"
      ],
      "metadata": {
        "id": "_51eZhJu5WNR"
      },
      "execution_count": null,
      "outputs": []
    },
    {
      "cell_type": "markdown",
      "source": [
        "## Weather\n",
        "https://altair-viz.github.io/user_guide/times_and_dates.html"
      ],
      "metadata": {
        "id": "C1EURNMBew03"
      }
    },
    {
      "cell_type": "code",
      "source": [
        "data_temp = data.seattle_temps()\n",
        "data_temp.head()"
      ],
      "metadata": {
        "id": "itKbw_-wey3x"
      },
      "execution_count": null,
      "outputs": []
    },
    {
      "cell_type": "code",
      "source": [
        "data_temp.info()"
      ],
      "metadata": {
        "id": "PzadgtUCumLA"
      },
      "execution_count": null,
      "outputs": []
    },
    {
      "cell_type": "code",
      "source": [
        "data_temp[\"date\"] = pd.to_datetime(data_temp[\"date\"])"
      ],
      "metadata": {
        "id": "XTYV8jYEvaVm"
      },
      "execution_count": null,
      "outputs": []
    },
    {
      "cell_type": "code",
      "source": [
        "alt.Chart(ata_temp[data_temp.date < '2010-01-15']).mark_line().encode(\n",
        "    x='date:T',\n",
        "    y='temp:Q'\n",
        ")"
      ],
      "metadata": {
        "id": "sDuOHeYJgovr"
      },
      "execution_count": null,
      "outputs": []
    },
    {
      "cell_type": "code",
      "source": [
        "alt.Chart(ata_temp[data_temp.date < '2010-01-15']).mark_rect().encode(\n",
        "    alt.X('hoursminutes(date):O', title='hour of day'),\n",
        "    alt.Y('monthdate(date):O', title='date'),\n",
        "    alt.Color('temp:Q', title='temperature (F)')\n",
        ")"
      ],
      "metadata": {
        "id": "TYH1umtBiEj9"
      },
      "execution_count": null,
      "outputs": []
    },
    {
      "cell_type": "code",
      "source": [
        "alt.Chart(data_temp.resample('M', on='date').mean().reset_index()).mark_line().encode(\n",
        "    x='date:T',\n",
        "    y='temp:Q'\n",
        ")"
      ],
      "metadata": {
        "id": "FKTAyDMKvzgn"
      },
      "execution_count": null,
      "outputs": []
    },
    {
      "cell_type": "markdown",
      "source": [
        "## Energy Usage\n",
        "https://infovis.fh-potsdam.de/tutorials/infovis4time.html "
      ],
      "metadata": {
        "id": "SJti3-3u6N9O"
      }
    },
    {
      "cell_type": "code",
      "source": [
        "# data downloaded from OPSD - see filter elements on this page: https://data.open-power-system-data.org/time_series/2019-06-05\n",
        "\n",
        "data_energy = pd.read_csv(\"https://data.open-power-system-data.org/index.php?package=time_series&version=2019-06-05&action=customDownload&resource=3&filter%5B_contentfilter_cet_cest_timestamp%5D%5Bfrom%5D=2015-01-01&filter%5B_contentfilter_cet_cest_timestamp%5D%5Bto%5D=2018-12-31&filter%5BRegion%5D%5B%5D=DE&filter%5BVariable%5D%5B%5D=load_actual_entsoe_transparency&filter%5BVariable%5D%5B%5D=solar_generation_actual&filter%5BVariable%5D%5B%5D=wind_generation_actual&downloadCSV=Download+CSV\",\n",
        "                   parse_dates=['utc_timestamp']) # parse timestamp column"
      ],
      "metadata": {
        "id": "osGyKFXO6ncE"
      },
      "execution_count": null,
      "outputs": []
    },
    {
      "cell_type": "code",
      "source": [
        "data_energy.head()"
      ],
      "metadata": {
        "id": "zD_EZDGL7kan"
      },
      "execution_count": null,
      "outputs": []
    },
    {
      "cell_type": "code",
      "source": [
        "data_energy = data_energy.drop(columns=[\"cet_cest_timestamp\"])\n",
        "data_energy.columns=[\"datetime\", \"load\", \"solar\", \"wind\"]\n",
        "data_energy[\"datetime\"] = data_energy[\"datetime\"].dt.tz_convert(\"Europe/Berlin\")\n",
        "data_energy = data_energy.set_index(\"datetime\")"
      ],
      "metadata": {
        "id": "7onLdCmY75nS"
      },
      "execution_count": null,
      "outputs": []
    },
    {
      "cell_type": "code",
      "source": [
        "data_energy.head()"
      ],
      "metadata": {
        "id": "mCz9wR4J8fF0"
      },
      "execution_count": null,
      "outputs": []
    },
    {
      "cell_type": "code",
      "source": [
        "data_energy_day = data_energy.resample(\"D\").sum()\n",
        "data_energy_month = data_energy_day.resample(\"M\").mean()"
      ],
      "metadata": {
        "id": "PjIiNhV99X38"
      },
      "execution_count": null,
      "outputs": []
    },
    {
      "cell_type": "code",
      "source": [
        "data_energy_day.head()"
      ],
      "metadata": {
        "id": "XFwStoLT9c7X"
      },
      "execution_count": null,
      "outputs": []
    },
    {
      "cell_type": "code",
      "source": [
        "alt.Chart(data_energy_day.reset_index().melt(\"datetime\")).mark_circle().encode(\n",
        "    x='datetime',\n",
        "    y='value',\n",
        "    color='variable',\n",
        ").properties(width=800, height=400)"
      ],
      "metadata": {
        "id": "lyFYnPmI9sLj"
      },
      "execution_count": null,
      "outputs": []
    },
    {
      "cell_type": "code",
      "source": [
        "plot_day = alt.Chart(data_energy_day.reset_index().melt(\"datetime\")).mark_line(strokeWidth=1).encode(\n",
        "    x='datetime',\n",
        "    y='value',\n",
        "    color='variable',\n",
        ").properties(width=800, height=400)\n",
        "\n",
        "plot_day"
      ],
      "metadata": {
        "id": "_-4-qkwrDN2v"
      },
      "execution_count": null,
      "outputs": []
    },
    {
      "cell_type": "code",
      "source": [
        "plot_month = alt.Chart(data_energy_month.reset_index().melt(\"datetime\")).mark_line(opacity=0.75, interpolate=\"basis\").encode(\n",
        "    x='datetime',\n",
        "    y='value',\n",
        "    color='variable',\n",
        ").properties(width=800, height=400)\n",
        "\n",
        "plot_month"
      ],
      "metadata": {
        "id": "w92qnmqXCf4S"
      },
      "execution_count": null,
      "outputs": []
    },
    {
      "cell_type": "code",
      "source": [
        "plot_day + plot_month"
      ],
      "metadata": {
        "id": "I0s7L83VD0JG"
      },
      "execution_count": null,
      "outputs": []
    },
    {
      "cell_type": "markdown",
      "source": [
        "## Bonus: Stocks"
      ],
      "metadata": {
        "id": "zpO1Ps1PepKW"
      }
    },
    {
      "cell_type": "code",
      "source": [
        "pip install yfinance\n",
        "import yfinance as yf"
      ],
      "metadata": {
        "id": "Ri6A4fqKrBGp"
      },
      "execution_count": null,
      "outputs": []
    },
    {
      "cell_type": "code",
      "source": [
        "data_stocks = yf.download(tickers='META', period='5y', interval='1d')\n",
        "#Print data\n",
        "data"
      ],
      "metadata": {
        "id": "J5qqOZRb4L1C"
      },
      "execution_count": null,
      "outputs": []
    },
    {
      "cell_type": "code",
      "source": [
        "sns.lineplot(data=data,\n",
        "             x=\"Date\",\n",
        "             y=\"Close\")\n",
        "plt.show()"
      ],
      "metadata": {
        "id": "MloxT0EP5j7F"
      },
      "execution_count": null,
      "outputs": []
    }
  ]
}