{
  "nbformat": 4,
  "nbformat_minor": 0,
  "metadata": {
    "colab": {
      "private_outputs": true,
      "provenance": [],
      "authorship_tag": "ABX9TyOXMf9z4snmC7yECi4Tq7EW",
      "include_colab_link": true
    },
    "kernelspec": {
      "name": "python3",
      "display_name": "Python 3"
    },
    "language_info": {
      "name": "python"
    }
  },
  "cells": [
    {
      "cell_type": "markdown",
      "metadata": {
        "id": "view-in-github",
        "colab_type": "text"
      },
      "source": [
        "<a href=\"https://colab.research.google.com/github/aaubs/ds-master/blob/main/courses/ds4b-m2-1-nw/notebooks/s4-nw-2mode-exercise.ipynb\" target=\"_parent\"><img src=\"https://colab.research.google.com/assets/colab-badge.svg\" alt=\"Open In Colab\"/></a>"
      ]
    },
    {
      "cell_type": "code",
      "execution_count": null,
      "metadata": {
        "id": "NX3lYZPMd2E4"
      },
      "outputs": [],
      "source": [
        "# Packaging\n",
        "import pandas as pd\n",
        "import seaborn as sns\n",
        "import networkx as nx\n",
        "import numpy as np\n",
        "\n",
        "import matplotlib.pyplot as plt\n",
        "\n",
        "from sklearn.metrics.pairwise import cosine_distances\n",
        "\n",
        "sns.set(color_codes=True, rc={'figure.figsize':(10,8)})\n",
        "\n",
        "# Adittional dataviz\n",
        "!pip install nxviz\n",
        "import nxviz as nv"
      ]
    },
    {
      "cell_type": "markdown",
      "source": [
        "# 2-Mode Case: Crime networks\n",
        "\n",
        "This bipartite network contains persons who appeared in at least one crime case as either a suspect, a victim, a witness or both a suspect and victim at the same time. A left node represents a person and a right node represents a crime. An edge between two nodes shows that the left node was involved in the crime represented by the right node.\n",
        "\n",
        "\n",
        "More information about the network is provided here:\n",
        "http://konect.uni-koblenz.de/networks/moreno_crime\n",
        "\n",
        "Files:\n",
        "* meta.moreno_crime -- Metadata about the network\n",
        "* out.moreno_crime -- The adjacency matrix of the network in space separated values format, with one edge per line\n",
        "\n",
        "The meaning of the columns in out.moreno_crime are:\n",
        "* First column: ID of from node\n",
        "* Second column: ID of to node\n",
        "* ent.moreno_crime.person.name -- Contains the attribute `name` of entity `person` of the network\n",
        "* ent.moreno_crime.person.sex -- Contains the attribute `sex` of entity `person` of the network"
      ],
      "metadata": {
        "id": "io51H2MsTVlV"
      }
    },
    {
      "cell_type": "code",
      "source": [
        "curr_path = \"https://raw.githubusercontent.com/ericmjl/nxviz/master/examples/datasets/\""
      ],
      "metadata": {
        "id": "sqI2o5TQRQUz"
      },
      "execution_count": null,
      "outputs": []
    },
    {
      "cell_type": "code",
      "source": [
        "df = pd.read_csv(\n",
        "    curr_path + \"/moreno_crime/out.moreno_crime_crime\",\n",
        "    sep=\" \",\n",
        "    skiprows=2,\n",
        "    header=None,\n",
        "    )"
      ],
      "metadata": {
        "id": "FRIRL1URfl37"
      },
      "execution_count": null,
      "outputs": []
    },
    {
      "cell_type": "code",
      "source": [
        "df_el = pd.read_csv(\n",
        "    curr_path + \"/moreno_crime/out.moreno_crime_crime\",\n",
        "    sep=\" \",\n",
        "    skiprows=2,\n",
        "    header=None,\n",
        "    )\n",
        "\n",
        "df_el = df[[0, 1]]\n",
        "df_el.columns = [\"personID\", \"crimeID\"]\n",
        "df_el.index += 1"
      ],
      "metadata": {
        "id": "iBf5tzBHQxFR"
      },
      "execution_count": null,
      "outputs": []
    },
    {
      "cell_type": "code",
      "source": [
        "df_el.head()"
      ],
      "metadata": {
        "id": "GPLO_w5zTZLe"
      },
      "execution_count": null,
      "outputs": []
    },
    {
      "cell_type": "code",
      "source": [
        "# Read in the role metadata\n",
        "roles = pd.read_csv(\n",
        "    curr_path + \"/moreno_crime/rel.moreno_crime_crime.person.role\",\n",
        "    header=None,\n",
        "    )\n",
        "\n",
        "roles.columns = [\"roles\"]\n",
        "roles.index += 1"
      ],
      "metadata": {
        "id": "Dhm7V__bf-bF"
      },
      "execution_count": null,
      "outputs": []
    },
    {
      "cell_type": "code",
      "source": [
        "roles.head()"
      ],
      "metadata": {
        "id": "7Ong5dX6gBz-"
      },
      "execution_count": null,
      "outputs": []
    },
    {
      "cell_type": "code",
      "source": [
        "# Read in the gender metadata\n",
        "gender = pd.read_csv(\n",
        "    curr_path + \"/moreno_crime/ent.moreno_crime_crime.person.sex\",\n",
        "    header=None,\n",
        "    )\n",
        "\n",
        "gender.index += 1"
      ],
      "metadata": {
        "id": "ILraSDdvhG-H"
      },
      "execution_count": null,
      "outputs": []
    },
    {
      "cell_type": "code",
      "source": [
        "# Read in the gender metadata\n",
        "name = pd.read_csv(\n",
        "    curr_path + \"/moreno_crime/ent.moreno_crime_crime.person.name\",\n",
        "    header=None,\n",
        "    sep=\";\"\n",
        "    )\n",
        "name.index += 1"
      ],
      "metadata": {
        "id": "CGxfVO8tiKEM"
      },
      "execution_count": null,
      "outputs": []
    },
    {
      "cell_type": "code",
      "source": [
        "df_el = df_el.join(roles)"
      ],
      "metadata": {
        "id": "PhL8U12Ug1Ah"
      },
      "execution_count": null,
      "outputs": []
    },
    {
      "cell_type": "code",
      "source": [
        "# Add the edge data to the graph.\n",
        "G = nx.Graph()\n",
        "for r, d in df_el.iterrows():\n",
        "  pid = \"p{0}\".format(d[\"personID\"])  # pid stands for \"Person I.D.\"\n",
        "  cid = \"c{0}\".format(d[\"crimeID\"])  # cid stands for \"Crime I.D.\"\n",
        "  G.add_node(pid, bipartite=\"person\")\n",
        "  G.add_node(cid, bipartite=\"crime\")\n",
        "  G.add_edge(pid, cid, role=d[\"roles\"])    "
      ],
      "metadata": {
        "id": "qugoQZKB2joF"
      },
      "execution_count": null,
      "outputs": []
    },
    {
      "cell_type": "code",
      "source": [
        "# Add note attribute\n",
        "for n, gender_code in gender.iterrows():\n",
        "  nodeid = \"p{0}\".format(n)\n",
        "  G.nodes[nodeid][\"gender\"] = gender_code[0]"
      ],
      "metadata": {
        "id": "3KqgbYWkTM0y"
      },
      "execution_count": null,
      "outputs": []
    },
    {
      "cell_type": "code",
      "source": [
        "for n, name_code in name.iterrows():\n",
        "  nodeid = \"p{0}\".format(n)\n",
        "  G.nodes[nodeid][\"name\"] = name_code[0]"
      ],
      "metadata": {
        "id": "7XqQO3_2tL4n"
      },
      "execution_count": null,
      "outputs": []
    },
    {
      "cell_type": "code",
      "source": [
        "# Annotate each node with connectivity score\n",
        "for n in G.nodes():\n",
        "    dcs = nx.degree_centrality(G)\n",
        "    G.nodes[n][\"degree\"] = dcs[n]"
      ],
      "metadata": {
        "id": "Vtup83HHT_2K"
      },
      "execution_count": null,
      "outputs": []
    }
  ]
}