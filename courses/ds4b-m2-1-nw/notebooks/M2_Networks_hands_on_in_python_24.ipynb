{
  "cells": [
    {
      "cell_type": "code",
      "execution_count": 86,
      "metadata": {
        "colab": {
          "base_uri": "https://localhost:8080/"
        },
        "id": "KJ2fO_GA-0JI",
        "outputId": "3f34a033-f28c-4064-b76e-b6c6027501b8"
      },
      "outputs": [],
      "source": [
        "#!pip install holoviews # remove ! if you are not in Colab\n",
        "#!pip install datashader[complete] # remove ! if you are not in Colab\n",
        "#!pip install python-louvain # remove ! if you are not in Colab\n",
        "\n",
        "import numpy as np\n",
        "import pandas as pd\n",
        "import seaborn as sns\n",
        "import matplotlib.pyplot as plt\n",
        "sns.set()"
      ]
    },
    {
      "cell_type": "markdown",
      "metadata": {
        "id": "hrNOnHFO2O_i"
      },
      "source": [
        "# Introduction to Network Analysis"
      ]
    },
    {
      "cell_type": "markdown",
      "metadata": {
        "id": "mGnDos9dAiZc"
      },
      "source": [
        "Welcome to your first part of the introduction to network analysis. In this session you will learn:\n",
        "\n",
        "1. Why applying network analysis is helpful to answer certain questions, and why framing certain contexts as networks gives new insights.\n",
        "2. The basic structure of relational data.\n",
        "3. How to construct graph objects from different datasources.\n",
        "4. How to analyse basic features of nodes, edges, and graphs.\n",
        "5. How to identify groups and communities in graphs.\n",
        "6. How to do simple network visualizations."
      ]
    },
    {
      "cell_type": "markdown",
      "metadata": {
        "id": "c7dHVt471EuG"
      },
      "source": [
        "Generally, networks are a form of representing **relational data**. This is a very general tool that can be applied to many different types of relationships between all kind of elements. The content, meaning, and interpretation for sure depends on what elements we display, and which types of relationships. For example:\n",
        "\n",
        "* In Social Network Analysis:\n",
        "     * Nodes represent actors (which can be persons, firms and other socially constructed entities)\n",
        "     * Edges represent relationships between this actors (friendship, interaction, co-affiliation, similarity ect.)\n",
        "* Other types of network\n",
        "     * Chemistry: Interaction between molecules\n",
        "     * Computer Science: The wirld-wide-web, inter- and intranet topologies\n",
        "     * Biology: Food-web, ant-hives\n",
        "\n",
        "The possibilities to depict relational data are manifold. For example:\n",
        "\n",
        "* Relations among persons\n",
        "     * Kinship: mother of, wife of...\n",
        "     * Other role based: boss of, supervisor of...\n",
        "     * Affective: likes, trusts...\n",
        "     * Interaction: give advice, talks to, retweets...\n",
        "     * Affiliation: belong to same clubs, shares same interests...\n",
        "* Relations among organizations\n",
        "     * As corporate entities, joint ventures, strategic alliances\n",
        "     * Buy from / sell to, leases to, outsources to\n",
        "     * Owns shares of, subsidiary of\n",
        "     * Via their members (Personnel flows, friendship...)"
      ]
    },
    {
      "cell_type": "markdown",
      "metadata": {
        "id": "dLqPQY3Z2iC5"
      },
      "source": [
        "# Network data structures\n"
      ]
    },
    {
      "cell_type": "markdown",
      "metadata": {
        "id": "lX3zWV8XQThj"
      },
      "source": [
        "## Edgelists\n",
        "Most real world relational data is to be found in what we call an **edge list**, a dataframe that contains a minimum of two columns, one column of *nodes* that are the source of a connection and another column of nodes that are the target of the connection. The nodes in the data are identified by unique IDs.\n",
        "\n",
        "If the distinction between source and target is meaningful, the network is **directed**. If the distinction is not meaningful, the network is **undirected** (more on that later). So, every row that contains the ID of one element in column 1, and the ID of another element in column 2 indicates that a connection between them exists.\n",
        "\n",
        "An edge list can also contain additional columns that describe **attributes** of the edges such as a magnitude aspect for an edge. If the edges have a magnitude attribute the graph is considered **weighted** (e.g., number of interactions, strenght of friendship).\n",
        "\n",
        "\n",
        "* Below an example of a minimal edge list created by zipping together two lists into a list of tuples.\n",
        "* In this case, let us assume this network to be unweighted, meaning a connection can be eiter tresent or absent.\n"
      ]
    },
    {
      "cell_type": "code",
      "execution_count": 87,
      "metadata": {
        "id": "60YtO52Mxkc-"
      },
      "outputs": [],
      "source": [
        "origin = [1, 2, 3, 1, 4, 5]\n",
        "target = [2, 3, 4, 3, 5, 1]"
      ]
    },
    {
      "cell_type": "code",
      "execution_count": null,
      "metadata": {
        "colab": {
          "base_uri": "https://localhost:8080/"
        },
        "id": "p4qXDFIZxwcF",
        "outputId": "f194ca53-7251-4aa6-f747-29dc0018b54c"
      },
      "outputs": [],
      "source": [
        "edge_list = list(zip(origin, target))\n",
        "\n",
        "print(edge_list)\n",
        "\n"
      ]
    },
    {
      "cell_type": "markdown",
      "metadata": {
        "id": "H8lUREgF3DUi"
      },
      "source": [
        "This can of cause also be a DataFrame where columns indicate origin and target"
      ]
    },
    {
      "cell_type": "code",
      "execution_count": null,
      "metadata": {
        "colab": {
          "base_uri": "https://localhost:8080/",
          "height": 237
        },
        "id": "gDhYU0uAyGtm",
        "outputId": "b6f6e9bc-630d-4888-cd99-419ccecab5f0"
      },
      "outputs": [],
      "source": [
        "df = pd.DataFrame({'origin':origin, 'target':target})\n",
        "df"
      ]
    },
    {
      "cell_type": "markdown",
      "metadata": {
        "id": "uN6Ihb1o2_qJ"
      },
      "source": [
        "\n",
        "## Adjacency Matrix\n",
        "\n",
        "* A second popular form of network representation is the **adjacency-matrix** (also called **socio-matrix**).\n",
        "* It is represented as a $n*n$ matrix, where $n$ stands for the number of elements of which their relationships should be represented.\n",
        "* The value in the cell that intercepts row $n$ and column $m$ indicates if an edge is present (=1) or absent (=0).\n",
        "* Tip: Given an edgelist, an adjacency matrix can easily be produced by crosstabulating:\n",
        "\n"
      ]
    },
    {
      "cell_type": "code",
      "execution_count": null,
      "metadata": {
        "colab": {
          "base_uri": "https://localhost:8080/",
          "height": 237
        },
        "id": "GLQqnYq34OVH",
        "outputId": "5ad643b8-09df-41f9-b068-ada0a18c3915"
      },
      "outputs": [],
      "source": [
        "mat_adj = pd.crosstab(df.origin, df.target)\n",
        "mat_adj"
      ]
    },
    {
      "cell_type": "code",
      "execution_count": 91,
      "metadata": {
        "id": "nHtMmbfdBQmb"
      },
      "outputs": [],
      "source": [
        "from scipy import sparse"
      ]
    },
    {
      "cell_type": "code",
      "execution_count": null,
      "metadata": {
        "colab": {
          "base_uri": "https://localhost:8080/"
        },
        "id": "AUMAFjbGBeFQ",
        "outputId": "436ac39e-f669-46d0-9dd9-31c18b678595"
      },
      "outputs": [],
      "source": [
        "# CSR Matrix - Compressed Sparse matrix - showing adjacency matrix without zeros\n",
        "df_adj_sparse = sparse.csr_matrix(mat_adj)\n",
        "print(df_adj_sparse)"
      ]
    },
    {
      "cell_type": "markdown",
      "metadata": {
        "id": "Uo3NPHYCEE1q"
      },
      "source": [
        "## Nodelists\n",
        "* Edgelists as well as adjacency matrices only stores connectivity pattern between nodes, but due to their structure cannot store informations on the nodes in which we might be interested.\n",
        "* Therefore, we in many cases also provide a a **node list** with these informations (such as the names of the nodes or any kind of groupings).\n"
      ]
    },
    {
      "cell_type": "code",
      "execution_count": 93,
      "metadata": {
        "id": "z4fwBElECBTU"
      },
      "outputs": [],
      "source": [
        "name = [\"Jesper\", \"Pernille\", \"Jacob\", \"Dorte\", \"Donald\"]\n",
        "sex = [\"M\", \"F\", \"M\", \"F\", \"M\"]\n",
        "group = [\"A\", \"B\", \"B\", \"A\", \"C\"]\n",
        "\n",
        "node_list = pd.DataFrame({'name':name, 'sex':sex, 'group':group})"
      ]
    },
    {
      "cell_type": "code",
      "execution_count": null,
      "metadata": {
        "colab": {
          "base_uri": "https://localhost:8080/",
          "height": 206
        },
        "id": "Y1s1lgOxDjsR",
        "outputId": "ec76d5b9-13ea-4166-84a2-1c8c3d73e291"
      },
      "outputs": [],
      "source": [
        "node_list"
      ]
    },
    {
      "cell_type": "markdown",
      "metadata": {
        "id": "Dkrnot_fEP6k"
      },
      "source": [
        "## Graph Objects (NetworkX)\n",
        "\n",
        "Up to now we see that relatonal data, and the analysis thereof, has some particularities, making it distinct from tabular data (e.g., dataframes), we usually work with.\n",
        "\n",
        "* Tabular data\n",
        "     * In tabular data, summary statistics of variables are **between observations** (column-wise) interdependent, meaning changing a value of some observation will change the corresponding variables summary statistics.\n",
        "     * LIkewise, variable values might be **within observation** interdependent (row-wise), meaning changing a variable value might change summary statistics of the observation\n",
        "     * Otherwise, values are (at least mathematically) independent.\n",
        "* Graph data\n",
        "     * Same holds true, but adittional interdependencies due to the relational structure of the data.\n",
        "     * Sepperation between **node** and **edge** data, which is interdependent. Removing a node might alos impy the removal of edges, removal of edges changes the characteristics of nodes\n",
        "     * In adittion, the relational structure makes that not only true for adjacent nodes and edges, but potentially multiple. Adding/Removing one node/edge could change the characteristics of every single other node/edge.\n",
        "     * That is less of a problem for local network characteristics (eg., a node's degree on level 1). However, many node and edge characteristics such\n",
        "     * That's mainly why graph computing is slightly more messy, and need own mathematical tools, and applications from graphical computing (graphical like graph, not like figure)\n",
        "\n",
        "A graph object is a specific datastructure which contains node and edgelists jointly, and enables the application of graph algorithms on them. We in the following will work with the [`networkx`](https://networkx.github.io/documentation/stable/index.html) library, which is the standard for network analysis in the Python community. Another popular package more from the graph-theorist community is [`igraph`](https://igraph.org/python/), which is also the main package used for network analysis in the `R` community. However, since `networkx` became the `Python` standard, we will in the following stick to it."
      ]
    },
    {
      "cell_type": "code",
      "execution_count": 95,
      "metadata": {
        "id": "M6ILRfepxNU-"
      },
      "outputs": [],
      "source": [
        "import networkx as nx # Main network analysis library"
      ]
    },
    {
      "cell_type": "markdown",
      "metadata": {
        "id": "aPCP1SrBRsIf"
      },
      "source": [
        "In NetworkX, graph data are stored in a dictionary-like fashion.\n",
        "They are placed under a `Graph` object,\n",
        "canonically instantiated with the variable `G` as follows:\n",
        "\n",
        "```python\n",
        "G = nx.Graph()\n",
        "```\n",
        "\n",
        "Of course, you are free to name the graph anything you want!\n",
        "\n",
        "Nodes are part of the attribute `G.nodes`.\n",
        "There, the node data are housed in a dictionary-like container,\n",
        "where the key is the node itself\n",
        "and the values are a dictionary of attributes.\n",
        "Node data are accessible using syntax that looks like:\n",
        "\n",
        "```python\n",
        "G.nodes[node1]\n",
        "```\n",
        "\n",
        "Edges are part of the attribute `G.edges`,\n",
        "which is also stored in a dictionary-like container.\n",
        "Edge data are accessible using syntax that looks like:\n",
        "\n",
        "```python\n",
        "G.edges[node1, node2]\n",
        "```\n",
        "Because of the dictionary-like implementation of the graph,\n",
        "any hashable object can be a node.\n",
        "This means strings and tuples, but not lists and sets."
      ]
    },
    {
      "cell_type": "markdown",
      "metadata": {
        "id": "pqRDgOo0soxR"
      },
      "source": [
        "### Types of Graphs"
      ]
    },
    {
      "cell_type": "markdown",
      "metadata": {
        "id": "BdOGbsoSspIU"
      },
      "source": [
        "\n",
        "1. Weigthed vs. Unweighted\n",
        "2. Directed vs. Undirected\n",
        "3. Unimodal vs. Multimodal\n",
        "4. Unidimensional vs. Multidimensional\n",
        "\n",
        "`networkx` graph classes\n",
        "1. Graph\n",
        "2. DiGraph\n",
        "3. MultiGraph\n",
        "4. MultiDigraph"
      ]
    },
    {
      "cell_type": "markdown",
      "metadata": {
        "id": "lmw1QRx-fvhm"
      },
      "source": [
        "### Creating a graph object\n",
        "\n",
        "The graph object forms the core of network analysis. This is the central place where nodes, edges, and their characteristics are jointly stored. Lets take a look how to create one."
      ]
    },
    {
      "cell_type": "code",
      "execution_count": null,
      "metadata": {
        "colab": {
          "base_uri": "https://localhost:8080/"
        },
        "id": "lDrJpbhdZy99",
        "outputId": "c3246d19-9d62-4558-da52-7b6244fedb78"
      },
      "outputs": [],
      "source": [
        "# We can create a network graph G directly from the adjacency matrix.\n",
        "G = nx.from_numpy_array(df_adj_sparse)\n",
        "print(G.nodes(), G.edges())"
      ]
    },
    {
      "cell_type": "code",
      "execution_count": null,
      "metadata": {
        "colab": {
          "base_uri": "https://localhost:8080/"
        },
        "id": "BxCfWKjraVqj",
        "outputId": "0f91457d-9d3b-4d0b-9490-f25bb2f20d52"
      },
      "outputs": [],
      "source": [
        "# We can also directly load an edgelist instead\n",
        "G = nx.from_edgelist(edge_list)\n",
        "print(G.nodes(), G.edges())"
      ]
    },
    {
      "cell_type": "code",
      "execution_count": null,
      "metadata": {
        "colab": {
          "base_uri": "https://localhost:8080/"
        },
        "id": "tpEULOBzf_x5",
        "outputId": "c9539b2c-ee32-4f3c-d27a-46a7bea7df8c"
      },
      "outputs": [],
      "source": [
        "# We can also create an own graph\n",
        "G = nx.Graph() # create an empty graph with no nodes and no edges\n",
        "print(G.nodes(), G.edges())"
      ]
    },
    {
      "cell_type": "code",
      "execution_count": null,
      "metadata": {
        "colab": {
          "base_uri": "https://localhost:8080/"
        },
        "id": "12qqqGLpgft2",
        "outputId": "3bee782f-2cf4-4f11-b910-3f03cbb0d1d3"
      },
      "outputs": [],
      "source": [
        "G.add_nodes_from([1, 2, 3, 4, 5]) # add a list of nodes\n",
        "G.add_edges_from([(1,2), (1,3), (4,5), (5,3), (4,2), (3,2), (1,4)]) # add a list of edges\n",
        "print(G.nodes(), G.edges())"
      ]
    },
    {
      "cell_type": "markdown",
      "metadata": {
        "id": "CqqZGD7jjEs6"
      },
      "source": [
        "Ok, up to now that was pretty abstract, right? Lets plot the graph to get a feeling what the network looks like. We will explore this later more exhaustive."
      ]
    },
    {
      "cell_type": "code",
      "execution_count": null,
      "metadata": {
        "colab": {
          "base_uri": "https://localhost:8080/",
          "height": 0
        },
        "id": "IpTFq32JiRww",
        "outputId": "771d0c19-1589-4e40-de27-111fdb462876"
      },
      "outputs": [],
      "source": [
        "nx.draw(G, with_labels=True)\n"
      ]
    },
    {
      "cell_type": "markdown",
      "metadata": {
        "id": "rg1KzjqNstKe"
      },
      "source": [
        "### Your turn!\n",
        "\n",
        "So, now its already time for a little exercise: Try to create and plot the following network structure. Have fun :)\n",
        "\n",
        "![](https://www.dropbox.com/s/88anz0w24kurckp/networks_mini_exercise.png?dl=1)"
      ]
    },
    {
      "cell_type": "markdown",
      "metadata": {
        "id": "Pe64OaA3ULxE"
      },
      "source": [
        "### Node Attributes\n"
      ]
    },
    {
      "cell_type": "code",
      "execution_count": 101,
      "metadata": {
        "id": "NsUCCjst3pX3"
      },
      "outputs": [],
      "source": [
        "G = nx.from_edgelist([('Jesper', 'Pernille'), ('Jesper', 'Donald'), ('Jesper', 'Dorte'), ('Pernille', 'Jacob'), ('Pernille', 'Dorte')])"
      ]
    },
    {
      "cell_type": "markdown",
      "metadata": {
        "id": "Aln1bRiNU9-5"
      },
      "source": [
        "We can also include the node attributes in the graph object"
      ]
    },
    {
      "cell_type": "code",
      "execution_count": null,
      "metadata": {
        "colab": {
          "base_uri": "https://localhost:8080/"
        },
        "id": "DDbatO5KKPXf",
        "outputId": "a3b4a0be-bddc-412e-f3c6-c8f106090ab9"
      },
      "outputs": [],
      "source": [
        "# Graph objects are dictionaries, so attributes need to be dictionaries too. They are matched via the index (=node name/id)\n",
        "node_attr = node_list.set_index('name').to_dict('index')\n",
        "\n",
        "node_attr"
      ]
    },
    {
      "cell_type": "code",
      "execution_count": 103,
      "metadata": {
        "id": "AijYEVbyLwL-"
      },
      "outputs": [],
      "source": [
        "# set node attributes\n",
        "nx.set_node_attributes(G, node_attr)"
      ]
    },
    {
      "cell_type": "code",
      "execution_count": null,
      "metadata": {
        "colab": {
          "base_uri": "https://localhost:8080/"
        },
        "id": "b3jVsoayLzI3",
        "outputId": "07b3b599-89ec-428a-e1e0-b283cf749cb9"
      },
      "outputs": [],
      "source": [
        "# view nodes with attributes\n",
        "G.nodes(data=True)"
      ]
    },
    {
      "cell_type": "code",
      "execution_count": null,
      "metadata": {
        "colab": {
          "base_uri": "https://localhost:8080/"
        },
        "id": "RJ3RrrlfL0vt",
        "outputId": "1c36bce1-aa81-401a-e1b3-0fd62ca294ad"
      },
      "outputs": [],
      "source": [
        "G.edges()"
      ]
    },
    {
      "cell_type": "code",
      "execution_count": null,
      "metadata": {
        "colab": {
          "base_uri": "https://localhost:8080/",
          "height": 0
        },
        "id": "XrcjzGnDMEa9",
        "outputId": "889aaa21-7b01-48e8-86e6-0751049e459d"
      },
      "outputs": [],
      "source": [
        "# First (not pretty) visualization\n",
        "plt.figure(figsize=(5,5))\n",
        "nx.draw_kamada_kawai(G, with_labels = True)"
      ]
    },
    {
      "cell_type": "code",
      "execution_count": null,
      "metadata": {
        "colab": {
          "base_uri": "https://localhost:8080/"
        },
        "id": "NfWqSkh0NmNd",
        "outputId": "4e1facca-c1e7-4aa0-b8f2-f58072573462"
      },
      "outputs": [],
      "source": [
        "# Node characteristics\n",
        "G.nodes()['Jesper']"
      ]
    },
    {
      "cell_type": "code",
      "execution_count": null,
      "metadata": {
        "colab": {
          "base_uri": "https://localhost:8080/"
        },
        "id": "KXY7oZ8qNS4v",
        "outputId": "ae5b8fe6-2bba-4669-c102-7533f42f1871"
      },
      "outputs": [],
      "source": [
        "# Node and adjacencies\n",
        "G['Jesper']"
      ]
    },
    {
      "cell_type": "code",
      "execution_count": null,
      "metadata": {
        "colab": {
          "base_uri": "https://localhost:8080/",
          "height": 0
        },
        "id": "ZSDN9RmWO4kM",
        "outputId": "27da210b-5f32-4401-d39c-f56e55065bcb"
      },
      "outputs": [],
      "source": [
        "# Conditional node selection\n",
        "node_list[node_list.sex == 'F'].name"
      ]
    },
    {
      "cell_type": "code",
      "execution_count": 110,
      "metadata": {
        "id": "khI1KRJmPD0J"
      },
      "outputs": [],
      "source": [
        "# subsetting\n",
        "G_sub = nx.subgraph(G, node_list[node_list.sex == 'F'].name)"
      ]
    },
    {
      "cell_type": "markdown",
      "metadata": {
        "id": "uKYXBOgimCBq"
      },
      "source": [
        "# Network analysis and measures"
      ]
    },
    {
      "cell_type": "markdown",
      "metadata": {
        "id": "7-KPv6FmQRfD"
      },
      "source": [
        "## Network anlaysis of a novel\n",
        "\n",
        "\n",
        "**Viktor Hugo's LES MISERABLES**\n",
        "\n",
        "\n",
        "\"Les Misérables\" is a classic French novel written by Victor Hugo, first published in 1862. Set in the early 19th century, the story spans several decades and focuses on themes of justice, love, redemption, and social inequality. The central plot follows **Jean Valjean**, a former convict who is struggling to escape his past and lead an honest life after serving 19 years in prison for stealing a loaf of bread. Throughout the novel, Valjean is relentlessly pursued by **Javert**, a determined and morally rigid police inspector.\n",
        "\n",
        "The book is a rich tapestry of interconnected characters, including **Fantine**, a destitute woman who leaves her daughter, **Cosette**, in Valjean's care; **Marius**, a young revolutionary in love with Cosette; and a group of rebellious students who rise up against the monarchy in the Paris Uprising of 1832. \"Les Misérables\" paints a powerful portrait of the human condition, focusing on social injustice, poverty, and the quest for moral and spiritual redemption amidst the backdrop of a politically and socially turbulent France.\n",
        "\n",
        "\n",
        "<img src=\"https://m.media-amazon.com/images/I/81X4gUbRALL._AC_UF1000,1000_QL80_.jpg\" alt=\"Image\" width=\"300\">\n",
        "\n",
        "\n"
      ]
    },
    {
      "cell_type": "code",
      "execution_count": 111,
      "metadata": {
        "id": "FUDRZMogm0Z1"
      },
      "outputs": [],
      "source": [
        "# lets read the graph from Networkx's package\n",
        "G = nx.les_miserables_graph()"
      ]
    },
    {
      "cell_type": "code",
      "execution_count": null,
      "metadata": {
        "colab": {
          "base_uri": "https://localhost:8080/"
        },
        "id": "xnoyVzzbm2UV",
        "outputId": "b4b9f729-f39f-4a17-cdec-cb12bfbacf99"
      },
      "outputs": [],
      "source": [
        "# we print all the nodes (in our case characters) from the book\n",
        "G.nodes()"
      ]
    },
    {
      "cell_type": "code",
      "execution_count": null,
      "metadata": {
        "colab": {
          "base_uri": "https://localhost:8080/"
        },
        "id": "NFJwxv70rLcr",
        "outputId": "723b3297-629d-4e33-b2d8-9d791ac17e8c"
      },
      "outputs": [],
      "source": [
        "# a basic information about the graph\n",
        "print(f\"Graph info:\")\n",
        "print(f\"Number of nodes: {G.number_of_nodes()}\")\n",
        "print(f\"Number of edges: {G.number_of_edges()}\")\n",
        "print(f\"Graph density: {nx.density(G)}\") # how close a graph is to being a complete graph\n",
        "print(f\"Graph is directed: {G.is_directed()}\")\n",
        "print(f\"Node list: {list(G.nodes())[:10]}\")  # Display first 10 nodes\n",
        "print(f\"Edge list: {list(G.edges())[:10]}\")"
      ]
    },
    {
      "cell_type": "markdown",
      "metadata": {
        "id": "0nSfFALYrVD_"
      },
      "source": [
        "Lets take a first visual peek. For a non-trivial (not like the one before) visualization of networks, the way how nodes and edges are placed in the plot makes a big difference in terms of how informative the visualization is, and how much information we can get out of it.\n",
        "\n",
        "There are plenty of different algorithms to optimize node and edge positions in visualizations within a graph **layout**. [Here](https://networkx.github.io/documentation/stable/reference/drawing.html#module-networkx.drawing.layout) you find an overview over the ones implemented in `networkx`.\n",
        "\n",
        "We can usually render these layouts on the fly when plotting the graph object. Since these algorithms contain probabilistic and iterative elements, they might look slightly different from plot to plot, though. Since we will plot this network a couple of times during this tutorial and want to compare them among each others, we will create and save the layout already upfront and pass it every time to the plotting function to make sure that the nodes are always placed in the same position.\n",
        "\n",
        "Here, we use the *Fruchterman-Reingold* algorithm-one of the most commonly used ones-to create the layout."
      ]
    },
    {
      "cell_type": "code",
      "execution_count": 114,
      "metadata": {
        "id": "iml84Gxhsewp"
      },
      "outputs": [],
      "source": [
        "# Create and save a layout.\n",
        "G_layout = nx.layout.fruchterman_reingold_layout(G)"
      ]
    },
    {
      "cell_type": "code",
      "execution_count": null,
      "metadata": {
        "colab": {
          "base_uri": "https://localhost:8080/",
          "height": 516
        },
        "id": "ETu2jpXhrYOm",
        "outputId": "d249effb-899a-41c9-b73d-6524b50f875c"
      },
      "outputs": [],
      "source": [
        "# We use the standard networkx plot, and pass the layout.\n",
        "nx.draw(G, pos = G_layout, with_labels=True)"
      ]
    },
    {
      "cell_type": "markdown",
      "metadata": {
        "id": "UCID7KZ57pkZ"
      },
      "source": [
        "Well, we somewhat an intuition of the network architecture, containing a core-region, and some periphral centers. Otherwise, it's rather uninformative. Good network visualization after all is more than just doing a standard plot, so there is much we can do to make it more informative. However, we get to that later."
      ]
    },
    {
      "cell_type": "markdown",
      "metadata": {
        "id": "JfWDBV6koJ11"
      },
      "source": [
        "In this case, we have a weighted graph, meaning that an edge does not only exist or not, (binary), but rather weighted by the number of the nodes (representing characters) interaction."
      ]
    },
    {
      "cell_type": "code",
      "execution_count": null,
      "metadata": {
        "colab": {
          "base_uri": "https://localhost:8080/"
        },
        "id": "F_rZqZHHw6wq",
        "outputId": "5e3da380-30cf-4d0d-c421-3673abfccfaf"
      },
      "outputs": [],
      "source": [
        "nx.get_edge_attributes(G, 'weight')"
      ]
    },
    {
      "cell_type": "markdown",
      "metadata": {
        "id": "v-vgyQ-Jpb_8"
      },
      "source": [
        "We see that the edge weights vary quite a lot. For this simple example we will remove the weights to give us a undirected and unweighted graph."
      ]
    },
    {
      "cell_type": "code",
      "execution_count": 117,
      "metadata": {
        "id": "tyaIL1ishpBf"
      },
      "outputs": [],
      "source": [
        "for n1, n2, d in G.edges(data=True):\n",
        "  d.pop('weight', None)"
      ]
    },
    {
      "cell_type": "markdown",
      "metadata": {
        "id": "RfaIautABXmm"
      },
      "source": [
        "We can even do better! We can use the powerful [`bokeh`](https://docs.bokeh.org/) library (we installed it in the preamble). However, it is very clunky to work with. The [`hollowviews`](http://holoviews.org/user_guide/Network_Graphs.html) library in turn provides a lightweight wrapper that enables us to produce pretty interactive visualizations with a few lines of code. Lets do that!\n",
        "\n",
        "PS: Try to hover over the nodes :-)"
      ]
    },
    {
      "cell_type": "code",
      "execution_count": null,
      "metadata": {
        "colab": {
          "base_uri": "https://localhost:8080/",
          "height": 42
        },
        "id": "q_QGbeK0ckBO",
        "outputId": "d25f5c38-860a-44df-8ed6-e6328e28dd58"
      },
      "outputs": [],
      "source": [
        "# Import the libraries and link to the bokeh backend\n",
        "import holoviews as hv\n",
        "from holoviews import opts\n",
        "hv.extension('bokeh')\n",
        "from bokeh.plotting import show\n",
        "\n",
        "# Setting the default figure size a bit larger\n",
        "defaults = dict(width=750, height=750, padding=0.1,\n",
        "                xaxis=None, yaxis=None)\n",
        "hv.opts.defaults(\n",
        "    opts.EdgePaths(**defaults), opts.Graph(**defaults), opts.Nodes(**defaults))"
      ]
    },
    {
      "cell_type": "code",
      "execution_count": 119,
      "metadata": {
        "id": "zMCagH7ecnhA"
      },
      "outputs": [],
      "source": [
        "g_plot = hv.Graph.from_networkx(G, G_layout).opts(tools=['hover'])"
      ]
    },
    {
      "cell_type": "code",
      "execution_count": null,
      "metadata": {
        "colab": {
          "base_uri": "https://localhost:8080/",
          "height": 767
        },
        "id": "7SRjGNRxePJ_",
        "outputId": "89056421-2cfa-4754-d7b9-96ff96f78f22"
      },
      "outputs": [],
      "source": [
        "show(hv.render(g_plot))"
      ]
    },
    {
      "cell_type": "markdown",
      "metadata": {
        "id": "ofu6yPAhkHJX"
      },
      "source": [
        "## Node-Level measures\n",
        "\n",
        "Often, we are interested in ways to summarize the pattern of node connectivity to infer something on their characteristics.\n"
      ]
    },
    {
      "cell_type": "markdown",
      "metadata": {
        "id": "DgLeHb234xe2"
      },
      "source": [
        "One of the simplest concepts when computing node level measures is that of **centrality**, i.e. how central is a node or edge in the graph. As this definition is inherently vague, a lot of different centrality scores exists that all treat the concept of \"central\" a bit different.\n",
        "\n",
        "We in the following well briefly illustrate the idea behind three of the most popular centrality measures, namely:\n",
        "\n",
        "* Degree centrality\n",
        "* Eigenvector centrality\n",
        "* Betweenness centrality"
      ]
    },
    {
      "cell_type": "markdown",
      "metadata": {
        "id": "GI72IKxj5EmR"
      },
      "source": [
        "### Degree centrality\n",
        "The degree centrality is probably the most intuitive node measure, which basically just counts the number of edges adjacent to a node.  Formally, the degree of node $i$ is the number of existing edges $e_{ij}$ with other nodes $j$ in a network with $n$ nodes:\n",
        "\n",
        "$$d_{ij} =\\sum\\limits_{j=1}^{n} e_{ij} ~ where: ~ i \\neq j$$"
      ]
    },
    {
      "cell_type": "code",
      "execution_count": 121,
      "metadata": {
        "id": "FOtpaAaj5GyR"
      },
      "outputs": [],
      "source": [
        "cent_degree = dict(nx.degree(G))"
      ]
    },
    {
      "cell_type": "code",
      "execution_count": null,
      "metadata": {
        "colab": {
          "base_uri": "https://localhost:8080/"
        },
        "id": "81b_63tYB-u_",
        "outputId": "03109780-bc83-4989-ec1c-2ce8e91b24db"
      },
      "outputs": [],
      "source": [
        "cent_degree.values()"
      ]
    },
    {
      "cell_type": "code",
      "execution_count": null,
      "metadata": {
        "colab": {
          "base_uri": "https://localhost:8080/"
        },
        "id": "QwvI6GHAyBxZ",
        "outputId": "9c308c5b-985a-4740-bf31-d37f2a7447f4"
      },
      "outputs": [],
      "source": [
        "sorted(cent_degree.items(),key=lambda x:-x[1])[:10]"
      ]
    },
    {
      "cell_type": "markdown",
      "metadata": {
        "id": "wadHt2ihz_-y"
      },
      "source": [
        "![](https://upload.wikimedia.org/wikipedia/commons/thumb/e/e6/Gavroche_%28Les_Misérables%29.jpg/162px-Gavroche_%28Les_Misérables%29.jpg)\n",
        "\n",
        "The most important character is *Valjean*, the main character, not that surprising. But the second most important character is *Gavroche*. Is that right? Lets have a look at the graph so we can see what is going on :-)\n",
        "\n",
        "**Note**: Node size represents degree centrality - Bigger nodes indicate degree centrality."
      ]
    },
    {
      "cell_type": "code",
      "execution_count": null,
      "metadata": {
        "colab": {
          "base_uri": "https://localhost:8080/",
          "height": 767
        },
        "id": "kj8I1TDQ-Opl",
        "outputId": "43666978-ca10-4703-f4a0-b49c390ae46c"
      },
      "outputs": [],
      "source": [
        "nx.set_node_attributes(G, cent_degree, 'cent_degree')\n",
        "\n",
        "g_plot = hv.Graph.from_networkx(G, G_layout).opts(tools=['hover'],\n",
        "                                                  node_size='cent_degree')\n",
        "\n",
        "show(hv.render(g_plot))"
      ]
    },
    {
      "cell_type": "code",
      "execution_count": null,
      "metadata": {
        "colab": {
          "base_uri": "https://localhost:8080/"
        },
        "id": "LKj2lvYlytEI",
        "outputId": "2bce7d91-912e-4704-bb41-d5c9ef4dbd0d"
      },
      "outputs": [],
      "source": [
        "nx.get_node_attributes(G,'cent_degree')"
      ]
    },
    {
      "cell_type": "markdown",
      "metadata": {
        "id": "cSYkNTiT5Nga"
      },
      "source": [
        "### Eigenvector centrality\n",
        "Similar to the degree centrality, the eigenvector centrality takes this idea of characterizing nodes by their importance in a network a step further. It also represents the main idea behind the pagerank algorithm (a variant of eigenvector centrality) that was powering Google Search in the beginning.\n",
        "\n",
        "The basic idea is to weight a node's degree centrality by the centrality of the nodes adjacent to it (and their centrality in turn by their centrality). This will make nodes connected to in turn also well connected nodes more important. The eigenvector here is just a clever mathematical trick to solve such a recurrent problem.\n",
        "\n",
        "$$x_{v}={\\frac {1}{\\lambda }}\\sum _{t\\in M(v)}x_{t}={\\frac {1}{\\lambda }}\\sum _{t\\in G}a_{v,t}x_{t}$$"
      ]
    },
    {
      "cell_type": "code",
      "execution_count": 126,
      "metadata": {
        "id": "7Hye7Yv35WWG"
      },
      "outputs": [],
      "source": [
        "cent_eigen = dict(nx.eigenvector_centrality(G))"
      ]
    },
    {
      "cell_type": "code",
      "execution_count": null,
      "metadata": {
        "colab": {
          "base_uri": "https://localhost:8080/"
        },
        "id": "Elowp9sXDQC5",
        "outputId": "a609fb0e-fa5a-4edc-d25c-5b5169931f4f"
      },
      "outputs": [],
      "source": [
        "sorted(cent_eigen.items(),key=lambda x:-x[1])[:10]"
      ]
    },
    {
      "cell_type": "code",
      "execution_count": 128,
      "metadata": {
        "id": "gweRnazJ4Qo5"
      },
      "outputs": [],
      "source": [
        "for  i in cent_eigen:\n",
        "  cent_eigen[i] = cent_eigen[i]*100"
      ]
    },
    {
      "cell_type": "code",
      "execution_count": null,
      "metadata": {
        "colab": {
          "base_uri": "https://localhost:8080/",
          "height": 767
        },
        "id": "xqScIFLvzUEU",
        "outputId": "b0360392-858f-44f7-ae07-2c7991fd1d01"
      },
      "outputs": [],
      "source": [
        "nx.set_node_attributes(G, cent_eigen, 'cent_eigen')\n",
        "\n",
        "g_plot = hv.Graph.from_networkx(G, G_layout).opts(tools=['hover'],\n",
        "                                                  node_size='cent_eigen' )\n",
        "\n",
        "show(hv.render(g_plot))"
      ]
    },
    {
      "cell_type": "markdown",
      "metadata": {
        "id": "6iu8fk2z5d3l"
      },
      "source": [
        "### Betweenness centrality\n",
        "\n",
        "* The betweenness centrality of an object in a network measures the extent to which it lies on short paths\n",
        "* A higher betweenness indicates that it lies on more short paths and hence should somehow be important for traversing between different parts of a network\n",
        "* How many pairs of individuals would have to go through you in order to reach one another in the minimum number of hops? Who has higher betweenness, X or Y?\n",
        "\n",
        "In formulaic representation\n",
        "\n",
        "* The geodesic betweenness $B_{n}(i)$ of a **vertex** in a weighted, undirected network is\n",
        "$$B_{n}(i) =  \\sum_{s,t \\in G} \\frac{ \\Psi_{s,t}(i) }{\\Psi_{s,t}}$$\n",
        "where vertices $s,t,i$ are all different from each other\n",
        "\n",
        "* $\\Psi_{s,t}$ denotes the number of shortest paths (geodesics) between vertices $s$ and $t$\n",
        "* $\\Psi_{s,t}(i)$ denotes the number of shortest paths (geodesics) between vertices $s$ and $t$ **that pass through vertex** $i$.\n",
        "* The geodesic betweenness $B_n$ of a network is the mean of $B_n(i)$ over all vertices $i$"
      ]
    },
    {
      "cell_type": "code",
      "execution_count": null,
      "metadata": {
        "colab": {
          "base_uri": "https://localhost:8080/"
        },
        "id": "Yqbr1e-g5eVD",
        "outputId": "4332bad8-f108-4f79-a06e-7f88dd88609e"
      },
      "outputs": [],
      "source": [
        "cent_between = nx.betweenness_centrality(G)\n",
        "sorted(cent_between.items(),key=lambda x:-x[1])[:10]"
      ]
    },
    {
      "cell_type": "code",
      "execution_count": 131,
      "metadata": {
        "id": "kXSI440J3lDI"
      },
      "outputs": [],
      "source": [
        "for  i in cent_between:\n",
        "  cent_between[i] = cent_between[i]*100"
      ]
    },
    {
      "cell_type": "code",
      "execution_count": null,
      "metadata": {
        "colab": {
          "base_uri": "https://localhost:8080/",
          "height": 767
        },
        "id": "GeWN2R_V0Zmo",
        "outputId": "a912c432-c5ed-4caa-9d19-56524623877f"
      },
      "outputs": [],
      "source": [
        "nx.set_node_attributes(G, cent_between, 'cent_between')\n",
        "\n",
        "g_plot = hv.Graph.from_networkx(G, G_layout).opts(tools=['hover'],\n",
        "                                                  node_size='cent_between' )\n",
        "\n",
        "show(hv.render(g_plot))"
      ]
    },
    {
      "cell_type": "markdown",
      "metadata": {
        "id": "0NTLqJ576Jkn"
      },
      "source": [
        "## Neighborhood of a Node\n",
        "\n",
        "Further, we can look at the surrounding of a node, meaning the ones it is connected to, its **neighborhood**. Here, we can look at the **ego-network of a node**. That means how many nodes are in a certain **geodesic distance**, meaning the **shortest path**. Plainly speaking, how many nodes are not more than x-steps away.\n",
        "\n",
        "![](https://www.dropbox.com/s/yat7qsdfszmc1d1/networks_distance.jpg?dl=1)\n",
        "\n",
        "\n"
      ]
    },
    {
      "cell_type": "code",
      "execution_count": null,
      "metadata": {
        "colab": {
          "base_uri": "https://localhost:8080/"
        },
        "id": "f5rm3EtEcf7A",
        "outputId": "14fd0c02-5333-4cba-f7c1-3e8588b7c74a"
      },
      "outputs": [],
      "source": [
        "path = list(nx.all_shortest_paths(G, source=\"Valjean\", target=\"Tholomyes\"))\n",
        "print(path)"
      ]
    },
    {
      "cell_type": "code",
      "execution_count": null,
      "metadata": {
        "colab": {
          "base_uri": "https://localhost:8080/"
        },
        "id": "u419vA_qj0mL",
        "outputId": "d1673fd3-d2d9-429c-e19b-f57a4ce39452"
      },
      "outputs": [],
      "source": [
        "print(list(G.neighbors(\"Valjean\")))"
      ]
    },
    {
      "cell_type": "code",
      "execution_count": null,
      "metadata": {
        "colab": {
          "base_uri": "https://localhost:8080/"
        },
        "id": "a-tMbjbtlP1L",
        "outputId": "ebf5335e-2c95-4c73-800a-7c4cc8f631f5"
      },
      "outputs": [],
      "source": [
        "len(list(G.neighbors(\"Valjean\")))"
      ]
    },
    {
      "cell_type": "code",
      "execution_count": 136,
      "metadata": {
        "id": "6JfR-011lHuG"
      },
      "outputs": [],
      "source": [
        "def neighborhood(G, node, n):\n",
        "    path_lengths = nx.single_source_dijkstra_path_length(G, node)\n",
        "    return [node for node, length in path_lengths.items()\n",
        "                    if length == n]"
      ]
    },
    {
      "cell_type": "code",
      "execution_count": null,
      "metadata": {
        "colab": {
          "base_uri": "https://localhost:8080/"
        },
        "id": "15MVrW7qlkmN",
        "outputId": "61689aee-e25c-4827-8425-006840f2a643"
      },
      "outputs": [],
      "source": [
        "print(neighborhood(G, 'Valjean', 2))"
      ]
    },
    {
      "cell_type": "markdown",
      "metadata": {
        "id": "ZabNzslh5qRV"
      },
      "source": [
        "## Clustering (Community detection)\n",
        "\n",
        "Another common operation is to group nodes based on the graph topology, sometimes referred to as *community detection* based on its commonality in social network analysis.\n",
        "\n",
        "There are-just like for clustering of tabular data in UML-many different algorithms and approaches to detect and delineate communities. [Here](https://github.com/benedekrozemberczki/awesome-community-detection) you find a summary of currently used approaches.\n",
        "\n",
        "The main logic in most cases is to find ways to form groups which have a maximum *within-connectivity* and a minimum *between-connectivity*. Consequently, nodes in the same community should have a higher probability of being connected than nodes from different communities.\n",
        "\n",
        "Here we will use the **Louvain Method**, one of the most widely used community detection algorithms. It usually delivers good results, scales well, and can handle weighted networks. Furthermore, there is an actively maintained, easy to use Python implementation, [`python-louvain`](https://python-louvain.readthedocs.io).\n",
        "\n",
        "It optimises a quantity called modularity:\n",
        "\n",
        "$$  \\sum_{ij} (A_{ij} - \\lambda P_{ij}) \\delta(c_i,c_j) $$\n",
        "\n",
        "$A$ - The adjacency matrix\n",
        "\n",
        "$P_{ij}$ - The expected connection between $i$ and $j$.\n",
        "\n",
        "$\\lambda$ - Resolution parameter\n",
        "\n",
        "Can use lots of different forms for $P_{ij}$ but the standard one is the so called configuration model:\n",
        "\n",
        "$P_{ij} = \\frac{k_i k_j}{2m}$\n",
        "\n",
        "Loosely speaking, in an iterative process it\n",
        "\n",
        "1. You take a node and try to aggregate it to one of its neighbours.\n",
        "2. You choose the neighbour that maximizes a modularity function. This function tells you how connected is the community you are trying to attach your node to going to be if you actually attach your node to it (this function is easy to compute and this makes Louvain very fast!).\n",
        "3. Once you iterate through all the nodes, you will have merged few nodes together and formed some communities.\n",
        "4. This becomes the new input for the algorithm that will treat each community as a node and try to merge them together to create bigger communities.\n",
        "5. The algorithm stops when it's not possible to improve modularity any more.\n",
        "\n",
        "![](https://www.dropbox.com/s/afoeq2pa01lba50/networks_louvain.jpg?dl=1)\n",
        "\n",
        "This is the original paper, for those interested in further reads:\n",
        "\n",
        "* Blondel, Vincent D; Guillaume, Jean-Loup; Lambiotte, Renaud; Lefebvre, Etienne (9 October 2008). \"Fast unfolding of communities in large networks\". Journal of Statistical Mechanics: Theory and Experiment. 2008 (10): P10008\n",
        "\n",
        "Lets take a look how that works:\n"
      ]
    },
    {
      "cell_type": "code",
      "execution_count": 138,
      "metadata": {
        "id": "clVrDBbU5rYd"
      },
      "outputs": [],
      "source": [
        "import community.community_louvain as community_louvain"
      ]
    },
    {
      "cell_type": "code",
      "execution_count": 139,
      "metadata": {
        "id": "B3EhiPkA6Mqe"
      },
      "outputs": [],
      "source": [
        "# Find the optimal partition with the Louvain algorithm.\n",
        "com = community_louvain.best_partition(G)"
      ]
    },
    {
      "cell_type": "code",
      "execution_count": null,
      "metadata": {
        "colab": {
          "base_uri": "https://localhost:8080/"
        },
        "id": "JuySDZyFRl06",
        "outputId": "938b48cd-5a56-41cb-a2da-b13392cdf5a4"
      },
      "outputs": [],
      "source": [
        "# The number of communities detected\n",
        "max(com.values())"
      ]
    },
    {
      "cell_type": "code",
      "execution_count": null,
      "metadata": {
        "colab": {
          "base_uri": "https://localhost:8080/",
          "height": 767
        },
        "id": "nxBtmmy6TVzf",
        "outputId": "055067a6-1f12-44ad-d3e3-21e10302dffb"
      },
      "outputs": [],
      "source": [
        "nx.set_node_attributes(G, com, 'community')\n",
        "\n",
        "g_plot = hv.Graph.from_networkx(G, G_layout).opts(tools=['hover'],\n",
        "                                                  node_size='cent_degree',\n",
        "                                                  node_color='community', cmap=plt.cm.Set1,\n",
        "                                                  legend_position='right')\n",
        "\n",
        "show(hv.render(g_plot))"
      ]
    },
    {
      "cell_type": "markdown",
      "metadata": {
        "id": "QbvKwu316YAi"
      },
      "source": [
        "## (Global) Network structure\n",
        "\n",
        "Finally, it is often also informative to look at the overal characteristics of the network.\n",
        "\n",
        "\n",
        "The **density** of a measure represents the share of all connected to all possible connections in the network"
      ]
    },
    {
      "cell_type": "code",
      "execution_count": null,
      "metadata": {
        "colab": {
          "base_uri": "https://localhost:8080/"
        },
        "id": "qMxh4XgU6ZED",
        "outputId": "9f27d387-8110-4de3-ac1a-e1b1caf5dc31"
      },
      "outputs": [],
      "source": [
        "nx.density(G)"
      ]
    },
    {
      "cell_type": "markdown",
      "metadata": {
        "id": "y2KJssXl6eGM"
      },
      "source": [
        "**Transistivity**, also called the **Clustering Cefficient** indicates how much the network tends to be locally clustered. That is measured by the share of **closed triplets**. Again,w e will dig into that next time.\n",
        "\n",
        "![](https://www.dropbox.com/s/ei585dd6ysa243d/networks_ccoeff.png?dl=1)"
      ]
    },
    {
      "cell_type": "code",
      "execution_count": null,
      "metadata": {
        "colab": {
          "base_uri": "https://localhost:8080/"
        },
        "id": "PVszFhkP6gbV",
        "outputId": "5f3e6ae3-6326-46e0-f1c7-b425fc3782b9"
      },
      "outputs": [],
      "source": [
        "nx.transitivity(G)"
      ]
    },
    {
      "cell_type": "markdown",
      "metadata": {
        "id": "ipN2GYH96jq6"
      },
      "source": [
        "The **diameter** is the longest of the shortest paths between two nodes of the network."
      ]
    },
    {
      "cell_type": "code",
      "execution_count": null,
      "metadata": {
        "colab": {
          "base_uri": "https://localhost:8080/"
        },
        "id": "WxWMhcbI6mDE",
        "outputId": "60bcf97f-ffca-4b0c-921d-3b0aa5be05aa"
      },
      "outputs": [],
      "source": [
        "nx.diameter(G)"
      ]
    },
    {
      "cell_type": "markdown",
      "metadata": {
        "id": "7oVTN1NF6sWP"
      },
      "source": [
        "Finally, the **mean distance**, or **average path lenght** represents the mean of all shortest paths between all nodes. It is a measure of diffusion potential within a network."
      ]
    },
    {
      "cell_type": "code",
      "execution_count": null,
      "metadata": {
        "colab": {
          "base_uri": "https://localhost:8080/"
        },
        "id": "7uZW4bJ86s_U",
        "outputId": "e18ab613-c175-4cd9-f4b3-2bbc3d324551"
      },
      "outputs": [],
      "source": [
        "nx.average_shortest_path_length(G)"
      ]
    },
    {
      "cell_type": "markdown",
      "metadata": {
        "id": "s5Cr0Ug12694"
      },
      "source": [
        "One more thing we didn't talk about yet: Small worlds.\n",
        "\n",
        "Small worlds are an interesting network structure, combining short path lenght betwen the nodes with a high clustering coefficient. That means, that we have small interconected clusters, which are in turn connected by **gatekeepers** (the edges we call **bridges** or **structural holes**)."
      ]
    },
    {
      "cell_type": "markdown",
      "metadata": {
        "id": "Zh-NQrYTkK6f"
      },
      "source": [
        "# Case: Networks are coming...\n",
        "\n",
        "![](https://sds-aau.github.io/SDS-master/00_media/random_got.jpg)\n",
        "\n",
        "* So, lets get serious. Appropriate for the weather these days in Denmark, the theme is \"winter is comming...\".\n",
        "* Therefore, we will have some fun analysing the Game of Thrones data provided by [Andrew Beveridge](https://github.com/mathbeveridge/asoiaf).\n",
        "* It is a Character Interaction Networks for George R. R. Martin's \"A Song of Ice and Fire\" saga (yes, we are talking about the books...).\n",
        "* These networks were created by connecting two characters whenever their names (or nicknames) appeared within 15 words of one another in one of the books in \"A Song of Ice and Fire.\"\n",
        "* The edge weight corresponds to the number of interactions.\n",
        "* This is a nice skill you will have after the second part of M2 on your own.\n",
        "\n",
        "## Build the graph\n",
        "\n",
        "* First, we load all nodes, representing all characters appearing in the books:"
      ]
    },
    {
      "cell_type": "code",
      "execution_count": 146,
      "metadata": {
        "id": "uQ9uNn37zNAO"
      },
      "outputs": [],
      "source": [
        "edges = pd.read_csv('https://sds-aau.github.io/SDS-master/00_data/GoT_network/asoiaf-all-edges.csv')"
      ]
    },
    {
      "cell_type": "code",
      "execution_count": null,
      "metadata": {
        "id": "DxF38FQ6zeNt"
      },
      "outputs": [],
      "source": [
        "edges.head()"
      ]
    },
    {
      "cell_type": "code",
      "execution_count": 148,
      "metadata": {
        "id": "zT3w2-aHzgxH"
      },
      "outputs": [],
      "source": [
        "edges.columns = [w.lower() for w in edges.columns]"
      ]
    },
    {
      "cell_type": "markdown",
      "metadata": {
        "id": "Usk9waFMzwjC"
      },
      "source": [
        "* So, that's what we have, a classical edgelist, with id1 in column 1 and id2 in column2.\n",
        "* Note, the edges are in this case weighted.\n",
        "\n",
        "Ok, lets see how many characters we have overall.\n",
        "\n"
      ]
    },
    {
      "cell_type": "code",
      "execution_count": null,
      "metadata": {
        "id": "3ZS_HdJOzt7J"
      },
      "outputs": [],
      "source": [
        "pd.concat([edges['source'],edges['target']], axis=0).nunique()"
      ]
    },
    {
      "cell_type": "code",
      "execution_count": null,
      "metadata": {
        "id": "D8392OpL0FA5"
      },
      "outputs": [],
      "source": [
        "len(set(edges['source']) | set(edges['target']))"
      ]
    },
    {
      "cell_type": "markdown",
      "metadata": {
        "id": "TsdjO_zm02Y9"
      },
      "source": [
        "\n",
        "* Because there are so many characters in the books, many of them minor,\n",
        "* I am subsetting the data to the 100 characters with the most interactions across all books.\n",
        "* The edges are undirected, therefore there are no redundant Source-Target combinations.\n",
        "* Because of this, I pivot Source and Target data before summing up the weights."
      ]
    },
    {
      "cell_type": "code",
      "execution_count": null,
      "metadata": {
        "id": "4ocP8wqD0mdM"
      },
      "outputs": [],
      "source": [
        "edges_melt = pd.melt(edges, id_vars=['id','weight'], value_vars=['source', 'target'],\n",
        "        var_name='role', value_name='name')\n",
        "\n",
        "edges_melt.head()"
      ]
    },
    {
      "cell_type": "code",
      "execution_count": null,
      "metadata": {
        "id": "_cYK30Mm1j72"
      },
      "outputs": [],
      "source": [
        "edges_melt.groupby('name').weight.sum().sort_values(ascending=False)"
      ]
    },
    {
      "cell_type": "code",
      "execution_count": 153,
      "metadata": {
        "id": "66iAdEs24TsX"
      },
      "outputs": [],
      "source": [
        "chars_main = edges_melt.groupby('name').weight.sum().sort_values(ascending=False).index[:100]"
      ]
    },
    {
      "cell_type": "markdown",
      "metadata": {
        "id": "7_r3Sdu45HX3"
      },
      "source": [
        "\n",
        "* So far so good, if we only go by edge weights,\n",
        "* Lets reduce our edgelist to this main characters, just to warm up and keep the overview.\n",
        "\n"
      ]
    },
    {
      "cell_type": "code",
      "execution_count": 154,
      "metadata": {
        "id": "Ku7BveK543bi"
      },
      "outputs": [],
      "source": [
        "edges = edges[(edges.source.isin(chars_main)) & (edges.target.isin(chars_main))]"
      ]
    },
    {
      "cell_type": "markdown",
      "metadata": {
        "id": "bD4t1Llo5sN8"
      },
      "source": [
        "Now we can convert that into a NetowkrX graph"
      ]
    },
    {
      "cell_type": "code",
      "execution_count": 155,
      "metadata": {
        "id": "Wj-zKx3e5bl5"
      },
      "outputs": [],
      "source": [
        "g = nx.from_pandas_edgelist(edges, source='source', target='target', edge_attr='weight')"
      ]
    },
    {
      "cell_type": "code",
      "execution_count": null,
      "metadata": {
        "id": "M-CBv4_N52KV"
      },
      "outputs": [],
      "source": [
        "# no need to filter for parallel edges and seems there are no isolates (degree 0 nodes)\n",
        "list(nx.isolates(g))"
      ]
    },
    {
      "cell_type": "code",
      "execution_count": null,
      "metadata": {
        "id": "Hwwzvtb58OU6"
      },
      "outputs": [],
      "source": [
        "g.edges(data=True)"
      ]
    },
    {
      "cell_type": "code",
      "execution_count": null,
      "metadata": {
        "id": "-UdE55zzK4BL"
      },
      "outputs": [],
      "source": [
        "weights = [z['weight'] for x,y,z in g.edges(data=True)]\n",
        "sns.displot(weights)"
      ]
    },
    {
      "cell_type": "markdown",
      "metadata": {
        "id": "gLQnSC-mLtZ_"
      },
      "source": [
        "\n",
        "We see a right skewed distribution with many weak and some very strong edges. Lets take a look what are the edges with the highest weight (meaning here: the characters with most intraction).\n",
        "\n"
      ]
    },
    {
      "cell_type": "code",
      "execution_count": 159,
      "metadata": {
        "id": "tXX6ZmK6LYJO"
      },
      "outputs": [],
      "source": [
        "centrality_dgr = nx.degree_centrality(g)\n",
        "centrality_eigen = nx.eigenvector_centrality_numpy(g, weight='weight')\n",
        "centrality_between = nx.betweenness_centrality(g, weight='weight')"
      ]
    },
    {
      "cell_type": "code",
      "execution_count": 160,
      "metadata": {
        "id": "WJzxNn8eMG36"
      },
      "outputs": [],
      "source": [
        "nx.set_node_attributes(g, centrality_dgr, 'centrality_dgr')\n",
        "nx.set_node_attributes(g, centrality_eigen, 'centrality_eigen')\n",
        "nx.set_node_attributes(g, centrality_between, 'centrality_between')"
      ]
    },
    {
      "cell_type": "code",
      "execution_count": null,
      "metadata": {
        "id": "xx6dM-yrMXOR"
      },
      "outputs": [],
      "source": [
        "g.nodes(data=True)['Tyrion-Lannister']"
      ]
    },
    {
      "cell_type": "code",
      "execution_count": null,
      "metadata": {
        "id": "0FQ8LLZhNC9U"
      },
      "outputs": [],
      "source": [
        "g.degree(weight='weight')['Tyrion-Lannister']"
      ]
    },
    {
      "cell_type": "markdown",
      "metadata": {
        "id": "-7bA29KGOKnU"
      },
      "source": [
        "\n",
        "## Communities & Groups\n",
        "\n"
      ]
    },
    {
      "cell_type": "code",
      "execution_count": 163,
      "metadata": {
        "id": "xTJWtyf3NkPk"
      },
      "outputs": [],
      "source": [
        "partition = community_louvain.best_partition(g)"
      ]
    },
    {
      "cell_type": "code",
      "execution_count": 164,
      "metadata": {
        "id": "4X0a49eCOcJf"
      },
      "outputs": [],
      "source": [
        "nx.set_node_attributes(g, partition, 'community')"
      ]
    },
    {
      "cell_type": "code",
      "execution_count": 165,
      "metadata": {
        "id": "uStiF7VMOgL9"
      },
      "outputs": [],
      "source": [
        "nodes_df = pd.DataFrame.from_dict(dict(g.nodes(data=True)),orient='index')"
      ]
    },
    {
      "cell_type": "code",
      "execution_count": null,
      "metadata": {
        "id": "nVi8h8ByO1Od"
      },
      "outputs": [],
      "source": [
        "nodes_df.groupby('community')['centrality_eigen'].nlargest(5)"
      ]
    },
    {
      "cell_type": "markdown",
      "metadata": {
        "id": "O7a2L2wuRoJ6"
      },
      "source": [
        "\n",
        "## Network Visualization I\n",
        "\n",
        "Ok, lets give it a first minimal shot:\n",
        "\n"
      ]
    },
    {
      "cell_type": "code",
      "execution_count": null,
      "metadata": {
        "id": "vEVTUkIZPmA7"
      },
      "outputs": [],
      "source": [
        "nx.draw(g, with_labels = True, node_size=10)"
      ]
    },
    {
      "cell_type": "code",
      "execution_count": 168,
      "metadata": {
        "id": "TBFswoqOR3-A"
      },
      "outputs": [],
      "source": [
        "# Create and save a layout.\n",
        "g_layout = nx.layout.spring_layout(g)\n",
        "g_plot = hv.Graph.from_networkx(g, g_layout).opts(tools=['hover'], node_color='community')\n",
        "labels = hv.Labels(g_plot.nodes, ['x', 'y'], 'index')"
      ]
    },
    {
      "cell_type": "code",
      "execution_count": 169,
      "metadata": {
        "id": "ouI4vMreSAYA"
      },
      "outputs": [],
      "source": [
        "from holoviews.operation.datashader import datashade, bundle_graph\n",
        "bundled = bundle_graph(g_plot)"
      ]
    },
    {
      "cell_type": "code",
      "execution_count": null,
      "metadata": {
        "id": "hycGEzFWSDG4"
      },
      "outputs": [],
      "source": [
        "show(hv.render(bundled * labels.opts(text_font_size='6pt', text_color='white', bgcolor='gray')))"
      ]
    }
  ],
  "metadata": {
    "colab": {
      "collapsed_sections": [
        "Dkrnot_fEP6k"
      ],
      "provenance": [],
      "toc_visible": true
    },
    "kernelspec": {
      "display_name": "Python 3.11 (SDS24)",
      "language": "python",
      "name": "sds24"
    },
    "language_info": {
      "codemirror_mode": {
        "name": "ipython",
        "version": 3
      },
      "file_extension": ".py",
      "mimetype": "text/x-python",
      "name": "python",
      "nbconvert_exporter": "python",
      "pygments_lexer": "ipython3",
      "version": "3.12.6"
    }
  },
  "nbformat": 4,
  "nbformat_minor": 0
}
