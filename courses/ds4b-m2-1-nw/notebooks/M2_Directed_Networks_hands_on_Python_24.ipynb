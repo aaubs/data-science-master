{
  "cells": [
    {
      "cell_type": "code",
      "execution_count": null,
      "metadata": {
        "colab": {
          "base_uri": "https://localhost:8080/",
          "height": 98
        },
        "id": "jbfnb1TQbl6M",
        "outputId": "5075c2b4-d6ea-4d9f-b002-f77206d29a80"
      },
      "outputs": [],
      "source": [
        "# pip install names -qq\n",
        "\n",
        "import networkx as nx\n",
        "import numpy as np\n",
        "import pandas as pd\n",
        "import seaborn as sns\n",
        "import matplotlib.pyplot as plt\n",
        "import names\n",
        "\n",
        "# For visualization\n",
        "# pip install -U bokeh -qq\n",
        "# pip install -q holoviews -qq\n",
        "\n",
        "sns.set()\n",
        "\n",
        "# Import the libraries and link to the bokeh backend\n",
        "import holoviews as hv\n",
        "from holoviews import opts\n",
        "hv.extension('bokeh')\n",
        "from bokeh.plotting import show\n",
        "\n",
        "# Setting the default figure size a bit larger\n",
        "defaults = dict(width=750, height=750, padding=0.1,\n",
        "                xaxis=None, yaxis=None)\n",
        "hv.opts.defaults(\n",
        "    opts.EdgePaths(**defaults), opts.Graph(**defaults), opts.Nodes(**defaults))"
      ]
    },
    {
      "cell_type": "markdown",
      "metadata": {
        "id": "62lIsyvI06gt"
      },
      "source": [
        "# Introduction\n",
        "\n",
        "Welcome to your second part of the introduction to network analysis. In this session you will learn:\n",
        "\n",
        "1. What directed networks are, and when that matters.\n",
        "2. How different measures have to be calculated in directed networks.\n",
        "3. What multidimensional networks are, and how they matter.\n",
        "4. How to compare network measures between graphs, and with random graphs\n"
      ]
    },
    {
      "cell_type": "markdown",
      "metadata": {
        "id": "y3cM6nDnuMF7"
      },
      "source": [
        "\n",
        "# Directed networks\n",
        "\n",
        "* Up to now, we did not pay attention to the direction of edges, and assumed them to be symetric (`A->B == B->A`). this makes sense in a lot of setting, for instance when we look at co-occurence networks.\n",
        "* However, in many cases, such as friendship networks, that might not be the case (the person you name a close friend not necessarily thinks the same about you).\n",
        "* In such cases, we would like to take this directionality into account, and analyse **directed networks**.\n",
        "\n",
        "Lets look a brief example of highschool students data, which had to name their close friends.\n",
        "\n",
        "\n",
        "the `!`in front of the commands indicates the use of the unix/linux system behind the Python notebook.\n"
      ]
    },
    {
      "cell_type": "code",
      "execution_count": null,
      "metadata": {},
      "outputs": [],
      "source": [
        "import requests\n",
        "import zipfile\n",
        "import os\n",
        "\n",
        "# Step 1: Download the file\n",
        "url = 'https://networks.skewed.de/net/highschool/files/highschool.csv.zip'\n",
        "response = requests.get(url)\n",
        "\n",
        "# Write the content to a local file\n",
        "with open('highschool.csv.zip', 'wb') as f:\n",
        "    f.write(response.content)\n",
        "\n",
        "print(\"Download complete.\")\n",
        "\n",
        "# Step 2: Create the 'data' folder if it doesn't exist\n",
        "output_folder = 'data'\n",
        "if not os.path.exists(output_folder):\n",
        "    os.makedirs(output_folder)\n",
        "\n",
        "# Step 3: Unzip the file to the 'data' folder\n",
        "with zipfile.ZipFile('highschool.csv.zip', 'r') as zip_ref:\n",
        "    zip_ref.extractall(output_folder)  # Extracts all contents to the 'data' folder\n",
        "\n",
        "print(f\"Unzip complete. Files extracted to '{output_folder}'\")\n",
        "\n"
      ]
    },
    {
      "cell_type": "code",
      "execution_count": 3,
      "metadata": {
        "colab": {
          "base_uri": "https://localhost:8080/"
        },
        "id": "_vL-4Dwyb3ZH",
        "outputId": "88ef7183-9610-45e0-d3b8-3d3490e66274"
      },
      "outputs": [],
      "source": [
        "# wget https://networks.skewed.de/net/highschool/files/highschool.csv.zip\n",
        "# unzip highschool.csv.zip"
      ]
    },
    {
      "cell_type": "markdown",
      "metadata": {
        "id": "WRKTIynz1dKP"
      },
      "source": [
        "\n",
        "Again, here it sometimes happens that friendship is not reciprocal, so we will create a directed friendship graph.\n",
        "\n",
        "It takes some munging to get the data right and attach the names.\n"
      ]
    },
    {
      "cell_type": "code",
      "execution_count": 4,
      "metadata": {
        "id": "XhZeZ05Dbsdu"
      },
      "outputs": [],
      "source": [
        "# load edges\n",
        "edges = pd.read_csv('./data/edges.csv')"
      ]
    },
    {
      "cell_type": "code",
      "execution_count": null,
      "metadata": {
        "id": "fwOmlrksbwX5"
      },
      "outputs": [],
      "source": [
        "edges.head(5)"
      ]
    },
    {
      "cell_type": "code",
      "execution_count": null,
      "metadata": {
        "id": "-XUWGyWHcNkH"
      },
      "outputs": [],
      "source": [
        "# Test the ransom name generator. Need only males since the study is about a male highschool in the 50s\n",
        "names.get_full_name(gender='male').replace(' ','-')"
      ]
    },
    {
      "cell_type": "code",
      "execution_count": 7,
      "metadata": {
        "id": "xfH58vmRdD-U"
      },
      "outputs": [],
      "source": [
        "edges.columns = ['source', 'target', 'weight']"
      ]
    },
    {
      "cell_type": "code",
      "execution_count": 8,
      "metadata": {
        "id": "gXA3XHAndLVI"
      },
      "outputs": [],
      "source": [
        "# Collect all unique nodes from the edgelist\n",
        "\n",
        "nodes = set(edges.source) | set(edges.target)"
      ]
    },
    {
      "cell_type": "code",
      "execution_count": 9,
      "metadata": {
        "id": "mGhy1SqKdpru"
      },
      "outputs": [],
      "source": [
        "# Generate 70 ransom names with '-' separator using a list comprehension - a loop in a list\n",
        "\n",
        "names = [names.get_full_name(gender='male').replace(' ','-') for i in range(70)]"
      ]
    },
    {
      "cell_type": "code",
      "execution_count": 10,
      "metadata": {
        "id": "eGfqmW6Od1NN"
      },
      "outputs": [],
      "source": [
        "# Generate a mapper dictionary to translate number-nodes into fake names\n",
        "\n",
        "mapper = dict(zip(nodes,names))"
      ]
    },
    {
      "cell_type": "code",
      "execution_count": 11,
      "metadata": {
        "id": "PRFhKtS8d-Oq"
      },
      "outputs": [],
      "source": [
        "# Tr99anslate\n",
        "\n",
        "edges['source_name'] = edges.source.map(lambda t: mapper[t])\n",
        "edges['target_name'] = edges.target.map(lambda t: mapper[t])"
      ]
    },
    {
      "cell_type": "code",
      "execution_count": 12,
      "metadata": {
        "id": "AwXFpJS7d-0G"
      },
      "outputs": [],
      "source": [
        "# Now generate the network\n",
        "\n",
        "g = nx.from_pandas_edgelist(edges,\n",
        "                            source='source_name',\n",
        "                            target='target_name',\n",
        "                            edge_attr='weight',\n",
        "                            create_using = nx.DiGraph)"
      ]
    },
    {
      "cell_type": "markdown",
      "metadata": {
        "id": "rnpFWUOO1n2S"
      },
      "source": [
        "\n",
        "* Lets plot this network briefly to get a sense.\n",
        "* Notice that we have edges for two years, so we can do a facet plot for every year.\n",
        "\n"
      ]
    },
    {
      "cell_type": "code",
      "execution_count": null,
      "metadata": {
        "id": "0DTOUy-nfKT_"
      },
      "outputs": [],
      "source": [
        "# Quick visualization\n",
        "nx.draw(g, with_labels = False, node_size=10)"
      ]
    },
    {
      "cell_type": "markdown",
      "metadata": {
        "id": "ppIEsq9zfyPF"
      },
      "source": [
        "\n",
        "## Centrality measures\n",
        "\n",
        "Our network is now directed, meaning a node-pair now has two different roles:\n",
        "\n",
        "* **Ego:** The node the edge loriginates from.\n",
        "* **Alter:** The node the edge leads to.\n",
        "\n",
        "Consequently, most network metrics have to take this directionality into account. For example, degree centrality is now differentiated between the **in-degree** centrality (now many edges lead to the node) and the **out-degree** centrality (now many edges lead to the node)\n",
        "\n"
      ]
    },
    {
      "cell_type": "code",
      "execution_count": 14,
      "metadata": {
        "id": "nOrX08_4flTh"
      },
      "outputs": [],
      "source": [
        "nx.set_node_attributes(g, dict(g.in_degree(weight='weight')), 'in_degree')\n",
        "nx.set_node_attributes(g, dict(g.out_degree(weight='weight')), 'out_degree')"
      ]
    },
    {
      "cell_type": "markdown",
      "metadata": {
        "id": "lWZjwD7wBlrH"
      },
      "source": [
        "\n",
        "## Community Structures\n",
        "\n",
        "Now it is getting a bit more complicated. Most community detection algorithms implemented in `NetworkX` only work with undirected networks. So, now we could do 2 things:\n",
        "\n",
        "1. Convert the network in an undirected one.\n",
        "2. Use the \"edge betweenness\" algorithm, the only one implemented that can handle directed networks.\n",
        "\n"
      ]
    },
    {
      "cell_type": "code",
      "execution_count": 15,
      "metadata": {
        "id": "deB8HwoHf7jD"
      },
      "outputs": [],
      "source": [
        "import community.community_louvain as community_louvain"
      ]
    },
    {
      "cell_type": "code",
      "execution_count": 16,
      "metadata": {
        "id": "7NKR4LpOgr-p"
      },
      "outputs": [],
      "source": [
        "# We go for option 1\n",
        "g_und = nx.to_undirected(g)"
      ]
    },
    {
      "cell_type": "code",
      "execution_count": 17,
      "metadata": {
        "id": "Uk6A2g4qgoy0"
      },
      "outputs": [],
      "source": [
        "partition = community_louvain.best_partition(g_und)"
      ]
    },
    {
      "cell_type": "code",
      "execution_count": null,
      "metadata": {
        "id": "KCDLNXrkgp3U"
      },
      "outputs": [],
      "source": [
        "nx.draw_kamada_kawai(g, node_color=list(partition.values()), node_size=[v * 10 for v in dict(g.degree()).values()])"
      ]
    },
    {
      "cell_type": "markdown",
      "metadata": {
        "id": "PYtjiriy0uqM"
      },
      "source": [
        "## Introduction to the case\n",
        "\n",
        "* Emmanuel Lazega, The Collegial Phenomenon: The Social Mechanisms of Cooperation Among Peers in a Corporate Law Partnership, Oxford University Press (2001).\n",
        "\n",
        "### Data\n",
        "This data set comes from a network study of corporate law partnership that was carried out in a Northeastern US corporate law firm, referred to as SG&R, 1988-1991 in New England. It includes (among others) measurements of networks among the 71 attorneys (partners and associates) of this firm, i.e. their strong-coworker network, advice network, friendship network, and indirect control networks. Various members' attributes are also part of the dataset, including seniority, formal status, office in which they work, gender, lawschool attended, individual performance measurements (hours worked, fees brought in), attitudes concerning various management policy options, etc. This dataset was used to identify social processes such as bounded solidarity, lateral control, quality control, knowledge sharing, balancing powers, regulation, etc. among peers.\n",
        "\n",
        "### Setting\n",
        "* What do corporate lawyers do? Litigation and corporate work.\n",
        "* Division of work and interdependencies.\n",
        "* Three offices, no departments, built-in pressures to grow, intake and assignment rules.\n",
        "* Partners and associates: hierarchy, up or out rule, billing targets.\n",
        "* Partnership agreement (sharing benefits equally, 90% exclusion rule, governance structure, elusive committee system) and incompleteness of the contracts.\n",
        "* Informal, unwritten rules (ex: no moonlighting, no investment in buildings, no nepotism, no borrowing to pay partners, etc.).\n",
        "* Huge incentives to behave opportunistically ; thus the dataset is appropriate for the study of social processes that make cooperation among rival partners possible.\n",
        "* Sociometric name generators used to elicit coworkers, advice, and 'friendship' ties at SG&R:\"Here is the list of all the members of your Firm.\"\n",
        "\n",
        "The networks where created according to the follwoing questionaire:\n",
        "\n",
        "* Strong coworkers network: \"Because most firms like yours are also organized very informally, it is difficult to get a clear idea of how the members really work together. Think back over the past year, consider all the lawyers in your Firm. Would you go through this list and check the names of those with whom you have worked with. By \"worked with\" I mean that you have spent time together on at least one case, that you have been assigned to the same case, that they read or used your work product or that you have read or used their work product; this includes professional work done within the Firm like Bar association work, administration, etc.\"\n",
        "* Basic advice network: \"Think back over the past year, consider all the lawyers in your Firm. To whom did you go for basic professional advice? For instance, you want to make sure that you are handling a case right, making a proper decision, and you want to consult someone whose professional opinions are in general of great value to you. By advice I do not mean simply technical advice.\"\n",
        "* 'Friendship' network:\n",
        "\"Would you go through this list, and check the names of those you socialize with outside work. You know their family, they know yours, for instance. I do not mean all the people you are simply on a friendly level with, or people you happen to meet at Firm functions.\""
      ]
    },
    {
      "cell_type": "markdown",
      "metadata": {
        "id": "if1cPg6k6imS"
      },
      "source": [
        "## Data preperation\n",
        "\n",
        "###  Load the data\n",
        "\n",
        "Lets load the data! The three networks refer to cowork, friendship, and advice. The first 36 respondents are the partners in the firm."
      ]
    },
    {
      "cell_type": "code",
      "execution_count": 19,
      "metadata": {
        "id": "71deTXch7iSr"
      },
      "outputs": [],
      "source": [
        "mat_friendship = pd.read_table(\"https://sds-aau.github.io/SDS-master/M2/data/LazegaLawyers/ELwork.dat\", sep= ' ', header=None)\n",
        "mat_advice = pd.read_table(\"https://sds-aau.github.io/SDS-master/M2/data/LazegaLawyers/ELadv.dat\", sep= ' ', header=None)\n",
        "mat_work = pd.read_table(\"https://sds-aau.github.io/SDS-master/M2/data/LazegaLawyers/ELwork.dat\", sep= ' ', header=None)"
      ]
    },
    {
      "cell_type": "code",
      "execution_count": null,
      "metadata": {
        "id": "Goa-1DaY70QY"
      },
      "outputs": [],
      "source": [
        "mat_friendship.head()"
      ]
    },
    {
      "cell_type": "code",
      "execution_count": 21,
      "metadata": {
        "id": "OH9dm9YZ8ru6"
      },
      "outputs": [],
      "source": [
        "G_friendship = nx.from_pandas_adjacency(mat_friendship, create_using=nx.DiGraph)\n",
        "G_advice = nx.from_pandas_adjacency(mat_advice, create_using=nx.DiGraph)\n",
        "G_work = nx.from_pandas_adjacency(mat_work, create_using=nx.DiGraph)"
      ]
    },
    {
      "cell_type": "code",
      "execution_count": null,
      "metadata": {
        "id": "YAVkVn-7kLsd"
      },
      "outputs": [],
      "source": [
        "print(G_work)"
      ]
    },
    {
      "cell_type": "code",
      "execution_count": null,
      "metadata": {
        "id": "o4lHAAwP9Goe"
      },
      "outputs": [],
      "source": [
        "print(G_friendship)\n",
        "print(G_advice)\n",
        "print(G_work)"
      ]
    },
    {
      "cell_type": "code",
      "execution_count": 24,
      "metadata": {
        "id": "miuh7d9E_nG3"
      },
      "outputs": [],
      "source": [
        "attributes = pd.read_table(\"https://sds-aau.github.io/SDS-master/M2/data/LazegaLawyers/ELattr.dat\", delimiter=r\"\\s+\", header=None)"
      ]
    },
    {
      "cell_type": "code",
      "execution_count": null,
      "metadata": {
        "id": "UH8nopGQ_3HR"
      },
      "outputs": [],
      "source": [
        "attributes.head()"
      ]
    },
    {
      "cell_type": "code",
      "execution_count": 26,
      "metadata": {
        "id": "8zFKmoXi4COe"
      },
      "outputs": [],
      "source": [
        "attributes=attributes.round().astype(int)"
      ]
    },
    {
      "cell_type": "code",
      "execution_count": 27,
      "metadata": {
        "id": "Yx1K_NQnAfew"
      },
      "outputs": [],
      "source": [
        "attributes.columns = [\"id\", \"seniority\", \"gender\", \"office\", \"tenure\", \"age\", \"practice\", \"school\"]"
      ]
    },
    {
      "cell_type": "code",
      "execution_count": 28,
      "metadata": {
        "id": "AZZ5ZwpiDwvP"
      },
      "outputs": [],
      "source": [
        "attributes.set_index('id',inplace=True)"
      ]
    },
    {
      "cell_type": "code",
      "execution_count": 29,
      "metadata": {
        "id": "BvvEtfmTPx2U"
      },
      "outputs": [],
      "source": [
        "cleanup_nums = {\"seniority\":     {1: \"Partner\", 2: \"Associate\"},\n",
        "                \"gender\":     {1: \"Male\", 2: \"Female\"},\n",
        "                \"office\":     {1: \"Boston\", 2: \"Hartford\", 3:\"Providence\"},\n",
        "                \"practice\":     {1: \"Litigation\", 2: \"Corporate\"},\n",
        "                \"school\":     {1: \"Harvard, Yale\", 2: \"Ucon\", 3: \"Others\"}\n",
        "                }"
      ]
    },
    {
      "cell_type": "code",
      "execution_count": 30,
      "metadata": {
        "id": "vBnOo0PcQ7Eb"
      },
      "outputs": [],
      "source": [
        "attributes.replace(cleanup_nums, inplace=True)"
      ]
    },
    {
      "cell_type": "code",
      "execution_count": null,
      "metadata": {
        "id": "7tYBSndBAoYN"
      },
      "outputs": [],
      "source": [
        "attributes.head()"
      ]
    },
    {
      "cell_type": "code",
      "execution_count": null,
      "metadata": {
        "id": "XVdce7oftQNd"
      },
      "outputs": [],
      "source": [
        "attributes.info()"
      ]
    },
    {
      "cell_type": "code",
      "execution_count": 33,
      "metadata": {
        "id": "eLonGuH04SUz"
      },
      "outputs": [],
      "source": [
        "attributes_dict=attributes.T.to_dict()"
      ]
    },
    {
      "cell_type": "code",
      "execution_count": 34,
      "metadata": {
        "id": "ij2063dwBRLo"
      },
      "outputs": [],
      "source": [
        "nx.set_node_attributes(G_friendship, attributes_dict)\n",
        "nx.set_node_attributes(G_advice, attributes_dict)\n",
        "nx.set_node_attributes(G_work, attributes_dict)"
      ]
    },
    {
      "cell_type": "code",
      "execution_count": null,
      "metadata": {
        "id": "AHLLoXrhB_BP"
      },
      "outputs": [],
      "source": [
        "print(nx.get_node_attributes(G_friendship, 'seniority'))"
      ]
    },
    {
      "cell_type": "markdown",
      "metadata": {
        "id": "BWsWIvDeMS3o"
      },
      "source": [
        "## Calculate dimensional centralities\n",
        "\n",
        "There might be better ways to do that (still experimenting), but for now lets first create centralities upfront for all networks. We for now only look at the in-degree."
      ]
    },
    {
      "cell_type": "code",
      "execution_count": 36,
      "metadata": {
        "id": "KgkLkBk1YbXS"
      },
      "outputs": [],
      "source": [
        "cent_degree_friendship = dict(G_friendship.in_degree)\n",
        "cent_degree_advice = dict(G_advice.in_degree)\n",
        "cent_degree_work = dict(G_work.in_degree)"
      ]
    },
    {
      "cell_type": "code",
      "execution_count": 37,
      "metadata": {
        "id": "3hJAhy_yY0Xq"
      },
      "outputs": [],
      "source": [
        "nx.set_node_attributes(G_friendship, cent_degree_friendship, 'cent_degree')\n",
        "nx.set_node_attributes(G_advice, cent_degree_advice, 'cent_degree')\n",
        "nx.set_node_attributes(G_work, cent_degree_work, 'cent_degree')"
      ]
    },
    {
      "cell_type": "code",
      "execution_count": 38,
      "metadata": {
        "id": "88gPV3VKMxOT"
      },
      "outputs": [],
      "source": [
        "# Create and save a layout.\n",
        "G_layout = nx.layout.kamada_kawai_layout(G_work)"
      ]
    },
    {
      "cell_type": "code",
      "execution_count": 39,
      "metadata": {
        "id": "C6a5uk1rM8Yl"
      },
      "outputs": [],
      "source": [
        "g_plot = hv.Graph.from_networkx(G_friendship, G_layout).opts(tools=['hover'],\n",
        "                                                                        directed=True,\n",
        "                                                                        edge_alpha=0.25,\n",
        "                                                                        node_size='cent_degree',\n",
        "                                                                        #node_color='seniority', cmap='Set1',\n",
        "                                                                        legend_position='right'\n",
        "                                                                        )\n",
        "\n"
      ]
    },
    {
      "cell_type": "code",
      "execution_count": null,
      "metadata": {
        "id": "_Z7c1f69p4bX"
      },
      "outputs": [],
      "source": [
        "show(hv.render(g_plot))"
      ]
    },
    {
      "cell_type": "code",
      "execution_count": null,
      "metadata": {
        "id": "HXH5FO3BTEKz"
      },
      "outputs": [],
      "source": [
        "g_plot = hv.Graph.from_networkx(G_advice, G_layout).opts(tools=['hover'],\n",
        "                                                                        directed=True,\n",
        "                                                                        edge_alpha=0.25,\n",
        "                                                                        node_size='cent_degree',\n",
        "                                                                        #node_color='cent_degree', cmap='Set1',\n",
        "                                                                        legend_position='right')\n",
        "show(hv.render(g_plot))"
      ]
    },
    {
      "cell_type": "code",
      "execution_count": null,
      "metadata": {
        "id": "mBtSaFIEcV6D"
      },
      "outputs": [],
      "source": [
        "g_plot = hv.Graph.from_networkx(G_work, G_layout).opts(tools=['hover'],\n",
        "                                                                        directed=True,\n",
        "                                                                        edge_alpha=0.25,\n",
        "                                                                        node_size='cent_degree',\n",
        "                                                                        #node_color='seniority', cmap='Set1',\n",
        "                                                                        legend_position='right')\n",
        "show(hv.render(g_plot))"
      ]
    },
    {
      "cell_type": "markdown",
      "metadata": {
        "id": "JvmBMVQm7vnK"
      },
      "source": [
        "## Assortiativity\n",
        "\n",
        "We can also calculate another interested measure, particularly in social networks: Assortiativity. In a nutshell, it measures if two nodes that share certain characteristics ahve a higher or lower probability to be connected.\n",
        "\n",
        "For details, check:\n",
        "\n",
        "* Newman, M. E. J. (27 February 2003). \"Mixing patterns in networks\". Physical Review E. American Physical Society (APS). 67 (2): 026126"
      ]
    },
    {
      "cell_type": "code",
      "execution_count": null,
      "metadata": {
        "id": "HWKHXIc5skJL"
      },
      "outputs": [],
      "source": [
        "nx.attribute_assortativity_coefficient(G_friendship, 'seniority')"
      ]
    },
    {
      "cell_type": "code",
      "execution_count": null,
      "metadata": {
        "id": "d4gz_Wbg7UZT"
      },
      "outputs": [],
      "source": [
        "nx.attribute_assortativity_coefficient(G_friendship, 'school')"
      ]
    },
    {
      "cell_type": "code",
      "execution_count": null,
      "metadata": {
        "id": "FK9n01K47d_D"
      },
      "outputs": [],
      "source": [
        "nx.attribute_assortativity_coefficient(G_friendship, 'office')"
      ]
    },
    {
      "cell_type": "markdown",
      "metadata": {
        "id": "MbOzP1X_71pH"
      },
      "source": [
        "## Reciprocity\n",
        "\n",
        "Anotyher interesting question usually is, if directed edges are reciptocated, meaning that an edge between `i,j` makes an edge between `j,i` more likely"
      ]
    },
    {
      "cell_type": "code",
      "execution_count": null,
      "metadata": {
        "id": "unMN2vQp7_Ka"
      },
      "outputs": [],
      "source": [
        "nx.overall_reciprocity(G_friendship)"
      ]
    },
    {
      "cell_type": "code",
      "execution_count": null,
      "metadata": {
        "id": "sp1JaIx48Evn"
      },
      "outputs": [],
      "source": [
        "nx.overall_reciprocity(G_advice)"
      ]
    },
    {
      "cell_type": "code",
      "execution_count": null,
      "metadata": {
        "id": "lreN0u1g8FGH"
      },
      "outputs": [],
      "source": [
        "nx.overall_reciprocity(G_work)"
      ]
    }
  ],
  "metadata": {
    "colab": {
      "provenance": [],
      "toc_visible": true
    },
    "kernelspec": {
      "display_name": "Python 3.11 (SDS24)",
      "language": "python",
      "name": "sds24"
    },
    "language_info": {
      "codemirror_mode": {
        "name": "ipython",
        "version": 3
      },
      "file_extension": ".py",
      "mimetype": "text/x-python",
      "name": "python",
      "nbconvert_exporter": "python",
      "pygments_lexer": "ipython3",
      "version": "3.12.6"
    }
  },
  "nbformat": 4,
  "nbformat_minor": 0
}
