{
  "cells": [
    {
      "cell_type": "markdown",
      "metadata": {
        "id": "L8p_G1FNbQ90"
      },
      "source": [
        "# Similarity and Bipartite Networks with Python and NetworkX\n",
        "This notebook is an introduction to the concept and syntax around similarity and bipartite networks\n"
      ]
    },
    {
      "cell_type": "code",
      "execution_count": null,
      "metadata": {
        "colab": {
          "base_uri": "https://localhost:8080/"
        },
        "id": "wotnVrThDiDV",
        "outputId": "e349f260-1227-4588-bc7c-b5f889a25527"
      },
      "outputs": [],
      "source": [
        "# Packaging\n",
        "import pandas as pd\n",
        "import seaborn as sns\n",
        "import networkx as nx\n",
        "import numpy as np\n",
        "\n",
        "import matplotlib.pyplot as plt\n",
        "\n",
        "from sklearn.metrics.pairwise import cosine_distances\n",
        "\n",
        "sns.set(color_codes=True, rc={'figure.figsize':(10,8)})\n",
        "\n",
        "# Adittional dataviz\n",
        "#pip install -U nxviz -qq\n",
        "import nxviz as nv"
      ]
    },
    {
      "cell_type": "markdown",
      "metadata": {
        "id": "YcV54Ac-pq1l"
      },
      "source": [
        "## Similarity networks\n",
        "\n",
        "Can be constructed by mapping similarity between all observarions.\n",
        "Here we are going to use cosine distances"
      ]
    },
    {
      "cell_type": "code",
      "execution_count": 2,
      "metadata": {
        "id": "0ITo1s37EXin"
      },
      "outputs": [],
      "source": [
        "# load cars data\n",
        "data = pd.read_csv('https://gist.githubusercontent.com/ZeccaLehn/4e06d2575eb9589dbe8c365d61cb056c/raw/64f1660f38ef523b2a1a13be77b002b98665cdfe/mtcars.csv')"
      ]
    },
    {
      "cell_type": "code",
      "execution_count": null,
      "metadata": {
        "colab": {
          "base_uri": "https://localhost:8080/",
          "height": 206
        },
        "id": "UBPUICsYqji8",
        "outputId": "56fc646c-d3d3-41db-ec3e-ccfded455224"
      },
      "outputs": [],
      "source": [
        "data.head()\n"
      ]
    },
    {
      "cell_type": "code",
      "execution_count": null,
      "metadata": {},
      "outputs": [],
      "source": [
        "# in dataset we have 32 cars with 12 variables (first is name)\n",
        "data.shape"
      ]
    },
    {
      "cell_type": "code",
      "execution_count": 5,
      "metadata": {
        "id": "tf06ZvO-pcy8"
      },
      "outputs": [],
      "source": [
        "# Scale values\n",
        "\n",
        "from sklearn.preprocessing import MinMaxScaler\n",
        "scl = MinMaxScaler()\n",
        "\n",
        "data_num = scl.fit_transform(data.iloc[:,1:])"
      ]
    },
    {
      "cell_type": "code",
      "execution_count": null,
      "metadata": {},
      "outputs": [],
      "source": [
        "data_num[0]"
      ]
    },
    {
      "cell_type": "code",
      "execution_count": 7,
      "metadata": {
        "id": "e8h-6A5EHsut"
      },
      "outputs": [],
      "source": [
        "# Calculate distances into a square matrix\n",
        "dist = cosine_distances(data_num,data_num)"
      ]
    },
    {
      "cell_type": "code",
      "execution_count": null,
      "metadata": {},
      "outputs": [],
      "source": [
        "dist[0]"
      ]
    },
    {
      "cell_type": "code",
      "execution_count": null,
      "metadata": {
        "colab": {
          "base_uri": "https://localhost:8080/",
          "height": 699
        },
        "id": "XyXB95qDqJIq",
        "outputId": "4842f6fb-5024-4de8-c738-417a9539ea32"
      },
      "outputs": [],
      "source": [
        "pd.Series(dist.flatten()).hist()"
      ]
    },
    {
      "cell_type": "code",
      "execution_count": null,
      "metadata": {
        "colab": {
          "base_uri": "https://localhost:8080/"
        },
        "id": "aTgUkUrUn7Xu",
        "outputId": "206de313-c391-4da4-e2d5-55dd88d3b164"
      },
      "outputs": [],
      "source": [
        "1-dist"
      ]
    },
    {
      "cell_type": "code",
      "execution_count": 11,
      "metadata": {
        "id": "iwhE5zefJKBo"
      },
      "outputs": [],
      "source": [
        "# calculate a cutoff (for a less crowded network)\n",
        "perc = np.percentile(1-dist, 60)"
      ]
    },
    {
      "cell_type": "code",
      "execution_count": 12,
      "metadata": {
        "id": "2m7XsmVgHvvX"
      },
      "outputs": [],
      "source": [
        "# create NW\n",
        "G = nx.from_numpy_array(1-dist)"
      ]
    },
    {
      "cell_type": "code",
      "execution_count": 13,
      "metadata": {
        "id": "Ggc2CW8QuXsj"
      },
      "outputs": [],
      "source": [
        "G.remove_edges_from(nx.selfloop_edges(G))"
      ]
    },
    {
      "cell_type": "code",
      "execution_count": 14,
      "metadata": {
        "id": "K2HrF1kYNy85"
      },
      "outputs": [],
      "source": [
        "# add names\n",
        "\n",
        "attributes_dict=data.iloc[:,0].T.to_dict()\n",
        "nx.set_node_attributes(G, attributes_dict, 'model')"
      ]
    },
    {
      "cell_type": "code",
      "execution_count": null,
      "metadata": {
        "colab": {
          "base_uri": "https://localhost:8080/"
        },
        "id": "JuUyoeFsJ6Ih",
        "outputId": "d6437d9b-4d7c-4f77-b16c-717f0e6f3338"
      },
      "outputs": [],
      "source": [
        "print(G)"
      ]
    },
    {
      "cell_type": "code",
      "execution_count": 16,
      "metadata": {
        "id": "827-XxQOJbUF"
      },
      "outputs": [],
      "source": [
        "# Get rid of low-weight edges\n",
        "G_sub = nx.edge_subgraph(G, [(u,v) for u,v,d in G.edges(data=True) if d['weight'] > perc])"
      ]
    },
    {
      "cell_type": "code",
      "execution_count": null,
      "metadata": {
        "colab": {
          "base_uri": "https://localhost:8080/"
        },
        "id": "2V3xIRWFJ-Aq",
        "outputId": "75670494-ec47-426e-c179-f5b731cb943a"
      },
      "outputs": [],
      "source": [
        "print(G_sub)"
      ]
    },
    {
      "cell_type": "code",
      "execution_count": 18,
      "metadata": {
        "id": "yayZ2ldoIYgY"
      },
      "outputs": [],
      "source": [
        "# identify communities (optional)\n",
        "import community.community_louvain as community_louvain\n",
        "\n",
        "partition = community_louvain.best_partition(G_sub)\n",
        "nx.set_node_attributes(G_sub, partition, 'partition')"
      ]
    },
    {
      "cell_type": "code",
      "execution_count": null,
      "metadata": {
        "colab": {
          "base_uri": "https://localhost:8080/",
          "height": 836
        },
        "id": "TBg_L8HlIwT_",
        "outputId": "f9123d2c-4e98-4136-c7ed-aab5983f8a13"
      },
      "outputs": [],
      "source": [
        "nx.draw_kamada_kawai(G_sub,\n",
        "               node_color=list(partition.values()),\n",
        "               with_labels = True,\n",
        "               labels=attributes_dict,\n",
        "               font_color='r')"
      ]
    },
    {
      "cell_type": "code",
      "execution_count": 20,
      "metadata": {
        "colab": {
          "base_uri": "https://localhost:8080/"
        },
        "id": "MneCHiseLAka",
        "outputId": "5a62c33f-b847-4dcc-80c3-a72f3bb033a4"
      },
      "outputs": [],
      "source": [
        "# For visualization\n",
        "#!pip install -U bokeh -qq\n",
        "#!pip install -q holoviews -qq"
      ]
    },
    {
      "cell_type": "code",
      "execution_count": null,
      "metadata": {
        "colab": {
          "base_uri": "https://localhost:8080/",
          "height": 42
        },
        "id": "9c-mHKn8NNZi",
        "outputId": "b8a4979f-ea83-4fab-c939-3909e7ec8676"
      },
      "outputs": [],
      "source": [
        "# Import the libraries and link to the bokeh backend\n",
        "import holoviews as hv\n",
        "from holoviews import opts\n",
        "hv.extension('bokeh')\n",
        "from bokeh.plotting import show\n",
        "\n",
        "# Setting the default figure size a bit larger\n",
        "defaults = dict(width=750, height=750, padding=0.1,\n",
        "                xaxis=None, yaxis=None)\n",
        "hv.opts.defaults(\n",
        "    opts.EdgePaths(**defaults), opts.Graph(**defaults), opts.Nodes(**defaults))"
      ]
    },
    {
      "cell_type": "code",
      "execution_count": null,
      "metadata": {
        "colab": {
          "base_uri": "https://localhost:8080/",
          "height": 767
        },
        "id": "VvaovQjjOJ3v",
        "outputId": "0887ff60-fd3a-4112-928a-f293ad16206f"
      },
      "outputs": [],
      "source": [
        "graph = hv.Graph.from_networkx(G_sub, nx.layout.fruchterman_reingold_layout).opts(\n",
        "                                                                        tools=['hover'],\n",
        "                                                                        #directed=True,\n",
        "                                                                        edge_alpha=0.2,\n",
        "                                                                        #node_size='cent_degree',\n",
        "                                                                        node_color='partition', cmap='Set1',\n",
        "                                                                        legend_position='right'\n",
        "                                                                        )\n",
        "\n",
        "labels = hv.Labels(graph.nodes, ['x', 'y'], 'model')\n",
        "\n",
        "show(hv.render((graph * labels.opts(text_font_size='8pt', text_color='black', bgcolor='white'))))"
      ]
    },
    {
      "cell_type": "markdown",
      "metadata": {
        "id": "NbBUlIqKscn7"
      },
      "source": [
        "# Multi-modal networks\n"
      ]
    },
    {
      "cell_type": "markdown",
      "metadata": {
        "id": "7IhBLLexCOPh"
      },
      "source": [
        "## What's that?\n",
        "Now its time to talk about an interesting type of networks, multi-modal. This means, a network has several \"modes\", meaning connects entities on different conceptual levels. The most commone one is a **2-mode** (or **bipartite**) network.\n",
        "\n",
        "Examples could be an\n",
        "\n",
        "* Author $\\rightarrow$ Paper\n",
        "* Inventor $\\rightarrow$ Patent\n",
        "* Member $\\rightarrow$ Club network.\n",
        "\n",
        "Here, the elements in the different modes represent different things. In interesting real-life research examples you find 2-mode networks for instance in co-occurence (2 actors mentioned in the same news-article), co-affiliation (2 actors are member of the same association), or co-characteristics (2 actors both like to talk about a certain topic on twitter)."
      ]
    },
    {
      "cell_type": "markdown",
      "metadata": {
        "id": "1rVL3iyWCOmY"
      },
      "source": [
        "## Network Projections\n",
        "\n",
        "Two-mode networks are rarely analysed in their original form. Although this is preferable, few methods exist for that purpose. As such, these networks are often transformed into one-mode networks (only one type of nodes) to be analysed. This procedure is often referred to as projection. Projection is done by selecting one of the sets of nodes and linking two nodes from that set if they were connected to the same node (of the other kind).\n",
        "\n",
        "We can alalyse them in sepperation (and sometimes we should), but often its helpful to *project* them onto one mode. Here, we create a node in one mode by joint association with another mode.\n",
        "\n",
        "2-mode\n",
        "\n",
        "![](https://toreopsahl.files.wordpress.com/2009/04/fig1_twomode_half.png)\n",
        "\n",
        "1-mode\n",
        "\n",
        "![](https://toreopsahl.files.wordpress.com/2009/04/fig1_twomode_simple.png)\n",
        "\n",
        "In my field, that often happens with scientometric data such as publications, but also patents or policy reports. Conceptually, we can see them as 2 mode networks, between articles and their reference.\n",
        "\n",
        "\n",
        "![](https://www.dropbox.com/s/e4vnq7kh24pyu0t/networks_2mode.png?dl=1)\n",
        "\n",
        "Particularly in citation networks, we can also use the implicite 2-mode structure of $Publications \\rightarrow Citation$\n",
        "\n",
        "That helps us to apply some interesting metrics, such as:\n",
        "\n",
        "* direct citations\n",
        "* Bibliographic coupling\n",
        "* Co--citations\n",
        "\n",
        "Interestingly, different projections of this 2-mode network give the whole resulting 1-mode network a different meaning.\n",
        "\n",
        "![](https://www.dropbox.com/s/f8g8nr83lucvpqx/networks_biblio.png?dl=1)\n",
        "\n",
        "For an application, check:\n",
        "\n",
        "* Rakas, M., & Hain, D. S. (2019). The state of innovation system research: What happens beneath the surface?. Research Policy.\n",
        "\n"
      ]
    },
    {
      "cell_type": "markdown",
      "metadata": {
        "id": "S92TTSjSr2jD"
      },
      "source": [
        "## Weighted Network Projection\n",
        "\n",
        "In a similar spirit as the method used by Newman (2001), it is also possible to discount for the number of nodes when projecting weighted two-mode networks.\n",
        "\n",
        "\n",
        " For example, it could be argued that if many online users post to a thread, their ties should be weaker than if there were few people posting to the thread. A straight forward generalisation is the following function: $w_{ij} = \\sum_p \\frac{w_{i,p}}{N_p - 1}$.\n",
        "\n",
        " This formula would create a directed one-mode network in which the out-strength of a node is equal to the sum of the weights attached to the ties in the two-mode network that originated from that node. For example, node C has a tie with a weight of 5 in the two-mode network and an out-strength of 5 in the one-mode projection.\n",
        "\n",
        "![](https://toreopsahl.files.wordpress.com/2009/04/fig1_twomode_forum_newman2001.png)\n",
        "\n",
        "* Newman, M. E. J., 2001. Scientific collaboration networks. II. Shortest paths, weighted networks, and centrality. Physical Review E 64, 016132."
      ]
    },
    {
      "cell_type": "markdown",
      "metadata": {
        "id": "XS0fD5Y-kB44"
      },
      "source": [
        "## Example"
      ]
    },
    {
      "cell_type": "code",
      "execution_count": 23,
      "metadata": {
        "id": "dhpzbSr0Rq6G"
      },
      "outputs": [],
      "source": [
        "people = ['Jesper', 'Pernille', 'Morten', 'Lise', 'Christian', 'Mette', 'Casper', 'Dorte', 'Jacob', 'Helle']\n",
        "places = ['Yoga House', 'Crossfit', 'Jazz Club', 'Jomfru Anne Gade', 'IsBjorn Sauna', 'Kajak klub', 'MusicHus']"
      ]
    },
    {
      "cell_type": "code",
      "execution_count": 24,
      "metadata": {
        "id": "dTGlnLtTS4Wk"
      },
      "outputs": [],
      "source": [
        "# some more imports that will be useful\n",
        "from networkx.algorithms import bipartite\n",
        "import itertools\n",
        "import random"
      ]
    },
    {
      "cell_type": "code",
      "execution_count": 25,
      "metadata": {
        "id": "vqDs1rawSZqG"
      },
      "outputs": [],
      "source": [
        "# Creating a random bipartite network of people and places\n",
        "combinations = list(itertools.product(people, places))\n",
        "connections = random.sample(combinations, 20)"
      ]
    },
    {
      "cell_type": "code",
      "execution_count": 26,
      "metadata": {
        "id": "Brmd71yGT-2p"
      },
      "outputs": [],
      "source": [
        "c0 = set([c[0] for c in connections])\n",
        "c1 = set([c[1] for c in connections])"
      ]
    },
    {
      "cell_type": "code",
      "execution_count": 27,
      "metadata": {
        "id": "MmNmKhZmT3WY"
      },
      "outputs": [],
      "source": [
        "B = nx.Graph()"
      ]
    },
    {
      "cell_type": "code",
      "execution_count": 28,
      "metadata": {
        "id": "ZGmNfVXET5f8"
      },
      "outputs": [],
      "source": [
        "# add nodes and edges in their modes\n",
        "B.add_nodes_from(c0, bipartite=0)\n",
        "B.add_nodes_from(c1, bipartite=1)\n",
        "B.add_edges_from(connections)"
      ]
    },
    {
      "cell_type": "code",
      "execution_count": null,
      "metadata": {
        "colab": {
          "base_uri": "https://localhost:8080/",
          "height": 836
        },
        "id": "exAy3SSXVL_7",
        "outputId": "d8947602-787e-4344-f2d6-e0c2c4dc219c"
      },
      "outputs": [],
      "source": [
        "# very clunky visualization of 2-mode networks (unfortunately)\n",
        "l, r = nx.bipartite.sets(B)\n",
        "pos = {}\n",
        "\n",
        "# Update position for node from each group\n",
        "pos.update((node, (1, index)) for index, node in enumerate(l))\n",
        "pos.update((node, (2, index)) for index, node in enumerate(r))\n",
        "\n",
        "nx.draw(B, pos=pos, with_labels=True)\n",
        "plt.show()"
      ]
    },
    {
      "cell_type": "code",
      "execution_count": 30,
      "metadata": {
        "id": "ytgplW4nVydH"
      },
      "outputs": [],
      "source": [
        "# projecting onto people\n",
        "B_people = bipartite.weighted_projected_graph(B, c0)"
      ]
    },
    {
      "cell_type": "code",
      "execution_count": 31,
      "metadata": {
        "id": "FA24DWS-WTPY"
      },
      "outputs": [],
      "source": [
        "# projecting onto places\n",
        "B_places = bipartite.weighted_projected_graph(B, c1)"
      ]
    },
    {
      "cell_type": "code",
      "execution_count": null,
      "metadata": {
        "colab": {
          "base_uri": "https://localhost:8080/",
          "height": 836
        },
        "id": "TMlitTPUWcBY",
        "outputId": "bb850e07-9880-491f-e2fa-1b14890a5ca6"
      },
      "outputs": [],
      "source": [
        "nx.draw(B_people, with_labels=True)"
      ]
    },
    {
      "cell_type": "code",
      "execution_count": null,
      "metadata": {
        "colab": {
          "base_uri": "https://localhost:8080/",
          "height": 836
        },
        "id": "YafCnRzOWhoc",
        "outputId": "cf09b4c5-f27d-448b-fea0-12e51d30dd41"
      },
      "outputs": [],
      "source": [
        "nx.draw(B_places, with_labels=True)"
      ]
    },
    {
      "cell_type": "markdown",
      "metadata": {
        "id": "kq4G5-C_kV6h"
      },
      "source": [
        "## Network projection options"
      ]
    },
    {
      "cell_type": "code",
      "execution_count": 34,
      "metadata": {
        "id": "Mf8inmy9WuL-"
      },
      "outputs": [],
      "source": [
        "# pull edges\n",
        "edges_df = nx.to_pandas_edgelist(B)"
      ]
    },
    {
      "cell_type": "code",
      "execution_count": null,
      "metadata": {
        "colab": {
          "base_uri": "https://localhost:8080/",
          "height": 519
        },
        "id": "nQkPKA06xeQj",
        "outputId": "ef62800a-9359-472c-8589-f40cbdc025a9"
      },
      "outputs": [],
      "source": [
        "edges_df"
      ]
    },
    {
      "cell_type": "code",
      "execution_count": 36,
      "metadata": {
        "id": "2Zw6MR3sXqvZ"
      },
      "outputs": [],
      "source": [
        "# create matrix from edges\n",
        "adj_df = pd.crosstab(edges_df.source, edges_df.target)"
      ]
    },
    {
      "cell_type": "code",
      "execution_count": null,
      "metadata": {
        "colab": {
          "base_uri": "https://localhost:8080/",
          "height": 363
        },
        "id": "NnNn0k7rxkhH",
        "outputId": "4788f4bb-d849-45ad-bed7-7c865d37ccee"
      },
      "outputs": [],
      "source": [
        "adj_df"
      ]
    },
    {
      "cell_type": "code",
      "execution_count": null,
      "metadata": {
        "colab": {
          "base_uri": "https://localhost:8080/",
          "height": 363
        },
        "id": "4GR-7hHXYV2B",
        "outputId": "7a993752-9522-432b-e6c9-45a637f2b671"
      },
      "outputs": [],
      "source": [
        "# Projecting with dot-product as alternative\n",
        "pd.DataFrame(np.dot(adj_df, adj_df.T),\n",
        "             index=adj_df.index,\n",
        "             columns=adj_df.index)"
      ]
    },
    {
      "cell_type": "code",
      "execution_count": null,
      "metadata": {
        "colab": {
          "base_uri": "https://localhost:8080/",
          "height": 331
        },
        "id": "JMsvPsKcYnDJ",
        "outputId": "b9413029-3d72-4abb-b9b7-ad84302e8834"
      },
      "outputs": [],
      "source": [
        "# with ns\n",
        "nx.to_pandas_adjacency(B_people)"
      ]
    },
    {
      "cell_type": "code",
      "execution_count": 40,
      "metadata": {},
      "outputs": [],
      "source": [
        "centrality_dgr = nx.degree_centrality(B_people)\n",
        "centrality_eigen = nx.eigenvector_centrality_numpy(B_people, weight='weight')\n",
        "centrality_between = nx.betweenness_centrality(B_people, weight='weight')"
      ]
    },
    {
      "cell_type": "code",
      "execution_count": null,
      "metadata": {},
      "outputs": [],
      "source": [
        "# Sort the centrality dictionary from highest to lowest\n",
        "sorted_centrality = sorted(centrality_dgr.items(), key=lambda x: x[1], reverse=True)\n",
        "\n",
        "# Print the sorted centrality values\n",
        "print(\"Degree Centrality (from highest to lowest):\")\n",
        "for node, centrality in sorted_centrality:\n",
        "    print(f\"{node}: {centrality:.4f}\")"
      ]
    },
    {
      "cell_type": "code",
      "execution_count": null,
      "metadata": {},
      "outputs": [],
      "source": [
        "# Sort the centrality dictionary from highest to lowest\n",
        "sorted_centrality = sorted(centrality_eigen.items(), key=lambda x: x[1], reverse=True)\n",
        "\n",
        "# Print the sorted centrality values\n",
        "print(\"Eigenvector centrality (from highest to lowest):\")\n",
        "for node, centrality in sorted_centrality:\n",
        "    print(f\"{node}: {centrality:.4f}\")"
      ]
    },
    {
      "cell_type": "code",
      "execution_count": null,
      "metadata": {},
      "outputs": [],
      "source": [
        "# Sort the centrality dictionary from highest to lowest\n",
        "sorted_between = sorted(centrality_between.items(), key=lambda x: x[1], reverse=True)\n",
        "\n",
        "# Print the sorted centrality values\n",
        "print(\"Eigenvector centrality (from highest to lowest):\")\n",
        "for node, centrality in sorted_between:\n",
        "    print(f\"{node}: {centrality:.4f}\")"
      ]
    }
  ],
  "metadata": {
    "colab": {
      "provenance": [],
      "toc_visible": true
    },
    "kernelspec": {
      "display_name": "Python 3.11 (SDS24)",
      "language": "python",
      "name": "sds24"
    },
    "language_info": {
      "codemirror_mode": {
        "name": "ipython",
        "version": 3
      },
      "file_extension": ".py",
      "mimetype": "text/x-python",
      "name": "python",
      "nbconvert_exporter": "python",
      "pygments_lexer": "ipython3",
      "version": "3.12.6"
    }
  },
  "nbformat": 4,
  "nbformat_minor": 0
}
