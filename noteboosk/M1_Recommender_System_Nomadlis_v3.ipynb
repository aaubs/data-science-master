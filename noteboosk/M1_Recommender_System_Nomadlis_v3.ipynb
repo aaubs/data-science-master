{
  "cells": [
    {
      "cell_type": "markdown",
      "metadata": {
        "id": "view-in-github",
        "colab_type": "text"
      },
      "source": [
        "<a href=\"https://colab.research.google.com/github/aaubs/ds-master/blob/main/noteboosk/M1_Recommender_System_Nomadlis_v3.ipynb\" target=\"_parent\"><img src=\"https://colab.research.google.com/assets/colab-badge.svg\" alt=\"Open In Colab\"/></a>"
      ]
    },
    {
      "cell_type": "markdown",
      "metadata": {
        "id": "wOVR2z0B4ZIf"
      },
      "source": [
        "#Building a Recommender System in Python\n",
        "\n"
      ]
    },
    {
      "cell_type": "markdown",
      "metadata": {
        "id": "TvbEdZ4gRnho"
      },
      "source": [
        "In today's information age, we are bombarded with choices. We have access to millions of products, movies, music, and articles, but it can be overwhelming to know where to start. Recommender systems help us to navigate this information overload by providing us with personalized recommendations based on our interests and past behavior.\n",
        "\n"
      ]
    },
    {
      "cell_type": "code",
      "source": [
        "%%html\n",
        "\n",
        "<iframe width=\"1280\" height=\"720\" src=\"https://www.youtube.com/embed/hqFHAnkSP2U\" title=\"Netflix Quick Guide: How Does Netflix Make TV Show and Movie Suggestions? | Netflix\" frameborder=\"0\" allow=\"accelerometer; autoplay; clipboard-write; encrypted-media; gyroscope; picture-in-picture; web-share\" allowfullscreen></iframe>"
      ],
      "metadata": {
        "colab": {
          "base_uri": "https://localhost:8080/",
          "height": 761
        },
        "id": "Gdg_cDklJp0j",
        "outputId": "e4d45405-b135-4fc6-e483-1f19fe3933a5"
      },
      "execution_count": null,
      "outputs": [
        {
          "output_type": "display_data",
          "data": {
            "text/plain": [
              "<IPython.core.display.HTML object>"
            ],
            "text/html": [
              "\n",
              "<iframe width=\"1280\" height=\"720\" src=\"https://www.youtube.com/embed/hqFHAnkSP2U\" title=\"Netflix Quick Guide: How Does Netflix Make TV Show and Movie Suggestions? | Netflix\" frameborder=\"0\" allow=\"accelerometer; autoplay; clipboard-write; encrypted-media; gyroscope; picture-in-picture; web-share\" allowfullscreen></iframe>\n"
            ]
          },
          "metadata": {}
        }
      ]
    },
    {
      "cell_type": "markdown",
      "metadata": {
        "id": "249T0I9tM7OK"
      },
      "source": [
        "####**Question 1: What Are the Different Types of Recommender Systems?**\n",
        "\n",
        "Recommender systems can be broadly categorized into the following types, each with its own advantages and disadvantages:\n",
        "\n",
        "- Collaborative Filtering:\n",
        "  *   User-Based: Recommends items based on the similarities between users. If Alice and Bob like the same movies, then the movies liked by Alice will be recommended to Bob and vice versa.\n",
        "  *   Item-Based: Recommends items that are similar to a given item. For example, if you liked the movie \"Inception,\" you might also like other sci-fi thrillers.\n",
        "\n",
        "\n",
        "- Content-Based Filtering:\n",
        "   - Recommends items by comparing the content of the items and a user profile, with content described in terms of several descriptors or terms that are inherent to the item.\n"
      ]
    },
    {
      "cell_type": "markdown",
      "metadata": {
        "id": "k4gYUZnltxbU"
      },
      "source": [
        "![image.png](https://raw.githubusercontent.com/aaubs/ds-master/main/data/recommendation_sys_1.png)"
      ]
    },
    {
      "cell_type": "markdown",
      "metadata": {
        "id": "5j6nZ3jCQTLG"
      },
      "source": [
        "##1. Data Preprocessing\n",
        "###1.1 Load Data\n",
        "The first step in any data analysis or machine learning project is to load the data. We'll use the Pandas library for this purpose. We've already loaded the data, but let's do it again for the sake of the tutorial.\n",
        "\n",
        "Here's how you can load a CSV file using Pandas:"
      ]
    },
    {
      "cell_type": "code",
      "execution_count": null,
      "metadata": {
        "id": "XduUwun14XBz"
      },
      "outputs": [],
      "source": [
        "# Importing necessary libraries.\n",
        "import pandas as pd\n",
        "\n",
        "df_trips = pd.read_csv('https://sds-aau.github.io/SDS-master/M1/data/trips.csv')"
      ]
    },
    {
      "cell_type": "markdown",
      "metadata": {
        "id": "ccumFWKlQhl8"
      },
      "source": [
        "###1.2 Handle Missing Values\n",
        "Before we proceed, it's crucial to handle any missing values in the dataset. Missing values can affect the performance and reliability of the model. Let's check for missing values and handle them appropriately."
      ]
    },
    {
      "cell_type": "code",
      "execution_count": null,
      "metadata": {
        "colab": {
          "base_uri": "https://localhost:8080/"
        },
        "id": "9YND3XLxQeb6",
        "outputId": "4d42e052-dc22-4e88-fb28-65120c5cedc1"
      },
      "outputs": [
        {
          "output_type": "execute_result",
          "data": {
            "text/plain": [
              "Unnamed: 0        0\n",
              "username          0\n",
              "country          37\n",
              "country_code    601\n",
              "country_slug     37\n",
              "date_end        175\n",
              "date_start        0\n",
              "latitude          0\n",
              "longitude         0\n",
              "place             0\n",
              "place_slug       37\n",
              "dtype: int64"
            ]
          },
          "metadata": {},
          "execution_count": 95
        }
      ],
      "source": [
        "# Check for missing values\n",
        "df_trips.isnull().sum()"
      ]
    },
    {
      "cell_type": "code",
      "execution_count": null,
      "metadata": {
        "id": "JRAd4FzRnbXe"
      },
      "outputs": [],
      "source": [
        "# Handling missing values.\n",
        "df_trips.date_end.fillna(method='ffill', inplace=True)"
      ]
    },
    {
      "cell_type": "code",
      "execution_count": null,
      "metadata": {
        "colab": {
          "base_uri": "https://localhost:8080/"
        },
        "id": "qRqOIeAPnt22",
        "outputId": "d70d0a8e-8fb1-459d-82f3-55dbb6a1b2d6"
      },
      "outputs": [
        {
          "output_type": "execute_result",
          "data": {
            "text/plain": [
              "Unnamed: 0        0\n",
              "username          0\n",
              "country          37\n",
              "country_code    601\n",
              "country_slug     37\n",
              "date_end          0\n",
              "date_start        0\n",
              "latitude          0\n",
              "longitude         0\n",
              "place             0\n",
              "place_slug       37\n",
              "dtype: int64"
            ]
          },
          "metadata": {},
          "execution_count": 97
        }
      ],
      "source": [
        "# Check for missing values\n",
        "df_trips.isnull().sum()"
      ]
    },
    {
      "cell_type": "markdown",
      "metadata": {
        "id": "aO7twPx3Qyqn"
      },
      "source": [
        "If any columns have missing values, you can choose to either remove those rows or fill them with a specific value, such as the mean or median.\n",
        "\n",
        "###1.3 Convert Date Columns to DateTime Objects\n",
        "For easier manipulation and analysis, it's beneficial to convert date columns into DateTime objects."
      ]
    },
    {
      "cell_type": "code",
      "execution_count": null,
      "metadata": {
        "id": "w0yFs5MyQp9o"
      },
      "outputs": [],
      "source": [
        "# Convert date columns to DateTime objects\n",
        "\n",
        "df_trips['date_start'] = pd.to_datetime(df_trips['date_start'], errors='coerce')\n",
        "df_trips['date_end'] = pd.to_datetime(df_trips['date_end'], errors='coerce')"
      ]
    },
    {
      "cell_type": "markdown",
      "metadata": {
        "id": "wK5CkatvRBVL"
      },
      "source": [
        "###1.4 Data Exploration\n",
        "After cleaning the data, it's helpful to perform some initial exploratory data analysis (EDA) to understand the dataset's characteristics.\n",
        "\n",
        "\n",
        "For example, you could use .describe() to get summary statistics or .value_counts() to understand the distribution of categorical variables."
      ]
    },
    {
      "cell_type": "code",
      "execution_count": null,
      "metadata": {
        "colab": {
          "base_uri": "https://localhost:8080/",
          "height": 143
        },
        "id": "ZOXHrNTbQ8dL",
        "outputId": "5cac5bac-d142-4d5d-fcd2-64e6fc2b9bfb"
      },
      "outputs": [
        {
          "output_type": "execute_result",
          "data": {
            "text/plain": [
              "              count          mean           std    min       25%      50%  \\\n",
              "Unnamed: 0  46510.0  23254.500000  13426.424847    0.0  11627.25  23254.5   \n",
              "latitude    46510.0     28.931477     23.551976  -79.0     14.00     37.0   \n",
              "longitude   46510.0     11.912750     78.767316 -175.0    -68.00      9.0   \n",
              "\n",
              "                 75%      max  \n",
              "Unnamed: 0  34881.75  46509.0  \n",
              "latitude       47.00     78.0  \n",
              "longitude      98.00    178.0  "
            ],
            "text/html": [
              "\n",
              "  <div id=\"df-2182f8b0-5c7d-4ca9-b2f5-7f8c1ced2c53\" class=\"colab-df-container\">\n",
              "    <div>\n",
              "<style scoped>\n",
              "    .dataframe tbody tr th:only-of-type {\n",
              "        vertical-align: middle;\n",
              "    }\n",
              "\n",
              "    .dataframe tbody tr th {\n",
              "        vertical-align: top;\n",
              "    }\n",
              "\n",
              "    .dataframe thead th {\n",
              "        text-align: right;\n",
              "    }\n",
              "</style>\n",
              "<table border=\"1\" class=\"dataframe\">\n",
              "  <thead>\n",
              "    <tr style=\"text-align: right;\">\n",
              "      <th></th>\n",
              "      <th>count</th>\n",
              "      <th>mean</th>\n",
              "      <th>std</th>\n",
              "      <th>min</th>\n",
              "      <th>25%</th>\n",
              "      <th>50%</th>\n",
              "      <th>75%</th>\n",
              "      <th>max</th>\n",
              "    </tr>\n",
              "  </thead>\n",
              "  <tbody>\n",
              "    <tr>\n",
              "      <th>Unnamed: 0</th>\n",
              "      <td>46510.0</td>\n",
              "      <td>23254.500000</td>\n",
              "      <td>13426.424847</td>\n",
              "      <td>0.0</td>\n",
              "      <td>11627.25</td>\n",
              "      <td>23254.5</td>\n",
              "      <td>34881.75</td>\n",
              "      <td>46509.0</td>\n",
              "    </tr>\n",
              "    <tr>\n",
              "      <th>latitude</th>\n",
              "      <td>46510.0</td>\n",
              "      <td>28.931477</td>\n",
              "      <td>23.551976</td>\n",
              "      <td>-79.0</td>\n",
              "      <td>14.00</td>\n",
              "      <td>37.0</td>\n",
              "      <td>47.00</td>\n",
              "      <td>78.0</td>\n",
              "    </tr>\n",
              "    <tr>\n",
              "      <th>longitude</th>\n",
              "      <td>46510.0</td>\n",
              "      <td>11.912750</td>\n",
              "      <td>78.767316</td>\n",
              "      <td>-175.0</td>\n",
              "      <td>-68.00</td>\n",
              "      <td>9.0</td>\n",
              "      <td>98.00</td>\n",
              "      <td>178.0</td>\n",
              "    </tr>\n",
              "  </tbody>\n",
              "</table>\n",
              "</div>\n",
              "    <div class=\"colab-df-buttons\">\n",
              "\n",
              "  <div class=\"colab-df-container\">\n",
              "    <button class=\"colab-df-convert\" onclick=\"convertToInteractive('df-2182f8b0-5c7d-4ca9-b2f5-7f8c1ced2c53')\"\n",
              "            title=\"Convert this dataframe to an interactive table.\"\n",
              "            style=\"display:none;\">\n",
              "\n",
              "  <svg xmlns=\"http://www.w3.org/2000/svg\" height=\"24px\" viewBox=\"0 -960 960 960\">\n",
              "    <path d=\"M120-120v-720h720v720H120Zm60-500h600v-160H180v160Zm220 220h160v-160H400v160Zm0 220h160v-160H400v160ZM180-400h160v-160H180v160Zm440 0h160v-160H620v160ZM180-180h160v-160H180v160Zm440 0h160v-160H620v160Z\"/>\n",
              "  </svg>\n",
              "    </button>\n",
              "\n",
              "  <style>\n",
              "    .colab-df-container {\n",
              "      display:flex;\n",
              "      gap: 12px;\n",
              "    }\n",
              "\n",
              "    .colab-df-convert {\n",
              "      background-color: #E8F0FE;\n",
              "      border: none;\n",
              "      border-radius: 50%;\n",
              "      cursor: pointer;\n",
              "      display: none;\n",
              "      fill: #1967D2;\n",
              "      height: 32px;\n",
              "      padding: 0 0 0 0;\n",
              "      width: 32px;\n",
              "    }\n",
              "\n",
              "    .colab-df-convert:hover {\n",
              "      background-color: #E2EBFA;\n",
              "      box-shadow: 0px 1px 2px rgba(60, 64, 67, 0.3), 0px 1px 3px 1px rgba(60, 64, 67, 0.15);\n",
              "      fill: #174EA6;\n",
              "    }\n",
              "\n",
              "    .colab-df-buttons div {\n",
              "      margin-bottom: 4px;\n",
              "    }\n",
              "\n",
              "    [theme=dark] .colab-df-convert {\n",
              "      background-color: #3B4455;\n",
              "      fill: #D2E3FC;\n",
              "    }\n",
              "\n",
              "    [theme=dark] .colab-df-convert:hover {\n",
              "      background-color: #434B5C;\n",
              "      box-shadow: 0px 1px 3px 1px rgba(0, 0, 0, 0.15);\n",
              "      filter: drop-shadow(0px 1px 2px rgba(0, 0, 0, 0.3));\n",
              "      fill: #FFFFFF;\n",
              "    }\n",
              "  </style>\n",
              "\n",
              "    <script>\n",
              "      const buttonEl =\n",
              "        document.querySelector('#df-2182f8b0-5c7d-4ca9-b2f5-7f8c1ced2c53 button.colab-df-convert');\n",
              "      buttonEl.style.display =\n",
              "        google.colab.kernel.accessAllowed ? 'block' : 'none';\n",
              "\n",
              "      async function convertToInteractive(key) {\n",
              "        const element = document.querySelector('#df-2182f8b0-5c7d-4ca9-b2f5-7f8c1ced2c53');\n",
              "        const dataTable =\n",
              "          await google.colab.kernel.invokeFunction('convertToInteractive',\n",
              "                                                    [key], {});\n",
              "        if (!dataTable) return;\n",
              "\n",
              "        const docLinkHtml = 'Like what you see? Visit the ' +\n",
              "          '<a target=\"_blank\" href=https://colab.research.google.com/notebooks/data_table.ipynb>data table notebook</a>'\n",
              "          + ' to learn more about interactive tables.';\n",
              "        element.innerHTML = '';\n",
              "        dataTable['output_type'] = 'display_data';\n",
              "        await google.colab.output.renderOutput(dataTable, element);\n",
              "        const docLink = document.createElement('div');\n",
              "        docLink.innerHTML = docLinkHtml;\n",
              "        element.appendChild(docLink);\n",
              "      }\n",
              "    </script>\n",
              "  </div>\n",
              "\n",
              "\n",
              "<div id=\"df-4f7ecbc9-74a9-41eb-817e-016882c36c0e\">\n",
              "  <button class=\"colab-df-quickchart\" onclick=\"quickchart('df-4f7ecbc9-74a9-41eb-817e-016882c36c0e')\"\n",
              "            title=\"Suggest charts.\"\n",
              "            style=\"display:none;\">\n",
              "\n",
              "<svg xmlns=\"http://www.w3.org/2000/svg\" height=\"24px\"viewBox=\"0 0 24 24\"\n",
              "     width=\"24px\">\n",
              "    <g>\n",
              "        <path d=\"M19 3H5c-1.1 0-2 .9-2 2v14c0 1.1.9 2 2 2h14c1.1 0 2-.9 2-2V5c0-1.1-.9-2-2-2zM9 17H7v-7h2v7zm4 0h-2V7h2v10zm4 0h-2v-4h2v4z\"/>\n",
              "    </g>\n",
              "</svg>\n",
              "  </button>\n",
              "\n",
              "<style>\n",
              "  .colab-df-quickchart {\n",
              "      --bg-color: #E8F0FE;\n",
              "      --fill-color: #1967D2;\n",
              "      --hover-bg-color: #E2EBFA;\n",
              "      --hover-fill-color: #174EA6;\n",
              "      --disabled-fill-color: #AAA;\n",
              "      --disabled-bg-color: #DDD;\n",
              "  }\n",
              "\n",
              "  [theme=dark] .colab-df-quickchart {\n",
              "      --bg-color: #3B4455;\n",
              "      --fill-color: #D2E3FC;\n",
              "      --hover-bg-color: #434B5C;\n",
              "      --hover-fill-color: #FFFFFF;\n",
              "      --disabled-bg-color: #3B4455;\n",
              "      --disabled-fill-color: #666;\n",
              "  }\n",
              "\n",
              "  .colab-df-quickchart {\n",
              "    background-color: var(--bg-color);\n",
              "    border: none;\n",
              "    border-radius: 50%;\n",
              "    cursor: pointer;\n",
              "    display: none;\n",
              "    fill: var(--fill-color);\n",
              "    height: 32px;\n",
              "    padding: 0;\n",
              "    width: 32px;\n",
              "  }\n",
              "\n",
              "  .colab-df-quickchart:hover {\n",
              "    background-color: var(--hover-bg-color);\n",
              "    box-shadow: 0 1px 2px rgba(60, 64, 67, 0.3), 0 1px 3px 1px rgba(60, 64, 67, 0.15);\n",
              "    fill: var(--button-hover-fill-color);\n",
              "  }\n",
              "\n",
              "  .colab-df-quickchart-complete:disabled,\n",
              "  .colab-df-quickchart-complete:disabled:hover {\n",
              "    background-color: var(--disabled-bg-color);\n",
              "    fill: var(--disabled-fill-color);\n",
              "    box-shadow: none;\n",
              "  }\n",
              "\n",
              "  .colab-df-spinner {\n",
              "    border: 2px solid var(--fill-color);\n",
              "    border-color: transparent;\n",
              "    border-bottom-color: var(--fill-color);\n",
              "    animation:\n",
              "      spin 1s steps(1) infinite;\n",
              "  }\n",
              "\n",
              "  @keyframes spin {\n",
              "    0% {\n",
              "      border-color: transparent;\n",
              "      border-bottom-color: var(--fill-color);\n",
              "      border-left-color: var(--fill-color);\n",
              "    }\n",
              "    20% {\n",
              "      border-color: transparent;\n",
              "      border-left-color: var(--fill-color);\n",
              "      border-top-color: var(--fill-color);\n",
              "    }\n",
              "    30% {\n",
              "      border-color: transparent;\n",
              "      border-left-color: var(--fill-color);\n",
              "      border-top-color: var(--fill-color);\n",
              "      border-right-color: var(--fill-color);\n",
              "    }\n",
              "    40% {\n",
              "      border-color: transparent;\n",
              "      border-right-color: var(--fill-color);\n",
              "      border-top-color: var(--fill-color);\n",
              "    }\n",
              "    60% {\n",
              "      border-color: transparent;\n",
              "      border-right-color: var(--fill-color);\n",
              "    }\n",
              "    80% {\n",
              "      border-color: transparent;\n",
              "      border-right-color: var(--fill-color);\n",
              "      border-bottom-color: var(--fill-color);\n",
              "    }\n",
              "    90% {\n",
              "      border-color: transparent;\n",
              "      border-bottom-color: var(--fill-color);\n",
              "    }\n",
              "  }\n",
              "</style>\n",
              "\n",
              "  <script>\n",
              "    async function quickchart(key) {\n",
              "      const quickchartButtonEl =\n",
              "        document.querySelector('#' + key + ' button');\n",
              "      quickchartButtonEl.disabled = true;  // To prevent multiple clicks.\n",
              "      quickchartButtonEl.classList.add('colab-df-spinner');\n",
              "      try {\n",
              "        const charts = await google.colab.kernel.invokeFunction(\n",
              "            'suggestCharts', [key], {});\n",
              "      } catch (error) {\n",
              "        console.error('Error during call to suggestCharts:', error);\n",
              "      }\n",
              "      quickchartButtonEl.classList.remove('colab-df-spinner');\n",
              "      quickchartButtonEl.classList.add('colab-df-quickchart-complete');\n",
              "    }\n",
              "    (() => {\n",
              "      let quickchartButtonEl =\n",
              "        document.querySelector('#df-4f7ecbc9-74a9-41eb-817e-016882c36c0e button');\n",
              "      quickchartButtonEl.style.display =\n",
              "        google.colab.kernel.accessAllowed ? 'block' : 'none';\n",
              "    })();\n",
              "  </script>\n",
              "</div>\n",
              "    </div>\n",
              "  </div>\n"
            ]
          },
          "metadata": {},
          "execution_count": 99
        }
      ],
      "source": [
        "# Summary statistics\n",
        "\n",
        "df_trips.describe().T"
      ]
    },
    {
      "cell_type": "code",
      "execution_count": null,
      "metadata": {
        "colab": {
          "base_uri": "https://localhost:8080/"
        },
        "id": "HvFpYlMtTDp1",
        "outputId": "77b1934a-1f3e-4404-a673-9df3ca3e78f4"
      },
      "outputs": [
        {
          "output_type": "execute_result",
          "data": {
            "text/plain": [
              "United States     7573\n",
              "Thailand          3372\n",
              "United Kingdom    2230\n",
              "Germany           2019\n",
              "Spain             1975\n",
              "                  ... \n",
              "Palau                1\n",
              "Sanur                1\n",
              "Andaman Sea          1\n",
              "Algeria              1\n",
              "Spania               1\n",
              "Name: country, Length: 249, dtype: int64"
            ]
          },
          "metadata": {},
          "execution_count": 100
        }
      ],
      "source": [
        "# Distribution of trips by country\n",
        "df_trips['country'].value_counts()"
      ]
    },
    {
      "cell_type": "markdown",
      "metadata": {
        "id": "w9WdQwRnYgdz"
      },
      "source": [
        "##2. Feature Engineering\n",
        "###2.1 Create New Features\n",
        "Often, the raw data may not provide all the information you need. Feature engineering involves transforming the existing features or creating new ones to better represent the underlying problem to the machine learning models. In the context of a recommender system, you might consider creating features like:\n",
        "\n",
        "Duration of stay\n",
        "Distance traveled from one place to another\n",
        "For now, let's create a feature for the \"Duration of Stay\":\n",
        "\n",
        "\n",
        "**Duration of Stay** = **Date End** − **Date Start**\n",
        "\n",
        "Let's go ahead and create this new feature."
      ]
    },
    {
      "cell_type": "code",
      "execution_count": null,
      "metadata": {
        "id": "pKcvI1zUT1ps"
      },
      "outputs": [],
      "source": [
        "# Creating a new feature for the 'Duration of Stay'\n",
        "\n",
        "df_trips['duration_of_stay'] = (df_trips['date_end'] - df_trips['date_start']).dt.days"
      ]
    },
    {
      "cell_type": "markdown",
      "metadata": {
        "id": "AoYV9IyQaa8E"
      },
      "source": [
        "We've successfully added a new feature called duration_of_stay, which represents the duration of each trip in days."
      ]
    },
    {
      "cell_type": "markdown",
      "metadata": {
        "id": "y8AnOjZeahsU"
      },
      "source": [
        "##3. Build a Simple Recommender System\n",
        "Now that we have cleaned and preprocessed the data, let's move on to building a recommender system. This process consists of three steps:\n",
        "\n",
        "\n",
        "> - Step 1: Label Encoding and Matrix Creation\n",
        "> - Step 2: Perform Dimensionality Reduction\n",
        "> - Step 3: Calculate The Similarity Matrix\n"
      ]
    },
    {
      "cell_type": "markdown",
      "metadata": {
        "id": "Ij-oVnuwtome"
      },
      "source": [
        "### **3.1. Label Encoding and Matrix Creation**\n",
        "This part label-encodes the usernames and place slugs, creating numerical IDs for each. It then builds a sparse matrix to capture the interactions between users and places."
      ]
    },
    {
      "cell_type": "code",
      "execution_count": null,
      "metadata": {
        "id": "GXQqbmj60wyx"
      },
      "outputs": [],
      "source": [
        "# Importing necessary libraries.\n",
        "import scipy.sparse as ss\n",
        "import numpy as np\n",
        "from sklearn.preprocessing import LabelEncoder"
      ]
    },
    {
      "cell_type": "code",
      "execution_count": null,
      "metadata": {
        "id": "LIU7deby0-66"
      },
      "outputs": [],
      "source": [
        "# Initialize label encoders\n",
        "\n",
        "le_user = LabelEncoder()\n",
        "le_place = LabelEncoder()"
      ]
    },
    {
      "cell_type": "code",
      "execution_count": null,
      "metadata": {
        "id": "NPW0ZpSa03p3"
      },
      "outputs": [],
      "source": [
        "# Label encode usernames and place slugs\n",
        "\n",
        "df_trips['username_id'] = le_user.fit_transform(df_trips['username'])\n",
        "df_trips['place_slug_id'] = le_place.fit_transform(df_trips['place_slug'])"
      ]
    },
    {
      "cell_type": "code",
      "execution_count": null,
      "metadata": {
        "colab": {
          "base_uri": "https://localhost:8080/"
        },
        "id": "pmT2vbIXJstD",
        "outputId": "209b3cf7-dbf0-4e64-bb35-9dfb331a3500"
      },
      "outputs": [
        {
          "output_type": "execute_result",
          "data": {
            "text/plain": [
              "(46510, 14)"
            ]
          },
          "metadata": {},
          "execution_count": 105
        }
      ],
      "source": [
        "# Checking the dimensions of the dataset.\n",
        "df_trips.shape"
      ]
    },
    {
      "cell_type": "code",
      "execution_count": null,
      "metadata": {
        "colab": {
          "base_uri": "https://localhost:8080/"
        },
        "id": "5j1MiW7EsHzN",
        "outputId": "de057829-4ebe-4068-ae72-5c2671f268fc"
      },
      "outputs": [
        {
          "output_type": "execute_result",
          "data": {
            "text/plain": [
              "(46510, 2)"
            ]
          },
          "metadata": {},
          "execution_count": 106
        }
      ],
      "source": [
        "# Checking the dimensions of the dataset.\n",
        "\n",
        "df_trips[['username_id','place_slug_id']].values.shape"
      ]
    },
    {
      "cell_type": "markdown",
      "metadata": {
        "id": "TUcct6wTKTzQ"
      },
      "source": [
        "####**Question 2: Why Do We Use Sparse Matrices in Recommender Systems?**\n",
        "\n",
        "In the context of recommender systems, particularly those dealing with user-item interactions, sparse matrices play a crucial role. They are an efficient way to represent large matrices that are mostly populated with zero values. Sparse matrices are memory-efficient, computationally efficient, and scalable.\n",
        "\n",
        "- **Memory Efficiency:** Sparse matrices store only the non-zero elements and their indices, which saves a significant amount of memory.\n",
        "\n",
        "- **Computational Efficiency:** Certain matrix operations can be executed faster using sparse matrices, as they are optimized to ignore zero elements.\n",
        "\n",
        "- **Scalability:** As your data grows, using dense matrices could become impractical due to memory limitations. Sparse matrices allow your system to scale more easily.\n",
        "\n",
        "In this notebook, we use the **coo_matrix from SciPy's sparse package** to represent the user-item interaction matrix. This representation allows us to efficiently store and manipulate the data."
      ]
    },
    {
      "cell_type": "code",
      "execution_count": null,
      "metadata": {
        "id": "1qfG6IEouQZ5"
      },
      "outputs": [],
      "source": [
        "# install memory_profiler\n",
        "!pip install memory-profiler --q"
      ]
    },
    {
      "cell_type": "code",
      "execution_count": null,
      "metadata": {
        "id": "CqqPO7fZvKZy",
        "colab": {
          "base_uri": "https://localhost:8080/"
        },
        "outputId": "12befbe8-ccb9-46b3-cbed-9c777e792ce5"
      },
      "outputs": [
        {
          "output_type": "stream",
          "name": "stdout",
          "text": [
            "The memory_profiler extension is already loaded. To reload it, use:\n",
            "  %reload_ext memory_profiler\n"
          ]
        }
      ],
      "source": [
        "# Load the memory_profiler extension\n",
        "%load_ext memory_profiler"
      ]
    },
    {
      "cell_type": "code",
      "execution_count": null,
      "metadata": {
        "colab": {
          "base_uri": "https://localhost:8080/"
        },
        "id": "mwmDvSLovbm9",
        "outputId": "2633be8e-80f1-405f-d78e-712eba44014e"
      },
      "outputs": [
        {
          "output_type": "execute_result",
          "data": {
            "text/plain": [
              "(2871, 961)"
            ]
          },
          "metadata": {},
          "execution_count": 109
        }
      ],
      "source": [
        "# Checking the dimensions of the dataset.\n",
        "pd.crosstab(df_trips['username_id'], df_trips['place_slug_id']).values.shape"
      ]
    },
    {
      "cell_type": "code",
      "execution_count": null,
      "metadata": {
        "colab": {
          "base_uri": "https://localhost:8080/"
        },
        "id": "NS4VmUybsnbo",
        "outputId": "5af6cf67-628c-49b1-e267-7ae8b42b224f"
      },
      "outputs": [
        {
          "output_type": "stream",
          "name": "stdout",
          "text": [
            "peak memory: 435.17 MiB, increment: 2.95 MiB\n"
          ]
        }
      ],
      "source": [
        "# check the memory consumption of the matrix\n",
        "%%memit\n",
        "\n",
        "pd.crosstab(df_trips['username_id'], df_trips['place_slug_id']).values"
      ]
    },
    {
      "cell_type": "code",
      "execution_count": null,
      "metadata": {
        "colab": {
          "base_uri": "https://localhost:8080/"
        },
        "id": "Ob_hTvdz0ZR9",
        "outputId": "9d56e701-0b7a-4d16-9f47-9f6d979d5364"
      },
      "outputs": [
        {
          "output_type": "execute_result",
          "data": {
            "text/plain": [
              "46510"
            ]
          },
          "metadata": {},
          "execution_count": 111
        }
      ],
      "source": [
        "# Check the number of non-zero elements within the matrix\n",
        "\n",
        "pd.crosstab(df_trips['username_id'], df_trips['place_slug_id']).values.sum()"
      ]
    },
    {
      "cell_type": "code",
      "execution_count": null,
      "metadata": {
        "colab": {
          "base_uri": "https://localhost:8080/"
        },
        "id": "4uP9TfnUwG_k",
        "outputId": "b5b8080e-8562-4db3-92f0-d44051df68e6"
      },
      "outputs": [
        {
          "output_type": "execute_result",
          "data": {
            "text/plain": [
              "dtype('int64')"
            ]
          },
          "metadata": {},
          "execution_count": 112
        }
      ],
      "source": [
        "# check the type of elements within the matrix\n",
        "\n",
        "pd.crosstab(df_trips['username_id'], df_trips['place_slug_id']).values.dtype"
      ]
    },
    {
      "cell_type": "code",
      "execution_count": null,
      "metadata": {
        "colab": {
          "base_uri": "https://localhost:8080/"
        },
        "id": "98s7PYLEv60S",
        "outputId": "274b1878-2cc4-446e-9b0b-4bcc637d564d"
      },
      "outputs": [
        {
          "output_type": "execute_result",
          "data": {
            "text/plain": [
              "(2871, 961)"
            ]
          },
          "metadata": {},
          "execution_count": 113
        }
      ],
      "source": [
        "# Checking the dimensions of the dataset\n",
        "\n",
        "pd.crosstab(df_trips['username_id'], df_trips['place_slug_id']).values.shape"
      ]
    },
    {
      "cell_type": "code",
      "execution_count": null,
      "metadata": {
        "colab": {
          "base_uri": "https://localhost:8080/"
        },
        "id": "EBnQ7m8vwBFm",
        "outputId": "5b022f50-d459-41bc-8c43-35852fe409f4"
      },
      "outputs": [
        {
          "output_type": "execute_result",
          "data": {
            "text/plain": [
              "21554.9296875"
            ]
          },
          "metadata": {},
          "execution_count": 114
        }
      ],
      "source": [
        "# check the memory consumption of the matrix\n",
        "\n",
        "2871 * 961 * 8 / 1024"
      ]
    },
    {
      "cell_type": "code",
      "execution_count": null,
      "metadata": {
        "colab": {
          "base_uri": "https://localhost:8080/"
        },
        "id": "oK_RdAcmvmPb",
        "outputId": "9a663064-c669-4df5-b45a-ed1df0b4b7ff"
      },
      "outputs": [
        {
          "output_type": "execute_result",
          "data": {
            "text/plain": [
              "(array([452, 824]),)"
            ]
          },
          "metadata": {},
          "execution_count": 115
        }
      ],
      "source": [
        "# Miscellaneous operation.\n",
        "np.where(pd.crosstab(df_trips['username_id'], df_trips['place_slug_id']).values[1] == 1)"
      ]
    },
    {
      "cell_type": "markdown",
      "metadata": {
        "id": "GmRPT05CsuoT"
      },
      "source": [
        "![](https://raw.githubusercontent.com/aaubs/ds-master/main/data/recommendation_sys_2.png)"
      ]
    },
    {
      "cell_type": "code",
      "execution_count": null,
      "metadata": {
        "colab": {
          "base_uri": "https://localhost:8080/"
        },
        "id": "lLdK9rvTve7i",
        "outputId": "c533bf99-fdf9-49be-ba9e-1b3a64c1ed7f"
      },
      "outputs": [
        {
          "output_type": "stream",
          "name": "stdout",
          "text": [
            "peak memory: 374.36 MiB, increment: 0.00 MiB\n"
          ]
        }
      ],
      "source": [
        "%%memit\n",
        "\n",
        "# Create a sparse matrix\n",
        "\n",
        "# Create an array of ones, with length equal to the number of rows in the DataFrame\n",
        "ones = np.ones(len(df_trips), np.uint64)\n",
        "\n",
        "# Create the sparse matrix using the 'username_id' and 'place_slug_id' columns as indices\n",
        "matrix = ss.coo_matrix((ones, (df_trips['username_id'], df_trips['place_slug_id'])))"
      ]
    },
    {
      "cell_type": "code",
      "execution_count": null,
      "metadata": {
        "colab": {
          "base_uri": "https://localhost:8080/"
        },
        "id": "r3Zkrf-rxG16",
        "outputId": "08a99207-43af-48d6-a5fa-9e81b8fedfbd"
      },
      "outputs": [
        {
          "output_type": "execute_result",
          "data": {
            "text/plain": [
              "<2871x961 sparse matrix of type '<class 'numpy.uint64'>'\n",
              "\twith 46510 stored elements in COOrdinate format>"
            ]
          },
          "metadata": {},
          "execution_count": 117
        }
      ],
      "source": [
        "# Miscellaneous operation.\n",
        "matrix"
      ]
    },
    {
      "cell_type": "code",
      "execution_count": null,
      "metadata": {
        "colab": {
          "base_uri": "https://localhost:8080/"
        },
        "id": "0kMAbAtj3cWp",
        "outputId": "f5f54779-41e3-4431-e809-5411cb92d836"
      },
      "outputs": [
        {
          "output_type": "execute_result",
          "data": {
            "text/plain": [
              "363.359375"
            ]
          },
          "metadata": {},
          "execution_count": 118
        }
      ],
      "source": [
        "# check the memory consumption of the sparse matrix\n",
        "46510 * 8 /1024"
      ]
    },
    {
      "cell_type": "code",
      "execution_count": null,
      "metadata": {
        "colab": {
          "base_uri": "https://localhost:8080/"
        },
        "id": "SuMrARM-yRQS",
        "outputId": "b9e8d7b5-cd88-4b9e-b13b-7f6d179247b0"
      },
      "outputs": [
        {
          "output_type": "execute_result",
          "data": {
            "text/plain": [
              "array([1512, 1512, 1512, ...,  208, 1295, 1459], dtype=int32)"
            ]
          },
          "metadata": {},
          "execution_count": 119
        }
      ],
      "source": [
        "# check row indices\n",
        "matrix.row"
      ]
    },
    {
      "cell_type": "code",
      "execution_count": null,
      "metadata": {
        "colab": {
          "base_uri": "https://localhost:8080/"
        },
        "id": "5dTFRuMD00HC",
        "outputId": "3eea0719-00fb-4abe-c147-0a373a0a01a5"
      },
      "outputs": [
        {
          "output_type": "execute_result",
          "data": {
            "text/plain": [
              "array([563, 564, 166, ..., 674, 899, 545], dtype=int32)"
            ]
          },
          "metadata": {},
          "execution_count": 120
        }
      ],
      "source": [
        "# check column indices\n",
        "matrix.col"
      ]
    },
    {
      "cell_type": "code",
      "execution_count": null,
      "metadata": {
        "colab": {
          "base_uri": "https://localhost:8080/"
        },
        "id": "TbpEcxR4029y",
        "outputId": "1be2bed2-2b21-4286-bfc7-10fa4ff13fb3"
      },
      "outputs": [
        {
          "output_type": "execute_result",
          "data": {
            "text/plain": [
              "array([1, 1, 1, ..., 1, 1, 1], dtype=uint64)"
            ]
          },
          "metadata": {},
          "execution_count": 121
        }
      ],
      "source": [
        "# check data values\n",
        "matrix.data"
      ]
    },
    {
      "cell_type": "code",
      "execution_count": null,
      "metadata": {
        "colab": {
          "base_uri": "https://localhost:8080/"
        },
        "id": "XzC4iPinyZsw",
        "outputId": "89f536d8-03aa-4698-ca67-58a1a6d51f5f"
      },
      "outputs": [
        {
          "output_type": "execute_result",
          "data": {
            "text/plain": [
              "(46510,)"
            ]
          },
          "metadata": {},
          "execution_count": 122
        }
      ],
      "source": [
        "# Checking the dimensions of the dataset.\n",
        "matrix.col.shape"
      ]
    },
    {
      "cell_type": "code",
      "execution_count": null,
      "metadata": {
        "colab": {
          "base_uri": "https://localhost:8080/"
        },
        "id": "EatlPawXGoe7",
        "outputId": "e3514598-18e2-40ea-f31c-1c2deaf9f9a8"
      },
      "outputs": [
        {
          "output_type": "execute_result",
          "data": {
            "text/plain": [
              "(2871, 961)"
            ]
          },
          "metadata": {},
          "execution_count": 123
        }
      ],
      "source": [
        "# Checking the dimensions of the dataset.\n",
        "matrix.shape"
      ]
    },
    {
      "cell_type": "code",
      "execution_count": null,
      "metadata": {
        "colab": {
          "base_uri": "https://localhost:8080/"
        },
        "id": "LFzW40ehw0s_",
        "outputId": "ef533348-c5be-4518-e9d3-9ad3d1f8a995"
      },
      "outputs": [
        {
          "output_type": "execute_result",
          "data": {
            "text/plain": [
              "(46510,)"
            ]
          },
          "metadata": {},
          "execution_count": 124
        }
      ],
      "source": [
        "# Checking the dimensions of the dataset\n",
        "matrix.data.shape"
      ]
    },
    {
      "cell_type": "markdown",
      "source": [
        "####**Exercise 1: Implementing the first step using both username and country columns**\n",
        "\n",
        "\n",
        "Implement the first step of a recommender system using both username and country as input parameters"
      ],
      "metadata": {
        "id": "K6uWgVBVpYLd"
      }
    },
    {
      "cell_type": "markdown",
      "metadata": {
        "id": "umDeehK-CaHl"
      },
      "source": [
        "### 3.2. Perform Dimensionality Reduction\n",
        "This section uses Truncated Singular Value Decomposition (SVD) to reduce the dimensionality of the user-item interaction matrix."
      ]
    },
    {
      "cell_type": "markdown",
      "metadata": {
        "id": "rXMSBs6VTx5T"
      },
      "source": [
        "####**Question 3: Why Is Dimensionality Reduction Important in Recommender Systems?**\n",
        "\n",
        "Dimensionality reduction is a critical aspect of building efficient and effective recommender systems for several reasons:\n",
        "\n",
        "- **Computational Efficiency:** Reducing the number of dimensions can significantly speed up algorithmic computations and save storage space, making the system more scalable.\n",
        "\n",
        "\n",
        "- **Latent Feature Discovery:** Techniques like Singular Value Decomposition (SVD) can uncover hidden features that capture the underlying structure of the data more effectively than the original high-dimensional features.\n"
      ]
    },
    {
      "cell_type": "code",
      "source": [
        "#User_based apparoach\n",
        "matrix.shape"
      ],
      "metadata": {
        "colab": {
          "base_uri": "https://localhost:8080/"
        },
        "id": "MFXYa6S6ug0M",
        "outputId": "82494ea8-ef1b-4c73-8b35-097b0072618b"
      },
      "execution_count": null,
      "outputs": [
        {
          "output_type": "execute_result",
          "data": {
            "text/plain": [
              "(2871, 961)"
            ]
          },
          "metadata": {},
          "execution_count": 129
        }
      ]
    },
    {
      "cell_type": "code",
      "source": [
        "#Item_based approach\n",
        "matrix.T.shape"
      ],
      "metadata": {
        "colab": {
          "base_uri": "https://localhost:8080/"
        },
        "id": "y6qP_lV_ujUC",
        "outputId": "dbd50501-797e-4a6c-a4c9-2fea3a3ceca3"
      },
      "execution_count": null,
      "outputs": [
        {
          "output_type": "execute_result",
          "data": {
            "text/plain": [
              "(961, 2871)"
            ]
          },
          "metadata": {},
          "execution_count": 130
        }
      ]
    },
    {
      "cell_type": "code",
      "execution_count": null,
      "metadata": {
        "colab": {
          "base_uri": "https://localhost:8080/"
        },
        "id": "aWHqcJi2-v7t",
        "outputId": "6214fb57-f7f2-443a-a9e2-3ae438cd25e1"
      },
      "outputs": [
        {
          "output_type": "execute_result",
          "data": {
            "text/plain": [
              "(array([0, 0]), array([452, 824]))"
            ]
          },
          "metadata": {},
          "execution_count": 93
        }
      ],
      "source": [
        "np.where(matrix.todense()[1] == 1)"
      ]
    },
    {
      "cell_type": "code",
      "execution_count": null,
      "metadata": {
        "colab": {
          "base_uri": "https://localhost:8080/",
          "height": 184
        },
        "id": "I_WYqOmR_EC8",
        "outputId": "9c7cb247-7a69-4d50-c096-8acd856a3933"
      },
      "outputs": [
        {
          "output_type": "execute_result",
          "data": {
            "text/plain": [
              "     Unnamed: 0   username    country country_code country_slug   date_end  \\\n",
              "699         699  @0chucha0  Sri Lanka           LK    sri-lanka 2018-03-18   \n",
              "700         700  @0chucha0   Thailand           TH     thailand 2018-02-20   \n",
              "\n",
              "    date_start  latitude  longitude      place         place_slug  \\\n",
              "699 2018-02-18         7         80  Sri Lanka          sri-lanka   \n",
              "700 2017-11-21         9        100   Ko Samui  ko-samui-thailand   \n",
              "\n",
              "     duration_of_stay  username_id  place_slug_id  country_id  \n",
              "699              28.0            1            824         216  \n",
              "700              91.0            1            452         225  "
            ],
            "text/html": [
              "\n",
              "  <div id=\"df-a29322a9-1327-42b5-9425-c04b50416227\" class=\"colab-df-container\">\n",
              "    <div>\n",
              "<style scoped>\n",
              "    .dataframe tbody tr th:only-of-type {\n",
              "        vertical-align: middle;\n",
              "    }\n",
              "\n",
              "    .dataframe tbody tr th {\n",
              "        vertical-align: top;\n",
              "    }\n",
              "\n",
              "    .dataframe thead th {\n",
              "        text-align: right;\n",
              "    }\n",
              "</style>\n",
              "<table border=\"1\" class=\"dataframe\">\n",
              "  <thead>\n",
              "    <tr style=\"text-align: right;\">\n",
              "      <th></th>\n",
              "      <th>Unnamed: 0</th>\n",
              "      <th>username</th>\n",
              "      <th>country</th>\n",
              "      <th>country_code</th>\n",
              "      <th>country_slug</th>\n",
              "      <th>date_end</th>\n",
              "      <th>date_start</th>\n",
              "      <th>latitude</th>\n",
              "      <th>longitude</th>\n",
              "      <th>place</th>\n",
              "      <th>place_slug</th>\n",
              "      <th>duration_of_stay</th>\n",
              "      <th>username_id</th>\n",
              "      <th>place_slug_id</th>\n",
              "      <th>country_id</th>\n",
              "    </tr>\n",
              "  </thead>\n",
              "  <tbody>\n",
              "    <tr>\n",
              "      <th>699</th>\n",
              "      <td>699</td>\n",
              "      <td>@0chucha0</td>\n",
              "      <td>Sri Lanka</td>\n",
              "      <td>LK</td>\n",
              "      <td>sri-lanka</td>\n",
              "      <td>2018-03-18</td>\n",
              "      <td>2018-02-18</td>\n",
              "      <td>7</td>\n",
              "      <td>80</td>\n",
              "      <td>Sri Lanka</td>\n",
              "      <td>sri-lanka</td>\n",
              "      <td>28.0</td>\n",
              "      <td>1</td>\n",
              "      <td>824</td>\n",
              "      <td>216</td>\n",
              "    </tr>\n",
              "    <tr>\n",
              "      <th>700</th>\n",
              "      <td>700</td>\n",
              "      <td>@0chucha0</td>\n",
              "      <td>Thailand</td>\n",
              "      <td>TH</td>\n",
              "      <td>thailand</td>\n",
              "      <td>2018-02-20</td>\n",
              "      <td>2017-11-21</td>\n",
              "      <td>9</td>\n",
              "      <td>100</td>\n",
              "      <td>Ko Samui</td>\n",
              "      <td>ko-samui-thailand</td>\n",
              "      <td>91.0</td>\n",
              "      <td>1</td>\n",
              "      <td>452</td>\n",
              "      <td>225</td>\n",
              "    </tr>\n",
              "  </tbody>\n",
              "</table>\n",
              "</div>\n",
              "    <div class=\"colab-df-buttons\">\n",
              "\n",
              "  <div class=\"colab-df-container\">\n",
              "    <button class=\"colab-df-convert\" onclick=\"convertToInteractive('df-a29322a9-1327-42b5-9425-c04b50416227')\"\n",
              "            title=\"Convert this dataframe to an interactive table.\"\n",
              "            style=\"display:none;\">\n",
              "\n",
              "  <svg xmlns=\"http://www.w3.org/2000/svg\" height=\"24px\" viewBox=\"0 -960 960 960\">\n",
              "    <path d=\"M120-120v-720h720v720H120Zm60-500h600v-160H180v160Zm220 220h160v-160H400v160Zm0 220h160v-160H400v160ZM180-400h160v-160H180v160Zm440 0h160v-160H620v160ZM180-180h160v-160H180v160Zm440 0h160v-160H620v160Z\"/>\n",
              "  </svg>\n",
              "    </button>\n",
              "\n",
              "  <style>\n",
              "    .colab-df-container {\n",
              "      display:flex;\n",
              "      gap: 12px;\n",
              "    }\n",
              "\n",
              "    .colab-df-convert {\n",
              "      background-color: #E8F0FE;\n",
              "      border: none;\n",
              "      border-radius: 50%;\n",
              "      cursor: pointer;\n",
              "      display: none;\n",
              "      fill: #1967D2;\n",
              "      height: 32px;\n",
              "      padding: 0 0 0 0;\n",
              "      width: 32px;\n",
              "    }\n",
              "\n",
              "    .colab-df-convert:hover {\n",
              "      background-color: #E2EBFA;\n",
              "      box-shadow: 0px 1px 2px rgba(60, 64, 67, 0.3), 0px 1px 3px 1px rgba(60, 64, 67, 0.15);\n",
              "      fill: #174EA6;\n",
              "    }\n",
              "\n",
              "    .colab-df-buttons div {\n",
              "      margin-bottom: 4px;\n",
              "    }\n",
              "\n",
              "    [theme=dark] .colab-df-convert {\n",
              "      background-color: #3B4455;\n",
              "      fill: #D2E3FC;\n",
              "    }\n",
              "\n",
              "    [theme=dark] .colab-df-convert:hover {\n",
              "      background-color: #434B5C;\n",
              "      box-shadow: 0px 1px 3px 1px rgba(0, 0, 0, 0.15);\n",
              "      filter: drop-shadow(0px 1px 2px rgba(0, 0, 0, 0.3));\n",
              "      fill: #FFFFFF;\n",
              "    }\n",
              "  </style>\n",
              "\n",
              "    <script>\n",
              "      const buttonEl =\n",
              "        document.querySelector('#df-a29322a9-1327-42b5-9425-c04b50416227 button.colab-df-convert');\n",
              "      buttonEl.style.display =\n",
              "        google.colab.kernel.accessAllowed ? 'block' : 'none';\n",
              "\n",
              "      async function convertToInteractive(key) {\n",
              "        const element = document.querySelector('#df-a29322a9-1327-42b5-9425-c04b50416227');\n",
              "        const dataTable =\n",
              "          await google.colab.kernel.invokeFunction('convertToInteractive',\n",
              "                                                    [key], {});\n",
              "        if (!dataTable) return;\n",
              "\n",
              "        const docLinkHtml = 'Like what you see? Visit the ' +\n",
              "          '<a target=\"_blank\" href=https://colab.research.google.com/notebooks/data_table.ipynb>data table notebook</a>'\n",
              "          + ' to learn more about interactive tables.';\n",
              "        element.innerHTML = '';\n",
              "        dataTable['output_type'] = 'display_data';\n",
              "        await google.colab.output.renderOutput(dataTable, element);\n",
              "        const docLink = document.createElement('div');\n",
              "        docLink.innerHTML = docLinkHtml;\n",
              "        element.appendChild(docLink);\n",
              "      }\n",
              "    </script>\n",
              "  </div>\n",
              "\n",
              "\n",
              "<div id=\"df-9cf94be3-70b9-4d08-a055-6bd3522fd4ef\">\n",
              "  <button class=\"colab-df-quickchart\" onclick=\"quickchart('df-9cf94be3-70b9-4d08-a055-6bd3522fd4ef')\"\n",
              "            title=\"Suggest charts.\"\n",
              "            style=\"display:none;\">\n",
              "\n",
              "<svg xmlns=\"http://www.w3.org/2000/svg\" height=\"24px\"viewBox=\"0 0 24 24\"\n",
              "     width=\"24px\">\n",
              "    <g>\n",
              "        <path d=\"M19 3H5c-1.1 0-2 .9-2 2v14c0 1.1.9 2 2 2h14c1.1 0 2-.9 2-2V5c0-1.1-.9-2-2-2zM9 17H7v-7h2v7zm4 0h-2V7h2v10zm4 0h-2v-4h2v4z\"/>\n",
              "    </g>\n",
              "</svg>\n",
              "  </button>\n",
              "\n",
              "<style>\n",
              "  .colab-df-quickchart {\n",
              "      --bg-color: #E8F0FE;\n",
              "      --fill-color: #1967D2;\n",
              "      --hover-bg-color: #E2EBFA;\n",
              "      --hover-fill-color: #174EA6;\n",
              "      --disabled-fill-color: #AAA;\n",
              "      --disabled-bg-color: #DDD;\n",
              "  }\n",
              "\n",
              "  [theme=dark] .colab-df-quickchart {\n",
              "      --bg-color: #3B4455;\n",
              "      --fill-color: #D2E3FC;\n",
              "      --hover-bg-color: #434B5C;\n",
              "      --hover-fill-color: #FFFFFF;\n",
              "      --disabled-bg-color: #3B4455;\n",
              "      --disabled-fill-color: #666;\n",
              "  }\n",
              "\n",
              "  .colab-df-quickchart {\n",
              "    background-color: var(--bg-color);\n",
              "    border: none;\n",
              "    border-radius: 50%;\n",
              "    cursor: pointer;\n",
              "    display: none;\n",
              "    fill: var(--fill-color);\n",
              "    height: 32px;\n",
              "    padding: 0;\n",
              "    width: 32px;\n",
              "  }\n",
              "\n",
              "  .colab-df-quickchart:hover {\n",
              "    background-color: var(--hover-bg-color);\n",
              "    box-shadow: 0 1px 2px rgba(60, 64, 67, 0.3), 0 1px 3px 1px rgba(60, 64, 67, 0.15);\n",
              "    fill: var(--button-hover-fill-color);\n",
              "  }\n",
              "\n",
              "  .colab-df-quickchart-complete:disabled,\n",
              "  .colab-df-quickchart-complete:disabled:hover {\n",
              "    background-color: var(--disabled-bg-color);\n",
              "    fill: var(--disabled-fill-color);\n",
              "    box-shadow: none;\n",
              "  }\n",
              "\n",
              "  .colab-df-spinner {\n",
              "    border: 2px solid var(--fill-color);\n",
              "    border-color: transparent;\n",
              "    border-bottom-color: var(--fill-color);\n",
              "    animation:\n",
              "      spin 1s steps(1) infinite;\n",
              "  }\n",
              "\n",
              "  @keyframes spin {\n",
              "    0% {\n",
              "      border-color: transparent;\n",
              "      border-bottom-color: var(--fill-color);\n",
              "      border-left-color: var(--fill-color);\n",
              "    }\n",
              "    20% {\n",
              "      border-color: transparent;\n",
              "      border-left-color: var(--fill-color);\n",
              "      border-top-color: var(--fill-color);\n",
              "    }\n",
              "    30% {\n",
              "      border-color: transparent;\n",
              "      border-left-color: var(--fill-color);\n",
              "      border-top-color: var(--fill-color);\n",
              "      border-right-color: var(--fill-color);\n",
              "    }\n",
              "    40% {\n",
              "      border-color: transparent;\n",
              "      border-right-color: var(--fill-color);\n",
              "      border-top-color: var(--fill-color);\n",
              "    }\n",
              "    60% {\n",
              "      border-color: transparent;\n",
              "      border-right-color: var(--fill-color);\n",
              "    }\n",
              "    80% {\n",
              "      border-color: transparent;\n",
              "      border-right-color: var(--fill-color);\n",
              "      border-bottom-color: var(--fill-color);\n",
              "    }\n",
              "    90% {\n",
              "      border-color: transparent;\n",
              "      border-bottom-color: var(--fill-color);\n",
              "    }\n",
              "  }\n",
              "</style>\n",
              "\n",
              "  <script>\n",
              "    async function quickchart(key) {\n",
              "      const quickchartButtonEl =\n",
              "        document.querySelector('#' + key + ' button');\n",
              "      quickchartButtonEl.disabled = true;  // To prevent multiple clicks.\n",
              "      quickchartButtonEl.classList.add('colab-df-spinner');\n",
              "      try {\n",
              "        const charts = await google.colab.kernel.invokeFunction(\n",
              "            'suggestCharts', [key], {});\n",
              "      } catch (error) {\n",
              "        console.error('Error during call to suggestCharts:', error);\n",
              "      }\n",
              "      quickchartButtonEl.classList.remove('colab-df-spinner');\n",
              "      quickchartButtonEl.classList.add('colab-df-quickchart-complete');\n",
              "    }\n",
              "    (() => {\n",
              "      let quickchartButtonEl =\n",
              "        document.querySelector('#df-9cf94be3-70b9-4d08-a055-6bd3522fd4ef button');\n",
              "      quickchartButtonEl.style.display =\n",
              "        google.colab.kernel.accessAllowed ? 'block' : 'none';\n",
              "    })();\n",
              "  </script>\n",
              "</div>\n",
              "    </div>\n",
              "  </div>\n"
            ]
          },
          "metadata": {},
          "execution_count": 92
        }
      ],
      "source": [
        "df_trips[df_trips['username_id'] == 1]"
      ]
    },
    {
      "cell_type": "code",
      "execution_count": null,
      "metadata": {
        "id": "FGoYOsQ5Jc88"
      },
      "outputs": [],
      "source": [
        "# Importing necessary libraries.\n",
        "from sklearn.decomposition import TruncatedSVD\n",
        "\n",
        "svd = TruncatedSVD(n_components=5, n_iter=7, random_state=42)"
      ]
    },
    {
      "cell_type": "code",
      "execution_count": null,
      "metadata": {
        "colab": {
          "base_uri": "https://localhost:8080/"
        },
        "id": "TiS8zFbzbeFq",
        "outputId": "0c90496f-46ad-4b9f-e4ec-c92ce9310958"
      },
      "outputs": [
        {
          "output_type": "execute_result",
          "data": {
            "text/plain": [
              "(961, 5)"
            ]
          },
          "metadata": {},
          "execution_count": 132
        }
      ],
      "source": [
        "#represent these places in a lower-dimensional space where each dimension captures some latent (hidden) feature.\n",
        "#These latent features could potentially capture characteristics like how popular a place is\n",
        "\n",
        "matrix_places = svd.fit_transform(matrix.T)\n",
        "matrix_places.shape"
      ]
    },
    {
      "cell_type": "code",
      "execution_count": null,
      "metadata": {
        "colab": {
          "base_uri": "https://localhost:8080/"
        },
        "id": "X7BWg_kXX--B",
        "outputId": "8dc49f0a-d914-464d-e702-9561e78106ad"
      },
      "outputs": [
        {
          "output_type": "execute_result",
          "data": {
            "text/plain": [
              "(2871, 5)"
            ]
          },
          "metadata": {},
          "execution_count": 133
        }
      ],
      "source": [
        "#latent features capture a user's preference for certain types of places\n",
        "matrix_users = svd.fit_transform(matrix)\n",
        "matrix_users.shape"
      ]
    },
    {
      "cell_type": "markdown",
      "source": [
        "####**Exercise 2: Implementing the second step using both username and country columns**\n",
        "\n",
        "\n",
        "Implement the second step of a recommender system using both username and country as input parameters"
      ],
      "metadata": {
        "id": "zN8MiNxGMYRK"
      }
    },
    {
      "cell_type": "markdown",
      "metadata": {
        "id": "Fo9yRr9Rod1-"
      },
      "source": [
        "### 3.3. Calculate The Similarity Matrix\n"
      ]
    },
    {
      "cell_type": "markdown",
      "metadata": {
        "id": "BTq6rPAPPsHj"
      },
      "source": [
        "A cosine distance matrix of item or user is a table that shows how similar each item or user is to every other item or user, based on their cosine similarity. Here, we can decide which type of collaborative model to implement, based on our specific needs and goals.\n",
        "\n",
        "####3.3.1. Item-Based Collaborative Filtering\n",
        "Recommends items based on their similarity to items that the target user has interacted with. This is generally more scalable and can handle a larger item set. It also performs better for new users but may not be as personalized as user-based models."
      ]
    },
    {
      "cell_type": "code",
      "execution_count": null,
      "metadata": {
        "id": "z7ML_CPCJ1TF"
      },
      "outputs": [],
      "source": [
        "# Importing necessary libraries.\n",
        "from sklearn.metrics.pairwise import cosine_distances"
      ]
    },
    {
      "cell_type": "code",
      "execution_count": null,
      "metadata": {
        "colab": {
          "base_uri": "https://localhost:8080/"
        },
        "id": "3q9PsPqkJ5fz",
        "outputId": "dbad4b9a-d48d-41c2-da67-8882b5591e35"
      },
      "outputs": [
        {
          "output_type": "execute_result",
          "data": {
            "text/plain": [
              "(961, 961)"
            ]
          },
          "metadata": {},
          "execution_count": 135
        }
      ],
      "source": [
        "# Calculate the cosine distances between all pairs of places in the matrix_places\n",
        "cosine_distance_matrix_places = cosine_distances(matrix_places)\n",
        "cosine_distance_matrix_places.shape"
      ]
    },
    {
      "cell_type": "code",
      "execution_count": null,
      "metadata": {
        "colab": {
          "base_uri": "https://localhost:8080/"
        },
        "id": "RHRWKHP3KABn",
        "outputId": "db7609b6-1571-4bbe-b197-05b814dee2c3"
      },
      "outputs": [
        {
          "output_type": "execute_result",
          "data": {
            "text/plain": [
              "array([[0.        , 0.93737257, 0.94042055, ..., 0.55101577, 0.94479183,\n",
              "        0.66700793],\n",
              "       [0.93737257, 0.        , 0.2219977 , ..., 0.55865144, 1.01683665,\n",
              "        0.55894041],\n",
              "       [0.94042055, 0.2219977 , 0.        , ..., 0.42547908, 0.90915149,\n",
              "        0.12785817],\n",
              "       ...,\n",
              "       [0.55101577, 0.55865144, 0.42547908, ..., 0.        , 0.35913659,\n",
              "        0.36126287],\n",
              "       [0.94479183, 1.01683665, 0.90915149, ..., 0.35913659, 0.        ,\n",
              "        0.89817704],\n",
              "       [0.66700793, 0.55894041, 0.12785817, ..., 0.36126287, 0.89817704,\n",
              "        0.        ]])"
            ]
          },
          "metadata": {},
          "execution_count": 136
        }
      ],
      "source": [
        "# item-based similarity matrix\n",
        "cosine_distance_matrix_places"
      ]
    },
    {
      "cell_type": "code",
      "execution_count": null,
      "metadata": {
        "colab": {
          "base_uri": "https://localhost:8080/"
        },
        "id": "X9S_YqdRLZX7",
        "outputId": "6ddf88f4-2c44-45cf-9b94-005a05989eb4"
      },
      "outputs": [
        {
          "output_type": "execute_result",
          "data": {
            "text/plain": [
              "array([891])"
            ]
          },
          "metadata": {},
          "execution_count": 137
        }
      ],
      "source": [
        "# transform and inverse_transform\n",
        "le_place.transform(['ubud-bali-indonesia'])"
      ]
    },
    {
      "cell_type": "code",
      "execution_count": null,
      "metadata": {
        "colab": {
          "base_uri": "https://localhost:8080/",
          "height": 634
        },
        "id": "2CLGfyX7LbOQ",
        "outputId": "577f14c0-7f74-4287-f2bc-10e35263be7a"
      },
      "outputs": [
        {
          "output_type": "execute_result",
          "data": {
            "text/plain": [
              "       Unnamed: 0             username    country country_code country_slug  \\\n",
              "79             79               @jezfx  Indonesia           ID    indonesia   \n",
              "196           196  @adventureinmyveins  Indonesia           ID    indonesia   \n",
              "354           354             @gnefkow  Indonesia           ID    indonesia   \n",
              "417           417        @marcusmeurer  Indonesia           ID    indonesia   \n",
              "546           546           @laudowicz  Indonesia           ID    indonesia   \n",
              "...           ...                  ...        ...          ...          ...   \n",
              "46007       46007             @reustle  Indonesia           ID    indonesia   \n",
              "46070       46070             @reustle  Indonesia           ID    indonesia   \n",
              "46151       46151            @amurzaya  Indonesia           ID    indonesia   \n",
              "46285       46285                  @cw  Indonesia           ID    indonesia   \n",
              "46287       46287                  @cw  Indonesia           ID    indonesia   \n",
              "\n",
              "        date_end date_start  latitude  longitude place           place_slug  \\\n",
              "79    2019-05-01 2018-11-25        -8        115  Ubud  ubud-bali-indonesia   \n",
              "196   2017-04-03 2017-03-03        -8        115  Ubud  ubud-bali-indonesia   \n",
              "354   2017-07-12 2017-06-13        -8        115  Ubud  ubud-bali-indonesia   \n",
              "417   2016-04-19 2016-04-03        -8        115  Ubud  ubud-bali-indonesia   \n",
              "546   2015-12-28 2015-12-19        -8        115  Ubud  ubud-bali-indonesia   \n",
              "...          ...        ...       ...        ...   ...                  ...   \n",
              "46007 2016-12-05 2016-11-07        -8        115  Ubud  ubud-bali-indonesia   \n",
              "46070 2015-04-24 2015-03-27        -8        115  Ubud  ubud-bali-indonesia   \n",
              "46151 2018-02-14 2018-01-24        -8        115  Ubud  ubud-bali-indonesia   \n",
              "46285 2016-02-26 2016-01-28        -8        115  Ubud  ubud-bali-indonesia   \n",
              "46287 2016-01-22 2016-01-02        -8        115  Ubud  ubud-bali-indonesia   \n",
              "\n",
              "       duration_of_stay  username_id  place_slug_id  country_id  \n",
              "79                157.0         1204            891         106  \n",
              "196                31.0           51            891         106  \n",
              "354                29.0          908            891         106  \n",
              "417                16.0         1644            891         106  \n",
              "546                 9.0         1495            891         106  \n",
              "...                 ...          ...            ...         ...  \n",
              "46007              28.0         2187            891         106  \n",
              "46070              28.0         2187            891         106  \n",
              "46151              21.0          143            891         106  \n",
              "46285              29.0          555            891         106  \n",
              "46287              20.0          555            891         106  \n",
              "\n",
              "[473 rows x 15 columns]"
            ],
            "text/html": [
              "\n",
              "  <div id=\"df-197e6c2b-0a23-414a-b0ce-dfc610a18a9d\" class=\"colab-df-container\">\n",
              "    <div>\n",
              "<style scoped>\n",
              "    .dataframe tbody tr th:only-of-type {\n",
              "        vertical-align: middle;\n",
              "    }\n",
              "\n",
              "    .dataframe tbody tr th {\n",
              "        vertical-align: top;\n",
              "    }\n",
              "\n",
              "    .dataframe thead th {\n",
              "        text-align: right;\n",
              "    }\n",
              "</style>\n",
              "<table border=\"1\" class=\"dataframe\">\n",
              "  <thead>\n",
              "    <tr style=\"text-align: right;\">\n",
              "      <th></th>\n",
              "      <th>Unnamed: 0</th>\n",
              "      <th>username</th>\n",
              "      <th>country</th>\n",
              "      <th>country_code</th>\n",
              "      <th>country_slug</th>\n",
              "      <th>date_end</th>\n",
              "      <th>date_start</th>\n",
              "      <th>latitude</th>\n",
              "      <th>longitude</th>\n",
              "      <th>place</th>\n",
              "      <th>place_slug</th>\n",
              "      <th>duration_of_stay</th>\n",
              "      <th>username_id</th>\n",
              "      <th>place_slug_id</th>\n",
              "      <th>country_id</th>\n",
              "    </tr>\n",
              "  </thead>\n",
              "  <tbody>\n",
              "    <tr>\n",
              "      <th>79</th>\n",
              "      <td>79</td>\n",
              "      <td>@jezfx</td>\n",
              "      <td>Indonesia</td>\n",
              "      <td>ID</td>\n",
              "      <td>indonesia</td>\n",
              "      <td>2019-05-01</td>\n",
              "      <td>2018-11-25</td>\n",
              "      <td>-8</td>\n",
              "      <td>115</td>\n",
              "      <td>Ubud</td>\n",
              "      <td>ubud-bali-indonesia</td>\n",
              "      <td>157.0</td>\n",
              "      <td>1204</td>\n",
              "      <td>891</td>\n",
              "      <td>106</td>\n",
              "    </tr>\n",
              "    <tr>\n",
              "      <th>196</th>\n",
              "      <td>196</td>\n",
              "      <td>@adventureinmyveins</td>\n",
              "      <td>Indonesia</td>\n",
              "      <td>ID</td>\n",
              "      <td>indonesia</td>\n",
              "      <td>2017-04-03</td>\n",
              "      <td>2017-03-03</td>\n",
              "      <td>-8</td>\n",
              "      <td>115</td>\n",
              "      <td>Ubud</td>\n",
              "      <td>ubud-bali-indonesia</td>\n",
              "      <td>31.0</td>\n",
              "      <td>51</td>\n",
              "      <td>891</td>\n",
              "      <td>106</td>\n",
              "    </tr>\n",
              "    <tr>\n",
              "      <th>354</th>\n",
              "      <td>354</td>\n",
              "      <td>@gnefkow</td>\n",
              "      <td>Indonesia</td>\n",
              "      <td>ID</td>\n",
              "      <td>indonesia</td>\n",
              "      <td>2017-07-12</td>\n",
              "      <td>2017-06-13</td>\n",
              "      <td>-8</td>\n",
              "      <td>115</td>\n",
              "      <td>Ubud</td>\n",
              "      <td>ubud-bali-indonesia</td>\n",
              "      <td>29.0</td>\n",
              "      <td>908</td>\n",
              "      <td>891</td>\n",
              "      <td>106</td>\n",
              "    </tr>\n",
              "    <tr>\n",
              "      <th>417</th>\n",
              "      <td>417</td>\n",
              "      <td>@marcusmeurer</td>\n",
              "      <td>Indonesia</td>\n",
              "      <td>ID</td>\n",
              "      <td>indonesia</td>\n",
              "      <td>2016-04-19</td>\n",
              "      <td>2016-04-03</td>\n",
              "      <td>-8</td>\n",
              "      <td>115</td>\n",
              "      <td>Ubud</td>\n",
              "      <td>ubud-bali-indonesia</td>\n",
              "      <td>16.0</td>\n",
              "      <td>1644</td>\n",
              "      <td>891</td>\n",
              "      <td>106</td>\n",
              "    </tr>\n",
              "    <tr>\n",
              "      <th>546</th>\n",
              "      <td>546</td>\n",
              "      <td>@laudowicz</td>\n",
              "      <td>Indonesia</td>\n",
              "      <td>ID</td>\n",
              "      <td>indonesia</td>\n",
              "      <td>2015-12-28</td>\n",
              "      <td>2015-12-19</td>\n",
              "      <td>-8</td>\n",
              "      <td>115</td>\n",
              "      <td>Ubud</td>\n",
              "      <td>ubud-bali-indonesia</td>\n",
              "      <td>9.0</td>\n",
              "      <td>1495</td>\n",
              "      <td>891</td>\n",
              "      <td>106</td>\n",
              "    </tr>\n",
              "    <tr>\n",
              "      <th>...</th>\n",
              "      <td>...</td>\n",
              "      <td>...</td>\n",
              "      <td>...</td>\n",
              "      <td>...</td>\n",
              "      <td>...</td>\n",
              "      <td>...</td>\n",
              "      <td>...</td>\n",
              "      <td>...</td>\n",
              "      <td>...</td>\n",
              "      <td>...</td>\n",
              "      <td>...</td>\n",
              "      <td>...</td>\n",
              "      <td>...</td>\n",
              "      <td>...</td>\n",
              "      <td>...</td>\n",
              "    </tr>\n",
              "    <tr>\n",
              "      <th>46007</th>\n",
              "      <td>46007</td>\n",
              "      <td>@reustle</td>\n",
              "      <td>Indonesia</td>\n",
              "      <td>ID</td>\n",
              "      <td>indonesia</td>\n",
              "      <td>2016-12-05</td>\n",
              "      <td>2016-11-07</td>\n",
              "      <td>-8</td>\n",
              "      <td>115</td>\n",
              "      <td>Ubud</td>\n",
              "      <td>ubud-bali-indonesia</td>\n",
              "      <td>28.0</td>\n",
              "      <td>2187</td>\n",
              "      <td>891</td>\n",
              "      <td>106</td>\n",
              "    </tr>\n",
              "    <tr>\n",
              "      <th>46070</th>\n",
              "      <td>46070</td>\n",
              "      <td>@reustle</td>\n",
              "      <td>Indonesia</td>\n",
              "      <td>ID</td>\n",
              "      <td>indonesia</td>\n",
              "      <td>2015-04-24</td>\n",
              "      <td>2015-03-27</td>\n",
              "      <td>-8</td>\n",
              "      <td>115</td>\n",
              "      <td>Ubud</td>\n",
              "      <td>ubud-bali-indonesia</td>\n",
              "      <td>28.0</td>\n",
              "      <td>2187</td>\n",
              "      <td>891</td>\n",
              "      <td>106</td>\n",
              "    </tr>\n",
              "    <tr>\n",
              "      <th>46151</th>\n",
              "      <td>46151</td>\n",
              "      <td>@amurzaya</td>\n",
              "      <td>Indonesia</td>\n",
              "      <td>ID</td>\n",
              "      <td>indonesia</td>\n",
              "      <td>2018-02-14</td>\n",
              "      <td>2018-01-24</td>\n",
              "      <td>-8</td>\n",
              "      <td>115</td>\n",
              "      <td>Ubud</td>\n",
              "      <td>ubud-bali-indonesia</td>\n",
              "      <td>21.0</td>\n",
              "      <td>143</td>\n",
              "      <td>891</td>\n",
              "      <td>106</td>\n",
              "    </tr>\n",
              "    <tr>\n",
              "      <th>46285</th>\n",
              "      <td>46285</td>\n",
              "      <td>@cw</td>\n",
              "      <td>Indonesia</td>\n",
              "      <td>ID</td>\n",
              "      <td>indonesia</td>\n",
              "      <td>2016-02-26</td>\n",
              "      <td>2016-01-28</td>\n",
              "      <td>-8</td>\n",
              "      <td>115</td>\n",
              "      <td>Ubud</td>\n",
              "      <td>ubud-bali-indonesia</td>\n",
              "      <td>29.0</td>\n",
              "      <td>555</td>\n",
              "      <td>891</td>\n",
              "      <td>106</td>\n",
              "    </tr>\n",
              "    <tr>\n",
              "      <th>46287</th>\n",
              "      <td>46287</td>\n",
              "      <td>@cw</td>\n",
              "      <td>Indonesia</td>\n",
              "      <td>ID</td>\n",
              "      <td>indonesia</td>\n",
              "      <td>2016-01-22</td>\n",
              "      <td>2016-01-02</td>\n",
              "      <td>-8</td>\n",
              "      <td>115</td>\n",
              "      <td>Ubud</td>\n",
              "      <td>ubud-bali-indonesia</td>\n",
              "      <td>20.0</td>\n",
              "      <td>555</td>\n",
              "      <td>891</td>\n",
              "      <td>106</td>\n",
              "    </tr>\n",
              "  </tbody>\n",
              "</table>\n",
              "<p>473 rows × 15 columns</p>\n",
              "</div>\n",
              "    <div class=\"colab-df-buttons\">\n",
              "\n",
              "  <div class=\"colab-df-container\">\n",
              "    <button class=\"colab-df-convert\" onclick=\"convertToInteractive('df-197e6c2b-0a23-414a-b0ce-dfc610a18a9d')\"\n",
              "            title=\"Convert this dataframe to an interactive table.\"\n",
              "            style=\"display:none;\">\n",
              "\n",
              "  <svg xmlns=\"http://www.w3.org/2000/svg\" height=\"24px\" viewBox=\"0 -960 960 960\">\n",
              "    <path d=\"M120-120v-720h720v720H120Zm60-500h600v-160H180v160Zm220 220h160v-160H400v160Zm0 220h160v-160H400v160ZM180-400h160v-160H180v160Zm440 0h160v-160H620v160ZM180-180h160v-160H180v160Zm440 0h160v-160H620v160Z\"/>\n",
              "  </svg>\n",
              "    </button>\n",
              "\n",
              "  <style>\n",
              "    .colab-df-container {\n",
              "      display:flex;\n",
              "      gap: 12px;\n",
              "    }\n",
              "\n",
              "    .colab-df-convert {\n",
              "      background-color: #E8F0FE;\n",
              "      border: none;\n",
              "      border-radius: 50%;\n",
              "      cursor: pointer;\n",
              "      display: none;\n",
              "      fill: #1967D2;\n",
              "      height: 32px;\n",
              "      padding: 0 0 0 0;\n",
              "      width: 32px;\n",
              "    }\n",
              "\n",
              "    .colab-df-convert:hover {\n",
              "      background-color: #E2EBFA;\n",
              "      box-shadow: 0px 1px 2px rgba(60, 64, 67, 0.3), 0px 1px 3px 1px rgba(60, 64, 67, 0.15);\n",
              "      fill: #174EA6;\n",
              "    }\n",
              "\n",
              "    .colab-df-buttons div {\n",
              "      margin-bottom: 4px;\n",
              "    }\n",
              "\n",
              "    [theme=dark] .colab-df-convert {\n",
              "      background-color: #3B4455;\n",
              "      fill: #D2E3FC;\n",
              "    }\n",
              "\n",
              "    [theme=dark] .colab-df-convert:hover {\n",
              "      background-color: #434B5C;\n",
              "      box-shadow: 0px 1px 3px 1px rgba(0, 0, 0, 0.15);\n",
              "      filter: drop-shadow(0px 1px 2px rgba(0, 0, 0, 0.3));\n",
              "      fill: #FFFFFF;\n",
              "    }\n",
              "  </style>\n",
              "\n",
              "    <script>\n",
              "      const buttonEl =\n",
              "        document.querySelector('#df-197e6c2b-0a23-414a-b0ce-dfc610a18a9d button.colab-df-convert');\n",
              "      buttonEl.style.display =\n",
              "        google.colab.kernel.accessAllowed ? 'block' : 'none';\n",
              "\n",
              "      async function convertToInteractive(key) {\n",
              "        const element = document.querySelector('#df-197e6c2b-0a23-414a-b0ce-dfc610a18a9d');\n",
              "        const dataTable =\n",
              "          await google.colab.kernel.invokeFunction('convertToInteractive',\n",
              "                                                    [key], {});\n",
              "        if (!dataTable) return;\n",
              "\n",
              "        const docLinkHtml = 'Like what you see? Visit the ' +\n",
              "          '<a target=\"_blank\" href=https://colab.research.google.com/notebooks/data_table.ipynb>data table notebook</a>'\n",
              "          + ' to learn more about interactive tables.';\n",
              "        element.innerHTML = '';\n",
              "        dataTable['output_type'] = 'display_data';\n",
              "        await google.colab.output.renderOutput(dataTable, element);\n",
              "        const docLink = document.createElement('div');\n",
              "        docLink.innerHTML = docLinkHtml;\n",
              "        element.appendChild(docLink);\n",
              "      }\n",
              "    </script>\n",
              "  </div>\n",
              "\n",
              "\n",
              "<div id=\"df-e18439a0-a06f-4340-a1c1-a538e9aae65a\">\n",
              "  <button class=\"colab-df-quickchart\" onclick=\"quickchart('df-e18439a0-a06f-4340-a1c1-a538e9aae65a')\"\n",
              "            title=\"Suggest charts.\"\n",
              "            style=\"display:none;\">\n",
              "\n",
              "<svg xmlns=\"http://www.w3.org/2000/svg\" height=\"24px\"viewBox=\"0 0 24 24\"\n",
              "     width=\"24px\">\n",
              "    <g>\n",
              "        <path d=\"M19 3H5c-1.1 0-2 .9-2 2v14c0 1.1.9 2 2 2h14c1.1 0 2-.9 2-2V5c0-1.1-.9-2-2-2zM9 17H7v-7h2v7zm4 0h-2V7h2v10zm4 0h-2v-4h2v4z\"/>\n",
              "    </g>\n",
              "</svg>\n",
              "  </button>\n",
              "\n",
              "<style>\n",
              "  .colab-df-quickchart {\n",
              "      --bg-color: #E8F0FE;\n",
              "      --fill-color: #1967D2;\n",
              "      --hover-bg-color: #E2EBFA;\n",
              "      --hover-fill-color: #174EA6;\n",
              "      --disabled-fill-color: #AAA;\n",
              "      --disabled-bg-color: #DDD;\n",
              "  }\n",
              "\n",
              "  [theme=dark] .colab-df-quickchart {\n",
              "      --bg-color: #3B4455;\n",
              "      --fill-color: #D2E3FC;\n",
              "      --hover-bg-color: #434B5C;\n",
              "      --hover-fill-color: #FFFFFF;\n",
              "      --disabled-bg-color: #3B4455;\n",
              "      --disabled-fill-color: #666;\n",
              "  }\n",
              "\n",
              "  .colab-df-quickchart {\n",
              "    background-color: var(--bg-color);\n",
              "    border: none;\n",
              "    border-radius: 50%;\n",
              "    cursor: pointer;\n",
              "    display: none;\n",
              "    fill: var(--fill-color);\n",
              "    height: 32px;\n",
              "    padding: 0;\n",
              "    width: 32px;\n",
              "  }\n",
              "\n",
              "  .colab-df-quickchart:hover {\n",
              "    background-color: var(--hover-bg-color);\n",
              "    box-shadow: 0 1px 2px rgba(60, 64, 67, 0.3), 0 1px 3px 1px rgba(60, 64, 67, 0.15);\n",
              "    fill: var(--button-hover-fill-color);\n",
              "  }\n",
              "\n",
              "  .colab-df-quickchart-complete:disabled,\n",
              "  .colab-df-quickchart-complete:disabled:hover {\n",
              "    background-color: var(--disabled-bg-color);\n",
              "    fill: var(--disabled-fill-color);\n",
              "    box-shadow: none;\n",
              "  }\n",
              "\n",
              "  .colab-df-spinner {\n",
              "    border: 2px solid var(--fill-color);\n",
              "    border-color: transparent;\n",
              "    border-bottom-color: var(--fill-color);\n",
              "    animation:\n",
              "      spin 1s steps(1) infinite;\n",
              "  }\n",
              "\n",
              "  @keyframes spin {\n",
              "    0% {\n",
              "      border-color: transparent;\n",
              "      border-bottom-color: var(--fill-color);\n",
              "      border-left-color: var(--fill-color);\n",
              "    }\n",
              "    20% {\n",
              "      border-color: transparent;\n",
              "      border-left-color: var(--fill-color);\n",
              "      border-top-color: var(--fill-color);\n",
              "    }\n",
              "    30% {\n",
              "      border-color: transparent;\n",
              "      border-left-color: var(--fill-color);\n",
              "      border-top-color: var(--fill-color);\n",
              "      border-right-color: var(--fill-color);\n",
              "    }\n",
              "    40% {\n",
              "      border-color: transparent;\n",
              "      border-right-color: var(--fill-color);\n",
              "      border-top-color: var(--fill-color);\n",
              "    }\n",
              "    60% {\n",
              "      border-color: transparent;\n",
              "      border-right-color: var(--fill-color);\n",
              "    }\n",
              "    80% {\n",
              "      border-color: transparent;\n",
              "      border-right-color: var(--fill-color);\n",
              "      border-bottom-color: var(--fill-color);\n",
              "    }\n",
              "    90% {\n",
              "      border-color: transparent;\n",
              "      border-bottom-color: var(--fill-color);\n",
              "    }\n",
              "  }\n",
              "</style>\n",
              "\n",
              "  <script>\n",
              "    async function quickchart(key) {\n",
              "      const quickchartButtonEl =\n",
              "        document.querySelector('#' + key + ' button');\n",
              "      quickchartButtonEl.disabled = true;  // To prevent multiple clicks.\n",
              "      quickchartButtonEl.classList.add('colab-df-spinner');\n",
              "      try {\n",
              "        const charts = await google.colab.kernel.invokeFunction(\n",
              "            'suggestCharts', [key], {});\n",
              "      } catch (error) {\n",
              "        console.error('Error during call to suggestCharts:', error);\n",
              "      }\n",
              "      quickchartButtonEl.classList.remove('colab-df-spinner');\n",
              "      quickchartButtonEl.classList.add('colab-df-quickchart-complete');\n",
              "    }\n",
              "    (() => {\n",
              "      let quickchartButtonEl =\n",
              "        document.querySelector('#df-e18439a0-a06f-4340-a1c1-a538e9aae65a button');\n",
              "      quickchartButtonEl.style.display =\n",
              "        google.colab.kernel.accessAllowed ? 'block' : 'none';\n",
              "    })();\n",
              "  </script>\n",
              "</div>\n",
              "    </div>\n",
              "  </div>\n"
            ]
          },
          "metadata": {},
          "execution_count": 138
        }
      ],
      "source": [
        "# check index 891 for place_slug_id\n",
        "df_trips[df_trips.place_slug_id == 891]"
      ]
    },
    {
      "cell_type": "code",
      "execution_count": null,
      "metadata": {
        "colab": {
          "base_uri": "https://localhost:8080/"
        },
        "id": "F3FV0RNtL9Mz",
        "outputId": "e3fb93cb-a1f5-4399-cbc2-19825e7ddbda"
      },
      "outputs": [
        {
          "output_type": "execute_result",
          "data": {
            "text/plain": [
              "array([891, 244, 450, 676, 803])"
            ]
          },
          "metadata": {},
          "execution_count": 139
        }
      ],
      "source": [
        "# find the most similar indices using np.argsort\n",
        "np.argsort(cosine_distance_matrix_places[891,:])[:5]"
      ]
    },
    {
      "cell_type": "markdown",
      "metadata": {
        "id": "RMSvb8sLCjWo"
      },
      "source": [
        "Finally, we recommend items that these similar users have interacted with but the target user has not."
      ]
    },
    {
      "cell_type": "code",
      "execution_count": null,
      "metadata": {
        "colab": {
          "base_uri": "https://localhost:8080/"
        },
        "id": "slvMzPhK_K8B",
        "outputId": "0bfe636a-650a-41c2-f087-f632b65764cd"
      },
      "outputs": [
        {
          "output_type": "execute_result",
          "data": {
            "text/plain": [
              "array(['tel-aviv-israel', 'dakar-senegal', 'israel',\n",
              "       'santo-domingo-dominican-republic', 'braga-portugal',\n",
              "       'palma-mallorca-spain', 'tartu-estonia', 'saint-lucia',\n",
              "       'strasbourg-france', 'bordeaux-france'], dtype=object)"
            ]
          },
          "metadata": {},
          "execution_count": 140
        }
      ],
      "source": [
        "# Find the name of the most similar indices using inverse_transform\n",
        "le_place.inverse_transform(np.argsort(cosine_distance_matrix_places[858,:])[:10])"
      ]
    },
    {
      "cell_type": "code",
      "execution_count": null,
      "metadata": {
        "id": "LwNArTW_O1zw"
      },
      "outputs": [],
      "source": [
        "# Define a function to perform this process\n",
        "def find_similar_places(place, num_similar):\n",
        "    # Convert the place name to its corresponding numerical index\n",
        "    place_index = le_place.transform([place])[0]\n",
        "\n",
        "    # Retrieve the cosine distances for this place from the matrix\n",
        "    distances = cosine_distance_matrix_places[place_index, :]\n",
        "\n",
        "    # Get indices of num_similar smallest distances\n",
        "    closest_indices = np.argsort(distances)[:num_similar]\n",
        "\n",
        "    # Convert these indices back to place names\n",
        "    closest_places = le_place.inverse_transform(closest_indices)\n",
        "\n",
        "    return closest_places"
      ]
    },
    {
      "cell_type": "code",
      "execution_count": null,
      "metadata": {
        "colab": {
          "base_uri": "https://localhost:8080/"
        },
        "id": "k3R_2MUUPDFd",
        "outputId": "36fe5ec0-04d9-4dd4-d391-ddf36fc5863b"
      },
      "outputs": [
        {
          "output_type": "execute_result",
          "data": {
            "text/plain": [
              "array(['ko-pha-ngan-thailand', 'ubud-bali-indonesia', 'darwin-australia',\n",
              "       'vietnam', 'ho-chi-minh-city-vietnam', 'canberra-australia',\n",
              "       'siem-reap-cambodia', 'phnom-penh-cambodia', 'delhi-india',\n",
              "       'taipei-taiwan'], dtype=object)"
            ]
          },
          "metadata": {},
          "execution_count": 142
        }
      ],
      "source": [
        "# check the function\n",
        "find_similar_places('ko-pha-ngan-thailand', 10)"
      ]
    },
    {
      "cell_type": "code",
      "execution_count": null,
      "metadata": {
        "id": "Hwo4QwPtg1sa"
      },
      "outputs": [],
      "source": [
        "# Define a function to perform this process using multiple places\n",
        "\n",
        "def find_similar_multiplaces(places, num_similar):\n",
        "    # Transform place names to their corresponding numerical indices\n",
        "    places_indices = le_place.transform(places)\n",
        "\n",
        "    # Compute the average vector representation of the given places\n",
        "    avg_vector = np.mean(matrix_places[places_indices], axis=0).reshape(1, -1)\n",
        "\n",
        "    # Calculate cosine distances between the average vector and all place vectors in the matrix\n",
        "    distances = cosine_distances(avg_vector, matrix_places)[0]\n",
        "\n",
        "    # Find the indices of 'num_similar' most similar places\n",
        "    closest_indices = np.argsort(distances)[:num_similar]\n",
        "\n",
        "    # Convert numerical indices back to place names\n",
        "    return le_place.inverse_transform(closest_indices)\n"
      ]
    },
    {
      "cell_type": "code",
      "execution_count": null,
      "metadata": {
        "colab": {
          "base_uri": "https://localhost:8080/"
        },
        "id": "u0ccRJsOhY2G",
        "outputId": "51de06cd-9cd2-40d3-c06e-4e32baa68e14"
      },
      "outputs": [
        {
          "output_type": "execute_result",
          "data": {
            "text/plain": [
              "array(['siem-reap-cambodia', 'lviv-ukraine', 'ho-chi-minh-city-vietnam',\n",
              "       'yogyakarta-indonesia', 'phnom-penh-cambodia', 'shenyang-china',\n",
              "       'sinuiju-north-korea', 'north-korea', 'guiyang-china', 'indonesia',\n",
              "       'taipei-taiwan', 'kuala-lumpur-malaysia', 'krabi-thailand',\n",
              "       'darwin-australia', 'laos', 'gurgaon-india', 'ko-lanta-thailand',\n",
              "       'ubud-bali-indonesia', 'riga-latvia',\n",
              "       'road-town-british-virgin-islands'], dtype=object)"
            ]
          },
          "metadata": {},
          "execution_count": 144
        }
      ],
      "source": [
        "# check the function\n",
        "find_similar_multiplaces(['lviv-ukraine','darwin-australia'], 20)"
      ]
    },
    {
      "cell_type": "code",
      "execution_count": null,
      "metadata": {
        "colab": {
          "base_uri": "https://localhost:8080/",
          "height": 233
        },
        "id": "LUSYwLbbPGp7",
        "outputId": "f9f93c06-1c5d-4f5f-c50d-c2f8d4693afe"
      },
      "outputs": [
        {
          "output_type": "execute_result",
          "data": {
            "text/plain": [
              "       Unnamed: 0  username    country country_code country_slug   date_end  \\\n",
              "44611       44611  @9102180  Indonesia           ID    indonesia 2018-01-31   \n",
              "44612       44612  @9102180   Thailand           TH     thailand 2018-01-13   \n",
              "44613       44613  @9102180   Thailand           TH     thailand 2017-09-30   \n",
              "\n",
              "      date_start  latitude  longitude       place             place_slug  \\\n",
              "44611 2018-01-14        -8        115      Canggu  canggu-bali-indonesia   \n",
              "44612 2017-12-01        13        100     Bangkok       bangkok-thailand   \n",
              "44613 2017-08-14        18         98  Chiang Mai    chiang-mai-thailand   \n",
              "\n",
              "       duration_of_stay  username_id  place_slug_id  country_id  \n",
              "44611              17.0            7            167         106  \n",
              "44612              43.0            7             78         225  \n",
              "44613              47.0            7            191         225  "
            ],
            "text/html": [
              "\n",
              "  <div id=\"df-502f74f4-7943-435a-8df8-e2a114784aad\" class=\"colab-df-container\">\n",
              "    <div>\n",
              "<style scoped>\n",
              "    .dataframe tbody tr th:only-of-type {\n",
              "        vertical-align: middle;\n",
              "    }\n",
              "\n",
              "    .dataframe tbody tr th {\n",
              "        vertical-align: top;\n",
              "    }\n",
              "\n",
              "    .dataframe thead th {\n",
              "        text-align: right;\n",
              "    }\n",
              "</style>\n",
              "<table border=\"1\" class=\"dataframe\">\n",
              "  <thead>\n",
              "    <tr style=\"text-align: right;\">\n",
              "      <th></th>\n",
              "      <th>Unnamed: 0</th>\n",
              "      <th>username</th>\n",
              "      <th>country</th>\n",
              "      <th>country_code</th>\n",
              "      <th>country_slug</th>\n",
              "      <th>date_end</th>\n",
              "      <th>date_start</th>\n",
              "      <th>latitude</th>\n",
              "      <th>longitude</th>\n",
              "      <th>place</th>\n",
              "      <th>place_slug</th>\n",
              "      <th>duration_of_stay</th>\n",
              "      <th>username_id</th>\n",
              "      <th>place_slug_id</th>\n",
              "      <th>country_id</th>\n",
              "    </tr>\n",
              "  </thead>\n",
              "  <tbody>\n",
              "    <tr>\n",
              "      <th>44611</th>\n",
              "      <td>44611</td>\n",
              "      <td>@9102180</td>\n",
              "      <td>Indonesia</td>\n",
              "      <td>ID</td>\n",
              "      <td>indonesia</td>\n",
              "      <td>2018-01-31</td>\n",
              "      <td>2018-01-14</td>\n",
              "      <td>-8</td>\n",
              "      <td>115</td>\n",
              "      <td>Canggu</td>\n",
              "      <td>canggu-bali-indonesia</td>\n",
              "      <td>17.0</td>\n",
              "      <td>7</td>\n",
              "      <td>167</td>\n",
              "      <td>106</td>\n",
              "    </tr>\n",
              "    <tr>\n",
              "      <th>44612</th>\n",
              "      <td>44612</td>\n",
              "      <td>@9102180</td>\n",
              "      <td>Thailand</td>\n",
              "      <td>TH</td>\n",
              "      <td>thailand</td>\n",
              "      <td>2018-01-13</td>\n",
              "      <td>2017-12-01</td>\n",
              "      <td>13</td>\n",
              "      <td>100</td>\n",
              "      <td>Bangkok</td>\n",
              "      <td>bangkok-thailand</td>\n",
              "      <td>43.0</td>\n",
              "      <td>7</td>\n",
              "      <td>78</td>\n",
              "      <td>225</td>\n",
              "    </tr>\n",
              "    <tr>\n",
              "      <th>44613</th>\n",
              "      <td>44613</td>\n",
              "      <td>@9102180</td>\n",
              "      <td>Thailand</td>\n",
              "      <td>TH</td>\n",
              "      <td>thailand</td>\n",
              "      <td>2017-09-30</td>\n",
              "      <td>2017-08-14</td>\n",
              "      <td>18</td>\n",
              "      <td>98</td>\n",
              "      <td>Chiang Mai</td>\n",
              "      <td>chiang-mai-thailand</td>\n",
              "      <td>47.0</td>\n",
              "      <td>7</td>\n",
              "      <td>191</td>\n",
              "      <td>225</td>\n",
              "    </tr>\n",
              "  </tbody>\n",
              "</table>\n",
              "</div>\n",
              "    <div class=\"colab-df-buttons\">\n",
              "\n",
              "  <div class=\"colab-df-container\">\n",
              "    <button class=\"colab-df-convert\" onclick=\"convertToInteractive('df-502f74f4-7943-435a-8df8-e2a114784aad')\"\n",
              "            title=\"Convert this dataframe to an interactive table.\"\n",
              "            style=\"display:none;\">\n",
              "\n",
              "  <svg xmlns=\"http://www.w3.org/2000/svg\" height=\"24px\" viewBox=\"0 -960 960 960\">\n",
              "    <path d=\"M120-120v-720h720v720H120Zm60-500h600v-160H180v160Zm220 220h160v-160H400v160Zm0 220h160v-160H400v160ZM180-400h160v-160H180v160Zm440 0h160v-160H620v160ZM180-180h160v-160H180v160Zm440 0h160v-160H620v160Z\"/>\n",
              "  </svg>\n",
              "    </button>\n",
              "\n",
              "  <style>\n",
              "    .colab-df-container {\n",
              "      display:flex;\n",
              "      gap: 12px;\n",
              "    }\n",
              "\n",
              "    .colab-df-convert {\n",
              "      background-color: #E8F0FE;\n",
              "      border: none;\n",
              "      border-radius: 50%;\n",
              "      cursor: pointer;\n",
              "      display: none;\n",
              "      fill: #1967D2;\n",
              "      height: 32px;\n",
              "      padding: 0 0 0 0;\n",
              "      width: 32px;\n",
              "    }\n",
              "\n",
              "    .colab-df-convert:hover {\n",
              "      background-color: #E2EBFA;\n",
              "      box-shadow: 0px 1px 2px rgba(60, 64, 67, 0.3), 0px 1px 3px 1px rgba(60, 64, 67, 0.15);\n",
              "      fill: #174EA6;\n",
              "    }\n",
              "\n",
              "    .colab-df-buttons div {\n",
              "      margin-bottom: 4px;\n",
              "    }\n",
              "\n",
              "    [theme=dark] .colab-df-convert {\n",
              "      background-color: #3B4455;\n",
              "      fill: #D2E3FC;\n",
              "    }\n",
              "\n",
              "    [theme=dark] .colab-df-convert:hover {\n",
              "      background-color: #434B5C;\n",
              "      box-shadow: 0px 1px 3px 1px rgba(0, 0, 0, 0.15);\n",
              "      filter: drop-shadow(0px 1px 2px rgba(0, 0, 0, 0.3));\n",
              "      fill: #FFFFFF;\n",
              "    }\n",
              "  </style>\n",
              "\n",
              "    <script>\n",
              "      const buttonEl =\n",
              "        document.querySelector('#df-502f74f4-7943-435a-8df8-e2a114784aad button.colab-df-convert');\n",
              "      buttonEl.style.display =\n",
              "        google.colab.kernel.accessAllowed ? 'block' : 'none';\n",
              "\n",
              "      async function convertToInteractive(key) {\n",
              "        const element = document.querySelector('#df-502f74f4-7943-435a-8df8-e2a114784aad');\n",
              "        const dataTable =\n",
              "          await google.colab.kernel.invokeFunction('convertToInteractive',\n",
              "                                                    [key], {});\n",
              "        if (!dataTable) return;\n",
              "\n",
              "        const docLinkHtml = 'Like what you see? Visit the ' +\n",
              "          '<a target=\"_blank\" href=https://colab.research.google.com/notebooks/data_table.ipynb>data table notebook</a>'\n",
              "          + ' to learn more about interactive tables.';\n",
              "        element.innerHTML = '';\n",
              "        dataTable['output_type'] = 'display_data';\n",
              "        await google.colab.output.renderOutput(dataTable, element);\n",
              "        const docLink = document.createElement('div');\n",
              "        docLink.innerHTML = docLinkHtml;\n",
              "        element.appendChild(docLink);\n",
              "      }\n",
              "    </script>\n",
              "  </div>\n",
              "\n",
              "\n",
              "<div id=\"df-abe0df30-24f6-4427-b20b-e879803d1da1\">\n",
              "  <button class=\"colab-df-quickchart\" onclick=\"quickchart('df-abe0df30-24f6-4427-b20b-e879803d1da1')\"\n",
              "            title=\"Suggest charts.\"\n",
              "            style=\"display:none;\">\n",
              "\n",
              "<svg xmlns=\"http://www.w3.org/2000/svg\" height=\"24px\"viewBox=\"0 0 24 24\"\n",
              "     width=\"24px\">\n",
              "    <g>\n",
              "        <path d=\"M19 3H5c-1.1 0-2 .9-2 2v14c0 1.1.9 2 2 2h14c1.1 0 2-.9 2-2V5c0-1.1-.9-2-2-2zM9 17H7v-7h2v7zm4 0h-2V7h2v10zm4 0h-2v-4h2v4z\"/>\n",
              "    </g>\n",
              "</svg>\n",
              "  </button>\n",
              "\n",
              "<style>\n",
              "  .colab-df-quickchart {\n",
              "      --bg-color: #E8F0FE;\n",
              "      --fill-color: #1967D2;\n",
              "      --hover-bg-color: #E2EBFA;\n",
              "      --hover-fill-color: #174EA6;\n",
              "      --disabled-fill-color: #AAA;\n",
              "      --disabled-bg-color: #DDD;\n",
              "  }\n",
              "\n",
              "  [theme=dark] .colab-df-quickchart {\n",
              "      --bg-color: #3B4455;\n",
              "      --fill-color: #D2E3FC;\n",
              "      --hover-bg-color: #434B5C;\n",
              "      --hover-fill-color: #FFFFFF;\n",
              "      --disabled-bg-color: #3B4455;\n",
              "      --disabled-fill-color: #666;\n",
              "  }\n",
              "\n",
              "  .colab-df-quickchart {\n",
              "    background-color: var(--bg-color);\n",
              "    border: none;\n",
              "    border-radius: 50%;\n",
              "    cursor: pointer;\n",
              "    display: none;\n",
              "    fill: var(--fill-color);\n",
              "    height: 32px;\n",
              "    padding: 0;\n",
              "    width: 32px;\n",
              "  }\n",
              "\n",
              "  .colab-df-quickchart:hover {\n",
              "    background-color: var(--hover-bg-color);\n",
              "    box-shadow: 0 1px 2px rgba(60, 64, 67, 0.3), 0 1px 3px 1px rgba(60, 64, 67, 0.15);\n",
              "    fill: var(--button-hover-fill-color);\n",
              "  }\n",
              "\n",
              "  .colab-df-quickchart-complete:disabled,\n",
              "  .colab-df-quickchart-complete:disabled:hover {\n",
              "    background-color: var(--disabled-bg-color);\n",
              "    fill: var(--disabled-fill-color);\n",
              "    box-shadow: none;\n",
              "  }\n",
              "\n",
              "  .colab-df-spinner {\n",
              "    border: 2px solid var(--fill-color);\n",
              "    border-color: transparent;\n",
              "    border-bottom-color: var(--fill-color);\n",
              "    animation:\n",
              "      spin 1s steps(1) infinite;\n",
              "  }\n",
              "\n",
              "  @keyframes spin {\n",
              "    0% {\n",
              "      border-color: transparent;\n",
              "      border-bottom-color: var(--fill-color);\n",
              "      border-left-color: var(--fill-color);\n",
              "    }\n",
              "    20% {\n",
              "      border-color: transparent;\n",
              "      border-left-color: var(--fill-color);\n",
              "      border-top-color: var(--fill-color);\n",
              "    }\n",
              "    30% {\n",
              "      border-color: transparent;\n",
              "      border-left-color: var(--fill-color);\n",
              "      border-top-color: var(--fill-color);\n",
              "      border-right-color: var(--fill-color);\n",
              "    }\n",
              "    40% {\n",
              "      border-color: transparent;\n",
              "      border-right-color: var(--fill-color);\n",
              "      border-top-color: var(--fill-color);\n",
              "    }\n",
              "    60% {\n",
              "      border-color: transparent;\n",
              "      border-right-color: var(--fill-color);\n",
              "    }\n",
              "    80% {\n",
              "      border-color: transparent;\n",
              "      border-right-color: var(--fill-color);\n",
              "      border-bottom-color: var(--fill-color);\n",
              "    }\n",
              "    90% {\n",
              "      border-color: transparent;\n",
              "      border-bottom-color: var(--fill-color);\n",
              "    }\n",
              "  }\n",
              "</style>\n",
              "\n",
              "  <script>\n",
              "    async function quickchart(key) {\n",
              "      const quickchartButtonEl =\n",
              "        document.querySelector('#' + key + ' button');\n",
              "      quickchartButtonEl.disabled = true;  // To prevent multiple clicks.\n",
              "      quickchartButtonEl.classList.add('colab-df-spinner');\n",
              "      try {\n",
              "        const charts = await google.colab.kernel.invokeFunction(\n",
              "            'suggestCharts', [key], {});\n",
              "      } catch (error) {\n",
              "        console.error('Error during call to suggestCharts:', error);\n",
              "      }\n",
              "      quickchartButtonEl.classList.remove('colab-df-spinner');\n",
              "      quickchartButtonEl.classList.add('colab-df-quickchart-complete');\n",
              "    }\n",
              "    (() => {\n",
              "      let quickchartButtonEl =\n",
              "        document.querySelector('#df-abe0df30-24f6-4427-b20b-e879803d1da1 button');\n",
              "      quickchartButtonEl.style.display =\n",
              "        google.colab.kernel.accessAllowed ? 'block' : 'none';\n",
              "    })();\n",
              "  </script>\n",
              "</div>\n",
              "    </div>\n",
              "  </div>\n"
            ]
          },
          "metadata": {},
          "execution_count": 145
        }
      ],
      "source": [
        "# check username_id 7\n",
        "df_trips[df_trips.username_id == 7]"
      ]
    },
    {
      "cell_type": "code",
      "execution_count": null,
      "metadata": {
        "colab": {
          "base_uri": "https://localhost:8080/"
        },
        "id": "STz4j8q5RxD1",
        "outputId": "6984acc4-1196-428d-d3c0-62597c8546ef"
      },
      "outputs": [
        {
          "output_type": "execute_result",
          "data": {
            "text/plain": [
              "array([167,  78, 191])"
            ]
          },
          "metadata": {},
          "execution_count": 146
        }
      ],
      "source": [
        "# find the place_slug_ids for username_id 7\n",
        "user_places_ids = df_trips[df_trips.username_id == 7]['place_slug_id'].unique()\n",
        "user_places_ids"
      ]
    },
    {
      "cell_type": "code",
      "execution_count": null,
      "metadata": {
        "colab": {
          "base_uri": "https://localhost:8080/"
        },
        "id": "a3HyOQaMa5jq",
        "outputId": "e19821d2-ef55-4336-e373-828fb378af03"
      },
      "outputs": [
        {
          "output_type": "execute_result",
          "data": {
            "text/plain": [
              "(961, 5)"
            ]
          },
          "metadata": {},
          "execution_count": 147
        }
      ],
      "source": [
        "# Checking the dimensions of the dataset.\n",
        "matrix_places.shape"
      ]
    },
    {
      "cell_type": "code",
      "execution_count": null,
      "metadata": {
        "colab": {
          "base_uri": "https://localhost:8080/"
        },
        "id": "j_kcvx3ESB4o",
        "outputId": "28205961-8f25-4491-e053-bc65c2ca2747"
      },
      "outputs": [
        {
          "output_type": "execute_result",
          "data": {
            "text/plain": [
              "(3, 5)"
            ]
          },
          "metadata": {},
          "execution_count": 148
        }
      ],
      "source": [
        "# Checking the dimensions of the dataset.\n",
        "matrix_places[user_places_ids].shape"
      ]
    },
    {
      "cell_type": "code",
      "execution_count": null,
      "metadata": {
        "colab": {
          "base_uri": "https://localhost:8080/"
        },
        "id": "3q_vSy86R4JG",
        "outputId": "52b398bd-d6c9-4bed-d80d-4006f8931cae"
      },
      "outputs": [
        {
          "output_type": "execute_result",
          "data": {
            "text/plain": [
              "array([ 20.33792152, -13.08586169,  11.97776613,  25.2318614 ,\n",
              "        -0.55921509])"
            ]
          },
          "metadata": {},
          "execution_count": 149
        }
      ],
      "source": [
        "# Compute the average vector representation of the given places\n",
        "\n",
        "user_vector_trips = np.mean(matrix_places[user_places_ids], axis=0)\n",
        "user_vector_trips"
      ]
    },
    {
      "cell_type": "code",
      "execution_count": null,
      "metadata": {
        "colab": {
          "base_uri": "https://localhost:8080/"
        },
        "id": "anaKSPufbVhx",
        "outputId": "c0fd607b-198b-437e-d418-f70b62ea80d9"
      },
      "outputs": [
        {
          "output_type": "execute_result",
          "data": {
            "text/plain": [
              "array([[ 20.33792152, -13.08586169,  11.97776613,  25.2318614 ,\n",
              "         -0.55921509]])"
            ]
          },
          "metadata": {},
          "execution_count": 150
        }
      ],
      "source": [
        "# Checking the dimensions of the dataset.\n",
        "user_vector_trips.reshape(1,5)"
      ]
    },
    {
      "cell_type": "code",
      "execution_count": null,
      "metadata": {
        "colab": {
          "base_uri": "https://localhost:8080/"
        },
        "id": "RDF4LT3lR9FN",
        "outputId": "d8558b28-1a67-49af-ada8-781be1895d40"
      },
      "outputs": [
        {
          "output_type": "execute_result",
          "data": {
            "text/plain": [
              "(1, 961)"
            ]
          },
          "metadata": {},
          "execution_count": 151
        }
      ],
      "source": [
        "# Calculate cosine distances between the average vector and all place vectors in the matrix\n",
        "closest_for_user = cosine_distances(user_vector_trips.reshape(1,5), matrix_places)\n",
        "closest_for_user.shape"
      ]
    },
    {
      "cell_type": "code",
      "execution_count": null,
      "metadata": {
        "colab": {
          "base_uri": "https://localhost:8080/"
        },
        "id": "j90ovuHubL5t",
        "outputId": "4af333c1-3f33-4672-a315-9a612264d9a3"
      },
      "outputs": [
        {
          "output_type": "execute_result",
          "data": {
            "text/plain": [
              "array([405, 589,  78, 159, 191, 652, 448, 845, 814,  77])"
            ]
          },
          "metadata": {},
          "execution_count": 152
        }
      ],
      "source": [
        "# find the most similar indices using np.argsort\n",
        "np.argsort(closest_for_user[0])[:10]"
      ]
    },
    {
      "cell_type": "code",
      "execution_count": null,
      "metadata": {
        "colab": {
          "base_uri": "https://localhost:8080/"
        },
        "id": "p-jrPZaKbjj9",
        "outputId": "c72cf71f-709e-4281-a0df-7481be96747a"
      },
      "outputs": [
        {
          "output_type": "execute_result",
          "data": {
            "text/plain": [
              "array(['jakarta-indonesia', 'mumbai-india', 'bangkok-thailand',\n",
              "       'cambodia', 'chiang-mai-thailand', 'pai-thailand',\n",
              "       'ko-lanta-thailand', 'taiwan', 'sofia-bulgaria', 'bangalore-india'],\n",
              "      dtype=object)"
            ]
          },
          "metadata": {},
          "execution_count": 153
        }
      ],
      "source": [
        "# Find the name of the most similar indices using inverse_transform\n",
        "le_place.inverse_transform(np.argsort(closest_for_user[0])[:10])"
      ]
    },
    {
      "cell_type": "code",
      "execution_count": null,
      "metadata": {
        "id": "DDPWqlZ_coPA"
      },
      "outputs": [],
      "source": [
        "# Define a function to perform this process using multiple places for a specific username_id\n",
        "\n",
        "def find_similar_user_places(u_id, num_similar):\n",
        "    # Get unique places visited by the user\n",
        "    user_places_ids = df_trips[df_trips.username_id == u_id]['place_slug_id'].unique()\n",
        "\n",
        "    # Compute the average vector representation for these places\n",
        "    user_vector = np.mean(matrix_places[user_places_ids], axis=0)\n",
        "\n",
        "    # Calculate the cosine distances between the user vector and all other places\n",
        "    distances = cosine_distances(user_vector.reshape(1, -1), matrix_places)\n",
        "\n",
        "    # Get the indices of the 'num_similar' closest places\n",
        "    closest_indices = np.argsort(distances[0])[:num_similar]\n",
        "\n",
        "    # Convert these indices back to place names\n",
        "    closest_places = le_place.inverse_transform(closest_indices)\n",
        "\n",
        "    return closest_places\n"
      ]
    },
    {
      "cell_type": "markdown",
      "source": [
        "####**Exercise 3: Implementing a item-based recommender system using both username and country as input parameters**\n",
        "\n",
        "\n",
        "Implement the third step of a recommender system using both username and country as input parameters.\n",
        "\n"
      ],
      "metadata": {
        "id": "t0V0veuLNF3C"
      }
    },
    {
      "cell_type": "markdown",
      "metadata": {
        "id": "MxSByLclRhRo"
      },
      "source": [
        "####3.3.2. User-Based Collaborative Filtering\n",
        "\n",
        "Recommends items by finding users who are similar to the target user. If user A is similar to user B, then the items liked by user B can be recommended to user A."
      ]
    },
    {
      "cell_type": "markdown",
      "metadata": {
        "id": "D8oNuBtHXz2z"
      },
      "source": [
        "####**Question 4: What is the main difference between item-based and user-based recommender systems?**\n",
        "\n",
        "Item-based recommender systems focus on recommending travel destinations based on similarities between the destinations themselves, while user-based recommender systems make recommendations based on similarities between users' past behaviors and preferences. Item-based is generally good for new users, whereas user-based provides more personalized recommendations but may struggle with new users.\n",
        "\n",
        "\n",
        "\n",
        "\n",
        "\n"
      ]
    },
    {
      "cell_type": "code",
      "execution_count": null,
      "metadata": {
        "colab": {
          "base_uri": "https://localhost:8080/"
        },
        "id": "k6Jtl8dKbrir",
        "outputId": "0dfb8d89-6306-4385-c9d2-e818ae0afebf"
      },
      "outputs": [
        {
          "output_type": "execute_result",
          "data": {
            "text/plain": [
              "(2871, 2871)"
            ]
          },
          "metadata": {},
          "execution_count": 155
        }
      ],
      "source": [
        "# Calculate the cosine distances between all pairs of users in the matrix_users\n",
        "cosine_distance_matrix_users = cosine_distances(matrix_users)\n",
        "cosine_distance_matrix_users.shape"
      ]
    },
    {
      "cell_type": "code",
      "execution_count": null,
      "metadata": {
        "colab": {
          "base_uri": "https://localhost:8080/"
        },
        "id": "hTIBTy62b4Kw",
        "outputId": "556add30-197c-4fc5-a573-027703e1ddbe"
      },
      "outputs": [
        {
          "output_type": "execute_result",
          "data": {
            "text/plain": [
              "array([555])"
            ]
          },
          "metadata": {},
          "execution_count": 156
        }
      ],
      "source": [
        "# check index for user @cw\n",
        "le_user.transform(['@cw'])"
      ]
    },
    {
      "cell_type": "code",
      "execution_count": null,
      "metadata": {
        "colab": {
          "base_uri": "https://localhost:8080/",
          "height": 382
        },
        "id": "EMfRGqHAcLR5",
        "outputId": "082c3217-92fc-44ca-ccd0-e1b4ca9de259"
      },
      "outputs": [
        {
          "output_type": "execute_result",
          "data": {
            "text/plain": [
              "       Unnamed: 0 username         country country_code    country_slug  \\\n",
              "46261       46261      @cw           Spain           ES           spain   \n",
              "46262       46262      @cw  United Kingdom           UK  united-kingdom   \n",
              "46263       46263      @cw  United Kingdom           UK  united-kingdom   \n",
              "46264       46264      @cw  United Kingdom           UK  united-kingdom   \n",
              "46265       46265      @cw  United Kingdom           UK  united-kingdom   \n",
              "\n",
              "        date_end date_start  latitude  longitude      place  \\\n",
              "46261 2016-10-14 2016-09-19        36         -4      Mijas   \n",
              "46262 2016-09-18 2016-08-25        51          0     London   \n",
              "46263 2016-08-24 2016-08-16        52         -1  Lichfield   \n",
              "46264 2016-08-15 2016-07-21        55         -4    Glasgow   \n",
              "46265 2016-07-20 2016-07-16        51          0     London   \n",
              "\n",
              "                   place_slug  duration_of_stay  username_id  place_slug_id  \\\n",
              "46261                   spain              25.0          555            821   \n",
              "46262   london-united-kingdom              24.0          555            506   \n",
              "46263          united-kingdom               8.0          555            898   \n",
              "46264  glasgow-united-kingdom              25.0          555            319   \n",
              "46265   london-united-kingdom               4.0          555            506   \n",
              "\n",
              "       country_id  \n",
              "46261         214  \n",
              "46262         237  \n",
              "46263         237  \n",
              "46264         237  \n",
              "46265         237  "
            ],
            "text/html": [
              "\n",
              "  <div id=\"df-a7808589-20dc-4259-a91a-ed5505f78a2f\" class=\"colab-df-container\">\n",
              "    <div>\n",
              "<style scoped>\n",
              "    .dataframe tbody tr th:only-of-type {\n",
              "        vertical-align: middle;\n",
              "    }\n",
              "\n",
              "    .dataframe tbody tr th {\n",
              "        vertical-align: top;\n",
              "    }\n",
              "\n",
              "    .dataframe thead th {\n",
              "        text-align: right;\n",
              "    }\n",
              "</style>\n",
              "<table border=\"1\" class=\"dataframe\">\n",
              "  <thead>\n",
              "    <tr style=\"text-align: right;\">\n",
              "      <th></th>\n",
              "      <th>Unnamed: 0</th>\n",
              "      <th>username</th>\n",
              "      <th>country</th>\n",
              "      <th>country_code</th>\n",
              "      <th>country_slug</th>\n",
              "      <th>date_end</th>\n",
              "      <th>date_start</th>\n",
              "      <th>latitude</th>\n",
              "      <th>longitude</th>\n",
              "      <th>place</th>\n",
              "      <th>place_slug</th>\n",
              "      <th>duration_of_stay</th>\n",
              "      <th>username_id</th>\n",
              "      <th>place_slug_id</th>\n",
              "      <th>country_id</th>\n",
              "    </tr>\n",
              "  </thead>\n",
              "  <tbody>\n",
              "    <tr>\n",
              "      <th>46261</th>\n",
              "      <td>46261</td>\n",
              "      <td>@cw</td>\n",
              "      <td>Spain</td>\n",
              "      <td>ES</td>\n",
              "      <td>spain</td>\n",
              "      <td>2016-10-14</td>\n",
              "      <td>2016-09-19</td>\n",
              "      <td>36</td>\n",
              "      <td>-4</td>\n",
              "      <td>Mijas</td>\n",
              "      <td>spain</td>\n",
              "      <td>25.0</td>\n",
              "      <td>555</td>\n",
              "      <td>821</td>\n",
              "      <td>214</td>\n",
              "    </tr>\n",
              "    <tr>\n",
              "      <th>46262</th>\n",
              "      <td>46262</td>\n",
              "      <td>@cw</td>\n",
              "      <td>United Kingdom</td>\n",
              "      <td>UK</td>\n",
              "      <td>united-kingdom</td>\n",
              "      <td>2016-09-18</td>\n",
              "      <td>2016-08-25</td>\n",
              "      <td>51</td>\n",
              "      <td>0</td>\n",
              "      <td>London</td>\n",
              "      <td>london-united-kingdom</td>\n",
              "      <td>24.0</td>\n",
              "      <td>555</td>\n",
              "      <td>506</td>\n",
              "      <td>237</td>\n",
              "    </tr>\n",
              "    <tr>\n",
              "      <th>46263</th>\n",
              "      <td>46263</td>\n",
              "      <td>@cw</td>\n",
              "      <td>United Kingdom</td>\n",
              "      <td>UK</td>\n",
              "      <td>united-kingdom</td>\n",
              "      <td>2016-08-24</td>\n",
              "      <td>2016-08-16</td>\n",
              "      <td>52</td>\n",
              "      <td>-1</td>\n",
              "      <td>Lichfield</td>\n",
              "      <td>united-kingdom</td>\n",
              "      <td>8.0</td>\n",
              "      <td>555</td>\n",
              "      <td>898</td>\n",
              "      <td>237</td>\n",
              "    </tr>\n",
              "    <tr>\n",
              "      <th>46264</th>\n",
              "      <td>46264</td>\n",
              "      <td>@cw</td>\n",
              "      <td>United Kingdom</td>\n",
              "      <td>UK</td>\n",
              "      <td>united-kingdom</td>\n",
              "      <td>2016-08-15</td>\n",
              "      <td>2016-07-21</td>\n",
              "      <td>55</td>\n",
              "      <td>-4</td>\n",
              "      <td>Glasgow</td>\n",
              "      <td>glasgow-united-kingdom</td>\n",
              "      <td>25.0</td>\n",
              "      <td>555</td>\n",
              "      <td>319</td>\n",
              "      <td>237</td>\n",
              "    </tr>\n",
              "    <tr>\n",
              "      <th>46265</th>\n",
              "      <td>46265</td>\n",
              "      <td>@cw</td>\n",
              "      <td>United Kingdom</td>\n",
              "      <td>UK</td>\n",
              "      <td>united-kingdom</td>\n",
              "      <td>2016-07-20</td>\n",
              "      <td>2016-07-16</td>\n",
              "      <td>51</td>\n",
              "      <td>0</td>\n",
              "      <td>London</td>\n",
              "      <td>london-united-kingdom</td>\n",
              "      <td>4.0</td>\n",
              "      <td>555</td>\n",
              "      <td>506</td>\n",
              "      <td>237</td>\n",
              "    </tr>\n",
              "  </tbody>\n",
              "</table>\n",
              "</div>\n",
              "    <div class=\"colab-df-buttons\">\n",
              "\n",
              "  <div class=\"colab-df-container\">\n",
              "    <button class=\"colab-df-convert\" onclick=\"convertToInteractive('df-a7808589-20dc-4259-a91a-ed5505f78a2f')\"\n",
              "            title=\"Convert this dataframe to an interactive table.\"\n",
              "            style=\"display:none;\">\n",
              "\n",
              "  <svg xmlns=\"http://www.w3.org/2000/svg\" height=\"24px\" viewBox=\"0 -960 960 960\">\n",
              "    <path d=\"M120-120v-720h720v720H120Zm60-500h600v-160H180v160Zm220 220h160v-160H400v160Zm0 220h160v-160H400v160ZM180-400h160v-160H180v160Zm440 0h160v-160H620v160ZM180-180h160v-160H180v160Zm440 0h160v-160H620v160Z\"/>\n",
              "  </svg>\n",
              "    </button>\n",
              "\n",
              "  <style>\n",
              "    .colab-df-container {\n",
              "      display:flex;\n",
              "      gap: 12px;\n",
              "    }\n",
              "\n",
              "    .colab-df-convert {\n",
              "      background-color: #E8F0FE;\n",
              "      border: none;\n",
              "      border-radius: 50%;\n",
              "      cursor: pointer;\n",
              "      display: none;\n",
              "      fill: #1967D2;\n",
              "      height: 32px;\n",
              "      padding: 0 0 0 0;\n",
              "      width: 32px;\n",
              "    }\n",
              "\n",
              "    .colab-df-convert:hover {\n",
              "      background-color: #E2EBFA;\n",
              "      box-shadow: 0px 1px 2px rgba(60, 64, 67, 0.3), 0px 1px 3px 1px rgba(60, 64, 67, 0.15);\n",
              "      fill: #174EA6;\n",
              "    }\n",
              "\n",
              "    .colab-df-buttons div {\n",
              "      margin-bottom: 4px;\n",
              "    }\n",
              "\n",
              "    [theme=dark] .colab-df-convert {\n",
              "      background-color: #3B4455;\n",
              "      fill: #D2E3FC;\n",
              "    }\n",
              "\n",
              "    [theme=dark] .colab-df-convert:hover {\n",
              "      background-color: #434B5C;\n",
              "      box-shadow: 0px 1px 3px 1px rgba(0, 0, 0, 0.15);\n",
              "      filter: drop-shadow(0px 1px 2px rgba(0, 0, 0, 0.3));\n",
              "      fill: #FFFFFF;\n",
              "    }\n",
              "  </style>\n",
              "\n",
              "    <script>\n",
              "      const buttonEl =\n",
              "        document.querySelector('#df-a7808589-20dc-4259-a91a-ed5505f78a2f button.colab-df-convert');\n",
              "      buttonEl.style.display =\n",
              "        google.colab.kernel.accessAllowed ? 'block' : 'none';\n",
              "\n",
              "      async function convertToInteractive(key) {\n",
              "        const element = document.querySelector('#df-a7808589-20dc-4259-a91a-ed5505f78a2f');\n",
              "        const dataTable =\n",
              "          await google.colab.kernel.invokeFunction('convertToInteractive',\n",
              "                                                    [key], {});\n",
              "        if (!dataTable) return;\n",
              "\n",
              "        const docLinkHtml = 'Like what you see? Visit the ' +\n",
              "          '<a target=\"_blank\" href=https://colab.research.google.com/notebooks/data_table.ipynb>data table notebook</a>'\n",
              "          + ' to learn more about interactive tables.';\n",
              "        element.innerHTML = '';\n",
              "        dataTable['output_type'] = 'display_data';\n",
              "        await google.colab.output.renderOutput(dataTable, element);\n",
              "        const docLink = document.createElement('div');\n",
              "        docLink.innerHTML = docLinkHtml;\n",
              "        element.appendChild(docLink);\n",
              "      }\n",
              "    </script>\n",
              "  </div>\n",
              "\n",
              "\n",
              "<div id=\"df-131753b8-f883-4f53-b368-863a96214986\">\n",
              "  <button class=\"colab-df-quickchart\" onclick=\"quickchart('df-131753b8-f883-4f53-b368-863a96214986')\"\n",
              "            title=\"Suggest charts.\"\n",
              "            style=\"display:none;\">\n",
              "\n",
              "<svg xmlns=\"http://www.w3.org/2000/svg\" height=\"24px\"viewBox=\"0 0 24 24\"\n",
              "     width=\"24px\">\n",
              "    <g>\n",
              "        <path d=\"M19 3H5c-1.1 0-2 .9-2 2v14c0 1.1.9 2 2 2h14c1.1 0 2-.9 2-2V5c0-1.1-.9-2-2-2zM9 17H7v-7h2v7zm4 0h-2V7h2v10zm4 0h-2v-4h2v4z\"/>\n",
              "    </g>\n",
              "</svg>\n",
              "  </button>\n",
              "\n",
              "<style>\n",
              "  .colab-df-quickchart {\n",
              "      --bg-color: #E8F0FE;\n",
              "      --fill-color: #1967D2;\n",
              "      --hover-bg-color: #E2EBFA;\n",
              "      --hover-fill-color: #174EA6;\n",
              "      --disabled-fill-color: #AAA;\n",
              "      --disabled-bg-color: #DDD;\n",
              "  }\n",
              "\n",
              "  [theme=dark] .colab-df-quickchart {\n",
              "      --bg-color: #3B4455;\n",
              "      --fill-color: #D2E3FC;\n",
              "      --hover-bg-color: #434B5C;\n",
              "      --hover-fill-color: #FFFFFF;\n",
              "      --disabled-bg-color: #3B4455;\n",
              "      --disabled-fill-color: #666;\n",
              "  }\n",
              "\n",
              "  .colab-df-quickchart {\n",
              "    background-color: var(--bg-color);\n",
              "    border: none;\n",
              "    border-radius: 50%;\n",
              "    cursor: pointer;\n",
              "    display: none;\n",
              "    fill: var(--fill-color);\n",
              "    height: 32px;\n",
              "    padding: 0;\n",
              "    width: 32px;\n",
              "  }\n",
              "\n",
              "  .colab-df-quickchart:hover {\n",
              "    background-color: var(--hover-bg-color);\n",
              "    box-shadow: 0 1px 2px rgba(60, 64, 67, 0.3), 0 1px 3px 1px rgba(60, 64, 67, 0.15);\n",
              "    fill: var(--button-hover-fill-color);\n",
              "  }\n",
              "\n",
              "  .colab-df-quickchart-complete:disabled,\n",
              "  .colab-df-quickchart-complete:disabled:hover {\n",
              "    background-color: var(--disabled-bg-color);\n",
              "    fill: var(--disabled-fill-color);\n",
              "    box-shadow: none;\n",
              "  }\n",
              "\n",
              "  .colab-df-spinner {\n",
              "    border: 2px solid var(--fill-color);\n",
              "    border-color: transparent;\n",
              "    border-bottom-color: var(--fill-color);\n",
              "    animation:\n",
              "      spin 1s steps(1) infinite;\n",
              "  }\n",
              "\n",
              "  @keyframes spin {\n",
              "    0% {\n",
              "      border-color: transparent;\n",
              "      border-bottom-color: var(--fill-color);\n",
              "      border-left-color: var(--fill-color);\n",
              "    }\n",
              "    20% {\n",
              "      border-color: transparent;\n",
              "      border-left-color: var(--fill-color);\n",
              "      border-top-color: var(--fill-color);\n",
              "    }\n",
              "    30% {\n",
              "      border-color: transparent;\n",
              "      border-left-color: var(--fill-color);\n",
              "      border-top-color: var(--fill-color);\n",
              "      border-right-color: var(--fill-color);\n",
              "    }\n",
              "    40% {\n",
              "      border-color: transparent;\n",
              "      border-right-color: var(--fill-color);\n",
              "      border-top-color: var(--fill-color);\n",
              "    }\n",
              "    60% {\n",
              "      border-color: transparent;\n",
              "      border-right-color: var(--fill-color);\n",
              "    }\n",
              "    80% {\n",
              "      border-color: transparent;\n",
              "      border-right-color: var(--fill-color);\n",
              "      border-bottom-color: var(--fill-color);\n",
              "    }\n",
              "    90% {\n",
              "      border-color: transparent;\n",
              "      border-bottom-color: var(--fill-color);\n",
              "    }\n",
              "  }\n",
              "</style>\n",
              "\n",
              "  <script>\n",
              "    async function quickchart(key) {\n",
              "      const quickchartButtonEl =\n",
              "        document.querySelector('#' + key + ' button');\n",
              "      quickchartButtonEl.disabled = true;  // To prevent multiple clicks.\n",
              "      quickchartButtonEl.classList.add('colab-df-spinner');\n",
              "      try {\n",
              "        const charts = await google.colab.kernel.invokeFunction(\n",
              "            'suggestCharts', [key], {});\n",
              "      } catch (error) {\n",
              "        console.error('Error during call to suggestCharts:', error);\n",
              "      }\n",
              "      quickchartButtonEl.classList.remove('colab-df-spinner');\n",
              "      quickchartButtonEl.classList.add('colab-df-quickchart-complete');\n",
              "    }\n",
              "    (() => {\n",
              "      let quickchartButtonEl =\n",
              "        document.querySelector('#df-131753b8-f883-4f53-b368-863a96214986 button');\n",
              "      quickchartButtonEl.style.display =\n",
              "        google.colab.kernel.accessAllowed ? 'block' : 'none';\n",
              "    })();\n",
              "  </script>\n",
              "</div>\n",
              "    </div>\n",
              "  </div>\n"
            ]
          },
          "metadata": {},
          "execution_count": 157
        }
      ],
      "source": [
        "# Displaying the first few rows of the dataset for user @cw\n",
        "df_trips[df_trips.username_id == 555].head()"
      ]
    },
    {
      "cell_type": "code",
      "execution_count": null,
      "metadata": {
        "colab": {
          "base_uri": "https://localhost:8080/"
        },
        "id": "0rlEoEmqcfvE",
        "outputId": "b04ec7c9-ffa5-40fe-a9d4-9d66ee4a104f"
      },
      "outputs": [
        {
          "output_type": "execute_result",
          "data": {
            "text/plain": [
              "array([ 555, 2644,  153, 1371,  702])"
            ]
          },
          "metadata": {},
          "execution_count": 158
        }
      ],
      "source": [
        "# find the most similar indices using np.argsort\n",
        "np.argsort(cosine_distance_matrix_users[555,:])[:5]"
      ]
    },
    {
      "cell_type": "code",
      "execution_count": null,
      "metadata": {
        "colab": {
          "base_uri": "https://localhost:8080/"
        },
        "id": "6zo604GhdHbs",
        "outputId": "3792a683-d41c-4668-d522-298983d5fb64"
      },
      "outputs": [
        {
          "output_type": "execute_result",
          "data": {
            "text/plain": [
              "array(['@cw', '@travpreneur', '@andrea', '@katehuentelman', '@dpashley',\n",
              "       '@avizcarrondo', '@darep', '@adrianavecc', '@bneiluj', '@marsty5'],\n",
              "      dtype=object)"
            ]
          },
          "metadata": {},
          "execution_count": 159
        }
      ],
      "source": [
        "# Find the name of the most similar indices using inverse_transform\n",
        "le_user.inverse_transform(np.argsort(cosine_distance_matrix_users[555,:])[:10])"
      ]
    },
    {
      "cell_type": "code",
      "execution_count": null,
      "metadata": {
        "colab": {
          "base_uri": "https://localhost:8080/"
        },
        "id": "9nxgrA_qdhvb",
        "outputId": "4d89ad85-e138-4ea9-a74d-3c5af479af67"
      },
      "outputs": [
        {
          "output_type": "execute_result",
          "data": {
            "text/plain": [
              "array([821, 506, 898, 319, 300, 614, 373, 870, 407, 594, 472, 135, 839,\n",
              "       559, 507, 765, 891, 167, 790, 101, 743, 694, 531, 609, 899, 193,\n",
              "       480, 841, 665, 590, 761,  69])"
            ]
          },
          "metadata": {},
          "execution_count": 160
        }
      ],
      "source": [
        "# Find the list of places for the target user\n",
        "userbased_user_places_ids_1 = df_trips[df_trips.username_id == 555]['place_slug_id'].unique()\n",
        "userbased_user_places_ids_1"
      ]
    },
    {
      "cell_type": "code",
      "execution_count": null,
      "metadata": {
        "colab": {
          "base_uri": "https://localhost:8080/"
        },
        "id": "XlOWZwMQepOv",
        "outputId": "4ab79dca-3a55-49c2-ba74-d46f7954c45b"
      },
      "outputs": [
        {
          "output_type": "execute_result",
          "data": {
            "text/plain": [
              "array([710, 506, 542, 765, 764, 899, 766, 609,  34, 109, 101, 589, 916,\n",
              "       415, 246, 381, 265,  91, 898, 308, 393, 888, 328,  62, 911, 743,\n",
              "       865, 480,  84, 821, 665, 362, 826,  15, 258, 806, 803,  78, 430])"
            ]
          },
          "metadata": {},
          "execution_count": 161
        }
      ],
      "source": [
        "# Find the list of places for the most similar user to the target user\n",
        "\n",
        "userbased_user_places_ids_2 = df_trips[df_trips.username_id == 2644]['place_slug_id'].unique()\n",
        "userbased_user_places_ids_2"
      ]
    },
    {
      "cell_type": "code",
      "execution_count": null,
      "metadata": {
        "colab": {
          "base_uri": "https://localhost:8080/"
        },
        "id": "1_XQUzLqfo3e",
        "outputId": "52840b69-30fb-4950-eef1-b317893560a4"
      },
      "outputs": [
        {
          "output_type": "stream",
          "name": "stdout",
          "text": [
            "Is NOT in target_user_places_ids: [710 542 764 766  34 109 589 916 415 246 381 265  91 308 393 888 328  62\n",
            " 911 865  84 362 826  15 258 806 803  78 430]\n"
          ]
        }
      ],
      "source": [
        "# Find elements in userbased_user_places_ids that are NOT in target_user_places_ids\n",
        "userbased_recs_ids = ~np.isin(userbased_user_places_ids_2, userbased_user_places_ids_1)\n",
        "\n",
        "print(\"Is NOT in target_user_places_ids:\", userbased_user_places_ids_2[userbased_recs_ids])"
      ]
    },
    {
      "cell_type": "code",
      "execution_count": null,
      "metadata": {
        "colab": {
          "base_uri": "https://localhost:8080/"
        },
        "id": "fe-uLFu7gZJN",
        "outputId": "f4121fb8-45db-4422-ef1c-05c8efce4975"
      },
      "outputs": [
        {
          "output_type": "execute_result",
          "data": {
            "text/plain": [
              "array(['pune-india', 'manchester-united-kingdom',\n",
              "       'san-diego-ca-united-states', 'san-jose-ca-united-states',\n",
              "       'amsterdam-netherlands', 'birmingham-united-kingdom',\n",
              "       'mumbai-india', 'victoria-seychelles', 'johannesburg-south-africa',\n",
              "       'delhi-india'], dtype=object)"
            ]
          },
          "metadata": {},
          "execution_count": 163
        }
      ],
      "source": [
        "# List of recommended places\n",
        "le_place.inverse_transform(userbased_user_places_ids_2[userbased_recs_ids])[:10]"
      ]
    },
    {
      "cell_type": "markdown",
      "source": [
        "####**Exercise 4: Implementing a user-based recommender system using both username and country as input parameters**\n",
        "\n",
        "\n",
        "Implement the third step of a user-based recommender system using both username and country as input parameters.\n"
      ],
      "metadata": {
        "id": "bRFSBJ8oNmAd"
      }
    },
    {
      "cell_type": "markdown",
      "metadata": {
        "id": "j9DONUW5YngH"
      },
      "source": [
        "####**Question 5: How can geospatial information be used to improve the performance of a trip recommender system?**\n"
      ]
    },
    {
      "cell_type": "code",
      "execution_count": null,
      "metadata": {
        "id": "MEYZHAhKgTi7"
      },
      "outputs": [],
      "source": [
        "# Miscellaneous operation.\n",
        "suggestions_list = find_similar_user_places(7, 10).tolist()"
      ]
    },
    {
      "cell_type": "code",
      "execution_count": null,
      "metadata": {
        "colab": {
          "base_uri": "https://localhost:8080/"
        },
        "id": "sHTtvKtR66Ec",
        "outputId": "90989611-dd4c-4334-9eff-9c75dbf18719"
      },
      "outputs": [
        {
          "output_type": "execute_result",
          "data": {
            "text/plain": [
              "['jakarta-indonesia',\n",
              " 'mumbai-india',\n",
              " 'bangkok-thailand',\n",
              " 'cambodia',\n",
              " 'chiang-mai-thailand',\n",
              " 'pai-thailand',\n",
              " 'ko-lanta-thailand',\n",
              " 'taiwan',\n",
              " 'sofia-bulgaria',\n",
              " 'bangalore-india']"
            ]
          },
          "metadata": {},
          "execution_count": 165
        }
      ],
      "source": [
        "# Miscellaneous operation.\n",
        "suggestions_list"
      ]
    },
    {
      "cell_type": "code",
      "execution_count": null,
      "metadata": {
        "colab": {
          "base_uri": "https://localhost:8080/",
          "height": 330
        },
        "id": "uFefcFbj2b4y",
        "outputId": "923e0b7d-ee00-4d22-f80f-ee92b932ba08"
      },
      "outputs": [
        {
          "output_type": "execute_result",
          "data": {
            "text/plain": [
              "   Unnamed: 0          username country country_code country_slug   date_end  \\\n",
              "0           0  @lewellenmichael  Mexico           MX       mexico 2018-06-15   \n",
              "1           1  @lewellenmichael  Mexico           MX       mexico 2018-06-03   \n",
              "2           2  @lewellenmichael  Mexico           MX       mexico 2017-11-05   \n",
              "3           3  @lewellenmichael  Jordan           JO       jordan 2017-08-07   \n",
              "4           4      @waylandchin   China           CN        china 2017-03-18   \n",
              "\n",
              "  date_start  latitude  longitude        place          place_slug  \\\n",
              "0 2018-06-04        21       -101   Guanajuato              mexico   \n",
              "1 2018-05-31        19        -99  Mexico City  mexico-city-mexico   \n",
              "2 2017-11-01        21        -86       Cancun       cancun-mexico   \n",
              "3 2017-07-24        31         35        Amman        amman-jordan   \n",
              "4 2017-02-17        40        122      Yingkou               china   \n",
              "\n",
              "   duration_of_stay  username_id  place_slug_id  country_id  \n",
              "0              11.0         1512            563         146  \n",
              "1               3.0         1512            564         146  \n",
              "2               4.0         1512            166         146  \n",
              "3              14.0         1512             32         113  \n",
              "4              29.0         2742            196          55  "
            ],
            "text/html": [
              "\n",
              "  <div id=\"df-5ec210d2-654b-425a-bb18-ab075c4eecbf\" class=\"colab-df-container\">\n",
              "    <div>\n",
              "<style scoped>\n",
              "    .dataframe tbody tr th:only-of-type {\n",
              "        vertical-align: middle;\n",
              "    }\n",
              "\n",
              "    .dataframe tbody tr th {\n",
              "        vertical-align: top;\n",
              "    }\n",
              "\n",
              "    .dataframe thead th {\n",
              "        text-align: right;\n",
              "    }\n",
              "</style>\n",
              "<table border=\"1\" class=\"dataframe\">\n",
              "  <thead>\n",
              "    <tr style=\"text-align: right;\">\n",
              "      <th></th>\n",
              "      <th>Unnamed: 0</th>\n",
              "      <th>username</th>\n",
              "      <th>country</th>\n",
              "      <th>country_code</th>\n",
              "      <th>country_slug</th>\n",
              "      <th>date_end</th>\n",
              "      <th>date_start</th>\n",
              "      <th>latitude</th>\n",
              "      <th>longitude</th>\n",
              "      <th>place</th>\n",
              "      <th>place_slug</th>\n",
              "      <th>duration_of_stay</th>\n",
              "      <th>username_id</th>\n",
              "      <th>place_slug_id</th>\n",
              "      <th>country_id</th>\n",
              "    </tr>\n",
              "  </thead>\n",
              "  <tbody>\n",
              "    <tr>\n",
              "      <th>0</th>\n",
              "      <td>0</td>\n",
              "      <td>@lewellenmichael</td>\n",
              "      <td>Mexico</td>\n",
              "      <td>MX</td>\n",
              "      <td>mexico</td>\n",
              "      <td>2018-06-15</td>\n",
              "      <td>2018-06-04</td>\n",
              "      <td>21</td>\n",
              "      <td>-101</td>\n",
              "      <td>Guanajuato</td>\n",
              "      <td>mexico</td>\n",
              "      <td>11.0</td>\n",
              "      <td>1512</td>\n",
              "      <td>563</td>\n",
              "      <td>146</td>\n",
              "    </tr>\n",
              "    <tr>\n",
              "      <th>1</th>\n",
              "      <td>1</td>\n",
              "      <td>@lewellenmichael</td>\n",
              "      <td>Mexico</td>\n",
              "      <td>MX</td>\n",
              "      <td>mexico</td>\n",
              "      <td>2018-06-03</td>\n",
              "      <td>2018-05-31</td>\n",
              "      <td>19</td>\n",
              "      <td>-99</td>\n",
              "      <td>Mexico City</td>\n",
              "      <td>mexico-city-mexico</td>\n",
              "      <td>3.0</td>\n",
              "      <td>1512</td>\n",
              "      <td>564</td>\n",
              "      <td>146</td>\n",
              "    </tr>\n",
              "    <tr>\n",
              "      <th>2</th>\n",
              "      <td>2</td>\n",
              "      <td>@lewellenmichael</td>\n",
              "      <td>Mexico</td>\n",
              "      <td>MX</td>\n",
              "      <td>mexico</td>\n",
              "      <td>2017-11-05</td>\n",
              "      <td>2017-11-01</td>\n",
              "      <td>21</td>\n",
              "      <td>-86</td>\n",
              "      <td>Cancun</td>\n",
              "      <td>cancun-mexico</td>\n",
              "      <td>4.0</td>\n",
              "      <td>1512</td>\n",
              "      <td>166</td>\n",
              "      <td>146</td>\n",
              "    </tr>\n",
              "    <tr>\n",
              "      <th>3</th>\n",
              "      <td>3</td>\n",
              "      <td>@lewellenmichael</td>\n",
              "      <td>Jordan</td>\n",
              "      <td>JO</td>\n",
              "      <td>jordan</td>\n",
              "      <td>2017-08-07</td>\n",
              "      <td>2017-07-24</td>\n",
              "      <td>31</td>\n",
              "      <td>35</td>\n",
              "      <td>Amman</td>\n",
              "      <td>amman-jordan</td>\n",
              "      <td>14.0</td>\n",
              "      <td>1512</td>\n",
              "      <td>32</td>\n",
              "      <td>113</td>\n",
              "    </tr>\n",
              "    <tr>\n",
              "      <th>4</th>\n",
              "      <td>4</td>\n",
              "      <td>@waylandchin</td>\n",
              "      <td>China</td>\n",
              "      <td>CN</td>\n",
              "      <td>china</td>\n",
              "      <td>2017-03-18</td>\n",
              "      <td>2017-02-17</td>\n",
              "      <td>40</td>\n",
              "      <td>122</td>\n",
              "      <td>Yingkou</td>\n",
              "      <td>china</td>\n",
              "      <td>29.0</td>\n",
              "      <td>2742</td>\n",
              "      <td>196</td>\n",
              "      <td>55</td>\n",
              "    </tr>\n",
              "  </tbody>\n",
              "</table>\n",
              "</div>\n",
              "    <div class=\"colab-df-buttons\">\n",
              "\n",
              "  <div class=\"colab-df-container\">\n",
              "    <button class=\"colab-df-convert\" onclick=\"convertToInteractive('df-5ec210d2-654b-425a-bb18-ab075c4eecbf')\"\n",
              "            title=\"Convert this dataframe to an interactive table.\"\n",
              "            style=\"display:none;\">\n",
              "\n",
              "  <svg xmlns=\"http://www.w3.org/2000/svg\" height=\"24px\" viewBox=\"0 -960 960 960\">\n",
              "    <path d=\"M120-120v-720h720v720H120Zm60-500h600v-160H180v160Zm220 220h160v-160H400v160Zm0 220h160v-160H400v160ZM180-400h160v-160H180v160Zm440 0h160v-160H620v160ZM180-180h160v-160H180v160Zm440 0h160v-160H620v160Z\"/>\n",
              "  </svg>\n",
              "    </button>\n",
              "\n",
              "  <style>\n",
              "    .colab-df-container {\n",
              "      display:flex;\n",
              "      gap: 12px;\n",
              "    }\n",
              "\n",
              "    .colab-df-convert {\n",
              "      background-color: #E8F0FE;\n",
              "      border: none;\n",
              "      border-radius: 50%;\n",
              "      cursor: pointer;\n",
              "      display: none;\n",
              "      fill: #1967D2;\n",
              "      height: 32px;\n",
              "      padding: 0 0 0 0;\n",
              "      width: 32px;\n",
              "    }\n",
              "\n",
              "    .colab-df-convert:hover {\n",
              "      background-color: #E2EBFA;\n",
              "      box-shadow: 0px 1px 2px rgba(60, 64, 67, 0.3), 0px 1px 3px 1px rgba(60, 64, 67, 0.15);\n",
              "      fill: #174EA6;\n",
              "    }\n",
              "\n",
              "    .colab-df-buttons div {\n",
              "      margin-bottom: 4px;\n",
              "    }\n",
              "\n",
              "    [theme=dark] .colab-df-convert {\n",
              "      background-color: #3B4455;\n",
              "      fill: #D2E3FC;\n",
              "    }\n",
              "\n",
              "    [theme=dark] .colab-df-convert:hover {\n",
              "      background-color: #434B5C;\n",
              "      box-shadow: 0px 1px 3px 1px rgba(0, 0, 0, 0.15);\n",
              "      filter: drop-shadow(0px 1px 2px rgba(0, 0, 0, 0.3));\n",
              "      fill: #FFFFFF;\n",
              "    }\n",
              "  </style>\n",
              "\n",
              "    <script>\n",
              "      const buttonEl =\n",
              "        document.querySelector('#df-5ec210d2-654b-425a-bb18-ab075c4eecbf button.colab-df-convert');\n",
              "      buttonEl.style.display =\n",
              "        google.colab.kernel.accessAllowed ? 'block' : 'none';\n",
              "\n",
              "      async function convertToInteractive(key) {\n",
              "        const element = document.querySelector('#df-5ec210d2-654b-425a-bb18-ab075c4eecbf');\n",
              "        const dataTable =\n",
              "          await google.colab.kernel.invokeFunction('convertToInteractive',\n",
              "                                                    [key], {});\n",
              "        if (!dataTable) return;\n",
              "\n",
              "        const docLinkHtml = 'Like what you see? Visit the ' +\n",
              "          '<a target=\"_blank\" href=https://colab.research.google.com/notebooks/data_table.ipynb>data table notebook</a>'\n",
              "          + ' to learn more about interactive tables.';\n",
              "        element.innerHTML = '';\n",
              "        dataTable['output_type'] = 'display_data';\n",
              "        await google.colab.output.renderOutput(dataTable, element);\n",
              "        const docLink = document.createElement('div');\n",
              "        docLink.innerHTML = docLinkHtml;\n",
              "        element.appendChild(docLink);\n",
              "      }\n",
              "    </script>\n",
              "  </div>\n",
              "\n",
              "\n",
              "<div id=\"df-19a2f85a-ea5f-4345-b00f-c38a0647d1fd\">\n",
              "  <button class=\"colab-df-quickchart\" onclick=\"quickchart('df-19a2f85a-ea5f-4345-b00f-c38a0647d1fd')\"\n",
              "            title=\"Suggest charts.\"\n",
              "            style=\"display:none;\">\n",
              "\n",
              "<svg xmlns=\"http://www.w3.org/2000/svg\" height=\"24px\"viewBox=\"0 0 24 24\"\n",
              "     width=\"24px\">\n",
              "    <g>\n",
              "        <path d=\"M19 3H5c-1.1 0-2 .9-2 2v14c0 1.1.9 2 2 2h14c1.1 0 2-.9 2-2V5c0-1.1-.9-2-2-2zM9 17H7v-7h2v7zm4 0h-2V7h2v10zm4 0h-2v-4h2v4z\"/>\n",
              "    </g>\n",
              "</svg>\n",
              "  </button>\n",
              "\n",
              "<style>\n",
              "  .colab-df-quickchart {\n",
              "      --bg-color: #E8F0FE;\n",
              "      --fill-color: #1967D2;\n",
              "      --hover-bg-color: #E2EBFA;\n",
              "      --hover-fill-color: #174EA6;\n",
              "      --disabled-fill-color: #AAA;\n",
              "      --disabled-bg-color: #DDD;\n",
              "  }\n",
              "\n",
              "  [theme=dark] .colab-df-quickchart {\n",
              "      --bg-color: #3B4455;\n",
              "      --fill-color: #D2E3FC;\n",
              "      --hover-bg-color: #434B5C;\n",
              "      --hover-fill-color: #FFFFFF;\n",
              "      --disabled-bg-color: #3B4455;\n",
              "      --disabled-fill-color: #666;\n",
              "  }\n",
              "\n",
              "  .colab-df-quickchart {\n",
              "    background-color: var(--bg-color);\n",
              "    border: none;\n",
              "    border-radius: 50%;\n",
              "    cursor: pointer;\n",
              "    display: none;\n",
              "    fill: var(--fill-color);\n",
              "    height: 32px;\n",
              "    padding: 0;\n",
              "    width: 32px;\n",
              "  }\n",
              "\n",
              "  .colab-df-quickchart:hover {\n",
              "    background-color: var(--hover-bg-color);\n",
              "    box-shadow: 0 1px 2px rgba(60, 64, 67, 0.3), 0 1px 3px 1px rgba(60, 64, 67, 0.15);\n",
              "    fill: var(--button-hover-fill-color);\n",
              "  }\n",
              "\n",
              "  .colab-df-quickchart-complete:disabled,\n",
              "  .colab-df-quickchart-complete:disabled:hover {\n",
              "    background-color: var(--disabled-bg-color);\n",
              "    fill: var(--disabled-fill-color);\n",
              "    box-shadow: none;\n",
              "  }\n",
              "\n",
              "  .colab-df-spinner {\n",
              "    border: 2px solid var(--fill-color);\n",
              "    border-color: transparent;\n",
              "    border-bottom-color: var(--fill-color);\n",
              "    animation:\n",
              "      spin 1s steps(1) infinite;\n",
              "  }\n",
              "\n",
              "  @keyframes spin {\n",
              "    0% {\n",
              "      border-color: transparent;\n",
              "      border-bottom-color: var(--fill-color);\n",
              "      border-left-color: var(--fill-color);\n",
              "    }\n",
              "    20% {\n",
              "      border-color: transparent;\n",
              "      border-left-color: var(--fill-color);\n",
              "      border-top-color: var(--fill-color);\n",
              "    }\n",
              "    30% {\n",
              "      border-color: transparent;\n",
              "      border-left-color: var(--fill-color);\n",
              "      border-top-color: var(--fill-color);\n",
              "      border-right-color: var(--fill-color);\n",
              "    }\n",
              "    40% {\n",
              "      border-color: transparent;\n",
              "      border-right-color: var(--fill-color);\n",
              "      border-top-color: var(--fill-color);\n",
              "    }\n",
              "    60% {\n",
              "      border-color: transparent;\n",
              "      border-right-color: var(--fill-color);\n",
              "    }\n",
              "    80% {\n",
              "      border-color: transparent;\n",
              "      border-right-color: var(--fill-color);\n",
              "      border-bottom-color: var(--fill-color);\n",
              "    }\n",
              "    90% {\n",
              "      border-color: transparent;\n",
              "      border-bottom-color: var(--fill-color);\n",
              "    }\n",
              "  }\n",
              "</style>\n",
              "\n",
              "  <script>\n",
              "    async function quickchart(key) {\n",
              "      const quickchartButtonEl =\n",
              "        document.querySelector('#' + key + ' button');\n",
              "      quickchartButtonEl.disabled = true;  // To prevent multiple clicks.\n",
              "      quickchartButtonEl.classList.add('colab-df-spinner');\n",
              "      try {\n",
              "        const charts = await google.colab.kernel.invokeFunction(\n",
              "            'suggestCharts', [key], {});\n",
              "      } catch (error) {\n",
              "        console.error('Error during call to suggestCharts:', error);\n",
              "      }\n",
              "      quickchartButtonEl.classList.remove('colab-df-spinner');\n",
              "      quickchartButtonEl.classList.add('colab-df-quickchart-complete');\n",
              "    }\n",
              "    (() => {\n",
              "      let quickchartButtonEl =\n",
              "        document.querySelector('#df-19a2f85a-ea5f-4345-b00f-c38a0647d1fd button');\n",
              "      quickchartButtonEl.style.display =\n",
              "        google.colab.kernel.accessAllowed ? 'block' : 'none';\n",
              "    })();\n",
              "  </script>\n",
              "</div>\n",
              "    </div>\n",
              "  </div>\n"
            ]
          },
          "metadata": {},
          "execution_count": 166
        }
      ],
      "source": [
        "# Displaying the first few rows of the dataset.\n",
        "df_trips.head()"
      ]
    },
    {
      "cell_type": "code",
      "execution_count": null,
      "metadata": {
        "colab": {
          "base_uri": "https://localhost:8080/",
          "height": 417
        },
        "id": "dcsYfgbK2eJE",
        "outputId": "dc9c21a7-49a7-47b2-d34a-84608631548e"
      },
      "outputs": [
        {
          "output_type": "execute_result",
          "data": {
            "text/plain": [
              "   Unnamed: 0          username country country_code country_slug   date_end  \\\n",
              "0           0  @lewellenmichael  Mexico           MX       mexico 2018-06-15   \n",
              "1           1  @lewellenmichael  Mexico           MX       mexico 2018-06-03   \n",
              "2           2  @lewellenmichael  Mexico           MX       mexico 2017-11-05   \n",
              "3           3  @lewellenmichael  Jordan           JO       jordan 2017-08-07   \n",
              "4           4      @waylandchin   China           CN        china 2017-03-18   \n",
              "\n",
              "  date_start  latitude  longitude        place          place_slug  \\\n",
              "0 2018-06-04        21       -101   Guanajuato              mexico   \n",
              "1 2018-05-31        19        -99  Mexico City  mexico-city-mexico   \n",
              "2 2017-11-01        21        -86       Cancun       cancun-mexico   \n",
              "3 2017-07-24        31         35        Amman        amman-jordan   \n",
              "4 2017-02-17        40        122      Yingkou               china   \n",
              "\n",
              "   duration_of_stay  username_id  place_slug_id  country_id  \\\n",
              "0              11.0         1512            563         146   \n",
              "1               3.0         1512            564         146   \n",
              "2               4.0         1512            166         146   \n",
              "3              14.0         1512             32         113   \n",
              "4              29.0         2742            196          55   \n",
              "\n",
              "                            geometry  \n",
              "0  POINT (-7272583.880 15408807.746)  \n",
              "1  POINT (-7846615.343 15509244.452)  \n",
              "2  POINT (-9463174.560 12902912.786)  \n",
              "3    POINT (2427460.642 3607388.444)  \n",
              "4   POINT (6461116.216 12134261.666)  "
            ],
            "text/html": [
              "\n",
              "  <div id=\"df-b5ccf7c7-d429-48f0-9821-f0c57b23e5ca\" class=\"colab-df-container\">\n",
              "    <div>\n",
              "<style scoped>\n",
              "    .dataframe tbody tr th:only-of-type {\n",
              "        vertical-align: middle;\n",
              "    }\n",
              "\n",
              "    .dataframe tbody tr th {\n",
              "        vertical-align: top;\n",
              "    }\n",
              "\n",
              "    .dataframe thead th {\n",
              "        text-align: right;\n",
              "    }\n",
              "</style>\n",
              "<table border=\"1\" class=\"dataframe\">\n",
              "  <thead>\n",
              "    <tr style=\"text-align: right;\">\n",
              "      <th></th>\n",
              "      <th>Unnamed: 0</th>\n",
              "      <th>username</th>\n",
              "      <th>country</th>\n",
              "      <th>country_code</th>\n",
              "      <th>country_slug</th>\n",
              "      <th>date_end</th>\n",
              "      <th>date_start</th>\n",
              "      <th>latitude</th>\n",
              "      <th>longitude</th>\n",
              "      <th>place</th>\n",
              "      <th>place_slug</th>\n",
              "      <th>duration_of_stay</th>\n",
              "      <th>username_id</th>\n",
              "      <th>place_slug_id</th>\n",
              "      <th>country_id</th>\n",
              "      <th>geometry</th>\n",
              "    </tr>\n",
              "  </thead>\n",
              "  <tbody>\n",
              "    <tr>\n",
              "      <th>0</th>\n",
              "      <td>0</td>\n",
              "      <td>@lewellenmichael</td>\n",
              "      <td>Mexico</td>\n",
              "      <td>MX</td>\n",
              "      <td>mexico</td>\n",
              "      <td>2018-06-15</td>\n",
              "      <td>2018-06-04</td>\n",
              "      <td>21</td>\n",
              "      <td>-101</td>\n",
              "      <td>Guanajuato</td>\n",
              "      <td>mexico</td>\n",
              "      <td>11.0</td>\n",
              "      <td>1512</td>\n",
              "      <td>563</td>\n",
              "      <td>146</td>\n",
              "      <td>POINT (-7272583.880 15408807.746)</td>\n",
              "    </tr>\n",
              "    <tr>\n",
              "      <th>1</th>\n",
              "      <td>1</td>\n",
              "      <td>@lewellenmichael</td>\n",
              "      <td>Mexico</td>\n",
              "      <td>MX</td>\n",
              "      <td>mexico</td>\n",
              "      <td>2018-06-03</td>\n",
              "      <td>2018-05-31</td>\n",
              "      <td>19</td>\n",
              "      <td>-99</td>\n",
              "      <td>Mexico City</td>\n",
              "      <td>mexico-city-mexico</td>\n",
              "      <td>3.0</td>\n",
              "      <td>1512</td>\n",
              "      <td>564</td>\n",
              "      <td>146</td>\n",
              "      <td>POINT (-7846615.343 15509244.452)</td>\n",
              "    </tr>\n",
              "    <tr>\n",
              "      <th>2</th>\n",
              "      <td>2</td>\n",
              "      <td>@lewellenmichael</td>\n",
              "      <td>Mexico</td>\n",
              "      <td>MX</td>\n",
              "      <td>mexico</td>\n",
              "      <td>2017-11-05</td>\n",
              "      <td>2017-11-01</td>\n",
              "      <td>21</td>\n",
              "      <td>-86</td>\n",
              "      <td>Cancun</td>\n",
              "      <td>cancun-mexico</td>\n",
              "      <td>4.0</td>\n",
              "      <td>1512</td>\n",
              "      <td>166</td>\n",
              "      <td>146</td>\n",
              "      <td>POINT (-9463174.560 12902912.786)</td>\n",
              "    </tr>\n",
              "    <tr>\n",
              "      <th>3</th>\n",
              "      <td>3</td>\n",
              "      <td>@lewellenmichael</td>\n",
              "      <td>Jordan</td>\n",
              "      <td>JO</td>\n",
              "      <td>jordan</td>\n",
              "      <td>2017-08-07</td>\n",
              "      <td>2017-07-24</td>\n",
              "      <td>31</td>\n",
              "      <td>35</td>\n",
              "      <td>Amman</td>\n",
              "      <td>amman-jordan</td>\n",
              "      <td>14.0</td>\n",
              "      <td>1512</td>\n",
              "      <td>32</td>\n",
              "      <td>113</td>\n",
              "      <td>POINT (2427460.642 3607388.444)</td>\n",
              "    </tr>\n",
              "    <tr>\n",
              "      <th>4</th>\n",
              "      <td>4</td>\n",
              "      <td>@waylandchin</td>\n",
              "      <td>China</td>\n",
              "      <td>CN</td>\n",
              "      <td>china</td>\n",
              "      <td>2017-03-18</td>\n",
              "      <td>2017-02-17</td>\n",
              "      <td>40</td>\n",
              "      <td>122</td>\n",
              "      <td>Yingkou</td>\n",
              "      <td>china</td>\n",
              "      <td>29.0</td>\n",
              "      <td>2742</td>\n",
              "      <td>196</td>\n",
              "      <td>55</td>\n",
              "      <td>POINT (6461116.216 12134261.666)</td>\n",
              "    </tr>\n",
              "  </tbody>\n",
              "</table>\n",
              "</div>\n",
              "    <div class=\"colab-df-buttons\">\n",
              "\n",
              "  <div class=\"colab-df-container\">\n",
              "    <button class=\"colab-df-convert\" onclick=\"convertToInteractive('df-b5ccf7c7-d429-48f0-9821-f0c57b23e5ca')\"\n",
              "            title=\"Convert this dataframe to an interactive table.\"\n",
              "            style=\"display:none;\">\n",
              "\n",
              "  <svg xmlns=\"http://www.w3.org/2000/svg\" height=\"24px\" viewBox=\"0 -960 960 960\">\n",
              "    <path d=\"M120-120v-720h720v720H120Zm60-500h600v-160H180v160Zm220 220h160v-160H400v160Zm0 220h160v-160H400v160ZM180-400h160v-160H180v160Zm440 0h160v-160H620v160ZM180-180h160v-160H180v160Zm440 0h160v-160H620v160Z\"/>\n",
              "  </svg>\n",
              "    </button>\n",
              "\n",
              "  <style>\n",
              "    .colab-df-container {\n",
              "      display:flex;\n",
              "      gap: 12px;\n",
              "    }\n",
              "\n",
              "    .colab-df-convert {\n",
              "      background-color: #E8F0FE;\n",
              "      border: none;\n",
              "      border-radius: 50%;\n",
              "      cursor: pointer;\n",
              "      display: none;\n",
              "      fill: #1967D2;\n",
              "      height: 32px;\n",
              "      padding: 0 0 0 0;\n",
              "      width: 32px;\n",
              "    }\n",
              "\n",
              "    .colab-df-convert:hover {\n",
              "      background-color: #E2EBFA;\n",
              "      box-shadow: 0px 1px 2px rgba(60, 64, 67, 0.3), 0px 1px 3px 1px rgba(60, 64, 67, 0.15);\n",
              "      fill: #174EA6;\n",
              "    }\n",
              "\n",
              "    .colab-df-buttons div {\n",
              "      margin-bottom: 4px;\n",
              "    }\n",
              "\n",
              "    [theme=dark] .colab-df-convert {\n",
              "      background-color: #3B4455;\n",
              "      fill: #D2E3FC;\n",
              "    }\n",
              "\n",
              "    [theme=dark] .colab-df-convert:hover {\n",
              "      background-color: #434B5C;\n",
              "      box-shadow: 0px 1px 3px 1px rgba(0, 0, 0, 0.15);\n",
              "      filter: drop-shadow(0px 1px 2px rgba(0, 0, 0, 0.3));\n",
              "      fill: #FFFFFF;\n",
              "    }\n",
              "  </style>\n",
              "\n",
              "    <script>\n",
              "      const buttonEl =\n",
              "        document.querySelector('#df-b5ccf7c7-d429-48f0-9821-f0c57b23e5ca button.colab-df-convert');\n",
              "      buttonEl.style.display =\n",
              "        google.colab.kernel.accessAllowed ? 'block' : 'none';\n",
              "\n",
              "      async function convertToInteractive(key) {\n",
              "        const element = document.querySelector('#df-b5ccf7c7-d429-48f0-9821-f0c57b23e5ca');\n",
              "        const dataTable =\n",
              "          await google.colab.kernel.invokeFunction('convertToInteractive',\n",
              "                                                    [key], {});\n",
              "        if (!dataTable) return;\n",
              "\n",
              "        const docLinkHtml = 'Like what you see? Visit the ' +\n",
              "          '<a target=\"_blank\" href=https://colab.research.google.com/notebooks/data_table.ipynb>data table notebook</a>'\n",
              "          + ' to learn more about interactive tables.';\n",
              "        element.innerHTML = '';\n",
              "        dataTable['output_type'] = 'display_data';\n",
              "        await google.colab.output.renderOutput(dataTable, element);\n",
              "        const docLink = document.createElement('div');\n",
              "        docLink.innerHTML = docLinkHtml;\n",
              "        element.appendChild(docLink);\n",
              "      }\n",
              "    </script>\n",
              "  </div>\n",
              "\n",
              "\n",
              "<div id=\"df-373b81b6-5410-4ba9-8297-7f3a29b0a6cf\">\n",
              "  <button class=\"colab-df-quickchart\" onclick=\"quickchart('df-373b81b6-5410-4ba9-8297-7f3a29b0a6cf')\"\n",
              "            title=\"Suggest charts.\"\n",
              "            style=\"display:none;\">\n",
              "\n",
              "<svg xmlns=\"http://www.w3.org/2000/svg\" height=\"24px\"viewBox=\"0 0 24 24\"\n",
              "     width=\"24px\">\n",
              "    <g>\n",
              "        <path d=\"M19 3H5c-1.1 0-2 .9-2 2v14c0 1.1.9 2 2 2h14c1.1 0 2-.9 2-2V5c0-1.1-.9-2-2-2zM9 17H7v-7h2v7zm4 0h-2V7h2v10zm4 0h-2v-4h2v4z\"/>\n",
              "    </g>\n",
              "</svg>\n",
              "  </button>\n",
              "\n",
              "<style>\n",
              "  .colab-df-quickchart {\n",
              "      --bg-color: #E8F0FE;\n",
              "      --fill-color: #1967D2;\n",
              "      --hover-bg-color: #E2EBFA;\n",
              "      --hover-fill-color: #174EA6;\n",
              "      --disabled-fill-color: #AAA;\n",
              "      --disabled-bg-color: #DDD;\n",
              "  }\n",
              "\n",
              "  [theme=dark] .colab-df-quickchart {\n",
              "      --bg-color: #3B4455;\n",
              "      --fill-color: #D2E3FC;\n",
              "      --hover-bg-color: #434B5C;\n",
              "      --hover-fill-color: #FFFFFF;\n",
              "      --disabled-bg-color: #3B4455;\n",
              "      --disabled-fill-color: #666;\n",
              "  }\n",
              "\n",
              "  .colab-df-quickchart {\n",
              "    background-color: var(--bg-color);\n",
              "    border: none;\n",
              "    border-radius: 50%;\n",
              "    cursor: pointer;\n",
              "    display: none;\n",
              "    fill: var(--fill-color);\n",
              "    height: 32px;\n",
              "    padding: 0;\n",
              "    width: 32px;\n",
              "  }\n",
              "\n",
              "  .colab-df-quickchart:hover {\n",
              "    background-color: var(--hover-bg-color);\n",
              "    box-shadow: 0 1px 2px rgba(60, 64, 67, 0.3), 0 1px 3px 1px rgba(60, 64, 67, 0.15);\n",
              "    fill: var(--button-hover-fill-color);\n",
              "  }\n",
              "\n",
              "  .colab-df-quickchart-complete:disabled,\n",
              "  .colab-df-quickchart-complete:disabled:hover {\n",
              "    background-color: var(--disabled-bg-color);\n",
              "    fill: var(--disabled-fill-color);\n",
              "    box-shadow: none;\n",
              "  }\n",
              "\n",
              "  .colab-df-spinner {\n",
              "    border: 2px solid var(--fill-color);\n",
              "    border-color: transparent;\n",
              "    border-bottom-color: var(--fill-color);\n",
              "    animation:\n",
              "      spin 1s steps(1) infinite;\n",
              "  }\n",
              "\n",
              "  @keyframes spin {\n",
              "    0% {\n",
              "      border-color: transparent;\n",
              "      border-bottom-color: var(--fill-color);\n",
              "      border-left-color: var(--fill-color);\n",
              "    }\n",
              "    20% {\n",
              "      border-color: transparent;\n",
              "      border-left-color: var(--fill-color);\n",
              "      border-top-color: var(--fill-color);\n",
              "    }\n",
              "    30% {\n",
              "      border-color: transparent;\n",
              "      border-left-color: var(--fill-color);\n",
              "      border-top-color: var(--fill-color);\n",
              "      border-right-color: var(--fill-color);\n",
              "    }\n",
              "    40% {\n",
              "      border-color: transparent;\n",
              "      border-right-color: var(--fill-color);\n",
              "      border-top-color: var(--fill-color);\n",
              "    }\n",
              "    60% {\n",
              "      border-color: transparent;\n",
              "      border-right-color: var(--fill-color);\n",
              "    }\n",
              "    80% {\n",
              "      border-color: transparent;\n",
              "      border-right-color: var(--fill-color);\n",
              "      border-bottom-color: var(--fill-color);\n",
              "    }\n",
              "    90% {\n",
              "      border-color: transparent;\n",
              "      border-bottom-color: var(--fill-color);\n",
              "    }\n",
              "  }\n",
              "</style>\n",
              "\n",
              "  <script>\n",
              "    async function quickchart(key) {\n",
              "      const quickchartButtonEl =\n",
              "        document.querySelector('#' + key + ' button');\n",
              "      quickchartButtonEl.disabled = true;  // To prevent multiple clicks.\n",
              "      quickchartButtonEl.classList.add('colab-df-spinner');\n",
              "      try {\n",
              "        const charts = await google.colab.kernel.invokeFunction(\n",
              "            'suggestCharts', [key], {});\n",
              "      } catch (error) {\n",
              "        console.error('Error during call to suggestCharts:', error);\n",
              "      }\n",
              "      quickchartButtonEl.classList.remove('colab-df-spinner');\n",
              "      quickchartButtonEl.classList.add('colab-df-quickchart-complete');\n",
              "    }\n",
              "    (() => {\n",
              "      let quickchartButtonEl =\n",
              "        document.querySelector('#df-373b81b6-5410-4ba9-8297-7f3a29b0a6cf button');\n",
              "      quickchartButtonEl.style.display =\n",
              "        google.colab.kernel.accessAllowed ? 'block' : 'none';\n",
              "    })();\n",
              "  </script>\n",
              "</div>\n",
              "    </div>\n",
              "  </div>\n"
            ]
          },
          "metadata": {},
          "execution_count": 167
        }
      ],
      "source": [
        "# Importing necessary libraries.\n",
        "import geopandas as gpd\n",
        "from shapely.geometry import Point\n",
        "\n",
        "# Create a GeoDataFrame from the filtered DataFrame\n",
        "geometry = [Point(xy) for xy in zip(df_trips['longitude'], df_trips['latitude'])]\n",
        "geo_df = gpd.GeoDataFrame(df_trips, geometry=geometry)\n",
        "\n",
        "# Set the initial CRS to WGS84 (the CRS for latitude/longitude)\n",
        "geo_df.crs = \"EPSG:4326\"\n",
        "\n",
        "# Convert to a Projected Coordinate System (UTM)\n",
        "# Automatically choosing the UTM zone based on the data\n",
        "geo_df_utm = geo_df.to_crs(epsg=32633)\n",
        "\n",
        "geo_df_utm.head()\n"
      ]
    },
    {
      "cell_type": "code",
      "execution_count": null,
      "metadata": {
        "colab": {
          "base_uri": "https://localhost:8080/"
        },
        "id": "z2eL37-u6riN",
        "outputId": "008418c5-219d-4447-e94c-86d10a8173de"
      },
      "outputs": [
        {
          "output_type": "execute_result",
          "data": {
            "text/plain": [
              "(46510, 16)"
            ]
          },
          "metadata": {},
          "execution_count": 168
        }
      ],
      "source": [
        "# Checking the dimensions of the dataset.\n",
        "geo_df_utm.shape"
      ]
    },
    {
      "cell_type": "code",
      "execution_count": null,
      "metadata": {
        "id": "hM17C73-7MYA"
      },
      "outputs": [],
      "source": [
        "# Dropping unnecessary columns.\n",
        "geo_df_utm_final = geo_df_utm[geo_df_utm.place_slug.isin(suggestions_list)].drop_duplicates('geometry')"
      ]
    },
    {
      "cell_type": "code",
      "execution_count": null,
      "metadata": {
        "id": "DOtBH5FlGKVi"
      },
      "outputs": [],
      "source": [
        "# Miscellaneous operation.\n",
        "!pip install mapclassify --q"
      ]
    },
    {
      "cell_type": "code",
      "execution_count": null,
      "metadata": {
        "colab": {
          "base_uri": "https://localhost:8080/",
          "height": 471
        },
        "id": "QJO5LuXNGTwo",
        "outputId": "ce8407ee-9a2d-4601-ad97-ee6375413a02"
      },
      "outputs": [
        {
          "output_type": "execute_result",
          "data": {
            "text/plain": [
              "<Axes: >"
            ]
          },
          "metadata": {},
          "execution_count": 171
        },
        {
          "output_type": "display_data",
          "data": {
            "text/plain": [
              "<Figure size 640x480 with 1 Axes>"
            ],
            "image/png": "[encoded data removed]"
          },
          "metadata": {}
        }
      ],
      "source": [
        "# Plotting data.\n",
        "geo_df_utm_final['geometry'].plot()"
      ]
    },
    {
      "cell_type": "code",
      "execution_count": null,
      "metadata": {
        "colab": {
          "base_uri": "https://localhost:8080/"
        },
        "id": "58ikXhmM5mkm",
        "outputId": "e2706ec3-0db8-4535-83b2-0fad8ec5ee96"
      },
      "outputs": [
        {
          "output_type": "execute_result",
          "data": {
            "text/plain": [
              "{'mumbai-india to chiang-mai-thailand': 7933.33,\n",
              " 'mumbai-india to ko-lanta-thailand': 9339.42,\n",
              " 'mumbai-india to bangkok-thailand': 7660.4,\n",
              " 'mumbai-india to mumbai-india': 183.1,\n",
              " 'mumbai-india to cambodia': 9406.1,\n",
              " 'mumbai-india to pai-thailand': 6233.01,\n",
              " 'mumbai-india to sofia-bulgaria': 6400.68,\n",
              " 'mumbai-india to bangalore-india': 1552.8,\n",
              " 'mumbai-india to jakarta-indonesia': inf,\n",
              " 'mumbai-india to taiwan': 10610.24,\n",
              " 'chiang-mai-thailand to ko-lanta-thailand': 5060.07,\n",
              " 'chiang-mai-thailand to bangkok-thailand': 2040.06,\n",
              " 'chiang-mai-thailand to mumbai-india': 6091.41,\n",
              " 'chiang-mai-thailand to cambodia': 2253.75,\n",
              " 'chiang-mai-thailand to pai-thailand': 1797.53,\n",
              " 'chiang-mai-thailand to chiang-mai-thailand': 1856.44,\n",
              " 'chiang-mai-thailand to sofia-bulgaria': 12586.08,\n",
              " 'chiang-mai-thailand to bangalore-india': 7662.78,\n",
              " 'chiang-mai-thailand to jakarta-indonesia': inf,\n",
              " 'chiang-mai-thailand to taiwan': 5358.7,\n",
              " 'ko-lanta-thailand to bangkok-thailand': 3279.89,\n",
              " 'ko-lanta-thailand to mumbai-india': 9302.61,\n",
              " 'ko-lanta-thailand to cambodia': 3360.61,\n",
              " 'ko-lanta-thailand to pai-thailand': 4723.24,\n",
              " 'ko-lanta-thailand to chiang-mai-thailand': 4932.64,\n",
              " 'ko-lanta-thailand to sofia-bulgaria': 15328.82,\n",
              " 'ko-lanta-thailand to bangalore-india': 8222.2,\n",
              " 'ko-lanta-thailand to jakarta-indonesia': inf,\n",
              " 'ko-lanta-thailand to taiwan': 10217.88,\n",
              " 'bangkok-thailand to mumbai-india': 7684.94,\n",
              " 'bangkok-thailand to cambodia': 1731.26,\n",
              " 'bangkok-thailand to pai-thailand': 1733.08,\n",
              " 'bangkok-thailand to chiang-mai-thailand': 1730.58,\n",
              " 'bangkok-thailand to sofia-bulgaria': 13025.04,\n",
              " 'bangkok-thailand to bangalore-india': 7084.47,\n",
              " 'bangkok-thailand to jakarta-indonesia': inf,\n",
              " 'bangkok-thailand to taiwan': 7089.27,\n",
              " 'cambodia to pai-thailand': 3901.07,\n",
              " 'cambodia to chiang-mai-thailand': 2806.65,\n",
              " 'cambodia to sofia-bulgaria': 15014.39,\n",
              " 'cambodia to cambodia': 1107.68,\n",
              " 'cambodia to bangalore-india': 8260.43,\n",
              " 'cambodia to jakarta-indonesia': inf,\n",
              " 'cambodia to taiwan': 6327.95,\n",
              " 'pai-thailand to chiang-mai-thailand': 1970.51,\n",
              " 'pai-thailand to sofia-bulgaria': 10794.38,\n",
              " 'pai-thailand to cambodia': 3292.58,\n",
              " 'pai-thailand to bangalore-india': 5770.61,\n",
              " 'pai-thailand to jakarta-indonesia': inf,\n",
              " 'pai-thailand to taiwan': 6066.84,\n",
              " 'pai-thailand to pai-thailand': 658.93,\n",
              " 'sofia-bulgaria to cambodia': 14586.69,\n",
              " 'sofia-bulgaria to bangalore-india': 7936.5,\n",
              " 'sofia-bulgaria to jakarta-indonesia': inf,\n",
              " 'sofia-bulgaria to taiwan': 12615.87,\n",
              " 'sofia-bulgaria to sofia-bulgaria': 111.63,\n",
              " 'sofia-bulgaria to pai-thailand': 11316.89,\n",
              " 'bangalore-india to cambodia': 8811.85,\n",
              " 'bangalore-india to jakarta-indonesia': inf,\n",
              " 'bangalore-india to taiwan': 11081.1,\n",
              " 'bangalore-india to sofia-bulgaria': 7899.68,\n",
              " 'bangalore-india to pai-thailand': 5875.83,\n",
              " 'jakarta-indonesia to cambodia': inf,\n",
              " 'jakarta-indonesia to taiwan': inf,\n",
              " 'jakarta-indonesia to sofia-bulgaria': inf,\n",
              " 'jakarta-indonesia to pai-thailand': inf,\n",
              " 'taiwan to taiwan': 341.16,\n",
              " 'taiwan to cambodia': 7042.47,\n",
              " 'taiwan to sofia-bulgaria': 12688.82,\n",
              " 'taiwan to pai-thailand': 6469.35}"
            ]
          },
          "metadata": {},
          "execution_count": 172
        }
      ],
      "source": [
        "# Miscellaneous operation.\n",
        "# Create a dictionary to store distances in the Projected Coordinate System (PCS)\n",
        "pcs_distance_dict = {}\n",
        "\n",
        "# Calculate distances for each pair of places using the built-in distance function in GeoPandas\n",
        "for i, row1 in geo_df_utm_final.iterrows():\n",
        "    for j, row2 in geo_df_utm_final.iterrows():\n",
        "        if i < j:\n",
        "            place1 = row1['place_slug']\n",
        "            place2 = row2['place_slug']\n",
        "\n",
        "            # Calculate distance in meters using the built-in distance function\n",
        "            distance_meters = row1['geometry'].distance(row2['geometry'])\n",
        "\n",
        "            # Convert distance to kilometers\n",
        "            distance_km = distance_meters / 1000\n",
        "\n",
        "            # Store the calculated distance\n",
        "            pcs_distance_dict[f\"{place1} to {place2}\"] = round(distance_km, 2)\n",
        "\n",
        "pcs_distance_dict"
      ]
    },
    {
      "cell_type": "code",
      "execution_count": null,
      "metadata": {
        "id": "iSi9fdMk5rAU"
      },
      "outputs": [],
      "source": [
        "# Miscellaneous operation.\n"
      ]
    }
  ],
  "metadata": {
    "colab": {
      "provenance": [],
      "include_colab_link": true
    },
    "kernelspec": {
      "display_name": "Python 3",
      "name": "python3"
    },
    "language_info": {
      "name": "python"
    }
  },
  "nbformat": 4,
  "nbformat_minor": 0
}