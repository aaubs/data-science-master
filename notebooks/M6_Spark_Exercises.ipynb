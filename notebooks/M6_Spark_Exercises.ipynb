{
  "nbformat": 4,
  "nbformat_minor": 0,
  "metadata": {
    "colab": {
      "provenance": [],
      "authorship_tag": "ABX9TyN+aByPNC+PRZXpQg3zPbJq",
      "include_colab_link": true
    },
    "kernelspec": {
      "name": "python3",
      "display_name": "Python 3"
    },
    "language_info": {
      "name": "python"
    }
  },
  "cells": [
    {
      "cell_type": "markdown",
      "metadata": {
        "id": "view-in-github",
        "colab_type": "text"
      },
      "source": [
        "<a href=\"https://colab.research.google.com/github/aaubs/ds-master/blob/main/notebooks/M6_Spark_Exercises.ipynb\" target=\"_parent\"><img src=\"https://colab.research.google.com/assets/colab-badge.svg\" alt=\"Open In Colab\"/></a>"
      ]
    },
    {
      "cell_type": "markdown",
      "source": [
        "###Exercise 1:\n",
        "Read in the crime dataset from a CSV file using Polars and display the first 5 rows of the resulting DataFrame."
      ],
      "metadata": {
        "id": "CQ15U2qHhrXw"
      }
    },
    {
      "cell_type": "code",
      "source": [
        "!pip install pyspark --q"
      ],
      "metadata": {
        "colab": {
          "base_uri": "https://localhost:8080/"
        },
        "id": "zkj2noq1h-gx",
        "outputId": "44f83389-076b-48e5-e2a1-7b556417c3c7"
      },
      "execution_count": null,
      "outputs": [
        {
          "output_type": "stream",
          "name": "stdout",
          "text": [
            "\u001b[2K     \u001b[90m━━━━━━━━━━━━━━━━━━━━━━━━━━━━━━━━━━━━━━━\u001b[0m \u001b[32m281.4/281.4 MB\u001b[0m \u001b[31m3.9 MB/s\u001b[0m eta \u001b[36m0:00:00\u001b[0m\n",
            "\u001b[?25h  Preparing metadata (setup.py) ... \u001b[?25l\u001b[?25hdone\n",
            "\u001b[2K     \u001b[90m━━━━━━━━━━━━━━━━━━━━━━━━━━━━━━━━━━━━━━\u001b[0m \u001b[32m199.7/199.7 KB\u001b[0m \u001b[31m12.0 MB/s\u001b[0m eta \u001b[36m0:00:00\u001b[0m\n",
            "\u001b[?25h  Building wheel for pyspark (setup.py) ... \u001b[?25l\u001b[?25hdone\n"
          ]
        }
      ]
    },
    {
      "cell_type": "code",
      "source": [
        "!wget \"https://raw.githubusercontent.com/RandomFractals/chicago-crimes/main/data/crimes-2022.csv\""
      ],
      "metadata": {
        "colab": {
          "base_uri": "https://localhost:8080/"
        },
        "id": "iOCwc0gyv6bL",
        "outputId": "533b547a-31bd-4056-f4ae-14949a03511a"
      },
      "execution_count": null,
      "outputs": [
        {
          "output_type": "stream",
          "name": "stdout",
          "text": [
            "--2023-03-26 16:28:24--  https://raw.githubusercontent.com/RandomFractals/chicago-crimes/main/data/crimes-2022.csv\n",
            "Resolving raw.githubusercontent.com (raw.githubusercontent.com)... 185.199.108.133, 185.199.109.133, 185.199.110.133, ...\n",
            "Connecting to raw.githubusercontent.com (raw.githubusercontent.com)|185.199.108.133|:443... connected.\n",
            "HTTP request sent, awaiting response... 200 OK\n",
            "Length: 51594748 (49M) [text/plain]\n",
            "Saving to: ‘crimes-2022.csv’\n",
            "\n",
            "crimes-2022.csv     100%[===================>]  49.20M   286MB/s    in 0.2s    \n",
            "\n",
            "2023-03-26 16:28:25 (286 MB/s) - ‘crimes-2022.csv’ saved [51594748/51594748]\n",
            "\n"
          ]
        }
      ]
    },
    {
      "cell_type": "code",
      "execution_count": null,
      "metadata": {
        "colab": {
          "base_uri": "https://localhost:8080/"
        },
        "id": "nctCpPnjhl51",
        "outputId": "fcb21952-cc24-448a-8713-691db0ecd543"
      },
      "outputs": [
        {
          "output_type": "stream",
          "name": "stdout",
          "text": [
            "+--------+-----------+--------------------+--------------------+----+------------------+--------------------+--------------------+------+--------+----+--------+----+--------------+--------+------------+------------+----+--------------------+------------+-------------+--------------------+\n",
            "|      ID|Case Number|                Date|               Block|IUCR|      Primary Type|         Description|Location Description|Arrest|Domestic|Beat|District|Ward|Community Area|FBI Code|X Coordinate|Y Coordinate|Year|          Updated On|    Latitude|    Longitude|            Location|\n",
            "+--------+-----------+--------------------+--------------------+----+------------------+--------------------+--------------------+------+--------+----+--------+----+--------------+--------+------------+------------+----+--------------------+------------+-------------+--------------------+\n",
            "|12757446|   JF313117|07/08/2022 10:38:...|087XX S WINCHESTE...|0820|             THEFT|      $500 AND UNDER|           RESIDENCE| false|    true|2221|     022|  21|            71|      06|     1165137|     1846655|2022|11/12/2022 03:46:...|41.734817155|-87.670595647|(41.734817155, -8...|\n",
            "|12755229|   JF310109|07/08/2022 03:21:...|056XX N SPAULDING...|1154|DECEPTIVE PRACTICE|FINANCIAL IDENTIT...|                null| false|   false|1711|     017|  39|            13|      11|     1153364|     1937188|2022|11/12/2022 03:46:...|41.983490742|-87.711324421|(41.983490742, -8...|\n",
            "|12763369|   JF320208|07/16/2022 10:55:...|038XX N SHEFFIELD...|0330|           ROBBERY|          AGGRAVATED|            SIDEWALK|  true|   false|1923|     019|  46|             6|      03|     1168917|     1925693|2022|11/12/2022 03:46:...|41.951623924|-87.654458486|(41.951623924, -8...|\n",
            "|12766036|   JF323691|07/19/2022 04:00:...| 113XX S PARNELL AVE|1792|        KIDNAPPING|CHILD ABDUCTION /...|            SIDEWALK| false|   false|2233|     022|  34|            49|      26|     1174663|     1829726|2022|11/12/2022 03:46:...|41.688154968|-87.636198645|(41.688154968, -8...|\n",
            "|12758668|   JF314314|07/12/2022 06:30:...|   044XX W WALTON ST|0610|          BURGLARY|      FORCIBLE ENTRY|           RESIDENCE| false|    true|1111|     011|  37|            23|      05|     1146679|     1905959|2022|11/12/2022 03:46:...|41.897926219|-87.736710223|(41.897926219, -8...|\n",
            "+--------+-----------+--------------------+--------------------+----+------------------+--------------------+--------------------+------+--------+----+--------+----+--------------+--------+------------+------------+----+--------------------+------------+-------------+--------------------+\n",
            "only showing top 5 rows\n",
            "\n"
          ]
        }
      ],
      "source": [
        "from pyspark.sql import SparkSession\n",
        "\n",
        "\n"
      ]
    },
    {
      "cell_type": "markdown",
      "source": [
        "###Exercise 2: \n",
        "Select only the columns 'ID', 'Date', and 'Primary Type' from the crime dataset using Polars and display the resulting DataFrame."
      ],
      "metadata": {
        "id": "8qpgBeAViH0h"
      }
    },
    {
      "cell_type": "code",
      "source": [],
      "metadata": {
        "colab": {
          "base_uri": "https://localhost:8080/"
        },
        "id": "GUYDc9A2h58i",
        "outputId": "92322814-4d7e-4ec2-a28c-5a99b641b529"
      },
      "execution_count": null,
      "outputs": [
        {
          "output_type": "stream",
          "name": "stdout",
          "text": [
            "+--------+--------------------+------------------+\n",
            "|      ID|                Date|      Primary Type|\n",
            "+--------+--------------------+------------------+\n",
            "|12757446|07/08/2022 10:38:...|             THEFT|\n",
            "|12755229|07/08/2022 03:21:...|DECEPTIVE PRACTICE|\n",
            "|12763369|07/16/2022 10:55:...|           ROBBERY|\n",
            "|12766036|07/19/2022 04:00:...|        KIDNAPPING|\n",
            "|12758668|07/12/2022 06:30:...|          BURGLARY|\n",
            "+--------+--------------------+------------------+\n",
            "only showing top 5 rows\n",
            "\n"
          ]
        }
      ]
    },
    {
      "cell_type": "markdown",
      "source": [
        "##Exercise 3: \n",
        "\n",
        "Filter the crime dataset to only include rows where the 'Primary Type' column is 'THEFT' using Polars and display the resulting DataFrame."
      ],
      "metadata": {
        "id": "QFKuBO7_kSO8"
      }
    },
    {
      "cell_type": "code",
      "source": [
        "\n"
      ],
      "metadata": {
        "colab": {
          "base_uri": "https://localhost:8080/"
        },
        "id": "lR2_73BYiVOj",
        "outputId": "8a98ae38-d5d7-463f-9088-5a574914a3c3"
      },
      "execution_count": null,
      "outputs": [
        {
          "output_type": "stream",
          "name": "stdout",
          "text": [
            "+--------+--------------------+------------+\n",
            "|      ID|                Date|Primary Type|\n",
            "+--------+--------------------+------------+\n",
            "|12757446|07/08/2022 10:38:...|       THEFT|\n",
            "|12759104|07/12/2022 01:00:...|       THEFT|\n",
            "|12755673|07/07/2022 09:00:...|       THEFT|\n",
            "|12762794|07/16/2022 12:00:...|       THEFT|\n",
            "|12755981|07/09/2022 04:51:...|       THEFT|\n",
            "+--------+--------------------+------------+\n",
            "only showing top 5 rows\n",
            "\n"
          ]
        }
      ]
    },
    {
      "cell_type": "code",
      "source": [
        "crime_df.columns"
      ],
      "metadata": {
        "colab": {
          "base_uri": "https://localhost:8080/"
        },
        "id": "8Sno6TH5wmSc",
        "outputId": "51dbd250-5319-465d-cecd-47bd7792be14"
      },
      "execution_count": null,
      "outputs": [
        {
          "output_type": "execute_result",
          "data": {
            "text/plain": [
              "['ID',\n",
              " 'Case Number',\n",
              " 'Date',\n",
              " 'Block',\n",
              " 'IUCR',\n",
              " 'Primary Type',\n",
              " 'Description',\n",
              " 'Location Description',\n",
              " 'Arrest',\n",
              " 'Domestic',\n",
              " 'Beat',\n",
              " 'District',\n",
              " 'Ward',\n",
              " 'Community Area',\n",
              " 'FBI Code',\n",
              " 'X Coordinate',\n",
              " 'Y Coordinate',\n",
              " 'Year',\n",
              " 'Updated On',\n",
              " 'Latitude',\n",
              " 'Longitude',\n",
              " 'Location']"
            ]
          },
          "metadata": {},
          "execution_count": 11
        }
      ]
    },
    {
      "cell_type": "markdown",
      "source": [
        "##Exercise 4: \n",
        "\n",
        "Group the crime dataset by 'Year' and count the number of occurrences for each year using Polars."
      ],
      "metadata": {
        "id": "sApBuVenlQak"
      }
    },
    {
      "cell_type": "code",
      "source": [
        "from pyspark.sql.functions import count\n",
        "\n"
      ],
      "metadata": {
        "colab": {
          "base_uri": "https://localhost:8080/"
        },
        "id": "TyOS_Jdakntt",
        "outputId": "5fa33eff-ff7b-418b-e5f5-d00f08ace244"
      },
      "execution_count": null,
      "outputs": [
        {
          "output_type": "stream",
          "name": "stdout",
          "text": [
            "+----+------+\n",
            "|Year| count|\n",
            "+----+------+\n",
            "|2022|215551|\n",
            "+----+------+\n",
            "\n"
          ]
        }
      ]
    },
    {
      "cell_type": "markdown",
      "source": [
        "##Exercise 5: \n",
        "\n",
        "Group the crime dataset by both 'Year' and 'Primary Type' and count the number of occurrences for each combination using Polars."
      ],
      "metadata": {
        "id": "-R4YLsC-ln10"
      }
    },
    {
      "cell_type": "code",
      "source": [
        "\n"
      ],
      "metadata": {
        "colab": {
          "base_uri": "https://localhost:8080/"
        },
        "id": "eUiK8S0vlja0",
        "outputId": "22ddb845-8fc1-4472-c924-aa315182c96e"
      },
      "execution_count": null,
      "outputs": [
        {
          "output_type": "stream",
          "name": "stdout",
          "text": [
            "+----+--------------------+-----+\n",
            "|Year|        Primary Type|count|\n",
            "+----+--------------------+-----+\n",
            "|2022|          KIDNAPPING|  108|\n",
            "|2022| MOTOR VEHICLE THEFT|18647|\n",
            "|2022|   CRIMINAL TRESPASS| 3876|\n",
            "|2022|            BURGLARY| 6885|\n",
            "|2022|INTERFERENCE WITH...|  370|\n",
            "+----+--------------------+-----+\n",
            "only showing top 5 rows\n",
            "\n"
          ]
        }
      ]
    },
    {
      "cell_type": "code",
      "source": [
        "crime_df.show()"
      ],
      "metadata": {
        "colab": {
          "base_uri": "https://localhost:8080/"
        },
        "id": "Le6uNFrdxaSX",
        "outputId": "72234f38-0590-428b-db00-caf6844e4450"
      },
      "execution_count": null,
      "outputs": [
        {
          "output_type": "stream",
          "name": "stdout",
          "text": [
            "+--------+-----------+--------------------+--------------------+----+-------------------+--------------------+--------------------+------+--------+----+--------+----+--------------+--------+------------+------------+----+--------------------+------------+-------------+--------------------+\n",
            "|      ID|Case Number|                Date|               Block|IUCR|       Primary Type|         Description|Location Description|Arrest|Domestic|Beat|District|Ward|Community Area|FBI Code|X Coordinate|Y Coordinate|Year|          Updated On|    Latitude|    Longitude|            Location|\n",
            "+--------+-----------+--------------------+--------------------+----+-------------------+--------------------+--------------------+------+--------+----+--------+----+--------------+--------+------------+------------+----+--------------------+------------+-------------+--------------------+\n",
            "|12757446|   JF313117|07/08/2022 10:38:...|087XX S WINCHESTE...|0820|              THEFT|      $500 AND UNDER|           RESIDENCE| false|    true|2221|     022|  21|            71|      06|     1165137|     1846655|2022|11/12/2022 03:46:...|41.734817155|-87.670595647|(41.734817155, -8...|\n",
            "|12755229|   JF310109|07/08/2022 03:21:...|056XX N SPAULDING...|1154| DECEPTIVE PRACTICE|FINANCIAL IDENTIT...|                null| false|   false|1711|     017|  39|            13|      11|     1153364|     1937188|2022|11/12/2022 03:46:...|41.983490742|-87.711324421|(41.983490742, -8...|\n",
            "|12763369|   JF320208|07/16/2022 10:55:...|038XX N SHEFFIELD...|0330|            ROBBERY|          AGGRAVATED|            SIDEWALK|  true|   false|1923|     019|  46|             6|      03|     1168917|     1925693|2022|11/12/2022 03:46:...|41.951623924|-87.654458486|(41.951623924, -8...|\n",
            "|12766036|   JF323691|07/19/2022 04:00:...| 113XX S PARNELL AVE|1792|         KIDNAPPING|CHILD ABDUCTION /...|            SIDEWALK| false|   false|2233|     022|  34|            49|      26|     1174663|     1829726|2022|11/12/2022 03:46:...|41.688154968|-87.636198645|(41.688154968, -8...|\n",
            "|12758668|   JF314314|07/12/2022 06:30:...|   044XX W WALTON ST|0610|           BURGLARY|      FORCIBLE ENTRY|           RESIDENCE| false|    true|1111|     011|  37|            23|      05|     1146679|     1905959|2022|11/12/2022 03:46:...|41.897926219|-87.736710223|(41.897926219, -8...|\n",
            "|12765741|   JF323255|06/27/2022 09:00:...|002XX S LAVERGNE AVE|1320|    CRIMINAL DAMAGE|          TO VEHICLE|           RESIDENCE| false|   false|1533|     015|  28|            25|      14|     1143292|     1898696|2022|11/12/2022 03:46:...|41.878059641|-87.749332043|(41.878059641, -8...|\n",
            "|12759104|   JF315164|07/12/2022 01:00:...|012XX N ARTESIAN AVE|0820|              THEFT|      $500 AND UNDER|              STREET| false|   false|1423|     014|  26|            24|      06|     1159848|     1908228|2022|11/12/2022 03:46:...|41.903891052|-87.688278937|(41.903891052, -8...|\n",
            "|12756232|   JF311569|07/09/2022 09:00:...|   020XX W NORTH AVE|0460|            BATTERY|              SIMPLE|       HOTEL / MOTEL|  true|   false|1434|     014|   2|            24|     08B|     1162488|     1910644|2022|11/12/2022 03:46:...|41.910465849| -87.67851383|(41.910465849, -8...|\n",
            "|12761035|   JF317440|07/13/2022 07:15:...|029XX N SACRAMENT...|0917|MOTOR VEHICLE THEFT|CYCLE, SCOOTER, B...|              STREET| false|   false|1411|     014|  33|            21|      07|     1155869|     1919370|2022|11/12/2022 03:46:...| 41.93454677|-87.702593803|(41.93454677, -87...|\n",
            "|12757374|   JF313010|07/01/2022 09:00:...| 043XX S PACKERS AVE|1153| DECEPTIVE PRACTICE|FINANCIAL IDENTIT...|OTHER COMMERCIAL ...| false|   false|0924|     009|  11|            61|      11|     1168167|     1876163|2022|11/12/2022 03:46:...|41.815726254|-87.658646885|(41.815726254, -8...|\n",
            "|12765479|   JF322734|07/18/2022 11:37:...|021XX W CONGRESS ...|0486|            BATTERY|DOMESTIC BATTERY ...|              STREET| false|    true|1225|     012|  27|            28|     08B|     1162233|     1897705|2022|11/12/2022 03:46:...|41.874965525|-87.679812642|(41.874965525, -8...|\n",
            "|12758857|   JF314516|07/11/2022 08:00:...| 011XX W FARWELL AVE|0430|            BATTERY|AGGRAVATED - OTHE...|       PARK PROPERTY| false|   false|2431|     024|  49|             1|     04B|     1167450|     1945788|2022|11/12/2022 03:46:...| 42.00679693|-87.659269835|(42.00679693, -87...|\n",
            "|12760125|   JF316550|07/12/2022 01:31:...|  016XX W MADISON ST|1320|    CRIMINAL DAMAGE|          TO VEHICLE|CHA PARKING LOT /...| false|   false|1224|     012|  27|            28|      14|     1165476|     1900090|2022|11/12/2022 03:46:...|41.881441785|-87.667837814|(41.881441785, -8...|\n",
            "|12763193|   JF320117|07/16/2022 08:14:...|080XX S FRANCISCO...|1310|    CRIMINAL DAMAGE|         TO PROPERTY|               ALLEY| false|   false|0835|     008|  18|            70|      14|     1158441|     1851216|2022|11/12/2022 03:46:...| 41.74747215|-87.695003155|(41.74747215, -87...|\n",
            "|12755673|   JF310959|07/07/2022 09:00:...| 032XX W MC LEAN AVE|0820|              THEFT|      $500 AND UNDER|              STREET| false|   false|1413|     014|  26|            22|      06|     1154504|     1913455|2022|11/12/2022 03:46:...|41.918342987|-87.707768792|(41.918342987, -8...|\n",
            "|12754857|   JF309715|07/08/2022 09:26:...|001XX E ROOSEVELT RD|0460|            BATTERY|              SIMPLE|            SIDEWALK|  true|   false|0114|     001|   4|            32|     08B|     1177703|     1895099|2022|11/12/2022 03:46:...|41.867477242|-87.623092873|(41.867477242, -8...|\n",
            "|12761403|   JF317992|07/14/2022 11:39:...|042XX W ARMITAGE AVE|5002|      OTHER OFFENSE|OTHER VEHICLE OFF...|              STREET| false|   false|2534|     025|  35|            20|      26|     1147591|     1912945|2022|11/12/2022 03:46:...|41.917079062|-87.733180978|(41.917079062, -8...|\n",
            "|12764345|   JF321331|07/17/2022 11:30:...|   025XX W FITCH AVE|0460|            BATTERY|              SIMPLE|              STREET| false|   false|2411|     024|  50|             2|     08B|     1158048|     1947356|2022|11/12/2022 03:46:...|42.011297491|-87.693818187|(42.011297491, -8...|\n",
            "|12763613|   JF320673|07/17/2022 11:13:...|0000X S KILBOURN AVE|1506|       PROSTITUTION|SOLICIT ON PUBLIC...|              STREET|  true|   false|1113|     011|  28|            26|      16|     1146397|     1899470|2022|11/12/2022 03:46:...|41.880125046|-87.737911373|(41.880125046, -8...|\n",
            "|12763316|   JF320293|07/17/2022 01:44:...|033XX W CONGRESS ...|143A|  WEAPONS VIOLATION|UNLAWFUL POSSESSI...|              STREET|  true|   false|1134|     011|  28|            27|      15|     1153921|     1897492|2022|11/12/2022 03:46:...|41.874550643|-87.710336663|(41.874550643, -8...|\n",
            "+--------+-----------+--------------------+--------------------+----+-------------------+--------------------+--------------------+------+--------+----+--------+----+--------------+--------+------------+------------+----+--------------------+------------+-------------+--------------------+\n",
            "only showing top 20 rows\n",
            "\n"
          ]
        }
      ]
    },
    {
      "cell_type": "markdown",
      "source": [
        "##Exercise 7: \n",
        "\n",
        "Filter the crime dataset to only include rows where the 'Primary Type' column is 'THEFT' and the 'Arrest' column is 'TRUE' using Polars and display the resulting DataFrame."
      ],
      "metadata": {
        "id": "8qCovhVllzC8"
      }
    },
    {
      "cell_type": "code",
      "source": [],
      "metadata": {
        "colab": {
          "base_uri": "https://localhost:8080/"
        },
        "id": "P8fSCQjVlt5p",
        "outputId": "2119d61f-7ce5-4336-bb90-c86eebf16735"
      },
      "execution_count": null,
      "outputs": [
        {
          "output_type": "stream",
          "name": "stdout",
          "text": [
            "+--------+-----------+--------------------+--------------------+----+------------+--------------------+--------------------+------+--------+----+--------+----+--------------+--------+------------+------------+----+--------------------+------------+-------------+--------------------+\n",
            "|      ID|Case Number|                Date|               Block|IUCR|Primary Type|         Description|Location Description|Arrest|Domestic|Beat|District|Ward|Community Area|FBI Code|X Coordinate|Y Coordinate|Year|          Updated On|    Latitude|    Longitude|            Location|\n",
            "+--------+-----------+--------------------+--------------------+----+------------+--------------------+--------------------+------+--------+----+--------+----+--------------+--------+------------+------------+----+--------------------+------------+-------------+--------------------+\n",
            "|12754056|   JF309058|07/07/2022 02:38:...|    011XX S CANAL ST|0860|       THEFT|        RETAIL THEFT|    DEPARTMENT STORE|  true|   false|0124|     001|  25|            28|      06|     1173305|     1895394|2022|11/12/2022 03:46:...|41.868385458|-87.639229711|(41.868385458, -8...|\n",
            "|12756901|   JF312419|07/10/2022 04:32:...|039XX W FULLERTON...|0860|       THEFT|        RETAIL THEFT|   CONVENIENCE STORE|  true|   false|2524|     025|  31|            22|      06|     1149541|     1915660|2022|11/12/2022 03:46:...|41.924491602|-87.725945966|(41.924491602, -8...|\n",
            "|12764050|   JF321106|07/17/2022 06:50:...|     0000X W 87TH ST|0860|       THEFT|        RETAIL THEFT|COMMERCIAL / BUSI...|  true|   false|0634|     006|  21|            44|      06|     1176822|     1847277|2022|11/12/2022 03:46:...|41.736269116|-87.627768243|(41.736269116, -8...|\n",
            "|12763752|   JF320876|07/17/2022 02:00:...|  037XX N BERNARD ST|0820|       THEFT|      $500 AND UNDER|RESIDENCE - PORCH...|  true|   false|1732|     017|  35|            16|      06|     1152725|     1924634|2022|11/12/2022 03:46:...|41.949054475|-87.714008304|(41.949054475, -8...|\n",
            "|12764695|   JF321964|07/18/2022 01:10:...|     037XX W 23RD ST|0865|       THEFT|DELIVERY CONTAINE...|               ALLEY|  true|   false|1013|     010|  22|            30|      06|     1151622|     1888445|2022|11/12/2022 03:46:...|41.849770102|-87.719015322|(41.849770102, -8...|\n",
            "+--------+-----------+--------------------+--------------------+----+------------+--------------------+--------------------+------+--------+----+--------+----+--------------+--------+------------+------------+----+--------------------+------------+-------------+--------------------+\n",
            "only showing top 5 rows\n",
            "\n"
          ]
        }
      ]
    },
    {
      "cell_type": "markdown",
      "source": [
        "##Exercise 7: \n",
        "\n",
        "Calculate the average 'Latitude' and 'Longitude' for the crime dataset using Polars."
      ],
      "metadata": {
        "id": "k-EJauMxl6gP"
      }
    },
    {
      "cell_type": "code",
      "source": [
        "from pyspark.sql.functions import avg\n",
        "\n",
        "latitude_avg = \n",
        "longitude_avg = \n",
        "\n",
        "print(\"Average Latitude:\", latitude_avg)\n",
        "print(\"Average Longitude:\", longitude_avg)"
      ],
      "metadata": {
        "colab": {
          "base_uri": "https://localhost:8080/"
        },
        "id": "14rg_O7yl4Fd",
        "outputId": "0fd7463d-e0aa-4460-ff91-0c06a08576f1"
      },
      "execution_count": null,
      "outputs": [
        {
          "output_type": "stream",
          "name": "stdout",
          "text": [
            "Average Latitude: 41.84534165137468\n",
            "Average Longitude: -87.66844835693396\n"
          ]
        }
      ]
    },
    {
      "cell_type": "markdown",
      "source": [
        "##Exercise 8: \n",
        "\n",
        "Fill in missing values in the 'Latitude' and 'Longitude' columns of the crime dataset with the mean values of those columns using Polars."
      ],
      "metadata": {
        "id": "Q5OMiePdmDv2"
      }
    },
    {
      "cell_type": "code",
      "source": [
        "crime_df = \n",
        "\n",
        "crime_df.show(5)"
      ],
      "metadata": {
        "colab": {
          "base_uri": "https://localhost:8080/"
        },
        "id": "eaMFsdFLoVi_",
        "outputId": "59e6feeb-99a2-4e23-e0a1-a7870ff4311b"
      },
      "execution_count": null,
      "outputs": [
        {
          "output_type": "stream",
          "name": "stdout",
          "text": [
            "+--------+-----------+--------------------+--------------------+----+------------------+--------------------+--------------------+------+--------+----+--------+----+--------------+--------+------------+------------+----+--------------------+------------+-------------+--------------------+\n",
            "|      ID|Case Number|                Date|               Block|IUCR|      Primary Type|         Description|Location Description|Arrest|Domestic|Beat|District|Ward|Community Area|FBI Code|X Coordinate|Y Coordinate|Year|          Updated On|    Latitude|    Longitude|            Location|\n",
            "+--------+-----------+--------------------+--------------------+----+------------------+--------------------+--------------------+------+--------+----+--------+----+--------------+--------+------------+------------+----+--------------------+------------+-------------+--------------------+\n",
            "|12757446|   JF313117|07/08/2022 10:38:...|087XX S WINCHESTE...|0820|             THEFT|      $500 AND UNDER|           RESIDENCE| false|    true|2221|     022|  21|            71|      06|     1165137|     1846655|2022|11/12/2022 03:46:...|41.734817155|-87.670595647|(41.734817155, -8...|\n",
            "|12755229|   JF310109|07/08/2022 03:21:...|056XX N SPAULDING...|1154|DECEPTIVE PRACTICE|FINANCIAL IDENTIT...|                null| false|   false|1711|     017|  39|            13|      11|     1153364|     1937188|2022|11/12/2022 03:46:...|41.983490742|-87.711324421|(41.983490742, -8...|\n",
            "|12763369|   JF320208|07/16/2022 10:55:...|038XX N SHEFFIELD...|0330|           ROBBERY|          AGGRAVATED|            SIDEWALK|  true|   false|1923|     019|  46|             6|      03|     1168917|     1925693|2022|11/12/2022 03:46:...|41.951623924|-87.654458486|(41.951623924, -8...|\n",
            "|12766036|   JF323691|07/19/2022 04:00:...| 113XX S PARNELL AVE|1792|        KIDNAPPING|CHILD ABDUCTION /...|            SIDEWALK| false|   false|2233|     022|  34|            49|      26|     1174663|     1829726|2022|11/12/2022 03:46:...|41.688154968|-87.636198645|(41.688154968, -8...|\n",
            "|12758668|   JF314314|07/12/2022 06:30:...|   044XX W WALTON ST|0610|          BURGLARY|      FORCIBLE ENTRY|           RESIDENCE| false|    true|1111|     011|  37|            23|      05|     1146679|     1905959|2022|11/12/2022 03:46:...|41.897926219|-87.736710223|(41.897926219, -8...|\n",
            "+--------+-----------+--------------------+--------------------+----+------------------+--------------------+--------------------+------+--------+----+--------+----+--------------+--------+------------+------------+----+--------------------+------------+-------------+--------------------+\n",
            "only showing top 5 rows\n",
            "\n"
          ]
        }
      ]
    },
    {
      "cell_type": "markdown",
      "source": [
        "##Exercise 9: \n",
        "\n",
        "Save the filtered and cleaned crime dataset as a new CSV file using Polars.\n",
        "\n"
      ],
      "metadata": {
        "id": "HzljbjHupBDE"
      }
    },
    {
      "cell_type": "code",
      "source": [],
      "metadata": {
        "id": "Z75-3qGEmJv9"
      },
      "execution_count": null,
      "outputs": []
    }
  ]
}