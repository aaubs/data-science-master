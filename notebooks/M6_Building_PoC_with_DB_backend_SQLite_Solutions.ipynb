{
  "nbformat": 4,
  "nbformat_minor": 0,
  "metadata": {
    "colab": {
      "provenance": [],
      "authorship_tag": "ABX9TyPNHplIMFIGvnjKzoTGJXSM",
      "include_colab_link": true
    },
    "kernelspec": {
      "name": "python3",
      "display_name": "Python 3"
    },
    "language_info": {
      "name": "python"
    },
    "widgets": {
      "application/vnd.jupyter.widget-state+json": {
        "4806c3b2b2334acdb4b721a2d2914a8c": {
          "model_module": "@jupyter-widgets/controls",
          "model_name": "HBoxModel",
          "model_module_version": "1.5.0",
          "state": {
            "_dom_classes": [],
            "_model_module": "@jupyter-widgets/controls",
            "_model_module_version": "1.5.0",
            "_model_name": "HBoxModel",
            "_view_count": null,
            "_view_module": "@jupyter-widgets/controls",
            "_view_module_version": "1.5.0",
            "_view_name": "HBoxView",
            "box_style": "",
            "children": [
              "IPY_MODEL_beed4692b2f548838b90b81c88865fb8",
              "IPY_MODEL_3aa6ecfbac3e477eaa5bcc01c7ceafbe",
              "IPY_MODEL_71e6700b80a94ae6bf2c2b04e0fc5645"
            ],
            "layout": "IPY_MODEL_27a47535cc8e4175a1b044bbb3466e42"
          }
        },
        "beed4692b2f548838b90b81c88865fb8": {
          "model_module": "@jupyter-widgets/controls",
          "model_name": "HTMLModel",
          "model_module_version": "1.5.0",
          "state": {
            "_dom_classes": [],
            "_model_module": "@jupyter-widgets/controls",
            "_model_module_version": "1.5.0",
            "_model_name": "HTMLModel",
            "_view_count": null,
            "_view_module": "@jupyter-widgets/controls",
            "_view_module_version": "1.5.0",
            "_view_name": "HTMLView",
            "description": "",
            "description_tooltip": null,
            "layout": "IPY_MODEL_488e1a6a2ecf474aab59f97ca30ae90a",
            "placeholder": "​",
            "style": "IPY_MODEL_01d4e44acc9a43e8874b806f4010db38",
            "value": "Downloading (…)lve/main/config.json: 100%"
          }
        },
        "3aa6ecfbac3e477eaa5bcc01c7ceafbe": {
          "model_module": "@jupyter-widgets/controls",
          "model_name": "FloatProgressModel",
          "model_module_version": "1.5.0",
          "state": {
            "_dom_classes": [],
            "_model_module": "@jupyter-widgets/controls",
            "_model_module_version": "1.5.0",
            "_model_name": "FloatProgressModel",
            "_view_count": null,
            "_view_module": "@jupyter-widgets/controls",
            "_view_module_version": "1.5.0",
            "_view_name": "ProgressView",
            "bar_style": "success",
            "description": "",
            "description_tooltip": null,
            "layout": "IPY_MODEL_ec6dbde8b57d4250bc580b689b6051ee",
            "max": 629,
            "min": 0,
            "orientation": "horizontal",
            "style": "IPY_MODEL_bc032a1ca8db4bfe8b117fc0897737f6",
            "value": 629
          }
        },
        "71e6700b80a94ae6bf2c2b04e0fc5645": {
          "model_module": "@jupyter-widgets/controls",
          "model_name": "HTMLModel",
          "model_module_version": "1.5.0",
          "state": {
            "_dom_classes": [],
            "_model_module": "@jupyter-widgets/controls",
            "_model_module_version": "1.5.0",
            "_model_name": "HTMLModel",
            "_view_count": null,
            "_view_module": "@jupyter-widgets/controls",
            "_view_module_version": "1.5.0",
            "_view_name": "HTMLView",
            "description": "",
            "description_tooltip": null,
            "layout": "IPY_MODEL_7ece62f122e640a48e257f7422ca68e7",
            "placeholder": "​",
            "style": "IPY_MODEL_cf6c542ffc6d4db9a8fe941b212f2d36",
            "value": " 629/629 [00:00&lt;00:00, 18.4kB/s]"
          }
        },
        "27a47535cc8e4175a1b044bbb3466e42": {
          "model_module": "@jupyter-widgets/base",
          "model_name": "LayoutModel",
          "model_module_version": "1.2.0",
          "state": {
            "_model_module": "@jupyter-widgets/base",
            "_model_module_version": "1.2.0",
            "_model_name": "LayoutModel",
            "_view_count": null,
            "_view_module": "@jupyter-widgets/base",
            "_view_module_version": "1.2.0",
            "_view_name": "LayoutView",
            "align_content": null,
            "align_items": null,
            "align_self": null,
            "border": null,
            "bottom": null,
            "display": null,
            "flex": null,
            "flex_flow": null,
            "grid_area": null,
            "grid_auto_columns": null,
            "grid_auto_flow": null,
            "grid_auto_rows": null,
            "grid_column": null,
            "grid_gap": null,
            "grid_row": null,
            "grid_template_areas": null,
            "grid_template_columns": null,
            "grid_template_rows": null,
            "height": null,
            "justify_content": null,
            "justify_items": null,
            "left": null,
            "margin": null,
            "max_height": null,
            "max_width": null,
            "min_height": null,
            "min_width": null,
            "object_fit": null,
            "object_position": null,
            "order": null,
            "overflow": null,
            "overflow_x": null,
            "overflow_y": null,
            "padding": null,
            "right": null,
            "top": null,
            "visibility": null,
            "width": null
          }
        },
        "488e1a6a2ecf474aab59f97ca30ae90a": {
          "model_module": "@jupyter-widgets/base",
          "model_name": "LayoutModel",
          "model_module_version": "1.2.0",
          "state": {
            "_model_module": "@jupyter-widgets/base",
            "_model_module_version": "1.2.0",
            "_model_name": "LayoutModel",
            "_view_count": null,
            "_view_module": "@jupyter-widgets/base",
            "_view_module_version": "1.2.0",
            "_view_name": "LayoutView",
            "align_content": null,
            "align_items": null,
            "align_self": null,
            "border": null,
            "bottom": null,
            "display": null,
            "flex": null,
            "flex_flow": null,
            "grid_area": null,
            "grid_auto_columns": null,
            "grid_auto_flow": null,
            "grid_auto_rows": null,
            "grid_column": null,
            "grid_gap": null,
            "grid_row": null,
            "grid_template_areas": null,
            "grid_template_columns": null,
            "grid_template_rows": null,
            "height": null,
            "justify_content": null,
            "justify_items": null,
            "left": null,
            "margin": null,
            "max_height": null,
            "max_width": null,
            "min_height": null,
            "min_width": null,
            "object_fit": null,
            "object_position": null,
            "order": null,
            "overflow": null,
            "overflow_x": null,
            "overflow_y": null,
            "padding": null,
            "right": null,
            "top": null,
            "visibility": null,
            "width": null
          }
        },
        "01d4e44acc9a43e8874b806f4010db38": {
          "model_module": "@jupyter-widgets/controls",
          "model_name": "DescriptionStyleModel",
          "model_module_version": "1.5.0",
          "state": {
            "_model_module": "@jupyter-widgets/controls",
            "_model_module_version": "1.5.0",
            "_model_name": "DescriptionStyleModel",
            "_view_count": null,
            "_view_module": "@jupyter-widgets/base",
            "_view_module_version": "1.2.0",
            "_view_name": "StyleView",
            "description_width": ""
          }
        },
        "ec6dbde8b57d4250bc580b689b6051ee": {
          "model_module": "@jupyter-widgets/base",
          "model_name": "LayoutModel",
          "model_module_version": "1.2.0",
          "state": {
            "_model_module": "@jupyter-widgets/base",
            "_model_module_version": "1.2.0",
            "_model_name": "LayoutModel",
            "_view_count": null,
            "_view_module": "@jupyter-widgets/base",
            "_view_module_version": "1.2.0",
            "_view_name": "LayoutView",
            "align_content": null,
            "align_items": null,
            "align_self": null,
            "border": null,
            "bottom": null,
            "display": null,
            "flex": null,
            "flex_flow": null,
            "grid_area": null,
            "grid_auto_columns": null,
            "grid_auto_flow": null,
            "grid_auto_rows": null,
            "grid_column": null,
            "grid_gap": null,
            "grid_row": null,
            "grid_template_areas": null,
            "grid_template_columns": null,
            "grid_template_rows": null,
            "height": null,
            "justify_content": null,
            "justify_items": null,
            "left": null,
            "margin": null,
            "max_height": null,
            "max_width": null,
            "min_height": null,
            "min_width": null,
            "object_fit": null,
            "object_position": null,
            "order": null,
            "overflow": null,
            "overflow_x": null,
            "overflow_y": null,
            "padding": null,
            "right": null,
            "top": null,
            "visibility": null,
            "width": null
          }
        },
        "bc032a1ca8db4bfe8b117fc0897737f6": {
          "model_module": "@jupyter-widgets/controls",
          "model_name": "ProgressStyleModel",
          "model_module_version": "1.5.0",
          "state": {
            "_model_module": "@jupyter-widgets/controls",
            "_model_module_version": "1.5.0",
            "_model_name": "ProgressStyleModel",
            "_view_count": null,
            "_view_module": "@jupyter-widgets/base",
            "_view_module_version": "1.2.0",
            "_view_name": "StyleView",
            "bar_color": null,
            "description_width": ""
          }
        },
        "7ece62f122e640a48e257f7422ca68e7": {
          "model_module": "@jupyter-widgets/base",
          "model_name": "LayoutModel",
          "model_module_version": "1.2.0",
          "state": {
            "_model_module": "@jupyter-widgets/base",
            "_model_module_version": "1.2.0",
            "_model_name": "LayoutModel",
            "_view_count": null,
            "_view_module": "@jupyter-widgets/base",
            "_view_module_version": "1.2.0",
            "_view_name": "LayoutView",
            "align_content": null,
            "align_items": null,
            "align_self": null,
            "border": null,
            "bottom": null,
            "display": null,
            "flex": null,
            "flex_flow": null,
            "grid_area": null,
            "grid_auto_columns": null,
            "grid_auto_flow": null,
            "grid_auto_rows": null,
            "grid_column": null,
            "grid_gap": null,
            "grid_row": null,
            "grid_template_areas": null,
            "grid_template_columns": null,
            "grid_template_rows": null,
            "height": null,
            "justify_content": null,
            "justify_items": null,
            "left": null,
            "margin": null,
            "max_height": null,
            "max_width": null,
            "min_height": null,
            "min_width": null,
            "object_fit": null,
            "object_position": null,
            "order": null,
            "overflow": null,
            "overflow_x": null,
            "overflow_y": null,
            "padding": null,
            "right": null,
            "top": null,
            "visibility": null,
            "width": null
          }
        },
        "cf6c542ffc6d4db9a8fe941b212f2d36": {
          "model_module": "@jupyter-widgets/controls",
          "model_name": "DescriptionStyleModel",
          "model_module_version": "1.5.0",
          "state": {
            "_model_module": "@jupyter-widgets/controls",
            "_model_module_version": "1.5.0",
            "_model_name": "DescriptionStyleModel",
            "_view_count": null,
            "_view_module": "@jupyter-widgets/base",
            "_view_module_version": "1.2.0",
            "_view_name": "StyleView",
            "description_width": ""
          }
        },
        "f8b1c3308d5a466c953e856b5c3b2331": {
          "model_module": "@jupyter-widgets/controls",
          "model_name": "HBoxModel",
          "model_module_version": "1.5.0",
          "state": {
            "_dom_classes": [],
            "_model_module": "@jupyter-widgets/controls",
            "_model_module_version": "1.5.0",
            "_model_name": "HBoxModel",
            "_view_count": null,
            "_view_module": "@jupyter-widgets/controls",
            "_view_module_version": "1.5.0",
            "_view_name": "HBoxView",
            "box_style": "",
            "children": [
              "IPY_MODEL_87dd0c75b4e04104979a04c853d8d611",
              "IPY_MODEL_096d4c480e1a4b2092fe3beefeb4ca00",
              "IPY_MODEL_31677b19a5224ce38217ba0061f59771"
            ],
            "layout": "IPY_MODEL_c77e4dbae0b449b9befcb0f97f6d1543"
          }
        },
        "87dd0c75b4e04104979a04c853d8d611": {
          "model_module": "@jupyter-widgets/controls",
          "model_name": "HTMLModel",
          "model_module_version": "1.5.0",
          "state": {
            "_dom_classes": [],
            "_model_module": "@jupyter-widgets/controls",
            "_model_module_version": "1.5.0",
            "_model_name": "HTMLModel",
            "_view_count": null,
            "_view_module": "@jupyter-widgets/controls",
            "_view_module_version": "1.5.0",
            "_view_name": "HTMLView",
            "description": "",
            "description_tooltip": null,
            "layout": "IPY_MODEL_36484539f09e40b58e88e790a803a82a",
            "placeholder": "​",
            "style": "IPY_MODEL_8eed63d0687e4935a12c01c75ccfca98",
            "value": "Downloading pytorch_model.bin: 100%"
          }
        },
        "096d4c480e1a4b2092fe3beefeb4ca00": {
          "model_module": "@jupyter-widgets/controls",
          "model_name": "FloatProgressModel",
          "model_module_version": "1.5.0",
          "state": {
            "_dom_classes": [],
            "_model_module": "@jupyter-widgets/controls",
            "_model_module_version": "1.5.0",
            "_model_name": "FloatProgressModel",
            "_view_count": null,
            "_view_module": "@jupyter-widgets/controls",
            "_view_module_version": "1.5.0",
            "_view_name": "ProgressView",
            "bar_style": "success",
            "description": "",
            "description_tooltip": null,
            "layout": "IPY_MODEL_2ed5ce434f77459e948babd4d9780e9e",
            "max": 267844284,
            "min": 0,
            "orientation": "horizontal",
            "style": "IPY_MODEL_9c53dbee541e44e691fd0d7145275b17",
            "value": 267844284
          }
        },
        "31677b19a5224ce38217ba0061f59771": {
          "model_module": "@jupyter-widgets/controls",
          "model_name": "HTMLModel",
          "model_module_version": "1.5.0",
          "state": {
            "_dom_classes": [],
            "_model_module": "@jupyter-widgets/controls",
            "_model_module_version": "1.5.0",
            "_model_name": "HTMLModel",
            "_view_count": null,
            "_view_module": "@jupyter-widgets/controls",
            "_view_module_version": "1.5.0",
            "_view_name": "HTMLView",
            "description": "",
            "description_tooltip": null,
            "layout": "IPY_MODEL_d60a0ba1c10f4807aa10b58722b8292e",
            "placeholder": "​",
            "style": "IPY_MODEL_d70d623d94d84a919e539e8901208606",
            "value": " 268M/268M [00:01&lt;00:00, 255MB/s]"
          }
        },
        "c77e4dbae0b449b9befcb0f97f6d1543": {
          "model_module": "@jupyter-widgets/base",
          "model_name": "LayoutModel",
          "model_module_version": "1.2.0",
          "state": {
            "_model_module": "@jupyter-widgets/base",
            "_model_module_version": "1.2.0",
            "_model_name": "LayoutModel",
            "_view_count": null,
            "_view_module": "@jupyter-widgets/base",
            "_view_module_version": "1.2.0",
            "_view_name": "LayoutView",
            "align_content": null,
            "align_items": null,
            "align_self": null,
            "border": null,
            "bottom": null,
            "display": null,
            "flex": null,
            "flex_flow": null,
            "grid_area": null,
            "grid_auto_columns": null,
            "grid_auto_flow": null,
            "grid_auto_rows": null,
            "grid_column": null,
            "grid_gap": null,
            "grid_row": null,
            "grid_template_areas": null,
            "grid_template_columns": null,
            "grid_template_rows": null,
            "height": null,
            "justify_content": null,
            "justify_items": null,
            "left": null,
            "margin": null,
            "max_height": null,
            "max_width": null,
            "min_height": null,
            "min_width": null,
            "object_fit": null,
            "object_position": null,
            "order": null,
            "overflow": null,
            "overflow_x": null,
            "overflow_y": null,
            "padding": null,
            "right": null,
            "top": null,
            "visibility": null,
            "width": null
          }
        },
        "36484539f09e40b58e88e790a803a82a": {
          "model_module": "@jupyter-widgets/base",
          "model_name": "LayoutModel",
          "model_module_version": "1.2.0",
          "state": {
            "_model_module": "@jupyter-widgets/base",
            "_model_module_version": "1.2.0",
            "_model_name": "LayoutModel",
            "_view_count": null,
            "_view_module": "@jupyter-widgets/base",
            "_view_module_version": "1.2.0",
            "_view_name": "LayoutView",
            "align_content": null,
            "align_items": null,
            "align_self": null,
            "border": null,
            "bottom": null,
            "display": null,
            "flex": null,
            "flex_flow": null,
            "grid_area": null,
            "grid_auto_columns": null,
            "grid_auto_flow": null,
            "grid_auto_rows": null,
            "grid_column": null,
            "grid_gap": null,
            "grid_row": null,
            "grid_template_areas": null,
            "grid_template_columns": null,
            "grid_template_rows": null,
            "height": null,
            "justify_content": null,
            "justify_items": null,
            "left": null,
            "margin": null,
            "max_height": null,
            "max_width": null,
            "min_height": null,
            "min_width": null,
            "object_fit": null,
            "object_position": null,
            "order": null,
            "overflow": null,
            "overflow_x": null,
            "overflow_y": null,
            "padding": null,
            "right": null,
            "top": null,
            "visibility": null,
            "width": null
          }
        },
        "8eed63d0687e4935a12c01c75ccfca98": {
          "model_module": "@jupyter-widgets/controls",
          "model_name": "DescriptionStyleModel",
          "model_module_version": "1.5.0",
          "state": {
            "_model_module": "@jupyter-widgets/controls",
            "_model_module_version": "1.5.0",
            "_model_name": "DescriptionStyleModel",
            "_view_count": null,
            "_view_module": "@jupyter-widgets/base",
            "_view_module_version": "1.2.0",
            "_view_name": "StyleView",
            "description_width": ""
          }
        },
        "2ed5ce434f77459e948babd4d9780e9e": {
          "model_module": "@jupyter-widgets/base",
          "model_name": "LayoutModel",
          "model_module_version": "1.2.0",
          "state": {
            "_model_module": "@jupyter-widgets/base",
            "_model_module_version": "1.2.0",
            "_model_name": "LayoutModel",
            "_view_count": null,
            "_view_module": "@jupyter-widgets/base",
            "_view_module_version": "1.2.0",
            "_view_name": "LayoutView",
            "align_content": null,
            "align_items": null,
            "align_self": null,
            "border": null,
            "bottom": null,
            "display": null,
            "flex": null,
            "flex_flow": null,
            "grid_area": null,
            "grid_auto_columns": null,
            "grid_auto_flow": null,
            "grid_auto_rows": null,
            "grid_column": null,
            "grid_gap": null,
            "grid_row": null,
            "grid_template_areas": null,
            "grid_template_columns": null,
            "grid_template_rows": null,
            "height": null,
            "justify_content": null,
            "justify_items": null,
            "left": null,
            "margin": null,
            "max_height": null,
            "max_width": null,
            "min_height": null,
            "min_width": null,
            "object_fit": null,
            "object_position": null,
            "order": null,
            "overflow": null,
            "overflow_x": null,
            "overflow_y": null,
            "padding": null,
            "right": null,
            "top": null,
            "visibility": null,
            "width": null
          }
        },
        "9c53dbee541e44e691fd0d7145275b17": {
          "model_module": "@jupyter-widgets/controls",
          "model_name": "ProgressStyleModel",
          "model_module_version": "1.5.0",
          "state": {
            "_model_module": "@jupyter-widgets/controls",
            "_model_module_version": "1.5.0",
            "_model_name": "ProgressStyleModel",
            "_view_count": null,
            "_view_module": "@jupyter-widgets/base",
            "_view_module_version": "1.2.0",
            "_view_name": "StyleView",
            "bar_color": null,
            "description_width": ""
          }
        },
        "d60a0ba1c10f4807aa10b58722b8292e": {
          "model_module": "@jupyter-widgets/base",
          "model_name": "LayoutModel",
          "model_module_version": "1.2.0",
          "state": {
            "_model_module": "@jupyter-widgets/base",
            "_model_module_version": "1.2.0",
            "_model_name": "LayoutModel",
            "_view_count": null,
            "_view_module": "@jupyter-widgets/base",
            "_view_module_version": "1.2.0",
            "_view_name": "LayoutView",
            "align_content": null,
            "align_items": null,
            "align_self": null,
            "border": null,
            "bottom": null,
            "display": null,
            "flex": null,
            "flex_flow": null,
            "grid_area": null,
            "grid_auto_columns": null,
            "grid_auto_flow": null,
            "grid_auto_rows": null,
            "grid_column": null,
            "grid_gap": null,
            "grid_row": null,
            "grid_template_areas": null,
            "grid_template_columns": null,
            "grid_template_rows": null,
            "height": null,
            "justify_content": null,
            "justify_items": null,
            "left": null,
            "margin": null,
            "max_height": null,
            "max_width": null,
            "min_height": null,
            "min_width": null,
            "object_fit": null,
            "object_position": null,
            "order": null,
            "overflow": null,
            "overflow_x": null,
            "overflow_y": null,
            "padding": null,
            "right": null,
            "top": null,
            "visibility": null,
            "width": null
          }
        },
        "d70d623d94d84a919e539e8901208606": {
          "model_module": "@jupyter-widgets/controls",
          "model_name": "DescriptionStyleModel",
          "model_module_version": "1.5.0",
          "state": {
            "_model_module": "@jupyter-widgets/controls",
            "_model_module_version": "1.5.0",
            "_model_name": "DescriptionStyleModel",
            "_view_count": null,
            "_view_module": "@jupyter-widgets/base",
            "_view_module_version": "1.2.0",
            "_view_name": "StyleView",
            "description_width": ""
          }
        },
        "7bd6d009108741ecae5ec006c37f3720": {
          "model_module": "@jupyter-widgets/controls",
          "model_name": "HBoxModel",
          "model_module_version": "1.5.0",
          "state": {
            "_dom_classes": [],
            "_model_module": "@jupyter-widgets/controls",
            "_model_module_version": "1.5.0",
            "_model_name": "HBoxModel",
            "_view_count": null,
            "_view_module": "@jupyter-widgets/controls",
            "_view_module_version": "1.5.0",
            "_view_name": "HBoxView",
            "box_style": "",
            "children": [
              "IPY_MODEL_868288622c344a8cbc2cabe793308869",
              "IPY_MODEL_7b63a6aa8b2d4bfd9995afe1b322c543",
              "IPY_MODEL_8d231b3d92f24c308c18e80f0e33845b"
            ],
            "layout": "IPY_MODEL_08fdf413702c4d3cbd82578331dbc338"
          }
        },
        "868288622c344a8cbc2cabe793308869": {
          "model_module": "@jupyter-widgets/controls",
          "model_name": "HTMLModel",
          "model_module_version": "1.5.0",
          "state": {
            "_dom_classes": [],
            "_model_module": "@jupyter-widgets/controls",
            "_model_module_version": "1.5.0",
            "_model_name": "HTMLModel",
            "_view_count": null,
            "_view_module": "@jupyter-widgets/controls",
            "_view_module_version": "1.5.0",
            "_view_name": "HTMLView",
            "description": "",
            "description_tooltip": null,
            "layout": "IPY_MODEL_ae6ee86890154731a15cba854a7b6bfa",
            "placeholder": "​",
            "style": "IPY_MODEL_8ef7aa82d97e444993b2fbc0693a228d",
            "value": "Downloading (…)okenizer_config.json: 100%"
          }
        },
        "7b63a6aa8b2d4bfd9995afe1b322c543": {
          "model_module": "@jupyter-widgets/controls",
          "model_name": "FloatProgressModel",
          "model_module_version": "1.5.0",
          "state": {
            "_dom_classes": [],
            "_model_module": "@jupyter-widgets/controls",
            "_model_module_version": "1.5.0",
            "_model_name": "FloatProgressModel",
            "_view_count": null,
            "_view_module": "@jupyter-widgets/controls",
            "_view_module_version": "1.5.0",
            "_view_name": "ProgressView",
            "bar_style": "success",
            "description": "",
            "description_tooltip": null,
            "layout": "IPY_MODEL_4e02895421b74a47933abb0442806e24",
            "max": 48,
            "min": 0,
            "orientation": "horizontal",
            "style": "IPY_MODEL_9434ed72d3b747b793b7d772cbf47fd7",
            "value": 48
          }
        },
        "8d231b3d92f24c308c18e80f0e33845b": {
          "model_module": "@jupyter-widgets/controls",
          "model_name": "HTMLModel",
          "model_module_version": "1.5.0",
          "state": {
            "_dom_classes": [],
            "_model_module": "@jupyter-widgets/controls",
            "_model_module_version": "1.5.0",
            "_model_name": "HTMLModel",
            "_view_count": null,
            "_view_module": "@jupyter-widgets/controls",
            "_view_module_version": "1.5.0",
            "_view_name": "HTMLView",
            "description": "",
            "description_tooltip": null,
            "layout": "IPY_MODEL_b0365bdbd26d49d7b0e0655c798a504c",
            "placeholder": "​",
            "style": "IPY_MODEL_58e28d47eb254d5682200fecf42824ae",
            "value": " 48.0/48.0 [00:00&lt;00:00, 910B/s]"
          }
        },
        "08fdf413702c4d3cbd82578331dbc338": {
          "model_module": "@jupyter-widgets/base",
          "model_name": "LayoutModel",
          "model_module_version": "1.2.0",
          "state": {
            "_model_module": "@jupyter-widgets/base",
            "_model_module_version": "1.2.0",
            "_model_name": "LayoutModel",
            "_view_count": null,
            "_view_module": "@jupyter-widgets/base",
            "_view_module_version": "1.2.0",
            "_view_name": "LayoutView",
            "align_content": null,
            "align_items": null,
            "align_self": null,
            "border": null,
            "bottom": null,
            "display": null,
            "flex": null,
            "flex_flow": null,
            "grid_area": null,
            "grid_auto_columns": null,
            "grid_auto_flow": null,
            "grid_auto_rows": null,
            "grid_column": null,
            "grid_gap": null,
            "grid_row": null,
            "grid_template_areas": null,
            "grid_template_columns": null,
            "grid_template_rows": null,
            "height": null,
            "justify_content": null,
            "justify_items": null,
            "left": null,
            "margin": null,
            "max_height": null,
            "max_width": null,
            "min_height": null,
            "min_width": null,
            "object_fit": null,
            "object_position": null,
            "order": null,
            "overflow": null,
            "overflow_x": null,
            "overflow_y": null,
            "padding": null,
            "right": null,
            "top": null,
            "visibility": null,
            "width": null
          }
        },
        "ae6ee86890154731a15cba854a7b6bfa": {
          "model_module": "@jupyter-widgets/base",
          "model_name": "LayoutModel",
          "model_module_version": "1.2.0",
          "state": {
            "_model_module": "@jupyter-widgets/base",
            "_model_module_version": "1.2.0",
            "_model_name": "LayoutModel",
            "_view_count": null,
            "_view_module": "@jupyter-widgets/base",
            "_view_module_version": "1.2.0",
            "_view_name": "LayoutView",
            "align_content": null,
            "align_items": null,
            "align_self": null,
            "border": null,
            "bottom": null,
            "display": null,
            "flex": null,
            "flex_flow": null,
            "grid_area": null,
            "grid_auto_columns": null,
            "grid_auto_flow": null,
            "grid_auto_rows": null,
            "grid_column": null,
            "grid_gap": null,
            "grid_row": null,
            "grid_template_areas": null,
            "grid_template_columns": null,
            "grid_template_rows": null,
            "height": null,
            "justify_content": null,
            "justify_items": null,
            "left": null,
            "margin": null,
            "max_height": null,
            "max_width": null,
            "min_height": null,
            "min_width": null,
            "object_fit": null,
            "object_position": null,
            "order": null,
            "overflow": null,
            "overflow_x": null,
            "overflow_y": null,
            "padding": null,
            "right": null,
            "top": null,
            "visibility": null,
            "width": null
          }
        },
        "8ef7aa82d97e444993b2fbc0693a228d": {
          "model_module": "@jupyter-widgets/controls",
          "model_name": "DescriptionStyleModel",
          "model_module_version": "1.5.0",
          "state": {
            "_model_module": "@jupyter-widgets/controls",
            "_model_module_version": "1.5.0",
            "_model_name": "DescriptionStyleModel",
            "_view_count": null,
            "_view_module": "@jupyter-widgets/base",
            "_view_module_version": "1.2.0",
            "_view_name": "StyleView",
            "description_width": ""
          }
        },
        "4e02895421b74a47933abb0442806e24": {
          "model_module": "@jupyter-widgets/base",
          "model_name": "LayoutModel",
          "model_module_version": "1.2.0",
          "state": {
            "_model_module": "@jupyter-widgets/base",
            "_model_module_version": "1.2.0",
            "_model_name": "LayoutModel",
            "_view_count": null,
            "_view_module": "@jupyter-widgets/base",
            "_view_module_version": "1.2.0",
            "_view_name": "LayoutView",
            "align_content": null,
            "align_items": null,
            "align_self": null,
            "border": null,
            "bottom": null,
            "display": null,
            "flex": null,
            "flex_flow": null,
            "grid_area": null,
            "grid_auto_columns": null,
            "grid_auto_flow": null,
            "grid_auto_rows": null,
            "grid_column": null,
            "grid_gap": null,
            "grid_row": null,
            "grid_template_areas": null,
            "grid_template_columns": null,
            "grid_template_rows": null,
            "height": null,
            "justify_content": null,
            "justify_items": null,
            "left": null,
            "margin": null,
            "max_height": null,
            "max_width": null,
            "min_height": null,
            "min_width": null,
            "object_fit": null,
            "object_position": null,
            "order": null,
            "overflow": null,
            "overflow_x": null,
            "overflow_y": null,
            "padding": null,
            "right": null,
            "top": null,
            "visibility": null,
            "width": null
          }
        },
        "9434ed72d3b747b793b7d772cbf47fd7": {
          "model_module": "@jupyter-widgets/controls",
          "model_name": "ProgressStyleModel",
          "model_module_version": "1.5.0",
          "state": {
            "_model_module": "@jupyter-widgets/controls",
            "_model_module_version": "1.5.0",
            "_model_name": "ProgressStyleModel",
            "_view_count": null,
            "_view_module": "@jupyter-widgets/base",
            "_view_module_version": "1.2.0",
            "_view_name": "StyleView",
            "bar_color": null,
            "description_width": ""
          }
        },
        "b0365bdbd26d49d7b0e0655c798a504c": {
          "model_module": "@jupyter-widgets/base",
          "model_name": "LayoutModel",
          "model_module_version": "1.2.0",
          "state": {
            "_model_module": "@jupyter-widgets/base",
            "_model_module_version": "1.2.0",
            "_model_name": "LayoutModel",
            "_view_count": null,
            "_view_module": "@jupyter-widgets/base",
            "_view_module_version": "1.2.0",
            "_view_name": "LayoutView",
            "align_content": null,
            "align_items": null,
            "align_self": null,
            "border": null,
            "bottom": null,
            "display": null,
            "flex": null,
            "flex_flow": null,
            "grid_area": null,
            "grid_auto_columns": null,
            "grid_auto_flow": null,
            "grid_auto_rows": null,
            "grid_column": null,
            "grid_gap": null,
            "grid_row": null,
            "grid_template_areas": null,
            "grid_template_columns": null,
            "grid_template_rows": null,
            "height": null,
            "justify_content": null,
            "justify_items": null,
            "left": null,
            "margin": null,
            "max_height": null,
            "max_width": null,
            "min_height": null,
            "min_width": null,
            "object_fit": null,
            "object_position": null,
            "order": null,
            "overflow": null,
            "overflow_x": null,
            "overflow_y": null,
            "padding": null,
            "right": null,
            "top": null,
            "visibility": null,
            "width": null
          }
        },
        "58e28d47eb254d5682200fecf42824ae": {
          "model_module": "@jupyter-widgets/controls",
          "model_name": "DescriptionStyleModel",
          "model_module_version": "1.5.0",
          "state": {
            "_model_module": "@jupyter-widgets/controls",
            "_model_module_version": "1.5.0",
            "_model_name": "DescriptionStyleModel",
            "_view_count": null,
            "_view_module": "@jupyter-widgets/base",
            "_view_module_version": "1.2.0",
            "_view_name": "StyleView",
            "description_width": ""
          }
        },
        "751f033f27a24d00be974b68a9aa1d76": {
          "model_module": "@jupyter-widgets/controls",
          "model_name": "HBoxModel",
          "model_module_version": "1.5.0",
          "state": {
            "_dom_classes": [],
            "_model_module": "@jupyter-widgets/controls",
            "_model_module_version": "1.5.0",
            "_model_name": "HBoxModel",
            "_view_count": null,
            "_view_module": "@jupyter-widgets/controls",
            "_view_module_version": "1.5.0",
            "_view_name": "HBoxView",
            "box_style": "",
            "children": [
              "IPY_MODEL_77b75ade8e1c46a9b819e161f4ce90f9",
              "IPY_MODEL_f10696cb815843308b6ad47370ade35c",
              "IPY_MODEL_0a2c98b98553410cbd4ae42c44635027"
            ],
            "layout": "IPY_MODEL_0887f7e02475414093873cb21cadd649"
          }
        },
        "77b75ade8e1c46a9b819e161f4ce90f9": {
          "model_module": "@jupyter-widgets/controls",
          "model_name": "HTMLModel",
          "model_module_version": "1.5.0",
          "state": {
            "_dom_classes": [],
            "_model_module": "@jupyter-widgets/controls",
            "_model_module_version": "1.5.0",
            "_model_name": "HTMLModel",
            "_view_count": null,
            "_view_module": "@jupyter-widgets/controls",
            "_view_module_version": "1.5.0",
            "_view_name": "HTMLView",
            "description": "",
            "description_tooltip": null,
            "layout": "IPY_MODEL_e8f955b9d30b4c34b3a93f74b2e813b0",
            "placeholder": "​",
            "style": "IPY_MODEL_91ab43e4065844daa61b1b2567645531",
            "value": "Downloading (…)solve/main/vocab.txt: 100%"
          }
        },
        "f10696cb815843308b6ad47370ade35c": {
          "model_module": "@jupyter-widgets/controls",
          "model_name": "FloatProgressModel",
          "model_module_version": "1.5.0",
          "state": {
            "_dom_classes": [],
            "_model_module": "@jupyter-widgets/controls",
            "_model_module_version": "1.5.0",
            "_model_name": "FloatProgressModel",
            "_view_count": null,
            "_view_module": "@jupyter-widgets/controls",
            "_view_module_version": "1.5.0",
            "_view_name": "ProgressView",
            "bar_style": "success",
            "description": "",
            "description_tooltip": null,
            "layout": "IPY_MODEL_563c313b9c0f49e0868846695aa5326d",
            "max": 231508,
            "min": 0,
            "orientation": "horizontal",
            "style": "IPY_MODEL_21b7c31e2e564c25b40f7c01291cca05",
            "value": 231508
          }
        },
        "0a2c98b98553410cbd4ae42c44635027": {
          "model_module": "@jupyter-widgets/controls",
          "model_name": "HTMLModel",
          "model_module_version": "1.5.0",
          "state": {
            "_dom_classes": [],
            "_model_module": "@jupyter-widgets/controls",
            "_model_module_version": "1.5.0",
            "_model_name": "HTMLModel",
            "_view_count": null,
            "_view_module": "@jupyter-widgets/controls",
            "_view_module_version": "1.5.0",
            "_view_name": "HTMLView",
            "description": "",
            "description_tooltip": null,
            "layout": "IPY_MODEL_017e08f1a43545ad9f58f13766c47b49",
            "placeholder": "​",
            "style": "IPY_MODEL_d9bcba698b4e432fb9787e13ffbaf80d",
            "value": " 232k/232k [00:00&lt;00:00, 673kB/s]"
          }
        },
        "0887f7e02475414093873cb21cadd649": {
          "model_module": "@jupyter-widgets/base",
          "model_name": "LayoutModel",
          "model_module_version": "1.2.0",
          "state": {
            "_model_module": "@jupyter-widgets/base",
            "_model_module_version": "1.2.0",
            "_model_name": "LayoutModel",
            "_view_count": null,
            "_view_module": "@jupyter-widgets/base",
            "_view_module_version": "1.2.0",
            "_view_name": "LayoutView",
            "align_content": null,
            "align_items": null,
            "align_self": null,
            "border": null,
            "bottom": null,
            "display": null,
            "flex": null,
            "flex_flow": null,
            "grid_area": null,
            "grid_auto_columns": null,
            "grid_auto_flow": null,
            "grid_auto_rows": null,
            "grid_column": null,
            "grid_gap": null,
            "grid_row": null,
            "grid_template_areas": null,
            "grid_template_columns": null,
            "grid_template_rows": null,
            "height": null,
            "justify_content": null,
            "justify_items": null,
            "left": null,
            "margin": null,
            "max_height": null,
            "max_width": null,
            "min_height": null,
            "min_width": null,
            "object_fit": null,
            "object_position": null,
            "order": null,
            "overflow": null,
            "overflow_x": null,
            "overflow_y": null,
            "padding": null,
            "right": null,
            "top": null,
            "visibility": null,
            "width": null
          }
        },
        "e8f955b9d30b4c34b3a93f74b2e813b0": {
          "model_module": "@jupyter-widgets/base",
          "model_name": "LayoutModel",
          "model_module_version": "1.2.0",
          "state": {
            "_model_module": "@jupyter-widgets/base",
            "_model_module_version": "1.2.0",
            "_model_name": "LayoutModel",
            "_view_count": null,
            "_view_module": "@jupyter-widgets/base",
            "_view_module_version": "1.2.0",
            "_view_name": "LayoutView",
            "align_content": null,
            "align_items": null,
            "align_self": null,
            "border": null,
            "bottom": null,
            "display": null,
            "flex": null,
            "flex_flow": null,
            "grid_area": null,
            "grid_auto_columns": null,
            "grid_auto_flow": null,
            "grid_auto_rows": null,
            "grid_column": null,
            "grid_gap": null,
            "grid_row": null,
            "grid_template_areas": null,
            "grid_template_columns": null,
            "grid_template_rows": null,
            "height": null,
            "justify_content": null,
            "justify_items": null,
            "left": null,
            "margin": null,
            "max_height": null,
            "max_width": null,
            "min_height": null,
            "min_width": null,
            "object_fit": null,
            "object_position": null,
            "order": null,
            "overflow": null,
            "overflow_x": null,
            "overflow_y": null,
            "padding": null,
            "right": null,
            "top": null,
            "visibility": null,
            "width": null
          }
        },
        "91ab43e4065844daa61b1b2567645531": {
          "model_module": "@jupyter-widgets/controls",
          "model_name": "DescriptionStyleModel",
          "model_module_version": "1.5.0",
          "state": {
            "_model_module": "@jupyter-widgets/controls",
            "_model_module_version": "1.5.0",
            "_model_name": "DescriptionStyleModel",
            "_view_count": null,
            "_view_module": "@jupyter-widgets/base",
            "_view_module_version": "1.2.0",
            "_view_name": "StyleView",
            "description_width": ""
          }
        },
        "563c313b9c0f49e0868846695aa5326d": {
          "model_module": "@jupyter-widgets/base",
          "model_name": "LayoutModel",
          "model_module_version": "1.2.0",
          "state": {
            "_model_module": "@jupyter-widgets/base",
            "_model_module_version": "1.2.0",
            "_model_name": "LayoutModel",
            "_view_count": null,
            "_view_module": "@jupyter-widgets/base",
            "_view_module_version": "1.2.0",
            "_view_name": "LayoutView",
            "align_content": null,
            "align_items": null,
            "align_self": null,
            "border": null,
            "bottom": null,
            "display": null,
            "flex": null,
            "flex_flow": null,
            "grid_area": null,
            "grid_auto_columns": null,
            "grid_auto_flow": null,
            "grid_auto_rows": null,
            "grid_column": null,
            "grid_gap": null,
            "grid_row": null,
            "grid_template_areas": null,
            "grid_template_columns": null,
            "grid_template_rows": null,
            "height": null,
            "justify_content": null,
            "justify_items": null,
            "left": null,
            "margin": null,
            "max_height": null,
            "max_width": null,
            "min_height": null,
            "min_width": null,
            "object_fit": null,
            "object_position": null,
            "order": null,
            "overflow": null,
            "overflow_x": null,
            "overflow_y": null,
            "padding": null,
            "right": null,
            "top": null,
            "visibility": null,
            "width": null
          }
        },
        "21b7c31e2e564c25b40f7c01291cca05": {
          "model_module": "@jupyter-widgets/controls",
          "model_name": "ProgressStyleModel",
          "model_module_version": "1.5.0",
          "state": {
            "_model_module": "@jupyter-widgets/controls",
            "_model_module_version": "1.5.0",
            "_model_name": "ProgressStyleModel",
            "_view_count": null,
            "_view_module": "@jupyter-widgets/base",
            "_view_module_version": "1.2.0",
            "_view_name": "StyleView",
            "bar_color": null,
            "description_width": ""
          }
        },
        "017e08f1a43545ad9f58f13766c47b49": {
          "model_module": "@jupyter-widgets/base",
          "model_name": "LayoutModel",
          "model_module_version": "1.2.0",
          "state": {
            "_model_module": "@jupyter-widgets/base",
            "_model_module_version": "1.2.0",
            "_model_name": "LayoutModel",
            "_view_count": null,
            "_view_module": "@jupyter-widgets/base",
            "_view_module_version": "1.2.0",
            "_view_name": "LayoutView",
            "align_content": null,
            "align_items": null,
            "align_self": null,
            "border": null,
            "bottom": null,
            "display": null,
            "flex": null,
            "flex_flow": null,
            "grid_area": null,
            "grid_auto_columns": null,
            "grid_auto_flow": null,
            "grid_auto_rows": null,
            "grid_column": null,
            "grid_gap": null,
            "grid_row": null,
            "grid_template_areas": null,
            "grid_template_columns": null,
            "grid_template_rows": null,
            "height": null,
            "justify_content": null,
            "justify_items": null,
            "left": null,
            "margin": null,
            "max_height": null,
            "max_width": null,
            "min_height": null,
            "min_width": null,
            "object_fit": null,
            "object_position": null,
            "order": null,
            "overflow": null,
            "overflow_x": null,
            "overflow_y": null,
            "padding": null,
            "right": null,
            "top": null,
            "visibility": null,
            "width": null
          }
        },
        "d9bcba698b4e432fb9787e13ffbaf80d": {
          "model_module": "@jupyter-widgets/controls",
          "model_name": "DescriptionStyleModel",
          "model_module_version": "1.5.0",
          "state": {
            "_model_module": "@jupyter-widgets/controls",
            "_model_module_version": "1.5.0",
            "_model_name": "DescriptionStyleModel",
            "_view_count": null,
            "_view_module": "@jupyter-widgets/base",
            "_view_module_version": "1.2.0",
            "_view_name": "StyleView",
            "description_width": ""
          }
        }
      }
    }
  },
  "cells": [
    {
      "cell_type": "markdown",
      "metadata": {
        "id": "view-in-github",
        "colab_type": "text"
      },
      "source": [
        "<a href=\"https://colab.research.google.com/github/aaubs/ds-master/blob/main/notebooks/M6_Building_PoC_with_DB_backend_SQLite_Solutions.ipynb\" target=\"_parent\"><img src=\"https://colab.research.google.com/assets/colab-badge.svg\" alt=\"Open In Colab\"/></a>"
      ]
    },
    {
      "cell_type": "markdown",
      "source": [
        "In this part, we will learn:\n",
        "> 1. How to load a CSV file into a SQLite database \n",
        "> 2. How to run four main SQL commands\n",
        "> 3. Utilizing this database for machine learning projects\n",
        "\n",
        "We will be using Python and the SQLite module to perform this task. Finally, we will create an exercise in Google Colab to practice the concepts learned.\n",
        "\n"
      ],
      "metadata": {
        "id": "fcoEbKypQYWC"
      }
    },
    {
      "cell_type": "code",
      "source": [
        "# Read the CSV file into a Pandas DataFrame\n",
        "import pandas as pd\n",
        "\n",
        "df_csv = pd.read_csv('https://raw.githubusercontent.com/aaubs/ds-master/main/data/Restaurant_Customers.csv')"
      ],
      "metadata": {
        "id": "CL4kda0PSoS4"
      },
      "execution_count": null,
      "outputs": []
    },
    {
      "cell_type": "code",
      "source": [
        "df_csv.head()"
      ],
      "metadata": {
        "colab": {
          "base_uri": "https://localhost:8080/",
          "height": 206
        },
        "id": "Vybb_EdiSxPP",
        "outputId": "d0ef242d-7eef-4e03-ba56-543c84034a88"
      },
      "execution_count": null,
      "outputs": [
        {
          "output_type": "execute_result",
          "data": {
            "text/plain": [
              "   ID First Name Last Name  Gender  Company                     Occupation\n",
              "0   1     Joseph   Perkins    Male  Dynazzy  Community Outreach Specialist\n",
              "1   2   Jennifer   Alvarez  Female     DabZ        Senior Quality Engineer\n",
              "2   3      Roger     Black    Male  Tagfeed              Account Executive\n",
              "3   4     Steven     Evans    Male     Fatz               Registered Nurse\n",
              "4   5       Judy  Morrison  Female  Demivee                Legal Assistant"
            ],
            "text/html": [
              "\n",
              "  <div id=\"df-73bf3a3c-fb75-449c-8095-625c12e22d64\">\n",
              "    <div class=\"colab-df-container\">\n",
              "      <div>\n",
              "<style scoped>\n",
              "    .dataframe tbody tr th:only-of-type {\n",
              "        vertical-align: middle;\n",
              "    }\n",
              "\n",
              "    .dataframe tbody tr th {\n",
              "        vertical-align: top;\n",
              "    }\n",
              "\n",
              "    .dataframe thead th {\n",
              "        text-align: right;\n",
              "    }\n",
              "</style>\n",
              "<table border=\"1\" class=\"dataframe\">\n",
              "  <thead>\n",
              "    <tr style=\"text-align: right;\">\n",
              "      <th></th>\n",
              "      <th>ID</th>\n",
              "      <th>First Name</th>\n",
              "      <th>Last Name</th>\n",
              "      <th>Gender</th>\n",
              "      <th>Company</th>\n",
              "      <th>Occupation</th>\n",
              "    </tr>\n",
              "  </thead>\n",
              "  <tbody>\n",
              "    <tr>\n",
              "      <th>0</th>\n",
              "      <td>1</td>\n",
              "      <td>Joseph</td>\n",
              "      <td>Perkins</td>\n",
              "      <td>Male</td>\n",
              "      <td>Dynazzy</td>\n",
              "      <td>Community Outreach Specialist</td>\n",
              "    </tr>\n",
              "    <tr>\n",
              "      <th>1</th>\n",
              "      <td>2</td>\n",
              "      <td>Jennifer</td>\n",
              "      <td>Alvarez</td>\n",
              "      <td>Female</td>\n",
              "      <td>DabZ</td>\n",
              "      <td>Senior Quality Engineer</td>\n",
              "    </tr>\n",
              "    <tr>\n",
              "      <th>2</th>\n",
              "      <td>3</td>\n",
              "      <td>Roger</td>\n",
              "      <td>Black</td>\n",
              "      <td>Male</td>\n",
              "      <td>Tagfeed</td>\n",
              "      <td>Account Executive</td>\n",
              "    </tr>\n",
              "    <tr>\n",
              "      <th>3</th>\n",
              "      <td>4</td>\n",
              "      <td>Steven</td>\n",
              "      <td>Evans</td>\n",
              "      <td>Male</td>\n",
              "      <td>Fatz</td>\n",
              "      <td>Registered Nurse</td>\n",
              "    </tr>\n",
              "    <tr>\n",
              "      <th>4</th>\n",
              "      <td>5</td>\n",
              "      <td>Judy</td>\n",
              "      <td>Morrison</td>\n",
              "      <td>Female</td>\n",
              "      <td>Demivee</td>\n",
              "      <td>Legal Assistant</td>\n",
              "    </tr>\n",
              "  </tbody>\n",
              "</table>\n",
              "</div>\n",
              "      <button class=\"colab-df-convert\" onclick=\"convertToInteractive('df-73bf3a3c-fb75-449c-8095-625c12e22d64')\"\n",
              "              title=\"Convert this dataframe to an interactive table.\"\n",
              "              style=\"display:none;\">\n",
              "        \n",
              "  <svg xmlns=\"http://www.w3.org/2000/svg\" height=\"24px\"viewBox=\"0 0 24 24\"\n",
              "       width=\"24px\">\n",
              "    <path d=\"M0 0h24v24H0V0z\" fill=\"none\"/>\n",
              "    <path d=\"M18.56 5.44l.94 2.06.94-2.06 2.06-.94-2.06-.94-.94-2.06-.94 2.06-2.06.94zm-11 1L8.5 8.5l.94-2.06 2.06-.94-2.06-.94L8.5 2.5l-.94 2.06-2.06.94zm10 10l.94 2.06.94-2.06 2.06-.94-2.06-.94-.94-2.06-.94 2.06-2.06.94z\"/><path d=\"M17.41 7.96l-1.37-1.37c-.4-.4-.92-.59-1.43-.59-.52 0-1.04.2-1.43.59L10.3 9.45l-7.72 7.72c-.78.78-.78 2.05 0 2.83L4 21.41c.39.39.9.59 1.41.59.51 0 1.02-.2 1.41-.59l7.78-7.78 2.81-2.81c.8-.78.8-2.07 0-2.86zM5.41 20L4 18.59l7.72-7.72 1.47 1.35L5.41 20z\"/>\n",
              "  </svg>\n",
              "      </button>\n",
              "      \n",
              "  <style>\n",
              "    .colab-df-container {\n",
              "      display:flex;\n",
              "      flex-wrap:wrap;\n",
              "      gap: 12px;\n",
              "    }\n",
              "\n",
              "    .colab-df-convert {\n",
              "      background-color: #E8F0FE;\n",
              "      border: none;\n",
              "      border-radius: 50%;\n",
              "      cursor: pointer;\n",
              "      display: none;\n",
              "      fill: #1967D2;\n",
              "      height: 32px;\n",
              "      padding: 0 0 0 0;\n",
              "      width: 32px;\n",
              "    }\n",
              "\n",
              "    .colab-df-convert:hover {\n",
              "      background-color: #E2EBFA;\n",
              "      box-shadow: 0px 1px 2px rgba(60, 64, 67, 0.3), 0px 1px 3px 1px rgba(60, 64, 67, 0.15);\n",
              "      fill: #174EA6;\n",
              "    }\n",
              "\n",
              "    [theme=dark] .colab-df-convert {\n",
              "      background-color: #3B4455;\n",
              "      fill: #D2E3FC;\n",
              "    }\n",
              "\n",
              "    [theme=dark] .colab-df-convert:hover {\n",
              "      background-color: #434B5C;\n",
              "      box-shadow: 0px 1px 3px 1px rgba(0, 0, 0, 0.15);\n",
              "      filter: drop-shadow(0px 1px 2px rgba(0, 0, 0, 0.3));\n",
              "      fill: #FFFFFF;\n",
              "    }\n",
              "  </style>\n",
              "\n",
              "      <script>\n",
              "        const buttonEl =\n",
              "          document.querySelector('#df-73bf3a3c-fb75-449c-8095-625c12e22d64 button.colab-df-convert');\n",
              "        buttonEl.style.display =\n",
              "          google.colab.kernel.accessAllowed ? 'block' : 'none';\n",
              "\n",
              "        async function convertToInteractive(key) {\n",
              "          const element = document.querySelector('#df-73bf3a3c-fb75-449c-8095-625c12e22d64');\n",
              "          const dataTable =\n",
              "            await google.colab.kernel.invokeFunction('convertToInteractive',\n",
              "                                                     [key], {});\n",
              "          if (!dataTable) return;\n",
              "\n",
              "          const docLinkHtml = 'Like what you see? Visit the ' +\n",
              "            '<a target=\"_blank\" href=https://colab.research.google.com/notebooks/data_table.ipynb>data table notebook</a>'\n",
              "            + ' to learn more about interactive tables.';\n",
              "          element.innerHTML = '';\n",
              "          dataTable['output_type'] = 'display_data';\n",
              "          await google.colab.output.renderOutput(dataTable, element);\n",
              "          const docLink = document.createElement('div');\n",
              "          docLink.innerHTML = docLinkHtml;\n",
              "          element.appendChild(docLink);\n",
              "        }\n",
              "      </script>\n",
              "    </div>\n",
              "  </div>\n",
              "  "
            ]
          },
          "metadata": {},
          "execution_count": 2
        }
      ]
    },
    {
      "cell_type": "code",
      "source": [
        "df_csv.rename(columns=lambda x: x.replace(\" \", \"_\"), inplace=True)"
      ],
      "metadata": {
        "id": "ZOSNqVyQUMF8"
      },
      "execution_count": null,
      "outputs": []
    },
    {
      "cell_type": "code",
      "source": [
        "df_csv.head()"
      ],
      "metadata": {
        "colab": {
          "base_uri": "https://localhost:8080/",
          "height": 206
        },
        "id": "r5cCJNl0W5f-",
        "outputId": "156fd907-0d97-4577-fe5b-b474c5d50dfa"
      },
      "execution_count": null,
      "outputs": [
        {
          "output_type": "execute_result",
          "data": {
            "text/plain": [
              "   ID First_Name Last_Name  Gender  Company                     Occupation\n",
              "0   1     Joseph   Perkins    Male  Dynazzy  Community Outreach Specialist\n",
              "1   2   Jennifer   Alvarez  Female     DabZ        Senior Quality Engineer\n",
              "2   3      Roger     Black    Male  Tagfeed              Account Executive\n",
              "3   4     Steven     Evans    Male     Fatz               Registered Nurse\n",
              "4   5       Judy  Morrison  Female  Demivee                Legal Assistant"
            ],
            "text/html": [
              "\n",
              "  <div id=\"df-1b5ccc70-4289-4b7f-bd22-02e229261570\">\n",
              "    <div class=\"colab-df-container\">\n",
              "      <div>\n",
              "<style scoped>\n",
              "    .dataframe tbody tr th:only-of-type {\n",
              "        vertical-align: middle;\n",
              "    }\n",
              "\n",
              "    .dataframe tbody tr th {\n",
              "        vertical-align: top;\n",
              "    }\n",
              "\n",
              "    .dataframe thead th {\n",
              "        text-align: right;\n",
              "    }\n",
              "</style>\n",
              "<table border=\"1\" class=\"dataframe\">\n",
              "  <thead>\n",
              "    <tr style=\"text-align: right;\">\n",
              "      <th></th>\n",
              "      <th>ID</th>\n",
              "      <th>First_Name</th>\n",
              "      <th>Last_Name</th>\n",
              "      <th>Gender</th>\n",
              "      <th>Company</th>\n",
              "      <th>Occupation</th>\n",
              "    </tr>\n",
              "  </thead>\n",
              "  <tbody>\n",
              "    <tr>\n",
              "      <th>0</th>\n",
              "      <td>1</td>\n",
              "      <td>Joseph</td>\n",
              "      <td>Perkins</td>\n",
              "      <td>Male</td>\n",
              "      <td>Dynazzy</td>\n",
              "      <td>Community Outreach Specialist</td>\n",
              "    </tr>\n",
              "    <tr>\n",
              "      <th>1</th>\n",
              "      <td>2</td>\n",
              "      <td>Jennifer</td>\n",
              "      <td>Alvarez</td>\n",
              "      <td>Female</td>\n",
              "      <td>DabZ</td>\n",
              "      <td>Senior Quality Engineer</td>\n",
              "    </tr>\n",
              "    <tr>\n",
              "      <th>2</th>\n",
              "      <td>3</td>\n",
              "      <td>Roger</td>\n",
              "      <td>Black</td>\n",
              "      <td>Male</td>\n",
              "      <td>Tagfeed</td>\n",
              "      <td>Account Executive</td>\n",
              "    </tr>\n",
              "    <tr>\n",
              "      <th>3</th>\n",
              "      <td>4</td>\n",
              "      <td>Steven</td>\n",
              "      <td>Evans</td>\n",
              "      <td>Male</td>\n",
              "      <td>Fatz</td>\n",
              "      <td>Registered Nurse</td>\n",
              "    </tr>\n",
              "    <tr>\n",
              "      <th>4</th>\n",
              "      <td>5</td>\n",
              "      <td>Judy</td>\n",
              "      <td>Morrison</td>\n",
              "      <td>Female</td>\n",
              "      <td>Demivee</td>\n",
              "      <td>Legal Assistant</td>\n",
              "    </tr>\n",
              "  </tbody>\n",
              "</table>\n",
              "</div>\n",
              "      <button class=\"colab-df-convert\" onclick=\"convertToInteractive('df-1b5ccc70-4289-4b7f-bd22-02e229261570')\"\n",
              "              title=\"Convert this dataframe to an interactive table.\"\n",
              "              style=\"display:none;\">\n",
              "        \n",
              "  <svg xmlns=\"http://www.w3.org/2000/svg\" height=\"24px\"viewBox=\"0 0 24 24\"\n",
              "       width=\"24px\">\n",
              "    <path d=\"M0 0h24v24H0V0z\" fill=\"none\"/>\n",
              "    <path d=\"M18.56 5.44l.94 2.06.94-2.06 2.06-.94-2.06-.94-.94-2.06-.94 2.06-2.06.94zm-11 1L8.5 8.5l.94-2.06 2.06-.94-2.06-.94L8.5 2.5l-.94 2.06-2.06.94zm10 10l.94 2.06.94-2.06 2.06-.94-2.06-.94-.94-2.06-.94 2.06-2.06.94z\"/><path d=\"M17.41 7.96l-1.37-1.37c-.4-.4-.92-.59-1.43-.59-.52 0-1.04.2-1.43.59L10.3 9.45l-7.72 7.72c-.78.78-.78 2.05 0 2.83L4 21.41c.39.39.9.59 1.41.59.51 0 1.02-.2 1.41-.59l7.78-7.78 2.81-2.81c.8-.78.8-2.07 0-2.86zM5.41 20L4 18.59l7.72-7.72 1.47 1.35L5.41 20z\"/>\n",
              "  </svg>\n",
              "      </button>\n",
              "      \n",
              "  <style>\n",
              "    .colab-df-container {\n",
              "      display:flex;\n",
              "      flex-wrap:wrap;\n",
              "      gap: 12px;\n",
              "    }\n",
              "\n",
              "    .colab-df-convert {\n",
              "      background-color: #E8F0FE;\n",
              "      border: none;\n",
              "      border-radius: 50%;\n",
              "      cursor: pointer;\n",
              "      display: none;\n",
              "      fill: #1967D2;\n",
              "      height: 32px;\n",
              "      padding: 0 0 0 0;\n",
              "      width: 32px;\n",
              "    }\n",
              "\n",
              "    .colab-df-convert:hover {\n",
              "      background-color: #E2EBFA;\n",
              "      box-shadow: 0px 1px 2px rgba(60, 64, 67, 0.3), 0px 1px 3px 1px rgba(60, 64, 67, 0.15);\n",
              "      fill: #174EA6;\n",
              "    }\n",
              "\n",
              "    [theme=dark] .colab-df-convert {\n",
              "      background-color: #3B4455;\n",
              "      fill: #D2E3FC;\n",
              "    }\n",
              "\n",
              "    [theme=dark] .colab-df-convert:hover {\n",
              "      background-color: #434B5C;\n",
              "      box-shadow: 0px 1px 3px 1px rgba(0, 0, 0, 0.15);\n",
              "      filter: drop-shadow(0px 1px 2px rgba(0, 0, 0, 0.3));\n",
              "      fill: #FFFFFF;\n",
              "    }\n",
              "  </style>\n",
              "\n",
              "      <script>\n",
              "        const buttonEl =\n",
              "          document.querySelector('#df-1b5ccc70-4289-4b7f-bd22-02e229261570 button.colab-df-convert');\n",
              "        buttonEl.style.display =\n",
              "          google.colab.kernel.accessAllowed ? 'block' : 'none';\n",
              "\n",
              "        async function convertToInteractive(key) {\n",
              "          const element = document.querySelector('#df-1b5ccc70-4289-4b7f-bd22-02e229261570');\n",
              "          const dataTable =\n",
              "            await google.colab.kernel.invokeFunction('convertToInteractive',\n",
              "                                                     [key], {});\n",
              "          if (!dataTable) return;\n",
              "\n",
              "          const docLinkHtml = 'Like what you see? Visit the ' +\n",
              "            '<a target=\"_blank\" href=https://colab.research.google.com/notebooks/data_table.ipynb>data table notebook</a>'\n",
              "            + ' to learn more about interactive tables.';\n",
              "          element.innerHTML = '';\n",
              "          dataTable['output_type'] = 'display_data';\n",
              "          await google.colab.output.renderOutput(dataTable, element);\n",
              "          const docLink = document.createElement('div');\n",
              "          docLink.innerHTML = docLinkHtml;\n",
              "          element.appendChild(docLink);\n",
              "        }\n",
              "      </script>\n",
              "    </div>\n",
              "  </div>\n",
              "  "
            ]
          },
          "metadata": {},
          "execution_count": 4
        }
      ]
    },
    {
      "cell_type": "markdown",
      "source": [
        "### Step 1: Creating a SQLite database\n",
        "In a new cell, create a new SQLite database and table to store the CSV data:\n",
        "\n",
        "\n"
      ],
      "metadata": {
        "id": "y7VmxnYzRwd7"
      }
    },
    {
      "cell_type": "code",
      "execution_count": null,
      "metadata": {
        "id": "uph5Yq02QIk2"
      },
      "outputs": [],
      "source": [
        "# Importing the necessary libraries\n",
        "import sqlite3\n",
        "import pandas as pd\n",
        "\n",
        "# Create a connection to the database\n",
        "conn = sqlite3.connect('example.db')\n",
        "\n",
        "# Add a column for the sentiment labels\n",
        "df_csv['salary'] = ''"
      ]
    },
    {
      "cell_type": "markdown",
      "source": [
        "### Step 2: Loading the CSV file into the SQLite table\n",
        "In a new cell, load the CSV file into the SQLite table:\n",
        "\n"
      ],
      "metadata": {
        "id": "aqCMZdRoTMt0"
      }
    },
    {
      "cell_type": "code",
      "source": [
        "# Load the DataFrame into the SQLite table\n",
        "df_csv.to_sql('data', conn, if_exists='append', index=False)"
      ],
      "metadata": {
        "colab": {
          "base_uri": "https://localhost:8080/"
        },
        "id": "PAsy2_rGSLja",
        "outputId": "b238a5ca-ca37-4ec2-aa74-d9c7d7dfcd93"
      },
      "execution_count": null,
      "outputs": [
        {
          "output_type": "execute_result",
          "data": {
            "text/plain": [
              "1000"
            ]
          },
          "metadata": {},
          "execution_count": 6
        }
      ]
    },
    {
      "cell_type": "markdown",
      "source": [
        "###Step 3: Running SQL commands\n",
        "Now we'll run four main SQL commands: \n",
        "> - SELECT\n",
        "- INSERT \n",
        "- UPDATE\n",
        "- DELETE\n",
        "\n"
      ],
      "metadata": {
        "id": "6HHG6bwcYrnW"
      }
    },
    {
      "cell_type": "code",
      "source": [
        "# Select all records from the 'data' table\n",
        "select_query = \"SELECT * FROM data limit 5;\"\n",
        "cursor = conn.execute(select_query)\n",
        "rows = cursor.fetchall()\n",
        "\n",
        "# Print the records\n",
        "for row in rows:\n",
        "    print(row)"
      ],
      "metadata": {
        "colab": {
          "base_uri": "https://localhost:8080/"
        },
        "id": "q7tEVYPcWoZr",
        "outputId": "cdb33d3a-085d-4ba5-d398-eb10b0a5bf7c"
      },
      "execution_count": null,
      "outputs": [
        {
          "output_type": "stream",
          "name": "stdout",
          "text": [
            "(1, 'Joseph', 'Perkins', 'Male', 'Dynazzy', 'Community Outreach Specialist', '')\n",
            "(2, 'Jennifer', 'Alvarez', 'Female', 'DabZ', 'Senior Quality Engineer', '')\n",
            "(3, 'Roger', 'Black', 'Male', 'Tagfeed', 'Account Executive', '')\n",
            "(4, 'Steven', 'Evans', 'Male', 'Fatz', 'Registered Nurse', '')\n",
            "(5, 'Judy', 'Morrison', 'Female', 'Demivee', 'Legal Assistant', '')\n"
          ]
        }
      ]
    },
    {
      "cell_type": "code",
      "source": [
        "# Insert a new record into the 'data' table\n",
        "insert_query = \"INSERT INTO data (ID, First_Name, Last_Name, Gender, Company, Occupation) VALUES ('1001', 'Lasse', 'Evans', 'Male', 'AAU', 'Researcher');\"\n",
        "conn.execute(insert_query)\n",
        "conn.commit()\n",
        "\n",
        "# Verify the insertion\n",
        "cursor = conn.execute(\"SELECT * FROM data WHERE First_Name = 'Lasse';\")\n",
        "print(cursor.fetchone())\n"
      ],
      "metadata": {
        "colab": {
          "base_uri": "https://localhost:8080/"
        },
        "id": "zwnlAhomZBlP",
        "outputId": "47dbfa0d-73b2-4839-d070-40e64f0a795a"
      },
      "execution_count": null,
      "outputs": [
        {
          "output_type": "stream",
          "name": "stdout",
          "text": [
            "(1001, 'Lasse', 'Evans', 'Male', 'AAU', 'Researcher', None)\n"
          ]
        }
      ]
    },
    {
      "cell_type": "code",
      "source": [
        "# Update a record in the 'data' table\n",
        "update_query = \"UPDATE data SET Company = 'DTU' WHERE First_Name = 'Lasse';\"\n",
        "conn.execute(update_query)\n",
        "conn.commit()\n",
        "\n",
        "# Verify the update\n",
        "cursor = conn.execute(\"SELECT * FROM data WHERE First_Name = 'Lasse';\")\n",
        "print(cursor.fetchone())\n"
      ],
      "metadata": {
        "colab": {
          "base_uri": "https://localhost:8080/"
        },
        "id": "w7yP5Z87Z-08",
        "outputId": "9a2a7f4c-fa3e-4341-a352-bd0c034fff46"
      },
      "execution_count": null,
      "outputs": [
        {
          "output_type": "stream",
          "name": "stdout",
          "text": [
            "(1001, 'Lasse', 'Evans', 'Male', 'DTU', 'Researcher', None)\n"
          ]
        }
      ]
    },
    {
      "cell_type": "code",
      "source": [
        "# Delete a record from the 'data' table\n",
        "delete_query = \"DELETE FROM data WHERE First_Name = 'Lasse';\"\n",
        "conn.execute(delete_query)\n",
        "conn.commit()\n",
        "\n",
        "# Verify the deletion\n",
        "cursor = conn.execute(\"SELECT * FROM data WHERE First_Name = 'Lasse';\")\n",
        "print(cursor.fetchone())\n"
      ],
      "metadata": {
        "colab": {
          "base_uri": "https://localhost:8080/"
        },
        "id": "QhzKEYhCaSq9",
        "outputId": "6d910f76-caea-40fc-b363-6a29f28cb822"
      },
      "execution_count": null,
      "outputs": [
        {
          "output_type": "stream",
          "name": "stdout",
          "text": [
            "None\n"
          ]
        }
      ]
    },
    {
      "cell_type": "markdown",
      "source": [
        "### Step 4: Clean up\n",
        "\n",
        "In a new cell, close the database connection:\n",
        "\n"
      ],
      "metadata": {
        "id": "35ld1keRagV7"
      }
    },
    {
      "cell_type": "code",
      "source": [
        "conn.close()"
      ],
      "metadata": {
        "id": "CswV9YNmaeL8"
      },
      "execution_count": null,
      "outputs": []
    },
    {
      "cell_type": "markdown",
      "source": [
        "![image.png](data:image/png;base64,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)"
      ],
      "metadata": {
        "id": "i3y2PGpzeitn"
      }
    },
    {
      "cell_type": "markdown",
      "source": [
        "Here are exercises for each step to help reinforce your understanding of the concepts:\n",
        "\n"
      ],
      "metadata": {
        "id": "PlkEVMBTewLC"
      }
    },
    {
      "cell_type": "code",
      "source": [
        "import sqlite3\n",
        "import pandas as pd\n",
        "\n",
        "# Load the data into a pandas dataframe\n",
        "df = pd.read_csv('https://raw.githubusercontent.com/aaubs/ds-master/main/data/imdb_reviews.csv', encoding= 'unicode_escape')"
      ],
      "metadata": {
        "id": "OGeRxNpHejne"
      },
      "execution_count": null,
      "outputs": []
    },
    {
      "cell_type": "markdown",
      "source": [
        "### Exercise 1: Creating a SQLite database\n",
        "\n",
        "Create a new SQLite database called \"movie_reviews.db\" and a column as 'sentiment' "
      ],
      "metadata": {
        "id": "9SkForBmit8c"
      }
    },
    {
      "cell_type": "code",
      "source": [
        "# Create a connection to the database\n",
        "conn = sqlite3.connect('movie_reviews.db')\n",
        "\n",
        "# Add a column for the sentiment labels\n",
        "df['sentiment'] = ''"
      ],
      "metadata": {
        "id": "nRw1ad08i54k"
      },
      "execution_count": null,
      "outputs": []
    },
    {
      "cell_type": "code",
      "source": [
        "df.head()"
      ],
      "metadata": {
        "colab": {
          "base_uri": "https://localhost:8080/",
          "height": 206
        },
        "id": "zbwzzmeMqlK5",
        "outputId": "3055be82-d2e3-43ea-ee85-f339958e923a"
      },
      "execution_count": null,
      "outputs": [
        {
          "output_type": "execute_result",
          "data": {
            "text/plain": [
              "   row_number                                               text sentiment\n",
              "0           0  Oh gosh!! I love movie sooooooooooooooooooooo ...          \n",
              "1           1  I saw Borderline several years ago AMC. I've l...          \n",
              "2           2  Let say GRANNY extremely well made horror viol...          \n",
              "3           3  I like Full Moon Pictures I ordered movie USA,...          \n",
              "4           4  Worst horror film ever funniest film ever roll...          "
            ],
            "text/html": [
              "\n",
              "  <div id=\"df-bcb6ef82-f189-4fb3-a843-c15412d997c9\">\n",
              "    <div class=\"colab-df-container\">\n",
              "      <div>\n",
              "<style scoped>\n",
              "    .dataframe tbody tr th:only-of-type {\n",
              "        vertical-align: middle;\n",
              "    }\n",
              "\n",
              "    .dataframe tbody tr th {\n",
              "        vertical-align: top;\n",
              "    }\n",
              "\n",
              "    .dataframe thead th {\n",
              "        text-align: right;\n",
              "    }\n",
              "</style>\n",
              "<table border=\"1\" class=\"dataframe\">\n",
              "  <thead>\n",
              "    <tr style=\"text-align: right;\">\n",
              "      <th></th>\n",
              "      <th>row_number</th>\n",
              "      <th>text</th>\n",
              "      <th>sentiment</th>\n",
              "    </tr>\n",
              "  </thead>\n",
              "  <tbody>\n",
              "    <tr>\n",
              "      <th>0</th>\n",
              "      <td>0</td>\n",
              "      <td>Oh gosh!! I love movie sooooooooooooooooooooo ...</td>\n",
              "      <td></td>\n",
              "    </tr>\n",
              "    <tr>\n",
              "      <th>1</th>\n",
              "      <td>1</td>\n",
              "      <td>I saw Borderline several years ago AMC. I've l...</td>\n",
              "      <td></td>\n",
              "    </tr>\n",
              "    <tr>\n",
              "      <th>2</th>\n",
              "      <td>2</td>\n",
              "      <td>Let say GRANNY extremely well made horror viol...</td>\n",
              "      <td></td>\n",
              "    </tr>\n",
              "    <tr>\n",
              "      <th>3</th>\n",
              "      <td>3</td>\n",
              "      <td>I like Full Moon Pictures I ordered movie USA,...</td>\n",
              "      <td></td>\n",
              "    </tr>\n",
              "    <tr>\n",
              "      <th>4</th>\n",
              "      <td>4</td>\n",
              "      <td>Worst horror film ever funniest film ever roll...</td>\n",
              "      <td></td>\n",
              "    </tr>\n",
              "  </tbody>\n",
              "</table>\n",
              "</div>\n",
              "      <button class=\"colab-df-convert\" onclick=\"convertToInteractive('df-bcb6ef82-f189-4fb3-a843-c15412d997c9')\"\n",
              "              title=\"Convert this dataframe to an interactive table.\"\n",
              "              style=\"display:none;\">\n",
              "        \n",
              "  <svg xmlns=\"http://www.w3.org/2000/svg\" height=\"24px\"viewBox=\"0 0 24 24\"\n",
              "       width=\"24px\">\n",
              "    <path d=\"M0 0h24v24H0V0z\" fill=\"none\"/>\n",
              "    <path d=\"M18.56 5.44l.94 2.06.94-2.06 2.06-.94-2.06-.94-.94-2.06-.94 2.06-2.06.94zm-11 1L8.5 8.5l.94-2.06 2.06-.94-2.06-.94L8.5 2.5l-.94 2.06-2.06.94zm10 10l.94 2.06.94-2.06 2.06-.94-2.06-.94-.94-2.06-.94 2.06-2.06.94z\"/><path d=\"M17.41 7.96l-1.37-1.37c-.4-.4-.92-.59-1.43-.59-.52 0-1.04.2-1.43.59L10.3 9.45l-7.72 7.72c-.78.78-.78 2.05 0 2.83L4 21.41c.39.39.9.59 1.41.59.51 0 1.02-.2 1.41-.59l7.78-7.78 2.81-2.81c.8-.78.8-2.07 0-2.86zM5.41 20L4 18.59l7.72-7.72 1.47 1.35L5.41 20z\"/>\n",
              "  </svg>\n",
              "      </button>\n",
              "      \n",
              "  <style>\n",
              "    .colab-df-container {\n",
              "      display:flex;\n",
              "      flex-wrap:wrap;\n",
              "      gap: 12px;\n",
              "    }\n",
              "\n",
              "    .colab-df-convert {\n",
              "      background-color: #E8F0FE;\n",
              "      border: none;\n",
              "      border-radius: 50%;\n",
              "      cursor: pointer;\n",
              "      display: none;\n",
              "      fill: #1967D2;\n",
              "      height: 32px;\n",
              "      padding: 0 0 0 0;\n",
              "      width: 32px;\n",
              "    }\n",
              "\n",
              "    .colab-df-convert:hover {\n",
              "      background-color: #E2EBFA;\n",
              "      box-shadow: 0px 1px 2px rgba(60, 64, 67, 0.3), 0px 1px 3px 1px rgba(60, 64, 67, 0.15);\n",
              "      fill: #174EA6;\n",
              "    }\n",
              "\n",
              "    [theme=dark] .colab-df-convert {\n",
              "      background-color: #3B4455;\n",
              "      fill: #D2E3FC;\n",
              "    }\n",
              "\n",
              "    [theme=dark] .colab-df-convert:hover {\n",
              "      background-color: #434B5C;\n",
              "      box-shadow: 0px 1px 3px 1px rgba(0, 0, 0, 0.15);\n",
              "      filter: drop-shadow(0px 1px 2px rgba(0, 0, 0, 0.3));\n",
              "      fill: #FFFFFF;\n",
              "    }\n",
              "  </style>\n",
              "\n",
              "      <script>\n",
              "        const buttonEl =\n",
              "          document.querySelector('#df-bcb6ef82-f189-4fb3-a843-c15412d997c9 button.colab-df-convert');\n",
              "        buttonEl.style.display =\n",
              "          google.colab.kernel.accessAllowed ? 'block' : 'none';\n",
              "\n",
              "        async function convertToInteractive(key) {\n",
              "          const element = document.querySelector('#df-bcb6ef82-f189-4fb3-a843-c15412d997c9');\n",
              "          const dataTable =\n",
              "            await google.colab.kernel.invokeFunction('convertToInteractive',\n",
              "                                                     [key], {});\n",
              "          if (!dataTable) return;\n",
              "\n",
              "          const docLinkHtml = 'Like what you see? Visit the ' +\n",
              "            '<a target=\"_blank\" href=https://colab.research.google.com/notebooks/data_table.ipynb>data table notebook</a>'\n",
              "            + ' to learn more about interactive tables.';\n",
              "          element.innerHTML = '';\n",
              "          dataTable['output_type'] = 'display_data';\n",
              "          await google.colab.output.renderOutput(dataTable, element);\n",
              "          const docLink = document.createElement('div');\n",
              "          docLink.innerHTML = docLinkHtml;\n",
              "          element.appendChild(docLink);\n",
              "        }\n",
              "      </script>\n",
              "    </div>\n",
              "  </div>\n",
              "  "
            ]
          },
          "metadata": {},
          "execution_count": 14
        }
      ]
    },
    {
      "cell_type": "markdown",
      "source": [
        "### Exercise 2: Loading the CSV file into the SQLite table\n",
        "\n",
        "Loading the CSV file into reviews table"
      ],
      "metadata": {
        "id": "GXwh_MxHjUh7"
      }
    },
    {
      "cell_type": "code",
      "source": [
        "# Load the data into a table\n",
        "df.to_sql('reviews', conn, if_exists='replace', index=False)"
      ],
      "metadata": {
        "colab": {
          "base_uri": "https://localhost:8080/"
        },
        "id": "u0diASwNjXiT",
        "outputId": "60fd821d-9df3-4d59-e36d-6eb42d51892e"
      },
      "execution_count": null,
      "outputs": [
        {
          "output_type": "execute_result",
          "data": {
            "text/plain": [
              "25000"
            ]
          },
          "metadata": {},
          "execution_count": 15
        }
      ]
    },
    {
      "cell_type": "markdown",
      "source": [
        "### Exercise 3: Running SQL commands\n",
        "\n",
        "Perform the following SQL commands on the \"reviews\" table:\n",
        "\n"
      ],
      "metadata": {
        "id": "0-TYpytilq-g"
      }
    },
    {
      "cell_type": "markdown",
      "source": [
        "SELECT: Select and display all records in the \"reviews\" table.\n"
      ],
      "metadata": {
        "id": "o0k3kSC8qZsX"
      }
    },
    {
      "cell_type": "code",
      "source": [
        "# Select all records from the 'data' table\n",
        "select_query = \"SELECT * FROM reviews limit 5;\"\n",
        "cursor = conn.execute(select_query)\n",
        "rows = cursor.fetchall()\n",
        "\n",
        "# Print the records\n",
        "for row in rows:\n",
        "    print(row)"
      ],
      "metadata": {
        "colab": {
          "base_uri": "https://localhost:8080/"
        },
        "id": "sHxXbwP8GCsu",
        "outputId": "5246b430-47ab-4c88-d2e7-809dbaf3ca5a"
      },
      "execution_count": null,
      "outputs": [
        {
          "output_type": "stream",
          "name": "stdout",
          "text": [
            "(0, \"Oh gosh!! I love movie sooooooooooooooooooooo much!!!!!!!!!!!!!!!!!!!!!!!!!!!!!!!!!!!! It incredible......I loved wee babe still love adult. It favorite Disney movie allllllllllllllllllllllllllllll time! You watch it, watch love it. My friends I watch ton.....It soooooooooooooooooooooooooooooooooo good. I recommend anyone child child heart. My favorite part song dance number strays Thomas O'Malley. The writers/producers/director completely nailed one.....yeah, nailed wall.xoxo~Wolly~xoxo\", '')\n",
            "(1, \"I saw Borderline several years ago AMC. I've looking ever since. It haunting: visual, textural, sensual. This movie took somewhere like dream I didn't care where. I never forget curtain blowing breeze. I still remember way made tilt head. I remember facial expression I saw it. I didn't know happened movie over, I find life way. It didn't bother me. The unfairness ultimate rejection innocent character strikes sadly real. I loved faces, way camera dwelt upon them. The camera gazed set unfocused eyes daydreamer. Borderline real way movies aren't. It exactly lack explanation, color, sharpness made enter consciousness like thief night. I love movie. Someday I it.\", '')\n",
            "(2, 'Let say GRANNY extremely well made horror violence sure suspense moves!!!!!! best indie horror movie I ever seen 58 minutes long...It 5 20 favorite movie time. You people love this. I give 10 10!!!', '')\n",
            "(3, \"I like Full Moon Pictures I ordered movie USA, Germany can't get anywhere. I thought would nice amusing like Subspecies Puppetmaster Series, full atmosphere.I glad movie finally arrived.But watching cheesy movie, I disappointed. The actors ( I think can't even say actors) boring untalented. The story poor performance even set monster cheap lousy.I hope one ever make sequel remake terrible movie. :-)\", '')\n",
            "(4, 'Worst horror film ever funniest film ever rolled one got see film cheap unbeliaveble see really!!!! P.s watch carrot', '')\n"
          ]
        }
      ]
    },
    {
      "cell_type": "markdown",
      "source": [
        "INSERT: Insert a new review into the \"reviews\" table, with a unique row_number."
      ],
      "metadata": {
        "id": "GP7E4gbXqex6"
      }
    },
    {
      "cell_type": "code",
      "source": [
        "# Insert a new record into the 'reviews' table\n",
        "insert_query = \"INSERT INTO reviews (row_number, text, sentiment) VALUES ('10001', 'That is Fantastic!', 1);\"\n",
        "conn.execute(insert_query)\n",
        "conn.commit()\n",
        "\n",
        "# Verify the insertion\n",
        "cursor = conn.execute(\"SELECT * FROM reviews WHERE text = 'That is Fantastic!';\")\n",
        "print(cursor.fetchone())"
      ],
      "metadata": {
        "colab": {
          "base_uri": "https://localhost:8080/"
        },
        "id": "LTrTfXYpqtJB",
        "outputId": "7e7958a3-89c8-40a5-d61c-fcb14ac55e8f"
      },
      "execution_count": null,
      "outputs": [
        {
          "output_type": "stream",
          "name": "stdout",
          "text": [
            "(10001, 'That is Fantastic!', '1')\n"
          ]
        }
      ]
    },
    {
      "cell_type": "markdown",
      "source": [
        "UPDATE: Update the text of the newly inserted review. "
      ],
      "metadata": {
        "id": "1W5j6Ht2quig"
      }
    },
    {
      "cell_type": "code",
      "source": [
        "# Update a record in the 'data' table\n",
        "update_query = \"UPDATE reviews SET text = 'That is a really funny movie!' WHERE row_number = 10001;\"\n",
        "conn.execute(update_query)\n",
        "conn.commit()\n",
        "\n",
        "# Verify the update\n",
        "cursor = conn.execute(\"SELECT * FROM reviews WHERE row_number = 10001;\")\n",
        "print(cursor.fetchone())"
      ],
      "metadata": {
        "colab": {
          "base_uri": "https://localhost:8080/"
        },
        "id": "Gpn-7UVpq5tD",
        "outputId": "c9fd21f1-eddf-48b5-ebd9-531eaab2dc06"
      },
      "execution_count": null,
      "outputs": [
        {
          "output_type": "stream",
          "name": "stdout",
          "text": [
            "(10001, 'That is a really funny movie!', '')\n"
          ]
        }
      ]
    },
    {
      "cell_type": "markdown",
      "source": [
        "DELETE: Delete the newly inserted review from the \"reviews\" table. "
      ],
      "metadata": {
        "id": "jndfH6-Qq8Pj"
      }
    },
    {
      "cell_type": "code",
      "source": [
        "# Delete a record from the 'data' table\n",
        "delete_query = \"DELETE FROM reviews WHERE row_number = 10001;\"\n",
        "conn.execute(delete_query)\n",
        "conn.commit()\n",
        "\n",
        "# Verify the deletion\n",
        "cursor = conn.execute(\"SELECT * FROM reviews WHERE row_number = 10001;\")\n",
        "print(cursor.fetchone())"
      ],
      "metadata": {
        "colab": {
          "base_uri": "https://localhost:8080/"
        },
        "id": "NfIdhfB8q_Sn",
        "outputId": "3ad4d7c7-3474-459e-b48a-ce4ddd2a105d"
      },
      "execution_count": null,
      "outputs": [
        {
          "output_type": "stream",
          "name": "stdout",
          "text": [
            "None\n"
          ]
        }
      ]
    },
    {
      "cell_type": "markdown",
      "source": [
        "###Exercise 4: Clean up"
      ],
      "metadata": {
        "id": "DdiIyJtMrHZh"
      }
    },
    {
      "cell_type": "markdown",
      "source": [
        "Close the SQLite database connection and ensure there are no errors.\n",
        "\n"
      ],
      "metadata": {
        "id": "loRzFCbzrL7T"
      }
    },
    {
      "cell_type": "code",
      "source": [
        "conn.close()"
      ],
      "metadata": {
        "id": "lKHj6ilUrI9l"
      },
      "execution_count": null,
      "outputs": []
    },
    {
      "cell_type": "markdown",
      "source": [
        "#Hands on project for using SQLite in ML"
      ],
      "metadata": {
        "id": "0falMMadvxTq"
      }
    },
    {
      "cell_type": "markdown",
      "source": [
        "Here's a tutorial on how to use the transformers library in Python to perform sentiment analysis on movie reviews stored in a SQLite database"
      ],
      "metadata": {
        "id": "Cduaz-mksuwP"
      }
    },
    {
      "cell_type": "code",
      "source": [
        "!pip install transformers --q"
      ],
      "metadata": {
        "colab": {
          "base_uri": "https://localhost:8080/"
        },
        "id": "ymaDKz8isvqo",
        "outputId": "1603796a-c542-43af-cca6-5680d8ca0abc"
      },
      "execution_count": null,
      "outputs": [
        {
          "output_type": "stream",
          "name": "stdout",
          "text": [
            "\u001b[2K     \u001b[90m━━━━━━━━━━━━━━━━━━━━━━━━━━━━━━━━━━━━━━━━\u001b[0m \u001b[32m6.8/6.8 MB\u001b[0m \u001b[31m21.3 MB/s\u001b[0m eta \u001b[36m0:00:00\u001b[0m\n",
            "\u001b[2K     \u001b[90m━━━━━━━━━━━━━━━━━━━━━━━━━━━━━━━━━━━━━━━━\u001b[0m \u001b[32m7.6/7.6 MB\u001b[0m \u001b[31m67.7 MB/s\u001b[0m eta \u001b[36m0:00:00\u001b[0m\n",
            "\u001b[2K     \u001b[90m━━━━━━━━━━━━━━━━━━━━━━━━━━━━━━━━━━━━━━\u001b[0m \u001b[32m199.8/199.8 KB\u001b[0m \u001b[31m12.5 MB/s\u001b[0m eta \u001b[36m0:00:00\u001b[0m\n",
            "\u001b[?25h"
          ]
        }
      ]
    },
    {
      "cell_type": "markdown",
      "source": [
        "###Step 1: Load the sentiment analysis model"
      ],
      "metadata": {
        "id": "QzTwOJgxx3V8"
      }
    },
    {
      "cell_type": "code",
      "source": [
        "from transformers import pipeline\n",
        "\n",
        "# Load the pre-trained sentiment analysis model\n",
        "classifier = pipeline('sentiment-analysis')"
      ],
      "metadata": {
        "colab": {
          "base_uri": "https://localhost:8080/",
          "height": 200,
          "referenced_widgets": [
            "4806c3b2b2334acdb4b721a2d2914a8c",
            "beed4692b2f548838b90b81c88865fb8",
            "3aa6ecfbac3e477eaa5bcc01c7ceafbe",
            "71e6700b80a94ae6bf2c2b04e0fc5645",
            "27a47535cc8e4175a1b044bbb3466e42",
            "488e1a6a2ecf474aab59f97ca30ae90a",
            "01d4e44acc9a43e8874b806f4010db38",
            "ec6dbde8b57d4250bc580b689b6051ee",
            "bc032a1ca8db4bfe8b117fc0897737f6",
            "7ece62f122e640a48e257f7422ca68e7",
            "cf6c542ffc6d4db9a8fe941b212f2d36",
            "f8b1c3308d5a466c953e856b5c3b2331",
            "87dd0c75b4e04104979a04c853d8d611",
            "096d4c480e1a4b2092fe3beefeb4ca00",
            "31677b19a5224ce38217ba0061f59771",
            "c77e4dbae0b449b9befcb0f97f6d1543",
            "36484539f09e40b58e88e790a803a82a",
            "8eed63d0687e4935a12c01c75ccfca98",
            "2ed5ce434f77459e948babd4d9780e9e",
            "9c53dbee541e44e691fd0d7145275b17",
            "d60a0ba1c10f4807aa10b58722b8292e",
            "d70d623d94d84a919e539e8901208606",
            "7bd6d009108741ecae5ec006c37f3720",
            "868288622c344a8cbc2cabe793308869",
            "7b63a6aa8b2d4bfd9995afe1b322c543",
            "8d231b3d92f24c308c18e80f0e33845b",
            "08fdf413702c4d3cbd82578331dbc338",
            "ae6ee86890154731a15cba854a7b6bfa",
            "8ef7aa82d97e444993b2fbc0693a228d",
            "4e02895421b74a47933abb0442806e24",
            "9434ed72d3b747b793b7d772cbf47fd7",
            "b0365bdbd26d49d7b0e0655c798a504c",
            "58e28d47eb254d5682200fecf42824ae",
            "751f033f27a24d00be974b68a9aa1d76",
            "77b75ade8e1c46a9b819e161f4ce90f9",
            "f10696cb815843308b6ad47370ade35c",
            "0a2c98b98553410cbd4ae42c44635027",
            "0887f7e02475414093873cb21cadd649",
            "e8f955b9d30b4c34b3a93f74b2e813b0",
            "91ab43e4065844daa61b1b2567645531",
            "563c313b9c0f49e0868846695aa5326d",
            "21b7c31e2e564c25b40f7c01291cca05",
            "017e08f1a43545ad9f58f13766c47b49",
            "d9bcba698b4e432fb9787e13ffbaf80d"
          ]
        },
        "id": "x7XjnDCrsuLV",
        "outputId": "7e97ea2c-6e73-4d5e-ac79-1d57563d76ee"
      },
      "execution_count": null,
      "outputs": [
        {
          "output_type": "stream",
          "name": "stderr",
          "text": [
            "No model was supplied, defaulted to distilbert-base-uncased-finetuned-sst-2-english and revision af0f99b (https://huggingface.co/distilbert-base-uncased-finetuned-sst-2-english).\n",
            "Using a pipeline without specifying a model name and revision in production is not recommended.\n"
          ]
        },
        {
          "output_type": "display_data",
          "data": {
            "text/plain": [
              "Downloading (…)lve/main/config.json:   0%|          | 0.00/629 [00:00<?, ?B/s]"
            ],
            "application/vnd.jupyter.widget-view+json": {
              "version_major": 2,
              "version_minor": 0,
              "model_id": "4806c3b2b2334acdb4b721a2d2914a8c"
            }
          },
          "metadata": {}
        },
        {
          "output_type": "display_data",
          "data": {
            "text/plain": [
              "Downloading pytorch_model.bin:   0%|          | 0.00/268M [00:00<?, ?B/s]"
            ],
            "application/vnd.jupyter.widget-view+json": {
              "version_major": 2,
              "version_minor": 0,
              "model_id": "f8b1c3308d5a466c953e856b5c3b2331"
            }
          },
          "metadata": {}
        },
        {
          "output_type": "display_data",
          "data": {
            "text/plain": [
              "Downloading (…)okenizer_config.json:   0%|          | 0.00/48.0 [00:00<?, ?B/s]"
            ],
            "application/vnd.jupyter.widget-view+json": {
              "version_major": 2,
              "version_minor": 0,
              "model_id": "7bd6d009108741ecae5ec006c37f3720"
            }
          },
          "metadata": {}
        },
        {
          "output_type": "display_data",
          "data": {
            "text/plain": [
              "Downloading (…)solve/main/vocab.txt:   0%|          | 0.00/232k [00:00<?, ?B/s]"
            ],
            "application/vnd.jupyter.widget-view+json": {
              "version_major": 2,
              "version_minor": 0,
              "model_id": "751f033f27a24d00be974b68a9aa1d76"
            }
          },
          "metadata": {}
        }
      ]
    },
    {
      "cell_type": "markdown",
      "source": [
        "###Step 2: Extract text for movie reviews\n",
        "Next, we need to extract the movie reviews from our SQLite database and analyze their sentiment using the classifier pipeline."
      ],
      "metadata": {
        "id": "bU_GleUGx7rN"
      }
    },
    {
      "cell_type": "code",
      "source": [
        "# Create a connection to the database\n",
        "conn = sqlite3.connect('movie_reviews.db')\n",
        "\n",
        "# Extract sentiment reviews for the movie reviews\n",
        "reviews = conn.execute('SELECT text FROM reviews limit 10')"
      ],
      "metadata": {
        "id": "4unW87qFx8EV"
      },
      "execution_count": null,
      "outputs": []
    },
    {
      "cell_type": "markdown",
      "source": [
        "Once we have extracted the movie reviews, we can iterate over them using a for loop and use the classifier pipeline to analyze their sentiment. We will also update the reviews table in our database with the sentiment label."
      ],
      "metadata": {
        "id": "2z_Cm2ryypnz"
      }
    },
    {
      "cell_type": "code",
      "source": [
        "# Iterate over the movie reviews and update the sentiment label for each one\n",
        "for i, row in enumerate(reviews):\n",
        "    # Extract the text of the current review\n",
        "    review = row[0]\n",
        "    \n",
        "    # Analyze the sentiment of the review using the pre-trained classifier\n",
        "    sentiment = classifier(review[:512])[0]['label']\n",
        "    \n",
        "    # Map the sentiment label to a binary label (1 for positive, 0 for negative)\n",
        "    if sentiment == 'POSITIVE':\n",
        "      label = 1\n",
        "    else:\n",
        "      label = 0\n",
        "      \n",
        "    # Update the 'sentiment' column in the 'reviews' table with the binary label for the current review\n",
        "    conn.execute('UPDATE reviews SET sentiment = ? WHERE rowid = ?', (label, i+1))\n",
        "    \n",
        "# Commit the changes to the database\n",
        "conn.commit()\n"
      ],
      "metadata": {
        "id": "Fomc32lTs6Wh"
      },
      "execution_count": null,
      "outputs": []
    },
    {
      "cell_type": "code",
      "source": [
        "# Define the SQL query\n",
        "query = 'SELECT * FROM reviews LIMIT 10'\n",
        "\n",
        "# Execute the query and convert the result to a DataFrame\n",
        "df_q = pd.read_sql_query(query, conn)\n",
        "df_q"
      ],
      "metadata": {
        "colab": {
          "base_uri": "https://localhost:8080/",
          "height": 363
        },
        "id": "BRz3jMbYvO_I",
        "outputId": "fd11a2b3-d7db-48f9-e61d-6110cb6a6f90"
      },
      "execution_count": null,
      "outputs": [
        {
          "output_type": "execute_result",
          "data": {
            "text/plain": [
              "   row_number                                               text sentiment\n",
              "0           0  Oh gosh!! I love movie sooooooooooooooooooooo ...         1\n",
              "1           1  I saw Borderline several years ago AMC. I've l...         1\n",
              "2           2  Let say GRANNY extremely well made horror viol...         1\n",
              "3           3  I like Full Moon Pictures I ordered movie USA,...         0\n",
              "4           4  Worst horror film ever funniest film ever roll...         0\n",
              "5           5  I first saw I teen last year Junior High. I ri...         1\n",
              "6           6  Good old Jess Franco! The always-reliable choi...         0\n",
              "7           7  Dogtown Z-BoysSummary: Dogtown Z-boys document...         0\n",
              "8           8  Rigoletto Verdi's masterpiece, full drama, emo...         0\n",
              "9           9  I didn't high expectations Just Before Dawn. I...         1"
            ],
            "text/html": [
              "\n",
              "  <div id=\"df-e16f933e-1189-457c-8282-355a50333b5a\">\n",
              "    <div class=\"colab-df-container\">\n",
              "      <div>\n",
              "<style scoped>\n",
              "    .dataframe tbody tr th:only-of-type {\n",
              "        vertical-align: middle;\n",
              "    }\n",
              "\n",
              "    .dataframe tbody tr th {\n",
              "        vertical-align: top;\n",
              "    }\n",
              "\n",
              "    .dataframe thead th {\n",
              "        text-align: right;\n",
              "    }\n",
              "</style>\n",
              "<table border=\"1\" class=\"dataframe\">\n",
              "  <thead>\n",
              "    <tr style=\"text-align: right;\">\n",
              "      <th></th>\n",
              "      <th>row_number</th>\n",
              "      <th>text</th>\n",
              "      <th>sentiment</th>\n",
              "    </tr>\n",
              "  </thead>\n",
              "  <tbody>\n",
              "    <tr>\n",
              "      <th>0</th>\n",
              "      <td>0</td>\n",
              "      <td>Oh gosh!! I love movie sooooooooooooooooooooo ...</td>\n",
              "      <td>1</td>\n",
              "    </tr>\n",
              "    <tr>\n",
              "      <th>1</th>\n",
              "      <td>1</td>\n",
              "      <td>I saw Borderline several years ago AMC. I've l...</td>\n",
              "      <td>1</td>\n",
              "    </tr>\n",
              "    <tr>\n",
              "      <th>2</th>\n",
              "      <td>2</td>\n",
              "      <td>Let say GRANNY extremely well made horror viol...</td>\n",
              "      <td>1</td>\n",
              "    </tr>\n",
              "    <tr>\n",
              "      <th>3</th>\n",
              "      <td>3</td>\n",
              "      <td>I like Full Moon Pictures I ordered movie USA,...</td>\n",
              "      <td>0</td>\n",
              "    </tr>\n",
              "    <tr>\n",
              "      <th>4</th>\n",
              "      <td>4</td>\n",
              "      <td>Worst horror film ever funniest film ever roll...</td>\n",
              "      <td>0</td>\n",
              "    </tr>\n",
              "    <tr>\n",
              "      <th>5</th>\n",
              "      <td>5</td>\n",
              "      <td>I first saw I teen last year Junior High. I ri...</td>\n",
              "      <td>1</td>\n",
              "    </tr>\n",
              "    <tr>\n",
              "      <th>6</th>\n",
              "      <td>6</td>\n",
              "      <td>Good old Jess Franco! The always-reliable choi...</td>\n",
              "      <td>0</td>\n",
              "    </tr>\n",
              "    <tr>\n",
              "      <th>7</th>\n",
              "      <td>7</td>\n",
              "      <td>Dogtown Z-BoysSummary: Dogtown Z-boys document...</td>\n",
              "      <td>0</td>\n",
              "    </tr>\n",
              "    <tr>\n",
              "      <th>8</th>\n",
              "      <td>8</td>\n",
              "      <td>Rigoletto Verdi's masterpiece, full drama, emo...</td>\n",
              "      <td>0</td>\n",
              "    </tr>\n",
              "    <tr>\n",
              "      <th>9</th>\n",
              "      <td>9</td>\n",
              "      <td>I didn't high expectations Just Before Dawn. I...</td>\n",
              "      <td>1</td>\n",
              "    </tr>\n",
              "  </tbody>\n",
              "</table>\n",
              "</div>\n",
              "      <button class=\"colab-df-convert\" onclick=\"convertToInteractive('df-e16f933e-1189-457c-8282-355a50333b5a')\"\n",
              "              title=\"Convert this dataframe to an interactive table.\"\n",
              "              style=\"display:none;\">\n",
              "        \n",
              "  <svg xmlns=\"http://www.w3.org/2000/svg\" height=\"24px\"viewBox=\"0 0 24 24\"\n",
              "       width=\"24px\">\n",
              "    <path d=\"M0 0h24v24H0V0z\" fill=\"none\"/>\n",
              "    <path d=\"M18.56 5.44l.94 2.06.94-2.06 2.06-.94-2.06-.94-.94-2.06-.94 2.06-2.06.94zm-11 1L8.5 8.5l.94-2.06 2.06-.94-2.06-.94L8.5 2.5l-.94 2.06-2.06.94zm10 10l.94 2.06.94-2.06 2.06-.94-2.06-.94-.94-2.06-.94 2.06-2.06.94z\"/><path d=\"M17.41 7.96l-1.37-1.37c-.4-.4-.92-.59-1.43-.59-.52 0-1.04.2-1.43.59L10.3 9.45l-7.72 7.72c-.78.78-.78 2.05 0 2.83L4 21.41c.39.39.9.59 1.41.59.51 0 1.02-.2 1.41-.59l7.78-7.78 2.81-2.81c.8-.78.8-2.07 0-2.86zM5.41 20L4 18.59l7.72-7.72 1.47 1.35L5.41 20z\"/>\n",
              "  </svg>\n",
              "      </button>\n",
              "      \n",
              "  <style>\n",
              "    .colab-df-container {\n",
              "      display:flex;\n",
              "      flex-wrap:wrap;\n",
              "      gap: 12px;\n",
              "    }\n",
              "\n",
              "    .colab-df-convert {\n",
              "      background-color: #E8F0FE;\n",
              "      border: none;\n",
              "      border-radius: 50%;\n",
              "      cursor: pointer;\n",
              "      display: none;\n",
              "      fill: #1967D2;\n",
              "      height: 32px;\n",
              "      padding: 0 0 0 0;\n",
              "      width: 32px;\n",
              "    }\n",
              "\n",
              "    .colab-df-convert:hover {\n",
              "      background-color: #E2EBFA;\n",
              "      box-shadow: 0px 1px 2px rgba(60, 64, 67, 0.3), 0px 1px 3px 1px rgba(60, 64, 67, 0.15);\n",
              "      fill: #174EA6;\n",
              "    }\n",
              "\n",
              "    [theme=dark] .colab-df-convert {\n",
              "      background-color: #3B4455;\n",
              "      fill: #D2E3FC;\n",
              "    }\n",
              "\n",
              "    [theme=dark] .colab-df-convert:hover {\n",
              "      background-color: #434B5C;\n",
              "      box-shadow: 0px 1px 3px 1px rgba(0, 0, 0, 0.15);\n",
              "      filter: drop-shadow(0px 1px 2px rgba(0, 0, 0, 0.3));\n",
              "      fill: #FFFFFF;\n",
              "    }\n",
              "  </style>\n",
              "\n",
              "      <script>\n",
              "        const buttonEl =\n",
              "          document.querySelector('#df-e16f933e-1189-457c-8282-355a50333b5a button.colab-df-convert');\n",
              "        buttonEl.style.display =\n",
              "          google.colab.kernel.accessAllowed ? 'block' : 'none';\n",
              "\n",
              "        async function convertToInteractive(key) {\n",
              "          const element = document.querySelector('#df-e16f933e-1189-457c-8282-355a50333b5a');\n",
              "          const dataTable =\n",
              "            await google.colab.kernel.invokeFunction('convertToInteractive',\n",
              "                                                     [key], {});\n",
              "          if (!dataTable) return;\n",
              "\n",
              "          const docLinkHtml = 'Like what you see? Visit the ' +\n",
              "            '<a target=\"_blank\" href=https://colab.research.google.com/notebooks/data_table.ipynb>data table notebook</a>'\n",
              "            + ' to learn more about interactive tables.';\n",
              "          element.innerHTML = '';\n",
              "          dataTable['output_type'] = 'display_data';\n",
              "          await google.colab.output.renderOutput(dataTable, element);\n",
              "          const docLink = document.createElement('div');\n",
              "          docLink.innerHTML = docLinkHtml;\n",
              "          element.appendChild(docLink);\n",
              "        }\n",
              "      </script>\n",
              "    </div>\n",
              "  </div>\n",
              "  "
            ]
          },
          "metadata": {},
          "execution_count": 26
        }
      ]
    },
    {
      "cell_type": "markdown",
      "source": [
        "![image.png](data:image/png;base64,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)"
      ],
      "metadata": {
        "id": "5zwx_vXX9swX"
      }
    },
    {
      "cell_type": "markdown",
      "source": [
        "Load the data from the SQLite database and train the model based on it!"
      ],
      "metadata": {
        "id": "VnuKeEmR-otK"
      }
    },
    {
      "cell_type": "code",
      "source": [
        "from transformers import pipeline\n",
        "from sklearn.metrics import accuracy_score\n",
        "\n",
        "# Load the data from the SQLite database\n",
        "X = pd.read_sql_query('SELECT text FROM reviews limit 10', conn)\n",
        "y = pd.read_sql_query('SELECT sentiment FROM reviews limit 10', conn)\n",
        "\n",
        "# Train a logistic regression model on the sentiment labels\n",
        "clf = pipeline('sentiment-analysis')\n",
        "y_pred = [int(result['label'] == 'POSITIVE') for result in clf(X['text'].to_list(), truncation=True)]\n",
        "\n",
        "# Evaluate the model on the testing set\n",
        "accuracy = accuracy_score(y['sentiment'].astype(int).to_list(), y_pred)\n",
        "print(f'Accuracy: {accuracy:.2f}')"
      ],
      "metadata": {
        "colab": {
          "base_uri": "https://localhost:8080/"
        },
        "id": "OIJfnToY3hmR",
        "outputId": "16e9bc32-c319-4d08-b230-d0149e9eee64"
      },
      "execution_count": null,
      "outputs": [
        {
          "output_type": "stream",
          "name": "stderr",
          "text": [
            "No model was supplied, defaulted to distilbert-base-uncased-finetuned-sst-2-english and revision af0f99b (https://huggingface.co/distilbert-base-uncased-finetuned-sst-2-english).\n",
            "Using a pipeline without specifying a model name and revision in production is not recommended.\n"
          ]
        },
        {
          "output_type": "stream",
          "name": "stdout",
          "text": [
            "Accuracy: 0.90\n"
          ]
        }
      ]
    },
    {
      "cell_type": "markdown",
      "source": [
        "# Develop a similar approach based on your previous project, which involves saving a CSV file in SQLite, updating the table (such as with new data), and using the updated table to train a model.\n",
        "\n",
        "*   Step 1: Creating a SQLite database and table\n",
        "*   Step 2: Loading the CSV file into the SQLite table\n",
        "*   Step 3: Updating the table with new data\n",
        "*   Step 4: Loading the updated table into a DataFrame\n",
        "*   Step 5: Preparing the data for model training\n",
        "*   Step 6: Training the model\n",
        "*   Step 7: Evaluating the model"
      ],
      "metadata": {
        "id": "AcADQuljCCht"
      }
    },
    {
      "cell_type": "code",
      "source": [],
      "metadata": {
        "id": "wziYz9SD9i8J"
      },
      "execution_count": null,
      "outputs": []
    }
  ]
}