{
  "cells": [
    {
      "cell_type": "markdown",
      "metadata": {
        "id": "view-in-github",
        "colab_type": "text"
      },
      "source": [
        "<a href=\"https://colab.research.google.com/github/aaubs/ds-master/blob/main/notebooks/M1-stats-intro.ipynb\" target=\"_parent\"><img src=\"https://colab.research.google.com/assets/colab-badge.svg\" alt=\"Open In Colab\"/></a>"
      ]
    },
    {
      "cell_type": "markdown",
      "id": "92530e1d",
      "metadata": {
        "id": "92530e1d"
      },
      "source": [
        "\n",
        "### Introduction to Statistics and Its Importance in Business\n",
        "\n",
        "#### What is Statistics?\n",
        "\n",
        "Statistics is the science of collecting, organizing, analyzing, interpreting, and presenting data. It provides tools for understanding and making decisions in the face of uncertainty.\n",
        "\n",
        "#### Why is Statistics Important in Business and Data-Driven Decision Making?\n",
        "\n",
        "1. **Informed Decision Making**: With uncertainties in business like market demand fluctuations or changing consumer behaviors, statistics aids in making informed decisions.\n",
        "2. **Understanding Customers**: Statistical analysis offers insights into customer preferences, behaviors, and needs, facilitating targeted marketing strategies and product developments.\n",
        "3. **Quality Assurance**: Statistical methods monitor product and service quality, ensuring consistency and customer satisfaction.\n",
        "4. **Risk Management**: In finance and investments, statistics evaluates risks, guiding investment decisions.\n",
        "5. **Optimizing Operations**: Statistical models optimize operations, reducing costs, and enhancing efficiency.\n",
        "6. **Forecasting**: Statistical models predict future values based on historical data, such as sales or stock prices.\n",
        "\n",
        "#### Hands-on: Brief exploration of the Titanic dataset\n"
      ]
    },
    {
      "cell_type": "code",
      "execution_count": null,
      "id": "418ec19f",
      "metadata": {
        "id": "418ec19f"
      },
      "outputs": [],
      "source": [
        "\n",
        "import pandas as pd\n",
        "\n",
        "# Load the dataset\n",
        "data = pd.read_csv(\"/mnt/data/titanic.csv\")\n",
        "\n",
        "# Display the first few rows\n",
        "data.head()\n"
      ]
    },
    {
      "cell_type": "markdown",
      "id": "3a7626eb",
      "metadata": {
        "id": "3a7626eb"
      },
      "source": [
        "\n",
        "### Introduction to Python for Data Science\n",
        "\n",
        "#### Why Python?\n",
        "\n",
        "Python is one of the most popular programming languages for data science, and for good reasons:\n",
        "\n",
        "- **Versatility**: Python is a general-purpose language suitable for various applications, not just data analysis.\n",
        "- **Rich Ecosystem**: Python boasts a vast library ecosystem with tools tailored for data analysis, machine learning, visualization, and more.\n",
        "- **Readability**: Python's clear and concise syntax makes it particularly attractive for beginners.\n",
        "- **Community**: With a large and active community, help is readily available through forums, blogs, and documentation.\n",
        "\n",
        "#### Basic Python Operations\n",
        "\n",
        "At the heart of any programming language are its fundamental operations and data structures. For Python, some basics include:\n",
        "- **Variables**: Storing data for processing\n",
        "- **Data Types**: Numbers (integers, floats), strings, lists, dictionaries, etc.\n",
        "- **Control Structures**: Conditional statements (`if`, `else`) and loops (`for`, `while`)\n",
        "- **Functions**: Reusable blocks of code\n",
        "\n",
        "#### Introduction to Libraries: pandas and seaborn\n",
        "\n",
        "In Python, libraries are collections of functions and methods that allow you to perform actions without writing extensive code.\n",
        "\n",
        "- **pandas**: A powerful library for data manipulation and analysis. It provides data structures like Series and DataFrame that make data manipulation intuitive.\n",
        "- **seaborn**: A statistical data visualization library based on matplotlib. It provides a high-level interface for drawing attractive statistical graphics.\n",
        "\n",
        "#### Hands-on: Setting up the environment and loading the Titanic dataset\n"
      ]
    },
    {
      "cell_type": "code",
      "execution_count": null,
      "id": "45ad64f3",
      "metadata": {
        "id": "45ad64f3"
      },
      "outputs": [],
      "source": [
        "\n",
        "import pandas as pd\n",
        "import seaborn as sns\n",
        "\n",
        "# Configuring Seaborn for better visuals\n",
        "sns.set_style(\"whitegrid\")\n",
        "\n",
        "# Load the dataset\n",
        "data = pd.read_csv(\"/mnt/data/titanic.csv\")\n",
        "\n",
        "# Display the first few rows\n",
        "data.head()\n"
      ]
    },
    {
      "cell_type": "markdown",
      "id": "c1e542b9",
      "metadata": {
        "id": "c1e542b9"
      },
      "source": [
        "\n",
        "### Exploratory Data Analysis (EDA) and Data Visualization\n",
        "\n",
        "#### Understanding the Dataset: Titanic\n",
        "\n",
        "The Titanic dataset captures details about passengers aboard the RMS Titanic, which sank in 1912. This dataset contains various attributes of passengers, including age, gender, class, fare, and survival status. By understanding the structure and nuances of this dataset, we can extract meaningful insights.\n",
        "\n",
        "#### Data Cleaning and Preprocessing\n",
        "\n",
        "Before analysis, it's paramount to ensure data integrity:\n",
        "\n",
        "1. **Handling Missing Data**: Identify and deal with missing values. Depending on the context, we might remove these records, impute them, or use statistical methods.\n",
        "2. **Data Transformation**: This includes converting data types, creating or modifying features, and rescaling variables.\n",
        "3. **Outlier Detection**: Detect and address unusual values that might distort the analysis.\n",
        "\n",
        "#### Hands-on: Data Cleaning and Checking for Missing Values\n"
      ]
    },
    {
      "cell_type": "code",
      "execution_count": null,
      "id": "9345446e",
      "metadata": {
        "id": "9345446e"
      },
      "outputs": [],
      "source": [
        "\n",
        "# Check for missing values in the dataset\n",
        "missing_values = data.isnull().sum()\n",
        "\n",
        "# Visualize the missing values\n",
        "sns.heatmap(data.isnull(), cbar=False, cmap='viridis')\n"
      ]
    },
    {
      "cell_type": "markdown",
      "id": "0e479f43",
      "metadata": {
        "id": "0e479f43"
      },
      "source": [
        "\n",
        "#### Basic Visualizations\n",
        "\n",
        "Visual tools can simplify data interpretation:\n",
        "\n",
        "- **Bar Plots**: Great for comparing different categories.\n",
        "- **Histograms**: Showcase the distribution of a continuous variable.\n",
        "- **Pie Charts**: Display proportions of categories.\n",
        "- **Scatter Plots**: Depict relationships between two continuous variables.\n",
        "\n",
        "#### Hands-on: Dive into Visualizations\n"
      ]
    },
    {
      "cell_type": "code",
      "execution_count": null,
      "id": "aef8b3dc",
      "metadata": {
        "id": "aef8b3dc"
      },
      "outputs": [],
      "source": [
        "\n",
        "# Distribution of passenger ages\n",
        "sns.histplot(data=data, x='Age', kde=True, bins=30).set_title('Distribution of Passenger Ages')\n",
        "\n",
        "# Survival rates among classes\n",
        "sns.countplot(data=data, x='Pclass', hue='Survived').set_title('Survival Rates Among Classes')\n",
        "\n",
        "# Gender distribution of passengers\n",
        "sns.countplot(data=data, x='Sex').set_title('Gender Distribution of Passengers')\n",
        "\n",
        "# Survival based on gender\n",
        "sns.countplot(data=data, x='Sex', hue='Survived').set_title('Survival Based on Gender')\n",
        "\n",
        "# Fare distribution\n",
        "sns.histplot(data=data, x='Fare', kde=True).set_title('Distribution of Fare')\n",
        "\n",
        "# Age vs. Fare with Survival hue\n",
        "sns.scatterplot(data=data, x='Age', y='Fare', hue='Survived').set_title('Age vs. Fare with Survival Hue')\n"
      ]
    },
    {
      "cell_type": "markdown",
      "id": "1a643c5c",
      "metadata": {
        "id": "1a643c5c"
      },
      "source": [
        "\n",
        "#### Insights from Visualizations\n",
        "\n",
        "- The majority of passengers are in the age range of 20-30.\n",
        "- Class 3 has the highest number of passengers but a lower survival rate.\n",
        "- The number of male passengers is higher than female passengers, but females have a higher survival rate.\n",
        "- Most passengers paid a fare of less than $100.\n",
        "- There's no distinct pattern when plotting Age vs. Fare, but it's evident that some high-fare passengers survived.\n",
        "\n",
        "Through extensive EDA and visualization, we unearth underlying patterns in the dataset. These insights pave the way for further statistical analysis and hypothesis testing.\n"
      ]
    },
    {
      "cell_type": "markdown",
      "id": "d3fde3c8",
      "metadata": {
        "id": "d3fde3c8"
      },
      "source": [
        "\n",
        "### Descriptive Statistics\n",
        "\n",
        "Descriptive statistics provide a brief summary of a dataset, allowing us to understand its primary characteristics without making further interpretations.\n",
        "\n",
        "#### Measures of Central Tendency: Mean, Median, Mode\n",
        "\n",
        "These measures offer insights into the \"center\" of the data:\n",
        "\n",
        "- **Mean ($\\bar{X}$)**: The average of all data points.\n",
        "- **Median**: The middle value in a dataset when ordered from smallest to largest.\n",
        "- **Mode**: The value(s) that appear most frequently in a dataset.\n"
      ]
    },
    {
      "cell_type": "code",
      "execution_count": null,
      "id": "56365711",
      "metadata": {
        "id": "56365711"
      },
      "outputs": [],
      "source": [
        "\n",
        "# Calculating measures of central tendency for Age\n",
        "mean_age = data['Age'].mean()\n",
        "median_age = data['Age'].median()\n",
        "mode_age = data['Age'].mode()[0]\n",
        "\n",
        "mean_age, median_age, mode_age\n"
      ]
    },
    {
      "cell_type": "markdown",
      "id": "80a24df0",
      "metadata": {
        "id": "80a24df0"
      },
      "source": [
        "\n",
        "#### Measures of Spread: Range, Variance, Standard Deviation\n",
        "\n",
        "These measures provide an idea of the data's spread:\n",
        "\n",
        "- **Range**: Difference between the highest ($X_{\text{max}}$) and lowest ($X_{\text{min}}$) values.\n",
        "- **Variance ($\\sigma^2$)**: Measures the dispersion of a set of data points around their mean.\n",
        "- **Standard Deviation ($\\sigma$)**: Square root of the variance, representing the average distance between each data point and the mean.\n"
      ]
    },
    {
      "cell_type": "code",
      "execution_count": null,
      "id": "42052e90",
      "metadata": {
        "id": "42052e90"
      },
      "outputs": [],
      "source": [
        "\n",
        "# Calculating measures of spread for Age\n",
        "range_age = data['Age'].max() - data['Age'].min()\n",
        "variance_age = data['Age'].var()\n",
        "std_dev_age = data['Age'].std()\n",
        "\n",
        "range_age, variance_age, std_dev_age\n"
      ]
    },
    {
      "cell_type": "markdown",
      "id": "7a465025",
      "metadata": {
        "id": "7a465025"
      },
      "source": [
        "\n",
        "#### Visualization: Histograms, Box Plots\n",
        "\n",
        "Visual tools help in understanding data distribution:\n"
      ]
    },
    {
      "cell_type": "code",
      "execution_count": null,
      "id": "69737e49",
      "metadata": {
        "id": "69737e49"
      },
      "outputs": [],
      "source": [
        "\n",
        "# Visualizing the distribution of Age\n",
        "sns.histplot(data=data, x='Age', kde=True, bins=30).set_title('Distribution of Passenger Ages')\n",
        "sns.boxplot(data=data, x='Age').set_title('Box Plot of Passenger Ages')\n"
      ]
    },
    {
      "cell_type": "markdown",
      "id": "a0f83c4f",
      "metadata": {
        "id": "a0f83c4f"
      },
      "source": [
        "\n",
        "### Probability and Distributions\n",
        "\n",
        "Probability is a measure that quantifies the likelihood of an event occurring. In the context of statistics and data science, understanding probability is essential for making predictions and informed decisions.\n",
        "\n",
        "#### Basic Concepts of Probability\n",
        "\n",
        "- **Experiment**: A procedure that yields an outcome.\n",
        "- **Sample Space ($ S $)**: The set of all possible outcomes of an experiment.\n",
        "- **Event**: A subset of the sample space.\n",
        "\n",
        "The probability of an event $ E $ is denoted by $ P(E) $ and is always between 0 and 1, inclusive.\n",
        "\n",
        "#### Probability Distributions\n",
        "\n",
        "A probability distribution describes how probabilities are distributed over the values of a random variable.\n",
        "\n",
        "- **Discrete Probability Distribution**: Used when the set of possible outcomes is discrete. E.g., the Binomial and Poisson distributions.\n",
        "- **Continuous Probability Distribution**: Used for continuous random variables. E.g., the Normal distribution.\n",
        "\n",
        "#### Normal Distribution\n",
        "\n",
        "The Normal or Gaussian distribution is one of the most important in statistics due to the Central Limit Theorem. It is defined by two parameters: mean ($ \\mu $) and standard deviation ($ \\sigma $).\n",
        "\n",
        "Properties:\n",
        "\n",
        "- Symmetrical bell shape.\n",
        "- Mean, median, and mode are all equal.\n",
        "- Approximately 68% of data falls within $ \\mu \\pm \\sigma $, 95% within $ \\mu \\pm 2\\sigma $, and 99.7% within $ \\mu \\pm 3\\sigma $.\n"
      ]
    },
    {
      "cell_type": "code",
      "execution_count": null,
      "id": "19dc0fdf",
      "metadata": {
        "id": "19dc0fdf"
      },
      "outputs": [],
      "source": [
        "\n",
        "# Visualizing the distribution of Age and Fare\n",
        "sns.kdeplot(data['Age'], label='Age', shade=True).set_title('Distribution of Age')\n",
        "sns.kdeplot(data['Fare'], label='Fare', shade=True).set_title('Distribution of Fare')\n"
      ]
    },
    {
      "cell_type": "markdown",
      "id": "11dacd8f",
      "metadata": {
        "id": "11dacd8f"
      },
      "source": [
        "\n",
        "### Hypothesis Testing\n",
        "\n",
        "Hypothesis testing is a statistical method used to make decisions about populations based on sample data. It's a fundamental concept in inferential statistics.\n",
        "\n",
        "#### Steps in Hypothesis Testing:\n",
        "\n",
        "1. **Setting Hypotheses**:\n",
        "    - \\( H_0 \\): Null hypothesis (a statement that there is no effect or no difference).\n",
        "    - \\( H_1 \\): Alternative hypothesis (what you want to prove).\n",
        "\n",
        "2. **Choose a Significance Level (\\( \u0007lpha \\))**: Typically set at 0.05. It represents the probability of rejecting the null hypothesis when it is true.\n",
        "\n",
        "3. **Collect and Analyze Data**: Calculate a test statistic based on sample data.\n",
        "\n",
        "4. **Decision Making**: Compare the test statistic to a critical value and decide whether to reject the null hypothesis.\n"
      ]
    },
    {
      "cell_type": "code",
      "execution_count": null,
      "id": "137b4f1f",
      "metadata": {
        "id": "137b4f1f"
      },
      "outputs": [],
      "source": [
        "\n",
        "from scipy.stats import ttest_ind\n",
        "\n",
        "male_ages = data[data['Sex'] == 'male']['Age'].dropna()\n",
        "female_ages = data[data['Sex'] == 'female']['Age'].dropna()\n",
        "\n",
        "t_stat, p_val = ttest_ind(male_ages, female_ages)\n",
        "t_stat, p_val\n"
      ]
    },
    {
      "cell_type": "markdown",
      "id": "c0765ca1",
      "metadata": {
        "id": "c0765ca1"
      },
      "source": [
        "\n",
        "### Regression Analysis\n",
        "\n",
        "Regression analysis is a statistical tool used to understand and quantify the relationship between variables. It's beneficial for forecasting and establishing cause-and-effect relationships.\n",
        "\n",
        "#### Linear Regression\n",
        "\n",
        "Given \\( y \\) as the dependent variable and \\( x \\) as the independent variable, the relationship is:\n",
        "\\[ y = \beta_0 + \beta_1 x + \\epsilon \\]\n",
        "Where:\n",
        "    - \\( \beta_0 \\) is the intercept.\n",
        "    - \\( \beta_1 \\) is the slope.\n",
        "    - \\( \\epsilon \\) is the error term.\n"
      ]
    },
    {
      "cell_type": "code",
      "execution_count": null,
      "id": "1b0bfb94",
      "metadata": {
        "id": "1b0bfb94"
      },
      "outputs": [],
      "source": [
        "\n",
        "import statsmodels.api as sm\n",
        "\n",
        "data_cleaned = data[['Age', 'Fare']].dropna()\n",
        "X = data_cleaned['Age']\n",
        "y = data_cleaned['Fare']\n",
        "X = sm.add_constant(X)\n",
        "\n",
        "model = sm.OLS(y, X)\n",
        "result = model.fit()\n",
        "result.summary()\n"
      ]
    },
    {
      "cell_type": "markdown",
      "id": "8e4ac2a5",
      "metadata": {
        "id": "8e4ac2a5"
      },
      "source": [
        "\n",
        "### Correlation and Association\n",
        "\n",
        "Correlation refers to any statistical relationship, whether causal or not, between two random variables or bivariate data. It's essential for understanding how one variable may predict another.\n",
        "\n",
        "#### Pearson's Correlation Coefficient ($ r $)\n",
        "\n",
        "This coefficient measures the linear relationship between two datasets. The values range between -1 and 1:\n",
        "\n",
        "- $ r = 1 $ implies a perfect positive linear relationship.\n",
        "- $ r = -1 $ implies a perfect negative linear relationship.\n",
        "- $ r = 0 $ implies no linear relationship.\n",
        "\n",
        "#### Spearman's Rank Correlation\n",
        "\n",
        "While Pearson's correlation assesses linear relationships, Spearman's correlation evaluates monotonic relationships (whether linear or not) using ranks.\n"
      ]
    },
    {
      "cell_type": "code",
      "execution_count": null,
      "id": "e98f5336",
      "metadata": {
        "id": "e98f5336"
      },
      "outputs": [],
      "source": [
        "\n",
        "correlation_matrix = data[['Age', 'Fare', 'Pclass', 'SibSp', 'Parch']].corr()\n",
        "\n",
        "# Visualizing the correlation matrix\n",
        "sns.heatmap(correlation_matrix, annot=True, cmap='coolwarm').set_title('Correlation Matrix of Titanic Attributes')\n"
      ]
    },
    {
      "cell_type": "markdown",
      "id": "cefeabe4",
      "metadata": {
        "id": "cefeabe4"
      },
      "source": [
        "\n",
        "### Sampling and Central Limit Theorem\n",
        "\n",
        "#### Sampling\n",
        "\n",
        "Sampling is the process of selecting a subset (a statistical sample) of individuals from a statistical population to estimate characteristics of the whole population. Proper sampling methods ensure that the sample is representative of the entire population.\n",
        "\n",
        "Types of Sampling:\n",
        "- **Random Sampling**: Every individual has an equal chance of being selected.\n",
        "- **Stratified Sampling**: The population is divided into subgroups (strata) and random samples are taken from each stratum.\n",
        "- **Cluster Sampling**: The population is divided into clusters, and a random sample of clusters is selected.\n",
        "\n",
        "#### Central Limit Theorem (CLT)\n",
        "\n",
        "The Central Limit Theorem is a fundamental theorem in probability theory and statistics. It states:\n",
        "\n",
        "For a sufficiently large sample size, the distribution of the sample mean will approximate a normal distribution, regardless of the distribution of the population from which the sample was drawn.\n",
        "\n",
        "Properties:\n",
        "- The mean of the sample mean is equal to the population mean.\n",
        "- The standard deviation of the sample mean is equal to the population standard deviation divided by the square root of the sample size.\n"
      ]
    },
    {
      "cell_type": "code",
      "execution_count": null,
      "id": "e54de756",
      "metadata": {
        "id": "e54de756"
      },
      "outputs": [],
      "source": [
        "\n",
        "sample_means = []\n",
        "\n",
        "# Taking 1000 samples, each of size 50\n",
        "for _ in range(1000):\n",
        "    sample = data['Age'].dropna().sample(50)\n",
        "    sample_means.append(sample.mean())\n",
        "\n",
        "# Plotting the distribution of sample means\n",
        "sns.histplot(sample_means, kde=True).set_title('Distribution of Sample Means (Age)')\n"
      ]
    },
    {
      "cell_type": "markdown",
      "id": "c399326a",
      "metadata": {
        "id": "c399326a"
      },
      "source": [
        "\n",
        "### Confidence Intervals\n",
        "\n",
        "A confidence interval (CI) provides a range within which a population parameter is likely to fall based on a sample from that population. It's a way to quantify the uncertainty around a sample estimate.\n",
        "\n",
        "#### Key Concepts:\n",
        "\n",
        "- **Point Estimate**: A single value (usually a sample mean) used to approximate a population parameter.\n",
        "- **Margin of Error**: The range within which the population parameter is likely to fall.\n",
        "\n",
        "The confidence interval is typically written as:\n",
        "\n",
        "\\[\n",
        "\text{{Point Estimate}} \\pm \text{{Margin of Error}}\n",
        "\\]\n",
        "\n",
        "For instance, a 95% confidence interval suggests that if we were to take many samples and build a CI for each of them, 95% of the intervals would contain the true population parameter.\n"
      ]
    },
    {
      "cell_type": "code",
      "execution_count": null,
      "id": "e7d70f5e",
      "metadata": {
        "id": "e7d70f5e"
      },
      "outputs": [],
      "source": [
        "\n",
        "import scipy.stats as stats\n",
        "\n",
        "# Removing NaN values\n",
        "ages = data['Age'].dropna()\n",
        "\n",
        "# Calculate the mean and standard error\n",
        "mean_age = ages.mean()\n",
        "se_age = stats.sem(ages)\n",
        "\n",
        "# Calculate the 95% CI\n",
        "ci = stats.t.interval(0.95, len(ages)-1, loc=mean_age, scale=se_age)\n",
        "ci\n"
      ]
    },
    {
      "cell_type": "markdown",
      "id": "e954a956",
      "metadata": {
        "id": "e954a956"
      },
      "source": [
        "\n",
        "### Chi-Squared Tests\n",
        "\n",
        "The chi-squared test is a statistical hypothesis test that determines whether there's a significant association between categorical variables. It's a test for independence in a contingency table.\n",
        "\n",
        "#### Key Concepts:\n",
        "\n",
        "- **Observed Frequencies**: The actual counts in the dataset.\n",
        "- **Expected Frequencies**: The counts we'd expect if there was no association between the variables.\n",
        "\n",
        "The chi-squared statistic is calculated as:\n",
        "\n",
        "\\[\n",
        "\\chi^2 = \\sum\n",
        "rac{(O - E)^2}{E}\n",
        "\\]\n",
        "\n",
        "Where \\( O \\) is the observed frequency and \\( E \\) is the expected frequency.\n"
      ]
    },
    {
      "cell_type": "code",
      "execution_count": null,
      "id": "8db50c19",
      "metadata": {
        "id": "8db50c19"
      },
      "outputs": [],
      "source": [
        "\n",
        "from scipy.stats import chi2_contingency\n",
        "\n",
        "# Creating a contingency table\n",
        "contingency_table = pd.crosstab(data['Sex'], data['Survived'])\n",
        "\n",
        "# Performing the chi-squared test\n",
        "chi2_stat, p_val, dof, ex = chi2_contingency(contingency_table)\n",
        "chi2_stat, p_val\n"
      ]
    },
    {
      "cell_type": "markdown",
      "id": "96999bdf",
      "metadata": {
        "id": "96999bdf"
      },
      "source": [
        "\n",
        "### ANOVA (Analysis of Variance)\n",
        "\n",
        "ANOVA is a statistical method used to analyze differences among group means by examining the variances within samples. It's particularly useful when comparing the means of more than two groups.\n",
        "\n",
        "#### Key Concepts:\n",
        "\n",
        "- **Between-group Variability**: Differences between group means.\n",
        "- **Within-group Variability**: Variability within each group.\n",
        "\n",
        "The primary hypothesis in ANOVA is:\n",
        "\n",
        "- \\( H_0 \\): All group means are equal.\n",
        "- \\( H_1 \\): At least one group mean is different from the others.\n"
      ]
    },
    {
      "cell_type": "code",
      "execution_count": null,
      "id": "cf77b59c",
      "metadata": {
        "id": "cf77b59c"
      },
      "outputs": [],
      "source": [
        "\n",
        "import scipy.stats as stats\n",
        "\n",
        "# Extracting data for each class\n",
        "class1 = data[data['Pclass'] == 1]['Age'].dropna()\n",
        "class2 = data[data['Pclass'] == 2]['Age'].dropna()\n",
        "class3 = data[data['Pclass'] == 3]['Age'].dropna()\n",
        "\n",
        "# Performing ANOVA\n",
        "f_stat, p_val = stats.f_oneway(class1, class2, class3)\n",
        "f_stat, p_val\n"
      ]
    },
    {
      "cell_type": "markdown",
      "id": "81d9e543",
      "metadata": {
        "id": "81d9e543"
      },
      "source": [
        "\n",
        "### Regression Analysis\n",
        "\n",
        "Regression analysis is a powerful statistical method that allows you to examine the relationship between two or more variables of interest. While there are many types of regression analysis, at its core, they all examine the influence of one or more independent variables on a dependent variable.\n",
        "\n",
        "#### Linear Regression:\n",
        "\n",
        "Linear regression is the most simple and widely used regression technique. It's used to predict the value of a variable based on the value of another variable. The simplest form is the linear relationship between two variables.\n",
        "\n",
        "Given \\( y \\) as the dependent variable and \\( x \\) as the independent variable, the relationship can be represented as:\n",
        "\n",
        "\\[\n",
        "y = \beta_0 + \beta_1 x + \\epsilon\n",
        "\\]\n",
        "\n",
        "Where:\n",
        "- \\( \beta_0 \\) is the y-intercept.\n",
        "- \\( \beta_1 \\) is the slope of the line.\n",
        "- \\( \\epsilon \\) is the error term.\n"
      ]
    },
    {
      "cell_type": "code",
      "execution_count": null,
      "id": "2ced0a06",
      "metadata": {
        "id": "2ced0a06"
      },
      "outputs": [],
      "source": [
        "\n",
        "import statsmodels.api as sm\n",
        "\n",
        "# Removing NaN values from age and fare columns\n",
        "data_cleaned = data[['Age', 'Fare']].dropna()\n",
        "\n",
        "X = data_cleaned['Age']\n",
        "y = data_cleaned['Fare']\n",
        "\n",
        "# Adding a constant to the model (intercept)\n",
        "X = sm.add_constant(X)\n",
        "\n",
        "# Performing linear regression\n",
        "model = sm.OLS(y, X).fit()\n",
        "model.summary()\n"
      ]
    },
    {
      "cell_type": "markdown",
      "id": "4aa81d0b",
      "metadata": {
        "id": "4aa81d0b"
      },
      "source": [
        "\n",
        "### Conclusion and Importance of Statistics in Data Science\n",
        "\n",
        "Data science is an interdisciplinary field that uses various techniques, algorithms, processes, and systems to extract knowledge and insights from structured and unstructured data. At its core, statistics provides the foundational tools and techniques to make sense of data.\n",
        "\n",
        "#### Key Takeaways:\n",
        "\n",
        "1. **Informed Decision Making**: With the tools and techniques of statistics, businesses can make data-driven decisions, ensuring better outcomes and more efficient processes.\n",
        "  \n",
        "2. **Understanding Trends**: Statistical analysis allows us to identify patterns and trends in data, which can lead to more effective strategies and business models.\n",
        "  \n",
        "3. **Risk Management**: By understanding the underlying distributions and variances in data, businesses can better assess risks and uncertainties.\n",
        "  \n",
        "4. **Model Building**: The core of many machine learning algorithms rests on statistical principles. Understanding these can lead to better model selection and evaluation.\n",
        "  \n",
        "5. **Validation of Findings**: Statistical tests allow data scientists to validate their findings, ensuring that the results are not just by random chance but have statistical significance.\n",
        "\n",
        "In essence, while data science is vast, encompassing various domains like machine learning, artificial intelligence, and deep learning, statistics remains its backbone. Having a strong grasp of statistical concepts is crucial for anyone venturing into the data science field.\n"
      ]
    }
  ],
  "metadata": {
    "colab": {
      "provenance": [],
      "include_colab_link": true
    }
  },
  "nbformat": 4,
  "nbformat_minor": 5
}