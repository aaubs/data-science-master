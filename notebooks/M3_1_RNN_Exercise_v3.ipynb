{
  "nbformat": 4,
  "nbformat_minor": 0,
  "metadata": {
    "colab": {
      "provenance": [],
      "toc_visible": true,
      "authorship_tag": "ABX9TyNw5fjLeS+37GWjhns6CCNS",
      "include_colab_link": true
    },
    "kernelspec": {
      "name": "python3",
      "display_name": "Python 3"
    },
    "language_info": {
      "name": "python"
    }
  },
  "cells": [
    {
      "cell_type": "markdown",
      "metadata": {
        "id": "view-in-github",
        "colab_type": "text"
      },
      "source": [
        "<a href=\"https://colab.research.google.com/github/aaubs/ds-master/blob/main/notebooks/M3_1_RNN_Exercise_v3.ipynb\" target=\"_parent\"><img src=\"https://colab.research.google.com/assets/colab-badge.svg\" alt=\"Open In Colab\"/></a>"
      ]
    },
    {
      "cell_type": "markdown",
      "source": [
        "# How does PyTorch help to implement an RNN?\n",
        "\n",
        "Let's implement an RNN using PyTorch!"
      ],
      "metadata": {
        "id": "Ym_lp6rZyMvX"
      }
    },
    {
      "cell_type": "markdown",
      "source": [
        "### RNN with one layer configured as One-to-one"
      ],
      "metadata": {
        "id": "sA0Jw6jw1GGE"
      }
    },
    {
      "cell_type": "code",
      "execution_count": null,
      "metadata": {
        "id": "FHf9wC3T0R7Z"
      },
      "outputs": [],
      "source": [
        "import torch\n",
        "from torch.autograd import Variable\n",
        "import numpy as np\n",
        "import pylab as pl\n",
        "import torch.nn.init as init\n",
        "import numpy as np"
      ]
    },
    {
      "cell_type": "markdown",
      "source": [
        "In this example, we have sequential data and we are going to implement an RNN with a one-to-one configuration!\n",
        "\n",
        "<img src=\"https://raw.githubusercontent.com/aaubs/ds-master/main/data/Images/SeqData_RNN.png\" width=\"400\">\n"
      ],
      "metadata": {
        "id": "uUI9NVqMygdG"
      }
    },
    {
      "cell_type": "code",
      "source": [
        "# Synthetic Data\n",
        "sequence_length = 20\n",
        "\n",
        "data_time_steps = np.linspace(2, 10, sequence_length + 1)\n",
        "data = np.sin(data_time_steps)\n",
        "data.resize((sequence_length + 1, 1))\n",
        "\n",
        "x = Variable(torch.Tensor(data[:-1]).type(torch.FloatTensor), requires_grad=False)\n",
        "y = Variable(torch.Tensor(data[1:]).type(torch.FloatTensor), requires_grad=False)"
      ],
      "metadata": {
        "id": "d_3Uyse-0R7Z"
      },
      "execution_count": null,
      "outputs": []
    },
    {
      "cell_type": "markdown",
      "source": [
        "Implementing code for LSTM and RNN requires sequential data preparation. The data preparation process for these models is visualized here!\n",
        "\n",
        "\n",
        "<img src=\"https://raw.githubusercontent.com/aaubs/ds-master/main/data/Images/sequence.gif\" width=\"600\">"
      ],
      "metadata": {
        "id": "FKGOvqB7twK-"
      }
    },
    {
      "cell_type": "markdown",
      "source": [
        "In order to create an RNN, we follow the same steps as for implementing an ANN!\n",
        "\n",
        "1. Creating a FeedForwardNetwork\n",
        "\n",
        "```\n",
        "- 1.1. Structure (Architecture) of NN\n",
        "- 1.2. Loss Function\n",
        "- 1.3. Optmization Approch\n",
        "```\n",
        "\n",
        "2. Forward Pass\n",
        "3. FeedForward Evaluation\n",
        "4. Backward Pass / Gradient Calculation\n",
        "5. Back Propagation / Update Weights\n",
        "6. Training Loop\n"
      ],
      "metadata": {
        "id": "gerYVJoCzqAV"
      }
    },
    {
      "cell_type": "markdown",
      "source": [
        "<img src=\"https://raw.githubusercontent.com/aaubs/ds-master/main/data/Images/rnn_vis.gif\" width=\"400\">\n",
        "\n"
      ],
      "metadata": {
        "id": "_ESkv2lszgmZ"
      }
    },
    {
      "cell_type": "markdown",
      "source": [
        "## 1. Implement an RNN with one layer configured as One-to-one?"
      ],
      "metadata": {
        "id": "qJXUdI1n9dOF"
      }
    },
    {
      "cell_type": "code",
      "source": [],
      "metadata": {
        "id": "yj67aaGh9Xu-"
      },
      "execution_count": null,
      "outputs": []
    },
    {
      "cell_type": "code",
      "source": [
        "data_time_steps = np.linspace(2, 10, x.shape[0])\n",
        "\n",
        "pl.scatter(data_time_steps[:], y.data.numpy(), s = 90, label = \"Actual\")\n",
        "pl.scatter(data_time_steps[:], predictions, label = \"Predicted\")\n",
        "pl.legend()\n",
        "pl.show()"
      ],
      "metadata": {
        "colab": {
          "base_uri": "https://localhost:8080/",
          "height": 430
        },
        "outputId": "f44c8381-5907-4c84-a961-ce744f21dc11",
        "id": "Lt0EG_uf0R7a"
      },
      "execution_count": null,
      "outputs": [
        {
          "output_type": "display_data",
          "data": {
            "text/plain": [
              "<Figure size 640x480 with 1 Axes>"
            ],
            "image/png": "[encoded data removed]"
          },
          "metadata": {}
        }
      ]
    },
    {
      "cell_type": "code",
      "source": [
        "# Combine the parameters of the LSTM layer and linear layer\n",
        "params = list(rnn.parameters()) + list(fc.parameters())\n",
        "\n",
        "# Print the number of parameters\n",
        "print(\"Number of parameters:\", sum(p.numel() for p in params))\n",
        "\n",
        "for name, param in rnn.named_parameters():\n",
        "    print(\"Name: \", name)\n",
        "    print(\"shape: \", param.shape)\n",
        "    print(param)\n",
        "# Print the shapes of the parameters\n",
        "for name, param in fc.named_parameters():\n",
        "    print(\"Name: \", name)\n",
        "    print(\"shape: \", param.shape)\n",
        "    print(param)"
      ],
      "metadata": {
        "colab": {
          "base_uri": "https://localhost:8080/"
        },
        "id": "ZWM1b9iKMkKe",
        "outputId": "1ea69c05-2b8f-48af-9b3f-b8506589ff4b"
      },
      "execution_count": null,
      "outputs": [
        {
          "output_type": "stream",
          "name": "stdout",
          "text": [
            "Number of parameters: 61\n",
            "Name:  weight_ih_l0\n",
            "shape:  torch.Size([6, 1])\n",
            "Parameter containing:\n",
            "tensor([[-2.2494],\n",
            "        [ 0.9964],\n",
            "        [-2.0689],\n",
            "        [ 2.5023],\n",
            "        [-0.6710],\n",
            "        [ 0.4875]], requires_grad=True)\n",
            "Name:  weight_hh_l0\n",
            "shape:  torch.Size([6, 6])\n",
            "Parameter containing:\n",
            "tensor([[ 0.2572, -0.2155, -0.0029, -0.1736, -0.3744,  0.0609],\n",
            "        [-0.0138,  0.3562, -0.1175, -0.2122, -0.0029,  0.0421],\n",
            "        [ 0.2230, -0.2185,  0.0758, -0.2856, -0.1549,  0.3070],\n",
            "        [ 0.3725,  0.3016, -0.2787,  0.1092,  0.2391,  0.0725],\n",
            "        [ 0.3956, -0.1105, -0.2689,  0.2207, -0.0019, -0.1837],\n",
            "        [ 0.2192,  0.0115, -0.0464, -0.1264,  0.1773, -0.3554]],\n",
            "       requires_grad=True)\n",
            "Name:  bias_ih_l0\n",
            "shape:  torch.Size([6])\n",
            "Parameter containing:\n",
            "tensor([-0.3229,  1.1359, -1.1036, -0.6849,  1.1280,  0.0429],\n",
            "       requires_grad=True)\n",
            "Name:  bias_hh_l0\n",
            "shape:  torch.Size([6])\n",
            "Parameter containing:\n",
            "tensor([ 0.2703,  0.5639, -1.3520, -1.3083,  0.7344,  0.5194],\n",
            "       requires_grad=True)\n",
            "Name:  weight\n",
            "shape:  torch.Size([1, 6])\n",
            "Parameter containing:\n",
            "tensor([[-0.3626,  0.1395, -0.4036,  0.3803, -0.3916,  0.0133]],\n",
            "       requires_grad=True)\n",
            "Name:  bias\n",
            "shape:  torch.Size([1])\n",
            "Parameter containing:\n",
            "tensor([0.0609], requires_grad=True)\n"
          ]
        }
      ]
    },
    {
      "cell_type": "markdown",
      "source": [
        "### RNN with one layer configured as Many-to-one"
      ],
      "metadata": {
        "id": "nSM0mLVo1CKt"
      }
    },
    {
      "cell_type": "code",
      "execution_count": null,
      "metadata": {
        "id": "LoLoL_Ch4lGy"
      },
      "outputs": [],
      "source": [
        "import torch\n",
        "from torch.autograd import Variable\n",
        "import numpy as np\n",
        "import pylab as pl\n",
        "import torch.nn.init as init"
      ]
    },
    {
      "cell_type": "markdown",
      "source": [
        "In this example, we have sequential data and we are going to implement an RNN with a Many-to-one configuration!\n",
        "\n",
        "<img src=\"https://raw.githubusercontent.com/aaubs/ds-master/main/data/Images/SeqData_RNN.png\" width=\"400\">\n"
      ],
      "metadata": {
        "id": "I6nhIROx4lG0"
      }
    },
    {
      "cell_type": "markdown",
      "source": [
        "## 2. Implement an RNN with one layer configured as Many-to-one?"
      ],
      "metadata": {
        "id": "ZCY5ufVG9sPF"
      }
    },
    {
      "cell_type": "code",
      "source": [],
      "metadata": {
        "id": "OTAho-tS9eWa"
      },
      "execution_count": null,
      "outputs": []
    },
    {
      "cell_type": "code",
      "source": [
        "data_time_steps = np.linspace(2, 10, x.shape[0])\n",
        "\n",
        "pl.scatter(data_time_steps[:], y.data.numpy(), s = 90, label = \"Actual\")\n",
        "pl.scatter(data_time_steps[:-1], predictions, label = \"Predicted\")\n",
        "pl.legend()\n",
        "pl.show()"
      ],
      "metadata": {
        "id": "_Rh9nzSx2qQp",
        "outputId": "f68cc4c3-9128-4758-d2d0-574e9314ef8a",
        "colab": {
          "base_uri": "https://localhost:8080/",
          "height": 430
        }
      },
      "execution_count": null,
      "outputs": [
        {
          "output_type": "display_data",
          "data": {
            "text/plain": [
              "<Figure size 640x480 with 1 Axes>"
            ],
            "image/png": "[encoded data removed]"
          },
          "metadata": {}
        }
      ]
    },
    {
      "cell_type": "markdown",
      "source": [
        "### RNN with one layer configured as Many-to-Many"
      ],
      "metadata": {
        "id": "9aLW4Feb30Kh"
      }
    },
    {
      "cell_type": "markdown",
      "source": [
        "In order to create an RNN, we follow the same steps as for implementing an ANN!\n",
        "\n",
        "1. Creating a FeedForwardNetwork\n",
        "\n",
        "```\n",
        "- 1.1. Structure (Architecture) of NN\n",
        "- 1.2. Loss Function\n",
        "- 1.3. Optmization Approch\n",
        "```\n",
        "\n",
        "2. Forward Pass\n",
        "3. FeedForward Evaluation\n",
        "4. Backward Pass / Gradient Calculation\n",
        "5. Back Propagation / Update Weights\n",
        "6. Training Loop\n"
      ],
      "metadata": {
        "id": "sEh2BwiU4lG0"
      }
    },
    {
      "cell_type": "markdown",
      "source": [
        "<img src=\"https://raw.githubusercontent.com/aaubs/ds-master/main/data/Images/rnn_vis.gif\" width=\"400\">\n",
        "\n"
      ],
      "metadata": {
        "id": "seVVpB6V4lG1"
      }
    },
    {
      "cell_type": "markdown",
      "source": [
        "## 3. Implement an RNN with one layer configured as Many-to-Many?"
      ],
      "metadata": {
        "id": "TsrHcmRM91te"
      }
    },
    {
      "cell_type": "code",
      "source": [],
      "metadata": {
        "id": "6qVwsRPq9ofv"
      },
      "execution_count": null,
      "outputs": []
    },
    {
      "cell_type": "code",
      "source": [
        "data_time_steps = np.linspace(2, 10, x.shape[0])\n",
        "\n",
        "pl.scatter(data_time_steps[:], y.data.numpy(), s = 90, label = \"Actual\")\n",
        "pl.scatter(data_time_steps[:-1], predictions, label = \"Predicted\")\n",
        "pl.legend()\n",
        "pl.show()"
      ],
      "metadata": {
        "id": "ghP9PSyx3s7y",
        "outputId": "1c6fff57-a4be-4d56-a550-a1e16c19ef75",
        "colab": {
          "base_uri": "https://localhost:8080/",
          "height": 430
        }
      },
      "execution_count": null,
      "outputs": [
        {
          "output_type": "display_data",
          "data": {
            "text/plain": [
              "<Figure size 640x480 with 1 Axes>"
            ],
            "image/png": "[encoded data removed]"
          },
          "metadata": {}
        }
      ]
    },
    {
      "cell_type": "code",
      "source": [
        "# Combine the parameters of the LSTM layer and linear layer\n",
        "params = list(rnn.parameters()) + list(fc.parameters())\n",
        "\n",
        "# Print the number of parameters\n",
        "print(\"Number of parameters:\", sum(p.numel() for p in params))\n",
        "\n",
        "for name, param in rnn.named_parameters():\n",
        "    print(\"Name: \", name)\n",
        "    print(\"shape: \", param.shape)\n",
        "    print(param)\n",
        "# Print the shapes of the parameters\n",
        "for name, param in fc.named_parameters():\n",
        "    print(\"Name: \", name)\n",
        "    print(\"shape: \", param.shape)\n",
        "    print(param)"
      ],
      "metadata": {
        "colab": {
          "base_uri": "https://localhost:8080/"
        },
        "outputId": "d4f4beff-6f9c-4d66-be75-3b768aa408c2",
        "id": "2XV0zGJl4lG2"
      },
      "execution_count": null,
      "outputs": [
        {
          "output_type": "stream",
          "name": "stdout",
          "text": [
            "Number of parameters: 74\n",
            "Name:  weight_ih_l0\n",
            "shape:  torch.Size([6, 2])\n",
            "Parameter containing:\n",
            "tensor([[-0.9198,  2.1627],\n",
            "        [ 0.4340,  1.2444],\n",
            "        [ 0.7467, -2.0750],\n",
            "        [ 0.8950, -1.5326],\n",
            "        [ 0.7945,  0.2048],\n",
            "        [-0.9190,  1.9622]], requires_grad=True)\n",
            "Name:  weight_hh_l0\n",
            "shape:  torch.Size([6, 6])\n",
            "Parameter containing:\n",
            "tensor([[-0.2960,  0.2635, -0.2855,  0.0094, -0.0342, -0.2150],\n",
            "        [-0.3803, -0.1256,  0.2709,  0.1244,  0.1795,  0.3567],\n",
            "        [ 0.3424, -0.2973,  0.2173, -0.0469, -0.0545, -0.1802],\n",
            "        [ 0.3625,  0.2792,  0.1991,  0.2928,  0.2416, -0.2561],\n",
            "        [ 0.4073,  0.3946, -0.1281, -0.2700,  0.3945, -0.2125],\n",
            "        [ 0.0727,  0.0409, -0.1203,  0.1792, -0.2279, -0.1937]],\n",
            "       requires_grad=True)\n",
            "Name:  bias_ih_l0\n",
            "shape:  torch.Size([6])\n",
            "Parameter containing:\n",
            "tensor([ 0.3683,  0.0301,  0.0809, -0.5132, -0.2691, -0.1906],\n",
            "       requires_grad=True)\n",
            "Name:  bias_hh_l0\n",
            "shape:  torch.Size([6])\n",
            "Parameter containing:\n",
            "tensor([ 0.2554,  0.5259,  0.6606, -0.0148, -0.0170, -0.1933],\n",
            "       requires_grad=True)\n",
            "Name:  weight\n",
            "shape:  torch.Size([2, 6])\n",
            "Parameter containing:\n",
            "tensor([[ 0.3959,  0.1791, -0.1446,  0.2874,  0.3919,  0.2891],\n",
            "        [ 0.3115,  0.0701, -0.3650, -0.4040, -0.2698,  0.3435]],\n",
            "       requires_grad=True)\n",
            "Name:  bias\n",
            "shape:  torch.Size([2])\n",
            "Parameter containing:\n",
            "tensor([ 0.1318, -0.1034], requires_grad=True)\n"
          ]
        }
      ]
    },
    {
      "cell_type": "markdown",
      "source": [
        "## RNN with two layers configured as One-to-one"
      ],
      "metadata": {
        "id": "C76RCcIt7is9"
      }
    },
    {
      "cell_type": "markdown",
      "source": [
        "In this example, we have sequential data and we are going to implement an RNN with 2 layers and a One-to-one configuration!\n",
        "\n",
        "<img src=\"https://raw.githubusercontent.com/aaubs/ds-master/main/data/Images/SeqData_RNN.png\" width=\"400\">\n"
      ],
      "metadata": {
        "id": "F8UiN-s074BJ"
      }
    },
    {
      "cell_type": "markdown",
      "source": [
        "Let's use non-linear data with more complexity in this step!"
      ],
      "metadata": {
        "id": "PVCL5Ex99IBZ"
      }
    },
    {
      "cell_type": "code",
      "source": [
        "seq_length = 20\n",
        "\n",
        "data_time_steps = np.linspace(2, 10, seq_length + 1)\n",
        "data = np.sin(data_time_steps)\n",
        "data.resize((seq_length + 1, 1))\n",
        "\n",
        "x = Variable(torch.Tensor(data[:-1]).type(torch.FloatTensor), requires_grad=False)\n",
        "y = Variable(torch.Tensor(data[1:]).type(torch.FloatTensor), requires_grad=False)"
      ],
      "metadata": {
        "id": "HmEvnoDX74BJ"
      },
      "execution_count": null,
      "outputs": []
    },
    {
      "cell_type": "markdown",
      "source": [
        "In order to create an RNN, we follow the same steps as for implementing an ANN!\n",
        "\n",
        "1. Creating a FeedForwardNetwork\n",
        "\n",
        "```\n",
        "- 1.1. Structure (Architecture) of NN\n",
        "- 1.2. Loss Function\n",
        "- 1.3. Optmization Approch\n",
        "```\n",
        "\n",
        "2. Forward Pass\n",
        "3. FeedForward Evaluation\n",
        "4. Backward Pass / Gradient Calculation\n",
        "5. Back Propagation / Update Weights\n",
        "6. Training Loop"
      ],
      "metadata": {
        "id": "3HWQFctV74BJ"
      }
    },
    {
      "cell_type": "markdown",
      "source": [
        "<img src=\"https://raw.githubusercontent.com/aaubs/ds-master/main/data/Images/rnn_vis.gif\" width=\"400\">\n",
        "\n"
      ],
      "metadata": {
        "id": "oMPNEvsa74BK"
      }
    },
    {
      "cell_type": "markdown",
      "source": [
        "## 4. Implement an RNN with two layers configured as One-to-one?"
      ],
      "metadata": {
        "id": "4NN2Bjm598i6"
      }
    },
    {
      "cell_type": "code",
      "source": [],
      "metadata": {
        "id": "kN1mdkFT93ks"
      },
      "execution_count": null,
      "outputs": []
    },
    {
      "cell_type": "code",
      "source": [
        "# Combine the parameters of the LSTM layer and linear layer\n",
        "params = list(rnn.parameters()) + list(fc.parameters())\n",
        "\n",
        "# Print the number of parameters\n",
        "print(\"Number of parameters:\", sum(p.numel() for p in params))\n",
        "\n",
        "# Print the shapes of the parameters\n",
        "for name, param in rnn.named_parameters():\n",
        "    print(\"Name: \", name)\n",
        "    print(\"shape: \", param.shape)\n",
        "    print(param)\n",
        "# Print the shapes of the parameters\n",
        "for name, param in fc.named_parameters():\n",
        "    print(\"Name: \", name)\n",
        "    print(\"shape: \", param.shape)\n",
        "    print(param)"
      ],
      "metadata": {
        "colab": {
          "base_uri": "https://localhost:8080/"
        },
        "outputId": "4576be5c-6171-4b83-dd21-5a5432977bbf",
        "id": "nM7eanghobEv"
      },
      "execution_count": null,
      "outputs": [
        {
          "output_type": "stream",
          "name": "stdout",
          "text": [
            "Number of parameters: 120\n",
            "Name:  weight_ih_l0\n",
            "shape:  torch.Size([6, 1])\n",
            "Parameter containing:\n",
            "tensor([[-0.5300],\n",
            "        [-0.3925],\n",
            "        [-0.5166],\n",
            "        [-0.3816],\n",
            "        [ 0.1039],\n",
            "        [ 0.1395]], requires_grad=True)\n",
            "Name:  weight_hh_l0\n",
            "shape:  torch.Size([6, 6])\n",
            "Parameter containing:\n",
            "tensor([[-0.0244, -0.2154, -0.3618, -0.2719, -0.2610,  0.3067],\n",
            "        [ 0.3175, -0.3230,  0.3601,  0.2686,  0.3532, -0.0332],\n",
            "        [-0.0026,  0.2102, -0.3446, -0.1035,  0.1070, -0.2884],\n",
            "        [-0.2564,  0.2268,  0.0341, -0.0009,  0.1549,  0.3796],\n",
            "        [ 0.2626,  0.0088,  0.1410,  0.3296,  0.2892,  0.4067],\n",
            "        [-0.1555,  0.0853,  0.3885, -0.1992,  0.0054,  0.0298]],\n",
            "       requires_grad=True)\n",
            "Name:  weight_ih_l1\n",
            "shape:  torch.Size([6, 6])\n",
            "Parameter containing:\n",
            "tensor([[-0.2562,  0.0953,  0.1335,  0.4194,  0.0312,  0.3684],\n",
            "        [ 0.2877,  0.2717, -0.1724, -0.0296, -0.2246,  0.3814],\n",
            "        [ 0.0737,  0.1930,  0.3800,  0.0597,  0.1549, -0.3649],\n",
            "        [ 0.3885, -0.0541,  0.4123,  0.1775,  0.3074,  0.3695],\n",
            "        [ 0.3912, -0.0467,  0.1985,  0.2803, -0.2466, -0.3148],\n",
            "        [ 0.2217,  0.1328, -0.0512, -0.3011, -0.1345, -0.2222]],\n",
            "       requires_grad=True)\n",
            "Name:  weight_hh_l1\n",
            "shape:  torch.Size([6, 6])\n",
            "Parameter containing:\n",
            "tensor([[ 3.6588e-01, -4.0768e-01, -3.4629e-01,  4.0641e-01,  3.3423e-01,\n",
            "         -3.5105e-01],\n",
            "        [ 3.1968e-01,  1.8924e-01,  2.4792e-01, -1.5119e-01,  2.6184e-01,\n",
            "         -1.3925e-01],\n",
            "        [-3.0725e-01, -2.5006e-01, -5.6533e-02,  6.8646e-02, -3.5925e-01,\n",
            "          1.7295e-01],\n",
            "        [-1.8759e-01, -2.8475e-01, -2.0280e-04, -8.4415e-02, -3.3105e-01,\n",
            "          3.9995e-03],\n",
            "        [ 1.1793e-01, -3.0418e-01, -2.0141e-01,  1.1218e-01,  3.3672e-01,\n",
            "          2.8068e-01],\n",
            "        [ 1.3758e-01,  2.8574e-01,  3.8193e-01, -1.6256e-01, -4.5922e-02,\n",
            "         -9.5693e-02]], requires_grad=True)\n",
            "Name:  weight\n",
            "shape:  torch.Size([1, 6])\n",
            "Parameter containing:\n",
            "tensor([[-0.1191, -0.2135, -0.3745, -0.2889, -0.4880, -0.0715]],\n",
            "       requires_grad=True)\n"
          ]
        }
      ]
    },
    {
      "cell_type": "code",
      "source": [
        "predictions = []\n",
        "\n",
        "for i in range(x.size(0)):\n",
        "   input = x[i:(i+1)].view(1, 1, -1)\n",
        "\n",
        "   # 2. Forward Pass\n",
        "   output, hn = rnn(input, h0)\n",
        "\n",
        "   # 3. FeedForward Evaluation\n",
        "   y_pred = fc(output[-1])\n",
        "   predictions.append(y_pred.data.numpy().ravel()[0])"
      ],
      "metadata": {
        "id": "YBtvHBlXobEw"
      },
      "execution_count": null,
      "outputs": []
    },
    {
      "cell_type": "code",
      "source": [
        "pl.scatter(data_time_steps[:-1], y.data[:].numpy().tolist(), s = 90, label = \"Actual\")\n",
        "pl.scatter(data_time_steps[1:], predictions, label = \"Predicted\")\n",
        "pl.legend()\n",
        "pl.show()"
      ],
      "metadata": {
        "colab": {
          "base_uri": "https://localhost:8080/",
          "height": 430
        },
        "outputId": "a27b208a-3936-4510-e2dd-6244d3c0aaef",
        "id": "-2BEAEhlobEx"
      },
      "execution_count": null,
      "outputs": [
        {
          "output_type": "display_data",
          "data": {
            "text/plain": [
              "<Figure size 640x480 with 1 Axes>"
            ],
            "image/png": "[encoded data removed]"
          },
          "metadata": {}
        }
      ]
    },
    {
      "cell_type": "code",
      "source": [
        "# Combine the parameters of the LSTM layer and linear layer\n",
        "params = list(rnn.parameters()) + list(fc.parameters())\n",
        "\n",
        "# Print the number of parameters\n",
        "print(\"Number of parameters:\", sum(p.numel() for p in params))\n",
        "\n",
        "for name, param in rnn.named_parameters():\n",
        "    print(\"Name: \", name)\n",
        "    print(\"shape: \", param.shape)\n",
        "    print(param)\n",
        "# Print the shapes of the parameters\n",
        "for name, param in fc.named_parameters():\n",
        "    print(\"Name: \", name)\n",
        "    print(\"shape: \", param.shape)\n",
        "    print(param)"
      ],
      "metadata": {
        "colab": {
          "base_uri": "https://localhost:8080/"
        },
        "outputId": "c7fe8885-5e2b-418f-f95f-66cfec2bf580",
        "id": "ihzVc7T2obEx"
      },
      "execution_count": null,
      "outputs": [
        {
          "output_type": "stream",
          "name": "stdout",
          "text": [
            "Number of parameters: 120\n",
            "Name:  weight_ih_l0\n",
            "shape:  torch.Size([6, 1])\n",
            "Parameter containing:\n",
            "tensor([[-0.5300],\n",
            "        [-0.3925],\n",
            "        [-0.5166],\n",
            "        [-0.3816],\n",
            "        [ 0.1039],\n",
            "        [ 0.1395]], requires_grad=True)\n",
            "Name:  weight_hh_l0\n",
            "shape:  torch.Size([6, 6])\n",
            "Parameter containing:\n",
            "tensor([[-0.0244, -0.2154, -0.3618, -0.2719, -0.2610,  0.3067],\n",
            "        [ 0.3175, -0.3230,  0.3601,  0.2686,  0.3532, -0.0332],\n",
            "        [-0.0026,  0.2102, -0.3446, -0.1035,  0.1070, -0.2884],\n",
            "        [-0.2564,  0.2268,  0.0341, -0.0009,  0.1549,  0.3796],\n",
            "        [ 0.2626,  0.0088,  0.1410,  0.3296,  0.2892,  0.4067],\n",
            "        [-0.1555,  0.0853,  0.3885, -0.1992,  0.0054,  0.0298]],\n",
            "       requires_grad=True)\n",
            "Name:  weight_ih_l1\n",
            "shape:  torch.Size([6, 6])\n",
            "Parameter containing:\n",
            "tensor([[-0.2562,  0.0953,  0.1335,  0.4194,  0.0312,  0.3684],\n",
            "        [ 0.2877,  0.2717, -0.1724, -0.0296, -0.2246,  0.3814],\n",
            "        [ 0.0737,  0.1930,  0.3800,  0.0597,  0.1549, -0.3649],\n",
            "        [ 0.3885, -0.0541,  0.4123,  0.1775,  0.3074,  0.3695],\n",
            "        [ 0.3912, -0.0467,  0.1985,  0.2803, -0.2466, -0.3148],\n",
            "        [ 0.2217,  0.1328, -0.0512, -0.3011, -0.1345, -0.2222]],\n",
            "       requires_grad=True)\n",
            "Name:  weight_hh_l1\n",
            "shape:  torch.Size([6, 6])\n",
            "Parameter containing:\n",
            "tensor([[ 3.6588e-01, -4.0768e-01, -3.4629e-01,  4.0641e-01,  3.3423e-01,\n",
            "         -3.5105e-01],\n",
            "        [ 3.1968e-01,  1.8924e-01,  2.4792e-01, -1.5119e-01,  2.6184e-01,\n",
            "         -1.3925e-01],\n",
            "        [-3.0725e-01, -2.5006e-01, -5.6533e-02,  6.8646e-02, -3.5925e-01,\n",
            "          1.7295e-01],\n",
            "        [-1.8759e-01, -2.8475e-01, -2.0280e-04, -8.4415e-02, -3.3105e-01,\n",
            "          3.9995e-03],\n",
            "        [ 1.1793e-01, -3.0418e-01, -2.0141e-01,  1.1218e-01,  3.3672e-01,\n",
            "          2.8068e-01],\n",
            "        [ 1.3758e-01,  2.8574e-01,  3.8193e-01, -1.6256e-01, -4.5922e-02,\n",
            "         -9.5693e-02]], requires_grad=True)\n",
            "Name:  weight\n",
            "shape:  torch.Size([1, 6])\n",
            "Parameter containing:\n",
            "tensor([[-0.1191, -0.2135, -0.3745, -0.2889, -0.4880, -0.0715]],\n",
            "       requires_grad=True)\n"
          ]
        }
      ]
    },
    {
      "cell_type": "code",
      "source": [],
      "metadata": {
        "id": "unVdvOLh37se"
      },
      "execution_count": null,
      "outputs": []
    }
  ]
}