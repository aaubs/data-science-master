{
  "nbformat": 4,
  "nbformat_minor": 0,
  "metadata": {
    "colab": {
      "provenance": []
    },
    "kernelspec": {
      "name": "python3",
      "display_name": "Python 3"
    },
    "language_info": {
      "name": "python"
    }
  },
  "cells": [
    {
      "cell_type": "markdown",
      "source": [
        "### Anvendt Statisik\n",
        "Eksamen efter Studieordning 2020\n",
        "Roman Jurowetzki"
      ],
      "metadata": {
        "id": "WujAne3mGQYD"
      }
    },
    {
      "cell_type": "markdown",
      "source": [
        "- Du kan bruge en Jupyter-baseret platform af dit valg (Jupyter lokalt, uCloud, Colab). \n",
        "- Hvis du arbejder på din egen maskine (offline python, dvs. ikke Colab eller uCloud): For at løse opgaven, skal standardpakker `pandas` og `seaborn` være installeret.\n",
        "- 🧘‍♀️ Lad være med at gå i panik! Hvis koden ikke fungerer (men gjorde det før), så start igen øverst i koden og kør nedad. Det er også en god idé at bruge denne metode for at kontrollere koden for fejl, mens du arbejder på den.\n",
        "- 📚 Du kan bruge hjælpemidler, og det forventes, at du kan slå funktioner op, fx på 🌊 https://seaborn.pydata.org/api.html eller 🐼 https://pandas.pydata.org/docs/reference/index.html#api.\n",
        "- 🤓 LÆS opgaven grundigt i hver celle og hvad der forventes af dig!\n",
        "- 📝 De fleste fejl skyldes små stavefejl. Vær opmærksom på kommaer, punktummer i koden osv.\n",
        "- 💬 Hvis du ikke kan løse noget, kan du kommentere ud med `#`.\n",
        "- 👁️‍🗨️ Sørg for, at output er synligt (fx dine plots).\n",
        "- 🤥 Lad være med at snyde! Gruppearbejde er ikke tilladt.\n",
        "- 📧 Tjek din AAU-mail for eventuelle opdateringer fra underviserne i løbet af eksamen (f.eks. eventuelle fejl/afklarende spørgsmål).\n",
        "- 🚫 Brug kun objektnavne, der er defineret i opgaven.\n",
        "- 📩 Opgaven skal afleveres som en ipynb-fil (ikke som PDF). Du kan downloade filen fra fx Colab eller aflevere den åbne ipynb-fil i Jupyter Lab.\n"
      ],
      "metadata": {
        "id": "gM55qiJXpOHO"
      }
    },
    {
      "cell_type": "markdown",
      "source": [
        "# People Analytics\n",
        "\n",
        "Medarbejderne er oftest en at organisationens vigtigste ressourcer. Jo bedre kvalitet af medarbejderne, jo bedre præstation af organisationen. Når medarbejderne siger op, kan organisationen stå over for følgende udfordringer:\n",
        "\n",
        "- Det tager både tid og penge at uddanne nye medarbejdere.\n",
        "- Tab af erfarne medarbejdere.\n",
        "- Lavere produktivitet.\n",
        "- Mindre overskud. "
      ],
      "metadata": {
        "id": "A7jHW5Jzp3Yz"
      }
    },
    {
      "cell_type": "markdown",
      "source": [
        "![](https://aaubs.github.io/ds22/images/hr-exam.png)\n",
        "\n",
        "Billede: Stable Diffusion"
      ],
      "metadata": {
        "id": "lpD6DK5s50Km"
      }
    },
    {
      "cell_type": "markdown",
      "source": [
        "I denne notebook vil vi analysere et (fiktivt) HR-datasæt og give input til HR-afdelingen og ledelsen omkring følgende spørgsmål:\n",
        "\n",
        "‼️`Attrition` betyder her, at en medarbejder siger op og forlader virksomheden.\n",
        "\n",
        "- 🧐 Hvem arbejder i virksomheden, og i hvilke afdelinger? Hvor meget tjener de ansatte, og er der nogen \"outliers\"?\n",
        "- 💰 Hvordan fordeler indkomsten sig mellem mænd og kvinder?\n",
        "- 😃 Hvordan er tilfredsheden blandt medarbejdere?\n",
        "- 🚪 Hvilke faktorer bidrager mest til medarbejderomsætning?"
      ],
      "metadata": {
        "id": "Af3vFbWAKJNW"
      }
    },
    {
      "cell_type": "code",
      "execution_count": null,
      "metadata": {
        "id": "fYvYwHq1--Au"
      },
      "outputs": [],
      "source": [
        "# Importer de pakker der skal bruges til at besvare opgaven her + nogle indstillinger\n",
        "import pandas as pd\n",
        "pd.set_option('display.float_format', lambda x: '%.5f' % x) # slukker for \"scientific notation\"\n",
        "\n",
        "import seaborn as sns\n",
        "import matplotlib.pyplot as plt\n",
        "\n",
        "sns.set()\n",
        "plt.style.use(\"fivethirtyeight\")\n",
        "pd.set_option(\"display.float_format\", \"{:.2f}\".format)\n",
        "pd.set_option(\"display.max_columns\", 80)\n",
        "pd.set_option(\"display.max_rows\", 80)"
      ]
    },
    {
      "cell_type": "markdown",
      "source": [
        "####1. Indlæs Data"
      ],
      "metadata": {
        "id": "F7c0OqMQRZkQ"
      }
    },
    {
      "cell_type": "markdown",
      "source": [
        "Du finder også data online her:\n",
        "\n",
        "`https://aaubs.github.io/ds-master/data/HR_attrition/general_data.csv`\n",
        "\n",
        "Hvis du har brug for yderlige forklaringer af enklte variable, så kan du se disse i `data_dictionary.xlsx` (del af de udleverede data)."
      ],
      "metadata": {
        "id": "Gd7sbKq-WTmS"
      }
    },
    {
      "cell_type": "code",
      "source": [
        "# Indlæs HR data (general_data.csv)\n",
        "df = ___"
      ],
      "metadata": {
        "id": "vQ8Q5OCjOi5S"
      },
      "execution_count": null,
      "outputs": []
    },
    {
      "cell_type": "code",
      "source": [
        "# Kør følgende kode uden ændring!\n",
        "# Koden laver en ny kolonne med nummerisk værdi for Attrition variablen.\n",
        "# 1: Medarbejder forlader virksomheden, 0: Medarbejder bliver i virksomheden.\n",
        "df['Attrition_num'] = df['Attrition'].map({'Yes':1, 'No':0})"
      ],
      "metadata": {
        "id": "J9oAi-m_DGur"
      },
      "execution_count": null,
      "outputs": []
    },
    {
      "cell_type": "code",
      "source": [
        "# vis de første fem rækker af data\n"
      ],
      "metadata": {
        "id": "2hU3LqdkQYe_"
      },
      "execution_count": null,
      "outputs": []
    },
    {
      "cell_type": "code",
      "source": [
        "# vis information om variable og observationer i data \n",
        "\n"
      ],
      "metadata": {
        "id": "noiVig2iQZ-i"
      },
      "execution_count": null,
      "outputs": []
    },
    {
      "cell_type": "markdown",
      "source": [
        "####2. Missing Data"
      ],
      "metadata": {
        "id": "Hn2Kna9QRe5M"
      }
    },
    {
      "cell_type": "code",
      "source": [
        "# giv et overblik over, hvor mange missing der er i hver variabel (med funktion, ikke udledt fra ovenstående)\n",
        "\n"
      ],
      "metadata": {
        "id": "b6Ei_tOPRWby"
      },
      "execution_count": null,
      "outputs": []
    },
    {
      "cell_type": "code",
      "source": [
        "# Fyld eventuelle manglende værdier ud med gennemsnitsværdien for kolonnen.\n",
        "\n"
      ],
      "metadata": {
        "id": "tXqOvPmoOEiY"
      },
      "execution_count": null,
      "outputs": []
    },
    {
      "cell_type": "markdown",
      "source": [
        "####3. Statistik over MonthlyIncome\n",
        "\n"
      ],
      "metadata": {
        "id": "b7kcjtN9yup2"
      }
    },
    {
      "cell_type": "code",
      "source": [
        "# giv et overblik over indkomstfordelingen af MonthlyIncome (min, max, median, std.afvigelse - 1 Pandas funktion) \n",
        "\n"
      ],
      "metadata": {
        "id": "uz_cgPOYQsZR"
      },
      "execution_count": null,
      "outputs": []
    },
    {
      "cell_type": "markdown",
      "source": [
        "Hvordan vil du forklare forholdet mellem gennemsnit og median i det observerede?\n",
        "\n",
        "🎯 Svar: _ _ _"
      ],
      "metadata": {
        "id": "coSwfIPJtvN6"
      }
    },
    {
      "cell_type": "code",
      "source": [
        "# find obsevationerne med de højeste månedlige indkomster.\n",
        "# Ud fra de informationer du har samlet indtil videre: Er det en sandsynlig Indkomst eller en fejl (f.eks. dataindsamling, stavefejl)?\n",
        "\n",
        "df[_ == _]"
      ],
      "metadata": {
        "id": "JLHOv8RZQxFg"
      },
      "execution_count": null,
      "outputs": []
    },
    {
      "cell_type": "markdown",
      "source": [
        "Ud fra output her: Er det en sandsynlig indkomst eller en fejl (f.eks. dataindsamling, stavefejl)? (2-3 sætninger)\n",
        "\n",
        "\n",
        "🎯 Svar: _ _ _ "
      ],
      "metadata": {
        "id": "KWJP4HGcugCn"
      }
    },
    {
      "cell_type": "markdown",
      "source": [
        "####4. Beskæring af Datasæt"
      ],
      "metadata": {
        "id": "P_TQ0hxr6Ee5"
      }
    },
    {
      "cell_type": "code",
      "source": [
        "# Med udgangspunkt i \"MonthlyIncome\", beskær datasættet til 99. percentil (99 ekskl.) - brug dette datasæt fremadrettet!!!\n",
        "df = _"
      ],
      "metadata": {
        "id": "QJwWKfDN5LJl"
      },
      "execution_count": null,
      "outputs": []
    },
    {
      "cell_type": "markdown",
      "source": [
        "‼️brug dette datasæt fremadrettet‼️"
      ],
      "metadata": {
        "id": "zEjzxMqHvzpi"
      }
    },
    {
      "cell_type": "code",
      "source": [
        "# giv et overblik over MonthlyIncome (min, max, median, std.afvigelse) i det afgrænsede datasæt for at sikre\n",
        "# at ekstremværdier er ekskluderet\n",
        "\n"
      ],
      "metadata": {
        "id": "wVPeXw1X6CDW"
      },
      "execution_count": null,
      "outputs": []
    },
    {
      "cell_type": "code",
      "source": [
        "# Hvor mange observationer blev slettet fra datasættet?\n",
        "\n"
      ],
      "metadata": {
        "id": "BqAtyulNwDLY"
      },
      "execution_count": null,
      "outputs": []
    },
    {
      "cell_type": "markdown",
      "source": [
        "Hvilken mulig ulempe kan der være ved at beskære datasættet til 99. percentilen, og hvordan kan det påvirke, hvilke medarbejdere der er blevet fjernet?\n",
        "\n",
        "🎯 Svar: _ _ _"
      ],
      "metadata": {
        "id": "moqHouAywtia"
      }
    },
    {
      "cell_type": "markdown",
      "source": [
        "#### 5. Histogram."
      ],
      "metadata": {
        "id": "ZNhhbc_k7Mg0"
      }
    },
    {
      "cell_type": "code",
      "source": [
        "# Lav et histogram over MonthlyIncome og redegør kort for, hvad der kan aflæses.\n",
        "\n",
        "sns._"
      ],
      "metadata": {
        "id": "32RbY04m6_qd"
      },
      "execution_count": null,
      "outputs": []
    },
    {
      "cell_type": "markdown",
      "source": [
        "🎯 Svar: _ _ _"
      ],
      "metadata": {
        "id": "EccNqKea-Vb_"
      }
    },
    {
      "cell_type": "markdown",
      "source": [
        "####6. Optæling og gruppering"
      ],
      "metadata": {
        "id": "gCZGIK6_9LZC"
      }
    },
    {
      "cell_type": "code",
      "source": [
        "# Tæl antallet af medarbejdere i hver af de tre afdelinger?\n",
        "\n"
      ],
      "metadata": {
        "id": "0JK_Z6IC7RLO"
      },
      "execution_count": null,
      "outputs": []
    },
    {
      "cell_type": "code",
      "source": [
        "# Grupper efter afdeling og find medianen for \"MonthlyIncome\"\n",
        "# Sorter medianindkomsten i faldende rækkefølge\n",
        "\n"
      ],
      "metadata": {
        "id": "gRubHwyn8fw0"
      },
      "execution_count": null,
      "outputs": []
    },
    {
      "cell_type": "code",
      "source": [
        "# Gentag samme øvelse med standaradafvigelsen ´std()´?\n",
        "\n"
      ],
      "metadata": {
        "id": "b-CGK5Yi2y37"
      },
      "execution_count": null,
      "outputs": []
    },
    {
      "cell_type": "markdown",
      "source": [
        "Hvordan vil du fortolke resultaterne fra de 2 udregninger? Forklar også standardafvigelsen og fortolkningen af denne som del af din besvarelse.\n",
        "\n",
        "🎯 Svar: _ _ _"
      ],
      "metadata": {
        "id": "4uMv9YmN2jPs"
      }
    },
    {
      "cell_type": "markdown",
      "source": [
        "####7. Boxplot"
      ],
      "metadata": {
        "id": "_BlUasdq9Pdu"
      }
    },
    {
      "cell_type": "code",
      "source": [
        "# For at visualisere og formidle udregningerne fra opgave 9:\n",
        "# Lav et boxplot for \"MonthlyIncome\" fordelt på \"Afdeling\" og indfarvet efter \"Attrition\"\n",
        "# Fortolk og sammenlign \"Human Resources\" og \"Research & Development\" baseret på boxplot\n",
        "\n",
        "\n",
        "sns._"
      ],
      "metadata": {
        "id": "YgXGOulN9GSr"
      },
      "execution_count": null,
      "outputs": []
    },
    {
      "cell_type": "markdown",
      "source": [
        "🎯 Svar: _ _ _"
      ],
      "metadata": {
        "id": "CXSoTyy4-oL_"
      }
    },
    {
      "cell_type": "markdown",
      "source": [
        "####8. Filtrering af Datasæt"
      ],
      "metadata": {
        "id": "AoKKNI-l-MZT"
      }
    },
    {
      "cell_type": "code",
      "source": [
        "# Filtrer igen datasættet, denne gang således, at du kun beholder \n",
        "# \"Sales\" og \"Research & Development\" som afdelinger i datasættet\n",
        "df = _"
      ],
      "metadata": {
        "id": "Pt4LCngu9kTq"
      },
      "execution_count": null,
      "outputs": []
    },
    {
      "cell_type": "markdown",
      "source": [
        "‼️brug dette datasæt fremadrettet‼️"
      ],
      "metadata": {
        "id": "ZJ9nEY5o4Idp"
      }
    },
    {
      "cell_type": "markdown",
      "source": [
        "####9. Krydstabulering"
      ],
      "metadata": {
        "id": "QZq8ghJqAJvy"
      }
    },
    {
      "cell_type": "code",
      "source": [
        "# Undersøg, om den månedlige indkomst er højere eller lavere \n",
        "# for medarbejdere i de to afdelinger givet hvor meget de rejser.\n",
        "\n",
        "# Brug krydstabulering. NB: Du skal definere variablen og udregningstypen ved at indsætte følgende parametre: \n",
        "# values=df['MonthlyIncome'], aggfunc='median'\n",
        "\n",
        "pd.crosstab(_, _, values=df['MonthlyIncome'], aggfunc='median')"
      ],
      "metadata": {
        "id": "_01YTfSTAHTi"
      },
      "execution_count": null,
      "outputs": []
    },
    {
      "cell_type": "markdown",
      "source": [
        "🎯 Fortolkning (kort): _ _ _"
      ],
      "metadata": {
        "id": "xLzuFd0s_KuC"
      }
    },
    {
      "cell_type": "markdown",
      "source": [
        "####10. Beregning af statistikker for forskellige grupper"
      ],
      "metadata": {
        "id": "KvB9NTfdEzbe"
      }
    },
    {
      "cell_type": "code",
      "source": [
        "# Lav en oversigt over andelen af observationer inden for de forskellige fagligheder \"EducationField\"\n",
        "\n",
        "df._"
      ],
      "metadata": {
        "id": "RNg0HtiFEuQK"
      },
      "execution_count": null,
      "outputs": []
    },
    {
      "cell_type": "code",
      "source": [
        "# Generer et datasæt \"df_LifeSciences\", hvor der kun er medadbejdere med \"Life Sciences\" baggrund.\n",
        "df_LifeSciences = _"
      ],
      "metadata": {
        "id": "pVMZ5rKIFZoS"
      },
      "execution_count": null,
      "outputs": []
    },
    {
      "cell_type": "code",
      "source": [
        "# Hvad er andelen af mænd/kvinder med Life Sciences baggrund?\n",
        "\n"
      ],
      "metadata": {
        "id": "TdBK7_ZPG-bp"
      },
      "execution_count": null,
      "outputs": []
    },
    {
      "cell_type": "code",
      "source": [
        "# Find medianen for månedlig indkomst for mænd og kvinder med baggrund inden for Life Sciences.\n",
        "\n"
      ],
      "metadata": {
        "id": "ZHJl3l3_8VKZ"
      },
      "execution_count": null,
      "outputs": []
    },
    {
      "cell_type": "markdown",
      "source": [
        "Fortolk resultatet af udregningen og diskuter, hvilke faktorer der kan påvirke resultatet.\n",
        "\n",
        "🎯 Svar: _ _ _\n"
      ],
      "metadata": {
        "id": "a70tqm5z9weR"
      }
    },
    {
      "cell_type": "markdown",
      "source": [
        "####11. Korrelation"
      ],
      "metadata": {
        "id": "jv-35VcJLF4K"
      }
    },
    {
      "cell_type": "code",
      "source": [
        "# Beregn korrelationen af \n",
        "\n",
        "# ´MonthlyIncome´ vs ´Age´ og ...\n",
        "\n"
      ],
      "metadata": {
        "id": "wdPC_reDLn3b"
      },
      "execution_count": null,
      "outputs": []
    },
    {
      "cell_type": "code",
      "source": [
        "# ... ´YearsAtCompany´ vs ´Age´ i df_LifeSciences.\n",
        "\n"
      ],
      "metadata": {
        "id": "kd7fYL_q-sdT"
      },
      "execution_count": null,
      "outputs": []
    },
    {
      "cell_type": "markdown",
      "source": [
        "Ser du noget overraskende i disse resultater? Forklar korrelation som statistisk begreb og fortolkning som del af din besvarelse.\n",
        "\n",
        "🎯 Svar: _ _ _"
      ],
      "metadata": {
        "id": "lqL25E5b_aC3"
      }
    },
    {
      "cell_type": "markdown",
      "source": [
        "#### 12. Attrition eller medarbejderflugt vs Standard HR-Data"
      ],
      "metadata": {
        "id": "GW-twzQ7BSAX"
      }
    },
    {
      "cell_type": "code",
      "source": [
        "# Beregn medianen for \"YearsAtCompany\" og \"Age\" for dem der siger op, og for dem der bliver i virksomheden?\n",
        "# Hvad antyder resultater? \n",
        "\n"
      ],
      "metadata": {
        "id": "ZNGKgpozBVK6"
      },
      "execution_count": null,
      "outputs": []
    },
    {
      "cell_type": "markdown",
      "source": [
        "🎯 Svar: _ _ _"
      ],
      "metadata": {
        "id": "Pd8O3i4ADA7Z"
      }
    },
    {
      "cell_type": "markdown",
      "source": [
        "## Nye data fra Spørgeskemaer i virksomheden\n",
        "\n",
        "Der er blevet gennemført to undersøgelser, hvoraf den ene var med medarbejdere og den anden med deres ledere. Lederne blev spurgt om medarbejdernes jobinvolvering og præstation, mens medarbejderne vurderede deres arbejdsmiljø, jobtilfredshed og job-life-balance. \n",
        "\n",
        "Vi vil nu integrere disse tal med klassisk HR-data (fra tidligere) for at finde ud af, hvad der får medarbejdere til at forlade deres job."
      ],
      "metadata": {
        "id": "8GwcDJOecEOV"
      }
    },
    {
      "cell_type": "markdown",
      "source": [
        "####14. Indlæsning af nye data."
      ],
      "metadata": {
        "id": "37hulYTj-MdL"
      }
    },
    {
      "cell_type": "markdown",
      "source": [
        "Du finder også de to datasæt med survey-data her:\n",
        "- `https://aaubs.github.io/ds-master/data/HR_attrition/employee_survey_data.csv`\n",
        "- `https://aaubs.github.io/ds-master/data/HR_attrition/manager_survey_data.csv`"
      ],
      "metadata": {
        "id": "uTMzoKhtXAhU"
      }
    },
    {
      "cell_type": "code",
      "source": [
        "# Indlæs data employee_survey_data.csv og manager_survey_data.csv\n",
        "employee_survey = _\n",
        "manger_survey = _"
      ],
      "metadata": {
        "id": "WBO2dLUDpak6"
      },
      "execution_count": null,
      "outputs": []
    },
    {
      "cell_type": "markdown",
      "source": [
        "####15. Sammenføjning af data."
      ],
      "metadata": {
        "id": "CAfRx9sv9dhT"
      }
    },
    {
      "cell_type": "code",
      "source": [
        "# Lav et kombineret datasæt med navnet \"survey_data\", hvor du samler \"manager_survey\" og \"employee_survey\" \n",
        "# brug \"EmployeeID\" som nøglekolonne på begge sider.\n",
        "\n",
        "survey_data = _"
      ],
      "metadata": {
        "id": "FdOtYlwa8WwJ"
      },
      "execution_count": null,
      "outputs": []
    },
    {
      "cell_type": "code",
      "source": [
        "# Føj nu det kombinerede datasæt \"survey_data\" til det oprindelige HR-datasæt \n",
        "# ved at udføre en samlet \"merge\" operation.\n",
        "# Brug igen \"EmployeeID\" som nøglekolonne.\n",
        "\n",
        "df_survey_data = _"
      ],
      "metadata": {
        "id": "rmcg3fnL_YFo"
      },
      "execution_count": null,
      "outputs": []
    },
    {
      "cell_type": "code",
      "source": [
        "# Tjek om der er missing data.\n",
        "\n"
      ],
      "metadata": {
        "id": "oXXIZNrgJRA1"
      },
      "execution_count": null,
      "outputs": []
    },
    {
      "cell_type": "code",
      "source": [
        "# Hvis der er manglende data i hele dataframe 'df_survey_data', så skal du fjerne disse.\n",
        "\n"
      ],
      "metadata": {
        "id": "Yj6GP2RuJWvo"
      },
      "execution_count": null,
      "outputs": []
    },
    {
      "cell_type": "markdown",
      "source": [
        "####16. Forklaring af medarbejderflugt med surveydata?"
      ],
      "metadata": {
        "id": "FgiEJpz-SIZx"
      }
    },
    {
      "cell_type": "code",
      "source": [
        "# Beregn gennemsnittet af de fem nye variable, der er introduceret ved de to surveys, \n",
        "# for henholdsvis ansatte der siger op, og ansatte der bliver i virksomheden. \n",
        "# Brug variablen 'Attrition' til at opdele dataene.\n",
        "# Hvad kan der observeres?\n",
        "\n"
      ],
      "metadata": {
        "id": "VcOa045UFWwt"
      },
      "execution_count": null,
      "outputs": []
    },
    {
      "cell_type": "markdown",
      "source": [
        "🎯 Svar: _ _ _"
      ],
      "metadata": {
        "id": "f75HJqzyL8QV"
      }
    }
  ]
}