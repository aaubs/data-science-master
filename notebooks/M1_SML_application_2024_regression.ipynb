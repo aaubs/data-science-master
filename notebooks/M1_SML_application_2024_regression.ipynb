{
  "nbformat": 4,
  "nbformat_minor": 0,
  "metadata": {
    "colab": {
      "provenance": []
    },
    "kernelspec": {
      "name": "python3",
      "display_name": "Python 3"
    },
    "language_info": {
      "name": "python"
    }
  },
  "cells": [
    {
      "cell_type": "markdown",
      "metadata": {
        "id": "E-RCcRQUZAoZ"
      },
      "source": [
        "# Introduction to Supervised Machine Learning (SML) - Regression\n",
        "\n",
        "Welcome to this introduction to machine learning (ML). In this session we cover the following topics\n",
        "1. Generalizating and valididating from ML models.\n",
        "2. The Bias-Variance Trade-Off\n",
        "3. Out-of-sample testing and cross-validation workflows\n",
        "4. Implementing Ml workflows in the Python (Sklearn) ecosystem."
      ]
    },
    {
      "cell_type": "code",
      "metadata": {
        "id": "MdCF5_Pz6EJO"
      },
      "source": [
        "# loading essential libraries\n",
        "\n",
        "import numpy as np\n",
        "import pandas as pd\n",
        "import seaborn as sns\n",
        "import statsmodels.api as sm\n",
        "\n",
        "sns.set(style=\"darkgrid\", color_codes=True)"
      ],
      "execution_count": null,
      "outputs": []
    },
    {
      "cell_type": "markdown",
      "source": [
        "## Data Description\n",
        "\n",
        "We will load a standard dataset, the BostonHousing dataset. It comes as a dataframe with 506 observations on 14 features, the last one `medv` being the outcome:\n",
        "\n",
        "* `crim`\tper capita crime rate by town\n",
        "* `zn`\tproportion of residential land zoned for lots over 25,000 sq.ft\n",
        "* `indus`\tproportion of non-retail business acres per town\n",
        "* `chas`\tCharles River dummy variable (= 1 if tract bounds river; 0 otherwise) (deselected in this case)\n",
        "* `nox`\tnitric oxides concentration (parts per 110 million)\n",
        "* `rm`\taverage number of rooms per dwelling\n",
        "* `age`\tproportion of owner-occupied units built prior to 1940\n",
        "* `dis`\tweighted distances to five Boston employment centres\n",
        "* `rad`\tindex of accessibility to radial highways\n",
        "* `tax`\tfull-value property-tax rate per USD 10,000\n",
        "* `ptratio`\tpupil-teacher ratio by town\n",
        "* `b`\t1000(B - 0.63)^2 where B is the proportion of blacks by town\n",
        "* `lstat`\tlower status of the population\n",
        "* `medv`\tmedian value of owner-occupied homes in USD 1000's (our outcome to predict)\n",
        "\n",
        "Source: Harrison, D. and Rubinfeld, D.L. \"Hedonic prices and the demand for clean air\", J. Environ. Economics & Management, vol.5, 81-102, 1978.\n",
        "\n",
        "These data have been taken from the [UCI Repository Of Machine Learning Databases](ftp://ftp.ics.uci.edu/pub/machine-learning-databases)"
      ],
      "metadata": {
        "id": "EyemIhNh7k-3"
      }
    },
    {
      "cell_type": "code",
      "source": [
        "data = pd.read_csv('https://raw.githubusercontent.com/selva86/datasets/master/BostonHousing.csv')"
      ],
      "metadata": {
        "id": "Y3uX9kDrBlgG"
      },
      "execution_count": null,
      "outputs": []
    },
    {
      "cell_type": "code",
      "source": [
        "data.rename(columns={\"medv\": \"y\"})"
      ],
      "metadata": {
        "id": "co6SR2fdAECN"
      },
      "execution_count": null,
      "outputs": []
    },
    {
      "cell_type": "code",
      "metadata": {
        "id": "RoIdfN8CQyy-"
      },
      "source": [
        "#X, y = load_boston(return_X_y=True)\n",
        "#load_boston()['feature_names']\n",
        "#data = pd.DataFrame(load_boston()['data'], columns=load_boston()['feature_names'])\n",
        "#data['y'] = load_boston()['target']"
      ],
      "execution_count": null,
      "outputs": []
    },
    {
      "cell_type": "markdown",
      "source": [
        "## EDA"
      ],
      "metadata": {
        "id": "lZ83yMD67tPH"
      }
    },
    {
      "cell_type": "code",
      "metadata": {
        "id": "E2qae0K9Q4lE"
      },
      "source": [],
      "execution_count": null,
      "outputs": []
    },
    {
      "cell_type": "code",
      "metadata": {
        "id": "L1VIivCXROP9"
      },
      "source": [],
      "execution_count": null,
      "outputs": []
    },
    {
      "cell_type": "code",
      "metadata": {
        "id": "2nUyW64qReQ4"
      },
      "source": [],
      "execution_count": null,
      "outputs": []
    },
    {
      "cell_type": "code",
      "source": [
        "data.head()"
      ],
      "metadata": {
        "id": "9HjjgFsu5inY"
      },
      "execution_count": null,
      "outputs": []
    },
    {
      "cell_type": "code",
      "metadata": {
        "id": "mQ0s_cHSSQud"
      },
      "source": [
        "data.describe().T"
      ],
      "execution_count": null,
      "outputs": []
    },
    {
      "cell_type": "markdown",
      "metadata": {
        "id": "Y1971ISzdw6Y"
      },
      "source": [
        "\n",
        "In this exercise, we will predict `medv` (median value of owner-occupied homes in USD). Such a model would in the real world be used to predict developments in housing prices, eg. to inform policy makers  or potential investors. In case I have only one target outcome, I prefer to name it as `y`. This simple naming convention helps to re-use code across datasets.\n",
        "\n",
        "Let's take a look at the correlation matrix and the distributions of the variables."
      ]
    },
    {
      "cell_type": "code",
      "metadata": {
        "id": "lhBQtA-7Sc_O"
      },
      "source": [
        "corr = data.corr()"
      ],
      "execution_count": null,
      "outputs": []
    },
    {
      "cell_type": "code",
      "metadata": {
        "id": "PRccmEg3SrwT"
      },
      "source": [
        "cmap = sns.diverging_palette(230, 20, as_cmap=True)\n",
        "mask = np.triu(np.ones_like(corr, dtype=bool))\n",
        "\n",
        "sns.heatmap(corr,mask=mask, cmap=cmap)"
      ],
      "execution_count": null,
      "outputs": []
    },
    {
      "cell_type": "code",
      "metadata": {
        "id": "r2FjItv3SsL2"
      },
      "source": [
        "sns.pairplot(data, corner=True, diag_kind='kde')"
      ],
      "execution_count": null,
      "outputs": []
    },
    {
      "cell_type": "markdown",
      "metadata": {
        "id": "5N-mYpQFeJ-U"
      },
      "source": [
        "## Preprocessing\n",
        "\n",
        "We preprocess the data by standardising it and then we split into a train and test set using standard settings."
      ]
    },
    {
      "cell_type": "code",
      "metadata": {
        "id": "Slrp0gW3Te8K"
      },
      "source": [
        "from sklearn.model_selection import train_test_split\n",
        "from sklearn.preprocessing import StandardScaler"
      ],
      "execution_count": null,
      "outputs": []
    },
    {
      "cell_type": "code",
      "source": [
        "X = data.drop('medv', axis=1)\n",
        "y = data['medv']"
      ],
      "metadata": {
        "id": "m1ywwWgSsXMJ"
      },
      "execution_count": null,
      "outputs": []
    },
    {
      "cell_type": "code",
      "metadata": {
        "id": "xzKIEDgTVMcm"
      },
      "source": [
        "X_scaled = StandardScaler().fit_transform(X)"
      ],
      "execution_count": null,
      "outputs": []
    },
    {
      "cell_type": "code",
      "metadata": {
        "id": "eqxNfmrCUjAC"
      },
      "source": [
        "X_train, X_test, y_train, y_test = train_test_split(X, y)"
      ],
      "execution_count": null,
      "outputs": []
    },
    {
      "cell_type": "markdown",
      "source": [
        "## Fitting SML models"
      ],
      "metadata": {
        "id": "tOEbAG-X8DUl"
      }
    },
    {
      "cell_type": "markdown",
      "metadata": {
        "id": "Gw4JNFYZeXY8"
      },
      "source": [
        "Here, we are going to try out 3 different models:\n",
        "\n",
        "1. OLS model (Baseline)\n",
        "2. Elastic net (still parametric, but maybe advantage in feature selection)\n",
        "3. Random forest (tree-based ensemble model)\n",
        "\n",
        "There is no particular reason other than to demonstrate different models with increasing complexity and hyperparameter tuning options."
      ]
    },
    {
      "cell_type": "code",
      "metadata": {
        "id": "1s9_PskiVUeT"
      },
      "source": [
        "from sklearn.linear_model import LinearRegression, ElasticNet\n",
        "from sklearn.ensemble import RandomForestRegressor"
      ],
      "execution_count": null,
      "outputs": []
    },
    {
      "cell_type": "code",
      "metadata": {
        "id": "u_hHOysHVhjh"
      },
      "source": [
        "model_ols = LinearRegression()\n",
        "model_el = ElasticNet()\n",
        "model_rf = RandomForestRegressor(n_estimators=25)"
      ],
      "execution_count": null,
      "outputs": []
    },
    {
      "cell_type": "code",
      "metadata": {
        "id": "mGi8qxtnVozi"
      },
      "source": [
        "model_ols.fit(X_train, y_train)\n",
        "model_el.fit(X_train, y_train)\n",
        "model_rf.fit(X_train, y_train)"
      ],
      "execution_count": null,
      "outputs": []
    },
    {
      "cell_type": "code",
      "metadata": {
        "id": "6y24-BsmzSkj"
      },
      "source": [
        "print('Model OLS' + ' ' + str(model_ols.score(X_test, y_test)))\n",
        "print('Model EL' + ' ' + str(model_el.score(X_test, y_test)))\n",
        "print('Model RF' + ' ' + str(model_rf.score(X_test, y_test)))"
      ],
      "execution_count": null,
      "outputs": []
    },
    {
      "cell_type": "markdown",
      "metadata": {
        "id": "WnTbqVgdejBF"
      },
      "source": [
        "## Hyperparameter tuning\n",
        "\n",
        "Hyperparameter tuning is performed using 5-fold crossvalidation with ```GridSearchCV```"
      ]
    },
    {
      "cell_type": "code",
      "metadata": {
        "id": "oheGP4GJZzR9"
      },
      "source": [
        "from sklearn.model_selection import GridSearchCV\n",
        "from sklearn.metrics import make_scorer\n",
        "from sklearn.metrics import mean_squared_error\n",
        "from sklearn.metrics import r2_score\n",
        "\n",
        "# scorer = make_scorer(r2_score)\n",
        "scorer = make_scorer(mean_squared_error)"
      ],
      "execution_count": null,
      "outputs": []
    },
    {
      "cell_type": "markdown",
      "source": [
        "### OLS\n",
        "\n",
        "Since it has no hyperparameters, no training necessary."
      ],
      "metadata": {
        "id": "9SE0g2vljWGQ"
      }
    },
    {
      "cell_type": "markdown",
      "source": [
        "### Elastic Net"
      ],
      "metadata": {
        "id": "YpPG55Eq8S-S"
      }
    },
    {
      "cell_type": "code",
      "metadata": {
        "id": "lTbRWyHNPOPd"
      },
      "source": [
        "parameters_el = {'alpha':[0.1, 0.5, 1.0],\n",
        "                 'l1_ratio':[0.1, 0.5, 0.75]}"
      ],
      "execution_count": null,
      "outputs": []
    },
    {
      "cell_type": "code",
      "metadata": {
        "id": "OIJ7GB2vQA9v"
      },
      "source": [
        "# Perform grid search on the classifier using 'scorer' as the scoring method.\n",
        "grid_obj = GridSearchCV(model_el, parameters_el, scoring=scorer)"
      ],
      "execution_count": null,
      "outputs": []
    },
    {
      "cell_type": "code",
      "source": [
        "grid_obj"
      ],
      "metadata": {
        "id": "WJt9NMhhjiXA"
      },
      "execution_count": null,
      "outputs": []
    },
    {
      "cell_type": "code",
      "metadata": {
        "id": "wjmkxLRiQbER"
      },
      "source": [
        "grid_fit = grid_obj.fit(X, y)"
      ],
      "execution_count": null,
      "outputs": []
    },
    {
      "cell_type": "code",
      "metadata": {
        "id": "edHUEgeoQd0A"
      },
      "source": [
        "# Get the estimator.\n",
        "best_reg = grid_fit.best_estimator_\n",
        "\n",
        "# Fit the new model.\n",
        "best_reg.fit(X_train, y_train)"
      ],
      "execution_count": null,
      "outputs": []
    },
    {
      "cell_type": "code",
      "metadata": {
        "id": "xqre9itMzNS9"
      },
      "source": [
        "best_reg.score(X_test, y_test)"
      ],
      "execution_count": null,
      "outputs": []
    },
    {
      "cell_type": "markdown",
      "source": [
        "### Random Forest"
      ],
      "metadata": {
        "id": "FB53mXww8Xam"
      }
    },
    {
      "cell_type": "code",
      "metadata": {
        "id": "LMwiprMuRqNp"
      },
      "source": [
        "model_rf = RandomForestRegressor()"
      ],
      "execution_count": null,
      "outputs": []
    },
    {
      "cell_type": "code",
      "metadata": {
        "id": "RGdNlJiaRlZR"
      },
      "source": [
        "parameters_rf = {'bootstrap': [True, False],\n",
        " 'max_depth': [10, 20, None],\n",
        " 'min_samples_split': [2, 5, 10],\n",
        " 'n_estimators': [25, 50]}"
      ],
      "execution_count": null,
      "outputs": []
    },
    {
      "cell_type": "code",
      "metadata": {
        "id": "UHCirpRpRgjU"
      },
      "source": [
        "# erform grid search on the classifier using 'scorer' as the scoring method.\n",
        "grid_obj = GridSearchCV(model_rf, parameters_rf, scoring=scorer)"
      ],
      "execution_count": null,
      "outputs": []
    },
    {
      "cell_type": "code",
      "metadata": {
        "id": "z70_mSy5S5gA"
      },
      "source": [
        "grid_fit = grid_obj.fit(X, y)"
      ],
      "execution_count": null,
      "outputs": []
    },
    {
      "cell_type": "code",
      "metadata": {
        "id": "ExtUWoPeS9nC"
      },
      "source": [
        "# Get the estimator.\n",
        "best_reg = grid_fit.best_estimator_\n",
        "\n",
        "# Fit the new model.\n",
        "best_reg.fit(X_train, y_train)"
      ],
      "execution_count": null,
      "outputs": []
    },
    {
      "cell_type": "code",
      "source": [
        "# Model performance on TRAIN data\n",
        "best_reg.score(X_train, y_train)"
      ],
      "metadata": {
        "id": "ohEJpo8bk_c7"
      },
      "execution_count": null,
      "outputs": []
    },
    {
      "cell_type": "code",
      "metadata": {
        "id": "9ytgnrc4zFRi"
      },
      "source": [
        "# Model performance on TEST data\n",
        "best_reg.score(X_test, y_test)"
      ],
      "execution_count": null,
      "outputs": []
    }
  ]
}