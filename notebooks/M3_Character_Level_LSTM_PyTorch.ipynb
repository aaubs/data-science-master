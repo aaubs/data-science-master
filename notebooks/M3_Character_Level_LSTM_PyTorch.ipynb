{
  "nbformat": 4,
  "nbformat_minor": 0,
  "metadata": {
    "colab": {
      "provenance": [],
      "authorship_tag": "ABX9TyPln2NptG0ypL9eN4ac9NFY",
      "include_colab_link": true
    },
    "kernelspec": {
      "name": "python3",
      "display_name": "Python 3"
    },
    "language_info": {
      "name": "python"
    },
    "accelerator": "TPU",
    "gpuClass": "standard"
  },
  "cells": [
    {
      "cell_type": "markdown",
      "metadata": {
        "id": "view-in-github",
        "colab_type": "text"
      },
      "source": [
        "<a href=\"https://colab.research.google.com/github/aaubs/ds-master/blob/main/notebooks/M3_Character_Level_LSTM_PyTorch.ipynb\" target=\"_parent\"><img src=\"https://colab.research.google.com/assets/colab-badge.svg\" alt=\"Open In Colab\"/></a>"
      ]
    },
    {
      "cell_type": "code",
      "source": [
        "# import required libraries\n",
        "import torch\n",
        "import pandas as pd\n",
        "import torch.nn as nn\n",
        "import torch.optim as optim\n",
        "import numpy as np\n",
        "from torch.utils.data import DataLoader, TensorDataset\n",
        "from sklearn import preprocessing\n",
        "import matplotlib.pyplot as plt\n",
        "from tqdm import tqdm\n",
        "import requests"
      ],
      "metadata": {
        "id": "FYbDKmi1-d4b"
      },
      "execution_count": 1,
      "outputs": []
    },
    {
      "cell_type": "code",
      "source": [
        "response = requests.get('https://raw.githubusercontent.com/aaubs/ds-master/main/data/Character_Level_LSTM_PyTorch.txt')\n",
        "\n",
        "with open(\"text.txt\", \"w\") as f:\n",
        "    f.write(response.text)\n",
        "\n",
        "with open(\"text.txt\", \"r\") as f:\n",
        "    text = f.read()\n"
      ],
      "metadata": {
        "id": "ZIwj4QZa9NCI"
      },
      "execution_count": 2,
      "outputs": []
    },
    {
      "cell_type": "code",
      "source": [
        "len(text)"
      ],
      "metadata": {
        "colab": {
          "base_uri": "https://localhost:8080/"
        },
        "id": "BVecXwfqP6A3",
        "outputId": "6bd2bc6d-af88-4fb7-82ca-53300f0ec78e"
      },
      "execution_count": 3,
      "outputs": [
        {
          "output_type": "execute_result",
          "data": {
            "text/plain": [
              "1985223"
            ]
          },
          "metadata": {},
          "execution_count": 3
        }
      ]
    },
    {
      "cell_type": "code",
      "source": [
        "text = text.replace('\\n', ' ').replace(\"\\'\", '')\n",
        "text = text.lower()"
      ],
      "metadata": {
        "id": "87ZLCfUCL1d8"
      },
      "execution_count": 4,
      "outputs": []
    },
    {
      "cell_type": "code",
      "source": [
        "import numpy as np\n",
        "\n",
        "# encode the text and map each character to an integer and vice versa\n",
        "\n",
        "# we create two dictonaries:\n",
        "# 1. int2char, which maps integers to characters\n",
        "# 2. char2int, which maps characters to unique integers\n",
        "\n",
        "chars = tuple(set(text))\n",
        "\n",
        "int2char = dict(enumerate(chars))\n",
        "\n",
        "char2int = {ch: ii for ii, ch in int2char.items()}\n",
        "\n",
        "encoded = np.array([char2int[ch] for ch in text])"
      ],
      "metadata": {
        "id": "SZc48yBr9SUb"
      },
      "execution_count": 5,
      "outputs": []
    },
    {
      "cell_type": "code",
      "source": [
        "int2char.items()"
      ],
      "metadata": {
        "colab": {
          "base_uri": "https://localhost:8080/"
        },
        "id": "mV-x7DsklbJS",
        "outputId": "e4020078-0a42-47ed-8d3a-1b2b48f86130"
      },
      "execution_count": 6,
      "outputs": [
        {
          "output_type": "execute_result",
          "data": {
            "text/plain": [
              "dict_items([(0, ' '), (1, 'o'), (2, 'j'), (3, 'u'), (4, 'm'), (5, 'p'), (6, 'y'), (7, 'q'), (8, '@'), (9, ';'), (10, 'r'), (11, '%'), (12, '('), (13, '`'), (14, 's'), (15, 'h'), (16, '5'), (17, '-'), (18, '\"'), (19, 'z'), (20, 'i'), (21, '*'), (22, 'b'), (23, ':'), (24, '6'), (25, '1'), (26, '_'), (27, ','), (28, '7'), (29, 'a'), (30, 'e'), (31, 'd'), (32, '3'), (33, 'x'), (34, '/'), (35, '&'), (36, 'k'), (37, 'v'), (38, '4'), (39, '8'), (40, '!'), (41, 'g'), (42, ')'), (43, '.'), (44, 'n'), (45, 'f'), (46, 'l'), (47, 'w'), (48, '$'), (49, 't'), (50, 'c'), (51, '9'), (52, '0'), (53, '2'), (54, '?')])"
            ]
          },
          "metadata": {},
          "execution_count": 6
        }
      ]
    },
    {
      "cell_type": "code",
      "source": [
        "char2int.items()"
      ],
      "metadata": {
        "colab": {
          "base_uri": "https://localhost:8080/"
        },
        "id": "sr7UWGQglgqN",
        "outputId": "c235481a-6b74-4333-8b3a-fb433bcf39b9"
      },
      "execution_count": 7,
      "outputs": [
        {
          "output_type": "execute_result",
          "data": {
            "text/plain": [
              "dict_items([(' ', 0), ('o', 1), ('j', 2), ('u', 3), ('m', 4), ('p', 5), ('y', 6), ('q', 7), ('@', 8), (';', 9), ('r', 10), ('%', 11), ('(', 12), ('`', 13), ('s', 14), ('h', 15), ('5', 16), ('-', 17), ('\"', 18), ('z', 19), ('i', 20), ('*', 21), ('b', 22), (':', 23), ('6', 24), ('1', 25), ('_', 26), (',', 27), ('7', 28), ('a', 29), ('e', 30), ('d', 31), ('3', 32), ('x', 33), ('/', 34), ('&', 35), ('k', 36), ('v', 37), ('4', 38), ('8', 39), ('!', 40), ('g', 41), (')', 42), ('.', 43), ('n', 44), ('f', 45), ('l', 46), ('w', 47), ('$', 48), ('t', 49), ('c', 50), ('9', 51), ('0', 52), ('2', 53), ('?', 54)])"
            ]
          },
          "metadata": {},
          "execution_count": 7
        }
      ]
    },
    {
      "cell_type": "code",
      "source": [
        "encoded.shape"
      ],
      "metadata": {
        "colab": {
          "base_uri": "https://localhost:8080/"
        },
        "id": "LeJIHXXXQd6b",
        "outputId": "190f17ea-9f7a-44de-dde9-667300934cb4"
      },
      "execution_count": 8,
      "outputs": [
        {
          "output_type": "execute_result",
          "data": {
            "text/plain": [
              "(1978502,)"
            ]
          },
          "metadata": {},
          "execution_count": 8
        }
      ]
    },
    {
      "cell_type": "code",
      "source": [
        "def one_hot_encode(arr, n_labels):\n",
        "    \n",
        "    # Initialize the the encoded array\n",
        "    one_hot = np.zeros((np.multiply(*arr.shape), n_labels), dtype=np.float32)\n",
        "    # Fill the appropriate elements with ones\n",
        "    one_hot[np.arange(one_hot.shape[0]), arr.flatten()] = 1.\n",
        "    \n",
        "    # Finally reshape it to get back to the original array\n",
        "    one_hot = one_hot.reshape((*arr.shape, n_labels))\n",
        "    \n",
        "    return one_hot"
      ],
      "metadata": {
        "id": "fw6zlx3j0yJB"
      },
      "execution_count": 9,
      "outputs": []
    },
    {
      "cell_type": "code",
      "source": [
        "# check that the function works as expected\n",
        "test_seq = np.array([[3, 5, 1]])\n",
        "one_hot = one_hot_encode(test_seq, 8)\n",
        "\n",
        "print(type(one_hot))\n",
        "print(one_hot)"
      ],
      "metadata": {
        "colab": {
          "base_uri": "https://localhost:8080/"
        },
        "id": "8KLy3tdl2daW",
        "outputId": "0ddc3c87-35e1-4f30-b4f1-7a3f424756b7"
      },
      "execution_count": 10,
      "outputs": [
        {
          "output_type": "stream",
          "name": "stdout",
          "text": [
            "<class 'numpy.ndarray'>\n",
            "[[[0. 0. 0. 1. 0. 0. 0. 0.]\n",
            "  [0. 0. 0. 0. 0. 1. 0. 0.]\n",
            "  [0. 1. 0. 0. 0. 0. 0. 0.]]]\n"
          ]
        }
      ]
    },
    {
      "cell_type": "code",
      "source": [
        "# Split the data into sequences for LSTM input\n",
        "n_steps = 100\n",
        "sequence_data = []\n",
        "sequence_labels = []\n",
        "\n",
        "for i in range(len(encoded) - n_steps):\n",
        "    sequence_data.append(encoded[i:i+n_steps])\n",
        "    sequence_labels.append(encoded[i+n_steps])\n",
        "\n",
        "sequence_data = np.array(sequence_data)\n",
        "sequence_labels = np.array(sequence_labels)\n",
        "\n",
        "train_data = sequence_data[:15000]\n",
        "train_labels = sequence_labels[:15000]\n",
        "test_data = sequence_data[15000:16000]\n",
        "test_labels = sequence_labels[15000:16000]"
      ],
      "metadata": {
        "id": "5d18sSmmdoLI"
      },
      "execution_count": 11,
      "outputs": []
    },
    {
      "cell_type": "code",
      "source": [
        "# Split the data into training and testing sets\n",
        "train_data = TensorDataset(torch.from_numpy(train_data), torch.from_numpy(train_labels))\n",
        "test_data = TensorDataset(torch.from_numpy(test_data), torch.from_numpy(test_labels))\n",
        "\n",
        "train_loader = DataLoader(train_data, batch_size=1, shuffle=True)\n",
        "test_loader = DataLoader(test_data, batch_size=1, shuffle=False)"
      ],
      "metadata": {
        "id": "E2xQNz7iRmmL"
      },
      "execution_count": 12,
      "outputs": []
    },
    {
      "cell_type": "code",
      "source": [
        "\n",
        "# Initialize the LSTM model\n",
        "# Define the input size, hidden size and number of outputs\n",
        "input_size = len(chars)\n",
        "hidden_size = 128\n",
        "output_size = len(chars)\n",
        "n_layers = 1\n",
        "drop_prob = 0.5\n",
        "num_epochs= 10\n",
        "\n",
        "# 1. Creating a LSTM model\n",
        "# Define the LSTM model and Linear output fully connected layer\n",
        "lstm = nn.LSTM(input_size, hidden_size, n_layers, batch_first=True)\n",
        "fc = nn.Linear(hidden_size, output_size)\n",
        "softmax = nn.Softmax(dim=-1)\n",
        "\n",
        "# Define the loss function and optimizer\n",
        "criterion = nn.MSELoss()\n",
        "optimizer = optim.SGD(lstm.parameters(), lr=0.01)"
      ],
      "metadata": {
        "id": "8AmZWo9w-tjN"
      },
      "execution_count": 13,
      "outputs": []
    },
    {
      "cell_type": "code",
      "source": [
        "# Combine the parameters of the LSTM layer and linear layer\n",
        "params = list(lstm.parameters()) + list(fc.parameters())\n",
        "\n",
        "# Print the number of parameters\n",
        "print(\"Number of parameters:\", sum(p.numel() for p in params))\n",
        "\n",
        "# Print the shapes of the parameters\n",
        "for name, param in lstm.named_parameters():\n",
        "    print(\"Name: \", name)\n",
        "    print(\"shape: \", param.shape)\n",
        "    # print(\"Weight: \", param.data)\n",
        "     "
      ],
      "metadata": {
        "colab": {
          "base_uri": "https://localhost:8080/"
        },
        "id": "ODjz_70bA8g-",
        "outputId": "264f930b-6e24-486f-b6d3-82f5f83c823f"
      },
      "execution_count": 14,
      "outputs": [
        {
          "output_type": "stream",
          "name": "stdout",
          "text": [
            "Number of parameters: 101815\n",
            "Name:  weight_ih_l0\n",
            "shape:  torch.Size([512, 55])\n",
            "Name:  weight_hh_l0\n",
            "shape:  torch.Size([512, 128])\n",
            "Name:  bias_ih_l0\n",
            "shape:  torch.Size([512])\n",
            "Name:  bias_hh_l0\n",
            "shape:  torch.Size([512])\n"
          ]
        }
      ]
    },
    {
      "cell_type": "code",
      "source": [
        "# Initializing Hyperparameters\n",
        "num_epochs = 6\n",
        "train_losses = []\n",
        "test_losses = []\n",
        "\n",
        "# Loop over the number of epochs\n",
        "for epoch in tqdm(range(num_epochs)):\n",
        "    train_loss = 0\n",
        "\n",
        "    # Initialize the hidden state and the cell state\n",
        "    # The hidden state and the cell state reset to zero for every epoch\n",
        "    hs = torch.zeros(1, 1, hidden_size)\n",
        "    cs = torch.zeros(1, 1, hidden_size)\n",
        "    \n",
        "    # Get the input and target at position i\n",
        "    for i, (data, label) in enumerate(train_loader):\n",
        "        \n",
        "        hidden = (hs, cs)\n",
        "\n",
        "        # One-hot encode our data and make them Torch tensors\n",
        "        data = one_hot_encode(data, len(chars))\n",
        "        data = torch.from_numpy(data)\n",
        "        data.requires_grad = True\n",
        "\n",
        "        # Run the forward pass\n",
        "        output, hidden = lstm(data.float(), hidden)\n",
        "        output = fc(hidden[-1])\n",
        "        output = softmax(output)\n",
        "        predicted = torch.argmax(output.data)\n",
        "\n",
        "        \n",
        "        # 2. Network Evaluation\n",
        "        loss = criterion(output, label[0].float())\n",
        "        hs = hs.detach()\n",
        "        cs = cs.detach()\n",
        "\n",
        "        # 3. Gradient Calculation\n",
        "        loss.backward()\n",
        "\n",
        "        # 4. Back Propagation\n",
        "        optimizer.step()\n",
        "        optimizer.zero_grad()\n",
        "\n",
        "        train_loss += loss.item()\n",
        "\n",
        "    # Calculate the average training loss\n",
        "    train_loss = train_loss / len(train_loader)\n",
        "    train_losses.append(train_loss)\n",
        "\n",
        "# Plot the MSE loss for each epoch\n",
        "plt.plot(train_losses)\n",
        "plt.xlabel('Epoch')\n",
        "plt.ylabel('MSE Loss')\n",
        "plt.title('Training Loss over Epochs')\n",
        "plt.show()"
      ],
      "metadata": {
        "colab": {
          "base_uri": "https://localhost:8080/",
          "height": 368
        },
        "id": "w9n5RRJPBBBL",
        "outputId": "6f3f458c-b1f3-4c97-a8b8-16fc6c72a630"
      },
      "execution_count": 15,
      "outputs": [
        {
          "output_type": "stream",
          "name": "stderr",
          "text": [
            "\r  0%|          | 0/6 [00:00<?, ?it/s]/usr/local/lib/python3.8/dist-packages/torch/nn/modules/loss.py:536: UserWarning: Using a target size (torch.Size([])) that is different to the input size (torch.Size([1, 1, 55])). This will likely lead to incorrect results due to broadcasting. Please ensure they have the same size.\n",
            "  return F.mse_loss(input, target, reduction=self.reduction)\n",
            "100%|██████████| 6/6 [57:06<00:00, 571.04s/it]\n"
          ]
        },
        {
          "output_type": "display_data",
          "data": {
            "text/plain": [
              "<Figure size 432x288 with 1 Axes>"
            ],
            "image/png": "[encoded data removed]"
          },
          "metadata": {
            "needs_background": "light"
          }
        }
      ]
    },
    {
      "cell_type": "code",
      "source": [
        "# Evaluate the LSTM model\n",
        "mse = 0\n",
        "\n",
        "with torch.no_grad():\n",
        "    # Initialize the hidden state and the cell state\n",
        "    # The hidden state and the cell state reset to zero for every epoch\n",
        "    hs = torch.zeros(1, 1, hidden_size)\n",
        "    cs = torch.zeros(1, 1, hidden_size)\n",
        "\n",
        "    for data, label in test_loader:\n",
        "        \n",
        "        hidden = (hs, cs)\n",
        "        # One-hot encode our data and make them Torch tensors\n",
        "        data = one_hot_encode(data, len(chars))\n",
        "        data = torch.from_numpy(data)\n",
        "        data.requires_grad = True\n",
        "\n",
        "        # Run the forward pass\n",
        "        output, hidden = lstm(data.float(), hidden)\n",
        "        output = fc(hidden[-1])\n",
        "        output = softmax(output)\n",
        "        predicted = torch.argmax(output.data)\n",
        "\n",
        "        hs = hs.detach()\n",
        "        cs = cs.detach()\n",
        "\n",
        "        mse += ((output - label)**2).mean().item()\n",
        "\n",
        "mse /= len(test_loader)\n",
        "print('Test MSE: {}'.format(mse))"
      ],
      "metadata": {
        "colab": {
          "base_uri": "https://localhost:8080/"
        },
        "id": "5iwnfuncCAzd",
        "outputId": "2d23480b-943e-46c6-c99f-88851f795a4a"
      },
      "execution_count": 482,
      "outputs": [
        {
          "output_type": "stream",
          "name": "stdout",
          "text": [
            "Test MSE: 746.794254680872\n"
          ]
        }
      ]
    },
    {
      "cell_type": "code",
      "source": [
        "model_dante = 'lstm_6_epoch.net'\n",
        "\n",
        "checkpoint = {'n_hidden': hidden_size,\n",
        "              'n_layers': n_layers,\n",
        "              'state_dict': lstm.state_dict(),\n",
        "              'tokens': len(chars)}\n",
        "\n",
        "with open(model_dante, 'wb') as f:\n",
        "    torch.save(checkpoint, f)"
      ],
      "metadata": {
        "id": "4l0vTfBxIBQY"
      },
      "execution_count": 483,
      "outputs": []
    },
    {
      "cell_type": "code",
      "source": [
        "# Here we have loaded in a model that trained over 20 epochs `rnn_20_epoch.net`\n",
        "with open('lstm_6_epoch.net', 'rb') as f:\n",
        "    checkpoint = torch.load(f)\n",
        "    \n",
        "loaded = torch.nn.LSTM(checkpoint['tokens'], checkpoint['n_hidden'], checkpoint['n_layers'])\n",
        "loaded.load_state_dict(checkpoint['state_dict'])"
      ],
      "metadata": {
        "colab": {
          "base_uri": "https://localhost:8080/"
        },
        "id": "l-VhCu_ZILTp",
        "outputId": "28d3aff6-bee5-43dd-9a1c-b8f1a84e9530"
      },
      "execution_count": 484,
      "outputs": [
        {
          "output_type": "execute_result",
          "data": {
            "text/plain": [
              "<All keys matched successfully>"
            ]
          },
          "metadata": {},
          "execution_count": 484
        }
      ]
    },
    {
      "cell_type": "code",
      "source": [
        "test_data_new = sequence_data[160000:160100]\n",
        "test_labels_new = sequence_labels[160000:160100]"
      ],
      "metadata": {
        "id": "Evl5gv8NbVz6"
      },
      "execution_count": 485,
      "outputs": []
    },
    {
      "cell_type": "code",
      "source": [
        "# Split the data into training and testing sets\n",
        "test_data_new = TensorDataset(torch.from_numpy(test_data_new), torch.from_numpy(test_labels_new))\n",
        "test_loader_new= DataLoader(test_data_new, batch_size=1, shuffle=False)"
      ],
      "metadata": {
        "id": "F3iHfZAKbf89"
      },
      "execution_count": 486,
      "outputs": []
    },
    {
      "cell_type": "code",
      "source": [
        "output_list = []\n",
        "\n",
        "for i, (data, label) in enumerate(test_loader_new):\n",
        "  hidden = (hs, cs)\n",
        "  # One-hot encode our data and make them Torch tensors\n",
        "  data = one_hot_encode(data, len(chars))\n",
        "  data = torch.from_numpy(data)\n",
        "  data.requires_grad = True\n",
        "\n",
        "  # Run the forward pass\n",
        "  output, hidden = lstm(data.float(), hidden)\n",
        "  output = fc(hidden[-1])\n",
        "  output = softmax(output)\n",
        "  predicted = torch.argmax(output.data)\n",
        "  output_list.append(int(predicted))"
      ],
      "metadata": {
        "id": "GyabA_7MXL4J"
      },
      "execution_count": 487,
      "outputs": []
    },
    {
      "cell_type": "code",
      "source": [
        "output_list_keys = []\n",
        "for key in output_list:\n",
        "    output_list_keys.append(int2char[key])\n",
        "print(output_list_keys[:100])"
      ],
      "metadata": {
        "colab": {
          "base_uri": "https://localhost:8080/"
        },
        "id": "gXELE9Z4kWPr",
        "outputId": "762c1a69-35ae-4027-9cf4-efa10c68203c"
      },
      "execution_count": 489,
      "outputs": [
        {
          "output_type": "stream",
          "name": "stdout",
          "text": [
            "['h', '`', '`', '`', '`', 'h', '`', '`', '`', '`', 'k', 'k', 'h', '`', '`', '`', '`', 'h', 'k', 'k', 'k', 'k', '`', '`', '`', '.', '`', '`', '`', '`', '`', '`', '`', '`', '`', '`', 'k', 'k', 'k', '`', '`', '`', '.', 'k', '`', '`', 'k', 'k', 'k', '`', '`', '`', '`', 'k', 'k', 'k', 'h', '`', '`', '`', '`', '`', '`', '`', '`', 'k', '`', '`', '`', '`', '`', '`', '`', '`', '`', 'h', '`', '`', '`', '`', 'k', 'k', 'k', '`', '`', '`', 'k', 'k', 'k', '`', '`', '`', '`', '`', '`', '`', '`', '`', '`', '`']\n"
          ]
        }
      ]
    }
  ]
}