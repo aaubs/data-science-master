{
  "nbformat": 4,
  "nbformat_minor": 0,
  "metadata": {
    "colab": {
      "provenance": [],
      "authorship_tag": "ABX9TyOzX/vNWoh1B5CaxAQWGAtm",
      "include_colab_link": true
    },
    "kernelspec": {
      "name": "python3",
      "display_name": "Python 3"
    },
    "language_info": {
      "name": "python"
    }
  },
  "cells": [
    {
      "cell_type": "markdown",
      "metadata": {
        "id": "view-in-github",
        "colab_type": "text"
      },
      "source": [
        "<a href=\"https://colab.research.google.com/github/aaubs/ds-master/blob/main/notebooks/M3_agent_5_v1.ipynb\" target=\"_parent\"><img src=\"https://colab.research.google.com/assets/colab-badge.svg\" alt=\"Open In Colab\"/></a>"
      ]
    },
    {
      "cell_type": "code",
      "source": [
        "!pip install langchain openai langchain_openai langchain_community --q"
      ],
      "metadata": {
        "colab": {
          "base_uri": "https://localhost:8080/"
        },
        "id": "euW9-fYXlNaX",
        "outputId": "92baff7a-8728-411d-b1ab-b66690fd67c4"
      },
      "execution_count": null,
      "outputs": [
        {
          "output_type": "stream",
          "name": "stdout",
          "text": [
            "\u001b[?25l   \u001b[90m━━━━━━━━━━━━━━━━━━━━━━━━━━━━━━━━━━━━━━━━\u001b[0m \u001b[32m0.0/50.4 kB\u001b[0m \u001b[31m?\u001b[0m eta \u001b[36m-:--:--\u001b[0m\r\u001b[2K   \u001b[90m━━━━━━━━━━━━━━━━━━━━━━━━━━━━━━━━━━━━━━━━\u001b[0m \u001b[32m50.4/50.4 kB\u001b[0m \u001b[31m1.8 MB/s\u001b[0m eta \u001b[36m0:00:00\u001b[0m\n",
            "\u001b[?25h\u001b[?25l   \u001b[90m━━━━━━━━━━━━━━━━━━━━━━━━━━━━━━━━━━━━━━━━\u001b[0m \u001b[32m0.0/1.2 MB\u001b[0m \u001b[31m?\u001b[0m eta \u001b[36m-:--:--\u001b[0m\r\u001b[2K   \u001b[91m━━━━━━━━━━━━━\u001b[0m\u001b[91m╸\u001b[0m\u001b[90m━━━━━━━━━━━━━━━━━━━━━━━━━━\u001b[0m \u001b[32m0.4/1.2 MB\u001b[0m \u001b[31m14.2 MB/s\u001b[0m eta \u001b[36m0:00:01\u001b[0m\r\u001b[2K   \u001b[90m━━━━━━━━━━━━━━━━━━━━━━━━━━━━━━━━━━━━━━━━\u001b[0m \u001b[32m1.2/1.2 MB\u001b[0m \u001b[31m17.3 MB/s\u001b[0m eta \u001b[36m0:00:00\u001b[0m\n",
            "\u001b[?25h"
          ]
        }
      ]
    },
    {
      "cell_type": "code",
      "source": [
        "from langchain.llms import OpenAI\n",
        "from getpass import getpass\n",
        "\n",
        "OPENAI_API_KEY = getpass(\"Enter your OpenAI API key:\")\n",
        "\n",
        "llm = OpenAI(\n",
        "    openai_api_key=OPENAI_API_KEY,\n",
        "    temperature=0\n",
        ")"
      ],
      "metadata": {
        "colab": {
          "base_uri": "https://localhost:8080/"
        },
        "id": "x30L0_aUlSnC",
        "outputId": "7cfab640-0557-4f56-fd44-24b40ada9cdb"
      },
      "execution_count": null,
      "outputs": [
        {
          "name": "stdout",
          "output_type": "stream",
          "text": [
            "Enter your OpenAI API key:··········\n"
          ]
        },
        {
          "output_type": "stream",
          "name": "stderr",
          "text": [
            "<ipython-input-2-0a247b4d7c23>:6: LangChainDeprecationWarning: The class `OpenAI` was deprecated in LangChain 0.0.10 and will be removed in 1.0. An updated version of the class exists in the :class:`~langchain-openai package and should be used instead. To use it run `pip install -U :class:`~langchain-openai` and import as `from :class:`~langchain_openai import OpenAI``.\n",
            "  llm = OpenAI(\n"
          ]
        }
      ]
    },
    {
      "cell_type": "code",
      "execution_count": null,
      "metadata": {
        "id": "f9XkDxyVlHuJ"
      },
      "outputs": [],
      "source": [
        "from langchain.agents import AgentType, initialize_agent\n",
        "from langchain_community.tools.yahoo_finance_news import YahooFinanceNewsTool\n",
        "from langchain_openai import ChatOpenAI\n",
        "\n",
        "tools = [YahooFinanceNewsTool()]\n",
        "agent_chain = initialize_agent(\n",
        "    tools,\n",
        "    llm,\n",
        "    agent=AgentType.ZERO_SHOT_REACT_DESCRIPTION,\n",
        "    verbose=True,\n",
        "    max_iterations=3\n",
        ")"
      ]
    },
    {
      "cell_type": "code",
      "source": [
        "agent_chain.invoke(\n",
        "    \"What happened today with Microsoft stocks?\",\n",
        ")"
      ],
      "metadata": {
        "colab": {
          "base_uri": "https://localhost:8080/"
        },
        "id": "qh0nRy2slugJ",
        "outputId": "bc51a2c1-bf0a-4355-b2d8-242448a713d7"
      },
      "execution_count": null,
      "outputs": [
        {
          "output_type": "stream",
          "name": "stdout",
          "text": [
            "\n",
            "\n",
            "\u001b[1m> Entering new AgentExecutor chain...\u001b[0m\n",
            "\u001b[32;1m\u001b[1;3m I should use yahoo_finance_news to find financial news about Microsoft.\n",
            "Action: yahoo_finance_news\n",
            "Action Input: MSFT\u001b[0m\n",
            "Observation: \u001b[36;1m\u001b[1;3mWe Like Microsoft's (NASDAQ:MSFT) Returns And Here's How They're Trending\n",
            "If you're looking for a multi-bagger, there's a few things to keep an eye out for. Typically, we'll want to notice a...\n",
            "\n",
            "Microsoft Corporation (MSFT): Jefferies Affirms Confidence in AI’s Long-Term Potential Despite Investment Concerns\n",
            "We recently compiled a list of the 15 AI Stocks That Are Dominating Headlines. In this article, we are going to take a look at where Microsoft Corporation (NASDAQ:MSFT) stands against the other AI stocks that are dominating headlines. The European Union recently released the initial draft for the general-purpose AI code of practice under the […]\n",
            "\n",
            "Microsoft Corp (MSFT) Faces Legal Challenge from Elon Musk Over AI Competition\n",
            "We recently published a list of 15 AI News Updates Taking Wall Street By Storm. In this article, we are going to take a look at where Microsoft Corporation (NASDAQ:MSFT) stands against other AI news updates taking Wall Street by storm. xAI, the AI startup owned by Elon Musk, is raising more than $6 billion […]\u001b[0m\n",
            "Thought:\u001b[32;1m\u001b[1;3m I now know the final answer\n",
            "Final Answer: According to yahoo_finance_news, there were several news articles about Microsoft's stocks today, including updates on their returns and long-term potential in AI, as well as a legal challenge from Elon Musk's AI startup.\u001b[0m\n",
            "\n",
            "\u001b[1m> Finished chain.\u001b[0m\n"
          ]
        },
        {
          "output_type": "execute_result",
          "data": {
            "text/plain": [
              "{'input': 'What happened today with Microsoft stocks?',\n",
              " 'output': \"According to yahoo_finance_news, there were several news articles about Microsoft's stocks today, including updates on their returns and long-term potential in AI, as well as a legal challenge from Elon Musk's AI startup.\"}"
            ]
          },
          "metadata": {},
          "execution_count": 6
        }
      ]
    }
  ]
}