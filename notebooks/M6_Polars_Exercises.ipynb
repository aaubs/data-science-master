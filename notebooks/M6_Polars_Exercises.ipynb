{
  "nbformat": 4,
  "nbformat_minor": 0,
  "metadata": {
    "colab": {
      "provenance": [],
      "authorship_tag": "ABX9TyNgSLI2TtwfO5AhxDt0UpE6",
      "include_colab_link": true
    },
    "kernelspec": {
      "name": "python3",
      "display_name": "Python 3"
    },
    "language_info": {
      "name": "python"
    }
  },
  "cells": [
    {
      "cell_type": "markdown",
      "metadata": {
        "id": "view-in-github",
        "colab_type": "text"
      },
      "source": [
        "<a href=\"https://colab.research.google.com/github/aaubs/ds-master/blob/main/notebooks/M6_Polars_Exercises.ipynb\" target=\"_parent\"><img src=\"https://colab.research.google.com/assets/colab-badge.svg\" alt=\"Open In Colab\"/></a>"
      ]
    },
    {
      "cell_type": "markdown",
      "source": [
        "###Exercise 1:\n",
        "Read in the crime dataset from a CSV file using Polars and display the first 5 rows of the resulting DataFrame."
      ],
      "metadata": {
        "id": "CQ15U2qHhrXw"
      }
    },
    {
      "cell_type": "code",
      "source": [
        "!pip install polars --q"
      ],
      "metadata": {
        "colab": {
          "base_uri": "https://localhost:8080/"
        },
        "id": "zkj2noq1h-gx",
        "outputId": "5c86d8a3-c577-4c55-84a2-262e68be44ee"
      },
      "execution_count": null,
      "outputs": [
        {
          "output_type": "stream",
          "name": "stdout",
          "text": [
            "\u001b[2K     \u001b[90m━━━━━━━━━━━━━━━━━━━━━━━━━━━━━━━━━━━━━━━━\u001b[0m \u001b[32m16.6/16.6 MB\u001b[0m \u001b[31m50.7 MB/s\u001b[0m eta \u001b[36m0:00:00\u001b[0m\n",
            "\u001b[?25h"
          ]
        }
      ]
    },
    {
      "cell_type": "code",
      "execution_count": null,
      "metadata": {
        "colab": {
          "base_uri": "https://localhost:8080/"
        },
        "id": "nctCpPnjhl51",
        "outputId": "1b8dfac0-e82a-4cf6-d399-e926527abe91"
      },
      "outputs": [
        {
          "output_type": "stream",
          "name": "stdout",
          "text": [
            "shape: (5, 22)\n",
            "┌──────────┬───────────┬────────────┬───────────┬───┬──────────┬───────────┬───────────┬───────────┐\n",
            "│ ID       ┆ Case      ┆ Date       ┆ Block     ┆ … ┆ Updated  ┆ Latitude  ┆ Longitude ┆ Location  │\n",
            "│ ---      ┆ Number    ┆ ---        ┆ ---       ┆   ┆ On       ┆ ---       ┆ ---       ┆ ---       │\n",
            "│ i64      ┆ ---       ┆ str        ┆ str       ┆   ┆ ---      ┆ f64       ┆ f64       ┆ str       │\n",
            "│          ┆ str       ┆            ┆           ┆   ┆ str      ┆           ┆           ┆           │\n",
            "╞══════════╪═══════════╪════════════╪═══════════╪═══╪══════════╪═══════════╪═══════════╪═══════════╡\n",
            "│ 12757446 ┆ JF313117  ┆ 07/08/2022 ┆ 087XX S   ┆ … ┆ 11/12/20 ┆ 41.734817 ┆ -87.67059 ┆ (41.73481 │\n",
            "│          ┆           ┆ 10:38:00   ┆ WINCHESTE ┆   ┆ 22       ┆           ┆ 6         ┆ 7155, -87 │\n",
            "│          ┆           ┆ AM         ┆ R AVE     ┆   ┆ 03:46:21 ┆           ┆           ┆ .67059564 │\n",
            "│          ┆           ┆            ┆           ┆   ┆ PM       ┆           ┆           ┆ 7)        │\n",
            "│ 12755229 ┆ JF310109  ┆ 07/08/2022 ┆ 056XX N   ┆ … ┆ 11/12/20 ┆ 41.983491 ┆ -87.71132 ┆ (41.98349 │\n",
            "│          ┆           ┆ 03:21:00   ┆ SPAULDING ┆   ┆ 22       ┆           ┆ 4         ┆ 0742, -87 │\n",
            "│          ┆           ┆ AM         ┆ AVE       ┆   ┆ 03:46:21 ┆           ┆           ┆ .71132442 │\n",
            "│          ┆           ┆            ┆           ┆   ┆ PM       ┆           ┆           ┆ 1)        │\n",
            "│ 12763369 ┆ JF320208  ┆ 07/16/2022 ┆ 038XX N   ┆ … ┆ 11/12/20 ┆ 41.951624 ┆ -87.65445 ┆ (41.95162 │\n",
            "│          ┆           ┆ 10:55:00   ┆ SHEFFIELD ┆   ┆ 22       ┆           ┆ 8         ┆ 3924, -87 │\n",
            "│          ┆           ┆ PM         ┆ AVE       ┆   ┆ 03:46:21 ┆           ┆           ┆ .65445848 │\n",
            "│          ┆           ┆            ┆           ┆   ┆ PM       ┆           ┆           ┆ 6)        │\n",
            "│ 12766036 ┆ JF323691  ┆ 07/19/2022 ┆ 113XX S   ┆ … ┆ 11/12/20 ┆ 41.688155 ┆ -87.63619 ┆ (41.68815 │\n",
            "│          ┆           ┆ 04:00:00   ┆ PARNELL   ┆   ┆ 22       ┆           ┆ 9         ┆ 4968, -87 │\n",
            "│          ┆           ┆ PM         ┆ AVE       ┆   ┆ 03:46:21 ┆           ┆           ┆ .63619864 │\n",
            "│          ┆           ┆            ┆           ┆   ┆ PM       ┆           ┆           ┆ 5)        │\n",
            "│ 12758668 ┆ JF314314  ┆ 07/12/2022 ┆ 044XX W   ┆ … ┆ 11/12/20 ┆ 41.897926 ┆ -87.73671 ┆ (41.89792 │\n",
            "│          ┆           ┆ 06:30:00   ┆ WALTON ST ┆   ┆ 22       ┆           ┆           ┆ 6219, -87 │\n",
            "│          ┆           ┆ AM         ┆           ┆   ┆ 03:46:21 ┆           ┆           ┆ .73671022 │\n",
            "│          ┆           ┆            ┆           ┆   ┆ PM       ┆           ┆           ┆ 3)        │\n",
            "└──────────┴───────────┴────────────┴───────────┴───┴──────────┴───────────┴───────────┴───────────┘\n"
          ]
        }
      ],
      "source": []
    },
    {
      "cell_type": "markdown",
      "source": [
        "###Exercise 2: \n",
        "Select only the columns 'ID', 'Date', and 'Primary Type' from the crime dataset using Polars and display the resulting DataFrame."
      ],
      "metadata": {
        "id": "8qpgBeAViH0h"
      }
    },
    {
      "cell_type": "code",
      "source": [],
      "metadata": {
        "colab": {
          "base_uri": "https://localhost:8080/"
        },
        "id": "GUYDc9A2h58i",
        "outputId": "3aa8cb99-94ab-44d6-d59a-474e4db78998"
      },
      "execution_count": null,
      "outputs": [
        {
          "output_type": "stream",
          "name": "stdout",
          "text": [
            "shape: (5, 3)\n",
            "┌──────────┬────────────────────────┬────────────────────┐\n",
            "│ ID       ┆ Date                   ┆ Primary Type       │\n",
            "│ ---      ┆ ---                    ┆ ---                │\n",
            "│ i64      ┆ str                    ┆ str                │\n",
            "╞══════════╪════════════════════════╪════════════════════╡\n",
            "│ 12757446 ┆ 07/08/2022 10:38:00 AM ┆ THEFT              │\n",
            "│ 12755229 ┆ 07/08/2022 03:21:00 AM ┆ DECEPTIVE PRACTICE │\n",
            "│ 12763369 ┆ 07/16/2022 10:55:00 PM ┆ ROBBERY            │\n",
            "│ 12766036 ┆ 07/19/2022 04:00:00 PM ┆ KIDNAPPING         │\n",
            "│ 12758668 ┆ 07/12/2022 06:30:00 AM ┆ BURGLARY           │\n",
            "└──────────┴────────────────────────┴────────────────────┘\n"
          ]
        }
      ]
    },
    {
      "cell_type": "markdown",
      "source": [
        "##Exercise 3: \n",
        "\n",
        "Filter the crime dataset to only include rows where the 'Primary Type' column is 'THEFT' using Polars and display the resulting DataFrame."
      ],
      "metadata": {
        "id": "QFKuBO7_kSO8"
      }
    },
    {
      "cell_type": "code",
      "source": [
        "\n"
      ],
      "metadata": {
        "colab": {
          "base_uri": "https://localhost:8080/"
        },
        "id": "lR2_73BYiVOj",
        "outputId": "72cb16ba-3236-4968-8745-7ed0816dc4d5"
      },
      "execution_count": null,
      "outputs": [
        {
          "output_type": "stream",
          "name": "stdout",
          "text": [
            "shape: (5, 22)\n",
            "┌──────────┬───────────┬────────────┬───────────┬───┬──────────┬───────────┬───────────┬───────────┐\n",
            "│ ID       ┆ Case      ┆ Date       ┆ Block     ┆ … ┆ Updated  ┆ Latitude  ┆ Longitude ┆ Location  │\n",
            "│ ---      ┆ Number    ┆ ---        ┆ ---       ┆   ┆ On       ┆ ---       ┆ ---       ┆ ---       │\n",
            "│ i64      ┆ ---       ┆ str        ┆ str       ┆   ┆ ---      ┆ f64       ┆ f64       ┆ str       │\n",
            "│          ┆ str       ┆            ┆           ┆   ┆ str      ┆           ┆           ┆           │\n",
            "╞══════════╪═══════════╪════════════╪═══════════╪═══╪══════════╪═══════════╪═══════════╪═══════════╡\n",
            "│ 12757446 ┆ JF313117  ┆ 07/08/2022 ┆ 087XX S   ┆ … ┆ 11/12/20 ┆ 41.734817 ┆ -87.67059 ┆ (41.73481 │\n",
            "│          ┆           ┆ 10:38:00   ┆ WINCHESTE ┆   ┆ 22       ┆           ┆ 6         ┆ 7155, -87 │\n",
            "│          ┆           ┆ AM         ┆ R AVE     ┆   ┆ 03:46:21 ┆           ┆           ┆ .67059564 │\n",
            "│          ┆           ┆            ┆           ┆   ┆ PM       ┆           ┆           ┆ 7)        │\n",
            "│ 12759104 ┆ JF315164  ┆ 07/12/2022 ┆ 012XX N   ┆ … ┆ 11/12/20 ┆ 41.903891 ┆ -87.68827 ┆ (41.90389 │\n",
            "│          ┆           ┆ 01:00:00   ┆ ARTESIAN  ┆   ┆ 22       ┆           ┆ 9         ┆ 1052, -87 │\n",
            "│          ┆           ┆ AM         ┆ AVE       ┆   ┆ 03:46:21 ┆           ┆           ┆ .68827893 │\n",
            "│          ┆           ┆            ┆           ┆   ┆ PM       ┆           ┆           ┆ 7)        │\n",
            "│ 12755673 ┆ JF310959  ┆ 07/07/2022 ┆ 032XX W   ┆ … ┆ 11/12/20 ┆ 41.918343 ┆ -87.70776 ┆ (41.91834 │\n",
            "│          ┆           ┆ 09:00:00   ┆ MC LEAN   ┆   ┆ 22       ┆           ┆ 9         ┆ 2987, -87 │\n",
            "│          ┆           ┆ AM         ┆ AVE       ┆   ┆ 03:46:21 ┆           ┆           ┆ .70776879 │\n",
            "│          ┆           ┆            ┆           ┆   ┆ PM       ┆           ┆           ┆ 2)        │\n",
            "│ 12762794 ┆ JF319639  ┆ 07/16/2022 ┆ 011XX N   ┆ … ┆ 11/12/20 ┆ 41.901247 ┆ -87.73364 ┆ (41.90124 │\n",
            "│          ┆           ┆ 12:00:00   ┆ KILDARE   ┆   ┆ 22       ┆           ┆ 5         ┆ 7249, -87 │\n",
            "│          ┆           ┆ PM         ┆ AVE       ┆   ┆ 03:46:21 ┆           ┆           ┆ .73364515 │\n",
            "│          ┆           ┆            ┆           ┆   ┆ PM       ┆           ┆           ┆ 7)        │\n",
            "│ 12755981 ┆ JF311353  ┆ 07/09/2022 ┆ 001XX S   ┆ … ┆ 11/12/20 ┆ 41.879926 ┆ -87.62772 ┆ (41.87992 │\n",
            "│          ┆           ┆ 04:51:00   ┆ STATE ST  ┆   ┆ 22       ┆           ┆ 1         ┆ 623, -87. │\n",
            "│          ┆           ┆ PM         ┆           ┆   ┆ 03:46:21 ┆           ┆           ┆ 627721389 │\n",
            "│          ┆           ┆            ┆           ┆   ┆ PM       ┆           ┆           ┆ )         │\n",
            "└──────────┴───────────┴────────────┴───────────┴───┴──────────┴───────────┴───────────┴───────────┘\n"
          ]
        }
      ]
    },
    {
      "cell_type": "markdown",
      "source": [
        "##Exercise 4: \n",
        "\n",
        "Group the crime dataset by 'Year' and count the number of occurrences for each year using Polars."
      ],
      "metadata": {
        "id": "sApBuVenlQak"
      }
    },
    {
      "cell_type": "code",
      "source": [],
      "metadata": {
        "colab": {
          "base_uri": "https://localhost:8080/"
        },
        "id": "TyOS_Jdakntt",
        "outputId": "e2f382e6-255e-4a8b-f5f6-d2c3f2988c25"
      },
      "execution_count": null,
      "outputs": [
        {
          "output_type": "stream",
          "name": "stdout",
          "text": [
            "shape: (1, 2)\n",
            "┌──────┬────────┐\n",
            "│ Year ┆ ID     │\n",
            "│ ---  ┆ ---    │\n",
            "│ i64  ┆ u32    │\n",
            "╞══════╪════════╡\n",
            "│ 2022 ┆ 215551 │\n",
            "└──────┴────────┘\n"
          ]
        }
      ]
    },
    {
      "cell_type": "markdown",
      "source": [
        "##Exercise 5: \n",
        "\n",
        "Group the crime dataset by both 'Year' and 'Primary Type' and count the number of occurrences for each combination using Polars."
      ],
      "metadata": {
        "id": "-R4YLsC-ln10"
      }
    },
    {
      "cell_type": "code",
      "source": [
        "\n"
      ],
      "metadata": {
        "colab": {
          "base_uri": "https://localhost:8080/"
        },
        "id": "eUiK8S0vlja0",
        "outputId": "0d84faf7-fc35-45f2-d96f-da4cbc96f6d4"
      },
      "execution_count": null,
      "outputs": [
        {
          "output_type": "stream",
          "name": "stdout",
          "text": [
            "shape: (5, 3)\n",
            "┌──────┬────────────────────────────┬───────┐\n",
            "│ Year ┆ Primary Type               ┆ ID    │\n",
            "│ ---  ┆ ---                        ┆ ---   │\n",
            "│ i64  ┆ str                        ┆ u32   │\n",
            "╞══════╪════════════════════════════╪═══════╡\n",
            "│ 2022 ┆ CRIMINAL DAMAGE            ┆ 24902 │\n",
            "│ 2022 ┆ NON-CRIMINAL               ┆ 4     │\n",
            "│ 2022 ┆ OFFENSE INVOLVING CHILDREN ┆ 1737  │\n",
            "│ 2022 ┆ CRIMINAL SEXUAL ASSAULT    ┆ 1418  │\n",
            "│ 2022 ┆ PUBLIC INDECENCY           ┆ 5     │\n",
            "└──────┴────────────────────────────┴───────┘\n"
          ]
        }
      ]
    },
    {
      "cell_type": "markdown",
      "source": [
        "##Exercise 7: \n",
        "\n",
        "Filter the crime dataset to only include rows where the 'Primary Type' column is 'THEFT' and the 'Arrest' column is 'TRUE' using Polars and display the resulting DataFrame."
      ],
      "metadata": {
        "id": "8qCovhVllzC8"
      }
    },
    {
      "cell_type": "code",
      "source": [],
      "metadata": {
        "colab": {
          "base_uri": "https://localhost:8080/"
        },
        "id": "P8fSCQjVlt5p",
        "outputId": "165758ff-26a7-46ce-bd19-592881fbc3aa"
      },
      "execution_count": null,
      "outputs": [
        {
          "output_type": "stream",
          "name": "stdout",
          "text": [
            "shape: (5, 22)\n",
            "┌──────────┬───────────┬────────────┬───────────┬───┬──────────┬───────────┬───────────┬───────────┐\n",
            "│ ID       ┆ Case      ┆ Date       ┆ Block     ┆ … ┆ Updated  ┆ Latitude  ┆ Longitude ┆ Location  │\n",
            "│ ---      ┆ Number    ┆ ---        ┆ ---       ┆   ┆ On       ┆ ---       ┆ ---       ┆ ---       │\n",
            "│ i64      ┆ ---       ┆ str        ┆ str       ┆   ┆ ---      ┆ f64       ┆ f64       ┆ str       │\n",
            "│          ┆ str       ┆            ┆           ┆   ┆ str      ┆           ┆           ┆           │\n",
            "╞══════════╪═══════════╪════════════╪═══════════╪═══╪══════════╪═══════════╪═══════════╪═══════════╡\n",
            "│ 12754056 ┆ JF309058  ┆ 07/07/2022 ┆ 011XX S   ┆ … ┆ 11/12/20 ┆ 41.868385 ┆ -87.63923 ┆ (41.86838 │\n",
            "│          ┆           ┆ 02:38:00   ┆ CANAL ST  ┆   ┆ 22       ┆           ┆           ┆ 5458, -87 │\n",
            "│          ┆           ┆ PM         ┆           ┆   ┆ 03:46:21 ┆           ┆           ┆ .63922971 │\n",
            "│          ┆           ┆            ┆           ┆   ┆ PM       ┆           ┆           ┆ 1)        │\n",
            "│ 12756901 ┆ JF312419  ┆ 07/10/2022 ┆ 039XX W   ┆ … ┆ 11/12/20 ┆ 41.924492 ┆ -87.72594 ┆ (41.92449 │\n",
            "│          ┆           ┆ 04:32:00   ┆ FULLERTON ┆   ┆ 22       ┆           ┆ 6         ┆ 1602, -87 │\n",
            "│          ┆           ┆ PM         ┆ AVE       ┆   ┆ 03:46:21 ┆           ┆           ┆ .72594596 │\n",
            "│          ┆           ┆            ┆           ┆   ┆ PM       ┆           ┆           ┆ 6)        │\n",
            "│ 12764050 ┆ JF321106  ┆ 07/17/2022 ┆ 0000X W   ┆ … ┆ 11/12/20 ┆ 41.736269 ┆ -87.62776 ┆ (41.73626 │\n",
            "│          ┆           ┆ 06:50:00   ┆ 87TH ST   ┆   ┆ 22       ┆           ┆ 8         ┆ 9116, -87 │\n",
            "│          ┆           ┆ PM         ┆           ┆   ┆ 03:46:21 ┆           ┆           ┆ .62776824 │\n",
            "│          ┆           ┆            ┆           ┆   ┆ PM       ┆           ┆           ┆ 3)        │\n",
            "│ 12763752 ┆ JF320876  ┆ 07/17/2022 ┆ 037XX N   ┆ … ┆ 11/12/20 ┆ 41.949054 ┆ -87.71400 ┆ (41.94905 │\n",
            "│          ┆           ┆ 02:00:00   ┆ BERNARD   ┆   ┆ 22       ┆           ┆ 8         ┆ 4475, -87 │\n",
            "│          ┆           ┆ PM         ┆ ST        ┆   ┆ 03:46:21 ┆           ┆           ┆ .71400830 │\n",
            "│          ┆           ┆            ┆           ┆   ┆ PM       ┆           ┆           ┆ 4)        │\n",
            "│ 12764695 ┆ JF321964  ┆ 07/18/2022 ┆ 037XX W   ┆ … ┆ 11/12/20 ┆ 41.84977  ┆ -87.71901 ┆ (41.84977 │\n",
            "│          ┆           ┆ 01:10:00   ┆ 23RD ST   ┆   ┆ 22       ┆           ┆ 5         ┆ 0102, -87 │\n",
            "│          ┆           ┆ PM         ┆           ┆   ┆ 03:46:21 ┆           ┆           ┆ .71901532 │\n",
            "│          ┆           ┆            ┆           ┆   ┆ PM       ┆           ┆           ┆ 2)        │\n",
            "└──────────┴───────────┴────────────┴───────────┴───┴──────────┴───────────┴───────────┴───────────┘\n"
          ]
        }
      ]
    },
    {
      "cell_type": "markdown",
      "source": [
        "##Exercise 7: \n",
        "\n",
        "Calculate the average 'Latitude' and 'Longitude' for the crime dataset using Polars."
      ],
      "metadata": {
        "id": "k-EJauMxl6gP"
      }
    },
    {
      "cell_type": "code",
      "source": [],
      "metadata": {
        "colab": {
          "base_uri": "https://localhost:8080/"
        },
        "id": "14rg_O7yl4Fd",
        "outputId": "d011f07d-5157-454e-a35a-d9849af770c9"
      },
      "execution_count": null,
      "outputs": [
        {
          "output_type": "stream",
          "name": "stdout",
          "text": [
            "Average Latitude: 41.84534165137465\n",
            "Average Longitude: -87.66844835693465\n"
          ]
        }
      ]
    },
    {
      "cell_type": "markdown",
      "source": [
        "##Exercise 8: \n",
        "\n",
        "Fill in missing values in the 'Latitude' and 'Longitude' columns of the crime dataset with the mean values of those columns using Polars."
      ],
      "metadata": {
        "id": "Q5OMiePdmDv2"
      }
    },
    {
      "cell_type": "code",
      "source": [],
      "metadata": {
        "colab": {
          "base_uri": "https://localhost:8080/"
        },
        "id": "eaMFsdFLoVi_",
        "outputId": "3496eef1-a7b5-4ddf-9bd9-7e70dd634597"
      },
      "execution_count": null,
      "outputs": [
        {
          "output_type": "stream",
          "name": "stderr",
          "text": [
            "<ipython-input-41-68192de5eb08>:2: DeprecationWarning: `DataFrame.with_column` has been renamed; this redirect is temporary, please use `.with_columns` instead\n",
            "  crime_df = crime_df.with_column(pl.col('Latitude').fill_null(avg_lat).alias('Latitude_mean'))\n",
            "<ipython-input-41-68192de5eb08>:3: DeprecationWarning: `DataFrame.with_column` has been renamed; this redirect is temporary, please use `.with_columns` instead\n",
            "  crime_df = crime_df.with_column(pl.col('Longitude').fill_null(avg_long).alias('Longitude_mean'))\n"
          ]
        }
      ]
    },
    {
      "cell_type": "markdown",
      "source": [
        "##Exercise 9: \n",
        "\n",
        "Save the filtered and cleaned crime dataset as a new CSV file using Polars.\n",
        "\n"
      ],
      "metadata": {
        "id": "HzljbjHupBDE"
      }
    },
    {
      "cell_type": "code",
      "source": [],
      "metadata": {
        "id": "Z75-3qGEmJv9"
      },
      "execution_count": null,
      "outputs": []
    }
  ]
}