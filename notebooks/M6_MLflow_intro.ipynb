{
  "nbformat": 4,
  "nbformat_minor": 0,
  "metadata": {
    "colab": {
      "provenance": [],
      "authorship_tag": "ABX9TyM07+JlDsqwoNNJMDqePLPv",
      "include_colab_link": true
    },
    "kernelspec": {
      "name": "python3",
      "display_name": "Python 3"
    },
    "language_info": {
      "name": "python"
    }
  },
  "cells": [
    {
      "cell_type": "markdown",
      "metadata": {
        "id": "view-in-github",
        "colab_type": "text"
      },
      "source": [
        "<a href=\"https://colab.research.google.com/github/aaubs/ds-master/blob/main/notebooks/M6_MLflow_intro.ipynb\" target=\"_parent\"><img src=\"https://colab.research.google.com/assets/colab-badge.svg\" alt=\"Open In Colab\"/></a>"
      ]
    },
    {
      "cell_type": "markdown",
      "source": [
        "MLflow is an open-source platform for managing the end-to-end machine learning lifecycle. It provides tools for tracking experiments, packaging and sharing code, and deploying models.\n",
        "\n",
        "MLflow provides a unified platform for managing the entire machine learning lifecycle, from experimentation to deployment. It helps to increase productivity, collaboration, and reproducibility in data science projects."
      ],
      "metadata": {
        "id": "Z2N3wsFADoo9"
      }
    },
    {
      "cell_type": "markdown",
      "source": [
        "Here are the main components of MLflow:\n",
        "\n",
        "> 1. Experiment Tracking: This component helps you to track your machine learning experiments by recording and visualizing metrics, parameters, and artifacts. It allows you to easily compare different runs and reproduce results.\n",
        "\n",
        "> 2. Model Packaging: This component provides a simple format for packaging data science code in a reusable and reproducible way. It also allows you to specify dependencies, such as libraries and data files, and to run code in different environments. This component provides a standardized way to package and deploy machine learning models. It supports a variety of popular frameworks, such as TensorFlow, PyTorch, and Scikit-learn, and provides tools for deploying models to a variety of platforms, such as Docker containers and cloud services.\n",
        "\n",
        "> 3. Model Registry: This component provides a centralized repository for managing and sharing machine learning models. It allows you to track model versions, assign permissions, and share models with other users."
      ],
      "metadata": {
        "id": "zAEAcF4PD4pJ"
      }
    },
    {
      "cell_type": "markdown",
      "source": [
        "###Experiment Tracking:\n"
      ],
      "metadata": {
        "id": "ZpQrCEVrUj0c"
      }
    },
    {
      "cell_type": "code",
      "source": [
        "!pip install mlflow --q"
      ],
      "metadata": {
        "colab": {
          "base_uri": "https://localhost:8080/"
        },
        "id": "OQnyRBkdUnq_",
        "outputId": "aeb24038-10f1-48dd-982b-5d244c9b03ed"
      },
      "execution_count": null,
      "outputs": [
        {
          "output_type": "stream",
          "name": "stdout",
          "text": [
            "\u001b[2K     \u001b[90m━━━━━━━━━━━━━━━━━━━━━━━━━━━━━━━━━━━━━━━━\u001b[0m \u001b[32m17.6/17.6 MB\u001b[0m \u001b[31m39.6 MB/s\u001b[0m eta \u001b[36m0:00:00\u001b[0m\n",
            "\u001b[2K     \u001b[90m━━━━━━━━━━━━━━━━━━━━━━━━━━━━━━━━━━━━━━\u001b[0m \u001b[32m184.3/184.3 kB\u001b[0m \u001b[31m10.0 MB/s\u001b[0m eta \u001b[36m0:00:00\u001b[0m\n",
            "\u001b[2K     \u001b[90m━━━━━━━━━━━━━━━━━━━━━━━━━━━━━━━━━━━━━━━\u001b[0m \u001b[32m212.3/212.3 kB\u001b[0m \u001b[31m9.1 MB/s\u001b[0m eta \u001b[36m0:00:00\u001b[0m\n",
            "\u001b[2K     \u001b[90m━━━━━━━━━━━━━━━━━━━━━━━━━━━━━━━━━━━━━━\u001b[0m \u001b[32m572.4/572.4 kB\u001b[0m \u001b[31m26.8 MB/s\u001b[0m eta \u001b[36m0:00:00\u001b[0m\n",
            "\u001b[2K     \u001b[90m━━━━━━━━━━━━━━━━━━━━━━━━━━━━━━━━━━━━━━━━\u001b[0m \u001b[32m79.5/79.5 kB\u001b[0m \u001b[31m4.8 MB/s\u001b[0m eta \u001b[36m0:00:00\u001b[0m\n",
            "\u001b[2K     \u001b[90m━━━━━━━━━━━━━━━━━━━━━━━━━━━━━━━━━━━━━━━\u001b[0m \u001b[32m147.5/147.5 kB\u001b[0m \u001b[31m8.4 MB/s\u001b[0m eta \u001b[36m0:00:00\u001b[0m\n",
            "\u001b[2K     \u001b[90m━━━━━━━━━━━━━━━━━━━━━━━━━━━━━━━━━━━━━━━━\u001b[0m \u001b[32m82.7/82.7 kB\u001b[0m \u001b[31m4.1 MB/s\u001b[0m eta \u001b[36m0:00:00\u001b[0m\n",
            "\u001b[?25h  Preparing metadata (setup.py) ... \u001b[?25l\u001b[?25hdone\n",
            "\u001b[2K     \u001b[90m━━━━━━━━━━━━━━━━━━━━━━━━━━━━━━━━━━━━━━━━\u001b[0m \u001b[32m78.7/78.7 kB\u001b[0m \u001b[31m3.6 MB/s\u001b[0m eta \u001b[36m0:00:00\u001b[0m\n",
            "\u001b[2K     \u001b[90m━━━━━━━━━━━━━━━━━━━━━━━━━━━━━━━━━━━━━━━━\u001b[0m \u001b[32m62.7/62.7 kB\u001b[0m \u001b[31m2.2 MB/s\u001b[0m eta \u001b[36m0:00:00\u001b[0m\n",
            "\u001b[?25h  Building wheel for databricks-cli (setup.py) ... \u001b[?25l\u001b[?25hdone\n"
          ]
        }
      ]
    },
    {
      "cell_type": "code",
      "source": [
        "import mlflow\n",
        "import numpy as np\n",
        "import pandas as pd\n",
        "from sklearn.metrics import mean_squared_error\n",
        "from sklearn.linear_model import Ridge\n",
        "\n",
        "mlflow.set_experiment('BostonHousing')\n",
        "\n",
        "# Start an MLflow run\n",
        "mlflow.start_run(run_name=\"run_2\", nested=True)\n",
        "\n",
        "# Log parameters\n",
        "mlflow.log_param(\"alpha\", 0.5)\n",
        "\n",
        "# Load data\n",
        "data = pd.read_csv(\"https://raw.githubusercontent.com/selva86/datasets/master/BostonHousing.csv\")\n",
        "\n",
        "# Split data into features and target\n",
        "X = data.drop(\"medv\", axis=1)\n",
        "y = data[\"medv\"]\n",
        "\n",
        "# Train a Ridge regression model\n",
        "model = Ridge(alpha=0.5)\n",
        "model.fit(X, y)\n",
        "\n",
        "# Log metrics\n",
        "y_pred = model.predict(X)\n",
        "mse = mean_squared_error(y, y_pred)\n",
        "mlflow.log_metric(\"mse\", mse)\n"
      ],
      "metadata": {
        "colab": {
          "base_uri": "https://localhost:8080/"
        },
        "id": "xwvVXxvhcYnh",
        "outputId": "df76455d-e183-4c08-cc0e-457eea7af8ea"
      },
      "execution_count": null,
      "outputs": [
        {
          "output_type": "stream",
          "name": "stderr",
          "text": [
            "2023/04/12 09:42:23 INFO mlflow.tracking.fluent: Experiment with name 'BostonHousing' does not exist. Creating a new experiment.\n"
          ]
        }
      ]
    },
    {
      "cell_type": "markdown",
      "source": [
        "In MLflow, an experiment is a named container for a set of runs. A run is a single execution of a machine learning training or inference process."
      ],
      "metadata": {
        "id": "VOON8Bx8HmXq"
      }
    },
    {
      "cell_type": "markdown",
      "source": [
        "###Model Packaging:\n"
      ],
      "metadata": {
        "id": "pZVqJreoVmmQ"
      }
    },
    {
      "cell_type": "code",
      "source": [
        "# Save the model\n",
        "mlflow.sklearn.save_model(model, \"model\")\n",
        "\n",
        "# End the MLflow run\n",
        "# mlflow.end_run()"
      ],
      "metadata": {
        "id": "A-V8q-1kUsmg"
      },
      "execution_count": null,
      "outputs": []
    },
    {
      "cell_type": "markdown",
      "source": [
        "####Model Registry:\n"
      ],
      "metadata": {
        "id": "i3HuKlzqVz1v"
      }
    },
    {
      "cell_type": "code",
      "source": [
        "# Register the model in the MLflow registry\n",
        "run_id_active = mlflow.active_run().info.run_id\n",
        "model_uri = \"runs:/\" + run_id_active + \"/model\"\n",
        "model_version = mlflow.register_model(model_uri, \"MyModel\")"
      ],
      "metadata": {
        "colab": {
          "base_uri": "https://localhost:8080/"
        },
        "id": "sxZpPHKCVzfq",
        "outputId": "e8031d94-9198-441b-8eec-bcd6ffd653e7"
      },
      "execution_count": null,
      "outputs": [
        {
          "output_type": "stream",
          "name": "stderr",
          "text": [
            "Successfully registered model 'MyModel'.\n",
            "2023/04/12 09:42:28 INFO mlflow.tracking._model_registry.client: Waiting up to 300 seconds for model version to finish creation.                     Model name: MyModel, version 1\n",
            "Created version '1' of model 'MyModel'.\n"
          ]
        }
      ]
    },
    {
      "cell_type": "code",
      "source": [
        "!mlflow experiments search -v all "
      ],
      "metadata": {
        "colab": {
          "base_uri": "https://localhost:8080/"
        },
        "id": "hiXPz2xReNE8",
        "outputId": "0b422235-a8ce-49a1-f580-072833d7b0de"
      },
      "execution_count": null,
      "outputs": [
        {
          "output_type": "stream",
          "name": "stdout",
          "text": [
            "Experiment Id       Name           Artifact Location                        \n",
            "------------------  -------------  -----------------------------------------\n",
            "0                   Default        file:///content/mlruns/0                 \n",
            "609375362595481804  BostonHousing  file:///content/mlruns/609375362595481804\n"
          ]
        }
      ]
    },
    {
      "cell_type": "code",
      "source": [
        "import mlflow\n",
        "\n",
        "# Set the name of the experiment\n",
        "experiment_name = \"BostonHousing\"\n",
        "\n",
        "# Get the experiment ID for the experiment with the specified name\n",
        "experiment_id = mlflow.get_experiment_by_name(experiment_name).experiment_id\n",
        "\n",
        "# Search for runs associated with the experiment ID\n",
        "runs = mlflow.search_runs(experiment_ids=experiment_id)\n",
        "\n",
        "# # Print information about each run\n",
        "# for run in runs:\n",
        "#     print(f\"Run {run.info.run_id} completed at {run.info.end_time} with status {run.info.status}\")\n"
      ],
      "metadata": {
        "id": "OVgCT8inLeyt"
      },
      "execution_count": null,
      "outputs": []
    },
    {
      "cell_type": "code",
      "source": [
        "runs"
      ],
      "metadata": {
        "id": "NC2qrUnCLm8d",
        "outputId": "45cf652b-76fe-4c6b-e339-501206b1b7b4",
        "colab": {
          "base_uri": "https://localhost:8080/",
          "height": 162
        }
      },
      "execution_count": null,
      "outputs": [
        {
          "output_type": "execute_result",
          "data": {
            "text/plain": [
              "                             run_id       experiment_id   status  \\\n",
              "0  52bec99a2dd145d19cbd2c9dcede1af2  609375362595481804  RUNNING   \n",
              "\n",
              "                                        artifact_uri  \\\n",
              "0  file:///content/mlruns/609375362595481804/52be...   \n",
              "\n",
              "                        start_time end_time  metrics.mse params.alpha  \\\n",
              "0 2023-04-12 09:42:24.111000+00:00     None    21.952713          0.5   \n",
              "\n",
              "  tags.mlflow.user                            tags.mlflow.source.name  \\\n",
              "0             root  /usr/local/lib/python3.9/dist-packages/ipykern...   \n",
              "\n",
              "  tags.mlflow.runName tags.mlflow.source.type  \n",
              "0               run_2                   LOCAL  "
            ],
            "text/html": [
              "\n",
              "  <div id=\"df-e428bf13-6355-489f-b7a7-9beac13d3586\">\n",
              "    <div class=\"colab-df-container\">\n",
              "      <div>\n",
              "<style scoped>\n",
              "    .dataframe tbody tr th:only-of-type {\n",
              "        vertical-align: middle;\n",
              "    }\n",
              "\n",
              "    .dataframe tbody tr th {\n",
              "        vertical-align: top;\n",
              "    }\n",
              "\n",
              "    .dataframe thead th {\n",
              "        text-align: right;\n",
              "    }\n",
              "</style>\n",
              "<table border=\"1\" class=\"dataframe\">\n",
              "  <thead>\n",
              "    <tr style=\"text-align: right;\">\n",
              "      <th></th>\n",
              "      <th>run_id</th>\n",
              "      <th>experiment_id</th>\n",
              "      <th>status</th>\n",
              "      <th>artifact_uri</th>\n",
              "      <th>start_time</th>\n",
              "      <th>end_time</th>\n",
              "      <th>metrics.mse</th>\n",
              "      <th>params.alpha</th>\n",
              "      <th>tags.mlflow.user</th>\n",
              "      <th>tags.mlflow.source.name</th>\n",
              "      <th>tags.mlflow.runName</th>\n",
              "      <th>tags.mlflow.source.type</th>\n",
              "    </tr>\n",
              "  </thead>\n",
              "  <tbody>\n",
              "    <tr>\n",
              "      <th>0</th>\n",
              "      <td>52bec99a2dd145d19cbd2c9dcede1af2</td>\n",
              "      <td>609375362595481804</td>\n",
              "      <td>RUNNING</td>\n",
              "      <td>file:///content/mlruns/609375362595481804/52be...</td>\n",
              "      <td>2023-04-12 09:42:24.111000+00:00</td>\n",
              "      <td>None</td>\n",
              "      <td>21.952713</td>\n",
              "      <td>0.5</td>\n",
              "      <td>root</td>\n",
              "      <td>/usr/local/lib/python3.9/dist-packages/ipykern...</td>\n",
              "      <td>run_2</td>\n",
              "      <td>LOCAL</td>\n",
              "    </tr>\n",
              "  </tbody>\n",
              "</table>\n",
              "</div>\n",
              "      <button class=\"colab-df-convert\" onclick=\"convertToInteractive('df-e428bf13-6355-489f-b7a7-9beac13d3586')\"\n",
              "              title=\"Convert this dataframe to an interactive table.\"\n",
              "              style=\"display:none;\">\n",
              "        \n",
              "  <svg xmlns=\"http://www.w3.org/2000/svg\" height=\"24px\"viewBox=\"0 0 24 24\"\n",
              "       width=\"24px\">\n",
              "    <path d=\"M0 0h24v24H0V0z\" fill=\"none\"/>\n",
              "    <path d=\"M18.56 5.44l.94 2.06.94-2.06 2.06-.94-2.06-.94-.94-2.06-.94 2.06-2.06.94zm-11 1L8.5 8.5l.94-2.06 2.06-.94-2.06-.94L8.5 2.5l-.94 2.06-2.06.94zm10 10l.94 2.06.94-2.06 2.06-.94-2.06-.94-.94-2.06-.94 2.06-2.06.94z\"/><path d=\"M17.41 7.96l-1.37-1.37c-.4-.4-.92-.59-1.43-.59-.52 0-1.04.2-1.43.59L10.3 9.45l-7.72 7.72c-.78.78-.78 2.05 0 2.83L4 21.41c.39.39.9.59 1.41.59.51 0 1.02-.2 1.41-.59l7.78-7.78 2.81-2.81c.8-.78.8-2.07 0-2.86zM5.41 20L4 18.59l7.72-7.72 1.47 1.35L5.41 20z\"/>\n",
              "  </svg>\n",
              "      </button>\n",
              "      \n",
              "  <style>\n",
              "    .colab-df-container {\n",
              "      display:flex;\n",
              "      flex-wrap:wrap;\n",
              "      gap: 12px;\n",
              "    }\n",
              "\n",
              "    .colab-df-convert {\n",
              "      background-color: #E8F0FE;\n",
              "      border: none;\n",
              "      border-radius: 50%;\n",
              "      cursor: pointer;\n",
              "      display: none;\n",
              "      fill: #1967D2;\n",
              "      height: 32px;\n",
              "      padding: 0 0 0 0;\n",
              "      width: 32px;\n",
              "    }\n",
              "\n",
              "    .colab-df-convert:hover {\n",
              "      background-color: #E2EBFA;\n",
              "      box-shadow: 0px 1px 2px rgba(60, 64, 67, 0.3), 0px 1px 3px 1px rgba(60, 64, 67, 0.15);\n",
              "      fill: #174EA6;\n",
              "    }\n",
              "\n",
              "    [theme=dark] .colab-df-convert {\n",
              "      background-color: #3B4455;\n",
              "      fill: #D2E3FC;\n",
              "    }\n",
              "\n",
              "    [theme=dark] .colab-df-convert:hover {\n",
              "      background-color: #434B5C;\n",
              "      box-shadow: 0px 1px 3px 1px rgba(0, 0, 0, 0.15);\n",
              "      filter: drop-shadow(0px 1px 2px rgba(0, 0, 0, 0.3));\n",
              "      fill: #FFFFFF;\n",
              "    }\n",
              "  </style>\n",
              "\n",
              "      <script>\n",
              "        const buttonEl =\n",
              "          document.querySelector('#df-e428bf13-6355-489f-b7a7-9beac13d3586 button.colab-df-convert');\n",
              "        buttonEl.style.display =\n",
              "          google.colab.kernel.accessAllowed ? 'block' : 'none';\n",
              "\n",
              "        async function convertToInteractive(key) {\n",
              "          const element = document.querySelector('#df-e428bf13-6355-489f-b7a7-9beac13d3586');\n",
              "          const dataTable =\n",
              "            await google.colab.kernel.invokeFunction('convertToInteractive',\n",
              "                                                     [key], {});\n",
              "          if (!dataTable) return;\n",
              "\n",
              "          const docLinkHtml = 'Like what you see? Visit the ' +\n",
              "            '<a target=\"_blank\" href=https://colab.research.google.com/notebooks/data_table.ipynb>data table notebook</a>'\n",
              "            + ' to learn more about interactive tables.';\n",
              "          element.innerHTML = '';\n",
              "          dataTable['output_type'] = 'display_data';\n",
              "          await google.colab.output.renderOutput(dataTable, element);\n",
              "          const docLink = document.createElement('div');\n",
              "          docLink.innerHTML = docLinkHtml;\n",
              "          element.appendChild(docLink);\n",
              "        }\n",
              "      </script>\n",
              "    </div>\n",
              "  </div>\n",
              "  "
            ]
          },
          "metadata": {},
          "execution_count": 7
        }
      ]
    },
    {
      "cell_type": "code",
      "source": [
        "import mlflow.pyfunc\n",
        "\n",
        "# Load the model from the registry\n",
        "\n",
        "model_uri = '/content/model'\n",
        "loaded_model = mlflow.pyfunc.load_model(model_uri)"
      ],
      "metadata": {
        "id": "v6LgbeBpV577"
      },
      "execution_count": null,
      "outputs": []
    },
    {
      "cell_type": "code",
      "source": [
        "import mlflow\n",
        "\n",
        "print(mlflow.__version__)"
      ],
      "metadata": {
        "colab": {
          "base_uri": "https://localhost:8080/"
        },
        "id": "i4-MBHQ-kovK",
        "outputId": "1db452ce-fd34-4e91-8a67-4449ccc7fa4d"
      },
      "execution_count": null,
      "outputs": [
        {
          "output_type": "stream",
          "name": "stdout",
          "text": [
            "2.2.2\n"
          ]
        }
      ]
    },
    {
      "cell_type": "code",
      "source": [
        "!mlflow deployments --help"
      ],
      "metadata": {
        "colab": {
          "base_uri": "https://localhost:8080/"
        },
        "id": "LJy37KZjk9L-",
        "outputId": "54f2cd88-a3e0-4127-9fdf-9e6dac8d2f75"
      },
      "execution_count": null,
      "outputs": [
        {
          "output_type": "stream",
          "name": "stdout",
          "text": [
            "Usage: mlflow deployments [OPTIONS] COMMAND\n",
            "                          [ARGS]...\n",
            "\n",
            "  Deploy MLflow models to custom targets. Run\n",
            "  `mlflow deployments help --target-name <target-\n",
            "  name>` for more details on the supported URI\n",
            "  format and config options for a given target.\n",
            "  Support is currently installed for deployment\n",
            "  to: sagemaker\n",
            "\n",
            "  See all supported deployment targets and\n",
            "  installation instructions in https://mlflow.org/\n",
            "  docs/latest/plugins.html#community-plugins\n",
            "\n",
            "  You can also write your own plugin for\n",
            "  deployment to a custom target. For instructions\n",
            "  on writing and distributing a plugin, see https:\n",
            "  //mlflow.org/docs/latest/plugins.html#writing-\n",
            "  your-own-mlflow-plugins.\n",
            "\n",
            "Options:\n",
            "  --help  Show this message and exit.\n",
            "\n",
            "Commands:\n",
            "  create           Deploy the model at...\n",
            "  create-endpoint  Create an endpoint with...\n",
            "  delete           Delete the deployment with...\n",
            "  delete-endpoint  Delete the specified...\n",
            "  explain          Generate explanations of...\n",
            "  get              Print a detailed...\n",
            "  get-endpoint     Get details for the...\n",
            "  help             Display additional help...\n",
            "  list             List the names of all...\n",
            "  list-endpoints   List all endpoints at the...\n",
            "  predict          Predict the results for...\n",
            "  run-local        Deploy the model locally.\n",
            "  update           Update the deployment with...\n",
            "  update-endpoint  Update the specified...\n"
          ]
        }
      ]
    },
    {
      "cell_type": "code",
      "source": [
        "# mlflow.create_experiment('BostonHousing')\n",
        "# # Get the experiment ID for the experiment with the specified name\n",
        "# experiment_id = mlflow.get_experiment_by_name('BostonHousing').experiment_id\n",
        "# experiment_id = experiment.experiment_id\n",
        "\n",
        "# # Search for runs in the experiment and sort them by start time\n",
        "# runs = mlflow.search_runs(experiment_ids=[experiment_id], order_by=[\"start_time desc\"])\n",
        "\n",
        "# # Get the run ID of the most recent run\n",
        "# run_id = runs.iloc[0][\"run_id\"]"
      ],
      "metadata": {
        "id": "HFH2BDXg1n6W"
      },
      "execution_count": null,
      "outputs": []
    }
  ]
}