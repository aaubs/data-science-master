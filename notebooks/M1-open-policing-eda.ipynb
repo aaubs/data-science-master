{
  "nbformat": 4,
  "nbformat_minor": 0,
  "metadata": {
    "colab": {
      "name": "SDS-S1/2-EDA.ipynb",
      "provenance": [],
      "collapsed_sections": [
        "fX-m3Uoi3C22"
      ],
      "include_colab_link": true
    },
    "kernelspec": {
      "name": "python3",
      "display_name": "Python 3"
    }
  },
  "cells": [
    {
      "cell_type": "markdown",
      "metadata": {
        "id": "view-in-github",
        "colab_type": "text"
      },
      "source": [
        "<a href=\"https://colab.research.google.com/github/aaubs/ds-master/blob/main/notebooks/M1-open-policing-eda.ipynb\" target=\"_parent\"><img src=\"https://colab.research.google.com/assets/colab-badge.svg\" alt=\"Open In Colab\"/></a>"
      ]
    },
    {
      "cell_type": "markdown",
      "metadata": {
        "id": "jtXMmlWm3C2B"
      },
      "source": [
        "# Explorative analysis and data visualization\n",
        "\n",
        "In this session we will explore a **real** dataset from the Stanford Open Policing Project. \n",
        "The project is collecting and standardizing data on vehicle and pedestrian stops from law enforcement departments across the US — and making that information freely available. They have already gathered 130 million records from 31 state police agencies and have begun collecting data on stops from law enforcement agencies in major cities, as well.\n",
        "\n",
        "You can read more about the project [here](https://openpolicing.stanford.edu)\n",
        "\n",
        "![open police](https://openpolicing.stanford.edu/img/logo_large_w_padding.png?width=20pc)\n",
        "\n",
        "\n",
        "#### Exploratory data analysis\n",
        "\n",
        "You can read more about EDA with pandas [here](https://www.datacamp.com/community/tutorials/exploratory-data-analysis-python)\n",
        "\n",
        "## Agenda\n",
        "\n",
        "- Import and examine the data for one US state\n",
        "- Preprocess the data (cleaning, adjusting datatypes)\n",
        "- Calculate some simple statistics on different levels of aggregation"
      ]
    },
    {
      "cell_type": "markdown",
      "metadata": {
        "id": "9ZbWTeff3C2F"
      },
      "source": [
        "## Let's get started"
      ]
    },
    {
      "cell_type": "markdown",
      "metadata": {
        "id": "CqIhB_tW3C2G"
      },
      "source": [
        "First we'll download the latest dataset directly from the Stanford server. To do that we use Jupyter's **!** command line magic. Passing a `!` in a code cell, will send the command to shell rather than Python or R. `!wget` will open the GNU Wget Unix/Linux program that downloads content from web servers."
      ]
    },
    {
      "cell_type": "markdown",
      "metadata": {
        "id": "JYE4REYp3C2Q"
      },
      "source": [
        "Let's import pandas as pd. The appbriviation pd is a convention. We also load the data using pandas's `read_csv` command. Pandas will try to infer the appropriate datatypes for all columns. We set the `low_memory` argument to `False`, which is often done in cases with possible mixed datatypes. By the way: You if you place the cursor after the '(' after a command and use string+tab, you can read the docummentation for the particular command or function."
      ]
    },
    {
      "cell_type": "code",
      "metadata": {
        "id": "vWauWmHw3C2S"
      },
      "source": [
        "import pandas as pd"
      ],
      "execution_count": null,
      "outputs": []
    },
    {
      "cell_type": "code",
      "metadata": {
        "id": "iJ-AXJPq3C2U"
      },
      "source": [
        "data = pd.read_csv('https://sds-aau.github.io/SDS-master/M1/data/RI-clean.csv.gz', low_memory=False)"
      ],
      "execution_count": null,
      "outputs": []
    },
    {
      "cell_type": "markdown",
      "metadata": {
        "id": "S7yABDPS3C2W"
      },
      "source": [
        "We can examine the dataset in several ways, for instance, by checking the first couple of rows or by printing the \"info\"."
      ]
    },
    {
      "cell_type": "code",
      "metadata": {
        "id": "eCiieon-3C2X"
      },
      "source": [
        "#Display the first 5 (or more/less rows) of each column\n",
        "data.head()"
      ],
      "execution_count": null,
      "outputs": []
    },
    {
      "cell_type": "markdown",
      "metadata": {
        "id": "KauiElMH3C2Z"
      },
      "source": [
        "- Each row is one traffic stop\n",
        "- NaN are missing values"
      ]
    },
    {
      "cell_type": "code",
      "metadata": {
        "id": "bVdYoC6B3C2Z"
      },
      "source": [
        "#Display overview information for the dataframe\n",
        "data.info()"
      ],
      "execution_count": null,
      "outputs": []
    },
    {
      "cell_type": "code",
      "metadata": {
        "id": "O4LjI8rv3C2e"
      },
      "source": [
        "# print the shape of the DF as an easy alternative to looking up this in info.\n",
        "data.shape"
      ],
      "execution_count": null,
      "outputs": []
    },
    {
      "cell_type": "markdown",
      "metadata": {
        "id": "Kf0sary43C2h"
      },
      "source": [
        "### Missing values"
      ]
    },
    {
      "cell_type": "code",
      "metadata": {
        "id": "Q0MeV6GH3C2i"
      },
      "source": [
        "# Show missing values (mask), cut to the first 10 rows. Note, that python index alsways starts with 0!\n",
        "data.isnull()[:10]"
      ],
      "execution_count": null,
      "outputs": []
    },
    {
      "cell_type": "code",
      "metadata": {
        "id": "p5rg99UH3C2k"
      },
      "source": [
        "# The isnull command generates a dataframe with bool (True/False) outputs that you can apply commands on.\n",
        "# how would you count up all missing values?\n",
        "\n",
        "data.isnull().xxx"
      ],
      "execution_count": null,
      "outputs": []
    },
    {
      "cell_type": "markdown",
      "metadata": {
        "id": "FdJnrOEy3C2n"
      },
      "source": [
        "We can see that the county_name column is all missing. And thus we can drop it. Also, we probably should drop all cases, where we don't know the time and date of the stop, the gender of the driver\n",
        "\n",
        "```inplace``` is a useful parameter that allows us to drop things without having to define a new object. This is of cause not something that we have to do but smart. It is also a good example for how there are alsways several ways of doing things..."
      ]
    },
    {
      "cell_type": "code",
      "metadata": {
        "id": "vizRZ4Cd3C2n"
      },
      "source": [
        "# We drop the county_name columns.\n",
        "\n",
        "data.drop('county_name', axis='columns', inplace=True)"
      ],
      "execution_count": null,
      "outputs": []
    },
    {
      "cell_type": "code",
      "metadata": {
        "id": "sdoeEBwW4Fej"
      },
      "source": [
        "# Which other columns are probably not interesting? Can you drop several columns at once?\n",
        "\n",
        "data.drop(xxxxx, axis='columns', inplace=True)"
      ],
      "execution_count": null,
      "outputs": []
    },
    {
      "cell_type": "code",
      "metadata": {
        "id": "YLm5LmVx3C2q"
      },
      "source": [
        "# Drop all columns where stop_data, time, and driver_gender are missing\n",
        "data.dropna(subset=['stop_date', 'stop_time', 'driver_gender'], inplace=True)"
      ],
      "execution_count": null,
      "outputs": []
    },
    {
      "cell_type": "code",
      "metadata": {
        "id": "DaLSYz903C2t"
      },
      "source": [
        "data.info()"
      ],
      "execution_count": null,
      "outputs": []
    },
    {
      "cell_type": "code",
      "metadata": {
        "id": "pw3VCTzUQGcl"
      },
      "source": [
        "data.head()"
      ],
      "execution_count": null,
      "outputs": []
    },
    {
      "cell_type": "markdown",
      "metadata": {
        "id": "g3sajzHIO9o-"
      },
      "source": [
        "### Adjusting data types"
      ]
    },
    {
      "cell_type": "code",
      "metadata": {
        "id": "TbwTp6NhO-uT"
      },
      "source": [
        "# let's check this potential candidate column\n",
        "data.is_arrested.head()"
      ],
      "execution_count": null,
      "outputs": []
    },
    {
      "cell_type": "markdown",
      "metadata": {
        "id": "F4LoRPf1PCLw"
      },
      "source": [
        "This column should be boolian but for some reason ended up being a string (or object). This is not efficient and limits our options in terms of what we can do with it. Therefore, we will change the datatype.\n",
        "\n",
        "#### On bracket vs. dot notation:\n",
        "\n",
        "In Python you will find 2 notation types. [ ] and .\n",
        "\n",
        "```\n",
        "ri['is_arrested'] is the same as ri.is_arrested\n",
        "```\n",
        "\n",
        "\n",
        "However, if you assign something and have it on the left side of = you should always use [ ] notation\n",
        "\n"
      ]
    },
    {
      "cell_type": "code",
      "metadata": {
        "id": "ekm0bX-mPANe"
      },
      "source": [
        "# Assign the is_arrested column a new datatype\n",
        "data['is_arrested'] = data.is_arrested.astype('bool')"
      ],
      "execution_count": null,
      "outputs": []
    },
    {
      "cell_type": "code",
      "metadata": {
        "id": "dC7_FFNAPmFv"
      },
      "source": [
        "data.is_arrested.dtype"
      ],
      "execution_count": null,
      "outputs": []
    },
    {
      "cell_type": "markdown",
      "metadata": {
        "id": "ZE9PSStBPpNP"
      },
      "source": [
        "** Is there another instance of wrong data type?  Let's fix that!**"
      ]
    },
    {
      "cell_type": "code",
      "metadata": {
        "id": "eLbvl9VDPmwp"
      },
      "source": [
        "# ADD SOME CODE HERE"
      ],
      "execution_count": null,
      "outputs": []
    },
    {
      "cell_type": "markdown",
      "metadata": {
        "id": "rNvFM7FxQf-i"
      },
      "source": [
        "### Adjusting dates, times and index\n",
        "\n",
        "As you can see, stop_date and time are objects. That's not very useful. Let's transform them into a handy date-time-index.\n",
        "\n",
        "First, we will concatenate the two columns into one. Second, we will ask pandas to parse it and set the DF's index as the date and time of the stop. This makes lots of sense, given that each row is an *event*."
      ]
    },
    {
      "cell_type": "code",
      "metadata": {
        "id": "GXVOXa6dQjNR"
      },
      "source": [
        "# We start by concatenating the two string columns into one that we call combined, using str.cat\n",
        "\n",
        "combined = data.stop_date.str.cat(data.stop_time, sep=' ')\n",
        "print(combined.head())"
      ],
      "execution_count": null,
      "outputs": []
    },
    {
      "cell_type": "markdown",
      "metadata": {
        "id": "Mo3pZ1RpQq6e"
      },
      "source": [
        "Pandas provides many really nice string options that you definetely should explore. Just set your cursor after str and press tab for a list of options."
      ]
    },
    {
      "cell_type": "code",
      "metadata": {
        "id": "-drSj6OWQlZW"
      },
      "source": [
        "# You can for example get dummies from a categorical string variable (here just for the first 10)\n",
        "data.violation[:10].str.get_dummies()"
      ],
      "execution_count": null,
      "outputs": []
    },
    {
      "cell_type": "markdown",
      "metadata": {
        "id": "0urNJ_woQr1i"
      },
      "source": [
        "Now we can create a date_and_time column form our combined (Series - basically a DF with only one column). Finally we will set the index of the dateframe to be the column (instead of a normal index). This will open up for many options, e.g. resampling."
      ]
    },
    {
      "cell_type": "code",
      "metadata": {
        "id": "A1juyJnLQnyZ"
      },
      "source": [
        "# Parse the combined series to datetime-format and assign it to a new column\n",
        "data['date_and_time'] = pd.to_datetime(combined)"
      ],
      "execution_count": null,
      "outputs": []
    },
    {
      "cell_type": "code",
      "metadata": {
        "id": "cAS-9dEdQ76W"
      },
      "source": [
        "# Replace the standard index by the new column (which will in turn disappear)\n",
        "data.set_index('date_and_time', inplace=True)"
      ],
      "execution_count": null,
      "outputs": []
    },
    {
      "cell_type": "code",
      "metadata": {
        "id": "pIj20YQTRKTs"
      },
      "source": [
        "# data['district'] = data.county_name"
      ],
      "execution_count": null,
      "outputs": []
    },
    {
      "cell_type": "code",
      "metadata": {
        "id": "khjlBAFnRNTJ"
      },
      "source": [
        "data.info()"
      ],
      "execution_count": null,
      "outputs": []
    },
    {
      "cell_type": "markdown",
      "metadata": {
        "id": "NsZ3MKKG3C3C"
      },
      "source": [
        "## Exploring the data step by step\n",
        "\n",
        "We will start with simple counts, proportions, averages etc. and move from there to more advanced concepts"
      ]
    },
    {
      "cell_type": "code",
      "metadata": {
        "id": "O-v_HKVr3C3C"
      },
      "source": [
        "# We can explore unique values for a column (even if it's a string)\n",
        "data.stop_outcome.unique() "
      ],
      "execution_count": null,
      "outputs": []
    },
    {
      "cell_type": "code",
      "metadata": {
        "id": "kWKlEiQ_3C3F"
      },
      "source": [
        "# count the distinct values\n",
        "data.stop_outcome.value_counts()"
      ],
      "execution_count": null,
      "outputs": []
    },
    {
      "cell_type": "markdown",
      "metadata": {
        "id": "IgKfbne6L502"
      },
      "source": [
        "Here you see again an example of dot-notation. We just put a dot and the column name to access a column\n",
        "\n",
        "```\n",
        "data.stop_outcome\n",
        "```\n",
        "instead of\n",
        "```\n",
        "data['stop_outcome']\n",
        "```\n",
        "\n",
        "Again, both are fine and the more complex second one is 'safer' to use \n"
      ]
    },
    {
      "cell_type": "code",
      "metadata": {
        "id": "gqd5mpiJ3C3G"
      },
      "source": [
        "# there are many ways to do the same thing\n",
        "data.groupby('stop_outcome').size()"
      ],
      "execution_count": null,
      "outputs": []
    },
    {
      "cell_type": "code",
      "metadata": {
        "id": "NyL2P13j3C3L"
      },
      "source": [
        "# Value counts provides a nice proportions option\n",
        "data.stop_outcome.value_counts(normalize=True)"
      ],
      "execution_count": null,
      "outputs": []
    },
    {
      "cell_type": "code",
      "metadata": {
        "id": "RT6S8MLB3C3O"
      },
      "source": [
        "# Let's check distribution by race in %\n",
        "\n",
        "data.driver_race.value_counts(normalize=True)"
      ],
      "execution_count": null,
      "outputs": []
    },
    {
      "cell_type": "markdown",
      "metadata": {
        "id": "hkYJYWaD3C3Q"
      },
      "source": [
        "### Let's try out some hypotheses\n",
        "\n",
        "One hypothesis could be that the stop_outcome is different for different races. Discrimination?"
      ]
    },
    {
      "cell_type": "code",
      "metadata": {
        "id": "1Ie0fDbG3C3Q"
      },
      "source": [
        "# create 3 series for different races\n",
        "# here we use a selection as a mask to subset for specific criteria\n",
        "\n",
        "black = data[data.driver_race == 'Black']\n",
        "white = data[data.driver_race == 'White']\n",
        "hispanic = data[data.driver_race == 'Hispanic']"
      ],
      "execution_count": null,
      "outputs": []
    },
    {
      "cell_type": "code",
      "metadata": {
        "id": "r5cPOow13C3V"
      },
      "source": [
        "black.stop_outcome.value_counts(normalize=True)"
      ],
      "execution_count": null,
      "outputs": []
    },
    {
      "cell_type": "code",
      "metadata": {
        "id": "NOL-d-n53C3W"
      },
      "source": [
        "white.stop_outcome.value_counts(normalize=True)"
      ],
      "execution_count": null,
      "outputs": []
    },
    {
      "cell_type": "code",
      "metadata": {
        "id": "AYTYjsol3C3Z"
      },
      "source": [
        "hispanic.stop_outcome.value_counts(normalize=True)"
      ],
      "execution_count": null,
      "outputs": []
    },
    {
      "cell_type": "markdown",
      "metadata": {
        "id": "CvFkHcwj8-uE"
      },
      "source": [
        " 💪 💪 💪 💪 💪 💪 💪\n",
        "\n",
        "Can we do that easier? Yes!\n",
        "Pandas has an amazing ```crosstabs``` function.\n",
        "\n",
        "Take 5 minutes to implement the above using ```crosstabs```\n"
      ]
    },
    {
      "cell_type": "code",
      "metadata": {
        "id": "g8OvGrOOBRmk"
      },
      "source": [
        "pd.crosstab(data.driver_race,data.stop_outcome, normalize='index')"
      ],
      "execution_count": null,
      "outputs": []
    },
    {
      "cell_type": "markdown",
      "metadata": {
        "id": "3rFIuDfc3C3b"
      },
      "source": [
        "#### Let's try out to come up with some interesting hypotheses and find answers using the methods that we learned so far."
      ]
    },
    {
      "cell_type": "markdown",
      "metadata": {
        "id": "YhDBjn0z3C3b"
      },
      "source": [
        "Now you are probably asking: Can't we speed this up somehow?"
      ]
    },
    {
      "cell_type": "code",
      "metadata": {
        "id": "vm8yLeTP3C3b"
      },
      "source": [
        "#You probably will have to - Colab has that covered\n",
        "#!pip install pandas_profiling\n"
      ],
      "execution_count": null,
      "outputs": []
    },
    {
      "cell_type": "code",
      "metadata": {
        "id": "c-nwdthS3C3e"
      },
      "source": [
        "import pandas_profiling\n",
        "pandas_profiling.ProfileReport(data)"
      ],
      "execution_count": null,
      "outputs": []
    },
    {
      "cell_type": "markdown",
      "metadata": {
        "id": "ACi0yUef3C3f"
      },
      "source": [
        "### Filtering by multiple conditions\n",
        "\n",
        "We can of cause chain filter conditions"
      ]
    },
    {
      "cell_type": "code",
      "metadata": {
        "id": "-CVuz8Pd3C3g"
      },
      "source": [
        "# note the ( ) around the conditions\n",
        "hispanic_and_arrested = data[(data.driver_race == 'Hispanic')\n",
        "                             & (data.is_arrested == True)]"
      ],
      "execution_count": null,
      "outputs": []
    },
    {
      "cell_type": "code",
      "metadata": {
        "id": "FHSTmAhJ3C3i"
      },
      "source": [
        "# in case you are bored by the shape command\n",
        "len(hispanic_and_arrested)"
      ],
      "execution_count": null,
      "outputs": []
    },
    {
      "cell_type": "code",
      "metadata": {
        "id": "J2fPqBrx3C3l"
      },
      "source": [
        "# We can also ask for hispanic OR arrested (not sure how much that tells us)\n",
        "\n",
        "hispanic_or_arrested = data[(data.driver_race == 'Hispanic')\n",
        "                            | (data.is_arrested == True)]"
      ],
      "execution_count": null,
      "outputs": []
    },
    {
      "cell_type": "code",
      "metadata": {
        "id": "P2uG9vTW3C3p"
      },
      "source": [
        "hispanic_or_arrested.shape"
      ],
      "execution_count": null,
      "outputs": []
    },
    {
      "cell_type": "markdown",
      "metadata": {
        "id": "9eAzmj9y3C3s"
      },
      "source": [
        "##### Rules for filtering\n",
        "\n",
        "- & AND\n",
        "- | OR\n",
        "- Each condition must be surrounded by () and many are possible\n",
        "- == Equality\n",
        "- != Inequality\n",
        "\n",
        "##### Remember, that we are not making any statement about causation. This is purely a correlation exercise (so far!)\n",
        "\n",
        "#### A bit on boolean series\n",
        "\n",
        "True = 1 and False = 0\n",
        "Which means that you can perform calculations on them:\n"
      ]
    },
    {
      "cell_type": "code",
      "metadata": {
        "id": "_fbYYxfUEDNi"
      },
      "source": [
        "data.stop_outcome"
      ],
      "execution_count": null,
      "outputs": []
    },
    {
      "cell_type": "code",
      "metadata": {
        "id": "cEPVDKUe3C3s"
      },
      "source": [
        "# Create a DataFrame of male and female drivers stopped for speeding\n",
        "female_and_speeding = data[(data.driver_gender == 'F') & (data.violation == 'Speeding')]\n",
        "male_and_speeding = data[(data.driver_gender == 'M') & (data.violation == 'Speeding')]\n",
        "\n",
        "# Compute the stop outcomes for drivers (as proportions)\n",
        "# TIPP: If you have multiple things that should be shown from one cell's output, it's better to print it out\n",
        "print(female_and_speeding.stop_outcome.value_counts(normalize=True))\n",
        "print(male_and_speeding.stop_outcome.value_counts(normalize=True))"
      ],
      "execution_count": null,
      "outputs": []
    },
    {
      "cell_type": "code",
      "metadata": {
        "id": "DBuQnIXW3C3u"
      },
      "source": [
        "# What's the probability for arrests? (for check 0.03454755048024903)\n",
        "\n"
      ],
      "execution_count": null,
      "outputs": []
    },
    {
      "cell_type": "markdown",
      "metadata": {
        "id": "fgN30n_o3C3y"
      },
      "source": [
        "### Using groupby to compare groups\n",
        "\n",
        "Rememebre when we compared stop outcome rates by race? Well: That was not very elegant. We can certainly do better using the groupby function"
      ]
    },
    {
      "cell_type": "code",
      "metadata": {
        "id": "Fif4-X5C3C3y"
      },
      "source": [
        "# Here we first group by the race and then calculate the mean for the arrested column\n",
        "data.groupby('driver_race').is_arrested.mean()"
      ],
      "execution_count": null,
      "outputs": []
    },
    {
      "cell_type": "markdown",
      "metadata": {
        "id": "VF6_Mu8y3C34"
      },
      "source": [
        "We can see that black and Hispanic drivers end up more than twice as often arrested than white drivers. But perhaps geography plays a role and perhaps there are some outlier \"bad neighborhoods\""
      ]
    },
    {
      "cell_type": "code",
      "metadata": {
        "id": "-A7dvrcX3C35"
      },
      "source": [
        "# Group data by district and race and calculate the mean of a third factor\n",
        "data.groupby(['district','driver_race']).is_arrested.mean()"
      ],
      "execution_count": null,
      "outputs": []
    },
    {
      "cell_type": "code",
      "metadata": {
        "id": "gwiM6x-93C37"
      },
      "source": [
        "# Which violations lead for the different genders to what rates of arrest?\n",
        "\n",
        "# TRY IT FOR YOURSELF --> That's what you should get:\n",
        "\n",
        "#violation            driver_gender\n",
        "#Equipment            F                0.061614\n",
        "#                     M                0.060028\n",
        "#Moving violation     F                0.054380\n",
        "#                     M                0.058008\n",
        "#Other                F                0.115273\n",
        "#                     M                0.073684\n",
        "#Registration/plates  F                0.078598\n",
        "#                     M                0.088781\n",
        "#Seat belt            F                0.021972\n",
        "#                     M                0.028026\n",
        "#Speeding             F                0.006323\n",
        "#                     M                0.017032\n",
        "\n",
        "\n",
        "data.groupby(['violation','driver_gender']).is_arrested.mean()\n"
      ],
      "execution_count": null,
      "outputs": []
    },
    {
      "cell_type": "markdown",
      "metadata": {
        "id": "yhBE1tvD3C38"
      },
      "source": [
        "### \"protective frisk\"\n",
        "Sometimes during stops if a search is conducted, the officer also checks the driver if they have a weapon. This is called a \"protective frisk\".\n",
        "Let's try to figure out if men are frisked more than women."
      ]
    },
    {
      "cell_type": "code",
      "metadata": {
        "id": "ni1Tzqa13C38"
      },
      "source": [
        "# Look at the different search types performed\n",
        "data.search_type.value_counts()"
      ],
      "execution_count": null,
      "outputs": []
    },
    {
      "cell_type": "markdown",
      "metadata": {
        "id": "aut1Zeel3C39"
      },
      "source": [
        "#### Extracting a string\n",
        "As you can see, search type is a multiple choice object/string column. *Incident to Arrest* and *Pribable Cause* are the most commont but combinations are possible. We can use the `str.contains` method to filter to filter out cases of interest. This will return a boolean series, which we can assign to a new varioable 'frisk' in our dataframe."
      ]
    },
    {
      "cell_type": "code",
      "metadata": {
        "id": "QXU7QXXm3C3_"
      },
      "source": [
        "# We ask pandas to find out if the string in the search_type column contatins\n",
        "# the sequence \"Protective Frisk\"\n",
        "# We assign the result to a new column that we call \"frisk\"\n",
        "\n",
        "data['frisk'] = data.search_type.str.contains('Protective Frisk', na = False)"
      ],
      "execution_count": null,
      "outputs": []
    },
    {
      "cell_type": "code",
      "metadata": {
        "id": "l5ymr16nG1j0"
      },
      "source": [
        "data.frisk.head()"
      ],
      "execution_count": null,
      "outputs": []
    },
    {
      "cell_type": "code",
      "metadata": {
        "id": "Z8fcgmL_3C4A"
      },
      "source": [
        "# backup code in case you are not convinced that it worked\n",
        "# this snippet shows the source and the boolean result side by side\n",
        "\n",
        "# generate a data frame by concatenating source and target of the str.contains method. Note, that this concat\n",
        "# of columns or rows is different from the str.cat that we learned before\n",
        "frisks = pd.concat([data.search_type, data.search_type.str.contains('Protective Frisk', na = False)], axis=1)\n",
        "\n",
        "# display the second column using the iloc selector (here useful since we have two columns with the same name)\n",
        "frisks[frisks.iloc[:,1] == True]"
      ],
      "execution_count": null,
      "outputs": []
    },
    {
      "cell_type": "code",
      "metadata": {
        "id": "QtWyqoLv3C4C"
      },
      "source": [
        "# How many frisks have been performed? (1598)\n",
        "data.frisk.sum()"
      ],
      "execution_count": null,
      "outputs": []
    },
    {
      "cell_type": "code",
      "metadata": {
        "id": "aanM52UE3C4D"
      },
      "source": [
        "# Do men get frisked more often? (M: 0.004104; F: 0.001251)\n",
        "data.groupby('driver_gender').frisk.mean()"
      ],
      "execution_count": null,
      "outputs": []
    },
    {
      "cell_type": "markdown",
      "metadata": {
        "id": "kL5lLDTI3C4E"
      },
      "source": [
        "## Using the datetime index to select data\n",
        "\n",
        "What if you assume that things got better or worse over the years? Or perhaps the time of the day plays a role?  📈\n",
        "Remember we assigned a datetime column to our index? \n",
        "In case you need a recap:\n",
        "\n",
        "```python\n",
        "combined = data.stop_date.str.cat(data.stop_time, sep=' ')\n",
        "data['date_and_time'] = pd.to_datetime(combined)\n",
        "data.set_index('date_and_time', inplace=True)\n",
        "```\n",
        "\n",
        "That allows us now to access the time dimension at various levles in our index.\n",
        "\n",
        "```python\n",
        "data.index.day\n",
        "data.index.month\n",
        "data.index.day_name()\n",
        "data.index.month_name()\n",
        "```\n",
        "\n",
        "We can now use that for groupby etc."
      ]
    },
    {
      "cell_type": "code",
      "metadata": {
        "id": "m3t4TmNY3C4E"
      },
      "source": [
        "# Are things getting better or worse over the years?\n",
        "data.groupby(data.index.year).frisk.mean()"
      ],
      "execution_count": null,
      "outputs": []
    },
    {
      "cell_type": "code",
      "metadata": {
        "id": "wuJWSwd23C4F"
      },
      "source": [
        "data.groupby(data.index.year).is_arrested.mean()"
      ],
      "execution_count": null,
      "outputs": []
    },
    {
      "cell_type": "code",
      "metadata": {
        "id": "vGpuqD2g3C4H"
      },
      "source": [
        "# What's the week with most arrests? Can you guess? Use .sort_values(ascending=False) to get immediate access to the top value.\n",
        "\n",
        "data.groupby(data.index.week).is_arrested.mean().sort_values(ascending=False)"
      ],
      "execution_count": null,
      "outputs": []
    },
    {
      "cell_type": "markdown",
      "metadata": {
        "id": "d4fUdiQD3C4H"
      },
      "source": [
        "### Let's start plotting some of these stats\n",
        "\n",
        "Pandas provides a very easy plotting interface for standard visualisations. For more complex plots, we will be using Seaborn later on.\n",
        "\n",
        "But for now, you can access plotting simply by adding ```.plot()```` after applying some calculation to a dataframe or series."
      ]
    },
    {
      "cell_type": "code",
      "metadata": {
        "id": "4KVckbhw3C4I"
      },
      "source": [
        "# don't forget to tell Jupyter to activate inline plots\n",
        "\n",
        "%matplotlib inline\n",
        "\n",
        "\n",
        "import matplotlib.pyplot as plt\n",
        "import seaborn as sns\n",
        "sns.set(style=\"darkgrid\")\n",
        "\n",
        "plt.rcParams[\"figure.figsize\"] =(12,10)"
      ],
      "execution_count": null,
      "outputs": []
    },
    {
      "cell_type": "code",
      "metadata": {
        "id": "E9tJo2uOOChX"
      },
      "source": [
        "out = data.groupby(data.index.month).is_arrested.mean()*100"
      ],
      "execution_count": null,
      "outputs": []
    },
    {
      "cell_type": "code",
      "metadata": {
        "id": "l6JmnalD3C4I"
      },
      "source": [
        "# e.g. Show the different months that can be accessed\n",
        "figure = out.plot(kind='barh')\n",
        "\n",
        "plt.ylabel('month')\n",
        "plt.xlabel('arrest rate')\n",
        "plt.title('Monthly mean arrest rate in traffic stops')\n",
        "\n",
        "# saving the plot is as easy as\n",
        "\n",
        "plt.savefig('is_arrested_bymonth.pdf', format='pdf')"
      ],
      "execution_count": null,
      "outputs": []
    },
    {
      "cell_type": "code",
      "metadata": {
        "id": "PvwNjMsTPZMM"
      },
      "source": [
        "# Make a graph showing yearly frisk rates\n",
        "\n",
        "(data.groupby(data.index.year).frisk.mean()*100).plot(kind='line')"
      ],
      "execution_count": null,
      "outputs": []
    },
    {
      "cell_type": "markdown",
      "metadata": {
        "id": "CHK7fiEe3C4K"
      },
      "source": [
        "#### Using resampling to aggregate data rather than group it.\n",
        "\n",
        "But isn't that the same what we just did before? Well, actually it's not the same. Instead of grouping by month (12 months), we will re-aggregate the data for the individual months: Jan 05 - Dec 15.\n",
        "\n",
        "``` python\n",
        "data.is_arrested.resample('M').mean()````\n",
        "\n",
        "More on that here: [Resampling time series data with pandas](http://benalexkeen.com/resampling-time-series-data-with-pandas/)\n"
      ]
    },
    {
      "cell_type": "code",
      "metadata": {
        "id": "xDNJixPC3C4K"
      },
      "source": [
        "data.is_arrested.resample('M').mean().plot()"
      ],
      "execution_count": null,
      "outputs": []
    },
    {
      "cell_type": "code",
      "metadata": {
        "id": "ur3jp-z23C4N"
      },
      "source": [
        "data['search_conducted'] = data.search_conducted.astype('bool')"
      ],
      "execution_count": null,
      "outputs": []
    },
    {
      "cell_type": "code",
      "metadata": {
        "id": "k4gk-4nNiKgn"
      },
      "source": [
        "aaa = data.search_conducted.resample('M').mean()"
      ],
      "execution_count": null,
      "outputs": []
    },
    {
      "cell_type": "code",
      "metadata": {
        "id": "Ah4CX71d3C4M"
      },
      "source": [
        "# Make a monthly search conducted graph and save it as a PNG file :-)\n",
        "\n",
        "data.search_conducted.resample('M').mean().plot()\n",
        "\n",
        "plt.savefig('search_conducted.png', format='png')"
      ],
      "execution_count": null,
      "outputs": []
    },
    {
      "cell_type": "markdown",
      "metadata": {
        "id": "XMSvViAMTMcf"
      },
      "source": [
        "Let's try something mode complicated: Let's compate  montly searches vs. drug-related stops after 2007"
      ]
    },
    {
      "cell_type": "code",
      "metadata": {
        "id": "9TnuFen13C4O"
      },
      "source": [
        "# Save the monthly rate of drug-related stops\n",
        "monthly_drug_rate = data.drugs_related_stop.resample('M').mean()\n",
        "\n",
        "# Calculate and save the monthly search rate\n",
        "monthly_search_rate = data.search_conducted.resample('M').mean()\n",
        "\n",
        "# Concatenate the two\n",
        "monthly = pd.concat([monthly_drug_rate,monthly_search_rate], axis='columns')\n",
        "\n",
        "# cut of a few years in the beginning\n",
        "monthly = monthly[monthly.index>=pd.to_datetime('2007-1-1')]\n",
        "\n",
        "# Create subplots from 'annual'\n",
        "monthly.plot(subplots=True)\n",
        "\n",
        "# Display the subplots\n",
        "plt.show()"
      ],
      "execution_count": null,
      "outputs": []
    },
    {
      "cell_type": "markdown",
      "metadata": {
        "id": "3Yiffaju3C4S"
      },
      "source": [
        "#### Crosstabs\n",
        "\n",
        "Crosstabs allow us to explore categorical data considering varous dimensions. Actually, it is the same as grouping by several columns, counting it up with .size() and then bringing the data in wide format (using .unstack())\n",
        "\n",
        "You'll agree that crosstab is easier...however for some reason computationally more expensive 🤔\n",
        "Sidenote: \n",
        "\n",
        "```%time``` infront of a line of code to measure execution time\n",
        "```%%time``` before executing a code-chunk (for instance a loop or a function which we will cover eventully)\n",
        "\n",
        "```%timeit``` will perform the same 10, 100, 1000 times and give you an average (you never know what your CPU and memory are up to at any moment)\n"
      ]
    },
    {
      "cell_type": "code",
      "metadata": {
        "id": "J_B07pmQQV_g"
      },
      "source": [
        "%timeit data.groupby([data.driver_race, data.driver_gender]).size()"
      ],
      "execution_count": null,
      "outputs": []
    },
    {
      "cell_type": "code",
      "metadata": {
        "id": "YN6eieGD3C4S"
      },
      "source": [
        "%time data.groupby([data.driver_race, data.driver_gender]).size().unstack()"
      ],
      "execution_count": null,
      "outputs": []
    },
    {
      "cell_type": "code",
      "metadata": {
        "id": "pVEroCD53C4T"
      },
      "source": [
        "%%timeit\n",
        "pd.crosstab(data.driver_race, data.driver_gender)"
      ],
      "execution_count": null,
      "outputs": []
    },
    {
      "cell_type": "markdown",
      "metadata": {
        "id": "JUyK4kMp3C4V"
      },
      "source": [
        "### Transforming categorical in to nummerical data\n",
        "\n",
        "You may have noted the ```stop_duration``` column in our dataset and that it is an ```object``` variable. That means, we can use it as a dimension but not to perform any calculations. What we can do, is map the categories to a reasonable nummerical value using a mapping dictionary the  ```map``` command."
      ]
    },
    {
      "cell_type": "code",
      "metadata": {
        "id": "NuK6Ldxz3C4V"
      },
      "source": [
        "# First, we should inspect the unique values of the column:\n",
        "# you could use the unique() command but value_counts() is helpful here,\n",
        "# as it can help us identify outlier cases\n",
        "\n",
        "data.stop_duration.value_counts() "
      ],
      "execution_count": null,
      "outputs": []
    },
    {
      "cell_type": "markdown",
      "metadata": {
        "id": "kFYpVnO53C4X"
      },
      "source": [
        "As you can see, there are 6 rows that clearly don't fit and should probably be eliminated\n",
        "We need to filter the dataframe for observations where the ```stop_duration``` hase one of the three values: '0-15 Min', '16-30 Min', '30+ Min'\n",
        "\n",
        "We can use pandas' ```isin``` function here. By the way: If you are doing the opposite \"not in\" query, you can set a ```~``` after the ```[``` and it will inverse your selection."
      ]
    },
    {
      "cell_type": "code",
      "metadata": {
        "id": "ycXkr_7C3C4Y"
      },
      "source": [
        "# I'm lazy: First we can ask pandas to give us a list of possible values that we can copy-paste below into our query\n",
        "data.stop_duration.unique()"
      ],
      "execution_count": null,
      "outputs": []
    },
    {
      "cell_type": "code",
      "metadata": {
        "id": "gg2zyqpw3C4Y"
      },
      "source": [
        "# This step should be pretty familiar\n",
        "\n",
        "data = data[data.stop_duration.isin(['0-15 Min', '16-30 Min', '30+ Min'])]"
      ],
      "execution_count": null,
      "outputs": []
    },
    {
      "cell_type": "code",
      "metadata": {
        "id": "UM9iV9h23C4Z"
      },
      "source": [
        "# Let's see if the inverse also works:\n",
        "\n",
        "data[~data.stop_duration.isin(['0-15 Min', '16-30 Min', '30+ Min'])].stop_duration.unique()"
      ],
      "execution_count": null,
      "outputs": []
    },
    {
      "cell_type": "markdown",
      "metadata": {
        "id": "oMHsPU1P3C4b"
      },
      "source": [
        "As you can see, challenges pop up all the time and that's why working with data is not a linear or clean process but messy, at times confusing and will require you to look up things on the interenet all the time.\n",
        "\n",
        "Now we can create a mapping dictionary. But wait, we never covered what a dictionary is.\n",
        "\n",
        "A dictionary is one of Python's fundamental data structures. You already met ints, floats, strings. There are also lists, sets, tuples and dictionaries (these are the most common types).\n",
        "\n",
        "For now: A dictionary maps ```keys```to ```values```\n",
        "\n",
        "![dict](https://developers.google.com/edu/python/images/dict.png)\n",
        "\n",
        "You input a key and you get a value, disregarding the order. A dictionary has a slightly weird syntax with curly brackets and : but you'll get used to it."
      ]
    },
    {
      "cell_type": "code",
      "metadata": {
        "id": "3JGe6A1P3C4b"
      },
      "source": [
        "# Let's create our mapping\n",
        "\n",
        "mapping = {'0-15 Min':7.5, '16-30 Min':23, '30+ Min':45}\n",
        "\n",
        "# And use it right away to create a new column\n",
        "data['stop_duration_num'] = data.stop_duration.map(mapping)\n",
        "\n",
        "# a quick check of what we achieved\n",
        "print(data.stop_duration_num[:5])"
      ],
      "execution_count": null,
      "outputs": []
    },
    {
      "cell_type": "markdown",
      "metadata": {
        "id": "4WptjP2i3C4b"
      },
      "source": [
        "#### A quick intro to loops\n",
        "\n",
        "The great advantage with computers is that they are happy to do boring repetitive stuff for us without getting tired. If we think a bit about the ```map``` function, what it did was to take every observation of ```stop_duration``` in our dataframe and translate it to the corresponding value in our mapping dictionary.\n",
        "\n",
        "Let's try some made up pseudocode:\n",
        "\n",
        "```\n",
        "\n",
        "stop_duration_num = [] #creating an empty list\n",
        "\n",
        "for every observation in data.stop_duration do:\n",
        "    look up corresponding value in the mapping dictionary\n",
        "    append the value to the stop_duration_num list\n",
        "    \n",
        "finally:\n",
        "\n",
        "data['stop_duration_num'] = stop_duration_num list\n",
        "    \n",
        "```\n",
        "\n",
        "\n",
        "Actually we can write exactly that as a loop\n",
        "\n",
        "```python\n",
        "stop_duration_num_list = []\n",
        "\n",
        "for x in data.stop_duration:\n",
        "    value = mapping[x]\n",
        "    stop_duration_num_list.append(value)\n",
        "\n",
        "# we skip the creation of the new column since we already have it\n",
        "\n",
        "```\n",
        "\n",
        "Aside form for-loop as that one there are also while loops that will do something while some condition is met\n",
        "\n",
        "You can find more on datatypes and loops (iteration) in [this cheat sheet](https://www.theredhillacademy.org.uk/pluginfile.php?file=/15673/block_html/content/Python%20Cheat%20Sheet.pdf)\n",
        "and many other places. Iteration is a core concept in computer science  and will be important in later modules. If you code for the first time in your life, it's a slightly strange concept to get your head around but after some time it becomes second nature. For now, it's good to get some initial feeling for the concept.\n",
        "\n",
        "#### Let's return to our ```stop_duration``` problem\n",
        "\n",
        "Since, we created a nummerical value, we can for instance check if average stop duration is different for different violations:"
      ]
    },
    {
      "cell_type": "code",
      "metadata": {
        "id": "6KBoDuoP3C4b"
      },
      "source": [
        "# Let's do everything in one line\n",
        "\n",
        "data.groupby([data.violation_raw]).stop_duration_num.mean().sort_values().plot(kind='barh')"
      ],
      "execution_count": null,
      "outputs": []
    },
    {
      "cell_type": "markdown",
      "metadata": {
        "id": "kLE7kPhU3C4c"
      },
      "source": [
        "#### Cutting intervals\n",
        "\n",
        "```data.driver_age``` contains the (duh) the age of the driver. ```data.driver_age.dtype``` will tell us that it's a continuous nummerical value and thus good for more advanced analysis but perhaps a bit to detailed for exploration (?)\n",
        "\n",
        "More instrumental in that context would be to slice that variable up into ordered categries corresponding to age-populations of interest, say \"teen\", \"20s\", \"30s\" etc."
      ]
    },
    {
      "cell_type": "code",
      "metadata": {
        "id": "4anJORgc3C4d"
      },
      "source": [
        "# Let's check the variable\n",
        "data.driver_age.describe()"
      ],
      "execution_count": null,
      "outputs": []
    },
    {
      "cell_type": "code",
      "metadata": {
        "id": "fZaq9X_v3C4e"
      },
      "source": [
        "# We can slice tha data into some numebr of bins (sometimes useful)\n",
        "data['age_cat'] = pd.cut(data.driver_age,bins=6)"
      ],
      "execution_count": null,
      "outputs": []
    },
    {
      "cell_type": "code",
      "metadata": {
        "id": "JN8JjwMp3C4f"
      },
      "source": [
        "# We can also provide labels\n",
        "labels=[\"teen\", \"20s\", \"30s\", \"40s\", \"50+\"]\n",
        "data['age_cat'] = pd.cut(data.driver_age, bins=5, labels=labels)"
      ],
      "execution_count": null,
      "outputs": []
    },
    {
      "cell_type": "code",
      "metadata": {
        "id": "Nl9qao0NVgWD"
      },
      "source": [
        "data['age_cat'][:5]"
      ],
      "execution_count": null,
      "outputs": []
    },
    {
      "cell_type": "code",
      "metadata": {
        "id": "Pl435pSk3C4h"
      },
      "source": [
        "# We can also provide custom intervals\n",
        "# Unfortunately (not sure why) there is no way to do both together\n",
        "bins = pd.IntervalIndex.from_tuples([(10, 20), (20, 30), (30, 40), (40,50), (50,100)])\n",
        "data['age_cat'] = pd.cut(data.driver_age, bins = bins)"
      ],
      "execution_count": null,
      "outputs": []
    },
    {
      "cell_type": "code",
      "metadata": {
        "id": "PPROD84h3C4j"
      },
      "source": [
        "data.dropna(subset=['age_cat'], inplace=True)"
      ],
      "execution_count": null,
      "outputs": []
    },
    {
      "cell_type": "code",
      "metadata": {
        "id": "OWLRHQmVW3D1"
      },
      "source": [
        "table = pd.crosstab(data.driver_race, data.age_cat)\n",
        "table"
      ],
      "execution_count": null,
      "outputs": []
    },
    {
      "cell_type": "code",
      "metadata": {
        "id": "0O3bbeMI3C4l"
      },
      "source": [
        "# We can plot that but perhaps let's modify a bit first\n",
        "table = pd.crosstab(data.driver_race, data.age_cat, normalize='index')\n",
        "\n",
        "# keep only minority races\n",
        "table = table.iloc[:3,]\n",
        "\n",
        "# let's plot some stacked bars\n",
        "table.plot(kind='bar', stacked=True)"
      ],
      "execution_count": null,
      "outputs": []
    },
    {
      "cell_type": "markdown",
      "metadata": {
        "id": "dqCpXXpo3C4m"
      },
      "source": [
        "### Enters weather data\n",
        "\n",
        "To be precise: Local climatological data from https://www.ncdc.noaa.gov/\n",
        "\n",
        "I put the data on GitHub: https://sds-aau.github.io/SDS-master/M1/data/RI-weather.csv"
      ]
    },
    {
      "cell_type": "code",
      "metadata": {
        "id": "u19dP7OF3C4m"
      },
      "source": [
        "weather = pd.read_csv('https://sds-aau.github.io/SDS-master/M1/data/RI-weather.csv')"
      ],
      "execution_count": null,
      "outputs": []
    },
    {
      "cell_type": "code",
      "metadata": {
        "id": "9wALtX6E3C4o"
      },
      "source": [
        "weather.head()"
      ],
      "execution_count": null,
      "outputs": []
    },
    {
      "cell_type": "code",
      "metadata": {
        "id": "PHBHmBg63C4q"
      },
      "source": [
        "#AWND and WSF2 are wind-speed variables\n",
        "\n",
        "weather[['AWND', 'WSF2']].head()"
      ],
      "execution_count": null,
      "outputs": []
    },
    {
      "cell_type": "code",
      "metadata": {
        "id": "KSVS4GME3C4r"
      },
      "source": [
        "weather[['AWND', 'WSF2']].plot(kind='box') "
      ],
      "execution_count": null,
      "outputs": []
    },
    {
      "cell_type": "code",
      "metadata": {
        "id": "uzuslydj3C4s"
      },
      "source": [
        "weather['WDIFF'] = weather.WSF2 - weather.AWND\n",
        "weather.WDIFF.plot(kind='hist')"
      ],
      "execution_count": null,
      "outputs": []
    },
    {
      "cell_type": "code",
      "metadata": {
        "id": "ziHofJSA3C4t"
      },
      "source": [
        "weather.WDIFF.plot(kind='hist', bins=50)\n",
        "plt.savefig('fig1.pdf') # would like to save it for later? Pass this line in the same cell and you'll get the pdf"
      ],
      "execution_count": null,
      "outputs": []
    },
    {
      "cell_type": "markdown",
      "metadata": {
        "id": "jqRiMPFY3C4t"
      },
      "source": [
        "#### Introducing Seaborn\n",
        "\n",
        "Seaborn is a great project with the mission to make statistical plots easier in Python. You can find more on their [Homepage](https://seaborn.pydata.org/index.html).\n",
        "\n",
        "Datacamp created [this cheat sheet](https://www.datacamp.com/community/blog/seaborn-cheat-sheet-python) that summarizes most important functions."
      ]
    },
    {
      "cell_type": "code",
      "metadata": {
        "id": "RrGc-qk63C4t"
      },
      "source": [
        "# We already imported seaborn (without talking a lot about it). Let's do it again, which is not a problem\n",
        "\n",
        "import seaborn as sns # sns is the conventional abbriviation\n",
        "sns.set(style=\"darkgrid\") # Darkgrid is a nice ggplot (R) - like style that looks"
      ],
      "execution_count": null,
      "outputs": []
    },
    {
      "cell_type": "code",
      "metadata": {
        "id": "ldkB_oQd3C4w"
      },
      "source": [
        "# Let's do the same what we just did but now using Searborn\n",
        "# We replace the standard histogram by a Distribution plot (same same)\n",
        "sns.distplot(weather.WDIFF)"
      ],
      "execution_count": null,
      "outputs": []
    },
    {
      "cell_type": "markdown",
      "metadata": {
        "id": "0KEcqx_53C4w"
      },
      "source": [
        "You can read much more about all the different things that you can do with distplots [here](https://seaborn.pydata.org/generated/seaborn.distplot.html)"
      ]
    },
    {
      "cell_type": "code",
      "metadata": {
        "id": "bMbjcwCO3C4w"
      },
      "source": [
        "fig = sns.distplot(weather.WDIFF, hist=False,\n",
        "             rug=True,\n",
        "             kde_kws={'shade':True})\n",
        "\n",
        "fig.figure.savefig('fig.pdf') # In case you would like to keep it :-)"
      ],
      "execution_count": null,
      "outputs": []
    },
    {
      "cell_type": "code",
      "metadata": {
        "id": "ZV4ZzIx03C4x"
      },
      "source": [
        "# Further examining the weather data\n",
        "weather.shape"
      ],
      "execution_count": null,
      "outputs": []
    },
    {
      "cell_type": "code",
      "metadata": {
        "id": "s9paujsh3C4y"
      },
      "source": [
        "weather.columns"
      ],
      "execution_count": null,
      "outputs": []
    },
    {
      "cell_type": "code",
      "metadata": {
        "id": "xo0Xg8HP3C40"
      },
      "source": [
        "#Let's select just a sequence of columns 'from-to'\n",
        "temp = weather.loc[:, 'TAVG':'TMAX']"
      ],
      "execution_count": null,
      "outputs": []
    },
    {
      "cell_type": "code",
      "metadata": {
        "id": "866IC_jQ3C41"
      },
      "source": [
        "temp.head()"
      ],
      "execution_count": null,
      "outputs": []
    },
    {
      "cell_type": "code",
      "metadata": {
        "id": "DlyH-O7B3C43"
      },
      "source": [
        "# Can we say something about average temperature and average wind?\n",
        "\n",
        "sns.jointplot(weather.TAVG, weather.AWND, kind=\"hex\", color=\"#4CB391\")"
      ],
      "execution_count": null,
      "outputs": []
    },
    {
      "cell_type": "markdown",
      "metadata": {
        "id": "EXiMfG7Eh95l"
      },
      "source": []
    },
    {
      "cell_type": "markdown",
      "metadata": {
        "id": "M9tvyQOR3C45"
      },
      "source": [
        "#### Data types advanced\n",
        "\n",
        "We already used the map function to transform strings to nummerical values.\n",
        "Now, let's try to create categories. This is not always necessary but nice to know."
      ]
    },
    {
      "cell_type": "code",
      "metadata": {
        "id": "fiRCrkrl3C46"
      },
      "source": [
        "mapping = {'0-15 Min':'short', '16-30 Min':'medium', '30+ Min':'long'}"
      ],
      "execution_count": null,
      "outputs": []
    },
    {
      "cell_type": "code",
      "metadata": {
        "id": "nJFYFnXN3C49"
      },
      "source": [
        "data['stop_length'] = data.stop_duration.map(mapping)"
      ],
      "execution_count": null,
      "outputs": []
    },
    {
      "cell_type": "code",
      "metadata": {
        "id": "J23B3kv_3C49"
      },
      "source": [
        "data.stop_length.memory_usage(deep=True)"
      ],
      "execution_count": null,
      "outputs": []
    },
    {
      "cell_type": "code",
      "metadata": {
        "id": "hnBav1Ip3C4-"
      },
      "source": [
        "# We need to initiate this new data format first importing it\n",
        "from pandas.api.types import CategoricalDtype\n",
        "\n",
        "# Define our categories\n",
        "cats = ['short', 'medium', 'long']\n",
        "\n",
        "# And define the specific cateogory type (this is useful for survey data that is ordered)\n",
        "cat_type = CategoricalDtype(categories=cats, ordered=True)\n",
        "\n",
        "# Finally let's asign it\n",
        "data['stop_length'] = data.stop_length.astype(cat_type)"
      ],
      "execution_count": null,
      "outputs": []
    },
    {
      "cell_type": "code",
      "metadata": {
        "id": "78y77S5y3C5A"
      },
      "source": [
        "data.stop_length.memory_usage(deep=True)\n",
        "\n",
        "# The first thing we notice --> this type is much more memory friendly. This is good when moving towards big data"
      ],
      "execution_count": null,
      "outputs": []
    },
    {
      "cell_type": "code",
      "metadata": {
        "id": "8Ys1WNyW3C5C"
      },
      "source": [
        "# Also now we see that pandas knows that short is short < medium < long\n",
        "data.stop_length.head()"
      ],
      "execution_count": null,
      "outputs": []
    },
    {
      "cell_type": "code",
      "metadata": {
        "id": "YElwsBwd3C5D"
      },
      "source": [
        "# Any relation between stop duration and likelihood to get arrested?\n",
        "\n",
        "# YOUR CODE HERE"
      ],
      "execution_count": null,
      "outputs": []
    },
    {
      "cell_type": "markdown",
      "metadata": {
        "id": "5wMzySGL3C5E"
      },
      "source": [
        "#### Back to our weather data\n",
        "\n",
        "Do you think that arrest rates or certain violations are related to weather?\n",
        "For that we need to connect our weather data with the stops data\n",
        "\n",
        "We will merge the two dataframes on the date index, as weather data is available daily"
      ]
    },
    {
      "cell_type": "code",
      "metadata": {
        "id": "3FKgeUTx3C5E"
      },
      "source": [
        "# First let's prepare the weather data first, by parsing the date-column\n",
        "weather.DATE = pd.to_datetime(weather.DATE)"
      ],
      "execution_count": null,
      "outputs": []
    },
    {
      "cell_type": "code",
      "metadata": {
        "id": "kphw98bs3C5F"
      },
      "source": [
        "# We need to do the same with our stops data and its stop_date column\n",
        "data.stop_date = pd.to_datetime(data.stop_date)"
      ],
      "execution_count": null,
      "outputs": []
    },
    {
      "cell_type": "code",
      "metadata": {
        "id": "7CN8O3xv3C5F"
      },
      "source": [
        "# now let's merge\n",
        "\n",
        "data_weather = pd.merge(data, weather, left_on='stop_date', right_on='DATE', how='left')"
      ],
      "execution_count": null,
      "outputs": []
    },
    {
      "cell_type": "markdown",
      "metadata": {
        "id": "gyIwprIN3C5H"
      },
      "source": [
        "Pandas merge command is fairly simple:\n",
        "\n",
        "We start with the left dataframe \"data\" in our case, then the right \"weather\", then pass the left and the right key and finally the merger type: Here \"left\", meaning that we would like to keep the left as it is and multiply the right on top of it (if that makes sense)\n",
        "\n",
        "![merge](http://www.datasciencemadesimple.com/wp-content/uploads/2017/09/join-or-merge-in-python-pandas-1.png)\n",
        "\n",
        "And if you still think merging is mysterious then you should check out this [youtube tutorial](https://youtu.be/h4hOPGo4UVU)"
      ]
    },
    {
      "cell_type": "code",
      "metadata": {
        "id": "j_mXIQU13C5K"
      },
      "source": [
        "# data_weather.set_index('date_and_time', inplace=True)\n",
        "data_weather.index = data.index"
      ],
      "execution_count": null,
      "outputs": []
    },
    {
      "cell_type": "markdown",
      "metadata": {
        "id": "Qu1i8qVt3C5M"
      },
      "source": [
        "It is a not totally crazy assumption that police stops are shorter if it's cold...maybe. Let's check that.\n",
        "\n",
        "The syntax is a bit more advanced but I'll do my best to explain. We will control for the violation type, assuming that different violations lead to different durations by their nature."
      ]
    },
    {
      "cell_type": "code",
      "metadata": {
        "id": "osCzSulB3C5M"
      },
      "source": [
        "# We need to aggregate the data first on 2 levels: Time and Violation.\n",
        "# For this we need to use pandas Grouper module (I also had to look it up)\n",
        "\n",
        "violation_duration = data_weather.groupby([pd.Grouper(key='stop_date', freq='D'), 'violation']).stop_duration_num.mean()"
      ],
      "execution_count": null,
      "outputs": []
    },
    {
      "cell_type": "code",
      "metadata": {
        "id": "C7Rejzkp3C5N"
      },
      "source": [
        "# Such groupby commands deliver a multi-indexed series. That's not useful for further work.\n",
        "# But we can transform them into Dataframes with various index levels turning into columns.\n",
        "violation_duration = pd.DataFrame(violation_duration).reset_index()"
      ],
      "execution_count": null,
      "outputs": []
    },
    {
      "cell_type": "code",
      "metadata": {
        "id": "QjS7cBZ53C5N"
      },
      "source": [
        "# Same for the temperature data\n",
        "avg_temp = data_weather.resample('D').TAVG.mean()"
      ],
      "execution_count": null,
      "outputs": []
    },
    {
      "cell_type": "code",
      "metadata": {
        "id": "4oSRXTUM3C5T"
      },
      "source": [
        "avg_temp = pd.DataFrame(avg_temp).reset_index()"
      ],
      "execution_count": null,
      "outputs": []
    },
    {
      "cell_type": "code",
      "metadata": {
        "id": "1OKFDLyY3C5U"
      },
      "source": [
        "# Now let's merge both DFs\n",
        "search_temp = pd.merge(violation_duration, avg_temp, left_on='stop_date', right_on='date_and_time', how='left')"
      ],
      "execution_count": null,
      "outputs": []
    },
    {
      "cell_type": "code",
      "metadata": {
        "id": "tQaVUehx3C5V"
      },
      "source": [
        "# We plot our resulting DF using Seaborn using the col argument to create subplots for the different violation types\n",
        "sns.lmplot('stop_duration_num', 'TAVG', data=search_temp[search_temp.stop_duration_num < 20], col = 'violation')"
      ],
      "execution_count": null,
      "outputs": []
    },
    {
      "cell_type": "markdown",
      "metadata": {
        "id": "NTSTJI7m3C5V"
      },
      "source": [
        "#### Heatmaps are another useful visualization"
      ]
    },
    {
      "cell_type": "code",
      "metadata": {
        "id": "cGunaeRv3C5V"
      },
      "source": [
        "# You should by now be able to read this without problems\n",
        "sns.heatmap(pd.crosstab(data.driver_race, data.driver_gender, values=data.is_arrested, aggfunc='mean'))"
      ],
      "execution_count": null,
      "outputs": []
    },
    {
      "cell_type": "code",
      "metadata": {
        "id": "769ZrZiB3C5W"
      },
      "source": [
        "# We can make this heatmap more informative using some of Seaborn's functionality\n",
        "\n",
        "sns.heatmap(pd.crosstab(data.driver_race, data.driver_gender, values=data.is_arrested, aggfunc='mean'),\n",
        "            annot=True, cmap=\"YlGnBu\", cbar=False, linewidths=.5)"
      ],
      "execution_count": null,
      "outputs": []
    },
    {
      "cell_type": "markdown",
      "metadata": {
        "id": "fHgCURR23C5X"
      },
      "source": [
        "### Search discrimination?\n",
        "\n",
        "Finally we would like to find out if searches are conducted more often for some races."
      ]
    },
    {
      "cell_type": "code",
      "metadata": {
        "id": "JIzjlkgf3C5Y"
      },
      "source": [
        "# First we need to create a boolean variable for searches\n",
        "data['search_conducted'] = data.search_conducted.astype('bool')"
      ],
      "execution_count": null,
      "outputs": []
    },
    {
      "cell_type": "code",
      "metadata": {
        "id": "wT43ozRD3C5Z"
      },
      "source": [
        "# Calculate the search rate by race\n",
        "search_rates = pd.crosstab(data.district, data.driver_race, data.search_conducted, aggfunc='mean')\n",
        "\n",
        "### Exactly the same\n",
        "# search_rates = data.groupby(['district','driver_race']).search_conducted.mean().unstack()"
      ],
      "execution_count": null,
      "outputs": []
    },
    {
      "cell_type": "code",
      "metadata": {
        "id": "cuQa8Wsf3C5a"
      },
      "source": [
        "searches_per_district = data.groupby('district').size()"
      ],
      "execution_count": null,
      "outputs": []
    },
    {
      "cell_type": "code",
      "metadata": {
        "id": "K-G0Xqmz3C5b"
      },
      "source": [
        "search_rates_per_district = pd.concat([search_rates, searches_per_district], axis = 1)"
      ],
      "execution_count": null,
      "outputs": []
    },
    {
      "cell_type": "code",
      "metadata": {
        "id": "UpvrIPGk3C5d"
      },
      "source": [
        "search_rates_per_district['stops'] = search_rates_per_district[0]"
      ],
      "execution_count": null,
      "outputs": []
    },
    {
      "cell_type": "code",
      "metadata": {
        "id": "aqfVOzK33C5e"
      },
      "source": [
        "search_rates_per_district"
      ],
      "execution_count": null,
      "outputs": []
    },
    {
      "cell_type": "markdown",
      "metadata": {
        "id": "zfb1qC4E3C5f"
      },
      "source": [
        "Now some more advanced plotting:\n",
        "\n",
        "Can you understand what's going on here?"
      ]
    },
    {
      "cell_type": "code",
      "metadata": {
        "id": "-AfTpwbBnpIz"
      },
      "source": [
        "plt.figure(figsize=(10,10))\n",
        "plt.axis([0.0,0.085, 0.0,0.085])\n",
        "plot = plt.scatter(search_rates_per_district.White, search_rates_per_district.Hispanic,  s = search_rates_per_district.stops/100)\n",
        "plt.plot(plt.xlim(), plt.ylim(), ls=\"--\", c=\".3\")\n",
        "plt.xlabel('White')\n",
        "plt.ylabel('Hispanic')"
      ],
      "execution_count": null,
      "outputs": []
    },
    {
      "cell_type": "code",
      "metadata": {
        "id": "ULah2NvT3C5g"
      },
      "source": [
        "plt.figure(figsize=(10,10))\n",
        "plt.axis([0.0,0.085,0.0,0.085])\n",
        "plot = plt.scatter(search_rates_per_district.White, search_rates_per_district.Black,  s = search_rates_per_district.stops/100)\n",
        "plt.plot(plt.xlim(), plt.ylim(), ls=\"--\", c=\".3\")\n",
        "plt.xlabel('White')\n",
        "plt.ylabel('Black')"
      ],
      "execution_count": null,
      "outputs": []
    },
    {
      "cell_type": "code",
      "metadata": {
        "id": "Wj6CYIul3C5h"
      },
      "source": [
        "found_rates = data.groupby(['district','driver_race']).contraband_found.sum() / data.groupby(['district','driver_race']).search_conducted.sum() \n",
        "found_rates_per_district = pd.concat([found_rates.unstack(),data.groupby('district').search_conducted.sum()], axis = 1)"
      ],
      "execution_count": null,
      "outputs": []
    },
    {
      "cell_type": "code",
      "metadata": {
        "id": "Q9BowPLg3C5h"
      },
      "source": [
        "found_rates_per_district"
      ],
      "execution_count": null,
      "outputs": []
    },
    {
      "cell_type": "code",
      "metadata": {
        "id": "4ybmWUSKqMcd"
      },
      "source": [
        "plt.figure(figsize=(10,10))\n",
        "plt.axis([0,0.5,0,0.5])\n",
        "plot = plt.scatter(\"White\", \"Hispanic\", data = found_rates_per_district, s = found_rates_per_district.search_conducted/50)\n",
        "plt.plot(plt.xlim(), plt.ylim(), ls=\"--\", c=\".3\")\n",
        "plt.xlabel('White')\n",
        "plt.ylabel('Hispanic')"
      ],
      "execution_count": null,
      "outputs": []
    },
    {
      "cell_type": "code",
      "metadata": {
        "id": "tovFZnVv3C5m"
      },
      "source": [
        "plt.figure(figsize=(10,10))\n",
        "plt.axis([0,0.5,0,0.5])\n",
        "plot = plt.scatter(\"White\", \"Black\", data = found_rates_per_district, s = found_rates_per_district.search_conducted/50)\n",
        "plt.plot(plt.xlim(), plt.ylim(), ls=\"--\", c=\".3\")\n",
        "plt.xlabel('White')\n",
        "plt.ylabel('Black')"
      ],
      "execution_count": null,
      "outputs": []
    }
  ]
}