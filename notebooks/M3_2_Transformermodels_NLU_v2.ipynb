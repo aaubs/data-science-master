{
  "nbformat": 4,
  "nbformat_minor": 0,
  "metadata": {
    "colab": {
      "provenance": [],
      "authorship_tag": "ABX9TyPSEWJZnjAd+27ao2wKvUto",
      "include_colab_link": true
    },
    "kernelspec": {
      "name": "python3",
      "display_name": "Python 3"
    },
    "language_info": {
      "name": "python"
    }
  },
  "cells": [
    {
      "cell_type": "markdown",
      "metadata": {
        "id": "view-in-github",
        "colab_type": "text"
      },
      "source": [
        "<a href=\"https://colab.research.google.com/github/aaubs/ds-master/blob/main/notebooks/M3_2_Transformermodels_NLU_v2.ipynb\" target=\"_parent\"><img src=\"https://colab.research.google.com/assets/colab-badge.svg\" alt=\"Open In Colab\"/></a>"
      ]
    },
    {
      "cell_type": "markdown",
      "source": [
        "The main questions that we aim to answer in this lecture are:\n",
        "\n",
        "1. What are the main challenges of RNNs and LSTMs?\n",
        "2. Attention Mechanisms\n",
        "      - How do attention mechanisms solve the challenges associated with RNNs and LSTMs?\n",
        "      - What is the fundamental idea behind the attention mechanism?\n",
        "      - How does the attention mechanism function?\n",
        "3. What is the Transformer model architecture, and how does it differ from encoder-decoder models?\n",
        "4. What is text embedding?\n",
        "5. How can one train a Transformer model to compute embeddings?\n",
        "6. What are the differences between word embeddings and sentence embeddings?\n",
        "\n",
        "\n"
      ],
      "metadata": {
        "id": "zhv4dDMiskQG"
      }
    },
    {
      "cell_type": "markdown",
      "source": [
        "## How Do Attention Mechanisms Solve RNN and LSTM Challenges?"
      ],
      "metadata": {
        "id": "6nttKJeer9RA"
      }
    },
    {
      "cell_type": "markdown",
      "source": [
        "![](https://miro.medium.com/v2/resize:fit:1280/1*w2OJ4jfjxmlcqu6k4BdgrA.gif)"
      ],
      "metadata": {
        "id": "yfWvHgfm1BrK"
      }
    },
    {
      "cell_type": "markdown",
      "source": [
        "| RNN/LSTM Problems                          | How Attention Helps                                   |\n",
        "|--------------------------------------------|------------------------------------------------------|\n",
        "| Hard to learn from long steps back         | Looks directly at important past information         |\n",
        "| Training can be unstable                   | Uses special techniques to stay stable (gradient clipping or other techniques)               |\n",
        "| Slow with long sentences                   | Works on whole sentences at once, so it's faster     |\n",
        "| Struggles with very distant info           | Can easily use info from anywhere in the sentence    |\n",
        "| Can't always use all relevant info         | Chooses which info to use at each step               |\n",
        "| Can be heavy on memory                     | Lighter on memory, no need to remember every step    |\n",
        "| Hard to see why it made a decision         | Can show which words affected the decision           |\n"
      ],
      "metadata": {
        "id": "Mc4o6qWq_3Mt"
      }
    },
    {
      "cell_type": "markdown",
      "source": [
        "# What is the main idea behind attention mechanism?"
      ],
      "metadata": {
        "id": "1AoPol1L4TUG"
      }
    },
    {
      "cell_type": "markdown",
      "source": [
        "The core concept of the attention mechanism is to focus selectively on relevant past information. Let's explore how attention addresses the challenge of polysemy in NLP.\n",
        "\n",
        "Word embeddings face a significant challenge with polysemous words—those with multiple meanings. For example, a word like \"bank\" would be assigned the same vector in traditional embeddings regardless of whether it's used to refer to a financial institution or the side of a river. In order to understand attention, let’s look at two sentences:\n"
      ],
      "metadata": {
        "id": "RJ2pwIks4dPL"
      }
    },
    {
      "cell_type": "markdown",
      "source": [
        "\n",
        "\n",
        "    Sentence 1: The bank of the river.\n",
        "    Sentence 2: Money in the bank.\n"
      ],
      "metadata": {
        "id": "ZdqjpY9N4maB"
      }
    },
    {
      "cell_type": "markdown",
      "source": [
        "![](https://raw.githubusercontent.com/aaubs/ds-master/main/data/Images/attention_mechanism.png)"
      ],
      "metadata": {
        "id": "UBF61fq7JmxS"
      }
    },
    {
      "cell_type": "markdown",
      "source": [
        " To address this limitation, the concept of attention, specifically self-attention, was introduced in the influential paper \"Attention is All You Need\". The attention mechanism effectively distinguishes the usage of words based on context, thereby transforming standard word embeddings into contextualized embeddings that vary according to the sentence they appear in."
      ],
      "metadata": {
        "id": "csh4wBiqLpmt"
      }
    },
    {
      "cell_type": "markdown",
      "source": [
        "# How does attention mechanism work?"
      ],
      "metadata": {
        "id": "R0n0WM88zS8l"
      }
    },
    {
      "cell_type": "markdown",
      "source": [
        "The attntion mechanism contains three steps inclusing:\n",
        "- Step 1: Similarity - Calculate dot products for Q and K (attention scores)\n",
        "- Step 2: Weights - Apply softmax to attention scores\n",
        "- Step 3: Contextualized vector - Multiply attention weights by V and sum to get output vectors\n",
        "\n"
      ],
      "metadata": {
        "id": "r7KAGbZ3zZql"
      }
    },
    {
      "cell_type": "code",
      "source": [
        "import numpy as np\n",
        "import torch\n",
        "\n",
        "# Provided word embeddings\n",
        "embeddings = {\n",
        "    \"the\": np.array([0.1, 0.1]),\n",
        "    \"bank\": np.array([0.5, 0.5]),\n",
        "    \"of\": np.array([0.2, 0.1]),\n",
        "    \"river\": np.array([0.5, 0.7]),\n",
        "    \"Money\": np.array([0.5, 0.45]),\n",
        "    \"in\": np.array([0.1, 0.2]),\n",
        "}"
      ],
      "metadata": {
        "id": "mLiefIrZj9XM"
      },
      "execution_count": 1,
      "outputs": []
    },
    {
      "cell_type": "code",
      "source": [
        "import matplotlib.pyplot as plt\n",
        "\n",
        "# Extract the coordinates for 2D plotting\n",
        "x_2d_adj = [embeddings[word][0] for word in embeddings]\n",
        "y_2d_adj = [embeddings[word][1] for word in embeddings]\n",
        "words_2d_adj = list(embeddings.keys())\n",
        "\n",
        "# Create a 2D plot\n",
        "fig, ax = plt.subplots(figsize=(8, 6))\n",
        "\n",
        "# Scatter the points\n",
        "ax.scatter(x_2d_adj, y_2d_adj)\n",
        "\n",
        "# Annotate the points with words\n",
        "for i, word in enumerate(words_2d_adj):\n",
        "    ax.text(x_2d_adj[i], y_2d_adj[i] + 0.01, word)  # Adjust text position for clarity\n",
        "\n",
        "# Set labels\n",
        "ax.set_xlabel('Dimension 1')\n",
        "ax.set_ylabel('Dimension 2')\n",
        "ax.set_title('2D plot of word embeddings')\n",
        "\n",
        "# Set equal scaling\n",
        "ax.axis('equal')\n",
        "\n",
        "# Show the plot\n",
        "plt.show()\n"
      ],
      "metadata": {
        "colab": {
          "base_uri": "https://localhost:8080/",
          "height": 564
        },
        "id": "5VCtn4iReFpd",
        "outputId": "cfbd40a0-b2fa-4a10-f655-481fa7692d8e"
      },
      "execution_count": 2,
      "outputs": [
        {
          "output_type": "display_data",
          "data": {
            "text/plain": [
              "<Figure size 800x600 with 1 Axes>"
            ],
            "image/png": "[encoded data removed]"
          },
          "metadata": {}
        }
      ]
    },
    {
      "cell_type": "code",
      "source": [
        "# Sentence 1\n",
        "sentence_1 = [\"the\", \"bank\", \"of\", \"the\", \"river\"]\n",
        "\n",
        "# Initialize matrices for Q, K, V\n",
        "Q_1 = np.array([embeddings[word] for word in sentence_1])\n",
        "K_1 = np.array([embeddings[word] for word in sentence_1])\n",
        "V_1 = np.array([embeddings[word] for word in sentence_1])\n",
        "\n",
        "# Step 1: Similarity - Calculate dot products for Q and K (attention scores)\n",
        "attention_scores_1 = Q_1.dot(K_1.T)\n",
        "\n",
        "# Step 2: Weights - Apply softmax to attention scores\n",
        "def softmax(x):\n",
        "    e_x = np.exp(x - np.max(x))\n",
        "    return e_x / e_x.sum(axis=0)\n",
        "\n",
        "attention_weights_1 = np.apply_along_axis(softmax, 1, attention_scores_1)\n",
        "\n",
        "# Step 3: Contextualized vector - Multiply attention weights by V and sum to get output vectors\n",
        "attention_output_1 = attention_weights_1.dot(V_1)"
      ],
      "metadata": {
        "id": "yjD0ebzglBB0"
      },
      "execution_count": 3,
      "outputs": []
    },
    {
      "cell_type": "code",
      "source": [
        "attention_scores_1"
      ],
      "metadata": {
        "colab": {
          "base_uri": "https://localhost:8080/"
        },
        "id": "xFqW5G7smXcw",
        "outputId": "2c779da6-3dac-465e-f92b-4d6fab289638"
      },
      "execution_count": 4,
      "outputs": [
        {
          "output_type": "execute_result",
          "data": {
            "text/plain": [
              "array([[0.02, 0.1 , 0.03, 0.02, 0.12],\n",
              "       [0.1 , 0.5 , 0.15, 0.1 , 0.6 ],\n",
              "       [0.03, 0.15, 0.05, 0.03, 0.17],\n",
              "       [0.02, 0.1 , 0.03, 0.02, 0.12],\n",
              "       [0.12, 0.6 , 0.17, 0.12, 0.74]])"
            ]
          },
          "metadata": {},
          "execution_count": 4
        }
      ]
    },
    {
      "cell_type": "code",
      "source": [
        "attention_weights_1"
      ],
      "metadata": {
        "colab": {
          "base_uri": "https://localhost:8080/"
        },
        "id": "X9mtOa6kpwby",
        "outputId": "a3030ac7-f9d1-4cf6-b015-0c7620afe12c"
      },
      "execution_count": 5,
      "outputs": [
        {
          "output_type": "execute_result",
          "data": {
            "text/plain": [
              "array([[0.19236288, 0.20838422, 0.19429616, 0.19236288, 0.21259386],\n",
              "       [0.16150348, 0.24093488, 0.16978394, 0.16150348, 0.26627422],\n",
              "       [0.18875147, 0.21281669, 0.1925645 , 0.18875147, 0.21711587],\n",
              "       [0.19236288, 0.20838422, 0.19429616, 0.19236288, 0.21259386],\n",
              "       [0.1532268 , 0.24762591, 0.1610829 , 0.1532268 , 0.28483759]])"
            ]
          },
          "metadata": {},
          "execution_count": 5
        }
      ]
    },
    {
      "cell_type": "code",
      "source": [
        "attention_output_1"
      ],
      "metadata": {
        "colab": {
          "base_uri": "https://localhost:8080/"
        },
        "id": "o18nKoEXpxRm",
        "outputId": "0fca9e9a-d0c1-477f-edac-ec0ec7771ef2"
      },
      "execution_count": 6,
      "outputs": [
        {
          "output_type": "execute_result",
          "data": {
            "text/plain": [
              "array([[0.28782085, 0.31091   ],\n",
              "       [0.31986203, 0.35613848],\n",
              "       [0.29122947, 0.3153962 ],\n",
              "       [0.28782085, 0.31091   ],\n",
              "       [0.32909369, 0.36995292]])"
            ]
          },
          "metadata": {},
          "execution_count": 6
        }
      ]
    },
    {
      "cell_type": "code",
      "source": [
        "import seaborn as sns\n",
        "\n",
        "# Set up the plot\n",
        "fig, axes = plt.subplots(1, 1, figsize=(15, 5))\n",
        "\n",
        "# Sentence 1: \"the bank of the river\"\n",
        "# Create a heatmap for the attention weights of the first sentence\n",
        "sns.heatmap(attention_weights_1, annot=True, fmt=\".2f\", xticklabels=sentence_1, yticklabels=sentence_1)\n",
        "axes.set_title('Attention Weights for \"the bank of the river\"')\n",
        "\n",
        "plt.show()"
      ],
      "metadata": {
        "colab": {
          "base_uri": "https://localhost:8080/",
          "height": 357
        },
        "id": "yvYWT6bPyrfu",
        "outputId": "9998f1dd-538d-4015-a5c0-6525432dff97"
      },
      "execution_count": 7,
      "outputs": [
        {
          "output_type": "display_data",
          "data": {
            "text/plain": [
              "<Figure size 1500x500 with 2 Axes>"
            ],
            "image/png": "[encoded data removed]"
          },
          "metadata": {}
        }
      ]
    },
    {
      "cell_type": "code",
      "source": [
        "# Plotting the original embeddings and the attention output for the first sentence \"the bank of the river\"\n",
        "\n",
        "# Extract the relevant embeddings for the first sentence\n",
        "sentence_embeddings_1 = np.array([embeddings[word] for word in sentence_1])\n",
        "\n",
        "# Convert the attention output for the first sentence to a numpy array for ease of use\n",
        "attention_output_array_1 = np.array(attention_output_1)\n",
        "\n",
        "# Set up the plot\n",
        "fig, axes = plt.subplots(1, 2, figsize=(15, 5))\n",
        "\n",
        "# Plot original embeddings\n",
        "for i, word in enumerate(sentence_1):\n",
        "    axes[0].scatter(sentence_embeddings_1[i, 0], sentence_embeddings_1[i, 1], label=f\"{word}\")\n",
        "\n",
        "axes[0].set_title('Original Word Embeddings for \"the bank of the river\"')\n",
        "axes[0].set_xlabel('Dimension 1')\n",
        "axes[0].set_ylabel('Dimension 2')\n",
        "axes[0].grid(True)\n",
        "axes[0].legend()\n",
        "\n",
        "# Plot output vectors\n",
        "for i, word in enumerate(sentence_1):\n",
        "    axes[1].scatter(attention_output_array_1[i, 0], attention_output_array_1[i, 1], label=f\"{word}\")\n",
        "\n",
        "axes[1].set_title('Self-Attention Output Vectors for \"the bank of the river\"')\n",
        "axes[1].set_xlabel('Dimension 1')\n",
        "axes[1].set_ylabel('Dimension 2')\n",
        "axes[1].grid(True)\n",
        "axes[1].legend()\n",
        "\n",
        "plt.show()\n"
      ],
      "metadata": {
        "colab": {
          "base_uri": "https://localhost:8080/",
          "height": 487
        },
        "id": "fYrqSnwHpkPI",
        "outputId": "0632e388-8c69-4634-91e1-91381ff6644d"
      },
      "execution_count": null,
      "outputs": [
        {
          "output_type": "display_data",
          "data": {
            "text/plain": [
              "<Figure size 1500x500 with 2 Axes>"
            ],
            "image/png": "[encoded data removed]"
          },
          "metadata": {}
        }
      ]
    },
    {
      "cell_type": "code",
      "source": [
        "# Calculate the Euclidean distance between \"Money\" and \"bank\" in the original embeddings for the second sentence\n",
        "original_river = embeddings[\"river\"]\n",
        "original_bank = embeddings[\"bank\"]  # The same embedding for \"bank\" is used as in the first sentence\n",
        "distance_original = np.linalg.norm(original_river - original_bank)\n",
        "\n",
        "# Find the positions of \"Money\" and \"bank\" in the second sentence\n",
        "river_position = sentence_1.index(\"river\")\n",
        "bank_position = sentence_1.index(\"bank\")\n",
        "\n",
        "# Calculate the Euclidean distance between \"Money\" and \"bank\" in the output vectors for the second sentence\n",
        "output_river = attention_output_1[river_position]\n",
        "output_bank = attention_output_1[bank_position]\n",
        "distance_output = np.linalg.norm(output_river - output_bank)\n",
        "\n",
        "distance_original, distance_output\n"
      ],
      "metadata": {
        "colab": {
          "base_uri": "https://localhost:8080/"
        },
        "id": "QBlWx3eft7jJ",
        "outputId": "f9fe1d02-743b-4310-f285-b4ddb2f98499"
      },
      "execution_count": null,
      "outputs": [
        {
          "output_type": "execute_result",
          "data": {
            "text/plain": [
              "(0.19999999999999996, 0.016615114409190702)"
            ]
          },
          "metadata": {},
          "execution_count": 7
        }
      ]
    },
    {
      "cell_type": "markdown",
      "source": [
        "# Exercise 1\n",
        "\n",
        "Calculate contextualized vectors for \"Money in the bank\" using the self-attention mechanism?\n",
        "\n"
      ],
      "metadata": {
        "id": "62qsT3fVMVL4"
      }
    },
    {
      "cell_type": "code",
      "source": [
        "# Second example sentence\n",
        "sentence_2 = [\"Money\", \"in\", \"the\", \"bank\"]\n",
        "\n",
        "# Initialize matrices for Q, K, V for the second sentence\n",
        "\n",
        "\n",
        "# Step 1: Similarity - Calculate dot products for Q and K (attention scores)\n",
        "\n",
        "# Step 2: Weights - Apply softmax to attention scores\n",
        "\n",
        "# Step 3: Contextualized vector - Multiply attention weights by V and sum to get output vectors for the second sentence\n"
      ],
      "metadata": {
        "id": "loG0Q8Y6q56h"
      },
      "execution_count": null,
      "outputs": []
    },
    {
      "cell_type": "code",
      "source": [
        "attention_weights_2"
      ],
      "metadata": {
        "colab": {
          "base_uri": "https://localhost:8080/"
        },
        "id": "3v_HOOc_rX0Y",
        "outputId": "e0dea9e2-f831-4b13-cf35-4c196dd3a4ca"
      },
      "execution_count": null,
      "outputs": [
        {
          "output_type": "execute_result",
          "data": {
            "text/plain": [
              "array([[0.28953672, 0.21182959, 0.20250855, 0.29612514],\n",
              "       [0.26179275, 0.23926056, 0.23452288, 0.26442381],\n",
              "       [0.25840972, 0.24214734, 0.23973793, 0.259705  ],\n",
              "       [0.29110965, 0.21033468, 0.20007654, 0.29847913]])"
            ]
          },
          "metadata": {},
          "execution_count": 9
        }
      ]
    },
    {
      "cell_type": "code",
      "source": [
        "attention_output_2"
      ],
      "metadata": {
        "colab": {
          "base_uri": "https://localhost:8080/"
        },
        "id": "8yG20QCjrZax",
        "outputId": "cf2ac6d7-b285-4f39-8917-b89b69b8881c"
      },
      "execution_count": null,
      "outputs": [
        {
          "output_type": "execute_result",
          "data": {
            "text/plain": [
              "array([[0.33426474, 0.34097087],\n",
              "       [0.31048662, 0.32132304],\n",
              "       [0.30724589, 0.31854014],\n",
              "       [0.33583551, 0.3423135 ]])"
            ]
          },
          "metadata": {},
          "execution_count": 10
        }
      ]
    },
    {
      "cell_type": "code",
      "source": [
        "# Calculate the Euclidean distance between \"Money\" and \"bank\" in the original embeddings for the second sentence\n"
      ],
      "metadata": {
        "id": "UQ0LO3AgupxA"
      },
      "execution_count": null,
      "outputs": []
    },
    {
      "cell_type": "code",
      "source": [
        "import seaborn as sns\n",
        "\n",
        "# Set up the plot\n",
        "fig, axes = plt.subplots(1, 2, figsize=(15, 5))\n",
        "\n",
        "# Sentence 1: \"the bank of the river\"\n",
        "# Create a heatmap for the attention weights of the first sentence\n",
        "sns.heatmap(attention_weights_1, annot=True, fmt=\".2f\", xticklabels=sentence_1, yticklabels=sentence_1, ax=axes[0])\n",
        "axes[0].set_title('Attention Weights for \"the bank of the river\"')\n",
        "\n",
        "# Sentence 2: \"Money in the bank\"\n",
        "# Create a heatmap for the attention weights of the second sentence\n",
        "sns.heatmap(attention_weights_2, annot=True, fmt=\".2f\", xticklabels=sentence_2, yticklabels=sentence_2, ax=axes[1])\n",
        "axes[1].set_title('Attention Weights for \"Money in the bank\"')\n",
        "\n",
        "plt.show()"
      ],
      "metadata": {
        "colab": {
          "base_uri": "https://localhost:8080/",
          "height": 468
        },
        "id": "qYkh-w69lDer",
        "outputId": "a1d05cc4-1be5-41f2-b804-7108315b55d7"
      },
      "execution_count": null,
      "outputs": [
        {
          "output_type": "display_data",
          "data": {
            "text/plain": [
              "<Figure size 1500x500 with 4 Axes>"
            ],
            "image/png": "[encoded data removed]"
          },
          "metadata": {}
        }
      ]
    },
    {
      "cell_type": "markdown",
      "source": [
        "# Transformer Model Architecture"
      ],
      "metadata": {
        "id": "jD8fFOmbsogt"
      }
    },
    {
      "cell_type": "markdown",
      "source": [
        "![](https://lilianweng.github.io/posts/2018-06-24-attention/transformer.png)"
      ],
      "metadata": {
        "id": "_0Tw7m0FvKPv"
      }
    },
    {
      "cell_type": "markdown",
      "source": [
        "| Model           | Examples                                 | Tasks                                               |\n",
        "|-----------------|------------------------------------------|-----------------------------------------------------|\n",
        "| Encoder         | ALBERT, BERT, DistilBERT, ELECTRA, RoBERTa | Sentence classification, named entity recognition, extractive question answering |\n",
        "| Decoder         | CTRL, GPT, GPT-2, Transformer XL         | Text generation                                     |\n",
        "| Encoder-decoder | BART, T5, Marian, mBART                  | Summarization, translation, generative question answering |\n"
      ],
      "metadata": {
        "id": "IxcZuQKAc3OY"
      }
    },
    {
      "cell_type": "code",
      "source": [
        "# Residual connection\n",
        "residual_2 = Q_2 + attention_output_2"
      ],
      "metadata": {
        "id": "GsOKahVlOpzP"
      },
      "execution_count": null,
      "outputs": []
    },
    {
      "cell_type": "code",
      "source": [
        "# Layer normalization\n",
        "norm_layer = torch.nn.LayerNorm(2)\n",
        "norm_layer(torch.tensor(residual_2, dtype=torch.float32))"
      ],
      "metadata": {
        "colab": {
          "base_uri": "https://localhost:8080/"
        },
        "id": "3_eCgGnhu2Nn",
        "outputId": "315b9ee6-93f0-4ca6-8d50-f1cbc7b8bfd8"
      },
      "execution_count": null,
      "outputs": [
        {
          "output_type": "execute_result",
          "data": {
            "text/plain": [
              "tensor([[ 0.9895, -0.9895],\n",
              "        [-0.9984,  0.9984],\n",
              "        [-0.8725,  0.8725],\n",
              "        [-0.7155,  0.7155]], grad_fn=<NativeLayerNormBackward0>)"
            ]
          },
          "metadata": {},
          "execution_count": 14
        }
      ]
    },
    {
      "cell_type": "markdown",
      "source": [
        "# What is text embedding?"
      ],
      "metadata": {
        "id": "jingl7LJYSOy"
      }
    },
    {
      "cell_type": "markdown",
      "source": [
        "Text embedding is a representation of text in the form of vectors. The main goal of embedding is to capture the semantic meaning of the text in a way that reflects the context and usage of words or phrases. In machine learning, embeddings are used to convert text into a continuous vector space where similar words have similar representations, making it easier for models to understand and process language."
      ],
      "metadata": {
        "id": "9PrWTi2qfCgl"
      }
    },
    {
      "cell_type": "markdown",
      "source": [
        "![](https://www.researchgate.net/publication/340825443/figure/fig6/AS:882927785238529@1587517796128/Word-embeddings-map-words-in-a-corpus-of-text-to-vector-space-Linear-combinations-of.png)"
      ],
      "metadata": {
        "id": "htIesh5Pe-6k"
      }
    },
    {
      "cell_type": "markdown",
      "source": [
        "Let's try checking the embeddings of words.\n",
        "\n",
        "\n",
        "[Embeddings Projector](https://projector.tensorflow.org/)"
      ],
      "metadata": {
        "id": "9AyWT8vFY4jL"
      }
    },
    {
      "cell_type": "markdown",
      "source": [
        "In general all types of text embeddings approaches can be grouped into two categorizes namely word enbeddings and sentence embeddings."
      ],
      "metadata": {
        "id": "tv70Xlx4jXMC"
      }
    },
    {
      "cell_type": "markdown",
      "source": [
        "![](https://raw.githubusercontent.com/aaubs/ds-master/main/data/Images/word_embeddings.png)"
      ],
      "metadata": {
        "id": "tpjOc1vSjFsT"
      }
    },
    {
      "cell_type": "markdown",
      "source": [
        "In the first step, we will explore BERT models. Afterward, we will investigate the SBERT approach to generating sentence embeddings.\n",
        "\n"
      ],
      "metadata": {
        "id": "4RfTrE1Rlunr"
      }
    },
    {
      "cell_type": "markdown",
      "source": [
        "![](https://raw.githubusercontent.com/aaubs/ds-master/main/data/Images/sentence_embeddings.png)"
      ],
      "metadata": {
        "id": "EY4rGvddjE13"
      }
    },
    {
      "cell_type": "markdown",
      "source": [
        "# How can trian a transformer model to compute embeddings?"
      ],
      "metadata": {
        "id": "tvOwtvDhlIya"
      }
    },
    {
      "cell_type": "markdown",
      "source": [
        "There are two different types of training for Transformer models: **pre-training** and **fine-tuning**.\n"
      ],
      "metadata": {
        "id": "hsM_PbU2nxvw"
      }
    },
    {
      "cell_type": "markdown",
      "source": [
        "![](https://docs.graphcore.ai/projects/bert-training/en/latest/_images/training-tuning-inference.png)"
      ],
      "metadata": {
        "id": "xhfQ2kI-k5tL"
      }
    },
    {
      "cell_type": "markdown",
      "source": [
        "For Transformer models that use a **Masked Language Model (MLM)** approach, such as BERT, the training process is specialized to handle the unique challenges of understanding language in a bidirectional context. Here's an overview of the training approaches for MLM-based Transformer models:\n",
        "\n",
        "## Pre-training\n",
        "\n",
        "MLM-based models are typically trained in two stages, with pre-training being the first:\n",
        "\n",
        "> - **Masked Language Modeling**: In this core pre-training task, a certain percentage of the input tokens are replaced with a [MASK] token, and the model must predict the original token. This trains the model to understand context and to use surrounding words to fill in blanks. For example:\n",
        "      Original Sentence: \"The quick brown fox jumps over the lazy dog.\"\n",
        "      MLM Input: \"The quick brown [MASK] jumps over the lazy dog.\"\n",
        "      Model's Task: Predict the word \"fox\" to replace [MASK].\n",
        "> - **Next Sentence Prediction (NSP)**: In the case of BERT, along with the MLM task, the model is also trained on a binary classification task to predict whether two sentences follow each other in the original text. This helps the model learn relationships between sentences. For example:\n",
        "      Sentence A: \"The quick brown fox jumps over the lazy dog.\"\n",
        "      Sentence B: \"It then swiftly ran up the hill.\"\n",
        "      Sentence B: \"Oranges are rich in vitamin C.\"\n",
        "\n",
        "During pre-training, the model is trained on a large, diverse corpus of text to develop a broad understanding of language. The choice of corpus is crucial — it needs to be large and varied enough to ensure that the model can learn a wide range of linguistic patterns and structures.\n",
        "\n",
        "## Fine-tuning\n",
        "\n",
        "Once pre-trained, the model can be fine-tuned on specific downstream tasks:\n",
        "\n",
        "> - **Supervised Fine-tuning**: Here, the pre-trained model is fine-tuned on a smaller, labeled dataset for tasks such as sentiment analysis, named entity recognition, or question answering. The fine-tuning adapts the model to the specificities of the task at hand.\n",
        "> - **Task-specific Inputs**: For fine-tuning, the input format is often adapted to the specific task. For instance, for question answering, the input may be structured as \"[QUESTION] [SEP] [CONTEXT]\" where [SEP] is a special token that separates the question from the context passage.\n",
        "> - **Output Layer**: During fine-tuning, a task-specific output layer is often added on top of the pre-trained model. For example, for classification tasks, a softmax layer is added to output probability distributions over classes."
      ],
      "metadata": {
        "id": "jzymq8GUg9_M"
      }
    },
    {
      "cell_type": "markdown",
      "source": [
        "### Let's check the architecture of BERT!"
      ],
      "metadata": {
        "id": "MnQZAieX1GrZ"
      }
    },
    {
      "cell_type": "markdown",
      "source": [
        "![](https://vitalflux.com/wp-content/uploads/2023/08/BERT-base-BERT-Large-neural-network-architectures.png)"
      ],
      "metadata": {
        "id": "VL4APPMkg677"
      }
    },
    {
      "cell_type": "markdown",
      "source": [
        "### Let's see how BERT has been trianed!"
      ],
      "metadata": {
        "id": "CHomgSuh0nLP"
      }
    },
    {
      "cell_type": "markdown",
      "source": [
        "![](https://360digit.b-cdn.net/assets/admin/ckfinder/userfiles/images/blog/11-05-2021/11-05-2021(a)/image4.jpg)"
      ],
      "metadata": {
        "id": "Fjir-l-BhVT7"
      }
    },
    {
      "cell_type": "code",
      "source": [
        "!pip install transformers --q"
      ],
      "metadata": {
        "colab": {
          "base_uri": "https://localhost:8080/"
        },
        "id": "st8xlioe2nAH",
        "outputId": "431accf6-dd96-41f1-baf7-e82a754b21fb"
      },
      "execution_count": null,
      "outputs": [
        {
          "output_type": "stream",
          "name": "stdout",
          "text": [
            "\u001b[2K     \u001b[90m━━━━━━━━━━━━━━━━━━━━━━━━━━━━━━━━━━━━━━━━\u001b[0m \u001b[32m7.9/7.9 MB\u001b[0m \u001b[31m17.2 MB/s\u001b[0m eta \u001b[36m0:00:00\u001b[0m\n",
            "\u001b[2K     \u001b[90m━━━━━━━━━━━━━━━━━━━━━━━━━━━━━━━━━━━━━━━━\u001b[0m \u001b[32m302.0/302.0 kB\u001b[0m \u001b[31m25.6 MB/s\u001b[0m eta \u001b[36m0:00:00\u001b[0m\n",
            "\u001b[2K     \u001b[90m━━━━━━━━━━━━━━━━━━━━━━━━━━━━━━━━━━━━━━━━\u001b[0m \u001b[32m3.8/3.8 MB\u001b[0m \u001b[31m23.9 MB/s\u001b[0m eta \u001b[36m0:00:00\u001b[0m\n",
            "\u001b[2K     \u001b[90m━━━━━━━━━━━━━━━━━━━━━━━━━━━━━━━━━━━━━━━━\u001b[0m \u001b[32m1.3/1.3 MB\u001b[0m \u001b[31m27.5 MB/s\u001b[0m eta \u001b[36m0:00:00\u001b[0m\n",
            "\u001b[2K     \u001b[90m━━━━━━━━━━━━━━━━━━━━━━━━━━━━━━━━━━━━━━━━\u001b[0m \u001b[32m295.0/295.0 kB\u001b[0m \u001b[31m26.6 MB/s\u001b[0m eta \u001b[36m0:00:00\u001b[0m\n",
            "\u001b[?25h"
          ]
        }
      ]
    },
    {
      "cell_type": "code",
      "source": [
        "from transformers import BertTokenizer, BertModel\n",
        "\n",
        "# Initialize the tokenizer and model\n",
        "tokenizer = BertTokenizer.from_pretrained('bert-base-uncased')\n",
        "model = BertModel.from_pretrained('bert-base-uncased')\n",
        "\n",
        "# Tokenize the sentence\n",
        "sentence = \"The bank of the river.\"\n",
        "inputs = tokenizer(sentence, return_tensors=\"pt\", add_special_tokens=True)\n",
        "\n",
        "# Get the token IDs (input to the model)\n",
        "input_ids = inputs['input_ids']\n",
        "\n",
        "# Forward pass through BERT to get the embeddings\n",
        "with torch.no_grad():\n",
        "    outputs = model(input_ids)\n",
        "\n",
        "# The last_hidden_state is the embeddings for the last layer\n",
        "# It has shape [batch_size, sequence_length, hidden_size], where hidden_size is 768 for BERT base\n",
        "embeddings = outputs.last_hidden_state.squeeze(0)  # Remove the batch dimension\n",
        "\n",
        "# Now, `embeddings` contains the embeddings for each token in the sentence\n"
      ],
      "metadata": {
        "id": "vM1xgi-8dy4O"
      },
      "execution_count": null,
      "outputs": []
    },
    {
      "cell_type": "code",
      "source": [
        "embeddings.shape"
      ],
      "metadata": {
        "colab": {
          "base_uri": "https://localhost:8080/"
        },
        "id": "UmbmBK1rNV1r",
        "outputId": "e7d7f34c-b0fa-4468-e566-2493f25585a0"
      },
      "execution_count": null,
      "outputs": [
        {
          "output_type": "execute_result",
          "data": {
            "text/plain": [
              "torch.Size([8, 768])"
            ]
          },
          "metadata": {},
          "execution_count": 40
        }
      ]
    },
    {
      "cell_type": "markdown",
      "source": [
        "Remember that BERT adds special tokens like [CLS] at the start and [SEP] at the end of the sentence. If you're interested in word-level embeddings, you would ignore these special tokens."
      ],
      "metadata": {
        "id": "5cUzQQIpfHjV"
      }
    },
    {
      "cell_type": "code",
      "source": [
        "import numpy as np\n",
        "import matplotlib.pyplot as plt\n",
        "from sklearn.decomposition import PCA\n",
        "\n",
        "# Create a PCA object to reduce to 2 dimensions\n",
        "pca = PCA(n_components=2)\n",
        "\n",
        "# Fit and transform the embeddings using PCA\n",
        "reduced_embeddings = pca.fit_transform(embeddings[2:6])\n",
        "\n",
        "# Plot the reduced embeddings\n",
        "plt.figure(figsize=(10, 8))\n",
        "plt.scatter(reduced_embeddings[:, 0], reduced_embeddings[:, 1])\n",
        "\n",
        "# Annotate the points with the words\n",
        "words = [\"bank\", \"of\", \"the\", \"river\"]\n",
        "\n",
        "for i, word in enumerate(words):\n",
        "    plt.annotate(word, (reduced_embeddings[i, 0], reduced_embeddings[i, 1]))\n",
        "\n",
        "plt.title('Word Embeddings reduced to 2D space')\n",
        "plt.xlabel('Component 1')\n",
        "plt.ylabel('Component 2')\n",
        "plt.grid(True)\n",
        "plt.show()\n"
      ],
      "metadata": {
        "colab": {
          "base_uri": "https://localhost:8080/",
          "height": 718
        },
        "id": "DwH_iPd03mLc",
        "outputId": "61190a49-528e-4fd4-bdb6-55a48c20d2ff"
      },
      "execution_count": null,
      "outputs": [
        {
          "output_type": "display_data",
          "data": {
            "text/plain": [
              "<Figure size 1000x800 with 1 Axes>"
            ],
            "image/png": "[encoded data removed]"
          },
          "metadata": {}
        }
      ]
    },
    {
      "cell_type": "markdown",
      "source": [
        "![](https://media.arxiv-vanity.com/render-output/7086622/bert_pretraining.png)"
      ],
      "metadata": {
        "id": "TC3017gpHq-8"
      }
    },
    {
      "cell_type": "code",
      "source": [
        "print(model)"
      ],
      "metadata": {
        "colab": {
          "base_uri": "https://localhost:8080/"
        },
        "id": "xfMAZ4bvAEZV",
        "outputId": "578a7c61-1186-4d8c-981f-e6d7681d1202"
      },
      "execution_count": null,
      "outputs": [
        {
          "output_type": "stream",
          "name": "stdout",
          "text": [
            "BertModel(\n",
            "  (embeddings): BertEmbeddings(\n",
            "    (word_embeddings): Embedding(30522, 768, padding_idx=0)\n",
            "    (position_embeddings): Embedding(512, 768)\n",
            "    (token_type_embeddings): Embedding(2, 768)\n",
            "    (LayerNorm): LayerNorm((768,), eps=1e-12, elementwise_affine=True)\n",
            "    (dropout): Dropout(p=0.1, inplace=False)\n",
            "  )\n",
            "  (encoder): BertEncoder(\n",
            "    (layer): ModuleList(\n",
            "      (0-11): 12 x BertLayer(\n",
            "        (attention): BertAttention(\n",
            "          (self): BertSelfAttention(\n",
            "            (query): Linear(in_features=768, out_features=768, bias=True)\n",
            "            (key): Linear(in_features=768, out_features=768, bias=True)\n",
            "            (value): Linear(in_features=768, out_features=768, bias=True)\n",
            "            (dropout): Dropout(p=0.1, inplace=False)\n",
            "          )\n",
            "          (output): BertSelfOutput(\n",
            "            (dense): Linear(in_features=768, out_features=768, bias=True)\n",
            "            (LayerNorm): LayerNorm((768,), eps=1e-12, elementwise_affine=True)\n",
            "            (dropout): Dropout(p=0.1, inplace=False)\n",
            "          )\n",
            "        )\n",
            "        (intermediate): BertIntermediate(\n",
            "          (dense): Linear(in_features=768, out_features=3072, bias=True)\n",
            "          (intermediate_act_fn): GELUActivation()\n",
            "        )\n",
            "        (output): BertOutput(\n",
            "          (dense): Linear(in_features=3072, out_features=768, bias=True)\n",
            "          (LayerNorm): LayerNorm((768,), eps=1e-12, elementwise_affine=True)\n",
            "          (dropout): Dropout(p=0.1, inplace=False)\n",
            "        )\n",
            "      )\n",
            "    )\n",
            "  )\n",
            "  (pooler): BertPooler(\n",
            "    (dense): Linear(in_features=768, out_features=768, bias=True)\n",
            "    (activation): Tanh()\n",
            "  )\n",
            ")\n"
          ]
        }
      ]
    },
    {
      "cell_type": "markdown",
      "source": [
        "> **nn.Embedding** in PyTorch is like a large lookup table that maps each unique word or token in your vocabulary to a high-dimensional vector. Imagine it as a dictionary, but instead of giving you the definition of a word, it gives you a list of numbers that represent that word in a space where similar words are closer together."
      ],
      "metadata": {
        "id": "CugI2cnHuwYS"
      }
    },
    {
      "cell_type": "code",
      "source": [
        "import torch\n",
        "import torch.nn as nn\n",
        "\n",
        "# Step 1: Create a vocabulary. Normally you'd want a large corpus to create this.\n",
        "vocab = {'<pad>': 0, 'The': 1, 'bank': 2, 'of': 3, 'river': 4}\n",
        "vocab_size = len(vocab)  # This will be the number of rows in the embedding matrix.\n",
        "embedding_dim = 2  # You can choose the size of the embeddings.\n",
        "\n",
        "# Step 2: Convert the sentence \"The bank of river\" to indices.\n",
        "sentence = \"The bank of river\"\n",
        "indices = [vocab[word] for word in sentence.split()]\n",
        "\n",
        "# Step 3: Create the embedding layer.\n",
        "embedding_layer = nn.Embedding(num_embeddings=vocab_size, embedding_dim=embedding_dim)\n",
        "\n",
        "# Step 4: Use the embedding layer to get embeddings for the indices.\n",
        "# Convert indices list to a tensor.\n",
        "indices_tensor = torch.LongTensor(indices)\n",
        "\n",
        "# Get embeddings for indices.\n",
        "embeddings = embedding_layer(indices_tensor)\n",
        "\n",
        "print(embeddings)  # This will print out the embeddings for each word in the sentence."
      ],
      "metadata": {
        "colab": {
          "base_uri": "https://localhost:8080/"
        },
        "id": "_YT9ZyxRu4Ic",
        "outputId": "a2b8c4ec-9b92-4aa2-90f2-1e8261baeeb8"
      },
      "execution_count": null,
      "outputs": [
        {
          "output_type": "stream",
          "name": "stdout",
          "text": [
            "tensor([[ 6.1823e-01,  3.7927e-02],\n",
            "        [-2.4960e-03, -3.9648e-01],\n",
            "        [-1.2649e+00, -2.9598e+00],\n",
            "        [-3.8356e-01,  1.8303e+00]], grad_fn=<EmbeddingBackward0>)\n"
          ]
        }
      ]
    },
    {
      "cell_type": "code",
      "source": [
        "embeddings.shape"
      ],
      "metadata": {
        "colab": {
          "base_uri": "https://localhost:8080/"
        },
        "id": "2qNp_EZ622tr",
        "outputId": "a4c5b7c7-4aa3-454d-96a7-87e2be756c1e"
      },
      "execution_count": null,
      "outputs": [
        {
          "output_type": "execute_result",
          "data": {
            "text/plain": [
              "torch.Size([4, 2])"
            ]
          },
          "metadata": {},
          "execution_count": 38
        }
      ]
    },
    {
      "cell_type": "markdown",
      "source": [
        "# Exercise 2\n",
        "\n",
        "Calculate embeddings for \"Money in the bank\" using BERT, and show the embeddings for each word?\n",
        "\n"
      ],
      "metadata": {
        "id": "eZJcdE2MxolJ"
      }
    },
    {
      "cell_type": "code",
      "source": [],
      "metadata": {
        "id": "MVaL7Y5GKOBg"
      },
      "execution_count": null,
      "outputs": []
    },
    {
      "cell_type": "markdown",
      "source": [
        "To begin with, it's essential to grasp the distinctions between Bi-Encoders and Cross-Encoders.\n",
        "\n",
        "- Bi-Encoders generate a sentence embedding for a specific sentence. In this process, sentences A and B are independently fed into a BERT model, resulting in sentence embeddings u and v, respectively. These embeddings can then be evaluated against each other using cosine similarity.\n",
        "\n",
        "- Cross-Encoders take both sentences at the same time and input them into the Transformer model. This model then yields a score ranging from 0 to 1 that reflects the degree of similarity between the two input sentences.\n"
      ],
      "metadata": {
        "id": "cAaRjhFkQk3r"
      }
    },
    {
      "cell_type": "markdown",
      "source": [
        "![](https://raw.githubusercontent.com/UKPLab/sentence-transformers/master/docs/img/Bi_vs_Cross-Encoder.png)"
      ],
      "metadata": {
        "id": "5OAIVEBlQg6H"
      }
    },
    {
      "cell_type": "markdown",
      "source": [
        "Unlike Bi-Encoders, Cross-Encoders do not create sentence embeddings. Additionally, it's not possible to input sentences into a Cross-Encoder one at a time."
      ],
      "metadata": {
        "id": "xwgLmTlmSovz"
      }
    },
    {
      "cell_type": "code",
      "source": [
        "!pip install -U sentence-transformers --q"
      ],
      "metadata": {
        "colab": {
          "base_uri": "https://localhost:8080/"
        },
        "id": "8Z3fuTkpS7nq",
        "outputId": "b0b51b38-adfa-4e5b-cd72-cb289ed55192"
      },
      "execution_count": null,
      "outputs": [
        {
          "output_type": "stream",
          "name": "stdout",
          "text": [
            "\u001b[?25l     \u001b[90m━━━━━━━━━━━━━━━━━━━━━━━━━━━━━━━━━━━━━━━━\u001b[0m \u001b[32m0.0/86.0 kB\u001b[0m \u001b[31m?\u001b[0m eta \u001b[36m-:--:--\u001b[0m\r\u001b[2K     \u001b[91m━━━━━━━━━━━━━━━━━━━━━━━━━━━━━━━━━━━━━━\u001b[0m\u001b[90m╺\u001b[0m\u001b[90m━\u001b[0m \u001b[32m81.9/86.0 kB\u001b[0m \u001b[31m2.2 MB/s\u001b[0m eta \u001b[36m0:00:01\u001b[0m\r\u001b[2K     \u001b[90m━━━━━━━━━━━━━━━━━━━━━━━━━━━━━━━━━━━━━━━━\u001b[0m \u001b[32m86.0/86.0 kB\u001b[0m \u001b[31m1.7 MB/s\u001b[0m eta \u001b[36m0:00:00\u001b[0m\n",
            "\u001b[?25h  Preparing metadata (setup.py) ... \u001b[?25l\u001b[?25hdone\n",
            "\u001b[2K     \u001b[90m━━━━━━━━━━━━━━━━━━━━━━━━━━━━━━━━━━━━━━━━\u001b[0m \u001b[32m1.3/1.3 MB\u001b[0m \u001b[31m8.1 MB/s\u001b[0m eta \u001b[36m0:00:00\u001b[0m\n",
            "\u001b[?25h  Building wheel for sentence-transformers (setup.py) ... \u001b[?25l\u001b[?25hdone\n"
          ]
        }
      ]
    },
    {
      "cell_type": "code",
      "source": [
        "from sentence_transformers import SentenceTransformer\n",
        "model = SentenceTransformer('all-MiniLM-L6-v2')\n",
        "\n",
        "#Our sentences we like to encode\n",
        "sentences = ['This framework generates embeddings for each input sentence',\n",
        "    'Sentences are passed as a list of string.',\n",
        "    'The quick brown fox jumps over the lazy dog.']\n",
        "\n",
        "#Sentences are encoded by calling model.encode()\n",
        "embeddings = model.encode(sentences, convert_to_tensor=True)\n",
        "\n",
        "#Print the embeddings\n",
        "for sentence, embedding in zip(sentences[:1], embeddings[:1]):\n",
        "    print(\"Sentence:\", sentence)\n",
        "    print(\"Embedding shape:\", embedding.shape)\n",
        "    print(\"\")"
      ],
      "metadata": {
        "id": "C0RTWo1_nz4T",
        "colab": {
          "base_uri": "https://localhost:8080/"
        },
        "outputId": "3719ee51-98cd-4141-9b0b-bd1e5c1b7495"
      },
      "execution_count": null,
      "outputs": [
        {
          "output_type": "stream",
          "name": "stdout",
          "text": [
            "Sentence: This framework generates embeddings for each input sentence\n",
            "Embedding shape: torch.Size([384])\n",
            "\n"
          ]
        }
      ]
    },
    {
      "cell_type": "markdown",
      "source": [
        "# Exercise 3\n",
        "\n",
        "Calculate embeddings for \"The bank of the river\" and \"Money in the bank\" using SBERT, and show the embeddings for each sentence?"
      ],
      "metadata": {
        "id": "i8oZ7LZ_PJ2T"
      }
    },
    {
      "cell_type": "code",
      "source": [
        "sentence_1 = 'The bank of the river'\n",
        "sentence_2 = 'Money in the bank'"
      ],
      "metadata": {
        "id": "Qvt9iOtcQKcI"
      },
      "execution_count": null,
      "outputs": []
    },
    {
      "cell_type": "code",
      "source": [],
      "metadata": {
        "id": "J5RzakjjTpAl"
      },
      "execution_count": null,
      "outputs": []
    },
    {
      "cell_type": "markdown",
      "metadata": {
        "id": "LOJ8kAFIdQHl"
      },
      "source": [
        "# Tokenizers (PyTorch)"
      ]
    },
    {
      "cell_type": "code",
      "execution_count": null,
      "metadata": {
        "id": "bGcivdY2dQHs",
        "outputId": "8403cb22-1b69-48b8-9b92-d05e4ecc963a",
        "colab": {
          "base_uri": "https://localhost:8080/"
        }
      },
      "outputs": [
        {
          "output_type": "stream",
          "name": "stdout",
          "text": [
            "['The', 'bank', 'of', 'the', 'river']\n"
          ]
        }
      ],
      "source": [
        "tokenized_text = \"The bank of the river\".split()\n",
        "print(tokenized_text)"
      ]
    },
    {
      "cell_type": "code",
      "execution_count": null,
      "metadata": {
        "id": "tnpUrFAOdQHu",
        "outputId": "7bc29323-25d9-4d2e-d940-025f56aa853a",
        "colab": {
          "base_uri": "https://localhost:8080/"
        }
      },
      "outputs": [
        {
          "output_type": "execute_result",
          "data": {
            "text/plain": [
              "{'input_ids': [101, 1996, 2924, 1997, 1996, 2314, 102], 'token_type_ids': [0, 0, 0, 0, 0, 0, 0], 'attention_mask': [1, 1, 1, 1, 1, 1, 1]}"
            ]
          },
          "metadata": {},
          "execution_count": 22
        }
      ],
      "source": [
        "tokenizer(\"The bank of the river\")"
      ]
    },
    {
      "cell_type": "code",
      "execution_count": null,
      "metadata": {
        "id": "LWW8O0fsdQHv",
        "outputId": "932b3d85-5765-40eb-d450-398eacd029f5",
        "colab": {
          "base_uri": "https://localhost:8080/"
        }
      },
      "outputs": [
        {
          "output_type": "execute_result",
          "data": {
            "text/plain": [
              "('directory_on_my_computer/tokenizer_config.json',\n",
              " 'directory_on_my_computer/special_tokens_map.json',\n",
              " 'directory_on_my_computer/vocab.txt',\n",
              " 'directory_on_my_computer/added_tokens.json')"
            ]
          },
          "metadata": {},
          "execution_count": 23
        }
      ],
      "source": [
        "tokenizer.save_pretrained(\"directory_on_my_computer\")"
      ]
    },
    {
      "cell_type": "code",
      "execution_count": null,
      "metadata": {
        "id": "fWzUobzLdQHv",
        "outputId": "c72e9b04-db5d-461f-946a-45f0ab243b84",
        "colab": {
          "base_uri": "https://localhost:8080/"
        }
      },
      "outputs": [
        {
          "output_type": "stream",
          "name": "stdout",
          "text": [
            "['the', 'bank', 'of', 'the', 'river', '.']\n"
          ]
        }
      ],
      "source": [
        "sentence_1 = \"The bank of the river.\"\n",
        "tokens = tokenizer.tokenize(sentence_1)\n",
        "\n",
        "print(tokens)"
      ]
    },
    {
      "cell_type": "code",
      "execution_count": null,
      "metadata": {
        "id": "YNE8XDXsdQHw",
        "outputId": "d743c930-b771-46d6-b431-a909d186bc86",
        "colab": {
          "base_uri": "https://localhost:8080/"
        }
      },
      "outputs": [
        {
          "output_type": "stream",
          "name": "stdout",
          "text": [
            "[1996, 2924, 1997, 1996, 2314, 1012]\n"
          ]
        }
      ],
      "source": [
        "ids = tokenizer.convert_tokens_to_ids(tokens)\n",
        "\n",
        "print(ids)"
      ]
    },
    {
      "cell_type": "code",
      "execution_count": null,
      "metadata": {
        "id": "emBKof3PdQHw",
        "outputId": "9725fbe1-f8e7-47b4-83ef-c811a1eb0d66",
        "colab": {
          "base_uri": "https://localhost:8080/"
        }
      },
      "outputs": [
        {
          "output_type": "stream",
          "name": "stdout",
          "text": [
            "the bank of the river.\n"
          ]
        }
      ],
      "source": [
        "decoded_string = tokenizer.decode([1996, 2924, 1997, 1996, 2314, 1012])\n",
        "print(decoded_string)"
      ]
    },
    {
      "cell_type": "code",
      "source": [
        "len(tokenizer.vocab)"
      ],
      "metadata": {
        "id": "j--YhVt9d4kI",
        "outputId": "990427a7-5e37-443c-c068-442064e2f7c4",
        "colab": {
          "base_uri": "https://localhost:8080/"
        }
      },
      "execution_count": null,
      "outputs": [
        {
          "output_type": "execute_result",
          "data": {
            "text/plain": [
              "30522"
            ]
          },
          "metadata": {},
          "execution_count": 27
        }
      ]
    },
    {
      "cell_type": "markdown",
      "source": [
        "# Architectures vs. Checkpoints\n",
        "\n",
        "As we dive into Transformer models in this course, you’ll see mentions of architectures and checkpoints as well as models. These terms all have slightly different meanings:\n",
        "\n",
        "- Architecture: This is the skeleton of the model — the definition of each layer and each operation that happens within the model.\n",
        "- Checkpoints: These are the weights that will be loaded in a given architecture.\n",
        "- Model: This is an umbrella term that isn’t as precise as “architecture” or “checkpoint”: it can mean both. This course will specify architecture or checkpoint when it matters to reduce ambiguity.\n",
        "\n",
        "For example, BERT is an architecture while bert-base-cased, a set of weights trained by the Google team for the first release of BERT, is a checkpoint. However, one can say “the BERT model” and “the bert-base-cased model.”"
      ],
      "metadata": {
        "id": "ORfzHGkZcQj5"
      }
    },
    {
      "cell_type": "markdown",
      "source": [
        "![](https://raw.githubusercontent.com/aaubs/ds-master/main/data/Images/transformermodel_architecture.png)"
      ],
      "metadata": {
        "id": "mYmkol6pE2U4"
      }
    }
  ]
}