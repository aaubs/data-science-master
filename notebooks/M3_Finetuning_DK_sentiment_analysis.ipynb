{
  "nbformat": 4,
  "nbformat_minor": 0,
  "metadata": {
    "colab": {
      "provenance": [],
      "authorship_tag": "ABX9TyMs6wMLuuV6qYMWpCIeJSVv",
      "include_colab_link": true
    },
    "kernelspec": {
      "name": "python3",
      "display_name": "Python 3"
    },
    "language_info": {
      "name": "python"
    },
    "accelerator": "GPU",
    "gpuClass": "standard"
  },
  "cells": [
    {
      "cell_type": "markdown",
      "metadata": {
        "id": "view-in-github",
        "colab_type": "text"
      },
      "source": [
        "<a href=\"https://colab.research.google.com/github/aaubs/ds-master/blob/main/notebooks/M3_Finetuning_DK_sentiment_analysis.ipynb\" target=\"_parent\"><img src=\"https://colab.research.google.com/assets/colab-badge.svg\" alt=\"Open In Colab\"/></a>"
      ]
    },
    {
      "cell_type": "markdown",
      "source": [
        "# Building a Danish Sentiment Analysis Model\n",
        "**By finetuning `Maltehb/danish-bert-botx` BERT**\n",
        "\n",
        "BERT is probably THE model that was a breaktrough for transformers.\n",
        "We will be using the simple-transformers library to finetune a Danish BERT model with an auto-translated [go-emotions](https://ai.googleblog.com/2021/10/goemotions-dataset-for-fine-grained.html) corpus.\n",
        "We will be monitoring the training with [Weights & Biases](http://wandb.ai). Finally, we will push the ready model to 🤗 HF-hub."
      ],
      "metadata": {
        "id": "jcnpci-XoCPf"
      }
    },
    {
      "cell_type": "code",
      "execution_count": null,
      "metadata": {
        "id": "5YleGOEjXZot"
      },
      "outputs": [],
      "source": [
        "# Installs\n",
        "!pip install wandb simpletransformers sacremoses -q\n",
        "!pip install -U transformers huggingface_hub -q"
      ]
    },
    {
      "cell_type": "markdown",
      "source": [
        "![](https://camo.githubusercontent.com/76a007a89ca0ad97ae1da9a08c7ead72ad94966e61b18b17b635b2a17cc76f23/68747470733a2f2f692e696d6775722e636f6d2f54485958424e302e706e67)"
      ],
      "metadata": {
        "id": "CSx8UE7jZAE1"
      }
    },
    {
      "cell_type": "markdown",
      "source": [
        "Log into W&B"
      ],
      "metadata": {
        "id": "7coxQ4BSpVKH"
      }
    },
    {
      "cell_type": "code",
      "source": [
        "!wandb login"
      ],
      "metadata": {
        "id": "NHUCDdEnXqE1"
      },
      "execution_count": null,
      "outputs": []
    },
    {
      "cell_type": "code",
      "source": [
        "# Imports\n",
        "import pandas as pd\n",
        "import numpy as np\n",
        "import wandb\n",
        "import logging\n",
        "from tqdm import tqdm\n",
        "from sklearn.model_selection import train_test_split\n",
        "\n",
        "from simpletransformers.classification import MultiLabelClassificationModel, MultiLabelClassificationArgs\n",
        "\n",
        "\n",
        "logging.basicConfig(level=logging.INFO)\n",
        "transformers_logger = logging.getLogger(\"transformers\")\n",
        "transformers_logger.setLevel(logging.WARNING)"
      ],
      "metadata": {
        "id": "j2j_MUpQJgYm"
      },
      "execution_count": null,
      "outputs": []
    },
    {
      "cell_type": "code",
      "source": [
        "# Initialise project with wandb\n",
        "wandb.init(project=\"M3-W2-dk-sentiment\", entity=\"rjurow\")"
      ],
      "metadata": {
        "id": "XFUGapgebLsb"
      },
      "execution_count": null,
      "outputs": []
    },
    {
      "cell_type": "code",
      "source": [
        "# Open Data\n",
        "df = pd.read_json('https://github.com/aaubs/ds-master/raw/main/data/dk-go-emotions-10k.json.gz')"
      ],
      "metadata": {
        "id": "Agb9WzdMaOiK"
      },
      "execution_count": null,
      "outputs": []
    },
    {
      "cell_type": "code",
      "source": [
        "# Define labels (from column names)\n",
        "label_cols = ['admiration', 'amusement', 'anger', 'annoyance', 'approval', 'caring', 'confusion', 'curiosity', 'desire', 'disappointment', 'disapproval', 'disgust', 'embarrassment', 'excitement', 'fear', 'gratitude', 'grief', 'joy', 'love', 'nervousness', 'optimism', 'pride', 'realization', 'relief', 'remorse', 'sadness', 'surprise', 'neutral']\n",
        "len(label_cols)"
      ],
      "metadata": {
        "id": "t5KipOBFaR0J"
      },
      "execution_count": null,
      "outputs": []
    },
    {
      "cell_type": "code",
      "source": [
        "dk_labels = ['beundring', 'fornøjelse', 'vrede', 'irritation', 'medhold', 'omsorg', 'forvirring', 'nysgerrighed', 'begær', 'skuffelse', 'misbilligelse', 'afsky', 'forlegenhed', 'spænding', 'frygt', 'taknemmelighed', 'sorg', 'glæde', 'kærlighed', 'nervøsitet', 'optimisme', 'stolthed', 'indsigt', 'lettelse', 'fortrydelse', 'tristhed', 'overraskelse', 'neutral']"
      ],
      "metadata": {
        "id": "xc1QRkXJaeRn"
      },
      "execution_count": null,
      "outputs": []
    },
    {
      "cell_type": "markdown",
      "source": [
        "We need to define label-number-text dictionaries\n",
        "for both languages (actually only danish ones needed here)"
      ],
      "metadata": {
        "id": "brdPTi4VsJ0o"
      }
    },
    {
      "cell_type": "code",
      "source": [
        "# english labels\n",
        "id2label = {str(i):label for i, label in enumerate(label_cols)}\n",
        "label2id = {label:str(i) for i, label in enumerate(label_cols)}"
      ],
      "metadata": {
        "id": "9BlnpthM8mqd"
      },
      "execution_count": null,
      "outputs": []
    },
    {
      "cell_type": "code",
      "source": [
        "# danish labels\n",
        "id2label_dk = {i:label for i, label in enumerate(dk_labels)}\n",
        "label2id_dk = {label:i for i, label in enumerate(dk_labels)}"
      ],
      "metadata": {
        "id": "_exQiZfN1ma-"
      },
      "execution_count": null,
      "outputs": []
    },
    {
      "cell_type": "code",
      "source": [
        "# making label-matrices !!!!\n",
        "df[\"labels\"] = df[label_cols].values.tolist()"
      ],
      "metadata": {
        "id": "hijfM8fxasVA"
      },
      "execution_count": null,
      "outputs": []
    },
    {
      "cell_type": "code",
      "source": [
        "# split data\n",
        "train_df, eval_df = train_test_split(df, test_size=0.1)"
      ],
      "metadata": {
        "id": "JC-y3dBSa9Aa"
      },
      "execution_count": null,
      "outputs": []
    },
    {
      "cell_type": "code",
      "source": [
        "# model training args\n",
        "model_args = MultiLabelClassificationArgs(num_train_epochs=3,\n",
        "                                          learning_rate= 3e-5,\n",
        "                                          overwrite_output_dir= True,\n",
        "                                          reprocess_input_data = True,\n",
        "                                          multiprocessing_chunksize = 30,\n",
        "                                          save_eval_checkpoints = False,\n",
        "                                          do_lower_case = True,\n",
        "                                          best_model_dir = '/content/dk-go-emotions/model',\n",
        "                                         # train_batch_size = 8,\n",
        "                                          wandb_project = \"M3-W2-dk-sentiment\")"
      ],
      "metadata": {
        "id": "ZWHq6dm0bJZy"
      },
      "execution_count": null,
      "outputs": []
    },
    {
      "cell_type": "code",
      "source": [
        "# model training\n",
        "model_mlc = MultiLabelClassificationModel('bert', \n",
        "                                          'Maltehb/danish-bert-botxo', \n",
        "                                          num_labels=28,\n",
        "                                          args=model_args)"
      ],
      "metadata": {
        "id": "EOjqpCyVbx-I"
      },
      "execution_count": null,
      "outputs": []
    },
    {
      "cell_type": "code",
      "source": [
        "# getting train and eval data into right shape\n",
        "train_df_t = train_df[['text_dk','labels']]\n",
        "eval_df_t = eval_df[['text_dk','labels']]"
      ],
      "metadata": {
        "id": "mYA05o78FNAp"
      },
      "execution_count": null,
      "outputs": []
    },
    {
      "cell_type": "code",
      "source": [
        "# rename columns so simpletransformers are happy\n",
        "train_df_t.columns = ['text','labels']\n",
        "eval_df_t.columns = ['text','labels']"
      ],
      "metadata": {
        "id": "MTiFjZQkFvlk"
      },
      "execution_count": null,
      "outputs": []
    },
    {
      "cell_type": "code",
      "source": [
        "# make dictionary for data and model\n",
        "mkdir dk-go-emotions"
      ],
      "metadata": {
        "id": "KhH1oPfXtBet"
      },
      "execution_count": null,
      "outputs": []
    },
    {
      "cell_type": "code",
      "source": [
        "# save data\n",
        "train_df_t.to_json('/content/dk-go-emotions/train_df_s.json.gz')\n",
        "eval_df_t.to_json('/content/dk-go-emotions/eval_df_s.json.gz')"
      ],
      "metadata": {
        "id": "Nr3MwJ26cBOW"
      },
      "execution_count": null,
      "outputs": []
    },
    {
      "cell_type": "code",
      "source": [
        "# train the model\n",
        "model_mlc.train_model(train_df_t)"
      ],
      "metadata": {
        "id": "3GyJlNm4cJmu"
      },
      "execution_count": null,
      "outputs": []
    },
    {
      "cell_type": "code",
      "source": [
        "# save model\n",
        "model_mlc.save_model(\"/content/dk-go-emotions/model\", model=model_mlc.model)"
      ],
      "metadata": {
        "id": "CUFP7FxJct4x"
      },
      "execution_count": null,
      "outputs": []
    },
    {
      "cell_type": "code",
      "source": [
        "# try out model directly\n",
        "p, r = model_mlc.predict(['Jeg elsker dig!'])"
      ],
      "metadata": {
        "id": "uhYRcgaTc1iK"
      },
      "execution_count": null,
      "outputs": []
    },
    {
      "cell_type": "code",
      "source": [
        "p"
      ],
      "metadata": {
        "id": "uAhoFIJ8c-QF"
      },
      "execution_count": null,
      "outputs": []
    },
    {
      "cell_type": "code",
      "source": [
        "print(np.argmax(p))\n",
        "id2label_dk[np.argmax(p)]"
      ],
      "metadata": {
        "id": "h-OwjfYIv-d4"
      },
      "execution_count": null,
      "outputs": []
    },
    {
      "cell_type": "markdown",
      "source": [
        "## Let's use it with the 🤗 `transformer` package"
      ],
      "metadata": {
        "id": "m2b1DOEZweOZ"
      }
    },
    {
      "cell_type": "code",
      "source": [
        "# load the library and pipeline\n",
        "from transformers import AutoTokenizer, AutoModelForSequenceClassification, pipeline\n",
        "\n",
        "model = AutoModelForSequenceClassification.from_pretrained('/content/dk-go-emotions/model')\n",
        "tokenizer = AutoTokenizer.from_pretrained('/content/dk-go-emotions/model')\n",
        "\n",
        "# sentiment-analysis pipeline is optimised for that use-case (there are many others)\n",
        "classifier = pipeline(\"sentiment-analysis\", model=model, tokenizer=tokenizer)\n",
        "\n",
        "classifier('Jeg elsker dig')"
      ],
      "metadata": {
        "id": "o-bSFvxecvpJ"
      },
      "execution_count": null,
      "outputs": []
    },
    {
      "cell_type": "markdown",
      "source": [
        "for some reason simpletransformers-models are not automatically storing the labels in config"
      ],
      "metadata": {
        "id": "tIK2LUx40vih"
      }
    },
    {
      "cell_type": "code",
      "source": [
        "# we can do that manually\n",
        "model.config.id2label = id2label_dk\n",
        "model.config.label2id = label2id_dk"
      ],
      "metadata": {
        "id": "TNm2oqspdU17"
      },
      "execution_count": null,
      "outputs": []
    },
    {
      "cell_type": "code",
      "source": [
        "classifier('Jeg elsker dig')"
      ],
      "metadata": {
        "id": "IsSYobM6dZwn"
      },
      "execution_count": null,
      "outputs": []
    },
    {
      "cell_type": "code",
      "source": [
        "classifier('Du er bare en stor idiot!')"
      ],
      "metadata": {
        "id": "RqPSg_NCwsVA"
      },
      "execution_count": null,
      "outputs": []
    },
    {
      "cell_type": "markdown",
      "source": [
        "HF makes it super easy to publish models on their hub"
      ],
      "metadata": {
        "id": "-aLnIXO71QQx"
      }
    },
    {
      "cell_type": "code",
      "source": [
        "from huggingface_hub import notebook_login"
      ],
      "metadata": {
        "id": "1RhKYRYLeC8u"
      },
      "execution_count": null,
      "outputs": []
    },
    {
      "cell_type": "code",
      "source": [
        "notebook_login()"
      ],
      "metadata": {
        "id": "oxmt51MTeHne"
      },
      "execution_count": null,
      "outputs": []
    },
    {
      "cell_type": "code",
      "source": [
        "model.push_to_hub('M3-W2-dk-sentiment')"
      ],
      "metadata": {
        "id": "M6Cqf1Vfda9D"
      },
      "execution_count": null,
      "outputs": []
    },
    {
      "cell_type": "code",
      "source": [
        "tokenizer.push_to_hub('M3-W2-dk-sentiment')"
      ],
      "metadata": {
        "id": "SDNafxZHdfZR"
      },
      "execution_count": null,
      "outputs": []
    }
  ]
}