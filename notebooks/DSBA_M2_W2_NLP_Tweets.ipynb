{
  "nbformat": 4,
  "nbformat_minor": 0,
  "metadata": {
    "colab": {
      "provenance": [],
      "authorship_tag": "ABX9TyOPxJofRV5seKc6QsSQRpO0",
      "include_colab_link": true
    },
    "kernelspec": {
      "name": "python3",
      "display_name": "Python 3"
    },
    "language_info": {
      "name": "python"
    }
  },
  "cells": [
    {
      "cell_type": "markdown",
      "metadata": {
        "id": "view-in-github",
        "colab_type": "text"
      },
      "source": [
        "<a href=\"https://colab.research.google.com/github/aaubs/ds-master/blob/main/notebooks/DSBA_M2_W2_NLP_Tweets.ipynb\" target=\"_parent\"><img src=\"https://colab.research.google.com/assets/colab-badge.svg\" alt=\"Open In Colab\"/></a>"
      ]
    },
    {
      "cell_type": "code",
      "metadata": {
        "id": "b_tRAjVYfbSU"
      },
      "source": [
        "!pip install tweet-preprocessor -qq"
      ],
      "execution_count": null,
      "outputs": []
    },
    {
      "cell_type": "code",
      "metadata": {
        "id": "712DkdRtdctO"
      },
      "source": [
        "import pandas as pd\n",
        "import preprocessor as prepro\n",
        "import spacy\n",
        "import seaborn as sns\n",
        "sns.set()"
      ],
      "execution_count": null,
      "outputs": []
    },
    {
      "cell_type": "code",
      "metadata": {
        "id": "J7Jl5-0Uds9W"
      },
      "source": [
        "data_congress = pd.read_json('https://github.com/SDS-AAU/SDS-master/raw/master/M2/data/pol_tweets.gz')"
      ],
      "execution_count": null,
      "outputs": []
    },
    {
      "cell_type": "code",
      "metadata": {
        "colab": {
          "base_uri": "https://localhost:8080/",
          "height": 417
        },
        "id": "WclK2YVvd4GR",
        "outputId": "3fe78e9c-41bc-4fae-97c1-ad18815d6411"
      },
      "source": [
        "data_congress"
      ],
      "execution_count": null,
      "outputs": [
        {
          "output_type": "execute_result",
          "data": {
            "text/html": [
              "<div>\n",
              "<style scoped>\n",
              "    .dataframe tbody tr th:only-of-type {\n",
              "        vertical-align: middle;\n",
              "    }\n",
              "\n",
              "    .dataframe tbody tr th {\n",
              "        vertical-align: top;\n",
              "    }\n",
              "\n",
              "    .dataframe thead th {\n",
              "        text-align: right;\n",
              "    }\n",
              "</style>\n",
              "<table border=\"1\" class=\"dataframe\">\n",
              "  <thead>\n",
              "    <tr style=\"text-align: right;\">\n",
              "      <th></th>\n",
              "      <th>text</th>\n",
              "      <th>labels</th>\n",
              "    </tr>\n",
              "  </thead>\n",
              "  <tbody>\n",
              "    <tr>\n",
              "      <th>340675</th>\n",
              "      <td>RT @GreenBeretFound Today we remember Sgt. 1st...</td>\n",
              "      <td>0</td>\n",
              "    </tr>\n",
              "    <tr>\n",
              "      <th>289492</th>\n",
              "      <td>Yes, yes, yes, yes and yes. 😷 #JerseyStrong 💪🏾...</td>\n",
              "      <td>1</td>\n",
              "    </tr>\n",
              "    <tr>\n",
              "      <th>371088</th>\n",
              "      <td>Made new friends this afternoon delivering mas...</td>\n",
              "      <td>1</td>\n",
              "    </tr>\n",
              "    <tr>\n",
              "      <th>82212</th>\n",
              "      <td>RT @TXMilitary Happening TODAY: Pilots with th...</td>\n",
              "      <td>0</td>\n",
              "    </tr>\n",
              "    <tr>\n",
              "      <th>476047</th>\n",
              "      <td>RT @SteveScalise President Trump's legal team ...</td>\n",
              "      <td>0</td>\n",
              "    </tr>\n",
              "    <tr>\n",
              "      <th>...</th>\n",
              "      <td>...</td>\n",
              "      <td>...</td>\n",
              "    </tr>\n",
              "    <tr>\n",
              "      <th>61499</th>\n",
              "      <td>Outrageous.\\n\\nBrave health care workers are p...</td>\n",
              "      <td>0</td>\n",
              "    </tr>\n",
              "    <tr>\n",
              "      <th>185562</th>\n",
              "      <td>RT @dskolnick .@RepTimRyan proposes up to $3K ...</td>\n",
              "      <td>1</td>\n",
              "    </tr>\n",
              "    <tr>\n",
              "      <th>354040</th>\n",
              "      <td>It is clear that the #HeroesAct will help tens...</td>\n",
              "      <td>1</td>\n",
              "    </tr>\n",
              "    <tr>\n",
              "      <th>708686</th>\n",
              "      <td>Democrats are talking about Bolton and Mulvane...</td>\n",
              "      <td>0</td>\n",
              "    </tr>\n",
              "    <tr>\n",
              "      <th>568643</th>\n",
              "      <td>The President claims his administration is, \"d...</td>\n",
              "      <td>1</td>\n",
              "    </tr>\n",
              "  </tbody>\n",
              "</table>\n",
              "<p>50000 rows × 2 columns</p>\n",
              "</div>"
            ],
            "text/plain": [
              "                                                     text  labels\n",
              "340675  RT @GreenBeretFound Today we remember Sgt. 1st...       0\n",
              "289492  Yes, yes, yes, yes and yes. 😷 #JerseyStrong 💪🏾...       1\n",
              "371088  Made new friends this afternoon delivering mas...       1\n",
              "82212   RT @TXMilitary Happening TODAY: Pilots with th...       0\n",
              "476047  RT @SteveScalise President Trump's legal team ...       0\n",
              "...                                                   ...     ...\n",
              "61499   Outrageous.\\n\\nBrave health care workers are p...       0\n",
              "185562  RT @dskolnick .@RepTimRyan proposes up to $3K ...       1\n",
              "354040  It is clear that the #HeroesAct will help tens...       1\n",
              "708686  Democrats are talking about Bolton and Mulvane...       0\n",
              "568643  The President claims his administration is, \"d...       1\n",
              "\n",
              "[50000 rows x 2 columns]"
            ]
          },
          "metadata": {},
          "execution_count": 3
        }
      ]
    },
    {
      "cell_type": "code",
      "metadata": {
        "id": "0fuJfwMVeHKJ"
      },
      "source": [
        "# prepro settings\n",
        "prepro.set_options(prepro.OPT.URL, prepro.OPT.EMOJI, prepro.OPT.NUMBER, prepro.OPT.RESERVED, prepro.OPT.MENTION, prepro.OPT.SMILEY)"
      ],
      "execution_count": null,
      "outputs": []
    },
    {
      "cell_type": "code",
      "metadata": {
        "id": "0ehu6h6RfrQo"
      },
      "source": [
        "data_congress['text_clean'] = data_congress['text'].map(lambda t: prepro.clean(t))"
      ],
      "execution_count": null,
      "outputs": []
    },
    {
      "cell_type": "code",
      "metadata": {
        "id": "cRnDCF6qhFRP"
      },
      "source": [
        "data_congress['text_clean'] = data_congress['text_clean'].str.replace('#','')"
      ],
      "execution_count": null,
      "outputs": []
    },
    {
      "cell_type": "code",
      "metadata": {
        "id": "MOmkKymSha8u"
      },
      "source": [
        "from sklearn.feature_extraction.text import TfidfVectorizer"
      ],
      "execution_count": null,
      "outputs": []
    },
    {
      "cell_type": "code",
      "metadata": {
        "id": "aJBAIGqonhsl"
      },
      "source": [
        "vectorizer = TfidfVectorizer(max_features=2000)\n",
        "\n",
        "X = vectorizer.fit_transform(data_congress['text_clean'])"
      ],
      "execution_count": null,
      "outputs": []
    },
    {
      "cell_type": "code",
      "metadata": {
        "id": "Sii6kbY2oW_f"
      },
      "source": [
        "y = data_congress['labels']"
      ],
      "execution_count": null,
      "outputs": []
    },
    {
      "cell_type": "code",
      "metadata": {
        "id": "NsVPv0Mf5gUL"
      },
      "source": [
        "def tweet_preprocess(tweets):\n",
        "  prepro_tweets = tweets.map(lambda t: prepro.clean(t))\n",
        "  prepro_tweets = prepro_tweets.str.replace('#','')\n",
        "  prepro_tweets = vectorizer.transform(prepro_tweets)\n",
        "\n",
        "  return prepro_tweets"
      ],
      "execution_count": null,
      "outputs": []
    },
    {
      "cell_type": "code",
      "metadata": {
        "id": "zLQ-Zg8AyUcf"
      },
      "source": [
        "from sklearn.model_selection import train_test_split\n",
        "X_train, X_test, y_train, y_test = train_test_split(X, y, test_size = 0.2, random_state = 21)"
      ],
      "execution_count": null,
      "outputs": []
    },
    {
      "cell_type": "code",
      "metadata": {
        "colab": {
          "base_uri": "https://localhost:8080/"
        },
        "id": "m3QPITwoyvam",
        "outputId": "157b15cc-85f0-4e5d-a951-69b104ceb90a"
      },
      "source": [
        "from sklearn.linear_model import LogisticRegression\n",
        "model = LogisticRegression() # since we have 3 classes\n",
        "model.fit(X_train, y_train)"
      ],
      "execution_count": null,
      "outputs": [
        {
          "output_type": "execute_result",
          "data": {
            "text/plain": [
              "LogisticRegression(C=1.0, class_weight=None, dual=False, fit_intercept=True,\n",
              "                   intercept_scaling=1, l1_ratio=None, max_iter=100,\n",
              "                   multi_class='auto', n_jobs=None, penalty='l2',\n",
              "                   random_state=None, solver='lbfgs', tol=0.0001, verbose=0,\n",
              "                   warm_start=False)"
            ]
          },
          "metadata": {},
          "execution_count": 27
        }
      ]
    },
    {
      "cell_type": "code",
      "metadata": {
        "colab": {
          "base_uri": "https://localhost:8080/"
        },
        "id": "hiRQeKX3y0Zl",
        "outputId": "93286545-047b-4743-b201-28ef0ed3e789"
      },
      "source": [
        "model.score(X_test, y_test)"
      ],
      "execution_count": null,
      "outputs": [
        {
          "output_type": "execute_result",
          "data": {
            "text/plain": [
              "0.7484"
            ]
          },
          "metadata": {},
          "execution_count": 28
        }
      ]
    },
    {
      "cell_type": "code",
      "metadata": {
        "id": "HecCLz5NzPi8"
      },
      "source": [
        "y_pred = model.predict(X_test)"
      ],
      "execution_count": null,
      "outputs": []
    },
    {
      "cell_type": "code",
      "metadata": {
        "id": "ubUEaL3Qy60j"
      },
      "source": [
        "from sklearn.metrics import confusion_matrix"
      ],
      "execution_count": null,
      "outputs": []
    },
    {
      "cell_type": "code",
      "metadata": {
        "colab": {
          "base_uri": "https://localhost:8080/"
        },
        "id": "vgl0ZrXIzMq2",
        "outputId": "5fe795da-265d-4c78-9f04-f582184ef1fd"
      },
      "source": [
        "confusion_matrix(y_test, y_pred)"
      ],
      "execution_count": null,
      "outputs": [
        {
          "output_type": "execute_result",
          "data": {
            "text/plain": [
              "array([[2117, 1643],\n",
              "       [ 873, 5367]])"
            ]
          },
          "metadata": {},
          "execution_count": 31
        }
      ]
    },
    {
      "cell_type": "code",
      "metadata": {
        "colab": {
          "base_uri": "https://localhost:8080/"
        },
        "id": "AWsyDipkzUgd",
        "outputId": "58c6bf71-428a-4c4d-fa93-4cd001162b47"
      },
      "source": [
        "len(y_pred)"
      ],
      "execution_count": null,
      "outputs": [
        {
          "output_type": "execute_result",
          "data": {
            "text/plain": [
              "10000"
            ]
          },
          "metadata": {},
          "execution_count": 32
        }
      ]
    },
    {
      "cell_type": "code",
      "metadata": {
        "id": "XmKK1dXYzgQ5"
      },
      "source": [
        "data_tweets = pd.read_json('https://github.com/SDS-AAU/SDS-master/raw/master/M2/data/pres_debate_2020.gz')"
      ],
      "execution_count": null,
      "outputs": []
    },
    {
      "cell_type": "code",
      "metadata": {
        "colab": {
          "base_uri": "https://localhost:8080/",
          "height": 941
        },
        "id": "-qJRvfdy4qAD",
        "outputId": "747b4298-3697-4e1a-87dd-6ec6adb3074e"
      },
      "source": [
        "data_tweets"
      ],
      "execution_count": null,
      "outputs": [
        {
          "output_type": "execute_result",
          "data": {
            "text/html": [
              "<div>\n",
              "<style scoped>\n",
              "    .dataframe tbody tr th:only-of-type {\n",
              "        vertical-align: middle;\n",
              "    }\n",
              "\n",
              "    .dataframe tbody tr th {\n",
              "        vertical-align: top;\n",
              "    }\n",
              "\n",
              "    .dataframe thead th {\n",
              "        text-align: right;\n",
              "    }\n",
              "</style>\n",
              "<table border=\"1\" class=\"dataframe\">\n",
              "  <thead>\n",
              "    <tr style=\"text-align: right;\">\n",
              "      <th></th>\n",
              "      <th>id</th>\n",
              "      <th>conversation_id</th>\n",
              "      <th>created_at</th>\n",
              "      <th>date</th>\n",
              "      <th>timezone</th>\n",
              "      <th>place</th>\n",
              "      <th>tweet</th>\n",
              "      <th>language</th>\n",
              "      <th>hashtags</th>\n",
              "      <th>cashtags</th>\n",
              "      <th>user_id</th>\n",
              "      <th>user_id_str</th>\n",
              "      <th>username</th>\n",
              "      <th>name</th>\n",
              "      <th>day</th>\n",
              "      <th>hour</th>\n",
              "      <th>link</th>\n",
              "      <th>urls</th>\n",
              "      <th>photos</th>\n",
              "      <th>video</th>\n",
              "      <th>thumbnail</th>\n",
              "      <th>nlikes</th>\n",
              "      <th>nreplies</th>\n",
              "      <th>nretweets</th>\n",
              "      <th>quote_url</th>\n",
              "      <th>search</th>\n",
              "      <th>near</th>\n",
              "      <th>geo</th>\n",
              "      <th>source</th>\n",
              "      <th>reply_to</th>\n",
              "      <th>translate</th>\n",
              "      <th>trans_src</th>\n",
              "      <th>trans_dest</th>\n",
              "    </tr>\n",
              "  </thead>\n",
              "  <tbody>\n",
              "    <tr>\n",
              "      <th>0</th>\n",
              "      <td>1318944772183281664</td>\n",
              "      <td>1318944772183281664</td>\n",
              "      <td>2020-10-21 15:58:33</td>\n",
              "      <td>2020-10-21 15:58:33</td>\n",
              "      <td>0</td>\n",
              "      <td></td>\n",
              "      <td>Still time to register: Students can join the ...</td>\n",
              "      <td>en</td>\n",
              "      <td>[presidentialdebate2020]</td>\n",
              "      <td>[]</td>\n",
              "      <td>1130857348921036802</td>\n",
              "      <td>1130857348921036800</td>\n",
              "      <td>UVADemocracy</td>\n",
              "      <td>UVA Democracy Initiative</td>\n",
              "      <td>3</td>\n",
              "      <td>15</td>\n",
              "      <td>https://twitter.com/UVADemocracy/status/131894...</td>\n",
              "      <td>[https://bit.ly/349NTIU]</td>\n",
              "      <td>[https://pbs.twimg.com/media/Ek3UXC1X0AAw47D.png]</td>\n",
              "      <td>1</td>\n",
              "      <td>https://pbs.twimg.com/media/Ek3UXC1X0AAw47D.png</td>\n",
              "      <td>2</td>\n",
              "      <td>0</td>\n",
              "      <td>2</td>\n",
              "      <td></td>\n",
              "      <td>PresidentialDebate2020</td>\n",
              "      <td></td>\n",
              "      <td></td>\n",
              "      <td></td>\n",
              "      <td>{'user_id': None, 'username': None}</td>\n",
              "      <td></td>\n",
              "      <td></td>\n",
              "      <td></td>\n",
              "    </tr>\n",
              "    <tr>\n",
              "      <th>1</th>\n",
              "      <td>1318938583122743296</td>\n",
              "      <td>1318938583122743296</td>\n",
              "      <td>2020-10-21 15:33:57</td>\n",
              "      <td>2020-10-21 15:33:57</td>\n",
              "      <td>0</td>\n",
              "      <td></td>\n",
              "      <td>Be prepared for Trump to railroad Thursday’s d...</td>\n",
              "      <td>en</td>\n",
              "      <td>[presidentialdebate2020]</td>\n",
              "      <td>[]</td>\n",
              "      <td>243363569</td>\n",
              "      <td>243363569</td>\n",
              "      <td>kevinjguest</td>\n",
              "      <td>Kevin Guest</td>\n",
              "      <td>3</td>\n",
              "      <td>15</td>\n",
              "      <td>https://twitter.com/kevinjguest/status/1318938...</td>\n",
              "      <td>[]</td>\n",
              "      <td>[]</td>\n",
              "      <td>0</td>\n",
              "      <td></td>\n",
              "      <td>0</td>\n",
              "      <td>0</td>\n",
              "      <td>0</td>\n",
              "      <td>https://twitter.com/donaldjtrumpjr/status/1318...</td>\n",
              "      <td>PresidentialDebate2020</td>\n",
              "      <td></td>\n",
              "      <td></td>\n",
              "      <td></td>\n",
              "      <td>{'user_id': None, 'username': None}</td>\n",
              "      <td></td>\n",
              "      <td></td>\n",
              "      <td></td>\n",
              "    </tr>\n",
              "    <tr>\n",
              "      <th>2</th>\n",
              "      <td>1318932554897031168</td>\n",
              "      <td>1318932554897031168</td>\n",
              "      <td>2020-10-21 15:10:00</td>\n",
              "      <td>2020-10-21 15:10:00</td>\n",
              "      <td>0</td>\n",
              "      <td></td>\n",
              "      <td>Join us tomorrow from 5-8pm as @michaelpleahy ...</td>\n",
              "      <td>en</td>\n",
              "      <td>[presidentialdebate2020]</td>\n",
              "      <td>[]</td>\n",
              "      <td>26819436</td>\n",
              "      <td>26819436</td>\n",
              "      <td>TalkradioWLAC</td>\n",
              "      <td>Talkradio WLAC</td>\n",
              "      <td>3</td>\n",
              "      <td>15</td>\n",
              "      <td>https://twitter.com/TalkradioWLAC/status/13189...</td>\n",
              "      <td>[https://wlac.iheart.com/calendar/event/5f8df3...</td>\n",
              "      <td>[]</td>\n",
              "      <td>0</td>\n",
              "      <td></td>\n",
              "      <td>0</td>\n",
              "      <td>0</td>\n",
              "      <td>0</td>\n",
              "      <td></td>\n",
              "      <td>PresidentialDebate2020</td>\n",
              "      <td></td>\n",
              "      <td></td>\n",
              "      <td></td>\n",
              "      <td>{'user_id': None, 'username': None}</td>\n",
              "      <td></td>\n",
              "      <td></td>\n",
              "      <td></td>\n",
              "    </tr>\n",
              "    <tr>\n",
              "      <th>3</th>\n",
              "      <td>1318928783169245184</td>\n",
              "      <td>1318928783169245184</td>\n",
              "      <td>2020-10-21 14:55:01</td>\n",
              "      <td>2020-10-21 14:55:01</td>\n",
              "      <td>0</td>\n",
              "      <td></td>\n",
              "      <td>Wanna bet #ProudBoys comes up #PresidentialDeb...</td>\n",
              "      <td>en</td>\n",
              "      <td>[proudboys, presidentialdebate2020]</td>\n",
              "      <td>[]</td>\n",
              "      <td>298018860</td>\n",
              "      <td>298018860</td>\n",
              "      <td>PBPoliticsFins</td>\n",
              "      <td>Antonio Fins</td>\n",
              "      <td>3</td>\n",
              "      <td>14</td>\n",
              "      <td>https://twitter.com/PBPoliticsFins/status/1318...</td>\n",
              "      <td>[https://www.palmbeachpost.com/story/news/2020...</td>\n",
              "      <td>[]</td>\n",
              "      <td>0</td>\n",
              "      <td></td>\n",
              "      <td>0</td>\n",
              "      <td>0</td>\n",
              "      <td>0</td>\n",
              "      <td></td>\n",
              "      <td>PresidentialDebate2020</td>\n",
              "      <td></td>\n",
              "      <td></td>\n",
              "      <td></td>\n",
              "      <td>{'user_id': None, 'username': None}</td>\n",
              "      <td></td>\n",
              "      <td></td>\n",
              "      <td></td>\n",
              "    </tr>\n",
              "    <tr>\n",
              "      <th>4</th>\n",
              "      <td>1318927150247018496</td>\n",
              "      <td>1318927150247018496</td>\n",
              "      <td>2020-10-21 14:48:31</td>\n",
              "      <td>2020-10-21 14:48:31</td>\n",
              "      <td>0</td>\n",
              "      <td></td>\n",
              "      <td>RT College Tour @BelmontUniv was spotless. Gor...</td>\n",
              "      <td>en</td>\n",
              "      <td>[musiccity, presidentialdebate2020]</td>\n",
              "      <td>[]</td>\n",
              "      <td>4159192877</td>\n",
              "      <td>4159192877</td>\n",
              "      <td>12thSouth</td>\n",
              "      <td>12th South</td>\n",
              "      <td>3</td>\n",
              "      <td>14</td>\n",
              "      <td>https://twitter.com/12thSouth/status/131892715...</td>\n",
              "      <td>[]</td>\n",
              "      <td>[https://pbs.twimg.com/media/Ek3CBOhXYAIpo8C.j...</td>\n",
              "      <td>1</td>\n",
              "      <td>https://pbs.twimg.com/media/Ek3CBOhXYAIpo8C.jpg</td>\n",
              "      <td>0</td>\n",
              "      <td>0</td>\n",
              "      <td>0</td>\n",
              "      <td></td>\n",
              "      <td>PresidentialDebate2020</td>\n",
              "      <td></td>\n",
              "      <td></td>\n",
              "      <td></td>\n",
              "      <td>{'user_id': None, 'username': None}</td>\n",
              "      <td></td>\n",
              "      <td></td>\n",
              "      <td></td>\n",
              "    </tr>\n",
              "    <tr>\n",
              "      <th>...</th>\n",
              "      <td>...</td>\n",
              "      <td>...</td>\n",
              "      <td>...</td>\n",
              "      <td>...</td>\n",
              "      <td>...</td>\n",
              "      <td>...</td>\n",
              "      <td>...</td>\n",
              "      <td>...</td>\n",
              "      <td>...</td>\n",
              "      <td>...</td>\n",
              "      <td>...</td>\n",
              "      <td>...</td>\n",
              "      <td>...</td>\n",
              "      <td>...</td>\n",
              "      <td>...</td>\n",
              "      <td>...</td>\n",
              "      <td>...</td>\n",
              "      <td>...</td>\n",
              "      <td>...</td>\n",
              "      <td>...</td>\n",
              "      <td>...</td>\n",
              "      <td>...</td>\n",
              "      <td>...</td>\n",
              "      <td>...</td>\n",
              "      <td>...</td>\n",
              "      <td>...</td>\n",
              "      <td>...</td>\n",
              "      <td>...</td>\n",
              "      <td>...</td>\n",
              "      <td>...</td>\n",
              "      <td>...</td>\n",
              "      <td>...</td>\n",
              "      <td>...</td>\n",
              "    </tr>\n",
              "    <tr>\n",
              "      <th>8806</th>\n",
              "      <td>1311705601597222912</td>\n",
              "      <td>1311705601597222912</td>\n",
              "      <td>2020-10-01 16:32:40</td>\n",
              "      <td>2020-10-01 16:32:40</td>\n",
              "      <td>0</td>\n",
              "      <td></td>\n",
              "      <td>Check out my Gig on Fiverr: do email marketing...</td>\n",
              "      <td>en</td>\n",
              "      <td>[october1st, worsttrumpever, thursdaythoughts,...</td>\n",
              "      <td>[]</td>\n",
              "      <td>1294253523769667586</td>\n",
              "      <td>1294253523769667584</td>\n",
              "      <td>kvngmujebo</td>\n",
              "      <td>Kvngmujebo</td>\n",
              "      <td>4</td>\n",
              "      <td>16</td>\n",
              "      <td>https://twitter.com/kvngmujebo/status/13117056...</td>\n",
              "      <td>[https://www.fiverr.com/share/1KRDaK]</td>\n",
              "      <td>[]</td>\n",
              "      <td>0</td>\n",
              "      <td></td>\n",
              "      <td>0</td>\n",
              "      <td>0</td>\n",
              "      <td>0</td>\n",
              "      <td></td>\n",
              "      <td>PresidentialDebate2020</td>\n",
              "      <td></td>\n",
              "      <td></td>\n",
              "      <td></td>\n",
              "      <td>{'user_id': None, 'username': None}</td>\n",
              "      <td></td>\n",
              "      <td></td>\n",
              "      <td></td>\n",
              "    </tr>\n",
              "    <tr>\n",
              "      <th>8807</th>\n",
              "      <td>1311705488531156992</td>\n",
              "      <td>1311705488531156992</td>\n",
              "      <td>2020-10-01 16:32:13</td>\n",
              "      <td>2020-10-01 16:32:13</td>\n",
              "      <td>0</td>\n",
              "      <td></td>\n",
              "      <td>This was made in 2012! It’s exactly like what ...</td>\n",
              "      <td>en</td>\n",
              "      <td>[democrats, republicans, presidentialdebate202...</td>\n",
              "      <td>[]</td>\n",
              "      <td>25635056</td>\n",
              "      <td>25635056</td>\n",
              "      <td>AZLatina480</td>\n",
              "      <td>Jessica Williams</td>\n",
              "      <td>4</td>\n",
              "      <td>16</td>\n",
              "      <td>https://twitter.com/AZLatina480/status/1311705...</td>\n",
              "      <td>[]</td>\n",
              "      <td>[]</td>\n",
              "      <td>0</td>\n",
              "      <td></td>\n",
              "      <td>0</td>\n",
              "      <td>0</td>\n",
              "      <td>0</td>\n",
              "      <td>https://twitter.com/JonnyEthco/status/13113395...</td>\n",
              "      <td>PresidentialDebate2020</td>\n",
              "      <td></td>\n",
              "      <td></td>\n",
              "      <td></td>\n",
              "      <td>{'user_id': None, 'username': None}</td>\n",
              "      <td></td>\n",
              "      <td></td>\n",
              "      <td></td>\n",
              "    </tr>\n",
              "    <tr>\n",
              "      <th>8808</th>\n",
              "      <td>1311705196657958912</td>\n",
              "      <td>1311705196657958912</td>\n",
              "      <td>2020-10-01 16:31:03</td>\n",
              "      <td>2020-10-01 16:31:03</td>\n",
              "      <td>0</td>\n",
              "      <td></td>\n",
              "      <td>How you finna lose two swing states with one q...</td>\n",
              "      <td>en</td>\n",
              "      <td>[presidentialdebate2020]</td>\n",
              "      <td>[]</td>\n",
              "      <td>382541164</td>\n",
              "      <td>382541164</td>\n",
              "      <td>SampsonRaySimon</td>\n",
              "      <td>Sampson Ray Simon</td>\n",
              "      <td>4</td>\n",
              "      <td>16</td>\n",
              "      <td>https://twitter.com/SampsonRaySimon/status/131...</td>\n",
              "      <td>[]</td>\n",
              "      <td>[]</td>\n",
              "      <td>0</td>\n",
              "      <td></td>\n",
              "      <td>0</td>\n",
              "      <td>0</td>\n",
              "      <td>0</td>\n",
              "      <td></td>\n",
              "      <td>PresidentialDebate2020</td>\n",
              "      <td></td>\n",
              "      <td></td>\n",
              "      <td></td>\n",
              "      <td>{'user_id': None, 'username': None}</td>\n",
              "      <td></td>\n",
              "      <td></td>\n",
              "      <td></td>\n",
              "    </tr>\n",
              "    <tr>\n",
              "      <th>8809</th>\n",
              "      <td>1311704929090891776</td>\n",
              "      <td>1311704929090891776</td>\n",
              "      <td>2020-10-01 16:30:00</td>\n",
              "      <td>2020-10-01 16:30:00</td>\n",
              "      <td>0</td>\n",
              "      <td></td>\n",
              "      <td>This morning on the @ArleneBynonShow, @gmacofg...</td>\n",
              "      <td>en</td>\n",
              "      <td>[erinotoole, blanchet, houseofcommons, trudeau...</td>\n",
              "      <td>[]</td>\n",
              "      <td>1343036322</td>\n",
              "      <td>1343036322</td>\n",
              "      <td>SXMCanadaTalks</td>\n",
              "      <td>SXMCanadaTalks</td>\n",
              "      <td>4</td>\n",
              "      <td>16</td>\n",
              "      <td>https://twitter.com/SXMCanadaTalks/status/1311...</td>\n",
              "      <td>[https://soundcloud.com/canadatalks/political-...</td>\n",
              "      <td>[]</td>\n",
              "      <td>0</td>\n",
              "      <td></td>\n",
              "      <td>3</td>\n",
              "      <td>2</td>\n",
              "      <td>3</td>\n",
              "      <td></td>\n",
              "      <td>PresidentialDebate2020</td>\n",
              "      <td></td>\n",
              "      <td></td>\n",
              "      <td></td>\n",
              "      <td>{'user_id': None, 'username': None}</td>\n",
              "      <td></td>\n",
              "      <td></td>\n",
              "      <td></td>\n",
              "    </tr>\n",
              "    <tr>\n",
              "      <th>8810</th>\n",
              "      <td>1311704928231010304</td>\n",
              "      <td>1311704928231010304</td>\n",
              "      <td>2020-10-01 16:29:59</td>\n",
              "      <td>2020-10-01 16:29:59</td>\n",
              "      <td>0</td>\n",
              "      <td></td>\n",
              "      <td>#PresidentialDebate2020  was something out of ...</td>\n",
              "      <td>en</td>\n",
              "      <td>[presidentialdebate2020, presidentialdebate2020]</td>\n",
              "      <td>[]</td>\n",
              "      <td>266475793</td>\n",
              "      <td>266475793</td>\n",
              "      <td>Kr3sn1k</td>\n",
              "      <td>Steve Black</td>\n",
              "      <td>4</td>\n",
              "      <td>16</td>\n",
              "      <td>https://twitter.com/Kr3sn1k/status/13117049282...</td>\n",
              "      <td>[]</td>\n",
              "      <td>[]</td>\n",
              "      <td>0</td>\n",
              "      <td></td>\n",
              "      <td>0</td>\n",
              "      <td>1</td>\n",
              "      <td>0</td>\n",
              "      <td></td>\n",
              "      <td>PresidentialDebate2020</td>\n",
              "      <td></td>\n",
              "      <td></td>\n",
              "      <td></td>\n",
              "      <td>{'user_id': None, 'username': None}</td>\n",
              "      <td></td>\n",
              "      <td></td>\n",
              "      <td></td>\n",
              "    </tr>\n",
              "  </tbody>\n",
              "</table>\n",
              "<p>8811 rows × 33 columns</p>\n",
              "</div>"
            ],
            "text/plain": [
              "                       id      conversation_id  ... trans_src trans_dest\n",
              "0     1318944772183281664  1318944772183281664  ...                     \n",
              "1     1318938583122743296  1318938583122743296  ...                     \n",
              "2     1318932554897031168  1318932554897031168  ...                     \n",
              "3     1318928783169245184  1318928783169245184  ...                     \n",
              "4     1318927150247018496  1318927150247018496  ...                     \n",
              "...                   ...                  ...  ...       ...        ...\n",
              "8806  1311705601597222912  1311705601597222912  ...                     \n",
              "8807  1311705488531156992  1311705488531156992  ...                     \n",
              "8808  1311705196657958912  1311705196657958912  ...                     \n",
              "8809  1311704929090891776  1311704929090891776  ...                     \n",
              "8810  1311704928231010304  1311704928231010304  ...                     \n",
              "\n",
              "[8811 rows x 33 columns]"
            ]
          },
          "metadata": {},
          "execution_count": 34
        }
      ]
    },
    {
      "cell_type": "code",
      "metadata": {
        "id": "tbpT9gRD4svE"
      },
      "source": [
        "X_new = tweet_preprocess(data_tweets['tweet'])"
      ],
      "execution_count": null,
      "outputs": []
    },
    {
      "cell_type": "code",
      "metadata": {
        "id": "W2m_m2AP7hwR"
      },
      "source": [
        "data_tweets['prediction'] = model.predict(X_new)"
      ],
      "execution_count": null,
      "outputs": []
    },
    {
      "cell_type": "code",
      "metadata": {
        "colab": {
          "base_uri": "https://localhost:8080/"
        },
        "id": "6_R3DF-n7kj0",
        "outputId": "418d9acc-b500-4fdc-ac7a-03bac234fc9f"
      },
      "source": [
        "data_tweets['prediction']"
      ],
      "execution_count": null,
      "outputs": [
        {
          "output_type": "execute_result",
          "data": {
            "text/plain": [
              "0       1\n",
              "1       1\n",
              "2       1\n",
              "3       0\n",
              "4       1\n",
              "       ..\n",
              "8806    0\n",
              "8807    0\n",
              "8808    1\n",
              "8809    1\n",
              "8810    0\n",
              "Name: prediction, Length: 8811, dtype: int64"
            ]
          },
          "metadata": {},
          "execution_count": 40
        }
      ]
    },
    {
      "cell_type": "code",
      "metadata": {
        "colab": {
          "base_uri": "https://localhost:8080/"
        },
        "id": "3_PT6XU98YHw",
        "outputId": "aafc85ed-9a40-4ca5-95af-a9178e8b6bb0"
      },
      "source": [
        "model.predict_proba(X_new)"
      ],
      "execution_count": null,
      "outputs": [
        {
          "output_type": "execute_result",
          "data": {
            "text/plain": [
              "array([[0.14135904, 0.85864096],\n",
              "       [0.40872923, 0.59127077],\n",
              "       [0.28459488, 0.71540512],\n",
              "       ...,\n",
              "       [0.45947663, 0.54052337],\n",
              "       [0.4525652 , 0.5474348 ],\n",
              "       [0.63586723, 0.36413277]])"
            ]
          },
          "metadata": {},
          "execution_count": 41
        }
      ]
    },
    {
      "cell_type": "code",
      "metadata": {
        "id": "bvboBGJp74pz"
      },
      "source": [
        "data_tweets['dem_prob'] = model.predict_proba(X_new)[:, 1]"
      ],
      "execution_count": null,
      "outputs": []
    },
    {
      "cell_type": "code",
      "metadata": {
        "colab": {
          "base_uri": "https://localhost:8080/"
        },
        "id": "AYRX_O1w8tyq",
        "outputId": "7e076f40-5c1c-4d7f-c455-4092943a6e88"
      },
      "source": [
        "data_tweets.sort_values('dem_prob', ascending=True)['tweet'][:20]"
      ],
      "execution_count": null,
      "outputs": [
        {
          "output_type": "execute_result",
          "data": {
            "text/plain": [
              "5234    China for Biden  #PresidentialDebate2020 #Deba...\n",
              "1754    #HillaryClinton #china #Communism #Shame on yo...\n",
              "4779    #NextTopic China 🇨🇳  Susan: \"@VP how would you...\n",
              "1712    EXC: Debate Commission Member Tied To Transiti...\n",
              "2114    #PresidentialDebate2020 elections have been in...\n",
              "2443    #PresidentialDebate2020 elections have been in...\n",
              "1896    BRUTAL: Resurfaced Video of Joe Biden Should D...\n",
              "1144    @CBSNews #PresidentialDebate2020 RIGGED SYSTEM...\n",
              "8651    @debates doesn't believe in free speech &amp; ...\n",
              "6201    @realDonaldTrump @MarkMeadows @senatemajldr @k...\n",
              "4096    Freedom of speech in Chinese style🤷🏻‍♀️ #Presi...\n",
              "2312    China country is way more healthier then the U...\n",
              "2142    @JRehling OVERWEIGHT and UNATTRACTIVE 😂🤣😂🤣😂🤣😂🤣...\n",
              "2725    #PresidentialDebate2020 #thursdaymorning #MAGA...\n",
              "7280    Senate found Hunter Biden got $3.5 from Moscow...\n",
              "1378    @thebradfordfile @JoeBiden @KamalaHarris @DNC ...\n",
              "164     Who masterminded #political #economy of #Covid...\n",
              "8728    SHUT UP! CHINA ATE YOUR LUNCH! #Debate2020 #Bi...\n",
              "210     Why Twitter and Facebook protect Biden ?  Are ...\n",
              "5365    Fuck china #PresidentialDebate2020 #Beijing #A...\n",
              "Name: tweet, dtype: object"
            ]
          },
          "metadata": {},
          "execution_count": 44
        }
      ]
    },
    {
      "cell_type": "code",
      "metadata": {
        "colab": {
          "base_uri": "https://localhost:8080/",
          "height": 355
        },
        "id": "-mc3sK0-8_Wx",
        "outputId": "f4fe2b53-861c-4278-a3a5-9e05b913ca84"
      },
      "source": [
        "sns.distplot(data_tweets['dem_prob'])"
      ],
      "execution_count": null,
      "outputs": [
        {
          "output_type": "stream",
          "name": "stderr",
          "text": [
            "/usr/local/lib/python3.7/dist-packages/seaborn/distributions.py:2619: FutureWarning: `distplot` is a deprecated function and will be removed in a future version. Please adapt your code to use either `displot` (a figure-level function with similar flexibility) or `histplot` (an axes-level function for histograms).\n",
            "  warnings.warn(msg, FutureWarning)\n"
          ]
        },
        {
          "output_type": "execute_result",
          "data": {
            "text/plain": [
              "<matplotlib.axes._subplots.AxesSubplot at 0x7f8c4b1ff690>"
            ]
          },
          "metadata": {},
          "execution_count": 46
        },
        {
          "output_type": "display_data",
          "data": {
            "image/png": "[encoded data removed]",
            "text/plain": [
              "<Figure size 432x288 with 1 Axes>"
            ]
          },
          "metadata": {}
        }
      ]
    },
    {
      "cell_type": "code",
      "metadata": {
        "colab": {
          "base_uri": "https://localhost:8080/"
        },
        "id": "UIYBoWqPH8Gf",
        "outputId": "d72f0d7e-c834-4b54-8efc-b151f54376b5"
      },
      "source": [
        "!pip -q install eli5"
      ],
      "execution_count": null,
      "outputs": [
        {
          "output_type": "stream",
          "name": "stdout",
          "text": [
            "\u001b[?25l\r\u001b[K     |███                             | 10 kB 23.2 MB/s eta 0:00:01\r\u001b[K     |██████▏                         | 20 kB 29.1 MB/s eta 0:00:01\r\u001b[K     |█████████▎                      | 30 kB 20.7 MB/s eta 0:00:01\r\u001b[K     |████████████▍                   | 40 kB 17.3 MB/s eta 0:00:01\r\u001b[K     |███████████████▌                | 51 kB 8.0 MB/s eta 0:00:01\r\u001b[K     |██████████████████▌             | 61 kB 9.2 MB/s eta 0:00:01\r\u001b[K     |█████████████████████▋          | 71 kB 8.6 MB/s eta 0:00:01\r\u001b[K     |████████████████████████▊       | 81 kB 9.5 MB/s eta 0:00:01\r\u001b[K     |███████████████████████████▉    | 92 kB 10.1 MB/s eta 0:00:01\r\u001b[K     |███████████████████████████████ | 102 kB 8.4 MB/s eta 0:00:01\r\u001b[K     |████████████████████████████████| 106 kB 8.4 MB/s \n",
            "\u001b[?25h"
          ]
        }
      ]
    },
    {
      "cell_type": "code",
      "metadata": {
        "colab": {
          "base_uri": "https://localhost:8080/",
          "height": 513
        },
        "id": "pR-BhjMOH8yA",
        "outputId": "15dfa70c-9559-461f-a6df-15826d92631b"
      },
      "source": [
        "import eli5\n",
        "eli5.show_weights(model[''], feature_names=vectorizer.get_feature_names(), target_names=['rep','dem'], top=20)"
      ],
      "execution_count": null,
      "outputs": [
        {
          "output_type": "stream",
          "name": "stderr",
          "text": [
            "/usr/local/lib/python3.7/dist-packages/sklearn/utils/deprecation.py:144: FutureWarning: The sklearn.feature_selection.base module is  deprecated in version 0.22 and will be removed in version 0.24. The corresponding classes / functions should instead be imported from sklearn.feature_selection. Anything that cannot be imported from sklearn.feature_selection is now part of the private API.\n",
            "  warnings.warn(message, FutureWarning)\n"
          ]
        },
        {
          "output_type": "execute_result",
          "data": {
            "text/html": [
              "\n",
              "    <style>\n",
              "    table.eli5-weights tr:hover {\n",
              "        filter: brightness(85%);\n",
              "    }\n",
              "</style>\n",
              "\n",
              "\n",
              "\n",
              "    \n",
              "\n",
              "    \n",
              "\n",
              "    \n",
              "\n",
              "    \n",
              "\n",
              "    \n",
              "\n",
              "    \n",
              "\n",
              "\n",
              "    \n",
              "\n",
              "    \n",
              "\n",
              "    \n",
              "\n",
              "    \n",
              "        \n",
              "\n",
              "    \n",
              "\n",
              "        \n",
              "            \n",
              "                \n",
              "                \n",
              "    \n",
              "        <p style=\"margin-bottom: 0.5em; margin-top: 0em\">\n",
              "            <b>\n",
              "    \n",
              "        y=dem\n",
              "    \n",
              "</b>\n",
              "\n",
              "top features\n",
              "        </p>\n",
              "    \n",
              "    <table class=\"eli5-weights\"\n",
              "           style=\"border-collapse: collapse; border: none; margin-top: 0em; table-layout: auto; margin-bottom: 2em;\">\n",
              "        <thead>\n",
              "        <tr style=\"border: none;\">\n",
              "            \n",
              "                <th style=\"padding: 0 1em 0 0.5em; text-align: right; border: none;\" title=\"Feature weights. Note that weights do not account for feature value scales, so if feature values have different scales, features with highest weights might not be the most important.\">\n",
              "                    Weight<sup>?</sup>\n",
              "                </th>\n",
              "            \n",
              "            <th style=\"padding: 0 0.5em 0 0.5em; text-align: left; border: none;\">Feature</th>\n",
              "            \n",
              "        </tr>\n",
              "        </thead>\n",
              "        <tbody>\n",
              "        \n",
              "            <tr style=\"background-color: hsl(120, 100.00%, 82.10%); border: none;\">\n",
              "    <td style=\"padding: 0 1em 0 0.5em; text-align: right; border: none;\">\n",
              "        +5.457\n",
              "    </td>\n",
              "    <td style=\"padding: 0 0.5em 0 0.5em; text-align: left; border: none;\">\n",
              "        forthepeople\n",
              "    </td>\n",
              "    \n",
              "</tr>\n",
              "        \n",
              "            <tr style=\"background-color: hsl(120, 100.00%, 82.88%); border: none;\">\n",
              "    <td style=\"padding: 0 1em 0 0.5em; text-align: right; border: none;\">\n",
              "        +5.122\n",
              "    </td>\n",
              "    <td style=\"padding: 0 0.5em 0 0.5em; text-align: left; border: none;\">\n",
              "        trump\n",
              "    </td>\n",
              "    \n",
              "</tr>\n",
              "        \n",
              "            <tr style=\"background-color: hsl(120, 100.00%, 84.65%); border: none;\">\n",
              "    <td style=\"padding: 0 1em 0 0.5em; text-align: right; border: none;\">\n",
              "        +4.383\n",
              "    </td>\n",
              "    <td style=\"padding: 0 0.5em 0 0.5em; text-align: left; border: none;\">\n",
              "        heroesact\n",
              "    </td>\n",
              "    \n",
              "</tr>\n",
              "        \n",
              "            <tr style=\"background-color: hsl(120, 100.00%, 85.06%); border: none;\">\n",
              "    <td style=\"padding: 0 1em 0 0.5em; text-align: right; border: none;\">\n",
              "        +4.217\n",
              "    </td>\n",
              "    <td style=\"padding: 0 0.5em 0 0.5em; text-align: left; border: none;\">\n",
              "        black\n",
              "    </td>\n",
              "    \n",
              "</tr>\n",
              "        \n",
              "            <tr style=\"background-color: hsl(120, 100.00%, 85.45%); border: none;\">\n",
              "    <td style=\"padding: 0 1em 0 0.5em; text-align: right; border: none;\">\n",
              "        +4.061\n",
              "    </td>\n",
              "    <td style=\"padding: 0 0.5em 0 0.5em; text-align: left; border: none;\">\n",
              "        climate\n",
              "    </td>\n",
              "    \n",
              "</tr>\n",
              "        \n",
              "            <tr style=\"background-color: hsl(120, 100.00%, 85.57%); border: none;\">\n",
              "    <td style=\"padding: 0 1em 0 0.5em; text-align: right; border: none;\">\n",
              "        +4.012\n",
              "    </td>\n",
              "    <td style=\"padding: 0 0.5em 0 0.5em; text-align: left; border: none;\">\n",
              "        democracy\n",
              "    </td>\n",
              "    \n",
              "</tr>\n",
              "        \n",
              "            <tr style=\"background-color: hsl(120, 100.00%, 86.15%); border: none;\">\n",
              "    <td style=\"padding: 0 1em 0 0.5em; text-align: right; border: none;\">\n",
              "        +3.784\n",
              "    </td>\n",
              "    <td style=\"padding: 0 0.5em 0 0.5em; text-align: left; border: none;\">\n",
              "        aca\n",
              "    </td>\n",
              "    \n",
              "</tr>\n",
              "        \n",
              "            <tr style=\"background-color: hsl(120, 100.00%, 86.23%); border: none;\">\n",
              "    <td style=\"padding: 0 1em 0 0.5em; text-align: right; border: none;\">\n",
              "        +3.752\n",
              "    </td>\n",
              "    <td style=\"padding: 0 0.5em 0 0.5em; text-align: left; border: none;\">\n",
              "        lgbtq\n",
              "    </td>\n",
              "    \n",
              "</tr>\n",
              "        \n",
              "        \n",
              "            <tr style=\"background-color: hsl(120, 100.00%, 86.23%); border: none;\">\n",
              "                <td colspan=\"2\" style=\"padding: 0 0.5em 0 0.5em; text-align: center; border: none; white-space: nowrap;\">\n",
              "                    <i>&hellip; 1075 more positive &hellip;</i>\n",
              "                </td>\n",
              "            </tr>\n",
              "        \n",
              "\n",
              "        \n",
              "            <tr style=\"background-color: hsl(0, 100.00%, 85.53%); border: none;\">\n",
              "                <td colspan=\"2\" style=\"padding: 0 0.5em 0 0.5em; text-align: center; border: none; white-space: nowrap;\">\n",
              "                    <i>&hellip; 906 more negative &hellip;</i>\n",
              "                </td>\n",
              "            </tr>\n",
              "        \n",
              "        \n",
              "            <tr style=\"background-color: hsl(0, 100.00%, 85.53%); border: none;\">\n",
              "    <td style=\"padding: 0 1em 0 0.5em; text-align: right; border: none;\">\n",
              "        -4.026\n",
              "    </td>\n",
              "    <td style=\"padding: 0 0.5em 0 0.5em; text-align: left; border: none;\">\n",
              "        communist\n",
              "    </td>\n",
              "    \n",
              "</tr>\n",
              "        \n",
              "            <tr style=\"background-color: hsl(0, 100.00%, 85.49%); border: none;\">\n",
              "    <td style=\"padding: 0 1em 0 0.5em; text-align: right; border: none;\">\n",
              "        -4.044\n",
              "    </td>\n",
              "    <td style=\"padding: 0 0.5em 0 0.5em; text-align: left; border: none;\">\n",
              "        democrats\n",
              "    </td>\n",
              "    \n",
              "</tr>\n",
              "        \n",
              "            <tr style=\"background-color: hsl(0, 100.00%, 85.30%); border: none;\">\n",
              "    <td style=\"padding: 0 1em 0 0.5em; text-align: right; border: none;\">\n",
              "        -4.118\n",
              "    </td>\n",
              "    <td style=\"padding: 0 0.5em 0 0.5em; text-align: left; border: none;\">\n",
              "        dems\n",
              "    </td>\n",
              "    \n",
              "</tr>\n",
              "        \n",
              "            <tr style=\"background-color: hsl(0, 100.00%, 85.24%); border: none;\">\n",
              "    <td style=\"padding: 0 1em 0 0.5em; text-align: right; border: none;\">\n",
              "        -4.145\n",
              "    </td>\n",
              "    <td style=\"padding: 0 0.5em 0 0.5em; text-align: left; border: none;\">\n",
              "        liberal\n",
              "    </td>\n",
              "    \n",
              "</tr>\n",
              "        \n",
              "            <tr style=\"background-color: hsl(0, 100.00%, 85.06%); border: none;\">\n",
              "    <td style=\"padding: 0 1em 0 0.5em; text-align: right; border: none;\">\n",
              "        -4.215\n",
              "    </td>\n",
              "    <td style=\"padding: 0 0.5em 0 0.5em; text-align: left; border: none;\">\n",
              "        ccp\n",
              "    </td>\n",
              "    \n",
              "</tr>\n",
              "        \n",
              "            <tr style=\"background-color: hsl(0, 100.00%, 84.81%); border: none;\">\n",
              "    <td style=\"padding: 0 1em 0 0.5em; text-align: right; border: none;\">\n",
              "        -4.315\n",
              "    </td>\n",
              "    <td style=\"padding: 0 0.5em 0 0.5em; text-align: left; border: none;\">\n",
              "        pelosi\n",
              "    </td>\n",
              "    \n",
              "</tr>\n",
              "        \n",
              "            <tr style=\"background-color: hsl(0, 100.00%, 84.58%); border: none;\">\n",
              "    <td style=\"padding: 0 1em 0 0.5em; text-align: right; border: none;\">\n",
              "        -4.413\n",
              "    </td>\n",
              "    <td style=\"padding: 0 0.5em 0 0.5em; text-align: left; border: none;\">\n",
              "        kentucky\n",
              "    </td>\n",
              "    \n",
              "</tr>\n",
              "        \n",
              "            <tr style=\"background-color: hsl(0, 100.00%, 84.36%); border: none;\">\n",
              "    <td style=\"padding: 0 1em 0 0.5em; text-align: right; border: none;\">\n",
              "        -4.502\n",
              "    </td>\n",
              "    <td style=\"padding: 0 0.5em 0 0.5em; text-align: left; border: none;\">\n",
              "        ny21\n",
              "    </td>\n",
              "    \n",
              "</tr>\n",
              "        \n",
              "            <tr style=\"background-color: hsl(0, 100.00%, 83.59%); border: none;\">\n",
              "    <td style=\"padding: 0 1em 0 0.5em; text-align: right; border: none;\">\n",
              "        -4.821\n",
              "    </td>\n",
              "    <td style=\"padding: 0 0.5em 0 0.5em; text-align: left; border: none;\">\n",
              "        paycheckprotectionprogram\n",
              "    </td>\n",
              "    \n",
              "</tr>\n",
              "        \n",
              "            <tr style=\"background-color: hsl(0, 100.00%, 83.54%); border: none;\">\n",
              "    <td style=\"padding: 0 1em 0 0.5em; text-align: right; border: none;\">\n",
              "        -4.840\n",
              "    </td>\n",
              "    <td style=\"padding: 0 0.5em 0 0.5em; text-align: left; border: none;\">\n",
              "        gapol\n",
              "    </td>\n",
              "    \n",
              "</tr>\n",
              "        \n",
              "            <tr style=\"background-color: hsl(0, 100.00%, 83.26%); border: none;\">\n",
              "    <td style=\"padding: 0 1em 0 0.5em; text-align: right; border: none;\">\n",
              "        -4.960\n",
              "    </td>\n",
              "    <td style=\"padding: 0 0.5em 0 0.5em; text-align: left; border: none;\">\n",
              "        inittogether\n",
              "    </td>\n",
              "    \n",
              "</tr>\n",
              "        \n",
              "            <tr style=\"background-color: hsl(0, 100.00%, 80.00%); border: none;\">\n",
              "    <td style=\"padding: 0 1em 0 0.5em; text-align: right; border: none;\">\n",
              "        -6.395\n",
              "    </td>\n",
              "    <td style=\"padding: 0 0.5em 0 0.5em; text-align: left; border: none;\">\n",
              "        china\n",
              "    </td>\n",
              "    \n",
              "</tr>\n",
              "        \n",
              "\n",
              "        </tbody>\n",
              "    </table>\n",
              "\n",
              "            \n",
              "        \n",
              "\n",
              "        \n",
              "\n",
              "\n",
              "\n",
              "    \n",
              "\n",
              "    \n",
              "\n",
              "    \n",
              "\n",
              "    \n",
              "\n",
              "\n",
              "    \n",
              "\n",
              "    \n",
              "\n",
              "    \n",
              "\n",
              "    \n",
              "\n",
              "    \n",
              "\n",
              "    \n",
              "\n",
              "\n",
              "    \n",
              "\n",
              "    \n",
              "\n",
              "    \n",
              "\n",
              "    \n",
              "\n",
              "    \n",
              "\n",
              "    \n",
              "\n",
              "\n",
              "\n"
            ],
            "text/plain": [
              "<IPython.core.display.HTML object>"
            ]
          },
          "metadata": {},
          "execution_count": 48
        }
      ]
    },
    {
      "cell_type": "code",
      "metadata": {
        "colab": {
          "base_uri": "https://localhost:8080/",
          "height": 185
        },
        "id": "6UkSHO_HIW4N",
        "outputId": "9b4b7b6a-f7cc-4367-94f9-4f7c7d45d28c"
      },
      "source": [
        "eli5.show_prediction(model, data_tweets['tweet'][5235], vec=vectorizer, target_names=['rep','dem'])"
      ],
      "execution_count": null,
      "outputs": [
        {
          "output_type": "execute_result",
          "data": {
            "text/html": [
              "\n",
              "    <style>\n",
              "    table.eli5-weights tr:hover {\n",
              "        filter: brightness(85%);\n",
              "    }\n",
              "</style>\n",
              "\n",
              "\n",
              "\n",
              "    \n",
              "\n",
              "    \n",
              "\n",
              "    \n",
              "\n",
              "    \n",
              "\n",
              "    \n",
              "\n",
              "    \n",
              "\n",
              "\n",
              "    \n",
              "\n",
              "    \n",
              "\n",
              "    \n",
              "\n",
              "    \n",
              "        \n",
              "\n",
              "    \n",
              "\n",
              "        \n",
              "\n",
              "        \n",
              "    \n",
              "        \n",
              "        \n",
              "    \n",
              "        <p style=\"margin-bottom: 0.5em; margin-top: 0em\">\n",
              "            <b>\n",
              "    \n",
              "        y=dem\n",
              "    \n",
              "</b>\n",
              "\n",
              "    \n",
              "    (probability <b>0.559</b>, score <b>0.239</b>)\n",
              "\n",
              "top features\n",
              "        </p>\n",
              "    \n",
              "    <table class=\"eli5-weights\"\n",
              "           style=\"border-collapse: collapse; border: none; margin-top: 0em; table-layout: auto; margin-bottom: 2em;\">\n",
              "        <thead>\n",
              "        <tr style=\"border: none;\">\n",
              "            \n",
              "                <th style=\"padding: 0 1em 0 0.5em; text-align: right; border: none;\" title=\"Feature contribution already accounts for the feature value (for linear models, contribution = weight * feature value), and the sum of feature contributions is equal to the score or, for some classifiers, to the probability. Feature values are shown if &quot;show_feature_values&quot; is True.\">\n",
              "                    Contribution<sup>?</sup>\n",
              "                </th>\n",
              "            \n",
              "            <th style=\"padding: 0 0.5em 0 0.5em; text-align: left; border: none;\">Feature</th>\n",
              "            \n",
              "        </tr>\n",
              "        </thead>\n",
              "        <tbody>\n",
              "        \n",
              "            <tr style=\"background-color: hsl(120, 100.00%, 80.00%); border: none;\">\n",
              "    <td style=\"padding: 0 1em 0 0.5em; text-align: right; border: none;\">\n",
              "        +0.379\n",
              "    </td>\n",
              "    <td style=\"padding: 0 0.5em 0 0.5em; text-align: left; border: none;\">\n",
              "        Highlighted in text (sum)\n",
              "    </td>\n",
              "    \n",
              "</tr>\n",
              "        \n",
              "        \n",
              "\n",
              "        \n",
              "        \n",
              "            <tr style=\"background-color: hsl(0, 100.00%, 90.03%); border: none;\">\n",
              "    <td style=\"padding: 0 1em 0 0.5em; text-align: right; border: none;\">\n",
              "        -0.140\n",
              "    </td>\n",
              "    <td style=\"padding: 0 0.5em 0 0.5em; text-align: left; border: none;\">\n",
              "        &lt;BIAS&gt;\n",
              "    </td>\n",
              "    \n",
              "</tr>\n",
              "        \n",
              "\n",
              "        </tbody>\n",
              "    </table>\n",
              "\n",
              "    \n",
              "\n",
              "\n",
              "\n",
              "    <p style=\"margin-bottom: 2.5em; margin-top:-0.5em;\">\n",
              "        <span style=\"opacity: 0.80\">#presidentialdebate2020 </span><span style=\"background-color: hsl(0, 100.00%, 92.80%); opacity: 0.82\" title=\"-0.028\">are</span><span style=\"opacity: 0.80\"> </span><span style=\"background-color: hsl(120, 100.00%, 81.66%); opacity: 0.87\" title=\"0.105\">we</span><span style=\"opacity: 0.80\"> </span><span style=\"background-color: hsl(0, 100.00%, 64.43%); opacity: 0.97\" title=\"-0.271\">really</span><span style=\"opacity: 0.80\"> </span><span style=\"background-color: hsl(0, 100.00%, 72.04%); opacity: 0.92\" title=\"-0.192\">talking</span><span style=\"opacity: 0.80\"> </span><span style=\"background-color: hsl(120, 100.00%, 85.88%); opacity: 0.85\" title=\"0.073\">about</span><span style=\"opacity: 0.80\"> overruling </span><span style=\"background-color: hsl(0, 100.00%, 94.38%); opacity: 0.81\" title=\"-0.019\">the</span><span style=\"opacity: 0.80\"> 1973’s roe v wade </span><span style=\"background-color: hsl(120, 100.00%, 92.23%); opacity: 0.82\" title=\"0.031\">in</span><span style=\"opacity: 0.80\"> </span><span style=\"background-color: hsl(120, 100.00%, 93.74%); opacity: 0.81\" title=\"0.023\">2020</span><span style=\"opacity: 0.80\">? oh, i </span><span style=\"background-color: hsl(120, 100.00%, 84.87%); opacity: 0.85\" title=\"0.080\">thought</span><span style=\"opacity: 0.80\"> </span><span style=\"background-color: hsl(120, 100.00%, 81.66%); opacity: 0.87\" title=\"0.105\">we</span><span style=\"opacity: 0.80\"> </span><span style=\"background-color: hsl(0, 100.00%, 99.13%); opacity: 0.80\" title=\"-0.001\">had</span><span style=\"opacity: 0.80\"> </span><span style=\"background-color: hsl(120, 100.00%, 87.24%); opacity: 0.84\" title=\"0.063\">won</span><span style=\"opacity: 0.80\"> </span><span style=\"background-color: hsl(120, 100.00%, 72.69%); opacity: 0.92\" title=\"0.186\">half</span><span style=\"opacity: 0.80\"> </span><span style=\"background-color: hsl(120, 100.00%, 90.98%); opacity: 0.82\" title=\"0.038\">of</span><span style=\"opacity: 0.80\"> </span><span style=\"background-color: hsl(0, 100.00%, 94.38%); opacity: 0.81\" title=\"-0.019\">the</span><span style=\"opacity: 0.80\"> </span><span style=\"background-color: hsl(0, 100.00%, 69.39%); opacity: 0.94\" title=\"-0.219\">battle</span><span style=\"opacity: 0.80\">! #</span><span style=\"background-color: hsl(120, 100.00%, 60.00%); opacity: 1.00\" title=\"0.321\">women</span><span style=\"opacity: 0.80\"> #empowerment #changing #mindsets  https://t.</span><span style=\"background-color: hsl(120, 100.00%, 81.66%); opacity: 0.87\" title=\"0.105\">co</span><span style=\"opacity: 0.80\">/opf3iwkbxs</span>\n",
              "    </p>\n",
              "\n",
              "\n",
              "    \n",
              "\n",
              "    \n",
              "\n",
              "    \n",
              "\n",
              "    \n",
              "\n",
              "\n",
              "    \n",
              "\n",
              "    \n",
              "\n",
              "    \n",
              "\n",
              "    \n",
              "\n",
              "    \n",
              "\n",
              "    \n",
              "\n",
              "\n",
              "    \n",
              "\n",
              "    \n",
              "\n",
              "    \n",
              "\n",
              "    \n",
              "\n",
              "    \n",
              "\n",
              "    \n",
              "\n",
              "\n",
              "\n"
            ],
            "text/plain": [
              "<IPython.core.display.HTML object>"
            ]
          },
          "metadata": {},
          "execution_count": 55
        }
      ]
    },
    {
      "cell_type": "code",
      "metadata": {
        "colab": {
          "base_uri": "https://localhost:8080/",
          "height": 35
        },
        "id": "7Ofxkm6VJ6k_",
        "outputId": "3ad27362-9981-48ab-a700-6824c8ee1500"
      },
      "source": [
        "data_tweets['tweet'][5234]"
      ],
      "execution_count": null,
      "outputs": [
        {
          "output_type": "execute_result",
          "data": {
            "application/vnd.google.colaboratory.intrinsic+json": {
              "type": "string"
            },
            "text/plain": [
              "'China for Biden  #PresidentialDebate2020 #Debates2020 #biden2020 #Trump2020 #VPDebate'"
            ]
          },
          "metadata": {},
          "execution_count": 53
        }
      ]
    }
  ]
}