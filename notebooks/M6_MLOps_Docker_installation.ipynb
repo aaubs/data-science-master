{
  "nbformat": 4,
  "nbformat_minor": 0,
  "metadata": {
    "colab": {
      "provenance": [],
      "authorship_tag": "ABX9TyNlT4RBkqqH7pjfMxUA62sJ",
      "include_colab_link": true
    },
    "kernelspec": {
      "name": "python3",
      "display_name": "Python 3"
    },
    "language_info": {
      "name": "python"
    }
  },
  "cells": [
    {
      "cell_type": "markdown",
      "metadata": {
        "id": "view-in-github",
        "colab_type": "text"
      },
      "source": [
        "<a href=\"https://colab.research.google.com/github/aaubs/ds-master/blob/main/notebooks/M6_MLOps_Docker_installation.ipynb\" target=\"_parent\"><img src=\"https://colab.research.google.com/assets/colab-badge.svg\" alt=\"Open In Colab\"/></a>"
      ]
    },
    {
      "cell_type": "markdown",
      "source": [
        "![](https://thesolving.com/wp-content/uploads/2021/05/How-docker-works-structure-and-functioning-in-detail.png)"
      ],
      "metadata": {
        "id": "eT0ofFPdZ5-M"
      }
    },
    {
      "cell_type": "markdown",
      "source": [
        "To install Docker on Ubuntu, follow these steps:\n",
        "\n",
        "####Step 1: Update your system\n",
        "\n",
        "Open a terminal and run the following commands to update your system:"
      ],
      "metadata": {
        "id": "GrcYuRSjZ0Dx"
      }
    },
    {
      "cell_type": "code",
      "execution_count": null,
      "metadata": {
        "id": "ntzN7CtiMblM"
      },
      "outputs": [],
      "source": [
        "sudo apt update\n",
        "sudo apt upgrade"
      ]
    },
    {
      "cell_type": "markdown",
      "source": [
        "####Step 2: Install prerequisites\n",
        "\n",
        "Install the necessary packages for Docker installation:"
      ],
      "metadata": {
        "id": "K2O647ZqaGTO"
      }
    },
    {
      "cell_type": "code",
      "source": [
        "sudo apt install apt-transport-https ca-certificates curl software-properties-common\n"
      ],
      "metadata": {
        "id": "nSbiC--KaIzj"
      },
      "execution_count": null,
      "outputs": []
    },
    {
      "cell_type": "markdown",
      "source": [
        "####Step 3: Add Docker repository\n",
        "\n",
        "Add Docker's GPG key to your system:"
      ],
      "metadata": {
        "id": "_SWUYp9baXvD"
      }
    },
    {
      "cell_type": "code",
      "source": [
        "curl -fsSL https://download.docker.com/linux/ubuntu/gpg | sudo gpg --dearmor -o /usr/share/keyrings/docker-archive-keyring.gpg"
      ],
      "metadata": {
        "id": "9m8X33TzaacP"
      },
      "execution_count": null,
      "outputs": []
    },
    {
      "cell_type": "markdown",
      "source": [
        "Add the Docker repository to your system's sources:\n",
        "\n"
      ],
      "metadata": {
        "id": "UWdRulMjacTU"
      }
    },
    {
      "cell_type": "code",
      "source": [
        "echo \"deb [arch=$(dpkg --print-architecture) signed-by=/usr/share/keyrings/docker-archive-keyring.gpg] https://download.docker.com/linux/ubuntu $(lsb_release -cs) stable\" | sudo tee /etc/apt/sources.list.d/docker.list > /dev/null"
      ],
      "metadata": {
        "id": "3sVXlslDagIS"
      },
      "execution_count": null,
      "outputs": []
    },
    {
      "cell_type": "markdown",
      "source": [
        "####Step 4: Install Docker\n",
        "\n",
        "Update your package index:"
      ],
      "metadata": {
        "id": "rt_dbTsPah_v"
      }
    },
    {
      "cell_type": "code",
      "source": [
        "sudo apt update"
      ],
      "metadata": {
        "id": "mvvzz1L_amNB"
      },
      "execution_count": null,
      "outputs": []
    },
    {
      "cell_type": "markdown",
      "source": [
        "Install Docker:"
      ],
      "metadata": {
        "id": "cedVaaa2aqQE"
      }
    },
    {
      "cell_type": "code",
      "source": [
        "sudo apt install docker-ce"
      ],
      "metadata": {
        "id": "xkY-YUJFaqxd"
      },
      "execution_count": null,
      "outputs": []
    },
    {
      "cell_type": "markdown",
      "source": [
        "####Step 5: Start and enable Docker\n",
        "\n",
        "Enable and start the Docker service:"
      ],
      "metadata": {
        "id": "Pa6776D_bHsN"
      }
    },
    {
      "cell_type": "code",
      "source": [
        "sudo systemctl enable --now docker"
      ],
      "metadata": {
        "id": "8Bo38IwfbO7i"
      },
      "execution_count": null,
      "outputs": []
    },
    {
      "cell_type": "markdown",
      "source": [
        "####Step 6: Add your user to the docker group (optional)\n",
        "\n",
        "By default, you need to use sudo to run Docker commands. To run Docker commands without sudo, add your user to the docker group:"
      ],
      "metadata": {
        "id": "uSfpmxL4bRhg"
      }
    },
    {
      "cell_type": "code",
      "source": [
        "sudo usermod -aG docker $USER"
      ],
      "metadata": {
        "id": "uOuFXuAsbV8b"
      },
      "execution_count": null,
      "outputs": []
    },
    {
      "cell_type": "markdown",
      "source": [
        "After adding your user to the docker group, you need to log out and log back in for the changes to take effect.\n",
        "\n",
        "####Step 7: Verify Docker installation\n",
        "\n",
        "To verify that Docker is installed and running correctly, run the following command:\n",
        "\n"
      ],
      "metadata": {
        "id": "FTbZkm_fbZ9I"
      }
    },
    {
      "cell_type": "code",
      "source": [
        "docker --version"
      ],
      "metadata": {
        "id": "MXGfVpiAbdzR"
      },
      "execution_count": null,
      "outputs": []
    },
    {
      "cell_type": "markdown",
      "source": [
        "This command should display the Docker version installed on your system.\n"
      ],
      "metadata": {
        "id": "UsZHITk5biPi"
      }
    }
  ]
}