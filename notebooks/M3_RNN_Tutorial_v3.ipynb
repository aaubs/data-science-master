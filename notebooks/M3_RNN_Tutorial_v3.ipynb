{
  "nbformat": 4,
  "nbformat_minor": 0,
  "metadata": {
    "colab": {
      "provenance": [],
      "authorship_tag": "ABX9TyObGgCudDPsuDTCNc4uktj0",
      "include_colab_link": true
    },
    "kernelspec": {
      "name": "python3",
      "display_name": "Python 3"
    },
    "language_info": {
      "name": "python"
    }
  },
  "cells": [
    {
      "cell_type": "markdown",
      "metadata": {
        "id": "view-in-github",
        "colab_type": "text"
      },
      "source": [
        "<a href=\"https://colab.research.google.com/github/aaubs/ds-master/blob/main/notebooks/M3_RNN_Tutorial_v3.ipynb\" target=\"_parent\"><img src=\"https://colab.research.google.com/assets/colab-badge.svg\" alt=\"Open In Colab\"/></a>"
      ]
    },
    {
      "cell_type": "markdown",
      "source": [
        "# The objective of this tutorial\n",
        "\n",
        "Our goal in this tutorial is to provide simple examples of the RNN model so that you can better understand its functionality and how it can be used in a domain.\n",
        "\n",
        "After completing this tutorial, you will know:\n",
        "\n",
        "\n",
        "```\n",
        "1. What is a recurrent neural network (RNN)?\n",
        "2. How do RNNs work and what is their structure?\n",
        "3. How can RNNs be used for tasks such as time series analysis?\n",
        "4. How to implement an RNN in code using PyTorch?\n",
        "5. How to train an RNN for a specific task?\n",
        "6. What are some common challenges and pitfalls to avoid when working with RNNs?\n",
        "```\n"
      ],
      "metadata": {
        "id": "5YsD4lOPEdmK"
      }
    },
    {
      "cell_type": "markdown",
      "source": [
        "## A quick recap on Simple Neural Network (FeedForward)"
      ],
      "metadata": {
        "id": "ZQawEI4XUZ-p"
      }
    },
    {
      "cell_type": "markdown",
      "source": [
        "A simple neural network consists of three different parts namely Parameters, Linear, and None-Linear (Activation Function ) parts:"
      ],
      "metadata": {
        "id": "Mg36lXTUh26q"
      }
    },
    {
      "cell_type": "markdown",
      "source": [
        "1. First, a weight is being applied to each input to an artificial neuron.\n",
        "2. Second, the inputs are multiplied by their weights, and then a bias is applied to the outcome. This is called the weighted sum.\n",
        "3. Third, the weighted sum is processed via an activation function, as a non-linear function."
      ],
      "metadata": {
        "id": "1IUeWB5KiCMj"
      }
    },
    {
      "cell_type": "markdown",
      "source": [
        "<img src=\"https://cdn.analyticsvidhya.com/wp-content/uploads/2020/02/13UpdymQx-C1tBKRnfD7eOg.gif\" width=\"500\">"
      ],
      "metadata": {
        "id": "HBtJUGWIkxQN"
      }
    },
    {
      "cell_type": "markdown",
      "source": [
        "The neural network can compare the outputs of its nodes with the desired values using a property known as the delta rule, allowing the network to alter its weights through training to create more accurate output values. This training and learning procedure results in gradient descent.\n",
        "\n",
        "The technique of updating weights in multi-layered perceptrons is virtually the same, however, the process is referred to as back-propagation. In such circumstances, the output values provided by the final layer are used to alter each hidden layer inside the network."
      ],
      "metadata": {
        "id": "evhlndvXkzzx"
      }
    },
    {
      "cell_type": "markdown",
      "source": [
        "### Problems with a Simple Neural Network"
      ],
      "metadata": {
        "id": "Ivg_7TJWRZbb"
      }
    },
    {
      "cell_type": "markdown",
      "source": [
        "The main shortcomings of traditional neural networks are:\n",
        "\n",
        "1. They can not handle sequential data\n",
        "2. They can not remember the sequence of the data, i.e order is not important\n",
        "3. Can not share parameters across the sequence\n",
        "4. They have a fixed input length\n",
        "\n",
        "Let’s have a brief look at these problems, then dig deeper into RNN."
      ],
      "metadata": {
        "id": "J2NNUpctRz82"
      }
    },
    {
      "cell_type": "markdown",
      "source": [
        "#### 1. They can not handle sequential data"
      ],
      "metadata": {
        "id": "KfTNIi8UhsLu"
      }
    },
    {
      "cell_type": "markdown",
      "source": [
        "Sequential data in RNN (Recurrent Neural Network) refers to any type of data where the observations have a temporal or sequential relationship. This could include time series data, where each observation is dependent on the previous one, or sequence data, where the order of the observations is important. In RNNs, this type of data is processed through the recurrent connections in the network, allowing the model to maintain and update an internal state based on the information in the sequence. This makes RNNs particularly well suited for tasks such as language modeling, speech recognition, and time series forecasting. There are some variations to the neural network’s configuration based on the shape of the input or output which you can see in the following:"
      ],
      "metadata": {
        "id": "BhxBLbBnkTtY"
      }
    },
    {
      "cell_type": "markdown",
      "source": [
        "<img src=\"https://raw.githubusercontent.com/aaubs/ds-master/main/data/Images/SeqData_RNN.png\" width=\"400\">\n",
        "\n"
      ],
      "metadata": {
        "id": "3k4r4FqTksyQ"
      }
    },
    {
      "cell_type": "markdown",
      "source": [
        "#### 2. They can not remember the sequence of the data, i.e order is not important"
      ],
      "metadata": {
        "id": "QgCDwtjPbxRI"
      }
    },
    {
      "cell_type": "markdown",
      "source": [
        "The second limitation of traditional neural networks is that they can not remember the sequence of the data, or the order is not important to them. Let’s understand this problem with an example which is shown in this figure (MIT 6.S191 Intro to Deep Learning)."
      ],
      "metadata": {
        "id": "r_nG9WWAb4f8"
      }
    },
    {
      "cell_type": "markdown",
      "source": [
        "![image.jpeg](https://raw.githubusercontent.com/aaubs/ds-master/main/data/Images/Problems-with-Traditional-Neural-Network-2.jpeg)"
      ],
      "metadata": {
        "id": "SAJh08ejgB18"
      }
    },
    {
      "cell_type": "markdown",
      "source": [
        "\n",
        "\n",
        "> *RNNs use feedback connections that allow information to be passed from one step of the sequence to the next, allowing the network to maintain and update an internal state that depends on the past input. This enables RNNs to capture and understand the dependencies and patterns in the sequence data, making them well suited for tasks such as natural language processing and time series analysis.*\n",
        "\n"
      ],
      "metadata": {
        "id": "Eyl8isKBg08O"
      }
    },
    {
      "cell_type": "markdown",
      "source": [
        "#### 3. FeedForward Neural Network Can not share parameters across the sequence\n",
        "\n",
        "In traditional Feedforward Neural Networks (MLPs), each input is processed independently and there is no mechanism for sharing parameters across different inputs in a sequence. For example, let’s take the sentence **“what is your name? My name is Lasse”**. In an MLP, each word would be treated as a separate input and would be processed through separate hidden layers. There is no way for the network to share information across words in the sequence, such as information about the relationship between words or about common features that occur across different parts of the sequence. In this case, \"name\"'s parameters should have been shared and so the neural network should have been able to determine that \"name\"'s words are dependent in this sentence."
      ],
      "metadata": {
        "id": "5_a87DZzYAA3"
      }
    },
    {
      "cell_type": "markdown",
      "source": [
        "\n",
        "\n",
        "> *In contrast, Recurrent Neural Networks (RNNs) have a hidden state that is updated at each time step, allowing the network to maintain information about the sequence and share parameters across different time steps. This makes RNNs well-suited for processing sequential data and for tasks such as sequence classification, language modeling, and machine translation*\n",
        "\n",
        "\n"
      ],
      "metadata": {
        "id": "BYpgv8E9baFb"
      }
    },
    {
      "cell_type": "markdown",
      "source": [
        "Therefore Recurrent Neural Networks (RNN), originally were designed to handle some of the shortcomings that traditional neural networks have when dealing with sequential data."
      ],
      "metadata": {
        "id": "5x-VbMMUiw6z"
      }
    },
    {
      "cell_type": "markdown",
      "source": [
        "## What is a Recurrent Neural Network?"
      ],
      "metadata": {
        "id": "JIhY3uV3ipL1"
      }
    },
    {
      "cell_type": "markdown",
      "source": [
        "Here we can see that the Simple Neural Network is unidirectional, which means it has a single direction, whereas the RNN, has loops inside it to persist the information over timestamp t. This looping preserves the information over the sequence."
      ],
      "metadata": {
        "id": "9EdoHDLRsC_j"
      }
    },
    {
      "cell_type": "markdown",
      "source": [
        "<img src=\"https://raw.githubusercontent.com/aaubs/ds-master/main/data/Images/FNN-RNN.png\" width=\"500\">"
      ],
      "metadata": {
        "id": "wYP4GSJpj4Fn"
      }
    },
    {
      "cell_type": "markdown",
      "source": [
        "#### Structure of RNN"
      ],
      "metadata": {
        "id": "WRRo4fLIGilr"
      }
    },
    {
      "cell_type": "markdown",
      "source": [
        "Now, let’s dig deeper to understand what is happening under the hood. An RNN consists of four different parts:\n",
        "1. Linear part (Parameters: This includes the weights and biases of the input-to-hidden layer, the hidden-to-hidden layer, and the hidden-to-output layer.)\n",
        "> *The hidden state is used to capture the information from the previous time steps, but this information is not relevant after the training process is finished. Therefore, resetting the hidden state parameters to zero ensures that the network starts with a clean slate for making predictions on new, unseen data.*\n",
        "\n",
        "2. The hidden state (also known as the context state)\n",
        "> *you can think of the hidden state as representing the \"memory\" of the network, which is updated at each time step and used to produce the output.*\n",
        "\n",
        "\n",
        "3. Non-Linear part (Activation Function (Tanh))\n",
        "> As you can see in the equation above, you feed in both input vector Xt and the previous state ht-1 into the function. Here you’ll have 2 separate weight matrices then apply the Non-linearity (tanh) to the sum of input Xt and previous state ht-1 after multiplication to these 2 weight matrices.\n",
        "<img src=\"https://raw.githubusercontent.com/aaubs/ds-master/main/data/Images/sequence-2.png\" width=\"300\">\n",
        "\n",
        "\n",
        "4. Fully connected (Output layer): Finally, you’ll have the output vector ŷt at the timestamp t.\n",
        "> <img src=\"https://raw.githubusercontent.com/aaubs/ds-master/main/data/Images/sequence-3.png\" width=\"150\">\n",
        "\n",
        "\n",
        "\n",
        "\n"
      ],
      "metadata": {
        "id": "zFlqx_2isQAr"
      }
    },
    {
      "cell_type": "markdown",
      "source": [
        "![](https://raw.githubusercontent.com/HamidBekamiri/Econometrics-II/refs/heads/main/images/RNN_Formula.png)"
      ],
      "metadata": {
        "id": "vYCCWezZl88P"
      }
    },
    {
      "cell_type": "markdown",
      "source": [
        "### RNN code implementation"
      ],
      "metadata": {
        "id": "lyzMY5Q8sTWK"
      }
    },
    {
      "cell_type": "markdown",
      "source": [
        "In Recurrent Neural Networks (RNNs), the terms \"input size\", \"hidden size\", and \"number of outputs\" refer to the following:\n",
        "> Input size: Refers to the number of features in a single input sample. For example, if the input is a one-hot encoded word, the input size would be the number of unique words in the vocabulary.\n",
        "\n",
        "> Hidden size: Refers to the number of neurons in the hidden layer. The hidden state of the RNN at each time step is represented by this layer, which helps to capture information from the past time steps.\n",
        "\n",
        "> Number of outputs: Refers to the number of outputs generated by the RNN. This could be one output for a simple prediction problem, or multiple outputs for a multi-task prediction problem.\n",
        "\n",
        "Note that these hyperparameters need to be set prior to training the RNN and their choice can affect the model's performance."
      ],
      "metadata": {
        "id": "L5175gDHG1lH"
      }
    },
    {
      "cell_type": "markdown",
      "source": [
        "The \"input to hidden\" weights are the connections or weights between the input layer and the hidden layer, and these connections allow the network to learn how to propagate information from the input to the hidden state.\n",
        "\n",
        "The \"hidden to output\" weights are the connections or weights between the hidden layer and the output layer, and these connections allow the network to learn how to produce the final output based on the hidden state."
      ],
      "metadata": {
        "id": "ZfNYUio8H_gr"
      }
    },
    {
      "cell_type": "markdown",
      "source": [
        "The forward pass is the process of computing the output for a given input sequence. The forward pass starts by initializing the hidden state of the RNN with a zero vector or some other randomly generated values."
      ],
      "metadata": {
        "id": "hUyMWlphcdmQ"
      }
    },
    {
      "cell_type": "markdown",
      "source": [
        "In the forward pass we understood how the inputs and the hidden states interact with the weights and biases of the recurrent layers and how to use the information contained in the last hidden state to predict the next time step value.\n"
      ],
      "metadata": {
        "id": "AcOyCY_b_Ji4"
      }
    },
    {
      "cell_type": "markdown",
      "source": [
        "RNNs use feedback connections that allow information to be passed from one step of the sequence to the next, allowing the network to maintain and update an internal state that depends on the past input. This enables RNNs to capture and understand the dependencies and patterns in the sequence data, making them well suited for tasks such as natural language processing and time series analysis."
      ],
      "metadata": {
        "id": "gn7f3NVGwOt0"
      }
    },
    {
      "cell_type": "markdown",
      "source": [
        "<img src=\"https://raw.githubusercontent.com/aaubs/ds-master/main/data/Images/rnn_timestamps.gif\" width=\"700\">"
      ],
      "metadata": {
        "id": "fjIw-SzZBD4E"
      }
    },
    {
      "cell_type": "markdown",
      "source": [
        "The backward pass is just the application of the chain rule from the loss gradient with respect to the predictions until it becomes with respect to the parameters we want to optimize."
      ],
      "metadata": {
        "id": "ss-PWvFz_ZTk"
      }
    },
    {
      "cell_type": "markdown",
      "source": [
        "<img src=\"https://raw.githubusercontent.com/aaubs/ds-master/main/data/Images/understanding-gradient-descent.png\" width=\"400\">"
      ],
      "metadata": {
        "id": "Ecjc8TjoDy2Y"
      }
    },
    {
      "cell_type": "markdown",
      "source": [
        "The hidden state is used to capture the information from the previous time steps, but this information is not relevant after the training process is finished. Therefore, resetting the hidden state to zero ensures that the network starts with a clean slate for making predictions on new, unseen data.\n"
      ],
      "metadata": {
        "id": "9gCpg1IMx3cF"
      }
    },
    {
      "cell_type": "markdown",
      "source": [
        "<img src=\"https://raw.githubusercontent.com/aaubs/ds-master/main/data/Images/rnn-shorttermmemory.gif\" width=\"400\">"
      ],
      "metadata": {
        "id": "Zv93vePiy-CC"
      }
    },
    {
      "cell_type": "markdown",
      "source": [
        "### Which parameters have been trained and should be saved?"
      ],
      "metadata": {
        "id": "Qg9pMoqr2OE2"
      }
    },
    {
      "cell_type": "markdown",
      "source": [
        "The \"input to hidden\" as Wi2h and the \"hidden to hidden\" as Wh2h weights are learned during the training process through backpropagation and gradient descent optimization algorithms, and they determine the strength of the relationships between the input, hidden, and output layers."
      ],
      "metadata": {
        "id": "qVNe2og85Mxi"
      }
    },
    {
      "cell_type": "markdown",
      "source": [
        "## How does PyTorch help to implement an RNN?\n"
      ],
      "metadata": {
        "id": "z1NQv-uxetdr"
      }
    },
    {
      "cell_type": "markdown",
      "source": [
        "Let's implement this code using PyTorch!"
      ],
      "metadata": {
        "id": "RK3YjT2uggx-"
      }
    },
    {
      "cell_type": "code",
      "source": [
        "# import required libraries\n",
        "import torch\n",
        "import pandas as pd\n",
        "import torch.nn as nn\n",
        "import torch.optim as optim\n",
        "import numpy as np\n",
        "from torch.utils.data import DataLoader, TensorDataset\n",
        "from sklearn import preprocessing\n",
        "import matplotlib.pyplot as plt\n",
        "from tqdm import tqdm\n",
        "from sklearn.preprocessing import MinMaxScaler"
      ],
      "metadata": {
        "id": "nvXoIUUSQ0JG"
      },
      "execution_count": 5,
      "outputs": []
    },
    {
      "cell_type": "markdown",
      "source": [
        "### Data Preparation"
      ],
      "metadata": {
        "id": "t_oBVKD6Q52-"
      }
    },
    {
      "cell_type": "markdown",
      "source": [
        "To understand how should we prepare the data for RNN, we’ll use a simple dataset as a Timeseries Forecasting example. Below is the full sequence of values and their restructuring as a training and testing dataset.\n",
        "\n",
        "<img src=\"https://raw.githubusercontent.com/aaubs/ds-master/main/data/Images/SequenceDataPerparation.webp\" width=\"400\">\n",
        "\n",
        "Now, let’s separate the datasets into batches!\n",
        "\n",
        "<img src=\"https://raw.githubusercontent.com/aaubs/ds-master/main/data/Images/Seq_DataPerparation_2.webp\" width=\"100\">"
      ],
      "metadata": {
        "id": "l3KQo2ko5S3N"
      }
    },
    {
      "cell_type": "code",
      "source": [
        "# Step 1: Load and Preprocess Data\n",
        "df_array = pd.DataFrame(np.array([10, 20, 30, 40, 50, 60, 70, 80, 90]))"
      ],
      "metadata": {
        "id": "5qSxuowB4zPc"
      },
      "execution_count": 6,
      "outputs": []
    },
    {
      "cell_type": "code",
      "source": [
        "# Step 2: Feature engineering\n"
      ],
      "metadata": {
        "id": "aL0G94Tv5QD0"
      },
      "execution_count": 7,
      "outputs": []
    },
    {
      "cell_type": "code",
      "source": [
        "# Step 3: Normalize the Data\n",
        "scaler = MinMaxScaler()\n",
        "data_scaled = scaler.fit_transform(df_array)"
      ],
      "metadata": {
        "id": "vVl0pHu15_bm"
      },
      "execution_count": 8,
      "outputs": []
    },
    {
      "cell_type": "code",
      "source": [
        "# Step 4: Split Data into Training and Testing Sets\n",
        "train_size = int(len(data_scaled) * 0.8)\n",
        "train_data = data_scaled[:train_size]\n",
        "test_data = data_scaled[train_size:]\n",
        "\n",
        "# Further split the training data into training and validation sets\n",
        "train_valid_size = int(len(train_data) * 0.8)\n",
        "train_data_final = train_data[:train_valid_size]\n",
        "valid_data = train_data[train_valid_size:]\n",
        "\n",
        "# Step 5: Prepare Data for RNN Input\n",
        "def create_sequences_multivariate(data, n_timesteps, target_column_index):\n",
        "    X = []\n",
        "    y = []\n",
        "    for i in range(len(data) - n_timesteps):\n",
        "        seq_x = data[i:i + n_timesteps]\n",
        "        seq_y = data[i + n_timesteps, target_column_index]\n",
        "        X.append(seq_x)\n",
        "        y.append(seq_y)\n",
        "    return np.array(X), np.array(y)\n",
        "\n",
        "n_timesteps = 1\n",
        "n_features = data_scaled.shape[1]\n",
        "target_column_index = 0  # 'Close' is the target column\n",
        "\n",
        "# Create sequences for training, validation, and testing\n",
        "X_train, y_train = create_sequences_multivariate(train_data_final, n_timesteps, target_column_index)\n",
        "X_valid, y_valid = create_sequences_multivariate(valid_data, n_timesteps, target_column_index)\n",
        "X_test, y_test = create_sequences_multivariate(test_data, n_timesteps, target_column_index)\n",
        "\n",
        "# Convert to tensors\n",
        "X_train = torch.tensor(X_train, dtype=torch.float32)\n",
        "y_train = torch.tensor(y_train, dtype=torch.float32)\n",
        "\n",
        "X_valid = torch.tensor(X_valid, dtype=torch.float32)\n",
        "y_valid = torch.tensor(y_valid, dtype=torch.float32)\n",
        "\n",
        "X_test = torch.tensor(X_test, dtype=torch.float32)\n",
        "y_test = torch.tensor(y_test, dtype=torch.float32)"
      ],
      "metadata": {
        "id": "WXwqfxL255h3"
      },
      "execution_count": 9,
      "outputs": []
    },
    {
      "cell_type": "markdown",
      "source": [
        "Implementing code for LSTM and RNN requires sequential data preparation. The data preparation process for these models is visualized here!\n",
        "\n",
        "\n",
        "<img src=\"https://raw.githubusercontent.com/aaubs/ds-master/main/data/Images/sequence.gif\" width=\"600\">\n"
      ],
      "metadata": {
        "id": "ot0lYrMKzpVL"
      }
    },
    {
      "cell_type": "markdown",
      "source": [
        "We then have to prepare the dataset. We need the data as Pytorch tensors so that we can use that in our model which we will make. We use the dataloader so that we can extract the data in batches. This is especially helpful for large datasets.\n",
        "\n",
        "<img src=\"https://raw.githubusercontent.com/aaubs/ds-master/main/data/Images/TensorDataset.webp\" width=\"600\">\n",
        "\n"
      ],
      "metadata": {
        "id": "wMQQtwD2-h6Y"
      }
    },
    {
      "cell_type": "code",
      "source": [
        "# Create DataLoaders\n",
        "train_dataset = TensorDataset(X_train, y_train)\n",
        "valid_dataset = TensorDataset(X_valid, y_valid)\n",
        "test_dataset = TensorDataset(X_test, y_test)\n",
        "\n",
        "train_loader = DataLoader(train_dataset, batch_size=1, shuffle=False)\n",
        "valid_loader = DataLoader(valid_dataset, batch_size=1, shuffle=False)\n",
        "test_loader = DataLoader(test_dataset, batch_size=1, shuffle=False)"
      ],
      "metadata": {
        "id": "HtUly6R_64BL"
      },
      "execution_count": 10,
      "outputs": []
    },
    {
      "cell_type": "code",
      "source": [
        "X_train"
      ],
      "metadata": {
        "colab": {
          "base_uri": "https://localhost:8080/"
        },
        "id": "gZA2ntGO7h1t",
        "outputId": "4a64bc63-4220-498c-a289-ba83b4007e40"
      },
      "execution_count": 11,
      "outputs": [
        {
          "output_type": "execute_result",
          "data": {
            "text/plain": [
              "tensor([[[0.0000]],\n",
              "\n",
              "        [[0.1250]],\n",
              "\n",
              "        [[0.2500]],\n",
              "\n",
              "        [[0.3750]]])"
            ]
          },
          "metadata": {},
          "execution_count": 11
        }
      ]
    },
    {
      "cell_type": "code",
      "source": [
        "len(train_loader.dataset)"
      ],
      "metadata": {
        "colab": {
          "base_uri": "https://localhost:8080/"
        },
        "id": "ApeKyNoN7ab7",
        "outputId": "051d50ca-f23e-4ae7-ab63-df05a1f03392"
      },
      "execution_count": 12,
      "outputs": [
        {
          "output_type": "execute_result",
          "data": {
            "text/plain": [
              "4"
            ]
          },
          "metadata": {},
          "execution_count": 12
        }
      ]
    },
    {
      "cell_type": "code",
      "source": [
        "# Step 6: Build the RNN Model\n",
        "# 1. Creating a FeedForwardNetwork\n",
        "# 1.1 Structure (Architecture) of NN\n",
        "class RNNModel(nn.Module):\n",
        "    def __init__(self, input_size, hidden_size=50, output_size=1):\n",
        "        super(RNNModel, self).__init__()\n",
        "        self.hidden_size = hidden_size\n",
        "        self.rnn = nn.RNN(input_size, hidden_size, batch_first=True)\n",
        "        self.fc = nn.Linear(hidden_size, output_size)\n",
        "\n",
        "    def forward(self, x):\n",
        "        out, h_n = self.rnn(x)\n",
        "        out = out[:, -1, :]  # Take the output at the last time step\n",
        "        out = self.fc(out)\n",
        "        return out\n",
        "\n",
        "model = RNNModel(input_size=n_features, hidden_size=50, output_size=1)\n",
        "\n",
        "# Define loss function and optimizer\n",
        "# 1.2 Loss Function\n",
        "criterion = nn.MSELoss()\n",
        "\n",
        "# 1.3 Optmization Approch\n",
        "optimizer = optim.Adam(model.parameters())\n",
        "\n",
        "# Step 7: Train the Model\n",
        "device = torch.device('cuda' if torch.cuda.is_available() else 'cpu')\n",
        "model.to(device)\n",
        "\n",
        "num_epochs = 10\n",
        "train_losses = []\n",
        "valid_losses = []\n",
        "\n",
        "for epoch in range(num_epochs):\n",
        "    model.train()\n",
        "    train_loss = 0\n",
        "    for inputs, targets in train_loader:\n",
        "        inputs = inputs.to(device)\n",
        "        targets = targets.to(device)\n",
        "        optimizer.zero_grad()\n",
        "        # 2. Forward Pass\n",
        "        outputs = model(inputs)\n",
        "        # 3. FeedForward Evaluation\n",
        "        loss = criterion(outputs.squeeze(), targets)\n",
        "        # 4. Backward Pass / Gradient Calculation\n",
        "        loss.backward()\n",
        "        # 5. Back Propagation / Update Weights\n",
        "        optimizer.step()\n",
        "        train_loss += loss.item() * inputs.size(0)\n",
        "    train_loss /= len(train_loader.dataset)\n",
        "    train_losses.append(train_loss)\n",
        "\n",
        "    # Evaluate on validation set\n",
        "    model.eval()\n",
        "    valid_loss = 0\n",
        "    with torch.no_grad():\n",
        "        for inputs, targets in valid_loader:\n",
        "            inputs = inputs.to(device)\n",
        "            targets = targets.to(device)\n",
        "            outputs = model(inputs)\n",
        "            loss = criterion(outputs.squeeze(), targets)\n",
        "            valid_loss += loss.item() * inputs.size(0)\n",
        "    valid_loss /= len(valid_loader.dataset)\n",
        "    valid_losses.append(valid_loss)\n",
        "\n",
        "    if (epoch + 1) % 2 == 0:\n",
        "        print(f'Epoch {epoch + 1}/{num_epochs}, Train Loss: {train_loss:.6f}, Valid Loss: {valid_loss:.6f}')\n",
        "\n",
        "# Step 8: Evaluate the Model\n",
        "# Evaluate on testing set\n",
        "model.eval()\n",
        "with torch.no_grad():\n",
        "    test_preds = model(X_test.to(device)).cpu().numpy()\n",
        "    test_actuals = y_test.numpy()\n",
        "\n",
        "# # Step 9: Denormalize and Visualize Predictions\n",
        "# # Since we have multiple features, we need to only inverse transform the target variable\n",
        "# def denormalize(scaled_data, scaler, index):\n",
        "#     data = np.zeros((len(scaled_data), scaler.n_features_in_))\n",
        "#     data[:, index] = scaled_data[:, 0]\n",
        "#     data = scaler.inverse_transform(data)\n",
        "#     return data[:, index]\n",
        "\n",
        "# # Denormalize the predictions and actuals\n",
        "# test_preds_denorm = denormalize(test_preds, scaler, target_column_index)\n",
        "# test_actuals_denorm = denormalize(test_actuals.reshape(-1, 1), scaler, target_column_index)\n",
        "\n",
        "# # Plot predictions vs actuals for the test set\n",
        "# plt.figure(figsize=(12, 6))\n",
        "# plt.plot(test_actuals_denorm, label='Actual')\n",
        "# plt.plot(test_preds_denorm, label='Predicted')\n",
        "# plt.title('Predictions vs Actuals on Test Set')\n",
        "# plt.xlabel('Index')\n",
        "# plt.ylabel('TSLA Close Price')\n",
        "# plt.legend()\n",
        "# plt.show()\n",
        "\n",
        "# # Step 10: Save and Load the Model\n",
        "# # Save the model\n",
        "# torch.save(model.state_dict(), 'tsla_rnn_model.pth')\n",
        "\n",
        "# # Load the model\n",
        "# loaded_model = RNNModel(input_size=n_features, hidden_size=50, output_size=1)\n",
        "# loaded_model.load_state_dict(torch.load('tsla_rnn_model.pth'))\n",
        "# loaded_model.to(device)\n",
        "# loaded_model.eval()"
      ],
      "metadata": {
        "colab": {
          "base_uri": "https://localhost:8080/"
        },
        "id": "ZV4gm9xi4un4",
        "outputId": "ef772d03-d9e4-4c14-d3cf-fd2d55c95dd6"
      },
      "execution_count": 13,
      "outputs": [
        {
          "output_type": "stream",
          "name": "stdout",
          "text": [
            "Epoch 2/10, Train Loss: 0.193187, Valid Loss: 0.692375\n",
            "Epoch 4/10, Train Loss: 0.121546, Valid Loss: 0.533959\n",
            "Epoch 6/10, Train Loss: 0.071136, Valid Loss: 0.404790\n",
            "Epoch 8/10, Train Loss: 0.039258, Valid Loss: 0.303452\n",
            "Epoch 10/10, Train Loss: 0.022585, Valid Loss: 0.229121\n"
          ]
        },
        {
          "output_type": "stream",
          "name": "stderr",
          "text": [
            "/usr/local/lib/python3.10/dist-packages/torch/nn/modules/loss.py:538: UserWarning: Using a target size (torch.Size([1])) that is different to the input size (torch.Size([])). This will likely lead to incorrect results due to broadcasting. Please ensure they have the same size.\n",
            "  return F.mse_loss(input, target, reduction=self.reduction)\n"
          ]
        }
      ]
    },
    {
      "cell_type": "code",
      "source": [
        "# Combine the parameters of the RNN layer and linear layer\n",
        "params = list(model.parameters())\n",
        "\n",
        "# Print the number of parameters\n",
        "print(\"Number of parameters:\", sum(p.numel() for p in params))\n",
        "\n",
        "# Print the shapes of the parameters\n",
        "for name, param in model.named_parameters():\n",
        "    print(\"Name: \", name)\n",
        "    print(\"shape: \", param.shape)\n",
        "    print(\"Weight: \", param.data)"
      ],
      "metadata": {
        "colab": {
          "base_uri": "https://localhost:8080/"
        },
        "id": "0zWfVNQfEU3o",
        "outputId": "aac1e5d2-f7cd-4a79-dfb3-bf4b9f9527de"
      },
      "execution_count": 14,
      "outputs": [
        {
          "output_type": "stream",
          "name": "stdout",
          "text": [
            "Number of parameters: 2701\n",
            "Name:  rnn.weight_ih_l0\n",
            "shape:  torch.Size([50, 1])\n",
            "Weight:  tensor([[ 0.0928],\n",
            "        [ 0.0248],\n",
            "        [ 0.0339],\n",
            "        [-0.0439],\n",
            "        [ 0.0064],\n",
            "        [-0.0562],\n",
            "        [-0.0405],\n",
            "        [-0.0264],\n",
            "        [ 0.0519],\n",
            "        [-0.1310],\n",
            "        [-0.1076],\n",
            "        [-0.0656],\n",
            "        [ 0.1123],\n",
            "        [-0.1603],\n",
            "        [-0.1391],\n",
            "        [-0.0555],\n",
            "        [-0.0298],\n",
            "        [-0.0445],\n",
            "        [ 0.0430],\n",
            "        [-0.0947],\n",
            "        [-0.1483],\n",
            "        [ 0.0652],\n",
            "        [-0.0670],\n",
            "        [-0.0176],\n",
            "        [ 0.0962],\n",
            "        [-0.0570],\n",
            "        [-0.0275],\n",
            "        [-0.0387],\n",
            "        [ 0.1213],\n",
            "        [-0.0747],\n",
            "        [-0.0951],\n",
            "        [ 0.0211],\n",
            "        [-0.1005],\n",
            "        [ 0.0840],\n",
            "        [ 0.0714],\n",
            "        [ 0.1225],\n",
            "        [-0.0395],\n",
            "        [-0.0261],\n",
            "        [ 0.0895],\n",
            "        [-0.0994],\n",
            "        [-0.0658],\n",
            "        [-0.0361],\n",
            "        [-0.0050],\n",
            "        [-0.0683],\n",
            "        [ 0.1180],\n",
            "        [ 0.0274],\n",
            "        [ 0.0116],\n",
            "        [ 0.1502],\n",
            "        [ 0.0728],\n",
            "        [ 0.1542]])\n",
            "Name:  rnn.weight_hh_l0\n",
            "shape:  torch.Size([50, 50])\n",
            "Weight:  tensor([[ 0.1303, -0.1106,  0.0931,  ...,  0.0353,  0.0494,  0.0395],\n",
            "        [ 0.0100,  0.0619,  0.1118,  ...,  0.0872, -0.0949, -0.0139],\n",
            "        [-0.0533, -0.0182,  0.0944,  ..., -0.1330,  0.0373, -0.0145],\n",
            "        ...,\n",
            "        [ 0.0819,  0.1082, -0.0443,  ...,  0.1274,  0.0138,  0.1091],\n",
            "        [ 0.0980,  0.0183, -0.0369,  ...,  0.0221,  0.0586, -0.0326],\n",
            "        [-0.0537,  0.0205,  0.1236,  ...,  0.0597, -0.1013, -0.0101]])\n",
            "Name:  rnn.bias_ih_l0\n",
            "shape:  torch.Size([50])\n",
            "Weight:  tensor([ 0.0989, -0.1431,  0.0825, -0.0253,  0.0015,  0.1090, -0.0708,  0.0859,\n",
            "        -0.0746,  0.0072,  0.1199, -0.0307, -0.1091,  0.1043, -0.0538,  0.0040,\n",
            "         0.0614,  0.0415, -0.0404,  0.1455,  0.1082, -0.0277, -0.0155,  0.0087,\n",
            "        -0.0704, -0.0294, -0.0215, -0.0471, -0.0011, -0.0990,  0.1672, -0.0668,\n",
            "         0.0783, -0.0281,  0.0126,  0.0216, -0.1671, -0.0473,  0.0025,  0.1299,\n",
            "         0.0669, -0.0812, -0.0012, -0.0108,  0.0417, -0.1100,  0.0191, -0.0235,\n",
            "         0.0947, -0.1032])\n",
            "Name:  rnn.bias_hh_l0\n",
            "shape:  torch.Size([50])\n",
            "Weight:  tensor([-0.1564, -0.1544,  0.0892, -0.0569,  0.0973, -0.1357, -0.0571,  0.0163,\n",
            "        -0.0103, -0.0920, -0.0954, -0.1231, -0.0063,  0.0249,  0.0014, -0.0210,\n",
            "         0.0275,  0.0977,  0.1075, -0.1022,  0.0108,  0.0550, -0.0075, -0.1578,\n",
            "        -0.0268,  0.0820,  0.1327, -0.0586,  0.0153,  0.0596, -0.0935,  0.1562,\n",
            "         0.0433, -0.1358, -0.0998, -0.0891,  0.0563,  0.0728,  0.1109,  0.0921,\n",
            "         0.0902,  0.0942, -0.1269,  0.1532, -0.0764,  0.0521,  0.0302,  0.1729,\n",
            "        -0.0846, -0.1053])\n",
            "Name:  fc.weight\n",
            "shape:  torch.Size([1, 50])\n",
            "Weight:  tensor([[-0.0503, -0.1006,  0.1203, -0.1586, -0.0727, -0.1058, -0.0911, -0.0424,\n",
            "         -0.0078, -0.0620,  0.0572, -0.0274, -0.1649, -0.0220, -0.1159, -0.0968,\n",
            "          0.0736, -0.0899,  0.0696,  0.0796, -0.0916, -0.0772, -0.0879, -0.0431,\n",
            "         -0.1233, -0.0185,  0.1388,  0.1026,  0.0165, -0.1351,  0.0167,  0.1533,\n",
            "         -0.0811, -0.0325, -0.0253,  0.0948, -0.1678,  0.0094,  0.1739,  0.0396,\n",
            "          0.1285,  0.1004, -0.0771,  0.1702,  0.1011, -0.0867, -0.0300,  0.0591,\n",
            "         -0.0537,  0.0088]])\n",
            "Name:  fc.bias\n",
            "shape:  torch.Size([1])\n",
            "Weight:  tensor([-0.0012])\n"
          ]
        }
      ]
    },
    {
      "cell_type": "markdown",
      "source": [
        "| Layer                | Description                           | Shape         | Weight / Bias Values Explanation |\n",
        "|----------------------|---------------------------------------|---------------|----------------------------------|\n",
        "| `rnn.weight_ih_l0`   | Input to Hidden Layer Weights        | `[50, 1]`     | Connects input feature to each of the 50 hidden units, influencing how input affects hidden activations. |\n",
        "| `rnn.weight_hh_l0`   | Hidden to Hidden Layer Weights       | `[50, 50]`    | Connects each hidden unit to every other hidden unit, capturing temporal dependencies across time steps. |\n",
        "| `rnn.bias_ih_l0`     | Input to Hidden Layer Biases         | `[50]`        | Adjusts the activation of each hidden unit to improve model flexibility for input transformations. |\n",
        "| `rnn.bias_hh_l0`     | Hidden to Hidden Layer Biases        | `[50]`        | Adjusts hidden state outputs after combining them with hidden-to-hidden transformations. |\n",
        "| `fc.weight`          | Fully Connected Layer Weights        | `[1, 50]`     | Connects 50 hidden units to a single output, combining RNN hidden states into one final output. |\n",
        "| `fc.bias`            | Fully Connected Layer Bias           | `[1]`         | Single bias term adjusting the output of the fully connected layer. |\n"
      ],
      "metadata": {
        "id": "0CWDd2o79Suk"
      }
    },
    {
      "cell_type": "markdown",
      "source": [
        "## **Exercise 1: Implementing an RNN for Time Series Forecasting**\n",
        "**Objective:**\n",
        "\n",
        "In this exercise, you will build and train a Recurrent Neural Network (RNN) for time series forecasting."
      ],
      "metadata": {
        "id": "i_YxzAB60GJo"
      }
    },
    {
      "cell_type": "code",
      "source": [
        "# Import necessary libraries\n",
        "import pandas as pd\n",
        "import numpy as np\n",
        "import yfinance as yf\n",
        "import torch\n",
        "import torch.nn as nn\n",
        "import torch.optim as optim\n",
        "from torch.utils.data import TensorDataset, DataLoader\n",
        "from sklearn.preprocessing import MinMaxScaler\n",
        "import matplotlib.pyplot as plt\n",
        "\n",
        "# Step 1: Load and Preprocess Data\n",
        "# Load dataset\n",
        "end_date = pd.Timestamp.today()\n",
        "start_date = end_date - pd.DateOffset(years=5)  # Last 5 years\n",
        "df = yf.download('TSLA', start=start_date, end=end_date)\n",
        "df = df[['Close']]\n",
        "df = df.sort_index()\n",
        "\n",
        "# Step 2: Create Lag and Rolling Features\n",
        "df['lag_5'] = df['Close'].shift(5)\n",
        "df['rolling_mean_10'] = df['Close'].rolling(window=10).mean()\n",
        "df['rolling_sd_10'] = df['Close'].rolling(window=10).std()\n",
        "# df['rolling_diff_10'] = df['Close'] - df['rolling_mean_10']\n",
        "df.dropna(inplace=True)\n",
        "\n",
        "# Step 3: Normalize the Data\n",
        "scaler = MinMaxScaler()\n",
        "data_scaled = scaler.fit_transform(df)"
      ],
      "metadata": {
        "id": "5EBAKGd-9_0a",
        "colab": {
          "base_uri": "https://localhost:8080/"
        },
        "outputId": "7c3eedd8-c390-42dd-f4c2-3cc3fb49c21c"
      },
      "execution_count": 15,
      "outputs": [
        {
          "output_type": "stream",
          "name": "stderr",
          "text": [
            "\r[*********************100%***********************]  1 of 1 completed\n"
          ]
        }
      ]
    },
    {
      "cell_type": "code",
      "source": [
        "\n"
      ],
      "metadata": {
        "id": "knhdQPnB3-4S",
        "colab": {
          "base_uri": "https://localhost:8080/",
          "height": 831
        },
        "outputId": "fff85835-5a71-4cef-df82-39f212f80139"
      },
      "execution_count": 16,
      "outputs": [
        {
          "output_type": "stream",
          "name": "stderr",
          "text": [
            "/usr/local/lib/python3.10/dist-packages/torch/nn/modules/loss.py:538: UserWarning: Using a target size (torch.Size([1])) that is different to the input size (torch.Size([])). This will likely lead to incorrect results due to broadcasting. Please ensure they have the same size.\n",
            "  return F.mse_loss(input, target, reduction=self.reduction)\n"
          ]
        },
        {
          "output_type": "stream",
          "name": "stdout",
          "text": [
            "Epoch 20/200, Train Loss: 0.002368, Valid Loss: 0.001218\n",
            "Epoch 40/200, Train Loss: 0.002077, Valid Loss: 0.000914\n",
            "Epoch 60/200, Train Loss: 0.001868, Valid Loss: 0.000759\n",
            "Epoch 80/200, Train Loss: 0.001666, Valid Loss: 0.000682\n",
            "Epoch 100/200, Train Loss: 0.001482, Valid Loss: 0.000684\n",
            "Epoch 120/200, Train Loss: 0.001280, Valid Loss: 0.000569\n",
            "Epoch 140/200, Train Loss: 0.001087, Valid Loss: 0.000522\n",
            "Epoch 160/200, Train Loss: 0.001004, Valid Loss: 0.000541\n",
            "Epoch 180/200, Train Loss: 0.000718, Valid Loss: 0.000424\n",
            "Epoch 200/200, Train Loss: 0.000918, Valid Loss: 0.000516\n"
          ]
        },
        {
          "output_type": "display_data",
          "data": {
            "text/plain": [
              "<Figure size 1200x600 with 1 Axes>"
            ],
            "image/png": "[encoded data removed]"
          },
          "metadata": {}
        },
        {
          "output_type": "stream",
          "name": "stderr",
          "text": [
            "<ipython-input-16-fc5a7526c5db>:153: FutureWarning: You are using `torch.load` with `weights_only=False` (the current default value), which uses the default pickle module implicitly. It is possible to construct malicious pickle data which will execute arbitrary code during unpickling (See https://github.com/pytorch/pytorch/blob/main/SECURITY.md#untrusted-models for more details). In a future release, the default value for `weights_only` will be flipped to `True`. This limits the functions that could be executed during unpickling. Arbitrary objects will no longer be allowed to be loaded via this mode unless they are explicitly allowlisted by the user via `torch.serialization.add_safe_globals`. We recommend you start setting `weights_only=True` for any use case where you don't have full control of the loaded file. Please open an issue on GitHub for any issues related to this experimental feature.\n",
            "  loaded_model.load_state_dict(torch.load('tsla_rnn_model.pth'))\n"
          ]
        },
        {
          "output_type": "execute_result",
          "data": {
            "text/plain": [
              "RNNModel(\n",
              "  (rnn): RNN(4, 50, batch_first=True)\n",
              "  (fc): Linear(in_features=50, out_features=1, bias=True)\n",
              ")"
            ]
          },
          "metadata": {},
          "execution_count": 16
        }
      ]
    }
  ]
}