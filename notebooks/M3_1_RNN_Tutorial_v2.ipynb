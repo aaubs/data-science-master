{
  "nbformat": 4,
  "nbformat_minor": 0,
  "metadata": {
    "colab": {
      "provenance": [],
      "toc_visible": true,
      "authorship_tag": "ABX9TyOdZbOv7Ns9KYXhY5YzvBZv",
      "include_colab_link": true
    },
    "kernelspec": {
      "name": "python3",
      "display_name": "Python 3"
    },
    "language_info": {
      "name": "python"
    }
  },
  "cells": [
    {
      "cell_type": "markdown",
      "metadata": {
        "id": "view-in-github",
        "colab_type": "text"
      },
      "source": [
        "<a href=\"https://colab.research.google.com/github/aaubs/ds-master/blob/main/notebooks/M3_1_RNN_Tutorial_v2.ipynb\" target=\"_parent\"><img src=\"https://colab.research.google.com/assets/colab-badge.svg\" alt=\"Open In Colab\"/></a>"
      ]
    },
    {
      "cell_type": "markdown",
      "source": [
        "# The objective of this tutorial\n",
        "\n",
        "Our goal in this tutorial is to provide simple examples of the RNN model so that you can better understand its functionality and how it can be used in a domain.\n",
        "\n",
        "After completing this tutorial, you will know:\n",
        "\n",
        "\n",
        "```\n",
        "1. What is a recurrent neural network (RNN)?\n",
        "2. How do RNNs work and what is their structure?\n",
        "3. How can RNNs be used for tasks such as time series analysis?\n",
        "4. How to implement an RNN in code using PyTorch?\n",
        "5. How to train an RNN for a specific task?\n",
        "6. What are some common challenges and pitfalls to avoid when working with RNNs?\n",
        "```\n"
      ],
      "metadata": {
        "id": "5YsD4lOPEdmK"
      }
    },
    {
      "cell_type": "markdown",
      "source": [
        "## A quick recap on Simple Neural Network (FeedForward)"
      ],
      "metadata": {
        "id": "ZQawEI4XUZ-p"
      }
    },
    {
      "cell_type": "markdown",
      "source": [
        "A simple neural network consists of three different parts namely Parameters, Linear, and None-Linear (Activation Function ) parts:"
      ],
      "metadata": {
        "id": "Mg36lXTUh26q"
      }
    },
    {
      "cell_type": "markdown",
      "source": [
        "1. First, a weight is being applied to each input to an artificial neuron.\n",
        "2. Second, the inputs are multiplied by their weights, and then a bias is applied to the outcome. This is called the weighted sum.\n",
        "3. Third, the weighted sum is processed via an activation function, as a non-linear function."
      ],
      "metadata": {
        "id": "1IUeWB5KiCMj"
      }
    },
    {
      "cell_type": "markdown",
      "source": [
        "<img src=\"https://cdn.analyticsvidhya.com/wp-content/uploads/2020/02/13UpdymQx-C1tBKRnfD7eOg.gif\" width=\"500\">"
      ],
      "metadata": {
        "id": "HBtJUGWIkxQN"
      }
    },
    {
      "cell_type": "markdown",
      "source": [
        "The neural network can compare the outputs of its nodes with the desired values using a property known as the delta rule, allowing the network to alter its weights through training to create more accurate output values. This training and learning procedure results in gradient descent.\n",
        "\n",
        "The technique of updating weights in multi-layered perceptrons is virtually the same, however, the process is referred to as back-propagation. In such circumstances, the output values provided by the final layer are used to alter each hidden layer inside the network."
      ],
      "metadata": {
        "id": "evhlndvXkzzx"
      }
    },
    {
      "cell_type": "markdown",
      "source": [
        "### Problems with a Simple Neural Network"
      ],
      "metadata": {
        "id": "Ivg_7TJWRZbb"
      }
    },
    {
      "cell_type": "markdown",
      "source": [
        "The main shortcomings of traditional neural networks are:\n",
        "\n",
        "1. They can not handle sequential data\n",
        "2. They can not remember the sequence of the data, i.e order is not important\n",
        "3. Can not share parameters across the sequence\n",
        "4. They have a fixed input length\n",
        "\n",
        "Let’s have a brief look at these problems, then dig deeper into RNN."
      ],
      "metadata": {
        "id": "J2NNUpctRz82"
      }
    },
    {
      "cell_type": "markdown",
      "source": [
        "#### 1. They can not handle sequential data"
      ],
      "metadata": {
        "id": "KfTNIi8UhsLu"
      }
    },
    {
      "cell_type": "markdown",
      "source": [
        "Sequential data in RNN (Recurrent Neural Network) refers to any type of data where the observations have a temporal or sequential relationship. This could include time series data, where each observation is dependent on the previous one, or sequence data, where the order of the observations is important. In RNNs, this type of data is processed through the recurrent connections in the network, allowing the model to maintain and update an internal state based on the information in the sequence. This makes RNNs particularly well suited for tasks such as language modeling, speech recognition, and time series forecasting. There are some variations to the neural network’s configuration based on the shape of the input or output which you can see in the following:"
      ],
      "metadata": {
        "id": "BhxBLbBnkTtY"
      }
    },
    {
      "cell_type": "markdown",
      "source": [
        "<img src=\"https://raw.githubusercontent.com/aaubs/ds-master/main/data/Images/SeqData_RNN.png\" width=\"400\">\n",
        "\n"
      ],
      "metadata": {
        "id": "3k4r4FqTksyQ"
      }
    },
    {
      "cell_type": "markdown",
      "source": [
        "#### 2. They can not remember the sequence of the data, i.e order is not important"
      ],
      "metadata": {
        "id": "QgCDwtjPbxRI"
      }
    },
    {
      "cell_type": "markdown",
      "source": [
        "The second limitation of traditional neural networks is that they can not remember the sequence of the data, or the order is not important to them. Let’s understand this problem with an example which is shown in this figure (MIT 6.S191 Intro to Deep Learning)."
      ],
      "metadata": {
        "id": "r_nG9WWAb4f8"
      }
    },
    {
      "cell_type": "markdown",
      "source": [
        "![image.jpeg](https://raw.githubusercontent.com/aaubs/ds-master/main/data/Images/Problems-with-Traditional-Neural-Network-2.jpeg)"
      ],
      "metadata": {
        "id": "SAJh08ejgB18"
      }
    },
    {
      "cell_type": "markdown",
      "source": [
        "\n",
        "\n",
        "> *RNNs use feedback connections that allow information to be passed from one step of the sequence to the next, allowing the network to maintain and update an internal state that depends on the past input. This enables RNNs to capture and understand the dependencies and patterns in the sequence data, making them well suited for tasks such as natural language processing and time series analysis.*\n",
        "\n"
      ],
      "metadata": {
        "id": "Eyl8isKBg08O"
      }
    },
    {
      "cell_type": "markdown",
      "source": [
        "#### 3. FeedForward Neural Network Can not share parameters across the sequence\n",
        "\n",
        "In traditional Feedforward Neural Networks (MLPs), each input is processed independently and there is no mechanism for sharing parameters across different inputs in a sequence. For example, let’s take the sentence **“what is your name? My name is Lasse”**. In an MLP, each word would be treated as a separate input and would be processed through separate hidden layers. There is no way for the network to share information across words in the sequence, such as information about the relationship between words or about common features that occur across different parts of the sequence. In this case, \"name\"'s parameters should have been shared and so the neural network should have been able to determine that \"name\"'s words are dependent in this sentence."
      ],
      "metadata": {
        "id": "5_a87DZzYAA3"
      }
    },
    {
      "cell_type": "markdown",
      "source": [
        "\n",
        "\n",
        "> *In contrast, Recurrent Neural Networks (RNNs) have a hidden state that is updated at each time step, allowing the network to maintain information about the sequence and share parameters across different time steps. This makes RNNs well-suited for processing sequential data and for tasks such as sequence classification, language modeling, and machine translation*\n",
        "\n",
        "\n"
      ],
      "metadata": {
        "id": "BYpgv8E9baFb"
      }
    },
    {
      "cell_type": "markdown",
      "source": [
        "Therefore Recurrent Neural Networks (RNN), originally were designed to handle some of the shortcomings that traditional neural networks have when dealing with sequential data."
      ],
      "metadata": {
        "id": "5x-VbMMUiw6z"
      }
    },
    {
      "cell_type": "markdown",
      "source": [
        "## What is a Recurrent Neural Network?"
      ],
      "metadata": {
        "id": "JIhY3uV3ipL1"
      }
    },
    {
      "cell_type": "markdown",
      "source": [
        "Here we can see that the Simple Neural Network is unidirectional, which means it has a single direction, whereas the RNN, has loops inside it to persist the information over timestamp t. This looping preserves the information over the sequence."
      ],
      "metadata": {
        "id": "9EdoHDLRsC_j"
      }
    },
    {
      "cell_type": "markdown",
      "source": [
        "<img src=\"https://raw.githubusercontent.com/aaubs/ds-master/main/data/Images/FNN-RNN.png\" width=\"500\">"
      ],
      "metadata": {
        "id": "wYP4GSJpj4Fn"
      }
    },
    {
      "cell_type": "markdown",
      "source": [
        "#### Structure of RNN"
      ],
      "metadata": {
        "id": "WRRo4fLIGilr"
      }
    },
    {
      "cell_type": "markdown",
      "source": [
        "Now, let’s dig deeper to understand what is happening under the hood. An RNN consists of four different parts:\n",
        "1. Linear part (Parameters: This includes the weights and biases of the input-to-hidden layer, the hidden-to-hidden layer, and the hidden-to-output layer.)\n",
        "> *The hidden state is used to capture the information from the previous time steps, but this information is not relevant after the training process is finished. Therefore, resetting the hidden state parameters to zero ensures that the network starts with a clean slate for making predictions on new, unseen data.*\n",
        "\n",
        "2. The hidden state (also known as the context state)\n",
        "> *you can think of the hidden state as representing the \"memory\" of the network, which is updated at each time step and used to produce the output.*\n",
        "\n",
        "\n",
        "3. Non-Linear part (Activation Function (Tanh))\n",
        "> As you can see in the equation above, you feed in both input vector Xt and the previous state ht-1 into the function. Here you’ll have 2 separate weight matrices then apply the Non-linearity (tanh) to the sum of input Xt and previous state ht-1 after multiplication to these 2 weight matrices.\n",
        "<img src=\"https://raw.githubusercontent.com/aaubs/ds-master/main/data/Images/sequence-2.png\" width=\"300\">\n",
        "\n",
        "\n",
        "4. Fully connected (Output layer): Finally, you’ll have the output vector ŷt at the timestamp t.\n",
        "> <img src=\"https://raw.githubusercontent.com/aaubs/ds-master/main/data/Images/sequence-3.png\" width=\"150\">\n",
        "\n",
        "\n",
        "\n",
        "\n"
      ],
      "metadata": {
        "id": "zFlqx_2isQAr"
      }
    },
    {
      "cell_type": "markdown",
      "source": [
        "### RNN code implementation"
      ],
      "metadata": {
        "id": "lyzMY5Q8sTWK"
      }
    },
    {
      "cell_type": "markdown",
      "source": [
        "In Recurrent Neural Networks (RNNs), the terms \"input size\", \"hidden size\", and \"number of outputs\" refer to the following:\n",
        "> Input size: Refers to the number of features in a single input sample. For example, if the input is a one-hot encoded word, the input size would be the number of unique words in the vocabulary.\n",
        "\n",
        "> Hidden size: Refers to the number of neurons in the hidden layer. The hidden state of the RNN at each time step is represented by this layer, which helps to capture information from the past time steps.\n",
        "\n",
        "> Number of outputs: Refers to the number of outputs generated by the RNN. This could be one output for a simple prediction problem, or multiple outputs for a multi-task prediction problem.\n",
        "\n",
        "Note that these hyperparameters need to be set prior to training the RNN and their choice can affect the model's performance."
      ],
      "metadata": {
        "id": "L5175gDHG1lH"
      }
    },
    {
      "cell_type": "markdown",
      "source": [
        "The \"input to hidden\" weights are the connections or weights between the input layer and the hidden layer, and these connections allow the network to learn how to propagate information from the input to the hidden state.\n",
        "\n",
        "The \"hidden to output\" weights are the connections or weights between the hidden layer and the output layer, and these connections allow the network to learn how to produce the final output based on the hidden state."
      ],
      "metadata": {
        "id": "ZfNYUio8H_gr"
      }
    },
    {
      "cell_type": "markdown",
      "source": [
        "The forward pass is the process of computing the output for a given input sequence. The forward pass starts by initializing the hidden state of the RNN with a zero vector or some other randomly generated values."
      ],
      "metadata": {
        "id": "hUyMWlphcdmQ"
      }
    },
    {
      "cell_type": "markdown",
      "source": [
        "In the forward pass we understood how the inputs and the hidden states interact with the weights and biases of the recurrent layers and how to use the information contained in the last hidden state to predict the next time step value.\n"
      ],
      "metadata": {
        "id": "AcOyCY_b_Ji4"
      }
    },
    {
      "cell_type": "markdown",
      "source": [
        "RNNs use feedback connections that allow information to be passed from one step of the sequence to the next, allowing the network to maintain and update an internal state that depends on the past input. This enables RNNs to capture and understand the dependencies and patterns in the sequence data, making them well suited for tasks such as natural language processing and time series analysis."
      ],
      "metadata": {
        "id": "gn7f3NVGwOt0"
      }
    },
    {
      "cell_type": "markdown",
      "source": [
        "<img src=\"https://raw.githubusercontent.com/aaubs/ds-master/main/data/Images/rnn_timestamps.gif\" width=\"700\">"
      ],
      "metadata": {
        "id": "fjIw-SzZBD4E"
      }
    },
    {
      "cell_type": "markdown",
      "source": [
        "The backward pass is just the application of the chain rule from the loss gradient with respect to the predictions until it becomes with respect to the parameters we want to optimize."
      ],
      "metadata": {
        "id": "ss-PWvFz_ZTk"
      }
    },
    {
      "cell_type": "markdown",
      "source": [
        "<img src=\"https://raw.githubusercontent.com/aaubs/ds-master/main/data/Images/understanding-gradient-descent.png\" width=\"400\">"
      ],
      "metadata": {
        "id": "Ecjc8TjoDy2Y"
      }
    },
    {
      "cell_type": "markdown",
      "source": [
        "The hidden state is used to capture the information from the previous time steps, but this information is not relevant after the training process is finished. Therefore, resetting the hidden state to zero ensures that the network starts with a clean slate for making predictions on new, unseen data.\n"
      ],
      "metadata": {
        "id": "9gCpg1IMx3cF"
      }
    },
    {
      "cell_type": "markdown",
      "source": [
        "<img src=\"https://raw.githubusercontent.com/aaubs/ds-master/main/data/Images/rnn-shorttermmemory.gif\" width=\"400\">"
      ],
      "metadata": {
        "id": "Zv93vePiy-CC"
      }
    },
    {
      "cell_type": "markdown",
      "source": [
        "### Which parameters have been trained and should be saved?"
      ],
      "metadata": {
        "id": "Qg9pMoqr2OE2"
      }
    },
    {
      "cell_type": "markdown",
      "source": [
        "The \"input to hidden\" as Wi2h and the \"hidden to hidden\" as Wh2h weights are learned during the training process through backpropagation and gradient descent optimization algorithms, and they determine the strength of the relationships between the input, hidden, and output layers."
      ],
      "metadata": {
        "id": "qVNe2og85Mxi"
      }
    },
    {
      "cell_type": "markdown",
      "source": [
        "## How does PyTorch help to implement an RNN?\n"
      ],
      "metadata": {
        "id": "z1NQv-uxetdr"
      }
    },
    {
      "cell_type": "markdown",
      "source": [
        "Let's implement this code using PyTorch!"
      ],
      "metadata": {
        "id": "RK3YjT2uggx-"
      }
    },
    {
      "cell_type": "code",
      "source": [
        "# import required libraries\n",
        "import torch\n",
        "import pandas as pd\n",
        "import torch.nn as nn\n",
        "import torch.optim as optim\n",
        "import numpy as np\n",
        "from torch.utils.data import DataLoader, TensorDataset\n",
        "from sklearn import preprocessing\n",
        "import matplotlib.pyplot as plt\n",
        "from tqdm import tqdm"
      ],
      "metadata": {
        "id": "nvXoIUUSQ0JG"
      },
      "execution_count": null,
      "outputs": []
    },
    {
      "cell_type": "markdown",
      "source": [
        "### Data Preparation"
      ],
      "metadata": {
        "id": "t_oBVKD6Q52-"
      }
    },
    {
      "cell_type": "markdown",
      "source": [
        "To understand how should we prepare the data for RNN, we’ll use a simple dataset as a Timeseries Forecasting example. Below is the full sequence of values and their restructuring as a training and testing dataset.\n",
        "\n",
        "<img src=\"https://raw.githubusercontent.com/aaubs/ds-master/main/data/Images/SequenceDataPerparation.webp\" width=\"400\">\n",
        "\n",
        "Now, let’s separate the datasets into batches!\n",
        "\n",
        "<img src=\"https://raw.githubusercontent.com/aaubs/ds-master/main/data/Images/Seq_DataPerparation_2.webp\" width=\"100\">"
      ],
      "metadata": {
        "id": "l3KQo2ko5S3N"
      }
    },
    {
      "cell_type": "code",
      "source": [
        "stock_data = np.array([10, 20, 30, 40, 50, 60, 70, 80, 90])"
      ],
      "metadata": {
        "id": "5qSxuowB4zPc"
      },
      "execution_count": null,
      "outputs": []
    },
    {
      "cell_type": "code",
      "source": [
        "normalized_stock_data = preprocessing.normalize([stock_data])\n",
        "print(normalized_stock_data)"
      ],
      "metadata": {
        "colab": {
          "base_uri": "https://localhost:8080/"
        },
        "id": "oLI3ocqLewlL",
        "outputId": "20194a39-64ff-471a-a15b-3bfadee90081"
      },
      "execution_count": null,
      "outputs": [
        {
          "output_type": "stream",
          "name": "stdout",
          "text": [
            "[[0.05923489 0.11846978 0.17770466 0.23693955 0.29617444 0.35540933\n",
            "  0.41464421 0.4738791  0.53311399]]\n"
          ]
        }
      ]
    },
    {
      "cell_type": "code",
      "source": [
        "# Split the data into sequences for RNN input\n",
        "sequence_length = 3\n",
        "sequence_data = []\n",
        "sequence_labels = []\n",
        "\n",
        "for i in range(len(normalized_stock_data[0]) - sequence_length):\n",
        "    sequence_data.append(normalized_stock_data[0][i:i+sequence_length])\n",
        "    sequence_labels.append(normalized_stock_data[0][i+sequence_length])\n",
        "\n",
        "sequence_data = np.array(sequence_data)\n",
        "sequence_labels = np.array(sequence_labels)\n",
        "\n",
        "train_data = sequence_data[:4]\n",
        "train_labels = sequence_labels[:4]\n",
        "test_data = sequence_data[4:]\n",
        "test_labels = sequence_labels[4:]"
      ],
      "metadata": {
        "id": "ecilxuWywxEL"
      },
      "execution_count": null,
      "outputs": []
    },
    {
      "cell_type": "code",
      "source": [
        "print(\"Train data: \\n\", train_data)\n",
        "print(\"Labels: \\n\", train_labels)"
      ],
      "metadata": {
        "colab": {
          "base_uri": "https://localhost:8080/"
        },
        "id": "-YqRL6bV5WIR",
        "outputId": "265ae631-b6cd-48c5-aca4-653ced7e5a67"
      },
      "execution_count": null,
      "outputs": [
        {
          "output_type": "stream",
          "name": "stdout",
          "text": [
            "Train data: \n",
            " [[0.05923489 0.11846978 0.17770466 0.23693955]\n",
            " [0.11846978 0.17770466 0.23693955 0.29617444]\n",
            " [0.17770466 0.23693955 0.29617444 0.35540933]\n",
            " [0.23693955 0.29617444 0.35540933 0.41464421]]\n",
            "Labels: \n",
            " [0.29617444 0.35540933 0.41464421 0.4738791 ]\n"
          ]
        }
      ]
    },
    {
      "cell_type": "markdown",
      "source": [
        "Implementing code for LSTM and RNN requires sequential data preparation. The data preparation process for these models is visualized here!\n",
        "\n",
        "\n",
        "<img src=\"https://raw.githubusercontent.com/aaubs/ds-master/main/data/Images/sequence.gif\" width=\"600\">\n"
      ],
      "metadata": {
        "id": "ot0lYrMKzpVL"
      }
    },
    {
      "cell_type": "code",
      "source": [
        "# Split the data into training and testing sets\n",
        "train_data = TensorDataset(torch.from_numpy(train_data), torch.from_numpy(train_labels))\n",
        "test_data = TensorDataset(torch.from_numpy(test_data), torch.from_numpy(test_labels))\n",
        "\n",
        "train_loader = DataLoader(train_data, batch_size=1, shuffle=True)\n",
        "test_loader = DataLoader(test_data, batch_size=1, shuffle=False)"
      ],
      "metadata": {
        "id": "yUSnLJXahUSY"
      },
      "execution_count": null,
      "outputs": []
    },
    {
      "cell_type": "markdown",
      "source": [
        "We then have to prepare the dataset. We need the data as Pytorch tensors so that we can use that in our model which we will make. We use the dataloader so that we can extract the data in batches. This is especially helpful for large datasets.\n",
        "\n",
        "<img src=\"https://raw.githubusercontent.com/aaubs/ds-master/main/data/Images/TensorDataset.webp\" width=\"600\">\n",
        "\n"
      ],
      "metadata": {
        "id": "wMQQtwD2-h6Y"
      }
    },
    {
      "cell_type": "code",
      "source": [
        "# The RNN model\n",
        "# Initializing Hyperparameters\n",
        "epochs = 50\n",
        "lr = 0.3\n",
        "\n",
        "# 1. Creating a FeedForwardNetwork\n",
        "# 1.1 Structure (Architecture) of NN\n",
        "# Define the input size, hidden size and number of outputs\n",
        "input_size = 1\n",
        "hidden_size = 6\n",
        "sequence_length = 3\n",
        "output_size = 1\n",
        "\n",
        "batch_size = 1\n",
        "\n",
        "rnn = torch.nn.RNN(input_size, hidden_size, batch_first=True)\n",
        "# Initialize the output layer\n",
        "fc = torch.nn.Linear(hidden_size, output_size)\n",
        "\n",
        "\n",
        "# 1.2 Loss Function\n",
        "loss_mse = torch.nn.MSELoss()\n",
        "\n",
        "# 1.3 Optmization Approch\n",
        "optimizer = torch.optim.SGD(rnn.parameters(), lr=lr)"
      ],
      "metadata": {
        "id": "2qQdk16m2hyW"
      },
      "execution_count": null,
      "outputs": []
    },
    {
      "cell_type": "code",
      "source": [
        "train_losses = []\n",
        "test_losses = []\n",
        "\n",
        "# Loop over the number of epochs\n",
        "for i in range(epochs):\n",
        "    train_loss = 0\n",
        "\n",
        "    # Initialize the hidden state and the cell state\n",
        "    # The hidden state resets to zero for every epoch\n",
        "    hs = torch.zeros(1, batch_size, hidden_size)\n",
        "\n",
        "    # Get the input and target at position i\n",
        "    for i, (data, label) in enumerate(train_loader):\n",
        "\n",
        "        # 2. Forward Pass\n",
        "        output, hidden = rnn(data.float().reshape(1,3,1), hs)\n",
        "        output_fc = fc(hidden[-1])\n",
        "\n",
        "        # 3. FeedForward Evaluation\n",
        "        loss = loss_mse(output_fc, label.float())\n",
        "        hs = hs.detach()\n",
        "\n",
        "        # 4. Backward Pass / Gradient Calculation\n",
        "        loss.backward()\n",
        "\n",
        "        # Store the loss for each epoch\n",
        "        train_loss += loss.item()\n",
        "\n",
        "        # 5. Back Propagation / Update Weights\n",
        "        optimizer.step()\n",
        "        optimizer.zero_grad()\n",
        "\n",
        "    # Calculate the average training loss\n",
        "    train_loss = train_loss / len(train_loader)\n",
        "    train_losses.append(train_loss)\n",
        "\n",
        "# Plot the MSE loss for each epoch\n",
        "plt.plot(train_losses)\n",
        "plt.xlabel('Epoch')\n",
        "plt.ylabel('MSE Loss')\n",
        "plt.title('Training Loss over Epochs')\n",
        "plt.show()\n",
        "\n",
        "# Evaluate the RNN model\n",
        "mse = 0\n",
        "\n",
        "with torch.no_grad():\n",
        "    hs = torch.zeros(1, batch_size, hidden_size)\n",
        "    for data, label in test_loader:\n",
        "        output, hs = rnn(data.float().reshape(1,3,1), hs)\n",
        "        output_fc = fc(hs[-1])\n",
        "\n",
        "        mse += ((output_fc - label)**2).mean().item()\n",
        "\n",
        "mse /= len(test_loader)\n",
        "print('Test MSE: {}'.format(mse))"
      ],
      "metadata": {
        "colab": {
          "base_uri": "https://localhost:8080/",
          "height": 490
        },
        "id": "6C0N6lyYFpJM",
        "outputId": "41cf8d82-fa41-4c79-cf2e-a75fb8b3ee15"
      },
      "execution_count": null,
      "outputs": [
        {
          "output_type": "display_data",
          "data": {
            "text/plain": [
              "<Figure size 640x480 with 1 Axes>"
            ],
            "image/png": "[encoded data removed]"
          },
          "metadata": {}
        },
        {
          "output_type": "stream",
          "name": "stdout",
          "text": [
            "Test MSE: 0.00688953069055275\n"
          ]
        }
      ]
    },
    {
      "cell_type": "code",
      "source": [
        "# Combine the parameters of the RNN layer and linear layer\n",
        "params = list(rnn.parameters()) + list(fc.parameters())\n",
        "\n",
        "# Print the number of parameters\n",
        "print(\"Number of parameters:\", sum(p.numel() for p in params))\n",
        "\n",
        "# Print the shapes of the parameters\n",
        "for name, param in rnn.named_parameters():\n",
        "    print(\"Name: \", name)\n",
        "    print(\"shape: \", param.shape)\n",
        "    print(\"Weight: \", param.data)"
      ],
      "metadata": {
        "colab": {
          "base_uri": "https://localhost:8080/"
        },
        "id": "0zWfVNQfEU3o",
        "outputId": "28bac0aa-a734-457c-b5c9-930752c3597b"
      },
      "execution_count": null,
      "outputs": [
        {
          "output_type": "stream",
          "name": "stdout",
          "text": [
            "Number of parameters: 61\n",
            "Name:  weight_ih_l0\n",
            "shape:  torch.Size([6, 1])\n",
            "Weight:  tensor([[-0.2741],\n",
            "        [ 0.2195],\n",
            "        [-0.1350],\n",
            "        [ 0.5371],\n",
            "        [-0.5918],\n",
            "        [-0.1448]])\n",
            "Name:  weight_hh_l0\n",
            "shape:  torch.Size([6, 6])\n",
            "Weight:  tensor([[-0.3302,  0.0303, -0.1863, -0.3399,  0.0037,  0.2961],\n",
            "        [ 0.1434, -0.2079,  0.3086,  0.2958, -0.1415,  0.2591],\n",
            "        [ 0.0289, -0.3335, -0.2698, -0.2870,  0.3080,  0.3935],\n",
            "        [ 0.2442, -0.2081, -0.0335,  0.4000,  0.1857,  0.2001],\n",
            "        [ 0.0974, -0.1054,  0.2406, -0.2928, -0.2153,  0.1608],\n",
            "        [ 0.1411,  0.0249, -0.3281, -0.1159, -0.4567, -0.1018]])\n",
            "Name:  bias_ih_l0\n",
            "shape:  torch.Size([6])\n",
            "Weight:  tensor([ 0.3433,  0.2945,  0.1096, -0.0098, -0.2498,  0.1582])\n",
            "Name:  bias_hh_l0\n",
            "shape:  torch.Size([6])\n",
            "Weight:  tensor([ 0.2657, -0.0774, -0.0558, -0.1481, -0.0420,  0.4050])\n"
          ]
        }
      ]
    },
    {
      "cell_type": "code",
      "source": [
        "predictions = []\n",
        "label_test = []\n",
        "with torch.no_grad():\n",
        "    hs = torch.zeros(1, batch_size, hidden_size)\n",
        "    for data, label in test_loader:\n",
        "        output, hs = rnn(data.float().reshape(1,3,1), hs)\n",
        "        output_fc = fc(hs[-1])\n",
        "        label_test.append(label)\n",
        "\n",
        "        predictions.append(output_fc)"
      ],
      "metadata": {
        "id": "knhdQPnB3-4S",
        "colab": {
          "base_uri": "https://localhost:8080/",
          "height": 254
        },
        "outputId": "b68b42d9-fc41-4878-998b-50be855f9aa8"
      },
      "execution_count": null,
      "outputs": [
        {
          "output_type": "error",
          "ename": "RuntimeError",
          "evalue": "ignored",
          "traceback": [
            "\u001b[0;31m---------------------------------------------------------------------------\u001b[0m",
            "\u001b[0;31mRuntimeError\u001b[0m                              Traceback (most recent call last)",
            "\u001b[0;32m<ipython-input-15-8ec15e4da90a>\u001b[0m in \u001b[0;36m<cell line: 3>\u001b[0;34m()\u001b[0m\n\u001b[1;32m      4\u001b[0m     \u001b[0mhs\u001b[0m \u001b[0;34m=\u001b[0m \u001b[0mtorch\u001b[0m\u001b[0;34m.\u001b[0m\u001b[0mzeros\u001b[0m\u001b[0;34m(\u001b[0m\u001b[0;36m1\u001b[0m\u001b[0;34m,\u001b[0m \u001b[0mbatch_size\u001b[0m\u001b[0;34m,\u001b[0m \u001b[0mhidden_size\u001b[0m\u001b[0;34m)\u001b[0m\u001b[0;34m\u001b[0m\u001b[0;34m\u001b[0m\u001b[0m\n\u001b[1;32m      5\u001b[0m     \u001b[0;32mfor\u001b[0m \u001b[0mdata\u001b[0m\u001b[0;34m,\u001b[0m \u001b[0mlabel\u001b[0m \u001b[0;32min\u001b[0m \u001b[0mtest_loader\u001b[0m\u001b[0;34m:\u001b[0m\u001b[0;34m\u001b[0m\u001b[0;34m\u001b[0m\u001b[0m\n\u001b[0;32m----> 6\u001b[0;31m         \u001b[0moutput\u001b[0m\u001b[0;34m,\u001b[0m \u001b[0mhs\u001b[0m \u001b[0;34m=\u001b[0m \u001b[0mrnn\u001b[0m\u001b[0;34m(\u001b[0m\u001b[0mdata\u001b[0m\u001b[0;34m.\u001b[0m\u001b[0mfloat\u001b[0m\u001b[0;34m(\u001b[0m\u001b[0;34m)\u001b[0m\u001b[0;34m.\u001b[0m\u001b[0mreshape\u001b[0m\u001b[0;34m(\u001b[0m\u001b[0;36m1\u001b[0m\u001b[0;34m,\u001b[0m\u001b[0;36m3\u001b[0m\u001b[0;34m,\u001b[0m\u001b[0;36m1\u001b[0m\u001b[0;34m)\u001b[0m\u001b[0;34m,\u001b[0m \u001b[0mhs\u001b[0m\u001b[0;34m)\u001b[0m\u001b[0;34m\u001b[0m\u001b[0;34m\u001b[0m\u001b[0m\n\u001b[0m\u001b[1;32m      7\u001b[0m         \u001b[0moutput_fc\u001b[0m \u001b[0;34m=\u001b[0m \u001b[0mfc\u001b[0m\u001b[0;34m(\u001b[0m\u001b[0mhs\u001b[0m\u001b[0;34m[\u001b[0m\u001b[0;34m-\u001b[0m\u001b[0;36m1\u001b[0m\u001b[0;34m]\u001b[0m\u001b[0;34m)\u001b[0m\u001b[0;34m\u001b[0m\u001b[0;34m\u001b[0m\u001b[0m\n\u001b[1;32m      8\u001b[0m         \u001b[0mlabel_test\u001b[0m\u001b[0;34m.\u001b[0m\u001b[0mappend\u001b[0m\u001b[0;34m(\u001b[0m\u001b[0mlabel\u001b[0m\u001b[0;34m)\u001b[0m\u001b[0;34m\u001b[0m\u001b[0;34m\u001b[0m\u001b[0m\n",
            "\u001b[0;31mRuntimeError\u001b[0m: shape '[1, 3, 1]' is invalid for input of size 4"
          ]
        }
      ]
    },
    {
      "cell_type": "code",
      "source": [
        "predictions"
      ],
      "metadata": {
        "colab": {
          "base_uri": "https://localhost:8080/"
        },
        "id": "EkTovSkznQSI",
        "outputId": "7d4d00bf-295d-49fd-caa2-8e61b380544e"
      },
      "execution_count": null,
      "outputs": [
        {
          "output_type": "execute_result",
          "data": {
            "text/plain": [
              "[]"
            ]
          },
          "metadata": {},
          "execution_count": 16
        }
      ]
    },
    {
      "cell_type": "code",
      "source": [
        "label_test"
      ],
      "metadata": {
        "colab": {
          "base_uri": "https://localhost:8080/",
          "height": 181
        },
        "id": "GDF2krSZn7vT",
        "outputId": "6a2f6890-687a-4ac5-8945-702b55db56f6"
      },
      "execution_count": null,
      "outputs": [
        {
          "output_type": "error",
          "ename": "NameError",
          "evalue": "ignored",
          "traceback": [
            "\u001b[0;31m---------------------------------------------------------------------------\u001b[0m",
            "\u001b[0;31mNameError\u001b[0m                                 Traceback (most recent call last)",
            "\u001b[0;32m<ipython-input-9-7f3fd9aeb582>\u001b[0m in \u001b[0;36m<cell line: 1>\u001b[0;34m()\u001b[0m\n\u001b[0;32m----> 1\u001b[0;31m \u001b[0mlabel_test\u001b[0m\u001b[0;34m\u001b[0m\u001b[0;34m\u001b[0m\u001b[0m\n\u001b[0m",
            "\u001b[0;31mNameError\u001b[0m: name 'label_test' is not defined"
          ]
        }
      ]
    },
    {
      "cell_type": "code",
      "source": [],
      "metadata": {
        "id": "OBQab25boMOm"
      },
      "execution_count": null,
      "outputs": []
    }
  ]
}