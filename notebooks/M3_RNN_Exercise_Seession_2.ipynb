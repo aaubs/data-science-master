{
  "nbformat": 4,
  "nbformat_minor": 0,
  "metadata": {
    "colab": {
      "provenance": [],
      "toc_visible": true,
      "authorship_tag": "ABX9TyOUadA4Tl019R9vak9oYAHR",
      "include_colab_link": true
    },
    "kernelspec": {
      "name": "python3",
      "display_name": "Python 3"
    },
    "language_info": {
      "name": "python"
    }
  },
  "cells": [
    {
      "cell_type": "markdown",
      "metadata": {
        "id": "view-in-github",
        "colab_type": "text"
      },
      "source": [
        "<a href=\"https://colab.research.google.com/github/aaubs/ds-master/blob/main/notebooks/M3_RNN_Exercise_Seession_2.ipynb\" target=\"_parent\"><img src=\"https://colab.research.google.com/assets/colab-badge.svg\" alt=\"Open In Colab\"/></a>"
      ]
    },
    {
      "cell_type": "markdown",
      "source": [
        "# How does PyTorch help to implement an RNN?\n",
        "\n",
        "Let's implement an RNN using PyTorch!"
      ],
      "metadata": {
        "id": "Ym_lp6rZyMvX"
      }
    },
    {
      "cell_type": "markdown",
      "source": [
        "### RNN with one layer configured as One-to-one"
      ],
      "metadata": {
        "id": "sA0Jw6jw1GGE"
      }
    },
    {
      "cell_type": "code",
      "execution_count": 58,
      "metadata": {
        "id": "FHf9wC3T0R7Z"
      },
      "outputs": [],
      "source": [
        "import torch\n",
        "from torch.autograd import Variable\n",
        "import numpy as np\n",
        "import pylab as pl\n",
        "import torch.nn.init as init"
      ]
    },
    {
      "cell_type": "markdown",
      "source": [
        "In this example, we have sequential data and we are going to implement an RNN with a one-to-one configuration!\n",
        "\n",
        "<img src=\"https://raw.githubusercontent.com/aaubs/ds-master/main/data/Images/SeqData_RNN.png\" width=\"400\">\n"
      ],
      "metadata": {
        "id": "uUI9NVqMygdG"
      }
    },
    {
      "cell_type": "code",
      "source": [
        "# Define the input size, hidden size and number of outputs\n",
        "input_size = 1\n",
        "hidden_size = 6\n",
        "output_size = 1\n",
        "num_layers = 1\n",
        "seq_length = 20\n",
        "\n",
        "data_time_steps = np.linspace(2, 10, seq_length + 1)\n",
        "data = np.sin(data_time_steps)\n",
        "data.resize((seq_length + 1, 1))\n",
        "\n",
        "x = Variable(torch.Tensor(data[:-1]).type(torch.FloatTensor), requires_grad=False)\n",
        "y = Variable(torch.Tensor(data[1:]).type(torch.FloatTensor), requires_grad=False)"
      ],
      "metadata": {
        "id": "d_3Uyse-0R7Z"
      },
      "execution_count": 59,
      "outputs": []
    },
    {
      "cell_type": "markdown",
      "source": [
        "In order to create an RNN, we follow the same steps as for implementing an ANN!\n",
        "\n",
        "1. Creating a Neural Network\n",
        "2. Network Evaluation\n",
        "3. Gradient Calculation\n",
        "4. Back Propagation\n",
        "5. Training\n"
      ],
      "metadata": {
        "id": "gerYVJoCzqAV"
      }
    },
    {
      "cell_type": "markdown",
      "source": [
        "<img src=\"https://raw.githubusercontent.com/aaubs/ds-master/main/data/Images/rnn_vis.gif\" width=\"400\">\n",
        "\n"
      ],
      "metadata": {
        "id": "_ESkv2lszgmZ"
      }
    },
    {
      "cell_type": "code",
      "source": [
        "# 1. Creating an RNN model\n",
        "rnn = torch.nn.RNN(input_size, hidden_size, bias=False)\n",
        "\n",
        "# Initialize the output layer\n",
        "fc = torch.nn.Linear(hidden_size, output_size, bias=False)\n",
        "\n",
        "\n",
        "# Define the loss function and optimizer\n",
        "criterion = torch.nn.MSELoss()\n",
        "optimizer = torch.optim.SGD(rnn.parameters(), lr=0.3)"
      ],
      "metadata": {
        "id": "2qQdk16m2hyW"
      },
      "execution_count": 60,
      "outputs": []
    },
    {
      "cell_type": "code",
      "source": [
        "# Combine the parameters of the LSTM layer and linear layer\n",
        "params = list(rnn.parameters()) + list(fc.parameters())\n",
        "\n",
        "# Print the number of parameters\n",
        "print(\"Number of parameters:\", sum(p.numel() for p in params))\n",
        "\n",
        "# Print the shapes of the parameters\n",
        "for name, param in rnn.named_parameters():\n",
        "    print(\"Name: \", name)\n",
        "    print(\"shape: \", param.shape)\n",
        "    print(param)\n",
        "# Print the shapes of the parameters\n",
        "for name, param in fc.named_parameters():\n",
        "    print(\"Name: \", name)\n",
        "    print(\"shape: \", param.shape)\n",
        "    print(param)"
      ],
      "metadata": {
        "colab": {
          "base_uri": "https://localhost:8080/"
        },
        "id": "0zWfVNQfEU3o",
        "outputId": "a0a59f4d-54d1-4c48-a504-89a7bc5ed2ef"
      },
      "execution_count": 61,
      "outputs": [
        {
          "output_type": "stream",
          "name": "stdout",
          "text": [
            "Number of parameters: 48\n",
            "Name:  weight_ih_l0\n",
            "shape:  torch.Size([6, 1])\n",
            "Parameter containing:\n",
            "tensor([[ 0.3839],\n",
            "        [ 0.3593],\n",
            "        [ 0.0060],\n",
            "        [-0.3075],\n",
            "        [ 0.0847],\n",
            "        [-0.0992]], requires_grad=True)\n",
            "Name:  weight_hh_l0\n",
            "shape:  torch.Size([6, 6])\n",
            "Parameter containing:\n",
            "tensor([[-0.0342, -0.0923,  0.3164, -0.3213, -0.2362,  0.0448],\n",
            "        [ 0.0689, -0.0234,  0.2356, -0.3403, -0.3464, -0.3829],\n",
            "        [ 0.1400,  0.1225, -0.2029,  0.0593, -0.1170,  0.1283],\n",
            "        [-0.2313, -0.0068,  0.2608,  0.1818, -0.1242,  0.3929],\n",
            "        [ 0.0261,  0.2292, -0.1017,  0.1113,  0.1534,  0.0371],\n",
            "        [ 0.1806, -0.1233, -0.1585, -0.3001, -0.1916,  0.2137]],\n",
            "       requires_grad=True)\n",
            "Name:  weight\n",
            "shape:  torch.Size([1, 6])\n",
            "Parameter containing:\n",
            "tensor([[-0.3144, -0.1719, -0.1845,  0.4061,  0.3334, -0.0543]],\n",
            "       requires_grad=True)\n"
          ]
        }
      ]
    },
    {
      "cell_type": "code",
      "source": [
        "epochs = 300\n",
        "seq_length = 1\n",
        "lr = 0.3"
      ],
      "metadata": {
        "id": "V2nwhZnTIqcR"
      },
      "execution_count": 14,
      "outputs": []
    },
    {
      "cell_type": "code",
      "source": [
        "for i in range(epochs):\n",
        "   total_loss = 0\n",
        "   \n",
        "   # Initialize the hidden state\n",
        "   h0 = torch.zeros(1, hidden_size)\n",
        "   for j in range(x.size(0)):\n",
        "      input = x[j:(j+1)]\n",
        "      target = y[j:(j+1)]\n",
        "\n",
        "      # Forward pass\n",
        "      out, hn = rnn(input, h0)\n",
        "\n",
        "      # 2. Model Evaluation\n",
        "      y_pred = fc(hn.squeeze(0))\n",
        "      loss = criterion(y_pred.view(-1), target)\n",
        "    \n",
        "      # 3. Gradient Calculation\n",
        "      optimizer.zero_grad()\n",
        "      total_loss += loss\n",
        "      loss.backward()\n",
        "\n",
        "      # 4. Back Propagation\n",
        "      optimizer.step()\n",
        "\n",
        "   # display loss \n",
        "   if i % 10 == 0:\n",
        "      print(\"Epoch: {} loss {}\".format(i, total_loss.data))"
      ],
      "metadata": {
        "colab": {
          "base_uri": "https://localhost:8080/"
        },
        "outputId": "993d9056-9924-4f59-b45d-fc8b2035db76",
        "id": "NmGOaqWb0R7a"
      },
      "execution_count": 62,
      "outputs": [
        {
          "output_type": "stream",
          "name": "stderr",
          "text": [
            "/usr/local/lib/python3.8/dist-packages/torch/nn/modules/loss.py:536: UserWarning: Using a target size (torch.Size([1, 1])) that is different to the input size (torch.Size([1])). This will likely lead to incorrect results due to broadcasting. Please ensure they have the same size.\n",
            "  return F.mse_loss(input, target, reduction=self.reduction)\n"
          ]
        },
        {
          "output_type": "stream",
          "name": "stdout",
          "text": [
            "Epoch: 0 loss 4.663549423217773\n",
            "Epoch: 10 loss 1.7029898166656494\n",
            "Epoch: 20 loss 1.7014976739883423\n",
            "Epoch: 30 loss 1.7004168033599854\n",
            "Epoch: 40 loss 1.6996159553527832\n",
            "Epoch: 50 loss 1.699011206626892\n",
            "Epoch: 60 loss 1.6985478401184082\n",
            "Epoch: 70 loss 1.6981881856918335\n",
            "Epoch: 80 loss 1.6979056596755981\n",
            "Epoch: 90 loss 1.6976819038391113\n",
            "Epoch: 100 loss 1.6975033283233643\n",
            "Epoch: 110 loss 1.6973594427108765\n",
            "Epoch: 120 loss 1.6972427368164062\n",
            "Epoch: 130 loss 1.697148084640503\n",
            "Epoch: 140 loss 1.6970702409744263\n",
            "Epoch: 150 loss 1.6970059871673584\n",
            "Epoch: 160 loss 1.6969528198242188\n",
            "Epoch: 170 loss 1.6969088315963745\n",
            "Epoch: 180 loss 1.6968718767166138\n",
            "Epoch: 190 loss 1.6968406438827515\n",
            "Epoch: 200 loss 1.6968140602111816\n",
            "Epoch: 210 loss 1.6967920064926147\n",
            "Epoch: 220 loss 1.696772813796997\n",
            "Epoch: 230 loss 1.6967568397521973\n",
            "Epoch: 240 loss 1.6967425346374512\n",
            "Epoch: 250 loss 1.6967302560806274\n",
            "Epoch: 260 loss 1.696719765663147\n",
            "Epoch: 270 loss 1.696710467338562\n",
            "Epoch: 280 loss 1.6967023611068726\n",
            "Epoch: 290 loss 1.69669508934021\n",
            "Epoch: 300 loss 1.6966890096664429\n",
            "Epoch: 310 loss 1.6966830492019653\n",
            "Epoch: 320 loss 1.6966781616210938\n",
            "Epoch: 330 loss 1.6966735124588013\n",
            "Epoch: 340 loss 1.6966696977615356\n",
            "Epoch: 350 loss 1.6966657638549805\n",
            "Epoch: 360 loss 1.696662187576294\n",
            "Epoch: 370 loss 1.6966590881347656\n",
            "Epoch: 380 loss 1.6966562271118164\n",
            "Epoch: 390 loss 1.6966536045074463\n",
            "Epoch: 400 loss 1.6966512203216553\n",
            "Epoch: 410 loss 1.6966487169265747\n",
            "Epoch: 420 loss 1.6966466903686523\n",
            "Epoch: 430 loss 1.6966450214385986\n",
            "Epoch: 440 loss 1.6966431140899658\n",
            "Epoch: 450 loss 1.696641206741333\n",
            "Epoch: 460 loss 1.696639895439148\n",
            "Epoch: 470 loss 1.6966384649276733\n",
            "Epoch: 480 loss 1.6966369152069092\n",
            "Epoch: 490 loss 1.6966357231140137\n",
            "Epoch: 500 loss 1.696634292602539\n",
            "Epoch: 510 loss 1.696633219718933\n",
            "Epoch: 520 loss 1.6966322660446167\n",
            "Epoch: 530 loss 1.6966313123703003\n",
            "Epoch: 540 loss 1.6966303586959839\n",
            "Epoch: 550 loss 1.6966291666030884\n",
            "Epoch: 560 loss 1.6966288089752197\n",
            "Epoch: 570 loss 1.6966276168823242\n",
            "Epoch: 580 loss 1.6966270208358765\n",
            "Epoch: 590 loss 1.6966261863708496\n",
            "Epoch: 600 loss 1.6966255903244019\n",
            "Epoch: 610 loss 1.696624755859375\n",
            "Epoch: 620 loss 1.6966243982315063\n",
            "Epoch: 630 loss 1.696623682975769\n",
            "Epoch: 640 loss 1.6966232061386108\n",
            "Epoch: 650 loss 1.696622610092163\n",
            "Epoch: 660 loss 1.6966220140457153\n",
            "Epoch: 670 loss 1.6966216564178467\n",
            "Epoch: 680 loss 1.6966214179992676\n",
            "Epoch: 690 loss 1.6966209411621094\n",
            "Epoch: 700 loss 1.6966203451156616\n",
            "Epoch: 710 loss 1.696620225906372\n",
            "Epoch: 720 loss 1.6966196298599243\n",
            "Epoch: 730 loss 1.6966192722320557\n",
            "Epoch: 740 loss 1.6966193914413452\n",
            "Epoch: 750 loss 1.6966190338134766\n",
            "Epoch: 760 loss 1.6966185569763184\n",
            "Epoch: 770 loss 1.6966184377670288\n",
            "Epoch: 780 loss 1.6966181993484497\n",
            "Epoch: 790 loss 1.6966180801391602\n",
            "Epoch: 800 loss 1.696617841720581\n",
            "Epoch: 810 loss 1.6966174840927124\n",
            "Epoch: 820 loss 1.6966173648834229\n",
            "Epoch: 830 loss 1.6966172456741333\n",
            "Epoch: 840 loss 1.6966170072555542\n",
            "Epoch: 850 loss 1.6966170072555542\n",
            "Epoch: 860 loss 1.696616768836975\n",
            "Epoch: 870 loss 1.6966164112091064\n",
            "Epoch: 880 loss 1.6966166496276855\n",
            "Epoch: 890 loss 1.696616291999817\n",
            "Epoch: 900 loss 1.696616291999817\n",
            "Epoch: 910 loss 1.696616291999817\n",
            "Epoch: 920 loss 1.6966159343719482\n",
            "Epoch: 930 loss 1.6966158151626587\n",
            "Epoch: 940 loss 1.6966159343719482\n",
            "Epoch: 950 loss 1.6966156959533691\n",
            "Epoch: 960 loss 1.6966156959533691\n",
            "Epoch: 970 loss 1.6966156959533691\n",
            "Epoch: 980 loss 1.6966155767440796\n",
            "Epoch: 990 loss 1.6966153383255005\n"
          ]
        }
      ]
    },
    {
      "cell_type": "code",
      "source": [
        "predictions = []\n",
        "\n",
        "for i in range(x.size(0)):\n",
        "   input = x[i:i+1]\n",
        "   # Forward pass\n",
        "   out, hn = rnn(input, h0)\n",
        "   # Pass the hidden state through the output layer\n",
        "   y_pred = fc(hn.squeeze(0))\n",
        "   predictions.append(y_pred.data.numpy().ravel()[0])"
      ],
      "metadata": {
        "id": "knhdQPnB3-4S"
      },
      "execution_count": 63,
      "outputs": []
    },
    {
      "cell_type": "code",
      "source": [
        "data_time_steps = np.linspace(2, 10, x.shape[0])\n",
        "\n",
        "pl.scatter(data_time_steps[:], y.data.numpy(), s = 90, label = \"Actual\")\n",
        "pl.scatter(data_time_steps[:], predictions, label = \"Predicted\")\n",
        "pl.legend()\n",
        "pl.show()"
      ],
      "metadata": {
        "colab": {
          "base_uri": "https://localhost:8080/",
          "height": 265
        },
        "outputId": "618a45f6-feec-45c3-818d-1b1fe8e7165a",
        "id": "Lt0EG_uf0R7a"
      },
      "execution_count": 64,
      "outputs": [
        {
          "output_type": "display_data",
          "data": {
            "text/plain": [
              "<Figure size 432x288 with 1 Axes>"
            ],
            "image/png": "[encoded data removed]"
          },
          "metadata": {
            "needs_background": "light"
          }
        }
      ]
    },
    {
      "cell_type": "code",
      "source": [
        "# Combine the parameters of the LSTM layer and linear layer\n",
        "params = list(rnn.parameters()) + list(fc.parameters())\n",
        "\n",
        "# Print the number of parameters\n",
        "print(\"Number of parameters:\", sum(p.numel() for p in params))\n",
        "\n",
        "for name, param in rnn.named_parameters():\n",
        "    print(\"Name: \", name)\n",
        "    print(\"shape: \", param.shape)\n",
        "    print(param)\n",
        "# Print the shapes of the parameters\n",
        "for name, param in fc.named_parameters():\n",
        "    print(\"Name: \", name)\n",
        "    print(\"shape: \", param.shape)\n",
        "    print(param)"
      ],
      "metadata": {
        "colab": {
          "base_uri": "https://localhost:8080/"
        },
        "id": "ZWM1b9iKMkKe",
        "outputId": "8db03ab3-47f0-4d74-983a-27cee564fb11"
      },
      "execution_count": 20,
      "outputs": [
        {
          "output_type": "stream",
          "name": "stdout",
          "text": [
            "Number of parameters: 48\n",
            "Name:  weight_ih_l0\n",
            "shape:  torch.Size([6, 1])\n",
            "Parameter containing:\n",
            "tensor([[-0.8065],\n",
            "        [ 0.1771],\n",
            "        [-0.8170],\n",
            "        [ 0.8130],\n",
            "        [ 0.8252],\n",
            "        [-0.8257]], requires_grad=True)\n",
            "Name:  weight_hh_l0\n",
            "shape:  torch.Size([6, 6])\n",
            "Parameter containing:\n",
            "tensor([[-3.2082e-01,  2.5052e-01, -1.2359e-01,  1.7802e-01,  8.7040e-02,\n",
            "         -1.6337e-01],\n",
            "        [-2.3736e-01,  3.7018e-01,  3.4390e-01, -3.2391e-02,  3.6817e-01,\n",
            "         -3.4018e-01],\n",
            "        [-2.9130e-01, -1.4683e-01,  6.7102e-02, -1.1024e-02, -8.6213e-02,\n",
            "          1.6474e-04],\n",
            "        [ 2.3286e-01,  2.3885e-01, -3.5169e-01, -3.4843e-01,  1.0673e-01,\n",
            "         -2.1323e-01],\n",
            "        [ 2.9536e-01,  2.4716e-01, -2.3826e-01, -2.2648e-02,  1.1460e-01,\n",
            "         -3.9898e-01],\n",
            "        [ 2.8494e-01, -3.8583e-01,  6.8416e-02, -2.5032e-01,  2.9895e-01,\n",
            "         -1.7028e-01]], requires_grad=True)\n",
            "Name:  weight\n",
            "shape:  torch.Size([1, 6])\n",
            "Parameter containing:\n",
            "tensor([[-0.1924,  0.0106, -0.2410,  0.2252,  0.2757, -0.2778]],\n",
            "       requires_grad=True)\n"
          ]
        }
      ]
    },
    {
      "cell_type": "markdown",
      "source": [
        "### RNN with one layer configured as Many-to-one"
      ],
      "metadata": {
        "id": "nSM0mLVo1CKt"
      }
    },
    {
      "cell_type": "code",
      "execution_count": 65,
      "metadata": {
        "id": "LoLoL_Ch4lGy"
      },
      "outputs": [],
      "source": [
        "import torch\n",
        "from torch.autograd import Variable\n",
        "import numpy as np\n",
        "import pylab as pl\n",
        "import torch.nn.init as init"
      ]
    },
    {
      "cell_type": "markdown",
      "source": [
        "In this example, we have sequential data and we are going to implement an RNN with a Many-to-one configuration!\n",
        "\n",
        "<img src=\"https://raw.githubusercontent.com/aaubs/ds-master/main/data/Images/SeqData_RNN.png\" width=\"400\">\n"
      ],
      "metadata": {
        "id": "I6nhIROx4lG0"
      }
    },
    {
      "cell_type": "code",
      "source": [
        "# Define the input size, hidden size and number of outputs\n",
        "input_size = 2\n",
        "hidden_size = 6\n",
        "output_size = 1\n",
        "num_layers = 1\n",
        "seq_length = 20\n",
        "\n",
        "data_time_steps = np.linspace(2, 10, seq_length + 1)\n",
        "data = np.sin(data_time_steps)\n",
        "data.resize((seq_length + 1, 1))\n",
        "\n",
        "x = Variable(torch.Tensor(data[:-1]).type(torch.FloatTensor), requires_grad=False)\n",
        "y = Variable(torch.Tensor(data[1:]).type(torch.FloatTensor), requires_grad=False)"
      ],
      "metadata": {
        "id": "tWuwKnF34lG0"
      },
      "execution_count": 66,
      "outputs": []
    },
    {
      "cell_type": "markdown",
      "source": [
        "In order to create an RNN, we follow the same steps as for implementing an ANN!\n",
        "\n",
        "1. Creating a Neural Network\n",
        "2. Network Evaluation\n",
        "3. Gradient Calculation\n",
        "4. Back Propagation\n",
        "5. Training\n"
      ],
      "metadata": {
        "id": "sEh2BwiU4lG0"
      }
    },
    {
      "cell_type": "markdown",
      "source": [
        "<img src=\"https://raw.githubusercontent.com/aaubs/ds-master/main/data/Images/rnn_vis.gif\" width=\"400\">\n",
        "\n"
      ],
      "metadata": {
        "id": "seVVpB6V4lG1"
      }
    },
    {
      "cell_type": "code",
      "source": [
        "# 1. Creating an RNN model\n",
        "rnn = torch.nn.RNN(input_size, hidden_size, bias=False)\n",
        "\n",
        "# Initialize the output layer\n",
        "fc = torch.nn.Linear(hidden_size, output_size, bias=False)\n",
        "\n",
        "\n",
        "# Define the loss function and optimizer\n",
        "criterion = torch.nn.MSELoss()\n",
        "optimizer = torch.optim.SGD(rnn.parameters(), lr=0.3)"
      ],
      "metadata": {
        "id": "dcknom2b4lG1"
      },
      "execution_count": 67,
      "outputs": []
    },
    {
      "cell_type": "code",
      "source": [
        "# Combine the parameters of the LSTM layer and linear layer\n",
        "params = list(rnn.parameters()) + list(fc.parameters())\n",
        "\n",
        "# Print the number of parameters\n",
        "print(\"Number of parameters:\", sum(p.numel() for p in params))\n",
        "\n",
        "# Print the shapes of the parameters\n",
        "for name, param in rnn.named_parameters():\n",
        "    print(\"Name: \", name)\n",
        "    print(\"shape: \", param.shape)\n",
        "    print(param)\n",
        "# Print the shapes of the parameters\n",
        "for name, param in fc.named_parameters():\n",
        "    print(\"Name: \", name)\n",
        "    print(\"shape: \", param.shape)\n",
        "    print(param)"
      ],
      "metadata": {
        "colab": {
          "base_uri": "https://localhost:8080/"
        },
        "outputId": "8bb5927e-1b9d-4c1a-84b6-6aaa08c2fc1b",
        "id": "dMl6mfqJ4lG1"
      },
      "execution_count": 68,
      "outputs": [
        {
          "output_type": "stream",
          "name": "stdout",
          "text": [
            "Number of parameters: 54\n",
            "Name:  weight_ih_l0\n",
            "shape:  torch.Size([6, 2])\n",
            "Parameter containing:\n",
            "tensor([[ 0.1972, -0.2539],\n",
            "        [-0.1686,  0.3213],\n",
            "        [ 0.3860,  0.1619],\n",
            "        [ 0.2199, -0.3887],\n",
            "        [ 0.2631, -0.3738],\n",
            "        [-0.3716,  0.1908]], requires_grad=True)\n",
            "Name:  weight_hh_l0\n",
            "shape:  torch.Size([6, 6])\n",
            "Parameter containing:\n",
            "tensor([[ 0.2076,  0.1659,  0.1476,  0.1567, -0.2824,  0.2494],\n",
            "        [-0.2183, -0.1542,  0.1734,  0.0442,  0.0307, -0.0092],\n",
            "        [-0.2469, -0.3998, -0.3396,  0.3520,  0.1074,  0.0057],\n",
            "        [-0.2816,  0.3824, -0.0446, -0.1048,  0.2515,  0.1607],\n",
            "        [-0.1352, -0.2461,  0.0843,  0.1480, -0.2529, -0.3741],\n",
            "        [-0.3007, -0.3699,  0.1233,  0.0510, -0.1828, -0.2400]],\n",
            "       requires_grad=True)\n",
            "Name:  weight\n",
            "shape:  torch.Size([1, 6])\n",
            "Parameter containing:\n",
            "tensor([[ 0.0460,  0.0649,  0.2891, -0.0740,  0.0914, -0.1281]],\n",
            "       requires_grad=True)\n"
          ]
        }
      ]
    },
    {
      "cell_type": "code",
      "source": [
        "epochs = 300\n",
        "seq_length = 1\n",
        "lr = 0.1"
      ],
      "metadata": {
        "id": "9xt5Mhxw4lG1"
      },
      "execution_count": 69,
      "outputs": []
    },
    {
      "cell_type": "code",
      "source": [
        "for i in range(epochs):\n",
        "   total_loss = 0\n",
        "\n",
        "   # Initialize the hidden state\n",
        "   h0 = torch.zeros(1,  hidden_size)\n",
        "   \n",
        "   for j in range(x.size(0) - 1):\n",
        "      input = x[j:(j+2)]\n",
        "      target = y[j:(j+2)]\n",
        "\n",
        "      # Forward pass\n",
        "      out, hn = rnn(input.t(), h0)\n",
        "\n",
        "      # 2. Model Evaluation\n",
        "      y_pred = fc(hn.squeeze(0))\n",
        "      loss = criterion(y_pred.view(-1), target)\n",
        "    \n",
        "      # 3. Gradient Calculation\n",
        "      optimizer.zero_grad()\n",
        "      total_loss += loss\n",
        "      loss.backward()\n",
        "\n",
        "      # 4. Back Propagation\n",
        "      optimizer.step()\n",
        "\n",
        "   # display loss \n",
        "   if i % 10 == 0:\n",
        "      print(\"Epoch: {} loss {}\".format(i, total_loss.data))"
      ],
      "metadata": {
        "colab": {
          "base_uri": "https://localhost:8080/"
        },
        "outputId": "8bd4d1d5-5861-449f-b133-340c5376d3dc",
        "id": "hpPy5_y94lG1"
      },
      "execution_count": 70,
      "outputs": [
        {
          "output_type": "stream",
          "name": "stderr",
          "text": [
            "/usr/local/lib/python3.8/dist-packages/torch/nn/modules/loss.py:536: UserWarning: Using a target size (torch.Size([2, 1])) that is different to the input size (torch.Size([1])). This will likely lead to incorrect results due to broadcasting. Please ensure they have the same size.\n",
            "  return F.mse_loss(input, target, reduction=self.reduction)\n"
          ]
        },
        {
          "output_type": "stream",
          "name": "stdout",
          "text": [
            "Epoch: 0 loss 4.4336838722229\n",
            "Epoch: 10 loss 1.7661694288253784\n",
            "Epoch: 20 loss 1.3932373523712158\n",
            "Epoch: 30 loss 1.1979223489761353\n",
            "Epoch: 40 loss 1.0892937183380127\n",
            "Epoch: 50 loss 1.0232353210449219\n",
            "Epoch: 60 loss 0.9800454378128052\n",
            "Epoch: 70 loss 0.9501742124557495\n",
            "Epoch: 80 loss 0.9285774230957031\n",
            "Epoch: 90 loss 0.9123901724815369\n",
            "Epoch: 100 loss 0.899886965751648\n",
            "Epoch: 110 loss 0.8899769186973572\n",
            "Epoch: 120 loss 0.8819431662559509\n",
            "Epoch: 130 loss 0.8752987384796143\n",
            "Epoch: 140 loss 0.8697041869163513\n",
            "Epoch: 150 loss 0.864916980266571\n",
            "Epoch: 160 loss 0.8607602119445801\n",
            "Epoch: 170 loss 0.8571029901504517\n",
            "Epoch: 180 loss 0.853847324848175\n",
            "Epoch: 190 loss 0.8509175777435303\n",
            "Epoch: 200 loss 0.8482558727264404\n",
            "Epoch: 210 loss 0.8458172082901001\n",
            "Epoch: 220 loss 0.8435659408569336\n",
            "Epoch: 230 loss 0.841473400592804\n",
            "Epoch: 240 loss 0.8395176529884338\n",
            "Epoch: 250 loss 0.8376795053482056\n",
            "Epoch: 260 loss 0.8359445929527283\n",
            "Epoch: 270 loss 0.8343004584312439\n",
            "Epoch: 280 loss 0.8327372670173645\n",
            "Epoch: 290 loss 0.8312463760375977\n"
          ]
        }
      ]
    },
    {
      "cell_type": "code",
      "source": [
        "predictions = []\n",
        "\n",
        "for i in range(x.size(0) - 1):\n",
        "   input = x[i:i+2]\n",
        "   # Forward pass\n",
        "   out, hn = rnn(input.t(), h0)\n",
        "   # Pass the hidden state through the output layer\n",
        "   y_pred = fc(hn.squeeze(0))\n",
        "   predictions.append(y_pred.data.numpy().ravel()[0])"
      ],
      "metadata": {
        "id": "cw6YVtGb4lG2"
      },
      "execution_count": 71,
      "outputs": []
    },
    {
      "cell_type": "code",
      "source": [
        "data_time_steps = np.linspace(2, 10, x.shape[0])\n",
        "\n",
        "pl.scatter(data_time_steps[:-1], y.data[:-1].numpy(), s = 90, label = \"Actual\")\n",
        "pl.scatter(data_time_steps[:-1], predictions, label = \"Predicted\")\n",
        "pl.legend()\n",
        "pl.show()"
      ],
      "metadata": {
        "colab": {
          "base_uri": "https://localhost:8080/",
          "height": 265
        },
        "outputId": "8f95dc6b-ec22-4c49-de2c-e7bc3396e786",
        "id": "w_NszNfw4lG2"
      },
      "execution_count": 72,
      "outputs": [
        {
          "output_type": "display_data",
          "data": {
            "text/plain": [
              "<Figure size 432x288 with 1 Axes>"
            ],
            "image/png": "[encoded data removed]"
          },
          "metadata": {
            "needs_background": "light"
          }
        }
      ]
    },
    {
      "cell_type": "code",
      "source": [
        "# Combine the parameters of the LSTM layer and linear layer\n",
        "params = list(rnn.parameters()) + list(fc.parameters())\n",
        "\n",
        "# Print the number of parameters\n",
        "print(\"Number of parameters:\", sum(p.numel() for p in params))\n",
        "\n",
        "for name, param in rnn.named_parameters():\n",
        "    print(\"Name: \", name)\n",
        "    print(\"shape: \", param.shape)\n",
        "    print(param)\n",
        "# Print the shapes of the parameters\n",
        "for name, param in fc.named_parameters():\n",
        "    print(\"Name: \", name)\n",
        "    print(\"shape: \", param.shape)\n",
        "    print(param)"
      ],
      "metadata": {
        "colab": {
          "base_uri": "https://localhost:8080/"
        },
        "outputId": "96c9e8b7-7a30-4cdf-c1c0-dd467ddb0649",
        "id": "2XV0zGJl4lG2"
      },
      "execution_count": 44,
      "outputs": [
        {
          "output_type": "stream",
          "name": "stdout",
          "text": [
            "Number of parameters: 54\n",
            "Name:  weight_ih_l0\n",
            "shape:  torch.Size([6, 2])\n",
            "Parameter containing:\n",
            "tensor([[-1.0623,  1.6469],\n",
            "        [-0.2183,  0.4557],\n",
            "        [ 0.0235, -0.9632],\n",
            "        [-0.2005,  1.0576],\n",
            "        [-0.5270, -0.6371],\n",
            "        [ 0.4598, -1.2108]], requires_grad=True)\n",
            "Name:  weight_hh_l0\n",
            "shape:  torch.Size([6, 6])\n",
            "Parameter containing:\n",
            "tensor([[-0.3402,  0.1997, -0.2267, -0.1469, -0.0959, -0.0933],\n",
            "        [-0.0663,  0.3926,  0.0180, -0.0361,  0.3734, -0.2884],\n",
            "        [ 0.2821,  0.0024,  0.4007,  0.3000,  0.2085, -0.3537],\n",
            "        [-0.0050,  0.3329, -0.3460, -0.0841,  0.1212, -0.2376],\n",
            "        [-0.0543, -0.1468,  0.0025, -0.4041, -0.3034, -0.0545],\n",
            "        [ 0.2107,  0.1552,  0.1369,  0.1960, -0.3657, -0.2092]],\n",
            "       requires_grad=True)\n",
            "Name:  weight\n",
            "shape:  torch.Size([1, 6])\n",
            "Parameter containing:\n",
            "tensor([[ 0.3965,  0.0039, -0.3568,  0.2759, -0.0582, -0.2657]],\n",
            "       requires_grad=True)\n"
          ]
        }
      ]
    },
    {
      "cell_type": "markdown",
      "source": [
        "## RNN with two layers configured as One-to-one"
      ],
      "metadata": {
        "id": "C76RCcIt7is9"
      }
    },
    {
      "cell_type": "markdown",
      "source": [
        "In this example, we have sequential data and we are going to implement an RNN with 2 layers and a One-to-one configuration!\n",
        "\n",
        "<img src=\"https://raw.githubusercontent.com/aaubs/ds-master/main/data/Images/SeqData_RNN.png\" width=\"400\">\n"
      ],
      "metadata": {
        "id": "F8UiN-s074BJ"
      }
    },
    {
      "cell_type": "markdown",
      "source": [
        "Let's use non-linear data with more complexity in this step!"
      ],
      "metadata": {
        "id": "PVCL5Ex99IBZ"
      }
    },
    {
      "cell_type": "code",
      "source": [
        "# Define the input size, hidden size and number of outputs\n",
        "input_size = 1\n",
        "hidden_size = 6\n",
        "output_size = 1\n",
        "num_layers = 2\n",
        "seq_length = 20\n",
        "\n",
        "data_time_steps = np.linspace(2, 10, seq_length + 1)\n",
        "data = np.sin(data_time_steps)\n",
        "data.resize((seq_length + 1, 1))\n",
        "\n",
        "x = Variable(torch.Tensor(data[:-1]).type(torch.FloatTensor), requires_grad=False)\n",
        "y = Variable(torch.Tensor(data[1:]).type(torch.FloatTensor), requires_grad=False)"
      ],
      "metadata": {
        "id": "HmEvnoDX74BJ"
      },
      "execution_count": 106,
      "outputs": []
    },
    {
      "cell_type": "markdown",
      "source": [
        "In order to create an RNN, we follow the same steps as for implementing an ANN!\n",
        "\n",
        "1. Creating a Neural Network\n",
        "2. Network Evaluation\n",
        "3. Gradient Calculation\n",
        "4. Back Propagation\n",
        "5. Training\n"
      ],
      "metadata": {
        "id": "3HWQFctV74BJ"
      }
    },
    {
      "cell_type": "markdown",
      "source": [
        "<img src=\"https://raw.githubusercontent.com/aaubs/ds-master/main/data/Images/rnn_vis.gif\" width=\"400\">\n",
        "\n"
      ],
      "metadata": {
        "id": "oMPNEvsa74BK"
      }
    },
    {
      "cell_type": "code",
      "source": [
        "# 1. Creating a RNN model\n",
        "rnn = torch.nn.RNN(input_size, hidden_size, bias=False, nonlinearity='tanh', num_layers=2)\n",
        "\n",
        "# Initialize the output layer\n",
        "fc = torch.nn.Linear(hidden_size, output_size, bias=False)\n",
        "\n",
        "\n",
        "# Define the loss function and optimizer\n",
        "criterion = torch.nn.MSELoss()\n",
        "optimizer = torch.optim.SGD(rnn.parameters(), lr=0.01)"
      ],
      "metadata": {
        "id": "m4TOKiExobEv"
      },
      "execution_count": 107,
      "outputs": []
    },
    {
      "cell_type": "code",
      "source": [
        "# Combine the parameters of the LSTM layer and linear layer\n",
        "params = list(rnn.parameters()) + list(fc.parameters())\n",
        "\n",
        "# Print the number of parameters\n",
        "print(\"Number of parameters:\", sum(p.numel() for p in params))\n",
        "\n",
        "# Print the shapes of the parameters\n",
        "for name, param in rnn.named_parameters():\n",
        "    print(\"Name: \", name)\n",
        "    print(\"shape: \", param.shape)\n",
        "    print(param)\n",
        "# Print the shapes of the parameters\n",
        "for name, param in fc.named_parameters():\n",
        "    print(\"Name: \", name)\n",
        "    print(\"shape: \", param.shape)\n",
        "    print(param)"
      ],
      "metadata": {
        "colab": {
          "base_uri": "https://localhost:8080/"
        },
        "outputId": "13ac912f-5ee9-40a4-f09c-252204b96395",
        "id": "nM7eanghobEv"
      },
      "execution_count": 108,
      "outputs": [
        {
          "output_type": "stream",
          "name": "stdout",
          "text": [
            "Number of parameters: 120\n",
            "Name:  weight_ih_l0\n",
            "shape:  torch.Size([6, 1])\n",
            "Parameter containing:\n",
            "tensor([[ 0.1916],\n",
            "        [ 0.2838],\n",
            "        [ 0.4044],\n",
            "        [-0.0497],\n",
            "        [ 0.3326],\n",
            "        [-0.1160]], requires_grad=True)\n",
            "Name:  weight_hh_l0\n",
            "shape:  torch.Size([6, 6])\n",
            "Parameter containing:\n",
            "tensor([[-0.1140, -0.1597, -0.1740, -0.1036,  0.3144, -0.1587],\n",
            "        [ 0.0776, -0.3044, -0.3879, -0.2759,  0.1232, -0.0356],\n",
            "        [-0.0471,  0.3522,  0.1215, -0.0336, -0.0521,  0.3693],\n",
            "        [ 0.0164,  0.2419,  0.0861,  0.2870,  0.3733, -0.0289],\n",
            "        [ 0.2916, -0.3038, -0.2628, -0.0831, -0.1746,  0.1464],\n",
            "        [-0.0097, -0.3501,  0.2285,  0.0379, -0.0763, -0.0184]],\n",
            "       requires_grad=True)\n",
            "Name:  weight_ih_l1\n",
            "shape:  torch.Size([6, 6])\n",
            "Parameter containing:\n",
            "tensor([[-0.0049,  0.1914,  0.2775, -0.3013,  0.2069, -0.1548],\n",
            "        [-0.0451,  0.2137, -0.3049, -0.3861, -0.0614,  0.3395],\n",
            "        [-0.1410, -0.3598,  0.3195,  0.3657,  0.3815,  0.0606],\n",
            "        [ 0.3494,  0.0859,  0.0376, -0.0108, -0.3805,  0.0630],\n",
            "        [-0.4062,  0.3152,  0.0602,  0.0349,  0.3987,  0.3082],\n",
            "        [ 0.1146, -0.0964, -0.2920, -0.3724, -0.3279, -0.3860]],\n",
            "       requires_grad=True)\n",
            "Name:  weight_hh_l1\n",
            "shape:  torch.Size([6, 6])\n",
            "Parameter containing:\n",
            "tensor([[ 0.3061, -0.0725,  0.3684, -0.0746, -0.3535,  0.3951],\n",
            "        [ 0.2344, -0.1249, -0.0620,  0.1978, -0.0349,  0.2001],\n",
            "        [-0.3149,  0.2621,  0.1013,  0.1565, -0.3771,  0.0187],\n",
            "        [-0.4067, -0.3177, -0.3469,  0.3927, -0.2126,  0.3454],\n",
            "        [-0.0482, -0.1322,  0.1864, -0.3621,  0.2722, -0.3602],\n",
            "        [-0.1749, -0.1994,  0.3799,  0.3254,  0.2142, -0.2979]],\n",
            "       requires_grad=True)\n",
            "Name:  weight\n",
            "shape:  torch.Size([1, 6])\n",
            "Parameter containing:\n",
            "tensor([[-0.3990,  0.3492,  0.4053,  0.0462, -0.0999, -0.0654]],\n",
            "       requires_grad=True)\n"
          ]
        }
      ]
    },
    {
      "cell_type": "code",
      "source": [
        "epochs = 1000\n",
        "lr = 0.1"
      ],
      "metadata": {
        "id": "fKSW4152obEw"
      },
      "execution_count": 109,
      "outputs": []
    },
    {
      "cell_type": "code",
      "source": [
        "for i in range(epochs):\n",
        "   total_loss = 0\n",
        "\n",
        "   # Initialize the hidden state\n",
        "   h0 = torch.zeros(2, hidden_size)\n",
        "   for j in range(x.size(0)):\n",
        "      input = x[j:(j+1)]\n",
        "      target = y[j:(j+1)]\n",
        "\n",
        "\n",
        "      # Forward pass\n",
        "      out, hn = rnn(input, h0)\n",
        "\n",
        "      # 2. Model Evaluation\n",
        "      y_pred = fc(hn.squeeze(0))\n",
        "      loss = criterion(y_pred.view(-1), target)\n",
        "    \n",
        "      # 3. Gradient Calculation\n",
        "      optimizer.zero_grad()\n",
        "      total_loss += loss\n",
        "      loss.backward()\n",
        "\n",
        "      # 4. Back Propagation\n",
        "      optimizer.step()\n",
        "\n",
        "   # display loss \n",
        "   if i % 10 == 0:\n",
        "      print(\"Epoch: {} loss {}\".format(i, total_loss.data))"
      ],
      "metadata": {
        "colab": {
          "base_uri": "https://localhost:8080/"
        },
        "outputId": "2055953c-0be0-4705-f683-d155e42f9e2d",
        "id": "705R15JoobEw"
      },
      "execution_count": 110,
      "outputs": [
        {
          "output_type": "stream",
          "name": "stdout",
          "text": [
            "Epoch: 0 loss 8.374932289123535\n",
            "Epoch: 10 loss 5.686782360076904\n",
            "Epoch: 20 loss 3.5747897624969482\n",
            "Epoch: 30 loss 2.451029062271118\n",
            "Epoch: 40 loss 2.011479377746582\n",
            "Epoch: 50 loss 1.847974181175232\n",
            "Epoch: 60 loss 1.782486915588379\n",
            "Epoch: 70 loss 1.7531312704086304\n",
            "Epoch: 80 loss 1.7382397651672363\n",
            "Epoch: 90 loss 1.7297329902648926\n",
            "Epoch: 100 loss 1.7243576049804688\n",
            "Epoch: 110 loss 1.7206858396530151\n",
            "Epoch: 120 loss 1.7180272340774536\n",
            "Epoch: 130 loss 1.7160139083862305\n",
            "Epoch: 140 loss 1.7144321203231812\n",
            "Epoch: 150 loss 1.7131481170654297\n",
            "Epoch: 160 loss 1.712074637413025\n",
            "Epoch: 170 loss 1.7111529111862183\n",
            "Epoch: 180 loss 1.7103424072265625\n",
            "Epoch: 190 loss 1.709614634513855\n",
            "Epoch: 200 loss 1.7089499235153198\n",
            "Epoch: 210 loss 1.7083337306976318\n",
            "Epoch: 220 loss 1.7077562808990479\n",
            "Epoch: 230 loss 1.7072105407714844\n",
            "Epoch: 240 loss 1.7066905498504639\n",
            "Epoch: 250 loss 1.706193208694458\n",
            "Epoch: 260 loss 1.7057151794433594\n",
            "Epoch: 270 loss 1.705254316329956\n",
            "Epoch: 280 loss 1.7048085927963257\n",
            "Epoch: 290 loss 1.7043774127960205\n",
            "Epoch: 300 loss 1.7039592266082764\n",
            "Epoch: 310 loss 1.7035539150238037\n",
            "Epoch: 320 loss 1.7031595706939697\n",
            "Epoch: 330 loss 1.7027767896652222\n",
            "Epoch: 340 loss 1.7024040222167969\n",
            "Epoch: 350 loss 1.702041506767273\n",
            "Epoch: 360 loss 1.7016887664794922\n",
            "Epoch: 370 loss 1.7013452053070068\n",
            "Epoch: 380 loss 1.7010107040405273\n",
            "Epoch: 390 loss 1.700684666633606\n",
            "Epoch: 400 loss 1.7003668546676636\n",
            "Epoch: 410 loss 1.7000572681427002\n",
            "Epoch: 420 loss 1.699755311012268\n",
            "Epoch: 430 loss 1.699460506439209\n",
            "Epoch: 440 loss 1.699173092842102\n",
            "Epoch: 450 loss 1.698892593383789\n",
            "Epoch: 460 loss 1.6986186504364014\n",
            "Epoch: 470 loss 1.6983513832092285\n",
            "Epoch: 480 loss 1.6980901956558228\n",
            "Epoch: 490 loss 1.6978346109390259\n",
            "Epoch: 500 loss 1.6975857019424438\n",
            "Epoch: 510 loss 1.6973415613174438\n",
            "Epoch: 520 loss 1.6971036195755005\n",
            "Epoch: 530 loss 1.6968704462051392\n",
            "Epoch: 540 loss 1.6966423988342285\n",
            "Epoch: 550 loss 1.6964191198349\n",
            "Epoch: 560 loss 1.696200966835022\n",
            "Epoch: 570 loss 1.6959872245788574\n",
            "Epoch: 580 loss 1.6957778930664062\n",
            "Epoch: 590 loss 1.6955727338790894\n",
            "Epoch: 600 loss 1.6953721046447754\n",
            "Epoch: 610 loss 1.6951751708984375\n",
            "Epoch: 620 loss 1.6949825286865234\n",
            "Epoch: 630 loss 1.6947931051254272\n",
            "Epoch: 640 loss 1.6946077346801758\n",
            "Epoch: 650 loss 1.6944254636764526\n",
            "Epoch: 660 loss 1.6942468881607056\n",
            "Epoch: 670 loss 1.6940715312957764\n",
            "Epoch: 680 loss 1.6938996315002441\n",
            "Epoch: 690 loss 1.693730354309082\n",
            "Epoch: 700 loss 1.6935641765594482\n",
            "Epoch: 710 loss 1.6934008598327637\n",
            "Epoch: 720 loss 1.6932402849197388\n",
            "Epoch: 730 loss 1.693082571029663\n",
            "Epoch: 740 loss 1.6929277181625366\n",
            "Epoch: 750 loss 1.692775011062622\n",
            "Epoch: 760 loss 1.6926250457763672\n",
            "Epoch: 770 loss 1.6924774646759033\n",
            "Epoch: 780 loss 1.6923319101333618\n",
            "Epoch: 790 loss 1.6921886205673218\n",
            "Epoch: 800 loss 1.6920478343963623\n",
            "Epoch: 810 loss 1.691908836364746\n",
            "Epoch: 820 loss 1.6917719841003418\n",
            "Epoch: 830 loss 1.6916372776031494\n",
            "Epoch: 840 loss 1.6915041208267212\n",
            "Epoch: 850 loss 1.6913729906082153\n",
            "Epoch: 860 loss 1.6912437677383423\n",
            "Epoch: 870 loss 1.691116213798523\n",
            "Epoch: 880 loss 1.6909905672073364\n",
            "Epoch: 890 loss 1.6908661127090454\n",
            "Epoch: 900 loss 1.6907434463500977\n",
            "Epoch: 910 loss 1.6906225681304932\n",
            "Epoch: 920 loss 1.6905028820037842\n",
            "Epoch: 930 loss 1.690384864807129\n",
            "Epoch: 940 loss 1.6902681589126587\n",
            "Epoch: 950 loss 1.6901527643203735\n",
            "Epoch: 960 loss 1.6900389194488525\n",
            "Epoch: 970 loss 1.689926028251648\n",
            "Epoch: 980 loss 1.689814805984497\n",
            "Epoch: 990 loss 1.6897046566009521\n"
          ]
        }
      ]
    },
    {
      "cell_type": "code",
      "source": [
        "predictions = []\n",
        "\n",
        "for i in range(x.size(0)):\n",
        "   input = x[i:i+1]\n",
        "\n",
        "   # Forward pass\n",
        "   out, hn = rnn(input, h0)\n",
        "   # Pass the hidden state through the output layer\n",
        "   y_pred = fc(hn.squeeze(0))\n",
        "   predictions.append(y_pred.data.numpy().ravel()[0])"
      ],
      "metadata": {
        "id": "YBtvHBlXobEw"
      },
      "execution_count": 111,
      "outputs": []
    },
    {
      "cell_type": "code",
      "source": [
        "pl.scatter(data_time_steps[:-1], y.data[:].numpy().tolist(), s = 90, label = \"Actual\")\n",
        "pl.scatter(data_time_steps[1:], predictions, label = \"Predicted\")\n",
        "pl.legend()\n",
        "pl.show()"
      ],
      "metadata": {
        "colab": {
          "base_uri": "https://localhost:8080/",
          "height": 265
        },
        "outputId": "eddaad8d-b8b1-4156-8652-e8c75e86043c",
        "id": "-2BEAEhlobEx"
      },
      "execution_count": 112,
      "outputs": [
        {
          "output_type": "display_data",
          "data": {
            "text/plain": [
              "<Figure size 432x288 with 1 Axes>"
            ],
            "image/png": "[encoded data removed]"
          },
          "metadata": {
            "needs_background": "light"
          }
        }
      ]
    },
    {
      "cell_type": "code",
      "source": [
        "# Combine the parameters of the LSTM layer and linear layer\n",
        "params = list(rnn.parameters()) + list(fc.parameters())\n",
        "\n",
        "# Print the number of parameters\n",
        "print(\"Number of parameters:\", sum(p.numel() for p in params))\n",
        "\n",
        "for name, param in rnn.named_parameters():\n",
        "    print(\"Name: \", name)\n",
        "    print(\"shape: \", param.shape)\n",
        "    print(param)\n",
        "# Print the shapes of the parameters\n",
        "for name, param in fc.named_parameters():\n",
        "    print(\"Name: \", name)\n",
        "    print(\"shape: \", param.shape)\n",
        "    print(param)"
      ],
      "metadata": {
        "colab": {
          "base_uri": "https://localhost:8080/"
        },
        "outputId": "7ecf7110-93b6-4153-82e0-b291fc9072b5",
        "id": "ihzVc7T2obEx"
      },
      "execution_count": 113,
      "outputs": [
        {
          "output_type": "stream",
          "name": "stdout",
          "text": [
            "Number of parameters: 120\n",
            "Name:  weight_ih_l0\n",
            "shape:  torch.Size([6, 1])\n",
            "Parameter containing:\n",
            "tensor([[-0.8414],\n",
            "        [ 0.9114],\n",
            "        [ 0.9045],\n",
            "        [ 0.4599],\n",
            "        [ 0.2188],\n",
            "        [ 0.1276]], requires_grad=True)\n",
            "Name:  weight_hh_l0\n",
            "shape:  torch.Size([6, 6])\n",
            "Parameter containing:\n",
            "tensor([[-0.1140, -0.1597, -0.1740, -0.1036,  0.3144, -0.1587],\n",
            "        [ 0.0776, -0.3044, -0.3879, -0.2759,  0.1232, -0.0356],\n",
            "        [-0.0471,  0.3522,  0.1215, -0.0336, -0.0521,  0.3693],\n",
            "        [ 0.0164,  0.2419,  0.0861,  0.2870,  0.3733, -0.0289],\n",
            "        [ 0.2916, -0.3038, -0.2628, -0.0831, -0.1746,  0.1464],\n",
            "        [-0.0097, -0.3501,  0.2285,  0.0379, -0.0763, -0.0184]],\n",
            "       requires_grad=True)\n",
            "Name:  weight_ih_l1\n",
            "shape:  torch.Size([6, 6])\n",
            "Parameter containing:\n",
            "tensor([[ 0.1744, -0.2518, -0.2931, -0.5115, -0.1677, -0.2222],\n",
            "        [-0.2144,  0.6169,  0.2105, -0.1945,  0.2724,  0.4004],\n",
            "        [-0.1648, -0.1263,  0.6475,  0.4655,  0.6405,  0.0818],\n",
            "        [ 0.2835,  0.1885,  0.1579,  0.0426, -0.3151,  0.0815],\n",
            "        [-0.3008,  0.1396, -0.1487, -0.0558,  0.2798,  0.2776],\n",
            "        [ 0.1344, -0.1535, -0.3663, -0.3994, -0.3796, -0.3939]],\n",
            "       requires_grad=True)\n",
            "Name:  weight_hh_l1\n",
            "shape:  torch.Size([6, 6])\n",
            "Parameter containing:\n",
            "tensor([[ 0.3061, -0.0725,  0.3684, -0.0746, -0.3535,  0.3951],\n",
            "        [ 0.2344, -0.1249, -0.0620,  0.1978, -0.0349,  0.2001],\n",
            "        [-0.3149,  0.2621,  0.1013,  0.1565, -0.3771,  0.0187],\n",
            "        [-0.4067, -0.3177, -0.3469,  0.3927, -0.2126,  0.3454],\n",
            "        [-0.0482, -0.1322,  0.1864, -0.3621,  0.2722, -0.3602],\n",
            "        [-0.1749, -0.1994,  0.3799,  0.3254,  0.2142, -0.2979]],\n",
            "       requires_grad=True)\n",
            "Name:  weight\n",
            "shape:  torch.Size([1, 6])\n",
            "Parameter containing:\n",
            "tensor([[-0.3990,  0.3492,  0.4053,  0.0462, -0.0999, -0.0654]],\n",
            "       requires_grad=True)\n"
          ]
        }
      ]
    },
    {
      "cell_type": "code",
      "source": [],
      "metadata": {
        "id": "unVdvOLh37se"
      },
      "execution_count": null,
      "outputs": []
    }
  ]
}