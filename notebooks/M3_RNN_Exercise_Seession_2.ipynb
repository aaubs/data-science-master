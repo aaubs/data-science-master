{
  "nbformat": 4,
  "nbformat_minor": 0,
  "metadata": {
    "colab": {
      "provenance": [],
      "toc_visible": true,
      "authorship_tag": "ABX9TyP+BjzZOEijeVjsplPocIBd",
      "include_colab_link": true
    },
    "kernelspec": {
      "name": "python3",
      "display_name": "Python 3"
    },
    "language_info": {
      "name": "python"
    }
  },
  "cells": [
    {
      "cell_type": "markdown",
      "metadata": {
        "id": "view-in-github",
        "colab_type": "text"
      },
      "source": [
        "<a href=\"https://colab.research.google.com/github/aaubs/ds-master/blob/main/notebooks/M3_RNN_Exercise_Seession_2.ipynb\" target=\"_parent\"><img src=\"https://colab.research.google.com/assets/colab-badge.svg\" alt=\"Open In Colab\"/></a>"
      ]
    },
    {
      "cell_type": "markdown",
      "source": [
        "# How does PyTorch help to implement an RNN?\n",
        "\n",
        "Let's implement an RNN using PyTorch!"
      ],
      "metadata": {
        "id": "Ym_lp6rZyMvX"
      }
    },
    {
      "cell_type": "markdown",
      "source": [
        "### RNN with one layer configured as One-to-one"
      ],
      "metadata": {
        "id": "sA0Jw6jw1GGE"
      }
    },
    {
      "cell_type": "code",
      "execution_count": 58,
      "metadata": {
        "id": "FHf9wC3T0R7Z"
      },
      "outputs": [],
      "source": [
        "import torch\n",
        "from torch.autograd import Variable\n",
        "import numpy as np\n",
        "import pylab as pl\n",
        "import torch.nn.init as init"
      ]
    },
    {
      "cell_type": "markdown",
      "source": [
        "In this example, we have sequential data and we are going to implement an RNN with a one-to-one configuration!\n",
        "\n",
        "<img src=\"https://raw.githubusercontent.com/aaubs/ds-master/main/data/Images/SeqData_RNN.png\" width=\"400\">\n"
      ],
      "metadata": {
        "id": "uUI9NVqMygdG"
      }
    },
    {
      "cell_type": "code",
      "source": [
        "# Define the input size, hidden size and number of outputs\n",
        "input_size = 1\n",
        "hidden_size = 6\n",
        "output_size = 1\n",
        "num_layers = 1\n",
        "seq_length = 20\n",
        "\n",
        "data_time_steps = np.linspace(2, 10, seq_length + 1)\n",
        "data = np.sin(data_time_steps)\n",
        "data.resize((seq_length + 1, 1))\n",
        "\n",
        "x = Variable(torch.Tensor(data[:-1]).type(torch.FloatTensor), requires_grad=False)\n",
        "y = Variable(torch.Tensor(data[1:]).type(torch.FloatTensor), requires_grad=False)"
      ],
      "metadata": {
        "id": "d_3Uyse-0R7Z"
      },
      "execution_count": 59,
      "outputs": []
    },
    {
      "cell_type": "markdown",
      "source": [
        "In order to create an RNN, we follow the same steps as for implementing an ANN!\n",
        "\n",
        "1. Creating a Neural Network\n",
        "2. Network Evaluation\n",
        "3. Gradient Calculation\n",
        "4. Back Propagation\n",
        "5. Training\n"
      ],
      "metadata": {
        "id": "gerYVJoCzqAV"
      }
    },
    {
      "cell_type": "markdown",
      "source": [
        "<img src=\"https://raw.githubusercontent.com/aaubs/ds-master/main/data/Images/rnn_vis.gif\" width=\"400\">\n",
        "\n"
      ],
      "metadata": {
        "id": "_ESkv2lszgmZ"
      }
    },
    {
      "cell_type": "code",
      "source": [
        "# 1. Creating an RNN model\n",
        "rnn = torch.nn.RNN(input_size, hidden_size, bias=False)\n",
        "\n",
        "# Initialize the output layer\n",
        "fc = torch.nn.Linear(hidden_size, output_size, bias=False)\n",
        "\n",
        "\n",
        "# Define the loss function and optimizer\n",
        "criterion = torch.nn.MSELoss()\n",
        "optimizer = torch.optim.SGD(rnn.parameters(), lr=0.3)"
      ],
      "metadata": {
        "id": "2qQdk16m2hyW"
      },
      "execution_count": 60,
      "outputs": []
    },
    {
      "cell_type": "code",
      "source": [
        "# Combine the parameters of the LSTM layer and linear layer\n",
        "params = list(rnn.parameters()) + list(fc.parameters())\n",
        "\n",
        "# Print the number of parameters\n",
        "print(\"Number of parameters:\", sum(p.numel() for p in params))\n",
        "\n",
        "# Print the shapes of the parameters\n",
        "for name, param in rnn.named_parameters():\n",
        "    print(\"Name: \", name)\n",
        "    print(\"shape: \", param.shape)\n",
        "    print(param)\n",
        "# Print the shapes of the parameters\n",
        "for name, param in fc.named_parameters():\n",
        "    print(\"Name: \", name)\n",
        "    print(\"shape: \", param.shape)\n",
        "    print(param)"
      ],
      "metadata": {
        "colab": {
          "base_uri": "https://localhost:8080/"
        },
        "id": "0zWfVNQfEU3o",
        "outputId": "a0a59f4d-54d1-4c48-a504-89a7bc5ed2ef"
      },
      "execution_count": 61,
      "outputs": [
        {
          "output_type": "stream",
          "name": "stdout",
          "text": [
            "Number of parameters: 48\n",
            "Name:  weight_ih_l0\n",
            "shape:  torch.Size([6, 1])\n",
            "Parameter containing:\n",
            "tensor([[ 0.3839],\n",
            "        [ 0.3593],\n",
            "        [ 0.0060],\n",
            "        [-0.3075],\n",
            "        [ 0.0847],\n",
            "        [-0.0992]], requires_grad=True)\n",
            "Name:  weight_hh_l0\n",
            "shape:  torch.Size([6, 6])\n",
            "Parameter containing:\n",
            "tensor([[-0.0342, -0.0923,  0.3164, -0.3213, -0.2362,  0.0448],\n",
            "        [ 0.0689, -0.0234,  0.2356, -0.3403, -0.3464, -0.3829],\n",
            "        [ 0.1400,  0.1225, -0.2029,  0.0593, -0.1170,  0.1283],\n",
            "        [-0.2313, -0.0068,  0.2608,  0.1818, -0.1242,  0.3929],\n",
            "        [ 0.0261,  0.2292, -0.1017,  0.1113,  0.1534,  0.0371],\n",
            "        [ 0.1806, -0.1233, -0.1585, -0.3001, -0.1916,  0.2137]],\n",
            "       requires_grad=True)\n",
            "Name:  weight\n",
            "shape:  torch.Size([1, 6])\n",
            "Parameter containing:\n",
            "tensor([[-0.3144, -0.1719, -0.1845,  0.4061,  0.3334, -0.0543]],\n",
            "       requires_grad=True)\n"
          ]
        }
      ]
    },
    {
      "cell_type": "code",
      "source": [
        "epochs = 300\n",
        "seq_length = 1\n",
        "lr = 0.3"
      ],
      "metadata": {
        "id": "V2nwhZnTIqcR"
      },
      "execution_count": 14,
      "outputs": []
    },
    {
      "cell_type": "code",
      "source": [
        "for i in range(epochs):\n",
        "   total_loss = 0\n",
        "   \n",
        "   # Initialize the hidden state\n",
        "   h0 = torch.zeros(1, hidden_size)\n",
        "   for j in range(x.size(0)):\n",
        "      input = x[j:(j+1)]\n",
        "      target = y[j:(j+1)]\n",
        "\n",
        "      # Forward pass\n",
        "      out, hn = rnn(input, h0)\n",
        "\n",
        "      # 2. Model Evaluation\n",
        "      y_pred = fc(hn.squeeze(0))\n",
        "      loss = criterion(y_pred.view(-1), target)\n",
        "    \n",
        "      # 3. Gradient Calculation\n",
        "      optimizer.zero_grad()\n",
        "      total_loss += loss\n",
        "      loss.backward()\n",
        "\n",
        "      # 4. Back Propagation\n",
        "      optimizer.step()\n",
        "\n",
        "   # display loss \n",
        "   if i % 10 == 0:\n",
        "      print(\"Epoch: {} loss {}\".format(i, total_loss.data))"
      ],
      "metadata": {
        "colab": {
          "base_uri": "https://localhost:8080/"
        },
        "outputId": "993d9056-9924-4f59-b45d-fc8b2035db76",
        "id": "NmGOaqWb0R7a"
      },
      "execution_count": 62,
      "outputs": [
        {
          "output_type": "stream",
          "name": "stderr",
          "text": [
            "/usr/local/lib/python3.8/dist-packages/torch/nn/modules/loss.py:536: UserWarning: Using a target size (torch.Size([1, 1])) that is different to the input size (torch.Size([1])). This will likely lead to incorrect results due to broadcasting. Please ensure they have the same size.\n",
            "  return F.mse_loss(input, target, reduction=self.reduction)\n"
          ]
        },
        {
          "output_type": "stream",
          "name": "stdout",
          "text": [
            "Epoch: 0 loss 4.663549423217773\n",
            "Epoch: 10 loss 1.7029898166656494\n",
            "Epoch: 20 loss 1.7014976739883423\n",
            "Epoch: 30 loss 1.7004168033599854\n",
            "Epoch: 40 loss 1.6996159553527832\n",
            "Epoch: 50 loss 1.699011206626892\n",
            "Epoch: 60 loss 1.6985478401184082\n",
            "Epoch: 70 loss 1.6981881856918335\n",
            "Epoch: 80 loss 1.6979056596755981\n",
            "Epoch: 90 loss 1.6976819038391113\n",
            "Epoch: 100 loss 1.6975033283233643\n",
            "Epoch: 110 loss 1.6973594427108765\n",
            "Epoch: 120 loss 1.6972427368164062\n",
            "Epoch: 130 loss 1.697148084640503\n",
            "Epoch: 140 loss 1.6970702409744263\n",
            "Epoch: 150 loss 1.6970059871673584\n",
            "Epoch: 160 loss 1.6969528198242188\n",
            "Epoch: 170 loss 1.6969088315963745\n",
            "Epoch: 180 loss 1.6968718767166138\n",
            "Epoch: 190 loss 1.6968406438827515\n",
            "Epoch: 200 loss 1.6968140602111816\n",
            "Epoch: 210 loss 1.6967920064926147\n",
            "Epoch: 220 loss 1.696772813796997\n",
            "Epoch: 230 loss 1.6967568397521973\n",
            "Epoch: 240 loss 1.6967425346374512\n",
            "Epoch: 250 loss 1.6967302560806274\n",
            "Epoch: 260 loss 1.696719765663147\n",
            "Epoch: 270 loss 1.696710467338562\n",
            "Epoch: 280 loss 1.6967023611068726\n",
            "Epoch: 290 loss 1.69669508934021\n",
            "Epoch: 300 loss 1.6966890096664429\n",
            "Epoch: 310 loss 1.6966830492019653\n",
            "Epoch: 320 loss 1.6966781616210938\n",
            "Epoch: 330 loss 1.6966735124588013\n",
            "Epoch: 340 loss 1.6966696977615356\n",
            "Epoch: 350 loss 1.6966657638549805\n",
            "Epoch: 360 loss 1.696662187576294\n",
            "Epoch: 370 loss 1.6966590881347656\n",
            "Epoch: 380 loss 1.6966562271118164\n",
            "Epoch: 390 loss 1.6966536045074463\n",
            "Epoch: 400 loss 1.6966512203216553\n",
            "Epoch: 410 loss 1.6966487169265747\n",
            "Epoch: 420 loss 1.6966466903686523\n",
            "Epoch: 430 loss 1.6966450214385986\n",
            "Epoch: 440 loss 1.6966431140899658\n",
            "Epoch: 450 loss 1.696641206741333\n",
            "Epoch: 460 loss 1.696639895439148\n",
            "Epoch: 470 loss 1.6966384649276733\n",
            "Epoch: 480 loss 1.6966369152069092\n",
            "Epoch: 490 loss 1.6966357231140137\n",
            "Epoch: 500 loss 1.696634292602539\n",
            "Epoch: 510 loss 1.696633219718933\n",
            "Epoch: 520 loss 1.6966322660446167\n",
            "Epoch: 530 loss 1.6966313123703003\n",
            "Epoch: 540 loss 1.6966303586959839\n",
            "Epoch: 550 loss 1.6966291666030884\n",
            "Epoch: 560 loss 1.6966288089752197\n",
            "Epoch: 570 loss 1.6966276168823242\n",
            "Epoch: 580 loss 1.6966270208358765\n",
            "Epoch: 590 loss 1.6966261863708496\n",
            "Epoch: 600 loss 1.6966255903244019\n",
            "Epoch: 610 loss 1.696624755859375\n",
            "Epoch: 620 loss 1.6966243982315063\n",
            "Epoch: 630 loss 1.696623682975769\n",
            "Epoch: 640 loss 1.6966232061386108\n",
            "Epoch: 650 loss 1.696622610092163\n",
            "Epoch: 660 loss 1.6966220140457153\n",
            "Epoch: 670 loss 1.6966216564178467\n",
            "Epoch: 680 loss 1.6966214179992676\n",
            "Epoch: 690 loss 1.6966209411621094\n",
            "Epoch: 700 loss 1.6966203451156616\n",
            "Epoch: 710 loss 1.696620225906372\n",
            "Epoch: 720 loss 1.6966196298599243\n",
            "Epoch: 730 loss 1.6966192722320557\n",
            "Epoch: 740 loss 1.6966193914413452\n",
            "Epoch: 750 loss 1.6966190338134766\n",
            "Epoch: 760 loss 1.6966185569763184\n",
            "Epoch: 770 loss 1.6966184377670288\n",
            "Epoch: 780 loss 1.6966181993484497\n",
            "Epoch: 790 loss 1.6966180801391602\n",
            "Epoch: 800 loss 1.696617841720581\n",
            "Epoch: 810 loss 1.6966174840927124\n",
            "Epoch: 820 loss 1.6966173648834229\n",
            "Epoch: 830 loss 1.6966172456741333\n",
            "Epoch: 840 loss 1.6966170072555542\n",
            "Epoch: 850 loss 1.6966170072555542\n",
            "Epoch: 860 loss 1.696616768836975\n",
            "Epoch: 870 loss 1.6966164112091064\n",
            "Epoch: 880 loss 1.6966166496276855\n",
            "Epoch: 890 loss 1.696616291999817\n",
            "Epoch: 900 loss 1.696616291999817\n",
            "Epoch: 910 loss 1.696616291999817\n",
            "Epoch: 920 loss 1.6966159343719482\n",
            "Epoch: 930 loss 1.6966158151626587\n",
            "Epoch: 940 loss 1.6966159343719482\n",
            "Epoch: 950 loss 1.6966156959533691\n",
            "Epoch: 960 loss 1.6966156959533691\n",
            "Epoch: 970 loss 1.6966156959533691\n",
            "Epoch: 980 loss 1.6966155767440796\n",
            "Epoch: 990 loss 1.6966153383255005\n"
          ]
        }
      ]
    },
    {
      "cell_type": "code",
      "source": [
        "predictions = []\n",
        "\n",
        "for i in range(x.size(0)):\n",
        "   input = x[i:i+1]\n",
        "   # Forward pass\n",
        "   out, hn = rnn(input, h0)\n",
        "   # Pass the hidden state through the output layer\n",
        "   y_pred = fc(hn.squeeze(0))\n",
        "   predictions.append(y_pred.data.numpy().ravel()[0])"
      ],
      "metadata": {
        "id": "knhdQPnB3-4S"
      },
      "execution_count": 63,
      "outputs": []
    },
    {
      "cell_type": "code",
      "source": [
        "data_time_steps = np.linspace(2, 10, x.shape[0])\n",
        "\n",
        "pl.scatter(data_time_steps[:], y.data.numpy(), s = 90, label = \"Actual\")\n",
        "pl.scatter(data_time_steps[:], predictions, label = \"Predicted\")\n",
        "pl.legend()\n",
        "pl.show()"
      ],
      "metadata": {
        "colab": {
          "base_uri": "https://localhost:8080/",
          "height": 265
        },
        "outputId": "618a45f6-feec-45c3-818d-1b1fe8e7165a",
        "id": "Lt0EG_uf0R7a"
      },
      "execution_count": 64,
      "outputs": [
        {
          "output_type": "display_data",
          "data": {
            "text/plain": [
              "<Figure size 432x288 with 1 Axes>"
            ],
            "image/png": "[encoded data removed]"
          },
          "metadata": {
            "needs_background": "light"
          }
        }
      ]
    },
    {
      "cell_type": "code",
      "source": [
        "# Combine the parameters of the LSTM layer and linear layer\n",
        "params = list(rnn.parameters()) + list(fc.parameters())\n",
        "\n",
        "# Print the number of parameters\n",
        "print(\"Number of parameters:\", sum(p.numel() for p in params))\n",
        "\n",
        "for name, param in rnn.named_parameters():\n",
        "    print(\"Name: \", name)\n",
        "    print(\"shape: \", param.shape)\n",
        "    print(param)\n",
        "# Print the shapes of the parameters\n",
        "for name, param in fc.named_parameters():\n",
        "    print(\"Name: \", name)\n",
        "    print(\"shape: \", param.shape)\n",
        "    print(param)"
      ],
      "metadata": {
        "colab": {
          "base_uri": "https://localhost:8080/"
        },
        "id": "ZWM1b9iKMkKe",
        "outputId": "8db03ab3-47f0-4d74-983a-27cee564fb11"
      },
      "execution_count": 20,
      "outputs": [
        {
          "output_type": "stream",
          "name": "stdout",
          "text": [
            "Number of parameters: 48\n",
            "Name:  weight_ih_l0\n",
            "shape:  torch.Size([6, 1])\n",
            "Parameter containing:\n",
            "tensor([[-0.8065],\n",
            "        [ 0.1771],\n",
            "        [-0.8170],\n",
            "        [ 0.8130],\n",
            "        [ 0.8252],\n",
            "        [-0.8257]], requires_grad=True)\n",
            "Name:  weight_hh_l0\n",
            "shape:  torch.Size([6, 6])\n",
            "Parameter containing:\n",
            "tensor([[-3.2082e-01,  2.5052e-01, -1.2359e-01,  1.7802e-01,  8.7040e-02,\n",
            "         -1.6337e-01],\n",
            "        [-2.3736e-01,  3.7018e-01,  3.4390e-01, -3.2391e-02,  3.6817e-01,\n",
            "         -3.4018e-01],\n",
            "        [-2.9130e-01, -1.4683e-01,  6.7102e-02, -1.1024e-02, -8.6213e-02,\n",
            "          1.6474e-04],\n",
            "        [ 2.3286e-01,  2.3885e-01, -3.5169e-01, -3.4843e-01,  1.0673e-01,\n",
            "         -2.1323e-01],\n",
            "        [ 2.9536e-01,  2.4716e-01, -2.3826e-01, -2.2648e-02,  1.1460e-01,\n",
            "         -3.9898e-01],\n",
            "        [ 2.8494e-01, -3.8583e-01,  6.8416e-02, -2.5032e-01,  2.9895e-01,\n",
            "         -1.7028e-01]], requires_grad=True)\n",
            "Name:  weight\n",
            "shape:  torch.Size([1, 6])\n",
            "Parameter containing:\n",
            "tensor([[-0.1924,  0.0106, -0.2410,  0.2252,  0.2757, -0.2778]],\n",
            "       requires_grad=True)\n"
          ]
        }
      ]
    },
    {
      "cell_type": "markdown",
      "source": [
        "### RNN with one layer configured as Many-to-one"
      ],
      "metadata": {
        "id": "nSM0mLVo1CKt"
      }
    },
    {
      "cell_type": "code",
      "execution_count": 65,
      "metadata": {
        "id": "LoLoL_Ch4lGy"
      },
      "outputs": [],
      "source": [
        "import torch\n",
        "from torch.autograd import Variable\n",
        "import numpy as np\n",
        "import pylab as pl\n",
        "import torch.nn.init as init"
      ]
    },
    {
      "cell_type": "markdown",
      "source": [
        "In this example, we have sequential data and we are going to implement an RNN with a Many-to-one configuration!\n",
        "\n",
        "<img src=\"https://raw.githubusercontent.com/aaubs/ds-master/main/data/Images/SeqData_RNN.png\" width=\"400\">\n"
      ],
      "metadata": {
        "id": "I6nhIROx4lG0"
      }
    },
    {
      "cell_type": "code",
      "source": [
        "# Define the input size, hidden size and number of outputs\n",
        "input_size = 2\n",
        "hidden_size = 6\n",
        "output_size = 1\n",
        "num_layers = 1\n",
        "seq_length = 20\n",
        "\n",
        "data_time_steps = np.linspace(2, 10, seq_length + 1)\n",
        "data = np.sin(data_time_steps)\n",
        "data.resize((seq_length + 1, 1))\n",
        "\n",
        "x = Variable(torch.Tensor(data[:-1]).type(torch.FloatTensor), requires_grad=False)\n",
        "y = Variable(torch.Tensor(data[1:]).type(torch.FloatTensor), requires_grad=False)"
      ],
      "metadata": {
        "id": "tWuwKnF34lG0"
      },
      "execution_count": 66,
      "outputs": []
    },
    {
      "cell_type": "markdown",
      "source": [
        "In order to create an RNN, we follow the same steps as for implementing an ANN!\n",
        "\n",
        "1. Creating a Neural Network\n",
        "2. Network Evaluation\n",
        "3. Gradient Calculation\n",
        "4. Back Propagation\n",
        "5. Training\n"
      ],
      "metadata": {
        "id": "sEh2BwiU4lG0"
      }
    },
    {
      "cell_type": "markdown",
      "source": [
        "<img src=\"https://raw.githubusercontent.com/aaubs/ds-master/main/data/Images/rnn_vis.gif\" width=\"400\">\n",
        "\n"
      ],
      "metadata": {
        "id": "seVVpB6V4lG1"
      }
    },
    {
      "cell_type": "code",
      "source": [
        "# 1. Creating an RNN model\n",
        "rnn = torch.nn.RNN(input_size, hidden_size, bias=False)\n",
        "\n",
        "# Initialize the output layer\n",
        "fc = torch.nn.Linear(hidden_size, output_size, bias=False)\n",
        "\n",
        "\n",
        "# Define the loss function and optimizer\n",
        "criterion = torch.nn.MSELoss()\n",
        "optimizer = torch.optim.SGD(rnn.parameters(), lr=0.3)"
      ],
      "metadata": {
        "id": "dcknom2b4lG1"
      },
      "execution_count": 67,
      "outputs": []
    },
    {
      "cell_type": "code",
      "source": [
        "# Combine the parameters of the LSTM layer and linear layer\n",
        "params = list(rnn.parameters()) + list(fc.parameters())\n",
        "\n",
        "# Print the number of parameters\n",
        "print(\"Number of parameters:\", sum(p.numel() for p in params))\n",
        "\n",
        "# Print the shapes of the parameters\n",
        "for name, param in rnn.named_parameters():\n",
        "    print(\"Name: \", name)\n",
        "    print(\"shape: \", param.shape)\n",
        "    print(param)\n",
        "# Print the shapes of the parameters\n",
        "for name, param in fc.named_parameters():\n",
        "    print(\"Name: \", name)\n",
        "    print(\"shape: \", param.shape)\n",
        "    print(param)"
      ],
      "metadata": {
        "colab": {
          "base_uri": "https://localhost:8080/"
        },
        "outputId": "8bb5927e-1b9d-4c1a-84b6-6aaa08c2fc1b",
        "id": "dMl6mfqJ4lG1"
      },
      "execution_count": 68,
      "outputs": [
        {
          "output_type": "stream",
          "name": "stdout",
          "text": [
            "Number of parameters: 54\n",
            "Name:  weight_ih_l0\n",
            "shape:  torch.Size([6, 2])\n",
            "Parameter containing:\n",
            "tensor([[ 0.1972, -0.2539],\n",
            "        [-0.1686,  0.3213],\n",
            "        [ 0.3860,  0.1619],\n",
            "        [ 0.2199, -0.3887],\n",
            "        [ 0.2631, -0.3738],\n",
            "        [-0.3716,  0.1908]], requires_grad=True)\n",
            "Name:  weight_hh_l0\n",
            "shape:  torch.Size([6, 6])\n",
            "Parameter containing:\n",
            "tensor([[ 0.2076,  0.1659,  0.1476,  0.1567, -0.2824,  0.2494],\n",
            "        [-0.2183, -0.1542,  0.1734,  0.0442,  0.0307, -0.0092],\n",
            "        [-0.2469, -0.3998, -0.3396,  0.3520,  0.1074,  0.0057],\n",
            "        [-0.2816,  0.3824, -0.0446, -0.1048,  0.2515,  0.1607],\n",
            "        [-0.1352, -0.2461,  0.0843,  0.1480, -0.2529, -0.3741],\n",
            "        [-0.3007, -0.3699,  0.1233,  0.0510, -0.1828, -0.2400]],\n",
            "       requires_grad=True)\n",
            "Name:  weight\n",
            "shape:  torch.Size([1, 6])\n",
            "Parameter containing:\n",
            "tensor([[ 0.0460,  0.0649,  0.2891, -0.0740,  0.0914, -0.1281]],\n",
            "       requires_grad=True)\n"
          ]
        }
      ]
    },
    {
      "cell_type": "code",
      "source": [
        "epochs = 300\n",
        "seq_length = 1\n",
        "lr = 0.1"
      ],
      "metadata": {
        "id": "9xt5Mhxw4lG1"
      },
      "execution_count": 69,
      "outputs": []
    },
    {
      "cell_type": "code",
      "source": [
        "for i in range(epochs):\n",
        "   total_loss = 0\n",
        "\n",
        "   # Initialize the hidden state\n",
        "   h0 = torch.zeros(1,  hidden_size)\n",
        "   \n",
        "   for j in range(x.size(0) - 1):\n",
        "      input = x[j:(j+2)]\n",
        "      target = y[j:(j+2)]\n",
        "\n",
        "      # Forward pass\n",
        "      out, hn = rnn(input.t(), h0)\n",
        "\n",
        "      # 2. Model Evaluation\n",
        "      y_pred = fc(hn.squeeze(0))\n",
        "      loss = criterion(y_pred.view(-1), target)\n",
        "    \n",
        "      # 3. Gradient Calculation\n",
        "      optimizer.zero_grad()\n",
        "      total_loss += loss\n",
        "      loss.backward()\n",
        "\n",
        "      # 4. Back Propagation\n",
        "      optimizer.step()\n",
        "\n",
        "   # display loss \n",
        "   if i % 10 == 0:\n",
        "      print(\"Epoch: {} loss {}\".format(i, total_loss.data))"
      ],
      "metadata": {
        "colab": {
          "base_uri": "https://localhost:8080/"
        },
        "outputId": "8bd4d1d5-5861-449f-b133-340c5376d3dc",
        "id": "hpPy5_y94lG1"
      },
      "execution_count": 70,
      "outputs": [
        {
          "output_type": "stream",
          "name": "stderr",
          "text": [
            "/usr/local/lib/python3.8/dist-packages/torch/nn/modules/loss.py:536: UserWarning: Using a target size (torch.Size([2, 1])) that is different to the input size (torch.Size([1])). This will likely lead to incorrect results due to broadcasting. Please ensure they have the same size.\n",
            "  return F.mse_loss(input, target, reduction=self.reduction)\n"
          ]
        },
        {
          "output_type": "stream",
          "name": "stdout",
          "text": [
            "Epoch: 0 loss 4.4336838722229\n",
            "Epoch: 10 loss 1.7661694288253784\n",
            "Epoch: 20 loss 1.3932373523712158\n",
            "Epoch: 30 loss 1.1979223489761353\n",
            "Epoch: 40 loss 1.0892937183380127\n",
            "Epoch: 50 loss 1.0232353210449219\n",
            "Epoch: 60 loss 0.9800454378128052\n",
            "Epoch: 70 loss 0.9501742124557495\n",
            "Epoch: 80 loss 0.9285774230957031\n",
            "Epoch: 90 loss 0.9123901724815369\n",
            "Epoch: 100 loss 0.899886965751648\n",
            "Epoch: 110 loss 0.8899769186973572\n",
            "Epoch: 120 loss 0.8819431662559509\n",
            "Epoch: 130 loss 0.8752987384796143\n",
            "Epoch: 140 loss 0.8697041869163513\n",
            "Epoch: 150 loss 0.864916980266571\n",
            "Epoch: 160 loss 0.8607602119445801\n",
            "Epoch: 170 loss 0.8571029901504517\n",
            "Epoch: 180 loss 0.853847324848175\n",
            "Epoch: 190 loss 0.8509175777435303\n",
            "Epoch: 200 loss 0.8482558727264404\n",
            "Epoch: 210 loss 0.8458172082901001\n",
            "Epoch: 220 loss 0.8435659408569336\n",
            "Epoch: 230 loss 0.841473400592804\n",
            "Epoch: 240 loss 0.8395176529884338\n",
            "Epoch: 250 loss 0.8376795053482056\n",
            "Epoch: 260 loss 0.8359445929527283\n",
            "Epoch: 270 loss 0.8343004584312439\n",
            "Epoch: 280 loss 0.8327372670173645\n",
            "Epoch: 290 loss 0.8312463760375977\n"
          ]
        }
      ]
    },
    {
      "cell_type": "code",
      "source": [
        "predictions = []\n",
        "\n",
        "for i in range(x.size(0) - 1):\n",
        "   input = x[i:i+2]\n",
        "   # Forward pass\n",
        "   out, hn = rnn(input.t(), h0)\n",
        "   # Pass the hidden state through the output layer\n",
        "   y_pred = fc(hn.squeeze(0))\n",
        "   predictions.append(y_pred.data.numpy().ravel()[0])"
      ],
      "metadata": {
        "id": "cw6YVtGb4lG2"
      },
      "execution_count": 71,
      "outputs": []
    },
    {
      "cell_type": "code",
      "source": [
        "data_time_steps = np.linspace(2, 10, x.shape[0])\n",
        "\n",
        "pl.scatter(data_time_steps[:-1], y.data[:-1].numpy(), s = 90, label = \"Actual\")\n",
        "pl.scatter(data_time_steps[:-1], predictions, label = \"Predicted\")\n",
        "pl.legend()\n",
        "pl.show()"
      ],
      "metadata": {
        "colab": {
          "base_uri": "https://localhost:8080/",
          "height": 265
        },
        "outputId": "8f95dc6b-ec22-4c49-de2c-e7bc3396e786",
        "id": "w_NszNfw4lG2"
      },
      "execution_count": 72,
      "outputs": [
        {
          "output_type": "display_data",
          "data": {
            "text/plain": [
              "<Figure size 432x288 with 1 Axes>"
            ],
            "image/png": "[encoded data removed]"
          },
          "metadata": {
            "needs_background": "light"
          }
        }
      ]
    },
    {
      "cell_type": "code",
      "source": [
        "# Combine the parameters of the LSTM layer and linear layer\n",
        "params = list(rnn.parameters()) + list(fc.parameters())\n",
        "\n",
        "# Print the number of parameters\n",
        "print(\"Number of parameters:\", sum(p.numel() for p in params))\n",
        "\n",
        "for name, param in rnn.named_parameters():\n",
        "    print(\"Name: \", name)\n",
        "    print(\"shape: \", param.shape)\n",
        "    print(param)\n",
        "# Print the shapes of the parameters\n",
        "for name, param in fc.named_parameters():\n",
        "    print(\"Name: \", name)\n",
        "    print(\"shape: \", param.shape)\n",
        "    print(param)"
      ],
      "metadata": {
        "colab": {
          "base_uri": "https://localhost:8080/"
        },
        "outputId": "96c9e8b7-7a30-4cdf-c1c0-dd467ddb0649",
        "id": "2XV0zGJl4lG2"
      },
      "execution_count": 44,
      "outputs": [
        {
          "output_type": "stream",
          "name": "stdout",
          "text": [
            "Number of parameters: 54\n",
            "Name:  weight_ih_l0\n",
            "shape:  torch.Size([6, 2])\n",
            "Parameter containing:\n",
            "tensor([[-1.0623,  1.6469],\n",
            "        [-0.2183,  0.4557],\n",
            "        [ 0.0235, -0.9632],\n",
            "        [-0.2005,  1.0576],\n",
            "        [-0.5270, -0.6371],\n",
            "        [ 0.4598, -1.2108]], requires_grad=True)\n",
            "Name:  weight_hh_l0\n",
            "shape:  torch.Size([6, 6])\n",
            "Parameter containing:\n",
            "tensor([[-0.3402,  0.1997, -0.2267, -0.1469, -0.0959, -0.0933],\n",
            "        [-0.0663,  0.3926,  0.0180, -0.0361,  0.3734, -0.2884],\n",
            "        [ 0.2821,  0.0024,  0.4007,  0.3000,  0.2085, -0.3537],\n",
            "        [-0.0050,  0.3329, -0.3460, -0.0841,  0.1212, -0.2376],\n",
            "        [-0.0543, -0.1468,  0.0025, -0.4041, -0.3034, -0.0545],\n",
            "        [ 0.2107,  0.1552,  0.1369,  0.1960, -0.3657, -0.2092]],\n",
            "       requires_grad=True)\n",
            "Name:  weight\n",
            "shape:  torch.Size([1, 6])\n",
            "Parameter containing:\n",
            "tensor([[ 0.3965,  0.0039, -0.3568,  0.2759, -0.0582, -0.2657]],\n",
            "       requires_grad=True)\n"
          ]
        }
      ]
    },
    {
      "cell_type": "markdown",
      "source": [
        "## RNN with two layers configured as One-to-one"
      ],
      "metadata": {
        "id": "C76RCcIt7is9"
      }
    },
    {
      "cell_type": "markdown",
      "source": [
        "In this example, we have sequential data and we are going to implement an RNN with 2 layers and a One-to-one configuration!\n",
        "\n",
        "<img src=\"https://raw.githubusercontent.com/aaubs/ds-master/main/data/Images/SeqData_RNN.png\" width=\"400\">\n"
      ],
      "metadata": {
        "id": "F8UiN-s074BJ"
      }
    },
    {
      "cell_type": "markdown",
      "source": [
        "Let's use non-linear data with more complexity in this step!"
      ],
      "metadata": {
        "id": "PVCL5Ex99IBZ"
      }
    },
    {
      "cell_type": "code",
      "source": [
        "# Define the input size, hidden size and number of outputs\n",
        "input_size = 1\n",
        "hidden_size = 6\n",
        "output_size = 1\n",
        "num_layers = 2\n",
        "seq_length = 20\n",
        "\n",
        "data_time_steps = np.linspace(2, 10, seq_length + 1)\n",
        "data = np.sin(data_time_steps)\n",
        "data.resize((seq_length + 1, 1))\n",
        "\n",
        "x = Variable(torch.Tensor(data[:-1]).type(torch.FloatTensor), requires_grad=False)\n",
        "y = Variable(torch.Tensor(data[1:]).type(torch.FloatTensor), requires_grad=False)"
      ],
      "metadata": {
        "id": "HmEvnoDX74BJ"
      },
      "execution_count": 45,
      "outputs": []
    },
    {
      "cell_type": "markdown",
      "source": [
        "In order to create an RNN, we follow the same steps as for implementing an ANN!\n",
        "\n",
        "1. Creating a Neural Network\n",
        "2. Network Evaluation\n",
        "3. Gradient Calculation\n",
        "4. Back Propagation\n",
        "5. Training\n"
      ],
      "metadata": {
        "id": "3HWQFctV74BJ"
      }
    },
    {
      "cell_type": "markdown",
      "source": [
        "<img src=\"https://raw.githubusercontent.com/aaubs/ds-master/main/data/Images/rnn_vis.gif\" width=\"400\">\n",
        "\n"
      ],
      "metadata": {
        "id": "oMPNEvsa74BK"
      }
    },
    {
      "cell_type": "code",
      "source": [
        "# 1. Creating a RNN model\n",
        "rnn = torch.nn.RNN(input_size, hidden_size, bias=False, nonlinearity='tanh', num_layers=2)\n",
        "\n",
        "# Initialize the output layer\n",
        "fc = torch.nn.Linear(hidden_size, output_size, bias=False)\n",
        "\n",
        "\n",
        "# Define the loss function and optimizer\n",
        "criterion = torch.nn.MSELoss()\n",
        "optimizer = torch.optim.SGD(rnn.parameters(), lr=0.01)"
      ],
      "metadata": {
        "id": "m4TOKiExobEv"
      },
      "execution_count": 52,
      "outputs": []
    },
    {
      "cell_type": "code",
      "source": [
        "# Combine the parameters of the LSTM layer and linear layer\n",
        "params = list(rnn.parameters()) + list(fc.parameters())\n",
        "\n",
        "# Print the number of parameters\n",
        "print(\"Number of parameters:\", sum(p.numel() for p in params))\n",
        "\n",
        "# Print the shapes of the parameters\n",
        "for name, param in rnn.named_parameters():\n",
        "    print(\"Name: \", name)\n",
        "    print(\"shape: \", param.shape)\n",
        "    print(param)\n",
        "# Print the shapes of the parameters\n",
        "for name, param in fc.named_parameters():\n",
        "    print(\"Name: \", name)\n",
        "    print(\"shape: \", param.shape)\n",
        "    print(param)"
      ],
      "metadata": {
        "colab": {
          "base_uri": "https://localhost:8080/"
        },
        "outputId": "2df0b999-a2b6-4ba2-bbfd-73bafe1470ed",
        "id": "nM7eanghobEv"
      },
      "execution_count": 53,
      "outputs": [
        {
          "output_type": "stream",
          "name": "stdout",
          "text": [
            "Number of parameters: 120\n",
            "Name:  weight_ih_l0\n",
            "shape:  torch.Size([6, 1])\n",
            "Parameter containing:\n",
            "tensor([[-0.2962],\n",
            "        [-0.0924],\n",
            "        [-0.1140],\n",
            "        [ 0.1116],\n",
            "        [-0.1332],\n",
            "        [-0.3197]], requires_grad=True)\n",
            "Name:  weight_hh_l0\n",
            "shape:  torch.Size([6, 6])\n",
            "Parameter containing:\n",
            "tensor([[ 0.0702, -0.3971, -0.1220,  0.3464, -0.4012, -0.1342],\n",
            "        [-0.0741, -0.2294, -0.2343,  0.2221,  0.1027,  0.0859],\n",
            "        [-0.1500,  0.2303, -0.1509, -0.1526,  0.1217,  0.1330],\n",
            "        [-0.2623, -0.1567, -0.3532, -0.1206,  0.1613, -0.2738],\n",
            "        [ 0.3611,  0.1287,  0.1213,  0.3848,  0.1694,  0.0507],\n",
            "        [-0.2864, -0.1079,  0.2135,  0.3350,  0.3289, -0.0052]],\n",
            "       requires_grad=True)\n",
            "Name:  weight_ih_l1\n",
            "shape:  torch.Size([6, 6])\n",
            "Parameter containing:\n",
            "tensor([[-0.2557, -0.1266, -0.0105, -0.0474, -0.3792,  0.0272],\n",
            "        [-0.1698, -0.3576,  0.3857,  0.3411,  0.1472, -0.0063],\n",
            "        [-0.0951,  0.1553, -0.0015, -0.3038,  0.2031,  0.0342],\n",
            "        [ 0.3653, -0.3807, -0.1899, -0.1531, -0.3310,  0.2915],\n",
            "        [ 0.0861, -0.1050,  0.0598,  0.4075, -0.0578,  0.0123],\n",
            "        [-0.1890,  0.1220,  0.3706,  0.1488, -0.3179,  0.3522]],\n",
            "       requires_grad=True)\n",
            "Name:  weight_hh_l1\n",
            "shape:  torch.Size([6, 6])\n",
            "Parameter containing:\n",
            "tensor([[ 0.0927, -0.3384, -0.2182, -0.2229, -0.1464, -0.0110],\n",
            "        [ 0.1692, -0.0676,  0.0146,  0.3252, -0.1155, -0.2267],\n",
            "        [-0.0482,  0.3331,  0.0579, -0.2706,  0.0171,  0.3930],\n",
            "        [ 0.0613, -0.0247, -0.2617,  0.0233,  0.0802,  0.2453],\n",
            "        [ 0.4007, -0.3648,  0.0061,  0.0429,  0.3116,  0.2397],\n",
            "        [ 0.1728, -0.0131,  0.0154,  0.3645,  0.2591, -0.3280]],\n",
            "       requires_grad=True)\n",
            "Name:  weight\n",
            "shape:  torch.Size([1, 6])\n",
            "Parameter containing:\n",
            "tensor([[-0.1276,  0.0378, -0.1213,  0.1985, -0.3247,  0.2363]],\n",
            "       requires_grad=True)\n"
          ]
        }
      ]
    },
    {
      "cell_type": "code",
      "source": [
        "epochs = 1000\n",
        "lr = 0.1"
      ],
      "metadata": {
        "id": "fKSW4152obEw"
      },
      "execution_count": 48,
      "outputs": []
    },
    {
      "cell_type": "markdown",
      "source": [
        "### Find the error in the code and explain why it is wrong?"
      ],
      "metadata": {
        "id": "9AlTUdpRyohC"
      }
    },
    {
      "cell_type": "code",
      "source": [
        "for i in range(epochs):\n",
        "   total_loss = 0\n",
        "   for j in range(x.size(0)-3):\n",
        "      input = x[j:(j+1)]\n",
        "      target = y[j:(j+1)]\n",
        "\n",
        "      # Initialize the hidden state\n",
        "      h0 = torch.zeros(2, hidden_size)\n",
        "\n",
        "      # Forward pass\n",
        "      out, hn = rnn(input, h0)\n",
        "\n",
        "      # 2. Model Evaluation\n",
        "      y_pred = fc(hn.squeeze(0))\n",
        "      loss = criterion(y_pred.view(-1), target)\n",
        "    \n",
        "      # 3. Gradient Calculation\n",
        "      optimizer.zero_grad()\n",
        "      total_loss += loss\n",
        "      loss.backward()\n",
        "\n",
        "      # 4. Back Propagation\n",
        "      optimizer.step()\n",
        "\n",
        "   # display loss \n",
        "   if i % 10 == 0:\n",
        "      print(\"Epoch: {} loss {}\".format(i, total_loss.data))"
      ],
      "metadata": {
        "colab": {
          "base_uri": "https://localhost:8080/"
        },
        "outputId": "fa9c4b36-0b34-4af9-b66a-ac503ff7e11d",
        "id": "705R15JoobEw"
      },
      "execution_count": 54,
      "outputs": [
        {
          "output_type": "stream",
          "name": "stdout",
          "text": [
            "Epoch: 0 loss 8.37125301361084\n",
            "Epoch: 10 loss 6.3956685066223145\n",
            "Epoch: 20 loss 4.73377799987793\n",
            "Epoch: 30 loss 3.4398276805877686\n",
            "Epoch: 40 loss 2.59870982170105\n",
            "Epoch: 50 loss 2.109647274017334\n",
            "Epoch: 60 loss 1.8306785821914673\n",
            "Epoch: 70 loss 1.667047142982483\n",
            "Epoch: 80 loss 1.5670651197433472\n",
            "Epoch: 90 loss 1.503443717956543\n",
            "Epoch: 100 loss 1.4614301919937134\n",
            "Epoch: 110 loss 1.4327354431152344\n",
            "Epoch: 120 loss 1.412517786026001\n",
            "Epoch: 130 loss 1.3978482484817505\n",
            "Epoch: 140 loss 1.386900544166565\n",
            "Epoch: 150 loss 1.3785068988800049\n",
            "Epoch: 160 loss 1.3719035387039185\n",
            "Epoch: 170 loss 1.3665800094604492\n",
            "Epoch: 180 loss 1.3621913194656372\n",
            "Epoch: 190 loss 1.3584990501403809\n",
            "Epoch: 200 loss 1.3553358316421509\n",
            "Epoch: 210 loss 1.3525831699371338\n",
            "Epoch: 220 loss 1.3501561880111694\n",
            "Epoch: 230 loss 1.3479923009872437\n",
            "Epoch: 240 loss 1.3460447788238525\n",
            "Epoch: 250 loss 1.344278335571289\n",
            "Epoch: 260 loss 1.342665672302246\n",
            "Epoch: 270 loss 1.3411855697631836\n",
            "Epoch: 280 loss 1.339821219444275\n",
            "Epoch: 290 loss 1.338558316230774\n",
            "Epoch: 300 loss 1.3373857736587524\n",
            "Epoch: 310 loss 1.3362934589385986\n",
            "Epoch: 320 loss 1.3352736234664917\n",
            "Epoch: 330 loss 1.3343188762664795\n",
            "Epoch: 340 loss 1.333423137664795\n",
            "Epoch: 350 loss 1.3325810432434082\n",
            "Epoch: 360 loss 1.331787347793579\n",
            "Epoch: 370 loss 1.331038475036621\n",
            "Epoch: 380 loss 1.3303302526474\n",
            "Epoch: 390 loss 1.329659342765808\n",
            "Epoch: 400 loss 1.3290225267410278\n",
            "Epoch: 410 loss 1.3284175395965576\n",
            "Epoch: 420 loss 1.3278415203094482\n",
            "Epoch: 430 loss 1.3272923231124878\n",
            "Epoch: 440 loss 1.326768159866333\n",
            "Epoch: 450 loss 1.3262666463851929\n",
            "Epoch: 460 loss 1.3257864713668823\n",
            "Epoch: 470 loss 1.3253265619277954\n",
            "Epoch: 480 loss 1.3248848915100098\n",
            "Epoch: 490 loss 1.3244602680206299\n",
            "Epoch: 500 loss 1.324051856994629\n",
            "Epoch: 510 loss 1.3236585855484009\n",
            "Epoch: 520 loss 1.3232793807983398\n",
            "Epoch: 530 loss 1.3229135274887085\n",
            "Epoch: 540 loss 1.3225599527359009\n",
            "Epoch: 550 loss 1.3222180604934692\n",
            "Epoch: 560 loss 1.3218872547149658\n",
            "Epoch: 570 loss 1.3215668201446533\n",
            "Epoch: 580 loss 1.3212566375732422\n",
            "Epoch: 590 loss 1.3209556341171265\n",
            "Epoch: 600 loss 1.3206634521484375\n",
            "Epoch: 610 loss 1.3203798532485962\n",
            "Epoch: 620 loss 1.3201041221618652\n",
            "Epoch: 630 loss 1.3198362588882446\n",
            "Epoch: 640 loss 1.3195750713348389\n",
            "Epoch: 650 loss 1.319321632385254\n",
            "Epoch: 660 loss 1.3190743923187256\n",
            "Epoch: 670 loss 1.3188337087631226\n",
            "Epoch: 680 loss 1.3185992240905762\n",
            "Epoch: 690 loss 1.3183704614639282\n",
            "Epoch: 700 loss 1.31814706325531\n",
            "Epoch: 710 loss 1.3179293870925903\n",
            "Epoch: 720 loss 1.3177169561386108\n",
            "Epoch: 730 loss 1.3175095319747925\n",
            "Epoch: 740 loss 1.3173067569732666\n",
            "Epoch: 750 loss 1.3171087503433228\n",
            "Epoch: 760 loss 1.3169150352478027\n",
            "Epoch: 770 loss 1.3167260885238647\n",
            "Epoch: 780 loss 1.3165411949157715\n",
            "Epoch: 790 loss 1.3163602352142334\n",
            "Epoch: 800 loss 1.31618332862854\n",
            "Epoch: 810 loss 1.3160099983215332\n",
            "Epoch: 820 loss 1.315840482711792\n",
            "Epoch: 830 loss 1.3156746625900269\n",
            "Epoch: 840 loss 1.3155124187469482\n",
            "Epoch: 850 loss 1.315353274345398\n",
            "Epoch: 860 loss 1.3151975870132446\n",
            "Epoch: 870 loss 1.3150451183319092\n",
            "Epoch: 880 loss 1.3148956298828125\n",
            "Epoch: 890 loss 1.3147492408752441\n",
            "Epoch: 900 loss 1.314605712890625\n",
            "Epoch: 910 loss 1.314465045928955\n",
            "Epoch: 920 loss 1.3143272399902344\n",
            "Epoch: 930 loss 1.3141920566558838\n",
            "Epoch: 940 loss 1.3140594959259033\n",
            "Epoch: 950 loss 1.313929557800293\n",
            "Epoch: 960 loss 1.3138022422790527\n",
            "Epoch: 970 loss 1.313677191734314\n",
            "Epoch: 980 loss 1.3135544061660767\n",
            "Epoch: 990 loss 1.3134342432022095\n"
          ]
        }
      ]
    },
    {
      "cell_type": "code",
      "source": [
        "predictions = []\n",
        "\n",
        "for i in range(x.size(0)):\n",
        "   input = x[i:i+1]\n",
        "\n",
        "   # Forward pass\n",
        "   out, hn = rnn(input, h0)\n",
        "   # Pass the hidden state through the output layer\n",
        "   y_pred = fc(hn.squeeze(0))\n",
        "   predictions.append(y_pred.data.numpy().ravel()[0])"
      ],
      "metadata": {
        "id": "YBtvHBlXobEw"
      },
      "execution_count": 55,
      "outputs": []
    },
    {
      "cell_type": "code",
      "source": [
        "len(predictions)"
      ],
      "metadata": {
        "colab": {
          "base_uri": "https://localhost:8080/"
        },
        "outputId": "9c7073e0-b9e1-45f2-f586-8fbbd0f4192f",
        "id": "Fc3w_fJFobEx"
      },
      "execution_count": 125,
      "outputs": [
        {
          "output_type": "execute_result",
          "data": {
            "text/plain": [
              "20"
            ]
          },
          "metadata": {},
          "execution_count": 125
        }
      ]
    },
    {
      "cell_type": "code",
      "source": [
        "pl.scatter(data_time_steps[:-1], y.data[:].numpy().tolist(), s = 90, label = \"Actual\")\n",
        "pl.scatter(data_time_steps[1:], predictions, label = \"Predicted\")\n",
        "pl.legend()\n",
        "pl.show()"
      ],
      "metadata": {
        "colab": {
          "base_uri": "https://localhost:8080/",
          "height": 265
        },
        "outputId": "8ffae0e8-e82d-4460-ef5d-15910c83aa11",
        "id": "-2BEAEhlobEx"
      },
      "execution_count": 56,
      "outputs": [
        {
          "output_type": "display_data",
          "data": {
            "text/plain": [
              "<Figure size 432x288 with 1 Axes>"
            ],
            "image/png": "[encoded data removed]"
          },
          "metadata": {
            "needs_background": "light"
          }
        }
      ]
    },
    {
      "cell_type": "code",
      "source": [
        "# Combine the parameters of the LSTM layer and linear layer\n",
        "params = list(rnn.parameters()) + list(fc.parameters())\n",
        "\n",
        "# Print the number of parameters\n",
        "print(\"Number of parameters:\", sum(p.numel() for p in params))\n",
        "\n",
        "for name, param in rnn.named_parameters():\n",
        "    print(\"Name: \", name)\n",
        "    print(\"shape: \", param.shape)\n",
        "    print(param)\n",
        "# Print the shapes of the parameters\n",
        "for name, param in fc.named_parameters():\n",
        "    print(\"Name: \", name)\n",
        "    print(\"shape: \", param.shape)\n",
        "    print(param)"
      ],
      "metadata": {
        "colab": {
          "base_uri": "https://localhost:8080/"
        },
        "outputId": "28b154c0-bdee-4373-c0c8-a455d8c5ae03",
        "id": "ihzVc7T2obEx"
      },
      "execution_count": 57,
      "outputs": [
        {
          "output_type": "stream",
          "name": "stdout",
          "text": [
            "Number of parameters: 120\n",
            "Name:  weight_ih_l0\n",
            "shape:  torch.Size([6, 1])\n",
            "Parameter containing:\n",
            "tensor([[-0.9744],\n",
            "        [-0.0609],\n",
            "        [-0.8666],\n",
            "        [ 1.0766],\n",
            "        [-1.2802],\n",
            "        [ 1.0829]], requires_grad=True)\n",
            "Name:  weight_hh_l0\n",
            "shape:  torch.Size([6, 6])\n",
            "Parameter containing:\n",
            "tensor([[ 0.0702, -0.3971, -0.1220,  0.3464, -0.4012, -0.1342],\n",
            "        [-0.0741, -0.2294, -0.2343,  0.2221,  0.1027,  0.0859],\n",
            "        [-0.1500,  0.2303, -0.1509, -0.1526,  0.1217,  0.1330],\n",
            "        [-0.2623, -0.1567, -0.3532, -0.1206,  0.1613, -0.2738],\n",
            "        [ 0.3611,  0.1287,  0.1213,  0.3848,  0.1694,  0.0507],\n",
            "        [-0.2864, -0.1079,  0.2135,  0.3350,  0.3289, -0.0052]],\n",
            "       requires_grad=True)\n",
            "Name:  weight_ih_l1\n",
            "shape:  torch.Size([6, 6])\n",
            "Parameter containing:\n",
            "tensor([[ 0.0989, -0.0411,  0.2407, -0.3282,  0.0240, -0.1828],\n",
            "        [-0.2841, -0.3840,  0.3032,  0.4334,  0.0172,  0.0645],\n",
            "        [ 0.1103,  0.2124,  0.1280, -0.4453,  0.4320, -0.0399],\n",
            "        [ 0.0957, -0.4609, -0.3480,  0.0169, -0.6277,  0.3512],\n",
            "        [ 0.5444,  0.0305,  0.3288,  0.1174,  0.4503, -0.0941],\n",
            "        [-0.4267,  0.0447,  0.2456,  0.2791, -0.5715,  0.3566]],\n",
            "       requires_grad=True)\n",
            "Name:  weight_hh_l1\n",
            "shape:  torch.Size([6, 6])\n",
            "Parameter containing:\n",
            "tensor([[ 0.0927, -0.3384, -0.2182, -0.2229, -0.1464, -0.0110],\n",
            "        [ 0.1692, -0.0676,  0.0146,  0.3252, -0.1155, -0.2267],\n",
            "        [-0.0482,  0.3331,  0.0579, -0.2706,  0.0171,  0.3930],\n",
            "        [ 0.0613, -0.0247, -0.2617,  0.0233,  0.0802,  0.2453],\n",
            "        [ 0.4007, -0.3648,  0.0061,  0.0429,  0.3116,  0.2397],\n",
            "        [ 0.1728, -0.0131,  0.0154,  0.3645,  0.2591, -0.3280]],\n",
            "       requires_grad=True)\n",
            "Name:  weight\n",
            "shape:  torch.Size([1, 6])\n",
            "Parameter containing:\n",
            "tensor([[-0.1276,  0.0378, -0.1213,  0.1985, -0.3247,  0.2363]],\n",
            "       requires_grad=True)\n"
          ]
        }
      ]
    }
  ]
}