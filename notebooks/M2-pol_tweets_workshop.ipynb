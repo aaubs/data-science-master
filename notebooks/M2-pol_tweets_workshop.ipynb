{
  "nbformat": 4,
  "nbformat_minor": 0,
  "metadata": {
    "colab": {
      "provenance": [],
      "collapsed_sections": [],
      "authorship_tag": "ABX9TyNzfwX0bHHUmXDu9QCjLCYO",
      "include_colab_link": true
    },
    "kernelspec": {
      "name": "python3",
      "display_name": "Python 3"
    },
    "language_info": {
      "name": "python"
    }
  },
  "cells": [
    {
      "cell_type": "markdown",
      "metadata": {
        "id": "view-in-github",
        "colab_type": "text"
      },
      "source": [
        "<a href=\"https://colab.research.google.com/github/aaubs/ds-master/blob/main/notebooks/M2-pol_tweets_workshop.ipynb\" target=\"_parent\"><img src=\"https://colab.research.google.com/assets/colab-badge.svg\" alt=\"Open In Colab\"/></a>"
      ]
    },
    {
      "cell_type": "code",
      "source": [
        "!pip install tweet-preprocessor -q\n",
        "\n",
        "# Installing Gensim and PyLDAvis\n",
        "!pip install -qq -U gensim\n",
        "!pip install -qq pyLDAvis"
      ],
      "metadata": {
        "id": "a7ClxNmEW8-L",
        "colab": {
          "base_uri": "https://localhost:8080/"
        },
        "outputId": "530c9dcd-8c96-4726-fbfc-7c41859553e4"
      },
      "execution_count": 1,
      "outputs": [
        {
          "output_type": "stream",
          "name": "stdout",
          "text": [
            "\u001b[K     |████████████████████████████████| 24.1 MB 5.3 MB/s \n",
            "\u001b[K     |████████████████████████████████| 1.7 MB 6.2 MB/s \n",
            "\u001b[?25h  Installing build dependencies ... \u001b[?25l\u001b[?25hdone\n",
            "  Getting requirements to build wheel ... \u001b[?25l\u001b[?25hdone\n",
            "  Installing backend dependencies ... \u001b[?25l\u001b[?25hdone\n",
            "    Preparing wheel metadata ... \u001b[?25l\u001b[?25hdone\n",
            "  Building wheel for pyLDAvis (PEP 517) ... \u001b[?25l\u001b[?25hdone\n",
            "  Building wheel for sklearn (setup.py) ... \u001b[?25l\u001b[?25hdone\n"
          ]
        }
      ]
    },
    {
      "cell_type": "code",
      "source": [
        "# explainability (why did the model say it's hate speech)\n",
        "!pip install eli5"
      ],
      "metadata": {
        "id": "Yfx3zk8hOcRI",
        "colab": {
          "base_uri": "https://localhost:8080/"
        },
        "outputId": "5e415fa8-ea07-4485-f0c2-ff6b336bdf86"
      },
      "execution_count": 2,
      "outputs": [
        {
          "output_type": "stream",
          "name": "stdout",
          "text": [
            "Looking in indexes: https://pypi.org/simple, https://us-python.pkg.dev/colab-wheels/public/simple/\n",
            "Collecting eli5\n",
            "  Downloading eli5-0.13.0.tar.gz (216 kB)\n",
            "\u001b[K     |████████████████████████████████| 216 kB 6.9 MB/s \n",
            "\u001b[?25hRequirement already satisfied: attrs>17.1.0 in /usr/local/lib/python3.7/dist-packages (from eli5) (22.1.0)\n",
            "Collecting jinja2>=3.0.0\n",
            "  Downloading Jinja2-3.1.2-py3-none-any.whl (133 kB)\n",
            "\u001b[K     |████████████████████████████████| 133 kB 59.7 MB/s \n",
            "\u001b[?25hRequirement already satisfied: numpy>=1.9.0 in /usr/local/lib/python3.7/dist-packages (from eli5) (1.21.6)\n",
            "Requirement already satisfied: scipy in /usr/local/lib/python3.7/dist-packages (from eli5) (1.7.3)\n",
            "Requirement already satisfied: six in /usr/local/lib/python3.7/dist-packages (from eli5) (1.15.0)\n",
            "Requirement already satisfied: scikit-learn>=0.20 in /usr/local/lib/python3.7/dist-packages (from eli5) (1.0.2)\n",
            "Requirement already satisfied: graphviz in /usr/local/lib/python3.7/dist-packages (from eli5) (0.10.1)\n",
            "Requirement already satisfied: tabulate>=0.7.7 in /usr/local/lib/python3.7/dist-packages (from eli5) (0.8.10)\n",
            "Requirement already satisfied: MarkupSafe>=2.0 in /usr/local/lib/python3.7/dist-packages (from jinja2>=3.0.0->eli5) (2.0.1)\n",
            "Requirement already satisfied: threadpoolctl>=2.0.0 in /usr/local/lib/python3.7/dist-packages (from scikit-learn>=0.20->eli5) (3.1.0)\n",
            "Requirement already satisfied: joblib>=0.11 in /usr/local/lib/python3.7/dist-packages (from scikit-learn>=0.20->eli5) (1.2.0)\n",
            "Building wheels for collected packages: eli5\n",
            "  Building wheel for eli5 (setup.py) ... \u001b[?25l\u001b[?25hdone\n",
            "  Created wheel for eli5: filename=eli5-0.13.0-py2.py3-none-any.whl size=107748 sha256=c31b9a40a895e284a27c56567775361f5e62f9ae4dd8e39fb6c23a4353903d3f\n",
            "  Stored in directory: /root/.cache/pip/wheels/cc/3c/96/3ead31a8e6c20fc0f1a707fde2e05d49a80b1b4b30096573be\n",
            "Successfully built eli5\n",
            "Installing collected packages: jinja2, eli5\n",
            "  Attempting uninstall: jinja2\n",
            "    Found existing installation: Jinja2 2.11.3\n",
            "    Uninstalling Jinja2-2.11.3:\n",
            "      Successfully uninstalled Jinja2-2.11.3\n",
            "\u001b[31mERROR: pip's dependency resolver does not currently take into account all the packages that are installed. This behaviour is the source of the following dependency conflicts.\n",
            "flask 1.1.4 requires Jinja2<3.0,>=2.10.1, but you have jinja2 3.1.2 which is incompatible.\u001b[0m\n",
            "Successfully installed eli5-0.13.0 jinja2-3.1.2\n"
          ]
        }
      ]
    },
    {
      "cell_type": "code",
      "metadata": {
        "id": "HMGBKNqTRcNu"
      },
      "source": [
        "import pandas as pd\n",
        "import numpy as np\n",
        "import preprocessor as prepro # twitter prepro\n",
        "import tqdm #progress bar\n",
        "\n",
        "import spacy #spacy for quick language prepro\n",
        "nlp = spacy.load('en_core_web_sm') #instantiating English module\n",
        "\n",
        "# sampling, splitting\n",
        "from imblearn.under_sampling import RandomUnderSampler\n",
        "from sklearn.model_selection import train_test_split\n",
        "\n",
        "\n",
        "# loading ML libraries\n",
        "from sklearn.pipeline import make_pipeline #pipeline creation\n",
        "from sklearn.feature_extraction.text import TfidfVectorizer #transforms text to sparse matrix\n",
        "from sklearn.linear_model import LogisticRegression #Logit model\n",
        "from sklearn.metrics import classification_report #that's self explanatory\n",
        "from sklearn.decomposition import TruncatedSVD #dimensionality reduction\n",
        "from xgboost import XGBClassifier\n",
        "\n",
        "import altair as alt #viz\n",
        "\n",
        "#explainability\n",
        "import eli5\n",
        "from eli5.lime import TextExplainer\n",
        "\n",
        "# topic modeling\n",
        "\n",
        "from gensim.corpora.dictionary import Dictionary # Import the dictionary builder\n",
        "from gensim.models import LdaMulticore # we'll use the faster multicore version of LDA\n",
        "\n",
        "# Import pyLDAvis\n",
        "import pyLDAvis\n",
        "import pyLDAvis.gensim_models as gensimvis\n",
        "\n",
        "%matplotlib inline\n",
        "pyLDAvis.enable_notebook()"
      ],
      "execution_count": 4,
      "outputs": []
    },
    {
      "cell_type": "code",
      "metadata": {
        "id": "xsQWaTU41ksj"
      },
      "source": [
        "# prepro settings\n",
        "prepro.set_options(prepro.OPT.URL, prepro.OPT.NUMBER, prepro.OPT.RESERVED, prepro.OPT.MENTION, prepro.OPT.SMILEY)"
      ],
      "execution_count": 5,
      "outputs": []
    },
    {
      "cell_type": "code",
      "source": [
        "pol_tweets = pd.read_json('https://github.com/SDS-AAU/SDS-master/raw/master/M2/data/pol_tweets.gz')"
      ],
      "metadata": {
        "id": "au8JEktn4ZSB"
      },
      "execution_count": 6,
      "outputs": []
    },
    {
      "cell_type": "code",
      "source": [
        "print(pol_tweets.iloc[-1]['text'])\n",
        "print(pol_tweets.iloc[-1]['labels'])"
      ],
      "metadata": {
        "colab": {
          "base_uri": "https://localhost:8080/"
        },
        "id": "q4b0E9St4gl2",
        "outputId": "0828c48b-9c20-480b-8a6c-ed2744a84277"
      },
      "execution_count": 7,
      "outputs": [
        {
          "output_type": "stream",
          "name": "stdout",
          "text": [
            "The President claims his administration is, \"defending religious freedom.\" But just four days ago, he expanded his international travel ban targeting Muslim countries. #SOTU http://pbs.twimg.com/media/EP-z5XwXUAAaXo5.png\n",
            "1\n"
          ]
        }
      ]
    },
    {
      "cell_type": "code",
      "source": [
        "# write everything into one function that can be re-used later\n",
        "def text_prepro(texts):\n",
        "  \"\"\"\n",
        "  takes in a pandas series (1 column of a DF)\n",
        "  removes twitter stuff\n",
        "  lowercases, normalizes text\n",
        "  \"\"\"\n",
        "  texts_clean = texts.map(lambda t: prepro.clean(t))\n",
        "  texts_clean = texts_clean.str.replace('#','')\n",
        "\n",
        "  clean_container = []\n",
        "\n",
        "  pbar = tqdm.tqdm(total=len(texts_clean),position=0, leave=True)\n",
        "\n",
        "  for text in nlp.pipe(texts_clean, disable=[\"tagger\", \"parser\", \"ner\"]):\n",
        "\n",
        "    txt = [token.lemma_.lower() for token in text \n",
        "          if token.is_alpha \n",
        "          and not token.is_stop \n",
        "          and not token.is_punct]\n",
        "\n",
        "    clean_container.append(\" \".join(txt))\n",
        "    pbar.update(1)\n",
        "  \n",
        "  return clean_container"
      ],
      "metadata": {
        "id": "-8_LooEbCkNy"
      },
      "execution_count": 8,
      "outputs": []
    },
    {
      "cell_type": "code",
      "source": [
        "# apply all prepro-pipeline to texts\n",
        "pol_tweets['text_clean'] = text_prepro(pol_tweets['text'])"
      ],
      "metadata": {
        "colab": {
          "base_uri": "https://localhost:8080/"
        },
        "id": "qPLMu4XPCj3s",
        "outputId": "e52903c0-34da-4783-dd34-c6855d29183a"
      },
      "execution_count": 9,
      "outputs": [
        {
          "output_type": "stream",
          "name": "stderr",
          "text": [
            "  0%|          | 0/50000 [00:00<?, ?it/s]/usr/local/lib/python3.7/dist-packages/spacy/pipeline/lemmatizer.py:211: UserWarning: [W108] The rule-based lemmatizer did not find POS annotation for one or more tokens. Check that your pipeline includes components that assign token.pos, typically 'tagger'+'attribute_ruler' or 'morphologizer'.\n",
            "  warnings.warn(Warnings.W108)\n",
            "100%|██████████| 50000/50000 [02:32<00:00, 328.10it/s]\n"
          ]
        }
      ]
    },
    {
      "cell_type": "code",
      "source": [
        "pol_tweets.labels.value_counts().reset_index()"
      ],
      "metadata": {
        "colab": {
          "base_uri": "https://localhost:8080/",
          "height": 112
        },
        "id": "iUuwD1PiEQdL",
        "outputId": "1cf85d76-4ecb-4d50-e36a-1057c55fb3ff"
      },
      "execution_count": 10,
      "outputs": [
        {
          "output_type": "execute_result",
          "data": {
            "text/plain": [
              "   index  labels\n",
              "0      1   31181\n",
              "1      0   18819"
            ],
            "text/html": [
              "\n",
              "  <div id=\"df-1a80f3fd-54ae-4274-8519-235e91e5945f\">\n",
              "    <div class=\"colab-df-container\">\n",
              "      <div>\n",
              "<style scoped>\n",
              "    .dataframe tbody tr th:only-of-type {\n",
              "        vertical-align: middle;\n",
              "    }\n",
              "\n",
              "    .dataframe tbody tr th {\n",
              "        vertical-align: top;\n",
              "    }\n",
              "\n",
              "    .dataframe thead th {\n",
              "        text-align: right;\n",
              "    }\n",
              "</style>\n",
              "<table border=\"1\" class=\"dataframe\">\n",
              "  <thead>\n",
              "    <tr style=\"text-align: right;\">\n",
              "      <th></th>\n",
              "      <th>index</th>\n",
              "      <th>labels</th>\n",
              "    </tr>\n",
              "  </thead>\n",
              "  <tbody>\n",
              "    <tr>\n",
              "      <th>0</th>\n",
              "      <td>1</td>\n",
              "      <td>31181</td>\n",
              "    </tr>\n",
              "    <tr>\n",
              "      <th>1</th>\n",
              "      <td>0</td>\n",
              "      <td>18819</td>\n",
              "    </tr>\n",
              "  </tbody>\n",
              "</table>\n",
              "</div>\n",
              "      <button class=\"colab-df-convert\" onclick=\"convertToInteractive('df-1a80f3fd-54ae-4274-8519-235e91e5945f')\"\n",
              "              title=\"Convert this dataframe to an interactive table.\"\n",
              "              style=\"display:none;\">\n",
              "        \n",
              "  <svg xmlns=\"http://www.w3.org/2000/svg\" height=\"24px\"viewBox=\"0 0 24 24\"\n",
              "       width=\"24px\">\n",
              "    <path d=\"M0 0h24v24H0V0z\" fill=\"none\"/>\n",
              "    <path d=\"M18.56 5.44l.94 2.06.94-2.06 2.06-.94-2.06-.94-.94-2.06-.94 2.06-2.06.94zm-11 1L8.5 8.5l.94-2.06 2.06-.94-2.06-.94L8.5 2.5l-.94 2.06-2.06.94zm10 10l.94 2.06.94-2.06 2.06-.94-2.06-.94-.94-2.06-.94 2.06-2.06.94z\"/><path d=\"M17.41 7.96l-1.37-1.37c-.4-.4-.92-.59-1.43-.59-.52 0-1.04.2-1.43.59L10.3 9.45l-7.72 7.72c-.78.78-.78 2.05 0 2.83L4 21.41c.39.39.9.59 1.41.59.51 0 1.02-.2 1.41-.59l7.78-7.78 2.81-2.81c.8-.78.8-2.07 0-2.86zM5.41 20L4 18.59l7.72-7.72 1.47 1.35L5.41 20z\"/>\n",
              "  </svg>\n",
              "      </button>\n",
              "      \n",
              "  <style>\n",
              "    .colab-df-container {\n",
              "      display:flex;\n",
              "      flex-wrap:wrap;\n",
              "      gap: 12px;\n",
              "    }\n",
              "\n",
              "    .colab-df-convert {\n",
              "      background-color: #E8F0FE;\n",
              "      border: none;\n",
              "      border-radius: 50%;\n",
              "      cursor: pointer;\n",
              "      display: none;\n",
              "      fill: #1967D2;\n",
              "      height: 32px;\n",
              "      padding: 0 0 0 0;\n",
              "      width: 32px;\n",
              "    }\n",
              "\n",
              "    .colab-df-convert:hover {\n",
              "      background-color: #E2EBFA;\n",
              "      box-shadow: 0px 1px 2px rgba(60, 64, 67, 0.3), 0px 1px 3px 1px rgba(60, 64, 67, 0.15);\n",
              "      fill: #174EA6;\n",
              "    }\n",
              "\n",
              "    [theme=dark] .colab-df-convert {\n",
              "      background-color: #3B4455;\n",
              "      fill: #D2E3FC;\n",
              "    }\n",
              "\n",
              "    [theme=dark] .colab-df-convert:hover {\n",
              "      background-color: #434B5C;\n",
              "      box-shadow: 0px 1px 3px 1px rgba(0, 0, 0, 0.15);\n",
              "      filter: drop-shadow(0px 1px 2px rgba(0, 0, 0, 0.3));\n",
              "      fill: #FFFFFF;\n",
              "    }\n",
              "  </style>\n",
              "\n",
              "      <script>\n",
              "        const buttonEl =\n",
              "          document.querySelector('#df-1a80f3fd-54ae-4274-8519-235e91e5945f button.colab-df-convert');\n",
              "        buttonEl.style.display =\n",
              "          google.colab.kernel.accessAllowed ? 'block' : 'none';\n",
              "\n",
              "        async function convertToInteractive(key) {\n",
              "          const element = document.querySelector('#df-1a80f3fd-54ae-4274-8519-235e91e5945f');\n",
              "          const dataTable =\n",
              "            await google.colab.kernel.invokeFunction('convertToInteractive',\n",
              "                                                     [key], {});\n",
              "          if (!dataTable) return;\n",
              "\n",
              "          const docLinkHtml = 'Like what you see? Visit the ' +\n",
              "            '<a target=\"_blank\" href=https://colab.research.google.com/notebooks/data_table.ipynb>data table notebook</a>'\n",
              "            + ' to learn more about interactive tables.';\n",
              "          element.innerHTML = '';\n",
              "          dataTable['output_type'] = 'display_data';\n",
              "          await google.colab.output.renderOutput(dataTable, element);\n",
              "          const docLink = document.createElement('div');\n",
              "          docLink.innerHTML = docLinkHtml;\n",
              "          element.appendChild(docLink);\n",
              "        }\n",
              "      </script>\n",
              "    </div>\n",
              "  </div>\n",
              "  "
            ]
          },
          "metadata": {},
          "execution_count": 10
        }
      ]
    },
    {
      "cell_type": "code",
      "source": [
        "# fixing sample imbalance\n",
        "rus = RandomUnderSampler(random_state=42)\n",
        "data_df_res, y_res = rus.fit_resample(pol_tweets, pol_tweets['labels'])"
      ],
      "metadata": {
        "id": "ncSGL6iNEQLc"
      },
      "execution_count": 11,
      "outputs": []
    },
    {
      "cell_type": "code",
      "source": [
        "# Splitting the dataset into the Training set and Test set (since we have a new output variable)\n",
        "X_train, X_test, y_train, y_test = train_test_split(pol_tweets['text_clean'], pol_tweets['labels'], test_size = 0.4, stratify=pol_tweets['labels'], random_state = 42)"
      ],
      "metadata": {
        "id": "9M5Q4jJxEw3C"
      },
      "execution_count": 12,
      "outputs": []
    },
    {
      "cell_type": "code",
      "source": [
        "#instantiate models and \"bundle up as pipeline\"\n",
        "\n",
        "tfidf = TfidfVectorizer()\n",
        "cls = LogisticRegression()\n",
        "\n",
        "pipe = make_pipeline(tfidf, cls)"
      ],
      "metadata": {
        "id": "hZl3ys9WFKTN"
      },
      "execution_count": 13,
      "outputs": []
    },
    {
      "cell_type": "code",
      "source": [
        "pipe.fit(X_train,y_train) # fit model"
      ],
      "metadata": {
        "colab": {
          "base_uri": "https://localhost:8080/"
        },
        "id": "okQT5dM3E1C1",
        "outputId": "d8095990-ed26-4601-97f2-fab25da57e76"
      },
      "execution_count": 14,
      "outputs": [
        {
          "output_type": "execute_result",
          "data": {
            "text/plain": [
              "Pipeline(steps=[('tfidfvectorizer', TfidfVectorizer()),\n",
              "                ('logisticregression', LogisticRegression())])"
            ]
          },
          "metadata": {},
          "execution_count": 14
        }
      ]
    },
    {
      "cell_type": "code",
      "source": [
        "# evaluate model performance on training set\n",
        "\n",
        "y_eval = pipe.predict(X_train)\n",
        "report = classification_report(y_train, y_eval)\n",
        "print(report)"
      ],
      "metadata": {
        "colab": {
          "base_uri": "https://localhost:8080/"
        },
        "id": "6ne8wlHfHfyL",
        "outputId": "ef5fed38-6df7-4dde-aac5-3801e9c185ff"
      },
      "execution_count": 15,
      "outputs": [
        {
          "output_type": "stream",
          "name": "stdout",
          "text": [
            "              precision    recall  f1-score   support\n",
            "\n",
            "           0       0.88      0.70      0.78     11291\n",
            "           1       0.84      0.94      0.89     18709\n",
            "\n",
            "    accuracy                           0.85     30000\n",
            "   macro avg       0.86      0.82      0.83     30000\n",
            "weighted avg       0.85      0.85      0.85     30000\n",
            "\n"
          ]
        }
      ]
    },
    {
      "cell_type": "code",
      "source": [
        "# overall weights (works only for linear models)\n",
        "eli5.show_weights(pipe, top=20, target_names=['Rep.','Dem.'])"
      ],
      "metadata": {
        "colab": {
          "base_uri": "https://localhost:8080/",
          "height": 526
        },
        "id": "FSnVKv5dHfiC",
        "outputId": "631e2a86-337b-45ce-8d2d-ce78e8ae60ab"
      },
      "execution_count": 16,
      "outputs": [
        {
          "output_type": "stream",
          "name": "stderr",
          "text": [
            "/usr/local/lib/python3.7/dist-packages/sklearn/utils/deprecation.py:87: FutureWarning: Function get_feature_names is deprecated; get_feature_names is deprecated in 1.0 and will be removed in 1.2. Please use get_feature_names_out instead.\n",
            "  warnings.warn(msg, category=FutureWarning)\n"
          ]
        },
        {
          "output_type": "execute_result",
          "data": {
            "text/plain": [
              "<IPython.core.display.HTML object>"
            ],
            "text/html": [
              "\n",
              "    <style>\n",
              "    table.eli5-weights tr:hover {\n",
              "        filter: brightness(85%);\n",
              "    }\n",
              "</style>\n",
              "\n",
              "\n",
              "\n",
              "    \n",
              "\n",
              "    \n",
              "\n",
              "    \n",
              "\n",
              "    \n",
              "\n",
              "    \n",
              "\n",
              "    \n",
              "\n",
              "\n",
              "    \n",
              "\n",
              "    \n",
              "\n",
              "    \n",
              "\n",
              "    \n",
              "        \n",
              "\n",
              "    \n",
              "\n",
              "        \n",
              "            \n",
              "                \n",
              "                \n",
              "    \n",
              "        <p style=\"margin-bottom: 0.5em; margin-top: 0em\">\n",
              "            <b>\n",
              "    \n",
              "        y=Dem.\n",
              "    \n",
              "</b>\n",
              "\n",
              "top features\n",
              "        </p>\n",
              "    \n",
              "    <table class=\"eli5-weights\"\n",
              "           style=\"border-collapse: collapse; border: none; margin-top: 0em; table-layout: auto; margin-bottom: 2em;\">\n",
              "        <thead>\n",
              "        <tr style=\"border: none;\">\n",
              "            \n",
              "                <th style=\"padding: 0 1em 0 0.5em; text-align: right; border: none;\" title=\"Feature weights. Note that weights do not account for feature value scales, so if feature values have different scales, features with highest weights might not be the most important.\">\n",
              "                    Weight<sup>?</sup>\n",
              "                </th>\n",
              "            \n",
              "            <th style=\"padding: 0 0.5em 0 0.5em; text-align: left; border: none;\">Feature</th>\n",
              "            \n",
              "        </tr>\n",
              "        </thead>\n",
              "        <tbody>\n",
              "        \n",
              "            <tr style=\"background-color: hsl(120, 100.00%, 80.32%); border: none;\">\n",
              "    <td style=\"padding: 0 1em 0 0.5em; text-align: right; border: none;\">\n",
              "        +6.395\n",
              "    </td>\n",
              "    <td style=\"padding: 0 0.5em 0 0.5em; text-align: left; border: none;\">\n",
              "        trump\n",
              "    </td>\n",
              "    \n",
              "</tr>\n",
              "        \n",
              "            <tr style=\"background-color: hsl(120, 100.00%, 85.23%); border: none;\">\n",
              "    <td style=\"padding: 0 1em 0 0.5em; text-align: right; border: none;\">\n",
              "        +4.247\n",
              "    </td>\n",
              "    <td style=\"padding: 0 0.5em 0 0.5em; text-align: left; border: none;\">\n",
              "        black\n",
              "    </td>\n",
              "    \n",
              "</tr>\n",
              "        \n",
              "            <tr style=\"background-color: hsl(120, 100.00%, 85.24%); border: none;\">\n",
              "    <td style=\"padding: 0 1em 0 0.5em; text-align: right; border: none;\">\n",
              "        +4.243\n",
              "    </td>\n",
              "    <td style=\"padding: 0 0.5em 0 0.5em; text-align: left; border: none;\">\n",
              "        forthepeople\n",
              "    </td>\n",
              "    \n",
              "</tr>\n",
              "        \n",
              "            <tr style=\"background-color: hsl(120, 100.00%, 85.98%); border: none;\">\n",
              "    <td style=\"padding: 0 1em 0 0.5em; text-align: right; border: none;\">\n",
              "        +3.942\n",
              "    </td>\n",
              "    <td style=\"padding: 0 0.5em 0 0.5em; text-align: left; border: none;\">\n",
              "        climate\n",
              "    </td>\n",
              "    \n",
              "</tr>\n",
              "        \n",
              "            <tr style=\"background-color: hsl(120, 100.00%, 86.24%); border: none;\">\n",
              "    <td style=\"padding: 0 1em 0 0.5em; text-align: right; border: none;\">\n",
              "        +3.838\n",
              "    </td>\n",
              "    <td style=\"padding: 0 0.5em 0 0.5em; text-align: left; border: none;\">\n",
              "        democracy\n",
              "    </td>\n",
              "    \n",
              "</tr>\n",
              "        \n",
              "            <tr style=\"background-color: hsl(120, 100.00%, 87.33%); border: none;\">\n",
              "    <td style=\"padding: 0 1em 0 0.5em; text-align: right; border: none;\">\n",
              "        +3.409\n",
              "    </td>\n",
              "    <td style=\"padding: 0 0.5em 0 0.5em; text-align: left; border: none;\">\n",
              "        heroesact\n",
              "    </td>\n",
              "    \n",
              "</tr>\n",
              "        \n",
              "        \n",
              "            <tr style=\"background-color: hsl(120, 100.00%, 87.33%); border: none;\">\n",
              "                <td colspan=\"2\" style=\"padding: 0 0.5em 0 0.5em; text-align: center; border: none; white-space: nowrap;\">\n",
              "                    <i>&hellip; 17515 more positive &hellip;</i>\n",
              "                </td>\n",
              "            </tr>\n",
              "        \n",
              "\n",
              "        \n",
              "            <tr style=\"background-color: hsl(0, 100.00%, 88.22%); border: none;\">\n",
              "                <td colspan=\"2\" style=\"padding: 0 0.5em 0 0.5em; text-align: center; border: none; white-space: nowrap;\">\n",
              "                    <i>&hellip; 12942 more negative &hellip;</i>\n",
              "                </td>\n",
              "            </tr>\n",
              "        \n",
              "        \n",
              "            <tr style=\"background-color: hsl(0, 100.00%, 88.22%); border: none;\">\n",
              "    <td style=\"padding: 0 1em 0 0.5em; text-align: right; border: none;\">\n",
              "        -3.074\n",
              "    </td>\n",
              "    <td style=\"padding: 0 0.5em 0 0.5em; text-align: left; border: none;\">\n",
              "        usmca\n",
              "    </td>\n",
              "    \n",
              "</tr>\n",
              "        \n",
              "            <tr style=\"background-color: hsl(0, 100.00%, 88.04%); border: none;\">\n",
              "    <td style=\"padding: 0 1em 0 0.5em; text-align: right; border: none;\">\n",
              "        -3.141\n",
              "    </td>\n",
              "    <td style=\"padding: 0 0.5em 0 0.5em; text-align: left; border: none;\">\n",
              "        communist\n",
              "    </td>\n",
              "    \n",
              "</tr>\n",
              "        \n",
              "            <tr style=\"background-color: hsl(0, 100.00%, 87.91%); border: none;\">\n",
              "    <td style=\"padding: 0 1em 0 0.5em; text-align: right; border: none;\">\n",
              "        -3.190\n",
              "    </td>\n",
              "    <td style=\"padding: 0 0.5em 0 0.5em; text-align: left; border: none;\">\n",
              "        freedom\n",
              "    </td>\n",
              "    \n",
              "</tr>\n",
              "        \n",
              "            <tr style=\"background-color: hsl(0, 100.00%, 87.68%); border: none;\">\n",
              "    <td style=\"padding: 0 1em 0 0.5em; text-align: right; border: none;\">\n",
              "        -3.277\n",
              "    </td>\n",
              "    <td style=\"padding: 0 0.5em 0 0.5em; text-align: left; border: none;\">\n",
              "        texas\n",
              "    </td>\n",
              "    \n",
              "</tr>\n",
              "        \n",
              "            <tr style=\"background-color: hsl(0, 100.00%, 87.24%); border: none;\">\n",
              "    <td style=\"padding: 0 1em 0 0.5em; text-align: right; border: none;\">\n",
              "        -3.443\n",
              "    </td>\n",
              "    <td style=\"padding: 0 0.5em 0 0.5em; text-align: left; border: none;\">\n",
              "        democrat\n",
              "    </td>\n",
              "    \n",
              "</tr>\n",
              "        \n",
              "            <tr style=\"background-color: hsl(0, 100.00%, 86.78%); border: none;\">\n",
              "    <td style=\"padding: 0 1em 0 0.5em; text-align: right; border: none;\">\n",
              "        -3.623\n",
              "    </td>\n",
              "    <td style=\"padding: 0 0.5em 0 0.5em; text-align: left; border: none;\">\n",
              "        ccp\n",
              "    </td>\n",
              "    \n",
              "</tr>\n",
              "        \n",
              "            <tr style=\"background-color: hsl(0, 100.00%, 86.72%); border: none;\">\n",
              "    <td style=\"padding: 0 1em 0 0.5em; text-align: right; border: none;\">\n",
              "        -3.648\n",
              "    </td>\n",
              "    <td style=\"padding: 0 0.5em 0 0.5em; text-align: left; border: none;\">\n",
              "        kentucky\n",
              "    </td>\n",
              "    \n",
              "</tr>\n",
              "        \n",
              "            <tr style=\"background-color: hsl(0, 100.00%, 85.96%); border: none;\">\n",
              "    <td style=\"padding: 0 1em 0 0.5em; text-align: right; border: none;\">\n",
              "        -3.948\n",
              "    </td>\n",
              "    <td style=\"padding: 0 0.5em 0 0.5em; text-align: left; border: none;\">\n",
              "        paycheckprotectionprogram\n",
              "    </td>\n",
              "    \n",
              "</tr>\n",
              "        \n",
              "            <tr style=\"background-color: hsl(0, 100.00%, 85.48%); border: none;\">\n",
              "    <td style=\"padding: 0 1em 0 0.5em; text-align: right; border: none;\">\n",
              "        -4.145\n",
              "    </td>\n",
              "    <td style=\"padding: 0 0.5em 0 0.5em; text-align: left; border: none;\">\n",
              "        inittogether\n",
              "    </td>\n",
              "    \n",
              "</tr>\n",
              "        \n",
              "            <tr style=\"background-color: hsl(0, 100.00%, 85.38%); border: none;\">\n",
              "    <td style=\"padding: 0 1em 0 0.5em; text-align: right; border: none;\">\n",
              "        -4.185\n",
              "    </td>\n",
              "    <td style=\"padding: 0 0.5em 0 0.5em; text-align: left; border: none;\">\n",
              "        gapol\n",
              "    </td>\n",
              "    \n",
              "</tr>\n",
              "        \n",
              "            <tr style=\"background-color: hsl(0, 100.00%, 85.25%); border: none;\">\n",
              "    <td style=\"padding: 0 1em 0 0.5em; text-align: right; border: none;\">\n",
              "        -4.236\n",
              "    </td>\n",
              "    <td style=\"padding: 0 0.5em 0 0.5em; text-align: left; border: none;\">\n",
              "        dems\n",
              "    </td>\n",
              "    \n",
              "</tr>\n",
              "        \n",
              "            <tr style=\"background-color: hsl(0, 100.00%, 84.98%); border: none;\">\n",
              "    <td style=\"padding: 0 1em 0 0.5em; text-align: right; border: none;\">\n",
              "        -4.348\n",
              "    </td>\n",
              "    <td style=\"padding: 0 0.5em 0 0.5em; text-align: left; border: none;\">\n",
              "        democrats\n",
              "    </td>\n",
              "    \n",
              "</tr>\n",
              "        \n",
              "            <tr style=\"background-color: hsl(0, 100.00%, 83.06%); border: none;\">\n",
              "    <td style=\"padding: 0 1em 0 0.5em; text-align: right; border: none;\">\n",
              "        -5.163\n",
              "    </td>\n",
              "    <td style=\"padding: 0 0.5em 0 0.5em; text-align: left; border: none;\">\n",
              "        pelosi\n",
              "    </td>\n",
              "    \n",
              "</tr>\n",
              "        \n",
              "            <tr style=\"background-color: hsl(0, 100.00%, 80.00%); border: none;\">\n",
              "    <td style=\"padding: 0 1em 0 0.5em; text-align: right; border: none;\">\n",
              "        -6.546\n",
              "    </td>\n",
              "    <td style=\"padding: 0 0.5em 0 0.5em; text-align: left; border: none;\">\n",
              "        china\n",
              "    </td>\n",
              "    \n",
              "</tr>\n",
              "        \n",
              "\n",
              "        </tbody>\n",
              "    </table>\n",
              "\n",
              "            \n",
              "        \n",
              "\n",
              "        \n",
              "\n",
              "\n",
              "\n",
              "    \n",
              "\n",
              "    \n",
              "\n",
              "    \n",
              "\n",
              "    \n",
              "\n",
              "\n",
              "    \n",
              "\n",
              "    \n",
              "\n",
              "    \n",
              "\n",
              "    \n",
              "\n",
              "    \n",
              "\n",
              "    \n",
              "\n",
              "\n",
              "    \n",
              "\n",
              "    \n",
              "\n",
              "    \n",
              "\n",
              "    \n",
              "\n",
              "    \n",
              "\n",
              "    \n",
              "\n",
              "\n",
              "\n"
            ]
          },
          "metadata": {},
          "execution_count": 16
        }
      ]
    },
    {
      "cell_type": "code",
      "source": [
        "y_pred = pipe.predict(X_test)\n",
        "report = classification_report(y_test, y_pred)\n",
        "print(report)"
      ],
      "metadata": {
        "colab": {
          "base_uri": "https://localhost:8080/"
        },
        "id": "j82SH-UgHfTu",
        "outputId": "3511efd1-d7f2-40fd-dd7d-9c263d0482cc"
      },
      "execution_count": 17,
      "outputs": [
        {
          "output_type": "stream",
          "name": "stdout",
          "text": [
            "              precision    recall  f1-score   support\n",
            "\n",
            "           0       0.76      0.57      0.65      7528\n",
            "           1       0.78      0.89      0.83     12472\n",
            "\n",
            "    accuracy                           0.77     20000\n",
            "   macro avg       0.77      0.73      0.74     20000\n",
            "weighted avg       0.77      0.77      0.76     20000\n",
            "\n"
          ]
        }
      ]
    },
    {
      "cell_type": "code",
      "source": [],
      "metadata": {
        "id": "4U2fP2V3JJZK"
      },
      "execution_count": null,
      "outputs": []
    },
    {
      "cell_type": "code",
      "source": [
        "debate_tweets = pd.read_json('https://github.com/SDS-AAU/SDS-master/raw/master/M2/data/pres_debate_2020.gz')"
      ],
      "metadata": {
        "id": "8Sj-kA_O4pVz"
      },
      "execution_count": 18,
      "outputs": []
    },
    {
      "cell_type": "code",
      "source": [
        "debate_tweets"
      ],
      "metadata": {
        "colab": {
          "base_uri": "https://localhost:8080/",
          "height": 1000
        },
        "id": "lfndElce47Ju",
        "outputId": "521144c9-9abb-48c1-8ea8-0470cf827b93"
      },
      "execution_count": 19,
      "outputs": [
        {
          "output_type": "execute_result",
          "data": {
            "text/plain": [
              "                       id      conversation_id          created_at  \\\n",
              "0     1318944772183281664  1318944772183281664 2020-10-21 15:58:33   \n",
              "1     1318938583122743296  1318938583122743296 2020-10-21 15:33:57   \n",
              "2     1318932554897031168  1318932554897031168 2020-10-21 15:10:00   \n",
              "3     1318928783169245184  1318928783169245184 2020-10-21 14:55:01   \n",
              "4     1318927150247018496  1318927150247018496 2020-10-21 14:48:31   \n",
              "...                   ...                  ...                 ...   \n",
              "8806  1311705601597222912  1311705601597222912 2020-10-01 16:32:40   \n",
              "8807  1311705488531156992  1311705488531156992 2020-10-01 16:32:13   \n",
              "8808  1311705196657958912  1311705196657958912 2020-10-01 16:31:03   \n",
              "8809  1311704929090891776  1311704929090891776 2020-10-01 16:30:00   \n",
              "8810  1311704928231010304  1311704928231010304 2020-10-01 16:29:59   \n",
              "\n",
              "                    date  timezone place  \\\n",
              "0    2020-10-21 15:58:33         0         \n",
              "1    2020-10-21 15:33:57         0         \n",
              "2    2020-10-21 15:10:00         0         \n",
              "3    2020-10-21 14:55:01         0         \n",
              "4    2020-10-21 14:48:31         0         \n",
              "...                  ...       ...   ...   \n",
              "8806 2020-10-01 16:32:40         0         \n",
              "8807 2020-10-01 16:32:13         0         \n",
              "8808 2020-10-01 16:31:03         0         \n",
              "8809 2020-10-01 16:30:00         0         \n",
              "8810 2020-10-01 16:29:59         0         \n",
              "\n",
              "                                                  tweet language  \\\n",
              "0     Still time to register: Students can join the ...       en   \n",
              "1     Be prepared for Trump to railroad Thursday’s d...       en   \n",
              "2     Join us tomorrow from 5-8pm as @michaelpleahy ...       en   \n",
              "3     Wanna bet #ProudBoys comes up #PresidentialDeb...       en   \n",
              "4     RT College Tour @BelmontUniv was spotless. Gor...       en   \n",
              "...                                                 ...      ...   \n",
              "8806  Check out my Gig on Fiverr: do email marketing...       en   \n",
              "8807  This was made in 2012! It’s exactly like what ...       en   \n",
              "8808  How you finna lose two swing states with one q...       en   \n",
              "8809  This morning on the @ArleneBynonShow, @gmacofg...       en   \n",
              "8810  #PresidentialDebate2020  was something out of ...       en   \n",
              "\n",
              "                                               hashtags cashtags  ...  \\\n",
              "0                              [presidentialdebate2020]       []  ...   \n",
              "1                              [presidentialdebate2020]       []  ...   \n",
              "2                              [presidentialdebate2020]       []  ...   \n",
              "3                   [proudboys, presidentialdebate2020]       []  ...   \n",
              "4                   [musiccity, presidentialdebate2020]       []  ...   \n",
              "...                                                 ...      ...  ...   \n",
              "8806  [october1st, worsttrumpever, thursdaythoughts,...       []  ...   \n",
              "8807  [democrats, republicans, presidentialdebate202...       []  ...   \n",
              "8808                           [presidentialdebate2020]       []  ...   \n",
              "8809  [erinotoole, blanchet, houseofcommons, trudeau...       []  ...   \n",
              "8810   [presidentialdebate2020, presidentialdebate2020]       []  ...   \n",
              "\n",
              "      nretweets                                          quote_url  \\\n",
              "0             2                                                      \n",
              "1             0  https://twitter.com/donaldjtrumpjr/status/1318...   \n",
              "2             0                                                      \n",
              "3             0                                                      \n",
              "4             0                                                      \n",
              "...         ...                                                ...   \n",
              "8806          0                                                      \n",
              "8807          0  https://twitter.com/JonnyEthco/status/13113395...   \n",
              "8808          0                                                      \n",
              "8809          3                                                      \n",
              "8810          0                                                      \n",
              "\n",
              "                      search near  geo  source  \\\n",
              "0     PresidentialDebate2020                     \n",
              "1     PresidentialDebate2020                     \n",
              "2     PresidentialDebate2020                     \n",
              "3     PresidentialDebate2020                     \n",
              "4     PresidentialDebate2020                     \n",
              "...                      ...  ...  ...     ...   \n",
              "8806  PresidentialDebate2020                     \n",
              "8807  PresidentialDebate2020                     \n",
              "8808  PresidentialDebate2020                     \n",
              "8809  PresidentialDebate2020                     \n",
              "8810  PresidentialDebate2020                     \n",
              "\n",
              "                                 reply_to translate trans_src  trans_dest  \n",
              "0     {'user_id': None, 'username': None}                                  \n",
              "1     {'user_id': None, 'username': None}                                  \n",
              "2     {'user_id': None, 'username': None}                                  \n",
              "3     {'user_id': None, 'username': None}                                  \n",
              "4     {'user_id': None, 'username': None}                                  \n",
              "...                                   ...       ...       ...         ...  \n",
              "8806  {'user_id': None, 'username': None}                                  \n",
              "8807  {'user_id': None, 'username': None}                                  \n",
              "8808  {'user_id': None, 'username': None}                                  \n",
              "8809  {'user_id': None, 'username': None}                                  \n",
              "8810  {'user_id': None, 'username': None}                                  \n",
              "\n",
              "[8811 rows x 33 columns]"
            ],
            "text/html": [
              "\n",
              "  <div id=\"df-fea62e5a-154e-4a23-ab43-6d316122fd22\">\n",
              "    <div class=\"colab-df-container\">\n",
              "      <div>\n",
              "<style scoped>\n",
              "    .dataframe tbody tr th:only-of-type {\n",
              "        vertical-align: middle;\n",
              "    }\n",
              "\n",
              "    .dataframe tbody tr th {\n",
              "        vertical-align: top;\n",
              "    }\n",
              "\n",
              "    .dataframe thead th {\n",
              "        text-align: right;\n",
              "    }\n",
              "</style>\n",
              "<table border=\"1\" class=\"dataframe\">\n",
              "  <thead>\n",
              "    <tr style=\"text-align: right;\">\n",
              "      <th></th>\n",
              "      <th>id</th>\n",
              "      <th>conversation_id</th>\n",
              "      <th>created_at</th>\n",
              "      <th>date</th>\n",
              "      <th>timezone</th>\n",
              "      <th>place</th>\n",
              "      <th>tweet</th>\n",
              "      <th>language</th>\n",
              "      <th>hashtags</th>\n",
              "      <th>cashtags</th>\n",
              "      <th>...</th>\n",
              "      <th>nretweets</th>\n",
              "      <th>quote_url</th>\n",
              "      <th>search</th>\n",
              "      <th>near</th>\n",
              "      <th>geo</th>\n",
              "      <th>source</th>\n",
              "      <th>reply_to</th>\n",
              "      <th>translate</th>\n",
              "      <th>trans_src</th>\n",
              "      <th>trans_dest</th>\n",
              "    </tr>\n",
              "  </thead>\n",
              "  <tbody>\n",
              "    <tr>\n",
              "      <th>0</th>\n",
              "      <td>1318944772183281664</td>\n",
              "      <td>1318944772183281664</td>\n",
              "      <td>2020-10-21 15:58:33</td>\n",
              "      <td>2020-10-21 15:58:33</td>\n",
              "      <td>0</td>\n",
              "      <td></td>\n",
              "      <td>Still time to register: Students can join the ...</td>\n",
              "      <td>en</td>\n",
              "      <td>[presidentialdebate2020]</td>\n",
              "      <td>[]</td>\n",
              "      <td>...</td>\n",
              "      <td>2</td>\n",
              "      <td></td>\n",
              "      <td>PresidentialDebate2020</td>\n",
              "      <td></td>\n",
              "      <td></td>\n",
              "      <td></td>\n",
              "      <td>{'user_id': None, 'username': None}</td>\n",
              "      <td></td>\n",
              "      <td></td>\n",
              "      <td></td>\n",
              "    </tr>\n",
              "    <tr>\n",
              "      <th>1</th>\n",
              "      <td>1318938583122743296</td>\n",
              "      <td>1318938583122743296</td>\n",
              "      <td>2020-10-21 15:33:57</td>\n",
              "      <td>2020-10-21 15:33:57</td>\n",
              "      <td>0</td>\n",
              "      <td></td>\n",
              "      <td>Be prepared for Trump to railroad Thursday’s d...</td>\n",
              "      <td>en</td>\n",
              "      <td>[presidentialdebate2020]</td>\n",
              "      <td>[]</td>\n",
              "      <td>...</td>\n",
              "      <td>0</td>\n",
              "      <td>https://twitter.com/donaldjtrumpjr/status/1318...</td>\n",
              "      <td>PresidentialDebate2020</td>\n",
              "      <td></td>\n",
              "      <td></td>\n",
              "      <td></td>\n",
              "      <td>{'user_id': None, 'username': None}</td>\n",
              "      <td></td>\n",
              "      <td></td>\n",
              "      <td></td>\n",
              "    </tr>\n",
              "    <tr>\n",
              "      <th>2</th>\n",
              "      <td>1318932554897031168</td>\n",
              "      <td>1318932554897031168</td>\n",
              "      <td>2020-10-21 15:10:00</td>\n",
              "      <td>2020-10-21 15:10:00</td>\n",
              "      <td>0</td>\n",
              "      <td></td>\n",
              "      <td>Join us tomorrow from 5-8pm as @michaelpleahy ...</td>\n",
              "      <td>en</td>\n",
              "      <td>[presidentialdebate2020]</td>\n",
              "      <td>[]</td>\n",
              "      <td>...</td>\n",
              "      <td>0</td>\n",
              "      <td></td>\n",
              "      <td>PresidentialDebate2020</td>\n",
              "      <td></td>\n",
              "      <td></td>\n",
              "      <td></td>\n",
              "      <td>{'user_id': None, 'username': None}</td>\n",
              "      <td></td>\n",
              "      <td></td>\n",
              "      <td></td>\n",
              "    </tr>\n",
              "    <tr>\n",
              "      <th>3</th>\n",
              "      <td>1318928783169245184</td>\n",
              "      <td>1318928783169245184</td>\n",
              "      <td>2020-10-21 14:55:01</td>\n",
              "      <td>2020-10-21 14:55:01</td>\n",
              "      <td>0</td>\n",
              "      <td></td>\n",
              "      <td>Wanna bet #ProudBoys comes up #PresidentialDeb...</td>\n",
              "      <td>en</td>\n",
              "      <td>[proudboys, presidentialdebate2020]</td>\n",
              "      <td>[]</td>\n",
              "      <td>...</td>\n",
              "      <td>0</td>\n",
              "      <td></td>\n",
              "      <td>PresidentialDebate2020</td>\n",
              "      <td></td>\n",
              "      <td></td>\n",
              "      <td></td>\n",
              "      <td>{'user_id': None, 'username': None}</td>\n",
              "      <td></td>\n",
              "      <td></td>\n",
              "      <td></td>\n",
              "    </tr>\n",
              "    <tr>\n",
              "      <th>4</th>\n",
              "      <td>1318927150247018496</td>\n",
              "      <td>1318927150247018496</td>\n",
              "      <td>2020-10-21 14:48:31</td>\n",
              "      <td>2020-10-21 14:48:31</td>\n",
              "      <td>0</td>\n",
              "      <td></td>\n",
              "      <td>RT College Tour @BelmontUniv was spotless. Gor...</td>\n",
              "      <td>en</td>\n",
              "      <td>[musiccity, presidentialdebate2020]</td>\n",
              "      <td>[]</td>\n",
              "      <td>...</td>\n",
              "      <td>0</td>\n",
              "      <td></td>\n",
              "      <td>PresidentialDebate2020</td>\n",
              "      <td></td>\n",
              "      <td></td>\n",
              "      <td></td>\n",
              "      <td>{'user_id': None, 'username': None}</td>\n",
              "      <td></td>\n",
              "      <td></td>\n",
              "      <td></td>\n",
              "    </tr>\n",
              "    <tr>\n",
              "      <th>...</th>\n",
              "      <td>...</td>\n",
              "      <td>...</td>\n",
              "      <td>...</td>\n",
              "      <td>...</td>\n",
              "      <td>...</td>\n",
              "      <td>...</td>\n",
              "      <td>...</td>\n",
              "      <td>...</td>\n",
              "      <td>...</td>\n",
              "      <td>...</td>\n",
              "      <td>...</td>\n",
              "      <td>...</td>\n",
              "      <td>...</td>\n",
              "      <td>...</td>\n",
              "      <td>...</td>\n",
              "      <td>...</td>\n",
              "      <td>...</td>\n",
              "      <td>...</td>\n",
              "      <td>...</td>\n",
              "      <td>...</td>\n",
              "      <td>...</td>\n",
              "    </tr>\n",
              "    <tr>\n",
              "      <th>8806</th>\n",
              "      <td>1311705601597222912</td>\n",
              "      <td>1311705601597222912</td>\n",
              "      <td>2020-10-01 16:32:40</td>\n",
              "      <td>2020-10-01 16:32:40</td>\n",
              "      <td>0</td>\n",
              "      <td></td>\n",
              "      <td>Check out my Gig on Fiverr: do email marketing...</td>\n",
              "      <td>en</td>\n",
              "      <td>[october1st, worsttrumpever, thursdaythoughts,...</td>\n",
              "      <td>[]</td>\n",
              "      <td>...</td>\n",
              "      <td>0</td>\n",
              "      <td></td>\n",
              "      <td>PresidentialDebate2020</td>\n",
              "      <td></td>\n",
              "      <td></td>\n",
              "      <td></td>\n",
              "      <td>{'user_id': None, 'username': None}</td>\n",
              "      <td></td>\n",
              "      <td></td>\n",
              "      <td></td>\n",
              "    </tr>\n",
              "    <tr>\n",
              "      <th>8807</th>\n",
              "      <td>1311705488531156992</td>\n",
              "      <td>1311705488531156992</td>\n",
              "      <td>2020-10-01 16:32:13</td>\n",
              "      <td>2020-10-01 16:32:13</td>\n",
              "      <td>0</td>\n",
              "      <td></td>\n",
              "      <td>This was made in 2012! It’s exactly like what ...</td>\n",
              "      <td>en</td>\n",
              "      <td>[democrats, republicans, presidentialdebate202...</td>\n",
              "      <td>[]</td>\n",
              "      <td>...</td>\n",
              "      <td>0</td>\n",
              "      <td>https://twitter.com/JonnyEthco/status/13113395...</td>\n",
              "      <td>PresidentialDebate2020</td>\n",
              "      <td></td>\n",
              "      <td></td>\n",
              "      <td></td>\n",
              "      <td>{'user_id': None, 'username': None}</td>\n",
              "      <td></td>\n",
              "      <td></td>\n",
              "      <td></td>\n",
              "    </tr>\n",
              "    <tr>\n",
              "      <th>8808</th>\n",
              "      <td>1311705196657958912</td>\n",
              "      <td>1311705196657958912</td>\n",
              "      <td>2020-10-01 16:31:03</td>\n",
              "      <td>2020-10-01 16:31:03</td>\n",
              "      <td>0</td>\n",
              "      <td></td>\n",
              "      <td>How you finna lose two swing states with one q...</td>\n",
              "      <td>en</td>\n",
              "      <td>[presidentialdebate2020]</td>\n",
              "      <td>[]</td>\n",
              "      <td>...</td>\n",
              "      <td>0</td>\n",
              "      <td></td>\n",
              "      <td>PresidentialDebate2020</td>\n",
              "      <td></td>\n",
              "      <td></td>\n",
              "      <td></td>\n",
              "      <td>{'user_id': None, 'username': None}</td>\n",
              "      <td></td>\n",
              "      <td></td>\n",
              "      <td></td>\n",
              "    </tr>\n",
              "    <tr>\n",
              "      <th>8809</th>\n",
              "      <td>1311704929090891776</td>\n",
              "      <td>1311704929090891776</td>\n",
              "      <td>2020-10-01 16:30:00</td>\n",
              "      <td>2020-10-01 16:30:00</td>\n",
              "      <td>0</td>\n",
              "      <td></td>\n",
              "      <td>This morning on the @ArleneBynonShow, @gmacofg...</td>\n",
              "      <td>en</td>\n",
              "      <td>[erinotoole, blanchet, houseofcommons, trudeau...</td>\n",
              "      <td>[]</td>\n",
              "      <td>...</td>\n",
              "      <td>3</td>\n",
              "      <td></td>\n",
              "      <td>PresidentialDebate2020</td>\n",
              "      <td></td>\n",
              "      <td></td>\n",
              "      <td></td>\n",
              "      <td>{'user_id': None, 'username': None}</td>\n",
              "      <td></td>\n",
              "      <td></td>\n",
              "      <td></td>\n",
              "    </tr>\n",
              "    <tr>\n",
              "      <th>8810</th>\n",
              "      <td>1311704928231010304</td>\n",
              "      <td>1311704928231010304</td>\n",
              "      <td>2020-10-01 16:29:59</td>\n",
              "      <td>2020-10-01 16:29:59</td>\n",
              "      <td>0</td>\n",
              "      <td></td>\n",
              "      <td>#PresidentialDebate2020  was something out of ...</td>\n",
              "      <td>en</td>\n",
              "      <td>[presidentialdebate2020, presidentialdebate2020]</td>\n",
              "      <td>[]</td>\n",
              "      <td>...</td>\n",
              "      <td>0</td>\n",
              "      <td></td>\n",
              "      <td>PresidentialDebate2020</td>\n",
              "      <td></td>\n",
              "      <td></td>\n",
              "      <td></td>\n",
              "      <td>{'user_id': None, 'username': None}</td>\n",
              "      <td></td>\n",
              "      <td></td>\n",
              "      <td></td>\n",
              "    </tr>\n",
              "  </tbody>\n",
              "</table>\n",
              "<p>8811 rows × 33 columns</p>\n",
              "</div>\n",
              "      <button class=\"colab-df-convert\" onclick=\"convertToInteractive('df-fea62e5a-154e-4a23-ab43-6d316122fd22')\"\n",
              "              title=\"Convert this dataframe to an interactive table.\"\n",
              "              style=\"display:none;\">\n",
              "        \n",
              "  <svg xmlns=\"http://www.w3.org/2000/svg\" height=\"24px\"viewBox=\"0 0 24 24\"\n",
              "       width=\"24px\">\n",
              "    <path d=\"M0 0h24v24H0V0z\" fill=\"none\"/>\n",
              "    <path d=\"M18.56 5.44l.94 2.06.94-2.06 2.06-.94-2.06-.94-.94-2.06-.94 2.06-2.06.94zm-11 1L8.5 8.5l.94-2.06 2.06-.94-2.06-.94L8.5 2.5l-.94 2.06-2.06.94zm10 10l.94 2.06.94-2.06 2.06-.94-2.06-.94-.94-2.06-.94 2.06-2.06.94z\"/><path d=\"M17.41 7.96l-1.37-1.37c-.4-.4-.92-.59-1.43-.59-.52 0-1.04.2-1.43.59L10.3 9.45l-7.72 7.72c-.78.78-.78 2.05 0 2.83L4 21.41c.39.39.9.59 1.41.59.51 0 1.02-.2 1.41-.59l7.78-7.78 2.81-2.81c.8-.78.8-2.07 0-2.86zM5.41 20L4 18.59l7.72-7.72 1.47 1.35L5.41 20z\"/>\n",
              "  </svg>\n",
              "      </button>\n",
              "      \n",
              "  <style>\n",
              "    .colab-df-container {\n",
              "      display:flex;\n",
              "      flex-wrap:wrap;\n",
              "      gap: 12px;\n",
              "    }\n",
              "\n",
              "    .colab-df-convert {\n",
              "      background-color: #E8F0FE;\n",
              "      border: none;\n",
              "      border-radius: 50%;\n",
              "      cursor: pointer;\n",
              "      display: none;\n",
              "      fill: #1967D2;\n",
              "      height: 32px;\n",
              "      padding: 0 0 0 0;\n",
              "      width: 32px;\n",
              "    }\n",
              "\n",
              "    .colab-df-convert:hover {\n",
              "      background-color: #E2EBFA;\n",
              "      box-shadow: 0px 1px 2px rgba(60, 64, 67, 0.3), 0px 1px 3px 1px rgba(60, 64, 67, 0.15);\n",
              "      fill: #174EA6;\n",
              "    }\n",
              "\n",
              "    [theme=dark] .colab-df-convert {\n",
              "      background-color: #3B4455;\n",
              "      fill: #D2E3FC;\n",
              "    }\n",
              "\n",
              "    [theme=dark] .colab-df-convert:hover {\n",
              "      background-color: #434B5C;\n",
              "      box-shadow: 0px 1px 3px 1px rgba(0, 0, 0, 0.15);\n",
              "      filter: drop-shadow(0px 1px 2px rgba(0, 0, 0, 0.3));\n",
              "      fill: #FFFFFF;\n",
              "    }\n",
              "  </style>\n",
              "\n",
              "      <script>\n",
              "        const buttonEl =\n",
              "          document.querySelector('#df-fea62e5a-154e-4a23-ab43-6d316122fd22 button.colab-df-convert');\n",
              "        buttonEl.style.display =\n",
              "          google.colab.kernel.accessAllowed ? 'block' : 'none';\n",
              "\n",
              "        async function convertToInteractive(key) {\n",
              "          const element = document.querySelector('#df-fea62e5a-154e-4a23-ab43-6d316122fd22');\n",
              "          const dataTable =\n",
              "            await google.colab.kernel.invokeFunction('convertToInteractive',\n",
              "                                                     [key], {});\n",
              "          if (!dataTable) return;\n",
              "\n",
              "          const docLinkHtml = 'Like what you see? Visit the ' +\n",
              "            '<a target=\"_blank\" href=https://colab.research.google.com/notebooks/data_table.ipynb>data table notebook</a>'\n",
              "            + ' to learn more about interactive tables.';\n",
              "          element.innerHTML = '';\n",
              "          dataTable['output_type'] = 'display_data';\n",
              "          await google.colab.output.renderOutput(dataTable, element);\n",
              "          const docLink = document.createElement('div');\n",
              "          docLink.innerHTML = docLinkHtml;\n",
              "          element.appendChild(docLink);\n",
              "        }\n",
              "      </script>\n",
              "    </div>\n",
              "  </div>\n",
              "  "
            ]
          },
          "metadata": {},
          "execution_count": 19
        }
      ]
    },
    {
      "cell_type": "code",
      "source": [
        "# apply all prepro-pipeline to texts\n",
        "debate_tweets['text_clean'] = text_prepro(debate_tweets['tweet'])"
      ],
      "metadata": {
        "colab": {
          "base_uri": "https://localhost:8080/"
        },
        "id": "muEnWfkf48dU",
        "outputId": "e543aa83-cfb4-4a0f-ac5f-78d96174aea7"
      },
      "execution_count": 20,
      "outputs": [
        {
          "output_type": "stream",
          "name": "stderr",
          "text": [
            "  0%|          | 0/8811 [00:00<?, ?it/s]/usr/local/lib/python3.7/dist-packages/spacy/pipeline/lemmatizer.py:211: UserWarning: [W108] The rule-based lemmatizer did not find POS annotation for one or more tokens. Check that your pipeline includes components that assign token.pos, typically 'tagger'+'attribute_ruler' or 'morphologizer'.\n",
            "  warnings.warn(Warnings.W108)\n",
            "100%|██████████| 8811/8811 [00:18<00:00, 486.98it/s]\n"
          ]
        }
      ]
    },
    {
      "cell_type": "code",
      "source": [
        "debate_tweets['class_pred'] = pipe.predict(debate_tweets['text_clean'])"
      ],
      "metadata": {
        "id": "EiO5WwAXJrei"
      },
      "execution_count": 21,
      "outputs": []
    },
    {
      "cell_type": "code",
      "source": [
        "debate_tweets['dem_proba'] = pipe.predict_proba(debate_tweets['text_clean'])[:,1]"
      ],
      "metadata": {
        "id": "QXtvH4VyKE9C"
      },
      "execution_count": 22,
      "outputs": []
    },
    {
      "cell_type": "code",
      "source": [
        "debate_tweets.sort_values(['dem_proba'], ascending=True)['tweet'][:10]"
      ],
      "metadata": {
        "colab": {
          "base_uri": "https://localhost:8080/"
        },
        "id": "pj2_bXDuKyaY",
        "outputId": "c2dad939-de9f-4024-c0c9-934177518d43"
      },
      "execution_count": 23,
      "outputs": [
        {
          "output_type": "execute_result",
          "data": {
            "text/plain": [
              "6201    @realDonaldTrump @MarkMeadows @senatemajldr @k...\n",
              "1144    @CBSNews #PresidentialDebate2020 RIGGED SYSTEM...\n",
              "6194    Make America great again!🇺🇲💫💫 @POTUS @realDona...\n",
              "7280    Senate found Hunter Biden got $3.5 from Moscow...\n",
              "5234    China for Biden  #PresidentialDebate2020 #Deba...\n",
              "1754    #HillaryClinton #china #Communism #Shame on yo...\n",
              "1247    #PresidentialDebate2020 it’s great to see @rea...\n",
              "6344    You can’t stop a man who defeated the China vi...\n",
              "1035    I can start marking all these Pro #Biden hasht...\n",
              "8238    My relationship with China is just an idea ......\n",
              "Name: tweet, dtype: object"
            ]
          },
          "metadata": {},
          "execution_count": 23
        }
      ]
    },
    {
      "cell_type": "code",
      "source": [
        "debate_tweets.sort_values(['dem_proba'], ascending=False)"
      ],
      "metadata": {
        "id": "-t-bQVrvLY48",
        "colab": {
          "base_uri": "https://localhost:8080/",
          "height": 1000
        },
        "outputId": "a9b6507b-bfd8-468f-ee4e-eed164ffb606"
      },
      "execution_count": 24,
      "outputs": [
        {
          "output_type": "execute_result",
          "data": {
            "text/plain": [
              "                       id      conversation_id          created_at  \\\n",
              "344   1318602399183818752  1318601992072212480 2020-10-20 17:18:05   \n",
              "7989  1311839298111434752  1311839298111434752 2020-10-02 01:23:56   \n",
              "298   1318634737032974336  1318634737032974336 2020-10-20 19:26:35   \n",
              "7467  1311947628737966080  1311947628737966080 2020-10-02 08:34:24   \n",
              "1449  1316897487815323648  1316897487815323648 2020-10-16 00:23:22   \n",
              "...                   ...                  ...                 ...   \n",
              "5234  1314025236619198464  1314025236619198464 2020-10-08 02:10:04   \n",
              "7280  1312043357930246144  1312043357930246144 2020-10-02 14:54:47   \n",
              "6194  1313709057279029248  1313709057279029248 2020-10-07 05:13:41   \n",
              "1144  1317263843702300672  1317253994201436160 2020-10-17 00:39:08   \n",
              "6201  1313695541696421888  1313664886648582144 2020-10-07 04:19:59   \n",
              "\n",
              "                    date  timezone place  \\\n",
              "344  2020-10-20 17:18:05         0         \n",
              "7989 2020-10-02 01:23:56         0         \n",
              "298  2020-10-20 19:26:35         0         \n",
              "7467 2020-10-02 08:34:24         0         \n",
              "1449 2020-10-16 00:23:22         0         \n",
              "...                  ...       ...   ...   \n",
              "5234 2020-10-08 02:10:04         0         \n",
              "7280 2020-10-02 14:54:47         0         \n",
              "6194 2020-10-07 05:13:41         0         \n",
              "1144 2020-10-17 00:39:08         0         \n",
              "6201 2020-10-07 04:19:59         0         \n",
              "\n",
              "                                                  tweet language  \\\n",
              "344   @mjfree @CNN #Trump Don't have to show up!!!!!...       en   \n",
              "7989  #Trump  Mute him out Mute him out Mute him out...       en   \n",
              "298   Trump can thank Trump for this one 👇#President...       en   \n",
              "7467  Fight for Trump  ##Trupm  #PresidentialDebate2...       en   \n",
              "1449  The Me Me Me Show by Donald Trump. #Presidenti...       en   \n",
              "...                                                 ...      ...   \n",
              "5234  China for Biden  #PresidentialDebate2020 #Deba...       en   \n",
              "7280  Senate found Hunter Biden got $3.5 from Moscow...       en   \n",
              "6194  Make America great again!🇺🇲💫💫 @POTUS @realDona...       en   \n",
              "1144  @CBSNews #PresidentialDebate2020 RIGGED SYSTEM...       en   \n",
              "6201  @realDonaldTrump @MarkMeadows @senatemajldr @k...       en   \n",
              "\n",
              "                                               hashtags cashtags  ...  near  \\\n",
              "344                     [trump, presidentialdebate2020]       []  ...         \n",
              "7989                    [trump, presidentialdebate2020]       []  ...         \n",
              "298                            [presidentialdebate2020]       []  ...         \n",
              "7467                    [trupm, presidentialdebate2020]       []  ...         \n",
              "1449                           [presidentialdebate2020]       []  ...         \n",
              "...                                                 ...      ...  ...   ...   \n",
              "5234  [presidentialdebate2020, debates2020, biden202...       []  ...         \n",
              "7280  [maga2020, trump2020nowmorethanever, president...       []  ...         \n",
              "6194                           [presidentialdebate2020]       []  ...         \n",
              "1144            [presidentialdebate2020, lyingjoebiden]       []  ...         \n",
              "6201  [presidentialdebate2020, stimulus, 2020electio...       []  ...         \n",
              "\n",
              "      geo source                                           reply_to  \\\n",
              "344                   {'user_id': '24113137', 'username': 'mjfree'}   \n",
              "7989                            {'user_id': None, 'username': None}   \n",
              "298                             {'user_id': None, 'username': None}   \n",
              "7467                            {'user_id': None, 'username': None}   \n",
              "1449                            {'user_id': None, 'username': None}   \n",
              "...   ...    ...                                                ...   \n",
              "5234                            {'user_id': None, 'username': None}   \n",
              "7280                            {'user_id': None, 'username': None}   \n",
              "6194                            {'user_id': None, 'username': None}   \n",
              "1144                 {'user_id': '15012486', 'username': 'CBSNews'}   \n",
              "6201              {'user_id': '25073877', 'username': 'realDonal...   \n",
              "\n",
              "      translate  trans_src trans_dest  \\\n",
              "344                                     \n",
              "7989                                    \n",
              "298                                     \n",
              "7467                                    \n",
              "1449                                    \n",
              "...         ...        ...        ...   \n",
              "5234                                    \n",
              "7280                                    \n",
              "6194                                    \n",
              "1144                                    \n",
              "6201                                    \n",
              "\n",
              "                                             text_clean class_pred  dem_proba  \n",
              "344                                               trump          1   0.998588  \n",
              "7989                               trump mute mute mute          1   0.998588  \n",
              "298                                   trump thank trump          1   0.996317  \n",
              "7467                                  fight trump trupm          1   0.992267  \n",
              "1449                                       donald trump          1   0.991731  \n",
              "...                                                 ...        ...        ...  \n",
              "5234                               china biden vpdebate          0   0.032934  \n",
              "7280  senate found hunter biden got moscow amp money...          0   0.032542  \n",
              "6194                                      america great          0   0.030214  \n",
              "1144  rigged system american people want topics de f...          0   0.023829  \n",
              "6201  nancy pelosi listen work americans china stimu...          0   0.005255  \n",
              "\n",
              "[8811 rows x 36 columns]"
            ],
            "text/html": [
              "\n",
              "  <div id=\"df-ad526cec-2496-4328-b84e-99bb8d9c1291\">\n",
              "    <div class=\"colab-df-container\">\n",
              "      <div>\n",
              "<style scoped>\n",
              "    .dataframe tbody tr th:only-of-type {\n",
              "        vertical-align: middle;\n",
              "    }\n",
              "\n",
              "    .dataframe tbody tr th {\n",
              "        vertical-align: top;\n",
              "    }\n",
              "\n",
              "    .dataframe thead th {\n",
              "        text-align: right;\n",
              "    }\n",
              "</style>\n",
              "<table border=\"1\" class=\"dataframe\">\n",
              "  <thead>\n",
              "    <tr style=\"text-align: right;\">\n",
              "      <th></th>\n",
              "      <th>id</th>\n",
              "      <th>conversation_id</th>\n",
              "      <th>created_at</th>\n",
              "      <th>date</th>\n",
              "      <th>timezone</th>\n",
              "      <th>place</th>\n",
              "      <th>tweet</th>\n",
              "      <th>language</th>\n",
              "      <th>hashtags</th>\n",
              "      <th>cashtags</th>\n",
              "      <th>...</th>\n",
              "      <th>near</th>\n",
              "      <th>geo</th>\n",
              "      <th>source</th>\n",
              "      <th>reply_to</th>\n",
              "      <th>translate</th>\n",
              "      <th>trans_src</th>\n",
              "      <th>trans_dest</th>\n",
              "      <th>text_clean</th>\n",
              "      <th>class_pred</th>\n",
              "      <th>dem_proba</th>\n",
              "    </tr>\n",
              "  </thead>\n",
              "  <tbody>\n",
              "    <tr>\n",
              "      <th>344</th>\n",
              "      <td>1318602399183818752</td>\n",
              "      <td>1318601992072212480</td>\n",
              "      <td>2020-10-20 17:18:05</td>\n",
              "      <td>2020-10-20 17:18:05</td>\n",
              "      <td>0</td>\n",
              "      <td></td>\n",
              "      <td>@mjfree @CNN #Trump Don't have to show up!!!!!...</td>\n",
              "      <td>en</td>\n",
              "      <td>[trump, presidentialdebate2020]</td>\n",
              "      <td>[]</td>\n",
              "      <td>...</td>\n",
              "      <td></td>\n",
              "      <td></td>\n",
              "      <td></td>\n",
              "      <td>{'user_id': '24113137', 'username': 'mjfree'}</td>\n",
              "      <td></td>\n",
              "      <td></td>\n",
              "      <td></td>\n",
              "      <td>trump</td>\n",
              "      <td>1</td>\n",
              "      <td>0.998588</td>\n",
              "    </tr>\n",
              "    <tr>\n",
              "      <th>7989</th>\n",
              "      <td>1311839298111434752</td>\n",
              "      <td>1311839298111434752</td>\n",
              "      <td>2020-10-02 01:23:56</td>\n",
              "      <td>2020-10-02 01:23:56</td>\n",
              "      <td>0</td>\n",
              "      <td></td>\n",
              "      <td>#Trump  Mute him out Mute him out Mute him out...</td>\n",
              "      <td>en</td>\n",
              "      <td>[trump, presidentialdebate2020]</td>\n",
              "      <td>[]</td>\n",
              "      <td>...</td>\n",
              "      <td></td>\n",
              "      <td></td>\n",
              "      <td></td>\n",
              "      <td>{'user_id': None, 'username': None}</td>\n",
              "      <td></td>\n",
              "      <td></td>\n",
              "      <td></td>\n",
              "      <td>trump mute mute mute</td>\n",
              "      <td>1</td>\n",
              "      <td>0.998588</td>\n",
              "    </tr>\n",
              "    <tr>\n",
              "      <th>298</th>\n",
              "      <td>1318634737032974336</td>\n",
              "      <td>1318634737032974336</td>\n",
              "      <td>2020-10-20 19:26:35</td>\n",
              "      <td>2020-10-20 19:26:35</td>\n",
              "      <td>0</td>\n",
              "      <td></td>\n",
              "      <td>Trump can thank Trump for this one 👇#President...</td>\n",
              "      <td>en</td>\n",
              "      <td>[presidentialdebate2020]</td>\n",
              "      <td>[]</td>\n",
              "      <td>...</td>\n",
              "      <td></td>\n",
              "      <td></td>\n",
              "      <td></td>\n",
              "      <td>{'user_id': None, 'username': None}</td>\n",
              "      <td></td>\n",
              "      <td></td>\n",
              "      <td></td>\n",
              "      <td>trump thank trump</td>\n",
              "      <td>1</td>\n",
              "      <td>0.996317</td>\n",
              "    </tr>\n",
              "    <tr>\n",
              "      <th>7467</th>\n",
              "      <td>1311947628737966080</td>\n",
              "      <td>1311947628737966080</td>\n",
              "      <td>2020-10-02 08:34:24</td>\n",
              "      <td>2020-10-02 08:34:24</td>\n",
              "      <td>0</td>\n",
              "      <td></td>\n",
              "      <td>Fight for Trump  ##Trupm  #PresidentialDebate2...</td>\n",
              "      <td>en</td>\n",
              "      <td>[trupm, presidentialdebate2020]</td>\n",
              "      <td>[]</td>\n",
              "      <td>...</td>\n",
              "      <td></td>\n",
              "      <td></td>\n",
              "      <td></td>\n",
              "      <td>{'user_id': None, 'username': None}</td>\n",
              "      <td></td>\n",
              "      <td></td>\n",
              "      <td></td>\n",
              "      <td>fight trump trupm</td>\n",
              "      <td>1</td>\n",
              "      <td>0.992267</td>\n",
              "    </tr>\n",
              "    <tr>\n",
              "      <th>1449</th>\n",
              "      <td>1316897487815323648</td>\n",
              "      <td>1316897487815323648</td>\n",
              "      <td>2020-10-16 00:23:22</td>\n",
              "      <td>2020-10-16 00:23:22</td>\n",
              "      <td>0</td>\n",
              "      <td></td>\n",
              "      <td>The Me Me Me Show by Donald Trump. #Presidenti...</td>\n",
              "      <td>en</td>\n",
              "      <td>[presidentialdebate2020]</td>\n",
              "      <td>[]</td>\n",
              "      <td>...</td>\n",
              "      <td></td>\n",
              "      <td></td>\n",
              "      <td></td>\n",
              "      <td>{'user_id': None, 'username': None}</td>\n",
              "      <td></td>\n",
              "      <td></td>\n",
              "      <td></td>\n",
              "      <td>donald trump</td>\n",
              "      <td>1</td>\n",
              "      <td>0.991731</td>\n",
              "    </tr>\n",
              "    <tr>\n",
              "      <th>...</th>\n",
              "      <td>...</td>\n",
              "      <td>...</td>\n",
              "      <td>...</td>\n",
              "      <td>...</td>\n",
              "      <td>...</td>\n",
              "      <td>...</td>\n",
              "      <td>...</td>\n",
              "      <td>...</td>\n",
              "      <td>...</td>\n",
              "      <td>...</td>\n",
              "      <td>...</td>\n",
              "      <td>...</td>\n",
              "      <td>...</td>\n",
              "      <td>...</td>\n",
              "      <td>...</td>\n",
              "      <td>...</td>\n",
              "      <td>...</td>\n",
              "      <td>...</td>\n",
              "      <td>...</td>\n",
              "      <td>...</td>\n",
              "      <td>...</td>\n",
              "    </tr>\n",
              "    <tr>\n",
              "      <th>5234</th>\n",
              "      <td>1314025236619198464</td>\n",
              "      <td>1314025236619198464</td>\n",
              "      <td>2020-10-08 02:10:04</td>\n",
              "      <td>2020-10-08 02:10:04</td>\n",
              "      <td>0</td>\n",
              "      <td></td>\n",
              "      <td>China for Biden  #PresidentialDebate2020 #Deba...</td>\n",
              "      <td>en</td>\n",
              "      <td>[presidentialdebate2020, debates2020, biden202...</td>\n",
              "      <td>[]</td>\n",
              "      <td>...</td>\n",
              "      <td></td>\n",
              "      <td></td>\n",
              "      <td></td>\n",
              "      <td>{'user_id': None, 'username': None}</td>\n",
              "      <td></td>\n",
              "      <td></td>\n",
              "      <td></td>\n",
              "      <td>china biden vpdebate</td>\n",
              "      <td>0</td>\n",
              "      <td>0.032934</td>\n",
              "    </tr>\n",
              "    <tr>\n",
              "      <th>7280</th>\n",
              "      <td>1312043357930246144</td>\n",
              "      <td>1312043357930246144</td>\n",
              "      <td>2020-10-02 14:54:47</td>\n",
              "      <td>2020-10-02 14:54:47</td>\n",
              "      <td>0</td>\n",
              "      <td></td>\n",
              "      <td>Senate found Hunter Biden got $3.5 from Moscow...</td>\n",
              "      <td>en</td>\n",
              "      <td>[maga2020, trump2020nowmorethanever, president...</td>\n",
              "      <td>[]</td>\n",
              "      <td>...</td>\n",
              "      <td></td>\n",
              "      <td></td>\n",
              "      <td></td>\n",
              "      <td>{'user_id': None, 'username': None}</td>\n",
              "      <td></td>\n",
              "      <td></td>\n",
              "      <td></td>\n",
              "      <td>senate found hunter biden got moscow amp money...</td>\n",
              "      <td>0</td>\n",
              "      <td>0.032542</td>\n",
              "    </tr>\n",
              "    <tr>\n",
              "      <th>6194</th>\n",
              "      <td>1313709057279029248</td>\n",
              "      <td>1313709057279029248</td>\n",
              "      <td>2020-10-07 05:13:41</td>\n",
              "      <td>2020-10-07 05:13:41</td>\n",
              "      <td>0</td>\n",
              "      <td></td>\n",
              "      <td>Make America great again!🇺🇲💫💫 @POTUS @realDona...</td>\n",
              "      <td>en</td>\n",
              "      <td>[presidentialdebate2020]</td>\n",
              "      <td>[]</td>\n",
              "      <td>...</td>\n",
              "      <td></td>\n",
              "      <td></td>\n",
              "      <td></td>\n",
              "      <td>{'user_id': None, 'username': None}</td>\n",
              "      <td></td>\n",
              "      <td></td>\n",
              "      <td></td>\n",
              "      <td>america great</td>\n",
              "      <td>0</td>\n",
              "      <td>0.030214</td>\n",
              "    </tr>\n",
              "    <tr>\n",
              "      <th>1144</th>\n",
              "      <td>1317263843702300672</td>\n",
              "      <td>1317253994201436160</td>\n",
              "      <td>2020-10-17 00:39:08</td>\n",
              "      <td>2020-10-17 00:39:08</td>\n",
              "      <td>0</td>\n",
              "      <td></td>\n",
              "      <td>@CBSNews #PresidentialDebate2020 RIGGED SYSTEM...</td>\n",
              "      <td>en</td>\n",
              "      <td>[presidentialdebate2020, lyingjoebiden]</td>\n",
              "      <td>[]</td>\n",
              "      <td>...</td>\n",
              "      <td></td>\n",
              "      <td></td>\n",
              "      <td></td>\n",
              "      <td>{'user_id': '15012486', 'username': 'CBSNews'}</td>\n",
              "      <td></td>\n",
              "      <td></td>\n",
              "      <td></td>\n",
              "      <td>rigged system american people want topics de f...</td>\n",
              "      <td>0</td>\n",
              "      <td>0.023829</td>\n",
              "    </tr>\n",
              "    <tr>\n",
              "      <th>6201</th>\n",
              "      <td>1313695541696421888</td>\n",
              "      <td>1313664886648582144</td>\n",
              "      <td>2020-10-07 04:19:59</td>\n",
              "      <td>2020-10-07 04:19:59</td>\n",
              "      <td>0</td>\n",
              "      <td></td>\n",
              "      <td>@realDonaldTrump @MarkMeadows @senatemajldr @k...</td>\n",
              "      <td>en</td>\n",
              "      <td>[presidentialdebate2020, stimulus, 2020electio...</td>\n",
              "      <td>[]</td>\n",
              "      <td>...</td>\n",
              "      <td></td>\n",
              "      <td></td>\n",
              "      <td></td>\n",
              "      <td>{'user_id': '25073877', 'username': 'realDonal...</td>\n",
              "      <td></td>\n",
              "      <td></td>\n",
              "      <td></td>\n",
              "      <td>nancy pelosi listen work americans china stimu...</td>\n",
              "      <td>0</td>\n",
              "      <td>0.005255</td>\n",
              "    </tr>\n",
              "  </tbody>\n",
              "</table>\n",
              "<p>8811 rows × 36 columns</p>\n",
              "</div>\n",
              "      <button class=\"colab-df-convert\" onclick=\"convertToInteractive('df-ad526cec-2496-4328-b84e-99bb8d9c1291')\"\n",
              "              title=\"Convert this dataframe to an interactive table.\"\n",
              "              style=\"display:none;\">\n",
              "        \n",
              "  <svg xmlns=\"http://www.w3.org/2000/svg\" height=\"24px\"viewBox=\"0 0 24 24\"\n",
              "       width=\"24px\">\n",
              "    <path d=\"M0 0h24v24H0V0z\" fill=\"none\"/>\n",
              "    <path d=\"M18.56 5.44l.94 2.06.94-2.06 2.06-.94-2.06-.94-.94-2.06-.94 2.06-2.06.94zm-11 1L8.5 8.5l.94-2.06 2.06-.94-2.06-.94L8.5 2.5l-.94 2.06-2.06.94zm10 10l.94 2.06.94-2.06 2.06-.94-2.06-.94-.94-2.06-.94 2.06-2.06.94z\"/><path d=\"M17.41 7.96l-1.37-1.37c-.4-.4-.92-.59-1.43-.59-.52 0-1.04.2-1.43.59L10.3 9.45l-7.72 7.72c-.78.78-.78 2.05 0 2.83L4 21.41c.39.39.9.59 1.41.59.51 0 1.02-.2 1.41-.59l7.78-7.78 2.81-2.81c.8-.78.8-2.07 0-2.86zM5.41 20L4 18.59l7.72-7.72 1.47 1.35L5.41 20z\"/>\n",
              "  </svg>\n",
              "      </button>\n",
              "      \n",
              "  <style>\n",
              "    .colab-df-container {\n",
              "      display:flex;\n",
              "      flex-wrap:wrap;\n",
              "      gap: 12px;\n",
              "    }\n",
              "\n",
              "    .colab-df-convert {\n",
              "      background-color: #E8F0FE;\n",
              "      border: none;\n",
              "      border-radius: 50%;\n",
              "      cursor: pointer;\n",
              "      display: none;\n",
              "      fill: #1967D2;\n",
              "      height: 32px;\n",
              "      padding: 0 0 0 0;\n",
              "      width: 32px;\n",
              "    }\n",
              "\n",
              "    .colab-df-convert:hover {\n",
              "      background-color: #E2EBFA;\n",
              "      box-shadow: 0px 1px 2px rgba(60, 64, 67, 0.3), 0px 1px 3px 1px rgba(60, 64, 67, 0.15);\n",
              "      fill: #174EA6;\n",
              "    }\n",
              "\n",
              "    [theme=dark] .colab-df-convert {\n",
              "      background-color: #3B4455;\n",
              "      fill: #D2E3FC;\n",
              "    }\n",
              "\n",
              "    [theme=dark] .colab-df-convert:hover {\n",
              "      background-color: #434B5C;\n",
              "      box-shadow: 0px 1px 3px 1px rgba(0, 0, 0, 0.15);\n",
              "      filter: drop-shadow(0px 1px 2px rgba(0, 0, 0, 0.3));\n",
              "      fill: #FFFFFF;\n",
              "    }\n",
              "  </style>\n",
              "\n",
              "      <script>\n",
              "        const buttonEl =\n",
              "          document.querySelector('#df-ad526cec-2496-4328-b84e-99bb8d9c1291 button.colab-df-convert');\n",
              "        buttonEl.style.display =\n",
              "          google.colab.kernel.accessAllowed ? 'block' : 'none';\n",
              "\n",
              "        async function convertToInteractive(key) {\n",
              "          const element = document.querySelector('#df-ad526cec-2496-4328-b84e-99bb8d9c1291');\n",
              "          const dataTable =\n",
              "            await google.colab.kernel.invokeFunction('convertToInteractive',\n",
              "                                                     [key], {});\n",
              "          if (!dataTable) return;\n",
              "\n",
              "          const docLinkHtml = 'Like what you see? Visit the ' +\n",
              "            '<a target=\"_blank\" href=https://colab.research.google.com/notebooks/data_table.ipynb>data table notebook</a>'\n",
              "            + ' to learn more about interactive tables.';\n",
              "          element.innerHTML = '';\n",
              "          dataTable['output_type'] = 'display_data';\n",
              "          await google.colab.output.renderOutput(dataTable, element);\n",
              "          const docLink = document.createElement('div');\n",
              "          docLink.innerHTML = docLinkHtml;\n",
              "          element.appendChild(docLink);\n",
              "        }\n",
              "      </script>\n",
              "    </div>\n",
              "  </div>\n",
              "  "
            ]
          },
          "metadata": {},
          "execution_count": 24
        }
      ]
    },
    {
      "cell_type": "markdown",
      "source": [
        "## Topic modellng - what do dem/rep tweets say?\n",
        "\n",
        "you can try out the tweetopic library (it's rather new, developed by people from Århus Uni. and I'm not sure about it so far: https://centre-for-humanities-computing.github.io/tweetopic/using_tweetopic.pipeline.html)"
      ],
      "metadata": {
        "id": "ylPexHvr9tZp"
      }
    },
    {
      "cell_type": "code",
      "source": [
        "debate_tweets['dem_proba'].hist()"
      ],
      "metadata": {
        "colab": {
          "base_uri": "https://localhost:8080/",
          "height": 282
        },
        "id": "X2_dary8_Li7",
        "outputId": "8c90f8d6-96bd-450b-82cf-552d80d6ad5f"
      },
      "execution_count": 37,
      "outputs": [
        {
          "output_type": "execute_result",
          "data": {
            "text/plain": [
              "<matplotlib.axes._subplots.AxesSubplot at 0x7f86dd7bf0d0>"
            ]
          },
          "metadata": {},
          "execution_count": 37
        },
        {
          "output_type": "display_data",
          "data": {
            "text/plain": [
              "<Figure size 432x288 with 1 Axes>"
            ],
            "image/png": "[encoded data removed]"
          },
          "metadata": {
            "needs_background": "light"
          }
        }
      ]
    },
    {
      "cell_type": "code",
      "source": [
        "rep_tweets = debate_tweets[debate_tweets['dem_proba']<=0.2]"
      ],
      "metadata": {
        "id": "2FUBUY6d9saF"
      },
      "execution_count": 38,
      "outputs": []
    },
    {
      "cell_type": "code",
      "source": [
        "# preprocess texts (we need tokens)\n",
        "tokens = []\n",
        "\n",
        "for text in nlp.pipe(rep_tweets['text_clean'], disable=[\"ner\"]):\n",
        "  proj_tok = [token.lemma_.lower() for token in text \n",
        "              if token.pos_ in ['NOUN', 'PROPN', 'ADJ', 'ADV'] \n",
        "              and not token.is_stop\n",
        "              and not token.is_punct] \n",
        "  tokens.append(proj_tok)"
      ],
      "metadata": {
        "id": "4Qr4hqd5__80"
      },
      "execution_count": 39,
      "outputs": []
    },
    {
      "cell_type": "code",
      "source": [
        "rep_tweets['tokens'] = tokens"
      ],
      "metadata": {
        "colab": {
          "base_uri": "https://localhost:8080/"
        },
        "id": "PrbT0GFID7nM",
        "outputId": "ebe45526-e9c2-4cef-f74a-f95f81722b75"
      },
      "execution_count": 40,
      "outputs": [
        {
          "output_type": "stream",
          "name": "stderr",
          "text": [
            "/usr/local/lib/python3.7/dist-packages/ipykernel_launcher.py:1: SettingWithCopyWarning: \n",
            "A value is trying to be set on a copy of a slice from a DataFrame.\n",
            "Try using .loc[row_indexer,col_indexer] = value instead\n",
            "\n",
            "See the caveats in the documentation: https://pandas.pydata.org/pandas-docs/stable/user_guide/indexing.html#returning-a-view-versus-a-copy\n",
            "  \"\"\"Entry point for launching an IPython kernel.\n"
          ]
        }
      ]
    },
    {
      "cell_type": "code",
      "source": [
        "# Create a Dictionary from the articles: dictionary\n",
        "dictionary = Dictionary(rep_tweets['tokens'])\n",
        "# filter out low-frequency / high-frequency stuff, also limit the vocabulary to max 1000 words\n",
        "dictionary.filter_extremes(no_below=5, no_above=0.5, keep_n=1000)\n",
        "# construct corpus using this dictionary\n",
        "corpus = [dictionary.doc2bow(doc) for doc in rep_tweets['tokens']]"
      ],
      "metadata": {
        "id": "X_sFiQXgED34"
      },
      "execution_count": 41,
      "outputs": []
    },
    {
      "cell_type": "code",
      "source": [
        "# Training the model\n",
        "lda_model = LdaMulticore(corpus, id2word=dictionary, num_topics=5, workers = 4, passes=10)"
      ],
      "metadata": {
        "id": "Q28WQIKLELFP"
      },
      "execution_count": 42,
      "outputs": []
    },
    {
      "cell_type": "code",
      "source": [
        "# Let's try to visualize\n",
        "lda_display = pyLDAvis.gensim_models.prepare(lda_model, corpus, dictionary)"
      ],
      "metadata": {
        "colab": {
          "base_uri": "https://localhost:8080/"
        },
        "id": "oGUt2bf7ENuA",
        "outputId": "e240c480-0d01-4f39-e783-a5c56dfcbddd"
      },
      "execution_count": 43,
      "outputs": [
        {
          "output_type": "stream",
          "name": "stderr",
          "text": [
            "/usr/local/lib/python3.7/dist-packages/pyLDAvis/_prepare.py:247: FutureWarning: In a future version of pandas all arguments of DataFrame.drop except for the argument 'labels' will be keyword-only\n",
            "  by='saliency', ascending=False).head(R).drop('saliency', 1)\n"
          ]
        }
      ]
    },
    {
      "cell_type": "code",
      "source": [
        " # Let's Visualize\n",
        "pyLDAvis.display(lda_display)"
      ],
      "metadata": {
        "colab": {
          "base_uri": "https://localhost:8080/",
          "height": 881
        },
        "id": "b32JzALaEPbn",
        "outputId": "0b513d5b-ad74-41e5-d6f4-15b648af7669"
      },
      "execution_count": 44,
      "outputs": [
        {
          "output_type": "execute_result",
          "data": {
            "text/plain": [
              "<IPython.core.display.HTML object>"
            ],
            "text/html": [
              "\n",
              "<link rel=\"stylesheet\" type=\"text/css\" href=\"https://cdn.jsdelivr.net/gh/bmabey/pyLDAvis@3.3.1/pyLDAvis/js/ldavis.v1.0.0.css\">\n",
              "\n",
              "\n",
              "<div id=\"ldavis_el741402171397564965871548638\"></div>\n",
              "<script type=\"text/javascript\">\n",
              "\n",
              "var ldavis_el741402171397564965871548638_data = {\"mdsDat\": {\"x\": [-0.4006753544635759, 0.1529988275951034, 0.09349794080433181, 0.1050679879421551, 0.049110598121985725], \"y\": [0.025053173310474984, 0.07101590437464926, 0.22339413914324613, -0.10767162967952885, -0.21179158714884155], \"topics\": [1, 2, 3, 4, 5], \"cluster\": [1, 1, 1, 1, 1], \"Freq\": [33.38699510814004, 21.840427655786982, 16.055820375904478, 15.266458446227379, 13.450298413941116]}, \"tinfo\": {\"Term\": [\"debate\", \"biden\", \"china\", \"usa\", \"president\", \"trump\", \"great\", \"amp\", \"democrats\", \"god\", \"chinese\", \"joebiden\", \"arizona\", \"america\", \"ccp\", \"jobsreport\", \"azdem\", \"phoenixaz\", \"leadright\", \"fillthatseat\", \"chandler\", \"mesaaz\", \"confirmher\", \"azvote\", \"lizharrismba\", \"liz\", \"presidential\", \"democrat\", \"moderator\", \"harris\", \"arizona\", \"jobsreport\", \"azdem\", \"phoenixaz\", \"leadright\", \"fillthatseat\", \"chandler\", \"mesaaz\", \"confirmher\", \"azvote\", \"lizharrismba\", \"liz\", \"today\", \"harris\", \"maga\", \"talk\", \"twitter\", \"conservative\", \"vpdebate\", \"video\", \"poll\", \"republican\", \"virus\", \"american\", \"news\", \"presidentialdebate\", \"answer\", \"people\", \"coronavirus\", \"hunter\", \"americans\", \"god\", \"ccp\", \"vote\", \"america\", \"chinese\", \"china\", \"great\", \"biden\", \"democrats\", \"usa\", \"debate\", \"trump\", \"china\", \"americans\", \"talk\", \"people\", \"republican\", \"poll\", \"biden\", \"vote\", \"hunter\", \"democrat\", \"coronavirus\", \"joe\", \"american\", \"vpdebate\", \"question\", \"good\", \"conservative\", \"america\", \"great\", \"liberal\", \"amp\", \"moderator\", \"maga\", \"today\", \"chinese\", \"video\", \"debate\", \"twitter\", \"news\", \"usa\", \"presidential\", \"president\", \"ccp\", \"chinese\", \"communist\", \"amp\", \"twitter\", \"party\", \"presidentialdebate\", \"medium\", \"democrats\", \"liberal\", \"vpdebate\", \"answer\", \"news\", \"joe\", \"virus\", \"biden\", \"moderator\", \"hunter\", \"democrat\", \"maga\", \"harris\", \"conservative\", \"talk\", \"video\", \"republican\", \"poll\", \"american\", \"coronavirus\", \"people\", \"job\", \"usa\", \"debate\", \"presidential\", \"god\", \"trump\", \"china\", \"liz\", \"debate\", \"presidential\", \"job\", \"moderator\", \"conservative\", \"virus\", \"god\", \"news\", \"america\", \"coronavirus\", \"american\", \"good\", \"democrat\", \"question\", \"poll\", \"republican\", \"liberal\", \"people\", \"usa\", \"medium\", \"maga\", \"party\", \"presidentialdebate\", \"vote\", \"biden\", \"talk\", \"vpdebate\", \"twitter\", \"video\", \"communist\", \"democrats\", \"joebiden\", \"chinese\", \"china\", \"president\", \"joebiden\", \"video\", \"usa\", \"great\", \"good\", \"question\", \"answer\", \"god\", \"america\", \"democrats\", \"vote\", \"job\", \"american\", \"hunter\", \"maga\", \"china\", \"vpdebate\", \"conservative\", \"talk\", \"twitter\", \"coronavirus\", \"republican\", \"news\", \"poll\", \"virus\", \"presidentialdebate\", \"people\", \"communist\", \"americans\", \"biden\", \"harris\", \"trump\", \"arizona\", \"party\", \"moderator\", \"liz\", \"today\", \"azvote\", \"lizharrismba\", \"confirmher\", \"mesaaz\"], \"Freq\": [34.0, 59.0, 31.0, 20.0, 14.0, 19.0, 15.0, 14.0, 17.0, 16.0, 12.0, 9.0, 18.0, 18.0, 9.0, 17.0, 17.0, 17.0, 17.0, 17.0, 17.0, 17.0, 17.0, 17.0, 17.0, 17.0, 8.0, 21.0, 12.0, 20.0, 17.970627718797612, 16.997695003955798, 16.997604445609173, 16.997576271901334, 16.99749376318552, 16.997282460376727, 16.997179827583885, 16.99715366628375, 16.996338641164122, 16.996040804824112, 16.99593012240046, 16.995674546622205, 17.1877407501836, 18.877720490827446, 20.652444732243225, 0.19785612062939806, 0.2094486580890253, 0.19788492321464415, 0.1978883820403833, 0.197882612090173, 0.2019516218555261, 0.1978808826773034, 0.2019599702031056, 0.19788102417472, 0.19787791123155477, 0.19789185658805764, 0.19786747186659656, 0.1978968247195739, 0.19788875936682757, 0.19824924761852392, 0.20246796165064193, 0.23718982404738254, 0.20607120908634682, 0.20329976207510433, 0.20861396482849015, 0.20256645957453212, 0.20675978268133766, 0.20207396995508128, 0.20755743506259344, 0.20200752905701908, 0.20208019584141176, 0.20231170133690782, 18.32365936642171, 29.03984790933975, 7.098014669420784, 4.512732997003793, 5.379665722117722, 4.388315636085828, 4.331773390163671, 40.24633122102904, 5.702622048132497, 4.472220993185291, 12.798365207103263, 4.003634913533717, 4.520945912576116, 2.723403955663967, 1.7868322557662164, 3.5272614562715514, 2.962068715145332, 1.2102142482092262, 3.837752119968839, 2.371700450491946, 1.2285729366232079, 1.3117159949571173, 0.9242884462541145, 1.6186305600525668, 0.8705896199799632, 0.4713732627959363, 0.21317623270769495, 1.2548723674506943, 0.18471747646708644, 0.20161924039201856, 0.39231424169626045, 0.22053984131753268, 0.23740063116958343, 8.601032832118893, 11.11506210841547, 6.7217609608641995, 13.075442109568094, 4.874086222238891, 7.654271948492322, 5.263044171607424, 7.471001417760654, 12.483064705247193, 6.1489223032077485, 3.130753055442227, 3.5522374364066645, 2.9707897589309864, 3.0022881792515097, 1.6517196762048445, 15.203087214784563, 2.6576421369428447, 1.1294172447600848, 2.658824265229857, 2.098586427353216, 1.118801195631626, 0.19681342703635873, 0.1884369436579532, 0.18935041054919988, 0.18868638579137711, 0.18872852905191617, 0.18848409209224123, 0.2037932401182338, 0.18849265078813832, 0.18846558353432957, 0.3426414324187679, 0.43080761337131457, 0.20794652119804785, 0.21695834409378725, 0.20115581597993368, 0.19799956248664397, 0.19065512778963487, 32.549506738326656, 8.09620927857354, 5.017115884060755, 8.607354826474372, 3.5399503950892957, 4.11398739595814, 9.86090500796928, 2.844426159595116, 7.845057551656205, 2.4199244377586475, 1.9573761301893577, 3.3323249781387307, 5.349780694406445, 2.739289529500758, 1.2462653919292324, 1.1912046305255164, 1.4652184478865873, 1.0612291144230932, 2.955049185292137, 1.301044115469354, 4.626513227041328, 1.1227073874595692, 0.7094717670046775, 0.5970811736690528, 2.7551906218086826, 0.17801434561900592, 0.17754236066038967, 0.17889341347076812, 0.18023372595263387, 0.22553877522501464, 0.42456265558778955, 0.21346256263899413, 0.22498306746461869, 0.2578721819527219, 13.673823387617158, 8.864528171560348, 4.990310208127204, 17.1017703263588, 12.266234555975558, 5.260075461966333, 4.3086216777705735, 2.5425418547824963, 5.986025217133774, 6.129443908455444, 4.675693525765163, 2.276961534407483, 1.6847374082576356, 1.21716270493318, 1.208633835665613, 5.633986133331041, 1.7754418077634049, 0.2111213477756238, 0.20073243488961653, 0.19381826528667784, 0.1938265751603716, 0.2360468772575072, 0.19496899278090773, 0.2020940760987871, 0.19393954383964135, 0.19467546169366415, 0.19409830549665946, 0.19932828158270777, 0.20400344692479375, 0.2098037134280571, 1.1414942111568835, 0.2962535589425447, 0.2570075455857653, 0.22194953122577513, 0.20307409649256408, 0.20696073589305078, 0.20876597994807772, 0.20915748140597304, 0.20863550479709336, 0.2086164402240612, 0.20820037650230583, 0.2076507847643829], \"Total\": [34.0, 59.0, 31.0, 20.0, 14.0, 19.0, 15.0, 14.0, 17.0, 16.0, 12.0, 9.0, 18.0, 18.0, 9.0, 17.0, 17.0, 17.0, 17.0, 17.0, 17.0, 17.0, 17.0, 17.0, 17.0, 17.0, 8.0, 21.0, 12.0, 20.0, 18.734990022744448, 17.746263308079172, 17.746263212688067, 17.746260189288332, 17.746265297926232, 17.746258119870436, 17.746255094243402, 17.746258662194418, 17.746236128229633, 17.746232602898544, 17.746224911163054, 17.746214139304488, 18.63775785883154, 20.662872088078878, 34.630161080021374, 5.270858672196828, 5.6409723454261425, 5.345595428439141, 5.50413740168484, 5.770953189426906, 6.1626584768399875, 6.161056527860932, 6.3404419272612085, 6.284307907053465, 6.4168071462484635, 6.5497009909347765, 6.6483053206367675, 7.026612593631235, 7.061288228034934, 7.186591697718953, 7.876975309387169, 16.50857187994933, 9.406065700920099, 8.969702701267233, 18.209684095460574, 12.207865690269784, 31.477921244223854, 15.209380623847101, 59.55366070384176, 17.994679928468386, 20.993855381607375, 34.64086041103216, 19.16608930818683, 31.477921244223854, 7.876975309387169, 5.270858672196828, 7.026612593631235, 6.161056527860932, 6.1626584768399875, 59.55366070384176, 8.969702701267233, 7.186591697718953, 21.201615942399474, 7.061288228034934, 8.096260145758233, 6.284307907053465, 5.50413740168484, 10.963574952279238, 11.943817012135874, 5.345595428439141, 18.209684095460574, 15.209380623847101, 9.240335352551032, 14.964683282950572, 12.59420474176727, 34.630161080021374, 18.63775785883154, 12.207865690269784, 5.770953189426906, 34.64086041103216, 5.6409723454261425, 6.4168071462484635, 20.993855381607375, 8.917214537865261, 14.488160218888348, 9.406065700920099, 12.207865690269784, 7.522924412845955, 14.964683282950572, 5.6409723454261425, 9.351683912443105, 6.5497009909347765, 9.340270632437512, 17.994679928468386, 9.240335352551032, 5.50413740168484, 6.6483053206367675, 6.4168071462484635, 8.096260145758233, 6.3404419272612085, 59.55366070384176, 12.59420474176727, 7.186591697718953, 21.201615942399474, 34.630161080021374, 20.662872088078878, 5.345595428439141, 5.270858672196828, 5.770953189426906, 6.161056527860932, 6.1626584768399875, 6.284307907053465, 7.061288228034934, 7.026612593631235, 7.267850110521536, 20.993855381607375, 34.64086041103216, 8.917214537865261, 16.50857187994933, 19.16608930818683, 31.477921244223854, 17.746214139304488, 34.64086041103216, 8.917214537865261, 7.267850110521536, 12.59420474176727, 5.345595428439141, 6.3404419272612085, 16.50857187994933, 6.4168071462484635, 18.209684095460574, 7.061288228034934, 6.284307907053465, 11.943817012135874, 21.201615942399474, 10.963574952279238, 6.1626584768399875, 6.161056527860932, 9.240335352551032, 7.026612593631235, 20.993855381607375, 9.340270632437512, 34.630161080021374, 9.351683912443105, 6.5497009909347765, 8.969702701267233, 59.55366070384176, 5.270858672196828, 5.50413740168484, 5.6409723454261425, 5.770953189426906, 7.522924412845955, 17.994679928468386, 9.647333298957927, 12.207865690269784, 31.477921244223854, 14.488160218888348, 9.647333298957927, 5.770953189426906, 20.993855381607375, 15.209380623847101, 11.943817012135874, 10.963574952279238, 6.6483053206367675, 16.50857187994933, 18.209684095460574, 17.994679928468386, 8.969702701267233, 7.267850110521536, 6.284307907053465, 7.186591697718953, 34.630161080021374, 31.477921244223854, 5.50413740168484, 5.345595428439141, 5.270858672196828, 5.6409723454261425, 7.061288228034934, 6.161056527860932, 6.4168071462484635, 6.1626584768399875, 6.3404419272612085, 6.5497009909347765, 7.026612593631235, 7.522924412845955, 7.876975309387169, 59.55366070384176, 20.662872088078878, 19.16608930818683, 18.734990022744448, 9.351683912443105, 12.59420474176727, 17.746214139304488, 18.63775785883154, 17.746232602898544, 17.746224911163054, 17.746236128229633, 17.746258662194418], \"Category\": [\"Default\", \"Default\", \"Default\", \"Default\", \"Default\", \"Default\", \"Default\", \"Default\", \"Default\", \"Default\", \"Default\", \"Default\", \"Default\", \"Default\", \"Default\", \"Default\", \"Default\", \"Default\", \"Default\", \"Default\", \"Default\", \"Default\", \"Default\", \"Default\", \"Default\", \"Default\", \"Default\", \"Default\", \"Default\", \"Default\", \"Topic1\", \"Topic1\", \"Topic1\", \"Topic1\", \"Topic1\", \"Topic1\", \"Topic1\", \"Topic1\", \"Topic1\", \"Topic1\", \"Topic1\", \"Topic1\", \"Topic1\", \"Topic1\", \"Topic1\", \"Topic1\", \"Topic1\", \"Topic1\", \"Topic1\", \"Topic1\", \"Topic1\", \"Topic1\", \"Topic1\", \"Topic1\", \"Topic1\", \"Topic1\", \"Topic1\", \"Topic1\", \"Topic1\", \"Topic1\", \"Topic1\", \"Topic1\", \"Topic1\", \"Topic1\", \"Topic1\", \"Topic1\", \"Topic1\", \"Topic1\", \"Topic1\", \"Topic1\", \"Topic1\", \"Topic1\", \"Topic2\", \"Topic2\", \"Topic2\", \"Topic2\", \"Topic2\", \"Topic2\", \"Topic2\", \"Topic2\", \"Topic2\", \"Topic2\", \"Topic2\", \"Topic2\", \"Topic2\", \"Topic2\", \"Topic2\", \"Topic2\", \"Topic2\", \"Topic2\", \"Topic2\", \"Topic2\", \"Topic2\", \"Topic2\", \"Topic2\", \"Topic2\", \"Topic2\", \"Topic2\", \"Topic2\", \"Topic2\", \"Topic2\", \"Topic2\", \"Topic2\", \"Topic2\", \"Topic2\", \"Topic3\", \"Topic3\", \"Topic3\", \"Topic3\", \"Topic3\", \"Topic3\", \"Topic3\", \"Topic3\", \"Topic3\", \"Topic3\", \"Topic3\", \"Topic3\", \"Topic3\", \"Topic3\", \"Topic3\", \"Topic3\", \"Topic3\", \"Topic3\", \"Topic3\", \"Topic3\", \"Topic3\", \"Topic3\", \"Topic3\", \"Topic3\", \"Topic3\", \"Topic3\", \"Topic3\", \"Topic3\", \"Topic3\", \"Topic3\", \"Topic3\", \"Topic3\", \"Topic3\", \"Topic3\", \"Topic3\", \"Topic3\", \"Topic3\", \"Topic4\", \"Topic4\", \"Topic4\", \"Topic4\", \"Topic4\", \"Topic4\", \"Topic4\", \"Topic4\", \"Topic4\", \"Topic4\", \"Topic4\", \"Topic4\", \"Topic4\", \"Topic4\", \"Topic4\", \"Topic4\", \"Topic4\", \"Topic4\", \"Topic4\", \"Topic4\", \"Topic4\", \"Topic4\", \"Topic4\", \"Topic4\", \"Topic4\", \"Topic4\", \"Topic4\", \"Topic4\", \"Topic4\", \"Topic4\", \"Topic4\", \"Topic4\", \"Topic4\", \"Topic4\", \"Topic5\", \"Topic5\", \"Topic5\", \"Topic5\", \"Topic5\", \"Topic5\", \"Topic5\", \"Topic5\", \"Topic5\", \"Topic5\", \"Topic5\", \"Topic5\", \"Topic5\", \"Topic5\", \"Topic5\", \"Topic5\", \"Topic5\", \"Topic5\", \"Topic5\", \"Topic5\", \"Topic5\", \"Topic5\", \"Topic5\", \"Topic5\", \"Topic5\", \"Topic5\", \"Topic5\", \"Topic5\", \"Topic5\", \"Topic5\", \"Topic5\", \"Topic5\", \"Topic5\", \"Topic5\", \"Topic5\", \"Topic5\", \"Topic5\", \"Topic5\", \"Topic5\", \"Topic5\", \"Topic5\", \"Topic5\"], \"logprob\": [30.0, 29.0, 28.0, 27.0, 26.0, 25.0, 24.0, 23.0, 22.0, 21.0, 20.0, 19.0, 18.0, 17.0, 16.0, 15.0, 14.0, 13.0, 12.0, 11.0, 10.0, 9.0, 8.0, 7.0, 6.0, 5.0, 4.0, 3.0, 2.0, 1.0, -2.7101, -2.7657, -2.7657, -2.7657, -2.7657, -2.7657, -2.7657, -2.7657, -2.7658, -2.7658, -2.7658, -2.7658, -2.7546, -2.6608, -2.571, -7.219, -7.1621, -7.2189, -7.2188, -7.2189, -7.1985, -7.2189, -7.1985, -7.2189, -7.2189, -7.2188, -7.219, -7.2188, -7.2188, -7.217, -7.196, -7.0377, -7.1783, -7.1919, -7.1661, -7.1955, -7.175, -7.1979, -7.1711, -7.1982, -7.1979, -7.1967, -2.2662, -1.8057, -3.2146, -3.6675, -3.4918, -3.6954, -3.7084, -1.4794, -3.4335, -3.6765, -2.6251, -3.7872, -3.6657, -4.1725, -4.5939, -3.9139, -4.0885, -4.9836, -3.8295, -4.3108, -4.9685, -4.9031, -5.2531, -4.6928, -5.313, -5.9265, -6.72, -4.9474, -6.8633, -6.7758, -6.1101, -6.6861, -6.6124, -2.7148, -2.4584, -2.9613, -2.296, -3.2828, -2.8314, -3.206, -2.8557, -2.3423, -3.0504, -3.7254, -3.5991, -3.7779, -3.7673, -4.3649, -2.1452, -3.8893, -4.745, -3.8888, -4.1254, -4.7544, -6.4922, -6.5357, -6.5309, -6.5344, -6.5341, -6.5354, -6.4573, -6.5354, -6.5355, -5.9378, -5.7088, -6.4372, -6.3948, -6.4704, -6.4862, -6.524, -1.3335, -2.7249, -3.2034, -2.6637, -3.5522, -3.4019, -2.5277, -3.7709, -2.7564, -3.9326, -4.1447, -3.6126, -3.1392, -3.8086, -4.5961, -4.6413, -4.4343, -4.7569, -3.7328, -4.5531, -3.2845, -4.7005, -5.1595, -5.332, -3.8028, -6.5422, -6.5448, -6.5373, -6.5298, -6.3056, -5.673, -6.3606, -6.308, -6.1716, -2.0741, -2.5076, -3.0821, -1.8504, -2.1828, -3.0295, -3.229, -3.7565, -2.9002, -2.8765, -3.1473, -3.8668, -4.168, -4.4931, -4.5001, -2.9608, -4.1156, -6.245, -6.2954, -6.3305, -6.3304, -6.1334, -6.3245, -6.2887, -6.3298, -6.3261, -6.329, -6.3024, -6.2792, -6.2512, -4.5573, -5.9062, -6.0483, -6.1949, -6.2838, -6.2649, -6.2562, -6.2543, -6.2568, -6.2569, -6.2589, -6.2615], \"loglift\": [30.0, 29.0, 28.0, 27.0, 26.0, 25.0, 24.0, 23.0, 22.0, 21.0, 20.0, 19.0, 18.0, 17.0, 16.0, 15.0, 14.0, 13.0, 12.0, 11.0, 10.0, 9.0, 8.0, 7.0, 6.0, 5.0, 4.0, 3.0, 2.0, 1.0, 1.0553, 1.0539, 1.0539, 1.0539, 1.0539, 1.0539, 1.0539, 1.0539, 1.0538, 1.0538, 1.0538, 1.0538, 1.016, 1.0066, 0.5801, -2.1854, -2.1963, -2.1993, -2.2285, -2.2759, -2.3212, -2.3413, -2.3496, -2.3611, -2.382, -2.4025, -2.4175, -2.4727, -2.4777, -2.4934, -2.5641, -3.1458, -2.7239, -2.6899, -3.3722, -3.0018, -3.9285, -3.224, -4.5622, -3.3925, -3.5463, -4.046, 1.4765, 1.4408, 1.4173, 1.3661, 1.2543, 1.1821, 1.1689, 1.1295, 1.0685, 1.0471, 1.0166, 0.954, 0.9387, 0.6852, 0.3964, 0.3874, 0.1271, 0.0359, -0.0357, -0.3369, -0.4963, -0.9129, -1.0906, -1.5417, -1.5424, -1.7328, -1.7771, -1.7966, -1.8976, -1.9389, -2.4585, -2.1783, -2.5899, 1.7396, 1.7353, 1.7165, 1.6941, 1.683, 1.6288, 1.6104, 1.6058, 1.4634, 1.4218, 1.2649, 1.2023, 1.059, 0.8371, 0.484, 0.4637, 0.2733, -0.0214, -0.2471, -0.9744, -1.087, -1.4727, -1.5021, -1.5879, -1.6568, -1.6569, -1.6777, -1.7162, -1.7893, -1.8232, -2.2862, -2.558, -1.9294, -2.5028, -2.7277, -3.2397, -2.7044, 1.8172, 1.7829, 1.5089, 1.4989, 1.4674, 1.447, 1.3642, 1.066, 1.0374, 0.8086, 0.7131, 0.603, 0.5025, 0.4926, 0.2812, 0.2362, 0.0379, -0.0108, -0.0812, -0.0917, -0.1334, -0.2403, -0.3431, -0.83, -1.1939, -1.5086, -1.5545, -1.5715, -1.5868, -1.6277, -1.8673, -1.9315, -2.1143, -2.9251, 1.9483, 1.9215, 1.8608, 1.8011, 1.7911, 1.1861, 1.0722, 1.045, 0.9917, 0.9173, 0.6585, 0.6352, 0.5443, 0.3646, 0.2234, 0.1903, -0.8691, -1.2547, -1.2759, -1.2969, -1.3647, -1.3922, -1.447, -1.4518, -1.4525, -1.4772, -1.5126, -1.5563, -1.6014, -1.6194, -1.9484, -2.2387, -2.3056, -2.4295, -1.8236, -2.1023, -2.4365, -2.4837, -2.4372, -2.4373, -2.4393, -2.4419]}, \"token.table\": {\"Topic\": [2, 4, 5, 2, 4, 5, 2, 2, 3, 3, 5, 1, 1, 1, 2, 3, 4, 5, 3, 1, 2, 5, 3, 3, 1, 2, 4, 2, 4, 2, 4, 2, 3, 4, 3, 5, 1, 4, 5, 2, 4, 5, 2, 5, 1, 3, 2, 3, 5, 4, 5, 1, 2, 3, 5, 1, 2, 3, 4, 1, 1, 1, 2, 3, 4, 5, 3, 4, 1, 2, 3, 4, 3, 4, 3, 4, 2, 4, 1, 2, 4, 5, 4, 3, 4, 2, 4, 5, 2, 4, 2, 1, 2, 2, 3, 4, 5, 5, 3, 4, 2, 4, 5, 2, 3], \"Freq\": [0.21966333842096392, 0.43932667684192783, 0.32949500763144585, 0.4773795371536172, 0.31825302476907813, 0.15912651238453906, 0.8886659821896283, 0.06682400028735061, 0.868712003735558, 0.6016570850896006, 0.45124281381720044, 0.9607691265459889, 0.9579481492106738, 0.9579498015383467, 0.6716631610425862, 0.2518736853909698, 0.05037473707819396, 0.016791579026064655, 0.9568293786337919, 0.957948587446741, 0.9212806581159311, 0.06353659711144352, 0.9010584060379606, 0.9304892108243141, 0.9579496112393903, 0.18706989958123144, 0.7482795983249257, 0.5664688752002903, 0.28323443760014516, 0.028867643243685934, 0.9526322270416359, 0.6131608097853666, 0.14149864841200768, 0.23583108068667946, 0.6668637646071973, 0.27785990191966553, 0.9579484241224434, 0.605745916286412, 0.3634475497718471, 0.2511759847753662, 0.2511759847753662, 0.418626641292277, 0.13149779399064804, 0.7889867639438882, 0.919523671201631, 0.04839598269482268, 0.5565920770578371, 0.13914801926445927, 0.13914801926445927, 0.6879613536280268, 0.27518454145121074, 0.9579481440614359, 0.6175690886883847, 0.3705414532130308, 0.9329002866493843, 0.9579480366489597, 0.10822118049253746, 0.6493270829552248, 0.10822118049253746, 0.9579507982126866, 0.9579502167419477, 0.606407805943334, 0.057753124375555624, 0.057753124375555624, 0.14438281093888905, 0.17325937312666687, 0.7494429525082427, 0.10706327892974894, 0.9579483948476304, 0.07940159942641015, 0.23820479827923044, 0.7146143948376913, 0.46752223210478233, 0.46752223210478233, 0.8554609068165157, 0.10693261335206446, 0.711580428460207, 0.14231608569204138, 0.9579483124146475, 0.6490705293880038, 0.16226763234700095, 0.966306265839611, 0.8971411381916984, 0.7633936277274846, 0.1526787255454969, 0.3648444980228308, 0.27363337351712314, 0.3648444980228308, 0.6492392955512725, 0.16230982388781812, 0.9486120404583079, 0.9121268839719642, 0.05365452258658612, 0.9391587251088968, 0.8863720106789992, 0.14289895521659576, 0.8097607462273759, 0.8664079981034353, 0.31543542594418367, 0.6308708518883673, 0.6689184914849323, 0.11148641524748873, 0.22297283049497746, 0.36336302204007326, 0.5450445330601098], \"Term\": [\"america\", \"america\", \"america\", \"american\", \"american\", \"american\", \"americans\", \"amp\", \"amp\", \"answer\", \"answer\", \"arizona\", \"azdem\", \"azvote\", \"biden\", \"biden\", \"biden\", \"biden\", \"ccp\", \"chandler\", \"china\", \"china\", \"chinese\", \"communist\", \"confirmher\", \"conservative\", \"conservative\", \"coronavirus\", \"coronavirus\", \"debate\", \"debate\", \"democrat\", \"democrat\", \"democrat\", \"democrats\", \"democrats\", \"fillthatseat\", \"god\", \"god\", \"good\", \"good\", \"good\", \"great\", \"great\", \"harris\", \"harris\", \"hunter\", \"hunter\", \"hunter\", \"job\", \"job\", \"jobsreport\", \"joe\", \"joe\", \"joebiden\", \"leadright\", \"liberal\", \"liberal\", \"liberal\", \"liz\", \"lizharrismba\", \"maga\", \"maga\", \"maga\", \"maga\", \"maga\", \"medium\", \"medium\", \"mesaaz\", \"moderator\", \"moderator\", \"moderator\", \"news\", \"news\", \"party\", \"party\", \"people\", \"people\", \"phoenixaz\", \"poll\", \"poll\", \"president\", \"presidential\", \"presidentialdebate\", \"presidentialdebate\", \"question\", \"question\", \"question\", \"republican\", \"republican\", \"talk\", \"today\", \"today\", \"trump\", \"twitter\", \"usa\", \"usa\", \"video\", \"virus\", \"virus\", \"vote\", \"vote\", \"vote\", \"vpdebate\", \"vpdebate\"]}, \"R\": 30, \"lambda.step\": 0.01, \"plot.opts\": {\"xlab\": \"PC1\", \"ylab\": \"PC2\"}, \"topic.order\": [5, 4, 2, 3, 1]};\n",
              "\n",
              "function LDAvis_load_lib(url, callback){\n",
              "  var s = document.createElement('script');\n",
              "  s.src = url;\n",
              "  s.async = true;\n",
              "  s.onreadystatechange = s.onload = callback;\n",
              "  s.onerror = function(){console.warn(\"failed to load library \" + url);};\n",
              "  document.getElementsByTagName(\"head\")[0].appendChild(s);\n",
              "}\n",
              "\n",
              "if(typeof(LDAvis) !== \"undefined\"){\n",
              "   // already loaded: just create the visualization\n",
              "   !function(LDAvis){\n",
              "       new LDAvis(\"#\" + \"ldavis_el741402171397564965871548638\", ldavis_el741402171397564965871548638_data);\n",
              "   }(LDAvis);\n",
              "}else if(typeof define === \"function\" && define.amd){\n",
              "   // require.js is available: use it to load d3/LDAvis\n",
              "   require.config({paths: {d3: \"https://d3js.org/d3.v5\"}});\n",
              "   require([\"d3\"], function(d3){\n",
              "      window.d3 = d3;\n",
              "      LDAvis_load_lib(\"https://cdn.jsdelivr.net/gh/bmabey/pyLDAvis@3.3.1/pyLDAvis/js/ldavis.v3.0.0.js\", function(){\n",
              "        new LDAvis(\"#\" + \"ldavis_el741402171397564965871548638\", ldavis_el741402171397564965871548638_data);\n",
              "      });\n",
              "    });\n",
              "}else{\n",
              "    // require.js not available: dynamically load d3 & LDAvis\n",
              "    LDAvis_load_lib(\"https://d3js.org/d3.v5.js\", function(){\n",
              "         LDAvis_load_lib(\"https://cdn.jsdelivr.net/gh/bmabey/pyLDAvis@3.3.1/pyLDAvis/js/ldavis.v3.0.0.js\", function(){\n",
              "                 new LDAvis(\"#\" + \"ldavis_el741402171397564965871548638\", ldavis_el741402171397564965871548638_data);\n",
              "            })\n",
              "         });\n",
              "}\n",
              "</script>"
            ]
          },
          "metadata": {},
          "execution_count": 44
        }
      ]
    },
    {
      "cell_type": "markdown",
      "source": [
        "**Tunint model N topics**\n",
        "\n",
        "We can evaluate coherence from gensim.\n",
        "Other measures are available within the Octis libary: https://github.com/mind-Lab/octis\n",
        "\n",
        "Also consider:\n",
        "\n",
        "https://towardsdatascience.com/evaluate-topic-model-in-python-latent-dirichlet-allocation-lda-7d57484bb5d0\n"
      ],
      "metadata": {
        "id": "A1IXLorTHPUT"
      }
    },
    {
      "cell_type": "code",
      "source": [
        "from gensim.models import CoherenceModel"
      ],
      "metadata": {
        "id": "_NS83s3ZESlC"
      },
      "execution_count": 45,
      "outputs": []
    },
    {
      "cell_type": "code",
      "source": [
        "# Compute Coherence Score\n",
        "coherence_model_lda = CoherenceModel(model=lda_model, texts=rep_tweets['tokens'], dictionary=dictionary, coherence='u_mass')\n",
        "coherence_lda = coherence_model_lda.get_coherence()\n",
        "print('\\nCoherence Score: ', coherence_lda)"
      ],
      "metadata": {
        "colab": {
          "base_uri": "https://localhost:8080/"
        },
        "id": "eBfpgDpEFBet",
        "outputId": "fb17de9a-6fd8-4fe5-cd84-ffd24191480d"
      },
      "execution_count": 46,
      "outputs": [
        {
          "output_type": "stream",
          "name": "stdout",
          "text": [
            "\n",
            "Coherence Score:  -11.431379358884298\n"
          ]
        }
      ]
    },
    {
      "cell_type": "markdown",
      "source": [
        "### other models\n",
        "\n",
        "Let's try LSI as an alternative approach - it is (kind of) the same as SVD.\n"
      ],
      "metadata": {
        "id": "zMz7yp3JH1tx"
      }
    },
    {
      "cell_type": "code",
      "source": [
        "# load models and utility\n",
        "from gensim.models import LsiModel, TfidfModel\n",
        "from gensim.matutils import corpus2dense"
      ],
      "metadata": {
        "id": "qrhyWmLGFfVz"
      },
      "execution_count": 47,
      "outputs": []
    },
    {
      "cell_type": "code",
      "source": [
        "# fit tfidf weights\n",
        "tfidf = TfidfModel(corpus)"
      ],
      "metadata": {
        "id": "8qLwBmDyIFl1"
      },
      "execution_count": 48,
      "outputs": []
    },
    {
      "cell_type": "code",
      "source": [
        "# apply tfidf to data\n",
        "corpus_tfidf = tfidf[corpus]"
      ],
      "metadata": {
        "id": "BSPCZLtqIXyC"
      },
      "execution_count": 49,
      "outputs": []
    },
    {
      "cell_type": "code",
      "source": [
        "corpus[2]"
      ],
      "metadata": {
        "colab": {
          "base_uri": "https://localhost:8080/"
        },
        "id": "bkOgJmNhcMUN",
        "outputId": "290277a1-9f63-4076-8057-097e57fa6b9b"
      },
      "execution_count": 51,
      "outputs": [
        {
          "output_type": "execute_result",
          "data": {
            "text/plain": [
              "[(1, 1), (3, 1), (5, 1), (6, 1), (7, 1)]"
            ]
          },
          "metadata": {},
          "execution_count": 51
        }
      ]
    },
    {
      "cell_type": "code",
      "source": [
        "corpus_tfidf[2]"
      ],
      "metadata": {
        "colab": {
          "base_uri": "https://localhost:8080/"
        },
        "id": "L8oSLAvZcTyT",
        "outputId": "512a97b1-faff-4882-ba43-5c4cb0b5883d"
      },
      "execution_count": 53,
      "outputs": [
        {
          "output_type": "execute_result",
          "data": {
            "text/plain": [
              "[(1, 0.26538829301598305),\n",
              " (3, 0.5558949347711835),\n",
              " (5, 0.5854556119119667),\n",
              " (6, 0.19375180871860104),\n",
              " (7, 0.49015491278254025)]"
            ]
          },
          "metadata": {},
          "execution_count": 53
        }
      ]
    },
    {
      "cell_type": "code",
      "source": [
        "rep_tweets['tokens'].iloc[2]"
      ],
      "metadata": {
        "colab": {
          "base_uri": "https://localhost:8080/"
        },
        "id": "g_hDr522cekX",
        "outputId": "fb240d1a-1215-4edb-ed87-b9f4df30247b"
      },
      "execution_count": 54,
      "outputs": [
        {
          "output_type": "execute_result",
          "data": {
            "text/plain": [
              "['murtaugh',\n",
              " 'biden',\n",
              " 'answer',\n",
              " 'chinese',\n",
              " 'debate',\n",
              " 'hunterslaptop',\n",
              " 'quidprojoe',\n",
              " 'presidentialdebate']"
            ]
          },
          "metadata": {},
          "execution_count": 54
        }
      ]
    },
    {
      "cell_type": "code",
      "source": [
        "# train LSI model\n",
        "lsi = LsiModel(corpus_tfidf, num_topics=10, id2word=dictionary)"
      ],
      "metadata": {
        "id": "8GvwTOAZIhLX"
      },
      "execution_count": 58,
      "outputs": []
    },
    {
      "cell_type": "code",
      "source": [
        "lsi.print_topics()"
      ],
      "metadata": {
        "colab": {
          "base_uri": "https://localhost:8080/"
        },
        "id": "wwQOlYelJGQU",
        "outputId": "61c809b8-b6c5-45ff-b2b4-883cb586c373"
      },
      "execution_count": 59,
      "outputs": [
        {
          "output_type": "execute_result",
          "data": {
            "text/plain": [
              "[(0,\n",
              "  '0.261*\"maga\" + 0.247*\"arizona\" + 0.246*\"jobsreport\" + 0.246*\"leadright\" + 0.246*\"liz\" + 0.246*\"mesaaz\" + 0.246*\"confirmher\" + 0.246*\"chandler\" + 0.246*\"azvote\" + 0.246*\"fillthatseat\"'),\n",
              " (1,\n",
              "  '0.625*\"biden\" + 0.416*\"debate\" + 0.237*\"china\" + 0.192*\"america\" + 0.171*\"democrats\" + 0.158*\"democrat\" + 0.138*\"god\" + 0.130*\"usa\" + 0.127*\"presidential\" + 0.126*\"trump\"'),\n",
              " (2,\n",
              "  '0.825*\"china\" + -0.396*\"debate\" + 0.242*\"trump\" + -0.114*\"presidential\" + 0.112*\"americans\" + 0.090*\"poll\" + 0.089*\"usa\" + -0.087*\"moderator\" + 0.086*\"talk\" + -0.086*\"biden\"'),\n",
              " (3,\n",
              "  '-0.603*\"god\" + 0.564*\"biden\" + -0.264*\"debate\" + -0.243*\"america\" + -0.221*\"president\" + -0.195*\"usa\" + -0.120*\"great\" + 0.117*\"democrats\" + -0.114*\"democrat\" + -0.113*\"good\"'),\n",
              " (4,\n",
              "  '-0.592*\"debate\" + 0.516*\"god\" + 0.291*\"biden\" + 0.290*\"democrats\" + -0.254*\"china\" + 0.172*\"president\" + -0.133*\"democrat\" + 0.132*\"joebiden\" + -0.130*\"presidential\" + 0.116*\"usa\"'),\n",
              " (5,\n",
              "  '0.767*\"democrat\" + 0.290*\"moderator\" + -0.268*\"debate\" + 0.241*\"democrats\" + -0.225*\"god\" + 0.168*\"usa\" + -0.161*\"biden\" + 0.141*\"joebiden\" + 0.134*\"republican\" + -0.110*\"china\"'),\n",
              " (6,\n",
              "  '0.751*\"democrats\" + -0.331*\"democrat\" + -0.276*\"biden\" + -0.275*\"god\" + 0.204*\"joebiden\" + 0.184*\"usa\" + 0.177*\"debate\" + 0.127*\"good\" + -0.104*\"moderator\" + 0.097*\"president\"'),\n",
              " (7,\n",
              "  '0.625*\"great\" + 0.532*\"america\" + -0.288*\"god\" + -0.214*\"democrats\" + -0.171*\"debate\" + -0.160*\"democrat\" + 0.155*\"usa\" + 0.141*\"people\" + -0.106*\"maga\" + 0.094*\"good\"'),\n",
              " (8,\n",
              "  '-0.498*\"usa\" + 0.365*\"moderator\" + 0.348*\"democrats\" + 0.297*\"great\" + -0.266*\"joebiden\" + 0.239*\"presidential\" + 0.238*\"god\" + -0.219*\"maga\" + 0.197*\"china\" + -0.135*\"president\"'),\n",
              " (9,\n",
              "  '-0.357*\"chinese\" + -0.351*\"great\" + 0.305*\"america\" + -0.277*\"ccp\" + -0.270*\"party\" + -0.260*\"communist\" + -0.252*\"amp\" + -0.224*\"maga\" + -0.176*\"job\" + 0.176*\"democrat\"')]"
            ]
          },
          "metadata": {},
          "execution_count": 59
        }
      ]
    },
    {
      "cell_type": "code",
      "source": [
        "# apply lsi (that's equivalent to SVD fit/transform in sklearn)\n",
        "corpus_lsi = lsi[corpus_tfidf]"
      ],
      "metadata": {
        "id": "W9vJVc2dIrfU"
      },
      "execution_count": 61,
      "outputs": []
    },
    {
      "cell_type": "code",
      "source": [
        "corpus_lsi[0]"
      ],
      "metadata": {
        "colab": {
          "base_uri": "https://localhost:8080/"
        },
        "id": "ttKE5-MrdgeK",
        "outputId": "0ad7e82f-2d86-4f39-9ef6-563d1db5a168"
      },
      "execution_count": 62,
      "outputs": [
        {
          "output_type": "execute_result",
          "data": {
            "text/plain": [
              "[(0, 0.05098304688095354),\n",
              " (1, 0.1580096731383885),\n",
              " (2, -0.038668779334189295),\n",
              " (3, -0.11413962773292163),\n",
              " (4, -0.13320731934522226),\n",
              " (5, 0.7673715227005606),\n",
              " (6, -0.33062190138714637),\n",
              " (7, -0.15977979572854958),\n",
              " (8, -0.01089939746792537),\n",
              " (9, 0.17560037583944077)]"
            ]
          },
          "metadata": {},
          "execution_count": 62
        }
      ]
    },
    {
      "cell_type": "code",
      "source": [
        "# turning it back into a matrix\n",
        "lsi_matrix = corpus2dense(corpus_lsi, num_terms = 10)"
      ],
      "metadata": {
        "id": "tSkgsEB7IxGZ"
      },
      "execution_count": 63,
      "outputs": []
    },
    {
      "cell_type": "code",
      "source": [
        "# getting the top topic-index per doc.\n",
        "np.argmax(lsi_matrix.T[0])"
      ],
      "metadata": {
        "colab": {
          "base_uri": "https://localhost:8080/"
        },
        "id": "A18Na5E0Iyg-",
        "outputId": "acbf7c60-9bf3-4010-dcbe-877902f503be"
      },
      "execution_count": 67,
      "outputs": [
        {
          "output_type": "execute_result",
          "data": {
            "text/plain": [
              "5"
            ]
          },
          "metadata": {},
          "execution_count": 67
        }
      ]
    },
    {
      "cell_type": "code",
      "source": [],
      "metadata": {
        "id": "N8HyeLp7eiKK"
      },
      "execution_count": null,
      "outputs": []
    }
  ]
}