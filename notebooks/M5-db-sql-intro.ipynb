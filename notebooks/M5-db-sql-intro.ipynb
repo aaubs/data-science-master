{
  "nbformat": 4,
  "nbformat_minor": 0,
  "metadata": {
    "colab": {
      "private_outputs": true,
      "provenance": [],
      "authorship_tag": "ABX9TyNG1EXizR3bVBgVjvVa6cXM",
      "include_colab_link": true
    },
    "kernelspec": {
      "name": "python3",
      "display_name": "Python 3"
    },
    "language_info": {
      "name": "python"
    }
  },
  "cells": [
    {
      "cell_type": "markdown",
      "metadata": {
        "id": "view-in-github",
        "colab_type": "text"
      },
      "source": [
        "<a href=\"https://colab.research.google.com/github/aaubs/ds-master/blob/main/notebooks/M5-db-sql-intro.ipynb\" target=\"_parent\"><img src=\"https://colab.research.google.com/assets/colab-badge.svg\" alt=\"Open In Colab\"/></a>"
      ]
    },
    {
      "cell_type": "code",
      "source": [
        "import sqlite3\n",
        "import pandas as pd"
      ],
      "metadata": {
        "id": "pcIJQ10evwMg"
      },
      "execution_count": null,
      "outputs": []
    },
    {
      "cell_type": "markdown",
      "source": [
        "# Introduction to the Structured Quary LAnguage (SQL)\n",
        "\n",
        "Text......"
      ],
      "metadata": {
        "id": "6LBp5R5TufRy"
      }
    },
    {
      "cell_type": "code",
      "execution_count": null,
      "metadata": {
        "id": "8e8-VJHCmLnP"
      },
      "outputs": [],
      "source": [
        "!wget -O flights.db https://github.com/aaubs/ds-master/blob/main/data/flights.db?raw=true.1"
      ]
    },
    {
      "cell_type": "code",
      "source": [
        "# Establish connection to DB\n",
        "con = sqlite3.connect(\"flights.db\")\n",
        "\n",
        "#. Set up a cursor\n",
        "cur = con.cursor()"
      ],
      "metadata": {
        "id": "nQYy9m_cr59t"
      },
      "execution_count": null,
      "outputs": []
    },
    {
      "cell_type": "code",
      "source": [
        "# Defining a query\n",
        "sql_query = \"\"\"\n",
        "  SELECT name FROM sqlite_master\n",
        "  WHERE type='table';\n",
        "  \"\"\"\n",
        "    \n",
        "# executing our sql query\n",
        "cur.execute(sql_query)"
      ],
      "metadata": {
        "id": "48dVn2rlFeGx"
      },
      "execution_count": null,
      "outputs": []
    },
    {
      "cell_type": "code",
      "source": [
        "# Fetching teh results\n",
        "cur.fetchall()"
      ],
      "metadata": {
        "id": "kC4cSbHnGPpn"
      },
      "execution_count": null,
      "outputs": []
    },
    {
      "cell_type": "markdown",
      "source": [
        "We have three different tables in the database.\n",
        "\n"
      ],
      "metadata": {
        "id": "WZsBhIF_wu5h"
      }
    },
    {
      "cell_type": "code",
      "source": [
        "query = pd.read_sql_query('''select * from airports limit 5;''', con)\n",
        "query"
      ],
      "metadata": {
        "id": "8xXk23W6E_jQ"
      },
      "execution_count": null,
      "outputs": []
    },
    {
      "cell_type": "code",
      "source": [
        "query = pd.read_sql_query('''select * from airlines limit 5;''', con)\n",
        "query"
      ],
      "metadata": {
        "id": "fz8vsImSttFy"
      },
      "execution_count": null,
      "outputs": []
    },
    {
      "cell_type": "code",
      "source": [
        "query = pd.read_sql_query('''select * from routes limit 5;''', con)\n",
        "query"
      ],
      "metadata": {
        "id": "-XWUK1KD9LvT"
      },
      "execution_count": null,
      "outputs": []
    },
    {
      "cell_type": "markdown",
      "source": [],
      "metadata": {
        "id": "uHeC3HnDueOn"
      }
    }
  ]
}