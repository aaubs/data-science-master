{
  "nbformat": 4,
  "nbformat_minor": 0,
  "metadata": {
    "colab": {
      "provenance": [],
      "authorship_tag": "ABX9TyNNNcPL58jPUfFgFAUr2Jr2",
      "include_colab_link": true
    },
    "kernelspec": {
      "name": "python3",
      "display_name": "Python 3"
    },
    "language_info": {
      "name": "python"
    },
    "gpuClass": "standard"
  },
  "cells": [
    {
      "cell_type": "markdown",
      "metadata": {
        "id": "view-in-github",
        "colab_type": "text"
      },
      "source": [
        "<a href=\"https://colab.research.google.com/github/aaubs/ds-master/blob/main/notebooks/M5-db-sql-intro.ipynb\" target=\"_parent\"><img src=\"https://colab.research.google.com/assets/colab-badge.svg\" alt=\"Open In Colab\"/></a>"
      ]
    },
    {
      "cell_type": "code",
      "source": [
        "import sqlite3\n",
        "import pandas as pd"
      ],
      "metadata": {
        "id": "pcIJQ10evwMg"
      },
      "execution_count": null,
      "outputs": []
    },
    {
      "cell_type": "markdown",
      "source": [
        "# Introduction to the Structured Query Language (SQL)"
      ],
      "metadata": {
        "id": "6LBp5R5TufRy"
      }
    },
    {
      "cell_type": "markdown",
      "source": [
        "## SQL vs NoSQL Databases\n",
        "\n",
        "### SQL Databases\n",
        "* Structured Query Language (SQL)\n",
        "* Pre-defined schema\n",
        "* Relational databases (tables with relationships)\n",
        "* Examples: MySQL, PostgreSQL, Oracle, MS SQL Server\n",
        "\n",
        "### NoSQL Databases\n",
        "* Not only SQL\n",
        "* Flexible schema\n",
        "* Non-relational databases (document, key-value, column-family, graph)\n",
        "* Examples: MongoDB, Cassandra, Redis, Neo4j\n",
        "\n",
        "## Relational Databases \n",
        "\n",
        "* Relational database managament systems (RDBMS) store data in tables with rows and columns\n",
        "  * Each row represents a record or an entity\n",
        "  * Each column represents an attribute of the record\n",
        "* Tables are connected through relationships (primary and foreign keys)\n",
        "\n",
        "Example: \n",
        "\n",
        "| id | first_name | last_name | age | affiliation_id |\n",
        "|----|------------|-----------|-----|----------------|\n",
        "| 1  | John       | Doe       | 30  | 1337           |\n",
        "| 2  | Jane       | Smith     | 25  | 1505           |\n",
        "\n",
        "## SQL\n",
        "\n",
        "* SQL stands for Structured Query Language\n",
        "* SQL is a domain-specific language for managing relational databases\n",
        "* CRUD operations: Create, Read, Update, and Delete data\n",
        "* Used to communicate with relational databases\n",
        "* Allows you to create, read, update, and delete data\n",
        "* Commonly used in data analytics, data science, and data engineering\n",
        "\n",
        "## Advantages of SQL\n",
        "* Data integrity through schema enforcement and constraints\n",
        "* ACID transactions (Atomicity, Consistency, Isolation, Durability)\n",
        "* Standardized language (SQL) for querying and managing data\n",
        "* Mature technology with extensive community support\n",
        "\n",
        "## Applications of SQL\n",
        "\n",
        "### Business Analytics\n",
        "* Data warehousing for storing historical data\n",
        "* Structured data analysis for business intelligence and reporting\n",
        "* Support for complex queries and aggregations for decision-making\n",
        "\n",
        "### Machine Learning\n",
        "* Data preprocessing for machine learning algorithms\n",
        "* Feature engineering to create relevant features from raw data\n",
        "* Joining multiple data sources for a comprehensive dataset\n",
        "* Storing and managing machine learning model metadata and results\n",
        "\n",
        "## SQL Syntax Overview\n",
        "\n",
        "* SELECT: Read data from the database\n",
        "* INSERT: Add new records to the database\n",
        "* UPDATE: Modify existing records in the database\n",
        "* DELETE: Remove records from the database\n",
        "* CREATE, ALTER, DROP: Manage database structure\n"
      ],
      "metadata": {
        "id": "TLJ5VZ_T8TAk"
      }
    },
    {
      "cell_type": "markdown",
      "source": [
        "## Types of SQL databases\n",
        "\n",
        "### MySQL\n",
        "MySQL is one of the most popular fully-managed database types in SQL-based management. It originally started as an open-source project built on C and C++ and has now been acquired by Oracle Corporation.\n",
        "\n",
        "### PostgreSQL\n",
        "PostgreSQL is an advanced type of database in SQL management systems that seeks to step up MySQL solutions. PostgreSQL blends the traditional table-based approach with user-defined objects to create resilient databases supporting and analyzing complex and voluminous data. PostgreSQL is an open-source, freely-accessibly service owned by the PostgreSQL Global Development Group.\n",
        "\n",
        "### SQLite\n",
        "SQLite is a type of SQL database or storage engine structurally considered equivalent to a C library. It is embedded within other applications to enhance their storage capabilities. It is often used as the on-disk file format in applications for financial analysis, cataloging, etc.\n",
        "\n",
        "### Microsoft SQL Server\n",
        "Microsoft SQL Server (MSSQL) is one of the most popular DBMS in SQL for innovative management solutions. T-SQL, a derivative of SQL, is used to interact with MSSQL databases. The 2019 version of MSSQL comes integrated with Apache Spark and Hadoop Distributed File System for big data management and analysis.\n",
        "\n",
        "### MariaDB\n",
        "MariaDB is an open-source fork of MySQL. It intends to remain freely accessible to all under the General Public License. It is a database management system in SQL that seeks to be an alternative to MySQL DBMS.\n",
        "\n",
        "### Oracle\n",
        "The relational database management system provided by Oracle Corp. is a multi-model RDBMS that can support diverse, multiple workloads. This DBMS type in SQL is commonly used for online transaction processing and data warehousing.\n"
      ],
      "metadata": {
        "id": "gg0gtf6MQtyb"
      }
    },
    {
      "cell_type": "markdown",
      "source": [
        "# First steps in SQL(ite)\n",
        "\n",
        "SQLite is a lightweight, serverless, and self-contained database engine that's easy to set up and use within Python applications. In comparison to other SQL dastabases, it does not require a sepperated server.\n",
        "\n",
        "The sqlite3 module is included in the Python standard library, so you don't need to install any additional packages to use it."
      ],
      "metadata": {
        "id": "UFBdds0uB3JZ"
      }
    },
    {
      "cell_type": "markdown",
      "source": [
        "## Create and populate a database\n",
        "\n",
        "In this example, we'll create a SQLite database for a music streaming service like Spotify. The database will have the following tables: \n",
        "\n",
        "1. artists\n",
        "2. albums\n",
        "3. tracks\n",
        "4. playlists\n",
        "5. playlist_tracks\n",
        "\n",
        "We'll also insert sample data into these tables. In the schema, we will also define the relationship within and between the tables (primary & foreign key).\n",
        "\n",
        "Let's start by connecting to the SQLite database and creating a few records in the tables:"
      ],
      "metadata": {
        "id": "yeBOg78zRExZ"
      }
    },
    {
      "cell_type": "code",
      "source": [
        "# Connect to the SQLite database (creates a new file if it doesn't exist)\n",
        "conn = sqlite3.connect('music.db')\n",
        "\n",
        "# Set up a cursor (pointer to rows in database)\n",
        "c = conn.cursor()"
      ],
      "metadata": {
        "id": "jpSJ8NyJOMMu"
      },
      "execution_count": null,
      "outputs": []
    },
    {
      "cell_type": "code",
      "source": [
        "# Create the `artists` table\n",
        "c.execute('''\n",
        "CREATE TABLE artists (\n",
        "    id INTEGER PRIMARY KEY,\n",
        "    name TEXT\n",
        ")\n",
        "''')\n",
        "\n",
        "# Note: Primary key is the unique identifier of the table"
      ],
      "metadata": {
        "id": "67e6tXo_OMWF",
        "outputId": "70d71f20-a862-4926-ff69-86a58f38b0ef",
        "colab": {
          "base_uri": "https://localhost:8080/"
        }
      },
      "execution_count": null,
      "outputs": [
        {
          "output_type": "execute_result",
          "data": {
            "text/plain": [
              "<sqlite3.Cursor at 0x7ff66443f9d0>"
            ]
          },
          "metadata": {},
          "execution_count": 17
        }
      ]
    },
    {
      "cell_type": "code",
      "source": [
        "# Insert sample data into the `artists` table\n",
        "artists_data = [\n",
        "    (1, 'The Beatles'),\n",
        "    (2, 'Pink Floyd'),\n",
        "    (3, 'Led Zeppelin'),\n",
        "    (4, 'Queen')\n",
        "]"
      ],
      "metadata": {
        "id": "4eFAsBoTOMdN"
      },
      "execution_count": null,
      "outputs": []
    },
    {
      "cell_type": "code",
      "source": [
        "# with executemany get several rows in at once\n",
        "c.executemany(\"INSERT INTO artists (id, name) VALUES (?, ?)\", artists_data)"
      ],
      "metadata": {
        "id": "H3atweUxOMhG",
        "outputId": "994e8239-f9c1-4d83-cb5c-3c8839a3c20d",
        "colab": {
          "base_uri": "https://localhost:8080/"
        }
      },
      "execution_count": null,
      "outputs": [
        {
          "output_type": "execute_result",
          "data": {
            "text/plain": [
              "<sqlite3.Cursor at 0x7ff66443f9d0>"
            ]
          },
          "metadata": {},
          "execution_count": 19
        }
      ]
    },
    {
      "cell_type": "code",
      "source": [
        "# Create the `albums` table\n",
        "c.execute('''\n",
        "CREATE TABLE albums (\n",
        "    id INTEGER PRIMARY KEY,\n",
        "    name TEXT,\n",
        "    artist_id INTEGER,\n",
        "    release_year INTEGER,\n",
        "    FOREIGN KEY (artist_id) REFERENCES artists (id)\n",
        ")\n",
        "''')\n",
        "\n",
        "# Note: Foreign key connects to other tables"
      ],
      "metadata": {
        "id": "n2J0pI79OMoa",
        "outputId": "e926064e-3c68-4d5f-832c-7c9aa48e58c9",
        "colab": {
          "base_uri": "https://localhost:8080/"
        }
      },
      "execution_count": null,
      "outputs": [
        {
          "output_type": "execute_result",
          "data": {
            "text/plain": [
              "<sqlite3.Cursor at 0x7ff66443f9d0>"
            ]
          },
          "metadata": {},
          "execution_count": 20
        }
      ]
    },
    {
      "cell_type": "code",
      "source": [
        "# Insert sample data into the `albums` table\n",
        "albums_data = [\n",
        "    (1, 'Abbey Road', 1, 1969),\n",
        "    (2, 'The Wall', 2, 1979),\n",
        "    (3, 'IV', 3, 1971),\n",
        "    (4, 'A Night at the Opera', 4, 1975)\n",
        "]"
      ],
      "metadata": {
        "id": "N5w7fwfVOMsw"
      },
      "execution_count": null,
      "outputs": []
    },
    {
      "cell_type": "code",
      "source": [
        "c.executemany(\"INSERT INTO albums (id, name, artist_id, release_year) VALUES (?, ?, ?, ?)\", albums_data)"
      ],
      "metadata": {
        "id": "MMGfHeM2OMv2",
        "outputId": "2f5b8189-2a69-45e4-f8a4-7662fb9ad0fd",
        "colab": {
          "base_uri": "https://localhost:8080/"
        }
      },
      "execution_count": null,
      "outputs": [
        {
          "output_type": "execute_result",
          "data": {
            "text/plain": [
              "<sqlite3.Cursor at 0x7ff66443f9d0>"
            ]
          },
          "metadata": {},
          "execution_count": 22
        }
      ]
    },
    {
      "cell_type": "code",
      "source": [
        "# Create the `tracks` table\n",
        "c.execute('''\n",
        "CREATE TABLE tracks (\n",
        "    id INTEGER PRIMARY KEY,\n",
        "    name TEXT,\n",
        "    album_id INTEGER,\n",
        "    duration INTEGER,  -- Duration in seconds\n",
        "    FOREIGN KEY (album_id) REFERENCES albums (id)\n",
        ")\n",
        "''')"
      ],
      "metadata": {
        "id": "ZDPwxpNLOesN",
        "outputId": "d53933fa-7c8d-4bf5-fd6e-4c84535823ba",
        "colab": {
          "base_uri": "https://localhost:8080/"
        }
      },
      "execution_count": null,
      "outputs": [
        {
          "output_type": "execute_result",
          "data": {
            "text/plain": [
              "<sqlite3.Cursor at 0x7ff66443f9d0>"
            ]
          },
          "metadata": {},
          "execution_count": 23
        }
      ]
    },
    {
      "cell_type": "code",
      "source": [
        "# Insert sample data into the `tracks` table\n",
        "tracks_data = [\n",
        "    (1, 'Come Together', 1, 260),\n",
        "    (2, 'Something', 1, 182),\n",
        "    (3, 'Another Brick in the Wall', 2, 231),\n",
        "    (4, 'Mother', 2, 334),\n",
        "    (5, 'Stairway to Heaven', 3, 482),\n",
        "    (6, 'Black Dog', 3, 296),\n",
        "    (7, 'Bohemian Rhapsody', 4, 355),\n",
        "    (8, 'You\\'re My Best Friend', 4, 163)\n",
        "]"
      ],
      "metadata": {
        "id": "PAkLRiLtOewI"
      },
      "execution_count": null,
      "outputs": []
    },
    {
      "cell_type": "code",
      "source": [
        "c.executemany(\"INSERT INTO tracks (id, name, album_id, duration) VALUES (?, ?, ?, ?)\", tracks_data)"
      ],
      "metadata": {
        "id": "CpP6NBorOe0A",
        "outputId": "c73e3dea-29cf-4353-ee79-45b8a35e8ce8",
        "colab": {
          "base_uri": "https://localhost:8080/"
        }
      },
      "execution_count": null,
      "outputs": [
        {
          "output_type": "execute_result",
          "data": {
            "text/plain": [
              "<sqlite3.Cursor at 0x7ff66443f9d0>"
            ]
          },
          "metadata": {},
          "execution_count": 25
        }
      ]
    },
    {
      "cell_type": "code",
      "source": [
        "# Create the `playlists` table\n",
        "c.execute('''\n",
        "CREATE TABLE playlists (\n",
        "    id INTEGER PRIMARY KEY,\n",
        "    name TEXT\n",
        ")\n",
        "''')"
      ],
      "metadata": {
        "id": "tpFJcTDzOlNm",
        "outputId": "7766c1cd-fab1-43fb-d9e9-18e4a2d38d8b",
        "colab": {
          "base_uri": "https://localhost:8080/"
        }
      },
      "execution_count": null,
      "outputs": [
        {
          "output_type": "execute_result",
          "data": {
            "text/plain": [
              "<sqlite3.Cursor at 0x7ff66443f9d0>"
            ]
          },
          "metadata": {},
          "execution_count": 26
        }
      ]
    },
    {
      "cell_type": "code",
      "source": [
        "# Insert sample data into the `playlists` table\n",
        "playlists_data = [\n",
        "    (1, 'Classic Rock'),\n",
        "    (2, 'Best of 70s')\n",
        "]"
      ],
      "metadata": {
        "id": "CgqLbgWkOlWr"
      },
      "execution_count": null,
      "outputs": []
    },
    {
      "cell_type": "code",
      "source": [
        "c.executemany(\"INSERT INTO playlists (id, name) VALUES (?, ?)\", playlists_data)"
      ],
      "metadata": {
        "id": "gpRkobeuOqg1",
        "outputId": "7fe73773-95a6-4aec-b5fd-d9e79d8417b4",
        "colab": {
          "base_uri": "https://localhost:8080/"
        }
      },
      "execution_count": null,
      "outputs": [
        {
          "output_type": "execute_result",
          "data": {
            "text/plain": [
              "<sqlite3.Cursor at 0x7ff66443f9d0>"
            ]
          },
          "metadata": {},
          "execution_count": 28
        }
      ]
    },
    {
      "cell_type": "code",
      "source": [
        "# Create the `playlist_tracks` table\n",
        "c.execute('''\n",
        "CREATE TABLE playlist_tracks (\n",
        "    id INTEGER PRIMARY KEY,\n",
        "    playlist_id INTEGER,\n",
        "    track_id INTEGER,\n",
        "    FOREIGN KEY (playlist_id) REFERENCES playlists (id),\n",
        "    FOREIGN KEY (track_id) REFERENCES tracks (id)\n",
        ")\n",
        "''')"
      ],
      "metadata": {
        "id": "tY8fBO9zOstu",
        "outputId": "aa632cdd-1204-4332-a49b-bc1974f9a4c8",
        "colab": {
          "base_uri": "https://localhost:8080/"
        }
      },
      "execution_count": null,
      "outputs": [
        {
          "output_type": "execute_result",
          "data": {
            "text/plain": [
              "<sqlite3.Cursor at 0x7ff66443f9d0>"
            ]
          },
          "metadata": {},
          "execution_count": 29
        }
      ]
    },
    {
      "cell_type": "code",
      "source": [
        "# Insert sample data into the `playlist_tracks` table\n",
        "playlist_tracks_data = [\n",
        "    (1, 1, 1),\n",
        "    (2, 1, 3),\n",
        "    (3, 1, 2)\n",
        "]"
      ],
      "metadata": {
        "id": "wcD6EL8JOFpU"
      },
      "execution_count": null,
      "outputs": []
    },
    {
      "cell_type": "code",
      "source": [
        "c.executemany(\"INSERT INTO playlist_tracks (id, playlist_id, track_id) VALUES (?, ?,?)\", playlist_tracks_data)"
      ],
      "metadata": {
        "id": "F42U-H4DPATQ",
        "outputId": "7c958e67-cd4e-462c-fc86-371657578d10",
        "colab": {
          "base_uri": "https://localhost:8080/"
        }
      },
      "execution_count": null,
      "outputs": [
        {
          "output_type": "execute_result",
          "data": {
            "text/plain": [
              "<sqlite3.Cursor at 0x7ff66443f9d0>"
            ]
          },
          "metadata": {},
          "execution_count": 33
        }
      ]
    },
    {
      "cell_type": "code",
      "source": [
        "# Query the schema for each table from the `sqlite_master` table\n",
        "c.execute(\"SELECT name, sql FROM sqlite_master WHERE type='table' ORDER BY name\")\n",
        "schemas = c.fetchall()\n",
        "\n",
        "# Print the schema for each table\n",
        "for schema in schemas:\n",
        "    table_name, table_schema = schema\n",
        "    print(f\"Table: {table_name}\\nSchema:\\n{table_schema}\\n\")"
      ],
      "metadata": {
        "id": "okZVMDdzPjrg",
        "outputId": "0bc9d563-6d50-4899-f0d5-859703e07316",
        "colab": {
          "base_uri": "https://localhost:8080/"
        }
      },
      "execution_count": null,
      "outputs": [
        {
          "output_type": "stream",
          "name": "stdout",
          "text": [
            "Table: albums\n",
            "Schema:\n",
            "CREATE TABLE albums (\n",
            "    id INTEGER PRIMARY KEY,\n",
            "    name TEXT,\n",
            "    artist_id INTEGER,\n",
            "    release_year INTEGER,\n",
            "    FOREIGN KEY (artist_id) REFERENCES artists (id)\n",
            ")\n",
            "\n",
            "Table: artists\n",
            "Schema:\n",
            "CREATE TABLE artists (\n",
            "    id INTEGER PRIMARY KEY,\n",
            "    name TEXT\n",
            ")\n",
            "\n",
            "Table: playlist_tracks\n",
            "Schema:\n",
            "CREATE TABLE playlist_tracks (\n",
            "    id INTEGER PRIMARY KEY,\n",
            "    playlist_id INTEGER,\n",
            "    track_id INTEGER,\n",
            "    FOREIGN KEY (playlist_id) REFERENCES playlists (id),\n",
            "    FOREIGN KEY (track_id) REFERENCES tracks (id)\n",
            ")\n",
            "\n",
            "Table: playlists\n",
            "Schema:\n",
            "CREATE TABLE playlists (\n",
            "    id INTEGER PRIMARY KEY,\n",
            "    name TEXT\n",
            ")\n",
            "\n",
            "Table: tracks\n",
            "Schema:\n",
            "CREATE TABLE tracks (\n",
            "    id INTEGER PRIMARY KEY,\n",
            "    name TEXT,\n",
            "    album_id INTEGER,\n",
            "    duration INTEGER,  -- Duration in seconds\n",
            "    FOREIGN KEY (album_id) REFERENCES albums (id)\n",
            ")\n",
            "\n"
          ]
        }
      ]
    },
    {
      "cell_type": "markdown",
      "source": [
        "## Querying SQL\n",
        "\n",
        "Now, let's demonstrate some common SQLite commands:\n",
        "\n",
        "* **SELECT:** Fetch data from a table."
      ],
      "metadata": {
        "id": "nwYJ0k5UWUkZ"
      }
    },
    {
      "cell_type": "code",
      "source": [
        "c.execute(\"SELECT * FROM artists\")\n",
        "artists = c.fetchall()\n",
        "for artist in artists:\n",
        "    print(artist)"
      ],
      "metadata": {
        "id": "OzC-JTsEXJhY",
        "outputId": "47781e4b-ddf1-4a9f-e1d4-f3bf76dc0f44",
        "colab": {
          "base_uri": "https://localhost:8080/"
        }
      },
      "execution_count": null,
      "outputs": [
        {
          "output_type": "stream",
          "name": "stdout",
          "text": [
            "(1, 'The Beatles')\n",
            "(2, 'Pink Floyd')\n",
            "(3, 'Led Zeppelin')\n",
            "(4, 'Queen')\n"
          ]
        }
      ]
    },
    {
      "cell_type": "markdown",
      "source": [
        "* **WHERE:** Filter rows based on a condition.\n"
      ],
      "metadata": {
        "id": "sA815c3rXkXO"
      }
    },
    {
      "cell_type": "code",
      "source": [
        "c.execute(\"SELECT * FROM albums WHERE release_year >= 1970\")\n",
        "albums = c.fetchall()\n",
        "for album in albums:\n",
        "    print(album)"
      ],
      "metadata": {
        "id": "_y7UP1KcXpYx",
        "outputId": "81d5d7f6-cafc-422c-85f0-631885b8cb2c",
        "colab": {
          "base_uri": "https://localhost:8080/"
        }
      },
      "execution_count": null,
      "outputs": [
        {
          "output_type": "stream",
          "name": "stdout",
          "text": [
            "(2, 'The Wall', 2, 1979)\n",
            "(3, 'IV', 3, 1971)\n",
            "(4, 'A Night at the Opera', 4, 1975)\n"
          ]
        }
      ]
    },
    {
      "cell_type": "markdown",
      "source": [
        "* **ORDER BY:** Arrange rows based on a column."
      ],
      "metadata": {
        "id": "C7yA5yGeYGXm"
      }
    },
    {
      "cell_type": "code",
      "source": [
        "c.execute(\"SELECT * FROM albums ORDER BY release_year DESC\")\n",
        "sorted_albums = c.fetchall()\n",
        "for album in sorted_albums:\n",
        "    print(album)"
      ],
      "metadata": {
        "id": "GLEJIpNrYmDv",
        "outputId": "5d243143-d162-41fb-a6ad-cf4960613fa6",
        "colab": {
          "base_uri": "https://localhost:8080/"
        }
      },
      "execution_count": null,
      "outputs": [
        {
          "output_type": "stream",
          "name": "stdout",
          "text": [
            "(2, 'The Wall', 2, 1979)\n",
            "(4, 'A Night at the Opera', 4, 1975)\n",
            "(3, 'IV', 3, 1971)\n",
            "(1, 'Abbey Road', 1, 1969)\n"
          ]
        }
      ]
    },
    {
      "cell_type": "markdown",
      "source": [
        "* **JOIN:** Combine tables based on common columns. (you know that already)"
      ],
      "metadata": {
        "id": "pV7ndHIFYv-W"
      }
    },
    {
      "cell_type": "code",
      "source": [
        "c.execute(\"\"\"\n",
        "    SELECT tracks.name AS track_name, albums.name AS album_name, artists.name AS artist_name\n",
        "    FROM tracks\n",
        "    JOIN albums ON tracks.album_id = albums.id\n",
        "    JOIN artists ON albums.artist_id = artists.id\n",
        "\"\"\")\n",
        "track_details = c.fetchall()\n",
        "for track in track_details:\n",
        "    print(track)\n"
      ],
      "metadata": {
        "id": "6RzWQ24uY7Lg",
        "outputId": "eb4ffd2f-0b21-4fd9-c2df-a0b6519fe8c9",
        "colab": {
          "base_uri": "https://localhost:8080/"
        }
      },
      "execution_count": null,
      "outputs": [
        {
          "output_type": "stream",
          "name": "stdout",
          "text": [
            "('Come Together', 'Abbey Road', 'The Beatles')\n",
            "('Something', 'Abbey Road', 'The Beatles')\n",
            "('Another Brick in the Wall', 'The Wall', 'Pink Floyd')\n",
            "('Mother', 'The Wall', 'Pink Floyd')\n",
            "('Stairway to Heaven', 'IV', 'Led Zeppelin')\n",
            "('Black Dog', 'IV', 'Led Zeppelin')\n",
            "('Bohemian Rhapsody', 'A Night at the Opera', 'Queen')\n",
            "(\"You're My Best Friend\", 'A Night at the Opera', 'Queen')\n"
          ]
        }
      ]
    },
    {
      "cell_type": "markdown",
      "source": [
        "* **GROUP BY:** operations on group level (like in pandas)."
      ],
      "metadata": {
        "id": "e7u4R5sKZ3tv"
      }
    },
    {
      "cell_type": "code",
      "source": [
        "c.execute(\"\"\"\n",
        "    SELECT artists.name, SUM(tracks.duration) AS total_duration\n",
        "    FROM tracks\n",
        "    JOIN albums ON tracks.album_id = albums.id\n",
        "    JOIN artists ON albums.artist_id = artists.id\n",
        "    GROUP BY artists.id\n",
        "\"\"\")\n",
        "artist_durations = c.fetchall()\n",
        "for artist_duration in artist_durations:\n",
        "    print(artist_duration)"
      ],
      "metadata": {
        "id": "26TGLIdAaUjA",
        "outputId": "5d3a89b6-4686-48ce-baad-a4e50aceb40e",
        "colab": {
          "base_uri": "https://localhost:8080/"
        }
      },
      "execution_count": null,
      "outputs": [
        {
          "output_type": "stream",
          "name": "stdout",
          "text": [
            "('The Beatles', 442)\n",
            "('Pink Floyd', 565)\n",
            "('Led Zeppelin', 778)\n",
            "('Queen', 518)\n"
          ]
        }
      ]
    },
    {
      "cell_type": "markdown",
      "source": [
        "Now, let's combine multiple commands into a more complex query. This query will fetch the track names and their artist names, along with the total duration of tracks per artist, for tracks that are part of the \"Classic Rock\" playlist, ordered by the artist's name:"
      ],
      "metadata": {
        "id": "C6vsi3yRag3Q"
      }
    },
    {
      "cell_type": "code",
      "source": [
        "sql_query = \"\"\"\n",
        "    SELECT\n",
        "        artists.name AS artist_name,\n",
        "        tracks.name AS track_name,\n",
        "        SUM(tracks.duration) OVER (PARTITION BY artists.id) AS total_duration\n",
        "    FROM tracks\n",
        "    JOIN albums ON tracks.album_id = albums.id\n",
        "    JOIN artists ON albums.artist_id = artists.id\n",
        "    JOIN playlist_tracks ON tracks.id = playlist_tracks.track_id\n",
        "    JOIN playlists ON playlist_tracks.playlist_id = playlists.id\n",
        "    WHERE playlists.name = \"Classic Rock\"\n",
        "    ORDER BY artists.name\n",
        "\"\"\""
      ],
      "metadata": {
        "id": "zxDeEBFggfXl"
      },
      "execution_count": null,
      "outputs": []
    },
    {
      "cell_type": "code",
      "source": [
        "c.execute(sql_query)\n",
        "results = c.fetchall()\n",
        "for result in results:\n",
        "    print(result)"
      ],
      "metadata": {
        "id": "o6p0mYn1antw",
        "outputId": "28b79ce1-d9b7-4fe4-9f90-f28367d4c91b",
        "colab": {
          "base_uri": "https://localhost:8080/"
        }
      },
      "execution_count": null,
      "outputs": [
        {
          "output_type": "stream",
          "name": "stdout",
          "text": [
            "('Pink Floyd', 'Another Brick in the Wall', 231)\n",
            "('The Beatles', 'Come Together', 442)\n",
            "('The Beatles', 'Something', 442)\n"
          ]
        }
      ]
    },
    {
      "cell_type": "code",
      "source": [
        "df = pd.read_sql_query(sql_query, conn)"
      ],
      "metadata": {
        "id": "A3-GbhwUgckt"
      },
      "execution_count": null,
      "outputs": []
    },
    {
      "cell_type": "code",
      "source": [
        "# Close comnnection once you are done\n",
        "conn.close()"
      ],
      "metadata": {
        "id": "tWfnmGXGb82y"
      },
      "execution_count": null,
      "outputs": []
    },
    {
      "cell_type": "markdown",
      "source": [
        "## Practice a bit"
      ],
      "metadata": {
        "id": "FQkLmWD39Rg1"
      }
    },
    {
      "cell_type": "code",
      "source": [
        "### useful: download and extract chinook sample DB\n",
        "import urllib.request\n",
        "import zipfile\n",
        "from functools import partial\n",
        "import os\n",
        "\n",
        "chinook_url = 'http://www.sqlitetutorial.net/wp-content/uploads/2018/03/chinook.zip'\n",
        "if not os.path.exists('chinook.zip'):\n",
        "    print('downloading chinook.zip ', end='')\n",
        "    with urllib.request.urlopen(chinook_url) as response:\n",
        "        with open('chinook.zip', 'wb') as f:\n",
        "            for data in iter(partial(response.read, 4*1024), b''):\n",
        "                print('.', end='', flush=True)\n",
        "                f.write(data)\n",
        "\n",
        "zipfile.ZipFile('chinook.zip').extractall()\n",
        "assert os.path.exists('chinook.db')"
      ],
      "metadata": {
        "id": "h977ZqdZfJ81",
        "outputId": "4de1557d-b52c-4849-faf1-c6c653bc7a45",
        "colab": {
          "base_uri": "https://localhost:8080/"
        }
      },
      "execution_count": null,
      "outputs": [
        {
          "output_type": "stream",
          "name": "stdout",
          "text": [
            "downloading chinook.zip ..........................................................................."
          ]
        }
      ]
    },
    {
      "cell_type": "markdown",
      "source": [
        "in this exercise we're going to experiment with the [Chinook sample DB](http://www.sqlitetutorial.net/sqlite-sample-database/). \n",
        "\n",
        "![Chinook](http://www.sqlitetutorial.net/wp-content/uploads/2015/11/sqlite-sample-database-color.jpg)\n",
        "\n",
        "There are 11 tables in the chinook sample database.\n",
        "\n",
        "* employees table stores employees data such as employee id, last name, first name, etc. It also has a field named ReportsTo to specify who reports to whom.\n",
        "* customers table stores customers data.\n",
        "* invoices & invoice_items tables: these two tables store invoice data. The invoices table stores invoice header data and the invoice_items table stores the invoice line items data.\n",
        "* artists table stores artists data. It is a simple table that contains only the artist id and name.\n",
        "* albums table stores data about a list of tracks. Each album belongs to one artist. However, one artist may have multiple albums.\n",
        "* media_types table stores media types such as MPEG audio and AAC audio files.\n",
        "* genres table stores music types such as rock, jazz, metal, etc.\n",
        "* tracks table stores the data of songs. Each track belongs to one album.\n",
        "* playlists & playlist_track tables: playlists table store data about playlists. Each playlist contains a list of tracks. Each track may belong to multiple playlists. The relationship between the playlists table and tracks table is many-to-many. The playlist_track table is used to reflect this relationship.\n",
        "\n"
      ],
      "metadata": {
        "id": "CzNm-Rinebgc"
      }
    },
    {
      "cell_type": "code",
      "source": [
        "# Connect to the SQLite database (creates a new file if it doesn't exist)\n",
        "conn = sqlite3.connect('chinook.db')\n",
        "\n",
        "# Set up a cursor (pointer to rows in database)\n",
        "c = conn.cursor()"
      ],
      "metadata": {
        "id": "fdbguXoffidZ"
      },
      "execution_count": null,
      "outputs": []
    },
    {
      "cell_type": "code",
      "source": [
        "# Query the schema for each table from the `sqlite_master` table\n",
        "c.execute(\"SELECT name, sql FROM sqlite_master WHERE type='table' ORDER BY name\")\n",
        "schemas = c.fetchall()\n",
        "\n",
        "# Print the schema for each table\n",
        "for schema in schemas:\n",
        "    table_name, table_schema = schema\n",
        "    print(f\"Table: {table_name}\\nSchema:\\n{table_schema}\\n\")"
      ],
      "metadata": {
        "id": "xro8mW-uf74-",
        "outputId": "b34a16fe-9fca-487e-c972-56c6b60ee4fe",
        "colab": {
          "base_uri": "https://localhost:8080/"
        }
      },
      "execution_count": null,
      "outputs": [
        {
          "output_type": "stream",
          "name": "stdout",
          "text": [
            "Table: albums\n",
            "Schema:\n",
            "CREATE TABLE \"albums\"\r\n",
            "(\r\n",
            "    [AlbumId] INTEGER PRIMARY KEY AUTOINCREMENT NOT NULL,\r\n",
            "    [Title] NVARCHAR(160)  NOT NULL,\r\n",
            "    [ArtistId] INTEGER  NOT NULL,\r\n",
            "    FOREIGN KEY ([ArtistId]) REFERENCES \"artists\" ([ArtistId]) \r\n",
            "\t\tON DELETE NO ACTION ON UPDATE NO ACTION\r\n",
            ")\n",
            "\n",
            "Table: artists\n",
            "Schema:\n",
            "CREATE TABLE \"artists\"\r\n",
            "(\r\n",
            "    [ArtistId] INTEGER PRIMARY KEY AUTOINCREMENT NOT NULL,\r\n",
            "    [Name] NVARCHAR(120)\r\n",
            ")\n",
            "\n",
            "Table: customers\n",
            "Schema:\n",
            "CREATE TABLE \"customers\"\r\n",
            "(\r\n",
            "    [CustomerId] INTEGER PRIMARY KEY AUTOINCREMENT NOT NULL,\r\n",
            "    [FirstName] NVARCHAR(40)  NOT NULL,\r\n",
            "    [LastName] NVARCHAR(20)  NOT NULL,\r\n",
            "    [Company] NVARCHAR(80),\r\n",
            "    [Address] NVARCHAR(70),\r\n",
            "    [City] NVARCHAR(40),\r\n",
            "    [State] NVARCHAR(40),\r\n",
            "    [Country] NVARCHAR(40),\r\n",
            "    [PostalCode] NVARCHAR(10),\r\n",
            "    [Phone] NVARCHAR(24),\r\n",
            "    [Fax] NVARCHAR(24),\r\n",
            "    [Email] NVARCHAR(60)  NOT NULL,\r\n",
            "    [SupportRepId] INTEGER,\r\n",
            "    FOREIGN KEY ([SupportRepId]) REFERENCES \"employees\" ([EmployeeId]) \r\n",
            "\t\tON DELETE NO ACTION ON UPDATE NO ACTION\r\n",
            ")\n",
            "\n",
            "Table: employees\n",
            "Schema:\n",
            "CREATE TABLE \"employees\"\r\n",
            "(\r\n",
            "    [EmployeeId] INTEGER PRIMARY KEY AUTOINCREMENT NOT NULL,\r\n",
            "    [LastName] NVARCHAR(20)  NOT NULL,\r\n",
            "    [FirstName] NVARCHAR(20)  NOT NULL,\r\n",
            "    [Title] NVARCHAR(30),\r\n",
            "    [ReportsTo] INTEGER,\r\n",
            "    [BirthDate] DATETIME,\r\n",
            "    [HireDate] DATETIME,\r\n",
            "    [Address] NVARCHAR(70),\r\n",
            "    [City] NVARCHAR(40),\r\n",
            "    [State] NVARCHAR(40),\r\n",
            "    [Country] NVARCHAR(40),\r\n",
            "    [PostalCode] NVARCHAR(10),\r\n",
            "    [Phone] NVARCHAR(24),\r\n",
            "    [Fax] NVARCHAR(24),\r\n",
            "    [Email] NVARCHAR(60),\r\n",
            "    FOREIGN KEY ([ReportsTo]) REFERENCES \"employees\" ([EmployeeId]) \r\n",
            "\t\tON DELETE NO ACTION ON UPDATE NO ACTION\r\n",
            ")\n",
            "\n",
            "Table: genres\n",
            "Schema:\n",
            "CREATE TABLE \"genres\"\r\n",
            "(\r\n",
            "    [GenreId] INTEGER PRIMARY KEY AUTOINCREMENT NOT NULL,\r\n",
            "    [Name] NVARCHAR(120)\r\n",
            ")\n",
            "\n",
            "Table: invoice_items\n",
            "Schema:\n",
            "CREATE TABLE \"invoice_items\"\r\n",
            "(\r\n",
            "    [InvoiceLineId] INTEGER PRIMARY KEY AUTOINCREMENT NOT NULL,\r\n",
            "    [InvoiceId] INTEGER  NOT NULL,\r\n",
            "    [TrackId] INTEGER  NOT NULL,\r\n",
            "    [UnitPrice] NUMERIC(10,2)  NOT NULL,\r\n",
            "    [Quantity] INTEGER  NOT NULL,\r\n",
            "    FOREIGN KEY ([InvoiceId]) REFERENCES \"invoices\" ([InvoiceId]) \r\n",
            "\t\tON DELETE NO ACTION ON UPDATE NO ACTION,\r\n",
            "    FOREIGN KEY ([TrackId]) REFERENCES \"tracks\" ([TrackId]) \r\n",
            "\t\tON DELETE NO ACTION ON UPDATE NO ACTION\r\n",
            ")\n",
            "\n",
            "Table: invoices\n",
            "Schema:\n",
            "CREATE TABLE \"invoices\"\r\n",
            "(\r\n",
            "    [InvoiceId] INTEGER PRIMARY KEY AUTOINCREMENT NOT NULL,\r\n",
            "    [CustomerId] INTEGER  NOT NULL,\r\n",
            "    [InvoiceDate] DATETIME  NOT NULL,\r\n",
            "    [BillingAddress] NVARCHAR(70),\r\n",
            "    [BillingCity] NVARCHAR(40),\r\n",
            "    [BillingState] NVARCHAR(40),\r\n",
            "    [BillingCountry] NVARCHAR(40),\r\n",
            "    [BillingPostalCode] NVARCHAR(10),\r\n",
            "    [Total] NUMERIC(10,2)  NOT NULL,\r\n",
            "    FOREIGN KEY ([CustomerId]) REFERENCES \"customers\" ([CustomerId]) \r\n",
            "\t\tON DELETE NO ACTION ON UPDATE NO ACTION\r\n",
            ")\n",
            "\n",
            "Table: media_types\n",
            "Schema:\n",
            "CREATE TABLE \"media_types\"\r\n",
            "(\r\n",
            "    [MediaTypeId] INTEGER PRIMARY KEY AUTOINCREMENT NOT NULL,\r\n",
            "    [Name] NVARCHAR(120)\r\n",
            ")\n",
            "\n",
            "Table: playlist_track\n",
            "Schema:\n",
            "CREATE TABLE \"playlist_track\"\r\n",
            "(\r\n",
            "    [PlaylistId] INTEGER  NOT NULL,\r\n",
            "    [TrackId] INTEGER  NOT NULL,\r\n",
            "    CONSTRAINT [PK_PlaylistTrack] PRIMARY KEY  ([PlaylistId], [TrackId]),\r\n",
            "    FOREIGN KEY ([PlaylistId]) REFERENCES \"playlists\" ([PlaylistId]) \r\n",
            "\t\tON DELETE NO ACTION ON UPDATE NO ACTION,\r\n",
            "    FOREIGN KEY ([TrackId]) REFERENCES \"tracks\" ([TrackId]) \r\n",
            "\t\tON DELETE NO ACTION ON UPDATE NO ACTION\r\n",
            ")\n",
            "\n",
            "Table: playlists\n",
            "Schema:\n",
            "CREATE TABLE \"playlists\"\r\n",
            "(\r\n",
            "    [PlaylistId] INTEGER PRIMARY KEY AUTOINCREMENT NOT NULL,\r\n",
            "    [Name] NVARCHAR(120)\r\n",
            ")\n",
            "\n",
            "Table: sqlite_sequence\n",
            "Schema:\n",
            "CREATE TABLE sqlite_sequence(name,seq)\n",
            "\n",
            "Table: sqlite_stat1\n",
            "Schema:\n",
            "CREATE TABLE sqlite_stat1(tbl,idx,stat)\n",
            "\n",
            "Table: tracks\n",
            "Schema:\n",
            "CREATE TABLE \"tracks\"\r\n",
            "(\r\n",
            "    [TrackId] INTEGER PRIMARY KEY AUTOINCREMENT NOT NULL,\r\n",
            "    [Name] NVARCHAR(200)  NOT NULL,\r\n",
            "    [AlbumId] INTEGER,\r\n",
            "    [MediaTypeId] INTEGER  NOT NULL,\r\n",
            "    [GenreId] INTEGER,\r\n",
            "    [Composer] NVARCHAR(220),\r\n",
            "    [Milliseconds] INTEGER  NOT NULL,\r\n",
            "    [Bytes] INTEGER,\r\n",
            "    [UnitPrice] NUMERIC(10,2)  NOT NULL,\r\n",
            "    FOREIGN KEY ([AlbumId]) REFERENCES \"albums\" ([AlbumId]) \r\n",
            "\t\tON DELETE NO ACTION ON UPDATE NO ACTION,\r\n",
            "    FOREIGN KEY ([GenreId]) REFERENCES \"genres\" ([GenreId]) \r\n",
            "\t\tON DELETE NO ACTION ON UPDATE NO ACTION,\r\n",
            "    FOREIGN KEY ([MediaTypeId]) REFERENCES \"media_types\" ([MediaTypeId]) \r\n",
            "\t\tON DELETE NO ACTION ON UPDATE NO ACTION\r\n",
            ")\n",
            "\n"
          ]
        }
      ]
    },
    {
      "cell_type": "markdown",
      "source": [
        "**Exercise 1:** Find top 10 sold tracks."
      ],
      "metadata": {
        "id": "dgvdN0ABgDQg"
      }
    },
    {
      "cell_type": "code",
      "source": [
        "sql_query = \"\"\"\n",
        "  ????\n",
        "\"\"\"\n",
        "\n",
        "df = pd.read_sql_query(sql_query, conn)\n",
        "df"
      ],
      "metadata": {
        "id": "UX3nc78MhSfJ"
      },
      "execution_count": null,
      "outputs": []
    },
    {
      "cell_type": "markdown",
      "source": [
        "**Exercise 2:* Top 10 best selling artists by name."
      ],
      "metadata": {
        "id": "VWKhUPDlihXC"
      }
    },
    {
      "cell_type": "code",
      "source": [
        "sql_query = \"\"\"\n",
        "  ???\n",
        "\"\"\"\n",
        "\n",
        "df = pd.read_sql_query(sql_query, conn)\n",
        "df"
      ],
      "metadata": {
        "id": "rS4GrCgLin2C"
      },
      "execution_count": null,
      "outputs": []
    },
    {
      "cell_type": "code",
      "source": [
        "# Close comnnection once you are done\n",
        "conn.close()"
      ],
      "metadata": {
        "id": "nlON1P4cnUe-"
      },
      "execution_count": null,
      "outputs": []
    },
    {
      "cell_type": "markdown",
      "source": [
        "## More practice\n",
        "\n",
        "Play around at:\n",
        "* [Online SLQ practice terminal](https://www.w3schools.com/sql/)\n",
        "* [W3 school SQL tutorial & exercises](https://www.w3schools.com/sql/)"
      ],
      "metadata": {
        "id": "x4STDeGAxoQ5"
      }
    },
    {
      "cell_type": "markdown",
      "source": [
        "# SQL and ML "
      ],
      "metadata": {
        "id": "H4gcKIiM6FT9"
      }
    },
    {
      "cell_type": "markdown",
      "source": [
        "## Traditional ML"
      ],
      "metadata": {
        "id": "ftEbyoiaqFBL"
      }
    },
    {
      "cell_type": "code",
      "source": [
        "from sklearn import datasets"
      ],
      "metadata": {
        "id": "-itQkUKHu4No"
      },
      "execution_count": null,
      "outputs": []
    },
    {
      "cell_type": "code",
      "source": [
        "iris = datasets.load_iris()\n",
        "\n",
        "# Connect to the SQLite database\n",
        "conn = sqlite3.connect(\"iris_data.db\")\n",
        "cursor = conn.cursor()"
      ],
      "metadata": {
        "id": "F59mmOUiu4YB"
      },
      "execution_count": null,
      "outputs": []
    },
    {
      "cell_type": "code",
      "source": [
        "# Create a table for the Iris dataset\n",
        "cursor.execute(\"\"\"\n",
        "CREATE TABLE IF NOT EXISTS iris_data (\n",
        "    id INTEGER PRIMARY KEY,\n",
        "    sepal_length REAL,\n",
        "    sepal_width REAL,\n",
        "    petal_length REAL,\n",
        "    petal_width REAL,\n",
        "    species INTEGER\n",
        ")\n",
        "\"\"\")\n",
        "\n",
        "# Insert the Iris dataset into the table\n",
        "data_to_insert = [tuple(row) + (label,) for row, label in zip(iris.data, iris.target)]\n",
        "cursor.executemany(\"\"\"\n",
        "INSERT INTO iris_data (sepal_length, sepal_width, petal_length, petal_width, species) VALUES (?, ?, ?, ?, ?)\n",
        "\"\"\", data_to_insert)\n",
        "\n",
        "conn.commit()"
      ],
      "metadata": {
        "id": "omLPEGMKnRyR"
      },
      "execution_count": null,
      "outputs": []
    },
    {
      "cell_type": "code",
      "source": [
        "import numpy as np\n",
        "from sklearn.model_selection import train_test_split\n",
        "\n",
        "cursor.execute(\"SELECT sepal_length, sepal_width, petal_length, petal_width, species FROM iris_data\")\n",
        "data = cursor.fetchall()\n",
        "\n",
        "X, y = zip(*[(row[:4], row[4]) for row in data])\n",
        "X = np.array(X)\n",
        "y = np.array(y)\n",
        "\n",
        "X_train, X_test, y_train, y_test = train_test_split(X, y, test_size=0.2, random_state=1337)"
      ],
      "metadata": {
        "id": "Maai1Ahmnwyu"
      },
      "execution_count": null,
      "outputs": []
    },
    {
      "cell_type": "code",
      "source": [
        "from sklearn.svm import SVC\n",
        "from sklearn.metrics import accuracy_score\n",
        "\n",
        "model = SVC()\n",
        "model.fit(X_train, y_train)\n",
        "\n",
        "y_pred = model.predict(X_test)\n",
        "\n",
        "accuracy = accuracy_score(y_test, y_pred)\n",
        "print(f\"Accuracy: {accuracy:.2f}\")"
      ],
      "metadata": {
        "id": "Gj7bMH10n9Hu",
        "outputId": "4924d0c5-4563-42bf-f8f5-ffd5fc72ac24",
        "colab": {
          "base_uri": "https://localhost:8080/"
        }
      },
      "execution_count": null,
      "outputs": [
        {
          "output_type": "stream",
          "name": "stdout",
          "text": [
            "Accuracy: 0.97\n"
          ]
        }
      ]
    },
    {
      "cell_type": "markdown",
      "source": [
        "## Deep Learning: Reading in batches from DB\n",
        "\n",
        "Ok, so far so good. Would it not be cool if we could sequentially feed in data to train and/or predict from the database. Then we coulkd work with really big datasets without running in RAM issues.\n",
        "\n",
        "We will now train a simple neural network model using PyTorch. We'll create a custom dataset class that fetches data from the SQLite database and loads it in batches using a DataLoader."
      ],
      "metadata": {
        "id": "W2u8-APUqLe-"
      }
    },
    {
      "cell_type": "code",
      "source": [
        "# Function to fetch data in batches from the SQLite database\n",
        "def fetch_data_batch(batch_size, database):\n",
        "    conn = sqlite3.connect(database)\n",
        "    c = conn.cursor()\n",
        "\n",
        "    # Get the total number of records\n",
        "    c.execute(\"SELECT COUNT(*) FROM iris_data\")\n",
        "    total_records = c.fetchone()[0]\n",
        "\n",
        "    # Loop through the dataset and fetch data in batches\n",
        "    for offset in range(0, total_records, batch_size):\n",
        "        query = f\"SELECT * FROM iris_data LIMIT {batch_size} OFFSET {offset}\"\n",
        "        data = pd.read_sql_query(query, conn)\n",
        "        X_batch = data.iloc[:, :4].values\n",
        "        y_batch = data.iloc[:, 4].values\n",
        "\n",
        "        yield torch.tensor(X_batch, dtype=torch.float32), torch.tensor(y_batch, dtype=torch.long)\n",
        "\n",
        "    conn.close()"
      ],
      "metadata": {
        "id": "TPSVMlBW9b9M"
      },
      "execution_count": null,
      "outputs": []
    },
    {
      "cell_type": "code",
      "source": [
        "# Define the neural network architecture\n",
        "class SimpleNN(nn.Module):\n",
        "    def __init__(self):\n",
        "        super(SimpleNN, self).__init__()\n",
        "        self.fc1 = nn.Linear(4, 32)\n",
        "        self.fc2 = nn.Linear(32, 16)\n",
        "        self.fc3 = nn.Linear(16, 3)\n",
        "\n",
        "    def forward(self, x):\n",
        "        x = torch.relu(self.fc1(x))\n",
        "        x = torch.relu(self.fc2(x))\n",
        "        x = self.fc3(x)\n",
        "        return x"
      ],
      "metadata": {
        "id": "wQyYDt_TA5uT"
      },
      "execution_count": null,
      "outputs": []
    },
    {
      "cell_type": "code",
      "source": [
        "# Initialize the neural network, loss function, and optimizer\n",
        "model = SimpleNN()\n",
        "criterion = nn.CrossEntropyLoss()\n",
        "optimizer = optim.Adam(model.parameters(), lr=0.001)"
      ],
      "metadata": {
        "id": "qcsNS9QTA7bo"
      },
      "execution_count": null,
      "outputs": []
    },
    {
      "cell_type": "code",
      "source": [
        "# Train the neural network\n",
        "db = 'iris_data.db'\n",
        "epochs = 20\n",
        "batch_size = 10\n",
        "\n",
        "for epoch in range(epochs):\n",
        "  running_loss = 0.0\n",
        "  for i, (inputs, labels) in enumerate(fetch_data_batch(batch_size, db)):\n",
        "    # Zero the parameter gradients\n",
        "    optimizer.zero_grad()\n",
        "\n",
        "    # Forward propagation\n",
        "    outputs = model(inputs)\n",
        "\n",
        "    # Calculate the loss\n",
        "    loss = criterion(outputs, labels)\n",
        "\n",
        "    # Backward propagation\n",
        "    loss.backward()\n",
        "\n",
        "    # Optimize\n",
        "    optimizer.step()\n",
        "\n",
        "    # Print the average loss per batch\n",
        "    running_loss += loss.item()\n",
        "  print(f\"Epoch {epoch + 1}, Loss: {running_loss / (i + 1)}\")\n",
        "\n",
        "print(\"Finished training the neural network\")"
      ],
      "metadata": {
        "id": "qd_Z1zE-BIFK"
      },
      "execution_count": null,
      "outputs": []
    }
  ]
}