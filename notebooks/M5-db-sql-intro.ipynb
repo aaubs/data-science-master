{
  "nbformat": 4,
  "nbformat_minor": 0,
  "metadata": {
    "colab": {
      "provenance": [],
      "authorship_tag": "ABX9TyP5f+Rrwc1y8LExbLJUzx00",
      "include_colab_link": true
    },
    "kernelspec": {
      "name": "python3",
      "display_name": "Python 3"
    },
    "language_info": {
      "name": "python"
    },
    "gpuClass": "standard"
  },
  "cells": [
    {
      "cell_type": "markdown",
      "metadata": {
        "id": "view-in-github",
        "colab_type": "text"
      },
      "source": [
        "<a href=\"https://colab.research.google.com/github/aaubs/ds-master/blob/main/notebooks/M5-db-sql-intro.ipynb\" target=\"_parent\"><img src=\"https://colab.research.google.com/assets/colab-badge.svg\" alt=\"Open In Colab\"/></a>"
      ]
    },
    {
      "cell_type": "code",
      "source": [
        "import sqlite3\n",
        "import pandas as pd"
      ],
      "metadata": {
        "id": "pcIJQ10evwMg"
      },
      "execution_count": 1,
      "outputs": []
    },
    {
      "cell_type": "markdown",
      "source": [
        "# Introduction to the Structured Query Language (SQL)"
      ],
      "metadata": {
        "id": "6LBp5R5TufRy"
      }
    },
    {
      "cell_type": "markdown",
      "source": [
        "## What is SQL?\n",
        "\n",
        "* SQL stands for Structured Query Language\n",
        "* Used to communicate with relational databases\n",
        "* Allows you to create, read, update, and delete data\n",
        "* Commonly used in data analytics, data science, and data engineering\n",
        "\n",
        "\n",
        "### Relational Databases\n",
        "\n",
        "* Organize data into tables with rows and columns\n",
        "* Each row represents a record or an entity\n",
        "* Each column represents an attribute of the record\n",
        "\n",
        "Example: \n",
        "\n",
        "| id | first_name | last_name | age |\n",
        "|----|------------|-----------|-----|\n",
        "| 1  | John       | Doe       | 30  |\n",
        "| 2  | Jane       | Smith     | 25  |\n",
        "\n",
        "---\n",
        "\n",
        "### SQL Syntax Overview\n",
        "\n",
        "* SELECT: Read data from the database\n",
        "* INSERT: Add new records to the database\n",
        "* UPDATE: Modify existing records in the database\n",
        "* DELETE: Remove records from the database\n",
        "* CREATE, ALTER, DROP: Manage database structure\n"
      ],
      "metadata": {
        "id": "TLJ5VZ_T8TAk"
      }
    },
    {
      "cell_type": "markdown",
      "source": [
        "# First steps in SQL(ite)\n",
        "\n",
        "SQLite is a lightweight, serverless, and self-contained database engine that's easy to set up and use within Python applications. In comparison to other SQL dastabases, it does not require a sepperated server.\n",
        "\n",
        "The sqlite3 module is included in the Python standard library, so you don't need to install any additional packages to use it."
      ],
      "metadata": {
        "id": "UFBdds0uB3JZ"
      }
    },
    {
      "cell_type": "markdown",
      "source": [
        "## Create and populate a database\n",
        "\n",
        "In this example, we'll create a SQLite database for a music streaming service like Spotify. The database will have the following tables: \n",
        "\n",
        "1. artists\n",
        "2. albums\n",
        "3. tracks\n",
        "4. playlists\n",
        "5. playlist_tracks\n",
        "\n",
        "We'll also insert sample data into these tables. In the schema, we will also define the relationship within and between the tables (primary & foreign key).\n",
        "\n",
        "Let's start by connecting to the SQLite database and creating a few records in the tables:"
      ],
      "metadata": {
        "id": "yeBOg78zRExZ"
      }
    },
    {
      "cell_type": "code",
      "source": [
        "# Connect to the SQLite database (creates a new file if it doesn't exist)\n",
        "conn = sqlite3.connect('music.db')\n",
        "\n",
        "# Set up a cursor (pointer to rows in database)\n",
        "c = conn.cursor()"
      ],
      "metadata": {
        "id": "jpSJ8NyJOMMu"
      },
      "execution_count": 16,
      "outputs": []
    },
    {
      "cell_type": "code",
      "source": [
        "# Create the `artists` table\n",
        "c.execute('''\n",
        "CREATE TABLE artists (\n",
        "    id INTEGER PRIMARY KEY,\n",
        "    name TEXT\n",
        ")\n",
        "''')\n",
        "\n",
        "# Note: Primary key is the unique identifier of the table"
      ],
      "metadata": {
        "id": "67e6tXo_OMWF",
        "outputId": "70d71f20-a862-4926-ff69-86a58f38b0ef",
        "colab": {
          "base_uri": "https://localhost:8080/"
        }
      },
      "execution_count": 17,
      "outputs": [
        {
          "output_type": "execute_result",
          "data": {
            "text/plain": [
              "<sqlite3.Cursor at 0x7ff66443f9d0>"
            ]
          },
          "metadata": {},
          "execution_count": 17
        }
      ]
    },
    {
      "cell_type": "code",
      "source": [
        "# Insert sample data into the `artists` table\n",
        "artists_data = [\n",
        "    (1, 'The Beatles'),\n",
        "    (2, 'Pink Floyd'),\n",
        "    (3, 'Led Zeppelin'),\n",
        "    (4, 'Queen')\n",
        "]"
      ],
      "metadata": {
        "id": "4eFAsBoTOMdN"
      },
      "execution_count": 18,
      "outputs": []
    },
    {
      "cell_type": "code",
      "source": [
        "# with executemany get several rows in at once\n",
        "c.executemany(\"INSERT INTO artists (id, name) VALUES (?, ?)\", artists_data)"
      ],
      "metadata": {
        "id": "H3atweUxOMhG",
        "outputId": "994e8239-f9c1-4d83-cb5c-3c8839a3c20d",
        "colab": {
          "base_uri": "https://localhost:8080/"
        }
      },
      "execution_count": 19,
      "outputs": [
        {
          "output_type": "execute_result",
          "data": {
            "text/plain": [
              "<sqlite3.Cursor at 0x7ff66443f9d0>"
            ]
          },
          "metadata": {},
          "execution_count": 19
        }
      ]
    },
    {
      "cell_type": "code",
      "source": [
        "# Create the `albums` table\n",
        "c.execute('''\n",
        "CREATE TABLE albums (\n",
        "    id INTEGER PRIMARY KEY,\n",
        "    name TEXT,\n",
        "    artist_id INTEGER,\n",
        "    release_year INTEGER,\n",
        "    FOREIGN KEY (artist_id) REFERENCES artists (id)\n",
        ")\n",
        "''')\n",
        "\n",
        "# Note: Foreign key connects to other tables"
      ],
      "metadata": {
        "id": "n2J0pI79OMoa",
        "outputId": "e926064e-3c68-4d5f-832c-7c9aa48e58c9",
        "colab": {
          "base_uri": "https://localhost:8080/"
        }
      },
      "execution_count": 20,
      "outputs": [
        {
          "output_type": "execute_result",
          "data": {
            "text/plain": [
              "<sqlite3.Cursor at 0x7ff66443f9d0>"
            ]
          },
          "metadata": {},
          "execution_count": 20
        }
      ]
    },
    {
      "cell_type": "code",
      "source": [
        "# Insert sample data into the `albums` table\n",
        "albums_data = [\n",
        "    (1, 'Abbey Road', 1, 1969),\n",
        "    (2, 'The Wall', 2, 1979),\n",
        "    (3, 'IV', 3, 1971),\n",
        "    (4, 'A Night at the Opera', 4, 1975)\n",
        "]"
      ],
      "metadata": {
        "id": "N5w7fwfVOMsw"
      },
      "execution_count": 21,
      "outputs": []
    },
    {
      "cell_type": "code",
      "source": [
        "c.executemany(\"INSERT INTO albums (id, name, artist_id, release_year) VALUES (?, ?, ?, ?)\", albums_data)"
      ],
      "metadata": {
        "id": "MMGfHeM2OMv2",
        "outputId": "2f5b8189-2a69-45e4-f8a4-7662fb9ad0fd",
        "colab": {
          "base_uri": "https://localhost:8080/"
        }
      },
      "execution_count": 22,
      "outputs": [
        {
          "output_type": "execute_result",
          "data": {
            "text/plain": [
              "<sqlite3.Cursor at 0x7ff66443f9d0>"
            ]
          },
          "metadata": {},
          "execution_count": 22
        }
      ]
    },
    {
      "cell_type": "code",
      "source": [
        "# Create the `tracks` table\n",
        "c.execute('''\n",
        "CREATE TABLE tracks (\n",
        "    id INTEGER PRIMARY KEY,\n",
        "    name TEXT,\n",
        "    album_id INTEGER,\n",
        "    duration INTEGER,  -- Duration in seconds\n",
        "    FOREIGN KEY (album_id) REFERENCES albums (id)\n",
        ")\n",
        "''')"
      ],
      "metadata": {
        "id": "ZDPwxpNLOesN",
        "outputId": "d53933fa-7c8d-4bf5-fd6e-4c84535823ba",
        "colab": {
          "base_uri": "https://localhost:8080/"
        }
      },
      "execution_count": 23,
      "outputs": [
        {
          "output_type": "execute_result",
          "data": {
            "text/plain": [
              "<sqlite3.Cursor at 0x7ff66443f9d0>"
            ]
          },
          "metadata": {},
          "execution_count": 23
        }
      ]
    },
    {
      "cell_type": "code",
      "source": [
        "# Insert sample data into the `tracks` table\n",
        "tracks_data = [\n",
        "    (1, 'Come Together', 1, 260),\n",
        "    (2, 'Something', 1, 182),\n",
        "    (3, 'Another Brick in the Wall', 2, 231),\n",
        "    (4, 'Mother', 2, 334),\n",
        "    (5, 'Stairway to Heaven', 3, 482),\n",
        "    (6, 'Black Dog', 3, 296),\n",
        "    (7, 'Bohemian Rhapsody', 4, 355),\n",
        "    (8, 'You\\'re My Best Friend', 4, 163)\n",
        "]"
      ],
      "metadata": {
        "id": "PAkLRiLtOewI"
      },
      "execution_count": 24,
      "outputs": []
    },
    {
      "cell_type": "code",
      "source": [
        "c.executemany(\"INSERT INTO tracks (id, name, album_id, duration) VALUES (?, ?, ?, ?)\", tracks_data)"
      ],
      "metadata": {
        "id": "CpP6NBorOe0A",
        "outputId": "c73e3dea-29cf-4353-ee79-45b8a35e8ce8",
        "colab": {
          "base_uri": "https://localhost:8080/"
        }
      },
      "execution_count": 25,
      "outputs": [
        {
          "output_type": "execute_result",
          "data": {
            "text/plain": [
              "<sqlite3.Cursor at 0x7ff66443f9d0>"
            ]
          },
          "metadata": {},
          "execution_count": 25
        }
      ]
    },
    {
      "cell_type": "code",
      "source": [
        "# Create the `playlists` table\n",
        "c.execute('''\n",
        "CREATE TABLE playlists (\n",
        "    id INTEGER PRIMARY KEY,\n",
        "    name TEXT\n",
        ")\n",
        "''')"
      ],
      "metadata": {
        "id": "tpFJcTDzOlNm",
        "outputId": "7766c1cd-fab1-43fb-d9e9-18e4a2d38d8b",
        "colab": {
          "base_uri": "https://localhost:8080/"
        }
      },
      "execution_count": 26,
      "outputs": [
        {
          "output_type": "execute_result",
          "data": {
            "text/plain": [
              "<sqlite3.Cursor at 0x7ff66443f9d0>"
            ]
          },
          "metadata": {},
          "execution_count": 26
        }
      ]
    },
    {
      "cell_type": "code",
      "source": [
        "# Insert sample data into the `playlists` table\n",
        "playlists_data = [\n",
        "    (1, 'Classic Rock'),\n",
        "    (2, 'Best of 70s')\n",
        "]"
      ],
      "metadata": {
        "id": "CgqLbgWkOlWr"
      },
      "execution_count": 27,
      "outputs": []
    },
    {
      "cell_type": "code",
      "source": [
        "c.executemany(\"INSERT INTO playlists (id, name) VALUES (?, ?)\", playlists_data)"
      ],
      "metadata": {
        "id": "gpRkobeuOqg1",
        "outputId": "7fe73773-95a6-4aec-b5fd-d9e79d8417b4",
        "colab": {
          "base_uri": "https://localhost:8080/"
        }
      },
      "execution_count": 28,
      "outputs": [
        {
          "output_type": "execute_result",
          "data": {
            "text/plain": [
              "<sqlite3.Cursor at 0x7ff66443f9d0>"
            ]
          },
          "metadata": {},
          "execution_count": 28
        }
      ]
    },
    {
      "cell_type": "code",
      "source": [
        "# Create the `playlist_tracks` table\n",
        "c.execute('''\n",
        "CREATE TABLE playlist_tracks (\n",
        "    id INTEGER PRIMARY KEY,\n",
        "    playlist_id INTEGER,\n",
        "    track_id INTEGER,\n",
        "    FOREIGN KEY (playlist_id) REFERENCES playlists (id),\n",
        "    FOREIGN KEY (track_id) REFERENCES tracks (id)\n",
        ")\n",
        "''')"
      ],
      "metadata": {
        "id": "tY8fBO9zOstu",
        "outputId": "aa632cdd-1204-4332-a49b-bc1974f9a4c8",
        "colab": {
          "base_uri": "https://localhost:8080/"
        }
      },
      "execution_count": 29,
      "outputs": [
        {
          "output_type": "execute_result",
          "data": {
            "text/plain": [
              "<sqlite3.Cursor at 0x7ff66443f9d0>"
            ]
          },
          "metadata": {},
          "execution_count": 29
        }
      ]
    },
    {
      "cell_type": "code",
      "source": [
        "# Insert sample data into the `playlist_tracks` table\n",
        "playlist_tracks_data = [\n",
        "    (1, 1, 1),\n",
        "    (2, 1, 3),\n",
        "    (3, 1, 2)\n",
        "]"
      ],
      "metadata": {
        "id": "wcD6EL8JOFpU"
      },
      "execution_count": 32,
      "outputs": []
    },
    {
      "cell_type": "code",
      "source": [
        "c.executemany(\"INSERT INTO playlist_tracks (id, playlist_id, track_id) VALUES (?, ?,?)\", playlist_tracks_data)"
      ],
      "metadata": {
        "id": "F42U-H4DPATQ",
        "outputId": "7c958e67-cd4e-462c-fc86-371657578d10",
        "colab": {
          "base_uri": "https://localhost:8080/"
        }
      },
      "execution_count": 33,
      "outputs": [
        {
          "output_type": "execute_result",
          "data": {
            "text/plain": [
              "<sqlite3.Cursor at 0x7ff66443f9d0>"
            ]
          },
          "metadata": {},
          "execution_count": 33
        }
      ]
    },
    {
      "cell_type": "code",
      "source": [
        "# Query the schema for each table from the `sqlite_master` table\n",
        "c.execute(\"SELECT name, sql FROM sqlite_master WHERE type='table' ORDER BY name\")\n",
        "schemas = c.fetchall()\n",
        "\n",
        "# Print the schema for each table\n",
        "for schema in schemas:\n",
        "    table_name, table_schema = schema\n",
        "    print(f\"Table: {table_name}\\nSchema:\\n{table_schema}\\n\")"
      ],
      "metadata": {
        "id": "okZVMDdzPjrg",
        "outputId": "0bc9d563-6d50-4899-f0d5-859703e07316",
        "colab": {
          "base_uri": "https://localhost:8080/"
        }
      },
      "execution_count": 34,
      "outputs": [
        {
          "output_type": "stream",
          "name": "stdout",
          "text": [
            "Table: albums\n",
            "Schema:\n",
            "CREATE TABLE albums (\n",
            "    id INTEGER PRIMARY KEY,\n",
            "    name TEXT,\n",
            "    artist_id INTEGER,\n",
            "    release_year INTEGER,\n",
            "    FOREIGN KEY (artist_id) REFERENCES artists (id)\n",
            ")\n",
            "\n",
            "Table: artists\n",
            "Schema:\n",
            "CREATE TABLE artists (\n",
            "    id INTEGER PRIMARY KEY,\n",
            "    name TEXT\n",
            ")\n",
            "\n",
            "Table: playlist_tracks\n",
            "Schema:\n",
            "CREATE TABLE playlist_tracks (\n",
            "    id INTEGER PRIMARY KEY,\n",
            "    playlist_id INTEGER,\n",
            "    track_id INTEGER,\n",
            "    FOREIGN KEY (playlist_id) REFERENCES playlists (id),\n",
            "    FOREIGN KEY (track_id) REFERENCES tracks (id)\n",
            ")\n",
            "\n",
            "Table: playlists\n",
            "Schema:\n",
            "CREATE TABLE playlists (\n",
            "    id INTEGER PRIMARY KEY,\n",
            "    name TEXT\n",
            ")\n",
            "\n",
            "Table: tracks\n",
            "Schema:\n",
            "CREATE TABLE tracks (\n",
            "    id INTEGER PRIMARY KEY,\n",
            "    name TEXT,\n",
            "    album_id INTEGER,\n",
            "    duration INTEGER,  -- Duration in seconds\n",
            "    FOREIGN KEY (album_id) REFERENCES albums (id)\n",
            ")\n",
            "\n"
          ]
        }
      ]
    },
    {
      "cell_type": "markdown",
      "source": [
        "## Querying SQL\n",
        "\n",
        "Now, let's demonstrate some common SQLite commands:\n",
        "\n",
        "* **SELECT:** Fetch data from a table."
      ],
      "metadata": {
        "id": "nwYJ0k5UWUkZ"
      }
    },
    {
      "cell_type": "code",
      "source": [
        "c.execute(\"SELECT * FROM artists\")\n",
        "artists = c.fetchall()\n",
        "for artist in artists:\n",
        "    print(artist)"
      ],
      "metadata": {
        "id": "OzC-JTsEXJhY",
        "outputId": "47781e4b-ddf1-4a9f-e1d4-f3bf76dc0f44",
        "colab": {
          "base_uri": "https://localhost:8080/"
        }
      },
      "execution_count": 37,
      "outputs": [
        {
          "output_type": "stream",
          "name": "stdout",
          "text": [
            "(1, 'The Beatles')\n",
            "(2, 'Pink Floyd')\n",
            "(3, 'Led Zeppelin')\n",
            "(4, 'Queen')\n"
          ]
        }
      ]
    },
    {
      "cell_type": "markdown",
      "source": [
        "* **WHERE:** Filter rows based on a condition.\n"
      ],
      "metadata": {
        "id": "sA815c3rXkXO"
      }
    },
    {
      "cell_type": "code",
      "source": [
        "c.execute(\"SELECT * FROM albums WHERE release_year >= 1970\")\n",
        "albums = c.fetchall()\n",
        "for album in albums:\n",
        "    print(album)"
      ],
      "metadata": {
        "id": "_y7UP1KcXpYx",
        "outputId": "81d5d7f6-cafc-422c-85f0-631885b8cb2c",
        "colab": {
          "base_uri": "https://localhost:8080/"
        }
      },
      "execution_count": 38,
      "outputs": [
        {
          "output_type": "stream",
          "name": "stdout",
          "text": [
            "(2, 'The Wall', 2, 1979)\n",
            "(3, 'IV', 3, 1971)\n",
            "(4, 'A Night at the Opera', 4, 1975)\n"
          ]
        }
      ]
    },
    {
      "cell_type": "markdown",
      "source": [
        "* **ORDER BY:** Arrange rows based on a column."
      ],
      "metadata": {
        "id": "C7yA5yGeYGXm"
      }
    },
    {
      "cell_type": "code",
      "source": [
        "c.execute(\"SELECT * FROM albums ORDER BY release_year DESC\")\n",
        "sorted_albums = c.fetchall()\n",
        "for album in sorted_albums:\n",
        "    print(album)"
      ],
      "metadata": {
        "id": "GLEJIpNrYmDv",
        "outputId": "5d243143-d162-41fb-a6ad-cf4960613fa6",
        "colab": {
          "base_uri": "https://localhost:8080/"
        }
      },
      "execution_count": 39,
      "outputs": [
        {
          "output_type": "stream",
          "name": "stdout",
          "text": [
            "(2, 'The Wall', 2, 1979)\n",
            "(4, 'A Night at the Opera', 4, 1975)\n",
            "(3, 'IV', 3, 1971)\n",
            "(1, 'Abbey Road', 1, 1969)\n"
          ]
        }
      ]
    },
    {
      "cell_type": "markdown",
      "source": [
        "* **JOIN:** Combine tables based on common columns. (you know that already)"
      ],
      "metadata": {
        "id": "pV7ndHIFYv-W"
      }
    },
    {
      "cell_type": "code",
      "source": [
        "c.execute(\"\"\"\n",
        "    SELECT tracks.name AS track_name, albums.name AS album_name, artists.name AS artist_name\n",
        "    FROM tracks\n",
        "    JOIN albums ON tracks.album_id = albums.id\n",
        "    JOIN artists ON albums.artist_id = artists.id\n",
        "\"\"\")\n",
        "track_details = c.fetchall()\n",
        "for track in track_details:\n",
        "    print(track)\n"
      ],
      "metadata": {
        "id": "6RzWQ24uY7Lg",
        "outputId": "eb4ffd2f-0b21-4fd9-c2df-a0b6519fe8c9",
        "colab": {
          "base_uri": "https://localhost:8080/"
        }
      },
      "execution_count": 41,
      "outputs": [
        {
          "output_type": "stream",
          "name": "stdout",
          "text": [
            "('Come Together', 'Abbey Road', 'The Beatles')\n",
            "('Something', 'Abbey Road', 'The Beatles')\n",
            "('Another Brick in the Wall', 'The Wall', 'Pink Floyd')\n",
            "('Mother', 'The Wall', 'Pink Floyd')\n",
            "('Stairway to Heaven', 'IV', 'Led Zeppelin')\n",
            "('Black Dog', 'IV', 'Led Zeppelin')\n",
            "('Bohemian Rhapsody', 'A Night at the Opera', 'Queen')\n",
            "(\"You're My Best Friend\", 'A Night at the Opera', 'Queen')\n"
          ]
        }
      ]
    },
    {
      "cell_type": "markdown",
      "source": [
        "* **GROUP BY:** operations on group level (like in pandas)."
      ],
      "metadata": {
        "id": "e7u4R5sKZ3tv"
      }
    },
    {
      "cell_type": "code",
      "source": [
        "c.execute(\"\"\"\n",
        "    SELECT artists.name, SUM(tracks.duration) AS total_duration\n",
        "    FROM tracks\n",
        "    JOIN albums ON tracks.album_id = albums.id\n",
        "    JOIN artists ON albums.artist_id = artists.id\n",
        "    GROUP BY artists.id\n",
        "\"\"\")\n",
        "artist_durations = c.fetchall()\n",
        "for artist_duration in artist_durations:\n",
        "    print(artist_duration)"
      ],
      "metadata": {
        "id": "26TGLIdAaUjA",
        "outputId": "5d3a89b6-4686-48ce-baad-a4e50aceb40e",
        "colab": {
          "base_uri": "https://localhost:8080/"
        }
      },
      "execution_count": 42,
      "outputs": [
        {
          "output_type": "stream",
          "name": "stdout",
          "text": [
            "('The Beatles', 442)\n",
            "('Pink Floyd', 565)\n",
            "('Led Zeppelin', 778)\n",
            "('Queen', 518)\n"
          ]
        }
      ]
    },
    {
      "cell_type": "markdown",
      "source": [
        "Now, let's combine multiple commands into a more complex query. This query will fetch the track names and their artist names, along with the total duration of tracks per artist, for tracks that are part of the \"Classic Rock\" playlist, ordered by the artist's name:"
      ],
      "metadata": {
        "id": "C6vsi3yRag3Q"
      }
    },
    {
      "cell_type": "code",
      "source": [
        "sql_query = \"\"\"\n",
        "    SELECT\n",
        "        artists.name AS artist_name,\n",
        "        tracks.name AS track_name,\n",
        "        SUM(tracks.duration) OVER (PARTITION BY artists.id) AS total_duration\n",
        "    FROM tracks\n",
        "    JOIN albums ON tracks.album_id = albums.id\n",
        "    JOIN artists ON albums.artist_id = artists.id\n",
        "    JOIN playlist_tracks ON tracks.id = playlist_tracks.track_id\n",
        "    JOIN playlists ON playlist_tracks.playlist_id = playlists.id\n",
        "    WHERE playlists.name = \"Classic Rock\"\n",
        "    ORDER BY artists.name\n",
        "\"\"\""
      ],
      "metadata": {
        "id": "zxDeEBFggfXl"
      },
      "execution_count": null,
      "outputs": []
    },
    {
      "cell_type": "code",
      "source": [
        "c.execute(sql_query)\n",
        "results = c.fetchall()\n",
        "for result in results:\n",
        "    print(result)"
      ],
      "metadata": {
        "id": "o6p0mYn1antw",
        "outputId": "28b79ce1-d9b7-4fe4-9f90-f28367d4c91b",
        "colab": {
          "base_uri": "https://localhost:8080/"
        }
      },
      "execution_count": 43,
      "outputs": [
        {
          "output_type": "stream",
          "name": "stdout",
          "text": [
            "('Pink Floyd', 'Another Brick in the Wall', 231)\n",
            "('The Beatles', 'Come Together', 442)\n",
            "('The Beatles', 'Something', 442)\n"
          ]
        }
      ]
    },
    {
      "cell_type": "code",
      "source": [
        "df = pd.read_sql_query(sql_query, conn)"
      ],
      "metadata": {
        "id": "A3-GbhwUgckt"
      },
      "execution_count": null,
      "outputs": []
    },
    {
      "cell_type": "code",
      "source": [
        "# Close comnnection once you are done\n",
        "conn.close()"
      ],
      "metadata": {
        "id": "tWfnmGXGb82y"
      },
      "execution_count": null,
      "outputs": []
    },
    {
      "cell_type": "markdown",
      "source": [
        "## Practice a bit"
      ],
      "metadata": {
        "id": "FQkLmWD39Rg1"
      }
    },
    {
      "cell_type": "code",
      "source": [
        "### useful: download and extract chinook sample DB\n",
        "import urllib.request\n",
        "import zipfile\n",
        "from functools import partial\n",
        "import os\n",
        "\n",
        "chinook_url = 'http://www.sqlitetutorial.net/wp-content/uploads/2018/03/chinook.zip'\n",
        "if not os.path.exists('chinook.zip'):\n",
        "    print('downloading chinook.zip ', end='')\n",
        "    with urllib.request.urlopen(chinook_url) as response:\n",
        "        with open('chinook.zip', 'wb') as f:\n",
        "            for data in iter(partial(response.read, 4*1024), b''):\n",
        "                print('.', end='', flush=True)\n",
        "                f.write(data)\n",
        "\n",
        "zipfile.ZipFile('chinook.zip').extractall()\n",
        "assert os.path.exists('chinook.db')"
      ],
      "metadata": {
        "id": "h977ZqdZfJ81",
        "outputId": "4de1557d-b52c-4849-faf1-c6c653bc7a45",
        "colab": {
          "base_uri": "https://localhost:8080/"
        }
      },
      "execution_count": 50,
      "outputs": [
        {
          "output_type": "stream",
          "name": "stdout",
          "text": [
            "downloading chinook.zip ..........................................................................."
          ]
        }
      ]
    },
    {
      "cell_type": "markdown",
      "source": [
        "in this exercise we're going to experiment with the [Chinook sample DB](http://www.sqlitetutorial.net/sqlite-sample-database/). \n",
        "\n",
        "![Chinook](http://www.sqlitetutorial.net/wp-content/uploads/2015/11/sqlite-sample-database-color.jpg)\n",
        "\n",
        "There are 11 tables in the chinook sample database.\n",
        "\n",
        "* employees table stores employees data such as employee id, last name, first name, etc. It also has a field named ReportsTo to specify who reports to whom.\n",
        "* customers table stores customers data.\n",
        "* invoices & invoice_items tables: these two tables store invoice data. The invoices table stores invoice header data and the invoice_items table stores the invoice line items data.\n",
        "* artists table stores artists data. It is a simple table that contains only the artist id and name.\n",
        "* albums table stores data about a list of tracks. Each album belongs to one artist. However, one artist may have multiple albums.\n",
        "* media_types table stores media types such as MPEG audio and AAC audio files.\n",
        "* genres table stores music types such as rock, jazz, metal, etc.\n",
        "* tracks table stores the data of songs. Each track belongs to one album.\n",
        "* playlists & playlist_track tables: playlists table store data about playlists. Each playlist contains a list of tracks. Each track may belong to multiple playlists. The relationship between the playlists table and tracks table is many-to-many. The playlist_track table is used to reflect this relationship.\n",
        "\n"
      ],
      "metadata": {
        "id": "CzNm-Rinebgc"
      }
    },
    {
      "cell_type": "code",
      "source": [
        "# Connect to the SQLite database (creates a new file if it doesn't exist)\n",
        "conn = sqlite3.connect('chinook.db')\n",
        "\n",
        "# Set up a cursor (pointer to rows in database)\n",
        "c = conn.cursor()"
      ],
      "metadata": {
        "id": "fdbguXoffidZ"
      },
      "execution_count": 51,
      "outputs": []
    },
    {
      "cell_type": "code",
      "source": [
        "# Query the schema for each table from the `sqlite_master` table\n",
        "c.execute(\"SELECT name, sql FROM sqlite_master WHERE type='table' ORDER BY name\")\n",
        "schemas = c.fetchall()\n",
        "\n",
        "# Print the schema for each table\n",
        "for schema in schemas:\n",
        "    table_name, table_schema = schema\n",
        "    print(f\"Table: {table_name}\\nSchema:\\n{table_schema}\\n\")"
      ],
      "metadata": {
        "id": "xro8mW-uf74-",
        "outputId": "b34a16fe-9fca-487e-c972-56c6b60ee4fe",
        "colab": {
          "base_uri": "https://localhost:8080/"
        }
      },
      "execution_count": 52,
      "outputs": [
        {
          "output_type": "stream",
          "name": "stdout",
          "text": [
            "Table: albums\n",
            "Schema:\n",
            "CREATE TABLE \"albums\"\r\n",
            "(\r\n",
            "    [AlbumId] INTEGER PRIMARY KEY AUTOINCREMENT NOT NULL,\r\n",
            "    [Title] NVARCHAR(160)  NOT NULL,\r\n",
            "    [ArtistId] INTEGER  NOT NULL,\r\n",
            "    FOREIGN KEY ([ArtistId]) REFERENCES \"artists\" ([ArtistId]) \r\n",
            "\t\tON DELETE NO ACTION ON UPDATE NO ACTION\r\n",
            ")\n",
            "\n",
            "Table: artists\n",
            "Schema:\n",
            "CREATE TABLE \"artists\"\r\n",
            "(\r\n",
            "    [ArtistId] INTEGER PRIMARY KEY AUTOINCREMENT NOT NULL,\r\n",
            "    [Name] NVARCHAR(120)\r\n",
            ")\n",
            "\n",
            "Table: customers\n",
            "Schema:\n",
            "CREATE TABLE \"customers\"\r\n",
            "(\r\n",
            "    [CustomerId] INTEGER PRIMARY KEY AUTOINCREMENT NOT NULL,\r\n",
            "    [FirstName] NVARCHAR(40)  NOT NULL,\r\n",
            "    [LastName] NVARCHAR(20)  NOT NULL,\r\n",
            "    [Company] NVARCHAR(80),\r\n",
            "    [Address] NVARCHAR(70),\r\n",
            "    [City] NVARCHAR(40),\r\n",
            "    [State] NVARCHAR(40),\r\n",
            "    [Country] NVARCHAR(40),\r\n",
            "    [PostalCode] NVARCHAR(10),\r\n",
            "    [Phone] NVARCHAR(24),\r\n",
            "    [Fax] NVARCHAR(24),\r\n",
            "    [Email] NVARCHAR(60)  NOT NULL,\r\n",
            "    [SupportRepId] INTEGER,\r\n",
            "    FOREIGN KEY ([SupportRepId]) REFERENCES \"employees\" ([EmployeeId]) \r\n",
            "\t\tON DELETE NO ACTION ON UPDATE NO ACTION\r\n",
            ")\n",
            "\n",
            "Table: employees\n",
            "Schema:\n",
            "CREATE TABLE \"employees\"\r\n",
            "(\r\n",
            "    [EmployeeId] INTEGER PRIMARY KEY AUTOINCREMENT NOT NULL,\r\n",
            "    [LastName] NVARCHAR(20)  NOT NULL,\r\n",
            "    [FirstName] NVARCHAR(20)  NOT NULL,\r\n",
            "    [Title] NVARCHAR(30),\r\n",
            "    [ReportsTo] INTEGER,\r\n",
            "    [BirthDate] DATETIME,\r\n",
            "    [HireDate] DATETIME,\r\n",
            "    [Address] NVARCHAR(70),\r\n",
            "    [City] NVARCHAR(40),\r\n",
            "    [State] NVARCHAR(40),\r\n",
            "    [Country] NVARCHAR(40),\r\n",
            "    [PostalCode] NVARCHAR(10),\r\n",
            "    [Phone] NVARCHAR(24),\r\n",
            "    [Fax] NVARCHAR(24),\r\n",
            "    [Email] NVARCHAR(60),\r\n",
            "    FOREIGN KEY ([ReportsTo]) REFERENCES \"employees\" ([EmployeeId]) \r\n",
            "\t\tON DELETE NO ACTION ON UPDATE NO ACTION\r\n",
            ")\n",
            "\n",
            "Table: genres\n",
            "Schema:\n",
            "CREATE TABLE \"genres\"\r\n",
            "(\r\n",
            "    [GenreId] INTEGER PRIMARY KEY AUTOINCREMENT NOT NULL,\r\n",
            "    [Name] NVARCHAR(120)\r\n",
            ")\n",
            "\n",
            "Table: invoice_items\n",
            "Schema:\n",
            "CREATE TABLE \"invoice_items\"\r\n",
            "(\r\n",
            "    [InvoiceLineId] INTEGER PRIMARY KEY AUTOINCREMENT NOT NULL,\r\n",
            "    [InvoiceId] INTEGER  NOT NULL,\r\n",
            "    [TrackId] INTEGER  NOT NULL,\r\n",
            "    [UnitPrice] NUMERIC(10,2)  NOT NULL,\r\n",
            "    [Quantity] INTEGER  NOT NULL,\r\n",
            "    FOREIGN KEY ([InvoiceId]) REFERENCES \"invoices\" ([InvoiceId]) \r\n",
            "\t\tON DELETE NO ACTION ON UPDATE NO ACTION,\r\n",
            "    FOREIGN KEY ([TrackId]) REFERENCES \"tracks\" ([TrackId]) \r\n",
            "\t\tON DELETE NO ACTION ON UPDATE NO ACTION\r\n",
            ")\n",
            "\n",
            "Table: invoices\n",
            "Schema:\n",
            "CREATE TABLE \"invoices\"\r\n",
            "(\r\n",
            "    [InvoiceId] INTEGER PRIMARY KEY AUTOINCREMENT NOT NULL,\r\n",
            "    [CustomerId] INTEGER  NOT NULL,\r\n",
            "    [InvoiceDate] DATETIME  NOT NULL,\r\n",
            "    [BillingAddress] NVARCHAR(70),\r\n",
            "    [BillingCity] NVARCHAR(40),\r\n",
            "    [BillingState] NVARCHAR(40),\r\n",
            "    [BillingCountry] NVARCHAR(40),\r\n",
            "    [BillingPostalCode] NVARCHAR(10),\r\n",
            "    [Total] NUMERIC(10,2)  NOT NULL,\r\n",
            "    FOREIGN KEY ([CustomerId]) REFERENCES \"customers\" ([CustomerId]) \r\n",
            "\t\tON DELETE NO ACTION ON UPDATE NO ACTION\r\n",
            ")\n",
            "\n",
            "Table: media_types\n",
            "Schema:\n",
            "CREATE TABLE \"media_types\"\r\n",
            "(\r\n",
            "    [MediaTypeId] INTEGER PRIMARY KEY AUTOINCREMENT NOT NULL,\r\n",
            "    [Name] NVARCHAR(120)\r\n",
            ")\n",
            "\n",
            "Table: playlist_track\n",
            "Schema:\n",
            "CREATE TABLE \"playlist_track\"\r\n",
            "(\r\n",
            "    [PlaylistId] INTEGER  NOT NULL,\r\n",
            "    [TrackId] INTEGER  NOT NULL,\r\n",
            "    CONSTRAINT [PK_PlaylistTrack] PRIMARY KEY  ([PlaylistId], [TrackId]),\r\n",
            "    FOREIGN KEY ([PlaylistId]) REFERENCES \"playlists\" ([PlaylistId]) \r\n",
            "\t\tON DELETE NO ACTION ON UPDATE NO ACTION,\r\n",
            "    FOREIGN KEY ([TrackId]) REFERENCES \"tracks\" ([TrackId]) \r\n",
            "\t\tON DELETE NO ACTION ON UPDATE NO ACTION\r\n",
            ")\n",
            "\n",
            "Table: playlists\n",
            "Schema:\n",
            "CREATE TABLE \"playlists\"\r\n",
            "(\r\n",
            "    [PlaylistId] INTEGER PRIMARY KEY AUTOINCREMENT NOT NULL,\r\n",
            "    [Name] NVARCHAR(120)\r\n",
            ")\n",
            "\n",
            "Table: sqlite_sequence\n",
            "Schema:\n",
            "CREATE TABLE sqlite_sequence(name,seq)\n",
            "\n",
            "Table: sqlite_stat1\n",
            "Schema:\n",
            "CREATE TABLE sqlite_stat1(tbl,idx,stat)\n",
            "\n",
            "Table: tracks\n",
            "Schema:\n",
            "CREATE TABLE \"tracks\"\r\n",
            "(\r\n",
            "    [TrackId] INTEGER PRIMARY KEY AUTOINCREMENT NOT NULL,\r\n",
            "    [Name] NVARCHAR(200)  NOT NULL,\r\n",
            "    [AlbumId] INTEGER,\r\n",
            "    [MediaTypeId] INTEGER  NOT NULL,\r\n",
            "    [GenreId] INTEGER,\r\n",
            "    [Composer] NVARCHAR(220),\r\n",
            "    [Milliseconds] INTEGER  NOT NULL,\r\n",
            "    [Bytes] INTEGER,\r\n",
            "    [UnitPrice] NUMERIC(10,2)  NOT NULL,\r\n",
            "    FOREIGN KEY ([AlbumId]) REFERENCES \"albums\" ([AlbumId]) \r\n",
            "\t\tON DELETE NO ACTION ON UPDATE NO ACTION,\r\n",
            "    FOREIGN KEY ([GenreId]) REFERENCES \"genres\" ([GenreId]) \r\n",
            "\t\tON DELETE NO ACTION ON UPDATE NO ACTION,\r\n",
            "    FOREIGN KEY ([MediaTypeId]) REFERENCES \"media_types\" ([MediaTypeId]) \r\n",
            "\t\tON DELETE NO ACTION ON UPDATE NO ACTION\r\n",
            ")\n",
            "\n"
          ]
        }
      ]
    },
    {
      "cell_type": "markdown",
      "source": [
        "**Exercise 1:** Find top 10 sold tracks."
      ],
      "metadata": {
        "id": "dgvdN0ABgDQg"
      }
    },
    {
      "cell_type": "code",
      "source": [
        "sql_query = \"\"\"\n",
        "  SELECT tracks.\"Name\", sum(invoice_items.\"Quantity\") AS sold \n",
        "  FROM tracks JOIN invoice_items ON tracks.\"TrackId\" = invoice_items.\"TrackId\" \n",
        "  GROUP BY tracks.\"TrackId\" \n",
        "  ORDER BY sold DESC\n",
        "  LIMIT 10\n",
        "\"\"\"\n",
        "\n",
        "df = pd.read_sql_query(sql_query, conn)\n",
        "df"
      ],
      "metadata": {
        "id": "UX3nc78MhSfJ",
        "outputId": "cf9b8ff6-c93e-4727-bdb6-7bab08f8a54d",
        "colab": {
          "base_uri": "https://localhost:8080/",
          "height": 363
        }
      },
      "execution_count": 57,
      "outputs": [
        {
          "output_type": "execute_result",
          "data": {
            "text/plain": [
              "                        Name  sold\n",
              "0          Balls to the Wall     2\n",
              "1           Inject The Venom     2\n",
              "2                 Snowballed     2\n",
              "3                   Overdose     2\n",
              "4            Deuces Are Wild     2\n",
              "5             Not The Doctor     2\n",
              "6          Por Causa De Você     2\n",
              "7  Welcome Home (Sanitarium)     2\n",
              "8                  Snowblind     2\n",
              "9                 Cornucopia     2"
            ],
            "text/html": [
              "\n",
              "  <div id=\"df-088e3b85-c1f3-46a7-a68b-fe13c6093338\">\n",
              "    <div class=\"colab-df-container\">\n",
              "      <div>\n",
              "<style scoped>\n",
              "    .dataframe tbody tr th:only-of-type {\n",
              "        vertical-align: middle;\n",
              "    }\n",
              "\n",
              "    .dataframe tbody tr th {\n",
              "        vertical-align: top;\n",
              "    }\n",
              "\n",
              "    .dataframe thead th {\n",
              "        text-align: right;\n",
              "    }\n",
              "</style>\n",
              "<table border=\"1\" class=\"dataframe\">\n",
              "  <thead>\n",
              "    <tr style=\"text-align: right;\">\n",
              "      <th></th>\n",
              "      <th>Name</th>\n",
              "      <th>sold</th>\n",
              "    </tr>\n",
              "  </thead>\n",
              "  <tbody>\n",
              "    <tr>\n",
              "      <th>0</th>\n",
              "      <td>Balls to the Wall</td>\n",
              "      <td>2</td>\n",
              "    </tr>\n",
              "    <tr>\n",
              "      <th>1</th>\n",
              "      <td>Inject The Venom</td>\n",
              "      <td>2</td>\n",
              "    </tr>\n",
              "    <tr>\n",
              "      <th>2</th>\n",
              "      <td>Snowballed</td>\n",
              "      <td>2</td>\n",
              "    </tr>\n",
              "    <tr>\n",
              "      <th>3</th>\n",
              "      <td>Overdose</td>\n",
              "      <td>2</td>\n",
              "    </tr>\n",
              "    <tr>\n",
              "      <th>4</th>\n",
              "      <td>Deuces Are Wild</td>\n",
              "      <td>2</td>\n",
              "    </tr>\n",
              "    <tr>\n",
              "      <th>5</th>\n",
              "      <td>Not The Doctor</td>\n",
              "      <td>2</td>\n",
              "    </tr>\n",
              "    <tr>\n",
              "      <th>6</th>\n",
              "      <td>Por Causa De Você</td>\n",
              "      <td>2</td>\n",
              "    </tr>\n",
              "    <tr>\n",
              "      <th>7</th>\n",
              "      <td>Welcome Home (Sanitarium)</td>\n",
              "      <td>2</td>\n",
              "    </tr>\n",
              "    <tr>\n",
              "      <th>8</th>\n",
              "      <td>Snowblind</td>\n",
              "      <td>2</td>\n",
              "    </tr>\n",
              "    <tr>\n",
              "      <th>9</th>\n",
              "      <td>Cornucopia</td>\n",
              "      <td>2</td>\n",
              "    </tr>\n",
              "  </tbody>\n",
              "</table>\n",
              "</div>\n",
              "      <button class=\"colab-df-convert\" onclick=\"convertToInteractive('df-088e3b85-c1f3-46a7-a68b-fe13c6093338')\"\n",
              "              title=\"Convert this dataframe to an interactive table.\"\n",
              "              style=\"display:none;\">\n",
              "        \n",
              "  <svg xmlns=\"http://www.w3.org/2000/svg\" height=\"24px\"viewBox=\"0 0 24 24\"\n",
              "       width=\"24px\">\n",
              "    <path d=\"M0 0h24v24H0V0z\" fill=\"none\"/>\n",
              "    <path d=\"M18.56 5.44l.94 2.06.94-2.06 2.06-.94-2.06-.94-.94-2.06-.94 2.06-2.06.94zm-11 1L8.5 8.5l.94-2.06 2.06-.94-2.06-.94L8.5 2.5l-.94 2.06-2.06.94zm10 10l.94 2.06.94-2.06 2.06-.94-2.06-.94-.94-2.06-.94 2.06-2.06.94z\"/><path d=\"M17.41 7.96l-1.37-1.37c-.4-.4-.92-.59-1.43-.59-.52 0-1.04.2-1.43.59L10.3 9.45l-7.72 7.72c-.78.78-.78 2.05 0 2.83L4 21.41c.39.39.9.59 1.41.59.51 0 1.02-.2 1.41-.59l7.78-7.78 2.81-2.81c.8-.78.8-2.07 0-2.86zM5.41 20L4 18.59l7.72-7.72 1.47 1.35L5.41 20z\"/>\n",
              "  </svg>\n",
              "      </button>\n",
              "      \n",
              "  <style>\n",
              "    .colab-df-container {\n",
              "      display:flex;\n",
              "      flex-wrap:wrap;\n",
              "      gap: 12px;\n",
              "    }\n",
              "\n",
              "    .colab-df-convert {\n",
              "      background-color: #E8F0FE;\n",
              "      border: none;\n",
              "      border-radius: 50%;\n",
              "      cursor: pointer;\n",
              "      display: none;\n",
              "      fill: #1967D2;\n",
              "      height: 32px;\n",
              "      padding: 0 0 0 0;\n",
              "      width: 32px;\n",
              "    }\n",
              "\n",
              "    .colab-df-convert:hover {\n",
              "      background-color: #E2EBFA;\n",
              "      box-shadow: 0px 1px 2px rgba(60, 64, 67, 0.3), 0px 1px 3px 1px rgba(60, 64, 67, 0.15);\n",
              "      fill: #174EA6;\n",
              "    }\n",
              "\n",
              "    [theme=dark] .colab-df-convert {\n",
              "      background-color: #3B4455;\n",
              "      fill: #D2E3FC;\n",
              "    }\n",
              "\n",
              "    [theme=dark] .colab-df-convert:hover {\n",
              "      background-color: #434B5C;\n",
              "      box-shadow: 0px 1px 3px 1px rgba(0, 0, 0, 0.15);\n",
              "      filter: drop-shadow(0px 1px 2px rgba(0, 0, 0, 0.3));\n",
              "      fill: #FFFFFF;\n",
              "    }\n",
              "  </style>\n",
              "\n",
              "      <script>\n",
              "        const buttonEl =\n",
              "          document.querySelector('#df-088e3b85-c1f3-46a7-a68b-fe13c6093338 button.colab-df-convert');\n",
              "        buttonEl.style.display =\n",
              "          google.colab.kernel.accessAllowed ? 'block' : 'none';\n",
              "\n",
              "        async function convertToInteractive(key) {\n",
              "          const element = document.querySelector('#df-088e3b85-c1f3-46a7-a68b-fe13c6093338');\n",
              "          const dataTable =\n",
              "            await google.colab.kernel.invokeFunction('convertToInteractive',\n",
              "                                                     [key], {});\n",
              "          if (!dataTable) return;\n",
              "\n",
              "          const docLinkHtml = 'Like what you see? Visit the ' +\n",
              "            '<a target=\"_blank\" href=https://colab.research.google.com/notebooks/data_table.ipynb>data table notebook</a>'\n",
              "            + ' to learn more about interactive tables.';\n",
              "          element.innerHTML = '';\n",
              "          dataTable['output_type'] = 'display_data';\n",
              "          await google.colab.output.renderOutput(dataTable, element);\n",
              "          const docLink = document.createElement('div');\n",
              "          docLink.innerHTML = docLinkHtml;\n",
              "          element.appendChild(docLink);\n",
              "        }\n",
              "      </script>\n",
              "    </div>\n",
              "  </div>\n",
              "  "
            ]
          },
          "metadata": {},
          "execution_count": 57
        }
      ]
    },
    {
      "cell_type": "markdown",
      "source": [
        "**Exercise 2:* Top 10 best selling artists by name."
      ],
      "metadata": {
        "id": "VWKhUPDlihXC"
      }
    },
    {
      "cell_type": "code",
      "source": [
        "sql_query = \"\"\"\n",
        "  SELECT sum(invoice_items.\"Quantity\") AS sold, artists.\"Name\" AS \"Artist\"  \n",
        "  FROM invoice_items \n",
        "    JOIN tracks ON tracks.\"TrackId\" = invoice_items.\"TrackId\" \n",
        "    JOIN albums ON albums.\"AlbumId\" = tracks.\"AlbumId\" \n",
        "    JOIN artists ON artists.\"ArtistId\" = albums.\"ArtistId\"\n",
        "  GROUP BY artists.\"ArtistId\" \n",
        "  ORDER BY sold DESC\n",
        "  LIMIT 10\n",
        "\"\"\"\n",
        "\n",
        "df = pd.read_sql_query(sql_query, conn)\n",
        "df"
      ],
      "metadata": {
        "id": "rS4GrCgLin2C",
        "outputId": "26c08ca5-c9be-40c4-8928-cd41ab07ceaf",
        "colab": {
          "base_uri": "https://localhost:8080/",
          "height": 363
        }
      },
      "execution_count": 58,
      "outputs": [
        {
          "output_type": "execute_result",
          "data": {
            "text/plain": [
              "   sold                   Artist\n",
              "0   140              Iron Maiden\n",
              "1   107                       U2\n",
              "2    91                Metallica\n",
              "3    87             Led Zeppelin\n",
              "4    45  Os Paralamas Do Sucesso\n",
              "5    44              Deep Purple\n",
              "6    42            Faith No More\n",
              "7    41                     Lost\n",
              "8    40             Eric Clapton\n",
              "9    39                   R.E.M."
            ],
            "text/html": [
              "\n",
              "  <div id=\"df-84bbff3b-d267-4e4a-a273-93cd1a9bbfa7\">\n",
              "    <div class=\"colab-df-container\">\n",
              "      <div>\n",
              "<style scoped>\n",
              "    .dataframe tbody tr th:only-of-type {\n",
              "        vertical-align: middle;\n",
              "    }\n",
              "\n",
              "    .dataframe tbody tr th {\n",
              "        vertical-align: top;\n",
              "    }\n",
              "\n",
              "    .dataframe thead th {\n",
              "        text-align: right;\n",
              "    }\n",
              "</style>\n",
              "<table border=\"1\" class=\"dataframe\">\n",
              "  <thead>\n",
              "    <tr style=\"text-align: right;\">\n",
              "      <th></th>\n",
              "      <th>sold</th>\n",
              "      <th>Artist</th>\n",
              "    </tr>\n",
              "  </thead>\n",
              "  <tbody>\n",
              "    <tr>\n",
              "      <th>0</th>\n",
              "      <td>140</td>\n",
              "      <td>Iron Maiden</td>\n",
              "    </tr>\n",
              "    <tr>\n",
              "      <th>1</th>\n",
              "      <td>107</td>\n",
              "      <td>U2</td>\n",
              "    </tr>\n",
              "    <tr>\n",
              "      <th>2</th>\n",
              "      <td>91</td>\n",
              "      <td>Metallica</td>\n",
              "    </tr>\n",
              "    <tr>\n",
              "      <th>3</th>\n",
              "      <td>87</td>\n",
              "      <td>Led Zeppelin</td>\n",
              "    </tr>\n",
              "    <tr>\n",
              "      <th>4</th>\n",
              "      <td>45</td>\n",
              "      <td>Os Paralamas Do Sucesso</td>\n",
              "    </tr>\n",
              "    <tr>\n",
              "      <th>5</th>\n",
              "      <td>44</td>\n",
              "      <td>Deep Purple</td>\n",
              "    </tr>\n",
              "    <tr>\n",
              "      <th>6</th>\n",
              "      <td>42</td>\n",
              "      <td>Faith No More</td>\n",
              "    </tr>\n",
              "    <tr>\n",
              "      <th>7</th>\n",
              "      <td>41</td>\n",
              "      <td>Lost</td>\n",
              "    </tr>\n",
              "    <tr>\n",
              "      <th>8</th>\n",
              "      <td>40</td>\n",
              "      <td>Eric Clapton</td>\n",
              "    </tr>\n",
              "    <tr>\n",
              "      <th>9</th>\n",
              "      <td>39</td>\n",
              "      <td>R.E.M.</td>\n",
              "    </tr>\n",
              "  </tbody>\n",
              "</table>\n",
              "</div>\n",
              "      <button class=\"colab-df-convert\" onclick=\"convertToInteractive('df-84bbff3b-d267-4e4a-a273-93cd1a9bbfa7')\"\n",
              "              title=\"Convert this dataframe to an interactive table.\"\n",
              "              style=\"display:none;\">\n",
              "        \n",
              "  <svg xmlns=\"http://www.w3.org/2000/svg\" height=\"24px\"viewBox=\"0 0 24 24\"\n",
              "       width=\"24px\">\n",
              "    <path d=\"M0 0h24v24H0V0z\" fill=\"none\"/>\n",
              "    <path d=\"M18.56 5.44l.94 2.06.94-2.06 2.06-.94-2.06-.94-.94-2.06-.94 2.06-2.06.94zm-11 1L8.5 8.5l.94-2.06 2.06-.94-2.06-.94L8.5 2.5l-.94 2.06-2.06.94zm10 10l.94 2.06.94-2.06 2.06-.94-2.06-.94-.94-2.06-.94 2.06-2.06.94z\"/><path d=\"M17.41 7.96l-1.37-1.37c-.4-.4-.92-.59-1.43-.59-.52 0-1.04.2-1.43.59L10.3 9.45l-7.72 7.72c-.78.78-.78 2.05 0 2.83L4 21.41c.39.39.9.59 1.41.59.51 0 1.02-.2 1.41-.59l7.78-7.78 2.81-2.81c.8-.78.8-2.07 0-2.86zM5.41 20L4 18.59l7.72-7.72 1.47 1.35L5.41 20z\"/>\n",
              "  </svg>\n",
              "      </button>\n",
              "      \n",
              "  <style>\n",
              "    .colab-df-container {\n",
              "      display:flex;\n",
              "      flex-wrap:wrap;\n",
              "      gap: 12px;\n",
              "    }\n",
              "\n",
              "    .colab-df-convert {\n",
              "      background-color: #E8F0FE;\n",
              "      border: none;\n",
              "      border-radius: 50%;\n",
              "      cursor: pointer;\n",
              "      display: none;\n",
              "      fill: #1967D2;\n",
              "      height: 32px;\n",
              "      padding: 0 0 0 0;\n",
              "      width: 32px;\n",
              "    }\n",
              "\n",
              "    .colab-df-convert:hover {\n",
              "      background-color: #E2EBFA;\n",
              "      box-shadow: 0px 1px 2px rgba(60, 64, 67, 0.3), 0px 1px 3px 1px rgba(60, 64, 67, 0.15);\n",
              "      fill: #174EA6;\n",
              "    }\n",
              "\n",
              "    [theme=dark] .colab-df-convert {\n",
              "      background-color: #3B4455;\n",
              "      fill: #D2E3FC;\n",
              "    }\n",
              "\n",
              "    [theme=dark] .colab-df-convert:hover {\n",
              "      background-color: #434B5C;\n",
              "      box-shadow: 0px 1px 3px 1px rgba(0, 0, 0, 0.15);\n",
              "      filter: drop-shadow(0px 1px 2px rgba(0, 0, 0, 0.3));\n",
              "      fill: #FFFFFF;\n",
              "    }\n",
              "  </style>\n",
              "\n",
              "      <script>\n",
              "        const buttonEl =\n",
              "          document.querySelector('#df-84bbff3b-d267-4e4a-a273-93cd1a9bbfa7 button.colab-df-convert');\n",
              "        buttonEl.style.display =\n",
              "          google.colab.kernel.accessAllowed ? 'block' : 'none';\n",
              "\n",
              "        async function convertToInteractive(key) {\n",
              "          const element = document.querySelector('#df-84bbff3b-d267-4e4a-a273-93cd1a9bbfa7');\n",
              "          const dataTable =\n",
              "            await google.colab.kernel.invokeFunction('convertToInteractive',\n",
              "                                                     [key], {});\n",
              "          if (!dataTable) return;\n",
              "\n",
              "          const docLinkHtml = 'Like what you see? Visit the ' +\n",
              "            '<a target=\"_blank\" href=https://colab.research.google.com/notebooks/data_table.ipynb>data table notebook</a>'\n",
              "            + ' to learn more about interactive tables.';\n",
              "          element.innerHTML = '';\n",
              "          dataTable['output_type'] = 'display_data';\n",
              "          await google.colab.output.renderOutput(dataTable, element);\n",
              "          const docLink = document.createElement('div');\n",
              "          docLink.innerHTML = docLinkHtml;\n",
              "          element.appendChild(docLink);\n",
              "        }\n",
              "      </script>\n",
              "    </div>\n",
              "  </div>\n",
              "  "
            ]
          },
          "metadata": {},
          "execution_count": 58
        }
      ]
    },
    {
      "cell_type": "code",
      "source": [
        "# Close comnnection once you are done\n",
        "conn.close()"
      ],
      "metadata": {
        "id": "nlON1P4cnUe-"
      },
      "execution_count": 59,
      "outputs": []
    },
    {
      "cell_type": "markdown",
      "source": [
        "# SQL and ML "
      ],
      "metadata": {
        "id": "H4gcKIiM6FT9"
      }
    },
    {
      "cell_type": "markdown",
      "source": [
        "## Traditional ML"
      ],
      "metadata": {
        "id": "ftEbyoiaqFBL"
      }
    },
    {
      "cell_type": "code",
      "source": [
        "import sqlite3\n",
        "from sklearn import datasets\n",
        "\n"
      ],
      "metadata": {
        "id": "-itQkUKHu4No"
      },
      "execution_count": null,
      "outputs": []
    },
    {
      "cell_type": "code",
      "source": [
        "iris = datasets.load_iris()\n",
        "\n",
        "# Connect to the SQLite database\n",
        "conn = sqlite3.connect(\"iris_data.db\")\n",
        "cursor = conn.cursor()"
      ],
      "metadata": {
        "id": "F59mmOUiu4YB"
      },
      "execution_count": null,
      "outputs": []
    },
    {
      "cell_type": "code",
      "source": [
        "# Create a table for the Iris dataset\n",
        "cursor.execute(\"\"\"\n",
        "CREATE TABLE IF NOT EXISTS iris_data (\n",
        "    id INTEGER PRIMARY KEY,\n",
        "    sepal_length REAL,\n",
        "    sepal_width REAL,\n",
        "    petal_length REAL,\n",
        "    petal_width REAL,\n",
        "    species INTEGER\n",
        ")\n",
        "\"\"\")\n",
        "\n",
        "# Insert the Iris dataset into the table\n",
        "data_to_insert = [tuple(row) + (label,) for row, label in zip(iris.data, iris.target)]\n",
        "cursor.executemany(\"\"\"\n",
        "INSERT INTO iris_data (sepal_length, sepal_width, petal_length, petal_width, species) VALUES (?, ?, ?, ?, ?)\n",
        "\"\"\", data_to_insert)\n",
        "\n",
        "conn.commit()"
      ],
      "metadata": {
        "id": "omLPEGMKnRyR"
      },
      "execution_count": 68,
      "outputs": []
    },
    {
      "cell_type": "code",
      "source": [
        "import numpy as np\n",
        "from sklearn.model_selection import train_test_split\n",
        "\n",
        "cursor.execute(\"SELECT sepal_length, sepal_width, petal_length, petal_width, species FROM iris_data\")\n",
        "data = cursor.fetchall()\n",
        "\n",
        "X, y = zip(*[(row[:4], row[4]) for row in data])\n",
        "X = np.array(X)\n",
        "y = np.array(y)\n",
        "\n",
        "X_train, X_test, y_train, y_test = train_test_split(X, y, test_size=0.2, random_state=1337)"
      ],
      "metadata": {
        "id": "Maai1Ahmnwyu"
      },
      "execution_count": 63,
      "outputs": []
    },
    {
      "cell_type": "code",
      "source": [
        "from sklearn.svm import SVC\n",
        "from sklearn.metrics import accuracy_score\n",
        "\n",
        "model = SVC()\n",
        "model.fit(X_train, y_train)\n",
        "\n",
        "y_pred = model.predict(X_test)\n",
        "\n",
        "accuracy = accuracy_score(y_test, y_pred)\n",
        "print(f\"Accuracy: {accuracy:.2f}\")"
      ],
      "metadata": {
        "id": "Gj7bMH10n9Hu",
        "outputId": "4924d0c5-4563-42bf-f8f5-ffd5fc72ac24",
        "colab": {
          "base_uri": "https://localhost:8080/"
        }
      },
      "execution_count": 64,
      "outputs": [
        {
          "output_type": "stream",
          "name": "stdout",
          "text": [
            "Accuracy: 0.97\n"
          ]
        }
      ]
    },
    {
      "cell_type": "markdown",
      "source": [
        "## Deep Learning: Reading in batches from DB\n",
        "\n",
        "Ok, so far so good. Would it not be cool if we could sequentially feed in data to train and/or predict from the database. Then we coulkd work with really big datasets without running in RAM issues.\n",
        "\n",
        "We will now train a simple neural network model using PyTorch. We'll create a custom dataset class that fetches data from the SQLite database and loads it in batches using a DataLoader."
      ],
      "metadata": {
        "id": "W2u8-APUqLe-"
      }
    },
    {
      "cell_type": "code",
      "source": [
        "import torch\n",
        "from torch.utils.data import Dataset\n",
        "\n",
        "class IrisDataset(Dataset):\n",
        "    def __init__(self, cursor, indices):\n",
        "        self.cursor = cursor\n",
        "        self.indices = indices\n",
        "\n",
        "    def __len__(self):\n",
        "        return len(self.indices)\n",
        "\n",
        "    def __getitem__(self, idx):\n",
        "        index = self.indices[idx]\n",
        "        self.cursor.execute(\"SELECT sepal_length, sepal_width, petal_length, petal_width, species FROM iris_data WHERE id=?\", (index + 1,))\n",
        "        row = self.cursor.fetchone()\n",
        "        x = torch.tensor(row[:4], dtype=torch.float32)\n",
        "        y = torch.tensor(row[4], dtype=torch.long)\n",
        "        return x, y"
      ],
      "metadata": {
        "id": "KkzAffibqP11"
      },
      "execution_count": 74,
      "outputs": []
    },
    {
      "cell_type": "code",
      "source": [
        "from torch.utils.data import DataLoader, SubsetRandomSampler\n",
        "\n",
        "# Total number of samples in the dataset\n",
        "n_samples = len(data)\n",
        "indices = list(range(n_samples))\n",
        "\n",
        "# Split indices into training and testing sets\n",
        "train_indices, test_indices = train_test_split(indices, test_size=0.2, random_state=42)\n",
        "\n",
        "# Create DataLoaders\n",
        "train_sampler = SubsetRandomSampler(train_indices)\n",
        "test_sampler = SubsetRandomSampler(test_indices)\n",
        "\n",
        "train_dataset = IrisDataset(cursor, train_indices)\n",
        "test_dataset = IrisDataset(cursor, test_indices)\n",
        "\n",
        "train_loader = DataLoader(train_dataset, batch_size=10, sampler=train_sampler)\n",
        "test_loader = DataLoader(test_dataset, batch_size=10, sampler=test_sampler)"
      ],
      "metadata": {
        "id": "MHukg_U5t4Mp",
        "outputId": "18ce8a05-e162-4720-b435-90bf4422e325",
        "colab": {
          "base_uri": "https://localhost:8080/",
          "height": 235
        }
      },
      "execution_count": 75,
      "outputs": [
        {
          "output_type": "error",
          "ename": "NameError",
          "evalue": "ignored",
          "traceback": [
            "\u001b[0;31m---------------------------------------------------------------------------\u001b[0m",
            "\u001b[0;31mNameError\u001b[0m                                 Traceback (most recent call last)",
            "\u001b[0;32m<ipython-input-75-29d7c43bf585>\u001b[0m in \u001b[0;36m<module>\u001b[0;34m\u001b[0m\n\u001b[1;32m     12\u001b[0m \u001b[0mtest_sampler\u001b[0m \u001b[0;34m=\u001b[0m \u001b[0mSubsetRandomSampler\u001b[0m\u001b[0;34m(\u001b[0m\u001b[0mtest_indices\u001b[0m\u001b[0;34m)\u001b[0m\u001b[0;34m\u001b[0m\u001b[0;34m\u001b[0m\u001b[0m\n\u001b[1;32m     13\u001b[0m \u001b[0;34m\u001b[0m\u001b[0m\n\u001b[0;32m---> 14\u001b[0;31m \u001b[0mtrain_dataset\u001b[0m \u001b[0;34m=\u001b[0m \u001b[0mIrisDataset\u001b[0m\u001b[0;34m(\u001b[0m\u001b[0mcursor\u001b[0m\u001b[0;34m,\u001b[0m \u001b[0mtrain_indices\u001b[0m\u001b[0;34m)\u001b[0m\u001b[0;34m\u001b[0m\u001b[0;34m\u001b[0m\u001b[0m\n\u001b[0m\u001b[1;32m     15\u001b[0m \u001b[0mtest_dataset\u001b[0m \u001b[0;34m=\u001b[0m \u001b[0mIrisDataset\u001b[0m\u001b[0;34m(\u001b[0m\u001b[0mcursor\u001b[0m\u001b[0;34m,\u001b[0m \u001b[0mtest_indices\u001b[0m\u001b[0;34m)\u001b[0m\u001b[0;34m\u001b[0m\u001b[0;34m\u001b[0m\u001b[0m\n\u001b[1;32m     16\u001b[0m \u001b[0;34m\u001b[0m\u001b[0m\n",
            "\u001b[0;31mNameError\u001b[0m: name 'cursor' is not defined"
          ]
        }
      ]
    }
  ]
}