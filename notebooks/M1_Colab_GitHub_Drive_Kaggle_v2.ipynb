{
  "nbformat": 4,
  "nbformat_minor": 0,
  "metadata": {
    "colab": {
      "provenance": [],
      "authorship_tag": "ABX9TyOT69/rJDzKHJX/h0muCysg",
      "include_colab_link": true
    },
    "kernelspec": {
      "name": "python3",
      "display_name": "Python 3"
    },
    "language_info": {
      "name": "python"
    }
  },
  "cells": [
    {
      "cell_type": "markdown",
      "metadata": {
        "id": "view-in-github",
        "colab_type": "text"
      },
      "source": [
        "<a href=\"https://colab.research.google.com/github/aaubs/ds-master/blob/main/notebooks/M1_Colab_GitHub_Drive_Kaggle_v2.ipynb\" target=\"_parent\"><img src=\"https://colab.research.google.com/assets/colab-badge.svg\" alt=\"Open In Colab\"/></a>"
      ]
    },
    {
      "cell_type": "markdown",
      "source": [
        "# Use Colab notebook, Google drive, Kaggle, and Github\n",
        "Visit Google Colaboratory website\n",
        "Click on New Notebook button. A blank notebook is initialized and opened"
      ],
      "metadata": {
        "id": "Tk51xpCAG1nu"
      }
    },
    {
      "cell_type": "markdown",
      "source": [
        "# Tool Usage Overview\n",
        "\n",
        "This table provides an overview of the specific use cases for tools like Colab, GitHub, Hugging Face, GitHub Codespaces, Visual Studio Code, and Kaggle.\n",
        "\n",
        "| Tool                   | Use Case Description                                                                                                                                               |\n",
        "|------------------------|--------------------------------------------------------------------------------------------------------------------------------------------------------------------|\n",
        "| **Colab**              | - Ideal for running Jupyter notebooks in the cloud.                                                                                                                |\n",
        "|                        | - Provides a free GPU for machine learning projects.                                                                                                               |\n",
        "|                        | - Useful for collaborative data science and educational purposes.                                                                                                   |\n",
        "| **GitHub**             | - Version control for tracking changes in source code.                                                                                                             |\n",
        "|                        | - Collaborative platform for code review and project management.                                                                                                    |\n",
        "|                        | - Hosting and documentation for open-source projects.                                                                                                               |\n",
        "| **Hugging Face**       | - Platform for sharing and deploying machine learning models.                                                                                                       |\n",
        "|                        | - Provides a large repository of pre-trained models, especially in natural language processing.                                                                     |\n",
        "|                        | - Tools for training and fine-tuning machine learning models in the cloud.                                                                                          |\n",
        "| **GitHub Codespaces**  | - Provides a development environment in the cloud, directly integrated with GitHub repositories.                                                                    |\n",
        "|                        | - Supports a full Visual Studio Code editor in the browser.                                                                                                         |\n",
        "|                        | - Useful for coding, debugging, and running applications without setting up a local environment.                                                                   |\n",
        "| **Visual Studio Code** | - Popular code editor with extensive plugin support for programming languages and tools.                                                                           |\n",
        "|                        | - Features integrated Git support for version control.                                                                                                             |\n",
        "|                        | - Customizable and adaptable for various development needs, including remote development via extensions like Remote - SSH, Remote - Containers, and Remote - WSL. |\n",
        "| **Kaggle**             | - A platform for data science competitions, datasets, and notebooks.                                                                                                |\n",
        "|                        | - Offers a cloud-based work environment with free access to GPUs and TPUs.                                                                                          |\n",
        "|                        | - Facilitates collaborative data science and provides opportunities for learning and career advancement through competition.                                        |\n",
        "\n",
        "This table serves as a comprehensive guide to understanding the functionalities and primary applications of various popular development tools in the technology and data science landscape.\n"
      ],
      "metadata": {
        "id": "Ty4UBfvAfz6M"
      }
    },
    {
      "cell_type": "markdown",
      "source": [
        "##Part 1: Mount Google Drive to Google Colab Notebook\n",
        "Run the below script to mount your Google Drive"
      ],
      "metadata": {
        "id": "uuLrRCIEHAVb"
      }
    },
    {
      "cell_type": "code",
      "execution_count": null,
      "metadata": {
        "colab": {
          "base_uri": "https://localhost:8080/"
        },
        "id": "6C_WBpv4Gx6y",
        "outputId": "dbb33d48-42a1-47ab-fc0e-c577d9713ba1"
      },
      "outputs": [
        {
          "output_type": "stream",
          "name": "stdout",
          "text": [
            "Mounted at /content/drive\n"
          ]
        }
      ],
      "source": [
        "from google.colab import drive\n",
        "drive.mount('/content/drive')"
      ]
    },
    {
      "cell_type": "markdown",
      "source": [
        "<img src=\"https://raw.githubusercontent.com/aaubs/ds-master/main/data/Images/M1_Colab_GitHub_1.png\" alt=\"Image\" width=\"400\" height=\"250\"/>\n",
        "<img src=\"https://raw.githubusercontent.com/aaubs/ds-master/main/data/Images/M1_Colab_GitHub_2.png\" alt=\"Image\" width=\"400\" height=\"250\"/>\n",
        "<img src=\"https://raw.githubusercontent.com/aaubs/ds-master/main/data/Images/M1_Colab_GitHub_3.png\" alt=\"Image\" width=\"400\" height=\"250\"/>\n"
      ],
      "metadata": {
        "id": "qSDZrv8dM_H8"
      }
    },
    {
      "cell_type": "markdown",
      "source": [
        "## Part 2: Connect to Kaggle and download a file\n",
        "\n",
        "To connect to Kaggle, authenticate, and download a file in Google Colab, you can follow these steps:\n",
        "\n"
      ],
      "metadata": {
        "id": "apiUmqAWEi69"
      }
    },
    {
      "cell_type": "markdown",
      "source": [
        "***Step 2.1: Create your Kaggle API Token:***\n",
        "- Go to Your Profile and click on Edit Profile.\n",
        "- Scroll the page until API section and click on Create New API Token button\n",
        "- A file named ```kaggle.json``` will get downloaded containing your username and token key\n"
      ],
      "metadata": {
        "id": "9wHSum4iuWrj"
      }
    },
    {
      "cell_type": "markdown",
      "source": [
        "<img src=\"https://raw.githubusercontent.com/aaubs/ds-master/main/data/Images/M1_Kaggle_GitHub_1.png\" alt=\"Image\" width=\"500\" height=\"150\"/>"
      ],
      "metadata": {
        "id": "VV8e_QXZwWcb"
      }
    },
    {
      "cell_type": "markdown",
      "source": [
        "***Step 2.2: Upload kaggle.json to Google Drive***\n",
        "- Create a folder in Google Drive ( in my case I'm using: ```Kaggle``` ) where we will be storing our Kaggle Datasets\n",
        "- Upload your downloaded ```kaggle.json``` file to the created folder"
      ],
      "metadata": {
        "id": "OOyGG8LyxD3R"
      }
    },
    {
      "cell_type": "markdown",
      "source": [
        "<img src=\"https://raw.githubusercontent.com/aaubs/ds-master/main/data/Images/M1_Kaggle_GitHub_2.png\" alt=\"Image\" width=\"400\" height=\"200\"/>"
      ],
      "metadata": {
        "id": "hdaBsQQ-xlrv"
      }
    },
    {
      "cell_type": "markdown",
      "source": [
        "***Step 2.3: Configure Kaggle***\n",
        "\n",
        "Below code will set the Kaggle configuration path to ```kaggle.json```.\n",
        "> Note: If you have used different fol\n",
        "der name or directory path for ```kaggle.json```, please use the same instead of /Kaggle in the below code"
      ],
      "metadata": {
        "id": "cWTfNSHbzUZF"
      }
    },
    {
      "cell_type": "code",
      "source": [
        "import os\n",
        "os.environ['KAGGLE_CONFIG_DIR'] = \"/content/drive/MyDrive/Kaggle\""
      ],
      "metadata": {
        "id": "96cp5TCBlXos"
      },
      "execution_count": null,
      "outputs": []
    },
    {
      "cell_type": "markdown",
      "source": [
        "***Step 2.4: Download the Kaggle datasets***\n",
        "\n",
        "Now, you can download either normal dataset or competition dataset. Based on your requirements follow the below steps:\n",
        "- Go to [Kaggle datasets Dashboard](https://www.kaggle.com/datasets/heptapod/titanic) and click on Copy API Command as shown:\n",
        "\n",
        "\n"
      ],
      "metadata": {
        "id": "Ue-7E66m00r_"
      }
    },
    {
      "cell_type": "markdown",
      "source": [
        "<img src=\"https://raw.githubusercontent.com/aaubs/ds-master/main/data/Images/M1_Kaggle_GitHub_3.png\" alt=\"Image\" width=\"500\" height=\"200\"/>"
      ],
      "metadata": {
        "id": "bcVqCc0W1EuY"
      }
    },
    {
      "cell_type": "markdown",
      "source": [
        "- Your API Command will look like ```kaggle datasets download -d <username>/<datasets> or kaggle datasets download -d <datasets>```\n"
      ],
      "metadata": {
        "id": "NDXvQzmE2fHp"
      }
    },
    {
      "cell_type": "code",
      "source": [
        "!kaggle datasets download -d /content/drive/MyDrive/GitHub/titanic heptapod/titanic --unzip"
      ],
      "metadata": {
        "colab": {
          "base_uri": "https://localhost:8080/"
        },
        "id": "ceJ2j0260uIA",
        "outputId": "63beab7f-2707-4fa1-b873-168da0aeaf3c"
      },
      "execution_count": null,
      "outputs": [
        {
          "output_type": "stream",
          "name": "stdout",
          "text": [
            "Dataset URL: https://www.kaggle.com/datasets/heptapod/titanic\n",
            "License(s): DbCL-1.0\n",
            "Downloading titanic.zip to /content\n",
            "  0% 0.00/10.8k [00:00<?, ?B/s]\n",
            "100% 10.8k/10.8k [00:00<00:00, 21.4MB/s]\n"
          ]
        }
      ]
    },
    {
      "cell_type": "markdown",
      "source": [
        "> Note: The datasets are downloaded as a zip file. You need to manually ```unzip``` the file. But, there is a keyword ```--unzip```used to instantly unzip the file after download and delete the zip file."
      ],
      "metadata": {
        "id": "M8HlMPLU3G9j"
      }
    },
    {
      "cell_type": "markdown",
      "source": [
        "## Part 3: Using Raw Format Data from GitHub in Google Colab\n",
        "\n",
        "The following steps will guide you through the steps of using raw format data directly from GitHub in your Google Colab notebooks.\n",
        "\n",
        "***Step 3.1: Find the Data File on GitHub***\n",
        "\n",
        "1. **Navigate to the GitHub repository** that contains the file you want to use.\n",
        "2. **Find and click on the file** to open it.\n",
        "3. **Open the file in Raw view** by clicking the “Raw” button at the top right of the file viewer.\n",
        "\n",
        "***Step 3.2: Copy the Raw URL***\n",
        "\n",
        "- The URL now in your browser’s address bar is the direct link to the raw data. Copy this URL.\n",
        "\n",
        "***Step 3.3: Load Data in Google Colab***\n",
        "\n",
        "Depending on the format of your data, you might use different methods to load it into Colab:\n",
        "\n"
      ],
      "metadata": {
        "id": "x0hghdKQhbLC"
      }
    },
    {
      "cell_type": "code",
      "source": [
        "#https://github.com/DataSnowman/carprice/blob/master/dataset/carprice.csv"
      ],
      "metadata": {
        "id": "l7NWD8-Xi-ME"
      },
      "execution_count": null,
      "outputs": []
    },
    {
      "cell_type": "code",
      "source": [
        "import pandas as pd\n",
        "\n",
        "# Replace 'url' with your copied raw URL\n",
        "url = 'https://raw.githubusercontent.com/aaubs/ds-master/main/data/CarPrice_Assignment.csv'\n",
        "data = pd.read_csv(url)\n",
        "data.head()"
      ],
      "metadata": {
        "colab": {
          "base_uri": "https://localhost:8080/",
          "height": 308
        },
        "id": "xiPPUUVpiRil",
        "outputId": "d7d807ba-f1c4-4b73-fc1e-076a3d48a5b7"
      },
      "execution_count": null,
      "outputs": [
        {
          "output_type": "execute_result",
          "data": {
            "text/plain": [
              "   car_ID  symboling                   CarName fueltype aspiration doornumber  \\\n",
              "0       1          3        alfa-romero giulia      gas        std        two   \n",
              "1       2          3       alfa-romero stelvio      gas        std        two   \n",
              "2       3          1  alfa-romero Quadrifoglio      gas        std        two   \n",
              "3       4          2               audi 100 ls      gas        std       four   \n",
              "4       5          2                audi 100ls      gas        std       four   \n",
              "\n",
              "       carbody drivewheel enginelocation  wheelbase  ...  enginesize  \\\n",
              "0  convertible        rwd          front       88.6  ...         130   \n",
              "1  convertible        rwd          front       88.6  ...         130   \n",
              "2    hatchback        rwd          front       94.5  ...         152   \n",
              "3        sedan        fwd          front       99.8  ...         109   \n",
              "4        sedan        4wd          front       99.4  ...         136   \n",
              "\n",
              "   fuelsystem  boreratio  stroke compressionratio horsepower  peakrpm citympg  \\\n",
              "0        mpfi       3.47    2.68              9.0        111     5000      21   \n",
              "1        mpfi       3.47    2.68              9.0        111     5000      21   \n",
              "2        mpfi       2.68    3.47              9.0        154     5000      19   \n",
              "3        mpfi       3.19    3.40             10.0        102     5500      24   \n",
              "4        mpfi       3.19    3.40              8.0        115     5500      18   \n",
              "\n",
              "   highwaympg    price  \n",
              "0          27  13495.0  \n",
              "1          27  16500.0  \n",
              "2          26  16500.0  \n",
              "3          30  13950.0  \n",
              "4          22  17450.0  \n",
              "\n",
              "[5 rows x 26 columns]"
            ],
            "text/html": [
              "\n",
              "  <div id=\"df-f94c891a-a416-4bfd-8a7f-aad324360c04\" class=\"colab-df-container\">\n",
              "    <div>\n",
              "<style scoped>\n",
              "    .dataframe tbody tr th:only-of-type {\n",
              "        vertical-align: middle;\n",
              "    }\n",
              "\n",
              "    .dataframe tbody tr th {\n",
              "        vertical-align: top;\n",
              "    }\n",
              "\n",
              "    .dataframe thead th {\n",
              "        text-align: right;\n",
              "    }\n",
              "</style>\n",
              "<table border=\"1\" class=\"dataframe\">\n",
              "  <thead>\n",
              "    <tr style=\"text-align: right;\">\n",
              "      <th></th>\n",
              "      <th>car_ID</th>\n",
              "      <th>symboling</th>\n",
              "      <th>CarName</th>\n",
              "      <th>fueltype</th>\n",
              "      <th>aspiration</th>\n",
              "      <th>doornumber</th>\n",
              "      <th>carbody</th>\n",
              "      <th>drivewheel</th>\n",
              "      <th>enginelocation</th>\n",
              "      <th>wheelbase</th>\n",
              "      <th>...</th>\n",
              "      <th>enginesize</th>\n",
              "      <th>fuelsystem</th>\n",
              "      <th>boreratio</th>\n",
              "      <th>stroke</th>\n",
              "      <th>compressionratio</th>\n",
              "      <th>horsepower</th>\n",
              "      <th>peakrpm</th>\n",
              "      <th>citympg</th>\n",
              "      <th>highwaympg</th>\n",
              "      <th>price</th>\n",
              "    </tr>\n",
              "  </thead>\n",
              "  <tbody>\n",
              "    <tr>\n",
              "      <th>0</th>\n",
              "      <td>1</td>\n",
              "      <td>3</td>\n",
              "      <td>alfa-romero giulia</td>\n",
              "      <td>gas</td>\n",
              "      <td>std</td>\n",
              "      <td>two</td>\n",
              "      <td>convertible</td>\n",
              "      <td>rwd</td>\n",
              "      <td>front</td>\n",
              "      <td>88.6</td>\n",
              "      <td>...</td>\n",
              "      <td>130</td>\n",
              "      <td>mpfi</td>\n",
              "      <td>3.47</td>\n",
              "      <td>2.68</td>\n",
              "      <td>9.0</td>\n",
              "      <td>111</td>\n",
              "      <td>5000</td>\n",
              "      <td>21</td>\n",
              "      <td>27</td>\n",
              "      <td>13495.0</td>\n",
              "    </tr>\n",
              "    <tr>\n",
              "      <th>1</th>\n",
              "      <td>2</td>\n",
              "      <td>3</td>\n",
              "      <td>alfa-romero stelvio</td>\n",
              "      <td>gas</td>\n",
              "      <td>std</td>\n",
              "      <td>two</td>\n",
              "      <td>convertible</td>\n",
              "      <td>rwd</td>\n",
              "      <td>front</td>\n",
              "      <td>88.6</td>\n",
              "      <td>...</td>\n",
              "      <td>130</td>\n",
              "      <td>mpfi</td>\n",
              "      <td>3.47</td>\n",
              "      <td>2.68</td>\n",
              "      <td>9.0</td>\n",
              "      <td>111</td>\n",
              "      <td>5000</td>\n",
              "      <td>21</td>\n",
              "      <td>27</td>\n",
              "      <td>16500.0</td>\n",
              "    </tr>\n",
              "    <tr>\n",
              "      <th>2</th>\n",
              "      <td>3</td>\n",
              "      <td>1</td>\n",
              "      <td>alfa-romero Quadrifoglio</td>\n",
              "      <td>gas</td>\n",
              "      <td>std</td>\n",
              "      <td>two</td>\n",
              "      <td>hatchback</td>\n",
              "      <td>rwd</td>\n",
              "      <td>front</td>\n",
              "      <td>94.5</td>\n",
              "      <td>...</td>\n",
              "      <td>152</td>\n",
              "      <td>mpfi</td>\n",
              "      <td>2.68</td>\n",
              "      <td>3.47</td>\n",
              "      <td>9.0</td>\n",
              "      <td>154</td>\n",
              "      <td>5000</td>\n",
              "      <td>19</td>\n",
              "      <td>26</td>\n",
              "      <td>16500.0</td>\n",
              "    </tr>\n",
              "    <tr>\n",
              "      <th>3</th>\n",
              "      <td>4</td>\n",
              "      <td>2</td>\n",
              "      <td>audi 100 ls</td>\n",
              "      <td>gas</td>\n",
              "      <td>std</td>\n",
              "      <td>four</td>\n",
              "      <td>sedan</td>\n",
              "      <td>fwd</td>\n",
              "      <td>front</td>\n",
              "      <td>99.8</td>\n",
              "      <td>...</td>\n",
              "      <td>109</td>\n",
              "      <td>mpfi</td>\n",
              "      <td>3.19</td>\n",
              "      <td>3.40</td>\n",
              "      <td>10.0</td>\n",
              "      <td>102</td>\n",
              "      <td>5500</td>\n",
              "      <td>24</td>\n",
              "      <td>30</td>\n",
              "      <td>13950.0</td>\n",
              "    </tr>\n",
              "    <tr>\n",
              "      <th>4</th>\n",
              "      <td>5</td>\n",
              "      <td>2</td>\n",
              "      <td>audi 100ls</td>\n",
              "      <td>gas</td>\n",
              "      <td>std</td>\n",
              "      <td>four</td>\n",
              "      <td>sedan</td>\n",
              "      <td>4wd</td>\n",
              "      <td>front</td>\n",
              "      <td>99.4</td>\n",
              "      <td>...</td>\n",
              "      <td>136</td>\n",
              "      <td>mpfi</td>\n",
              "      <td>3.19</td>\n",
              "      <td>3.40</td>\n",
              "      <td>8.0</td>\n",
              "      <td>115</td>\n",
              "      <td>5500</td>\n",
              "      <td>18</td>\n",
              "      <td>22</td>\n",
              "      <td>17450.0</td>\n",
              "    </tr>\n",
              "  </tbody>\n",
              "</table>\n",
              "<p>5 rows × 26 columns</p>\n",
              "</div>\n",
              "    <div class=\"colab-df-buttons\">\n",
              "\n",
              "  <div class=\"colab-df-container\">\n",
              "    <button class=\"colab-df-convert\" onclick=\"convertToInteractive('df-f94c891a-a416-4bfd-8a7f-aad324360c04')\"\n",
              "            title=\"Convert this dataframe to an interactive table.\"\n",
              "            style=\"display:none;\">\n",
              "\n",
              "  <svg xmlns=\"http://www.w3.org/2000/svg\" height=\"24px\" viewBox=\"0 -960 960 960\">\n",
              "    <path d=\"M120-120v-720h720v720H120Zm60-500h600v-160H180v160Zm220 220h160v-160H400v160Zm0 220h160v-160H400v160ZM180-400h160v-160H180v160Zm440 0h160v-160H620v160ZM180-180h160v-160H180v160Zm440 0h160v-160H620v160Z\"/>\n",
              "  </svg>\n",
              "    </button>\n",
              "\n",
              "  <style>\n",
              "    .colab-df-container {\n",
              "      display:flex;\n",
              "      gap: 12px;\n",
              "    }\n",
              "\n",
              "    .colab-df-convert {\n",
              "      background-color: #E8F0FE;\n",
              "      border: none;\n",
              "      border-radius: 50%;\n",
              "      cursor: pointer;\n",
              "      display: none;\n",
              "      fill: #1967D2;\n",
              "      height: 32px;\n",
              "      padding: 0 0 0 0;\n",
              "      width: 32px;\n",
              "    }\n",
              "\n",
              "    .colab-df-convert:hover {\n",
              "      background-color: #E2EBFA;\n",
              "      box-shadow: 0px 1px 2px rgba(60, 64, 67, 0.3), 0px 1px 3px 1px rgba(60, 64, 67, 0.15);\n",
              "      fill: #174EA6;\n",
              "    }\n",
              "\n",
              "    .colab-df-buttons div {\n",
              "      margin-bottom: 4px;\n",
              "    }\n",
              "\n",
              "    [theme=dark] .colab-df-convert {\n",
              "      background-color: #3B4455;\n",
              "      fill: #D2E3FC;\n",
              "    }\n",
              "\n",
              "    [theme=dark] .colab-df-convert:hover {\n",
              "      background-color: #434B5C;\n",
              "      box-shadow: 0px 1px 3px 1px rgba(0, 0, 0, 0.15);\n",
              "      filter: drop-shadow(0px 1px 2px rgba(0, 0, 0, 0.3));\n",
              "      fill: #FFFFFF;\n",
              "    }\n",
              "  </style>\n",
              "\n",
              "    <script>\n",
              "      const buttonEl =\n",
              "        document.querySelector('#df-f94c891a-a416-4bfd-8a7f-aad324360c04 button.colab-df-convert');\n",
              "      buttonEl.style.display =\n",
              "        google.colab.kernel.accessAllowed ? 'block' : 'none';\n",
              "\n",
              "      async function convertToInteractive(key) {\n",
              "        const element = document.querySelector('#df-f94c891a-a416-4bfd-8a7f-aad324360c04');\n",
              "        const dataTable =\n",
              "          await google.colab.kernel.invokeFunction('convertToInteractive',\n",
              "                                                    [key], {});\n",
              "        if (!dataTable) return;\n",
              "\n",
              "        const docLinkHtml = 'Like what you see? Visit the ' +\n",
              "          '<a target=\"_blank\" href=https://colab.research.google.com/notebooks/data_table.ipynb>data table notebook</a>'\n",
              "          + ' to learn more about interactive tables.';\n",
              "        element.innerHTML = '';\n",
              "        dataTable['output_type'] = 'display_data';\n",
              "        await google.colab.output.renderOutput(dataTable, element);\n",
              "        const docLink = document.createElement('div');\n",
              "        docLink.innerHTML = docLinkHtml;\n",
              "        element.appendChild(docLink);\n",
              "      }\n",
              "    </script>\n",
              "  </div>\n",
              "\n",
              "\n",
              "<div id=\"df-bab50ccc-9d9a-489d-bbf8-e3f096a12ea1\">\n",
              "  <button class=\"colab-df-quickchart\" onclick=\"quickchart('df-bab50ccc-9d9a-489d-bbf8-e3f096a12ea1')\"\n",
              "            title=\"Suggest charts\"\n",
              "            style=\"display:none;\">\n",
              "\n",
              "<svg xmlns=\"http://www.w3.org/2000/svg\" height=\"24px\"viewBox=\"0 0 24 24\"\n",
              "     width=\"24px\">\n",
              "    <g>\n",
              "        <path d=\"M19 3H5c-1.1 0-2 .9-2 2v14c0 1.1.9 2 2 2h14c1.1 0 2-.9 2-2V5c0-1.1-.9-2-2-2zM9 17H7v-7h2v7zm4 0h-2V7h2v10zm4 0h-2v-4h2v4z\"/>\n",
              "    </g>\n",
              "</svg>\n",
              "  </button>\n",
              "\n",
              "<style>\n",
              "  .colab-df-quickchart {\n",
              "      --bg-color: #E8F0FE;\n",
              "      --fill-color: #1967D2;\n",
              "      --hover-bg-color: #E2EBFA;\n",
              "      --hover-fill-color: #174EA6;\n",
              "      --disabled-fill-color: #AAA;\n",
              "      --disabled-bg-color: #DDD;\n",
              "  }\n",
              "\n",
              "  [theme=dark] .colab-df-quickchart {\n",
              "      --bg-color: #3B4455;\n",
              "      --fill-color: #D2E3FC;\n",
              "      --hover-bg-color: #434B5C;\n",
              "      --hover-fill-color: #FFFFFF;\n",
              "      --disabled-bg-color: #3B4455;\n",
              "      --disabled-fill-color: #666;\n",
              "  }\n",
              "\n",
              "  .colab-df-quickchart {\n",
              "    background-color: var(--bg-color);\n",
              "    border: none;\n",
              "    border-radius: 50%;\n",
              "    cursor: pointer;\n",
              "    display: none;\n",
              "    fill: var(--fill-color);\n",
              "    height: 32px;\n",
              "    padding: 0;\n",
              "    width: 32px;\n",
              "  }\n",
              "\n",
              "  .colab-df-quickchart:hover {\n",
              "    background-color: var(--hover-bg-color);\n",
              "    box-shadow: 0 1px 2px rgba(60, 64, 67, 0.3), 0 1px 3px 1px rgba(60, 64, 67, 0.15);\n",
              "    fill: var(--button-hover-fill-color);\n",
              "  }\n",
              "\n",
              "  .colab-df-quickchart-complete:disabled,\n",
              "  .colab-df-quickchart-complete:disabled:hover {\n",
              "    background-color: var(--disabled-bg-color);\n",
              "    fill: var(--disabled-fill-color);\n",
              "    box-shadow: none;\n",
              "  }\n",
              "\n",
              "  .colab-df-spinner {\n",
              "    border: 2px solid var(--fill-color);\n",
              "    border-color: transparent;\n",
              "    border-bottom-color: var(--fill-color);\n",
              "    animation:\n",
              "      spin 1s steps(1) infinite;\n",
              "  }\n",
              "\n",
              "  @keyframes spin {\n",
              "    0% {\n",
              "      border-color: transparent;\n",
              "      border-bottom-color: var(--fill-color);\n",
              "      border-left-color: var(--fill-color);\n",
              "    }\n",
              "    20% {\n",
              "      border-color: transparent;\n",
              "      border-left-color: var(--fill-color);\n",
              "      border-top-color: var(--fill-color);\n",
              "    }\n",
              "    30% {\n",
              "      border-color: transparent;\n",
              "      border-left-color: var(--fill-color);\n",
              "      border-top-color: var(--fill-color);\n",
              "      border-right-color: var(--fill-color);\n",
              "    }\n",
              "    40% {\n",
              "      border-color: transparent;\n",
              "      border-right-color: var(--fill-color);\n",
              "      border-top-color: var(--fill-color);\n",
              "    }\n",
              "    60% {\n",
              "      border-color: transparent;\n",
              "      border-right-color: var(--fill-color);\n",
              "    }\n",
              "    80% {\n",
              "      border-color: transparent;\n",
              "      border-right-color: var(--fill-color);\n",
              "      border-bottom-color: var(--fill-color);\n",
              "    }\n",
              "    90% {\n",
              "      border-color: transparent;\n",
              "      border-bottom-color: var(--fill-color);\n",
              "    }\n",
              "  }\n",
              "</style>\n",
              "\n",
              "  <script>\n",
              "    async function quickchart(key) {\n",
              "      const quickchartButtonEl =\n",
              "        document.querySelector('#' + key + ' button');\n",
              "      quickchartButtonEl.disabled = true;  // To prevent multiple clicks.\n",
              "      quickchartButtonEl.classList.add('colab-df-spinner');\n",
              "      try {\n",
              "        const charts = await google.colab.kernel.invokeFunction(\n",
              "            'suggestCharts', [key], {});\n",
              "      } catch (error) {\n",
              "        console.error('Error during call to suggestCharts:', error);\n",
              "      }\n",
              "      quickchartButtonEl.classList.remove('colab-df-spinner');\n",
              "      quickchartButtonEl.classList.add('colab-df-quickchart-complete');\n",
              "    }\n",
              "    (() => {\n",
              "      let quickchartButtonEl =\n",
              "        document.querySelector('#df-bab50ccc-9d9a-489d-bbf8-e3f096a12ea1 button');\n",
              "      quickchartButtonEl.style.display =\n",
              "        google.colab.kernel.accessAllowed ? 'block' : 'none';\n",
              "    })();\n",
              "  </script>\n",
              "</div>\n",
              "\n",
              "    </div>\n",
              "  </div>\n"
            ],
            "application/vnd.google.colaboratory.intrinsic+json": {
              "type": "dataframe",
              "variable_name": "data"
            }
          },
          "metadata": {},
          "execution_count": 6
        }
      ]
    },
    {
      "cell_type": "markdown",
      "source": [
        "## Part 4: Cloning and Pushing to GitHub Using VS Code\n",
        "\n",
        "This tutorial provides step-by-step instructions on how to install Visual Studio Code and Git, and how to use them to clone and push to a GitHub repository. The instructions cover both macOS and Windows.\n",
        "\n",
        "### Step 4.1: Install Visual Studio Code\n",
        "\n",
        "#### For macOS:\n",
        "1. Visit the [VS Code official website](https://code.visualstudio.com/) and download the stable build for macOS.\n",
        "2. Open the downloaded `.zip` file and extract VS Code.\n",
        "3. Drag `Visual Studio Code.app` to the `Applications` folder, making it available in the Launchpad.\n",
        "\n",
        "#### For Windows:\n",
        "1. Visit the [VS Code official website](https://code.visualstudio.com/) and download the stable build for Windows.\n",
        "2. Run the downloaded `.exe` file and follow the installation prompts.\n",
        "3. Ensure you select “Add to PATH” during installation to enable launching from the command line.\n",
        "\n",
        "### Step 4.2: Install Git\n",
        "\n",
        "#### For macOS:\n",
        "1. Download the latest Git for macOS from the [Git website](https://git-scm.com/download/mac).\n",
        "2. Follow the instructions to install Git. If you download a `.dmg` file, open it and follow the prompts to install Git.\n",
        "\n",
        "#### For Windows:\n",
        "1. Download the latest Git for Windows installer from the [Git website](https://git-scm.com/download/win).\n",
        "2. Run the downloaded `.exe` file and follow the setup instructions.\n",
        "3. Make sure to choose the recommended settings, especially for adjusting your PATH environment.\n",
        "\n",
        "### Step 4.3: Configure Git\n",
        "\n",
        "Open a terminal (macOS) or command prompt/Git Bash (Windows) and set your user name and email address with the following commands:\n",
        "\n",
        "```bash\n",
        "git config --global user.name \"Your Name\"\n",
        "git config --global user.email \"your.email@example.com\"\n",
        "```\n",
        "\n",
        "### Step 4.4: Clone a Repository Using VS Code\n",
        "\n",
        "1. Open VS Code.\n",
        "2. Access the Command Palette by going to the View menu and clicking on `Command Palette`\n",
        "3. Type `Git: Clone` in the Command Palette and select it.\n",
        "4. Enter the URL of the GitHub repository you want to clone and press `Enter`.\n",
        "5. Select the directory where you want to save the repository and click `Select Repository Location`.\n",
        "6. After the repository has been cloned, VS Code will ask if you want to open the cloned repository. Click `Open`.\n",
        "\n",
        "### Step 4.5: Make Changes and Push to GitHub\n",
        "\n",
        "1. Open the folder of the cloned repository in VS Code.\n",
        "2. Make your desired changes to the files or add new files.\n",
        "3. Commit your changes by entering a commit message in the message box and then clicking the checkmark icon at the top of the Source Control sidebar.\n",
        "4. Push your changes to GitHub by clicking the `...` button in the Source Control sidebar, selecting `Push` from the dropdown menu.\n",
        "\n",
        "### Notes\n",
        "\n",
        "- Ensure that you have the necessary permissions to push to the repository if it is not owned by you.\n",
        "- If you are pushing to GitHub for the first time, you may be prompted to authenticate with your GitHub credentials.\n",
        "\n"
      ],
      "metadata": {
        "id": "62OwelwxmtYA"
      }
    },
    {
      "cell_type": "code",
      "source": [],
      "metadata": {
        "id": "ruUsbppsmt0z"
      },
      "execution_count": null,
      "outputs": []
    },
    {
      "cell_type": "markdown",
      "source": [
        "# Part 5: Codespaces using VS Code and TabNine\n",
        "\n",
        "## Step 5.1: Install TabNine\n",
        " In your VS Code IDE, go to Extensions. Search for Tabnine Enterprise (Self-Hosted) and select it (don't mix it with the other Tabnine extension) and install the extension.\n",
        "\n",
        "<img src=\"https://docs.tabnine.com/~gitbook/image?url=https%3A%2F%2F3436682446-files.gitbook.io%2F%7E%2Ffiles%2Fv0%2Fb%2Fgitbook-x-prod.appspot.com%2Fo%2Fspaces%252FY2qxVf5VTm3fmwP4B4Gx%252Fuploads%252Fgit-blob-b7381dba80646c164af243960b39dfad9663ab90%252Fvsc1.webp%3Falt%3Dmedia&width=768&dpr=2&quality=100&sign=f2f61826&sv=1\" width=\"500\">\n",
        "\n",
        "\n",
        "\n",
        "## Step 5.2: Login to GitHubSpace Using TabNine\n",
        "- Open the Command Pallet.\n",
        "- Run: Tabnine: Sign in using auth token\n",
        "\n",
        "<img src=\"https://docs.tabnine.com/~gitbook/image?url=https%3A%2F%2F3436682446-files.gitbook.io%2F%7E%2Ffiles%2Fv0%2Fb%2Fgitbook-x-prod.appspot.com%2Fo%2Fspaces%252FY2qxVf5VTm3fmwP4B4Gx%252Fuploads%252FVfFfzJ6QzB6QXOzwYER9%252Fsaas_auth_token_vsc_1.webp%3Falt%3Dmedia%26token%3D847e83ee-7861-4334-a419-da837895227e&width=768&dpr=2&quality=100&sign=b2a3b066&sv=1\" width=\"500\">\n",
        "\n",
        "\n",
        "- The following popup will appear:\n",
        "\n",
        "<img src=\"https://docs.tabnine.com/~gitbook/image?url=https%3A%2F%2F3436682446-files.gitbook.io%2F%7E%2Ffiles%2Fv0%2Fb%2Fgitbook-x-prod.appspot.com%2Fo%2Fspaces%252FY2qxVf5VTm3fmwP4B4Gx%252Fuploads%252FyxURDVNuC3hK2pJ6Vk6v%252Fsaas_auth_token_vsc_2.webp%3Falt%3Dmedia%26token%3Ded87d380-66a3-43dd-9c48-b972eb17e71a&width=768&dpr=2&quality=100&sign=936c359b&sv=1\" width=\"500\">\n",
        "\n",
        "- If you already have an authentication token, click Sign in and skip to the relevant step below.\n",
        "- If you don't already have a token, click Get auth token.\n",
        "- The browser will open with the following screen for signing up, which includes a secret personal authentication token:\n",
        "<img src=\"https://docs.tabnine.com/~gitbook/image?url=https%3A%2F%2F3436682446-files.gitbook.io%2F%7E%2Ffiles%2Fv0%2Fb%2Fgitbook-x-prod.appspot.com%2Fo%2Fspaces%252FY2qxVf5VTm3fmwP4B4Gx%252Fuploads%252FVL7SAZY9SuAMlvjOHzLy%252Fsaas_auth_token_jb_3.webp%3Falt%3Dmedia%26token%3D2df0c466-1eba-40c6-a848-9141c71b19f0&width=768&dpr=2&quality=100&sign=cbd18a65&sv=1\" width=\"250\">\n",
        "\n",
        "- Copy the token and go back to your IDE.\n",
        "- Paste your authentication token in the following popup and click Enter:\n",
        "\n",
        "<img src=\"https://lh7-us.googleusercontent.com/YD9KAz4nlJYH8c5k1BCpQDqs-pnf-gqlJJv0MDZmnd8otSm7CvRZi32UaQxOF7wlWQZzv-G_XTUB7otAyqR7HRzPVwyVpgwHBsyoPEyspuWRPfV39ZlJ4s81sITxyes3Cqi1wRhPFkN3kiu5KwmVBgSAkw=s2048\" width=\"500\">\n"
      ],
      "metadata": {
        "id": "lfvOs6SyiNKn"
      }
    },
    {
      "cell_type": "markdown",
      "source": [
        "\n",
        "## 5.4 Create a GitHub Codespace in VS Code\n",
        "\n",
        "Follow these steps to create a Codespace in Visual Studio Code:\n",
        "\n",
        "- **Open Command Palette**:\n",
        "   - Press `Ctrl+Shift+P` (or `Cmd+Shift+P` on macOS) to open the Command Palette.\n",
        "\n",
        "- **Access Codespaces**:\n",
        "   - Type `Codespaces: Create a New Codespace` into the Command Palette and select it from the dropdown menu.\n",
        "\n",
        "- **Select Your Codespace**:\n",
        "   - Select the branch you want to work on and the machine type you need based on the resources like CPU and memory.\n",
        "\n",
        "- **Start Coding**:\n",
        "   - Once the setup is complete, the Codespace will open in your web browser, or you can choose to open it in Visual Studio Code directly from the browser session.\n",
        "\n"
      ],
      "metadata": {
        "id": "bNoCqPeSyfew"
      }
    },
    {
      "cell_type": "code",
      "source": [],
      "metadata": {
        "id": "1rT9UvynjdMs"
      },
      "execution_count": null,
      "outputs": []
    }
  ]
}