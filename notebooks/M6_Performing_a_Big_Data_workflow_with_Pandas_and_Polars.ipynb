{
  "nbformat": 4,
  "nbformat_minor": 0,
  "metadata": {
    "colab": {
      "provenance": [],
      "authorship_tag": "ABX9TyM41gHXiLiGpDtp4nO4QLYH",
      "include_colab_link": true
    },
    "kernelspec": {
      "name": "python3",
      "display_name": "Python 3"
    },
    "language_info": {
      "name": "python"
    }
  },
  "cells": [
    {
      "cell_type": "markdown",
      "metadata": {
        "id": "view-in-github",
        "colab_type": "text"
      },
      "source": [
        "<a href=\"https://colab.research.google.com/github/aaubs/ds-master/blob/main/notebooks/M6_Performing_a_Big_Data_workflow_with_Pandas_and_Polars.ipynb\" target=\"_parent\"><img src=\"https://colab.research.google.com/assets/colab-badge.svg\" alt=\"Open In Colab\"/></a>"
      ]
    },
    {
      "cell_type": "markdown",
      "source": [
        "#What is Polars and Why is it Faster Than Pandas?\n",
        "\n",
        "Polars is a DataFrame library designed for parallelization. It is built from the ground up and written in Rust but also has a Python package, making it a potential alternative to Pandas. \n",
        "> Polars has two different APIs: an eager API and a lazy API. Eager execution is similar to Pandas, while lazy execution is more efficient because it avoids running unnecessary code. \n",
        "\n",
        "Polars is faster than Pandas because it utilizes all available cores on your machine. Polars has different syntax from Pandas and can perform operations in parallel. However, Polars code is usually a little longer than the Pandas code. If you need to do a lot of data processing on large datasets, Polars can be a good alternative to Pandas."
      ],
      "metadata": {
        "id": "xusDi4AqU7qX"
      }
    },
    {
      "cell_type": "markdown",
      "source": [
        "# Database-like ops benchmark\n",
        "\n",
        "![](https://www.dominodatalab.com/hs-fs/hubfs/Imported_Blog_Media/polars_benchmark.png?width=774&name=polars_benchmark.png)"
      ],
      "metadata": {
        "id": "WE7rY0Egi9BL"
      }
    },
    {
      "cell_type": "markdown",
      "source": [
        "#Comparison between Pandas and Polars\n",
        "At first glance, Pandas and Polars (eager API) are similar regarding syntax because of their shared main building blocks: Series and DataFrames."
      ],
      "metadata": {
        "id": "cWOfcy0sWGp4"
      }
    },
    {
      "cell_type": "markdown",
      "source": [
        "This section explores the main aspects of how the Polars package differs from Pandas regarding syntax and execution time:\n",
        "\n",
        "- Reading Data\n",
        "- Selecting and Filtering Data\n",
        "- Creating New Columns\n",
        "- Grouping and Aggregation\n",
        "- Missing Data"
      ],
      "metadata": {
        "id": "rg_R_d-lWKkQ"
      }
    },
    {
      "cell_type": "code",
      "source": [
        "!pip install polars --q"
      ],
      "metadata": {
        "id": "9xVZYo5xG98_"
      },
      "execution_count": 23,
      "outputs": []
    },
    {
      "cell_type": "markdown",
      "source": [
        "##Reading Data\n",
        "Reading a CSV file in Polars will feel familiar because you can use the .read_csv() method like in Pandas:"
      ],
      "metadata": {
        "id": "2Bg2-TwLWU6r"
      }
    },
    {
      "cell_type": "code",
      "source": [
        "%%time\n",
        "import pandas as pd\n",
        "\n",
        "# Pandas\n",
        "df_pd = pd.read_csv(\"https://raw.githubusercontent.com/RandomFractals/chicago-crimes/main/data/crimes-2022.csv\")"
      ],
      "metadata": {
        "colab": {
          "base_uri": "https://localhost:8080/"
        },
        "id": "EGaTgqUDG4PH",
        "outputId": "114008a5-79fe-48be-b58c-2842b2a4b1ad"
      },
      "execution_count": 24,
      "outputs": [
        {
          "output_type": "stream",
          "name": "stdout",
          "text": [
            "CPU times: user 1.55 s, sys: 259 ms, total: 1.81 s\n",
            "Wall time: 3.2 s\n"
          ]
        }
      ]
    },
    {
      "cell_type": "code",
      "execution_count": 25,
      "metadata": {
        "colab": {
          "base_uri": "https://localhost:8080/"
        },
        "id": "f47MLagkF3A6",
        "outputId": "76ca69bc-eb71-440d-e32f-8368517ff288"
      },
      "outputs": [
        {
          "output_type": "stream",
          "name": "stdout",
          "text": [
            "CPU times: user 507 ms, sys: 248 ms, total: 755 ms\n",
            "Wall time: 1.31 s\n"
          ]
        }
      ],
      "source": [
        "%%time\n",
        "import polars as pl\n",
        "\n",
        "# Polars\n",
        "df_pl = pl.read_csv(\"https://raw.githubusercontent.com/RandomFractals/chicago-crimes/main/data/crimes-2022.csv\")"
      ]
    },
    {
      "cell_type": "markdown",
      "source": [
        "##Selecting and Filtering Data\n",
        "The first major difference between Pandas and Polars is that Polars does not use an index [1]."
      ],
      "metadata": {
        "id": "7-WkUgHaWuav"
      }
    },
    {
      "cell_type": "code",
      "source": [
        "%%time\n",
        "# Pandas\n",
        "df_pd[['ID', 'Case Number', 'Date']] "
      ],
      "metadata": {
        "colab": {
          "base_uri": "https://localhost:8080/",
          "height": 459
        },
        "id": "OLV0BMbCHHdC",
        "outputId": "49f7c83f-4b3a-4443-d76f-68ef8279a684"
      },
      "execution_count": 26,
      "outputs": [
        {
          "output_type": "stream",
          "name": "stdout",
          "text": [
            "CPU times: user 10 ms, sys: 1.87 ms, total: 11.9 ms\n",
            "Wall time: 13.2 ms\n"
          ]
        },
        {
          "output_type": "execute_result",
          "data": {
            "text/plain": [
              "              ID Case Number                    Date\n",
              "0       12757446    JF313117  07/08/2022 10:38:00 AM\n",
              "1       12755229    JF310109  07/08/2022 03:21:00 AM\n",
              "2       12763369    JF320208  07/16/2022 10:55:00 PM\n",
              "3       12766036    JF323691  07/19/2022 04:00:00 PM\n",
              "4       12758668    JF314314  07/12/2022 06:30:00 AM\n",
              "...          ...         ...                     ...\n",
              "215546  12759190    JF315350  07/09/2022 07:00:00 AM\n",
              "215547  12765045    JF321506  07/08/2022 02:00:00 PM\n",
              "215548  12742026    JF294494  06/24/2022 03:43:00 PM\n",
              "215549  12757420    JF313061  07/01/2022 12:00:00 AM\n",
              "215550  12760994    JF317539  07/14/2022 02:45:00 PM\n",
              "\n",
              "[215551 rows x 3 columns]"
            ],
            "text/html": [
              "\n",
              "  <div id=\"df-70121a49-e562-4fa7-a8f5-dbfe52402020\">\n",
              "    <div class=\"colab-df-container\">\n",
              "      <div>\n",
              "<style scoped>\n",
              "    .dataframe tbody tr th:only-of-type {\n",
              "        vertical-align: middle;\n",
              "    }\n",
              "\n",
              "    .dataframe tbody tr th {\n",
              "        vertical-align: top;\n",
              "    }\n",
              "\n",
              "    .dataframe thead th {\n",
              "        text-align: right;\n",
              "    }\n",
              "</style>\n",
              "<table border=\"1\" class=\"dataframe\">\n",
              "  <thead>\n",
              "    <tr style=\"text-align: right;\">\n",
              "      <th></th>\n",
              "      <th>ID</th>\n",
              "      <th>Case Number</th>\n",
              "      <th>Date</th>\n",
              "    </tr>\n",
              "  </thead>\n",
              "  <tbody>\n",
              "    <tr>\n",
              "      <th>0</th>\n",
              "      <td>12757446</td>\n",
              "      <td>JF313117</td>\n",
              "      <td>07/08/2022 10:38:00 AM</td>\n",
              "    </tr>\n",
              "    <tr>\n",
              "      <th>1</th>\n",
              "      <td>12755229</td>\n",
              "      <td>JF310109</td>\n",
              "      <td>07/08/2022 03:21:00 AM</td>\n",
              "    </tr>\n",
              "    <tr>\n",
              "      <th>2</th>\n",
              "      <td>12763369</td>\n",
              "      <td>JF320208</td>\n",
              "      <td>07/16/2022 10:55:00 PM</td>\n",
              "    </tr>\n",
              "    <tr>\n",
              "      <th>3</th>\n",
              "      <td>12766036</td>\n",
              "      <td>JF323691</td>\n",
              "      <td>07/19/2022 04:00:00 PM</td>\n",
              "    </tr>\n",
              "    <tr>\n",
              "      <th>4</th>\n",
              "      <td>12758668</td>\n",
              "      <td>JF314314</td>\n",
              "      <td>07/12/2022 06:30:00 AM</td>\n",
              "    </tr>\n",
              "    <tr>\n",
              "      <th>...</th>\n",
              "      <td>...</td>\n",
              "      <td>...</td>\n",
              "      <td>...</td>\n",
              "    </tr>\n",
              "    <tr>\n",
              "      <th>215546</th>\n",
              "      <td>12759190</td>\n",
              "      <td>JF315350</td>\n",
              "      <td>07/09/2022 07:00:00 AM</td>\n",
              "    </tr>\n",
              "    <tr>\n",
              "      <th>215547</th>\n",
              "      <td>12765045</td>\n",
              "      <td>JF321506</td>\n",
              "      <td>07/08/2022 02:00:00 PM</td>\n",
              "    </tr>\n",
              "    <tr>\n",
              "      <th>215548</th>\n",
              "      <td>12742026</td>\n",
              "      <td>JF294494</td>\n",
              "      <td>06/24/2022 03:43:00 PM</td>\n",
              "    </tr>\n",
              "    <tr>\n",
              "      <th>215549</th>\n",
              "      <td>12757420</td>\n",
              "      <td>JF313061</td>\n",
              "      <td>07/01/2022 12:00:00 AM</td>\n",
              "    </tr>\n",
              "    <tr>\n",
              "      <th>215550</th>\n",
              "      <td>12760994</td>\n",
              "      <td>JF317539</td>\n",
              "      <td>07/14/2022 02:45:00 PM</td>\n",
              "    </tr>\n",
              "  </tbody>\n",
              "</table>\n",
              "<p>215551 rows × 3 columns</p>\n",
              "</div>\n",
              "      <button class=\"colab-df-convert\" onclick=\"convertToInteractive('df-70121a49-e562-4fa7-a8f5-dbfe52402020')\"\n",
              "              title=\"Convert this dataframe to an interactive table.\"\n",
              "              style=\"display:none;\">\n",
              "        \n",
              "  <svg xmlns=\"http://www.w3.org/2000/svg\" height=\"24px\"viewBox=\"0 0 24 24\"\n",
              "       width=\"24px\">\n",
              "    <path d=\"M0 0h24v24H0V0z\" fill=\"none\"/>\n",
              "    <path d=\"M18.56 5.44l.94 2.06.94-2.06 2.06-.94-2.06-.94-.94-2.06-.94 2.06-2.06.94zm-11 1L8.5 8.5l.94-2.06 2.06-.94-2.06-.94L8.5 2.5l-.94 2.06-2.06.94zm10 10l.94 2.06.94-2.06 2.06-.94-2.06-.94-.94-2.06-.94 2.06-2.06.94z\"/><path d=\"M17.41 7.96l-1.37-1.37c-.4-.4-.92-.59-1.43-.59-.52 0-1.04.2-1.43.59L10.3 9.45l-7.72 7.72c-.78.78-.78 2.05 0 2.83L4 21.41c.39.39.9.59 1.41.59.51 0 1.02-.2 1.41-.59l7.78-7.78 2.81-2.81c.8-.78.8-2.07 0-2.86zM5.41 20L4 18.59l7.72-7.72 1.47 1.35L5.41 20z\"/>\n",
              "  </svg>\n",
              "      </button>\n",
              "      \n",
              "  <style>\n",
              "    .colab-df-container {\n",
              "      display:flex;\n",
              "      flex-wrap:wrap;\n",
              "      gap: 12px;\n",
              "    }\n",
              "\n",
              "    .colab-df-convert {\n",
              "      background-color: #E8F0FE;\n",
              "      border: none;\n",
              "      border-radius: 50%;\n",
              "      cursor: pointer;\n",
              "      display: none;\n",
              "      fill: #1967D2;\n",
              "      height: 32px;\n",
              "      padding: 0 0 0 0;\n",
              "      width: 32px;\n",
              "    }\n",
              "\n",
              "    .colab-df-convert:hover {\n",
              "      background-color: #E2EBFA;\n",
              "      box-shadow: 0px 1px 2px rgba(60, 64, 67, 0.3), 0px 1px 3px 1px rgba(60, 64, 67, 0.15);\n",
              "      fill: #174EA6;\n",
              "    }\n",
              "\n",
              "    [theme=dark] .colab-df-convert {\n",
              "      background-color: #3B4455;\n",
              "      fill: #D2E3FC;\n",
              "    }\n",
              "\n",
              "    [theme=dark] .colab-df-convert:hover {\n",
              "      background-color: #434B5C;\n",
              "      box-shadow: 0px 1px 3px 1px rgba(0, 0, 0, 0.15);\n",
              "      filter: drop-shadow(0px 1px 2px rgba(0, 0, 0, 0.3));\n",
              "      fill: #FFFFFF;\n",
              "    }\n",
              "  </style>\n",
              "\n",
              "      <script>\n",
              "        const buttonEl =\n",
              "          document.querySelector('#df-70121a49-e562-4fa7-a8f5-dbfe52402020 button.colab-df-convert');\n",
              "        buttonEl.style.display =\n",
              "          google.colab.kernel.accessAllowed ? 'block' : 'none';\n",
              "\n",
              "        async function convertToInteractive(key) {\n",
              "          const element = document.querySelector('#df-70121a49-e562-4fa7-a8f5-dbfe52402020');\n",
              "          const dataTable =\n",
              "            await google.colab.kernel.invokeFunction('convertToInteractive',\n",
              "                                                     [key], {});\n",
              "          if (!dataTable) return;\n",
              "\n",
              "          const docLinkHtml = 'Like what you see? Visit the ' +\n",
              "            '<a target=\"_blank\" href=https://colab.research.google.com/notebooks/data_table.ipynb>data table notebook</a>'\n",
              "            + ' to learn more about interactive tables.';\n",
              "          element.innerHTML = '';\n",
              "          dataTable['output_type'] = 'display_data';\n",
              "          await google.colab.output.renderOutput(dataTable, element);\n",
              "          const docLink = document.createElement('div');\n",
              "          docLink.innerHTML = docLinkHtml;\n",
              "          element.appendChild(docLink);\n",
              "        }\n",
              "      </script>\n",
              "    </div>\n",
              "  </div>\n",
              "  "
            ]
          },
          "metadata": {},
          "execution_count": 26
        }
      ]
    },
    {
      "cell_type": "code",
      "source": [
        "%%time\n",
        "# The above code will run with Polars as well, \n",
        "# but the correct way in Polars is:\n",
        "df_pl.select(pl.col(['ID', 'Case Number', 'Date'])) "
      ],
      "metadata": {
        "colab": {
          "base_uri": "https://localhost:8080/",
          "height": 917
        },
        "id": "sZeFvaQiW1Xn",
        "outputId": "e1e5b831-b108-4851-9246-6bdf03883461"
      },
      "execution_count": 5,
      "outputs": [
        {
          "output_type": "stream",
          "name": "stdout",
          "text": [
            "CPU times: user 2.1 ms, sys: 22 µs, total: 2.12 ms\n",
            "Wall time: 2.41 ms\n"
          ]
        },
        {
          "output_type": "execute_result",
          "data": {
            "text/plain": [
              "shape: (215551, 3)\n",
              "┌──────────┬─────────────┬────────────────────────┐\n",
              "│ ID       ┆ Case Number ┆ Date                   │\n",
              "│ ---      ┆ ---         ┆ ---                    │\n",
              "│ i64      ┆ str         ┆ str                    │\n",
              "╞══════════╪═════════════╪════════════════════════╡\n",
              "│ 12757446 ┆ JF313117    ┆ 07/08/2022 10:38:00 AM │\n",
              "│ 12755229 ┆ JF310109    ┆ 07/08/2022 03:21:00 AM │\n",
              "│ 12763369 ┆ JF320208    ┆ 07/16/2022 10:55:00 PM │\n",
              "│ 12766036 ┆ JF323691    ┆ 07/19/2022 04:00:00 PM │\n",
              "│ …        ┆ …           ┆ …                      │\n",
              "│ 12765045 ┆ JF321506    ┆ 07/08/2022 02:00:00 PM │\n",
              "│ 12742026 ┆ JF294494    ┆ 06/24/2022 03:43:00 PM │\n",
              "│ 12757420 ┆ JF313061    ┆ 07/01/2022 12:00:00 AM │\n",
              "│ 12760994 ┆ JF317539    ┆ 07/14/2022 02:45:00 PM │\n",
              "└──────────┴─────────────┴────────────────────────┘"
            ],
            "text/html": [
              "<div><style>\n",
              ".dataframe > thead > tr > th,\n",
              ".dataframe > tbody > tr > td {\n",
              "  text-align: right;\n",
              "}\n",
              "</style>\n",
              "<small>shape: (215551, 3)</small><table border=\"1\" class=\"dataframe\"><thead><tr><th>ID</th><th>Case Number</th><th>Date</th></tr><tr><td>i64</td><td>str</td><td>str</td></tr></thead><tbody><tr><td>12757446</td><td>&quot;JF313117&quot;</td><td>&quot;07/08/2022 10:…</td></tr><tr><td>12755229</td><td>&quot;JF310109&quot;</td><td>&quot;07/08/2022 03:…</td></tr><tr><td>12763369</td><td>&quot;JF320208&quot;</td><td>&quot;07/16/2022 10:…</td></tr><tr><td>12766036</td><td>&quot;JF323691&quot;</td><td>&quot;07/19/2022 04:…</td></tr><tr><td>12758668</td><td>&quot;JF314314&quot;</td><td>&quot;07/12/2022 06:…</td></tr><tr><td>12765741</td><td>&quot;JF323255&quot;</td><td>&quot;06/27/2022 09:…</td></tr><tr><td>12759104</td><td>&quot;JF315164&quot;</td><td>&quot;07/12/2022 01:…</td></tr><tr><td>12756232</td><td>&quot;JF311569&quot;</td><td>&quot;07/09/2022 09:…</td></tr><tr><td>12761035</td><td>&quot;JF317440&quot;</td><td>&quot;07/13/2022 07:…</td></tr><tr><td>12757374</td><td>&quot;JF313010&quot;</td><td>&quot;07/01/2022 09:…</td></tr><tr><td>12765479</td><td>&quot;JF322734&quot;</td><td>&quot;07/18/2022 11:…</td></tr><tr><td>12758857</td><td>&quot;JF314516&quot;</td><td>&quot;07/11/2022 08:…</td></tr><tr><td>&hellip;</td><td>&hellip;</td><td>&hellip;</td></tr><tr><td>12763743</td><td>&quot;JF320740&quot;</td><td>&quot;07/17/2022 12:…</td></tr><tr><td>12764921</td><td>&quot;JF322439&quot;</td><td>&quot;07/08/2022 12:…</td></tr><tr><td>12748153</td><td>&quot;JF301761&quot;</td><td>&quot;07/01/2022 05:…</td></tr><tr><td>12745535</td><td>&quot;JF298679&quot;</td><td>&quot;06/29/2022 05:…</td></tr><tr><td>12756421</td><td>&quot;JF311702&quot;</td><td>&quot;07/09/2022 11:…</td></tr><tr><td>12755419</td><td>&quot;JF310675&quot;</td><td>&quot;07/09/2022 02:…</td></tr><tr><td>12754184</td><td>&quot;JF308283&quot;</td><td>&quot;06/02/2022 09:…</td></tr><tr><td>12759190</td><td>&quot;JF315350&quot;</td><td>&quot;07/09/2022 07:…</td></tr><tr><td>12765045</td><td>&quot;JF321506&quot;</td><td>&quot;07/08/2022 02:…</td></tr><tr><td>12742026</td><td>&quot;JF294494&quot;</td><td>&quot;06/24/2022 03:…</td></tr><tr><td>12757420</td><td>&quot;JF313061&quot;</td><td>&quot;07/01/2022 12:…</td></tr><tr><td>12760994</td><td>&quot;JF317539&quot;</td><td>&quot;07/14/2022 02:…</td></tr></tbody></table></div>"
            ]
          },
          "metadata": {},
          "execution_count": 5
        }
      ]
    },
    {
      "cell_type": "code",
      "source": [
        "%%time\n",
        "# Pandas\n",
        "df_pd.query('Year > 2021')"
      ],
      "metadata": {
        "colab": {
          "base_uri": "https://localhost:8080/",
          "height": 922
        },
        "id": "kBwn7rdgXOLM",
        "outputId": "9062c943-de3e-4e3a-e6b8-f78c2a5df0c0"
      },
      "execution_count": 20,
      "outputs": [
        {
          "output_type": "stream",
          "name": "stdout",
          "text": [
            "CPU times: user 115 ms, sys: 34.4 ms, total: 149 ms\n",
            "Wall time: 153 ms\n"
          ]
        },
        {
          "output_type": "execute_result",
          "data": {
            "text/plain": [
              "              ID Case Number                    Date                   Block  \\\n",
              "0       12757446    JF313117  07/08/2022 10:38:00 AM  087XX S WINCHESTER AVE   \n",
              "1       12755229    JF310109  07/08/2022 03:21:00 AM   056XX N SPAULDING AVE   \n",
              "2       12763369    JF320208  07/16/2022 10:55:00 PM   038XX N SHEFFIELD AVE   \n",
              "3       12766036    JF323691  07/19/2022 04:00:00 PM     113XX S PARNELL AVE   \n",
              "4       12758668    JF314314  07/12/2022 06:30:00 AM       044XX W WALTON ST   \n",
              "...          ...         ...                     ...                     ...   \n",
              "215546  12759190    JF315350  07/09/2022 07:00:00 AM     098XX S CALHOUN AVE   \n",
              "215547  12765045    JF321506  07/08/2022 02:00:00 PM    006XX S MICHIGAN AVE   \n",
              "215548  12742026    JF294494  06/24/2022 03:43:00 PM        075XX N CLARK ST   \n",
              "215549  12757420    JF313061  07/01/2022 12:00:00 AM          001XX N MAY ST   \n",
              "215550  12760994    JF317539  07/14/2022 02:45:00 PM     063XX S WESTERN AVE   \n",
              "\n",
              "        IUCR             Primary Type  \\\n",
              "0       0820                    THEFT   \n",
              "1       1154       DECEPTIVE PRACTICE   \n",
              "2       0330                  ROBBERY   \n",
              "3       1792               KIDNAPPING   \n",
              "4       0610                 BURGLARY   \n",
              "...      ...                      ...   \n",
              "215546  0820                    THEFT   \n",
              "215547  0810                    THEFT   \n",
              "215548  0860                    THEFT   \n",
              "215549  0281  CRIMINAL SEXUAL ASSAULT   \n",
              "215550  0460                  BATTERY   \n",
              "\n",
              "                                    Description  \\\n",
              "0                                $500 AND UNDER   \n",
              "1       FINANCIAL IDENTITY THEFT $300 AND UNDER   \n",
              "2                                    AGGRAVATED   \n",
              "3                    CHILD ABDUCTION / STRANGER   \n",
              "4                                FORCIBLE ENTRY   \n",
              "...                                         ...   \n",
              "215546                           $500 AND UNDER   \n",
              "215547                                OVER $500   \n",
              "215548                             RETAIL THEFT   \n",
              "215549                           NON-AGGRAVATED   \n",
              "215550                                   SIMPLE   \n",
              "\n",
              "                          Location Description  Arrest  Domestic  ...  \\\n",
              "0                                    RESIDENCE   False      True  ...   \n",
              "1                                          NaN   False     False  ...   \n",
              "2                                     SIDEWALK    True     False  ...   \n",
              "3                                     SIDEWALK   False     False  ...   \n",
              "4                                    RESIDENCE   False      True  ...   \n",
              "...                                        ...     ...       ...  ...   \n",
              "215546                               RESIDENCE   False     False  ...   \n",
              "215547                           HOTEL / MOTEL   False     False  ...   \n",
              "215548                        DEPARTMENT STORE   False     False  ...   \n",
              "215549                           HOTEL / MOTEL   False     False  ...   \n",
              "215550  PARKING LOT / GARAGE (NON RESIDENTIAL)   False     False  ...   \n",
              "\n",
              "        Community Area  FBI Code  X Coordinate  Y Coordinate  Year  \\\n",
              "0                   71        06     1165137.0     1846655.0  2022   \n",
              "1                   13        11     1153364.0     1937188.0  2022   \n",
              "2                    6        03     1168917.0     1925693.0  2022   \n",
              "3                   49        26     1174663.0     1829726.0  2022   \n",
              "4                   23        05     1146679.0     1905959.0  2022   \n",
              "...                ...       ...           ...           ...   ...   \n",
              "215546              51        06     1194763.0     1840111.0  2022   \n",
              "215547              32        06     1177377.0     1897431.0  2022   \n",
              "215548               1        06     1162907.0     1949949.0  2022   \n",
              "215549              28        02     1168809.0     1900813.0  2022   \n",
              "215550              66       08B     1161460.0     1862589.0  2022   \n",
              "\n",
              "                    Updated On   Latitude  Longitude  \\\n",
              "0       11/12/2022 03:46:21 PM  41.734817 -87.670596   \n",
              "1       11/12/2022 03:46:21 PM  41.983491 -87.711324   \n",
              "2       11/12/2022 03:46:21 PM  41.951624 -87.654458   \n",
              "3       11/12/2022 03:46:21 PM  41.688155 -87.636199   \n",
              "4       11/12/2022 03:46:21 PM  41.897926 -87.736710   \n",
              "...                        ...        ...        ...   \n",
              "215546  11/12/2022 03:46:21 PM  41.716183 -87.562275   \n",
              "215547  11/12/2022 03:46:21 PM  41.873884 -87.624219   \n",
              "215548  11/12/2022 03:46:21 PM  42.018312 -87.675867   \n",
              "215549  11/12/2022 03:46:21 PM  41.883354 -87.655578   \n",
              "215550  11/12/2022 03:46:21 PM  41.778619 -87.683626   \n",
              "\n",
              "                             Location  new_year  \n",
              "0       (41.734817155, -87.670595647)      2022  \n",
              "1       (41.983490742, -87.711324421)      2022  \n",
              "2       (41.951623924, -87.654458486)      2022  \n",
              "3       (41.688154968, -87.636198645)      2022  \n",
              "4       (41.897926219, -87.736710223)      2022  \n",
              "...                               ...       ...  \n",
              "215546   (41.71618255, -87.562274818)      2022  \n",
              "215547  (41.873883785, -87.624218932)      2022  \n",
              "215548  (42.018311737, -87.675866628)      2022  \n",
              "215549  (41.883354174, -87.655578272)      2022  \n",
              "215550  (41.778619322, -87.683625816)      2022  \n",
              "\n",
              "[215551 rows x 23 columns]"
            ],
            "text/html": [
              "\n",
              "  <div id=\"df-acc59d9b-c37b-4372-9628-646a8082e015\">\n",
              "    <div class=\"colab-df-container\">\n",
              "      <div>\n",
              "<style scoped>\n",
              "    .dataframe tbody tr th:only-of-type {\n",
              "        vertical-align: middle;\n",
              "    }\n",
              "\n",
              "    .dataframe tbody tr th {\n",
              "        vertical-align: top;\n",
              "    }\n",
              "\n",
              "    .dataframe thead th {\n",
              "        text-align: right;\n",
              "    }\n",
              "</style>\n",
              "<table border=\"1\" class=\"dataframe\">\n",
              "  <thead>\n",
              "    <tr style=\"text-align: right;\">\n",
              "      <th></th>\n",
              "      <th>ID</th>\n",
              "      <th>Case Number</th>\n",
              "      <th>Date</th>\n",
              "      <th>Block</th>\n",
              "      <th>IUCR</th>\n",
              "      <th>Primary Type</th>\n",
              "      <th>Description</th>\n",
              "      <th>Location Description</th>\n",
              "      <th>Arrest</th>\n",
              "      <th>Domestic</th>\n",
              "      <th>...</th>\n",
              "      <th>Community Area</th>\n",
              "      <th>FBI Code</th>\n",
              "      <th>X Coordinate</th>\n",
              "      <th>Y Coordinate</th>\n",
              "      <th>Year</th>\n",
              "      <th>Updated On</th>\n",
              "      <th>Latitude</th>\n",
              "      <th>Longitude</th>\n",
              "      <th>Location</th>\n",
              "      <th>new_year</th>\n",
              "    </tr>\n",
              "  </thead>\n",
              "  <tbody>\n",
              "    <tr>\n",
              "      <th>0</th>\n",
              "      <td>12757446</td>\n",
              "      <td>JF313117</td>\n",
              "      <td>07/08/2022 10:38:00 AM</td>\n",
              "      <td>087XX S WINCHESTER AVE</td>\n",
              "      <td>0820</td>\n",
              "      <td>THEFT</td>\n",
              "      <td>$500 AND UNDER</td>\n",
              "      <td>RESIDENCE</td>\n",
              "      <td>False</td>\n",
              "      <td>True</td>\n",
              "      <td>...</td>\n",
              "      <td>71</td>\n",
              "      <td>06</td>\n",
              "      <td>1165137.0</td>\n",
              "      <td>1846655.0</td>\n",
              "      <td>2022</td>\n",
              "      <td>11/12/2022 03:46:21 PM</td>\n",
              "      <td>41.734817</td>\n",
              "      <td>-87.670596</td>\n",
              "      <td>(41.734817155, -87.670595647)</td>\n",
              "      <td>2022</td>\n",
              "    </tr>\n",
              "    <tr>\n",
              "      <th>1</th>\n",
              "      <td>12755229</td>\n",
              "      <td>JF310109</td>\n",
              "      <td>07/08/2022 03:21:00 AM</td>\n",
              "      <td>056XX N SPAULDING AVE</td>\n",
              "      <td>1154</td>\n",
              "      <td>DECEPTIVE PRACTICE</td>\n",
              "      <td>FINANCIAL IDENTITY THEFT $300 AND UNDER</td>\n",
              "      <td>NaN</td>\n",
              "      <td>False</td>\n",
              "      <td>False</td>\n",
              "      <td>...</td>\n",
              "      <td>13</td>\n",
              "      <td>11</td>\n",
              "      <td>1153364.0</td>\n",
              "      <td>1937188.0</td>\n",
              "      <td>2022</td>\n",
              "      <td>11/12/2022 03:46:21 PM</td>\n",
              "      <td>41.983491</td>\n",
              "      <td>-87.711324</td>\n",
              "      <td>(41.983490742, -87.711324421)</td>\n",
              "      <td>2022</td>\n",
              "    </tr>\n",
              "    <tr>\n",
              "      <th>2</th>\n",
              "      <td>12763369</td>\n",
              "      <td>JF320208</td>\n",
              "      <td>07/16/2022 10:55:00 PM</td>\n",
              "      <td>038XX N SHEFFIELD AVE</td>\n",
              "      <td>0330</td>\n",
              "      <td>ROBBERY</td>\n",
              "      <td>AGGRAVATED</td>\n",
              "      <td>SIDEWALK</td>\n",
              "      <td>True</td>\n",
              "      <td>False</td>\n",
              "      <td>...</td>\n",
              "      <td>6</td>\n",
              "      <td>03</td>\n",
              "      <td>1168917.0</td>\n",
              "      <td>1925693.0</td>\n",
              "      <td>2022</td>\n",
              "      <td>11/12/2022 03:46:21 PM</td>\n",
              "      <td>41.951624</td>\n",
              "      <td>-87.654458</td>\n",
              "      <td>(41.951623924, -87.654458486)</td>\n",
              "      <td>2022</td>\n",
              "    </tr>\n",
              "    <tr>\n",
              "      <th>3</th>\n",
              "      <td>12766036</td>\n",
              "      <td>JF323691</td>\n",
              "      <td>07/19/2022 04:00:00 PM</td>\n",
              "      <td>113XX S PARNELL AVE</td>\n",
              "      <td>1792</td>\n",
              "      <td>KIDNAPPING</td>\n",
              "      <td>CHILD ABDUCTION / STRANGER</td>\n",
              "      <td>SIDEWALK</td>\n",
              "      <td>False</td>\n",
              "      <td>False</td>\n",
              "      <td>...</td>\n",
              "      <td>49</td>\n",
              "      <td>26</td>\n",
              "      <td>1174663.0</td>\n",
              "      <td>1829726.0</td>\n",
              "      <td>2022</td>\n",
              "      <td>11/12/2022 03:46:21 PM</td>\n",
              "      <td>41.688155</td>\n",
              "      <td>-87.636199</td>\n",
              "      <td>(41.688154968, -87.636198645)</td>\n",
              "      <td>2022</td>\n",
              "    </tr>\n",
              "    <tr>\n",
              "      <th>4</th>\n",
              "      <td>12758668</td>\n",
              "      <td>JF314314</td>\n",
              "      <td>07/12/2022 06:30:00 AM</td>\n",
              "      <td>044XX W WALTON ST</td>\n",
              "      <td>0610</td>\n",
              "      <td>BURGLARY</td>\n",
              "      <td>FORCIBLE ENTRY</td>\n",
              "      <td>RESIDENCE</td>\n",
              "      <td>False</td>\n",
              "      <td>True</td>\n",
              "      <td>...</td>\n",
              "      <td>23</td>\n",
              "      <td>05</td>\n",
              "      <td>1146679.0</td>\n",
              "      <td>1905959.0</td>\n",
              "      <td>2022</td>\n",
              "      <td>11/12/2022 03:46:21 PM</td>\n",
              "      <td>41.897926</td>\n",
              "      <td>-87.736710</td>\n",
              "      <td>(41.897926219, -87.736710223)</td>\n",
              "      <td>2022</td>\n",
              "    </tr>\n",
              "    <tr>\n",
              "      <th>...</th>\n",
              "      <td>...</td>\n",
              "      <td>...</td>\n",
              "      <td>...</td>\n",
              "      <td>...</td>\n",
              "      <td>...</td>\n",
              "      <td>...</td>\n",
              "      <td>...</td>\n",
              "      <td>...</td>\n",
              "      <td>...</td>\n",
              "      <td>...</td>\n",
              "      <td>...</td>\n",
              "      <td>...</td>\n",
              "      <td>...</td>\n",
              "      <td>...</td>\n",
              "      <td>...</td>\n",
              "      <td>...</td>\n",
              "      <td>...</td>\n",
              "      <td>...</td>\n",
              "      <td>...</td>\n",
              "      <td>...</td>\n",
              "      <td>...</td>\n",
              "    </tr>\n",
              "    <tr>\n",
              "      <th>215546</th>\n",
              "      <td>12759190</td>\n",
              "      <td>JF315350</td>\n",
              "      <td>07/09/2022 07:00:00 AM</td>\n",
              "      <td>098XX S CALHOUN AVE</td>\n",
              "      <td>0820</td>\n",
              "      <td>THEFT</td>\n",
              "      <td>$500 AND UNDER</td>\n",
              "      <td>RESIDENCE</td>\n",
              "      <td>False</td>\n",
              "      <td>False</td>\n",
              "      <td>...</td>\n",
              "      <td>51</td>\n",
              "      <td>06</td>\n",
              "      <td>1194763.0</td>\n",
              "      <td>1840111.0</td>\n",
              "      <td>2022</td>\n",
              "      <td>11/12/2022 03:46:21 PM</td>\n",
              "      <td>41.716183</td>\n",
              "      <td>-87.562275</td>\n",
              "      <td>(41.71618255, -87.562274818)</td>\n",
              "      <td>2022</td>\n",
              "    </tr>\n",
              "    <tr>\n",
              "      <th>215547</th>\n",
              "      <td>12765045</td>\n",
              "      <td>JF321506</td>\n",
              "      <td>07/08/2022 02:00:00 PM</td>\n",
              "      <td>006XX S MICHIGAN AVE</td>\n",
              "      <td>0810</td>\n",
              "      <td>THEFT</td>\n",
              "      <td>OVER $500</td>\n",
              "      <td>HOTEL / MOTEL</td>\n",
              "      <td>False</td>\n",
              "      <td>False</td>\n",
              "      <td>...</td>\n",
              "      <td>32</td>\n",
              "      <td>06</td>\n",
              "      <td>1177377.0</td>\n",
              "      <td>1897431.0</td>\n",
              "      <td>2022</td>\n",
              "      <td>11/12/2022 03:46:21 PM</td>\n",
              "      <td>41.873884</td>\n",
              "      <td>-87.624219</td>\n",
              "      <td>(41.873883785, -87.624218932)</td>\n",
              "      <td>2022</td>\n",
              "    </tr>\n",
              "    <tr>\n",
              "      <th>215548</th>\n",
              "      <td>12742026</td>\n",
              "      <td>JF294494</td>\n",
              "      <td>06/24/2022 03:43:00 PM</td>\n",
              "      <td>075XX N CLARK ST</td>\n",
              "      <td>0860</td>\n",
              "      <td>THEFT</td>\n",
              "      <td>RETAIL THEFT</td>\n",
              "      <td>DEPARTMENT STORE</td>\n",
              "      <td>False</td>\n",
              "      <td>False</td>\n",
              "      <td>...</td>\n",
              "      <td>1</td>\n",
              "      <td>06</td>\n",
              "      <td>1162907.0</td>\n",
              "      <td>1949949.0</td>\n",
              "      <td>2022</td>\n",
              "      <td>11/12/2022 03:46:21 PM</td>\n",
              "      <td>42.018312</td>\n",
              "      <td>-87.675867</td>\n",
              "      <td>(42.018311737, -87.675866628)</td>\n",
              "      <td>2022</td>\n",
              "    </tr>\n",
              "    <tr>\n",
              "      <th>215549</th>\n",
              "      <td>12757420</td>\n",
              "      <td>JF313061</td>\n",
              "      <td>07/01/2022 12:00:00 AM</td>\n",
              "      <td>001XX N MAY ST</td>\n",
              "      <td>0281</td>\n",
              "      <td>CRIMINAL SEXUAL ASSAULT</td>\n",
              "      <td>NON-AGGRAVATED</td>\n",
              "      <td>HOTEL / MOTEL</td>\n",
              "      <td>False</td>\n",
              "      <td>False</td>\n",
              "      <td>...</td>\n",
              "      <td>28</td>\n",
              "      <td>02</td>\n",
              "      <td>1168809.0</td>\n",
              "      <td>1900813.0</td>\n",
              "      <td>2022</td>\n",
              "      <td>11/12/2022 03:46:21 PM</td>\n",
              "      <td>41.883354</td>\n",
              "      <td>-87.655578</td>\n",
              "      <td>(41.883354174, -87.655578272)</td>\n",
              "      <td>2022</td>\n",
              "    </tr>\n",
              "    <tr>\n",
              "      <th>215550</th>\n",
              "      <td>12760994</td>\n",
              "      <td>JF317539</td>\n",
              "      <td>07/14/2022 02:45:00 PM</td>\n",
              "      <td>063XX S WESTERN AVE</td>\n",
              "      <td>0460</td>\n",
              "      <td>BATTERY</td>\n",
              "      <td>SIMPLE</td>\n",
              "      <td>PARKING LOT / GARAGE (NON RESIDENTIAL)</td>\n",
              "      <td>False</td>\n",
              "      <td>False</td>\n",
              "      <td>...</td>\n",
              "      <td>66</td>\n",
              "      <td>08B</td>\n",
              "      <td>1161460.0</td>\n",
              "      <td>1862589.0</td>\n",
              "      <td>2022</td>\n",
              "      <td>11/12/2022 03:46:21 PM</td>\n",
              "      <td>41.778619</td>\n",
              "      <td>-87.683626</td>\n",
              "      <td>(41.778619322, -87.683625816)</td>\n",
              "      <td>2022</td>\n",
              "    </tr>\n",
              "  </tbody>\n",
              "</table>\n",
              "<p>215551 rows × 23 columns</p>\n",
              "</div>\n",
              "      <button class=\"colab-df-convert\" onclick=\"convertToInteractive('df-acc59d9b-c37b-4372-9628-646a8082e015')\"\n",
              "              title=\"Convert this dataframe to an interactive table.\"\n",
              "              style=\"display:none;\">\n",
              "        \n",
              "  <svg xmlns=\"http://www.w3.org/2000/svg\" height=\"24px\"viewBox=\"0 0 24 24\"\n",
              "       width=\"24px\">\n",
              "    <path d=\"M0 0h24v24H0V0z\" fill=\"none\"/>\n",
              "    <path d=\"M18.56 5.44l.94 2.06.94-2.06 2.06-.94-2.06-.94-.94-2.06-.94 2.06-2.06.94zm-11 1L8.5 8.5l.94-2.06 2.06-.94-2.06-.94L8.5 2.5l-.94 2.06-2.06.94zm10 10l.94 2.06.94-2.06 2.06-.94-2.06-.94-.94-2.06-.94 2.06-2.06.94z\"/><path d=\"M17.41 7.96l-1.37-1.37c-.4-.4-.92-.59-1.43-.59-.52 0-1.04.2-1.43.59L10.3 9.45l-7.72 7.72c-.78.78-.78 2.05 0 2.83L4 21.41c.39.39.9.59 1.41.59.51 0 1.02-.2 1.41-.59l7.78-7.78 2.81-2.81c.8-.78.8-2.07 0-2.86zM5.41 20L4 18.59l7.72-7.72 1.47 1.35L5.41 20z\"/>\n",
              "  </svg>\n",
              "      </button>\n",
              "      \n",
              "  <style>\n",
              "    .colab-df-container {\n",
              "      display:flex;\n",
              "      flex-wrap:wrap;\n",
              "      gap: 12px;\n",
              "    }\n",
              "\n",
              "    .colab-df-convert {\n",
              "      background-color: #E8F0FE;\n",
              "      border: none;\n",
              "      border-radius: 50%;\n",
              "      cursor: pointer;\n",
              "      display: none;\n",
              "      fill: #1967D2;\n",
              "      height: 32px;\n",
              "      padding: 0 0 0 0;\n",
              "      width: 32px;\n",
              "    }\n",
              "\n",
              "    .colab-df-convert:hover {\n",
              "      background-color: #E2EBFA;\n",
              "      box-shadow: 0px 1px 2px rgba(60, 64, 67, 0.3), 0px 1px 3px 1px rgba(60, 64, 67, 0.15);\n",
              "      fill: #174EA6;\n",
              "    }\n",
              "\n",
              "    [theme=dark] .colab-df-convert {\n",
              "      background-color: #3B4455;\n",
              "      fill: #D2E3FC;\n",
              "    }\n",
              "\n",
              "    [theme=dark] .colab-df-convert:hover {\n",
              "      background-color: #434B5C;\n",
              "      box-shadow: 0px 1px 3px 1px rgba(0, 0, 0, 0.15);\n",
              "      filter: drop-shadow(0px 1px 2px rgba(0, 0, 0, 0.3));\n",
              "      fill: #FFFFFF;\n",
              "    }\n",
              "  </style>\n",
              "\n",
              "      <script>\n",
              "        const buttonEl =\n",
              "          document.querySelector('#df-acc59d9b-c37b-4372-9628-646a8082e015 button.colab-df-convert');\n",
              "        buttonEl.style.display =\n",
              "          google.colab.kernel.accessAllowed ? 'block' : 'none';\n",
              "\n",
              "        async function convertToInteractive(key) {\n",
              "          const element = document.querySelector('#df-acc59d9b-c37b-4372-9628-646a8082e015');\n",
              "          const dataTable =\n",
              "            await google.colab.kernel.invokeFunction('convertToInteractive',\n",
              "                                                     [key], {});\n",
              "          if (!dataTable) return;\n",
              "\n",
              "          const docLinkHtml = 'Like what you see? Visit the ' +\n",
              "            '<a target=\"_blank\" href=https://colab.research.google.com/notebooks/data_table.ipynb>data table notebook</a>'\n",
              "            + ' to learn more about interactive tables.';\n",
              "          element.innerHTML = '';\n",
              "          dataTable['output_type'] = 'display_data';\n",
              "          await google.colab.output.renderOutput(dataTable, element);\n",
              "          const docLink = document.createElement('div');\n",
              "          docLink.innerHTML = docLinkHtml;\n",
              "          element.appendChild(docLink);\n",
              "        }\n",
              "      </script>\n",
              "    </div>\n",
              "  </div>\n",
              "  "
            ]
          },
          "metadata": {},
          "execution_count": 20
        }
      ]
    },
    {
      "cell_type": "code",
      "source": [
        "%%time\n",
        "# Polars\n",
        "df_pl.filter(pl.col('Year') > 2021)"
      ],
      "metadata": {
        "colab": {
          "base_uri": "https://localhost:8080/",
          "height": 1000
        },
        "id": "h8_Gfpp5X54m",
        "outputId": "d364c760-3013-40df-b596-50733dee51f9"
      },
      "execution_count": 7,
      "outputs": [
        {
          "output_type": "stream",
          "name": "stdout",
          "text": [
            "CPU times: user 16.9 ms, sys: 13.7 ms, total: 30.6 ms\n",
            "Wall time: 41.1 ms\n"
          ]
        },
        {
          "output_type": "execute_result",
          "data": {
            "text/plain": [
              "shape: (215551, 22)\n",
              "┌──────────┬───────────┬────────────┬───────────┬───┬──────────┬───────────┬───────────┬───────────┐\n",
              "│ ID       ┆ Case      ┆ Date       ┆ Block     ┆ … ┆ Updated  ┆ Latitude  ┆ Longitude ┆ Location  │\n",
              "│ ---      ┆ Number    ┆ ---        ┆ ---       ┆   ┆ On       ┆ ---       ┆ ---       ┆ ---       │\n",
              "│ i64      ┆ ---       ┆ str        ┆ str       ┆   ┆ ---      ┆ f64       ┆ f64       ┆ str       │\n",
              "│          ┆ str       ┆            ┆           ┆   ┆ str      ┆           ┆           ┆           │\n",
              "╞══════════╪═══════════╪════════════╪═══════════╪═══╪══════════╪═══════════╪═══════════╪═══════════╡\n",
              "│ 12757446 ┆ JF313117  ┆ 07/08/2022 ┆ 087XX S   ┆ … ┆ 11/12/20 ┆ 41.734817 ┆ -87.67059 ┆ (41.73481 │\n",
              "│          ┆           ┆ 10:38:00   ┆ WINCHESTE ┆   ┆ 22       ┆           ┆ 6         ┆ 7155, -87 │\n",
              "│          ┆           ┆ AM         ┆ R AVE     ┆   ┆ 03:46:21 ┆           ┆           ┆ .67059564 │\n",
              "│          ┆           ┆            ┆           ┆   ┆ PM       ┆           ┆           ┆ 7)        │\n",
              "│ 12755229 ┆ JF310109  ┆ 07/08/2022 ┆ 056XX N   ┆ … ┆ 11/12/20 ┆ 41.983491 ┆ -87.71132 ┆ (41.98349 │\n",
              "│          ┆           ┆ 03:21:00   ┆ SPAULDING ┆   ┆ 22       ┆           ┆ 4         ┆ 0742, -87 │\n",
              "│          ┆           ┆ AM         ┆ AVE       ┆   ┆ 03:46:21 ┆           ┆           ┆ .71132442 │\n",
              "│          ┆           ┆            ┆           ┆   ┆ PM       ┆           ┆           ┆ 1)        │\n",
              "│ 12763369 ┆ JF320208  ┆ 07/16/2022 ┆ 038XX N   ┆ … ┆ 11/12/20 ┆ 41.951624 ┆ -87.65445 ┆ (41.95162 │\n",
              "│          ┆           ┆ 10:55:00   ┆ SHEFFIELD ┆   ┆ 22       ┆           ┆ 8         ┆ 3924, -87 │\n",
              "│          ┆           ┆ PM         ┆ AVE       ┆   ┆ 03:46:21 ┆           ┆           ┆ .65445848 │\n",
              "│          ┆           ┆            ┆           ┆   ┆ PM       ┆           ┆           ┆ 6)        │\n",
              "│ 12766036 ┆ JF323691  ┆ 07/19/2022 ┆ 113XX S   ┆ … ┆ 11/12/20 ┆ 41.688155 ┆ -87.63619 ┆ (41.68815 │\n",
              "│          ┆           ┆ 04:00:00   ┆ PARNELL   ┆   ┆ 22       ┆           ┆ 9         ┆ 4968, -87 │\n",
              "│          ┆           ┆ PM         ┆ AVE       ┆   ┆ 03:46:21 ┆           ┆           ┆ .63619864 │\n",
              "│          ┆           ┆            ┆           ┆   ┆ PM       ┆           ┆           ┆ 5)        │\n",
              "│ …        ┆ …         ┆ …          ┆ …         ┆ … ┆ …        ┆ …         ┆ …         ┆ …         │\n",
              "│ 12765045 ┆ JF321506  ┆ 07/08/2022 ┆ 006XX S   ┆ … ┆ 11/12/20 ┆ 41.873884 ┆ -87.62421 ┆ (41.87388 │\n",
              "│          ┆           ┆ 02:00:00   ┆ MICHIGAN  ┆   ┆ 22       ┆           ┆ 9         ┆ 3785, -87 │\n",
              "│          ┆           ┆ PM         ┆ AVE       ┆   ┆ 03:46:21 ┆           ┆           ┆ .62421893 │\n",
              "│          ┆           ┆            ┆           ┆   ┆ PM       ┆           ┆           ┆ 2)        │\n",
              "│ 12742026 ┆ JF294494  ┆ 06/24/2022 ┆ 075XX N   ┆ … ┆ 11/12/20 ┆ 42.018312 ┆ -87.67586 ┆ (42.01831 │\n",
              "│          ┆           ┆ 03:43:00   ┆ CLARK ST  ┆   ┆ 22       ┆           ┆ 7         ┆ 1737, -87 │\n",
              "│          ┆           ┆ PM         ┆           ┆   ┆ 03:46:21 ┆           ┆           ┆ .67586662 │\n",
              "│          ┆           ┆            ┆           ┆   ┆ PM       ┆           ┆           ┆ 8)        │\n",
              "│ 12757420 ┆ JF313061  ┆ 07/01/2022 ┆ 001XX N   ┆ … ┆ 11/12/20 ┆ 41.883354 ┆ -87.65557 ┆ (41.88335 │\n",
              "│          ┆           ┆ 12:00:00   ┆ MAY ST    ┆   ┆ 22       ┆           ┆ 8         ┆ 4174, -87 │\n",
              "│          ┆           ┆ AM         ┆           ┆   ┆ 03:46:21 ┆           ┆           ┆ .65557827 │\n",
              "│          ┆           ┆            ┆           ┆   ┆ PM       ┆           ┆           ┆ 2)        │\n",
              "│ 12760994 ┆ JF317539  ┆ 07/14/2022 ┆ 063XX S   ┆ … ┆ 11/12/20 ┆ 41.778619 ┆ -87.68362 ┆ (41.77861 │\n",
              "│          ┆           ┆ 02:45:00   ┆ WESTERN   ┆   ┆ 22       ┆           ┆ 6         ┆ 9322, -87 │\n",
              "│          ┆           ┆ PM         ┆ AVE       ┆   ┆ 03:46:21 ┆           ┆           ┆ .68362581 │\n",
              "│          ┆           ┆            ┆           ┆   ┆ PM       ┆           ┆           ┆ 6)        │\n",
              "└──────────┴───────────┴────────────┴───────────┴───┴──────────┴───────────┴───────────┴───────────┘"
            ],
            "text/html": [
              "<div><style>\n",
              ".dataframe > thead > tr > th,\n",
              ".dataframe > tbody > tr > td {\n",
              "  text-align: right;\n",
              "}\n",
              "</style>\n",
              "<small>shape: (215551, 22)</small><table border=\"1\" class=\"dataframe\"><thead><tr><th>ID</th><th>Case Number</th><th>Date</th><th>Block</th><th>IUCR</th><th>Primary Type</th><th>Description</th><th>Location Description</th><th>Arrest</th><th>Domestic</th><th>Beat</th><th>District</th><th>Ward</th><th>Community Area</th><th>FBI Code</th><th>X Coordinate</th><th>Y Coordinate</th><th>Year</th><th>Updated On</th><th>Latitude</th><th>Longitude</th><th>Location</th></tr><tr><td>i64</td><td>str</td><td>str</td><td>str</td><td>str</td><td>str</td><td>str</td><td>str</td><td>bool</td><td>bool</td><td>i64</td><td>i64</td><td>i64</td><td>i64</td><td>str</td><td>i64</td><td>i64</td><td>i64</td><td>str</td><td>f64</td><td>f64</td><td>str</td></tr></thead><tbody><tr><td>12757446</td><td>&quot;JF313117&quot;</td><td>&quot;07/08/2022 10:…</td><td>&quot;087XX S WINCHE…</td><td>&quot;0820&quot;</td><td>&quot;THEFT&quot;</td><td>&quot;$500 AND UNDER…</td><td>&quot;RESIDENCE&quot;</td><td>false</td><td>true</td><td>2221</td><td>22</td><td>21</td><td>71</td><td>&quot;06&quot;</td><td>1165137</td><td>1846655</td><td>2022</td><td>&quot;11/12/2022 03:…</td><td>41.734817</td><td>-87.670596</td><td>&quot;(41.734817155,…</td></tr><tr><td>12755229</td><td>&quot;JF310109&quot;</td><td>&quot;07/08/2022 03:…</td><td>&quot;056XX N SPAULD…</td><td>&quot;1154&quot;</td><td>&quot;DECEPTIVE PRAC…</td><td>&quot;FINANCIAL IDEN…</td><td>null</td><td>false</td><td>false</td><td>1711</td><td>17</td><td>39</td><td>13</td><td>&quot;11&quot;</td><td>1153364</td><td>1937188</td><td>2022</td><td>&quot;11/12/2022 03:…</td><td>41.983491</td><td>-87.711324</td><td>&quot;(41.983490742,…</td></tr><tr><td>12763369</td><td>&quot;JF320208&quot;</td><td>&quot;07/16/2022 10:…</td><td>&quot;038XX N SHEFFI…</td><td>&quot;0330&quot;</td><td>&quot;ROBBERY&quot;</td><td>&quot;AGGRAVATED&quot;</td><td>&quot;SIDEWALK&quot;</td><td>true</td><td>false</td><td>1923</td><td>19</td><td>46</td><td>6</td><td>&quot;03&quot;</td><td>1168917</td><td>1925693</td><td>2022</td><td>&quot;11/12/2022 03:…</td><td>41.951624</td><td>-87.654458</td><td>&quot;(41.951623924,…</td></tr><tr><td>12766036</td><td>&quot;JF323691&quot;</td><td>&quot;07/19/2022 04:…</td><td>&quot;113XX S PARNEL…</td><td>&quot;1792&quot;</td><td>&quot;KIDNAPPING&quot;</td><td>&quot;CHILD ABDUCTIO…</td><td>&quot;SIDEWALK&quot;</td><td>false</td><td>false</td><td>2233</td><td>22</td><td>34</td><td>49</td><td>&quot;26&quot;</td><td>1174663</td><td>1829726</td><td>2022</td><td>&quot;11/12/2022 03:…</td><td>41.688155</td><td>-87.636199</td><td>&quot;(41.688154968,…</td></tr><tr><td>12758668</td><td>&quot;JF314314&quot;</td><td>&quot;07/12/2022 06:…</td><td>&quot;044XX W WALTON…</td><td>&quot;0610&quot;</td><td>&quot;BURGLARY&quot;</td><td>&quot;FORCIBLE ENTRY…</td><td>&quot;RESIDENCE&quot;</td><td>false</td><td>true</td><td>1111</td><td>11</td><td>37</td><td>23</td><td>&quot;05&quot;</td><td>1146679</td><td>1905959</td><td>2022</td><td>&quot;11/12/2022 03:…</td><td>41.897926</td><td>-87.73671</td><td>&quot;(41.897926219,…</td></tr><tr><td>12765741</td><td>&quot;JF323255&quot;</td><td>&quot;06/27/2022 09:…</td><td>&quot;002XX S LAVERG…</td><td>&quot;1320&quot;</td><td>&quot;CRIMINAL DAMAG…</td><td>&quot;TO VEHICLE&quot;</td><td>&quot;RESIDENCE&quot;</td><td>false</td><td>false</td><td>1533</td><td>15</td><td>28</td><td>25</td><td>&quot;14&quot;</td><td>1143292</td><td>1898696</td><td>2022</td><td>&quot;11/12/2022 03:…</td><td>41.87806</td><td>-87.749332</td><td>&quot;(41.878059641,…</td></tr><tr><td>12759104</td><td>&quot;JF315164&quot;</td><td>&quot;07/12/2022 01:…</td><td>&quot;012XX N ARTESI…</td><td>&quot;0820&quot;</td><td>&quot;THEFT&quot;</td><td>&quot;$500 AND UNDER…</td><td>&quot;STREET&quot;</td><td>false</td><td>false</td><td>1423</td><td>14</td><td>26</td><td>24</td><td>&quot;06&quot;</td><td>1159848</td><td>1908228</td><td>2022</td><td>&quot;11/12/2022 03:…</td><td>41.903891</td><td>-87.688279</td><td>&quot;(41.903891052,…</td></tr><tr><td>12756232</td><td>&quot;JF311569&quot;</td><td>&quot;07/09/2022 09:…</td><td>&quot;020XX W NORTH …</td><td>&quot;0460&quot;</td><td>&quot;BATTERY&quot;</td><td>&quot;SIMPLE&quot;</td><td>&quot;HOTEL / MOTEL&quot;</td><td>true</td><td>false</td><td>1434</td><td>14</td><td>2</td><td>24</td><td>&quot;08B&quot;</td><td>1162488</td><td>1910644</td><td>2022</td><td>&quot;11/12/2022 03:…</td><td>41.910466</td><td>-87.678514</td><td>&quot;(41.910465849,…</td></tr><tr><td>12761035</td><td>&quot;JF317440&quot;</td><td>&quot;07/13/2022 07:…</td><td>&quot;029XX N SACRAM…</td><td>&quot;0917&quot;</td><td>&quot;MOTOR VEHICLE …</td><td>&quot;CYCLE, SCOOTER…</td><td>&quot;STREET&quot;</td><td>false</td><td>false</td><td>1411</td><td>14</td><td>33</td><td>21</td><td>&quot;07&quot;</td><td>1155869</td><td>1919370</td><td>2022</td><td>&quot;11/12/2022 03:…</td><td>41.934547</td><td>-87.702594</td><td>&quot;(41.93454677, …</td></tr><tr><td>12757374</td><td>&quot;JF313010&quot;</td><td>&quot;07/01/2022 09:…</td><td>&quot;043XX S PACKER…</td><td>&quot;1153&quot;</td><td>&quot;DECEPTIVE PRAC…</td><td>&quot;FINANCIAL IDEN…</td><td>&quot;OTHER COMMERCI…</td><td>false</td><td>false</td><td>924</td><td>9</td><td>11</td><td>61</td><td>&quot;11&quot;</td><td>1168167</td><td>1876163</td><td>2022</td><td>&quot;11/12/2022 03:…</td><td>41.815726</td><td>-87.658647</td><td>&quot;(41.815726254,…</td></tr><tr><td>12765479</td><td>&quot;JF322734&quot;</td><td>&quot;07/18/2022 11:…</td><td>&quot;021XX W CONGRE…</td><td>&quot;0486&quot;</td><td>&quot;BATTERY&quot;</td><td>&quot;DOMESTIC BATTE…</td><td>&quot;STREET&quot;</td><td>false</td><td>true</td><td>1225</td><td>12</td><td>27</td><td>28</td><td>&quot;08B&quot;</td><td>1162233</td><td>1897705</td><td>2022</td><td>&quot;11/12/2022 03:…</td><td>41.874966</td><td>-87.679813</td><td>&quot;(41.874965525,…</td></tr><tr><td>12758857</td><td>&quot;JF314516&quot;</td><td>&quot;07/11/2022 08:…</td><td>&quot;011XX W FARWEL…</td><td>&quot;0430&quot;</td><td>&quot;BATTERY&quot;</td><td>&quot;AGGRAVATED - O…</td><td>&quot;PARK PROPERTY&quot;</td><td>false</td><td>false</td><td>2431</td><td>24</td><td>49</td><td>1</td><td>&quot;04B&quot;</td><td>1167450</td><td>1945788</td><td>2022</td><td>&quot;11/12/2022 03:…</td><td>42.006797</td><td>-87.65927</td><td>&quot;(42.00679693, …</td></tr><tr><td>&hellip;</td><td>&hellip;</td><td>&hellip;</td><td>&hellip;</td><td>&hellip;</td><td>&hellip;</td><td>&hellip;</td><td>&hellip;</td><td>&hellip;</td><td>&hellip;</td><td>&hellip;</td><td>&hellip;</td><td>&hellip;</td><td>&hellip;</td><td>&hellip;</td><td>&hellip;</td><td>&hellip;</td><td>&hellip;</td><td>&hellip;</td><td>&hellip;</td><td>&hellip;</td><td>&hellip;</td></tr><tr><td>12763743</td><td>&quot;JF320740&quot;</td><td>&quot;07/17/2022 12:…</td><td>&quot;066XX S WESTER…</td><td>&quot;0860&quot;</td><td>&quot;THEFT&quot;</td><td>&quot;RETAIL THEFT&quot;</td><td>&quot;SMALL RETAIL S…</td><td>false</td><td>false</td><td>832</td><td>8</td><td>16</td><td>66</td><td>&quot;06&quot;</td><td>1161518</td><td>1860508</td><td>2022</td><td>&quot;11/12/2022 03:…</td><td>41.772908</td><td>-87.683471</td><td>&quot;(41.772907566,…</td></tr><tr><td>12764921</td><td>&quot;JF322439&quot;</td><td>&quot;07/08/2022 12:…</td><td>&quot;009XX W 31ST S…</td><td>&quot;1242&quot;</td><td>&quot;DECEPTIVE PRAC…</td><td>&quot;COMPUTER FRAUD…</td><td>&quot;OTHER (SPECIFY…</td><td>false</td><td>false</td><td>913</td><td>9</td><td>11</td><td>60</td><td>&quot;11&quot;</td><td>1170484</td><td>1884298</td><td>2022</td><td>&quot;11/12/2022 03:…</td><td>41.837999</td><td>-87.64991</td><td>&quot;(41.837999238,…</td></tr><tr><td>12748153</td><td>&quot;JF301761&quot;</td><td>&quot;07/01/2022 05:…</td><td>&quot;044XX N KASSON…</td><td>&quot;1811&quot;</td><td>&quot;NARCOTICS&quot;</td><td>&quot;POSSESS - CANN…</td><td>&quot;STREET&quot;</td><td>true</td><td>false</td><td>1722</td><td>17</td><td>39</td><td>14</td><td>&quot;18&quot;</td><td>1148374</td><td>1929416</td><td>2022</td><td>&quot;11/12/2022 03:…</td><td>41.962262</td><td>-87.729878</td><td>&quot;(41.962261812,…</td></tr><tr><td>12745535</td><td>&quot;JF298679&quot;</td><td>&quot;06/29/2022 05:…</td><td>&quot;002XX E ILLINO…</td><td>&quot;0820&quot;</td><td>&quot;THEFT&quot;</td><td>&quot;$500 AND UNDER…</td><td>&quot;PARKING LOT / …</td><td>false</td><td>false</td><td>1834</td><td>18</td><td>42</td><td>8</td><td>&quot;06&quot;</td><td>1178196</td><td>1903671</td><td>2022</td><td>&quot;11/12/2022 03:…</td><td>41.890988</td><td>-87.621022</td><td>&quot;(41.890988065,…</td></tr><tr><td>12756421</td><td>&quot;JF311702&quot;</td><td>&quot;07/09/2022 11:…</td><td>&quot;071XX S YALE A…</td><td>&quot;0486&quot;</td><td>&quot;BATTERY&quot;</td><td>&quot;DOMESTIC BATTE…</td><td>&quot;RESIDENCE&quot;</td><td>false</td><td>true</td><td>731</td><td>7</td><td>6</td><td>69</td><td>&quot;08B&quot;</td><td>1175860</td><td>1857623</td><td>2022</td><td>&quot;11/12/2022 03:…</td><td>41.764681</td><td>-87.630983</td><td>&quot;(41.764681384,…</td></tr><tr><td>12755419</td><td>&quot;JF310675&quot;</td><td>&quot;07/09/2022 02:…</td><td>&quot;034XX N HALSTE…</td><td>&quot;0460&quot;</td><td>&quot;BATTERY&quot;</td><td>&quot;SIMPLE&quot;</td><td>&quot;SIDEWALK&quot;</td><td>true</td><td>false</td><td>1924</td><td>19</td><td>44</td><td>6</td><td>&quot;08B&quot;</td><td>1170308</td><td>1923273</td><td>2022</td><td>&quot;11/12/2022 03:…</td><td>41.944953</td><td>-87.649416</td><td>&quot;(41.944953005,…</td></tr><tr><td>12754184</td><td>&quot;JF308283&quot;</td><td>&quot;06/02/2022 09:…</td><td>&quot;0000X N STATE …</td><td>&quot;0860&quot;</td><td>&quot;THEFT&quot;</td><td>&quot;RETAIL THEFT&quot;</td><td>&quot;DEPARTMENT STO…</td><td>false</td><td>false</td><td>112</td><td>1</td><td>42</td><td>32</td><td>&quot;06&quot;</td><td>1176364</td><td>1900524</td><td>2022</td><td>&quot;11/12/2022 03:…</td><td>41.882394</td><td>-87.627845</td><td>&quot;(41.882394062,…</td></tr><tr><td>12759190</td><td>&quot;JF315350&quot;</td><td>&quot;07/09/2022 07:…</td><td>&quot;098XX S CALHOU…</td><td>&quot;0820&quot;</td><td>&quot;THEFT&quot;</td><td>&quot;$500 AND UNDER…</td><td>&quot;RESIDENCE&quot;</td><td>false</td><td>false</td><td>431</td><td>4</td><td>10</td><td>51</td><td>&quot;06&quot;</td><td>1194763</td><td>1840111</td><td>2022</td><td>&quot;11/12/2022 03:…</td><td>41.716183</td><td>-87.562275</td><td>&quot;(41.71618255, …</td></tr><tr><td>12765045</td><td>&quot;JF321506&quot;</td><td>&quot;07/08/2022 02:…</td><td>&quot;006XX S MICHIG…</td><td>&quot;0810&quot;</td><td>&quot;THEFT&quot;</td><td>&quot;OVER $500&quot;</td><td>&quot;HOTEL / MOTEL&quot;</td><td>false</td><td>false</td><td>123</td><td>1</td><td>42</td><td>32</td><td>&quot;06&quot;</td><td>1177377</td><td>1897431</td><td>2022</td><td>&quot;11/12/2022 03:…</td><td>41.873884</td><td>-87.624219</td><td>&quot;(41.873883785,…</td></tr><tr><td>12742026</td><td>&quot;JF294494&quot;</td><td>&quot;06/24/2022 03:…</td><td>&quot;075XX N CLARK …</td><td>&quot;0860&quot;</td><td>&quot;THEFT&quot;</td><td>&quot;RETAIL THEFT&quot;</td><td>&quot;DEPARTMENT STO…</td><td>false</td><td>false</td><td>2422</td><td>24</td><td>49</td><td>1</td><td>&quot;06&quot;</td><td>1162907</td><td>1949949</td><td>2022</td><td>&quot;11/12/2022 03:…</td><td>42.018312</td><td>-87.675867</td><td>&quot;(42.018311737,…</td></tr><tr><td>12757420</td><td>&quot;JF313061&quot;</td><td>&quot;07/01/2022 12:…</td><td>&quot;001XX N MAY ST…</td><td>&quot;0281&quot;</td><td>&quot;CRIMINAL SEXUA…</td><td>&quot;NON-AGGRAVATED…</td><td>&quot;HOTEL / MOTEL&quot;</td><td>false</td><td>false</td><td>1224</td><td>12</td><td>27</td><td>28</td><td>&quot;02&quot;</td><td>1168809</td><td>1900813</td><td>2022</td><td>&quot;11/12/2022 03:…</td><td>41.883354</td><td>-87.655578</td><td>&quot;(41.883354174,…</td></tr><tr><td>12760994</td><td>&quot;JF317539&quot;</td><td>&quot;07/14/2022 02:…</td><td>&quot;063XX S WESTER…</td><td>&quot;0460&quot;</td><td>&quot;BATTERY&quot;</td><td>&quot;SIMPLE&quot;</td><td>&quot;PARKING LOT / …</td><td>false</td><td>false</td><td>825</td><td>8</td><td>16</td><td>66</td><td>&quot;08B&quot;</td><td>1161460</td><td>1862589</td><td>2022</td><td>&quot;11/12/2022 03:…</td><td>41.778619</td><td>-87.683626</td><td>&quot;(41.778619322,…</td></tr></tbody></table></div>"
            ]
          },
          "metadata": {},
          "execution_count": 7
        }
      ]
    },
    {
      "cell_type": "markdown",
      "source": [
        "##Creating New Columns\n",
        "Creating a new column in Polars also differs from what you might be used to in Pandas. In Polars, you need to use the .with_column() or the .with_columns() method depending on how many columns you want to create."
      ],
      "metadata": {
        "id": "5_YAJ4UTYbL2"
      }
    },
    {
      "cell_type": "code",
      "source": [
        "%%time\n",
        "# Pandas\n",
        "df_pd[\"new_year\"] = df_pd[\"Year\"] "
      ],
      "metadata": {
        "colab": {
          "base_uri": "https://localhost:8080/"
        },
        "id": "QPavioiGYR0p",
        "outputId": "a51e3a98-636d-43e5-93df-d95f9e448736"
      },
      "execution_count": 8,
      "outputs": [
        {
          "output_type": "stream",
          "name": "stdout",
          "text": [
            "CPU times: user 1.53 ms, sys: 0 ns, total: 1.53 ms\n",
            "Wall time: 1.54 ms\n"
          ]
        }
      ]
    },
    {
      "cell_type": "code",
      "source": [
        "%%time\n",
        "# Polars\n",
        "df_pl.with_columns([(pl.col(\"Year\")).alias(\"new_year\")])\n"
      ],
      "metadata": {
        "colab": {
          "base_uri": "https://localhost:8080/",
          "height": 1000
        },
        "id": "qfWeJ8jyZB5z",
        "outputId": "01b951fe-a445-4d39-c128-d798a0767c84"
      },
      "execution_count": 9,
      "outputs": [
        {
          "output_type": "stream",
          "name": "stdout",
          "text": [
            "CPU times: user 429 µs, sys: 0 ns, total: 429 µs\n",
            "Wall time: 452 µs\n"
          ]
        },
        {
          "output_type": "execute_result",
          "data": {
            "text/plain": [
              "shape: (215551, 23)\n",
              "┌──────────┬───────────┬────────────┬───────────┬───┬───────────┬───────────┬───────────┬──────────┐\n",
              "│ ID       ┆ Case      ┆ Date       ┆ Block     ┆ … ┆ Latitude  ┆ Longitude ┆ Location  ┆ new_year │\n",
              "│ ---      ┆ Number    ┆ ---        ┆ ---       ┆   ┆ ---       ┆ ---       ┆ ---       ┆ ---      │\n",
              "│ i64      ┆ ---       ┆ str        ┆ str       ┆   ┆ f64       ┆ f64       ┆ str       ┆ i64      │\n",
              "│          ┆ str       ┆            ┆           ┆   ┆           ┆           ┆           ┆          │\n",
              "╞══════════╪═══════════╪════════════╪═══════════╪═══╪═══════════╪═══════════╪═══════════╪══════════╡\n",
              "│ 12757446 ┆ JF313117  ┆ 07/08/2022 ┆ 087XX S   ┆ … ┆ 41.734817 ┆ -87.67059 ┆ (41.73481 ┆ 2022     │\n",
              "│          ┆           ┆ 10:38:00   ┆ WINCHESTE ┆   ┆           ┆ 6         ┆ 7155, -87 ┆          │\n",
              "│          ┆           ┆ AM         ┆ R AVE     ┆   ┆           ┆           ┆ .67059564 ┆          │\n",
              "│          ┆           ┆            ┆           ┆   ┆           ┆           ┆ 7)        ┆          │\n",
              "│ 12755229 ┆ JF310109  ┆ 07/08/2022 ┆ 056XX N   ┆ … ┆ 41.983491 ┆ -87.71132 ┆ (41.98349 ┆ 2022     │\n",
              "│          ┆           ┆ 03:21:00   ┆ SPAULDING ┆   ┆           ┆ 4         ┆ 0742, -87 ┆          │\n",
              "│          ┆           ┆ AM         ┆ AVE       ┆   ┆           ┆           ┆ .71132442 ┆          │\n",
              "│          ┆           ┆            ┆           ┆   ┆           ┆           ┆ 1)        ┆          │\n",
              "│ 12763369 ┆ JF320208  ┆ 07/16/2022 ┆ 038XX N   ┆ … ┆ 41.951624 ┆ -87.65445 ┆ (41.95162 ┆ 2022     │\n",
              "│          ┆           ┆ 10:55:00   ┆ SHEFFIELD ┆   ┆           ┆ 8         ┆ 3924, -87 ┆          │\n",
              "│          ┆           ┆ PM         ┆ AVE       ┆   ┆           ┆           ┆ .65445848 ┆          │\n",
              "│          ┆           ┆            ┆           ┆   ┆           ┆           ┆ 6)        ┆          │\n",
              "│ 12766036 ┆ JF323691  ┆ 07/19/2022 ┆ 113XX S   ┆ … ┆ 41.688155 ┆ -87.63619 ┆ (41.68815 ┆ 2022     │\n",
              "│          ┆           ┆ 04:00:00   ┆ PARNELL   ┆   ┆           ┆ 9         ┆ 4968, -87 ┆          │\n",
              "│          ┆           ┆ PM         ┆ AVE       ┆   ┆           ┆           ┆ .63619864 ┆          │\n",
              "│          ┆           ┆            ┆           ┆   ┆           ┆           ┆ 5)        ┆          │\n",
              "│ …        ┆ …         ┆ …          ┆ …         ┆ … ┆ …         ┆ …         ┆ …         ┆ …        │\n",
              "│ 12765045 ┆ JF321506  ┆ 07/08/2022 ┆ 006XX S   ┆ … ┆ 41.873884 ┆ -87.62421 ┆ (41.87388 ┆ 2022     │\n",
              "│          ┆           ┆ 02:00:00   ┆ MICHIGAN  ┆   ┆           ┆ 9         ┆ 3785, -87 ┆          │\n",
              "│          ┆           ┆ PM         ┆ AVE       ┆   ┆           ┆           ┆ .62421893 ┆          │\n",
              "│          ┆           ┆            ┆           ┆   ┆           ┆           ┆ 2)        ┆          │\n",
              "│ 12742026 ┆ JF294494  ┆ 06/24/2022 ┆ 075XX N   ┆ … ┆ 42.018312 ┆ -87.67586 ┆ (42.01831 ┆ 2022     │\n",
              "│          ┆           ┆ 03:43:00   ┆ CLARK ST  ┆   ┆           ┆ 7         ┆ 1737, -87 ┆          │\n",
              "│          ┆           ┆ PM         ┆           ┆   ┆           ┆           ┆ .67586662 ┆          │\n",
              "│          ┆           ┆            ┆           ┆   ┆           ┆           ┆ 8)        ┆          │\n",
              "│ 12757420 ┆ JF313061  ┆ 07/01/2022 ┆ 001XX N   ┆ … ┆ 41.883354 ┆ -87.65557 ┆ (41.88335 ┆ 2022     │\n",
              "│          ┆           ┆ 12:00:00   ┆ MAY ST    ┆   ┆           ┆ 8         ┆ 4174, -87 ┆          │\n",
              "│          ┆           ┆ AM         ┆           ┆   ┆           ┆           ┆ .65557827 ┆          │\n",
              "│          ┆           ┆            ┆           ┆   ┆           ┆           ┆ 2)        ┆          │\n",
              "│ 12760994 ┆ JF317539  ┆ 07/14/2022 ┆ 063XX S   ┆ … ┆ 41.778619 ┆ -87.68362 ┆ (41.77861 ┆ 2022     │\n",
              "│          ┆           ┆ 02:45:00   ┆ WESTERN   ┆   ┆           ┆ 6         ┆ 9322, -87 ┆          │\n",
              "│          ┆           ┆ PM         ┆ AVE       ┆   ┆           ┆           ┆ .68362581 ┆          │\n",
              "│          ┆           ┆            ┆           ┆   ┆           ┆           ┆ 6)        ┆          │\n",
              "└──────────┴───────────┴────────────┴───────────┴───┴───────────┴───────────┴───────────┴──────────┘"
            ],
            "text/html": [
              "<div><style>\n",
              ".dataframe > thead > tr > th,\n",
              ".dataframe > tbody > tr > td {\n",
              "  text-align: right;\n",
              "}\n",
              "</style>\n",
              "<small>shape: (215551, 23)</small><table border=\"1\" class=\"dataframe\"><thead><tr><th>ID</th><th>Case Number</th><th>Date</th><th>Block</th><th>IUCR</th><th>Primary Type</th><th>Description</th><th>Location Description</th><th>Arrest</th><th>Domestic</th><th>Beat</th><th>District</th><th>Ward</th><th>Community Area</th><th>FBI Code</th><th>X Coordinate</th><th>Y Coordinate</th><th>Year</th><th>Updated On</th><th>Latitude</th><th>Longitude</th><th>Location</th><th>new_year</th></tr><tr><td>i64</td><td>str</td><td>str</td><td>str</td><td>str</td><td>str</td><td>str</td><td>str</td><td>bool</td><td>bool</td><td>i64</td><td>i64</td><td>i64</td><td>i64</td><td>str</td><td>i64</td><td>i64</td><td>i64</td><td>str</td><td>f64</td><td>f64</td><td>str</td><td>i64</td></tr></thead><tbody><tr><td>12757446</td><td>&quot;JF313117&quot;</td><td>&quot;07/08/2022 10:…</td><td>&quot;087XX S WINCHE…</td><td>&quot;0820&quot;</td><td>&quot;THEFT&quot;</td><td>&quot;$500 AND UNDER…</td><td>&quot;RESIDENCE&quot;</td><td>false</td><td>true</td><td>2221</td><td>22</td><td>21</td><td>71</td><td>&quot;06&quot;</td><td>1165137</td><td>1846655</td><td>2022</td><td>&quot;11/12/2022 03:…</td><td>41.734817</td><td>-87.670596</td><td>&quot;(41.734817155,…</td><td>2022</td></tr><tr><td>12755229</td><td>&quot;JF310109&quot;</td><td>&quot;07/08/2022 03:…</td><td>&quot;056XX N SPAULD…</td><td>&quot;1154&quot;</td><td>&quot;DECEPTIVE PRAC…</td><td>&quot;FINANCIAL IDEN…</td><td>null</td><td>false</td><td>false</td><td>1711</td><td>17</td><td>39</td><td>13</td><td>&quot;11&quot;</td><td>1153364</td><td>1937188</td><td>2022</td><td>&quot;11/12/2022 03:…</td><td>41.983491</td><td>-87.711324</td><td>&quot;(41.983490742,…</td><td>2022</td></tr><tr><td>12763369</td><td>&quot;JF320208&quot;</td><td>&quot;07/16/2022 10:…</td><td>&quot;038XX N SHEFFI…</td><td>&quot;0330&quot;</td><td>&quot;ROBBERY&quot;</td><td>&quot;AGGRAVATED&quot;</td><td>&quot;SIDEWALK&quot;</td><td>true</td><td>false</td><td>1923</td><td>19</td><td>46</td><td>6</td><td>&quot;03&quot;</td><td>1168917</td><td>1925693</td><td>2022</td><td>&quot;11/12/2022 03:…</td><td>41.951624</td><td>-87.654458</td><td>&quot;(41.951623924,…</td><td>2022</td></tr><tr><td>12766036</td><td>&quot;JF323691&quot;</td><td>&quot;07/19/2022 04:…</td><td>&quot;113XX S PARNEL…</td><td>&quot;1792&quot;</td><td>&quot;KIDNAPPING&quot;</td><td>&quot;CHILD ABDUCTIO…</td><td>&quot;SIDEWALK&quot;</td><td>false</td><td>false</td><td>2233</td><td>22</td><td>34</td><td>49</td><td>&quot;26&quot;</td><td>1174663</td><td>1829726</td><td>2022</td><td>&quot;11/12/2022 03:…</td><td>41.688155</td><td>-87.636199</td><td>&quot;(41.688154968,…</td><td>2022</td></tr><tr><td>12758668</td><td>&quot;JF314314&quot;</td><td>&quot;07/12/2022 06:…</td><td>&quot;044XX W WALTON…</td><td>&quot;0610&quot;</td><td>&quot;BURGLARY&quot;</td><td>&quot;FORCIBLE ENTRY…</td><td>&quot;RESIDENCE&quot;</td><td>false</td><td>true</td><td>1111</td><td>11</td><td>37</td><td>23</td><td>&quot;05&quot;</td><td>1146679</td><td>1905959</td><td>2022</td><td>&quot;11/12/2022 03:…</td><td>41.897926</td><td>-87.73671</td><td>&quot;(41.897926219,…</td><td>2022</td></tr><tr><td>12765741</td><td>&quot;JF323255&quot;</td><td>&quot;06/27/2022 09:…</td><td>&quot;002XX S LAVERG…</td><td>&quot;1320&quot;</td><td>&quot;CRIMINAL DAMAG…</td><td>&quot;TO VEHICLE&quot;</td><td>&quot;RESIDENCE&quot;</td><td>false</td><td>false</td><td>1533</td><td>15</td><td>28</td><td>25</td><td>&quot;14&quot;</td><td>1143292</td><td>1898696</td><td>2022</td><td>&quot;11/12/2022 03:…</td><td>41.87806</td><td>-87.749332</td><td>&quot;(41.878059641,…</td><td>2022</td></tr><tr><td>12759104</td><td>&quot;JF315164&quot;</td><td>&quot;07/12/2022 01:…</td><td>&quot;012XX N ARTESI…</td><td>&quot;0820&quot;</td><td>&quot;THEFT&quot;</td><td>&quot;$500 AND UNDER…</td><td>&quot;STREET&quot;</td><td>false</td><td>false</td><td>1423</td><td>14</td><td>26</td><td>24</td><td>&quot;06&quot;</td><td>1159848</td><td>1908228</td><td>2022</td><td>&quot;11/12/2022 03:…</td><td>41.903891</td><td>-87.688279</td><td>&quot;(41.903891052,…</td><td>2022</td></tr><tr><td>12756232</td><td>&quot;JF311569&quot;</td><td>&quot;07/09/2022 09:…</td><td>&quot;020XX W NORTH …</td><td>&quot;0460&quot;</td><td>&quot;BATTERY&quot;</td><td>&quot;SIMPLE&quot;</td><td>&quot;HOTEL / MOTEL&quot;</td><td>true</td><td>false</td><td>1434</td><td>14</td><td>2</td><td>24</td><td>&quot;08B&quot;</td><td>1162488</td><td>1910644</td><td>2022</td><td>&quot;11/12/2022 03:…</td><td>41.910466</td><td>-87.678514</td><td>&quot;(41.910465849,…</td><td>2022</td></tr><tr><td>12761035</td><td>&quot;JF317440&quot;</td><td>&quot;07/13/2022 07:…</td><td>&quot;029XX N SACRAM…</td><td>&quot;0917&quot;</td><td>&quot;MOTOR VEHICLE …</td><td>&quot;CYCLE, SCOOTER…</td><td>&quot;STREET&quot;</td><td>false</td><td>false</td><td>1411</td><td>14</td><td>33</td><td>21</td><td>&quot;07&quot;</td><td>1155869</td><td>1919370</td><td>2022</td><td>&quot;11/12/2022 03:…</td><td>41.934547</td><td>-87.702594</td><td>&quot;(41.93454677, …</td><td>2022</td></tr><tr><td>12757374</td><td>&quot;JF313010&quot;</td><td>&quot;07/01/2022 09:…</td><td>&quot;043XX S PACKER…</td><td>&quot;1153&quot;</td><td>&quot;DECEPTIVE PRAC…</td><td>&quot;FINANCIAL IDEN…</td><td>&quot;OTHER COMMERCI…</td><td>false</td><td>false</td><td>924</td><td>9</td><td>11</td><td>61</td><td>&quot;11&quot;</td><td>1168167</td><td>1876163</td><td>2022</td><td>&quot;11/12/2022 03:…</td><td>41.815726</td><td>-87.658647</td><td>&quot;(41.815726254,…</td><td>2022</td></tr><tr><td>12765479</td><td>&quot;JF322734&quot;</td><td>&quot;07/18/2022 11:…</td><td>&quot;021XX W CONGRE…</td><td>&quot;0486&quot;</td><td>&quot;BATTERY&quot;</td><td>&quot;DOMESTIC BATTE…</td><td>&quot;STREET&quot;</td><td>false</td><td>true</td><td>1225</td><td>12</td><td>27</td><td>28</td><td>&quot;08B&quot;</td><td>1162233</td><td>1897705</td><td>2022</td><td>&quot;11/12/2022 03:…</td><td>41.874966</td><td>-87.679813</td><td>&quot;(41.874965525,…</td><td>2022</td></tr><tr><td>12758857</td><td>&quot;JF314516&quot;</td><td>&quot;07/11/2022 08:…</td><td>&quot;011XX W FARWEL…</td><td>&quot;0430&quot;</td><td>&quot;BATTERY&quot;</td><td>&quot;AGGRAVATED - O…</td><td>&quot;PARK PROPERTY&quot;</td><td>false</td><td>false</td><td>2431</td><td>24</td><td>49</td><td>1</td><td>&quot;04B&quot;</td><td>1167450</td><td>1945788</td><td>2022</td><td>&quot;11/12/2022 03:…</td><td>42.006797</td><td>-87.65927</td><td>&quot;(42.00679693, …</td><td>2022</td></tr><tr><td>&hellip;</td><td>&hellip;</td><td>&hellip;</td><td>&hellip;</td><td>&hellip;</td><td>&hellip;</td><td>&hellip;</td><td>&hellip;</td><td>&hellip;</td><td>&hellip;</td><td>&hellip;</td><td>&hellip;</td><td>&hellip;</td><td>&hellip;</td><td>&hellip;</td><td>&hellip;</td><td>&hellip;</td><td>&hellip;</td><td>&hellip;</td><td>&hellip;</td><td>&hellip;</td><td>&hellip;</td><td>&hellip;</td></tr><tr><td>12763743</td><td>&quot;JF320740&quot;</td><td>&quot;07/17/2022 12:…</td><td>&quot;066XX S WESTER…</td><td>&quot;0860&quot;</td><td>&quot;THEFT&quot;</td><td>&quot;RETAIL THEFT&quot;</td><td>&quot;SMALL RETAIL S…</td><td>false</td><td>false</td><td>832</td><td>8</td><td>16</td><td>66</td><td>&quot;06&quot;</td><td>1161518</td><td>1860508</td><td>2022</td><td>&quot;11/12/2022 03:…</td><td>41.772908</td><td>-87.683471</td><td>&quot;(41.772907566,…</td><td>2022</td></tr><tr><td>12764921</td><td>&quot;JF322439&quot;</td><td>&quot;07/08/2022 12:…</td><td>&quot;009XX W 31ST S…</td><td>&quot;1242&quot;</td><td>&quot;DECEPTIVE PRAC…</td><td>&quot;COMPUTER FRAUD…</td><td>&quot;OTHER (SPECIFY…</td><td>false</td><td>false</td><td>913</td><td>9</td><td>11</td><td>60</td><td>&quot;11&quot;</td><td>1170484</td><td>1884298</td><td>2022</td><td>&quot;11/12/2022 03:…</td><td>41.837999</td><td>-87.64991</td><td>&quot;(41.837999238,…</td><td>2022</td></tr><tr><td>12748153</td><td>&quot;JF301761&quot;</td><td>&quot;07/01/2022 05:…</td><td>&quot;044XX N KASSON…</td><td>&quot;1811&quot;</td><td>&quot;NARCOTICS&quot;</td><td>&quot;POSSESS - CANN…</td><td>&quot;STREET&quot;</td><td>true</td><td>false</td><td>1722</td><td>17</td><td>39</td><td>14</td><td>&quot;18&quot;</td><td>1148374</td><td>1929416</td><td>2022</td><td>&quot;11/12/2022 03:…</td><td>41.962262</td><td>-87.729878</td><td>&quot;(41.962261812,…</td><td>2022</td></tr><tr><td>12745535</td><td>&quot;JF298679&quot;</td><td>&quot;06/29/2022 05:…</td><td>&quot;002XX E ILLINO…</td><td>&quot;0820&quot;</td><td>&quot;THEFT&quot;</td><td>&quot;$500 AND UNDER…</td><td>&quot;PARKING LOT / …</td><td>false</td><td>false</td><td>1834</td><td>18</td><td>42</td><td>8</td><td>&quot;06&quot;</td><td>1178196</td><td>1903671</td><td>2022</td><td>&quot;11/12/2022 03:…</td><td>41.890988</td><td>-87.621022</td><td>&quot;(41.890988065,…</td><td>2022</td></tr><tr><td>12756421</td><td>&quot;JF311702&quot;</td><td>&quot;07/09/2022 11:…</td><td>&quot;071XX S YALE A…</td><td>&quot;0486&quot;</td><td>&quot;BATTERY&quot;</td><td>&quot;DOMESTIC BATTE…</td><td>&quot;RESIDENCE&quot;</td><td>false</td><td>true</td><td>731</td><td>7</td><td>6</td><td>69</td><td>&quot;08B&quot;</td><td>1175860</td><td>1857623</td><td>2022</td><td>&quot;11/12/2022 03:…</td><td>41.764681</td><td>-87.630983</td><td>&quot;(41.764681384,…</td><td>2022</td></tr><tr><td>12755419</td><td>&quot;JF310675&quot;</td><td>&quot;07/09/2022 02:…</td><td>&quot;034XX N HALSTE…</td><td>&quot;0460&quot;</td><td>&quot;BATTERY&quot;</td><td>&quot;SIMPLE&quot;</td><td>&quot;SIDEWALK&quot;</td><td>true</td><td>false</td><td>1924</td><td>19</td><td>44</td><td>6</td><td>&quot;08B&quot;</td><td>1170308</td><td>1923273</td><td>2022</td><td>&quot;11/12/2022 03:…</td><td>41.944953</td><td>-87.649416</td><td>&quot;(41.944953005,…</td><td>2022</td></tr><tr><td>12754184</td><td>&quot;JF308283&quot;</td><td>&quot;06/02/2022 09:…</td><td>&quot;0000X N STATE …</td><td>&quot;0860&quot;</td><td>&quot;THEFT&quot;</td><td>&quot;RETAIL THEFT&quot;</td><td>&quot;DEPARTMENT STO…</td><td>false</td><td>false</td><td>112</td><td>1</td><td>42</td><td>32</td><td>&quot;06&quot;</td><td>1176364</td><td>1900524</td><td>2022</td><td>&quot;11/12/2022 03:…</td><td>41.882394</td><td>-87.627845</td><td>&quot;(41.882394062,…</td><td>2022</td></tr><tr><td>12759190</td><td>&quot;JF315350&quot;</td><td>&quot;07/09/2022 07:…</td><td>&quot;098XX S CALHOU…</td><td>&quot;0820&quot;</td><td>&quot;THEFT&quot;</td><td>&quot;$500 AND UNDER…</td><td>&quot;RESIDENCE&quot;</td><td>false</td><td>false</td><td>431</td><td>4</td><td>10</td><td>51</td><td>&quot;06&quot;</td><td>1194763</td><td>1840111</td><td>2022</td><td>&quot;11/12/2022 03:…</td><td>41.716183</td><td>-87.562275</td><td>&quot;(41.71618255, …</td><td>2022</td></tr><tr><td>12765045</td><td>&quot;JF321506&quot;</td><td>&quot;07/08/2022 02:…</td><td>&quot;006XX S MICHIG…</td><td>&quot;0810&quot;</td><td>&quot;THEFT&quot;</td><td>&quot;OVER $500&quot;</td><td>&quot;HOTEL / MOTEL&quot;</td><td>false</td><td>false</td><td>123</td><td>1</td><td>42</td><td>32</td><td>&quot;06&quot;</td><td>1177377</td><td>1897431</td><td>2022</td><td>&quot;11/12/2022 03:…</td><td>41.873884</td><td>-87.624219</td><td>&quot;(41.873883785,…</td><td>2022</td></tr><tr><td>12742026</td><td>&quot;JF294494&quot;</td><td>&quot;06/24/2022 03:…</td><td>&quot;075XX N CLARK …</td><td>&quot;0860&quot;</td><td>&quot;THEFT&quot;</td><td>&quot;RETAIL THEFT&quot;</td><td>&quot;DEPARTMENT STO…</td><td>false</td><td>false</td><td>2422</td><td>24</td><td>49</td><td>1</td><td>&quot;06&quot;</td><td>1162907</td><td>1949949</td><td>2022</td><td>&quot;11/12/2022 03:…</td><td>42.018312</td><td>-87.675867</td><td>&quot;(42.018311737,…</td><td>2022</td></tr><tr><td>12757420</td><td>&quot;JF313061&quot;</td><td>&quot;07/01/2022 12:…</td><td>&quot;001XX N MAY ST…</td><td>&quot;0281&quot;</td><td>&quot;CRIMINAL SEXUA…</td><td>&quot;NON-AGGRAVATED…</td><td>&quot;HOTEL / MOTEL&quot;</td><td>false</td><td>false</td><td>1224</td><td>12</td><td>27</td><td>28</td><td>&quot;02&quot;</td><td>1168809</td><td>1900813</td><td>2022</td><td>&quot;11/12/2022 03:…</td><td>41.883354</td><td>-87.655578</td><td>&quot;(41.883354174,…</td><td>2022</td></tr><tr><td>12760994</td><td>&quot;JF317539&quot;</td><td>&quot;07/14/2022 02:…</td><td>&quot;063XX S WESTER…</td><td>&quot;0460&quot;</td><td>&quot;BATTERY&quot;</td><td>&quot;SIMPLE&quot;</td><td>&quot;PARKING LOT / …</td><td>false</td><td>false</td><td>825</td><td>8</td><td>16</td><td>66</td><td>&quot;08B&quot;</td><td>1161460</td><td>1862589</td><td>2022</td><td>&quot;11/12/2022 03:…</td><td>41.778619</td><td>-87.683626</td><td>&quot;(41.778619322,…</td><td>2022</td></tr></tbody></table></div>"
            ]
          },
          "metadata": {},
          "execution_count": 9
        }
      ]
    },
    {
      "cell_type": "code",
      "source": [
        "%%time\n",
        "# Polars for multiple columns\n",
        "# df.with_columns([(pl.col(\"col\") * 10).alias(\"new_col\"), ...])"
      ],
      "metadata": {
        "colab": {
          "base_uri": "https://localhost:8080/"
        },
        "id": "xKfDzzpyZDbq",
        "outputId": "60f17571-c052-4749-e4ba-2c262416d3c3"
      },
      "execution_count": 10,
      "outputs": [
        {
          "output_type": "stream",
          "name": "stdout",
          "text": [
            "CPU times: user 3 µs, sys: 1 µs, total: 4 µs\n",
            "Wall time: 8.11 µs\n"
          ]
        }
      ]
    },
    {
      "cell_type": "markdown",
      "source": [
        "##Grouping and Aggregation\n",
        "Grouping and aggregation are slightly different between Pandas and Polars syntax-wise, but both use the .groupby() and .agg() methods."
      ],
      "metadata": {
        "id": "-rWa1dQ1aPAF"
      }
    },
    {
      "cell_type": "code",
      "source": [
        "%%time\n",
        "# Pandas\n",
        "df_pd.groupby('Year')['Arrest'].agg('value_counts')"
      ],
      "metadata": {
        "colab": {
          "base_uri": "https://localhost:8080/"
        },
        "id": "VJjq8o4jaOyx",
        "outputId": "c15f1970-4fb7-4c43-b5da-cacab1fee2b9"
      },
      "execution_count": 11,
      "outputs": [
        {
          "output_type": "stream",
          "name": "stdout",
          "text": [
            "CPU times: user 20.1 ms, sys: 853 µs, total: 21 ms\n",
            "Wall time: 26.3 ms\n"
          ]
        },
        {
          "output_type": "execute_result",
          "data": {
            "text/plain": [
              "Year  Arrest\n",
              "2022  False     191418\n",
              "      True       24133\n",
              "Name: Arrest, dtype: int64"
            ]
          },
          "metadata": {},
          "execution_count": 11
        }
      ]
    },
    {
      "cell_type": "code",
      "source": [
        "%%time\n",
        "# Polars\n",
        "# df.groupby('col1').agg([pl.col('col2').mean()]) # As suggested in Polars docs\n",
        "df_pl.groupby('Year').agg([pl.col(['Arrest']).value_counts()]) # Shorter"
      ],
      "metadata": {
        "colab": {
          "base_uri": "https://localhost:8080/",
          "height": 165
        },
        "id": "qPEBKFIqaUbs",
        "outputId": "53224441-1726-4645-ef60-ce9d0a045283"
      },
      "execution_count": 12,
      "outputs": [
        {
          "output_type": "stream",
          "name": "stdout",
          "text": [
            "CPU times: user 14.3 ms, sys: 0 ns, total: 14.3 ms\n",
            "Wall time: 15 ms\n"
          ]
        },
        {
          "output_type": "execute_result",
          "data": {
            "text/plain": [
              "shape: (1, 2)\n",
              "┌──────┬────────────────────────────────┐\n",
              "│ Year ┆ Arrest                         │\n",
              "│ ---  ┆ ---                            │\n",
              "│ i64  ┆ list[struct[2]]                │\n",
              "╞══════╪════════════════════════════════╡\n",
              "│ 2022 ┆ [{false,191418}, {true,24133}] │\n",
              "└──────┴────────────────────────────────┘"
            ],
            "text/html": [
              "<div><style>\n",
              ".dataframe > thead > tr > th,\n",
              ".dataframe > tbody > tr > td {\n",
              "  text-align: right;\n",
              "}\n",
              "</style>\n",
              "<small>shape: (1, 2)</small><table border=\"1\" class=\"dataframe\"><thead><tr><th>Year</th><th>Arrest</th></tr><tr><td>i64</td><td>list[struct[2]]</td></tr></thead><tbody><tr><td>2022</td><td>[{false,191418}, {true,24133}]</td></tr></tbody></table></div>"
            ]
          },
          "metadata": {},
          "execution_count": 12
        }
      ]
    },
    {
      "cell_type": "markdown",
      "source": [
        "##Missing Data\n",
        "Another major difference between Pandas and Polars is that Pandas uses NaN values to indicate missing values, while Polars uses null [1]."
      ],
      "metadata": {
        "id": "31vsMqPcek0N"
      }
    },
    {
      "cell_type": "code",
      "source": [
        "%%time\n",
        "# Pandas\n",
        "df_pd['Location'].fillna(-999)"
      ],
      "metadata": {
        "colab": {
          "base_uri": "https://localhost:8080/"
        },
        "id": "DjHKovJFeZVx",
        "outputId": "24a87cd1-c89f-40d4-edef-40919eada478"
      },
      "execution_count": 13,
      "outputs": [
        {
          "output_type": "stream",
          "name": "stdout",
          "text": [
            "CPU times: user 25.5 ms, sys: 0 ns, total: 25.5 ms\n",
            "Wall time: 31.9 ms\n"
          ]
        },
        {
          "output_type": "execute_result",
          "data": {
            "text/plain": [
              "0         (41.734817155, -87.670595647)\n",
              "1         (41.983490742, -87.711324421)\n",
              "2         (41.951623924, -87.654458486)\n",
              "3         (41.688154968, -87.636198645)\n",
              "4         (41.897926219, -87.736710223)\n",
              "                      ...              \n",
              "215546     (41.71618255, -87.562274818)\n",
              "215547    (41.873883785, -87.624218932)\n",
              "215548    (42.018311737, -87.675866628)\n",
              "215549    (41.883354174, -87.655578272)\n",
              "215550    (41.778619322, -87.683625816)\n",
              "Name: Location, Length: 215551, dtype: object"
            ]
          },
          "metadata": {},
          "execution_count": 13
        }
      ]
    },
    {
      "cell_type": "code",
      "source": [
        "%%time\n",
        "# Polars\n",
        "# df_pl.with_column(pl.col('col2').fill_null(pl.lit(-999))) # As suggested in Polars docs\n",
        "df_pl.with_column(pl.col('Location').fill_null(-999)) # Shorter"
      ],
      "metadata": {
        "colab": {
          "base_uri": "https://localhost:8080/",
          "height": 1000
        },
        "id": "O9swXeXNeqXe",
        "outputId": "0c9378b5-6625-42d9-b009-67586cd2799a"
      },
      "execution_count": 14,
      "outputs": [
        {
          "output_type": "stream",
          "name": "stdout",
          "text": [
            "CPU times: user 13.4 ms, sys: 6.51 ms, total: 19.9 ms\n",
            "Wall time: 29.7 ms\n"
          ]
        },
        {
          "output_type": "stream",
          "name": "stderr",
          "text": [
            "<timed eval>:3: DeprecationWarning: `DataFrame.with_column` has been renamed; this redirect is temporary, please use `.with_columns` instead\n"
          ]
        },
        {
          "output_type": "execute_result",
          "data": {
            "text/plain": [
              "shape: (215551, 22)\n",
              "┌──────────┬───────────┬────────────┬───────────┬───┬──────────┬───────────┬───────────┬───────────┐\n",
              "│ ID       ┆ Case      ┆ Date       ┆ Block     ┆ … ┆ Updated  ┆ Latitude  ┆ Longitude ┆ Location  │\n",
              "│ ---      ┆ Number    ┆ ---        ┆ ---       ┆   ┆ On       ┆ ---       ┆ ---       ┆ ---       │\n",
              "│ i64      ┆ ---       ┆ str        ┆ str       ┆   ┆ ---      ┆ f64       ┆ f64       ┆ str       │\n",
              "│          ┆ str       ┆            ┆           ┆   ┆ str      ┆           ┆           ┆           │\n",
              "╞══════════╪═══════════╪════════════╪═══════════╪═══╪══════════╪═══════════╪═══════════╪═══════════╡\n",
              "│ 12757446 ┆ JF313117  ┆ 07/08/2022 ┆ 087XX S   ┆ … ┆ 11/12/20 ┆ 41.734817 ┆ -87.67059 ┆ (41.73481 │\n",
              "│          ┆           ┆ 10:38:00   ┆ WINCHESTE ┆   ┆ 22       ┆           ┆ 6         ┆ 7155, -87 │\n",
              "│          ┆           ┆ AM         ┆ R AVE     ┆   ┆ 03:46:21 ┆           ┆           ┆ .67059564 │\n",
              "│          ┆           ┆            ┆           ┆   ┆ PM       ┆           ┆           ┆ 7)        │\n",
              "│ 12755229 ┆ JF310109  ┆ 07/08/2022 ┆ 056XX N   ┆ … ┆ 11/12/20 ┆ 41.983491 ┆ -87.71132 ┆ (41.98349 │\n",
              "│          ┆           ┆ 03:21:00   ┆ SPAULDING ┆   ┆ 22       ┆           ┆ 4         ┆ 0742, -87 │\n",
              "│          ┆           ┆ AM         ┆ AVE       ┆   ┆ 03:46:21 ┆           ┆           ┆ .71132442 │\n",
              "│          ┆           ┆            ┆           ┆   ┆ PM       ┆           ┆           ┆ 1)        │\n",
              "│ 12763369 ┆ JF320208  ┆ 07/16/2022 ┆ 038XX N   ┆ … ┆ 11/12/20 ┆ 41.951624 ┆ -87.65445 ┆ (41.95162 │\n",
              "│          ┆           ┆ 10:55:00   ┆ SHEFFIELD ┆   ┆ 22       ┆           ┆ 8         ┆ 3924, -87 │\n",
              "│          ┆           ┆ PM         ┆ AVE       ┆   ┆ 03:46:21 ┆           ┆           ┆ .65445848 │\n",
              "│          ┆           ┆            ┆           ┆   ┆ PM       ┆           ┆           ┆ 6)        │\n",
              "│ 12766036 ┆ JF323691  ┆ 07/19/2022 ┆ 113XX S   ┆ … ┆ 11/12/20 ┆ 41.688155 ┆ -87.63619 ┆ (41.68815 │\n",
              "│          ┆           ┆ 04:00:00   ┆ PARNELL   ┆   ┆ 22       ┆           ┆ 9         ┆ 4968, -87 │\n",
              "│          ┆           ┆ PM         ┆ AVE       ┆   ┆ 03:46:21 ┆           ┆           ┆ .63619864 │\n",
              "│          ┆           ┆            ┆           ┆   ┆ PM       ┆           ┆           ┆ 5)        │\n",
              "│ …        ┆ …         ┆ …          ┆ …         ┆ … ┆ …        ┆ …         ┆ …         ┆ …         │\n",
              "│ 12765045 ┆ JF321506  ┆ 07/08/2022 ┆ 006XX S   ┆ … ┆ 11/12/20 ┆ 41.873884 ┆ -87.62421 ┆ (41.87388 │\n",
              "│          ┆           ┆ 02:00:00   ┆ MICHIGAN  ┆   ┆ 22       ┆           ┆ 9         ┆ 3785, -87 │\n",
              "│          ┆           ┆ PM         ┆ AVE       ┆   ┆ 03:46:21 ┆           ┆           ┆ .62421893 │\n",
              "│          ┆           ┆            ┆           ┆   ┆ PM       ┆           ┆           ┆ 2)        │\n",
              "│ 12742026 ┆ JF294494  ┆ 06/24/2022 ┆ 075XX N   ┆ … ┆ 11/12/20 ┆ 42.018312 ┆ -87.67586 ┆ (42.01831 │\n",
              "│          ┆           ┆ 03:43:00   ┆ CLARK ST  ┆   ┆ 22       ┆           ┆ 7         ┆ 1737, -87 │\n",
              "│          ┆           ┆ PM         ┆           ┆   ┆ 03:46:21 ┆           ┆           ┆ .67586662 │\n",
              "│          ┆           ┆            ┆           ┆   ┆ PM       ┆           ┆           ┆ 8)        │\n",
              "│ 12757420 ┆ JF313061  ┆ 07/01/2022 ┆ 001XX N   ┆ … ┆ 11/12/20 ┆ 41.883354 ┆ -87.65557 ┆ (41.88335 │\n",
              "│          ┆           ┆ 12:00:00   ┆ MAY ST    ┆   ┆ 22       ┆           ┆ 8         ┆ 4174, -87 │\n",
              "│          ┆           ┆ AM         ┆           ┆   ┆ 03:46:21 ┆           ┆           ┆ .65557827 │\n",
              "│          ┆           ┆            ┆           ┆   ┆ PM       ┆           ┆           ┆ 2)        │\n",
              "│ 12760994 ┆ JF317539  ┆ 07/14/2022 ┆ 063XX S   ┆ … ┆ 11/12/20 ┆ 41.778619 ┆ -87.68362 ┆ (41.77861 │\n",
              "│          ┆           ┆ 02:45:00   ┆ WESTERN   ┆   ┆ 22       ┆           ┆ 6         ┆ 9322, -87 │\n",
              "│          ┆           ┆ PM         ┆ AVE       ┆   ┆ 03:46:21 ┆           ┆           ┆ .68362581 │\n",
              "│          ┆           ┆            ┆           ┆   ┆ PM       ┆           ┆           ┆ 6)        │\n",
              "└──────────┴───────────┴────────────┴───────────┴───┴──────────┴───────────┴───────────┴───────────┘"
            ],
            "text/html": [
              "<div><style>\n",
              ".dataframe > thead > tr > th,\n",
              ".dataframe > tbody > tr > td {\n",
              "  text-align: right;\n",
              "}\n",
              "</style>\n",
              "<small>shape: (215551, 22)</small><table border=\"1\" class=\"dataframe\"><thead><tr><th>ID</th><th>Case Number</th><th>Date</th><th>Block</th><th>IUCR</th><th>Primary Type</th><th>Description</th><th>Location Description</th><th>Arrest</th><th>Domestic</th><th>Beat</th><th>District</th><th>Ward</th><th>Community Area</th><th>FBI Code</th><th>X Coordinate</th><th>Y Coordinate</th><th>Year</th><th>Updated On</th><th>Latitude</th><th>Longitude</th><th>Location</th></tr><tr><td>i64</td><td>str</td><td>str</td><td>str</td><td>str</td><td>str</td><td>str</td><td>str</td><td>bool</td><td>bool</td><td>i64</td><td>i64</td><td>i64</td><td>i64</td><td>str</td><td>i64</td><td>i64</td><td>i64</td><td>str</td><td>f64</td><td>f64</td><td>str</td></tr></thead><tbody><tr><td>12757446</td><td>&quot;JF313117&quot;</td><td>&quot;07/08/2022 10:…</td><td>&quot;087XX S WINCHE…</td><td>&quot;0820&quot;</td><td>&quot;THEFT&quot;</td><td>&quot;$500 AND UNDER…</td><td>&quot;RESIDENCE&quot;</td><td>false</td><td>true</td><td>2221</td><td>22</td><td>21</td><td>71</td><td>&quot;06&quot;</td><td>1165137</td><td>1846655</td><td>2022</td><td>&quot;11/12/2022 03:…</td><td>41.734817</td><td>-87.670596</td><td>&quot;(41.734817155,…</td></tr><tr><td>12755229</td><td>&quot;JF310109&quot;</td><td>&quot;07/08/2022 03:…</td><td>&quot;056XX N SPAULD…</td><td>&quot;1154&quot;</td><td>&quot;DECEPTIVE PRAC…</td><td>&quot;FINANCIAL IDEN…</td><td>null</td><td>false</td><td>false</td><td>1711</td><td>17</td><td>39</td><td>13</td><td>&quot;11&quot;</td><td>1153364</td><td>1937188</td><td>2022</td><td>&quot;11/12/2022 03:…</td><td>41.983491</td><td>-87.711324</td><td>&quot;(41.983490742,…</td></tr><tr><td>12763369</td><td>&quot;JF320208&quot;</td><td>&quot;07/16/2022 10:…</td><td>&quot;038XX N SHEFFI…</td><td>&quot;0330&quot;</td><td>&quot;ROBBERY&quot;</td><td>&quot;AGGRAVATED&quot;</td><td>&quot;SIDEWALK&quot;</td><td>true</td><td>false</td><td>1923</td><td>19</td><td>46</td><td>6</td><td>&quot;03&quot;</td><td>1168917</td><td>1925693</td><td>2022</td><td>&quot;11/12/2022 03:…</td><td>41.951624</td><td>-87.654458</td><td>&quot;(41.951623924,…</td></tr><tr><td>12766036</td><td>&quot;JF323691&quot;</td><td>&quot;07/19/2022 04:…</td><td>&quot;113XX S PARNEL…</td><td>&quot;1792&quot;</td><td>&quot;KIDNAPPING&quot;</td><td>&quot;CHILD ABDUCTIO…</td><td>&quot;SIDEWALK&quot;</td><td>false</td><td>false</td><td>2233</td><td>22</td><td>34</td><td>49</td><td>&quot;26&quot;</td><td>1174663</td><td>1829726</td><td>2022</td><td>&quot;11/12/2022 03:…</td><td>41.688155</td><td>-87.636199</td><td>&quot;(41.688154968,…</td></tr><tr><td>12758668</td><td>&quot;JF314314&quot;</td><td>&quot;07/12/2022 06:…</td><td>&quot;044XX W WALTON…</td><td>&quot;0610&quot;</td><td>&quot;BURGLARY&quot;</td><td>&quot;FORCIBLE ENTRY…</td><td>&quot;RESIDENCE&quot;</td><td>false</td><td>true</td><td>1111</td><td>11</td><td>37</td><td>23</td><td>&quot;05&quot;</td><td>1146679</td><td>1905959</td><td>2022</td><td>&quot;11/12/2022 03:…</td><td>41.897926</td><td>-87.73671</td><td>&quot;(41.897926219,…</td></tr><tr><td>12765741</td><td>&quot;JF323255&quot;</td><td>&quot;06/27/2022 09:…</td><td>&quot;002XX S LAVERG…</td><td>&quot;1320&quot;</td><td>&quot;CRIMINAL DAMAG…</td><td>&quot;TO VEHICLE&quot;</td><td>&quot;RESIDENCE&quot;</td><td>false</td><td>false</td><td>1533</td><td>15</td><td>28</td><td>25</td><td>&quot;14&quot;</td><td>1143292</td><td>1898696</td><td>2022</td><td>&quot;11/12/2022 03:…</td><td>41.87806</td><td>-87.749332</td><td>&quot;(41.878059641,…</td></tr><tr><td>12759104</td><td>&quot;JF315164&quot;</td><td>&quot;07/12/2022 01:…</td><td>&quot;012XX N ARTESI…</td><td>&quot;0820&quot;</td><td>&quot;THEFT&quot;</td><td>&quot;$500 AND UNDER…</td><td>&quot;STREET&quot;</td><td>false</td><td>false</td><td>1423</td><td>14</td><td>26</td><td>24</td><td>&quot;06&quot;</td><td>1159848</td><td>1908228</td><td>2022</td><td>&quot;11/12/2022 03:…</td><td>41.903891</td><td>-87.688279</td><td>&quot;(41.903891052,…</td></tr><tr><td>12756232</td><td>&quot;JF311569&quot;</td><td>&quot;07/09/2022 09:…</td><td>&quot;020XX W NORTH …</td><td>&quot;0460&quot;</td><td>&quot;BATTERY&quot;</td><td>&quot;SIMPLE&quot;</td><td>&quot;HOTEL / MOTEL&quot;</td><td>true</td><td>false</td><td>1434</td><td>14</td><td>2</td><td>24</td><td>&quot;08B&quot;</td><td>1162488</td><td>1910644</td><td>2022</td><td>&quot;11/12/2022 03:…</td><td>41.910466</td><td>-87.678514</td><td>&quot;(41.910465849,…</td></tr><tr><td>12761035</td><td>&quot;JF317440&quot;</td><td>&quot;07/13/2022 07:…</td><td>&quot;029XX N SACRAM…</td><td>&quot;0917&quot;</td><td>&quot;MOTOR VEHICLE …</td><td>&quot;CYCLE, SCOOTER…</td><td>&quot;STREET&quot;</td><td>false</td><td>false</td><td>1411</td><td>14</td><td>33</td><td>21</td><td>&quot;07&quot;</td><td>1155869</td><td>1919370</td><td>2022</td><td>&quot;11/12/2022 03:…</td><td>41.934547</td><td>-87.702594</td><td>&quot;(41.93454677, …</td></tr><tr><td>12757374</td><td>&quot;JF313010&quot;</td><td>&quot;07/01/2022 09:…</td><td>&quot;043XX S PACKER…</td><td>&quot;1153&quot;</td><td>&quot;DECEPTIVE PRAC…</td><td>&quot;FINANCIAL IDEN…</td><td>&quot;OTHER COMMERCI…</td><td>false</td><td>false</td><td>924</td><td>9</td><td>11</td><td>61</td><td>&quot;11&quot;</td><td>1168167</td><td>1876163</td><td>2022</td><td>&quot;11/12/2022 03:…</td><td>41.815726</td><td>-87.658647</td><td>&quot;(41.815726254,…</td></tr><tr><td>12765479</td><td>&quot;JF322734&quot;</td><td>&quot;07/18/2022 11:…</td><td>&quot;021XX W CONGRE…</td><td>&quot;0486&quot;</td><td>&quot;BATTERY&quot;</td><td>&quot;DOMESTIC BATTE…</td><td>&quot;STREET&quot;</td><td>false</td><td>true</td><td>1225</td><td>12</td><td>27</td><td>28</td><td>&quot;08B&quot;</td><td>1162233</td><td>1897705</td><td>2022</td><td>&quot;11/12/2022 03:…</td><td>41.874966</td><td>-87.679813</td><td>&quot;(41.874965525,…</td></tr><tr><td>12758857</td><td>&quot;JF314516&quot;</td><td>&quot;07/11/2022 08:…</td><td>&quot;011XX W FARWEL…</td><td>&quot;0430&quot;</td><td>&quot;BATTERY&quot;</td><td>&quot;AGGRAVATED - O…</td><td>&quot;PARK PROPERTY&quot;</td><td>false</td><td>false</td><td>2431</td><td>24</td><td>49</td><td>1</td><td>&quot;04B&quot;</td><td>1167450</td><td>1945788</td><td>2022</td><td>&quot;11/12/2022 03:…</td><td>42.006797</td><td>-87.65927</td><td>&quot;(42.00679693, …</td></tr><tr><td>&hellip;</td><td>&hellip;</td><td>&hellip;</td><td>&hellip;</td><td>&hellip;</td><td>&hellip;</td><td>&hellip;</td><td>&hellip;</td><td>&hellip;</td><td>&hellip;</td><td>&hellip;</td><td>&hellip;</td><td>&hellip;</td><td>&hellip;</td><td>&hellip;</td><td>&hellip;</td><td>&hellip;</td><td>&hellip;</td><td>&hellip;</td><td>&hellip;</td><td>&hellip;</td><td>&hellip;</td></tr><tr><td>12763743</td><td>&quot;JF320740&quot;</td><td>&quot;07/17/2022 12:…</td><td>&quot;066XX S WESTER…</td><td>&quot;0860&quot;</td><td>&quot;THEFT&quot;</td><td>&quot;RETAIL THEFT&quot;</td><td>&quot;SMALL RETAIL S…</td><td>false</td><td>false</td><td>832</td><td>8</td><td>16</td><td>66</td><td>&quot;06&quot;</td><td>1161518</td><td>1860508</td><td>2022</td><td>&quot;11/12/2022 03:…</td><td>41.772908</td><td>-87.683471</td><td>&quot;(41.772907566,…</td></tr><tr><td>12764921</td><td>&quot;JF322439&quot;</td><td>&quot;07/08/2022 12:…</td><td>&quot;009XX W 31ST S…</td><td>&quot;1242&quot;</td><td>&quot;DECEPTIVE PRAC…</td><td>&quot;COMPUTER FRAUD…</td><td>&quot;OTHER (SPECIFY…</td><td>false</td><td>false</td><td>913</td><td>9</td><td>11</td><td>60</td><td>&quot;11&quot;</td><td>1170484</td><td>1884298</td><td>2022</td><td>&quot;11/12/2022 03:…</td><td>41.837999</td><td>-87.64991</td><td>&quot;(41.837999238,…</td></tr><tr><td>12748153</td><td>&quot;JF301761&quot;</td><td>&quot;07/01/2022 05:…</td><td>&quot;044XX N KASSON…</td><td>&quot;1811&quot;</td><td>&quot;NARCOTICS&quot;</td><td>&quot;POSSESS - CANN…</td><td>&quot;STREET&quot;</td><td>true</td><td>false</td><td>1722</td><td>17</td><td>39</td><td>14</td><td>&quot;18&quot;</td><td>1148374</td><td>1929416</td><td>2022</td><td>&quot;11/12/2022 03:…</td><td>41.962262</td><td>-87.729878</td><td>&quot;(41.962261812,…</td></tr><tr><td>12745535</td><td>&quot;JF298679&quot;</td><td>&quot;06/29/2022 05:…</td><td>&quot;002XX E ILLINO…</td><td>&quot;0820&quot;</td><td>&quot;THEFT&quot;</td><td>&quot;$500 AND UNDER…</td><td>&quot;PARKING LOT / …</td><td>false</td><td>false</td><td>1834</td><td>18</td><td>42</td><td>8</td><td>&quot;06&quot;</td><td>1178196</td><td>1903671</td><td>2022</td><td>&quot;11/12/2022 03:…</td><td>41.890988</td><td>-87.621022</td><td>&quot;(41.890988065,…</td></tr><tr><td>12756421</td><td>&quot;JF311702&quot;</td><td>&quot;07/09/2022 11:…</td><td>&quot;071XX S YALE A…</td><td>&quot;0486&quot;</td><td>&quot;BATTERY&quot;</td><td>&quot;DOMESTIC BATTE…</td><td>&quot;RESIDENCE&quot;</td><td>false</td><td>true</td><td>731</td><td>7</td><td>6</td><td>69</td><td>&quot;08B&quot;</td><td>1175860</td><td>1857623</td><td>2022</td><td>&quot;11/12/2022 03:…</td><td>41.764681</td><td>-87.630983</td><td>&quot;(41.764681384,…</td></tr><tr><td>12755419</td><td>&quot;JF310675&quot;</td><td>&quot;07/09/2022 02:…</td><td>&quot;034XX N HALSTE…</td><td>&quot;0460&quot;</td><td>&quot;BATTERY&quot;</td><td>&quot;SIMPLE&quot;</td><td>&quot;SIDEWALK&quot;</td><td>true</td><td>false</td><td>1924</td><td>19</td><td>44</td><td>6</td><td>&quot;08B&quot;</td><td>1170308</td><td>1923273</td><td>2022</td><td>&quot;11/12/2022 03:…</td><td>41.944953</td><td>-87.649416</td><td>&quot;(41.944953005,…</td></tr><tr><td>12754184</td><td>&quot;JF308283&quot;</td><td>&quot;06/02/2022 09:…</td><td>&quot;0000X N STATE …</td><td>&quot;0860&quot;</td><td>&quot;THEFT&quot;</td><td>&quot;RETAIL THEFT&quot;</td><td>&quot;DEPARTMENT STO…</td><td>false</td><td>false</td><td>112</td><td>1</td><td>42</td><td>32</td><td>&quot;06&quot;</td><td>1176364</td><td>1900524</td><td>2022</td><td>&quot;11/12/2022 03:…</td><td>41.882394</td><td>-87.627845</td><td>&quot;(41.882394062,…</td></tr><tr><td>12759190</td><td>&quot;JF315350&quot;</td><td>&quot;07/09/2022 07:…</td><td>&quot;098XX S CALHOU…</td><td>&quot;0820&quot;</td><td>&quot;THEFT&quot;</td><td>&quot;$500 AND UNDER…</td><td>&quot;RESIDENCE&quot;</td><td>false</td><td>false</td><td>431</td><td>4</td><td>10</td><td>51</td><td>&quot;06&quot;</td><td>1194763</td><td>1840111</td><td>2022</td><td>&quot;11/12/2022 03:…</td><td>41.716183</td><td>-87.562275</td><td>&quot;(41.71618255, …</td></tr><tr><td>12765045</td><td>&quot;JF321506&quot;</td><td>&quot;07/08/2022 02:…</td><td>&quot;006XX S MICHIG…</td><td>&quot;0810&quot;</td><td>&quot;THEFT&quot;</td><td>&quot;OVER $500&quot;</td><td>&quot;HOTEL / MOTEL&quot;</td><td>false</td><td>false</td><td>123</td><td>1</td><td>42</td><td>32</td><td>&quot;06&quot;</td><td>1177377</td><td>1897431</td><td>2022</td><td>&quot;11/12/2022 03:…</td><td>41.873884</td><td>-87.624219</td><td>&quot;(41.873883785,…</td></tr><tr><td>12742026</td><td>&quot;JF294494&quot;</td><td>&quot;06/24/2022 03:…</td><td>&quot;075XX N CLARK …</td><td>&quot;0860&quot;</td><td>&quot;THEFT&quot;</td><td>&quot;RETAIL THEFT&quot;</td><td>&quot;DEPARTMENT STO…</td><td>false</td><td>false</td><td>2422</td><td>24</td><td>49</td><td>1</td><td>&quot;06&quot;</td><td>1162907</td><td>1949949</td><td>2022</td><td>&quot;11/12/2022 03:…</td><td>42.018312</td><td>-87.675867</td><td>&quot;(42.018311737,…</td></tr><tr><td>12757420</td><td>&quot;JF313061&quot;</td><td>&quot;07/01/2022 12:…</td><td>&quot;001XX N MAY ST…</td><td>&quot;0281&quot;</td><td>&quot;CRIMINAL SEXUA…</td><td>&quot;NON-AGGRAVATED…</td><td>&quot;HOTEL / MOTEL&quot;</td><td>false</td><td>false</td><td>1224</td><td>12</td><td>27</td><td>28</td><td>&quot;02&quot;</td><td>1168809</td><td>1900813</td><td>2022</td><td>&quot;11/12/2022 03:…</td><td>41.883354</td><td>-87.655578</td><td>&quot;(41.883354174,…</td></tr><tr><td>12760994</td><td>&quot;JF317539&quot;</td><td>&quot;07/14/2022 02:…</td><td>&quot;063XX S WESTER…</td><td>&quot;0460&quot;</td><td>&quot;BATTERY&quot;</td><td>&quot;SIMPLE&quot;</td><td>&quot;PARKING LOT / …</td><td>false</td><td>false</td><td>825</td><td>8</td><td>16</td><td>66</td><td>&quot;08B&quot;</td><td>1161460</td><td>1862589</td><td>2022</td><td>&quot;11/12/2022 03:…</td><td>41.778619</td><td>-87.683626</td><td>&quot;(41.778619322,…</td></tr></tbody></table></div>"
            ]
          },
          "metadata": {},
          "execution_count": 14
        }
      ]
    },
    {
      "cell_type": "code",
      "source": [
        "import pandas as pd\n",
        "\n",
        "# Create a sample DataFrame with 1,000 rows\n",
        "df = pd.DataFrame({'col1': range(1000), 'col2': ['abc'] * 1000})\n",
        "\n",
        "# Get the total size of the DataFrame in memory (in bytes)\n",
        "total_size = df.memory_usage(deep=True).sum()\n",
        "\n",
        "# Calculate the average memory usage per row (in bytes)\n",
        "row_size = total_size / len(df)\n",
        "\n",
        "# Calculate the memory usage for 1 million rows (in bytes)\n",
        "million_rows_size = row_size * 1000000\n",
        "\n",
        "print(f\"Average memory usage per row: {row_size:.2f} bytes\")\n",
        "print(f\"Memory usage for 1 million rows: {million_rows_size:.2f} bytes\")\n"
      ],
      "metadata": {
        "colab": {
          "base_uri": "https://localhost:8080/"
        },
        "id": "tKpYJ6kLVspw",
        "outputId": "fc354d36-91d4-4210-c885-6df765008d52"
      },
      "execution_count": 15,
      "outputs": [
        {
          "output_type": "stream",
          "name": "stdout",
          "text": [
            "Average memory usage per row: 68.13 bytes\n",
            "Memory usage for 1 million rows: 68128000.00 bytes\n"
          ]
        }
      ]
    }
  ]
}