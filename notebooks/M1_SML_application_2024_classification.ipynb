{
  "nbformat": 4,
  "nbformat_minor": 0,
  "metadata": {
    "colab": {
      "provenance": []
    },
    "kernelspec": {
      "name": "python3",
      "display_name": "Python 3"
    },
    "language_info": {
      "name": "python"
    }
  },
  "cells": [
    {
      "cell_type": "markdown",
      "metadata": {
        "id": "E-RCcRQUZAoZ"
      },
      "source": [
        "# Introduction to Supervised Machine Leearning (SML)\n",
        "\n",
        "Welcome to this introduction to machine learning (ML). In this session we cover the following topics\n",
        "1. Generalizating and valididating from ML models.\n",
        "2. The Bias-Variance Trade-Off\n",
        "3. Out-of-sample testing and cross-validation workflows\n",
        "4. Implementing Ml workflows in the Python (Sklearn) ecosystem."
      ]
    },
    {
      "cell_type": "code",
      "metadata": {
        "id": "MdCF5_Pz6EJO"
      },
      "source": [
        "# loading essential libraries\n",
        "\n",
        "import numpy as np\n",
        "import pandas as pd\n",
        "import seaborn as sns\n",
        "import statsmodels.api as sm\n",
        "\n",
        "sns.set(style=\"darkgrid\", color_codes=True)"
      ],
      "execution_count": null,
      "outputs": []
    },
    {
      "cell_type": "markdown",
      "source": [
        "# ML Case 2 (Classification, tabular data): Penguins"
      ],
      "metadata": {
        "id": "zIZk06g7nf2G"
      }
    },
    {
      "cell_type": "markdown",
      "source": [
        "## Data Description"
      ],
      "metadata": {
        "id": "6mATNPsV-PcG"
      }
    },
    {
      "cell_type": "code",
      "metadata": {
        "id": "e3CbVUBfUFxE"
      },
      "source": [
        "penguins = pd.read_csv(\"https://github.com/allisonhorst/palmerpenguins/raw/5b5891f01b52ae26ad8cb9755ec93672f49328a8/data/penguins_size.csv\")"
      ],
      "execution_count": null,
      "outputs": []
    },
    {
      "cell_type": "code",
      "metadata": {
        "id": "2we46_VnUKZ3"
      },
      "source": [
        "penguins.head()"
      ],
      "execution_count": null,
      "outputs": []
    },
    {
      "cell_type": "markdown",
      "source": [
        "## Preprocessing"
      ],
      "metadata": {
        "id": "r3fpGJKC-Y8q"
      }
    },
    {
      "cell_type": "code",
      "metadata": {
        "id": "-0z13tb4UNyL"
      },
      "source": [
        "penguins.dropna(inplace=True)"
      ],
      "execution_count": null,
      "outputs": []
    },
    {
      "cell_type": "code",
      "metadata": {
        "id": "--kgIY8KUXhd"
      },
      "source": [
        "from sklearn.preprocessing import LabelEncoder\n",
        "from sklearn.preprocessing import StandardScaler"
      ],
      "execution_count": null,
      "outputs": []
    },
    {
      "cell_type": "code",
      "source": [
        "from sklearn.metrics import confusion_matrix\n",
        "from sklearn.metrics import classification_report"
      ],
      "metadata": {
        "id": "uaHUeg17n4jB"
      },
      "execution_count": null,
      "outputs": []
    },
    {
      "cell_type": "code",
      "source": [
        "# Import the confusion matrix plotter module\n",
        "from mlxtend.plotting import plot_confusion_matrix"
      ],
      "metadata": {
        "id": "Q4sY0nMYn58E"
      },
      "execution_count": null,
      "outputs": []
    },
    {
      "cell_type": "code",
      "metadata": {
        "id": "-_9V1hkMUx9D"
      },
      "source": [
        "X = penguins.iloc[:,2:6]"
      ],
      "execution_count": null,
      "outputs": []
    },
    {
      "cell_type": "code",
      "metadata": {
        "id": "QOh2FvGuUsUy"
      },
      "source": [
        "scaler = StandardScaler()\n",
        "X = scaler.fit_transform(X)"
      ],
      "execution_count": null,
      "outputs": []
    },
    {
      "cell_type": "code",
      "metadata": {
        "id": "IN33zcYOU72t"
      },
      "source": [
        "## This is new: We encode a categorical variable.\n",
        "y = penguins.iloc[:, 0]\n",
        "labelencoder_y = LabelEncoder()\n",
        "y = labelencoder_y.fit_transform(y)\n"
      ],
      "execution_count": null,
      "outputs": []
    },
    {
      "cell_type": "markdown",
      "metadata": {
        "id": "Ftkvl4zri0v1"
      },
      "source": [
        "Let's split the data and fit a simple logistic model"
      ]
    },
    {
      "cell_type": "code",
      "metadata": {
        "id": "f6xpLOG9Va49"
      },
      "source": [
        "from sklearn.model_selection import train_test_split\n",
        "X_train, X_test, y_train, y_test = train_test_split(X, y, test_size = 0.2, random_state = 21)"
      ],
      "execution_count": null,
      "outputs": []
    },
    {
      "cell_type": "markdown",
      "source": [
        "## Fitting SML models"
      ],
      "metadata": {
        "id": "OiVt3yKV-l82"
      }
    },
    {
      "cell_type": "code",
      "metadata": {
        "id": "ARl3T8WHVfKf"
      },
      "source": [
        "from sklearn.linear_model import LogisticRegression\n",
        "model = LogisticRegression(multi_class=\"ovr\") # since we have 3 classes\n",
        "model.fit(X_train, y_train)"
      ],
      "execution_count": null,
      "outputs": []
    },
    {
      "cell_type": "code",
      "metadata": {
        "id": "j_462ugrlmLy"
      },
      "source": [
        "model.score(X_train, y_train)"
      ],
      "execution_count": null,
      "outputs": []
    },
    {
      "cell_type": "markdown",
      "metadata": {
        "id": "e3faVwdUi-7z"
      },
      "source": [
        "We can use the LabelEncoder to obtain the initial labels of the penguins to see how well the model performed"
      ]
    },
    {
      "cell_type": "code",
      "metadata": {
        "id": "Y9B1LuOGVj6B"
      },
      "source": [
        "true_penguins = labelencoder_y.inverse_transform(y_train)\n",
        "\n",
        "predicted_penguins = labelencoder_y.inverse_transform(model.predict(X_train))"
      ],
      "execution_count": null,
      "outputs": []
    },
    {
      "cell_type": "code",
      "metadata": {
        "id": "PZw49PWAVtPW"
      },
      "source": [
        "df = pd.DataFrame({'true_penguins': true_penguins, 'predicted_penguins': predicted_penguins})\n",
        "\n",
        "pd.crosstab(df.true_penguins, df.predicted_penguins)"
      ],
      "execution_count": null,
      "outputs": []
    },
    {
      "cell_type": "code",
      "metadata": {
        "id": "H1NTBCJ3V250"
      },
      "source": [
        "print(classification_report(true_penguins,predicted_penguins, labels=labelencoder_y.classes_))"
      ],
      "execution_count": null,
      "outputs": []
    },
    {
      "cell_type": "markdown",
      "metadata": {
        "id": "YuFweZGojjQa"
      },
      "source": [
        "In this case it is probably silly but this is how easy we can switch to a **non-sklearn algorithm**"
      ]
    },
    {
      "cell_type": "code",
      "metadata": {
        "id": "tKESSwZmj7JR"
      },
      "source": [
        "# Let's use an advanded classifier algorithm\n",
        "from xgboost import XGBClassifier"
      ],
      "execution_count": null,
      "outputs": []
    },
    {
      "cell_type": "code",
      "metadata": {
        "id": "0R1D8fwIkltC"
      },
      "source": [
        "# fit model on training data\n",
        "model = XGBClassifier()\n",
        "model.fit(X_train, y_train)"
      ],
      "execution_count": null,
      "outputs": []
    },
    {
      "cell_type": "code",
      "metadata": {
        "id": "EinGhGbdk683"
      },
      "source": [
        "true_penguins = labelencoder_y.inverse_transform(y_train)\n",
        "\n",
        "predicted_penguins = labelencoder_y.inverse_transform(model.predict(X_train))\n",
        "\n",
        "print(classification_report(true_penguins,predicted_penguins, labels=labelencoder_y.classes_))"
      ],
      "execution_count": null,
      "outputs": []
    },
    {
      "cell_type": "code",
      "metadata": {
        "id": "rPRX1TFQsQOr"
      },
      "source": [
        "df = pd.DataFrame({'true_penguins': true_penguins, 'predicted_penguins': predicted_penguins})\n",
        "\n",
        "pd.crosstab(df.true_penguins, df.predicted_penguins)"
      ],
      "execution_count": null,
      "outputs": []
    },
    {
      "cell_type": "code",
      "metadata": {
        "id": "UooRvevPlc20"
      },
      "source": [
        "model.score(X_train, y_train)"
      ],
      "execution_count": null,
      "outputs": []
    },
    {
      "cell_type": "code",
      "source": [
        "# Final eval\n",
        "model.score(X_test, y_test)"
      ],
      "metadata": {
        "id": "9QGZ560KoL5_"
      },
      "execution_count": null,
      "outputs": []
    },
    {
      "cell_type": "code",
      "source": [
        "true_penguins = labelencoder_y.inverse_transform(y_test)\n",
        "predicted_penguins = labelencoder_y.inverse_transform(model.predict(X_test))\n",
        "print(classification_report(true_penguins,predicted_penguins, labels=labelencoder_y.classes_))"
      ],
      "metadata": {
        "id": "2mlhSCxEohDg"
      },
      "execution_count": null,
      "outputs": []
    },
    {
      "cell_type": "code",
      "source": [
        "df = pd.DataFrame({'true_penguins': true_penguins, 'predicted_penguins': predicted_penguins})\n",
        "pd.crosstab(df.true_penguins, df.predicted_penguins)"
      ],
      "metadata": {
        "id": "lvTx6oltoqrb"
      },
      "execution_count": null,
      "outputs": []
    },
    {
      "cell_type": "markdown",
      "source": [
        "## Bonus: Regression problem"
      ],
      "metadata": {
        "id": "CtYL4HPr-8Oy"
      }
    },
    {
      "cell_type": "markdown",
      "metadata": {
        "id": "A4qdIIu8jVdW"
      },
      "source": [
        "Now, let's return to a quick example of a regression using the penguin data"
      ]
    },
    {
      "cell_type": "code",
      "metadata": {
        "id": "F12fiU7jXp1-"
      },
      "source": [
        "penguins.head()"
      ],
      "execution_count": null,
      "outputs": []
    },
    {
      "cell_type": "code",
      "metadata": {
        "id": "ESg_eU81eSWw"
      },
      "source": [
        "y = penguins['culmen_length_mm']"
      ],
      "execution_count": null,
      "outputs": []
    },
    {
      "cell_type": "code",
      "metadata": {
        "id": "VLbf04myeky2"
      },
      "source": [
        "X_dum = penguins.species_short.str.get_dummies()"
      ],
      "execution_count": null,
      "outputs": []
    },
    {
      "cell_type": "code",
      "metadata": {
        "id": "ZC_e206Uelz7"
      },
      "source": [
        "X = pd.concat([penguins.iloc[:,4:6], X_dum], axis=1)"
      ],
      "execution_count": null,
      "outputs": []
    },
    {
      "cell_type": "code",
      "metadata": {
        "id": "haEsJGV4e2W5"
      },
      "source": [
        "X.iloc[:,0:2] = StandardScaler().fit_transform(X.iloc[:,0:2])"
      ],
      "execution_count": null,
      "outputs": []
    },
    {
      "cell_type": "code",
      "metadata": {
        "id": "FFIC3TKfhm34"
      },
      "source": [
        "from sklearn.model_selection import train_test_split\n",
        "X_train, X_test, y_train, y_test = train_test_split(X, y, test_size = 0.2, random_state = 21)"
      ],
      "execution_count": null,
      "outputs": []
    },
    {
      "cell_type": "code",
      "metadata": {
        "id": "ckc31ayamE7l"
      },
      "source": [
        "from xgboost import XGBRegressor"
      ],
      "execution_count": null,
      "outputs": []
    },
    {
      "cell_type": "code",
      "source": [
        "from sklearn.linear_model import LinearRegression, ElasticNet\n",
        "from sklearn.ensemble import RandomForestRegressor"
      ],
      "metadata": {
        "id": "iBXF4LjioPL2"
      },
      "execution_count": null,
      "outputs": []
    },
    {
      "cell_type": "code",
      "metadata": {
        "id": "quCFcW5Yhqzg"
      },
      "source": [
        "model_ols = LinearRegression()\n",
        "model_rf = RandomForestRegressor()\n",
        "model_xgb = XGBRegressor()"
      ],
      "execution_count": null,
      "outputs": []
    },
    {
      "cell_type": "code",
      "metadata": {
        "id": "pxX1TOdrh1iy"
      },
      "source": [
        "model_ols.fit(X_train, y_train)"
      ],
      "execution_count": null,
      "outputs": []
    },
    {
      "cell_type": "code",
      "metadata": {
        "id": "yV8NVwYdh79J"
      },
      "source": [
        "model_rf.fit(X_train, y_train)"
      ],
      "execution_count": null,
      "outputs": []
    },
    {
      "cell_type": "code",
      "metadata": {
        "id": "KXJu4A3nmLZn"
      },
      "source": [
        "model_xgb.fit(X_train, y_train)"
      ],
      "execution_count": null,
      "outputs": []
    },
    {
      "cell_type": "code",
      "metadata": {
        "id": "IrioBRm7iBH8"
      },
      "source": [
        "model_ols.score(X_test, y_test)"
      ],
      "execution_count": null,
      "outputs": []
    },
    {
      "cell_type": "code",
      "metadata": {
        "id": "rZYcC-rniIE8"
      },
      "source": [
        "model_rf.score(X_test, y_test)"
      ],
      "execution_count": null,
      "outputs": []
    },
    {
      "cell_type": "code",
      "metadata": {
        "id": "4MZm6rmamb7x"
      },
      "source": [
        "model_xgb.score(X_test, y_test)"
      ],
      "execution_count": null,
      "outputs": []
    },
    {
      "cell_type": "code",
      "metadata": {
        "id": "BvVhEtpAiMTa"
      },
      "source": [
        "model_ols.score(X_train, y_train)"
      ],
      "execution_count": null,
      "outputs": []
    },
    {
      "cell_type": "code",
      "metadata": {
        "id": "3JD9MLv5iY2a"
      },
      "source": [
        "model_rf.score(X_train, y_train)"
      ],
      "execution_count": null,
      "outputs": []
    },
    {
      "cell_type": "code",
      "metadata": {
        "id": "e5EonFxZmqGr"
      },
      "source": [
        "model_xgb.score(X_train, y_train)"
      ],
      "execution_count": null,
      "outputs": []
    },
    {
      "cell_type": "code",
      "metadata": {
        "id": "Ltmwj_hdioKw"
      },
      "source": [
        "y_pred_rf = model_rf.predict(X_test)"
      ],
      "execution_count": null,
      "outputs": []
    },
    {
      "cell_type": "code",
      "metadata": {
        "id": "ezFFY36xisS3"
      },
      "source": [
        "y_pred_ols = model_ols.predict(X_test)"
      ],
      "execution_count": null,
      "outputs": []
    },
    {
      "cell_type": "code",
      "metadata": {
        "id": "6_NzeEnFmvNr"
      },
      "source": [
        "y_pred_xgb = model_xgb.predict(X_test)"
      ],
      "execution_count": null,
      "outputs": []
    },
    {
      "cell_type": "code",
      "metadata": {
        "id": "H_Joj8o7ieaZ"
      },
      "source": [
        "sns.scatterplot(x=y_test, y=y_pred_ols)"
      ],
      "execution_count": null,
      "outputs": []
    },
    {
      "cell_type": "code",
      "metadata": {
        "id": "rWev933qi0R6"
      },
      "source": [
        "sns.scatterplot(x=y_test, y=y_pred_rf)"
      ],
      "execution_count": null,
      "outputs": []
    },
    {
      "cell_type": "code",
      "metadata": {
        "id": "_XdjRe5Smzs9"
      },
      "source": [
        "sns.scatterplot(x=y_test, y=y_pred_xgb)"
      ],
      "execution_count": null,
      "outputs": []
    }
  ]
}