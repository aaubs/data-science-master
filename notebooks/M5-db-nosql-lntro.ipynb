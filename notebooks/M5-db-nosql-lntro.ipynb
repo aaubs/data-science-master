{
  "cells": [
    {
      "cell_type": "markdown",
      "metadata": {
        "id": "view-in-github",
        "colab_type": "text"
      },
      "source": [
        "<a href=\"https://colab.research.google.com/github/aaubs/ds-master/blob/main/notebooks/M5-db-nosql-lntro.ipynb\" target=\"_parent\"><img src=\"https://colab.research.google.com/assets/colab-badge.svg\" alt=\"Open In Colab\"/></a>"
      ]
    },
    {
      "cell_type": "markdown",
      "source": [
        "# Introduction to Unstructured (NoSQL) Databases"
      ],
      "metadata": {
        "id": "5xZxb-JJslUr"
      }
    },
    {
      "cell_type": "markdown",
      "source": [
        "In this tutorial, we'll introduce NoSQL databases, specifically using the TinyDB library in Python. TinyDB is a lightweight, document-oriented NoSQL database, perfect for beginners to learn the basics of NoSQL."
      ],
      "metadata": {
        "id": "n9YUJ0pdPJ5o"
      }
    },
    {
      "cell_type": "code",
      "source": [
        "!pip install tinydb"
      ],
      "metadata": {
        "colab": {
          "base_uri": "https://localhost:8080/"
        },
        "id": "P-ODXOVcPjwP",
        "outputId": "491df347-28da-407a-ffd9-fb5ad03c1dbe"
      },
      "execution_count": 2,
      "outputs": [
        {
          "output_type": "stream",
          "name": "stdout",
          "text": [
            "Looking in indexes: https://pypi.org/simple, https://us-python.pkg.dev/colab-wheels/public/simple/\n",
            "Collecting tinydb\n",
            "  Downloading tinydb-4.7.1-py3-none-any.whl (24 kB)\n",
            "Installing collected packages: tinydb\n",
            "Successfully installed tinydb-4.7.1\n"
          ]
        }
      ]
    },
    {
      "cell_type": "markdown",
      "source": [
        "## First example"
      ],
      "metadata": {
        "id": "GVWo0bk6Pspb"
      }
    },
    {
      "cell_type": "code",
      "source": [
        "import pandas as pd\n",
        "from tinydb import TinyDB, Query"
      ],
      "metadata": {
        "id": "G0YIskeYPubO"
      },
      "execution_count": 5,
      "outputs": []
    },
    {
      "cell_type": "code",
      "source": [
        "# Initialize a new TinyDB instance\n",
        "db = TinyDB('my_database.json')"
      ],
      "metadata": {
        "id": "TGCeW5P-P2-S"
      },
      "execution_count": 6,
      "outputs": []
    },
    {
      "cell_type": "markdown",
      "source": [
        "**Populating the database the database:** Lets get some data in first:"
      ],
      "metadata": {
        "id": "_GKZZc0JQtyF"
      }
    },
    {
      "cell_type": "code",
      "source": [
        "# PÅopulating database with some data\n",
        "students = [\n",
        "    {'name': 'Mette', 'age': 26, 'major': 'Data Science'},\n",
        "    {'name': 'Jeppe', 'age': 22, 'major': 'Data Science'},\n",
        "    {'name': 'John', 'age': 23, 'major': 'Computer Science'},\n",
        "    {'name': 'David', 'age': 24, 'major': 'Data Science'},\n",
        "    {'name': 'Pernille', 'age': 25, 'major': 'Economics'},\n",
        "    {'name': 'Alexandra', 'age': 21, 'major': 'Economics'},\n",
        "]\n",
        "\n",
        "# Insert the students into the database\n",
        "for student in students:\n",
        "    db.insert(student)"
      ],
      "metadata": {
        "id": "r38gZmfhQC5S"
      },
      "execution_count": 7,
      "outputs": []
    },
    {
      "cell_type": "markdown",
      "source": [
        "**Querying the database:** TinyDB allows us to perform various types of queries on the database. Let's explore some common query operations:"
      ],
      "metadata": {
        "id": "Z6uPOfvtQl0f"
      }
    },
    {
      "cell_type": "code",
      "source": [
        "# Query object to perform queries\n",
        "Student = Query()"
      ],
      "metadata": {
        "id": "H9mLVGtZQ3ge"
      },
      "execution_count": 8,
      "outputs": []
    },
    {
      "cell_type": "code",
      "source": [
        "# Find all students majoring in Data Science\n",
        "data_science_students = db.search(Student.major == 'Data Science')\n",
        "print(\"Data Science students:\", data_science_students)"
      ],
      "metadata": {
        "colab": {
          "base_uri": "https://localhost:8080/"
        },
        "id": "AUNP7OXPRHiq",
        "outputId": "5a9a1776-32cb-4956-eb58-0ae57c3822eb"
      },
      "execution_count": 9,
      "outputs": [
        {
          "output_type": "stream",
          "name": "stdout",
          "text": [
            "Data Science students: [{'name': 'Mette', 'age': 26, 'major': 'Data Science'}, {'name': 'Jeppe', 'age': 22, 'major': 'Data Science'}, {'name': 'David', 'age': 24, 'major': 'Data Science'}]\n"
          ]
        }
      ]
    },
    {
      "cell_type": "code",
      "source": [
        "# Find all students who are 24 years old\n",
        "students_24 = db.search(Student.age == 24)\n",
        "print(\"Students aged 24:\", students_24)"
      ],
      "metadata": {
        "colab": {
          "base_uri": "https://localhost:8080/"
        },
        "id": "7jRNbzowRHo4",
        "outputId": "cdad4e87-bffc-4179-e3fc-8372785a415f"
      },
      "execution_count": 10,
      "outputs": [
        {
          "output_type": "stream",
          "name": "stdout",
          "text": [
            "Students aged 24: [{'name': 'David', 'age': 24, 'major': 'Data Science'}]\n"
          ]
        }
      ]
    },
    {
      "cell_type": "code",
      "source": [
        "# Find all students whose name starts with 'A'\n",
        "students_starting_with_A = db.search(Student.name.matches('^A.*'))\n",
        "print(\"Students whose name starts with 'A':\", students_starting_with_A)"
      ],
      "metadata": {
        "colab": {
          "base_uri": "https://localhost:8080/"
        },
        "id": "fJCFErjwRHvr",
        "outputId": "2a90120f-9d34-4567-a658-c4bd7549681e"
      },
      "execution_count": 11,
      "outputs": [
        {
          "output_type": "stream",
          "name": "stdout",
          "text": [
            "Students whose name starts with 'A': []\n"
          ]
        }
      ]
    },
    {
      "cell_type": "code",
      "source": [
        "# Find all students who are majoring in Data Science and are 22 years old\n",
        "data_science_and_22 = db.search((Student.major == 'Data Science') & (Student.age == 22))\n",
        "print(\"Data Science students aged 22:\", data_science_and_22)"
      ],
      "metadata": {
        "colab": {
          "base_uri": "https://localhost:8080/"
        },
        "id": "2kMaLF7hRH1Y",
        "outputId": "8ac402e2-804b-4c5d-a35f-6b3d6f140052"
      },
      "execution_count": 12,
      "outputs": [
        {
          "output_type": "stream",
          "name": "stdout",
          "text": [
            "Data Science students aged 22: [{'name': 'Jeppe', 'age': 22, 'major': 'Data Science'}]\n"
          ]
        }
      ]
    },
    {
      "cell_type": "markdown",
      "source": [
        "**Updating data in the database:** To update an entry in the database, use the update method."
      ],
      "metadata": {
        "id": "gOZhV9AQRjgV"
      }
    },
    {
      "cell_type": "code",
      "source": [
        "# Update Alexandras age\n",
        "db.update({'age': 23}, Student.name == 'Alexandra')"
      ],
      "metadata": {
        "colab": {
          "base_uri": "https://localhost:8080/"
        },
        "id": "do6TCisQRj7t",
        "outputId": "bda2a305-1078-465d-be12-9873201e4449"
      },
      "execution_count": 13,
      "outputs": [
        {
          "output_type": "execute_result",
          "data": {
            "text/plain": [
              "[]"
            ]
          },
          "metadata": {},
          "execution_count": 13
        }
      ]
    },
    {
      "cell_type": "markdown",
      "source": [
        "**Removing data from the database:** To remove entries from the database, use the remove method. "
      ],
      "metadata": {
        "id": "PdiYcspER_zW"
      }
    },
    {
      "cell_type": "code",
      "source": [
        "# Remove all Business Modelling students\n",
        "db.remove(Student.major == 'Business Modelling')"
      ],
      "metadata": {
        "colab": {
          "base_uri": "https://localhost:8080/"
        },
        "id": "F35PE1WdR_7q",
        "outputId": "217008d8-4581-43b5-f1e3-a8ebfa23de43"
      },
      "execution_count": 14,
      "outputs": [
        {
          "output_type": "execute_result",
          "data": {
            "text/plain": [
              "[]"
            ]
          },
          "metadata": {},
          "execution_count": 14
        }
      ]
    }
  ],
  "metadata": {
    "colab": {
      "provenance": [],
      "include_colab_link": true
    },
    "kernelspec": {
      "display_name": "Python 3",
      "name": "python3"
    }
  },
  "nbformat": 4,
  "nbformat_minor": 0
}