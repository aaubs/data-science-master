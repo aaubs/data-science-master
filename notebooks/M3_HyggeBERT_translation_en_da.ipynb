{
  "nbformat": 4,
  "nbformat_minor": 0,
  "metadata": {
    "colab": {
      "name": "HyggeBERT-translation-en-da.ipynb",
      "provenance": [],
      "mount_file_id": "1G17GHExxVX4Sw5gzz-G2buKJ7fw-0XCR",
      "authorship_tag": "ABX9TyMynKh8sDaent2SiJMYr+N5",
      "include_colab_link": true
    },
    "kernelspec": {
      "name": "python3",
      "display_name": "Python 3"
    },
    "language_info": {
      "name": "python"
    },
    "accelerator": "GPU",
    "gpuClass": "standard"
  },
  "cells": [
    {
      "cell_type": "markdown",
      "metadata": {
        "id": "view-in-github",
        "colab_type": "text"
      },
      "source": [
        "<a href=\"https://colab.research.google.com/github/aaubs/ds-master/blob/main/notebooks/M3_HyggeBERT_translation_en_da.ipynb\" target=\"_parent\"><img src=\"https://colab.research.google.com/assets/colab-badge.svg\" alt=\"Open In Colab\"/></a>"
      ]
    },
    {
      "cell_type": "code",
      "execution_count": null,
      "metadata": {
        "id": "KnZZjiSWhrqm"
      },
      "outputs": [],
      "source": [
        "# Intstalls\n",
        "!pip install simpletransformers sacremoses datasets -q"
      ]
    },
    {
      "cell_type": "code",
      "source": [
        "# Imports\n",
        "\n",
        "import pandas as pd\n",
        "from tqdm import tqdm\n",
        "import logging\n",
        "\n",
        "# datasets library\n",
        "from datasets import load_dataset\n",
        "\n",
        "# transformer models for translation\n",
        "from simpletransformers.seq2seq import Seq2SeqModel, Seq2SeqArgs"
      ],
      "metadata": {
        "id": "lXfhsRZAh9pf"
      },
      "execution_count": null,
      "outputs": []
    },
    {
      "cell_type": "code",
      "source": [
        "# logging settings\n",
        "logging.basicConfig(level=logging.INFO)\n",
        "transformers_logger = logging.getLogger(\"transformers\")\n",
        "transformers_logger.setLevel(logging.WARNING)"
      ],
      "metadata": {
        "id": "sKyyQ2DwiOky"
      },
      "execution_count": null,
      "outputs": []
    },
    {
      "cell_type": "code",
      "source": [
        "# paths for translation file and data and chunk-size for translation\n",
        "path_translate = 'translated.txt'\n",
        "path_data = 'data.json.gz'\n",
        "chunksize = 1000"
      ],
      "metadata": {
        "id": "SXjyiao2j76c"
      },
      "execution_count": null,
      "outputs": []
    },
    {
      "cell_type": "code",
      "source": [
        "# translation model args\n",
        "model_args = Seq2SeqArgs()\n",
        "model_args.num_beams = 10\n",
        "model_args.max_length = 50\n",
        "model_args.use_multiprocessed_decoding = True"
      ],
      "metadata": {
        "id": "-A5OwaBnjcWm"
      },
      "execution_count": null,
      "outputs": []
    },
    {
      "cell_type": "code",
      "source": [
        "# Initialize a Seq2SeqModel for English to Danish translation\n",
        "model = Seq2SeqModel(\n",
        "    encoder_decoder_type=\"marian\",\n",
        "    encoder_decoder_name=\"Helsinki-NLP/opus-mt-en-da\",\n",
        "    tokenizer = \"Helsinki-NLP/opus-mt-en-da\",\n",
        "    args=model_args,\n",
        ")"
      ],
      "metadata": {
        "id": "5r6CNFQ1jfoK"
      },
      "execution_count": null,
      "outputs": []
    },
    {
      "cell_type": "code",
      "source": [
        "# download and prepare dataset via datasets library\n",
        "emotions = load_dataset(\"go_emotions\", \"raw\")"
      ],
      "metadata": {
        "id": "_hO5QMVOjl5M"
      },
      "execution_count": null,
      "outputs": []
    },
    {
      "cell_type": "code",
      "source": [
        "# transform to DF\n",
        "data = emotions['train'].to_pandas()"
      ],
      "metadata": {
        "id": "xEQEedVxtlN2"
      },
      "execution_count": null,
      "outputs": []
    },
    {
      "cell_type": "code",
      "source": [
        "# take sample for quick prototyping\n",
        "data = data.sample(n=1000)"
      ],
      "metadata": {
        "id": "bSHUxSOdkyiU"
      },
      "execution_count": null,
      "outputs": []
    },
    {
      "cell_type": "markdown",
      "source": [
        "Working with Colab I decided to run translation in chunks (no need to restart a 4h job due to disconnect etc.) and append translated lines to a file on disk/google-drive."
      ],
      "metadata": {
        "id": "_rrgh5QoqwgS"
      }
    },
    {
      "cell_type": "code",
      "source": [
        "# handy split function for chunking\n",
        "def split(list_a, chunk_size):\n",
        "\n",
        "  for i in range(0, len(list_a), chunk_size):\n",
        "    yield list_a[i:i + chunk_size]"
      ],
      "metadata": {
        "id": "d2y36vVeuLmj"
      },
      "execution_count": null,
      "outputs": []
    },
    {
      "cell_type": "code",
      "source": [
        "# create splits (considering the last one won't be N)\n",
        "text_gen = split(data.iloc[:,0].to_list(), chunksize)"
      ],
      "metadata": {
        "id": "RpgwT4N0uWXl"
      },
      "execution_count": null,
      "outputs": []
    },
    {
      "cell_type": "code",
      "source": [
        "# progress bar\n",
        "pbar = tqdm(total=len(data.iloc[:,0].to_list()))"
      ],
      "metadata": {
        "id": "RXUSrp_wldN3"
      },
      "execution_count": null,
      "outputs": []
    },
    {
      "cell_type": "code",
      "source": [
        "# loop creates chunks of N sentences, translates and appends to a textfile\n",
        "while text_gen:\n",
        "  try:\n",
        "    chunk = next(text_gen)\n",
        "    f = open(path_translate,'a')\n",
        "    translated_chunk = model.predict(chunk)\n",
        "    f.write('\\n'.join(translated_chunk) + '\\n')\n",
        "    f.close()\n",
        "    pbar.update(len(chunk))\n",
        "  except StopIteration:\n",
        "    pbar.close()\n",
        "    break"
      ],
      "metadata": {
        "id": "tIStIU1Hm49s"
      },
      "execution_count": null,
      "outputs": []
    },
    {
      "cell_type": "code",
      "source": [
        "# open up the text file again\n",
        "translated_f = open(path_translate,'r').readlines()"
      ],
      "metadata": {
        "id": "WHDgNir0nNoE"
      },
      "execution_count": null,
      "outputs": []
    },
    {
      "cell_type": "code",
      "source": [
        "# clean up and add as column to the initial file\n",
        "dk_text = [line.strip() for line in translated_f]\n",
        "data['text_dk'] = dk_text"
      ],
      "metadata": {
        "id": "r1QvhHlLnuYm"
      },
      "execution_count": null,
      "outputs": []
    },
    {
      "cell_type": "code",
      "source": [
        "# write DF with translation to disk\n",
        "data.to_json(path_data)"
      ],
      "metadata": {
        "id": "TLbX56rBo7ti"
      },
      "execution_count": null,
      "outputs": []
    }
  ]
}