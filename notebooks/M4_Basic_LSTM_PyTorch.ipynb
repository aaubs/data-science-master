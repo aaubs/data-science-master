{
  "nbformat": 4,
  "nbformat_minor": 0,
  "metadata": {
    "colab": {
      "provenance": [],
      "authorship_tag": "ABX9TyN+avn5ajhIET2zfmyxTZwz",
      "include_colab_link": true
    },
    "kernelspec": {
      "name": "python3",
      "display_name": "Python 3"
    },
    "language_info": {
      "name": "python"
    }
  },
  "cells": [
    {
      "cell_type": "markdown",
      "metadata": {
        "id": "view-in-github",
        "colab_type": "text"
      },
      "source": [
        "<a href=\"https://colab.research.google.com/github/aaubs/ds-master/blob/main/notebooks/M4_Basic_LSTM_PyTorch.ipynb\" target=\"_parent\"><img src=\"https://colab.research.google.com/assets/colab-badge.svg\" alt=\"Open In Colab\"/></a>"
      ]
    },
    {
      "cell_type": "markdown",
      "metadata": {
        "id": "igmFSnddIDFD"
      },
      "source": [
        "# LSTM in Pytorch"
      ]
    },
    {
      "cell_type": "code",
      "execution_count": null,
      "metadata": {
        "id": "PiMjnBchIDFH",
        "colab": {
          "base_uri": "https://localhost:8080/"
        },
        "outputId": "e327247b-09ab-44ac-a660-03bf16ac0e6c"
      },
      "outputs": [
        {
          "output_type": "stream",
          "name": "stderr",
          "text": [
            "/usr/local/lib/python3.8/dist-packages/torch/cuda/__init__.py:497: UserWarning: Can't initialize NVML\n",
            "  warnings.warn(\"Can't initialize NVML\")\n"
          ]
        }
      ],
      "source": [
        "#library imports\n",
        "import torch\n",
        "import torch.nn as nn\n",
        "import pandas as pd\n",
        "import numpy as np\n",
        "import re\n",
        "import spacy\n",
        "from collections import Counter\n",
        "from torch.utils.data import Dataset, DataLoader\n",
        "import torch.nn.functional as F\n",
        "import string\n",
        "from torch.nn.utils.rnn import pack_padded_sequence, pad_packed_sequence\n",
        "from sklearn.metrics import mean_squared_error\n",
        "nlp = spacy.load(\"en_core_web_sm\")"
      ]
    },
    {
      "cell_type": "code",
      "source": [
        "import torch\n",
        "import torch.nn as nn\n",
        "import torch.nn.functional as F\n",
        "import pandas as pd\n",
        "import nltk\n",
        "import re\n",
        "nltk.download('stopwords')\n",
        "nltk.download('punkt')\n",
        "from nltk.corpus import stopwords\n",
        "from nltk.tokenize import word_tokenize\n",
        "from tqdm import tqdm\n",
        "from sklearn.metrics import mean_squared_error\n",
        "from torch.utils.data import Dataset, DataLoader"
      ],
      "metadata": {
        "colab": {
          "base_uri": "https://localhost:8080/"
        },
        "id": "v7u4Nb5D0vyg",
        "outputId": "541a4d62-23e0-49dc-b11b-35694d523f2c"
      },
      "execution_count": null,
      "outputs": [
        {
          "output_type": "stream",
          "name": "stderr",
          "text": [
            "[nltk_data] Downloading package stopwords to /root/nltk_data...\n",
            "[nltk_data]   Unzipping corpora/stopwords.zip.\n",
            "[nltk_data] Downloading package punkt to /root/nltk_data...\n",
            "[nltk_data]   Unzipping tokenizers/punkt.zip.\n"
          ]
        }
      ]
    },
    {
      "cell_type": "markdown",
      "metadata": {
        "id": "Yu1G24HBIDFK"
      },
      "source": [
        "## Basic LSTM in Pytorch with random numbers"
      ]
    },
    {
      "cell_type": "code",
      "execution_count": null,
      "metadata": {
        "id": "P-u3T-Y-IDFL"
      },
      "outputs": [],
      "source": [
        "#input\n",
        "x = torch.tensor([[1,2, 12,34, 56,78, 90,80],\n",
        "                 [12,45, 99,67, 6,23, 77,82],\n",
        "                 [3,24, 6,99, 12,56, 21,22]])"
      ]
    },
    {
      "cell_type": "markdown",
      "metadata": {
        "id": "rfd-HYCrIDFL"
      },
      "source": [
        "#### using two different models"
      ]
    },
    {
      "cell_type": "code",
      "execution_count": null,
      "metadata": {
        "id": "HqiPZMwoIDFL"
      },
      "outputs": [],
      "source": [
        "model1 = nn.Embedding(100, 7, padding_idx=0)\n",
        "model2 = nn.LSTM(input_size=7, hidden_size=3, num_layers=1, batch_first=True)"
      ]
    },
    {
      "cell_type": "code",
      "execution_count": null,
      "metadata": {
        "id": "tz5QpsbdIDFM"
      },
      "outputs": [],
      "source": [
        "out1 = model1(x)\n",
        "out2 = model2(out1)"
      ]
    },
    {
      "cell_type": "code",
      "execution_count": null,
      "metadata": {
        "id": "xes6o6QTIDFM",
        "outputId": "864ba925-4a27-4322-e2df-6064f3a08790",
        "colab": {
          "base_uri": "https://localhost:8080/"
        }
      },
      "outputs": [
        {
          "output_type": "stream",
          "name": "stdout",
          "text": [
            "torch.Size([3, 8, 7])\n",
            "tensor([[[ 1.0279, -0.5072,  0.2478, -0.6202,  2.0033,  0.1640, -0.8012],\n",
            "         [-0.3136, -0.0548,  1.5912,  1.4868,  0.2996, -0.7500,  0.0061],\n",
            "         [ 0.6683,  0.8847, -0.4034,  0.9458, -0.2565, -0.6134, -2.3287],\n",
            "         [ 0.2171, -1.4145, -0.7785,  0.8197, -1.6740,  0.6843,  0.8147],\n",
            "         [-0.8618,  0.1090, -2.0859,  0.3951,  0.4770,  1.7297, -1.3735],\n",
            "         [-0.3795, -0.3729, -1.1771,  0.8077, -0.0887,  0.8837,  2.1783],\n",
            "         [ 0.3405, -0.7906,  0.2363, -0.6487, -1.0164,  1.0171, -0.9363],\n",
            "         [ 1.3917,  0.6239,  0.7692,  1.9831,  0.3465,  0.5145,  1.4281]],\n",
            "\n",
            "        [[ 0.6683,  0.8847, -0.4034,  0.9458, -0.2565, -0.6134, -2.3287],\n",
            "         [-0.0522, -1.6644, -0.3441, -1.0254,  0.6189, -0.0996,  0.4633],\n",
            "         [ 0.3129,  1.9830,  0.6658,  1.2399,  0.2724,  0.1949,  0.1003],\n",
            "         [ 0.7731, -0.3001, -0.8024,  1.3366, -0.4056, -0.6406, -1.4317],\n",
            "         [ 1.3162, -1.0460, -2.1511,  1.2025, -0.6545,  0.1758,  1.3846],\n",
            "         [-0.9146, -0.4769,  1.2401, -0.6970,  1.0254, -0.3195,  0.1745],\n",
            "         [-0.4202,  0.4466, -0.6508,  0.0555,  0.5201,  0.6790, -1.3270],\n",
            "         [-0.9465, -0.1922,  0.3323,  0.1073, -0.5210, -1.2539, -0.8438]],\n",
            "\n",
            "        [[ 0.2521, -0.3169,  0.0223,  0.5241,  1.4307, -0.5743,  0.0583],\n",
            "         [ 0.9081, -1.0558, -1.7212,  0.9533, -0.6200,  0.0194, -0.6536],\n",
            "         [ 1.3162, -1.0460, -2.1511,  1.2025, -0.6545,  0.1758,  1.3846],\n",
            "         [ 0.3129,  1.9830,  0.6658,  1.2399,  0.2724,  0.1949,  0.1003],\n",
            "         [ 0.6683,  0.8847, -0.4034,  0.9458, -0.2565, -0.6134, -2.3287],\n",
            "         [-0.8618,  0.1090, -2.0859,  0.3951,  0.4770,  1.7297, -1.3735],\n",
            "         [ 0.6357, -0.5222, -2.0671, -0.0100,  0.5462,  0.2483,  0.8399],\n",
            "         [-2.2851, -0.0839,  0.3600, -0.9627, -0.5409, -0.6938,  0.5030]]],\n",
            "       grad_fn=<EmbeddingBackward0>)\n"
          ]
        }
      ],
      "source": [
        "print(out1.shape)\n",
        "print(out1)"
      ]
    },
    {
      "cell_type": "code",
      "execution_count": null,
      "metadata": {
        "id": "-wD7xYIgIDFM",
        "outputId": "e56b7dde-38d2-4ca2-cd95-b7cf3abedfcc",
        "colab": {
          "base_uri": "https://localhost:8080/"
        }
      },
      "outputs": [
        {
          "output_type": "stream",
          "name": "stdout",
          "text": [
            "tensor([[[-0.2904,  0.1176,  0.0496],\n",
            "         [-0.0468, -0.0074,  0.2192],\n",
            "         [-0.1647,  0.1382, -0.1190]]], grad_fn=<StackBackward0>)\n"
          ]
        }
      ],
      "source": [
        "out, (ht, ct) = model2(out1)\n",
        "print(ht)"
      ]
    },
    {
      "cell_type": "markdown",
      "metadata": {
        "id": "Y05uxwjxIDFN"
      },
      "source": [
        "#### using nn.sequential"
      ]
    },
    {
      "cell_type": "code",
      "execution_count": null,
      "metadata": {
        "id": "YC2AwozjIDFN"
      },
      "outputs": [],
      "source": [
        "model3 = nn.Sequential(nn.Embedding(100, 7, padding_idx=0),\n",
        "                        nn.LSTM(input_size=7, hidden_size=4, num_layers=1, batch_first=True))"
      ]
    },
    {
      "cell_type": "code",
      "execution_count": null,
      "metadata": {
        "id": "MHyabEXzIDFO",
        "outputId": "183a53f4-756e-43ee-b0a4-c1761c2491a5",
        "colab": {
          "base_uri": "https://localhost:8080/"
        }
      },
      "outputs": [
        {
          "output_type": "stream",
          "name": "stdout",
          "text": [
            "torch.Size([3, 8, 4])\n",
            "tensor([[[-0.3192, -0.1810, -0.2269,  0.1146],\n",
            "         [ 0.0510, -0.0829, -0.0988,  0.0404],\n",
            "         [-0.2568, -0.1813, -0.3272, -0.3018],\n",
            "         [-0.0921, -0.0542, -0.2789,  0.0135],\n",
            "         [ 0.1287,  0.0024, -0.1911, -0.0494],\n",
            "         [ 0.2700,  0.0978,  0.2691, -0.2582],\n",
            "         [ 0.2793,  0.1105,  0.0092, -0.2921],\n",
            "         [ 0.5470,  0.1818,  0.5578, -0.5545]],\n",
            "\n",
            "        [[-0.2865, -0.1173, -0.2475, -0.3089],\n",
            "         [ 0.1918, -0.0478,  0.0890, -0.3259],\n",
            "         [ 0.2239, -0.0286, -0.1275, -0.0715],\n",
            "         [ 0.1095,  0.3398,  0.2685, -0.5337],\n",
            "         [ 0.0090,  0.1245,  0.0043, -0.2754],\n",
            "         [ 0.0213,  0.2292,  0.3392, -0.0887],\n",
            "         [ 0.3603,  0.1635,  0.2238, -0.0830],\n",
            "         [ 0.5180,  0.2332,  0.2149, -0.2801]],\n",
            "\n",
            "        [[-0.1414, -0.0557, -0.1811,  0.1257],\n",
            "         [ 0.1435, -0.0436, -0.0952, -0.1092],\n",
            "         [-0.0116, -0.0990, -0.2736, -0.1505],\n",
            "         [ 0.1577, -0.0423, -0.2243,  0.0445],\n",
            "         [-0.1379, -0.1788, -0.4279, -0.3222],\n",
            "         [ 0.1415, -0.0608, -0.2234, -0.2059],\n",
            "         [ 0.0611,  0.0417, -0.1812, -0.3193],\n",
            "         [-0.0835,  0.0981, -0.1870,  0.0528]]], grad_fn=<TransposeBackward0>)\n"
          ]
        }
      ],
      "source": [
        "out, (ht, ct) = model3(x)\n",
        "print(out.shape)\n",
        "print(out)"
      ]
    }
  ]
}