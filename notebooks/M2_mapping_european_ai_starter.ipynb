{
  "nbformat": 4,
  "nbformat_minor": 0,
  "metadata": {
    "colab": {
      "provenance": [],
      "authorship_tag": "ABX9TyMCr/YkriuVCKAqoFbuh1LW",
      "include_colab_link": true
    },
    "kernelspec": {
      "name": "python3",
      "display_name": "Python 3"
    },
    "language_info": {
      "name": "python"
    }
  },
  "cells": [
    {
      "cell_type": "markdown",
      "metadata": {
        "id": "view-in-github",
        "colab_type": "text"
      },
      "source": [
        "<a href=\"https://colab.research.google.com/github/aaubs/ds-master/blob/main/notebooks/M2_mapping_european_ai_starter.ipynb\" target=\"_parent\"><img src=\"https://colab.research.google.com/assets/colab-badge.svg\" alt=\"Open In Colab\"/></a>"
      ]
    },
    {
      "cell_type": "code",
      "source": [
        "!pip install --upgrade -q scipy"
      ],
      "metadata": {
        "id": "xjwgndeES7DT"
      },
      "execution_count": null,
      "outputs": []
    },
    {
      "cell_type": "code",
      "execution_count": null,
      "metadata": {
        "id": "TtXz1sgyD-tb"
      },
      "outputs": [],
      "source": [
        "import pandas as pd\n",
        "import networkx as nx\n",
        "from community import community_louvain"
      ]
    },
    {
      "cell_type": "code",
      "source": [
        "data = pd.read_csv('https://github.com/aaubs/ds-master/raw/main/data/ai_landscape_links.csv.gz', '\\t')"
      ],
      "metadata": {
        "colab": {
          "base_uri": "https://localhost:8080/"
        },
        "id": "jiS8oMBSEQkm",
        "outputId": "322e50cc-219b-412a-cec3-da481d3fa893"
      },
      "execution_count": null,
      "outputs": [
        {
          "output_type": "stream",
          "name": "stderr",
          "text": [
            "/usr/local/lib/python3.7/dist-packages/IPython/core/interactiveshell.py:3326: FutureWarning: In a future version of pandas all arguments of read_csv except for the argument 'filepath_or_buffer' will be keyword-only\n",
            "  exec(code_obj, self.user_global_ns, self.user_ns)\n"
          ]
        }
      ]
    },
    {
      "cell_type": "code",
      "source": [
        "data"
      ],
      "metadata": {
        "colab": {
          "base_uri": "https://localhost:8080/",
          "height": 548
        },
        "id": "k8AB7I4HErPM",
        "outputId": "83ac4899-e333-40a2-a0d3-706e46afb1f8"
      },
      "execution_count": null,
      "outputs": [
        {
          "output_type": "execute_result",
          "data": {
            "text/plain": [
              "   Unnamed: 0                      ID  dl_rank        dl_slot error  redirect  \\\n",
              "0         112  WuWrYFdaq2NJfuuHodTgZs        0  ebenbuild.com  None     False   \n",
              "1         113  WuWrYFdaq2NJfuuHodTgZs        1  ebenbuild.com  None     False   \n",
              "2         114  WuWrYFdaq2NJfuuHodTgZs        2  ebenbuild.com  None     False   \n",
              "3         115  WuWrYFdaq2NJfuuHodTgZs        3  ebenbuild.com  None     False   \n",
              "4         116  WuWrYFdaq2NJfuuHodTgZs        4  ebenbuild.com  None     False   \n",
              "\n",
              "       title keywords                                        description  \\\n",
              "0  Ebenbuild      NaN  Precision therapy based on personlized digital...   \n",
              "1  Ebenbuild      NaN  Precision therapy based on personlized digital...   \n",
              "2  Ebenbuild      NaN  Precision therapy based on personlized digital...   \n",
              "3  Ebenbuild      NaN  Precision therapy based on personlized digital...   \n",
              "4  Ebenbuild      NaN  Precision therapy based on personlized digital...   \n",
              "\n",
              "  language                                              links  \\\n",
              "0  English  umm.de,nvidia.com,diepresse.com,twitter.com,un...   \n",
              "1  English  umm.de,nvidia.com,diepresse.com,twitter.com,un...   \n",
              "2  English  umm.de,nvidia.com,diepresse.com,twitter.com,un...   \n",
              "3  English  umm.de,nvidia.com,diepresse.com,twitter.com,un...   \n",
              "4  English  umm.de,nvidia.com,diepresse.com,twitter.com,un...   \n",
              "\n",
              "                                      url  \n",
              "0                  https://ebenbuild.com/  \n",
              "1         https://ebenbuild.com/jobs.html  \n",
              "2        https://ebenbuild.com/index.html  \n",
              "3      https://ebenbuild.com/imprint.html  \n",
              "4  https://ebenbuild.com/dataprivacy.html  "
            ],
            "text/html": [
              "\n",
              "  <div id=\"df-b72d2e47-9a47-4b62-a20f-00f0d3567910\">\n",
              "    <div class=\"colab-df-container\">\n",
              "      <div>\n",
              "<style scoped>\n",
              "    .dataframe tbody tr th:only-of-type {\n",
              "        vertical-align: middle;\n",
              "    }\n",
              "\n",
              "    .dataframe tbody tr th {\n",
              "        vertical-align: top;\n",
              "    }\n",
              "\n",
              "    .dataframe thead th {\n",
              "        text-align: right;\n",
              "    }\n",
              "</style>\n",
              "<table border=\"1\" class=\"dataframe\">\n",
              "  <thead>\n",
              "    <tr style=\"text-align: right;\">\n",
              "      <th></th>\n",
              "      <th>Unnamed: 0</th>\n",
              "      <th>ID</th>\n",
              "      <th>dl_rank</th>\n",
              "      <th>dl_slot</th>\n",
              "      <th>error</th>\n",
              "      <th>redirect</th>\n",
              "      <th>title</th>\n",
              "      <th>keywords</th>\n",
              "      <th>description</th>\n",
              "      <th>language</th>\n",
              "      <th>links</th>\n",
              "      <th>url</th>\n",
              "    </tr>\n",
              "  </thead>\n",
              "  <tbody>\n",
              "    <tr>\n",
              "      <th>0</th>\n",
              "      <td>112</td>\n",
              "      <td>WuWrYFdaq2NJfuuHodTgZs</td>\n",
              "      <td>0</td>\n",
              "      <td>ebenbuild.com</td>\n",
              "      <td>None</td>\n",
              "      <td>False</td>\n",
              "      <td>Ebenbuild</td>\n",
              "      <td>NaN</td>\n",
              "      <td>Precision therapy based on personlized digital...</td>\n",
              "      <td>English</td>\n",
              "      <td>umm.de,nvidia.com,diepresse.com,twitter.com,un...</td>\n",
              "      <td>https://ebenbuild.com/</td>\n",
              "    </tr>\n",
              "    <tr>\n",
              "      <th>1</th>\n",
              "      <td>113</td>\n",
              "      <td>WuWrYFdaq2NJfuuHodTgZs</td>\n",
              "      <td>1</td>\n",
              "      <td>ebenbuild.com</td>\n",
              "      <td>None</td>\n",
              "      <td>False</td>\n",
              "      <td>Ebenbuild</td>\n",
              "      <td>NaN</td>\n",
              "      <td>Precision therapy based on personlized digital...</td>\n",
              "      <td>English</td>\n",
              "      <td>umm.de,nvidia.com,diepresse.com,twitter.com,un...</td>\n",
              "      <td>https://ebenbuild.com/jobs.html</td>\n",
              "    </tr>\n",
              "    <tr>\n",
              "      <th>2</th>\n",
              "      <td>114</td>\n",
              "      <td>WuWrYFdaq2NJfuuHodTgZs</td>\n",
              "      <td>2</td>\n",
              "      <td>ebenbuild.com</td>\n",
              "      <td>None</td>\n",
              "      <td>False</td>\n",
              "      <td>Ebenbuild</td>\n",
              "      <td>NaN</td>\n",
              "      <td>Precision therapy based on personlized digital...</td>\n",
              "      <td>English</td>\n",
              "      <td>umm.de,nvidia.com,diepresse.com,twitter.com,un...</td>\n",
              "      <td>https://ebenbuild.com/index.html</td>\n",
              "    </tr>\n",
              "    <tr>\n",
              "      <th>3</th>\n",
              "      <td>115</td>\n",
              "      <td>WuWrYFdaq2NJfuuHodTgZs</td>\n",
              "      <td>3</td>\n",
              "      <td>ebenbuild.com</td>\n",
              "      <td>None</td>\n",
              "      <td>False</td>\n",
              "      <td>Ebenbuild</td>\n",
              "      <td>NaN</td>\n",
              "      <td>Precision therapy based on personlized digital...</td>\n",
              "      <td>English</td>\n",
              "      <td>umm.de,nvidia.com,diepresse.com,twitter.com,un...</td>\n",
              "      <td>https://ebenbuild.com/imprint.html</td>\n",
              "    </tr>\n",
              "    <tr>\n",
              "      <th>4</th>\n",
              "      <td>116</td>\n",
              "      <td>WuWrYFdaq2NJfuuHodTgZs</td>\n",
              "      <td>4</td>\n",
              "      <td>ebenbuild.com</td>\n",
              "      <td>None</td>\n",
              "      <td>False</td>\n",
              "      <td>Ebenbuild</td>\n",
              "      <td>NaN</td>\n",
              "      <td>Precision therapy based on personlized digital...</td>\n",
              "      <td>English</td>\n",
              "      <td>umm.de,nvidia.com,diepresse.com,twitter.com,un...</td>\n",
              "      <td>https://ebenbuild.com/dataprivacy.html</td>\n",
              "    </tr>\n",
              "  </tbody>\n",
              "</table>\n",
              "</div>\n",
              "      <button class=\"colab-df-convert\" onclick=\"convertToInteractive('df-b72d2e47-9a47-4b62-a20f-00f0d3567910')\"\n",
              "              title=\"Convert this dataframe to an interactive table.\"\n",
              "              style=\"display:none;\">\n",
              "        \n",
              "  <svg xmlns=\"http://www.w3.org/2000/svg\" height=\"24px\"viewBox=\"0 0 24 24\"\n",
              "       width=\"24px\">\n",
              "    <path d=\"M0 0h24v24H0V0z\" fill=\"none\"/>\n",
              "    <path d=\"M18.56 5.44l.94 2.06.94-2.06 2.06-.94-2.06-.94-.94-2.06-.94 2.06-2.06.94zm-11 1L8.5 8.5l.94-2.06 2.06-.94-2.06-.94L8.5 2.5l-.94 2.06-2.06.94zm10 10l.94 2.06.94-2.06 2.06-.94-2.06-.94-.94-2.06-.94 2.06-2.06.94z\"/><path d=\"M17.41 7.96l-1.37-1.37c-.4-.4-.92-.59-1.43-.59-.52 0-1.04.2-1.43.59L10.3 9.45l-7.72 7.72c-.78.78-.78 2.05 0 2.83L4 21.41c.39.39.9.59 1.41.59.51 0 1.02-.2 1.41-.59l7.78-7.78 2.81-2.81c.8-.78.8-2.07 0-2.86zM5.41 20L4 18.59l7.72-7.72 1.47 1.35L5.41 20z\"/>\n",
              "  </svg>\n",
              "      </button>\n",
              "      \n",
              "  <style>\n",
              "    .colab-df-container {\n",
              "      display:flex;\n",
              "      flex-wrap:wrap;\n",
              "      gap: 12px;\n",
              "    }\n",
              "\n",
              "    .colab-df-convert {\n",
              "      background-color: #E8F0FE;\n",
              "      border: none;\n",
              "      border-radius: 50%;\n",
              "      cursor: pointer;\n",
              "      display: none;\n",
              "      fill: #1967D2;\n",
              "      height: 32px;\n",
              "      padding: 0 0 0 0;\n",
              "      width: 32px;\n",
              "    }\n",
              "\n",
              "    .colab-df-convert:hover {\n",
              "      background-color: #E2EBFA;\n",
              "      box-shadow: 0px 1px 2px rgba(60, 64, 67, 0.3), 0px 1px 3px 1px rgba(60, 64, 67, 0.15);\n",
              "      fill: #174EA6;\n",
              "    }\n",
              "\n",
              "    [theme=dark] .colab-df-convert {\n",
              "      background-color: #3B4455;\n",
              "      fill: #D2E3FC;\n",
              "    }\n",
              "\n",
              "    [theme=dark] .colab-df-convert:hover {\n",
              "      background-color: #434B5C;\n",
              "      box-shadow: 0px 1px 3px 1px rgba(0, 0, 0, 0.15);\n",
              "      filter: drop-shadow(0px 1px 2px rgba(0, 0, 0, 0.3));\n",
              "      fill: #FFFFFF;\n",
              "    }\n",
              "  </style>\n",
              "\n",
              "      <script>\n",
              "        const buttonEl =\n",
              "          document.querySelector('#df-b72d2e47-9a47-4b62-a20f-00f0d3567910 button.colab-df-convert');\n",
              "        buttonEl.style.display =\n",
              "          google.colab.kernel.accessAllowed ? 'block' : 'none';\n",
              "\n",
              "        async function convertToInteractive(key) {\n",
              "          const element = document.querySelector('#df-b72d2e47-9a47-4b62-a20f-00f0d3567910');\n",
              "          const dataTable =\n",
              "            await google.colab.kernel.invokeFunction('convertToInteractive',\n",
              "                                                     [key], {});\n",
              "          if (!dataTable) return;\n",
              "\n",
              "          const docLinkHtml = 'Like what you see? Visit the ' +\n",
              "            '<a target=\"_blank\" href=https://colab.research.google.com/notebooks/data_table.ipynb>data table notebook</a>'\n",
              "            + ' to learn more about interactive tables.';\n",
              "          element.innerHTML = '';\n",
              "          dataTable['output_type'] = 'display_data';\n",
              "          await google.colab.output.renderOutput(dataTable, element);\n",
              "          const docLink = document.createElement('div');\n",
              "          docLink.innerHTML = docLinkHtml;\n",
              "          element.appendChild(docLink);\n",
              "        }\n",
              "      </script>\n",
              "    </div>\n",
              "  </div>\n",
              "  "
            ]
          },
          "metadata": {},
          "execution_count": 3
        }
      ]
    },
    {
      "cell_type": "code",
      "source": [
        "edges = []\n",
        "\n",
        "for i in data.iterrows():\n",
        "  targets = i[1]['links'].split(',')\n",
        "  edges_i = [(i[1]['dl_slot'], j) for j in targets]\n",
        "  edges.extend(edges_i)"
      ],
      "metadata": {
        "id": "ClmIxCPFElVC"
      },
      "execution_count": null,
      "outputs": []
    },
    {
      "cell_type": "code",
      "source": [
        "len(edges)"
      ],
      "metadata": {
        "colab": {
          "base_uri": "https://localhost:8080/"
        },
        "id": "d5Lwm2erE6P-",
        "outputId": "06a07b67-b4e3-4bb8-e138-c2147939fd12"
      },
      "execution_count": null,
      "outputs": [
        {
          "output_type": "execute_result",
          "data": {
            "text/plain": [
              "200834"
            ]
          },
          "metadata": {},
          "execution_count": 5
        }
      ]
    }
  ]
}