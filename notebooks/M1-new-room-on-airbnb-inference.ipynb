{
  "nbformat": 4,
  "nbformat_minor": 0,
  "metadata": {
    "colab": {
      "provenance": [],
      "collapsed_sections": [],
      "authorship_tag": "ABX9TyNEojHKXt5dVxjyMccZR/am",
      "include_colab_link": true
    },
    "kernelspec": {
      "name": "python3",
      "display_name": "Python 3"
    },
    "language_info": {
      "name": "python"
    }
  },
  "cells": [
    {
      "cell_type": "markdown",
      "metadata": {
        "id": "view-in-github",
        "colab_type": "text"
      },
      "source": [
        "<a href=\"https://colab.research.google.com/github/aaubs/ds-master/blob/main/notebooks/M1-airbnb-new-room-inference\" target=\"_parent\"><img src=\"https://colab.research.google.com/assets/colab-badge.svg\" alt=\"Open In Colab\"/></a>"
      ]
    },
    {
      "cell_type": "code",
      "source": [
        "!pip install xgboost -U -q\n",
        "!pip install sklearn -U -q"
      ],
      "metadata": {
        "colab": {
          "base_uri": "https://localhost:8080/"
        },
        "id": "ZAQzSXRyx7DW",
        "outputId": "c577f0c0-3c9d-407c-bb1a-e571f57caaae"
      },
      "execution_count": null,
      "outputs": [
        {
          "output_type": "stream",
          "name": "stdout",
          "text": [
            "\u001b[K     |████████████████████████████████| 255.9 MB 48 kB/s \n",
            "\u001b[?25h  Building wheel for sklearn (setup.py) ... \u001b[?25l\u001b[?25hdone\n"
          ]
        }
      ]
    },
    {
      "cell_type": "code",
      "source": [
        "import pandas as pd\n",
        "import numpy as np\n",
        "import itertools\n",
        "import pickle\n",
        "from xgboost import XGBRegressor\n",
        "from sklearn.preprocessing import StandardScaler\n",
        "import shap"
      ],
      "metadata": {
        "id": "n3HwDWs-dFJC"
      },
      "execution_count": null,
      "outputs": []
    },
    {
      "cell_type": "code",
      "source": [
        "X = pd.read_json('X.json')"
      ],
      "metadata": {
        "id": "HjaVH87268qM"
      },
      "execution_count": null,
      "outputs": []
    },
    {
      "cell_type": "code",
      "source": [
        "model_xgb = pickle.load(open('model_xgb.pkl','rb'))"
      ],
      "metadata": {
        "id": "2ko3_ABb7Nla"
      },
      "execution_count": null,
      "outputs": []
    },
    {
      "cell_type": "code",
      "source": [
        "model_xgb"
      ],
      "metadata": {
        "colab": {
          "base_uri": "https://localhost:8080/"
        },
        "id": "H82MHSyy0Qfm",
        "outputId": "72fc5f20-f967-4261-a98c-7b4278e1a9e8"
      },
      "execution_count": null,
      "outputs": [
        {
          "output_type": "execute_result",
          "data": {
            "text/plain": [
              "XGBRegressor(base_score=0.5, booster='gbtree', callbacks=None,\n",
              "             colsample_bylevel=1, colsample_bynode=1, colsample_bytree=1,\n",
              "             early_stopping_rounds=None, enable_categorical=False,\n",
              "             eval_metric=None, gamma=0, gpu_id=-1, grow_policy='depthwise',\n",
              "             importance_type=None, interaction_constraints='',\n",
              "             learning_rate=0.300000012, max_bin=256, max_cat_to_onehot=4,\n",
              "             max_delta_step=0, max_depth=6, max_leaves=0, min_child_weight=1,\n",
              "             missing=nan, monotone_constraints='()', n_estimators=100, n_jobs=0,\n",
              "             num_parallel_tree=1, predictor='auto', random_state=0, reg_alpha=0,\n",
              "             reg_lambda=1, ...)"
            ]
          },
          "metadata": {},
          "execution_count": 31
        }
      ]
    },
    {
      "cell_type": "code",
      "source": [
        "scaler = pickle.load(open('scaler.pkl','rb'))"
      ],
      "metadata": {
        "id": "YEj30p7o7VUD"
      },
      "execution_count": null,
      "outputs": []
    },
    {
      "cell_type": "code",
      "source": [
        "X"
      ],
      "metadata": {
        "colab": {
          "base_uri": "https://localhost:8080/",
          "height": 424
        },
        "id": "_PX2u1eS7iYs",
        "outputId": "533cc731-d130-4932-996e-366ee728e50b"
      },
      "execution_count": null,
      "outputs": [
        {
          "output_type": "execute_result",
          "data": {
            "text/plain": [
              "     neighbourhood_cleansed        room_type  instant_bookable  accommodates  \\\n",
              "0                   Nrrebro  Entire home/apt         -0.506681     -0.738065   \n",
              "1                   Nrrebro  Entire home/apt         -0.506681      1.617060   \n",
              "2                  Indre By  Entire home/apt         -0.506681      1.617060   \n",
              "3               Amager Vest  Entire home/apt         -0.506681      0.439498   \n",
              "4              Brnshj-Husum     Private room         -0.506681     -0.738065   \n",
              "...                     ...              ...               ...           ...   \n",
              "3872                  Valby  Entire home/apt         -0.506681      0.439498   \n",
              "3873                sterbro  Entire home/apt         -0.506681      0.439498   \n",
              "3874             Bispebjerg  Entire home/apt         -0.506681     -0.738065   \n",
              "3875             Bispebjerg  Entire home/apt         -0.506681      0.439498   \n",
              "3876           Brnshj-Husum  Entire home/apt         -0.506681      0.439498   \n",
              "\n",
              "      bedrooms      beds  minimum_nights_avg_ntm  \n",
              "0    -0.625227 -0.689055               -0.027534  \n",
              "1     0.577156  2.382479                0.841476  \n",
              "2     1.779539  0.846712               -0.027534  \n",
              "3     0.577156  1.614595               -0.256222  \n",
              "4    -0.625227  0.078828               -0.027534  \n",
              "...        ...       ...                     ...  \n",
              "3872  0.577156  1.614595               -0.484909  \n",
              "3873  1.779539  0.846712               -0.027534  \n",
              "3874 -0.625227 -0.689055               -0.416303  \n",
              "3875  0.577156  0.078828               -0.256222  \n",
              "3876  1.779539  0.846712                0.887214  \n",
              "\n",
              "[3877 rows x 7 columns]"
            ],
            "text/html": [
              "\n",
              "  <div id=\"df-6d803dcd-83ee-4f31-a754-84fb0e5f50c0\">\n",
              "    <div class=\"colab-df-container\">\n",
              "      <div>\n",
              "<style scoped>\n",
              "    .dataframe tbody tr th:only-of-type {\n",
              "        vertical-align: middle;\n",
              "    }\n",
              "\n",
              "    .dataframe tbody tr th {\n",
              "        vertical-align: top;\n",
              "    }\n",
              "\n",
              "    .dataframe thead th {\n",
              "        text-align: right;\n",
              "    }\n",
              "</style>\n",
              "<table border=\"1\" class=\"dataframe\">\n",
              "  <thead>\n",
              "    <tr style=\"text-align: right;\">\n",
              "      <th></th>\n",
              "      <th>neighbourhood_cleansed</th>\n",
              "      <th>room_type</th>\n",
              "      <th>instant_bookable</th>\n",
              "      <th>accommodates</th>\n",
              "      <th>bedrooms</th>\n",
              "      <th>beds</th>\n",
              "      <th>minimum_nights_avg_ntm</th>\n",
              "    </tr>\n",
              "  </thead>\n",
              "  <tbody>\n",
              "    <tr>\n",
              "      <th>0</th>\n",
              "      <td>Nrrebro</td>\n",
              "      <td>Entire home/apt</td>\n",
              "      <td>-0.506681</td>\n",
              "      <td>-0.738065</td>\n",
              "      <td>-0.625227</td>\n",
              "      <td>-0.689055</td>\n",
              "      <td>-0.027534</td>\n",
              "    </tr>\n",
              "    <tr>\n",
              "      <th>1</th>\n",
              "      <td>Nrrebro</td>\n",
              "      <td>Entire home/apt</td>\n",
              "      <td>-0.506681</td>\n",
              "      <td>1.617060</td>\n",
              "      <td>0.577156</td>\n",
              "      <td>2.382479</td>\n",
              "      <td>0.841476</td>\n",
              "    </tr>\n",
              "    <tr>\n",
              "      <th>2</th>\n",
              "      <td>Indre By</td>\n",
              "      <td>Entire home/apt</td>\n",
              "      <td>-0.506681</td>\n",
              "      <td>1.617060</td>\n",
              "      <td>1.779539</td>\n",
              "      <td>0.846712</td>\n",
              "      <td>-0.027534</td>\n",
              "    </tr>\n",
              "    <tr>\n",
              "      <th>3</th>\n",
              "      <td>Amager Vest</td>\n",
              "      <td>Entire home/apt</td>\n",
              "      <td>-0.506681</td>\n",
              "      <td>0.439498</td>\n",
              "      <td>0.577156</td>\n",
              "      <td>1.614595</td>\n",
              "      <td>-0.256222</td>\n",
              "    </tr>\n",
              "    <tr>\n",
              "      <th>4</th>\n",
              "      <td>Brnshj-Husum</td>\n",
              "      <td>Private room</td>\n",
              "      <td>-0.506681</td>\n",
              "      <td>-0.738065</td>\n",
              "      <td>-0.625227</td>\n",
              "      <td>0.078828</td>\n",
              "      <td>-0.027534</td>\n",
              "    </tr>\n",
              "    <tr>\n",
              "      <th>...</th>\n",
              "      <td>...</td>\n",
              "      <td>...</td>\n",
              "      <td>...</td>\n",
              "      <td>...</td>\n",
              "      <td>...</td>\n",
              "      <td>...</td>\n",
              "      <td>...</td>\n",
              "    </tr>\n",
              "    <tr>\n",
              "      <th>3872</th>\n",
              "      <td>Valby</td>\n",
              "      <td>Entire home/apt</td>\n",
              "      <td>-0.506681</td>\n",
              "      <td>0.439498</td>\n",
              "      <td>0.577156</td>\n",
              "      <td>1.614595</td>\n",
              "      <td>-0.484909</td>\n",
              "    </tr>\n",
              "    <tr>\n",
              "      <th>3873</th>\n",
              "      <td>sterbro</td>\n",
              "      <td>Entire home/apt</td>\n",
              "      <td>-0.506681</td>\n",
              "      <td>0.439498</td>\n",
              "      <td>1.779539</td>\n",
              "      <td>0.846712</td>\n",
              "      <td>-0.027534</td>\n",
              "    </tr>\n",
              "    <tr>\n",
              "      <th>3874</th>\n",
              "      <td>Bispebjerg</td>\n",
              "      <td>Entire home/apt</td>\n",
              "      <td>-0.506681</td>\n",
              "      <td>-0.738065</td>\n",
              "      <td>-0.625227</td>\n",
              "      <td>-0.689055</td>\n",
              "      <td>-0.416303</td>\n",
              "    </tr>\n",
              "    <tr>\n",
              "      <th>3875</th>\n",
              "      <td>Bispebjerg</td>\n",
              "      <td>Entire home/apt</td>\n",
              "      <td>-0.506681</td>\n",
              "      <td>0.439498</td>\n",
              "      <td>0.577156</td>\n",
              "      <td>0.078828</td>\n",
              "      <td>-0.256222</td>\n",
              "    </tr>\n",
              "    <tr>\n",
              "      <th>3876</th>\n",
              "      <td>Brnshj-Husum</td>\n",
              "      <td>Entire home/apt</td>\n",
              "      <td>-0.506681</td>\n",
              "      <td>0.439498</td>\n",
              "      <td>1.779539</td>\n",
              "      <td>0.846712</td>\n",
              "      <td>0.887214</td>\n",
              "    </tr>\n",
              "  </tbody>\n",
              "</table>\n",
              "<p>3877 rows × 7 columns</p>\n",
              "</div>\n",
              "      <button class=\"colab-df-convert\" onclick=\"convertToInteractive('df-6d803dcd-83ee-4f31-a754-84fb0e5f50c0')\"\n",
              "              title=\"Convert this dataframe to an interactive table.\"\n",
              "              style=\"display:none;\">\n",
              "        \n",
              "  <svg xmlns=\"http://www.w3.org/2000/svg\" height=\"24px\"viewBox=\"0 0 24 24\"\n",
              "       width=\"24px\">\n",
              "    <path d=\"M0 0h24v24H0V0z\" fill=\"none\"/>\n",
              "    <path d=\"M18.56 5.44l.94 2.06.94-2.06 2.06-.94-2.06-.94-.94-2.06-.94 2.06-2.06.94zm-11 1L8.5 8.5l.94-2.06 2.06-.94-2.06-.94L8.5 2.5l-.94 2.06-2.06.94zm10 10l.94 2.06.94-2.06 2.06-.94-2.06-.94-.94-2.06-.94 2.06-2.06.94z\"/><path d=\"M17.41 7.96l-1.37-1.37c-.4-.4-.92-.59-1.43-.59-.52 0-1.04.2-1.43.59L10.3 9.45l-7.72 7.72c-.78.78-.78 2.05 0 2.83L4 21.41c.39.39.9.59 1.41.59.51 0 1.02-.2 1.41-.59l7.78-7.78 2.81-2.81c.8-.78.8-2.07 0-2.86zM5.41 20L4 18.59l7.72-7.72 1.47 1.35L5.41 20z\"/>\n",
              "  </svg>\n",
              "      </button>\n",
              "      \n",
              "  <style>\n",
              "    .colab-df-container {\n",
              "      display:flex;\n",
              "      flex-wrap:wrap;\n",
              "      gap: 12px;\n",
              "    }\n",
              "\n",
              "    .colab-df-convert {\n",
              "      background-color: #E8F0FE;\n",
              "      border: none;\n",
              "      border-radius: 50%;\n",
              "      cursor: pointer;\n",
              "      display: none;\n",
              "      fill: #1967D2;\n",
              "      height: 32px;\n",
              "      padding: 0 0 0 0;\n",
              "      width: 32px;\n",
              "    }\n",
              "\n",
              "    .colab-df-convert:hover {\n",
              "      background-color: #E2EBFA;\n",
              "      box-shadow: 0px 1px 2px rgba(60, 64, 67, 0.3), 0px 1px 3px 1px rgba(60, 64, 67, 0.15);\n",
              "      fill: #174EA6;\n",
              "    }\n",
              "\n",
              "    [theme=dark] .colab-df-convert {\n",
              "      background-color: #3B4455;\n",
              "      fill: #D2E3FC;\n",
              "    }\n",
              "\n",
              "    [theme=dark] .colab-df-convert:hover {\n",
              "      background-color: #434B5C;\n",
              "      box-shadow: 0px 1px 3px 1px rgba(0, 0, 0, 0.15);\n",
              "      filter: drop-shadow(0px 1px 2px rgba(0, 0, 0, 0.3));\n",
              "      fill: #FFFFFF;\n",
              "    }\n",
              "  </style>\n",
              "\n",
              "      <script>\n",
              "        const buttonEl =\n",
              "          document.querySelector('#df-6d803dcd-83ee-4f31-a754-84fb0e5f50c0 button.colab-df-convert');\n",
              "        buttonEl.style.display =\n",
              "          google.colab.kernel.accessAllowed ? 'block' : 'none';\n",
              "\n",
              "        async function convertToInteractive(key) {\n",
              "          const element = document.querySelector('#df-6d803dcd-83ee-4f31-a754-84fb0e5f50c0');\n",
              "          const dataTable =\n",
              "            await google.colab.kernel.invokeFunction('convertToInteractive',\n",
              "                                                     [key], {});\n",
              "          if (!dataTable) return;\n",
              "\n",
              "          const docLinkHtml = 'Like what you see? Visit the ' +\n",
              "            '<a target=\"_blank\" href=https://colab.research.google.com/notebooks/data_table.ipynb>data table notebook</a>'\n",
              "            + ' to learn more about interactive tables.';\n",
              "          element.innerHTML = '';\n",
              "          dataTable['output_type'] = 'display_data';\n",
              "          await google.colab.output.renderOutput(dataTable, element);\n",
              "          const docLink = document.createElement('div');\n",
              "          docLink.innerHTML = docLinkHtml;\n",
              "          element.appendChild(docLink);\n",
              "        }\n",
              "      </script>\n",
              "    </div>\n",
              "  </div>\n",
              "  "
            ]
          },
          "metadata": {},
          "execution_count": 12
        }
      ]
    },
    {
      "cell_type": "code",
      "source": [
        "selected_df = pd.read_json('selected_df.json')"
      ],
      "metadata": {
        "id": "s_lzum4N7o84"
      },
      "execution_count": null,
      "outputs": []
    },
    {
      "cell_type": "code",
      "source": [
        "shap_values = pickle.load(open('shap_values.pkl','rb'))\n",
        "explainer = shap.TreeExplainer(model_xgb)"
      ],
      "metadata": {
        "id": "bINt5Rk2djVX"
      },
      "execution_count": null,
      "outputs": []
    },
    {
      "cell_type": "code",
      "source": [
        "selected_df.iloc[0].values"
      ],
      "metadata": {
        "colab": {
          "base_uri": "https://localhost:8080/"
        },
        "id": "WLvOZtNqCQJj",
        "outputId": "86f243e2-f9bb-445c-ad0b-629f0fe8db25"
      },
      "execution_count": null,
      "outputs": [
        {
          "output_type": "execute_result",
          "data": {
            "text/plain": [
              "array(['Nrrebro', 'Entire home/apt', False, 2, 1, 1, 3.0, 877],\n",
              "      dtype=object)"
            ]
          },
          "metadata": {},
          "execution_count": 14
        }
      ]
    },
    {
      "cell_type": "code",
      "source": [
        "ohe = pickle.load(open('ohe.pkl','rb'))"
      ],
      "metadata": {
        "id": "kycpVjMx9LLP"
      },
      "execution_count": null,
      "outputs": []
    },
    {
      "cell_type": "code",
      "source": [
        "cats = list(itertools.chain(*ohe.categories_))"
      ],
      "metadata": {
        "id": "jMb_Srb3HIBs"
      },
      "execution_count": null,
      "outputs": []
    },
    {
      "cell_type": "code",
      "source": [
        "new_df = pd.DataFrame({'neighbourhood_cleansed':'Indre By',\n",
        "              'room_type':'Entire home/apt'}, index=[0])"
      ],
      "metadata": {
        "id": "lON-7uBZDeVv"
      },
      "execution_count": null,
      "outputs": []
    },
    {
      "cell_type": "code",
      "source": [
        "new_values_cat = pd.DataFrame(ohe.transform(new_df), columns = cats , index=[0])"
      ],
      "metadata": {
        "id": "DU7ulyXdCNg7"
      },
      "execution_count": null,
      "outputs": []
    },
    {
      "cell_type": "code",
      "source": [
        "selected_df"
      ],
      "metadata": {
        "colab": {
          "base_uri": "https://localhost:8080/",
          "height": 424
        },
        "id": "pxslJNvJESz0",
        "outputId": "29f4e491-f45c-4f3d-8d02-13f9fce56aa2"
      },
      "execution_count": null,
      "outputs": [
        {
          "output_type": "execute_result",
          "data": {
            "text/plain": [
              "      neighbourhood_cleansed        room_type  instant_bookable  accommodates  \\\n",
              "0                    Nrrebro  Entire home/apt             False             2   \n",
              "10                   Nrrebro  Entire home/apt             False             6   \n",
              "12                  Indre By  Entire home/apt             False             6   \n",
              "21               Amager Vest  Entire home/apt             False             4   \n",
              "22              Brnshj-Husum     Private room             False             2   \n",
              "...                      ...              ...               ...           ...   \n",
              "12484                  Valby  Entire home/apt             False             4   \n",
              "12486                sterbro  Entire home/apt             False             4   \n",
              "12488             Bispebjerg  Entire home/apt             False             2   \n",
              "12489             Bispebjerg  Entire home/apt             False             4   \n",
              "12490           Brnshj-Husum  Entire home/apt             False             4   \n",
              "\n",
              "       bedrooms  beds  minimum_nights_avg_ntm  price  \n",
              "0             1     1                     3.0    877  \n",
              "10            2     5                     6.8   2093  \n",
              "12            3     3                     3.0   1600  \n",
              "21            2     4                     2.0   2000  \n",
              "22            1     2                     3.0    500  \n",
              "...         ...   ...                     ...    ...  \n",
              "12484         2     4                     1.0    494  \n",
              "12486         3     3                     3.0   1123  \n",
              "12488         1     1                     1.3    900  \n",
              "12489         2     2                     2.0    725  \n",
              "12490         3     3                     7.0    750  \n",
              "\n",
              "[3877 rows x 8 columns]"
            ],
            "text/html": [
              "\n",
              "  <div id=\"df-eecb7c11-9d77-424d-82bf-9200c22f5799\">\n",
              "    <div class=\"colab-df-container\">\n",
              "      <div>\n",
              "<style scoped>\n",
              "    .dataframe tbody tr th:only-of-type {\n",
              "        vertical-align: middle;\n",
              "    }\n",
              "\n",
              "    .dataframe tbody tr th {\n",
              "        vertical-align: top;\n",
              "    }\n",
              "\n",
              "    .dataframe thead th {\n",
              "        text-align: right;\n",
              "    }\n",
              "</style>\n",
              "<table border=\"1\" class=\"dataframe\">\n",
              "  <thead>\n",
              "    <tr style=\"text-align: right;\">\n",
              "      <th></th>\n",
              "      <th>neighbourhood_cleansed</th>\n",
              "      <th>room_type</th>\n",
              "      <th>instant_bookable</th>\n",
              "      <th>accommodates</th>\n",
              "      <th>bedrooms</th>\n",
              "      <th>beds</th>\n",
              "      <th>minimum_nights_avg_ntm</th>\n",
              "      <th>price</th>\n",
              "    </tr>\n",
              "  </thead>\n",
              "  <tbody>\n",
              "    <tr>\n",
              "      <th>0</th>\n",
              "      <td>Nrrebro</td>\n",
              "      <td>Entire home/apt</td>\n",
              "      <td>False</td>\n",
              "      <td>2</td>\n",
              "      <td>1</td>\n",
              "      <td>1</td>\n",
              "      <td>3.0</td>\n",
              "      <td>877</td>\n",
              "    </tr>\n",
              "    <tr>\n",
              "      <th>10</th>\n",
              "      <td>Nrrebro</td>\n",
              "      <td>Entire home/apt</td>\n",
              "      <td>False</td>\n",
              "      <td>6</td>\n",
              "      <td>2</td>\n",
              "      <td>5</td>\n",
              "      <td>6.8</td>\n",
              "      <td>2093</td>\n",
              "    </tr>\n",
              "    <tr>\n",
              "      <th>12</th>\n",
              "      <td>Indre By</td>\n",
              "      <td>Entire home/apt</td>\n",
              "      <td>False</td>\n",
              "      <td>6</td>\n",
              "      <td>3</td>\n",
              "      <td>3</td>\n",
              "      <td>3.0</td>\n",
              "      <td>1600</td>\n",
              "    </tr>\n",
              "    <tr>\n",
              "      <th>21</th>\n",
              "      <td>Amager Vest</td>\n",
              "      <td>Entire home/apt</td>\n",
              "      <td>False</td>\n",
              "      <td>4</td>\n",
              "      <td>2</td>\n",
              "      <td>4</td>\n",
              "      <td>2.0</td>\n",
              "      <td>2000</td>\n",
              "    </tr>\n",
              "    <tr>\n",
              "      <th>22</th>\n",
              "      <td>Brnshj-Husum</td>\n",
              "      <td>Private room</td>\n",
              "      <td>False</td>\n",
              "      <td>2</td>\n",
              "      <td>1</td>\n",
              "      <td>2</td>\n",
              "      <td>3.0</td>\n",
              "      <td>500</td>\n",
              "    </tr>\n",
              "    <tr>\n",
              "      <th>...</th>\n",
              "      <td>...</td>\n",
              "      <td>...</td>\n",
              "      <td>...</td>\n",
              "      <td>...</td>\n",
              "      <td>...</td>\n",
              "      <td>...</td>\n",
              "      <td>...</td>\n",
              "      <td>...</td>\n",
              "    </tr>\n",
              "    <tr>\n",
              "      <th>12484</th>\n",
              "      <td>Valby</td>\n",
              "      <td>Entire home/apt</td>\n",
              "      <td>False</td>\n",
              "      <td>4</td>\n",
              "      <td>2</td>\n",
              "      <td>4</td>\n",
              "      <td>1.0</td>\n",
              "      <td>494</td>\n",
              "    </tr>\n",
              "    <tr>\n",
              "      <th>12486</th>\n",
              "      <td>sterbro</td>\n",
              "      <td>Entire home/apt</td>\n",
              "      <td>False</td>\n",
              "      <td>4</td>\n",
              "      <td>3</td>\n",
              "      <td>3</td>\n",
              "      <td>3.0</td>\n",
              "      <td>1123</td>\n",
              "    </tr>\n",
              "    <tr>\n",
              "      <th>12488</th>\n",
              "      <td>Bispebjerg</td>\n",
              "      <td>Entire home/apt</td>\n",
              "      <td>False</td>\n",
              "      <td>2</td>\n",
              "      <td>1</td>\n",
              "      <td>1</td>\n",
              "      <td>1.3</td>\n",
              "      <td>900</td>\n",
              "    </tr>\n",
              "    <tr>\n",
              "      <th>12489</th>\n",
              "      <td>Bispebjerg</td>\n",
              "      <td>Entire home/apt</td>\n",
              "      <td>False</td>\n",
              "      <td>4</td>\n",
              "      <td>2</td>\n",
              "      <td>2</td>\n",
              "      <td>2.0</td>\n",
              "      <td>725</td>\n",
              "    </tr>\n",
              "    <tr>\n",
              "      <th>12490</th>\n",
              "      <td>Brnshj-Husum</td>\n",
              "      <td>Entire home/apt</td>\n",
              "      <td>False</td>\n",
              "      <td>4</td>\n",
              "      <td>3</td>\n",
              "      <td>3</td>\n",
              "      <td>7.0</td>\n",
              "      <td>750</td>\n",
              "    </tr>\n",
              "  </tbody>\n",
              "</table>\n",
              "<p>3877 rows × 8 columns</p>\n",
              "</div>\n",
              "      <button class=\"colab-df-convert\" onclick=\"convertToInteractive('df-eecb7c11-9d77-424d-82bf-9200c22f5799')\"\n",
              "              title=\"Convert this dataframe to an interactive table.\"\n",
              "              style=\"display:none;\">\n",
              "        \n",
              "  <svg xmlns=\"http://www.w3.org/2000/svg\" height=\"24px\"viewBox=\"0 0 24 24\"\n",
              "       width=\"24px\">\n",
              "    <path d=\"M0 0h24v24H0V0z\" fill=\"none\"/>\n",
              "    <path d=\"M18.56 5.44l.94 2.06.94-2.06 2.06-.94-2.06-.94-.94-2.06-.94 2.06-2.06.94zm-11 1L8.5 8.5l.94-2.06 2.06-.94-2.06-.94L8.5 2.5l-.94 2.06-2.06.94zm10 10l.94 2.06.94-2.06 2.06-.94-2.06-.94-.94-2.06-.94 2.06-2.06.94z\"/><path d=\"M17.41 7.96l-1.37-1.37c-.4-.4-.92-.59-1.43-.59-.52 0-1.04.2-1.43.59L10.3 9.45l-7.72 7.72c-.78.78-.78 2.05 0 2.83L4 21.41c.39.39.9.59 1.41.59.51 0 1.02-.2 1.41-.59l7.78-7.78 2.81-2.81c.8-.78.8-2.07 0-2.86zM5.41 20L4 18.59l7.72-7.72 1.47 1.35L5.41 20z\"/>\n",
              "  </svg>\n",
              "      </button>\n",
              "      \n",
              "  <style>\n",
              "    .colab-df-container {\n",
              "      display:flex;\n",
              "      flex-wrap:wrap;\n",
              "      gap: 12px;\n",
              "    }\n",
              "\n",
              "    .colab-df-convert {\n",
              "      background-color: #E8F0FE;\n",
              "      border: none;\n",
              "      border-radius: 50%;\n",
              "      cursor: pointer;\n",
              "      display: none;\n",
              "      fill: #1967D2;\n",
              "      height: 32px;\n",
              "      padding: 0 0 0 0;\n",
              "      width: 32px;\n",
              "    }\n",
              "\n",
              "    .colab-df-convert:hover {\n",
              "      background-color: #E2EBFA;\n",
              "      box-shadow: 0px 1px 2px rgba(60, 64, 67, 0.3), 0px 1px 3px 1px rgba(60, 64, 67, 0.15);\n",
              "      fill: #174EA6;\n",
              "    }\n",
              "\n",
              "    [theme=dark] .colab-df-convert {\n",
              "      background-color: #3B4455;\n",
              "      fill: #D2E3FC;\n",
              "    }\n",
              "\n",
              "    [theme=dark] .colab-df-convert:hover {\n",
              "      background-color: #434B5C;\n",
              "      box-shadow: 0px 1px 3px 1px rgba(0, 0, 0, 0.15);\n",
              "      filter: drop-shadow(0px 1px 2px rgba(0, 0, 0, 0.3));\n",
              "      fill: #FFFFFF;\n",
              "    }\n",
              "  </style>\n",
              "\n",
              "      <script>\n",
              "        const buttonEl =\n",
              "          document.querySelector('#df-eecb7c11-9d77-424d-82bf-9200c22f5799 button.colab-df-convert');\n",
              "        buttonEl.style.display =\n",
              "          google.colab.kernel.accessAllowed ? 'block' : 'none';\n",
              "\n",
              "        async function convertToInteractive(key) {\n",
              "          const element = document.querySelector('#df-eecb7c11-9d77-424d-82bf-9200c22f5799');\n",
              "          const dataTable =\n",
              "            await google.colab.kernel.invokeFunction('convertToInteractive',\n",
              "                                                     [key], {});\n",
              "          if (!dataTable) return;\n",
              "\n",
              "          const docLinkHtml = 'Like what you see? Visit the ' +\n",
              "            '<a target=\"_blank\" href=https://colab.research.google.com/notebooks/data_table.ipynb>data table notebook</a>'\n",
              "            + ' to learn more about interactive tables.';\n",
              "          element.innerHTML = '';\n",
              "          dataTable['output_type'] = 'display_data';\n",
              "          await google.colab.output.renderOutput(dataTable, element);\n",
              "          const docLink = document.createElement('div');\n",
              "          docLink.innerHTML = docLinkHtml;\n",
              "          element.appendChild(docLink);\n",
              "        }\n",
              "      </script>\n",
              "    </div>\n",
              "  </div>\n",
              "  "
            ]
          },
          "metadata": {},
          "execution_count": 91
        }
      ]
    },
    {
      "cell_type": "code",
      "source": [
        "new_df = pd.DataFrame({'instant_bookable':False, \n",
        "                        'accommodates': 2, \n",
        "                       'bedrooms':1, \n",
        "                       'beds':3, \n",
        "                       'minimum_nights_avg_ntm':7}, index=[0])"
      ],
      "metadata": {
        "id": "W5cy-OAbHjpD"
      },
      "execution_count": null,
      "outputs": []
    },
    {
      "cell_type": "code",
      "source": [
        "new_values_num = pd.DataFrame(scaler.transform(new_df), columns = new_df.columns, index=[0])"
      ],
      "metadata": {
        "id": "Pjjl3ZbqD0aY"
      },
      "execution_count": null,
      "outputs": []
    },
    {
      "cell_type": "code",
      "source": [
        "line_to_pred = new_values_num.join(new_values_cat)"
      ],
      "metadata": {
        "id": "YgL2C8HrFmRy"
      },
      "execution_count": null,
      "outputs": []
    },
    {
      "cell_type": "code",
      "source": [
        "line_to_pred"
      ],
      "metadata": {
        "colab": {
          "base_uri": "https://localhost:8080/",
          "height": 179
        },
        "id": "i834oG6nz54m",
        "outputId": "93904c21-74fe-4a8b-e16c-2ba3e2630e8c"
      },
      "execution_count": null,
      "outputs": [
        {
          "output_type": "execute_result",
          "data": {
            "text/plain": [
              "   instant_bookable  accommodates  bedrooms      beds  minimum_nights_avg_ntm  \\\n",
              "0         -0.506681     -0.738065 -0.625227  0.846712                0.887214   \n",
              "\n",
              "   Amager Vest  Amager st  Bispebjerg  Brnshj-Husum  Frederiksberg  Indre By  \\\n",
              "0          0.0        0.0         0.0           0.0            0.0       1.0   \n",
              "\n",
              "   Nrrebro  Valby  Vanlse  Vesterbro-Kongens Enghave  sterbro  \\\n",
              "0      0.0    0.0     0.0                        0.0      0.0   \n",
              "\n",
              "   Entire home/apt  Private room  \n",
              "0              1.0           0.0  "
            ],
            "text/html": [
              "\n",
              "  <div id=\"df-cccc71ce-6c38-4f92-86be-193eabecdda7\">\n",
              "    <div class=\"colab-df-container\">\n",
              "      <div>\n",
              "<style scoped>\n",
              "    .dataframe tbody tr th:only-of-type {\n",
              "        vertical-align: middle;\n",
              "    }\n",
              "\n",
              "    .dataframe tbody tr th {\n",
              "        vertical-align: top;\n",
              "    }\n",
              "\n",
              "    .dataframe thead th {\n",
              "        text-align: right;\n",
              "    }\n",
              "</style>\n",
              "<table border=\"1\" class=\"dataframe\">\n",
              "  <thead>\n",
              "    <tr style=\"text-align: right;\">\n",
              "      <th></th>\n",
              "      <th>instant_bookable</th>\n",
              "      <th>accommodates</th>\n",
              "      <th>bedrooms</th>\n",
              "      <th>beds</th>\n",
              "      <th>minimum_nights_avg_ntm</th>\n",
              "      <th>Amager Vest</th>\n",
              "      <th>Amager st</th>\n",
              "      <th>Bispebjerg</th>\n",
              "      <th>Brnshj-Husum</th>\n",
              "      <th>Frederiksberg</th>\n",
              "      <th>Indre By</th>\n",
              "      <th>Nrrebro</th>\n",
              "      <th>Valby</th>\n",
              "      <th>Vanlse</th>\n",
              "      <th>Vesterbro-Kongens Enghave</th>\n",
              "      <th>sterbro</th>\n",
              "      <th>Entire home/apt</th>\n",
              "      <th>Private room</th>\n",
              "    </tr>\n",
              "  </thead>\n",
              "  <tbody>\n",
              "    <tr>\n",
              "      <th>0</th>\n",
              "      <td>-0.506681</td>\n",
              "      <td>-0.738065</td>\n",
              "      <td>-0.625227</td>\n",
              "      <td>0.846712</td>\n",
              "      <td>0.887214</td>\n",
              "      <td>0.0</td>\n",
              "      <td>0.0</td>\n",
              "      <td>0.0</td>\n",
              "      <td>0.0</td>\n",
              "      <td>0.0</td>\n",
              "      <td>1.0</td>\n",
              "      <td>0.0</td>\n",
              "      <td>0.0</td>\n",
              "      <td>0.0</td>\n",
              "      <td>0.0</td>\n",
              "      <td>0.0</td>\n",
              "      <td>1.0</td>\n",
              "      <td>0.0</td>\n",
              "    </tr>\n",
              "  </tbody>\n",
              "</table>\n",
              "</div>\n",
              "      <button class=\"colab-df-convert\" onclick=\"convertToInteractive('df-cccc71ce-6c38-4f92-86be-193eabecdda7')\"\n",
              "              title=\"Convert this dataframe to an interactive table.\"\n",
              "              style=\"display:none;\">\n",
              "        \n",
              "  <svg xmlns=\"http://www.w3.org/2000/svg\" height=\"24px\"viewBox=\"0 0 24 24\"\n",
              "       width=\"24px\">\n",
              "    <path d=\"M0 0h24v24H0V0z\" fill=\"none\"/>\n",
              "    <path d=\"M18.56 5.44l.94 2.06.94-2.06 2.06-.94-2.06-.94-.94-2.06-.94 2.06-2.06.94zm-11 1L8.5 8.5l.94-2.06 2.06-.94-2.06-.94L8.5 2.5l-.94 2.06-2.06.94zm10 10l.94 2.06.94-2.06 2.06-.94-2.06-.94-.94-2.06-.94 2.06-2.06.94z\"/><path d=\"M17.41 7.96l-1.37-1.37c-.4-.4-.92-.59-1.43-.59-.52 0-1.04.2-1.43.59L10.3 9.45l-7.72 7.72c-.78.78-.78 2.05 0 2.83L4 21.41c.39.39.9.59 1.41.59.51 0 1.02-.2 1.41-.59l7.78-7.78 2.81-2.81c.8-.78.8-2.07 0-2.86zM5.41 20L4 18.59l7.72-7.72 1.47 1.35L5.41 20z\"/>\n",
              "  </svg>\n",
              "      </button>\n",
              "      \n",
              "  <style>\n",
              "    .colab-df-container {\n",
              "      display:flex;\n",
              "      flex-wrap:wrap;\n",
              "      gap: 12px;\n",
              "    }\n",
              "\n",
              "    .colab-df-convert {\n",
              "      background-color: #E8F0FE;\n",
              "      border: none;\n",
              "      border-radius: 50%;\n",
              "      cursor: pointer;\n",
              "      display: none;\n",
              "      fill: #1967D2;\n",
              "      height: 32px;\n",
              "      padding: 0 0 0 0;\n",
              "      width: 32px;\n",
              "    }\n",
              "\n",
              "    .colab-df-convert:hover {\n",
              "      background-color: #E2EBFA;\n",
              "      box-shadow: 0px 1px 2px rgba(60, 64, 67, 0.3), 0px 1px 3px 1px rgba(60, 64, 67, 0.15);\n",
              "      fill: #174EA6;\n",
              "    }\n",
              "\n",
              "    [theme=dark] .colab-df-convert {\n",
              "      background-color: #3B4455;\n",
              "      fill: #D2E3FC;\n",
              "    }\n",
              "\n",
              "    [theme=dark] .colab-df-convert:hover {\n",
              "      background-color: #434B5C;\n",
              "      box-shadow: 0px 1px 3px 1px rgba(0, 0, 0, 0.15);\n",
              "      filter: drop-shadow(0px 1px 2px rgba(0, 0, 0, 0.3));\n",
              "      fill: #FFFFFF;\n",
              "    }\n",
              "  </style>\n",
              "\n",
              "      <script>\n",
              "        const buttonEl =\n",
              "          document.querySelector('#df-cccc71ce-6c38-4f92-86be-193eabecdda7 button.colab-df-convert');\n",
              "        buttonEl.style.display =\n",
              "          google.colab.kernel.accessAllowed ? 'block' : 'none';\n",
              "\n",
              "        async function convertToInteractive(key) {\n",
              "          const element = document.querySelector('#df-cccc71ce-6c38-4f92-86be-193eabecdda7');\n",
              "          const dataTable =\n",
              "            await google.colab.kernel.invokeFunction('convertToInteractive',\n",
              "                                                     [key], {});\n",
              "          if (!dataTable) return;\n",
              "\n",
              "          const docLinkHtml = 'Like what you see? Visit the ' +\n",
              "            '<a target=\"_blank\" href=https://colab.research.google.com/notebooks/data_table.ipynb>data table notebook</a>'\n",
              "            + ' to learn more about interactive tables.';\n",
              "          element.innerHTML = '';\n",
              "          dataTable['output_type'] = 'display_data';\n",
              "          await google.colab.output.renderOutput(dataTable, element);\n",
              "          const docLink = document.createElement('div');\n",
              "          docLink.innerHTML = docLinkHtml;\n",
              "          element.appendChild(docLink);\n",
              "        }\n",
              "      </script>\n",
              "    </div>\n",
              "  </div>\n",
              "  "
            ]
          },
          "metadata": {},
          "execution_count": 41
        }
      ]
    },
    {
      "cell_type": "code",
      "source": [
        "model_xgb.predict(line_to_pred)"
      ],
      "metadata": {
        "colab": {
          "base_uri": "https://localhost:8080/"
        },
        "id": "eI1zfLfUF9TF",
        "outputId": "3569ff9b-16bb-4cb3-f9ac-5b6d81c5a582"
      },
      "execution_count": null,
      "outputs": [
        {
          "output_type": "execute_result",
          "data": {
            "text/plain": [
              "array([1324.2007], dtype=float32)"
            ]
          },
          "metadata": {},
          "execution_count": 43
        }
      ]
    },
    {
      "cell_type": "code",
      "source": [
        "shap_value = explainer.shap_values(line_to_pred)\n",
        "shap.initjs()\n",
        "shap.force_plot(explainer.expected_value, shap_value, line_to_pred)"
      ],
      "metadata": {
        "id": "TQT0uRlEdZFr"
      },
      "execution_count": null,
      "outputs": []
    }
  ]
}