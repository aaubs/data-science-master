{
 "cells": [
  {
   "cell_type": "code",
   "execution_count": 1,
   "id": "ec3ff482",
   "metadata": {},
   "outputs": [],
   "source": [
    "import torch\n",
    "import torch.nn as nn\n",
    "import torch.nn.functional as F\n",
    "import torchvision\n",
    "import torchvision.transforms as transforms\n",
    "import matplotlib.pyplot as plt\n",
    "import numpy as np\n",
    "\n",
    "\n",
    "# Device configuration\n",
    "device = torch.device('cuda' if torch.cuda.is_available() else 'cpu')"
   ]
  },
  {
   "cell_type": "code",
   "execution_count": 2,
   "id": "909a5621",
   "metadata": {},
   "outputs": [],
   "source": [
    "# Hyper-parameters of the model\n",
    "num_epochs = 4\n",
    "batch_size = 4\n",
    "learning_rate = 0.003"
   ]
  },
  {
   "cell_type": "code",
   "execution_count": 3,
   "id": "30a351dd",
   "metadata": {},
   "outputs": [],
   "source": [
    "#I am using https://wandb.ai/site as my performance visualisation tool.\n",
    "#import wandb\n",
    "#wandb.init(project=\"lecture CNN\", entity=\"xxx\")\n",
    "#wandb.config = {\n",
    "#  \"learning_rate\": learning_rate,\n",
    "#  \"epochs\": num_epochs,\n",
    "#  \"batch_size\": batch_size\n",
    "#}\n"
   ]
  },
  {
   "cell_type": "code",
   "execution_count": 4,
   "id": "e11f9490",
   "metadata": {},
   "outputs": [],
   "source": [
    "# We transform them to Tensors of normalized range [-1, 1]\n",
    "transform = transforms.Compose(\n",
    "    [transforms.ToTensor(),\n",
    "     transforms.Normalize((0.5, 0.5, 0.5), (0.5, 0.5, 0.5))])"
   ]
  },
  {
   "cell_type": "code",
   "execution_count": 5,
   "id": "0616bc72",
   "metadata": {},
   "outputs": [],
   "source": [
    "#DOWNLOAD DATASET \n",
    "train_dataset = torchvision.datasets.CIFAR10(root = './data_CIFAR10', train=True,\n",
    "                                            download=False, transform=transform)\n",
    "\n",
    "\n",
    "test_dataset = torchvision.datasets.CIFAR10(root = './data_CIFAR10', train=False,\n",
    "                                            download=False, transform=transform)\n"
   ]
  },
  {
   "cell_type": "code",
   "execution_count": 6,
   "id": "a2e4ca5e",
   "metadata": {},
   "outputs": [],
   "source": [
    "train_loader = torch.utils.data.DataLoader(train_dataset, batch_size = batch_size, shuffle=True)\n",
    "\n",
    "test_loader = torch.utils.data.DataLoader(test_dataset, batch_size = batch_size, shuffle=False)\n",
    "\n",
    "classes = ('plane', 'car', 'bird', 'cat', 'deer', 'dog', 'frog', 'horse', 'ship', 'truck')"
   ]
  },
  {
   "cell_type": "code",
   "execution_count": 7,
   "id": "a8f0b4db",
   "metadata": {},
   "outputs": [],
   "source": [
    "# implement conv net\n",
    "class ConvNet(nn.Module):\n",
    "    def __init__(self):\n",
    "        super(ConvNet, self).__init__()\n",
    "        self.conv1 = nn.Conv2d(3, 6, 5) #3 channels, 6 filters, 5x5 filter size\n",
    "        self.pool = nn.MaxPool2d(2,2) #size 2X2, stride: 2\n",
    "        self.conv2 = nn.Conv2d(6, 16, 5)\n",
    "        self.fc1 = nn.Linear(16*5*5, 120) #16*5*5= number of output channels * dimension of the output layer after feature learning; 120 manually set as outcome of the \n",
    "        self.fc2 = nn.Linear(120, 84)\n",
    "        self.fc3 = nn.Linear(84, 10) #the output dimension (in our case 10) needs to be equal to the number of classes\n",
    "    \n",
    "    def forward(self, x):\n",
    "        x = self.pool(F.relu(self.conv1(x)))\n",
    "        x = self.pool(F.relu(self.conv2(x)))\n",
    "        x = x.view(-1, 16*5*5) #torch.view() function freshape the input tensor\n",
    "        x = F.relu(self.fc1(x))\n",
    "        x = F.relu(self.fc2(x))\n",
    "        x = self.fc3(x)\n",
    "        return x\n",
    "    \n",
    "model = ConvNet().to(device)"
   ]
  },
  {
   "cell_type": "code",
   "execution_count": 8,
   "id": "1fa5cea5",
   "metadata": {},
   "outputs": [],
   "source": [
    "criterion = nn.CrossEntropyLoss() #CrossEntropyLoss already includes SoftMax\n",
    "optimizer = torch.optim.SGD(model.parameters(), lr=learning_rate)"
   ]
  },
  {
   "cell_type": "code",
   "execution_count": 9,
   "id": "c2b1b6c4",
   "metadata": {},
   "outputs": [
    {
     "name": "stdout",
     "output_type": "stream",
     "text": [
      "Epoch [1/4], Step [2000/12500], Loss: 2.2965\n",
      "Epoch [1/4], Step [4000/12500], Loss: 2.1858\n",
      "Epoch [1/4], Step [6000/12500], Loss: 1.7513\n",
      "Epoch [1/4], Step [8000/12500], Loss: 2.8124\n",
      "Epoch [1/4], Step [10000/12500], Loss: 1.8316\n",
      "Epoch [1/4], Step [12000/12500], Loss: 1.6158\n",
      "Epoch [2/4], Step [2000/12500], Loss: 1.2682\n",
      "Epoch [2/4], Step [4000/12500], Loss: 1.8478\n",
      "Epoch [2/4], Step [6000/12500], Loss: 2.3538\n",
      "Epoch [2/4], Step [8000/12500], Loss: 1.4884\n",
      "Epoch [2/4], Step [10000/12500], Loss: 2.1507\n",
      "Epoch [2/4], Step [12000/12500], Loss: 0.9587\n",
      "Epoch [3/4], Step [2000/12500], Loss: 1.9258\n",
      "Epoch [3/4], Step [4000/12500], Loss: 1.3348\n",
      "Epoch [3/4], Step [6000/12500], Loss: 1.4528\n",
      "Epoch [3/4], Step [8000/12500], Loss: 1.9277\n",
      "Epoch [3/4], Step [10000/12500], Loss: 1.5106\n",
      "Epoch [3/4], Step [12000/12500], Loss: 1.0943\n",
      "Epoch [4/4], Step [2000/12500], Loss: 1.6769\n",
      "Epoch [4/4], Step [4000/12500], Loss: 1.2518\n",
      "Epoch [4/4], Step [6000/12500], Loss: 1.4583\n",
      "Epoch [4/4], Step [8000/12500], Loss: 1.0744\n",
      "Epoch [4/4], Step [10000/12500], Loss: 1.3995\n",
      "Epoch [4/4], Step [12000/12500], Loss: 1.0363\n",
      "Finished Training\n"
     ]
    }
   ],
   "source": [
    "n_total_steps = len(train_loader)\n",
    "for epoch in range(num_epochs):\n",
    "    for i, (images, labels) in enumerate(train_loader):\n",
    "        # origin shape: [4, 3, 32, 32] = 4, 3, 1024\n",
    "        # input_layer: 3 input channels, 6 output channels, 5 kernel size\n",
    "        images = images.to(device)\n",
    "        labels = labels.to(device)\n",
    "\n",
    "        # Forward pass\n",
    "        outputs = model(images)\n",
    "        loss = criterion(outputs, labels)\n",
    "        \n",
    "        # Backward and optimize\n",
    "        optimizer.zero_grad() #with zero_grad() we ensure that the gradients are properly reset to zero at the start of each iteration\n",
    "        loss.backward()\n",
    "        optimizer.step()\n",
    "        #wandb.log({\"loss\": loss})  uncomment this line if you want to send data to weights and biases interface\n",
    "\n",
    "\n",
    "        if (i+1) % 2000 == 0:\n",
    "            print (f'Epoch [{epoch+1}/{num_epochs}], Step [{i+1}/{n_total_steps}], Loss: {loss.item():.4f}')\n",
    "            # Calculate average accuracy for every 2000 steps\n",
    "            model.eval()\n",
    "            with torch.no_grad():\n",
    "                correct = 0\n",
    "                total = 0\n",
    "                for images, labels in test_loader:\n",
    "                    images = images.to(device)\n",
    "                    labels = labels.to(device)\n",
    "                    outputs = model(images)\n",
    "                    _, predicted = torch.max(outputs.data, 1)\n",
    "                    total += labels.size(0)\n",
    "                    correct += (predicted == labels).sum().item()\n",
    "                accuracy = correct / total\n",
    "                #wandb.log({\"accuracy\": accuracy}) uncomment this line if you want to send data to weights and biases interface\n",
    "        \n",
    "print('Finished Training')\n",
    "PATH = './cnn.pth'\n",
    "torch.save(model.state_dict(), PATH)"
   ]
  },
  {
   "cell_type": "code",
   "execution_count": 10,
   "id": "f0d71685",
   "metadata": {},
   "outputs": [
    {
     "name": "stdout",
     "output_type": "stream",
     "text": [
      "Accuracy of the network: 55.74 %\n",
      "Accuracy of plane: 52.7 %\n",
      "Accuracy of car: 49.2 %\n",
      "Accuracy of bird: 28.5 %\n",
      "Accuracy of cat: 31.1 %\n",
      "Accuracy of deer: 42.9 %\n",
      "Accuracy of dog: 63.6 %\n",
      "Accuracy of frog: 73.8 %\n",
      "Accuracy of horse: 59.5 %\n",
      "Accuracy of ship: 82.4 %\n",
      "Accuracy of truck: 73.7 %\n"
     ]
    }
   ],
   "source": [
    "with torch.no_grad():\n",
    "    n_correct = 0\n",
    "    n_samples = 0\n",
    "    n_class_correct = [0 for i in range(10)]\n",
    "    n_class_samples = [0 for i in range(10)]\n",
    "    for images, labels in test_loader:\n",
    "        images = images.to(device)\n",
    "        labels = labels.to(device)\n",
    "        outputs = model(images)\n",
    "        # max returns (value ,index)\n",
    "        _, predicted = torch.max(outputs, 1)\n",
    "        n_samples += labels.size(0)\n",
    "        n_correct += (predicted == labels).sum().item()\n",
    "        \n",
    "        for i in range(batch_size):\n",
    "            label = labels[i]\n",
    "            pred = predicted[i]\n",
    "            if (label == pred):\n",
    "                n_class_correct[label] += 1\n",
    "            n_class_samples[label] += 1\n",
    "\n",
    "    acc = 100.0 * n_correct / n_samples\n",
    "    print(f'Accuracy of the network: {acc} %')\n",
    "\n",
    "    for i in range(10):\n",
    "        acc = 100.0 * n_class_correct[i] / n_class_samples[i]\n",
    "        print(f'Accuracy of {classes[i]}: {acc} %')"
   ]
  },
  {
   "cell_type": "code",
   "execution_count": null,
   "id": "729c7508",
   "metadata": {},
   "outputs": [],
   "source": []
  },
  {
   "cell_type": "code",
   "execution_count": null,
   "id": "51e34f08",
   "metadata": {},
   "outputs": [],
   "source": []
  }
 ],
 "metadata": {
  "kernelspec": {
   "display_name": "Python 3 (ipykernel)",
   "language": "python",
   "name": "python3"
  },
  "language_info": {
   "codemirror_mode": {
    "name": "ipython",
    "version": 3
   },
   "file_extension": ".py",
   "mimetype": "text/x-python",
   "name": "python",
   "nbconvert_exporter": "python",
   "pygments_lexer": "ipython3",
   "version": "3.8.15"
  }
 },
 "nbformat": 4,
 "nbformat_minor": 5
}
