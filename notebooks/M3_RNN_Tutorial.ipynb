{
  "nbformat": 4,
  "nbformat_minor": 0,
  "metadata": {
    "colab": {
      "provenance": [],
      "toc_visible": true,
      "authorship_tag": "ABX9TyPKa3uIc+CoNmSVQfSr5itJ",
      "include_colab_link": true
    },
    "kernelspec": {
      "name": "python3",
      "display_name": "Python 3"
    },
    "language_info": {
      "name": "python"
    }
  },
  "cells": [
    {
      "cell_type": "markdown",
      "metadata": {
        "id": "view-in-github",
        "colab_type": "text"
      },
      "source": [
        "<a href=\"https://colab.research.google.com/github/aaubs/ds-master/blob/main/notebooks/M3_RNN_Tutorial.ipynb\" target=\"_parent\"><img src=\"https://colab.research.google.com/assets/colab-badge.svg\" alt=\"Open In Colab\"/></a>"
      ]
    },
    {
      "cell_type": "markdown",
      "source": [
        "# The objective of this tutorial\n",
        "\n",
        "Our goal in this tutorial is to provide simple examples of the RNN model so that you can better understand its functionality and how it can be used in a domain.\n",
        "\n",
        "After completing this tutorial, you will know:\n",
        "\n",
        "\n",
        "```\n",
        "- What is an RNN (Recurrent Neural Network)\n",
        "- How RNNs work and their structure\n",
        "- How RNNs can be used for tasks such as timeseries\n",
        "- How to implement an RNN in code using PyTorch\n",
        "- How to train and fine-tune an RNN for a specific task\n",
        "- Common challenges and pitfalls to avoid when working with RNNs\n",
        "```\n"
      ],
      "metadata": {
        "id": "5YsD4lOPEdmK"
      }
    },
    {
      "cell_type": "markdown",
      "source": [
        "## A quick recap on Simple Neural Network (FeedForward)"
      ],
      "metadata": {
        "id": "ZQawEI4XUZ-p"
      }
    },
    {
      "cell_type": "markdown",
      "source": [
        "A simple neural network consists of three different parts namely Parameters, Linear, and None-Linear (Activation Function ) parts:"
      ],
      "metadata": {
        "id": "Mg36lXTUh26q"
      }
    },
    {
      "cell_type": "markdown",
      "source": [
        "1. First, a weight is being applied to each input to an artificial neuron. \n",
        "2. Second, the inputs are multiplied by their weights, and then a bias is applied to the outcome. This is called the weighted sum. \n",
        "3. Third, the weighted sum is processed via an activation function, as a non-linear function."
      ],
      "metadata": {
        "id": "1IUeWB5KiCMj"
      }
    },
    {
      "cell_type": "markdown",
      "source": [
        "<img src=\"https://cdn.analyticsvidhya.com/wp-content/uploads/2020/02/13UpdymQx-C1tBKRnfD7eOg.gif\" width=\"500\"> "
      ],
      "metadata": {
        "id": "HBtJUGWIkxQN"
      }
    },
    {
      "cell_type": "markdown",
      "source": [
        "The neural network can compare the outputs of its nodes with the desired values using a property known as the delta rule, allowing the network to alter its weights through training to create more accurate output values. This training and learning procedure results in gradient descent. \n",
        "\n",
        "The technique of updating weights in multi-layered perceptrons is virtually the same, however, the process is referred to as back-propagation. In such circumstances, the output values provided by the final layer are used to alter each hidden layer inside the network."
      ],
      "metadata": {
        "id": "evhlndvXkzzx"
      }
    },
    {
      "cell_type": "markdown",
      "source": [
        "### Problems with a Simple Neural Network"
      ],
      "metadata": {
        "id": "Ivg_7TJWRZbb"
      }
    },
    {
      "cell_type": "markdown",
      "source": [
        "The main shortcomings of traditional neural networks are:\n",
        "\n",
        "1. They can not handle sequential data\n",
        "2. They can not remember the sequence of the data, i.e order is not important\n",
        "3. Can not share parameters across the sequence\n",
        "4. They have a fixed input length\n",
        "\n",
        "Let’s have a brief look at these problems, then dig deeper into RNN."
      ],
      "metadata": {
        "id": "J2NNUpctRz82"
      }
    },
    {
      "cell_type": "markdown",
      "source": [
        "#### 1. They can not handle sequential data"
      ],
      "metadata": {
        "id": "KfTNIi8UhsLu"
      }
    },
    {
      "cell_type": "markdown",
      "source": [
        "Sequential data in RNN (Recurrent Neural Network) refers to any type of data where the observations have a temporal or sequential relationship. This could include time series data, where each observation is dependent on the previous one, or sequence data, where the order of the observations is important. In RNNs, this type of data is processed through the recurrent connections in the network, allowing the model to maintain and update an internal state based on the information in the sequence. This makes RNNs particularly well suited for tasks such as language modeling, speech recognition, and time series forecasting. There are some variations to the neural network’s configuration based on the shape of the input or output which you can see in the following:"
      ],
      "metadata": {
        "id": "BhxBLbBnkTtY"
      }
    },
    {
      "cell_type": "markdown",
      "source": [
        "<img src=\"https://raw.githubusercontent.com/aaubs/ds-master/main/data/Images/SeqData_RNN.png\" width=\"400\">\n",
        "\n"
      ],
      "metadata": {
        "id": "3k4r4FqTksyQ"
      }
    },
    {
      "cell_type": "markdown",
      "source": [
        "#### 2. They can not remember the sequence of the data, i.e order is not important"
      ],
      "metadata": {
        "id": "QgCDwtjPbxRI"
      }
    },
    {
      "cell_type": "markdown",
      "source": [
        "The second limitation of traditional neural networks is that they can not remember the sequence of the data, or the order is not important to them. Let’s understand this problem with an example which is shown in this figure (MIT 6.S191 Intro to Deep Learning)."
      ],
      "metadata": {
        "id": "r_nG9WWAb4f8"
      }
    },
    {
      "cell_type": "markdown",
      "source": [
        "![image.jpeg](https://raw.githubusercontent.com/aaubs/ds-master/main/data/Images/Problems-with-Traditional-Neural-Network-2.jpeg)"
      ],
      "metadata": {
        "id": "SAJh08ejgB18"
      }
    },
    {
      "cell_type": "markdown",
      "source": [
        "\n",
        "\n",
        "> *RNNs use feedback connections that allow information to be passed from one step of the sequence to the next, allowing the network to maintain and update an internal state that depends on the past input. This enables RNNs to capture and understand the dependencies and patterns in the sequence data, making them well suited for tasks such as natural language processing and time series analysis.*\n",
        "\n"
      ],
      "metadata": {
        "id": "Eyl8isKBg08O"
      }
    },
    {
      "cell_type": "markdown",
      "source": [
        "#### 3. FeedForward Neural Network Can not share parameters across the sequence\n",
        "\n",
        "In traditional Feedforward Neural Networks (MLPs), each input is processed independently and there is no mechanism for sharing parameters across different inputs in a sequence. For example, let’s take the sentence **“what is your name? My name is Lasse”**. In an MLP, each word would be treated as a separate input and would be processed through separate hidden layers. There is no way for the network to share information across words in the sequence, such as information about the relationship between words or about common features that occur across different parts of the sequence. In this case, \"name\"'s parameters should have been shared and so the neural network should have been able to determine that \"name\"'s words are dependent in this sentence."
      ],
      "metadata": {
        "id": "5_a87DZzYAA3"
      }
    },
    {
      "cell_type": "markdown",
      "source": [
        "\n",
        "\n",
        "> *In contrast, Recurrent Neural Networks (RNNs) have a hidden state that is updated at each time step, allowing the network to maintain information about the sequence and share parameters across different time steps. This makes RNNs well-suited for processing sequential data and for tasks such as sequence classification, language modeling, and machine translation*\n",
        "\n",
        "\n"
      ],
      "metadata": {
        "id": "BYpgv8E9baFb"
      }
    },
    {
      "cell_type": "markdown",
      "source": [
        "Therefore Recurrent Neural Networks (RNN), originally were designed to handle some of the shortcomings that traditional neural networks have when dealing with sequential data."
      ],
      "metadata": {
        "id": "5x-VbMMUiw6z"
      }
    },
    {
      "cell_type": "markdown",
      "source": [
        "## What is a Recurrent Neural Network?"
      ],
      "metadata": {
        "id": "JIhY3uV3ipL1"
      }
    },
    {
      "cell_type": "markdown",
      "source": [
        "Here we can see that the Simple Neural Network is unidirectional, which means it has a single direction, whereas the RNN, has loops inside it to persist the information over timestamp t. This looping preserves the information over the sequence."
      ],
      "metadata": {
        "id": "9EdoHDLRsC_j"
      }
    },
    {
      "cell_type": "markdown",
      "source": [
        "<img src=\"https://raw.githubusercontent.com/aaubs/ds-master/main/data/Images/FNN-RNN.png\" width=\"500\">"
      ],
      "metadata": {
        "id": "wYP4GSJpj4Fn"
      }
    },
    {
      "cell_type": "markdown",
      "source": [
        "#### Structure of RNN"
      ],
      "metadata": {
        "id": "WRRo4fLIGilr"
      }
    },
    {
      "cell_type": "markdown",
      "source": [
        "Now, let’s dig deeper to understand what is happening under the hood. An RNN consists of four different parts:\n",
        "1. Parameters (This includes the weights and biases of the input-to-hidden layer, the hidden-to-hidden layer, and the hidden-to-output layer.)\n",
        "> *The hidden state is used to capture the information from the previous time steps, but this information is not relevant after the training process is finished. Therefore, resetting the hidden state parameters to zero ensures that the network starts with a clean slate for making predictions on new, unseen data.*\n",
        "\n",
        "2. The hidden state (also known as the context state)\n",
        "> *you can think of the hidden state as representing the \"memory\" of the network, which is updated at each time step and used to produce the output.*\n",
        "\n",
        "\n",
        "3. Non-Linear part (Activation Function (Tanh))\n",
        "> As you can see in the equation above, you feed in both input vector Xt and the previous state ht-1 into the function. Here you’ll have 2 separate weight matrices then apply the Non-linearity (tanh) to the sum of input Xt and previous state ht-1 after multiplication to these 2 weight matrices. \n",
        "<img src=\"https://raw.githubusercontent.com/aaubs/ds-master/main/data/Images/sequence-2.png\" width=\"300\">\n",
        "\n",
        "\n",
        "4. Linear part: Finally, you’ll have the output vector ŷt at the timestamp t.\n",
        "> <img src=\"https://raw.githubusercontent.com/aaubs/ds-master/main/data/Images/sequence-3.png\" width=\"150\"> \n",
        "\n",
        "\n",
        "\n",
        "\n"
      ],
      "metadata": {
        "id": "zFlqx_2isQAr"
      }
    },
    {
      "cell_type": "markdown",
      "source": [
        "### RNN code implementation"
      ],
      "metadata": {
        "id": "lyzMY5Q8sTWK"
      }
    },
    {
      "cell_type": "code",
      "execution_count": 2,
      "metadata": {
        "id": "8eXPICSmvgdP"
      },
      "outputs": [],
      "source": [
        "import torch\n",
        "from torch.autograd import Variable\n",
        "import numpy as np\n",
        "import pandas as pd\n",
        "import pylab as pl\n",
        "import torch.nn.init as init\n",
        "from sklearn.preprocessing import MinMaxScaler"
      ]
    },
    {
      "cell_type": "markdown",
      "source": [
        "In Recurrent Neural Networks (RNNs), the terms \"input size\", \"hidden size\", and \"number of outputs\" refer to the following:\n",
        "> Input size: Refers to the number of features in a single input sample. For example, if the input is a one-hot encoded word, the input size would be the number of unique words in the vocabulary.\n",
        "\n",
        "> Hidden size: Refers to the number of neurons in the hidden layer. The hidden state of the RNN at each time step is represented by this layer, which helps to capture information from the past time steps.\n",
        "\n",
        "> Number of outputs: Refers to the number of outputs generated by the RNN. This could be one output for a simple prediction problem, or multiple outputs for a multi-task prediction problem.\n",
        "\n",
        "Note that these hyperparameters need to be set prior to training the RNN and their choice can affect the model's performance."
      ],
      "metadata": {
        "id": "L5175gDHG1lH"
      }
    },
    {
      "cell_type": "code",
      "source": [
        "input_size = 1\n",
        "hidden_size = 1\n",
        "output_size = 1\n",
        "\n",
        "x = Variable(torch.tensor([[0.1], [0.2], [0.3], [0.4]]).type(torch.FloatTensor), requires_grad=False)\n",
        "y = Variable(torch.tensor([[0.2], [0.3], [0.4], [0.5]]).type(torch.FloatTensor), requires_grad=False)"
      ],
      "metadata": {
        "id": "BI3NfaS_vyPi"
      },
      "execution_count": 3,
      "outputs": []
    },
    {
      "cell_type": "markdown",
      "source": [
        "The \"input to hidden\" weights are the connections or weights between the input layer and the hidden layer, and these connections allow the network to learn how to propagate information from the input to the hidden state.\n",
        "\n",
        "The \"hidden to output\" weights are the connections or weights between the hidden layer and the output layer, and these connections allow the network to learn how to produce the final output based on the hidden state."
      ],
      "metadata": {
        "id": "ZfNYUio8H_gr"
      }
    },
    {
      "cell_type": "code",
      "source": [
        "# 1. Initialize the weights matrix\n",
        "# Initialize (the input to hidden) and (the hidden to hidden) weights matrix with the given input size, hidden size, and output size.\n",
        "Wi2h = torch.FloatTensor(input_size + hidden_size, hidden_size).type(torch.FloatTensor)\n",
        "Wh2h = torch.FloatTensor(hidden_size, output_size).type(torch.FloatTensor)\n",
        "\n",
        "# 2. Initialize the values of the weights matrix\n",
        "# Initialize the values of (the input to hidden) and (the hidden to hidden) weights with a normal distribution centered at 0.0 and with a standard deviation of 0.4.\n",
        "init.normal(Wi2h, 0.0, 0.4)\n",
        "init.normal(Wh2h, 0.0, 0.3)\n",
        "\n",
        "# 3. Create a PyTorch Variable of the weights matrix\n",
        "# Convert (the input to hidden) and (the hidden to hidden) weights to a PyTorch Variable with requires_grad=True, indicating that this tensor requires gradient computation.\n",
        "Wi2h = Variable(Wi2h, requires_grad = True)\n",
        "Wh2h = Variable(Wh2h, requires_grad = True)"
      ],
      "metadata": {
        "colab": {
          "base_uri": "https://localhost:8080/"
        },
        "id": "e24P8JkoYrIY",
        "outputId": "4768cbb6-358d-43a1-83d3-a530ca209947"
      },
      "execution_count": 4,
      "outputs": [
        {
          "output_type": "stream",
          "name": "stderr",
          "text": [
            "<ipython-input-4-2c2f0c298745>:8: UserWarning: nn.init.normal is now deprecated in favor of nn.init.normal_.\n",
            "  init.normal(Wi2h, 0.0, 0.4)\n",
            "<ipython-input-4-2c2f0c298745>:9: UserWarning: nn.init.normal is now deprecated in favor of nn.init.normal_.\n",
            "  init.normal(Wh2h, 0.0, 0.3)\n"
          ]
        }
      ]
    },
    {
      "cell_type": "code",
      "source": [
        "print('The input to hidden weights matrix values: \\n', Wi2h)\n",
        "print('The hidden to hidden weights matrix value: \\n', Wh2h)"
      ],
      "metadata": {
        "colab": {
          "base_uri": "https://localhost:8080/"
        },
        "id": "4Nx2itVm1xV6",
        "outputId": "a64b1f1a-6218-4659-dd83-9258df8960e9"
      },
      "execution_count": 5,
      "outputs": [
        {
          "output_type": "stream",
          "name": "stdout",
          "text": [
            "The input to hidden weights matrix values: \n",
            " tensor([[-0.4114],\n",
            "        [-0.2442]], requires_grad=True)\n",
            "The hidden to hidden weights matrix value: \n",
            " tensor([[0.1379]], requires_grad=True)\n"
          ]
        }
      ]
    },
    {
      "cell_type": "code",
      "source": [
        "print('The input to hidden weights matrix shape: ', Wi2h.shape)\n",
        "print('The hidden to hidden weights matrix shape: ', Wh2h.shape)"
      ],
      "metadata": {
        "colab": {
          "base_uri": "https://localhost:8080/"
        },
        "id": "czAyPsgsazQO",
        "outputId": "0baa7029-dc90-4df8-fba0-369981aceb0c"
      },
      "execution_count": 6,
      "outputs": [
        {
          "output_type": "stream",
          "name": "stdout",
          "text": [
            "The input to hidden weights matrix shape:  torch.Size([2, 1])\n",
            "The hidden to hidden weights matrix shape:  torch.Size([1, 1])\n"
          ]
        }
      ]
    },
    {
      "cell_type": "markdown",
      "source": [
        "The forward pass is the process of computing the output for a given input sequence. The forward pass starts by initializing the hidden state of the RNN with a zero vector or some other randomly generated values."
      ],
      "metadata": {
        "id": "hUyMWlphcdmQ"
      }
    },
    {
      "cell_type": "markdown",
      "source": [
        "In the forward pass we understood how the inputs and the hidden states interact with the weights and biases of the recurrent layers and how to use the information contained in the last hidden state to predict the next time step value.\n"
      ],
      "metadata": {
        "id": "AcOyCY_b_Ji4"
      }
    },
    {
      "cell_type": "code",
      "source": [
        "# 1. Creating a BackForwardNetwork\n",
        "def backforward(input_size, context_state, Wi2h, Wh2h):\n",
        "   xh = torch.cat((input_size, context_state), 1)\n",
        "   context_state = torch.tanh(xh.mm(Wi2h))\n",
        "   out = context_state.mm(Wh2h)\n",
        "   return (out, context_state)"
      ],
      "metadata": {
        "id": "PueQsehWwesq"
      },
      "execution_count": 7,
      "outputs": []
    },
    {
      "cell_type": "markdown",
      "source": [
        "RNNs use feedback connections that allow information to be passed from one step of the sequence to the next, allowing the network to maintain and update an internal state that depends on the past input. This enables RNNs to capture and understand the dependencies and patterns in the sequence data, making them well suited for tasks such as natural language processing and time series analysis."
      ],
      "metadata": {
        "id": "gn7f3NVGwOt0"
      }
    },
    {
      "cell_type": "markdown",
      "source": [
        "<img src=\"https://raw.githubusercontent.com/aaubs/ds-master/main/data/Images/rnn_timestamps.gif\" width=\"700\">"
      ],
      "metadata": {
        "id": "fjIw-SzZBD4E"
      }
    },
    {
      "cell_type": "markdown",
      "source": [
        "The backward pass is just the application of the chain rule from the loss gradient with respect to the predictions until it becomes with respect to the parameters we want to optimize."
      ],
      "metadata": {
        "id": "ss-PWvFz_ZTk"
      }
    },
    {
      "cell_type": "markdown",
      "source": [
        "<img src=\"https://raw.githubusercontent.com/aaubs/ds-master/main/data/Images/understanding-gradient-descent.png\" width=\"400\">"
      ],
      "metadata": {
        "id": "Ecjc8TjoDy2Y"
      }
    },
    {
      "cell_type": "code",
      "source": [
        "# Initializing Hyperparameters\n",
        "epochs = 300\n",
        "seq_length = 1\n",
        "lr = 0.1\n",
        "\n",
        "# Loop over the number of epochs\n",
        "for i in range(epochs):\n",
        "   total_loss = 0\n",
        "   # Initialize the context state as a variable with shape (1, hidden_size) and set requires_grad to True\n",
        "   context_state = Variable(torch.zeros((1, hidden_size)).type(torch.FloatTensor), requires_grad = True)\n",
        "   for j in range(x.size(0)):\n",
        "      # Get the input and target at position j\n",
        "      input = x[j:(j+1)]\n",
        "      target = y[j:(j+1)]\n",
        "\n",
        "      # Run the forward pass\n",
        "      (pred, context_state) = backforward(input, context_state, Wi2h, Wh2h)\n",
        "\n",
        "      # 2. Network Evaluation\n",
        "      loss = (pred - target).pow(2).sum()/2\n",
        "      total_loss += loss\n",
        "\n",
        "      # 3. Gradient Calculation\n",
        "      loss.backward()\n",
        "\n",
        "      # 4. Back Propagation\n",
        "      Wi2h.data -= lr * Wi2h.grad.data\n",
        "      Wh2h.data -= lr * Wh2h.grad.data\n",
        "      Wi2h.grad.data.zero_()\n",
        "      Wh2h.grad.data.zero_()\n",
        "      context_state = Variable(context_state.data)\n",
        "  \n",
        "  \n",
        "   # Print the loss every 10 epochs\n",
        "   if i % 10 == 0:\n",
        "      print(\"Epoch: {} loss {}\".format(i, total_loss.data))"
      ],
      "metadata": {
        "colab": {
          "base_uri": "https://localhost:8080/"
        },
        "id": "Pm9nrCqEwhRX",
        "outputId": "6339c08b-fd23-4c56-b81c-6dc3d2f5e729"
      },
      "execution_count": 8,
      "outputs": [
        {
          "output_type": "stream",
          "name": "stdout",
          "text": [
            "Epoch: 0 loss 0.28900742530822754\n",
            "Epoch: 10 loss 0.2695860266685486\n",
            "Epoch: 20 loss 0.25148341059684753\n",
            "Epoch: 30 loss 0.22564542293548584\n",
            "Epoch: 40 loss 0.18438762426376343\n",
            "Epoch: 50 loss 0.12606069445610046\n",
            "Epoch: 60 loss 0.06511279940605164\n",
            "Epoch: 70 loss 0.024737736210227013\n",
            "Epoch: 80 loss 0.008579584769904613\n",
            "Epoch: 90 loss 0.004249237943440676\n",
            "Epoch: 100 loss 0.0033112994860857725\n",
            "Epoch: 110 loss 0.0031000690069049597\n",
            "Epoch: 120 loss 0.003025184152647853\n",
            "Epoch: 130 loss 0.0029751500114798546\n",
            "Epoch: 140 loss 0.0029301573522388935\n",
            "Epoch: 150 loss 0.0028867090586572886\n",
            "Epoch: 160 loss 0.002844155766069889\n",
            "Epoch: 170 loss 0.0028023552149534225\n",
            "Epoch: 180 loss 0.0027612620033323765\n",
            "Epoch: 190 loss 0.0027208528481423855\n",
            "Epoch: 200 loss 0.0026811182033270597\n",
            "Epoch: 210 loss 0.0026420310605317354\n",
            "Epoch: 220 loss 0.0026035942137241364\n",
            "Epoch: 230 loss 0.0025657888036221266\n",
            "Epoch: 240 loss 0.002528602024540305\n",
            "Epoch: 250 loss 0.0024920266587287188\n",
            "Epoch: 260 loss 0.0024560478050261736\n",
            "Epoch: 270 loss 0.0024206575471907854\n",
            "Epoch: 280 loss 0.002385844709351659\n",
            "Epoch: 290 loss 0.002351601142436266\n"
          ]
        }
      ]
    },
    {
      "cell_type": "markdown",
      "source": [
        "The hidden state is used to capture the information from the previous time steps, but this information is not relevant after the training process is finished. Therefore, resetting the hidden state to zero ensures that the network starts with a clean slate for making predictions on new, unseen data.\n"
      ],
      "metadata": {
        "id": "9gCpg1IMx3cF"
      }
    },
    {
      "cell_type": "markdown",
      "source": [
        "<img src=\"https://raw.githubusercontent.com/aaubs/ds-master/main/data/Images/rnn-shorttermmemory.gif\" width=\"400\">"
      ],
      "metadata": {
        "id": "Zv93vePiy-CC"
      }
    },
    {
      "cell_type": "code",
      "source": [
        "context_state = Variable(torch.zeros((1, hidden_size)).type(torch.FloatTensor), requires_grad = False)\n",
        "predictions = []\n",
        "\n",
        "for i in range(x.size(0)):\n",
        "   input = x[i:i+1]\n",
        "   (pred, context_state) = backforward(input, context_state, Wi2h, Wh2h)\n",
        "   context_state = context_state\n",
        "   predictions.append(pred.data.numpy().ravel()[0])"
      ],
      "metadata": {
        "id": "8buG1LjToPZq"
      },
      "execution_count": 10,
      "outputs": []
    },
    {
      "cell_type": "code",
      "source": [
        "data_time_steps = np.linspace(2, 10, x.shape[0])\n",
        "\n",
        "pl.scatter(data_time_steps[:], y.data.numpy(), s = 90, label = \"Actual\")\n",
        "pl.scatter(data_time_steps[:], predictions, label = \"Predicted\")\n",
        "pl.legend()\n",
        "pl.show()"
      ],
      "metadata": {
        "colab": {
          "base_uri": "https://localhost:8080/",
          "height": 265
        },
        "id": "R9o1xLH5wkFB",
        "outputId": "0e96d93b-2348-4b9a-f290-ffbc1e2271b4"
      },
      "execution_count": 11,
      "outputs": [
        {
          "output_type": "display_data",
          "data": {
            "text/plain": [
              "<Figure size 432x288 with 1 Axes>"
            ],
            "image/png": "[encoded data removed]"
          },
          "metadata": {
            "needs_background": "light"
          }
        }
      ]
    },
    {
      "cell_type": "code",
      "source": [
        "predictions"
      ],
      "metadata": {
        "colab": {
          "base_uri": "https://localhost:8080/"
        },
        "id": "iF6jKbXtxwgM",
        "outputId": "94f919dc-dc35-4da8-c9cc-f330552f9ed7"
      },
      "execution_count": null,
      "outputs": [
        {
          "output_type": "execute_result",
          "data": {
            "text/plain": [
              "[0.13133748, 0.27376682, 0.40610337, 0.52211994]"
            ]
          },
          "metadata": {},
          "execution_count": 25
        }
      ]
    },
    {
      "cell_type": "code",
      "source": [
        "y"
      ],
      "metadata": {
        "colab": {
          "base_uri": "https://localhost:8080/"
        },
        "id": "asdTgR00wsIn",
        "outputId": "58498c70-65a4-464e-c193-6837cb7d6564"
      },
      "execution_count": null,
      "outputs": [
        {
          "output_type": "execute_result",
          "data": {
            "text/plain": [
              "tensor([[0.2000],\n",
              "        [0.3000],\n",
              "        [0.4000],\n",
              "        [0.5000]])"
            ]
          },
          "metadata": {},
          "execution_count": 26
        }
      ]
    },
    {
      "cell_type": "markdown",
      "source": [
        "### Which parameters have been trained and should be saved?"
      ],
      "metadata": {
        "id": "Qg9pMoqr2OE2"
      }
    },
    {
      "cell_type": "markdown",
      "source": [
        "The \"input to hidden\" as Wi2h and the \"hidden to hidden\" as Wh2h weights are learned during the training process through backpropagation and gradient descent optimization algorithms, and they determine the strength of the relationships between the input, hidden, and output layers."
      ],
      "metadata": {
        "id": "qVNe2og85Mxi"
      }
    },
    {
      "cell_type": "code",
      "source": [
        "Wi2h"
      ],
      "metadata": {
        "colab": {
          "base_uri": "https://localhost:8080/"
        },
        "id": "QALKKMNw1l3j",
        "outputId": "b64e372c-1afe-4441-bc76-c38f94bd6e3b"
      },
      "execution_count": 12,
      "outputs": [
        {
          "output_type": "execute_result",
          "data": {
            "text/plain": [
              "tensor([[-1.2335],\n",
              "        [-0.0039]], requires_grad=True)"
            ]
          },
          "metadata": {},
          "execution_count": 12
        }
      ]
    },
    {
      "cell_type": "code",
      "source": [
        "Wh2h"
      ],
      "metadata": {
        "colab": {
          "base_uri": "https://localhost:8080/"
        },
        "id": "asfw-zXY1qiF",
        "outputId": "b12f5e41-caeb-486c-d548-38cd861ded03"
      },
      "execution_count": 13,
      "outputs": [
        {
          "output_type": "execute_result",
          "data": {
            "text/plain": [
              "tensor([[-1.1433]], requires_grad=True)"
            ]
          },
          "metadata": {},
          "execution_count": 13
        }
      ]
    },
    {
      "cell_type": "markdown",
      "source": [
        "## How does PyTorch help to implement an RNN?\n"
      ],
      "metadata": {
        "id": "z1NQv-uxetdr"
      }
    },
    {
      "cell_type": "markdown",
      "source": [
        "Let's implement this code using PyTorch!"
      ],
      "metadata": {
        "id": "RK3YjT2uggx-"
      }
    },
    {
      "cell_type": "code",
      "execution_count": 1,
      "metadata": {
        "id": "FHf9wC3T0R7Z"
      },
      "outputs": [],
      "source": [
        "import torch\n",
        "from torch.autograd import Variable\n",
        "import numpy as np\n",
        "import pylab as pl\n",
        "import torch.nn.init as init"
      ]
    },
    {
      "cell_type": "code",
      "source": [
        "# Define the input size, hidden size and number of outputs\n",
        "\n",
        "input_size = 1\n",
        "hidden_size = 6\n",
        "output_size = 1\n",
        "\n",
        "epochs = 1000\n",
        "seq_length = 2\n",
        "lr = 0.3\n",
        "\n",
        "\n",
        "x = Variable(torch.tensor([[0.1], [0.2], [0.3], [0.4]]).type(torch.FloatTensor), requires_grad=False)\n",
        "y = Variable(torch.tensor([[0.2], [0.3], [0.4], [0.5]]).type(torch.FloatTensor), requires_grad=False)"
      ],
      "metadata": {
        "id": "d_3Uyse-0R7Z"
      },
      "execution_count": 8,
      "outputs": []
    },
    {
      "cell_type": "code",
      "source": [
        "# 1. Creating an RNN model\n",
        "rnn = torch.nn.RNN(input_size, hidden_size, batch_first=True)\n",
        "\n",
        "# Initialize the output layer\n",
        "fc = torch.nn.Linear(hidden_size, output_size)\n",
        "\n",
        "\n",
        "# Define the loss function and optimizer\n",
        "criterion = torch.nn.MSELoss()\n",
        "optimizer = torch.optim.SGD(rnn.parameters(), lr=lr)"
      ],
      "metadata": {
        "id": "2qQdk16m2hyW"
      },
      "execution_count": 9,
      "outputs": []
    },
    {
      "cell_type": "code",
      "source": [
        "# Combine the parameters of the LSTM layer and linear layer\n",
        "params = list(rnn.parameters()) + list(fc.parameters())\n",
        "\n",
        "# Print the number of parameters\n",
        "print(\"Number of parameters:\", sum(p.numel() for p in params))\n",
        "\n",
        "# Print the shapes of the parameters\n",
        "for name, param in rnn.named_parameters():\n",
        "    print(\"Name: \", name)\n",
        "    print(\"shape: \", param.shape)\n",
        "    print(\"Weight: \", param.data)"
      ],
      "metadata": {
        "colab": {
          "base_uri": "https://localhost:8080/"
        },
        "id": "0zWfVNQfEU3o",
        "outputId": "c0f41244-b570-45b6-9acb-88285a0f06fa"
      },
      "execution_count": 10,
      "outputs": [
        {
          "output_type": "stream",
          "name": "stdout",
          "text": [
            "Number of parameters: 61\n",
            "Name:  weight_ih_l0\n",
            "shape:  torch.Size([6, 1])\n",
            "Weight:  tensor([[ 0.3173],\n",
            "        [ 0.0308],\n",
            "        [ 0.1853],\n",
            "        [-0.2833],\n",
            "        [ 0.3666],\n",
            "        [ 0.3124]])\n",
            "Name:  weight_hh_l0\n",
            "shape:  torch.Size([6, 6])\n",
            "Weight:  tensor([[-0.2005, -0.1262,  0.2568, -0.2242, -0.2390,  0.1972],\n",
            "        [-0.3042,  0.0156, -0.2987,  0.3518,  0.3332, -0.2188],\n",
            "        [-0.4046,  0.1035,  0.1861, -0.3617,  0.0915, -0.2944],\n",
            "        [ 0.2596,  0.0453, -0.1161,  0.2613, -0.3355,  0.1624],\n",
            "        [-0.0690,  0.1781,  0.2426,  0.0040, -0.3256, -0.1524],\n",
            "        [ 0.2576, -0.1265, -0.2808,  0.2004, -0.0347, -0.3744]])\n",
            "Name:  bias_ih_l0\n",
            "shape:  torch.Size([6])\n",
            "Weight:  tensor([ 0.2116,  0.1851,  0.2694, -0.2310, -0.0953,  0.0910])\n",
            "Name:  bias_hh_l0\n",
            "shape:  torch.Size([6])\n",
            "Weight:  tensor([ 0.2943, -0.3139,  0.2371,  0.0348,  0.3439, -0.1802])\n"
          ]
        }
      ]
    },
    {
      "cell_type": "code",
      "source": [
        "x.shape"
      ],
      "metadata": {
        "colab": {
          "base_uri": "https://localhost:8080/"
        },
        "id": "UEpowJzQK9NC",
        "outputId": "45f127c4-b07a-42d7-846e-a14995f88620"
      },
      "execution_count": 17,
      "outputs": [
        {
          "output_type": "execute_result",
          "data": {
            "text/plain": [
              "torch.Size([4, 1])"
            ]
          },
          "metadata": {},
          "execution_count": 17
        }
      ]
    },
    {
      "cell_type": "code",
      "source": [
        "for i in range(epochs):\n",
        "   total_loss = 0\n",
        "   for j in range(x.size(0)):\n",
        "      input = x[j:(j+1)]\n",
        "      target = y[j:(j+1)]\n",
        "\n",
        "      # Initialize the hidden state\n",
        "      h0 = torch.zeros(1,  hidden_size)\n",
        "\n",
        "      # Forward pass\n",
        "      y_pred, hn = rnn(input, h0)\n",
        "\n",
        "      # 2. Model Evaluation\n",
        "      y_pred = fc(hn.squeeze(0))\n",
        "      loss = criterion(y_pred.view(-1), target)\n",
        "    \n",
        "      # 3. Gradient Calculation\n",
        "      optimizer.zero_grad()\n",
        "      total_loss += loss\n",
        "      loss.backward()\n",
        "\n",
        "      # 4. Back Propagation\n",
        "      optimizer.step()\n",
        "   # display loss \n",
        "   if i % 10 == 0:\n",
        "      print(\"Epoch: {} loss {}\".format(i, total_loss.data))"
      ],
      "metadata": {
        "colab": {
          "base_uri": "https://localhost:8080/"
        },
        "outputId": "1c08ac56-2601-4306-fe49-f826a5cf177e",
        "id": "NmGOaqWb0R7a"
      },
      "execution_count": 12,
      "outputs": [
        {
          "output_type": "stream",
          "name": "stdout",
          "text": [
            "Epoch: 0 loss 8.455490751657635e-05\n",
            "Epoch: 10 loss 8.456053910776973e-05\n",
            "Epoch: 20 loss 8.456928480882198e-05\n",
            "Epoch: 30 loss 8.458085358142853e-05\n",
            "Epoch: 40 loss 8.459354285150766e-05\n",
            "Epoch: 50 loss 8.460738899884745e-05\n",
            "Epoch: 60 loss 8.462375262752175e-05\n",
            "Epoch: 70 loss 8.463892299914733e-05\n",
            "Epoch: 80 loss 8.465520659228787e-05\n",
            "Epoch: 90 loss 8.467141014989465e-05\n",
            "Epoch: 100 loss 8.468833402730525e-05\n",
            "Epoch: 110 loss 8.470455941278487e-05\n",
            "Epoch: 120 loss 8.472033368889242e-05\n",
            "Epoch: 130 loss 8.4736428107135e-05\n",
            "Epoch: 140 loss 8.475184586131945e-05\n",
            "Epoch: 150 loss 8.476553193759173e-05\n",
            "Epoch: 160 loss 8.477942174067721e-05\n",
            "Epoch: 170 loss 8.47924457048066e-05\n",
            "Epoch: 180 loss 8.480529504595324e-05\n",
            "Epoch: 190 loss 8.481661643600091e-05\n",
            "Epoch: 200 loss 8.482771227136254e-05\n",
            "Epoch: 210 loss 8.4837076428812e-05\n",
            "Epoch: 220 loss 8.484479621984065e-05\n",
            "Epoch: 230 loss 8.485414582537487e-05\n",
            "Epoch: 240 loss 8.486213482683524e-05\n",
            "Epoch: 250 loss 8.486797742079943e-05\n",
            "Epoch: 260 loss 8.487355808028951e-05\n",
            "Epoch: 270 loss 8.487876766594127e-05\n",
            "Epoch: 280 loss 8.488235471304506e-05\n",
            "Epoch: 290 loss 8.488686580676585e-05\n",
            "Epoch: 300 loss 8.488754974678159e-05\n",
            "Epoch: 310 loss 8.489054744131863e-05\n",
            "Epoch: 320 loss 8.489059109706432e-05\n",
            "Epoch: 330 loss 8.489121682941914e-05\n",
            "Epoch: 340 loss 8.489107131026685e-05\n",
            "Epoch: 350 loss 8.489060564897954e-05\n",
            "Epoch: 360 loss 8.488784806104377e-05\n",
            "Epoch: 370 loss 8.488548337481916e-05\n",
            "Epoch: 380 loss 8.488376624882221e-05\n",
            "Epoch: 390 loss 8.488105231663212e-05\n",
            "Epoch: 400 loss 8.487663581036031e-05\n",
            "Epoch: 410 loss 8.487150626024231e-05\n",
            "Epoch: 420 loss 8.486620208714157e-05\n",
            "Epoch: 430 loss 8.486078877467662e-05\n",
            "Epoch: 440 loss 8.485667058266699e-05\n",
            "Epoch: 450 loss 8.484865247737616e-05\n",
            "Epoch: 460 loss 8.48427735036239e-05\n",
            "Epoch: 470 loss 8.483530837111175e-05\n",
            "Epoch: 480 loss 8.482903649564832e-05\n",
            "Epoch: 490 loss 8.482123666908592e-05\n",
            "Epoch: 500 loss 8.481195254717022e-05\n",
            "Epoch: 510 loss 8.480325050186366e-05\n",
            "Epoch: 520 loss 8.479367534164339e-05\n",
            "Epoch: 530 loss 8.478610834572464e-05\n",
            "Epoch: 540 loss 8.477630763081834e-05\n",
            "Epoch: 550 loss 8.476701623294502e-05\n",
            "Epoch: 560 loss 8.4756946307607e-05\n",
            "Epoch: 570 loss 8.474700734950602e-05\n",
            "Epoch: 580 loss 8.473620982840657e-05\n",
            "Epoch: 590 loss 8.472535409964621e-05\n",
            "Epoch: 600 loss 8.471464389003813e-05\n",
            "Epoch: 610 loss 8.470340981148183e-05\n",
            "Epoch: 620 loss 8.469357271678746e-05\n",
            "Epoch: 630 loss 8.468123996863142e-05\n",
            "Epoch: 640 loss 8.467042061965913e-05\n",
            "Epoch: 650 loss 8.465679275104776e-05\n",
            "Epoch: 660 loss 8.464607526548207e-05\n",
            "Epoch: 670 loss 8.463335689157248e-05\n",
            "Epoch: 680 loss 8.462123514618725e-05\n",
            "Epoch: 690 loss 8.460919343633577e-05\n",
            "Epoch: 700 loss 8.459584205411375e-05\n",
            "Epoch: 710 loss 8.458408410660923e-05\n",
            "Epoch: 720 loss 8.45705799292773e-05\n",
            "Epoch: 730 loss 8.455810893792659e-05\n",
            "Epoch: 740 loss 8.45447793835774e-05\n",
            "Epoch: 750 loss 8.453120244666934e-05\n",
            "Epoch: 760 loss 8.451893518213183e-05\n",
            "Epoch: 770 loss 8.450480527244508e-05\n",
            "Epoch: 780 loss 8.449210872640833e-05\n",
            "Epoch: 790 loss 8.447909203823656e-05\n",
            "Epoch: 800 loss 8.446456922683865e-05\n",
            "Epoch: 810 loss 8.445153071079403e-05\n",
            "Epoch: 820 loss 8.443775732303038e-05\n",
            "Epoch: 830 loss 8.442374382866547e-05\n",
            "Epoch: 840 loss 8.441183308605105e-05\n",
            "Epoch: 850 loss 8.439799421466887e-05\n",
            "Epoch: 860 loss 8.438358054263517e-05\n",
            "Epoch: 870 loss 8.437084034085274e-05\n",
            "Epoch: 880 loss 8.435703057330102e-05\n",
            "Epoch: 890 loss 8.434319897787645e-05\n",
            "Epoch: 900 loss 8.43297311803326e-05\n",
            "Epoch: 910 loss 8.43146481201984e-05\n",
            "Epoch: 920 loss 8.430094021605328e-05\n",
            "Epoch: 930 loss 8.428722503595054e-05\n",
            "Epoch: 940 loss 8.427316788583994e-05\n",
            "Epoch: 950 loss 8.425855776295066e-05\n",
            "Epoch: 960 loss 8.424402039963752e-05\n",
            "Epoch: 970 loss 8.422998507739976e-05\n",
            "Epoch: 980 loss 8.421437087235972e-05\n",
            "Epoch: 990 loss 8.420093945460394e-05\n"
          ]
        }
      ]
    },
    {
      "cell_type": "code",
      "source": [
        "predictions = []\n",
        "\n",
        "for i in range(x.size(0)):\n",
        "   input = x[i:i+1]\n",
        "   # Forward pass\n",
        "   out, hn = rnn(input, h0)\n",
        "   # Pass the hidden state through the output layer\n",
        "   y_pred = fc(hn.squeeze(0))\n",
        "   predictions.append(y_pred.data.numpy().ravel()[0])"
      ],
      "metadata": {
        "id": "knhdQPnB3-4S"
      },
      "execution_count": 13,
      "outputs": []
    },
    {
      "cell_type": "code",
      "source": [
        "data_time_steps = np.linspace(2, 10, x.shape[0])\n",
        "\n",
        "pl.scatter(data_time_steps[:], y.data.numpy(), s = 90, label = \"Actual\")\n",
        "pl.scatter(data_time_steps[:], predictions, label = \"Predicted\")\n",
        "pl.legend()\n",
        "pl.show()"
      ],
      "metadata": {
        "colab": {
          "base_uri": "https://localhost:8080/",
          "height": 265
        },
        "outputId": "e807f0ae-6d83-4868-d84e-8e9fc480c5f4",
        "id": "Lt0EG_uf0R7a"
      },
      "execution_count": 15,
      "outputs": [
        {
          "output_type": "display_data",
          "data": {
            "text/plain": [
              "<Figure size 432x288 with 1 Axes>"
            ],
            "image/png": "[encoded data removed]"
          },
          "metadata": {
            "needs_background": "light"
          }
        }
      ]
    },
    {
      "cell_type": "code",
      "source": [
        "# Combine the parameters of the LSTM layer and linear layer\n",
        "params = list(rnn.parameters()) + list(fc.parameters())\n",
        "\n",
        "# Print the number of parameters\n",
        "print(\"Number of parameters:\", sum(p.numel() for p in params))\n",
        "\n",
        "# Print the shapes of the parameters\n",
        "for name, param in rnn.named_parameters():\n",
        "    print(\"Name:\", name)\n",
        "    print(\"Shape:\", param.shape)\n",
        "    print(\"Weight::\", param.data)"
      ],
      "metadata": {
        "colab": {
          "base_uri": "https://localhost:8080/"
        },
        "id": "ZWM1b9iKMkKe",
        "outputId": "e18b48a8-3a35-42af-bd5a-d98e524bfdec"
      },
      "execution_count": 16,
      "outputs": [
        {
          "output_type": "stream",
          "name": "stdout",
          "text": [
            "Number of parameters: 61\n",
            "Name: weight_ih_l0\n",
            "Shape: torch.Size([6, 1])\n",
            "Weight:: tensor([[ 0.9869],\n",
            "        [-0.6164],\n",
            "        [ 1.1080],\n",
            "        [-1.2237],\n",
            "        [ 0.8366],\n",
            "        [ 1.1576]])\n",
            "Name: weight_hh_l0\n",
            "Shape: torch.Size([6, 6])\n",
            "Weight:: tensor([[-0.2005, -0.1262,  0.2568, -0.2242, -0.2390,  0.1972],\n",
            "        [-0.3042,  0.0156, -0.2987,  0.3518,  0.3332, -0.2188],\n",
            "        [-0.4046,  0.1035,  0.1861, -0.3617,  0.0915, -0.2944],\n",
            "        [ 0.2596,  0.0453, -0.1161,  0.2613, -0.3355,  0.1624],\n",
            "        [-0.0690,  0.1781,  0.2426,  0.0040, -0.3256, -0.1524],\n",
            "        [ 0.2576, -0.1265, -0.2808,  0.2004, -0.0347, -0.3744]])\n",
            "Name: bias_ih_l0\n",
            "Shape: torch.Size([6])\n",
            "Weight:: tensor([ 0.0902,  0.0441,  0.1101, -0.1528, -0.0945,  0.1567])\n",
            "Name: bias_hh_l0\n",
            "Shape: torch.Size([6])\n",
            "Weight:: tensor([ 0.1730, -0.4549,  0.0778,  0.1130,  0.3447, -0.1145])\n"
          ]
        }
      ]
    }
  ]
}