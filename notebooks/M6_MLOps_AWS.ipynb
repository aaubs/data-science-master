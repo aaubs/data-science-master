{
  "nbformat": 4,
  "nbformat_minor": 0,
  "metadata": {
    "colab": {
      "provenance": [],
      "authorship_tag": "ABX9TyMwAEwB8O8R/g2OSHfQsq37",
      "include_colab_link": true
    },
    "kernelspec": {
      "name": "python3",
      "display_name": "Python 3"
    },
    "language_info": {
      "name": "python"
    }
  },
  "cells": [
    {
      "cell_type": "markdown",
      "metadata": {
        "id": "view-in-github",
        "colab_type": "text"
      },
      "source": [
        "<a href=\"https://colab.research.google.com/github/aaubs/ds-master/blob/main/notebooks/M6_MLOps_AWS.ipynb\" target=\"_parent\"><img src=\"https://colab.research.google.com/assets/colab-badge.svg\" alt=\"Open In Colab\"/></a>"
      ]
    },
    {
      "cell_type": "markdown",
      "source": [
        "In this tutorial, we'll build an Iris classification app using three layers: Data Layer (SQLite), Business Layer (Machine Learning training), and Presentation Layer (HTML, CSS). We'll use Python and its Flask web framework to connect everything together.\n",
        "\n",
        "Prerequisites:\n",
        "\n",
        "- Python installed (sudo apt update & sudo apt install python3_pip & pip install notebook)\n",
        "- Flask library installed\n",
        "- SQLite\n",
        "- Basic knowledge of HTML, CSS"
      ],
      "metadata": {
        "id": "8Ea1ePc0RrYf"
      }
    },
    {
      "cell_type": "markdown",
      "source": [
        "![](https://raw.githubusercontent.com/aaubs/ds-master/main/data/Images/SSI-AWS.jpg)"
      ],
      "metadata": {
        "id": "JPFq3qvSften"
      }
    },
    {
      "cell_type": "markdown",
      "source": [
        "####1. Data Layer: Setting up SQLite\n",
        "First, let's create a SQLite database for the Iris dataset. SQLite is a lightweight, easy-to-use, serverless SQL database engine.\n",
        "\n",
        "Create a new file named **database.py** and paste the following code:\n"
      ],
      "metadata": {
        "id": "xGvgYfmbR_8x"
      }
    },
    {
      "cell_type": "code",
      "execution_count": null,
      "metadata": {
        "id": "ng0IPlQBRlIC"
      },
      "outputs": [],
      "source": [
        "#database.py\n",
        "import sqlite3\n",
        "import pandas as pd\n",
        "\n",
        "def init_db():\n",
        "  # Load the Iris dataset into a Pandas DataFrame\n",
        "  url = \"https://archive.ics.uci.edu/ml/machine-learning-databases/iris/iris.data\"\n",
        "  df = pd.read_csv(url, header=None, names=[\"sepal_length\", \"sepal_width\", \"petal_length\", \"petal_width\", \"species\"])\n",
        "\n",
        "  # Connect to the SQLite database\n",
        "  conn = sqlite3.connect(\"iris.db\")\n",
        "\n",
        "  # Save the Pandas DataFrame to the SQLite database\n",
        "  df.to_sql(\"iris\", conn, if_exists=\"replace\", index=False)\n",
        "\n",
        "  # Close the connection to the SQLite database\n",
        "  conn.close()\n",
        "\n",
        "if __name__ == '__main__':\n",
        "    init_db()\n"
      ]
    },
    {
      "cell_type": "markdown",
      "source": [
        "Now, run database.py to create the database and the iris_data table.\n"
      ],
      "metadata": {
        "id": "bJGIi3lnSc1S"
      }
    },
    {
      "cell_type": "code",
      "source": [
        "import pandas as pd\n",
        "import sqlite3\n",
        "\n",
        "# Connect to the SQLite database\n",
        "conn = sqlite3.connect(\"iris.db\")\n",
        "\n",
        "# Read the list of tables using Pandas\n",
        "tables_df = pd.read_sql(\"SELECT name FROM sqlite_master WHERE type='table';\", conn)\n",
        "\n",
        "# Print the table names\n",
        "for table_name in tables_df['name']:\n",
        "    print(table_name)\n",
        "\n",
        "# Close the connection\n",
        "conn.close()"
      ],
      "metadata": {
        "colab": {
          "base_uri": "https://localhost:8080/"
        },
        "id": "Hyg2gGzwSYLG",
        "outputId": "aa010730-4db4-42c9-e6ec-dfc0f0151a00"
      },
      "execution_count": null,
      "outputs": [
        {
          "output_type": "stream",
          "name": "stdout",
          "text": [
            "iris\n"
          ]
        }
      ]
    },
    {
      "cell_type": "markdown",
      "source": [
        "####2. Business Layer: Training the Machine Learning Model\n",
        "We'll use the scikit-learn library to train a machine learning model for Iris classification. Install scikit-learn if you haven't already:\n",
        "Create a new file named **ml_model.py** and paste the following code:\n",
        "\n"
      ],
      "metadata": {
        "id": "xMOtA-pXVLHx"
      }
    },
    {
      "cell_type": "code",
      "source": [
        "data_df"
      ],
      "metadata": {
        "colab": {
          "base_uri": "https://localhost:8080/",
          "height": 424
        },
        "id": "2FvawwuKEnMR",
        "outputId": "4cbe49ae-4ecc-43ca-ed24-3acf354a2206"
      },
      "execution_count": null,
      "outputs": [
        {
          "output_type": "execute_result",
          "data": {
            "text/plain": [
              "     sepal_length  sepal_width  petal_length  petal_width         species\n",
              "0             5.1          3.5           1.4          0.2     Iris-setosa\n",
              "1             4.9          3.0           1.4          0.2     Iris-setosa\n",
              "2             4.7          3.2           1.3          0.2     Iris-setosa\n",
              "3             4.6          3.1           1.5          0.2     Iris-setosa\n",
              "4             5.0          3.6           1.4          0.2     Iris-setosa\n",
              "..            ...          ...           ...          ...             ...\n",
              "145           6.7          3.0           5.2          2.3  Iris-virginica\n",
              "146           6.3          2.5           5.0          1.9  Iris-virginica\n",
              "147           6.5          3.0           5.2          2.0  Iris-virginica\n",
              "148           6.2          3.4           5.4          2.3  Iris-virginica\n",
              "149           5.9          3.0           5.1          1.8  Iris-virginica\n",
              "\n",
              "[150 rows x 5 columns]"
            ],
            "text/html": [
              "\n",
              "  <div id=\"df-f54fd4b9-0059-4456-afda-5897e471befc\">\n",
              "    <div class=\"colab-df-container\">\n",
              "      <div>\n",
              "<style scoped>\n",
              "    .dataframe tbody tr th:only-of-type {\n",
              "        vertical-align: middle;\n",
              "    }\n",
              "\n",
              "    .dataframe tbody tr th {\n",
              "        vertical-align: top;\n",
              "    }\n",
              "\n",
              "    .dataframe thead th {\n",
              "        text-align: right;\n",
              "    }\n",
              "</style>\n",
              "<table border=\"1\" class=\"dataframe\">\n",
              "  <thead>\n",
              "    <tr style=\"text-align: right;\">\n",
              "      <th></th>\n",
              "      <th>sepal_length</th>\n",
              "      <th>sepal_width</th>\n",
              "      <th>petal_length</th>\n",
              "      <th>petal_width</th>\n",
              "      <th>species</th>\n",
              "    </tr>\n",
              "  </thead>\n",
              "  <tbody>\n",
              "    <tr>\n",
              "      <th>0</th>\n",
              "      <td>5.1</td>\n",
              "      <td>3.5</td>\n",
              "      <td>1.4</td>\n",
              "      <td>0.2</td>\n",
              "      <td>Iris-setosa</td>\n",
              "    </tr>\n",
              "    <tr>\n",
              "      <th>1</th>\n",
              "      <td>4.9</td>\n",
              "      <td>3.0</td>\n",
              "      <td>1.4</td>\n",
              "      <td>0.2</td>\n",
              "      <td>Iris-setosa</td>\n",
              "    </tr>\n",
              "    <tr>\n",
              "      <th>2</th>\n",
              "      <td>4.7</td>\n",
              "      <td>3.2</td>\n",
              "      <td>1.3</td>\n",
              "      <td>0.2</td>\n",
              "      <td>Iris-setosa</td>\n",
              "    </tr>\n",
              "    <tr>\n",
              "      <th>3</th>\n",
              "      <td>4.6</td>\n",
              "      <td>3.1</td>\n",
              "      <td>1.5</td>\n",
              "      <td>0.2</td>\n",
              "      <td>Iris-setosa</td>\n",
              "    </tr>\n",
              "    <tr>\n",
              "      <th>4</th>\n",
              "      <td>5.0</td>\n",
              "      <td>3.6</td>\n",
              "      <td>1.4</td>\n",
              "      <td>0.2</td>\n",
              "      <td>Iris-setosa</td>\n",
              "    </tr>\n",
              "    <tr>\n",
              "      <th>...</th>\n",
              "      <td>...</td>\n",
              "      <td>...</td>\n",
              "      <td>...</td>\n",
              "      <td>...</td>\n",
              "      <td>...</td>\n",
              "    </tr>\n",
              "    <tr>\n",
              "      <th>145</th>\n",
              "      <td>6.7</td>\n",
              "      <td>3.0</td>\n",
              "      <td>5.2</td>\n",
              "      <td>2.3</td>\n",
              "      <td>Iris-virginica</td>\n",
              "    </tr>\n",
              "    <tr>\n",
              "      <th>146</th>\n",
              "      <td>6.3</td>\n",
              "      <td>2.5</td>\n",
              "      <td>5.0</td>\n",
              "      <td>1.9</td>\n",
              "      <td>Iris-virginica</td>\n",
              "    </tr>\n",
              "    <tr>\n",
              "      <th>147</th>\n",
              "      <td>6.5</td>\n",
              "      <td>3.0</td>\n",
              "      <td>5.2</td>\n",
              "      <td>2.0</td>\n",
              "      <td>Iris-virginica</td>\n",
              "    </tr>\n",
              "    <tr>\n",
              "      <th>148</th>\n",
              "      <td>6.2</td>\n",
              "      <td>3.4</td>\n",
              "      <td>5.4</td>\n",
              "      <td>2.3</td>\n",
              "      <td>Iris-virginica</td>\n",
              "    </tr>\n",
              "    <tr>\n",
              "      <th>149</th>\n",
              "      <td>5.9</td>\n",
              "      <td>3.0</td>\n",
              "      <td>5.1</td>\n",
              "      <td>1.8</td>\n",
              "      <td>Iris-virginica</td>\n",
              "    </tr>\n",
              "  </tbody>\n",
              "</table>\n",
              "<p>150 rows × 5 columns</p>\n",
              "</div>\n",
              "      <button class=\"colab-df-convert\" onclick=\"convertToInteractive('df-f54fd4b9-0059-4456-afda-5897e471befc')\"\n",
              "              title=\"Convert this dataframe to an interactive table.\"\n",
              "              style=\"display:none;\">\n",
              "        \n",
              "  <svg xmlns=\"http://www.w3.org/2000/svg\" height=\"24px\"viewBox=\"0 0 24 24\"\n",
              "       width=\"24px\">\n",
              "    <path d=\"M0 0h24v24H0V0z\" fill=\"none\"/>\n",
              "    <path d=\"M18.56 5.44l.94 2.06.94-2.06 2.06-.94-2.06-.94-.94-2.06-.94 2.06-2.06.94zm-11 1L8.5 8.5l.94-2.06 2.06-.94-2.06-.94L8.5 2.5l-.94 2.06-2.06.94zm10 10l.94 2.06.94-2.06 2.06-.94-2.06-.94-.94-2.06-.94 2.06-2.06.94z\"/><path d=\"M17.41 7.96l-1.37-1.37c-.4-.4-.92-.59-1.43-.59-.52 0-1.04.2-1.43.59L10.3 9.45l-7.72 7.72c-.78.78-.78 2.05 0 2.83L4 21.41c.39.39.9.59 1.41.59.51 0 1.02-.2 1.41-.59l7.78-7.78 2.81-2.81c.8-.78.8-2.07 0-2.86zM5.41 20L4 18.59l7.72-7.72 1.47 1.35L5.41 20z\"/>\n",
              "  </svg>\n",
              "      </button>\n",
              "      \n",
              "  <style>\n",
              "    .colab-df-container {\n",
              "      display:flex;\n",
              "      flex-wrap:wrap;\n",
              "      gap: 12px;\n",
              "    }\n",
              "\n",
              "    .colab-df-convert {\n",
              "      background-color: #E8F0FE;\n",
              "      border: none;\n",
              "      border-radius: 50%;\n",
              "      cursor: pointer;\n",
              "      display: none;\n",
              "      fill: #1967D2;\n",
              "      height: 32px;\n",
              "      padding: 0 0 0 0;\n",
              "      width: 32px;\n",
              "    }\n",
              "\n",
              "    .colab-df-convert:hover {\n",
              "      background-color: #E2EBFA;\n",
              "      box-shadow: 0px 1px 2px rgba(60, 64, 67, 0.3), 0px 1px 3px 1px rgba(60, 64, 67, 0.15);\n",
              "      fill: #174EA6;\n",
              "    }\n",
              "\n",
              "    [theme=dark] .colab-df-convert {\n",
              "      background-color: #3B4455;\n",
              "      fill: #D2E3FC;\n",
              "    }\n",
              "\n",
              "    [theme=dark] .colab-df-convert:hover {\n",
              "      background-color: #434B5C;\n",
              "      box-shadow: 0px 1px 3px 1px rgba(0, 0, 0, 0.15);\n",
              "      filter: drop-shadow(0px 1px 2px rgba(0, 0, 0, 0.3));\n",
              "      fill: #FFFFFF;\n",
              "    }\n",
              "  </style>\n",
              "\n",
              "      <script>\n",
              "        const buttonEl =\n",
              "          document.querySelector('#df-f54fd4b9-0059-4456-afda-5897e471befc button.colab-df-convert');\n",
              "        buttonEl.style.display =\n",
              "          google.colab.kernel.accessAllowed ? 'block' : 'none';\n",
              "\n",
              "        async function convertToInteractive(key) {\n",
              "          const element = document.querySelector('#df-f54fd4b9-0059-4456-afda-5897e471befc');\n",
              "          const dataTable =\n",
              "            await google.colab.kernel.invokeFunction('convertToInteractive',\n",
              "                                                     [key], {});\n",
              "          if (!dataTable) return;\n",
              "\n",
              "          const docLinkHtml = 'Like what you see? Visit the ' +\n",
              "            '<a target=\"_blank\" href=https://colab.research.google.com/notebooks/data_table.ipynb>data table notebook</a>'\n",
              "            + ' to learn more about interactive tables.';\n",
              "          element.innerHTML = '';\n",
              "          dataTable['output_type'] = 'display_data';\n",
              "          await google.colab.output.renderOutput(dataTable, element);\n",
              "          const docLink = document.createElement('div');\n",
              "          docLink.innerHTML = docLinkHtml;\n",
              "          element.appendChild(docLink);\n",
              "        }\n",
              "      </script>\n",
              "    </div>\n",
              "  </div>\n",
              "  "
            ]
          },
          "metadata": {},
          "execution_count": 7
        }
      ]
    },
    {
      "cell_type": "code",
      "source": [
        "import pandas as pd\n",
        "import sqlite3\n",
        "from sklearn import datasets\n",
        "from sklearn.model_selection import train_test_split\n",
        "from sklearn.ensemble import RandomForestClassifier\n",
        "import pickle\n",
        "\n",
        "# Connect to the SQLite database\n",
        "conn = sqlite3.connect(\"iris.db\")\n",
        "\n",
        "# Read data from a table using Pandas\n",
        "data_df = pd.read_sql(\"SELECT * FROM iris\", conn)\n",
        "\n",
        "def train_model():\n",
        "    X = data_df.drop('species', axis=1)\n",
        "    y = data_df['species']\n",
        "\n",
        "    X_train, X_test, y_train, y_test = train_test_split(X, y, test_size=0.3, random_state=42)\n",
        "\n",
        "    clf = RandomForestClassifier()\n",
        "    clf.fit(X_train, y_train)\n",
        "\n",
        "    with open(\"model.pkl\", \"wb\") as f:\n",
        "        pickle.dump(clf, f)\n",
        "\n",
        "    return clf.score(X_test, y_test)\n",
        "\n",
        "if __name__ == '__main__':\n",
        "    accuracy = train_model()\n",
        "    print(f\"Model trained with accuracy: {accuracy}\")\n"
      ],
      "metadata": {
        "colab": {
          "base_uri": "https://localhost:8080/"
        },
        "id": "9Fah1j7ZSvNF",
        "outputId": "1bbcdc7f-7d43-4b64-cad0-533ae31a7d9c"
      },
      "execution_count": null,
      "outputs": [
        {
          "output_type": "stream",
          "name": "stdout",
          "text": [
            "Model trained with accuracy: 1.0\n"
          ]
        }
      ]
    },
    {
      "cell_type": "markdown",
      "source": [
        "Run ml_model.py to train the model and save it as model.pkl.\n",
        "\n"
      ],
      "metadata": {
        "id": "rCHY2VLfWNZ2"
      }
    },
    {
      "cell_type": "markdown",
      "source": [
        "####3. Presentation Layer: HTML & CSS\n",
        "Create a new folder named **templates**, and inside it, create a new file named **index.html**. Paste the following code:"
      ],
      "metadata": {
        "id": "iP3_yZVaX9Gl"
      }
    },
    {
      "cell_type": "markdown",
      "source": [
        "![](https://raw.githubusercontent.com/aaubs/ds-master/main/data/Images/html_css_java.jpg)"
      ],
      "metadata": {
        "id": "Hz0sRwB7fBXg"
      }
    },
    {
      "cell_type": "code",
      "source": [
        "# <!DOCTYPE html>\n",
        "# <html lang=\"en\">\n",
        "# <head>\n",
        "#     <meta charset=\"UTF-8\">\n",
        "#     <meta name=\"viewport\" content=\"width=device-width, initial-scale=1.0\">\n",
        "#     <title>Iris Classification</title>\n",
        "#     <link rel=\"stylesheet\" href=\"static/style.css\">\n",
        "# </head>\n",
        "# <body>\n",
        "#     <h1>Iris Classification</h1>\n",
        "#     <form action=\"/classify\" method=\"post\">\n",
        "#         <label for=\"sepal_length\">Sepal Length:</label>\n",
        "#         <input type=\"number\" step=\"0.1\" id=\"sepal_length\" name=\"sepal_length\" required><br><br>\n",
        "#         <label for=\"sepal_width\">Sepal Width:</label>\n",
        "#         <input type=\"number\" step=\"0.1\" id=\"sepal_width\" name=\"sepal_width\" required><br><br>\n",
        "#         <label for=\"petal_length\">Petal Length:</label>\n",
        "#         <input type=\"number\" step=\"0.1\" id=\"petal_length\" name=\"petal_length\" required><br><br>\n",
        "#         <label for=\"petal_width\">Petal Width:</label>\n",
        "#         <input type=\"number\" step=\"0.1\" id=\"petal_width\" name=\"petal_width\" required><br><br>\n",
        "#         <input type=\"submit\" value=\"Classify\">\n",
        "#     </form>\n",
        "#     {% if prediction %}\n",
        "#     <h2>Prediction: {{ prediction }}</h2>\n",
        "#     {% endif %}\n",
        "# </body>\n",
        "# </html>"
      ],
      "metadata": {
        "id": "NpHpN7zsmHqB"
      },
      "execution_count": null,
      "outputs": []
    },
    {
      "cell_type": "markdown",
      "source": [
        "Now, let's create a basic CSS file to style our app. Create a new folder named **static**, and inside it, create a new file named **style.css**. Paste the following code:"
      ],
      "metadata": {
        "id": "gI1h9z8oYT5m"
      }
    },
    {
      "cell_type": "code",
      "source": [
        "# body {\n",
        "#     font-family: Arial, sans-serif;\n",
        "#     max-width: 600px;\n",
        "#     margin: 0 auto;\n",
        "#     padding: 20px;\n",
        "# }\n",
        "\n",
        "# input[type=number], input[type=submit] {\n",
        "#     width: 100%;\n",
        "#     padding: 5px;\n",
        "#     margin: 5px 0;\n",
        "#     box-sizing: border-box;\n",
        "# }\n",
        "\n",
        "# input[type=submit] {\n",
        "#     background-color: #4CAF50;\n",
        "#     color: white;\n",
        "#     cursor: pointer;\n",
        "# }\n"
      ],
      "metadata": {
        "id": "6uDDzCxwYWu7"
      },
      "execution_count": null,
      "outputs": []
    },
    {
      "cell_type": "markdown",
      "source": [
        "####4. Connecting Everything with Flask\n",
        "Create a new file named **app.py** and paste the following code:\n",
        "\n"
      ],
      "metadata": {
        "id": "PuqRiIipYjyM"
      }
    },
    {
      "cell_type": "code",
      "source": [
        "from flask import Flask, render_template, request, jsonify\n",
        "import pickle\n",
        "import sqlite3\n",
        "\n",
        "app = Flask(__name__)\n",
        "\n",
        "with open(\"model.pkl\", \"rb\") as f:\n",
        "    model = pickle.load(f)\n",
        "\n",
        "@app.route(\"/\", methods=[\"GET\"])\n",
        "def index():\n",
        "    return render_template(\"index.html\", prediction=None)\n",
        "\n",
        "@app.route(\"/classify\", methods=[\"POST\"])\n",
        "def classify():\n",
        "    sepal_length = float(request.form[\"sepal_length\"])\n",
        "    sepal_width = float(request.form[\"sepal_width\"])\n",
        "    petal_length = float(request.form[\"petal_length\"])\n",
        "    petal_width = float(request.form[\"petal_width\"])\n",
        "\n",
        "    data = [[sepal_length, sepal_width, petal_length, petal_width]]\n",
        "    prediction = model.predict(data)[0]\n",
        "\n",
        "    # Save the data to the database\n",
        "    connection = sqlite3.connect(\"iris.db\")\n",
        "    cursor = connection.cursor()\n",
        "    cursor.execute(\"INSERT INTO iris (sepal_length, sepal_width, petal_length, petal_width, species) VALUES (?, ?, ?, ?, ?)\",\n",
        "                   (sepal_length, sepal_width, petal_length, petal_width, prediction))\n",
        "    connection.commit()\n",
        "    connection.close()\n",
        "\n",
        "    return jsonify({\"prediction\": prediction})\n",
        "\n",
        "\n",
        "if __name__ == \"__main__\":\n",
        "    app.run(debug=True, port=5002)\n"
      ],
      "metadata": {
        "id": "TF73HpOWYndN"
      },
      "execution_count": null,
      "outputs": []
    },
    {
      "cell_type": "markdown",
      "source": [
        "Run app.py and navigate to http://127.0.0.1:5000/ in your web browser. You should see the Iris Classification app, where you can input the features and receive a classification prediction. The data will also be saved to the SQLite database."
      ],
      "metadata": {
        "id": "QCo_LL-PYrg8"
      }
    },
    {
      "cell_type": "code",
      "source": [],
      "metadata": {
        "id": "tx7KXHxZYsPX"
      },
      "execution_count": null,
      "outputs": []
    }
  ]
}