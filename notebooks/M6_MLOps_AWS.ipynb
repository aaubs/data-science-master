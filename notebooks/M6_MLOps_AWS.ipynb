{
  "nbformat": 4,
  "nbformat_minor": 0,
  "metadata": {
    "colab": {
      "provenance": [],
      "authorship_tag": "ABX9TyPCqukFLDnljvHblCP/t1K8",
      "include_colab_link": true
    },
    "kernelspec": {
      "name": "python3",
      "display_name": "Python 3"
    },
    "language_info": {
      "name": "python"
    }
  },
  "cells": [
    {
      "cell_type": "markdown",
      "metadata": {
        "id": "view-in-github",
        "colab_type": "text"
      },
      "source": [
        "<a href=\"https://colab.research.google.com/github/aaubs/ds-master/blob/main/notebooks/M6_MLOps_AWS.ipynb\" target=\"_parent\"><img src=\"https://colab.research.google.com/assets/colab-badge.svg\" alt=\"Open In Colab\"/></a>"
      ]
    },
    {
      "cell_type": "markdown",
      "source": [
        "In this tutorial, we'll build an Iris classification app using three layers: Data Layer (SQLite), Business Layer (Machine Learning training), and Presentation Layer (HTML, CSS). We'll use Python and its Flask web framework to connect everything together.\n",
        "\n",
        "Prerequisites:\n",
        "\n",
        "- Python installed\n",
        "- Flask library installed\n",
        "- SQLite\n",
        "- Basic knowledge of HTML, CSS"
      ],
      "metadata": {
        "id": "8Ea1ePc0RrYf"
      }
    },
    {
      "cell_type": "markdown",
      "source": [
        "![](https://raw.githubusercontent.com/aaubs/ds-master/main/data/Images/SSI-AWS.jpg)"
      ],
      "metadata": {
        "id": "JPFq3qvSften"
      }
    },
    {
      "cell_type": "markdown",
      "source": [
        "####1. Data Layer: Setting up SQLite\n",
        "First, let's create a SQLite database for the Iris dataset. SQLite is a lightweight, easy-to-use, serverless SQL database engine.\n",
        "\n",
        "Create a new file named **database.py** and paste the following code:\n"
      ],
      "metadata": {
        "id": "xGvgYfmbR_8x"
      }
    },
    {
      "cell_type": "code",
      "execution_count": 6,
      "metadata": {
        "id": "ng0IPlQBRlIC"
      },
      "outputs": [],
      "source": [
        "#database.py\n",
        "import sqlite3\n",
        "import pandas as pd\n",
        "\n",
        "def init_db():\n",
        "  # Load the Iris dataset into a Pandas DataFrame\n",
        "  url = \"https://archive.ics.uci.edu/ml/machine-learning-databases/iris/iris.data\"\n",
        "  df = pd.read_csv(url, header=None, names=[\"sepal_length\", \"sepal_width\", \"petal_length\", \"petal_width\", \"species\"])\n",
        "\n",
        "  # Connect to the SQLite database\n",
        "  conn = sqlite3.connect(\"iris.db\")\n",
        "\n",
        "  # Save the Pandas DataFrame to the SQLite database\n",
        "  df.to_sql(\"iris\", conn, if_exists=\"replace\", index=False)\n",
        "\n",
        "  # Close the connection to the SQLite database\n",
        "  conn.close()\n",
        "\n",
        "if __name__ == '__main__':\n",
        "    init_db()\n"
      ]
    },
    {
      "cell_type": "markdown",
      "source": [
        "Now, run database.py to create the database and the iris_data table.\n"
      ],
      "metadata": {
        "id": "bJGIi3lnSc1S"
      }
    },
    {
      "cell_type": "code",
      "source": [
        "import pandas as pd\n",
        "import sqlite3\n",
        "\n",
        "# Connect to the SQLite database\n",
        "conn = sqlite3.connect(\"iris.db\")\n",
        "\n",
        "# Read the list of tables using Pandas\n",
        "tables_df = pd.read_sql(\"SELECT name FROM sqlite_master WHERE type='table';\", conn)\n",
        "\n",
        "# Print the table names\n",
        "for table_name in tables_df['name']:\n",
        "    print(table_name)\n",
        "\n",
        "# Close the connection\n",
        "conn.close()"
      ],
      "metadata": {
        "colab": {
          "base_uri": "https://localhost:8080/"
        },
        "id": "Hyg2gGzwSYLG",
        "outputId": "50848215-0e7f-4cf4-eccf-d0d86770b743"
      },
      "execution_count": 7,
      "outputs": [
        {
          "output_type": "stream",
          "name": "stdout",
          "text": [
            "iris\n"
          ]
        }
      ]
    },
    {
      "cell_type": "markdown",
      "source": [
        "####2. Business Layer: Training the Machine Learning Model\n",
        "We'll use the scikit-learn library to train a machine learning model for Iris classification. Install scikit-learn if you haven't already:\n",
        "Create a new file named **ml_model.py** and paste the following code:\n",
        "\n"
      ],
      "metadata": {
        "id": "xMOtA-pXVLHx"
      }
    },
    {
      "cell_type": "code",
      "source": [
        "from sklearn import datasets\n",
        "from sklearn.model_selection import train_test_split\n",
        "from sklearn.ensemble import RandomForestClassifier\n",
        "import pickle\n",
        "\n",
        "def train_model():\n",
        "    iris = datasets.load_iris()\n",
        "    X = iris.data\n",
        "    y = iris.target\n",
        "\n",
        "    X_train, X_test, y_train, y_test = train_test_split(X, y, test_size=0.3, random_state=42)\n",
        "\n",
        "    clf = RandomForestClassifier()\n",
        "    clf.fit(X_train, y_train)\n",
        "\n",
        "    with open(\"model.pkl\", \"wb\") as f:\n",
        "        pickle.dump(clf, f)\n",
        "\n",
        "    return clf.score(X_test, y_test)\n",
        "\n",
        "if __name__ == '__main__':\n",
        "    accuracy = train_model()\n",
        "    print(f\"Model trained with accuracy: {accuracy}\")\n"
      ],
      "metadata": {
        "colab": {
          "base_uri": "https://localhost:8080/"
        },
        "id": "9Fah1j7ZSvNF",
        "outputId": "738f0dd1-3879-4d4d-888c-e5fd6daee9ec"
      },
      "execution_count": 8,
      "outputs": [
        {
          "output_type": "stream",
          "name": "stdout",
          "text": [
            "Model trained with accuracy: 1.0\n"
          ]
        }
      ]
    },
    {
      "cell_type": "markdown",
      "source": [
        "Run ml_model.py to train the model and save it as model.pkl.\n",
        "\n"
      ],
      "metadata": {
        "id": "rCHY2VLfWNZ2"
      }
    },
    {
      "cell_type": "markdown",
      "source": [
        "####3. Presentation Layer: HTML & CSS\n",
        "Create a new folder named **templates**, and inside it, create a new file named **index.html**. Paste the following code:"
      ],
      "metadata": {
        "id": "iP3_yZVaX9Gl"
      }
    },
    {
      "cell_type": "markdown",
      "source": [
        "![](https://raw.githubusercontent.com/aaubs/ds-master/main/data/Images/html_css_java.jpg)"
      ],
      "metadata": {
        "id": "Hz0sRwB7fBXg"
      }
    },
    {
      "cell_type": "code",
      "source": [
        "<!DOCTYPE html>\n",
        "<html lang=\"en\">\n",
        "<head>\n",
        "    <meta charset=\"UTF-8\">\n",
        "    <meta name=\"viewport\" content=\"width=device-width, initial-scale=1.0\">\n",
        "    <title>Iris Classification</title>\n",
        "    <style>\n",
        "        /* Add your CSS styling here */\n",
        "    </style>\n",
        "</head>\n",
        "<body>\n",
        "    <h1>Iris Classification</h1>\n",
        "    <form action=\"/classify\" method=\"post\">\n",
        "        <label for=\"sepal_length\">Sepal Length:</label>\n",
        "        <input type=\"number\" step=\"0.1\" id=\"sepal_length\" name=\"sepal_length\" required><br><br>\n",
        "        <label for=\"sepal_width\">Sepal Width:</label>\n",
        "        <input type=\"number\" step=\"0.1\" id=\"sepal_width\" name=\"sepal_width\" required><br><br>\n",
        "        <label for=\"petal_length\">Petal Length:</label>\n",
        "        <input type=\"number\" step=\"0.1\" id=\"petal_length\" name=\"petal_length\" required><br><br>\n",
        "        <label for=\"petal_width\">Petal Width:</label>\n",
        "        <input type=\"number\" step=\"0.1\" id=\"petal_width\" name=\"petal_width\" required><br><br>\n",
        "        <input type=\"submit\" value=\"Classify\">\n",
        "    </form>\n",
        "    {% if prediction %}\n",
        "    <h2>Prediction: {{ prediction }}</h2>\n",
        "    {% endif %}\n",
        "</body>\n",
        "</html>\n",
        "\n"
      ],
      "metadata": {
        "id": "IDMQXZdBWH05"
      },
      "execution_count": null,
      "outputs": []
    },
    {
      "cell_type": "markdown",
      "source": [
        "Now, let's create a basic CSS file to style our app. Create a new folder named **static**, and inside it, create a new file named **style.css**. Paste the following code:"
      ],
      "metadata": {
        "id": "gI1h9z8oYT5m"
      }
    },
    {
      "cell_type": "code",
      "source": [
        "body {\n",
        "    font-family: Arial, sans-serif;\n",
        "    max-width: 600px;\n",
        "    margin: 0 auto;\n",
        "    padding: 20px;\n",
        "}\n",
        "\n",
        "input[type=number], input[type=submit] {\n",
        "    width: 100%;\n",
        "    padding: 5px;\n",
        "    margin: 5px 0;\n",
        "    box-sizing: border-box;\n",
        "}\n",
        "\n",
        "input[type=submit] {\n",
        "    background-color: #4CAF50;\n",
        "    color: white;\n",
        "    cursor: pointer;\n",
        "}\n"
      ],
      "metadata": {
        "id": "6uDDzCxwYWu7"
      },
      "execution_count": null,
      "outputs": []
    },
    {
      "cell_type": "markdown",
      "source": [
        "####4. Connecting Everything with Flask\n",
        "Create a new file named **app.py** and paste the following code:\n",
        "\n"
      ],
      "metadata": {
        "id": "PuqRiIipYjyM"
      }
    },
    {
      "cell_type": "code",
      "source": [
        "from flask import Flask, render_template, request, jsonify\n",
        "import pickle\n",
        "import sqlite3\n",
        "\n",
        "app = Flask(__name__)\n",
        "\n",
        "with open(\"model.pkl\", \"rb\") as f:\n",
        "    model = pickle.load(f)\n",
        "\n",
        "@app.route(\"/\", methods=[\"GET\"])\n",
        "def index():\n",
        "    return render_template(\"index.html\", prediction=None)\n",
        "\n",
        "@app.route(\"/classify\", methods=[\"POST\"])\n",
        "def classify():\n",
        "    sepal_length = float(request.form[\"sepal_length\"])\n",
        "    sepal_width = float(request.form[\"sepal_width\"])\n",
        "    petal_length = float(request.form[\"petal_length\"])\n",
        "    petal_width = float(request.form[\"petal_width\"])\n",
        "\n",
        "    data = [[sepal_length, sepal_width, petal_length, petal_width]]\n",
        "    prediction = model.predict(data)[0]\n",
        "    species = [\"Setosa\", \"Versicolor\", \"Virginica\"]\n",
        "\n",
        "    # Save the data to the database\n",
        "    connection = sqlite3.connect(\"iris.db\")\n",
        "    cursor = connection.cursor()\n",
        "    cursor.execute(\"INSERT INTO iris (sepal_length, sepal_width, petal_length, petal_width, species) VALUES (?, ?, ?, ?, ?)\",\n",
        "                   (sepal_length, sepal_width, petal_length, petal_width, species[prediction]))\n",
        "    connection.commit()\n",
        "    connection.close()\n",
        "\n",
        "    return jsonify({\"prediction\": species[prediction]})\n",
        "\n",
        "if __name__ == \"__main__\":\n",
        "    app.run(debug=True, port=5002)\n"
      ],
      "metadata": {
        "id": "TF73HpOWYndN"
      },
      "execution_count": null,
      "outputs": []
    },
    {
      "cell_type": "markdown",
      "source": [
        "Run app.py and navigate to http://127.0.0.1:5000/ in your web browser. You should see the Iris Classification app, where you can input the features and receive a classification prediction. The data will also be saved to the SQLite database."
      ],
      "metadata": {
        "id": "QCo_LL-PYrg8"
      }
    },
    {
      "cell_type": "code",
      "source": [],
      "metadata": {
        "id": "tx7KXHxZYsPX"
      },
      "execution_count": null,
      "outputs": []
    }
  ]
}