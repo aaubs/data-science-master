{
  "nbformat": 4,
  "nbformat_minor": 0,
  "metadata": {
    "colab": {
      "provenance": [],
      "toc_visible": true,
      "authorship_tag": "ABX9TyPvT74JcrgxykuyiTSfwUTJ",
      "include_colab_link": true
    },
    "kernelspec": {
      "name": "python3",
      "display_name": "Python 3"
    },
    "language_info": {
      "name": "python"
    }
  },
  "cells": [
    {
      "cell_type": "markdown",
      "metadata": {
        "id": "view-in-github",
        "colab_type": "text"
      },
      "source": [
        "<a href=\"https://colab.research.google.com/github/aaubs/ds-master/blob/main/notebooks/LSTM_Tutorial.ipynb\" target=\"_parent\"><img src=\"https://colab.research.google.com/assets/colab-badge.svg\" alt=\"Open In Colab\"/></a>"
      ]
    },
    {
      "cell_type": "markdown",
      "source": [
        "# The objective of this tutorial\n",
        "\n",
        "Our goal in this tutorial is to provide simple examples of the LSTM model so that you can better understand its functionality and how it can be used in a domain.\n",
        "\n",
        "After completing this tutorial, you will know:\n",
        "\n",
        "\n",
        "```\n",
        "- What is an LSTM (Long Short-Term Memory)\n",
        "- How LSTMs work and their structure compared to traditional RNNs\n",
        "- The purpose and benefits of using LSTMs for tasks such as sequence generation\n",
        "- How to implement an LSTM in code using PyTorch\n",
        "- How to train and fine-tune an LSTM for a specific task\n",
        "- Common challenges and pitfalls to avoid when working with LSTMs\n",
        "- The difference between various types of RNNs (RNN and LSTM)\n",
        "```\n",
        "\n",
        "\n"
      ],
      "metadata": {
        "id": "xBV3GHdBthUg"
      }
    },
    {
      "cell_type": "markdown",
      "source": [
        "#Long Short-Term Memory (LSTM) with PyTorch"
      ],
      "metadata": {
        "id": "XXRKHLikFB2O"
      }
    },
    {
      "cell_type": "markdown",
      "source": [
        "LSTMs are a type of RNN, so you will gain a better understanding of LSTMs by understanding RNN concepts.\n"
      ],
      "metadata": {
        "id": "AvcOJEjJJOor"
      }
    },
    {
      "cell_type": "markdown",
      "source": [
        "## A quick recap on RNNs"
      ],
      "metadata": {
        "id": "k1Qw79kqJnVm"
      }
    },
    {
      "cell_type": "markdown",
      "source": [
        "By processing inputs sequentially, RNNs calculate outputs by considering the context of previous inputs. As a result, the neural network can carry information over different time steps rather than keeping each input as an independent variable.\n",
        "\n",
        "Due to the problem of vanishing/exploding gradients, RNNs are unable to work with longer sequences and hold on to long-term dependencies.\n"
      ],
      "metadata": {
        "id": "YUBzGA2kLacs"
      }
    },
    {
      "cell_type": "markdown",
      "source": [
        "<img src=\"https://raw.githubusercontent.com/aaubs/ds-master/main/data/Images/RNN_Vanishing_Exploding.png\" width=\"700\">"
      ],
      "metadata": {
        "id": "mhPjiMzlA5d6"
      }
    },
    {
      "cell_type": "markdown",
      "source": [
        "#### Exploding gradient problem\n",
        "```\n",
        "- The gradients will be exploded if the gradient formula is deep (large T−t) and a single or multiple gradient values becoming \n",
        "very high (if Wh2h > 1).\n",
        "\n",
        "- This is less concerning than vanishing gradient problem because it can be easily solved by clipping the gradients \n",
        "at a predefined threshold value.\n",
        "```"
      ],
      "metadata": {
        "id": "z5qpz3dgAkAi"
      }
    },
    {
      "cell_type": "markdown",
      "source": [
        "#### Vanishing gradient problem\n",
        "```\n",
        "- The gradients will be vanished if the gradient formula is deep (large T−t) and a single or multiple gradient values \n",
        "becoming very low (if -1 < Wh2h < 1).\n",
        "- Calculating the error after several time step with respect to the first one, there will be a long dependency.\n",
        "- If any one of the gradients approached 0, all the gradient would rush to zero exponentially fast \n",
        "due to the multiplication of chain rule.\n",
        "- This state would no longer help the network to learn anything which is known as vanishing gradient problem.\n",
        "```\n",
        "> Below is the effects of applying a sigmoid function over and over again, it became very flattened with no detectable slope where its gradient become close to 0."
      ],
      "metadata": {
        "id": "pbR3aYktJHNG"
      }
    },
    {
      "cell_type": "markdown",
      "source": [
        "<img src=\"https://raw.githubusercontent.com/aaubs/ds-master/main/data/Images/RNN_Vanishing.png\" width=\"300\">\n",
        "\n"
      ],
      "metadata": {
        "id": "K1ZJjHH9DMzD"
      }
    },
    {
      "cell_type": "markdown",
      "source": [
        "Due to these issues, RNNs are unable to work with longer sequences and hold on to long-term dependencies, making them suffer from “short-term memory”."
      ],
      "metadata": {
        "id": "ytz3E68POBzG"
      }
    },
    {
      "cell_type": "markdown",
      "source": [
        "This problem can be solved in 3 ways:.\n",
        "```\n",
        "- Activation Function (ReLU instead of Tanh)\n",
        "- Weights initialization\n",
        "- Changing Network Architecture\n",
        "```\n",
        "\n",
        "This section will focus on the 3rd solution that is changing the network architecture. In this solution, you modify the architecture of RNNs and use the more complex recurrent unit with Gates such as LSTMs or GRUs (Gated Recurrent Units)."
      ],
      "metadata": {
        "id": "PKqUqyFdHnsr"
      }
    },
    {
      "cell_type": "markdown",
      "source": [
        "## LSTM: How does it help?"
      ],
      "metadata": {
        "id": "usClmn2VXlc3"
      }
    },
    {
      "cell_type": "markdown",
      "source": [
        "LSTMs are a special type of Neural Networks that perform similarly to Recurrent Neural Networks, but run better than RNNs, and further solve some of the important shortcomings of RNNs for long term dependencies, and vanishing gradients."
      ],
      "metadata": {
        "id": "fOxP53x3Issr"
      }
    },
    {
      "cell_type": "markdown",
      "source": [
        "<img src=\"https://raw.githubusercontent.com/aaubs/ds-master/main/data/Images/RNN-LSTM.png\" width=\"700\">\n",
        "\n"
      ],
      "metadata": {
        "id": "ejoDpnPgKMz8"
      }
    },
    {
      "cell_type": "markdown",
      "source": [
        "### Long-term Memory"
      ],
      "metadata": {
        "id": "s6rnF_G-NqO8"
      }
    },
    {
      "cell_type": "markdown",
      "source": [
        "The key building blocks behind LSTM are a cell state known as Long-term Memory and three different types of gates. Information is added or removed through these gates. Let's check these structuers:"
      ],
      "metadata": {
        "id": "MFGHP35jNzC4"
      }
    },
    {
      "cell_type": "markdown",
      "source": [
        "<img src=\"https://raw.githubusercontent.com/aaubs/ds-master/main/data/Images/LSTM_Gates.png\" width=\"700\"> \n",
        "\n",
        "> Cell state is a memory of the LSTM cell and hidden state (cell output) is an output of this cell. Cells do have internal cell state, often abbreviated as “c”, and cells output is what is called a “hidden state”, abbreviated as “h”. Regular RNNs have just the hidden state and no cell state.\n"
      ],
      "metadata": {
        "id": "HG01h_rHR6XD"
      }
    },
    {
      "cell_type": "markdown",
      "source": [
        "These gates are called the Input Gate, the Forget Gate, and the Output Gate. There are many variants to the names of these gates; nevertheless, the calculations and workings of these gates are mostly the same."
      ],
      "metadata": {
        "id": "zsFkqkvraF0D"
      }
    },
    {
      "cell_type": "markdown",
      "source": [
        "> Forget Gate: The forget gate decides which information from the long-term memory should be kept or discarded.\n",
        "\n",
        "> Input Gate: The input gate decides what new information will be stored in the long-term memory. It only works with the information from the current input and the short-term memory from the previous time step. Therefore, it has to filter out the information from these variables that are not useful.\n",
        "\n",
        "> Output Gate: The output gate will take the current input, the previous short-term memory, and the newly computed long-term memory to produce the new short-term memory/hidden state which will be passed on to the cell in the next time step. The output of the current time step can also be drawn from this hidden state."
      ],
      "metadata": {
        "id": "_RcuKlv1cHH5"
      }
    },
    {
      "cell_type": "markdown",
      "source": [
        "### How does a Gate work in LSTM? \n",
        "\n",
        "A gate consists of a neural net layer, like a sigmoid, and a pointwise multiplication shown in red in the figure above. \n",
        "\n",
        "<img src=\"https://raw.githubusercontent.com/aaubs/ds-master/main/data/Images/Sigmoid_pointwise-multiplication.jpeg\" width=\"200\"> \n",
        "> Sigmoid is forcing the input between 0 and 1, which determines how much information is captured when passed through the gate, and how much is retained when it passes through the gate. For example, 0 means no information is retained, and 1 means all information is retained.\n",
        "\n",
        "<img src=\"https://raw.githubusercontent.com/aaubs/ds-master/main/data/Images/LSTM_cellstate.png\" width=\"500\"> "
      ],
      "metadata": {
        "id": "8RuUMQ3WezoZ"
      }
    },
    {
      "cell_type": "markdown",
      "source": [
        "###Structure of LSTM"
      ],
      "metadata": {
        "id": "glkpeyRehC9x"
      }
    },
    {
      "cell_type": "markdown",
      "source": [
        "Now, let’s dig deeper to understand what is happening under the hood. LSTM consists of five different parts:\n",
        "1. Parameters (This includes the weights and biases of the input-to-hidden layer, the hidden-to-hidden layer, and the hidden-to-output layer.)\n",
        "> *The hidden state is used to capture the information from the previous time steps, but this information is not relevant after the training process is finished. Therefore, resetting the hidden-to-hidden layer parameters to zero ensures that the network starts with a clean slate for making predictions on new, unseen data.*\n",
        "\n",
        "2. The hidden state (also known as the Short-term Memory)\n",
        "> *you can think of the hidden state as representing the \"memory\" of the network, which is updated at each time step and used to produce the output.*\n",
        "\n",
        "3. The cell state (also known as the Long-term Memory)\n",
        "> \n",
        "\n",
        "4. Non-Linear part (Activation Function (Tanh))\n",
        "> As you can see in the equation above, you feed in both input vector Xt and the previous state ht-1 into the function. Here you’ll have 2 separate weight matrices then apply the Non-linearity (tanh) to the sum of input Xt and previous state ht-1 after multiplication to these 2 weight matrices. \n",
        "\n",
        "<img src=\"https://raw.githubusercontent.com/aaubs/ds-master/main/data/Images/LSTM_formula.png\" width=\"800\">\n",
        "\n",
        "\n",
        "5. Linear part: Finally, you’ll have the output vector ŷt at the timestamp t.\n",
        "> <img src=\"https://raw.githubusercontent.com/aaubs/ds-master/main/data/Images/sequence-3.png\" width=\"150\"> \n"
      ],
      "metadata": {
        "id": "gLKx-_FgqVPf"
      }
    },
    {
      "cell_type": "markdown",
      "source": [
        "## LSTM code implementation\n",
        "\n",
        "Let's get started with Data Preparation for the LSTM  implementation!"
      ],
      "metadata": {
        "id": "chEUSYNosPxr"
      }
    },
    {
      "cell_type": "code",
      "source": [
        "# import required libraries\n",
        "import torch\n",
        "import pandas as pd\n",
        "import torch.nn as nn\n",
        "import torch.optim as optim\n",
        "import numpy as np\n",
        "from torch.utils.data import DataLoader, TensorDataset\n",
        "from sklearn.preprocessing import MinMaxScaler\n",
        "import matplotlib.pyplot as plt"
      ],
      "metadata": {
        "id": "TghxPGJ85O07"
      },
      "execution_count": 2,
      "outputs": []
    },
    {
      "cell_type": "markdown",
      "source": [
        "### Data Preparation"
      ],
      "metadata": {
        "id": "kse8ygK06B1a"
      }
    },
    {
      "cell_type": "markdown",
      "source": [
        "To understand how should we prepare the data for LSTM, we’ll use a simple dataset as a Timeseries Forecasting example. Below is the full sequence of values and their restructuring as a training and testing dataset.\n",
        "\n",
        "<img src=\"https://raw.githubusercontent.com/aaubs/ds-master/main/data/Images/SequenceDataPerparation.webp\" width=\"400\"> \n",
        "\n",
        "Now, let’s separate the datasets into batches!\n",
        "\n",
        "<img src=\"https://raw.githubusercontent.com/aaubs/ds-master/main/data/Images/Seq_DataPerparation_2.webp\" width=\"100\"> "
      ],
      "metadata": {
        "id": "l3KQo2ko5S3N"
      }
    },
    {
      "cell_type": "code",
      "source": [
        "stock_data = [10, 20, 30, 40, 50, 60, 70, 80, 90]"
      ],
      "metadata": {
        "id": "5qSxuowB4zPc"
      },
      "execution_count": 87,
      "outputs": []
    },
    {
      "cell_type": "code",
      "source": [
        "# Split the data into sequences for LSTM input\n",
        "n_steps = 3\n",
        "sequence_data = []\n",
        "sequence_labels = []\n",
        "\n",
        "for i in range(len(stock_data) - n_steps):\n",
        "    sequence_data.append(stock_data[i:i+n_steps])\n",
        "    sequence_labels.append(stock_data[i+n_steps])\n",
        "\n",
        "sequence_data = np.array(sequence_data)\n",
        "sequence_labels = np.array(sequence_labels)\n",
        "\n",
        "train_data = sequence_data[:4]\n",
        "train_labels = sequence_labels[:4]\n",
        "test_data = sequence_data[4:]\n",
        "test_labels = sequence_labels[4:]"
      ],
      "metadata": {
        "id": "ecilxuWywxEL"
      },
      "execution_count": 124,
      "outputs": []
    },
    {
      "cell_type": "code",
      "source": [
        "print(\"Train data: \\n\", train_data)\n",
        "print(\"Labels: \\n\", train_labels)"
      ],
      "metadata": {
        "colab": {
          "base_uri": "https://localhost:8080/"
        },
        "id": "-YqRL6bV5WIR",
        "outputId": "da1f9da3-a958-46c9-8ade-c30663e05c97"
      },
      "execution_count": 125,
      "outputs": [
        {
          "output_type": "stream",
          "name": "stdout",
          "text": [
            "Train data: \n",
            " [[10 20 30]\n",
            " [20 30 40]\n",
            " [30 40 50]\n",
            " [40 50 60]]\n",
            "Labels: \n",
            " [40 50 60 70]\n"
          ]
        }
      ]
    },
    {
      "cell_type": "markdown",
      "source": [
        "Implementing code for LSTM and RNN requires sequential data preparation. The data preparation process for these models is visualized here!\n",
        "\n",
        "\n",
        "<img src=\"https://raw.githubusercontent.com/aaubs/ds-master/main/data/Images/sequence.gif\" width=\"600\"> \n"
      ],
      "metadata": {
        "id": "ot0lYrMKzpVL"
      }
    },
    {
      "cell_type": "code",
      "source": [
        "# Split the data into training and testing sets\n",
        "train_data = TensorDataset(torch.from_numpy(train_data), torch.from_numpy(train_labels))\n",
        "test_data = TensorDataset(torch.from_numpy(test_data), torch.from_numpy(test_labels))\n",
        "\n",
        "train_loader = DataLoader(train_data, batch_size=1, shuffle=True)\n",
        "test_loader = DataLoader(test_data, batch_size=1, shuffle=False)"
      ],
      "metadata": {
        "id": "yUSnLJXahUSY"
      },
      "execution_count": 126,
      "outputs": []
    },
    {
      "cell_type": "markdown",
      "source": [
        "We then have to prepare the dataset. We need the data as Pytorch tensors so that we can use that in our model which we will make. We use the dataloader so that we can extract the data in batches. This is especially helpful for large datasets.\n",
        "\n",
        "<img src=\"https://raw.githubusercontent.com/aaubs/ds-master/main/data/Images/TensorDataset.webp\" width=\"600\"> \n",
        "\n"
      ],
      "metadata": {
        "id": "wMQQtwD2-h6Y"
      }
    },
    {
      "cell_type": "markdown",
      "source": [
        "### Training LSTM"
      ],
      "metadata": {
        "id": "eCgS1qv8Dyl2"
      }
    },
    {
      "cell_type": "markdown",
      "source": [
        "In order to create a LSTM, we follow the same steps as for implementing an ANN!\n",
        "\n",
        "\n",
        "```\n",
        "- Creating a Neural Network\n",
        "- Network Evaluation\n",
        "- Gradient Calculation\n",
        "- Back Propagation\n",
        "- Training\n",
        "```\n",
        "\n",
        "\n"
      ],
      "metadata": {
        "id": "0X61vU18CVOC"
      }
    },
    {
      "cell_type": "markdown",
      "source": [
        "<img src=\"https://raw.githubusercontent.com/aaubs/ds-master/main/data/Images/LSTM_dynamic.gif\" width=\"600\"> "
      ],
      "metadata": {
        "id": "Hrt2n20_DiV_"
      }
    },
    {
      "cell_type": "code",
      "source": [
        "# Initialize the LSTM model\n",
        "# Define the input size, hidden size and number of outputs\n",
        "input_size = 3\n",
        "hidden_size = 6\n",
        "output_size = 1\n",
        "num_epochs= 10\n",
        "\n",
        "# Define the LSTM model and Linear output fully connected layer\n",
        "lstm = nn.LSTM(input_size, hidden_size, batch_first=True)\n",
        "fc = nn.Linear(hidden_size, output_size)\n",
        "\n",
        "# Define the loss function and optimizer\n",
        "criterion = nn.MSELoss()\n",
        "optimizer = optim.SGD(lstm.parameters(), lr=0.01)"
      ],
      "metadata": {
        "id": "3wO5usRFvvYt"
      },
      "execution_count": 153,
      "outputs": []
    },
    {
      "cell_type": "code",
      "source": [
        "# Initializing Hyperparameters\n",
        "num_epochs = 1000\n",
        "train_losses = []\n",
        "test_losses = []\n",
        "\n",
        "# Loop over the number of epochs\n",
        "for epoch in range(num_epochs):\n",
        "    train_loss = 0\n",
        "    # Get the input and target at position i\n",
        "    for i, (data, label) in enumerate(train_loader):\n",
        "        \n",
        "        # Initialize the hidden state and the cell state\n",
        "        # The hidden state and the cell state reset to zero for every epoch\n",
        "        hidden = (torch.zeros(data.size(0), hidden_size),\n",
        "                  torch.zeros(data.size(0), hidden_size))\n",
        "\n",
        "        # Run the forward pass\n",
        "        output, hidden = lstm(data.float(), hidden)\n",
        "        output = fc(hidden[-1])\n",
        "\n",
        "        # 2. Network Evaluation\n",
        "        loss = criterion(output, label.float())\n",
        "\n",
        "        # 3. Gradient Calculation\n",
        "        loss.backward()\n",
        "\n",
        "        # 4. Back Propagation\n",
        "        optimizer.step()\n",
        "        optimizer.zero_grad()\n",
        "\n",
        "        train_loss += loss.item()\n",
        "\n",
        "    # Calculate the average training loss\n",
        "    train_loss = train_loss / len(train_loader)\n",
        "    train_losses.append(train_loss)\n",
        "\n",
        "# Plot the MSE loss for each epoch\n",
        "plt.plot(train_losses)\n",
        "plt.xlabel('Epoch')\n",
        "plt.ylabel('MSE Loss')\n",
        "plt.title('Training Loss over Epochs')\n",
        "plt.show()\n",
        "\n",
        "# Evaluate the LSTM model\n",
        "mse = 0\n",
        "\n",
        "with torch.no_grad():\n",
        "    for data, label in test_loader:\n",
        "        hidden = (torch.zeros(data.size(0), hidden_size),\n",
        "                  torch.zeros(data.size(0), hidden_size))\n",
        "        output, hidden = lstm(data.float(), hidden)\n",
        "        output = fc(hidden[-1])\n",
        "\n",
        "        mse += ((output - label)**2).mean().item()\n",
        "\n",
        "mse /= len(test_loader)\n",
        "print('Test MSE: {}'.format(mse))\n",
        "\n",
        "# Save the trained LSTM model\n",
        "# ..."
      ],
      "metadata": {
        "colab": {
          "base_uri": "https://localhost:8080/",
          "height": 367
        },
        "id": "W_MHGlZqd0ql",
        "outputId": "ed8d0f61-41fd-4abc-e29b-d43abf1c0f3f"
      },
      "execution_count": 154,
      "outputs": [
        {
          "output_type": "stream",
          "name": "stderr",
          "text": [
            "/usr/local/lib/python3.8/dist-packages/torch/nn/modules/loss.py:536: UserWarning: Using a target size (torch.Size([1])) that is different to the input size (torch.Size([1, 1])). This will likely lead to incorrect results due to broadcasting. Please ensure they have the same size.\n",
            "  return F.mse_loss(input, target, reduction=self.reduction)\n"
          ]
        },
        {
          "output_type": "display_data",
          "data": {
            "text/plain": [
              "<Figure size 432x288 with 1 Axes>"
            ],
            "image/png": "[encoded data removed]"
          },
          "metadata": {
            "needs_background": "light"
          }
        },
        {
          "output_type": "stream",
          "name": "stdout",
          "text": [
            "Test MSE: 7180.60693359375\n"
          ]
        }
      ]
    },
    {
      "cell_type": "markdown",
      "source": [
        "### LSTM and RNN comparison\n",
        "Let's implement RNN network for this dataset and compare the structure of the codes for these two models (RNN and LSTM)!"
      ],
      "metadata": {
        "id": "SGzcYOnWEAee"
      }
    },
    {
      "cell_type": "code",
      "source": [
        "# Initialize the RNN model\n",
        "input_size = 3\n",
        "hidden_size = 6\n",
        "output_size = 1\n",
        "num_epochs= 10\n",
        "\n",
        "rnn = nn.RNN(input_size, hidden_size, batch_first=True)\n",
        "fc = nn.Linear(hidden_size, output_size)\n",
        "\n",
        "criterion = nn.MSELoss()\n",
        "optimizer = optim.SGD(rnn.parameters(), lr=0.01)"
      ],
      "metadata": {
        "id": "Q0BOErVxv77N"
      },
      "execution_count": 155,
      "outputs": []
    },
    {
      "cell_type": "code",
      "source": [
        "# Initializing Hyperparameters\n",
        "num_epochs = 1000\n",
        "train_losses = []\n",
        "test_losses = []\n",
        "\n",
        "# Loop over the number of epochs\n",
        "for epoch in range(num_epochs):\n",
        "    train_loss = 0\n",
        "    # Get the input and target at position i\n",
        "    for i, (data, label) in enumerate(train_loader):\n",
        "        \n",
        "\n",
        "        # Initialize the hidden state \n",
        "        hidden = torch.zeros(data.size(0), hidden_size)\n",
        "\n",
        "        # Run the forward pass\n",
        "        output, hidden = rnn(data.float(), hidden)\n",
        "        output = fc(hidden[-1])\n",
        "\n",
        "        # 2. Network Evaluation\n",
        "        loss = criterion(output, label.float())\n",
        "\n",
        "        # 3. Gradient Calculation\n",
        "        loss.backward()\n",
        "\n",
        "        # 4. Back Propagation\n",
        "        optimizer.step()\n",
        "        optimizer.zero_grad()\n",
        "\n",
        "        train_loss += loss.item()\n",
        "\n",
        "    # Calculate the average training loss\n",
        "    train_loss = train_loss / len(train_loader)\n",
        "    train_losses.append(train_loss)\n",
        "\n",
        "# Plot the MSE loss for each epoch\n",
        "plt.plot(train_losses)\n",
        "plt.xlabel('Epoch')\n",
        "plt.ylabel('MSE Loss')\n",
        "plt.title('Training Loss over Epochs')\n",
        "plt.show()\n",
        "\n",
        "# Evaluate the LSTM model\n",
        "mse = 0\n",
        "\n",
        "with torch.no_grad():\n",
        "    for data, label in test_loader:\n",
        "        hidden = torch.zeros(data.size(0), hidden_size)\n",
        "        output, hidden = rnn(data.float(), hidden)\n",
        "        output = fc(hidden[-1])\n",
        "\n",
        "        mse += ((output - label)**2).mean().item()\n",
        "\n",
        "mse /= len(test_loader)\n",
        "print('Test MSE: {}'.format(mse))\n",
        "\n",
        "# Save the trained RNN model\n",
        "# ..."
      ],
      "metadata": {
        "colab": {
          "base_uri": "https://localhost:8080/",
          "height": 312
        },
        "id": "LKvzUDDK0aN-",
        "outputId": "a87609a9-5c37-4f36-c689-ea12a21a6825"
      },
      "execution_count": 156,
      "outputs": [
        {
          "output_type": "display_data",
          "data": {
            "text/plain": [
              "<Figure size 432x288 with 1 Axes>"
            ],
            "image/png": "[encoded data removed]"
          },
          "metadata": {
            "needs_background": "light"
          }
        },
        {
          "output_type": "stream",
          "name": "stdout",
          "text": [
            "Test MSE: 7324.67333984375\n"
          ]
        }
      ]
    },
    {
      "cell_type": "markdown",
      "source": [
        "### Hands-On Learning Project: S&P 500 stock data"
      ],
      "metadata": {
        "id": "EO5GfKMD2j2n"
      }
    },
    {
      "cell_type": "code",
      "source": [
        "import torch\n",
        "import pandas as pd\n",
        "import torch.nn as nn\n",
        "import torch.optim as optim\n",
        "import numpy as np\n",
        "from torch.utils.data import DataLoader, TensorDataset\n",
        "from sklearn.preprocessing import MinMaxScaler\n",
        "import matplotlib.pyplot as plt\n",
        "\n",
        "# Load the stock data\n",
        "stock_data = pd.read_csv('https://raw.githubusercontent.com/rashida048/Datasets/master/stock_data.csv')\n",
        "scaler = MinMaxScaler() \n",
        "data_scaled = scaler.fit_transform(stock_data[['Open', 'High', 'Low', 'Close', 'Volume']])\n",
        "data_s = pd.DataFrame(data_scaled, columns=['Open', 'High', 'Low', 'Close', 'Volume'])\n",
        "stock_data = data_s[['Open']].to_numpy()\n",
        "\n",
        "# Split the data into sequences for RNN input\n",
        "sequence_length = 30\n",
        "sequence_data = []\n",
        "sequence_labels = []\n",
        "for i in range(len(stock_data) - sequence_length):\n",
        "    sequence_data.append(stock_data[i:i+sequence_length])\n",
        "    sequence_labels.append(stock_data[i+sequence_length])\n",
        "sequence_data = np.array(sequence_data)\n",
        "sequence_labels = np.array(sequence_labels)\n",
        "\n",
        "train_data = sequence_data[:2000]\n",
        "train_labels = sequence_labels[:2000]\n",
        "test_data = sequence_data[2000:]\n",
        "test_labels = sequence_labels[2000:]\n",
        "\n",
        "# Split the data into training and testing sets\n",
        "train_data = TensorDataset(torch.from_numpy(train_data), torch.from_numpy(train_labels))\n",
        "test_data = TensorDataset(torch.from_numpy(test_data), torch.from_numpy(test_labels))\n",
        "\n",
        "train_loader = DataLoader(train_data, batch_size=64, shuffle=True)\n",
        "test_loader = DataLoader(test_data, batch_size=64, shuffle=False)\n",
        "\n",
        "# Initialize the RNN model\n",
        "input_size = 1\n",
        "hidden_size = 6\n",
        "output_size = 1\n",
        "num_epochs= 10\n",
        "\n",
        "rnn = nn.RNN(input_size, hidden_size, batch_first=True)\n",
        "fc = nn.Linear(hidden_size, output_size)\n",
        "\n",
        "criterion = nn.MSELoss()\n",
        "optimizer = optim.SGD(rnn.parameters(), lr=0.01)\n",
        "\n",
        "# Train the RNN model\n",
        "num_epochs = 1000\n",
        "train_losses = []\n",
        "test_losses = []\n",
        "\n",
        "for epoch in range(num_epochs):\n",
        "    train_loss = 0\n",
        "\n",
        "    for i, (data, label) in enumerate(train_loader):\n",
        "        optimizer.zero_grad()\n",
        "\n",
        "        hidden = torch.zeros(1, data.size(0), hidden_size)\n",
        "        output, hidden = rnn(data.float(), hidden)\n",
        "        output = fc(hidden[-1])\n",
        "\n",
        "        loss = criterion(output, label.float())\n",
        "        loss.backward()\n",
        "        optimizer.step()\n",
        "        train_loss += loss.item()\n",
        "\n",
        "    # Calculate the average training loss\n",
        "    train_loss = train_loss / len(train_loader)\n",
        "    train_losses.append(train_loss)\n",
        "\n",
        "# Plot the MSE loss for each epoch\n",
        "plt.plot(train_losses)\n",
        "plt.xlabel('Epoch')\n",
        "plt.ylabel('MSE Loss')\n",
        "plt.title('Training Loss over Epochs')\n",
        "plt.show()\n",
        "\n",
        "# Evaluate the RNN model\n",
        "mse = 0\n",
        "\n",
        "with torch.no_grad():\n",
        "    for data, label in test_loader:\n",
        "        hidden = torch.zeros(1, data.size(0), hidden_size)\n",
        "        output, hidden = rnn(data.float(), hidden)\n",
        "        output = fc(hidden[-1])\n",
        "\n",
        "        mse += ((output - label)**2).mean().item()\n",
        "\n",
        "mse /= len(test_loader)\n",
        "print('Test MSE: {}'.format(mse))\n",
        "\n",
        "# Save the trained RNN model\n",
        "# ..."
      ],
      "metadata": {
        "colab": {
          "base_uri": "https://localhost:8080/",
          "height": 312
        },
        "id": "6ZzZfj2CAOaF",
        "outputId": "22b6d7d2-36c0-4d72-8d89-50623a8f1566"
      },
      "execution_count": 2,
      "outputs": [
        {
          "output_type": "display_data",
          "data": {
            "text/plain": [
              "<Figure size 432x288 with 1 Axes>"
            ],
            "image/png": "[encoded data removed]"
          },
          "metadata": {
            "needs_background": "light"
          }
        },
        {
          "output_type": "stream",
          "name": "stdout",
          "text": [
            "Test MSE: 0.06661457534292396\n"
          ]
        }
      ]
    },
    {
      "cell_type": "code",
      "source": [
        "import torch\n",
        "import pandas as pd\n",
        "import torch.nn as nn\n",
        "import torch.optim as optim\n",
        "import numpy as np\n",
        "from torch.utils.data import DataLoader, TensorDataset\n",
        "from sklearn.preprocessing import MinMaxScaler\n",
        "import matplotlib.pyplot as plt\n",
        "\n",
        "# Load the stock data\n",
        "stock_data = pd.read_csv('https://raw.githubusercontent.com/rashida048/Datasets/master/stock_data.csv')\n",
        "scaler = MinMaxScaler() \n",
        "data_scaled = scaler.fit_transform(stock_data[['Open', 'High', 'Low', 'Close', 'Volume']])\n",
        "data_s = pd.DataFrame(data_scaled, columns=['Open', 'High', 'Low', 'Close', 'Volume'])\n",
        "stock_data = data_s[['Open']].to_numpy()\n",
        "\n",
        "# Split the data into sequences for lstm input\n",
        "sequence_length = 30\n",
        "sequence_data = []\n",
        "sequence_labels = []\n",
        "for i in range(len(stock_data) - sequence_length):\n",
        "    sequence_data.append(stock_data[i:i+sequence_length])\n",
        "    sequence_labels.append(stock_data[i+sequence_length])\n",
        "sequence_data = np.array(sequence_data)\n",
        "sequence_labels = np.array(sequence_labels)\n",
        "\n",
        "train_data = sequence_data[:2000]\n",
        "train_labels = sequence_labels[:2000]\n",
        "test_data = sequence_data[2000:]\n",
        "test_labels = sequence_labels[2000:]\n",
        "\n",
        "# Split the data into training and testing sets\n",
        "train_data = TensorDataset(torch.from_numpy(train_data), torch.from_numpy(train_labels))\n",
        "test_data = TensorDataset(torch.from_numpy(test_data), torch.from_numpy(test_labels))\n",
        "\n",
        "train_loader = DataLoader(train_data, batch_size=64, shuffle=True)\n",
        "test_loader = DataLoader(test_data, batch_size=64, shuffle=False)\n",
        "\n",
        "# Initialize the LSTM model\n",
        "input_size = sequence_data.shape[2]\n",
        "hidden_size = 6\n",
        "output_size = 1\n",
        "\n",
        "lstm = nn.LSTM(input_size, hidden_size, batch_first=True)\n",
        "fc = nn.Linear(hidden_size, output_size)\n",
        "\n",
        "criterion = nn.MSELoss()\n",
        "optimizer = optim.SGD(lstm.parameters(), lr=0.01)\n",
        "\n",
        "# Train the lstm model\n",
        "num_epochs = 100\n",
        "train_losses = []\n",
        "test_losses = []\n",
        "\n",
        "for epoch in range(num_epochs):\n",
        "    train_loss = 0\n",
        "\n",
        "    for i, (data, label) in enumerate(train_loader):\n",
        "        optimizer.zero_grad()\n",
        "\n",
        "        hidden = (torch.zeros(1, data.size(0), hidden_size),\n",
        "                  torch.zeros(1, data.size(0), hidden_size))\n",
        "        output, hidden = lstm(data.float(), hidden)\n",
        "        output = fc(hidden[0][-1])\n",
        "\n",
        "        loss = criterion(output, label.float())\n",
        "        loss.backward()\n",
        "        optimizer.step()\n",
        "        train_loss += loss.item()\n",
        "\n",
        "    # Calculate the average training loss\n",
        "    train_loss = train_loss / len(train_loader)\n",
        "    train_losses.append(train_loss)\n",
        "\n",
        "# Plot the MSE loss for each epoch\n",
        "plt.plot(train_losses)\n",
        "plt.xlabel('Epoch')\n",
        "plt.ylabel('MSE Loss')\n",
        "plt.title('Training Loss over Epochs')\n",
        "plt.show()\n",
        "\n",
        "# Evaluate the lstm model\n",
        "mse = 0\n",
        "\n",
        "with torch.no_grad():\n",
        "    for data, label in test_loader:\n",
        "        hidden = (torch.zeros(1, data.size(0), hidden_size),\n",
        "                  torch.zeros(1, data.size(0), hidden_size))\n",
        "        output, hidden = lstm(data.float(), hidden)\n",
        "        output = fc(hidden[0][-1])\n",
        "\n",
        "        mse += ((output - label)**2).mean().item()\n",
        "\n",
        "mse /= len(test_loader)\n",
        "print('Test MSE: {}'.format(mse))\n",
        "\n",
        "# Save the trained lstm model\n",
        "# ..."
      ],
      "metadata": {
        "colab": {
          "base_uri": "https://localhost:8080/",
          "height": 312
        },
        "id": "DZV_fPj5NeQd",
        "outputId": "b239d5a5-4dc5-45fc-fcec-d0a8ccd69ae4"
      },
      "execution_count": 3,
      "outputs": [
        {
          "output_type": "display_data",
          "data": {
            "text/plain": [
              "<Figure size 432x288 with 1 Axes>"
            ],
            "image/png": "[encoded data removed]"
          },
          "metadata": {
            "needs_background": "light"
          }
        },
        {
          "output_type": "stream",
          "name": "stdout",
          "text": [
            "Test MSE: 0.1531948384389388\n"
          ]
        }
      ]
    }
  ]
}