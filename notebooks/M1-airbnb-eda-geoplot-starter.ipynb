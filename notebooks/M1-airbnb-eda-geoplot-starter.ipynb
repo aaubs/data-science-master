{
  "nbformat": 4,
  "nbformat_minor": 0,
  "metadata": {
    "colab": {
      "provenance": [],
      "authorship_tag": "ABX9TyNxBuya4rLF/irNvLnqGWG9",
      "include_colab_link": true
    },
    "kernelspec": {
      "name": "python3",
      "display_name": "Python 3"
    },
    "language_info": {
      "name": "python"
    }
  },
  "cells": [
    {
      "cell_type": "markdown",
      "metadata": {
        "id": "view-in-github",
        "colab_type": "text"
      },
      "source": [
        "<a href=\"https://colab.research.google.com/github/aaubs/ds-master/blob/main/notebooks/M1-airbnb-eda-geoplot-starter.ipynb\" target=\"_parent\"><img src=\"https://colab.research.google.com/assets/colab-badge.svg\" alt=\"Open In Colab\"/></a>"
      ]
    },
    {
      "cell_type": "code",
      "execution_count": null,
      "metadata": {
        "id": "-Gbsxq0sihr6"
      },
      "outputs": [],
      "source": [
        "# Installs\n",
        "!pip install pydeck -q\n",
        "!pip install folium"
      ]
    },
    {
      "cell_type": "code",
      "source": [
        "import numpy as np\n",
        "import pandas as pd\n",
        "import seaborn as sns #seaborn plots\n",
        "from matplotlib import pyplot as plt #plot control\n",
        "sns.set() #plot style\n",
        "\n",
        "#Geoplotting with folium/leaflet\n",
        "import folium\n",
        "from folium.plugins import MarkerCluster\n",
        "from folium.plugins import HeatMap\n",
        "\n",
        "#Fancy geoplotting with DeckGL\n",
        "import pydeck as pdk"
      ],
      "metadata": {
        "id": "LG5RDNCPisbG"
      },
      "execution_count": null,
      "outputs": []
    },
    {
      "cell_type": "code",
      "source": [
        "data = pd.read_csv('http://data.insideairbnb.com/denmark/hovedstaden/copenhagen/2022-06-24/visualisations/listings.csv')"
      ],
      "metadata": {
        "id": "lv_frIApi4Hk"
      },
      "execution_count": null,
      "outputs": []
    },
    {
      "cell_type": "code",
      "source": [
        "data"
      ],
      "metadata": {
        "id": "tUd81b8vjEJi"
      },
      "execution_count": null,
      "outputs": []
    },
    {
      "cell_type": "code",
      "source": [
        "data = data[data.number_of_reviews > 0]"
      ],
      "metadata": {
        "id": "auuEPpPDjClc"
      },
      "execution_count": null,
      "outputs": []
    },
    {
      "cell_type": "code",
      "source": [
        "data.room_type.value_counts()"
      ],
      "metadata": {
        "id": "BiQi4xxjjV-v"
      },
      "execution_count": null,
      "outputs": []
    },
    {
      "cell_type": "code",
      "source": [
        "data.room_type.unique()"
      ],
      "metadata": {
        "id": "aYUa8rAajeHR"
      },
      "execution_count": null,
      "outputs": []
    },
    {
      "cell_type": "code",
      "source": [
        "data = data[data.room_type.isin(['Private room', 'Entire home/apt'])]"
      ],
      "metadata": {
        "id": "5G7RvhbZjjY3"
      },
      "execution_count": null,
      "outputs": []
    },
    {
      "cell_type": "code",
      "source": [
        "data.neighbourhood.value_counts()"
      ],
      "metadata": {
        "id": "GQ0hUx3_jn6t"
      },
      "execution_count": null,
      "outputs": []
    },
    {
      "cell_type": "code",
      "source": [
        "palette=['#FF8C00','#A034F0', '#159090']"
      ],
      "metadata": {
        "id": "P0KINt5un_55"
      },
      "execution_count": null,
      "outputs": []
    },
    {
      "cell_type": "code",
      "source": [
        "plt.figure(figsize=(10,6))\n",
        "\n",
        "sns.boxplot(data = data, x = \"price\", y = \"neighbourhood\" , \n",
        "            hue = \"room_type\", palette=palette)"
      ],
      "metadata": {
        "id": "WxlCvr3Mjx7Z"
      },
      "execution_count": null,
      "outputs": []
    },
    {
      "cell_type": "code",
      "source": [
        "data['price_z'] = (data['price'] -data['price'].mean())/data['price'].std(ddof=0)"
      ],
      "metadata": {
        "id": "JWwt8IAdkf9J"
      },
      "execution_count": null,
      "outputs": []
    },
    {
      "cell_type": "code",
      "source": [
        "data['price_z'] = data['price_z'].abs()"
      ],
      "metadata": {
        "id": "z-8ovxuamJU3"
      },
      "execution_count": null,
      "outputs": []
    },
    {
      "cell_type": "code",
      "source": [
        "data = data[data.price_z < 3]"
      ],
      "metadata": {
        "id": "qYFRXQm5mLI6"
      },
      "execution_count": null,
      "outputs": []
    },
    {
      "cell_type": "code",
      "source": [
        "plt.figure(figsize=(10,6))\n",
        "\n",
        "sns.boxplot(data = data, x = \"price\", y = \"neighbourhood\" , \n",
        "            hue = \"room_type\", palette=palette)"
      ],
      "metadata": {
        "id": "o3KSrYjImdUE"
      },
      "execution_count": null,
      "outputs": []
    },
    {
      "cell_type": "code",
      "source": [
        "plt.figure(figsize=(10,6))\n",
        "\n",
        "sns.boxplot(data = data, x = \"price\", y = \"neighbourhood\" , \n",
        "            hue = \"room_type\", palette=palette, showfliers=False)"
      ],
      "metadata": {
        "id": "YPJcQgHmoI8U"
      },
      "execution_count": null,
      "outputs": []
    },
    {
      "cell_type": "code",
      "source": [
        "data['log_price'] = np.log(data['price'])"
      ],
      "metadata": {
        "id": "AQaiRsgdpOHZ"
      },
      "execution_count": null,
      "outputs": []
    },
    {
      "cell_type": "code",
      "source": [
        "g = sns.lmplot(x=\"reviews_per_month\",\n",
        "               y=\"log_price\",\n",
        "               hue=\"room_type\",\n",
        "               height=7,\n",
        "               data=data,\n",
        "                scatter_kws={'alpha':0.5},\n",
        "               palette=palette)\n",
        "g.set_xlabels('Reviews/month')\n",
        "g.set_ylabels('Price')"
      ],
      "metadata": {
        "id": "JSGd-gsyms_y"
      },
      "execution_count": null,
      "outputs": []
    },
    {
      "cell_type": "code",
      "source": [
        "data_s = data.sample(1000)"
      ],
      "metadata": {
        "id": "su3ZsgZH2PvG"
      },
      "execution_count": null,
      "outputs": []
    },
    {
      "cell_type": "code",
      "source": [
        "#Define the map\n",
        "map = folium.Map(location=[55.7800, 12.5400], zoom_start=12)\n",
        "\n",
        "#add prettier base-layer\n",
        "folium.TileLayer('cartodbpositron').add_to(map)\n",
        "\n",
        "#add points (in a loop)\n",
        "for j in data_s.iterrows():\n",
        "    marker= folium.Circle(\n",
        "        radius=30,\n",
        "        location=[j[1]['latitude'], j[1]['longitude']],\n",
        "        tooltip=j[1]['name'],\n",
        "        popup=f\"<b>{j[1]['name']}</b>\\n {j[1]['price']}\",\n",
        "        color='purple',\n",
        "        fill=True\n",
        "    ).add_to(map)\n",
        "\n",
        "#locations = zip(data['longitude'], data['latitude'])\n",
        "#HeatMap(locations).add_to(map)"
      ],
      "metadata": {
        "id": "y2hDeIu_wKdO"
      },
      "execution_count": null,
      "outputs": []
    },
    {
      "cell_type": "code",
      "source": [
        "map"
      ],
      "metadata": {
        "id": "bo035E7CyRCh"
      },
      "execution_count": null,
      "outputs": []
    },
    {
      "cell_type": "code",
      "source": [
        "#Define the map\n",
        "map = folium.Map(location=[55.7800, 12.5400], zoom_start=12)\n",
        "\n",
        "#add prettier base-layer\n",
        "folium.TileLayer('cartodbpositron').add_to(map)\n",
        "\n",
        "#add points (in a loop)\n",
        "for j in data_s.iterrows():\n",
        "    marker= folium.Circle(\n",
        "        radius=30,\n",
        "        location=[j[1]['latitude'], j[1]['longitude']],\n",
        "        tooltip=j[1]['name'],\n",
        "        popup=f\"<b>{j[1]['name']}</b>\\n {j[1]['price']}\",\n",
        "        color='purple',\n",
        "        fill=True\n",
        "    ).add_to(map)\n",
        "\n",
        "locations = zip(data_s['latitude'], data_s['longitude'])\n",
        "HeatMap(locations).add_to(map)"
      ],
      "metadata": {
        "id": "JnJJRRMJ3R4K"
      },
      "execution_count": null,
      "outputs": []
    },
    {
      "cell_type": "code",
      "source": [
        "map"
      ],
      "metadata": {
        "id": "_wMmqjF36GAa"
      },
      "execution_count": null,
      "outputs": []
    },
    {
      "cell_type": "code",
      "source": [
        "data_s = data.sample(5000)"
      ],
      "metadata": {
        "id": "y7I9NLBJ3WKI"
      },
      "execution_count": null,
      "outputs": []
    },
    {
      "cell_type": "code",
      "source": [
        "marker_cluster = MarkerCluster(\n",
        "    name='CPH Airbnb',\n",
        "    overlay=True,\n",
        "    control=False,\n",
        "    icon_create_function=None,\n",
        "    showCoverageOnHover = False\n",
        ")"
      ],
      "metadata": {
        "id": "VxBQ9QEd3k6A"
      },
      "execution_count": null,
      "outputs": []
    },
    {
      "cell_type": "code",
      "source": [
        "#Define the map\n",
        "map = folium.Map(location=[55.7800, 12.5400], zoom_start=12)\n",
        "\n",
        "#add prettier base-layer\n",
        "folium.TileLayer('cartodbpositron').add_to(map)\n",
        "\n",
        "#add points (in a loop)\n",
        "for j in data_s.iterrows(): # <--- using the whole dataset\n",
        "    marker= folium.Circle(\n",
        "        radius=30,\n",
        "        location=[j[1]['latitude'], j[1]['longitude']],\n",
        "        tooltip=j[1]['name'],\n",
        "        popup=f\"<b>{j[1]['name']}</b>\\n {j[1]['price']}\",\n",
        "        color='purple',\n",
        "        fill=True\n",
        "    )\n",
        "    marker_cluster.add_child(marker) # <<--- here we add the marker to the cluster rather than to the map directly\n",
        "\n",
        "marker_cluster.add_to(map)\n",
        "\n",
        "locations = zip(data_s['latitude'], data_s['longitude'])\n",
        "HeatMap(locations).add_to(map)\n"
      ],
      "metadata": {
        "id": "SMplsEQu4R_q"
      },
      "execution_count": null,
      "outputs": []
    },
    {
      "cell_type": "code",
      "source": [
        "map"
      ],
      "metadata": {
        "id": "Rk_1hIgW4p2K"
      },
      "execution_count": null,
      "outputs": []
    },
    {
      "cell_type": "code",
      "source": [
        "map.save('cph_folium.html')"
      ],
      "metadata": {
        "id": "x7Z9AKfW6OQW"
      },
      "execution_count": null,
      "outputs": []
    },
    {
      "cell_type": "code",
      "source": [
        "# Define a layer to display on a map\n",
        "\n",
        "layer = pdk.Layer(\n",
        "    \"HexagonLayer\",\n",
        "    data,\n",
        "    get_position=[\"longitude\", \"latitude\"],\n",
        "    auto_highlight=True,\n",
        "    elevation_scale=50,\n",
        "    pickable=True,\n",
        "    radius=50,\n",
        "    opacity=0.3,\n",
        "    elevation_range=[0, 200],\n",
        "    extruded=True,\n",
        "    coverage=1,\n",
        ")\n",
        "\n",
        "# Set the viewport location\n",
        "view_state = pdk.ViewState(latitude=data['latitude'].mean(), longitude=data['longitude'].mean(), zoom=11, min_zoom=5, max_zoom=15, pitch=40.5, bearing=-27.36)\n",
        "\n",
        "# Render\n",
        "r = pdk.Deck(layers=[layer], initial_view_state=view_state, tooltip={\"text\": \"{elevationValue}\"})"
      ],
      "metadata": {
        "id": "J7Q4ynV9sJwo"
      },
      "execution_count": null,
      "outputs": []
    },
    {
      "cell_type": "code",
      "source": [
        "r.to_html(r'airbnb_hexa.html')"
      ],
      "metadata": {
        "id": "JSOLS6OcsMoi"
      },
      "execution_count": null,
      "outputs": []
    }
  ]
}