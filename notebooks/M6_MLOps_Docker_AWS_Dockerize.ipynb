{
  "nbformat": 4,
  "nbformat_minor": 0,
  "metadata": {
    "colab": {
      "provenance": [],
      "authorship_tag": "ABX9TyP8uGZI+VxW5siDLH0vFw/N",
      "include_colab_link": true
    },
    "kernelspec": {
      "name": "python3",
      "display_name": "Python 3"
    },
    "language_info": {
      "name": "python"
    }
  },
  "cells": [
    {
      "cell_type": "markdown",
      "metadata": {
        "id": "view-in-github",
        "colab_type": "text"
      },
      "source": [
        "<a href=\"https://colab.research.google.com/github/aaubs/ds-master/blob/main/notebooks/M6_MLOps_Docker_AWS_Dockerize.ipynb\" target=\"_parent\"><img src=\"https://colab.research.google.com/assets/colab-badge.svg\" alt=\"Open In Colab\"/></a>"
      ]
    },
    {
      "cell_type": "markdown",
      "source": [
        "###Introduction to Docker:\n",
        "\n",
        "Docker is an open-source platform that simplifies the process of developing, deploying, and running applications inside lightweight, portable containers. Containers allow developers to package up an application with all its dependencies and libraries, ensuring that the application runs consistently across different environments. Docker achieves this by utilizing containerization technology, which isolates each application in a separate container while sharing the host operating system's resources."
      ],
      "metadata": {
        "id": "kJ3zQdI1roh_"
      }
    },
    {
      "cell_type": "markdown",
      "source": [
        "![](https://miro.medium.com/v2/resize:fit:1400/format:webp/1*3ds-PdxGGMN-ZzJH95_lsA.png)"
      ],
      "metadata": {
        "id": "3RaPDmckrryu"
      }
    },
    {
      "cell_type": "markdown",
      "source": [
        "In Docker, an image and a container are related but distinct concepts that serve different purposes. Here's a brief explanation of each:\n",
        "\n",
        "Image: A Docker image is a lightweight, standalone, and executable software package that includes everything needed to run a piece of software, including the code, runtime, system tools, libraries, and settings. Docker images are built from a series of layers, each representing an instruction in the Dockerfile. Images are stored in a registry, such as Docker Hub, or can be stored locally on your machine. They act as a blueprint or template from which containers can be created.\n",
        "\n",
        "Container: A Docker container is a running instance of a Docker image. When you start a container, Docker creates a writable layer on top of the image layers, allowing the container to modify the filesystem without affecting the underlying image. Containers are isolated from each other and from the host system, providing a consistent and reproducible runtime environment for the application. Containers can be started, stopped, and removed, while the underlying image remains unchanged."
      ],
      "metadata": {
        "id": "Pl4kEnU4ZISU"
      }
    },
    {
      "cell_type": "markdown",
      "source": [
        "####Step 1: Create a Dockerfile\n",
        "\n",
        "Create a new file called **Dockerfile** in the project directory and add the following:"
      ],
      "metadata": {
        "id": "ozqanwODviv3"
      }
    },
    {
      "cell_type": "code",
      "execution_count": null,
      "metadata": {
        "id": "kWv_mK2bZFi1"
      },
      "outputs": [],
      "source": [
        "# Use an official Python runtime as a parent image\n",
        "FROM python:3.9-slim\n",
        "\n",
        "# Set the working directory\n",
        "WORKDIR /app\n",
        "\n",
        "# Copy the requirements file into the container\n",
        "COPY requirements.txt /app\n",
        "\n",
        "# Install any needed packages specified in requirements.txt\n",
        "RUN pip install --trusted-host pypi.python.org -r requirements.txt\n",
        "\n",
        "# Copy the rest of the application code\n",
        "COPY . /app\n",
        "\n",
        "# Make the script executable\n",
        "RUN chmod +x /app/app.py\n",
        "\n",
        "# Run the Python scripts sequentially when the container launches\n",
        "CMD python database.py && python ml_model.py && python app.py\n"
      ]
    },
    {
      "cell_type": "markdown",
      "source": [
        "After updating the Dockerfile, build the Docker image and run the container as described in the previous response:\n",
        "\n",
        "#### Step 2: Build the Docker image\n",
        "\n",
        "Run the following command in your terminal to build the Docker image:\n"
      ],
      "metadata": {
        "id": "kpKCsutkwJdA"
      }
    },
    {
      "cell_type": "code",
      "source": [
        "docker build -t iris-docker ."
      ],
      "metadata": {
        "id": "CTvAU9AVwP2Z"
      },
      "execution_count": null,
      "outputs": []
    },
    {
      "cell_type": "markdown",
      "source": [
        "####Step 3: Run the Docker container\n",
        "\n",
        "After the image is built, you can run the Docker container with:"
      ],
      "metadata": {
        "id": "rKAd6L_kwTmv"
      }
    },
    {
      "cell_type": "code",
      "source": [
        "docker run iris-docker"
      ],
      "metadata": {
        "id": "BjjpBeQHwY2-"
      },
      "execution_count": null,
      "outputs": []
    },
    {
      "cell_type": "markdown",
      "source": [
        "That's it! You've successfully containerized a simple machine learning project based on the Iris dataset using Docker. This container can now be shared and run consistently across different environments."
      ],
      "metadata": {
        "id": "lyCzWrh8w5MA"
      }
    }
  ]
}