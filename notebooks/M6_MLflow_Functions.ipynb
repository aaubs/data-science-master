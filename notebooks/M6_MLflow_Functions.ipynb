{
  "nbformat": 4,
  "nbformat_minor": 0,
  "metadata": {
    "colab": {
      "provenance": [],
      "authorship_tag": "ABX9TyOCPSAi+YIGMfuZ5cnlhl0W",
      "include_colab_link": true
    },
    "kernelspec": {
      "name": "python3",
      "display_name": "Python 3"
    },
    "language_info": {
      "name": "python"
    }
  },
  "cells": [
    {
      "cell_type": "markdown",
      "metadata": {
        "id": "view-in-github",
        "colab_type": "text"
      },
      "source": [
        "<a href=\"https://colab.research.google.com/github/aaubs/ds-master/blob/main/notebooks/M6_MLflow_Functions.ipynb\" target=\"_parent\"><img src=\"https://colab.research.google.com/assets/colab-badge.svg\" alt=\"Open In Colab\"/></a>"
      ]
    },
    {
      "cell_type": "markdown",
      "source": [
        "MLflow is an open-source platform for managing the end-to-end machine learning lifecycle. It includes tools for tracking experiments, packaging code into reproducible runs, and sharing and deploying models. Here are some of the main MLflow commands and a simple example:"
      ],
      "metadata": {
        "id": "-cuEq6cWWzoZ"
      }
    },
    {
      "cell_type": "markdown",
      "source": [
        "```\n",
        "`mlflow.start_run()`\n",
        "```\n",
        "> This command is used to start a new MLflow run. It is typically used at the beginning of the machine learning code. This sets the active experiment to my-experiment, and starts a new run for the machine learning code.\n"
      ],
      "metadata": {
        "id": "5yaGPLa9W7xQ"
      }
    },
    {
      "cell_type": "code",
      "execution_count": null,
      "metadata": {
        "id": "Q3EEis6PWvE5"
      },
      "outputs": [],
      "source": [
        "import mlflow\n",
        "\n",
        "mlflow.set_experiment(\"my-experiment\")\n",
        "\n",
        "with mlflow.start_run():\n",
        "    # Your machine learning code here\n"
      ]
    },
    {
      "cell_type": "markdown",
      "source": [
        "```\n",
        "`mlflow.log_param()`\n",
        "```\n",
        "> This command is used to log a parameter value for the current run. This logs a parameter value of 0.01 for the current run, with the parameter name \"learning_rate\"."
      ],
      "metadata": {
        "id": "jMa6Hh4Ba7-3"
      }
    },
    {
      "cell_type": "code",
      "source": [
        "import mlflow\n",
        "\n",
        "with mlflow.start_run():\n",
        "    mlflow.log_param(\"learning_rate\", 0.01)\n",
        "    # Your machine learning code here\n"
      ],
      "metadata": {
        "id": "AheeNacpa0cL"
      },
      "execution_count": null,
      "outputs": []
    },
    {
      "cell_type": "markdown",
      "source": [
        "```\n",
        "`mlflow.log_metric()`\n",
        "```\n",
        "> This command is used to log a metric value for the current run. This logs a metric value of 0.85 for the current run, with the metric name \"accuracy\"."
      ],
      "metadata": {
        "id": "MS-zsfIWbM8X"
      }
    },
    {
      "cell_type": "code",
      "source": [
        "import mlflow\n",
        "\n",
        "with mlflow.start_run():\n",
        "    # Your machine learning code here\n",
        "    mlflow.log_metric(\"accuracy\", 0.85)\n"
      ],
      "metadata": {
        "id": "MhuCzfBubTiP"
      },
      "execution_count": null,
      "outputs": []
    },
    {
      "cell_type": "markdown",
      "source": [
        "```\n",
        "`mlflow.log_artifact()`\n",
        "```\n",
        "> This command is used to log an artifact (e.g., a trained model) for the current run. This logs the artifact file model.pkl for the current run.\n"
      ],
      "metadata": {
        "id": "dIJgYG40bYhu"
      }
    },
    {
      "cell_type": "code",
      "source": [
        "import mlflow\n",
        "\n",
        "with mlflow.start_run():\n",
        "    # Your machine learning code here\n",
        "    mlflow.log_artifact(\"model.pkl\")\n"
      ],
      "metadata": {
        "id": "4xtHJPQdbhYb"
      },
      "execution_count": null,
      "outputs": []
    },
    {
      "cell_type": "markdown",
      "source": [
        "```\n",
        "`mlflow.end_run()`\n",
        "```\n",
        "> This command is used to end the current run. This ends the current run and finalizes the run in MLflow."
      ],
      "metadata": {
        "id": "hC9v3-fQby_6"
      }
    },
    {
      "cell_type": "code",
      "source": [
        "import mlflow\n",
        "\n",
        "with mlflow.start_run():\n",
        "    # Your machine learning code here\n",
        "    mlflow.log_metric(\"accuracy\", 0.85)\n",
        "    \n",
        "    # End the current run\n",
        "    mlflow.end_run()\n"
      ],
      "metadata": {
        "id": "Wp3OFbnub7oE"
      },
      "execution_count": null,
      "outputs": []
    },
    {
      "cell_type": "markdown",
      "source": [
        "```\n",
        "`mlflow ui`\n",
        "```\n",
        "> This command is used to launch the MLflow UI, which allows you to visualize and explore the results of your machine learning experiments. This launches the MLflow UI, which can be accessed in a web browser at http://localhost:5000."
      ],
      "metadata": {
        "id": "ke7DxIOub-_f"
      }
    },
    {
      "cell_type": "code",
      "source": [
        "mlflow ui"
      ],
      "metadata": {
        "id": "57U4W7h3cGfh"
      },
      "execution_count": null,
      "outputs": []
    }
  ]
}