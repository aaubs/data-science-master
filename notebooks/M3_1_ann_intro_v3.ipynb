{
  "nbformat": 4,
  "nbformat_minor": 0,
  "metadata": {
    "colab": {
      "provenance": [],
      "authorship_tag": "ABX9TyMQtIZnR+FpE1VYizj86cfH",
      "include_colab_link": true
    },
    "kernelspec": {
      "name": "python3",
      "display_name": "Python 3"
    },
    "language_info": {
      "name": "python"
    },
    "widgets": {
      "application/vnd.jupyter.widget-state+json": {
        "8e9542c24a1e4bc1af579d433de95020": {
          "model_module": "@jupyter-widgets/controls",
          "model_name": "HBoxModel",
          "model_module_version": "1.5.0",
          "state": {
            "_dom_classes": [],
            "_model_module": "@jupyter-widgets/controls",
            "_model_module_version": "1.5.0",
            "_model_name": "HBoxModel",
            "_view_count": null,
            "_view_module": "@jupyter-widgets/controls",
            "_view_module_version": "1.5.0",
            "_view_name": "HBoxView",
            "box_style": "",
            "children": [
              "IPY_MODEL_42f64d8f79e047a7ac0011485ade4382",
              "IPY_MODEL_817e8ba4897844de82e7e7ff51ca40fe",
              "IPY_MODEL_907f44b6635b4d8eaa527d86c03037ae"
            ],
            "layout": "IPY_MODEL_88f97f97f734411d8cfdb53d8c23b637"
          }
        },
        "42f64d8f79e047a7ac0011485ade4382": {
          "model_module": "@jupyter-widgets/controls",
          "model_name": "HTMLModel",
          "model_module_version": "1.5.0",
          "state": {
            "_dom_classes": [],
            "_model_module": "@jupyter-widgets/controls",
            "_model_module_version": "1.5.0",
            "_model_name": "HTMLModel",
            "_view_count": null,
            "_view_module": "@jupyter-widgets/controls",
            "_view_module_version": "1.5.0",
            "_view_name": "HTMLView",
            "description": "",
            "description_tooltip": null,
            "layout": "IPY_MODEL_67c0bb7b10fc40d4903d44c619f02539",
            "placeholder": "​",
            "style": "IPY_MODEL_622dedcbee0c40b4a803729577965af3",
            "value": "100%"
          }
        },
        "817e8ba4897844de82e7e7ff51ca40fe": {
          "model_module": "@jupyter-widgets/controls",
          "model_name": "FloatProgressModel",
          "model_module_version": "1.5.0",
          "state": {
            "_dom_classes": [],
            "_model_module": "@jupyter-widgets/controls",
            "_model_module_version": "1.5.0",
            "_model_name": "FloatProgressModel",
            "_view_count": null,
            "_view_module": "@jupyter-widgets/controls",
            "_view_module_version": "1.5.0",
            "_view_name": "ProgressView",
            "bar_style": "success",
            "description": "",
            "description_tooltip": null,
            "layout": "IPY_MODEL_b406458a6d7a489abcda84a1ea3514bf",
            "max": 30,
            "min": 0,
            "orientation": "horizontal",
            "style": "IPY_MODEL_d956e443203f4be4a616a96740c3b6ee",
            "value": 30
          }
        },
        "907f44b6635b4d8eaa527d86c03037ae": {
          "model_module": "@jupyter-widgets/controls",
          "model_name": "HTMLModel",
          "model_module_version": "1.5.0",
          "state": {
            "_dom_classes": [],
            "_model_module": "@jupyter-widgets/controls",
            "_model_module_version": "1.5.0",
            "_model_name": "HTMLModel",
            "_view_count": null,
            "_view_module": "@jupyter-widgets/controls",
            "_view_module_version": "1.5.0",
            "_view_name": "HTMLView",
            "description": "",
            "description_tooltip": null,
            "layout": "IPY_MODEL_661524d960014025b2ed41c841575f27",
            "placeholder": "​",
            "style": "IPY_MODEL_0328697dd26743b4af664a1672b8e981",
            "value": " 30/30 [00:00&lt;00:00, 396.16epoch/s]"
          }
        },
        "88f97f97f734411d8cfdb53d8c23b637": {
          "model_module": "@jupyter-widgets/base",
          "model_name": "LayoutModel",
          "model_module_version": "1.2.0",
          "state": {
            "_model_module": "@jupyter-widgets/base",
            "_model_module_version": "1.2.0",
            "_model_name": "LayoutModel",
            "_view_count": null,
            "_view_module": "@jupyter-widgets/base",
            "_view_module_version": "1.2.0",
            "_view_name": "LayoutView",
            "align_content": null,
            "align_items": null,
            "align_self": null,
            "border": null,
            "bottom": null,
            "display": null,
            "flex": null,
            "flex_flow": null,
            "grid_area": null,
            "grid_auto_columns": null,
            "grid_auto_flow": null,
            "grid_auto_rows": null,
            "grid_column": null,
            "grid_gap": null,
            "grid_row": null,
            "grid_template_areas": null,
            "grid_template_columns": null,
            "grid_template_rows": null,
            "height": null,
            "justify_content": null,
            "justify_items": null,
            "left": null,
            "margin": null,
            "max_height": null,
            "max_width": null,
            "min_height": null,
            "min_width": null,
            "object_fit": null,
            "object_position": null,
            "order": null,
            "overflow": null,
            "overflow_x": null,
            "overflow_y": null,
            "padding": null,
            "right": null,
            "top": null,
            "visibility": null,
            "width": null
          }
        },
        "67c0bb7b10fc40d4903d44c619f02539": {
          "model_module": "@jupyter-widgets/base",
          "model_name": "LayoutModel",
          "model_module_version": "1.2.0",
          "state": {
            "_model_module": "@jupyter-widgets/base",
            "_model_module_version": "1.2.0",
            "_model_name": "LayoutModel",
            "_view_count": null,
            "_view_module": "@jupyter-widgets/base",
            "_view_module_version": "1.2.0",
            "_view_name": "LayoutView",
            "align_content": null,
            "align_items": null,
            "align_self": null,
            "border": null,
            "bottom": null,
            "display": null,
            "flex": null,
            "flex_flow": null,
            "grid_area": null,
            "grid_auto_columns": null,
            "grid_auto_flow": null,
            "grid_auto_rows": null,
            "grid_column": null,
            "grid_gap": null,
            "grid_row": null,
            "grid_template_areas": null,
            "grid_template_columns": null,
            "grid_template_rows": null,
            "height": null,
            "justify_content": null,
            "justify_items": null,
            "left": null,
            "margin": null,
            "max_height": null,
            "max_width": null,
            "min_height": null,
            "min_width": null,
            "object_fit": null,
            "object_position": null,
            "order": null,
            "overflow": null,
            "overflow_x": null,
            "overflow_y": null,
            "padding": null,
            "right": null,
            "top": null,
            "visibility": null,
            "width": null
          }
        },
        "622dedcbee0c40b4a803729577965af3": {
          "model_module": "@jupyter-widgets/controls",
          "model_name": "DescriptionStyleModel",
          "model_module_version": "1.5.0",
          "state": {
            "_model_module": "@jupyter-widgets/controls",
            "_model_module_version": "1.5.0",
            "_model_name": "DescriptionStyleModel",
            "_view_count": null,
            "_view_module": "@jupyter-widgets/base",
            "_view_module_version": "1.2.0",
            "_view_name": "StyleView",
            "description_width": ""
          }
        },
        "b406458a6d7a489abcda84a1ea3514bf": {
          "model_module": "@jupyter-widgets/base",
          "model_name": "LayoutModel",
          "model_module_version": "1.2.0",
          "state": {
            "_model_module": "@jupyter-widgets/base",
            "_model_module_version": "1.2.0",
            "_model_name": "LayoutModel",
            "_view_count": null,
            "_view_module": "@jupyter-widgets/base",
            "_view_module_version": "1.2.0",
            "_view_name": "LayoutView",
            "align_content": null,
            "align_items": null,
            "align_self": null,
            "border": null,
            "bottom": null,
            "display": null,
            "flex": null,
            "flex_flow": null,
            "grid_area": null,
            "grid_auto_columns": null,
            "grid_auto_flow": null,
            "grid_auto_rows": null,
            "grid_column": null,
            "grid_gap": null,
            "grid_row": null,
            "grid_template_areas": null,
            "grid_template_columns": null,
            "grid_template_rows": null,
            "height": null,
            "justify_content": null,
            "justify_items": null,
            "left": null,
            "margin": null,
            "max_height": null,
            "max_width": null,
            "min_height": null,
            "min_width": null,
            "object_fit": null,
            "object_position": null,
            "order": null,
            "overflow": null,
            "overflow_x": null,
            "overflow_y": null,
            "padding": null,
            "right": null,
            "top": null,
            "visibility": null,
            "width": null
          }
        },
        "d956e443203f4be4a616a96740c3b6ee": {
          "model_module": "@jupyter-widgets/controls",
          "model_name": "ProgressStyleModel",
          "model_module_version": "1.5.0",
          "state": {
            "_model_module": "@jupyter-widgets/controls",
            "_model_module_version": "1.5.0",
            "_model_name": "ProgressStyleModel",
            "_view_count": null,
            "_view_module": "@jupyter-widgets/base",
            "_view_module_version": "1.2.0",
            "_view_name": "StyleView",
            "bar_color": null,
            "description_width": ""
          }
        },
        "661524d960014025b2ed41c841575f27": {
          "model_module": "@jupyter-widgets/base",
          "model_name": "LayoutModel",
          "model_module_version": "1.2.0",
          "state": {
            "_model_module": "@jupyter-widgets/base",
            "_model_module_version": "1.2.0",
            "_model_name": "LayoutModel",
            "_view_count": null,
            "_view_module": "@jupyter-widgets/base",
            "_view_module_version": "1.2.0",
            "_view_name": "LayoutView",
            "align_content": null,
            "align_items": null,
            "align_self": null,
            "border": null,
            "bottom": null,
            "display": null,
            "flex": null,
            "flex_flow": null,
            "grid_area": null,
            "grid_auto_columns": null,
            "grid_auto_flow": null,
            "grid_auto_rows": null,
            "grid_column": null,
            "grid_gap": null,
            "grid_row": null,
            "grid_template_areas": null,
            "grid_template_columns": null,
            "grid_template_rows": null,
            "height": null,
            "justify_content": null,
            "justify_items": null,
            "left": null,
            "margin": null,
            "max_height": null,
            "max_width": null,
            "min_height": null,
            "min_width": null,
            "object_fit": null,
            "object_position": null,
            "order": null,
            "overflow": null,
            "overflow_x": null,
            "overflow_y": null,
            "padding": null,
            "right": null,
            "top": null,
            "visibility": null,
            "width": null
          }
        },
        "0328697dd26743b4af664a1672b8e981": {
          "model_module": "@jupyter-widgets/controls",
          "model_name": "DescriptionStyleModel",
          "model_module_version": "1.5.0",
          "state": {
            "_model_module": "@jupyter-widgets/controls",
            "_model_module_version": "1.5.0",
            "_model_name": "DescriptionStyleModel",
            "_view_count": null,
            "_view_module": "@jupyter-widgets/base",
            "_view_module_version": "1.2.0",
            "_view_name": "StyleView",
            "description_width": ""
          }
        },
        "fd0bdcfaaa004129b8feec32d2a2beec": {
          "model_module": "@jupyter-widgets/controls",
          "model_name": "HBoxModel",
          "model_module_version": "1.5.0",
          "state": {
            "_dom_classes": [],
            "_model_module": "@jupyter-widgets/controls",
            "_model_module_version": "1.5.0",
            "_model_name": "HBoxModel",
            "_view_count": null,
            "_view_module": "@jupyter-widgets/controls",
            "_view_module_version": "1.5.0",
            "_view_name": "HBoxView",
            "box_style": "",
            "children": [
              "IPY_MODEL_931831c9f82a45b8b6c556a5623e5983",
              "IPY_MODEL_7a425fa2a7ab41288f177cbc08ef1f61",
              "IPY_MODEL_1013efab7cc247c59cb236de9dde7243"
            ],
            "layout": "IPY_MODEL_dcdecf0222c349bb9d476fe7bff83cff"
          }
        },
        "931831c9f82a45b8b6c556a5623e5983": {
          "model_module": "@jupyter-widgets/controls",
          "model_name": "HTMLModel",
          "model_module_version": "1.5.0",
          "state": {
            "_dom_classes": [],
            "_model_module": "@jupyter-widgets/controls",
            "_model_module_version": "1.5.0",
            "_model_name": "HTMLModel",
            "_view_count": null,
            "_view_module": "@jupyter-widgets/controls",
            "_view_module_version": "1.5.0",
            "_view_name": "HTMLView",
            "description": "",
            "description_tooltip": null,
            "layout": "IPY_MODEL_47a594e3a84f424e9779c911dede412e",
            "placeholder": "​",
            "style": "IPY_MODEL_ae3606b6b1ef4c8eb7b5834890863171",
            "value": "Epochs: 100%"
          }
        },
        "7a425fa2a7ab41288f177cbc08ef1f61": {
          "model_module": "@jupyter-widgets/controls",
          "model_name": "FloatProgressModel",
          "model_module_version": "1.5.0",
          "state": {
            "_dom_classes": [],
            "_model_module": "@jupyter-widgets/controls",
            "_model_module_version": "1.5.0",
            "_model_name": "FloatProgressModel",
            "_view_count": null,
            "_view_module": "@jupyter-widgets/controls",
            "_view_module_version": "1.5.0",
            "_view_name": "ProgressView",
            "bar_style": "success",
            "description": "",
            "description_tooltip": null,
            "layout": "IPY_MODEL_6f7b2f05e1c444a0924522df48173656",
            "max": 3,
            "min": 0,
            "orientation": "horizontal",
            "style": "IPY_MODEL_871b09e28425432c853374926b290a58",
            "value": 3
          }
        },
        "1013efab7cc247c59cb236de9dde7243": {
          "model_module": "@jupyter-widgets/controls",
          "model_name": "HTMLModel",
          "model_module_version": "1.5.0",
          "state": {
            "_dom_classes": [],
            "_model_module": "@jupyter-widgets/controls",
            "_model_module_version": "1.5.0",
            "_model_name": "HTMLModel",
            "_view_count": null,
            "_view_module": "@jupyter-widgets/controls",
            "_view_module_version": "1.5.0",
            "_view_name": "HTMLView",
            "description": "",
            "description_tooltip": null,
            "layout": "IPY_MODEL_7122788bbc19408c858294e7a71fd476",
            "placeholder": "​",
            "style": "IPY_MODEL_9a032d74f6424b2e92dd76ed9fb4a39b",
            "value": " 3/3 [00:00&lt;00:00, 10.87it/s]"
          }
        },
        "dcdecf0222c349bb9d476fe7bff83cff": {
          "model_module": "@jupyter-widgets/base",
          "model_name": "LayoutModel",
          "model_module_version": "1.2.0",
          "state": {
            "_model_module": "@jupyter-widgets/base",
            "_model_module_version": "1.2.0",
            "_model_name": "LayoutModel",
            "_view_count": null,
            "_view_module": "@jupyter-widgets/base",
            "_view_module_version": "1.2.0",
            "_view_name": "LayoutView",
            "align_content": null,
            "align_items": null,
            "align_self": null,
            "border": null,
            "bottom": null,
            "display": null,
            "flex": null,
            "flex_flow": null,
            "grid_area": null,
            "grid_auto_columns": null,
            "grid_auto_flow": null,
            "grid_auto_rows": null,
            "grid_column": null,
            "grid_gap": null,
            "grid_row": null,
            "grid_template_areas": null,
            "grid_template_columns": null,
            "grid_template_rows": null,
            "height": null,
            "justify_content": null,
            "justify_items": null,
            "left": null,
            "margin": null,
            "max_height": null,
            "max_width": null,
            "min_height": null,
            "min_width": null,
            "object_fit": null,
            "object_position": null,
            "order": null,
            "overflow": null,
            "overflow_x": null,
            "overflow_y": null,
            "padding": null,
            "right": null,
            "top": null,
            "visibility": null,
            "width": null
          }
        },
        "47a594e3a84f424e9779c911dede412e": {
          "model_module": "@jupyter-widgets/base",
          "model_name": "LayoutModel",
          "model_module_version": "1.2.0",
          "state": {
            "_model_module": "@jupyter-widgets/base",
            "_model_module_version": "1.2.0",
            "_model_name": "LayoutModel",
            "_view_count": null,
            "_view_module": "@jupyter-widgets/base",
            "_view_module_version": "1.2.0",
            "_view_name": "LayoutView",
            "align_content": null,
            "align_items": null,
            "align_self": null,
            "border": null,
            "bottom": null,
            "display": null,
            "flex": null,
            "flex_flow": null,
            "grid_area": null,
            "grid_auto_columns": null,
            "grid_auto_flow": null,
            "grid_auto_rows": null,
            "grid_column": null,
            "grid_gap": null,
            "grid_row": null,
            "grid_template_areas": null,
            "grid_template_columns": null,
            "grid_template_rows": null,
            "height": null,
            "justify_content": null,
            "justify_items": null,
            "left": null,
            "margin": null,
            "max_height": null,
            "max_width": null,
            "min_height": null,
            "min_width": null,
            "object_fit": null,
            "object_position": null,
            "order": null,
            "overflow": null,
            "overflow_x": null,
            "overflow_y": null,
            "padding": null,
            "right": null,
            "top": null,
            "visibility": null,
            "width": null
          }
        },
        "ae3606b6b1ef4c8eb7b5834890863171": {
          "model_module": "@jupyter-widgets/controls",
          "model_name": "DescriptionStyleModel",
          "model_module_version": "1.5.0",
          "state": {
            "_model_module": "@jupyter-widgets/controls",
            "_model_module_version": "1.5.0",
            "_model_name": "DescriptionStyleModel",
            "_view_count": null,
            "_view_module": "@jupyter-widgets/base",
            "_view_module_version": "1.2.0",
            "_view_name": "StyleView",
            "description_width": ""
          }
        },
        "6f7b2f05e1c444a0924522df48173656": {
          "model_module": "@jupyter-widgets/base",
          "model_name": "LayoutModel",
          "model_module_version": "1.2.0",
          "state": {
            "_model_module": "@jupyter-widgets/base",
            "_model_module_version": "1.2.0",
            "_model_name": "LayoutModel",
            "_view_count": null,
            "_view_module": "@jupyter-widgets/base",
            "_view_module_version": "1.2.0",
            "_view_name": "LayoutView",
            "align_content": null,
            "align_items": null,
            "align_self": null,
            "border": null,
            "bottom": null,
            "display": null,
            "flex": null,
            "flex_flow": null,
            "grid_area": null,
            "grid_auto_columns": null,
            "grid_auto_flow": null,
            "grid_auto_rows": null,
            "grid_column": null,
            "grid_gap": null,
            "grid_row": null,
            "grid_template_areas": null,
            "grid_template_columns": null,
            "grid_template_rows": null,
            "height": null,
            "justify_content": null,
            "justify_items": null,
            "left": null,
            "margin": null,
            "max_height": null,
            "max_width": null,
            "min_height": null,
            "min_width": null,
            "object_fit": null,
            "object_position": null,
            "order": null,
            "overflow": null,
            "overflow_x": null,
            "overflow_y": null,
            "padding": null,
            "right": null,
            "top": null,
            "visibility": null,
            "width": null
          }
        },
        "871b09e28425432c853374926b290a58": {
          "model_module": "@jupyter-widgets/controls",
          "model_name": "ProgressStyleModel",
          "model_module_version": "1.5.0",
          "state": {
            "_model_module": "@jupyter-widgets/controls",
            "_model_module_version": "1.5.0",
            "_model_name": "ProgressStyleModel",
            "_view_count": null,
            "_view_module": "@jupyter-widgets/base",
            "_view_module_version": "1.2.0",
            "_view_name": "StyleView",
            "bar_color": null,
            "description_width": ""
          }
        },
        "7122788bbc19408c858294e7a71fd476": {
          "model_module": "@jupyter-widgets/base",
          "model_name": "LayoutModel",
          "model_module_version": "1.2.0",
          "state": {
            "_model_module": "@jupyter-widgets/base",
            "_model_module_version": "1.2.0",
            "_model_name": "LayoutModel",
            "_view_count": null,
            "_view_module": "@jupyter-widgets/base",
            "_view_module_version": "1.2.0",
            "_view_name": "LayoutView",
            "align_content": null,
            "align_items": null,
            "align_self": null,
            "border": null,
            "bottom": null,
            "display": null,
            "flex": null,
            "flex_flow": null,
            "grid_area": null,
            "grid_auto_columns": null,
            "grid_auto_flow": null,
            "grid_auto_rows": null,
            "grid_column": null,
            "grid_gap": null,
            "grid_row": null,
            "grid_template_areas": null,
            "grid_template_columns": null,
            "grid_template_rows": null,
            "height": null,
            "justify_content": null,
            "justify_items": null,
            "left": null,
            "margin": null,
            "max_height": null,
            "max_width": null,
            "min_height": null,
            "min_width": null,
            "object_fit": null,
            "object_position": null,
            "order": null,
            "overflow": null,
            "overflow_x": null,
            "overflow_y": null,
            "padding": null,
            "right": null,
            "top": null,
            "visibility": null,
            "width": null
          }
        },
        "9a032d74f6424b2e92dd76ed9fb4a39b": {
          "model_module": "@jupyter-widgets/controls",
          "model_name": "DescriptionStyleModel",
          "model_module_version": "1.5.0",
          "state": {
            "_model_module": "@jupyter-widgets/controls",
            "_model_module_version": "1.5.0",
            "_model_name": "DescriptionStyleModel",
            "_view_count": null,
            "_view_module": "@jupyter-widgets/base",
            "_view_module_version": "1.2.0",
            "_view_name": "StyleView",
            "description_width": ""
          }
        },
        "e014f3899e4944da99ffe5beb30da13a": {
          "model_module": "@jupyter-widgets/controls",
          "model_name": "HBoxModel",
          "model_module_version": "1.5.0",
          "state": {
            "_dom_classes": [],
            "_model_module": "@jupyter-widgets/controls",
            "_model_module_version": "1.5.0",
            "_model_name": "HBoxModel",
            "_view_count": null,
            "_view_module": "@jupyter-widgets/controls",
            "_view_module_version": "1.5.0",
            "_view_name": "HBoxView",
            "box_style": "",
            "children": [
              "IPY_MODEL_58d3f77b919f46a4a36a2fd661b1f976",
              "IPY_MODEL_5f9b68cd622642e9b74cdbda478c8af0",
              "IPY_MODEL_65957be654d74a87bba469546cc4b92a"
            ],
            "layout": "IPY_MODEL_5d23b34674a74c508ede9ceb424bb5cd"
          }
        },
        "58d3f77b919f46a4a36a2fd661b1f976": {
          "model_module": "@jupyter-widgets/controls",
          "model_name": "HTMLModel",
          "model_module_version": "1.5.0",
          "state": {
            "_dom_classes": [],
            "_model_module": "@jupyter-widgets/controls",
            "_model_module_version": "1.5.0",
            "_model_name": "HTMLModel",
            "_view_count": null,
            "_view_module": "@jupyter-widgets/controls",
            "_view_module_version": "1.5.0",
            "_view_name": "HTMLView",
            "description": "",
            "description_tooltip": null,
            "layout": "IPY_MODEL_7ec51f5eb009417d936326337a5d5418",
            "placeholder": "​",
            "style": "IPY_MODEL_8ae545f51ef74554b0b26a9a5a902c6c",
            "value": "Epochs: 100%"
          }
        },
        "5f9b68cd622642e9b74cdbda478c8af0": {
          "model_module": "@jupyter-widgets/controls",
          "model_name": "FloatProgressModel",
          "model_module_version": "1.5.0",
          "state": {
            "_dom_classes": [],
            "_model_module": "@jupyter-widgets/controls",
            "_model_module_version": "1.5.0",
            "_model_name": "FloatProgressModel",
            "_view_count": null,
            "_view_module": "@jupyter-widgets/controls",
            "_view_module_version": "1.5.0",
            "_view_name": "ProgressView",
            "bar_style": "success",
            "description": "",
            "description_tooltip": null,
            "layout": "IPY_MODEL_54092774655646ed87b0f1b4b1bf8949",
            "max": 3,
            "min": 0,
            "orientation": "horizontal",
            "style": "IPY_MODEL_828b72c8ff2c442da4383b309fdcac68",
            "value": 3
          }
        },
        "65957be654d74a87bba469546cc4b92a": {
          "model_module": "@jupyter-widgets/controls",
          "model_name": "HTMLModel",
          "model_module_version": "1.5.0",
          "state": {
            "_dom_classes": [],
            "_model_module": "@jupyter-widgets/controls",
            "_model_module_version": "1.5.0",
            "_model_name": "HTMLModel",
            "_view_count": null,
            "_view_module": "@jupyter-widgets/controls",
            "_view_module_version": "1.5.0",
            "_view_name": "HTMLView",
            "description": "",
            "description_tooltip": null,
            "layout": "IPY_MODEL_fa57f5c7a20249ddbe735fbaa158efce",
            "placeholder": "​",
            "style": "IPY_MODEL_681ada64a7794993912ba207f8d2f3f6",
            "value": " 3/3 [00:00&lt;00:00,  4.07it/s]"
          }
        },
        "5d23b34674a74c508ede9ceb424bb5cd": {
          "model_module": "@jupyter-widgets/base",
          "model_name": "LayoutModel",
          "model_module_version": "1.2.0",
          "state": {
            "_model_module": "@jupyter-widgets/base",
            "_model_module_version": "1.2.0",
            "_model_name": "LayoutModel",
            "_view_count": null,
            "_view_module": "@jupyter-widgets/base",
            "_view_module_version": "1.2.0",
            "_view_name": "LayoutView",
            "align_content": null,
            "align_items": null,
            "align_self": null,
            "border": null,
            "bottom": null,
            "display": null,
            "flex": null,
            "flex_flow": null,
            "grid_area": null,
            "grid_auto_columns": null,
            "grid_auto_flow": null,
            "grid_auto_rows": null,
            "grid_column": null,
            "grid_gap": null,
            "grid_row": null,
            "grid_template_areas": null,
            "grid_template_columns": null,
            "grid_template_rows": null,
            "height": null,
            "justify_content": null,
            "justify_items": null,
            "left": null,
            "margin": null,
            "max_height": null,
            "max_width": null,
            "min_height": null,
            "min_width": null,
            "object_fit": null,
            "object_position": null,
            "order": null,
            "overflow": null,
            "overflow_x": null,
            "overflow_y": null,
            "padding": null,
            "right": null,
            "top": null,
            "visibility": null,
            "width": null
          }
        },
        "7ec51f5eb009417d936326337a5d5418": {
          "model_module": "@jupyter-widgets/base",
          "model_name": "LayoutModel",
          "model_module_version": "1.2.0",
          "state": {
            "_model_module": "@jupyter-widgets/base",
            "_model_module_version": "1.2.0",
            "_model_name": "LayoutModel",
            "_view_count": null,
            "_view_module": "@jupyter-widgets/base",
            "_view_module_version": "1.2.0",
            "_view_name": "LayoutView",
            "align_content": null,
            "align_items": null,
            "align_self": null,
            "border": null,
            "bottom": null,
            "display": null,
            "flex": null,
            "flex_flow": null,
            "grid_area": null,
            "grid_auto_columns": null,
            "grid_auto_flow": null,
            "grid_auto_rows": null,
            "grid_column": null,
            "grid_gap": null,
            "grid_row": null,
            "grid_template_areas": null,
            "grid_template_columns": null,
            "grid_template_rows": null,
            "height": null,
            "justify_content": null,
            "justify_items": null,
            "left": null,
            "margin": null,
            "max_height": null,
            "max_width": null,
            "min_height": null,
            "min_width": null,
            "object_fit": null,
            "object_position": null,
            "order": null,
            "overflow": null,
            "overflow_x": null,
            "overflow_y": null,
            "padding": null,
            "right": null,
            "top": null,
            "visibility": null,
            "width": null
          }
        },
        "8ae545f51ef74554b0b26a9a5a902c6c": {
          "model_module": "@jupyter-widgets/controls",
          "model_name": "DescriptionStyleModel",
          "model_module_version": "1.5.0",
          "state": {
            "_model_module": "@jupyter-widgets/controls",
            "_model_module_version": "1.5.0",
            "_model_name": "DescriptionStyleModel",
            "_view_count": null,
            "_view_module": "@jupyter-widgets/base",
            "_view_module_version": "1.2.0",
            "_view_name": "StyleView",
            "description_width": ""
          }
        },
        "54092774655646ed87b0f1b4b1bf8949": {
          "model_module": "@jupyter-widgets/base",
          "model_name": "LayoutModel",
          "model_module_version": "1.2.0",
          "state": {
            "_model_module": "@jupyter-widgets/base",
            "_model_module_version": "1.2.0",
            "_model_name": "LayoutModel",
            "_view_count": null,
            "_view_module": "@jupyter-widgets/base",
            "_view_module_version": "1.2.0",
            "_view_name": "LayoutView",
            "align_content": null,
            "align_items": null,
            "align_self": null,
            "border": null,
            "bottom": null,
            "display": null,
            "flex": null,
            "flex_flow": null,
            "grid_area": null,
            "grid_auto_columns": null,
            "grid_auto_flow": null,
            "grid_auto_rows": null,
            "grid_column": null,
            "grid_gap": null,
            "grid_row": null,
            "grid_template_areas": null,
            "grid_template_columns": null,
            "grid_template_rows": null,
            "height": null,
            "justify_content": null,
            "justify_items": null,
            "left": null,
            "margin": null,
            "max_height": null,
            "max_width": null,
            "min_height": null,
            "min_width": null,
            "object_fit": null,
            "object_position": null,
            "order": null,
            "overflow": null,
            "overflow_x": null,
            "overflow_y": null,
            "padding": null,
            "right": null,
            "top": null,
            "visibility": null,
            "width": null
          }
        },
        "828b72c8ff2c442da4383b309fdcac68": {
          "model_module": "@jupyter-widgets/controls",
          "model_name": "ProgressStyleModel",
          "model_module_version": "1.5.0",
          "state": {
            "_model_module": "@jupyter-widgets/controls",
            "_model_module_version": "1.5.0",
            "_model_name": "ProgressStyleModel",
            "_view_count": null,
            "_view_module": "@jupyter-widgets/base",
            "_view_module_version": "1.2.0",
            "_view_name": "StyleView",
            "bar_color": null,
            "description_width": ""
          }
        },
        "fa57f5c7a20249ddbe735fbaa158efce": {
          "model_module": "@jupyter-widgets/base",
          "model_name": "LayoutModel",
          "model_module_version": "1.2.0",
          "state": {
            "_model_module": "@jupyter-widgets/base",
            "_model_module_version": "1.2.0",
            "_model_name": "LayoutModel",
            "_view_count": null,
            "_view_module": "@jupyter-widgets/base",
            "_view_module_version": "1.2.0",
            "_view_name": "LayoutView",
            "align_content": null,
            "align_items": null,
            "align_self": null,
            "border": null,
            "bottom": null,
            "display": null,
            "flex": null,
            "flex_flow": null,
            "grid_area": null,
            "grid_auto_columns": null,
            "grid_auto_flow": null,
            "grid_auto_rows": null,
            "grid_column": null,
            "grid_gap": null,
            "grid_row": null,
            "grid_template_areas": null,
            "grid_template_columns": null,
            "grid_template_rows": null,
            "height": null,
            "justify_content": null,
            "justify_items": null,
            "left": null,
            "margin": null,
            "max_height": null,
            "max_width": null,
            "min_height": null,
            "min_width": null,
            "object_fit": null,
            "object_position": null,
            "order": null,
            "overflow": null,
            "overflow_x": null,
            "overflow_y": null,
            "padding": null,
            "right": null,
            "top": null,
            "visibility": null,
            "width": null
          }
        },
        "681ada64a7794993912ba207f8d2f3f6": {
          "model_module": "@jupyter-widgets/controls",
          "model_name": "DescriptionStyleModel",
          "model_module_version": "1.5.0",
          "state": {
            "_model_module": "@jupyter-widgets/controls",
            "_model_module_version": "1.5.0",
            "_model_name": "DescriptionStyleModel",
            "_view_count": null,
            "_view_module": "@jupyter-widgets/base",
            "_view_module_version": "1.2.0",
            "_view_name": "StyleView",
            "description_width": ""
          }
        }
      }
    }
  },
  "cells": [
    {
      "cell_type": "markdown",
      "metadata": {
        "id": "view-in-github",
        "colab_type": "text"
      },
      "source": [
        "<a href=\"https://colab.research.google.com/github/aaubs/ds-master/blob/main/notebooks/M3_1_ann_intro_v3.ipynb\" target=\"_parent\"><img src=\"https://colab.research.google.com/assets/colab-badge.svg\" alt=\"Open In Colab\"/></a>"
      ]
    },
    {
      "cell_type": "markdown",
      "source": [
        "# Tutorial: Understanding Artificial Neural Networks\n",
        "\n",
        "The primary goal of this tutorial is to provide answers to the following questions:\n",
        "\n",
        "> 1. **What is the structure of an Artificial Neural Network?**\n",
        "2. **How to train an Artificial Neural Network?**\n",
        "   - 2.1 How can we assess the performance of our model?\n",
        "   - 2.2 What methods can we use to determine the optimal values for parameters like weights and biases?\n",
        "   - 2.3 How feasible is it to find the best parameter values when dealing with a massive number of parameters, such as 10 million?\n",
        "   - 2.4 Can you highlight the differences between Batch Gradient Descent and Stochastic Gradient Descent in the context of Machine Learning?\n",
        "3. **Why do we need Deep Learning frameworks like PyTorch?**\n",
        "   - 3.1 What is the procedure for constructing a Neural Network that encompasses various layers, including input, hidden, and output layers?\n",
        "   - 3.2 What strategies can be employed to mitigate the issue of overfitting in a complex neural network?\n",
        "   - 3.3 How to save and load a trained model using Pytorch?\n"
      ],
      "metadata": {
        "id": "oGe2Bxf64Vkf"
      }
    },
    {
      "cell_type": "markdown",
      "source": [
        "Before we look at why neural networks work, it’s important to understand what neural networks do."
      ],
      "metadata": {
        "id": "Mg36lXTUh26q"
      }
    },
    {
      "cell_type": "markdown",
      "source": [
        "# 1. What is the structure of an Artificial Neural Network?"
      ],
      "metadata": {
        "id": "EUiCeZxb6vbD"
      }
    },
    {
      "cell_type": "markdown",
      "source": [
        "1. First, a weight is being applied to each input to an artificial neuron.\n",
        "2. Second, the inputs are multiplied by their weights, and then a bias is applied to the outcome. This is called the weighted sum.\n",
        "3. Third, the weighted sum is processed via an activation function, as a non-linear function."
      ],
      "metadata": {
        "id": "1IUeWB5KiCMj"
      }
    },
    {
      "cell_type": "markdown",
      "source": [
        "![image.png](data:image/png;base64,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)"
      ],
      "metadata": {
        "id": "HBtJUGWIkxQN"
      }
    },
    {
      "cell_type": "markdown",
      "source": [
        "The neural network can compare the outputs of its nodes with the desired values using a property known as the delta rule, allowing the network to alter its weights through training to create more accurate output values. This training and learning procedure results in gradient descent.\n",
        "\n",
        "The technique of updating weights in multi-layered perceptrons is virtually the same, however, the process is referred to as back-propagation. In such circumstances, the output values provided by the final layer are used to alter each hidden layer inside the network."
      ],
      "metadata": {
        "id": "evhlndvXkzzx"
      }
    },
    {
      "cell_type": "markdown",
      "source": [
        "# 2. How to train an Artificial Neural Network?"
      ],
      "metadata": {
        "id": "qiPFbLDR63Za"
      }
    },
    {
      "cell_type": "markdown",
      "source": [
        "In order to build a neural network, the following steps must be followed:\n",
        "\n",
        "1. Creating a FeedForwardNetwork\n",
        "\n",
        "```\n",
        "- 1.1. Structure (Architecture) of NN\n",
        "- 1.2. Loss Function\n",
        "- 1.3. Optmization Approch\n",
        "```\n",
        "\n",
        "2. Forward Pass\n",
        "3. FeedForward Evaluation\n",
        "4. Backward Pass / Gradient Calculation\n",
        "5. Back Propagation / Update Weights\n",
        "6. Training Loop"
      ],
      "metadata": {
        "id": "aZmP6M0zLGO-"
      }
    },
    {
      "cell_type": "code",
      "source": [
        "# import necessary libraries\n",
        "import numpy as np  # Matrix and vector computation package\n",
        "import pandas as pd\n",
        "import matplotlib.pyplot as plt  # Plotting library\n",
        "from tqdm import tqdm_notebook\n"
      ],
      "metadata": {
        "id": "2ySv1ln7xbDM"
      },
      "execution_count": null,
      "outputs": []
    },
    {
      "cell_type": "markdown",
      "source": [
        "![Swedish Committee on Analysis of Risk Premium in Motor Insurance. read more]()"
      ],
      "metadata": {
        "id": "Per58LMrrUER"
      }
    },
    {
      "cell_type": "markdown",
      "source": [
        "![Swedish Committee on Analysis of Risk Premium in Motor Insurance. read more](https://raw.githubusercontent.com/aaubs/ds-master/main/data/Images/Auto-Insurance.jpeg)"
      ],
      "metadata": {
        "id": "Y6KquggwrAi3"
      }
    },
    {
      "cell_type": "markdown",
      "source": [
        "![]()"
      ],
      "metadata": {
        "id": "qP5nIp01rHTs"
      }
    },
    {
      "cell_type": "markdown",
      "source": [
        "## Overview\n",
        "\n",
        "In the dataset:\n",
        "\n",
        "- \\( X \\) = number of claims\n",
        "- \\( Y \\) = total payment for all the claims in thousands of Swedish Kronor for geographical zones in Sweden\n",
        "\n",
        "**Reference:** Swedish Committee on Analysis of Risk Premium in Motor Insurance\n"
      ],
      "metadata": {
        "id": "lyvRmCzd-UYq"
      }
    },
    {
      "cell_type": "code",
      "source": [
        "# load dataset\n",
        "data = pd.read_csv('https://raw.githubusercontent.com/aaubs/ds-master/main/data/Swedish_Auto_Insurance_dataset.csv')"
      ],
      "metadata": {
        "id": "v1FnkNedxbDN"
      },
      "execution_count": null,
      "outputs": []
    },
    {
      "cell_type": "code",
      "source": [
        "data.head()"
      ],
      "metadata": {
        "colab": {
          "base_uri": "https://localhost:8080/",
          "height": 207
        },
        "id": "8m2zFu4vxhMk",
        "outputId": "7c2152ee-e2ff-4353-c909-442b4277eb63"
      },
      "execution_count": null,
      "outputs": [
        {
          "output_type": "execute_result",
          "data": {
            "text/plain": [
              "     X      Y\n",
              "0  108  392.5\n",
              "1   19   46.2\n",
              "2   13   15.7\n",
              "3  124  422.2\n",
              "4   40  119.4"
            ],
            "text/html": [
              "\n",
              "  <div id=\"df-c024e5fd-d276-483e-94af-8a2330daee28\" class=\"colab-df-container\">\n",
              "    <div>\n",
              "<style scoped>\n",
              "    .dataframe tbody tr th:only-of-type {\n",
              "        vertical-align: middle;\n",
              "    }\n",
              "\n",
              "    .dataframe tbody tr th {\n",
              "        vertical-align: top;\n",
              "    }\n",
              "\n",
              "    .dataframe thead th {\n",
              "        text-align: right;\n",
              "    }\n",
              "</style>\n",
              "<table border=\"1\" class=\"dataframe\">\n",
              "  <thead>\n",
              "    <tr style=\"text-align: right;\">\n",
              "      <th></th>\n",
              "      <th>X</th>\n",
              "      <th>Y</th>\n",
              "    </tr>\n",
              "  </thead>\n",
              "  <tbody>\n",
              "    <tr>\n",
              "      <th>0</th>\n",
              "      <td>108</td>\n",
              "      <td>392.5</td>\n",
              "    </tr>\n",
              "    <tr>\n",
              "      <th>1</th>\n",
              "      <td>19</td>\n",
              "      <td>46.2</td>\n",
              "    </tr>\n",
              "    <tr>\n",
              "      <th>2</th>\n",
              "      <td>13</td>\n",
              "      <td>15.7</td>\n",
              "    </tr>\n",
              "    <tr>\n",
              "      <th>3</th>\n",
              "      <td>124</td>\n",
              "      <td>422.2</td>\n",
              "    </tr>\n",
              "    <tr>\n",
              "      <th>4</th>\n",
              "      <td>40</td>\n",
              "      <td>119.4</td>\n",
              "    </tr>\n",
              "  </tbody>\n",
              "</table>\n",
              "</div>\n",
              "    <div class=\"colab-df-buttons\">\n",
              "\n",
              "  <div class=\"colab-df-container\">\n",
              "    <button class=\"colab-df-convert\" onclick=\"convertToInteractive('df-c024e5fd-d276-483e-94af-8a2330daee28')\"\n",
              "            title=\"Convert this dataframe to an interactive table.\"\n",
              "            style=\"display:none;\">\n",
              "\n",
              "  <svg xmlns=\"http://www.w3.org/2000/svg\" height=\"24px\" viewBox=\"0 -960 960 960\">\n",
              "    <path d=\"M120-120v-720h720v720H120Zm60-500h600v-160H180v160Zm220 220h160v-160H400v160Zm0 220h160v-160H400v160ZM180-400h160v-160H180v160Zm440 0h160v-160H620v160ZM180-180h160v-160H180v160Zm440 0h160v-160H620v160Z\"/>\n",
              "  </svg>\n",
              "    </button>\n",
              "\n",
              "  <style>\n",
              "    .colab-df-container {\n",
              "      display:flex;\n",
              "      gap: 12px;\n",
              "    }\n",
              "\n",
              "    .colab-df-convert {\n",
              "      background-color: #E8F0FE;\n",
              "      border: none;\n",
              "      border-radius: 50%;\n",
              "      cursor: pointer;\n",
              "      display: none;\n",
              "      fill: #1967D2;\n",
              "      height: 32px;\n",
              "      padding: 0 0 0 0;\n",
              "      width: 32px;\n",
              "    }\n",
              "\n",
              "    .colab-df-convert:hover {\n",
              "      background-color: #E2EBFA;\n",
              "      box-shadow: 0px 1px 2px rgba(60, 64, 67, 0.3), 0px 1px 3px 1px rgba(60, 64, 67, 0.15);\n",
              "      fill: #174EA6;\n",
              "    }\n",
              "\n",
              "    .colab-df-buttons div {\n",
              "      margin-bottom: 4px;\n",
              "    }\n",
              "\n",
              "    [theme=dark] .colab-df-convert {\n",
              "      background-color: #3B4455;\n",
              "      fill: #D2E3FC;\n",
              "    }\n",
              "\n",
              "    [theme=dark] .colab-df-convert:hover {\n",
              "      background-color: #434B5C;\n",
              "      box-shadow: 0px 1px 3px 1px rgba(0, 0, 0, 0.15);\n",
              "      filter: drop-shadow(0px 1px 2px rgba(0, 0, 0, 0.3));\n",
              "      fill: #FFFFFF;\n",
              "    }\n",
              "  </style>\n",
              "\n",
              "    <script>\n",
              "      const buttonEl =\n",
              "        document.querySelector('#df-c024e5fd-d276-483e-94af-8a2330daee28 button.colab-df-convert');\n",
              "      buttonEl.style.display =\n",
              "        google.colab.kernel.accessAllowed ? 'block' : 'none';\n",
              "\n",
              "      async function convertToInteractive(key) {\n",
              "        const element = document.querySelector('#df-c024e5fd-d276-483e-94af-8a2330daee28');\n",
              "        const dataTable =\n",
              "          await google.colab.kernel.invokeFunction('convertToInteractive',\n",
              "                                                    [key], {});\n",
              "        if (!dataTable) return;\n",
              "\n",
              "        const docLinkHtml = 'Like what you see? Visit the ' +\n",
              "          '<a target=\"_blank\" href=https://colab.research.google.com/notebooks/data_table.ipynb>data table notebook</a>'\n",
              "          + ' to learn more about interactive tables.';\n",
              "        element.innerHTML = '';\n",
              "        dataTable['output_type'] = 'display_data';\n",
              "        await google.colab.output.renderOutput(dataTable, element);\n",
              "        const docLink = document.createElement('div');\n",
              "        docLink.innerHTML = docLinkHtml;\n",
              "        element.appendChild(docLink);\n",
              "      }\n",
              "    </script>\n",
              "  </div>\n",
              "\n",
              "\n",
              "<div id=\"df-36b14689-bec0-412f-854b-2757f72e04e1\">\n",
              "  <button class=\"colab-df-quickchart\" onclick=\"quickchart('df-36b14689-bec0-412f-854b-2757f72e04e1')\"\n",
              "            title=\"Suggest charts.\"\n",
              "            style=\"display:none;\">\n",
              "\n",
              "<svg xmlns=\"http://www.w3.org/2000/svg\" height=\"24px\"viewBox=\"0 0 24 24\"\n",
              "     width=\"24px\">\n",
              "    <g>\n",
              "        <path d=\"M19 3H5c-1.1 0-2 .9-2 2v14c0 1.1.9 2 2 2h14c1.1 0 2-.9 2-2V5c0-1.1-.9-2-2-2zM9 17H7v-7h2v7zm4 0h-2V7h2v10zm4 0h-2v-4h2v4z\"/>\n",
              "    </g>\n",
              "</svg>\n",
              "  </button>\n",
              "\n",
              "<style>\n",
              "  .colab-df-quickchart {\n",
              "      --bg-color: #E8F0FE;\n",
              "      --fill-color: #1967D2;\n",
              "      --hover-bg-color: #E2EBFA;\n",
              "      --hover-fill-color: #174EA6;\n",
              "      --disabled-fill-color: #AAA;\n",
              "      --disabled-bg-color: #DDD;\n",
              "  }\n",
              "\n",
              "  [theme=dark] .colab-df-quickchart {\n",
              "      --bg-color: #3B4455;\n",
              "      --fill-color: #D2E3FC;\n",
              "      --hover-bg-color: #434B5C;\n",
              "      --hover-fill-color: #FFFFFF;\n",
              "      --disabled-bg-color: #3B4455;\n",
              "      --disabled-fill-color: #666;\n",
              "  }\n",
              "\n",
              "  .colab-df-quickchart {\n",
              "    background-color: var(--bg-color);\n",
              "    border: none;\n",
              "    border-radius: 50%;\n",
              "    cursor: pointer;\n",
              "    display: none;\n",
              "    fill: var(--fill-color);\n",
              "    height: 32px;\n",
              "    padding: 0;\n",
              "    width: 32px;\n",
              "  }\n",
              "\n",
              "  .colab-df-quickchart:hover {\n",
              "    background-color: var(--hover-bg-color);\n",
              "    box-shadow: 0 1px 2px rgba(60, 64, 67, 0.3), 0 1px 3px 1px rgba(60, 64, 67, 0.15);\n",
              "    fill: var(--button-hover-fill-color);\n",
              "  }\n",
              "\n",
              "  .colab-df-quickchart-complete:disabled,\n",
              "  .colab-df-quickchart-complete:disabled:hover {\n",
              "    background-color: var(--disabled-bg-color);\n",
              "    fill: var(--disabled-fill-color);\n",
              "    box-shadow: none;\n",
              "  }\n",
              "\n",
              "  .colab-df-spinner {\n",
              "    border: 2px solid var(--fill-color);\n",
              "    border-color: transparent;\n",
              "    border-bottom-color: var(--fill-color);\n",
              "    animation:\n",
              "      spin 1s steps(1) infinite;\n",
              "  }\n",
              "\n",
              "  @keyframes spin {\n",
              "    0% {\n",
              "      border-color: transparent;\n",
              "      border-bottom-color: var(--fill-color);\n",
              "      border-left-color: var(--fill-color);\n",
              "    }\n",
              "    20% {\n",
              "      border-color: transparent;\n",
              "      border-left-color: var(--fill-color);\n",
              "      border-top-color: var(--fill-color);\n",
              "    }\n",
              "    30% {\n",
              "      border-color: transparent;\n",
              "      border-left-color: var(--fill-color);\n",
              "      border-top-color: var(--fill-color);\n",
              "      border-right-color: var(--fill-color);\n",
              "    }\n",
              "    40% {\n",
              "      border-color: transparent;\n",
              "      border-right-color: var(--fill-color);\n",
              "      border-top-color: var(--fill-color);\n",
              "    }\n",
              "    60% {\n",
              "      border-color: transparent;\n",
              "      border-right-color: var(--fill-color);\n",
              "    }\n",
              "    80% {\n",
              "      border-color: transparent;\n",
              "      border-right-color: var(--fill-color);\n",
              "      border-bottom-color: var(--fill-color);\n",
              "    }\n",
              "    90% {\n",
              "      border-color: transparent;\n",
              "      border-bottom-color: var(--fill-color);\n",
              "    }\n",
              "  }\n",
              "</style>\n",
              "\n",
              "  <script>\n",
              "    async function quickchart(key) {\n",
              "      const quickchartButtonEl =\n",
              "        document.querySelector('#' + key + ' button');\n",
              "      quickchartButtonEl.disabled = true;  // To prevent multiple clicks.\n",
              "      quickchartButtonEl.classList.add('colab-df-spinner');\n",
              "      try {\n",
              "        const charts = await google.colab.kernel.invokeFunction(\n",
              "            'suggestCharts', [key], {});\n",
              "      } catch (error) {\n",
              "        console.error('Error during call to suggestCharts:', error);\n",
              "      }\n",
              "      quickchartButtonEl.classList.remove('colab-df-spinner');\n",
              "      quickchartButtonEl.classList.add('colab-df-quickchart-complete');\n",
              "    }\n",
              "    (() => {\n",
              "      let quickchartButtonEl =\n",
              "        document.querySelector('#df-36b14689-bec0-412f-854b-2757f72e04e1 button');\n",
              "      quickchartButtonEl.style.display =\n",
              "        google.colab.kernel.accessAllowed ? 'block' : 'none';\n",
              "    })();\n",
              "  </script>\n",
              "</div>\n",
              "    </div>\n",
              "  </div>\n"
            ]
          },
          "metadata": {},
          "execution_count": 4
        }
      ]
    },
    {
      "cell_type": "code",
      "source": [
        "# Using sklearn\n",
        "from sklearn.preprocessing import MinMaxScaler\n",
        "\n",
        "scaler = MinMaxScaler()\n",
        "data_scaled = scaler.fit_transform(data)\n",
        "data_s = pd.DataFrame(data_scaled, columns=data.columns)"
      ],
      "metadata": {
        "id": "fcIyO9ILXnHJ"
      },
      "execution_count": null,
      "outputs": []
    },
    {
      "cell_type": "code",
      "source": [
        "data_s.head()"
      ],
      "metadata": {
        "colab": {
          "base_uri": "https://localhost:8080/",
          "height": 207
        },
        "id": "HeadcREPYoWu",
        "outputId": "fdbcbd16-a659-4257-ece7-757f76ed1d60"
      },
      "execution_count": null,
      "outputs": [
        {
          "output_type": "execute_result",
          "data": {
            "text/plain": [
              "          X         Y\n",
              "0  0.870968  0.929654\n",
              "1  0.153226  0.109427\n",
              "2  0.104839  0.037186\n",
              "3  1.000000  1.000000\n",
              "4  0.322581  0.282804"
            ],
            "text/html": [
              "\n",
              "  <div id=\"df-515d6394-683f-484b-b942-4a3e68fe0501\" class=\"colab-df-container\">\n",
              "    <div>\n",
              "<style scoped>\n",
              "    .dataframe tbody tr th:only-of-type {\n",
              "        vertical-align: middle;\n",
              "    }\n",
              "\n",
              "    .dataframe tbody tr th {\n",
              "        vertical-align: top;\n",
              "    }\n",
              "\n",
              "    .dataframe thead th {\n",
              "        text-align: right;\n",
              "    }\n",
              "</style>\n",
              "<table border=\"1\" class=\"dataframe\">\n",
              "  <thead>\n",
              "    <tr style=\"text-align: right;\">\n",
              "      <th></th>\n",
              "      <th>X</th>\n",
              "      <th>Y</th>\n",
              "    </tr>\n",
              "  </thead>\n",
              "  <tbody>\n",
              "    <tr>\n",
              "      <th>0</th>\n",
              "      <td>0.870968</td>\n",
              "      <td>0.929654</td>\n",
              "    </tr>\n",
              "    <tr>\n",
              "      <th>1</th>\n",
              "      <td>0.153226</td>\n",
              "      <td>0.109427</td>\n",
              "    </tr>\n",
              "    <tr>\n",
              "      <th>2</th>\n",
              "      <td>0.104839</td>\n",
              "      <td>0.037186</td>\n",
              "    </tr>\n",
              "    <tr>\n",
              "      <th>3</th>\n",
              "      <td>1.000000</td>\n",
              "      <td>1.000000</td>\n",
              "    </tr>\n",
              "    <tr>\n",
              "      <th>4</th>\n",
              "      <td>0.322581</td>\n",
              "      <td>0.282804</td>\n",
              "    </tr>\n",
              "  </tbody>\n",
              "</table>\n",
              "</div>\n",
              "    <div class=\"colab-df-buttons\">\n",
              "\n",
              "  <div class=\"colab-df-container\">\n",
              "    <button class=\"colab-df-convert\" onclick=\"convertToInteractive('df-515d6394-683f-484b-b942-4a3e68fe0501')\"\n",
              "            title=\"Convert this dataframe to an interactive table.\"\n",
              "            style=\"display:none;\">\n",
              "\n",
              "  <svg xmlns=\"http://www.w3.org/2000/svg\" height=\"24px\" viewBox=\"0 -960 960 960\">\n",
              "    <path d=\"M120-120v-720h720v720H120Zm60-500h600v-160H180v160Zm220 220h160v-160H400v160Zm0 220h160v-160H400v160ZM180-400h160v-160H180v160Zm440 0h160v-160H620v160ZM180-180h160v-160H180v160Zm440 0h160v-160H620v160Z\"/>\n",
              "  </svg>\n",
              "    </button>\n",
              "\n",
              "  <style>\n",
              "    .colab-df-container {\n",
              "      display:flex;\n",
              "      gap: 12px;\n",
              "    }\n",
              "\n",
              "    .colab-df-convert {\n",
              "      background-color: #E8F0FE;\n",
              "      border: none;\n",
              "      border-radius: 50%;\n",
              "      cursor: pointer;\n",
              "      display: none;\n",
              "      fill: #1967D2;\n",
              "      height: 32px;\n",
              "      padding: 0 0 0 0;\n",
              "      width: 32px;\n",
              "    }\n",
              "\n",
              "    .colab-df-convert:hover {\n",
              "      background-color: #E2EBFA;\n",
              "      box-shadow: 0px 1px 2px rgba(60, 64, 67, 0.3), 0px 1px 3px 1px rgba(60, 64, 67, 0.15);\n",
              "      fill: #174EA6;\n",
              "    }\n",
              "\n",
              "    .colab-df-buttons div {\n",
              "      margin-bottom: 4px;\n",
              "    }\n",
              "\n",
              "    [theme=dark] .colab-df-convert {\n",
              "      background-color: #3B4455;\n",
              "      fill: #D2E3FC;\n",
              "    }\n",
              "\n",
              "    [theme=dark] .colab-df-convert:hover {\n",
              "      background-color: #434B5C;\n",
              "      box-shadow: 0px 1px 3px 1px rgba(0, 0, 0, 0.15);\n",
              "      filter: drop-shadow(0px 1px 2px rgba(0, 0, 0, 0.3));\n",
              "      fill: #FFFFFF;\n",
              "    }\n",
              "  </style>\n",
              "\n",
              "    <script>\n",
              "      const buttonEl =\n",
              "        document.querySelector('#df-515d6394-683f-484b-b942-4a3e68fe0501 button.colab-df-convert');\n",
              "      buttonEl.style.display =\n",
              "        google.colab.kernel.accessAllowed ? 'block' : 'none';\n",
              "\n",
              "      async function convertToInteractive(key) {\n",
              "        const element = document.querySelector('#df-515d6394-683f-484b-b942-4a3e68fe0501');\n",
              "        const dataTable =\n",
              "          await google.colab.kernel.invokeFunction('convertToInteractive',\n",
              "                                                    [key], {});\n",
              "        if (!dataTable) return;\n",
              "\n",
              "        const docLinkHtml = 'Like what you see? Visit the ' +\n",
              "          '<a target=\"_blank\" href=https://colab.research.google.com/notebooks/data_table.ipynb>data table notebook</a>'\n",
              "          + ' to learn more about interactive tables.';\n",
              "        element.innerHTML = '';\n",
              "        dataTable['output_type'] = 'display_data';\n",
              "        await google.colab.output.renderOutput(dataTable, element);\n",
              "        const docLink = document.createElement('div');\n",
              "        docLink.innerHTML = docLinkHtml;\n",
              "        element.appendChild(docLink);\n",
              "      }\n",
              "    </script>\n",
              "  </div>\n",
              "\n",
              "\n",
              "<div id=\"df-604efdd5-288e-49c1-9237-d31d39f6db3e\">\n",
              "  <button class=\"colab-df-quickchart\" onclick=\"quickchart('df-604efdd5-288e-49c1-9237-d31d39f6db3e')\"\n",
              "            title=\"Suggest charts.\"\n",
              "            style=\"display:none;\">\n",
              "\n",
              "<svg xmlns=\"http://www.w3.org/2000/svg\" height=\"24px\"viewBox=\"0 0 24 24\"\n",
              "     width=\"24px\">\n",
              "    <g>\n",
              "        <path d=\"M19 3H5c-1.1 0-2 .9-2 2v14c0 1.1.9 2 2 2h14c1.1 0 2-.9 2-2V5c0-1.1-.9-2-2-2zM9 17H7v-7h2v7zm4 0h-2V7h2v10zm4 0h-2v-4h2v4z\"/>\n",
              "    </g>\n",
              "</svg>\n",
              "  </button>\n",
              "\n",
              "<style>\n",
              "  .colab-df-quickchart {\n",
              "      --bg-color: #E8F0FE;\n",
              "      --fill-color: #1967D2;\n",
              "      --hover-bg-color: #E2EBFA;\n",
              "      --hover-fill-color: #174EA6;\n",
              "      --disabled-fill-color: #AAA;\n",
              "      --disabled-bg-color: #DDD;\n",
              "  }\n",
              "\n",
              "  [theme=dark] .colab-df-quickchart {\n",
              "      --bg-color: #3B4455;\n",
              "      --fill-color: #D2E3FC;\n",
              "      --hover-bg-color: #434B5C;\n",
              "      --hover-fill-color: #FFFFFF;\n",
              "      --disabled-bg-color: #3B4455;\n",
              "      --disabled-fill-color: #666;\n",
              "  }\n",
              "\n",
              "  .colab-df-quickchart {\n",
              "    background-color: var(--bg-color);\n",
              "    border: none;\n",
              "    border-radius: 50%;\n",
              "    cursor: pointer;\n",
              "    display: none;\n",
              "    fill: var(--fill-color);\n",
              "    height: 32px;\n",
              "    padding: 0;\n",
              "    width: 32px;\n",
              "  }\n",
              "\n",
              "  .colab-df-quickchart:hover {\n",
              "    background-color: var(--hover-bg-color);\n",
              "    box-shadow: 0 1px 2px rgba(60, 64, 67, 0.3), 0 1px 3px 1px rgba(60, 64, 67, 0.15);\n",
              "    fill: var(--button-hover-fill-color);\n",
              "  }\n",
              "\n",
              "  .colab-df-quickchart-complete:disabled,\n",
              "  .colab-df-quickchart-complete:disabled:hover {\n",
              "    background-color: var(--disabled-bg-color);\n",
              "    fill: var(--disabled-fill-color);\n",
              "    box-shadow: none;\n",
              "  }\n",
              "\n",
              "  .colab-df-spinner {\n",
              "    border: 2px solid var(--fill-color);\n",
              "    border-color: transparent;\n",
              "    border-bottom-color: var(--fill-color);\n",
              "    animation:\n",
              "      spin 1s steps(1) infinite;\n",
              "  }\n",
              "\n",
              "  @keyframes spin {\n",
              "    0% {\n",
              "      border-color: transparent;\n",
              "      border-bottom-color: var(--fill-color);\n",
              "      border-left-color: var(--fill-color);\n",
              "    }\n",
              "    20% {\n",
              "      border-color: transparent;\n",
              "      border-left-color: var(--fill-color);\n",
              "      border-top-color: var(--fill-color);\n",
              "    }\n",
              "    30% {\n",
              "      border-color: transparent;\n",
              "      border-left-color: var(--fill-color);\n",
              "      border-top-color: var(--fill-color);\n",
              "      border-right-color: var(--fill-color);\n",
              "    }\n",
              "    40% {\n",
              "      border-color: transparent;\n",
              "      border-right-color: var(--fill-color);\n",
              "      border-top-color: var(--fill-color);\n",
              "    }\n",
              "    60% {\n",
              "      border-color: transparent;\n",
              "      border-right-color: var(--fill-color);\n",
              "    }\n",
              "    80% {\n",
              "      border-color: transparent;\n",
              "      border-right-color: var(--fill-color);\n",
              "      border-bottom-color: var(--fill-color);\n",
              "    }\n",
              "    90% {\n",
              "      border-color: transparent;\n",
              "      border-bottom-color: var(--fill-color);\n",
              "    }\n",
              "  }\n",
              "</style>\n",
              "\n",
              "  <script>\n",
              "    async function quickchart(key) {\n",
              "      const quickchartButtonEl =\n",
              "        document.querySelector('#' + key + ' button');\n",
              "      quickchartButtonEl.disabled = true;  // To prevent multiple clicks.\n",
              "      quickchartButtonEl.classList.add('colab-df-spinner');\n",
              "      try {\n",
              "        const charts = await google.colab.kernel.invokeFunction(\n",
              "            'suggestCharts', [key], {});\n",
              "      } catch (error) {\n",
              "        console.error('Error during call to suggestCharts:', error);\n",
              "      }\n",
              "      quickchartButtonEl.classList.remove('colab-df-spinner');\n",
              "      quickchartButtonEl.classList.add('colab-df-quickchart-complete');\n",
              "    }\n",
              "    (() => {\n",
              "      let quickchartButtonEl =\n",
              "        document.querySelector('#df-604efdd5-288e-49c1-9237-d31d39f6db3e button');\n",
              "      quickchartButtonEl.style.display =\n",
              "        google.colab.kernel.accessAllowed ? 'block' : 'none';\n",
              "    })();\n",
              "  </script>\n",
              "</div>\n",
              "    </div>\n",
              "  </div>\n"
            ]
          },
          "metadata": {},
          "execution_count": 6
        }
      ]
    },
    {
      "cell_type": "code",
      "source": [
        "# Define a function f that represents the line that generates y_pred\n",
        "w = 1\n",
        "def nn(x, w):\n",
        "    return x * w"
      ],
      "metadata": {
        "id": "C0OV48zHwVHY"
      },
      "execution_count": null,
      "outputs": []
    },
    {
      "cell_type": "code",
      "source": [
        "def plot_data_and_prediction(data, f, w):\n",
        "    plt.figure(figsize=(8, 5))\n",
        "\n",
        "    # Plot the target vs input and the initial line\n",
        "    plt.plot(data.X, data.Y, 'o', label='$y_{true}$')\n",
        "    plt.plot([0, 1], [f(0, w), f(1, w)], 'b--', label='$y_{pred}$')\n",
        "\n",
        "    # Set labels, title, axis, and legend\n",
        "    plt.xlabel('$X$', fontsize=12)\n",
        "    plt.ylabel('$y$', fontsize=12)\n",
        "    plt.axis((0, 1, 0, 1))\n",
        "    plt.title('y-true vs y-pred')\n",
        "    plt.legend(loc=2)\n",
        "    plt.show()\n",
        "\n",
        "# Using the provided function to plot\n",
        "plot_data_and_prediction(data_s, nn, w)"
      ],
      "metadata": {
        "colab": {
          "base_uri": "https://localhost:8080/",
          "height": 491
        },
        "id": "5sAs9yhvrF4M",
        "outputId": "ef4e8f61-183d-4220-c65b-270e30b43983"
      },
      "execution_count": null,
      "outputs": [
        {
          "output_type": "display_data",
          "data": {
            "text/plain": [
              "<Figure size 800x500 with 1 Axes>"
            ],
            "image/png": "[encoded data removed]"
          },
          "metadata": {}
        }
      ]
    },
    {
      "cell_type": "markdown",
      "source": [
        "# 2.1 How can we figure out how well our modeling is performing?\n",
        "## Mean Squared Error (MSE)\n",
        "### Definition\n",
        "\n",
        "The Mean Squared Error (MSE) is a measure of the average of the squares of the \"errors\", that is, the difference between the true value and what is predicted (estimated). It's a popular metric for regression problems to evaluate the performance of a model.\n",
        "### Formula\n",
        "The formula for calculating MSE is given by:"
      ],
      "metadata": {
        "id": "HVhTwKpOwswx"
      }
    },
    {
      "cell_type": "markdown",
      "source": [
        "$MSE = \\frac{1}{n} \\sum_{i=1}^n (y_i - \\hat{y}_i)^2$\n"
      ],
      "metadata": {
        "id": "YJ9XV7_UwSot"
      }
    },
    {
      "cell_type": "markdown",
      "source": [
        "- \\( n \\) is the number of data points or samples.\n",
        "- \\( $y_i$ \\) is the actual value of the \\( $i^{th}$ \\) data point.\n",
        "- \\( $\\hat{y}_i$) is the predicted value of the \\( $i^{th}$ ) data point."
      ],
      "metadata": {
        "id": "vsoHCffQw3w4"
      }
    },
    {
      "cell_type": "code",
      "source": [
        "def nn(x, w):\n",
        "    \"\"\"Output function y = x * w\"\"\"\n",
        "    return x * w\n",
        "\n",
        "\n",
        "def loss(y, t):\n",
        "    \"\"\"Calculate the Mean Squared Error\"\"\"\n",
        "    return np.mean((t - y)**2)"
      ],
      "metadata": {
        "id": "XSRgzAAvqkRQ"
      },
      "execution_count": null,
      "outputs": []
    },
    {
      "cell_type": "code",
      "source": [
        "def plot_loss_vs_weight(data, loss_function, nn_function):\n",
        "    # Vector of weights and their corresponding losses\n",
        "    ws = np.linspace(-60, 60, num=1000)\n",
        "    loss_ws = np.vectorize(lambda w: loss_function(nn_function(data.X, w), data.Y))(ws)\n",
        "\n",
        "    # Plot\n",
        "    plt.figure(figsize=(5, 3))\n",
        "    plt.plot(ws, loss_ws, 'r--', label='loss')\n",
        "    plt.xlabel('$w$', fontsize=12)\n",
        "    plt.ylabel('$\\\\xi$', fontsize=12)\n",
        "    plt.title('Loss function with respect to $w$')\n",
        "    plt.xlim(-60, 60)\n",
        "    plt.legend()\n",
        "    plt.show()\n",
        "    return loss_ws, ws\n",
        "\n",
        "# Using the function to plot\n",
        "loss_ws, ws = plot_loss_vs_weight(data_s, loss, nn)"
      ],
      "metadata": {
        "colab": {
          "base_uri": "https://localhost:8080/",
          "height": 339
        },
        "id": "9MoYoKdvyeLV",
        "outputId": "f10a0710-b742-41e8-abce-15f3f407b783"
      },
      "execution_count": null,
      "outputs": [
        {
          "output_type": "display_data",
          "data": {
            "text/plain": [
              "<Figure size 500x300 with 1 Axes>"
            ],
            "image/png": "[encoded data removed]"
          },
          "metadata": {}
        }
      ]
    },
    {
      "cell_type": "markdown",
      "source": [
        "# 2.2 How do we find out the optimal values for parameters (weights and biases)?"
      ],
      "metadata": {
        "id": "d-WFN7e58VPa"
      }
    },
    {
      "cell_type": "code",
      "source": [
        "# Find the minimum loss and its corresponding weight\n",
        "min_loss = np.min(loss_ws)\n",
        "min_loss_index = np.argmin(loss_ws)\n",
        "min_loss_weight = ws[min_loss_index]\n",
        "\n",
        "min_loss, min_loss_weight"
      ],
      "metadata": {
        "colab": {
          "base_uri": "https://localhost:8080/"
        },
        "id": "ruBoGHBhyyWd",
        "outputId": "0ab0098b-1642-493a-bfe3-75ad0079f9ee"
      },
      "execution_count": null,
      "outputs": [
        {
          "output_type": "execute_result",
          "data": {
            "text/plain": [
              "(0.008160319473215428, 1.1411411411411407)"
            ]
          },
          "metadata": {},
          "execution_count": 11
        }
      ]
    },
    {
      "cell_type": "markdown",
      "source": [
        "# Exercise 1\n",
        "\n",
        "**Explore the linear modeling of data based on different values for w, such as 10, 5, 2, and 1, to find the minimum value of the loss function!**"
      ],
      "metadata": {
        "id": "NFJAa4L9hQRq"
      }
    },
    {
      "cell_type": "code",
      "source": [
        "# Define a function f that represents the line that generates y_pred\n",
        "w = 60\n",
        "\n",
        "# Using the provided function to plot\n",
        "plot_data_and_prediction(data_s, nn, w)"
      ],
      "metadata": {
        "colab": {
          "base_uri": "https://localhost:8080/",
          "height": 491
        },
        "id": "Sbn9OWJRx1Mc",
        "outputId": "6be11592-dd9f-422e-f0db-a2f9eb779e24"
      },
      "execution_count": null,
      "outputs": [
        {
          "output_type": "display_data",
          "data": {
            "text/plain": [
              "<Figure size 800x500 with 1 Axes>"
            ],
            "image/png": "[encoded data removed]"
          },
          "metadata": {}
        }
      ]
    },
    {
      "cell_type": "markdown",
      "source": [
        "# 2.3 Is it still easy to find the best value when we have, say, 10M parameters?"
      ],
      "metadata": {
        "id": "61tYjSfh9kQf"
      }
    },
    {
      "cell_type": "markdown",
      "source": [
        "Finding optimal values for a vast number of parameters by exploring all possible combinations is an impractical approach. In other words, trying to find the best settings by looking at every possible option when you have millions of dials to adjust would take an impossible amount of time and computer power. It’s like trying to find a needle in a haystack, except the haystack is as big as a planet."
      ],
      "metadata": {
        "id": "tCpgWln5D_ri"
      }
    },
    {
      "cell_type": "markdown",
      "source": [
        "So, the solution is to ask mathematics (Gradient) to help us!"
      ],
      "metadata": {
        "id": "pCxgwGniLylq"
      }
    },
    {
      "cell_type": "markdown",
      "source": [
        "The main idea behind the gradient of a function is that a function can have critical points where the gradient becomes zero. At these points, the function can have a minimum, maximum, or saddle (minimax) point. By selecting an initial value for a parameter like 'w' and considering the value and direction of the gradient, we can determine how to adjust the parameter value to find these critical points. This process is often referred to as 'descent,' especially when the goal is to find the minimum, as it involves moving in the direction that reduces the function's value. This reduction is typically achieved by subtracting a fraction of the gradient from the parameters."
      ],
      "metadata": {
        "id": "gFJGNWAZQOHT"
      }
    },
    {
      "cell_type": "markdown",
      "source": [
        "## Gradient of the MSE with respect to the weight (𝑤)\n",
        "\n",
        "Mean Squared Error (MSE) Loss Function:\n",
        "\n",
        "$MSE = \\frac{1}{n} \\sum_{i=1}^n (y_i - \\hat{y}_i)^2$\n",
        "\n",
        "Also we know that:\n",
        "\n",
        "$y_i = w_ix_i$"
      ],
      "metadata": {
        "id": "DT3RHubdY_i3"
      }
    },
    {
      "cell_type": "markdown",
      "source": [
        "### **Backward Pass / Gradient Calculation**"
      ],
      "metadata": {
        "id": "EpbL3c58gXk8"
      }
    },
    {
      "cell_type": "markdown",
      "source": [
        "\n",
        "\n",
        "\n",
        "For a linear regression model with $( y_i = w_ix_i )$, the gradient of the MSE with respect to the weight $( w )$ is:\n",
        "\n",
        "$\\frac{\\partial L}{\\partial w} = \\frac{2}{N} \\sum_{i=1}^{N} x_i(y_i - t_i)$\n",
        "\n",
        "\n",
        "\n",
        "\n",
        "### Explanation:\n",
        "\n",
        "1. The derivative of $(y_i - t_i)^2$ with respect to $( y_i )$ is $2(y_i - t_i)$.\n",
        "2. For $( y_i = w_ix_i )$, the derivative of $( y_i )$ with respect to $( w_i )$ is $( x_i )$.\n",
        "3. Using the chain rule, the derivative of the loss with respect to $( w_i )$ is $( 2(y_i - t_i) \\times x_i )$.\n",
        "4. Averaging over all data points gives the gradient:\n",
        "$\\frac{\\partial L}{\\partial w} = \\frac{2}{N} \\sum_{i=1}^{N} x_i(y_i - t_i)$\n",
        "\n",
        "This gradient provides direction and magnitude to adjust \\( w \\) to minimize the loss during gradient descent.\n"
      ],
      "metadata": {
        "id": "4vGIzNyN2_Im"
      }
    },
    {
      "cell_type": "markdown",
      "source": [
        "### **Back Propagation / Update Weights**"
      ],
      "metadata": {
        "id": "3LUtH8Kxgbgb"
      }
    },
    {
      "cell_type": "markdown",
      "source": [
        "The gradient descent formula is used to update the parameters of a model in order to minimize a cost or loss function. It's an iterative process that adjusts the parameters in the direction that reduces the cost function. The formula is as follows:\n",
        "\n",
        "$ w_{\\text{new}} = w_{\\text{old}} - \\alpha \\cdot \\nabla J(w_{\\text{old}})$\n",
        "\n",
        "Where:\n",
        "- $( w_{\\text{new}})$ is the updated parameter vector.\n",
        "- $( w_{\\text{old}})$ is the current parameter vector.\n",
        "- $( \\alpha)$ is the learning rate, determining the step size in each iteration.\n",
        "- $\\nabla J(w_{\\text{old}})$ is the gradient of the cost or loss function \\( L \\) with respect to the parameters $w$ at the current values $w_{\\text{old}}$.\n",
        "\n",
        "This formula is used iteratively until convergence to find the parameter values that minimize the cost function.\n"
      ],
      "metadata": {
        "id": "axysbEZqDrN1"
      }
    },
    {
      "cell_type": "markdown",
      "source": [
        "# 2.4 Understanding the Differences Between Batch Gradient Descent and Stochastic Gradient Descent in Machine Learning"
      ],
      "metadata": {
        "id": "k0aKktFF6DrB"
      }
    },
    {
      "cell_type": "markdown",
      "source": [
        "There are three main types of gradient descent:\n",
        "> - **Batch Gradient Descent:** Batch Gradient Descent computes the gradient of the cost function with respect to the parameters for the entire training dataset. Computationally efficient when the dataset fits in memory because it can benefit from vectorized operations. Can be very slow for large datasets\n",
        "- **Stochastic Gradient Descent:** Stochastic Gradient Descent (SGD) computes the gradient and updates the parameters for each training example one at a time. Can handle large datasets since it only requires one training example in memory at a time. Less accurate convergence. The path to the minimum is noisy compared to Batch Gradient Descent.\n",
        "- **Mini-Batch Gradient Descent:** Mini-Batch Gradient Descent computes the gradient of the cost function and updates the parameters using a subset of the training data, rather than the entire dataset or a single training example. Faster computation than Batch Gradient Descent, as it doesn't need to process the entire dataset before making updates. The mini-batch size is an additional hyperparameter to tune, and finding the optimal size can be challenging.\n",
        "\n",
        "Here, I'll explain Batch Gradient Descent and Stochastic Gradient Descent in a simple and clear manner."
      ],
      "metadata": {
        "id": "3IvfaO3R5fJ8"
      }
    },
    {
      "cell_type": "markdown",
      "source": [
        "### Batch Gradient Descent"
      ],
      "metadata": {
        "id": "lasuB7o47Qyt"
      }
    },
    {
      "cell_type": "code",
      "source": [
        "# Initializing Hyperparameters\n",
        "epochs = 5\n",
        "learning_rate = 2\n",
        "\n",
        "\n",
        "# Initializing Parameters\n",
        "w = 50\n",
        "\n",
        "loss_set = {}\n",
        "\n",
        "# 1. Creating a Neural Network\n",
        "# 1.1 Structure (Architecture) of NN\n",
        "def nn(x, w):\n",
        "    \"\"\"Output function y = x * w\"\"\"\n",
        "    return x * w\n",
        "\n",
        "# 1.2 Loss Function\n",
        "def loss(y, t):\n",
        "    \"\"\"Calculate the Mean Squared Error\"\"\"\n",
        "    return np.mean((t - y)**2)\n",
        "\n",
        "# 1.3 Optmization Approch\n",
        "def gradient(w, x, t):\n",
        "    \"\"\"Compute the gradient.\"\"\"\n",
        "    y = x * w\n",
        "    return np.mean(2 * x * (y - t))\n",
        "\n",
        "def delta_w(w_i, x, t, learning_rate):\n",
        "    \"\"\"Compute the weight update.\"\"\"\n",
        "    return learning_rate * gradient(w_i, x, t)\n",
        "\n",
        "w_his = []\n",
        "w_his.append(w)\n",
        "# Loop over the number of epochs\n",
        "for i in range(epochs):\n",
        "\n",
        "    # 2. Forward Pass\n",
        "    output = nn(data_s.X, w)\n",
        "\n",
        "    # 3. FeedForward Evaluation\n",
        "    loss_val = loss(output, data_s.Y)\n",
        "\n",
        "    # 4. Backward Pass / Gradient Calculation\n",
        "    grad_value = gradient(w, data_s.X, data_s.Y)  # Compute gradient\n",
        "    dw = delta_w(w, data_s.X, data_s.Y, learning_rate)\n",
        "\n",
        "    # 5. Back Propagation / Update Weights\n",
        "    w = w - dw\n",
        "    w_his.append(w)\n",
        "\n",
        "    # Print gradient, dw, weight, and loss values in a single line\n",
        "    print(f\"Iteration {i+1}: Gradient = {grad_value:.4f}, Δw = {dw:.4f}, w({i}): {w:.4f}, loss: {loss_val:.4f}\")"
      ],
      "metadata": {
        "colab": {
          "base_uri": "https://localhost:8080/"
        },
        "id": "aiZ0lWYG-i4y",
        "outputId": "70bd7740-8149-4f89-9c1f-0cd27d7fd5ef"
      },
      "execution_count": null,
      "outputs": [
        {
          "output_type": "stream",
          "name": "stdout",
          "text": [
            "Iteration 1: Gradient = 6.7463, Δw = 13.4926, w(0): 36.5074, loss: 164.8565\n",
            "Iteration 2: Gradient = 4.8837, Δw = 9.7675, w(1): 26.7399, loss: 86.3965\n",
            "Iteration 3: Gradient = 3.5354, Δw = 7.0708, w(2): 19.6691, loss: 45.2797\n",
            "Iteration 4: Gradient = 2.5593, Δw = 5.1186, w(3): 14.5505, loss: 23.7326\n",
            "Iteration 5: Gradient = 1.8527, Δw = 3.7054, w(4): 10.8451, loss: 12.4409\n"
          ]
        }
      ]
    },
    {
      "cell_type": "code",
      "source": [
        "# Plotting Loss Function Curve\n",
        "plt.figure(figsize=(10, 5))\n",
        "plt.plot(ws, loss_ws, 'r--', label='Loss Function', linewidth=2)\n",
        "\n",
        "# Plotting w values from the training\n",
        "plt.scatter(w_his, np.interp(w_his, ws, loss_ws), color='blue', s=20, label='Training $w$ Values')\n",
        "plt.plot(w_his, np.interp(w_his, ws, loss_ws), color='blue', linestyle='-', linewidth=0.5)\n",
        "\n",
        "plt.title('Movement of $w$ on Loss Function Curve from Training Results')\n",
        "plt.xlabel('$w$')\n",
        "plt.ylabel('Loss')\n",
        "plt.xlim(-60, 60)\n",
        "plt.legend()\n",
        "plt.grid(True)\n",
        "plt.show()"
      ],
      "metadata": {
        "colab": {
          "base_uri": "https://localhost:8080/",
          "height": 489
        },
        "id": "Vj0NT77LxOpy",
        "outputId": "50c1238b-223d-4b6a-f5ea-e93e20602fff"
      },
      "execution_count": null,
      "outputs": [
        {
          "output_type": "display_data",
          "data": {
            "text/plain": [
              "<Figure size 1000x500 with 1 Axes>"
            ],
            "image/png": "[encoded data removed]"
          },
          "metadata": {}
        }
      ]
    },
    {
      "cell_type": "markdown",
      "source": [
        "### Stochastic Gradient Descent"
      ],
      "metadata": {
        "id": "ZkXB2rIq7Ykb"
      }
    },
    {
      "cell_type": "code",
      "source": [
        "# Initializing Hyperparameters\n",
        "epochs = 1\n",
        "learning_rate = 2\n",
        "\n",
        "# Initializing Parameters\n",
        "w = 10\n",
        "\n",
        "# 1. Creating a Neural Network\n",
        "# 1.1 Structure (Architecture) of NN\n",
        "def nn(x, w):\n",
        "    \"\"\"Output function y = x * w\"\"\"\n",
        "    return x * w\n",
        "\n",
        "# 1.2 Loss Function\n",
        "def loss(y, t):\n",
        "    \"\"\"Calculate the Mean Squared Error\"\"\"\n",
        "    return np.mean((t - y)**2)\n",
        "\n",
        "# 1.3 Optmization Approach\n",
        "def gradient(w, x, t):\n",
        "    \"\"\"Compute the gradient.\"\"\"\n",
        "    y = x * w\n",
        "    return np.mean(2 * x * (y - t))\n",
        "\n",
        "def delta_w(w_i, x, t, learning_rate):\n",
        "    \"\"\"Compute the weight update.\"\"\"\n",
        "    return learning_rate * gradient(w_i, x, t)\n",
        "\n",
        "w_his = []\n",
        "w_his.append(w)\n",
        "# Loop over the number of epochs\n",
        "for epoch in range(epochs):\n",
        "    total_loss = 0\n",
        "    for i in range(len(data_s['X'])):\n",
        "        x_i, t_i = data_s['X'][i], data_s['Y'][i]\n",
        "\n",
        "        # 2. Forward Pass\n",
        "        output = nn(x_i, w)\n",
        "\n",
        "        # 3. FeedForward Evaluation\n",
        "        loss_val = loss(output, t_i)\n",
        "\n",
        "        # 4. Backward Pass / Gradient Calculation\n",
        "        grad_value = gradient(w, x_i, t_i)  # Compute gradient\n",
        "        dw = delta_w(w, x_i, t_i, learning_rate)\n",
        "\n",
        "        # 5. Back Propagation / Update Weights\n",
        "        w = w - dw\n",
        "\n",
        "        w_his.append(w)\n",
        "\n",
        "        # Accumulate loss\n",
        "        total_loss += loss_val\n",
        "\n",
        "        # Print gradient, dw, weight, and loss values in a single line\n",
        "        print(f\"Epoch {epoch+1}, Sample {i+1}: Gradient = {grad_value:.4f}, Δw = {dw:.4f}, w: {w:.4f}, loss: {loss_val:.4f}\")\n",
        "\n",
        "    # Print average loss for the epoch\n",
        "    avg_loss = total_loss / len(data_s['X'])\n",
        "    print(f\"Epoch {epoch+1}: Average Loss = {avg_loss:.4f}\\n\")\n"
      ],
      "metadata": {
        "colab": {
          "base_uri": "https://localhost:8080/"
        },
        "id": "XRe4X2hjraxr",
        "outputId": "905a87e9-728f-461c-b8db-543792666d3f"
      },
      "execution_count": null,
      "outputs": [
        {
          "output_type": "stream",
          "name": "stdout",
          "text": [
            "Epoch 1, Sample 1: Gradient = 13.5523, Δw = 27.1046, w: -17.1046, loss: 60.5288\n",
            "Epoch 1, Sample 2: Gradient = -0.8367, Δw = -1.6734, w: -15.4312, loss: 7.4545\n",
            "Epoch 1, Sample 3: Gradient = -0.3470, Δw = -0.6940, w: -14.7372, loss: 2.7389\n",
            "Epoch 1, Sample 4: Gradient = -31.4743, Δw = -62.9487, w: 48.2115, loss: 247.6586\n",
            "Epoch 1, Sample 5: Gradient = 9.8512, Δw = 19.7023, w: 28.5092, loss: 233.1514\n",
            "Epoch 1, Sample 6: Gradient = 11.6760, Δw = 23.3521, w: 5.1571, loss: 161.2963\n",
            "Epoch 1, Sample 7: Gradient = 0.3049, Δw = 0.6097, w: 4.5474, loss: 0.6753\n",
            "Epoch 1, Sample 8: Gradient = 0.0745, Δw = 0.1490, w: 4.3984, loss: 0.1088\n",
            "Epoch 1, Sample 9: Gradient = 0.7906, Δw = 1.5813, w: 2.8171, loss: 1.1867\n",
            "Epoch 1, Sample 10: Gradient = 0.0117, Δw = 0.0234, w: 2.7937, loss: 0.0053\n",
            "Epoch 1, Sample 11: Gradient = 0.0051, Δw = 0.0102, w: 2.7836, loss: 0.0040\n",
            "Epoch 1, Sample 12: Gradient = 0.3793, Δw = 0.7585, w: 2.0251, loss: 0.2400\n",
            "Epoch 1, Sample 13: Gradient = 0.0220, Δw = 0.0440, w: 1.9811, loss: 0.0154\n",
            "Epoch 1, Sample 14: Gradient = 0.1015, Δw = 0.2030, w: 1.7780, loss: 0.0749\n",
            "Epoch 1, Sample 15: Gradient = -0.0017, Δw = -0.0034, w: 1.7815, loss: 0.0002\n",
            "Epoch 1, Sample 16: Gradient = 0.0004, Δw = 0.0008, w: 1.7806, loss: 0.0002\n",
            "Epoch 1, Sample 17: Gradient = 0.0097, Δw = 0.0194, w: 1.7612, loss: 0.0006\n",
            "Epoch 1, Sample 18: Gradient = -0.0034, Δw = -0.0068, w: 1.7680, loss: 0.0012\n",
            "Epoch 1, Sample 19: Gradient = 0.0016, Δw = 0.0031, w: 1.7649, loss: 0.0010\n",
            "Epoch 1, Sample 20: Gradient = 0.0222, Δw = 0.0443, w: 1.7206, loss: 0.0036\n",
            "Epoch 1, Sample 21: Gradient = 0.0047, Δw = 0.0093, w: 1.7112, loss: 0.0023\n",
            "Epoch 1, Sample 22: Gradient = 0.0013, Δw = 0.0026, w: 1.7087, loss: 0.0001\n",
            "Epoch 1, Sample 23: Gradient = 0.0001, Δw = 0.0002, w: 1.7085, loss: 0.0000\n",
            "Epoch 1, Sample 24: Gradient = 0.0005, Δw = 0.0010, w: 1.7075, loss: 0.0001\n",
            "Epoch 1, Sample 25: Gradient = 0.0717, Δw = 0.1434, w: 1.5642, loss: 0.0235\n",
            "Epoch 1, Sample 26: Gradient = -0.0108, Δw = -0.0215, w: 1.5857, loss: 0.0091\n",
            "Epoch 1, Sample 27: Gradient = 0.0015, Δw = 0.0030, w: 1.5827, loss: 0.0005\n",
            "Epoch 1, Sample 28: Gradient = 0.0074, Δw = 0.0148, w: 1.5679, loss: 0.0005\n",
            "Epoch 1, Sample 29: Gradient = 0.0025, Δw = 0.0051, w: 1.5628, loss: 0.0005\n",
            "Epoch 1, Sample 30: Gradient = -0.0026, Δw = -0.0051, w: 1.5680, loss: 0.0016\n",
            "Epoch 1, Sample 31: Gradient = 0.0000, Δw = 0.0000, w: 1.5680, loss: 0.0000\n",
            "Epoch 1, Sample 32: Gradient = 0.0614, Δw = 0.1228, w: 1.4452, loss: 0.0232\n",
            "Epoch 1, Sample 33: Gradient = 0.0034, Δw = 0.0068, w: 1.4384, loss: 0.0012\n",
            "Epoch 1, Sample 34: Gradient = -0.0030, Δw = -0.0060, w: 1.4444, loss: 0.0014\n",
            "Epoch 1, Sample 35: Gradient = -0.0448, Δw = -0.0896, w: 1.5340, loss: 0.0159\n",
            "Epoch 1, Sample 36: Gradient = 0.0001, Δw = 0.0002, w: 1.5338, loss: 0.0000\n",
            "Epoch 1, Sample 37: Gradient = 0.2353, Δw = 0.4706, w: 1.0632, loss: 0.0572\n",
            "Epoch 1, Sample 38: Gradient = -0.0067, Δw = -0.0134, w: 1.0767, loss: 0.0012\n",
            "Epoch 1, Sample 39: Gradient = 0.0003, Δw = 0.0006, w: 1.0761, loss: 0.0000\n",
            "Epoch 1, Sample 40: Gradient = -0.0006, Δw = -0.0012, w: 1.0772, loss: 0.0000\n",
            "Epoch 1, Sample 41: Gradient = -0.0210, Δw = -0.0419, w: 1.1192, loss: 0.0100\n",
            "Epoch 1, Sample 42: Gradient = 0.0601, Δw = 0.1203, w: 0.9989, loss: 0.0039\n",
            "Epoch 1, Sample 43: Gradient = -0.0656, Δw = -0.1311, w: 1.1300, loss: 0.0098\n",
            "Epoch 1, Sample 44: Gradient = -0.0148, Δw = -0.0295, w: 1.1595, loss: 0.0006\n",
            "Epoch 1, Sample 45: Gradient = 0.1142, Δw = 0.2284, w: 0.9312, loss: 0.0166\n",
            "Epoch 1, Sample 46: Gradient = 0.0886, Δw = 0.1773, w: 0.7539, loss: 0.0180\n",
            "Epoch 1, Sample 47: Gradient = 0.0029, Δw = 0.0058, w: 0.7481, loss: 0.0003\n",
            "Epoch 1, Sample 48: Gradient = -0.0246, Δw = -0.0492, w: 0.7972, loss: 0.0032\n",
            "Epoch 1, Sample 49: Gradient = -0.0166, Δw = -0.0332, w: 0.8305, loss: 0.0166\n",
            "Epoch 1, Sample 50: Gradient = -0.0036, Δw = -0.0072, w: 0.8377, loss: 0.0055\n",
            "Epoch 1, Sample 51: Gradient = -0.0608, Δw = -0.1216, w: 0.9593, loss: 0.0492\n",
            "Epoch 1, Sample 52: Gradient = -0.0251, Δw = -0.0502, w: 1.0095, loss: 0.0143\n",
            "Epoch 1, Sample 53: Gradient = 0.0063, Δw = 0.0127, w: 0.9968, loss: 0.0009\n",
            "Epoch 1, Sample 54: Gradient = 0.0108, Δw = 0.0216, w: 0.9752, loss: 0.0020\n",
            "Epoch 1, Sample 55: Gradient = -0.0089, Δw = -0.0177, w: 0.9930, loss: 0.0047\n",
            "Epoch 1, Sample 56: Gradient = -0.0391, Δw = -0.0781, w: 1.0711, loss: 0.0070\n",
            "Epoch 1, Sample 57: Gradient = -0.0975, Δw = -0.1950, w: 1.2661, loss: 0.0406\n",
            "Epoch 1, Sample 58: Gradient = -0.0316, Δw = -0.0631, w: 1.3293, loss: 0.0067\n",
            "Epoch 1, Sample 59: Gradient = -0.0160, Δw = -0.0321, w: 1.3614, loss: 0.0122\n",
            "Epoch 1, Sample 60: Gradient = -0.0783, Δw = -0.1566, w: 1.5179, loss: 0.0245\n",
            "Epoch 1, Sample 61: Gradient = -0.0124, Δw = -0.0248, w: 1.5427, loss: 0.0030\n",
            "Epoch 1, Sample 62: Gradient = 0.0684, Δw = 0.1368, w: 1.4059, loss: 0.0064\n",
            "Epoch 1, Sample 63: Gradient = -0.0626, Δw = -0.1252, w: 1.5311, loss: 0.0223\n",
            "Epoch 1: Average Loss = 11.3581\n",
            "\n"
          ]
        }
      ]
    },
    {
      "cell_type": "code",
      "source": [
        "# Plotting Loss Function Curve\n",
        "plt.figure(figsize=(10, 5))\n",
        "plt.plot(ws, loss_ws, 'r--', label='Loss Function', linewidth=2)\n",
        "\n",
        "# Plotting w values from the training\n",
        "plt.scatter(w_his, np.interp(w_his, ws, loss_ws), color='blue', s=20, label='Training $w$ Values')\n",
        "plt.plot(w_his, np.interp(w_his, ws, loss_ws), color='blue', linestyle='-', linewidth=0.5)\n",
        "\n",
        "plt.title('Movement of $w$ on Loss Function Curve from Training Results')\n",
        "plt.xlabel('$w$')\n",
        "plt.ylabel('Loss')\n",
        "plt.xlim(-60, 60)\n",
        "plt.legend()\n",
        "plt.grid(True)\n",
        "plt.show()"
      ],
      "metadata": {
        "colab": {
          "base_uri": "https://localhost:8080/",
          "height": 489
        },
        "id": "ZL-EKF5sADEY",
        "outputId": "55c81346-454a-4c62-df2e-facf4997d829"
      },
      "execution_count": null,
      "outputs": [
        {
          "output_type": "display_data",
          "data": {
            "text/plain": [
              "<Figure size 1000x500 with 1 Axes>"
            ],
            "image/png": "[encoded data removed]"
          },
          "metadata": {}
        }
      ]
    },
    {
      "cell_type": "markdown",
      "source": [
        "# Exercise 2\n",
        "\n",
        "**Manually calculate the gradients and new weights for the first three samples above!**"
      ],
      "metadata": {
        "id": "UGxZjXX_TW4C"
      }
    },
    {
      "cell_type": "code",
      "source": [],
      "metadata": {
        "id": "HUNtL37TUBUD"
      },
      "execution_count": null,
      "outputs": []
    },
    {
      "cell_type": "markdown",
      "source": [
        "# 3. Why do we need DL fameworks such as Pytorch?"
      ],
      "metadata": {
        "id": "PvMDQ3HRAZXK"
      }
    },
    {
      "cell_type": "markdown",
      "source": [
        "Deep Learning (DL) frameworks like PyTorch are very important for several reasons:\n",
        "\n",
        "> - **Easy to Use:** They provide a simple way to build and train complex neural network models, without needing to understand all the low-level details of how the algorithms work.\n",
        "- **Efficient:** They are optimized for performance, meaning that they can train models faster and use less memory than if you were to write the code from scratch.\n",
        "- **Flexible:** They offer a lot of flexibility, allowing you to customize and tweak your models as needed."
      ],
      "metadata": {
        "id": "Ai20__gPoM5c"
      }
    },
    {
      "cell_type": "markdown",
      "source": [
        "nn.Linear(n,m) is a module that creates single layer feed forward network with n inputs and m output. Mathematically, this module is designed to calculate the linear equation Ax = b where x is input, b is output, A is weight. This is where the name 'Linear' came from."
      ],
      "metadata": {
        "id": "DaA_wJWmn4qN"
      }
    },
    {
      "cell_type": "markdown",
      "source": [
        "![](https://raw.githubusercontent.com/aaubs/ds-master/main/data/Images/torch_nn_11.png)"
      ],
      "metadata": {
        "id": "eFbgI_dtnPrr"
      }
    },
    {
      "cell_type": "markdown",
      "source": [
        "The torch module provides all the necessary tensor operators you will need to implement your first neural network from scratch in PyTorch. That's right! In PyTorch everything is a Tensor, so this is the first thing you will need to get used to. Let's import the libraries we will need for this tutorial."
      ],
      "metadata": {
        "id": "Hrl6VYvNo2_m"
      }
    },
    {
      "cell_type": "code",
      "source": [
        "import torch\n",
        "\n",
        "# Convert the pandas Series to a PyTorch tensor\n",
        "tensor_data_X = torch.tensor(data_s.X.values, dtype=torch.float32)\n",
        "tensor_data_Y = torch.tensor(data_s.Y.values, dtype=torch.float32)"
      ],
      "metadata": {
        "id": "o8bbtbgwjE5K"
      },
      "execution_count": null,
      "outputs": []
    },
    {
      "cell_type": "code",
      "source": [
        "tensor_data_X[0]"
      ],
      "metadata": {
        "colab": {
          "base_uri": "https://localhost:8080/"
        },
        "id": "HuFGkw0rJesf",
        "outputId": "8238efc3-ad1c-4ede-8ae1-5f23067cc352"
      },
      "execution_count": null,
      "outputs": [
        {
          "output_type": "execute_result",
          "data": {
            "text/plain": [
              "tensor(0.8710)"
            ]
          },
          "metadata": {},
          "execution_count": 34
        }
      ]
    },
    {
      "cell_type": "code",
      "source": [
        "tensor_data_X[0].reshape(-1)"
      ],
      "metadata": {
        "colab": {
          "base_uri": "https://localhost:8080/"
        },
        "id": "R4glf2dtjsvu",
        "outputId": "83769e9a-40d8-49e3-e740-f9f94a877f45"
      },
      "execution_count": null,
      "outputs": [
        {
          "output_type": "execute_result",
          "data": {
            "text/plain": [
              "tensor([0.8710])"
            ]
          },
          "metadata": {},
          "execution_count": 18
        }
      ]
    },
    {
      "cell_type": "code",
      "source": [
        "tensor_data_X.view(-1, 1).shape"
      ],
      "metadata": {
        "colab": {
          "base_uri": "https://localhost:8080/"
        },
        "id": "vfgHpRB1IgBD",
        "outputId": "07d3b682-a20f-48e2-9e0d-ae18f67d8b1e"
      },
      "execution_count": null,
      "outputs": [
        {
          "output_type": "execute_result",
          "data": {
            "text/plain": [
              "torch.Size([63, 1])"
            ]
          },
          "metadata": {},
          "execution_count": 23
        }
      ]
    },
    {
      "cell_type": "code",
      "source": [
        "tensor_data_X.reshape(-1, 1).shape"
      ],
      "metadata": {
        "colab": {
          "base_uri": "https://localhost:8080/"
        },
        "id": "ScsEdw0lI9mG",
        "outputId": "3643e64c-6908-4210-a5e3-2c413a55ac4b"
      },
      "execution_count": null,
      "outputs": [
        {
          "output_type": "execute_result",
          "data": {
            "text/plain": [
              "torch.Size([63, 1])"
            ]
          },
          "metadata": {},
          "execution_count": 31
        }
      ]
    },
    {
      "cell_type": "markdown",
      "source": [
        "### Batch Gradient Descent PyTorch"
      ],
      "metadata": {
        "id": "jToGqJ1WJwPo"
      }
    },
    {
      "cell_type": "code",
      "source": [
        "import torch\n",
        "from tqdm.notebook import tqdm\n",
        "\n",
        "# Initializing Hyperparameters\n",
        "epochs = 30\n",
        "learning_rate = 2\n",
        "\n",
        "# Initializing Parameters\n",
        "w = 50\n",
        "\n",
        "# Storing losses\n",
        "loss_set = {}\n",
        "\n",
        "# 1. Creating a FeedForwardNetwork\n",
        "# 1.1 Structure (Architecture) of NN\n",
        "model_net1 = torch.nn.Linear(1, 1, bias=False)\n",
        "model_net1_actfun = torch.nn.Identity()\n",
        "model_net1.weight.data.fill_(w)\n",
        "\n",
        "# 1.2 Loss Function\n",
        "loss_mse = torch.nn.MSELoss()\n",
        "\n",
        "# 1.3 Optimization Approach\n",
        "optimizer = torch.optim.SGD(model_net1.parameters(), lr=learning_rate)\n",
        "\n",
        "# Reshape tensor_data_X to (63, 1)\n",
        "tensor_data_X_batchgradient = tensor_data_X.view(-1, 1)\n",
        "\n",
        "w_his = []\n",
        "w_his.append(w)\n",
        "# Loop over the number of epochs\n",
        "for epoch in tqdm(range(epochs), total=epochs, unit=\"epoch\"):\n",
        "\n",
        "    # 2. Forward Pass\n",
        "    output = model_net1_actfun(model_net1(tensor_data_X_batchgradient))\n",
        "\n",
        "    # 3. FeedForward Evaluation\n",
        "    loss = loss_mse(output, tensor_data_Y)\n",
        "    optimizer.zero_grad()\n",
        "\n",
        "    # 4. Backward Pass / Gradient Calculation\n",
        "    loss.backward()\n",
        "\n",
        "    # Store the loss for each epoch\n",
        "    loss_set[epoch] = loss.item()\n",
        "\n",
        "    # Display the loss after every epoch\n",
        "    print(f\"Epoch {epoch + 1}/{epochs}, Loss: {loss.item():.4f}\")\n",
        "\n",
        "    # 5. Back Propagation / Update Weights\n",
        "    optimizer.step()\n",
        "    w_his.append(float(model_net1.weight.data[0][0]))\n",
        "\n",
        "# Display final weight and loss\n",
        "print(\"\\nTraining complete!\")\n",
        "print(f\"Final Weight: {model_net1.weight.data.item():.4f}\")\n",
        "print(f\"Final Loss: {loss.item():.4f}\")\n"
      ],
      "metadata": {
        "colab": {
          "base_uri": "https://localhost:8080/",
          "height": 730,
          "referenced_widgets": [
            "8e9542c24a1e4bc1af579d433de95020",
            "42f64d8f79e047a7ac0011485ade4382",
            "817e8ba4897844de82e7e7ff51ca40fe",
            "907f44b6635b4d8eaa527d86c03037ae",
            "88f97f97f734411d8cfdb53d8c23b637",
            "67c0bb7b10fc40d4903d44c619f02539",
            "622dedcbee0c40b4a803729577965af3",
            "b406458a6d7a489abcda84a1ea3514bf",
            "d956e443203f4be4a616a96740c3b6ee",
            "661524d960014025b2ed41c841575f27",
            "0328697dd26743b4af664a1672b8e981"
          ]
        },
        "id": "daTKfo_uIH6B",
        "outputId": "8eee5d4e-4368-45ca-d8af-a7878a20e47f"
      },
      "execution_count": null,
      "outputs": [
        {
          "output_type": "display_data",
          "data": {
            "text/plain": [
              "  0%|          | 0/30 [00:00<?, ?epoch/s]"
            ],
            "application/vnd.jupyter.widget-view+json": {
              "version_major": 2,
              "version_minor": 0,
              "model_id": "8e9542c24a1e4bc1af579d433de95020"
            }
          },
          "metadata": {}
        },
        {
          "output_type": "stream",
          "name": "stdout",
          "text": [
            "Epoch 1/30, Loss: 168.3560\n",
            "Epoch 2/30, Loss: 88.2596\n",
            "Epoch 3/30, Loss: 46.2852\n",
            "Epoch 4/30, Loss: 24.2887\n",
            "Epoch 5/30, Loss: 12.7615\n",
            "Epoch 6/30, Loss: 6.7207\n",
            "Epoch 7/30, Loss: 3.5550\n",
            "Epoch 8/30, Loss: 1.8960\n",
            "Epoch 9/30, Loss: 1.0267\n",
            "Epoch 10/30, Loss: 0.5711\n",
            "Epoch 11/30, Loss: 0.3323\n",
            "Epoch 12/30, Loss: 0.2072\n",
            "Epoch 13/30, Loss: 0.1416\n",
            "Epoch 14/30, Loss: 0.1073\n",
            "Epoch 15/30, Loss: 0.0893\n",
            "Epoch 16/30, Loss: 0.0798\n",
            "Epoch 17/30, Loss: 0.0749\n",
            "Epoch 18/30, Loss: 0.0723\n",
            "Epoch 19/30, Loss: 0.0709\n",
            "Epoch 20/30, Loss: 0.0702\n",
            "Epoch 21/30, Loss: 0.0699\n",
            "Epoch 22/30, Loss: 0.0697\n",
            "Epoch 23/30, Loss: 0.0696\n",
            "Epoch 24/30, Loss: 0.0695\n",
            "Epoch 25/30, Loss: 0.0695\n",
            "Epoch 26/30, Loss: 0.0695\n",
            "Epoch 27/30, Loss: 0.0695\n",
            "Epoch 28/30, Loss: 0.0695\n",
            "Epoch 29/30, Loss: 0.0695\n",
            "Epoch 30/30, Loss: 0.0695\n",
            "\n",
            "Training complete!\n",
            "Final Weight: 0.6254\n",
            "Final Loss: 0.0695\n"
          ]
        },
        {
          "output_type": "stream",
          "name": "stderr",
          "text": [
            "/usr/local/lib/python3.10/dist-packages/torch/nn/modules/loss.py:535: UserWarning: Using a target size (torch.Size([63])) that is different to the input size (torch.Size([63, 1])). This will likely lead to incorrect results due to broadcasting. Please ensure they have the same size.\n",
            "  return F.mse_loss(input, target, reduction=self.reduction)\n"
          ]
        }
      ]
    },
    {
      "cell_type": "code",
      "source": [
        "# Plotting Loss Function Curve\n",
        "plt.figure(figsize=(10, 5))\n",
        "plt.plot(ws, loss_ws, 'r--', label='Loss Function', linewidth=2)\n",
        "\n",
        "# Plotting w values from the training\n",
        "plt.scatter(w_his, np.interp(w_his, ws, loss_ws), color='blue', s=20, label='Training $w$ Values')\n",
        "plt.plot(w_his, np.interp(w_his, ws, loss_ws), color='blue', linestyle='-', linewidth=0.5)\n",
        "\n",
        "plt.title('Movement of $w$ on Loss Function Curve from Training Results')\n",
        "plt.xlabel('$w$')\n",
        "plt.ylabel('Loss')\n",
        "plt.xlim(-60, 60)\n",
        "plt.legend()\n",
        "plt.grid(True)\n",
        "plt.show()"
      ],
      "metadata": {
        "colab": {
          "base_uri": "https://localhost:8080/",
          "height": 489
        },
        "id": "PJ1RExMwcwhJ",
        "outputId": "f4096ca4-8349-472c-ddfa-e3d5aceb8360"
      },
      "execution_count": null,
      "outputs": [
        {
          "output_type": "display_data",
          "data": {
            "text/plain": [
              "<Figure size 1000x500 with 1 Axes>"
            ],
            "image/png": "[encoded data removed]"
          },
          "metadata": {}
        }
      ]
    },
    {
      "cell_type": "markdown",
      "source": [
        "### Stochastic Gradient Descent PyTorch"
      ],
      "metadata": {
        "id": "Y2kpKaYRKGCH"
      }
    },
    {
      "cell_type": "code",
      "source": [
        "# Initializing Hyperparameters\n",
        "epochs = 3\n",
        "learning_rate = 2\n",
        "\n",
        "\n",
        "# Initializing Parameters\n",
        "w = 50\n",
        "\n",
        "loss_set = {}\n",
        "\n",
        "# 1. Creating a FeedForwardNetwork\n",
        "# 1.1 Structure (Architecture) of NN\n",
        "model_net1 = torch.nn.Linear(1,1, bias=False)\n",
        "model_net1_actfun = torch.nn.Identity()\n",
        "model_net1.weight.data.fill_(w)\n",
        "\n",
        "# 1.2 Loss Function\n",
        "loss_mse = torch.nn.MSELoss()\n",
        "\n",
        "# 1.3 Optmization Approch\n",
        "optimizer = torch.optim.SGD(model_net1.parameters(), lr=learning_rate)\n",
        "\n",
        "w_his = []\n",
        "w_his.append(w)\n",
        "# Loop over the number of epochs\n",
        "for epoch in tqdm_notebook(range(epochs), desc=\"Epochs\"):\n",
        "    epoch_loss = 0.0\n",
        "\n",
        "    # Loop over each sample in the dataset\n",
        "    for i in range(tensor_data_X.size(0)):\n",
        "\n",
        "      # 2. Forward Pass\n",
        "      output = model_net1_actfun.forward(model_net1.forward(tensor_data_X[i].reshape(-1)))\n",
        "\n",
        "      # 3. FeedForward Evaluation\n",
        "      loss = loss_mse(output, tensor_data_Y[i].reshape(-1))\n",
        "      optimizer.zero_grad();\n",
        "\n",
        "      # 4. Backward Pass / Gradient Calculation\n",
        "      loss.backward()\n",
        "\n",
        "      # Store the loss for each epoch\n",
        "      epoch_loss += loss.item()\n",
        "\n",
        "      # 5. Back Propagation / Update Weights\n",
        "      optimizer.step()\n",
        "\n",
        "      # Store the weight value for each sample of data\n",
        "      w_his.append(float(model_net1.weight.data[0][0]))\n",
        "\n",
        "      # Display the loss for the current sample\n",
        "      print(f\"Epoch {epoch+1}, Sample {i+1}: Loss: {loss.item():.4f}, Weight: {model_net1.weight.data.item():.4f}\")\n",
        "\n",
        "\n",
        "    # Calculate and display average loss for the epoch\n",
        "    epoch_loss /= tensor_data_X.size(0)\n",
        "\n",
        "    # Store the loss for each sample of data\n",
        "    loss_set[epoch] = epoch_loss\n",
        "    print(f\"\\nEpoch {epoch+1} Average Loss: {epoch_loss:.4f}\\n{'-'*50}\\n\")"
      ],
      "metadata": {
        "colab": {
          "base_uri": "https://localhost:8080/",
          "height": 1000,
          "referenced_widgets": [
            "fd0bdcfaaa004129b8feec32d2a2beec",
            "931831c9f82a45b8b6c556a5623e5983",
            "7a425fa2a7ab41288f177cbc08ef1f61",
            "1013efab7cc247c59cb236de9dde7243",
            "dcdecf0222c349bb9d476fe7bff83cff",
            "47a594e3a84f424e9779c911dede412e",
            "ae3606b6b1ef4c8eb7b5834890863171",
            "6f7b2f05e1c444a0924522df48173656",
            "871b09e28425432c853374926b290a58",
            "7122788bbc19408c858294e7a71fd476",
            "9a032d74f6424b2e92dd76ed9fb4a39b"
          ]
        },
        "id": "bELuy-ZV2Iph",
        "outputId": "a20aac03-e4ba-4766-9ca3-b5d32d1f8196"
      },
      "execution_count": null,
      "outputs": [
        {
          "output_type": "display_data",
          "data": {
            "text/plain": [
              "Epochs:   0%|          | 0/3 [00:00<?, ?it/s]"
            ],
            "application/vnd.jupyter.widget-view+json": {
              "version_major": 2,
              "version_minor": 0,
              "model_id": "fd0bdcfaaa004129b8feec32d2a2beec"
            }
          },
          "metadata": {}
        },
        {
          "output_type": "stream",
          "name": "stdout",
          "text": [
            "Epoch 1, Sample 1: Loss: 1816.3563, Weight: -98.4782\n",
            "Epoch 1, Sample 2: Loss: 231.0042, Weight: -89.1628\n",
            "Epoch 1, Sample 3: Loss: 88.0762, Weight: -85.2272\n",
            "Epoch 1, Sample 4: Loss: 7435.1226, Weight: 259.6815\n",
            "Epoch 1, Sample 5: Loss: 6969.8130, Weight: 151.9584\n",
            "Epoch 1, Sample 6: Loss: 4822.8921, Weight: 24.2654\n",
            "Epoch 1, Sample 7: Loss: 19.0626, Weight: 21.0261\n",
            "Epoch 1, Sample 8: Loss: 4.7976, Weight: 20.0369\n",
            "Epoch 1, Sample 9: Loss: 45.7595, Weight: 10.2173\n",
            "Epoch 1, Sample 10: Loss: 0.4480, Weight: 10.0014\n",
            "Epoch 1, Sample 11: Loss: 0.1252, Weight: 9.9444\n",
            "Epoch 1, Sample 12: Loss: 10.6393, Weight: 4.8938\n",
            "Epoch 1, Sample 13: Loss: 0.1432, Weight: 4.7595\n",
            "Epoch 1, Sample 14: Loss: 0.6226, Weight: 4.1741\n",
            "Epoch 1, Sample 15: Loss: 0.0144, Weight: 4.1470\n",
            "Epoch 1, Sample 16: Loss: 0.0026, Weight: 4.1437\n",
            "Epoch 1, Sample 17: Loss: 0.2328, Weight: 3.7702\n",
            "Epoch 1, Sample 18: Loss: 0.0038, Weight: 3.7582\n",
            "Epoch 1, Sample 19: Loss: 0.0065, Weight: 3.7504\n",
            "Epoch 1, Sample 20: Loss: 0.1832, Weight: 3.4329\n",
            "Epoch 1, Sample 21: Loss: 0.0172, Weight: 3.4075\n",
            "Epoch 1, Sample 22: Loss: 0.0174, Weight: 3.3692\n",
            "Epoch 1, Sample 23: Loss: 0.0147, Weight: 3.3340\n",
            "Epoch 1, Sample 24: Loss: 0.0024, Weight: 3.3292\n",
            "Epoch 1, Sample 25: Loss: 0.2836, Weight: 2.8311\n",
            "Epoch 1, Sample 26: Loss: 0.0006, Weight: 2.8364\n",
            "Epoch 1, Sample 27: Loss: 0.0040, Weight: 2.8282\n",
            "Epoch 1, Sample 28: Loss: 0.0501, Weight: 2.6838\n",
            "Epoch 1, Sample 29: Loss: 0.0073, Weight: 2.6646\n",
            "Epoch 1, Sample 30: Loss: 0.0000, Weight: 2.6651\n",
            "Epoch 1, Sample 31: Loss: 0.0000, Weight: 2.6651\n",
            "Epoch 1, Sample 32: Loss: 0.1394, Weight: 2.3640\n",
            "Epoch 1, Sample 33: Loss: 0.0064, Weight: 2.3485\n",
            "Epoch 1, Sample 34: Loss: 0.0000, Weight: 2.3486\n",
            "Epoch 1, Sample 35: Loss: 0.0012, Weight: 2.3244\n",
            "Epoch 1, Sample 36: Loss: 0.0050, Weight: 2.2993\n",
            "Epoch 1, Sample 37: Loss: 0.3791, Weight: 1.0877\n",
            "Epoch 1, Sample 38: Loss: 0.0010, Weight: 1.1003\n",
            "Epoch 1, Sample 39: Loss: 0.0000, Weight: 1.0995\n",
            "Epoch 1, Sample 40: Loss: 0.0000, Weight: 1.0992\n",
            "Epoch 1, Sample 41: Loss: 0.0095, Weight: 1.1401\n",
            "Epoch 1, Sample 42: Loss: 0.0052, Weight: 1.0002\n",
            "Epoch 1, Sample 43: Loss: 0.0097, Weight: 1.1308\n",
            "Epoch 1, Sample 44: Loss: 0.0006, Weight: 1.1600\n",
            "Epoch 1, Sample 45: Loss: 0.0166, Weight: 0.9313\n",
            "Epoch 1, Sample 46: Loss: 0.0180, Weight: 0.7540\n",
            "Epoch 1, Sample 47: Loss: 0.0003, Weight: 0.7481\n",
            "Epoch 1, Sample 48: Loss: 0.0032, Weight: 0.7973\n",
            "Epoch 1, Sample 49: Loss: 0.0166, Weight: 0.8305\n",
            "Epoch 1, Sample 50: Loss: 0.0055, Weight: 0.8377\n",
            "Epoch 1, Sample 51: Loss: 0.0492, Weight: 0.9593\n",
            "Epoch 1, Sample 52: Loss: 0.0143, Weight: 1.0095\n",
            "Epoch 1, Sample 53: Loss: 0.0009, Weight: 0.9968\n",
            "Epoch 1, Sample 54: Loss: 0.0020, Weight: 0.9753\n",
            "Epoch 1, Sample 55: Loss: 0.0047, Weight: 0.9930\n",
            "Epoch 1, Sample 56: Loss: 0.0070, Weight: 1.0711\n",
            "Epoch 1, Sample 57: Loss: 0.0406, Weight: 1.2661\n",
            "Epoch 1, Sample 58: Loss: 0.0067, Weight: 1.3293\n",
            "Epoch 1, Sample 59: Loss: 0.0122, Weight: 1.3614\n",
            "Epoch 1, Sample 60: Loss: 0.0245, Weight: 1.5180\n",
            "Epoch 1, Sample 61: Loss: 0.0030, Weight: 1.5427\n",
            "Epoch 1, Sample 62: Loss: 0.0064, Weight: 1.4059\n",
            "Epoch 1, Sample 63: Loss: 0.0223, Weight: 1.5311\n",
            "\n",
            "Epoch 1 Average Loss: 340.4209\n",
            "--------------------------------------------------\n",
            "\n",
            "Epoch 2, Sample 1: Loss: 0.1631, Weight: 0.1240\n",
            "Epoch 2, Sample 2: Loss: 0.0082, Weight: 0.1794\n",
            "Epoch 2, Sample 3: Loss: 0.0003, Weight: 0.1871\n",
            "Epoch 2, Sample 4: Loss: 0.6608, Weight: 3.4386\n",
            "Epoch 2, Sample 5: Loss: 0.6830, Weight: 2.3723\n",
            "Epoch 2, Sample 6: Loss: 0.4702, Weight: 1.1115\n",
            "Epoch 2, Sample 7: Loss: 0.0051, Weight: 1.0585\n",
            "Epoch 2, Sample 8: Loss: 0.0041, Weight: 1.0874\n",
            "Epoch 2, Sample 9: Loss: 0.0126, Weight: 1.2504\n",
            "Epoch 2, Sample 10: Loss: 0.0029, Weight: 1.2677\n",
            "Epoch 2, Sample 11: Loss: 0.0000, Weight: 1.2675\n",
            "Epoch 2, Sample 12: Loss: 0.0094, Weight: 1.4177\n",
            "Epoch 2, Sample 13: Loss: 0.0049, Weight: 1.3928\n",
            "Epoch 2, Sample 14: Loss: 0.0271, Weight: 1.2707\n",
            "Epoch 2, Sample 15: Loss: 0.0019, Weight: 1.2806\n",
            "Epoch 2, Sample 16: Loss: 0.0000, Weight: 1.2803\n",
            "Epoch 2, Sample 17: Loss: 0.0051, Weight: 1.3358\n",
            "Epoch 2, Sample 18: Loss: 0.0031, Weight: 1.3466\n",
            "Epoch 2, Sample 19: Loss: 0.0005, Weight: 1.3445\n",
            "Epoch 2, Sample 20: Loss: 0.0003, Weight: 1.3580\n",
            "Epoch 2, Sample 21: Loss: 0.0009, Weight: 1.3521\n",
            "Epoch 2, Sample 22: Loss: 0.0003, Weight: 1.3571\n",
            "Epoch 2, Sample 23: Loss: 0.0006, Weight: 1.3643\n",
            "Epoch 2, Sample 24: Loss: 0.0000, Weight: 1.3642\n",
            "Epoch 2, Sample 25: Loss: 0.0053, Weight: 1.2959\n",
            "Epoch 2, Sample 26: Loss: 0.0122, Weight: 1.3209\n",
            "Epoch 2, Sample 27: Loss: 0.0002, Weight: 1.3190\n",
            "Epoch 2, Sample 28: Loss: 0.0004, Weight: 1.3316\n",
            "Epoch 2, Sample 29: Loss: 0.0001, Weight: 1.3296\n",
            "Epoch 2, Sample 30: Loss: 0.0022, Weight: 1.3357\n",
            "Epoch 2, Sample 31: Loss: 0.0000, Weight: 1.3357\n",
            "Epoch 2, Sample 32: Loss: 0.0111, Weight: 1.2507\n",
            "Epoch 2, Sample 33: Loss: 0.0007, Weight: 1.2457\n",
            "Epoch 2, Sample 34: Loss: 0.0020, Weight: 1.2530\n",
            "Epoch 2, Sample 35: Loss: 0.0257, Weight: 1.3667\n",
            "Epoch 2, Sample 36: Loss: 0.0002, Weight: 1.3717\n",
            "Epoch 2, Sample 37: Loss: 0.0254, Weight: 1.0581\n",
            "Epoch 2, Sample 38: Loss: 0.0012, Weight: 1.0717\n",
            "Epoch 2, Sample 39: Loss: 0.0000, Weight: 1.0711\n",
            "Epoch 2, Sample 40: Loss: 0.0000, Weight: 1.0726\n",
            "Epoch 2, Sample 41: Loss: 0.0101, Weight: 1.1147\n",
            "Epoch 2, Sample 42: Loss: 0.0036, Weight: 0.9986\n",
            "Epoch 2, Sample 43: Loss: 0.0098, Weight: 1.1299\n",
            "Epoch 2, Sample 44: Loss: 0.0006, Weight: 1.1594\n",
            "Epoch 2, Sample 45: Loss: 0.0166, Weight: 0.9312\n",
            "Epoch 2, Sample 46: Loss: 0.0180, Weight: 0.7539\n",
            "Epoch 2, Sample 47: Loss: 0.0003, Weight: 0.7481\n",
            "Epoch 2, Sample 48: Loss: 0.0032, Weight: 0.7972\n",
            "Epoch 2, Sample 49: Loss: 0.0166, Weight: 0.8305\n",
            "Epoch 2, Sample 50: Loss: 0.0055, Weight: 0.8377\n",
            "Epoch 2, Sample 51: Loss: 0.0492, Weight: 0.9593\n",
            "Epoch 2, Sample 52: Loss: 0.0143, Weight: 1.0095\n",
            "Epoch 2, Sample 53: Loss: 0.0009, Weight: 0.9968\n",
            "Epoch 2, Sample 54: Loss: 0.0020, Weight: 0.9752\n",
            "Epoch 2, Sample 55: Loss: 0.0047, Weight: 0.9930\n",
            "Epoch 2, Sample 56: Loss: 0.0070, Weight: 1.0711\n",
            "Epoch 2, Sample 57: Loss: 0.0406, Weight: 1.2661\n",
            "Epoch 2, Sample 58: Loss: 0.0067, Weight: 1.3293\n",
            "Epoch 2, Sample 59: Loss: 0.0122, Weight: 1.3614\n",
            "Epoch 2, Sample 60: Loss: 0.0245, Weight: 1.5179\n",
            "Epoch 2, Sample 61: Loss: 0.0030, Weight: 1.5427\n",
            "Epoch 2, Sample 62: Loss: 0.0064, Weight: 1.4059\n",
            "Epoch 2, Sample 63: Loss: 0.0223, Weight: 1.5311\n",
            "\n",
            "Epoch 2 Average Loss: 0.0386\n",
            "--------------------------------------------------\n",
            "\n",
            "Epoch 3, Sample 1: Loss: 0.1631, Weight: 0.1240\n",
            "Epoch 3, Sample 2: Loss: 0.0082, Weight: 0.1794\n",
            "Epoch 3, Sample 3: Loss: 0.0003, Weight: 0.1871\n",
            "Epoch 3, Sample 4: Loss: 0.6608, Weight: 3.4386\n",
            "Epoch 3, Sample 5: Loss: 0.6830, Weight: 2.3723\n",
            "Epoch 3, Sample 6: Loss: 0.4702, Weight: 1.1115\n",
            "Epoch 3, Sample 7: Loss: 0.0051, Weight: 1.0585\n",
            "Epoch 3, Sample 8: Loss: 0.0041, Weight: 1.0874\n",
            "Epoch 3, Sample 9: Loss: 0.0126, Weight: 1.2504\n",
            "Epoch 3, Sample 10: Loss: 0.0029, Weight: 1.2677\n",
            "Epoch 3, Sample 11: Loss: 0.0000, Weight: 1.2675\n",
            "Epoch 3, Sample 12: Loss: 0.0094, Weight: 1.4177\n",
            "Epoch 3, Sample 13: Loss: 0.0049, Weight: 1.3928\n",
            "Epoch 3, Sample 14: Loss: 0.0271, Weight: 1.2707\n",
            "Epoch 3, Sample 15: Loss: 0.0019, Weight: 1.2806\n",
            "Epoch 3, Sample 16: Loss: 0.0000, Weight: 1.2803\n",
            "Epoch 3, Sample 17: Loss: 0.0051, Weight: 1.3358\n",
            "Epoch 3, Sample 18: Loss: 0.0031, Weight: 1.3466\n",
            "Epoch 3, Sample 19: Loss: 0.0005, Weight: 1.3445\n",
            "Epoch 3, Sample 20: Loss: 0.0003, Weight: 1.3580\n",
            "Epoch 3, Sample 21: Loss: 0.0009, Weight: 1.3521\n",
            "Epoch 3, Sample 22: Loss: 0.0003, Weight: 1.3571\n",
            "Epoch 3, Sample 23: Loss: 0.0006, Weight: 1.3643\n",
            "Epoch 3, Sample 24: Loss: 0.0000, Weight: 1.3642\n",
            "Epoch 3, Sample 25: Loss: 0.0053, Weight: 1.2959\n",
            "Epoch 3, Sample 26: Loss: 0.0122, Weight: 1.3209\n",
            "Epoch 3, Sample 27: Loss: 0.0002, Weight: 1.3190\n",
            "Epoch 3, Sample 28: Loss: 0.0004, Weight: 1.3316\n",
            "Epoch 3, Sample 29: Loss: 0.0001, Weight: 1.3296\n",
            "Epoch 3, Sample 30: Loss: 0.0022, Weight: 1.3357\n",
            "Epoch 3, Sample 31: Loss: 0.0000, Weight: 1.3357\n",
            "Epoch 3, Sample 32: Loss: 0.0111, Weight: 1.2507\n",
            "Epoch 3, Sample 33: Loss: 0.0007, Weight: 1.2457\n",
            "Epoch 3, Sample 34: Loss: 0.0020, Weight: 1.2530\n",
            "Epoch 3, Sample 35: Loss: 0.0257, Weight: 1.3667\n",
            "Epoch 3, Sample 36: Loss: 0.0002, Weight: 1.3717\n",
            "Epoch 3, Sample 37: Loss: 0.0254, Weight: 1.0581\n",
            "Epoch 3, Sample 38: Loss: 0.0012, Weight: 1.0717\n",
            "Epoch 3, Sample 39: Loss: 0.0000, Weight: 1.0711\n",
            "Epoch 3, Sample 40: Loss: 0.0000, Weight: 1.0726\n",
            "Epoch 3, Sample 41: Loss: 0.0101, Weight: 1.1147\n",
            "Epoch 3, Sample 42: Loss: 0.0036, Weight: 0.9986\n",
            "Epoch 3, Sample 43: Loss: 0.0098, Weight: 1.1299\n",
            "Epoch 3, Sample 44: Loss: 0.0006, Weight: 1.1594\n",
            "Epoch 3, Sample 45: Loss: 0.0166, Weight: 0.9312\n",
            "Epoch 3, Sample 46: Loss: 0.0180, Weight: 0.7539\n",
            "Epoch 3, Sample 47: Loss: 0.0003, Weight: 0.7481\n",
            "Epoch 3, Sample 48: Loss: 0.0032, Weight: 0.7972\n",
            "Epoch 3, Sample 49: Loss: 0.0166, Weight: 0.8305\n",
            "Epoch 3, Sample 50: Loss: 0.0055, Weight: 0.8377\n",
            "Epoch 3, Sample 51: Loss: 0.0492, Weight: 0.9593\n",
            "Epoch 3, Sample 52: Loss: 0.0143, Weight: 1.0095\n",
            "Epoch 3, Sample 53: Loss: 0.0009, Weight: 0.9968\n",
            "Epoch 3, Sample 54: Loss: 0.0020, Weight: 0.9752\n",
            "Epoch 3, Sample 55: Loss: 0.0047, Weight: 0.9930\n",
            "Epoch 3, Sample 56: Loss: 0.0070, Weight: 1.0711\n",
            "Epoch 3, Sample 57: Loss: 0.0406, Weight: 1.2661\n",
            "Epoch 3, Sample 58: Loss: 0.0067, Weight: 1.3293\n",
            "Epoch 3, Sample 59: Loss: 0.0122, Weight: 1.3614\n",
            "Epoch 3, Sample 60: Loss: 0.0245, Weight: 1.5179\n",
            "Epoch 3, Sample 61: Loss: 0.0030, Weight: 1.5427\n",
            "Epoch 3, Sample 62: Loss: 0.0064, Weight: 1.4059\n",
            "Epoch 3, Sample 63: Loss: 0.0223, Weight: 1.5311\n",
            "\n",
            "Epoch 3 Average Loss: 0.0386\n",
            "--------------------------------------------------\n",
            "\n"
          ]
        }
      ]
    },
    {
      "cell_type": "code",
      "source": [
        "# Plotting Loss Function Curve\n",
        "plt.figure(figsize=(10, 5))\n",
        "plt.plot(ws, loss_ws, 'r--', label='Loss Function', linewidth=2)\n",
        "\n",
        "# Plotting w values from the training\n",
        "plt.scatter(w_his, np.interp(w_his, ws, loss_ws), color='blue', s=20, label='Training $w$ Values')\n",
        "plt.plot(w_his, np.interp(w_his, ws, loss_ws), color='blue', linestyle='-', linewidth=0.5)\n",
        "\n",
        "plt.title('Movement of $w$ on Loss Function Curve from Training Results')\n",
        "plt.xlabel('$w$')\n",
        "plt.ylabel('Loss')\n",
        "plt.xlim(-60, 60)\n",
        "plt.legend()\n",
        "plt.grid(True)\n",
        "plt.show()"
      ],
      "metadata": {
        "colab": {
          "base_uri": "https://localhost:8080/",
          "height": 489
        },
        "id": "Oy080rqthqPj",
        "outputId": "6142bb61-c0e9-4809-e509-eb06cfdd2925"
      },
      "execution_count": null,
      "outputs": [
        {
          "output_type": "display_data",
          "data": {
            "text/plain": [
              "<Figure size 1000x500 with 1 Axes>"
            ],
            "image/png": "[encoded data removed]"
          },
          "metadata": {}
        }
      ]
    },
    {
      "cell_type": "code",
      "source": [
        "plt.plot(np.array(list(loss_set.values())).astype(float))\n",
        "plt.xlabel('Epochs')\n",
        "plt.ylabel('Mean Squared Error')\n",
        "plt.show()"
      ],
      "metadata": {
        "colab": {
          "base_uri": "https://localhost:8080/",
          "height": 449
        },
        "id": "Mgz0EDlKj4wd",
        "outputId": "c8cd4f24-848c-49e6-f529-0668180d5c64"
      },
      "execution_count": null,
      "outputs": [
        {
          "output_type": "display_data",
          "data": {
            "text/plain": [
              "<Figure size 640x480 with 1 Axes>"
            ],
            "image/png": "[encoded data removed]"
          },
          "metadata": {}
        }
      ]
    },
    {
      "cell_type": "markdown",
      "source": [
        "# 3.1 How can we implement an Neural Network with various layers, including input, hidden, and output layers?"
      ],
      "metadata": {
        "id": "yLlwO-iNphH-"
      }
    },
    {
      "cell_type": "markdown",
      "source": [
        "nn.Sequential is a container module in PyTorch that allows you to define a simple and straightforward sequence of layers for a neural network, where the output of one layer is used as the input to the next layer, facilitating the easy construction and management of the network’s architecture."
      ],
      "metadata": {
        "id": "AWm-KAXZqb8T"
      }
    },
    {
      "cell_type": "markdown",
      "source": [
        "![](https://raw.githubusercontent.com/aaubs/ds-master/main/data/Images/torch_nn_23_31.png)"
      ],
      "metadata": {
        "id": "6Mgl3qA8pYmO"
      }
    },
    {
      "cell_type": "code",
      "source": [
        "# Initializing Hyperparameters\n",
        "epochs = 3\n",
        "learning_rate = 2\n",
        "\n",
        "\n",
        "# Initializing Parameters\n",
        "w = 50\n",
        "\n",
        "loss_set = {}\n",
        "\n",
        "# 1. Creating a FeedForwardNetwork\n",
        "# 1.1 Structure (Architecture) of NN\n",
        "model_net2 = torch.nn.Sequential(torch.nn.Linear(1,3),\n",
        "                                 torch.nn.ReLU(),\n",
        "                                 torch.nn.Dropout(0.33),\n",
        "\n",
        "                                 torch.nn.Linear(3,1),\n",
        "                                 torch.nn.ReLU(),\n",
        "\n",
        "                                 );\n",
        "\n",
        "# 1.2 Loss Function\n",
        "loss_mse = torch.nn.MSELoss()\n",
        "\n",
        "# 1.3 Optmization Approch\n",
        "optimizer = torch.optim.SGD(model_net2.parameters(), lr=learning_rate)\n",
        "\n",
        "w_his = []\n",
        "w_his.append(w)\n",
        "# Loop over the number of epochs\n",
        "for epoch in tqdm_notebook(range(epochs), desc=\"Epochs\"):\n",
        "    epoch_loss = 0.0\n",
        "\n",
        "    # Loop over each sample in the dataset\n",
        "    for i in range(tensor_data_X.size(0)):\n",
        "\n",
        "      # 2. Forward Pass\n",
        "      output = model_net2.forward(tensor_data_X[i].reshape(-1))\n",
        "\n",
        "      # 3. FeedForward Evaluation\n",
        "      loss = loss_mse(output, tensor_data_Y[i].reshape(-1))\n",
        "      optimizer.zero_grad();\n",
        "\n",
        "      # 4. Backward Pass / Gradient Calculation\n",
        "      loss.backward()\n",
        "\n",
        "      # Store the loss for each epoch\n",
        "      epoch_loss += loss.item()\n",
        "\n",
        "      # 5. Back Propagation / Update Weights\n",
        "      optimizer.step()\n",
        "\n",
        "      # Store the weight value for each sample of data\n",
        "      w_his.append(float(model_net1.weight.data[0][0]))\n",
        "\n",
        "      # Display the loss for the current sample\n",
        "      print(f\"Epoch {epoch+1}, Sample {i+1}: Loss: {loss.item():.4f}\")\n",
        "\n",
        "\n",
        "    # Calculate and display average loss for the epoch\n",
        "    epoch_loss /= tensor_data_X.size(0)\n",
        "\n",
        "    # Store the loss for each sample of data\n",
        "    loss_set[epoch] = epoch_loss\n",
        "    print(f\"\\nEpoch {epoch+1} Average Loss: {epoch_loss:.4f}\\n{'-'*50}\\n\")"
      ],
      "metadata": {
        "colab": {
          "base_uri": "https://localhost:8080/",
          "height": 1000,
          "referenced_widgets": [
            "e014f3899e4944da99ffe5beb30da13a",
            "58d3f77b919f46a4a36a2fd661b1f976",
            "5f9b68cd622642e9b74cdbda478c8af0",
            "65957be654d74a87bba469546cc4b92a",
            "5d23b34674a74c508ede9ceb424bb5cd",
            "7ec51f5eb009417d936326337a5d5418",
            "8ae545f51ef74554b0b26a9a5a902c6c",
            "54092774655646ed87b0f1b4b1bf8949",
            "828b72c8ff2c442da4383b309fdcac68",
            "fa57f5c7a20249ddbe735fbaa158efce",
            "681ada64a7794993912ba207f8d2f3f6"
          ]
        },
        "id": "bItsCHFAq6aB",
        "outputId": "e2ca5770-01dd-482e-93e3-a16c5d9bc114"
      },
      "execution_count": null,
      "outputs": [
        {
          "output_type": "display_data",
          "data": {
            "text/plain": [
              "Epochs:   0%|          | 0/3 [00:00<?, ?it/s]"
            ],
            "application/vnd.jupyter.widget-view+json": {
              "version_major": 2,
              "version_minor": 0,
              "model_id": "e014f3899e4944da99ffe5beb30da13a"
            }
          },
          "metadata": {}
        },
        {
          "output_type": "stream",
          "name": "stdout",
          "text": [
            "Epoch 1, Sample 1: Loss: 0.0377\n",
            "Epoch 1, Sample 2: Loss: 0.0120\n",
            "Epoch 1, Sample 3: Loss: 0.0014\n",
            "Epoch 1, Sample 4: Loss: 1.0000\n",
            "Epoch 1, Sample 5: Loss: 0.0800\n",
            "Epoch 1, Sample 6: Loss: 0.1639\n",
            "Epoch 1, Sample 7: Loss: 0.0182\n",
            "Epoch 1, Sample 8: Loss: 0.0337\n",
            "Epoch 1, Sample 9: Loss: 0.2569\n",
            "Epoch 1, Sample 10: Loss: 0.0239\n",
            "Epoch 1, Sample 11: Loss: 0.0025\n",
            "Epoch 1, Sample 12: Loss: 0.3453\n",
            "Epoch 1, Sample 13: Loss: 0.0031\n",
            "Epoch 1, Sample 14: Loss: 0.0088\n",
            "Epoch 1, Sample 15: Loss: 0.0134\n",
            "Epoch 1, Sample 16: Loss: 0.0002\n",
            "Epoch 1, Sample 17: Loss: 0.1021\n",
            "Epoch 1, Sample 18: Loss: 0.0145\n",
            "Epoch 1, Sample 19: Loss: 0.0001\n",
            "Epoch 1, Sample 20: Loss: 0.0716\n",
            "Epoch 1, Sample 21: Loss: 0.0012\n",
            "Epoch 1, Sample 22: Loss: 0.0133\n",
            "Epoch 1, Sample 23: Loss: 0.0152\n",
            "Epoch 1, Sample 24: Loss: 0.0010\n",
            "Epoch 1, Sample 25: Loss: 0.0606\n",
            "Epoch 1, Sample 26: Loss: 0.0337\n",
            "Epoch 1, Sample 27: Loss: 0.0008\n",
            "Epoch 1, Sample 28: Loss: 0.0540\n",
            "Epoch 1, Sample 29: Loss: 0.0044\n",
            "Epoch 1, Sample 30: Loss: 0.0081\n",
            "Epoch 1, Sample 31: Loss: 0.0000\n",
            "Epoch 1, Sample 32: Loss: 0.0269\n",
            "Epoch 1, Sample 33: Loss: 0.0012\n",
            "Epoch 1, Sample 34: Loss: 0.0091\n",
            "Epoch 1, Sample 35: Loss: 0.1463\n",
            "Epoch 1, Sample 36: Loss: 0.0184\n",
            "Epoch 1, Sample 37: Loss: 0.2656\n",
            "Epoch 1, Sample 38: Loss: 0.0189\n",
            "Epoch 1, Sample 39: Loss: 0.0009\n",
            "Epoch 1, Sample 40: Loss: 0.0199\n",
            "Epoch 1, Sample 41: Loss: 0.0453\n",
            "Epoch 1, Sample 42: Loss: 0.2298\n",
            "Epoch 1, Sample 43: Loss: 0.1844\n",
            "Epoch 1, Sample 44: Loss: 0.1310\n",
            "Epoch 1, Sample 45: Loss: 0.1487\n",
            "Epoch 1, Sample 46: Loss: 0.0302\n",
            "Epoch 1, Sample 47: Loss: 0.0025\n",
            "Epoch 1, Sample 48: Loss: 0.0481\n",
            "Epoch 1, Sample 49: Loss: 0.0325\n",
            "Epoch 1, Sample 50: Loss: 0.0089\n",
            "Epoch 1, Sample 51: Loss: 0.1133\n",
            "Epoch 1, Sample 52: Loss: 0.0485\n",
            "Epoch 1, Sample 53: Loss: 0.0057\n",
            "Epoch 1, Sample 54: Loss: 0.0058\n",
            "Epoch 1, Sample 55: Loss: 0.0173\n",
            "Epoch 1, Sample 56: Loss: 0.0997\n",
            "Epoch 1, Sample 57: Loss: 0.2122\n",
            "Epoch 1, Sample 58: Loss: 0.1067\n",
            "Epoch 1, Sample 59: Loss: 0.0429\n",
            "Epoch 1, Sample 60: Loss: 0.2469\n",
            "Epoch 1, Sample 61: Loss: 0.0512\n",
            "Epoch 1, Sample 62: Loss: 0.3356\n",
            "Epoch 1, Sample 63: Loss: 0.1972\n",
            "\n",
            "Epoch 1 Average Loss: 0.0831\n",
            "--------------------------------------------------\n",
            "\n",
            "Epoch 2, Sample 1: Loss: 0.8643\n",
            "Epoch 2, Sample 2: Loss: 0.0120\n",
            "Epoch 2, Sample 3: Loss: 0.0014\n",
            "Epoch 2, Sample 4: Loss: 1.0000\n",
            "Epoch 2, Sample 5: Loss: 0.0800\n",
            "Epoch 2, Sample 6: Loss: 0.1639\n",
            "Epoch 2, Sample 7: Loss: 0.0182\n",
            "Epoch 2, Sample 8: Loss: 0.0337\n",
            "Epoch 2, Sample 9: Loss: 0.2569\n",
            "Epoch 2, Sample 10: Loss: 0.0239\n",
            "Epoch 2, Sample 11: Loss: 0.0025\n",
            "Epoch 2, Sample 12: Loss: 0.3453\n",
            "Epoch 2, Sample 13: Loss: 0.0031\n",
            "Epoch 2, Sample 14: Loss: 0.0088\n",
            "Epoch 2, Sample 15: Loss: 0.0134\n",
            "Epoch 2, Sample 16: Loss: 0.0002\n",
            "Epoch 2, Sample 17: Loss: 0.1021\n",
            "Epoch 2, Sample 18: Loss: 0.0145\n",
            "Epoch 2, Sample 19: Loss: 0.0001\n",
            "Epoch 2, Sample 20: Loss: 0.0716\n",
            "Epoch 2, Sample 21: Loss: 0.0012\n",
            "Epoch 2, Sample 22: Loss: 0.0133\n",
            "Epoch 2, Sample 23: Loss: 0.0152\n",
            "Epoch 2, Sample 24: Loss: 0.0010\n",
            "Epoch 2, Sample 25: Loss: 0.0606\n",
            "Epoch 2, Sample 26: Loss: 0.0337\n",
            "Epoch 2, Sample 27: Loss: 0.0008\n",
            "Epoch 2, Sample 28: Loss: 0.0540\n",
            "Epoch 2, Sample 29: Loss: 0.0044\n",
            "Epoch 2, Sample 30: Loss: 0.0081\n",
            "Epoch 2, Sample 31: Loss: 0.0000\n",
            "Epoch 2, Sample 32: Loss: 0.0269\n",
            "Epoch 2, Sample 33: Loss: 0.0012\n",
            "Epoch 2, Sample 34: Loss: 0.0091\n",
            "Epoch 2, Sample 35: Loss: 0.1463\n",
            "Epoch 2, Sample 36: Loss: 0.0184\n",
            "Epoch 2, Sample 37: Loss: 0.2656\n",
            "Epoch 2, Sample 38: Loss: 0.0189\n",
            "Epoch 2, Sample 39: Loss: 0.0009\n",
            "Epoch 2, Sample 40: Loss: 0.0199\n",
            "Epoch 2, Sample 41: Loss: 0.0453\n",
            "Epoch 2, Sample 42: Loss: 0.2298\n",
            "Epoch 2, Sample 43: Loss: 0.1844\n",
            "Epoch 2, Sample 44: Loss: 0.1310\n",
            "Epoch 2, Sample 45: Loss: 0.1487\n",
            "Epoch 2, Sample 46: Loss: 0.0302\n",
            "Epoch 2, Sample 47: Loss: 0.0025\n",
            "Epoch 2, Sample 48: Loss: 0.0481\n",
            "Epoch 2, Sample 49: Loss: 0.0325\n",
            "Epoch 2, Sample 50: Loss: 0.0089\n",
            "Epoch 2, Sample 51: Loss: 0.1133\n",
            "Epoch 2, Sample 52: Loss: 0.0485\n",
            "Epoch 2, Sample 53: Loss: 0.0057\n",
            "Epoch 2, Sample 54: Loss: 0.0058\n",
            "Epoch 2, Sample 55: Loss: 0.0173\n",
            "Epoch 2, Sample 56: Loss: 0.0997\n",
            "Epoch 2, Sample 57: Loss: 0.2122\n",
            "Epoch 2, Sample 58: Loss: 0.1067\n",
            "Epoch 2, Sample 59: Loss: 0.0429\n",
            "Epoch 2, Sample 60: Loss: 0.2469\n",
            "Epoch 2, Sample 61: Loss: 0.0512\n",
            "Epoch 2, Sample 62: Loss: 0.3356\n",
            "Epoch 2, Sample 63: Loss: 0.1972\n",
            "\n",
            "Epoch 2 Average Loss: 0.0962\n",
            "--------------------------------------------------\n",
            "\n",
            "Epoch 3, Sample 1: Loss: 0.8643\n",
            "Epoch 3, Sample 2: Loss: 0.0120\n",
            "Epoch 3, Sample 3: Loss: 0.0014\n",
            "Epoch 3, Sample 4: Loss: 1.0000\n",
            "Epoch 3, Sample 5: Loss: 0.0800\n",
            "Epoch 3, Sample 6: Loss: 0.1639\n",
            "Epoch 3, Sample 7: Loss: 0.0182\n",
            "Epoch 3, Sample 8: Loss: 0.0337\n",
            "Epoch 3, Sample 9: Loss: 0.2569\n",
            "Epoch 3, Sample 10: Loss: 0.0239\n",
            "Epoch 3, Sample 11: Loss: 0.0025\n",
            "Epoch 3, Sample 12: Loss: 0.3453\n",
            "Epoch 3, Sample 13: Loss: 0.0031\n",
            "Epoch 3, Sample 14: Loss: 0.0088\n",
            "Epoch 3, Sample 15: Loss: 0.0134\n",
            "Epoch 3, Sample 16: Loss: 0.0002\n",
            "Epoch 3, Sample 17: Loss: 0.1021\n",
            "Epoch 3, Sample 18: Loss: 0.0145\n",
            "Epoch 3, Sample 19: Loss: 0.0001\n",
            "Epoch 3, Sample 20: Loss: 0.0716\n",
            "Epoch 3, Sample 21: Loss: 0.0012\n",
            "Epoch 3, Sample 22: Loss: 0.0133\n",
            "Epoch 3, Sample 23: Loss: 0.0152\n",
            "Epoch 3, Sample 24: Loss: 0.0010\n",
            "Epoch 3, Sample 25: Loss: 0.0606\n",
            "Epoch 3, Sample 26: Loss: 0.0337\n",
            "Epoch 3, Sample 27: Loss: 0.0008\n",
            "Epoch 3, Sample 28: Loss: 0.0540\n",
            "Epoch 3, Sample 29: Loss: 0.0044\n",
            "Epoch 3, Sample 30: Loss: 0.0081\n",
            "Epoch 3, Sample 31: Loss: 0.0000\n",
            "Epoch 3, Sample 32: Loss: 0.0269\n",
            "Epoch 3, Sample 33: Loss: 0.0012\n",
            "Epoch 3, Sample 34: Loss: 0.0091\n",
            "Epoch 3, Sample 35: Loss: 0.1463\n",
            "Epoch 3, Sample 36: Loss: 0.0184\n",
            "Epoch 3, Sample 37: Loss: 0.2656\n",
            "Epoch 3, Sample 38: Loss: 0.0189\n",
            "Epoch 3, Sample 39: Loss: 0.0009\n",
            "Epoch 3, Sample 40: Loss: 0.0199\n",
            "Epoch 3, Sample 41: Loss: 0.0453\n",
            "Epoch 3, Sample 42: Loss: 0.2298\n",
            "Epoch 3, Sample 43: Loss: 0.1844\n",
            "Epoch 3, Sample 44: Loss: 0.1310\n",
            "Epoch 3, Sample 45: Loss: 0.1487\n",
            "Epoch 3, Sample 46: Loss: 0.0302\n",
            "Epoch 3, Sample 47: Loss: 0.0025\n",
            "Epoch 3, Sample 48: Loss: 0.0481\n",
            "Epoch 3, Sample 49: Loss: 0.0325\n",
            "Epoch 3, Sample 50: Loss: 0.0089\n",
            "Epoch 3, Sample 51: Loss: 0.1133\n",
            "Epoch 3, Sample 52: Loss: 0.0485\n",
            "Epoch 3, Sample 53: Loss: 0.0057\n",
            "Epoch 3, Sample 54: Loss: 0.0058\n",
            "Epoch 3, Sample 55: Loss: 0.0173\n",
            "Epoch 3, Sample 56: Loss: 0.0997\n",
            "Epoch 3, Sample 57: Loss: 0.2122\n",
            "Epoch 3, Sample 58: Loss: 0.1067\n",
            "Epoch 3, Sample 59: Loss: 0.0429\n",
            "Epoch 3, Sample 60: Loss: 0.2469\n",
            "Epoch 3, Sample 61: Loss: 0.0512\n",
            "Epoch 3, Sample 62: Loss: 0.3356\n",
            "Epoch 3, Sample 63: Loss: 0.1972\n",
            "\n",
            "Epoch 3 Average Loss: 0.0962\n",
            "--------------------------------------------------\n",
            "\n"
          ]
        }
      ]
    },
    {
      "cell_type": "markdown",
      "source": [
        "# 3.2 How to avoid overfiting issue in a complex neural network?"
      ],
      "metadata": {
        "id": "fkvwhNs1zeCL"
      }
    },
    {
      "cell_type": "markdown",
      "source": [
        "Pruning in neural networks involves reducing the number of parameters in a model, which can lead to faster inference times and reduced risk of overfitting. Using nn.Dropout in PyTorch randomly sets a fraction of input units to 0 at each update during training, which can be thought of as a form of dynamic pruning, encouraging the network to develop redundant representations and potentially leading to a more robust and simpler model."
      ],
      "metadata": {
        "id": "ZXpC-garzQ_B"
      }
    },
    {
      "cell_type": "markdown",
      "source": [
        "![](https://raw.githubusercontent.com/aaubs/ds-master/main/data/Images/torch_nn_dropout.png)"
      ],
      "metadata": {
        "id": "XR_I5vjQxmho"
      }
    },
    {
      "cell_type": "markdown",
      "source": [
        "The dropout rate in a neural network specifies the probability that each neuron (or node) in the layer to which dropout is applied will be set to zero (i.e., “dropped out”) during a forward pass in training. This means that the neuron’s output will be temporarily ignored for that forward pass and the subsequent backward pass.\n",
        "\n",
        "So, when you set a dropout rate of 0.33 (or 33%), you are specifying that, on average, 33% of the neurons in that layer will be set to zero during each training iteration."
      ],
      "metadata": {
        "id": "P2tWhj8-0qjC"
      }
    },
    {
      "cell_type": "code",
      "source": [
        "# Print the parameters of all layers\n",
        "for name, param in model_net2.named_parameters():\n",
        "    print(f\"Layer: {name}\")\n",
        "    print(f\"Size: {param.size()}\")\n",
        "    print(f\"Values: \\n{param.data}\\n\")"
      ],
      "metadata": {
        "colab": {
          "base_uri": "https://localhost:8080/"
        },
        "id": "qPi9757vwJRl",
        "outputId": "92b8b04e-0380-4c16-9b3c-a91756474ada"
      },
      "execution_count": null,
      "outputs": [
        {
          "output_type": "stream",
          "name": "stdout",
          "text": [
            "Layer: 0.weight\n",
            "Size: torch.Size([3, 1])\n",
            "Values: \n",
            "tensor([[-0.8906],\n",
            "        [ 0.3422],\n",
            "        [-0.6621]])\n",
            "\n",
            "Layer: 0.bias\n",
            "Size: torch.Size([3])\n",
            "Values: \n",
            "tensor([-0.5630,  0.1885, -0.7880])\n",
            "\n",
            "Layer: 3.weight\n",
            "Size: torch.Size([1, 3])\n",
            "Values: \n",
            "tensor([[ 0.2128, -1.3387, -0.0957]])\n",
            "\n",
            "Layer: 3.bias\n",
            "Size: torch.Size([1])\n",
            "Values: \n",
            "tensor([-1.0494])\n",
            "\n"
          ]
        }
      ]
    },
    {
      "cell_type": "code",
      "source": [
        "# Plotting Loss Function Curve\n",
        "plt.figure(figsize=(10, 5))\n",
        "plt.plot(ws, loss_ws, 'r--', label='Loss Function', linewidth=2)\n",
        "\n",
        "# Plotting w values from the training\n",
        "plt.scatter(w_his, np.interp(w_his, ws, loss_ws), color='blue', s=20, label='Training $w$ Values')\n",
        "plt.plot(w_his, np.interp(w_his, ws, loss_ws), color='blue', linestyle='-', linewidth=0.5)\n",
        "\n",
        "plt.title('Movement of $w$ on Loss Function Curve from Training Results')\n",
        "plt.xlabel('$w$')\n",
        "plt.ylabel('Loss')\n",
        "plt.xlim(-60, 60)\n",
        "plt.legend()\n",
        "plt.grid(True)\n",
        "plt.show()"
      ],
      "metadata": {
        "colab": {
          "base_uri": "https://localhost:8080/",
          "height": 489
        },
        "id": "H2Ea8-0bsGAi",
        "outputId": "5a5f16da-fad9-4148-a31a-3770fea06d3d"
      },
      "execution_count": null,
      "outputs": [
        {
          "output_type": "display_data",
          "data": {
            "text/plain": [
              "<Figure size 1000x500 with 1 Axes>"
            ],
            "image/png": "[encoded data removed]"
          },
          "metadata": {}
        }
      ]
    },
    {
      "cell_type": "code",
      "source": [
        "plt.plot(np.array(list(loss_set.values())).astype(float))\n",
        "plt.xlabel('Epochs')\n",
        "plt.ylabel('Mean Squared Error')\n",
        "plt.show()"
      ],
      "metadata": {
        "colab": {
          "base_uri": "https://localhost:8080/",
          "height": 449
        },
        "id": "gAg8tpVfsJ-M",
        "outputId": "1d296a5e-bca3-4147-8e65-cd78bc4f4804"
      },
      "execution_count": null,
      "outputs": [
        {
          "output_type": "display_data",
          "data": {
            "text/plain": [
              "<Figure size 640x480 with 1 Axes>"
            ],
            "image/png": "[encoded data removed]"
          },
          "metadata": {}
        }
      ]
    },
    {
      "cell_type": "markdown",
      "source": [
        "# 3.3 How to save and load a trained model using Pytorch?"
      ],
      "metadata": {
        "id": "aMrLrjjd6Tme"
      }
    },
    {
      "cell_type": "markdown",
      "source": [
        "## Saving the trained model"
      ],
      "metadata": {
        "id": "TR_S7mM569Rj"
      }
    },
    {
      "cell_type": "code",
      "source": [
        "# Now lets save our trained model\n",
        "# save the trained model\n",
        "torch.save(model_net2, 'model_net2.pkl')"
      ],
      "metadata": {
        "id": "fpbbbUrcZqkb"
      },
      "execution_count": null,
      "outputs": []
    },
    {
      "cell_type": "markdown",
      "source": [
        "## Loading the saved model\n"
      ],
      "metadata": {
        "id": "wGSzf7MDZ4qX"
      }
    },
    {
      "cell_type": "code",
      "source": [
        "#   Lets load the model for inference\n",
        "\n",
        "model_net2_trained = torch.load('model_net2.pkl')\n",
        "model_net2_trained.eval()"
      ],
      "metadata": {
        "colab": {
          "base_uri": "https://localhost:8080/"
        },
        "id": "dSUdESTDZ2iL",
        "outputId": "2b3df389-24dc-4b0e-c525-e26fcefb97ec"
      },
      "execution_count": null,
      "outputs": [
        {
          "output_type": "execute_result",
          "data": {
            "text/plain": [
              "Sequential(\n",
              "  (0): Linear(in_features=1, out_features=3, bias=True)\n",
              "  (1): ReLU()\n",
              "  (2): Dropout(p=0.33, inplace=False)\n",
              "  (3): Linear(in_features=3, out_features=1, bias=True)\n",
              "  (4): ReLU()\n",
              ")"
            ]
          },
          "metadata": {},
          "execution_count": 107
        }
      ]
    },
    {
      "cell_type": "code",
      "source": [
        "# Print the parameters of all layers\n",
        "for name, param in model_net2_trained.named_parameters():\n",
        "    print(f\"Layer: {name}\")\n",
        "    print(f\"Size: {param.size()}\")\n",
        "    print(f\"Values: \\n{param.data}\\n\")"
      ],
      "metadata": {
        "colab": {
          "base_uri": "https://localhost:8080/"
        },
        "id": "B6Yjl9hc7HLn",
        "outputId": "8c94a332-c648-4ab4-c0a5-2f1b18c33d72"
      },
      "execution_count": null,
      "outputs": [
        {
          "output_type": "stream",
          "name": "stdout",
          "text": [
            "Layer: 0.weight\n",
            "Size: torch.Size([3, 1])\n",
            "Values: \n",
            "tensor([[ 0.2085],\n",
            "        [-3.5171],\n",
            "        [ 0.7379]])\n",
            "\n",
            "Layer: 0.bias\n",
            "Size: torch.Size([3])\n",
            "Values: \n",
            "tensor([ -0.5294, -32.0303,   0.4675])\n",
            "\n",
            "Layer: 3.weight\n",
            "Size: torch.Size([1, 3])\n",
            "Values: \n",
            "tensor([[  0.9827, -17.0283,  -0.4226]])\n",
            "\n",
            "Layer: 3.bias\n",
            "Size: torch.Size([1])\n",
            "Values: \n",
            "tensor([-15.1098])\n",
            "\n"
          ]
        }
      ]
    },
    {
      "cell_type": "markdown",
      "source": [
        "![](https://raw.githubusercontent.com/aaubs/ds-master/main/data/Images/Exercise.png)"
      ],
      "metadata": {
        "id": "sIY_OFvC7nZ8"
      }
    }
  ]
}