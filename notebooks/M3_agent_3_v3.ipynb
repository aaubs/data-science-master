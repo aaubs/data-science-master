{
  "cells": [
    {
      "cell_type": "markdown",
      "metadata": {
        "id": "view-in-github",
        "colab_type": "text"
      },
      "source": [
        "<a href=\"https://colab.research.google.com/github/aaubs/ds-master/blob/main/notebooks/M3_agent_3_v3.ipynb\" target=\"_parent\"><img src=\"https://colab.research.google.com/assets/colab-badge.svg\" alt=\"Open In Colab\"/></a>"
      ]
    },
    {
      "cell_type": "markdown",
      "id": "65393cbc",
      "metadata": {
        "id": "65393cbc"
      },
      "source": [
        "# Simplified Guide to Creating a Custom Calendar Agent with LangChain\n",
        "\n",
        "This guide will walk you through the main steps of creating a custom agent using LangChain, similar to the CalendarManager agent example. We'll focus on building an agent that can schedule events and list scheduled events."
      ]
    },
    {
      "cell_type": "markdown",
      "source": [
        "### Steps to Build an Agent with LangChain\n",
        "\n",
        "1. **Conceptualize the Agent's Capabilities**  \n",
        "   Decide what tasks the agent should perform.\n",
        "\n",
        "2. **Develop the Tools**  \n",
        "   Create functions for each capability and wrap them as tools.\n",
        "\n",
        "3. **Set Up the Language Model**  \n",
        "   Initialize the LLM that will power the agent's understanding.\n",
        "\n",
        "4. **Assemble the Agent**  \n",
        "   Use LangChain's `initialize_agent` to bring everything together.\n",
        "\n",
        "5. **Test and Iterate**  \n",
        "   Validate the agent's performance and make improvements as necessary.\n"
      ],
      "metadata": {
        "id": "VCif0768Rzye"
      },
      "id": "VCif0768Rzye"
    },
    {
      "cell_type": "markdown",
      "id": "e904896e",
      "metadata": {
        "id": "e904896e"
      },
      "source": [
        "## Prerequisites\n",
        "\n",
        "Before starting, make sure you have the necessary packages installed:"
      ]
    },
    {
      "cell_type": "code",
      "source": [
        "!pip install langchain openai langchain_community --q"
      ],
      "metadata": {
        "colab": {
          "base_uri": "https://localhost:8080/"
        },
        "id": "v8QoHAh2QEfN",
        "outputId": "30a599a9-91ca-4f2f-a9c4-3e85c3725e65"
      },
      "id": "v8QoHAh2QEfN",
      "execution_count": null,
      "outputs": [
        {
          "output_type": "stream",
          "name": "stdout",
          "text": [
            "\u001b[?25l   \u001b[90m━━━━━━━━━━━━━━━━━━━━━━━━━━━━━━━━━━━━━━━━\u001b[0m \u001b[32m0.0/2.4 MB\u001b[0m \u001b[31m?\u001b[0m eta \u001b[36m-:--:--\u001b[0m\r\u001b[2K   \u001b[91m━━━━━━━━━━━━━━━━━━━━━━━━━━━━━\u001b[0m\u001b[90m╺\u001b[0m\u001b[90m━━━━━━━━━━\u001b[0m \u001b[32m1.8/2.4 MB\u001b[0m \u001b[31m52.9 MB/s\u001b[0m eta \u001b[36m0:00:01\u001b[0m\r\u001b[2K   \u001b[90m━━━━━━━━━━━━━━━━━━━━━━━━━━━━━━━━━━━━━━━━\u001b[0m \u001b[32m2.4/2.4 MB\u001b[0m \u001b[31m37.2 MB/s\u001b[0m eta \u001b[36m0:00:00\u001b[0m\n",
            "\u001b[?25h\u001b[?25l   \u001b[90m━━━━━━━━━━━━━━━━━━━━━━━━━━━━━━━━━━━━━━━━\u001b[0m \u001b[32m0.0/1.0 MB\u001b[0m \u001b[31m?\u001b[0m eta \u001b[36m-:--:--\u001b[0m\r\u001b[2K   \u001b[90m━━━━━━━━━━━━━━━━━━━━━━━━━━━━━━━━━━━━━━━━\u001b[0m \u001b[32m1.0/1.0 MB\u001b[0m \u001b[31m36.7 MB/s\u001b[0m eta \u001b[36m0:00:00\u001b[0m\n",
            "\u001b[2K   \u001b[90m━━━━━━━━━━━━━━━━━━━━━━━━━━━━━━━━━━━━━━━━\u001b[0m \u001b[32m409.5/409.5 kB\u001b[0m \u001b[31m22.4 MB/s\u001b[0m eta \u001b[36m0:00:00\u001b[0m\n",
            "\u001b[2K   \u001b[90m━━━━━━━━━━━━━━━━━━━━━━━━━━━━━━━━━━━━━━━━\u001b[0m \u001b[32m3.1/3.1 MB\u001b[0m \u001b[31m50.6 MB/s\u001b[0m eta \u001b[36m0:00:00\u001b[0m\n",
            "\u001b[2K   \u001b[90m━━━━━━━━━━━━━━━━━━━━━━━━━━━━━━━━━━━━━━━━\u001b[0m \u001b[32m49.5/49.5 kB\u001b[0m \u001b[31m3.5 MB/s\u001b[0m eta \u001b[36m0:00:00\u001b[0m\n",
            "\u001b[?25h"
          ]
        }
      ]
    },
    {
      "cell_type": "markdown",
      "source": [
        "\n",
        "You'll also need an OpenAI API key. If you don't have one, you can get it from the [OpenAI website](https://platform.openai.com/account/api-keys)."
      ],
      "metadata": {
        "id": "2O0SmgSiQIMy"
      },
      "id": "2O0SmgSiQIMy"
    },
    {
      "cell_type": "code",
      "source": [
        "from getpass import getpass\n",
        "\n",
        "OPENAI_API_KEY = getpass(\"Enter your OpenAI API key:\")"
      ],
      "metadata": {
        "colab": {
          "base_uri": "https://localhost:8080/"
        },
        "id": "2v6lXMVJR-gx",
        "outputId": "c4a01c29-7b18-4bc9-f622-de38e72b845c"
      },
      "id": "2v6lXMVJR-gx",
      "execution_count": null,
      "outputs": [
        {
          "name": "stdout",
          "output_type": "stream",
          "text": [
            "Enter your OpenAI API key:··········\n"
          ]
        }
      ]
    },
    {
      "cell_type": "markdown",
      "id": "a2e25659",
      "metadata": {
        "id": "a2e25659"
      },
      "source": [
        "## Step 1: Import Necessary Libraries\n",
        "\n",
        "Begin by importing the required modules:"
      ]
    },
    {
      "cell_type": "code",
      "source": [
        "from langchain.agents import initialize_agent, AgentType\n",
        "from langchain.tools import Tool\n",
        "from langchain.chat_models import ChatOpenAI"
      ],
      "metadata": {
        "id": "V9xjw_1pQMnG"
      },
      "id": "V9xjw_1pQMnG",
      "execution_count": null,
      "outputs": []
    },
    {
      "cell_type": "markdown",
      "id": "d93e50f8",
      "metadata": {
        "id": "d93e50f8"
      },
      "source": [
        "## Step 2: Define Custom Functions\n",
        "\n",
        "Create the functions that your agent will use to perform actions. In this example, we'll define two functions:\n",
        "\n",
        "- `schedule_event`: Schedules a new event.\n",
        "- `list_events`: Lists all scheduled events.\n"
      ]
    },
    {
      "cell_type": "code",
      "source": [
        "def schedule_event(event_details: str) -> str:\n",
        "    \"\"\"\n",
        "    Schedules a new calendar event based on the provided details.\n",
        "    \"\"\"\n",
        "    # In a real application, integrate with a calendar API here.\n",
        "    return f\"Event scheduled: {event_details}\"\n",
        "\n",
        "def list_events(unused_input: str = \"\") -> str:\n",
        "    \"\"\"\n",
        "    Lists all scheduled calendar events.\n",
        "    \"\"\"\n",
        "    # In a real application, retrieve events from a calendar API.\n",
        "    return \"You have the following events scheduled:\\n1. Team Meeting at 10 AM\\n2. Doctor Appointment at 3 PM\""
      ],
      "metadata": {
        "id": "DiBoUTPIQRpC"
      },
      "id": "DiBoUTPIQRpC",
      "execution_count": null,
      "outputs": []
    },
    {
      "cell_type": "markdown",
      "id": "cb6667b6",
      "metadata": {
        "id": "cb6667b6"
      },
      "source": [
        "## Step 3: Define Tools for the Agent\n",
        "\n",
        "Wrap your functions in `Tool` objects. This helps the agent understand what actions it can perform and how to use them.\n"
      ]
    },
    {
      "cell_type": "code",
      "source": [
        "tools = [\n",
        "    Tool(\n",
        "        name=\"ScheduleEvent\",\n",
        "        func=schedule_event,\n",
        "        description=\"Schedules a new calendar event based on the provided details.\"\n",
        "    ),\n",
        "    Tool(\n",
        "        name=\"ListEvents\",\n",
        "        func=list_events,\n",
        "        description=\"Lists all your scheduled calendar events.\"\n",
        "    )\n",
        "]"
      ],
      "metadata": {
        "id": "pyZpKYkIQWDS"
      },
      "id": "pyZpKYkIQWDS",
      "execution_count": null,
      "outputs": []
    },
    {
      "cell_type": "markdown",
      "id": "3f18a591",
      "metadata": {
        "id": "3f18a591"
      },
      "source": [
        "## Step 4: Initialize the Language Model\n",
        "\n",
        "Set up the language model that the agent will use to interpret user inputs and generate responses.\n"
      ]
    },
    {
      "cell_type": "code",
      "source": [
        "llm = ChatOpenAI(\n",
        "    model_name=\"gpt-3.5-turbo\",\n",
        "    openai_api_key=OPENAI_API_KEY,  # Replace with your actual API key\n",
        "    temperature=0\n",
        ")"
      ],
      "metadata": {
        "id": "qrl714nCQZd9"
      },
      "id": "qrl714nCQZd9",
      "execution_count": null,
      "outputs": []
    },
    {
      "cell_type": "markdown",
      "id": "71be8261",
      "metadata": {
        "id": "71be8261"
      },
      "source": [
        "## Step 5: Initialize the Agent\n",
        "\n",
        "Create the agent by providing it with the tools, the language model, and specifying the agent type."
      ]
    },
    {
      "cell_type": "code",
      "source": [
        "calendar_agent = initialize_agent(\n",
        "    tools=tools,\n",
        "    llm=llm,\n",
        "    agent=AgentType.OPENAI_FUNCTIONS,\n",
        "    verbose=True,\n",
        "    max_iterations=3\n",
        ")"
      ],
      "metadata": {
        "colab": {
          "base_uri": "https://localhost:8080/"
        },
        "id": "1PIWHwBAQdKQ",
        "outputId": "5828d465-8b73-4977-e767-582f6ceafd85"
      },
      "id": "1PIWHwBAQdKQ",
      "execution_count": null,
      "outputs": [
        {
          "output_type": "stream",
          "name": "stderr",
          "text": [
            "<ipython-input-14-8c9f294ef962>:1: LangChainDeprecationWarning: The function `initialize_agent` was deprecated in LangChain 0.1.0 and will be removed in 1.0. Use :meth:`~Use new agent constructor methods like create_react_agent, create_json_agent, create_structured_chat_agent, etc.` instead.\n",
            "  calendar_agent = initialize_agent(\n"
          ]
        }
      ]
    },
    {
      "cell_type": "markdown",
      "source": [
        "- `tools`: The list of tools (actions) the agent can use.\n",
        "- `llm`: The language model instance.\n",
        "- `agent`: Specifies the type of agent; `AgentType.OPENAI_FUNCTIONS` allows the agent to use OpenAI's function-calling capabilities.\n",
        "- `verbose`: If `True`, the agent will print out its thought process.\n",
        "- `max_iterations`: The maximum number of iterations the agent will perform to arrive at an answer."
      ],
      "metadata": {
        "id": "0gTwRtrjQjQ6"
      },
      "id": "0gTwRtrjQjQ6"
    },
    {
      "cell_type": "markdown",
      "id": "8712d754",
      "metadata": {
        "id": "8712d754"
      },
      "source": [
        "## Step 6: Test the Agent\n",
        "\n",
        "Write a main function to test your agent with example queries.\n"
      ]
    },
    {
      "cell_type": "code",
      "source": [
        "def main():\n",
        "    # Example queries\n",
        "    queries = [\n",
        "        \"Schedule a meeting with John tomorrow at 2 PM.\",\n",
        "        \"What are my events for today?\"\n",
        "    ]\n",
        "\n",
        "    for query in queries:\n",
        "        print(f\"\\nUser Query: {query}\")\n",
        "        result = calendar_agent.run(query)\n",
        "        print(\"Agent Response:\", result)\n",
        "\n",
        "if __name__ == \"__main__\":\n",
        "    main()"
      ],
      "metadata": {
        "colab": {
          "base_uri": "https://localhost:8080/"
        },
        "id": "zzhUZL4KQqSi",
        "outputId": "aa2c32f4-2136-4aa7-8644-a3814c987996"
      },
      "id": "zzhUZL4KQqSi",
      "execution_count": null,
      "outputs": [
        {
          "output_type": "stream",
          "name": "stdout",
          "text": [
            "\n",
            "User Query: Schedule a meeting with John tomorrow at 2 PM.\n",
            "\n",
            "\n",
            "\u001b[1m> Entering new AgentExecutor chain...\u001b[0m\n"
          ]
        },
        {
          "output_type": "stream",
          "name": "stderr",
          "text": [
            "<ipython-input-15-b829b386ada2>:10: LangChainDeprecationWarning: The method `Chain.run` was deprecated in langchain 0.1.0 and will be removed in 1.0. Use :meth:`~invoke` instead.\n",
            "  result = calendar_agent.run(query)\n"
          ]
        },
        {
          "output_type": "stream",
          "name": "stdout",
          "text": [
            "\u001b[32;1m\u001b[1;3m\n",
            "Invoking: `ScheduleEvent` with `Meeting with John at 2 PM tomorrow`\n",
            "\n",
            "\n",
            "\u001b[0m\u001b[36;1m\u001b[1;3mEvent scheduled: Meeting with John at 2 PM tomorrow\u001b[0m\u001b[32;1m\u001b[1;3mI have successfully scheduled a meeting with John tomorrow at 2 PM.\u001b[0m\n",
            "\n",
            "\u001b[1m> Finished chain.\u001b[0m\n",
            "Agent Response: I have successfully scheduled a meeting with John tomorrow at 2 PM.\n",
            "\n",
            "User Query: What are my events for today?\n",
            "\n",
            "\n",
            "\u001b[1m> Entering new AgentExecutor chain...\u001b[0m\n",
            "\u001b[32;1m\u001b[1;3m\n",
            "Invoking: `ListEvents` with `today`\n",
            "\n",
            "\n",
            "\u001b[0m\u001b[33;1m\u001b[1;3mYou have the following events scheduled:\n",
            "1. Team Meeting at 10 AM\n",
            "2. Doctor Appointment at 3 PM\u001b[0m\u001b[32;1m\u001b[1;3mYou have the following events scheduled for today:\n",
            "1. Team Meeting at 10 AM\n",
            "2. Doctor Appointment at 3 PM\u001b[0m\n",
            "\n",
            "\u001b[1m> Finished chain.\u001b[0m\n",
            "Agent Response: You have the following events scheduled for today:\n",
            "1. Team Meeting at 10 AM\n",
            "2. Doctor Appointment at 3 PM\n"
          ]
        }
      ]
    },
    {
      "cell_type": "markdown",
      "source": [
        "**Output:**\n",
        "\n",
        "```\n",
        "User Query: Schedule a meeting with John tomorrow at 2 PM.\n",
        "Agent Response: Event scheduled: Meeting with John tomorrow at 2 PM.\n",
        "\n",
        "User Query: What are my events for today?\n",
        "Agent Response: You have the following events scheduled:\n",
        "1. Team Meeting at 10 AM\n",
        "2. Doctor Appointment at 3 PM\n",
        "```"
      ],
      "metadata": {
        "id": "pdKXYnojQnlR"
      },
      "id": "pdKXYnojQnlR"
    },
    {
      "cell_type": "markdown",
      "id": "f3f65eae",
      "metadata": {
        "id": "f3f65eae"
      },
      "source": [
        "## Summary of Main Steps\n",
        "\n",
        "1. **Import Libraries**: Import necessary modules from LangChain and OpenAI.\n",
        "2. **Define Functions**: Create custom functions that perform the desired actions.\n",
        "3. **Define Tools**: Wrap the functions in `Tool` objects with names and descriptions.\n",
        "4. **Initialize Language Model**: Set up the language model using your OpenAI API key.\n",
        "5. **Initialize Agent**: Use `initialize_agent` to create the agent with specified tools and configurations.\n",
        "6. **Test Agent**: Run the agent with sample queries to see it in action."
      ]
    },
    {
      "cell_type": "markdown",
      "id": "c608ed98",
      "metadata": {
        "id": "c608ed98"
      },
      "source": [
        "## Extension Ideas\n",
        "\n",
        "- **Integrate with Real Calendar APIs**: Connect your functions to real calendar services like Google Calendar or Microsoft Outlook.\n",
        "- **Add More Functionality**: Implement additional tools for updating or deleting events.\n",
        "- **Enhance Natural Language Understanding**: Improve the agent's ability to understand varied user inputs.\n",
        "- **Error Handling**: Add robust error handling to manage unexpected inputs or API failures.\n",
        "- **User Authentication**: Incorporate authentication mechanisms to secure user data."
      ]
    },
    {
      "cell_type": "markdown",
      "id": "98fb4b32",
      "metadata": {
        "id": "98fb4b32"
      },
      "source": [
        "## Conclusion\n",
        "\n",
        "By following these simplified steps, you've created a custom agent that can schedule and list calendar events using LangChain. This serves as a foundation for building more complex agents that can interact with real-world APIs and perform a variety of tasks based on user input.\n",
        "\n",
        "**References**\n",
        "\n",
        "- [LangChain Documentation](https://python.langchain.com/en/latest/index.html)\n",
        "- [OpenAI Function Calling](https://platform.openai.com/docs/guides/gpt/function-calling)\n",
        "\n",
        "**Happy Coding!**"
      ]
    }
  ],
  "metadata": {
    "colab": {
      "provenance": [],
      "include_colab_link": true
    },
    "language_info": {
      "name": "python"
    },
    "kernelspec": {
      "name": "python3",
      "display_name": "Python 3"
    }
  },
  "nbformat": 4,
  "nbformat_minor": 5
}