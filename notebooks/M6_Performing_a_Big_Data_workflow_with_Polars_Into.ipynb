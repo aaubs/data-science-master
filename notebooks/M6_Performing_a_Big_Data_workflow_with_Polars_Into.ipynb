{
  "nbformat": 4,
  "nbformat_minor": 0,
  "metadata": {
    "colab": {
      "provenance": [],
      "authorship_tag": "ABX9TyNHRMDUSYeg5Od2rKBybfBk",
      "include_colab_link": true
    },
    "kernelspec": {
      "name": "python3",
      "display_name": "Python 3"
    },
    "language_info": {
      "name": "python"
    }
  },
  "cells": [
    {
      "cell_type": "markdown",
      "metadata": {
        "id": "view-in-github",
        "colab_type": "text"
      },
      "source": [
        "<a href=\"https://colab.research.google.com/github/aaubs/ds-master/blob/main/notebooks/M6_Performing_a_Big_Data_workflow_with_Polars_Into.ipynb\" target=\"_parent\"><img src=\"https://colab.research.google.com/assets/colab-badge.svg\" alt=\"Open In Colab\"/></a>"
      ]
    },
    {
      "cell_type": "markdown",
      "source": [
        "Polars is a DataFrame library that is completely written in Rust. In this article, I will walk you through the basics of Polars and how it can be used in place of Pandas. "
      ],
      "metadata": {
        "id": "TGfDKjRMrHcm"
      }
    },
    {
      "cell_type": "markdown",
      "source": [
        "#What is Polars?\n",
        "The best way to understand Polars is that it is a better dataframe library than Pandas. Here are some advantages of Polars over Pandas:\n",
        "\n",
        "- Polars does not use an index for the dataframe. Eliminating the index makes it much easier to manipulate the dataframe (the index is mostly redundant in Pandas dataframe anyway).\n",
        "- Polars represents data internally using Apache Arrow arrays while Pandas stores data internally using NumPy arrays. Apache Arrow arrays is much more efficient in areas like load time, memory usage, and computation.\n",
        "- Polars supports more parallel operations than Pandas. As Polars is written in Rust, it can run many operations in parallel.\n",
        "- Polars supports lazy evaluation. Based on your query, Polars will examine your queries, optimize them, and look for ways to accelerate the query or reduce memory usage. Pandas, on the other hand, support only eager evaluation, which immediately evaluates an expression as soon as it encounters one."
      ],
      "metadata": {
        "id": "n95MoZGirkDF"
      }
    },
    {
      "cell_type": "code",
      "execution_count": 1,
      "metadata": {
        "colab": {
          "base_uri": "https://localhost:8080/"
        },
        "id": "nM_DqUaurC_6",
        "outputId": "908b83dc-87a5-492b-9243-8bbb3ff859b6"
      },
      "outputs": [
        {
          "output_type": "stream",
          "name": "stdout",
          "text": [
            "\u001b[2K     \u001b[90m━━━━━━━━━━━━━━━━━━━━━━━━━━━━━━━━━━━━━━━━\u001b[0m \u001b[32m16.6/16.6 MB\u001b[0m \u001b[31m30.7 MB/s\u001b[0m eta \u001b[36m0:00:00\u001b[0m\n",
            "\u001b[?25h"
          ]
        }
      ],
      "source": [
        "#Installing Polars\n",
        "!pip install polars --q"
      ]
    },
    {
      "cell_type": "code",
      "source": [
        "import polars as pl\n",
        "\n",
        "df = pl.DataFrame(\n",
        "     {\n",
        "         'Model': ['iPhone X','iPhone XS','iPhone 12',\n",
        "                   'iPhone 13','Samsung S11','Samsung S12',\n",
        "                   'Mi A1','Mi A2'],\n",
        "         'Sales': [80,170,130,205,400,30,14,8],     \n",
        "         'Company': ['Apple','Apple','Apple','Apple',\n",
        "                     'Samsung','Samsung','Xiao Mi','Xiao Mi'],\n",
        "     }\n",
        ")\n",
        "\n",
        "df"
      ],
      "metadata": {
        "colab": {
          "base_uri": "https://localhost:8080/",
          "height": 349
        },
        "id": "0MmdKTD9svLU",
        "outputId": "70a75250-4422-4628-9f55-d6a26e5c8a5c"
      },
      "execution_count": 3,
      "outputs": [
        {
          "output_type": "execute_result",
          "data": {
            "text/plain": [
              "shape: (8, 3)\n",
              "┌─────────────┬───────┬─────────┐\n",
              "│ Model       ┆ Sales ┆ Company │\n",
              "│ ---         ┆ ---   ┆ ---     │\n",
              "│ str         ┆ i64   ┆ str     │\n",
              "╞═════════════╪═══════╪═════════╡\n",
              "│ iPhone X    ┆ 80    ┆ Apple   │\n",
              "│ iPhone XS   ┆ 170   ┆ Apple   │\n",
              "│ iPhone 12   ┆ 130   ┆ Apple   │\n",
              "│ iPhone 13   ┆ 205   ┆ Apple   │\n",
              "│ Samsung S11 ┆ 400   ┆ Samsung │\n",
              "│ Samsung S12 ┆ 30    ┆ Samsung │\n",
              "│ Mi A1       ┆ 14    ┆ Xiao Mi │\n",
              "│ Mi A2       ┆ 8     ┆ Xiao Mi │\n",
              "└─────────────┴───────┴─────────┘"
            ],
            "text/html": [
              "<div><style>\n",
              ".dataframe > thead > tr > th,\n",
              ".dataframe > tbody > tr > td {\n",
              "  text-align: right;\n",
              "}\n",
              "</style>\n",
              "<small>shape: (8, 3)</small><table border=\"1\" class=\"dataframe\"><thead><tr><th>Model</th><th>Sales</th><th>Company</th></tr><tr><td>str</td><td>i64</td><td>str</td></tr></thead><tbody><tr><td>&quot;iPhone X&quot;</td><td>80</td><td>&quot;Apple&quot;</td></tr><tr><td>&quot;iPhone XS&quot;</td><td>170</td><td>&quot;Apple&quot;</td></tr><tr><td>&quot;iPhone 12&quot;</td><td>130</td><td>&quot;Apple&quot;</td></tr><tr><td>&quot;iPhone 13&quot;</td><td>205</td><td>&quot;Apple&quot;</td></tr><tr><td>&quot;Samsung S11&quot;</td><td>400</td><td>&quot;Samsung&quot;</td></tr><tr><td>&quot;Samsung S12&quot;</td><td>30</td><td>&quot;Samsung&quot;</td></tr><tr><td>&quot;Mi A1&quot;</td><td>14</td><td>&quot;Xiao Mi&quot;</td></tr><tr><td>&quot;Mi A2&quot;</td><td>8</td><td>&quot;Xiao Mi&quot;</td></tr></tbody></table></div>"
            ]
          },
          "metadata": {},
          "execution_count": 3
        }
      ]
    },
    {
      "cell_type": "code",
      "source": [
        "import polars as pl\n",
        "\n",
        "df = pl.read_csv(\"https://j.mp/iriscsv\")"
      ],
      "metadata": {
        "id": "R3USBbpar77r"
      },
      "execution_count": 4,
      "outputs": []
    },
    {
      "cell_type": "code",
      "source": [
        "df.head()"
      ],
      "metadata": {
        "colab": {
          "base_uri": "https://localhost:8080/",
          "height": 255
        },
        "id": "n-ZATN3oslIs",
        "outputId": "6804ead8-35cf-4c59-f842-b7aa984929e2"
      },
      "execution_count": 5,
      "outputs": [
        {
          "output_type": "execute_result",
          "data": {
            "text/plain": [
              "shape: (5, 5)\n",
              "┌──────────────┬─────────────┬──────────────┬─────────────┬─────────┐\n",
              "│ sepal_length ┆ sepal_width ┆ petal_length ┆ petal_width ┆ species │\n",
              "│ ---          ┆ ---         ┆ ---          ┆ ---         ┆ ---     │\n",
              "│ f64          ┆ f64         ┆ f64          ┆ f64         ┆ str     │\n",
              "╞══════════════╪═════════════╪══════════════╪═════════════╪═════════╡\n",
              "│ 5.1          ┆ 3.5         ┆ 1.4          ┆ 0.2         ┆ setosa  │\n",
              "│ 4.9          ┆ 3.0         ┆ 1.4          ┆ 0.2         ┆ setosa  │\n",
              "│ 4.7          ┆ 3.2         ┆ 1.3          ┆ 0.2         ┆ setosa  │\n",
              "│ 4.6          ┆ 3.1         ┆ 1.5          ┆ 0.2         ┆ setosa  │\n",
              "│ 5.0          ┆ 3.6         ┆ 1.4          ┆ 0.2         ┆ setosa  │\n",
              "└──────────────┴─────────────┴──────────────┴─────────────┴─────────┘"
            ],
            "text/html": [
              "<div><style>\n",
              ".dataframe > thead > tr > th,\n",
              ".dataframe > tbody > tr > td {\n",
              "  text-align: right;\n",
              "}\n",
              "</style>\n",
              "<small>shape: (5, 5)</small><table border=\"1\" class=\"dataframe\"><thead><tr><th>sepal_length</th><th>sepal_width</th><th>petal_length</th><th>petal_width</th><th>species</th></tr><tr><td>f64</td><td>f64</td><td>f64</td><td>f64</td><td>str</td></tr></thead><tbody><tr><td>5.1</td><td>3.5</td><td>1.4</td><td>0.2</td><td>&quot;setosa&quot;</td></tr><tr><td>4.9</td><td>3.0</td><td>1.4</td><td>0.2</td><td>&quot;setosa&quot;</td></tr><tr><td>4.7</td><td>3.2</td><td>1.3</td><td>0.2</td><td>&quot;setosa&quot;</td></tr><tr><td>4.6</td><td>3.1</td><td>1.5</td><td>0.2</td><td>&quot;setosa&quot;</td></tr><tr><td>5.0</td><td>3.6</td><td>1.4</td><td>0.2</td><td>&quot;setosa&quot;</td></tr></tbody></table></div>"
            ]
          },
          "metadata": {},
          "execution_count": 5
        }
      ]
    },
    {
      "cell_type": "code",
      "source": [
        "df.dtypes"
      ],
      "metadata": {
        "colab": {
          "base_uri": "https://localhost:8080/"
        },
        "id": "xTSkfzUXs5m3",
        "outputId": "c14f4e4a-edae-4a74-951f-60abfac31f2e"
      },
      "execution_count": 6,
      "outputs": [
        {
          "output_type": "execute_result",
          "data": {
            "text/plain": [
              "[Float64, Float64, Float64, Float64, Utf8]"
            ]
          },
          "metadata": {},
          "execution_count": 6
        }
      ]
    },
    {
      "cell_type": "code",
      "source": [
        "df.columns "
      ],
      "metadata": {
        "colab": {
          "base_uri": "https://localhost:8080/"
        },
        "id": "2qkor4z2s_tC",
        "outputId": "2d94fff7-4fdc-45c4-fdab-c1aa237ff549"
      },
      "execution_count": 7,
      "outputs": [
        {
          "output_type": "execute_result",
          "data": {
            "text/plain": [
              "['sepal_length', 'sepal_width', 'petal_length', 'petal_width', 'species']"
            ]
          },
          "metadata": {},
          "execution_count": 7
        }
      ]
    },
    {
      "cell_type": "markdown",
      "source": [
        "> Polars does not have the concept of index, unlike Pandas. The design philosophy of Polars explicitly states that index is not useful in dataframes."
      ],
      "metadata": {
        "id": "9lxtV4v0tK2p"
      }
    },
    {
      "cell_type": "code",
      "source": [
        "df.rows()"
      ],
      "metadata": {
        "colab": {
          "base_uri": "https://localhost:8080/"
        },
        "id": "xNNDGr9-tAwe",
        "outputId": "fda81740-1a0f-431e-ad2f-47a8f3fffbcd"
      },
      "execution_count": 8,
      "outputs": [
        {
          "output_type": "execute_result",
          "data": {
            "text/plain": [
              "[(5.1, 3.5, 1.4, 0.2, 'setosa'),\n",
              " (4.9, 3.0, 1.4, 0.2, 'setosa'),\n",
              " (4.7, 3.2, 1.3, 0.2, 'setosa'),\n",
              " (4.6, 3.1, 1.5, 0.2, 'setosa'),\n",
              " (5.0, 3.6, 1.4, 0.2, 'setosa'),\n",
              " (5.4, 3.9, 1.7, 0.4, 'setosa'),\n",
              " (4.6, 3.4, 1.4, 0.3, 'setosa'),\n",
              " (5.0, 3.4, 1.5, 0.2, 'setosa'),\n",
              " (4.4, 2.9, 1.4, 0.2, 'setosa'),\n",
              " (4.9, 3.1, 1.5, 0.1, 'setosa'),\n",
              " (5.4, 3.7, 1.5, 0.2, 'setosa'),\n",
              " (4.8, 3.4, 1.6, 0.2, 'setosa'),\n",
              " (4.8, 3.0, 1.4, 0.1, 'setosa'),\n",
              " (4.3, 3.0, 1.1, 0.1, 'setosa'),\n",
              " (5.8, 4.0, 1.2, 0.2, 'setosa'),\n",
              " (5.7, 4.4, 1.5, 0.4, 'setosa'),\n",
              " (5.4, 3.9, 1.3, 0.4, 'setosa'),\n",
              " (5.1, 3.5, 1.4, 0.3, 'setosa'),\n",
              " (5.7, 3.8, 1.7, 0.3, 'setosa'),\n",
              " (5.1, 3.8, 1.5, 0.3, 'setosa'),\n",
              " (5.4, 3.4, 1.7, 0.2, 'setosa'),\n",
              " (5.1, 3.7, 1.5, 0.4, 'setosa'),\n",
              " (4.6, 3.6, 1.0, 0.2, 'setosa'),\n",
              " (5.1, 3.3, 1.7, 0.5, 'setosa'),\n",
              " (4.8, 3.4, 1.9, 0.2, 'setosa'),\n",
              " (5.0, 3.0, 1.6, 0.2, 'setosa'),\n",
              " (5.0, 3.4, 1.6, 0.4, 'setosa'),\n",
              " (5.2, 3.5, 1.5, 0.2, 'setosa'),\n",
              " (5.2, 3.4, 1.4, 0.2, 'setosa'),\n",
              " (4.7, 3.2, 1.6, 0.2, 'setosa'),\n",
              " (4.8, 3.1, 1.6, 0.2, 'setosa'),\n",
              " (5.4, 3.4, 1.5, 0.4, 'setosa'),\n",
              " (5.2, 4.1, 1.5, 0.1, 'setosa'),\n",
              " (5.5, 4.2, 1.4, 0.2, 'setosa'),\n",
              " (4.9, 3.1, 1.5, 0.1, 'setosa'),\n",
              " (5.0, 3.2, 1.2, 0.2, 'setosa'),\n",
              " (5.5, 3.5, 1.3, 0.2, 'setosa'),\n",
              " (4.9, 3.1, 1.5, 0.1, 'setosa'),\n",
              " (4.4, 3.0, 1.3, 0.2, 'setosa'),\n",
              " (5.1, 3.4, 1.5, 0.2, 'setosa'),\n",
              " (5.0, 3.5, 1.3, 0.3, 'setosa'),\n",
              " (4.5, 2.3, 1.3, 0.3, 'setosa'),\n",
              " (4.4, 3.2, 1.3, 0.2, 'setosa'),\n",
              " (5.0, 3.5, 1.6, 0.6, 'setosa'),\n",
              " (5.1, 3.8, 1.9, 0.4, 'setosa'),\n",
              " (4.8, 3.0, 1.4, 0.3, 'setosa'),\n",
              " (5.1, 3.8, 1.6, 0.2, 'setosa'),\n",
              " (4.6, 3.2, 1.4, 0.2, 'setosa'),\n",
              " (5.3, 3.7, 1.5, 0.2, 'setosa'),\n",
              " (5.0, 3.3, 1.4, 0.2, 'setosa'),\n",
              " (7.0, 3.2, 4.7, 1.4, 'versicolor'),\n",
              " (6.4, 3.2, 4.5, 1.5, 'versicolor'),\n",
              " (6.9, 3.1, 4.9, 1.5, 'versicolor'),\n",
              " (5.5, 2.3, 4.0, 1.3, 'versicolor'),\n",
              " (6.5, 2.8, 4.6, 1.5, 'versicolor'),\n",
              " (5.7, 2.8, 4.5, 1.3, 'versicolor'),\n",
              " (6.3, 3.3, 4.7, 1.6, 'versicolor'),\n",
              " (4.9, 2.4, 3.3, 1.0, 'versicolor'),\n",
              " (6.6, 2.9, 4.6, 1.3, 'versicolor'),\n",
              " (5.2, 2.7, 3.9, 1.4, 'versicolor'),\n",
              " (5.0, 2.0, 3.5, 1.0, 'versicolor'),\n",
              " (5.9, 3.0, 4.2, 1.5, 'versicolor'),\n",
              " (6.0, 2.2, 4.0, 1.0, 'versicolor'),\n",
              " (6.1, 2.9, 4.7, 1.4, 'versicolor'),\n",
              " (5.6, 2.9, 3.6, 1.3, 'versicolor'),\n",
              " (6.7, 3.1, 4.4, 1.4, 'versicolor'),\n",
              " (5.6, 3.0, 4.5, 1.5, 'versicolor'),\n",
              " (5.8, 2.7, 4.1, 1.0, 'versicolor'),\n",
              " (6.2, 2.2, 4.5, 1.5, 'versicolor'),\n",
              " (5.6, 2.5, 3.9, 1.1, 'versicolor'),\n",
              " (5.9, 3.2, 4.8, 1.8, 'versicolor'),\n",
              " (6.1, 2.8, 4.0, 1.3, 'versicolor'),\n",
              " (6.3, 2.5, 4.9, 1.5, 'versicolor'),\n",
              " (6.1, 2.8, 4.7, 1.2, 'versicolor'),\n",
              " (6.4, 2.9, 4.3, 1.3, 'versicolor'),\n",
              " (6.6, 3.0, 4.4, 1.4, 'versicolor'),\n",
              " (6.8, 2.8, 4.8, 1.4, 'versicolor'),\n",
              " (6.7, 3.0, 5.0, 1.7, 'versicolor'),\n",
              " (6.0, 2.9, 4.5, 1.5, 'versicolor'),\n",
              " (5.7, 2.6, 3.5, 1.0, 'versicolor'),\n",
              " (5.5, 2.4, 3.8, 1.1, 'versicolor'),\n",
              " (5.5, 2.4, 3.7, 1.0, 'versicolor'),\n",
              " (5.8, 2.7, 3.9, 1.2, 'versicolor'),\n",
              " (6.0, 2.7, 5.1, 1.6, 'versicolor'),\n",
              " (5.4, 3.0, 4.5, 1.5, 'versicolor'),\n",
              " (6.0, 3.4, 4.5, 1.6, 'versicolor'),\n",
              " (6.7, 3.1, 4.7, 1.5, 'versicolor'),\n",
              " (6.3, 2.3, 4.4, 1.3, 'versicolor'),\n",
              " (5.6, 3.0, 4.1, 1.3, 'versicolor'),\n",
              " (5.5, 2.5, 4.0, 1.3, 'versicolor'),\n",
              " (5.5, 2.6, 4.4, 1.2, 'versicolor'),\n",
              " (6.1, 3.0, 4.6, 1.4, 'versicolor'),\n",
              " (5.8, 2.6, 4.0, 1.2, 'versicolor'),\n",
              " (5.0, 2.3, 3.3, 1.0, 'versicolor'),\n",
              " (5.6, 2.7, 4.2, 1.3, 'versicolor'),\n",
              " (5.7, 3.0, 4.2, 1.2, 'versicolor'),\n",
              " (5.7, 2.9, 4.2, 1.3, 'versicolor'),\n",
              " (6.2, 2.9, 4.3, 1.3, 'versicolor'),\n",
              " (5.1, 2.5, 3.0, 1.1, 'versicolor'),\n",
              " (5.7, 2.8, 4.1, 1.3, 'versicolor'),\n",
              " (6.3, 3.3, 6.0, 2.5, 'virginica'),\n",
              " (5.8, 2.7, 5.1, 1.9, 'virginica'),\n",
              " (7.1, 3.0, 5.9, 2.1, 'virginica'),\n",
              " (6.3, 2.9, 5.6, 1.8, 'virginica'),\n",
              " (6.5, 3.0, 5.8, 2.2, 'virginica'),\n",
              " (7.6, 3.0, 6.6, 2.1, 'virginica'),\n",
              " (4.9, 2.5, 4.5, 1.7, 'virginica'),\n",
              " (7.3, 2.9, 6.3, 1.8, 'virginica'),\n",
              " (6.7, 2.5, 5.8, 1.8, 'virginica'),\n",
              " (7.2, 3.6, 6.1, 2.5, 'virginica'),\n",
              " (6.5, 3.2, 5.1, 2.0, 'virginica'),\n",
              " (6.4, 2.7, 5.3, 1.9, 'virginica'),\n",
              " (6.8, 3.0, 5.5, 2.1, 'virginica'),\n",
              " (5.7, 2.5, 5.0, 2.0, 'virginica'),\n",
              " (5.8, 2.8, 5.1, 2.4, 'virginica'),\n",
              " (6.4, 3.2, 5.3, 2.3, 'virginica'),\n",
              " (6.5, 3.0, 5.5, 1.8, 'virginica'),\n",
              " (7.7, 3.8, 6.7, 2.2, 'virginica'),\n",
              " (7.7, 2.6, 6.9, 2.3, 'virginica'),\n",
              " (6.0, 2.2, 5.0, 1.5, 'virginica'),\n",
              " (6.9, 3.2, 5.7, 2.3, 'virginica'),\n",
              " (5.6, 2.8, 4.9, 2.0, 'virginica'),\n",
              " (7.7, 2.8, 6.7, 2.0, 'virginica'),\n",
              " (6.3, 2.7, 4.9, 1.8, 'virginica'),\n",
              " (6.7, 3.3, 5.7, 2.1, 'virginica'),\n",
              " (7.2, 3.2, 6.0, 1.8, 'virginica'),\n",
              " (6.2, 2.8, 4.8, 1.8, 'virginica'),\n",
              " (6.1, 3.0, 4.9, 1.8, 'virginica'),\n",
              " (6.4, 2.8, 5.6, 2.1, 'virginica'),\n",
              " (7.2, 3.0, 5.8, 1.6, 'virginica'),\n",
              " (7.4, 2.8, 6.1, 1.9, 'virginica'),\n",
              " (7.9, 3.8, 6.4, 2.0, 'virginica'),\n",
              " (6.4, 2.8, 5.6, 2.2, 'virginica'),\n",
              " (6.3, 2.8, 5.1, 1.5, 'virginica'),\n",
              " (6.1, 2.6, 5.6, 1.4, 'virginica'),\n",
              " (7.7, 3.0, 6.1, 2.3, 'virginica'),\n",
              " (6.3, 3.4, 5.6, 2.4, 'virginica'),\n",
              " (6.4, 3.1, 5.5, 1.8, 'virginica'),\n",
              " (6.0, 3.0, 4.8, 1.8, 'virginica'),\n",
              " (6.9, 3.1, 5.4, 2.1, 'virginica'),\n",
              " (6.7, 3.1, 5.6, 2.4, 'virginica'),\n",
              " (6.9, 3.1, 5.1, 2.3, 'virginica'),\n",
              " (5.8, 2.7, 5.1, 1.9, 'virginica'),\n",
              " (6.8, 3.2, 5.9, 2.3, 'virginica'),\n",
              " (6.7, 3.3, 5.7, 2.5, 'virginica'),\n",
              " (6.7, 3.0, 5.2, 2.3, 'virginica'),\n",
              " (6.3, 2.5, 5.0, 1.9, 'virginica'),\n",
              " (6.5, 3.0, 5.2, 2.0, 'virginica'),\n",
              " (6.2, 3.4, 5.4, 2.3, 'virginica'),\n",
              " (5.9, 3.0, 5.1, 1.8, 'virginica')]"
            ]
          },
          "metadata": {},
          "execution_count": 8
        }
      ]
    },
    {
      "cell_type": "markdown",
      "source": [
        "#Selecting Column(s)\n",
        "Selecting column(s) in Polars is straight-forward — simply specify the column name using the select() method:"
      ],
      "metadata": {
        "id": "iTrtgS3stRSJ"
      }
    },
    {
      "cell_type": "code",
      "source": [
        "df[['species']]"
      ],
      "metadata": {
        "colab": {
          "base_uri": "https://localhost:8080/",
          "height": 882
        },
        "id": "9CcwmN81ubqB",
        "outputId": "0672a424-6f2b-43fd-a8f0-7ffe7657107c"
      },
      "execution_count": 9,
      "outputs": [
        {
          "output_type": "execute_result",
          "data": {
            "text/plain": [
              "shape: (150, 1)\n",
              "┌───────────┐\n",
              "│ species   │\n",
              "│ ---       │\n",
              "│ str       │\n",
              "╞═══════════╡\n",
              "│ setosa    │\n",
              "│ setosa    │\n",
              "│ setosa    │\n",
              "│ setosa    │\n",
              "│ …         │\n",
              "│ virginica │\n",
              "│ virginica │\n",
              "│ virginica │\n",
              "│ virginica │\n",
              "└───────────┘"
            ],
            "text/html": [
              "<div><style>\n",
              ".dataframe > thead > tr > th,\n",
              ".dataframe > tbody > tr > td {\n",
              "  text-align: right;\n",
              "}\n",
              "</style>\n",
              "<small>shape: (150, 1)</small><table border=\"1\" class=\"dataframe\"><thead><tr><th>species</th></tr><tr><td>str</td></tr></thead><tbody><tr><td>&quot;setosa&quot;</td></tr><tr><td>&quot;setosa&quot;</td></tr><tr><td>&quot;setosa&quot;</td></tr><tr><td>&quot;setosa&quot;</td></tr><tr><td>&quot;setosa&quot;</td></tr><tr><td>&quot;setosa&quot;</td></tr><tr><td>&quot;setosa&quot;</td></tr><tr><td>&quot;setosa&quot;</td></tr><tr><td>&quot;setosa&quot;</td></tr><tr><td>&quot;setosa&quot;</td></tr><tr><td>&quot;setosa&quot;</td></tr><tr><td>&quot;setosa&quot;</td></tr><tr><td>&hellip;</td></tr><tr><td>&quot;virginica&quot;</td></tr><tr><td>&quot;virginica&quot;</td></tr><tr><td>&quot;virginica&quot;</td></tr><tr><td>&quot;virginica&quot;</td></tr><tr><td>&quot;virginica&quot;</td></tr><tr><td>&quot;virginica&quot;</td></tr><tr><td>&quot;virginica&quot;</td></tr><tr><td>&quot;virginica&quot;</td></tr><tr><td>&quot;virginica&quot;</td></tr><tr><td>&quot;virginica&quot;</td></tr><tr><td>&quot;virginica&quot;</td></tr><tr><td>&quot;virginica&quot;</td></tr></tbody></table></div>"
            ]
          },
          "metadata": {},
          "execution_count": 9
        }
      ]
    },
    {
      "cell_type": "markdown",
      "source": [
        "> Polars also support the square bracket indexing method, the method that most Pandas developers are familiar with. However, the documentation for Polars specifically mentioned that the square bracket indexing method is an anti-pattern for Polars. While you can do the above using df[:,[0]], there is a possibility that the square bracket indexing method may be removed in a future version of Polars."
      ],
      "metadata": {
        "id": "G459ZMUTuew4"
      }
    },
    {
      "cell_type": "code",
      "source": [
        "df.select(\n",
        "    'species'\n",
        ")"
      ],
      "metadata": {
        "colab": {
          "base_uri": "https://localhost:8080/",
          "height": 882
        },
        "id": "FRTrspP6tGDX",
        "outputId": "f9f974db-343a-46ad-fb26-f43b96122628"
      },
      "execution_count": 10,
      "outputs": [
        {
          "output_type": "execute_result",
          "data": {
            "text/plain": [
              "shape: (150, 1)\n",
              "┌───────────┐\n",
              "│ species   │\n",
              "│ ---       │\n",
              "│ str       │\n",
              "╞═══════════╡\n",
              "│ setosa    │\n",
              "│ setosa    │\n",
              "│ setosa    │\n",
              "│ setosa    │\n",
              "│ …         │\n",
              "│ virginica │\n",
              "│ virginica │\n",
              "│ virginica │\n",
              "│ virginica │\n",
              "└───────────┘"
            ],
            "text/html": [
              "<div><style>\n",
              ".dataframe > thead > tr > th,\n",
              ".dataframe > tbody > tr > td {\n",
              "  text-align: right;\n",
              "}\n",
              "</style>\n",
              "<small>shape: (150, 1)</small><table border=\"1\" class=\"dataframe\"><thead><tr><th>species</th></tr><tr><td>str</td></tr></thead><tbody><tr><td>&quot;setosa&quot;</td></tr><tr><td>&quot;setosa&quot;</td></tr><tr><td>&quot;setosa&quot;</td></tr><tr><td>&quot;setosa&quot;</td></tr><tr><td>&quot;setosa&quot;</td></tr><tr><td>&quot;setosa&quot;</td></tr><tr><td>&quot;setosa&quot;</td></tr><tr><td>&quot;setosa&quot;</td></tr><tr><td>&quot;setosa&quot;</td></tr><tr><td>&quot;setosa&quot;</td></tr><tr><td>&quot;setosa&quot;</td></tr><tr><td>&quot;setosa&quot;</td></tr><tr><td>&hellip;</td></tr><tr><td>&quot;virginica&quot;</td></tr><tr><td>&quot;virginica&quot;</td></tr><tr><td>&quot;virginica&quot;</td></tr><tr><td>&quot;virginica&quot;</td></tr><tr><td>&quot;virginica&quot;</td></tr><tr><td>&quot;virginica&quot;</td></tr><tr><td>&quot;virginica&quot;</td></tr><tr><td>&quot;virginica&quot;</td></tr><tr><td>&quot;virginica&quot;</td></tr><tr><td>&quot;virginica&quot;</td></tr><tr><td>&quot;virginica&quot;</td></tr><tr><td>&quot;virginica&quot;</td></tr></tbody></table></div>"
            ]
          },
          "metadata": {},
          "execution_count": 10
        }
      ]
    },
    {
      "cell_type": "code",
      "source": [
        "df.select(\n",
        "    ['species','sepal_length']\n",
        ")"
      ],
      "metadata": {
        "colab": {
          "base_uri": "https://localhost:8080/",
          "height": 882
        },
        "id": "d4BdzUocuy4C",
        "outputId": "45081788-8fcf-4fb3-9796-8b4b75833da7"
      },
      "execution_count": 11,
      "outputs": [
        {
          "output_type": "execute_result",
          "data": {
            "text/plain": [
              "shape: (150, 2)\n",
              "┌───────────┬──────────────┐\n",
              "│ species   ┆ sepal_length │\n",
              "│ ---       ┆ ---          │\n",
              "│ str       ┆ f64          │\n",
              "╞═══════════╪══════════════╡\n",
              "│ setosa    ┆ 5.1          │\n",
              "│ setosa    ┆ 4.9          │\n",
              "│ setosa    ┆ 4.7          │\n",
              "│ setosa    ┆ 4.6          │\n",
              "│ …         ┆ …            │\n",
              "│ virginica ┆ 6.3          │\n",
              "│ virginica ┆ 6.5          │\n",
              "│ virginica ┆ 6.2          │\n",
              "│ virginica ┆ 5.9          │\n",
              "└───────────┴──────────────┘"
            ],
            "text/html": [
              "<div><style>\n",
              ".dataframe > thead > tr > th,\n",
              ".dataframe > tbody > tr > td {\n",
              "  text-align: right;\n",
              "}\n",
              "</style>\n",
              "<small>shape: (150, 2)</small><table border=\"1\" class=\"dataframe\"><thead><tr><th>species</th><th>sepal_length</th></tr><tr><td>str</td><td>f64</td></tr></thead><tbody><tr><td>&quot;setosa&quot;</td><td>5.1</td></tr><tr><td>&quot;setosa&quot;</td><td>4.9</td></tr><tr><td>&quot;setosa&quot;</td><td>4.7</td></tr><tr><td>&quot;setosa&quot;</td><td>4.6</td></tr><tr><td>&quot;setosa&quot;</td><td>5.0</td></tr><tr><td>&quot;setosa&quot;</td><td>5.4</td></tr><tr><td>&quot;setosa&quot;</td><td>4.6</td></tr><tr><td>&quot;setosa&quot;</td><td>5.0</td></tr><tr><td>&quot;setosa&quot;</td><td>4.4</td></tr><tr><td>&quot;setosa&quot;</td><td>4.9</td></tr><tr><td>&quot;setosa&quot;</td><td>5.4</td></tr><tr><td>&quot;setosa&quot;</td><td>4.8</td></tr><tr><td>&hellip;</td><td>&hellip;</td></tr><tr><td>&quot;virginica&quot;</td><td>6.0</td></tr><tr><td>&quot;virginica&quot;</td><td>6.9</td></tr><tr><td>&quot;virginica&quot;</td><td>6.7</td></tr><tr><td>&quot;virginica&quot;</td><td>6.9</td></tr><tr><td>&quot;virginica&quot;</td><td>5.8</td></tr><tr><td>&quot;virginica&quot;</td><td>6.8</td></tr><tr><td>&quot;virginica&quot;</td><td>6.7</td></tr><tr><td>&quot;virginica&quot;</td><td>6.7</td></tr><tr><td>&quot;virginica&quot;</td><td>6.3</td></tr><tr><td>&quot;virginica&quot;</td><td>6.5</td></tr><tr><td>&quot;virginica&quot;</td><td>6.2</td></tr><tr><td>&quot;virginica&quot;</td><td>5.9</td></tr></tbody></table></div>"
            ]
          },
          "metadata": {},
          "execution_count": 11
        }
      ]
    },
    {
      "cell_type": "markdown",
      "source": [
        "If you want to retrieve all the integer (specifically Int64) columns in the dataframe, you can use an expression within the select() method:"
      ],
      "metadata": {
        "id": "jzYUD8znvDfH"
      }
    },
    {
      "cell_type": "code",
      "source": [
        "df.select(\n",
        "    pl.col(pl.Float64)\n",
        ")"
      ],
      "metadata": {
        "colab": {
          "base_uri": "https://localhost:8080/",
          "height": 882
        },
        "id": "_bcnjQ7DvE2u",
        "outputId": "5c452835-6a71-4327-fa00-d41b24264855"
      },
      "execution_count": 12,
      "outputs": [
        {
          "output_type": "execute_result",
          "data": {
            "text/plain": [
              "shape: (150, 4)\n",
              "┌──────────────┬─────────────┬──────────────┬─────────────┐\n",
              "│ sepal_length ┆ sepal_width ┆ petal_length ┆ petal_width │\n",
              "│ ---          ┆ ---         ┆ ---          ┆ ---         │\n",
              "│ f64          ┆ f64         ┆ f64          ┆ f64         │\n",
              "╞══════════════╪═════════════╪══════════════╪═════════════╡\n",
              "│ 5.1          ┆ 3.5         ┆ 1.4          ┆ 0.2         │\n",
              "│ 4.9          ┆ 3.0         ┆ 1.4          ┆ 0.2         │\n",
              "│ 4.7          ┆ 3.2         ┆ 1.3          ┆ 0.2         │\n",
              "│ 4.6          ┆ 3.1         ┆ 1.5          ┆ 0.2         │\n",
              "│ …            ┆ …           ┆ …            ┆ …           │\n",
              "│ 6.3          ┆ 2.5         ┆ 5.0          ┆ 1.9         │\n",
              "│ 6.5          ┆ 3.0         ┆ 5.2          ┆ 2.0         │\n",
              "│ 6.2          ┆ 3.4         ┆ 5.4          ┆ 2.3         │\n",
              "│ 5.9          ┆ 3.0         ┆ 5.1          ┆ 1.8         │\n",
              "└──────────────┴─────────────┴──────────────┴─────────────┘"
            ],
            "text/html": [
              "<div><style>\n",
              ".dataframe > thead > tr > th,\n",
              ".dataframe > tbody > tr > td {\n",
              "  text-align: right;\n",
              "}\n",
              "</style>\n",
              "<small>shape: (150, 4)</small><table border=\"1\" class=\"dataframe\"><thead><tr><th>sepal_length</th><th>sepal_width</th><th>petal_length</th><th>petal_width</th></tr><tr><td>f64</td><td>f64</td><td>f64</td><td>f64</td></tr></thead><tbody><tr><td>5.1</td><td>3.5</td><td>1.4</td><td>0.2</td></tr><tr><td>4.9</td><td>3.0</td><td>1.4</td><td>0.2</td></tr><tr><td>4.7</td><td>3.2</td><td>1.3</td><td>0.2</td></tr><tr><td>4.6</td><td>3.1</td><td>1.5</td><td>0.2</td></tr><tr><td>5.0</td><td>3.6</td><td>1.4</td><td>0.2</td></tr><tr><td>5.4</td><td>3.9</td><td>1.7</td><td>0.4</td></tr><tr><td>4.6</td><td>3.4</td><td>1.4</td><td>0.3</td></tr><tr><td>5.0</td><td>3.4</td><td>1.5</td><td>0.2</td></tr><tr><td>4.4</td><td>2.9</td><td>1.4</td><td>0.2</td></tr><tr><td>4.9</td><td>3.1</td><td>1.5</td><td>0.1</td></tr><tr><td>5.4</td><td>3.7</td><td>1.5</td><td>0.2</td></tr><tr><td>4.8</td><td>3.4</td><td>1.6</td><td>0.2</td></tr><tr><td>&hellip;</td><td>&hellip;</td><td>&hellip;</td><td>&hellip;</td></tr><tr><td>6.0</td><td>3.0</td><td>4.8</td><td>1.8</td></tr><tr><td>6.9</td><td>3.1</td><td>5.4</td><td>2.1</td></tr><tr><td>6.7</td><td>3.1</td><td>5.6</td><td>2.4</td></tr><tr><td>6.9</td><td>3.1</td><td>5.1</td><td>2.3</td></tr><tr><td>5.8</td><td>2.7</td><td>5.1</td><td>1.9</td></tr><tr><td>6.8</td><td>3.2</td><td>5.9</td><td>2.3</td></tr><tr><td>6.7</td><td>3.3</td><td>5.7</td><td>2.5</td></tr><tr><td>6.7</td><td>3.0</td><td>5.2</td><td>2.3</td></tr><tr><td>6.3</td><td>2.5</td><td>5.0</td><td>1.9</td></tr><tr><td>6.5</td><td>3.0</td><td>5.2</td><td>2.0</td></tr><tr><td>6.2</td><td>3.4</td><td>5.4</td><td>2.3</td></tr><tr><td>5.9</td><td>3.0</td><td>5.1</td><td>1.8</td></tr></tbody></table></div>"
            ]
          },
          "metadata": {},
          "execution_count": 12
        }
      ]
    },
    {
      "cell_type": "markdown",
      "source": [
        "> The statement pl.col(pl.Float64) is known as an expression in Polars. This expression is interpreted as “get me all the columns whose data type is Float64. "
      ],
      "metadata": {
        "id": "ZZ_Er_9TvZTE"
      }
    },
    {
      "cell_type": "code",
      "source": [
        "df.select(\n",
        "    pl.col(['species','sepal_length']).sort_by('sepal_length', descending=True)    \n",
        ")"
      ],
      "metadata": {
        "colab": {
          "base_uri": "https://localhost:8080/",
          "height": 882
        },
        "id": "kz5lYNgJzG6B",
        "outputId": "cb349293-cfcb-4e76-8aa5-b60e2c1367da"
      },
      "execution_count": 13,
      "outputs": [
        {
          "output_type": "execute_result",
          "data": {
            "text/plain": [
              "shape: (150, 2)\n",
              "┌───────────┬──────────────┐\n",
              "│ species   ┆ sepal_length │\n",
              "│ ---       ┆ ---          │\n",
              "│ str       ┆ f64          │\n",
              "╞═══════════╪══════════════╡\n",
              "│ virginica ┆ 7.9          │\n",
              "│ virginica ┆ 7.7          │\n",
              "│ virginica ┆ 7.7          │\n",
              "│ virginica ┆ 7.7          │\n",
              "│ …         ┆ …            │\n",
              "│ setosa    ┆ 4.4          │\n",
              "│ setosa    ┆ 4.4          │\n",
              "│ setosa    ┆ 4.4          │\n",
              "│ setosa    ┆ 4.3          │\n",
              "└───────────┴──────────────┘"
            ],
            "text/html": [
              "<div><style>\n",
              ".dataframe > thead > tr > th,\n",
              ".dataframe > tbody > tr > td {\n",
              "  text-align: right;\n",
              "}\n",
              "</style>\n",
              "<small>shape: (150, 2)</small><table border=\"1\" class=\"dataframe\"><thead><tr><th>species</th><th>sepal_length</th></tr><tr><td>str</td><td>f64</td></tr></thead><tbody><tr><td>&quot;virginica&quot;</td><td>7.9</td></tr><tr><td>&quot;virginica&quot;</td><td>7.7</td></tr><tr><td>&quot;virginica&quot;</td><td>7.7</td></tr><tr><td>&quot;virginica&quot;</td><td>7.7</td></tr><tr><td>&quot;virginica&quot;</td><td>7.7</td></tr><tr><td>&quot;virginica&quot;</td><td>7.6</td></tr><tr><td>&quot;virginica&quot;</td><td>7.4</td></tr><tr><td>&quot;virginica&quot;</td><td>7.3</td></tr><tr><td>&quot;virginica&quot;</td><td>7.2</td></tr><tr><td>&quot;virginica&quot;</td><td>7.2</td></tr><tr><td>&quot;virginica&quot;</td><td>7.2</td></tr><tr><td>&quot;virginica&quot;</td><td>7.1</td></tr><tr><td>&hellip;</td><td>&hellip;</td></tr><tr><td>&quot;setosa&quot;</td><td>4.8</td></tr><tr><td>&quot;setosa&quot;</td><td>4.7</td></tr><tr><td>&quot;setosa&quot;</td><td>4.7</td></tr><tr><td>&quot;setosa&quot;</td><td>4.6</td></tr><tr><td>&quot;setosa&quot;</td><td>4.6</td></tr><tr><td>&quot;setosa&quot;</td><td>4.6</td></tr><tr><td>&quot;setosa&quot;</td><td>4.6</td></tr><tr><td>&quot;setosa&quot;</td><td>4.5</td></tr><tr><td>&quot;setosa&quot;</td><td>4.4</td></tr><tr><td>&quot;setosa&quot;</td><td>4.4</td></tr><tr><td>&quot;setosa&quot;</td><td>4.4</td></tr><tr><td>&quot;setosa&quot;</td><td>4.3</td></tr></tbody></table></div>"
            ]
          },
          "metadata": {},
          "execution_count": 13
        }
      ]
    },
    {
      "cell_type": "code",
      "source": [
        "df.select(\n",
        "    [pl.col(pl.Float64),'species']\n",
        ")"
      ],
      "metadata": {
        "colab": {
          "base_uri": "https://localhost:8080/",
          "height": 882
        },
        "id": "X3Umkvamz2fm",
        "outputId": "1b57f4ba-face-4e98-9c26-5689e1910201"
      },
      "execution_count": 14,
      "outputs": [
        {
          "output_type": "execute_result",
          "data": {
            "text/plain": [
              "shape: (150, 5)\n",
              "┌──────────────┬─────────────┬──────────────┬─────────────┬───────────┐\n",
              "│ sepal_length ┆ sepal_width ┆ petal_length ┆ petal_width ┆ species   │\n",
              "│ ---          ┆ ---         ┆ ---          ┆ ---         ┆ ---       │\n",
              "│ f64          ┆ f64         ┆ f64          ┆ f64         ┆ str       │\n",
              "╞══════════════╪═════════════╪══════════════╪═════════════╪═══════════╡\n",
              "│ 5.1          ┆ 3.5         ┆ 1.4          ┆ 0.2         ┆ setosa    │\n",
              "│ 4.9          ┆ 3.0         ┆ 1.4          ┆ 0.2         ┆ setosa    │\n",
              "│ 4.7          ┆ 3.2         ┆ 1.3          ┆ 0.2         ┆ setosa    │\n",
              "│ 4.6          ┆ 3.1         ┆ 1.5          ┆ 0.2         ┆ setosa    │\n",
              "│ …            ┆ …           ┆ …            ┆ …           ┆ …         │\n",
              "│ 6.3          ┆ 2.5         ┆ 5.0          ┆ 1.9         ┆ virginica │\n",
              "│ 6.5          ┆ 3.0         ┆ 5.2          ┆ 2.0         ┆ virginica │\n",
              "│ 6.2          ┆ 3.4         ┆ 5.4          ┆ 2.3         ┆ virginica │\n",
              "│ 5.9          ┆ 3.0         ┆ 5.1          ┆ 1.8         ┆ virginica │\n",
              "└──────────────┴─────────────┴──────────────┴─────────────┴───────────┘"
            ],
            "text/html": [
              "<div><style>\n",
              ".dataframe > thead > tr > th,\n",
              ".dataframe > tbody > tr > td {\n",
              "  text-align: right;\n",
              "}\n",
              "</style>\n",
              "<small>shape: (150, 5)</small><table border=\"1\" class=\"dataframe\"><thead><tr><th>sepal_length</th><th>sepal_width</th><th>petal_length</th><th>petal_width</th><th>species</th></tr><tr><td>f64</td><td>f64</td><td>f64</td><td>f64</td><td>str</td></tr></thead><tbody><tr><td>5.1</td><td>3.5</td><td>1.4</td><td>0.2</td><td>&quot;setosa&quot;</td></tr><tr><td>4.9</td><td>3.0</td><td>1.4</td><td>0.2</td><td>&quot;setosa&quot;</td></tr><tr><td>4.7</td><td>3.2</td><td>1.3</td><td>0.2</td><td>&quot;setosa&quot;</td></tr><tr><td>4.6</td><td>3.1</td><td>1.5</td><td>0.2</td><td>&quot;setosa&quot;</td></tr><tr><td>5.0</td><td>3.6</td><td>1.4</td><td>0.2</td><td>&quot;setosa&quot;</td></tr><tr><td>5.4</td><td>3.9</td><td>1.7</td><td>0.4</td><td>&quot;setosa&quot;</td></tr><tr><td>4.6</td><td>3.4</td><td>1.4</td><td>0.3</td><td>&quot;setosa&quot;</td></tr><tr><td>5.0</td><td>3.4</td><td>1.5</td><td>0.2</td><td>&quot;setosa&quot;</td></tr><tr><td>4.4</td><td>2.9</td><td>1.4</td><td>0.2</td><td>&quot;setosa&quot;</td></tr><tr><td>4.9</td><td>3.1</td><td>1.5</td><td>0.1</td><td>&quot;setosa&quot;</td></tr><tr><td>5.4</td><td>3.7</td><td>1.5</td><td>0.2</td><td>&quot;setosa&quot;</td></tr><tr><td>4.8</td><td>3.4</td><td>1.6</td><td>0.2</td><td>&quot;setosa&quot;</td></tr><tr><td>&hellip;</td><td>&hellip;</td><td>&hellip;</td><td>&hellip;</td><td>&hellip;</td></tr><tr><td>6.0</td><td>3.0</td><td>4.8</td><td>1.8</td><td>&quot;virginica&quot;</td></tr><tr><td>6.9</td><td>3.1</td><td>5.4</td><td>2.1</td><td>&quot;virginica&quot;</td></tr><tr><td>6.7</td><td>3.1</td><td>5.6</td><td>2.4</td><td>&quot;virginica&quot;</td></tr><tr><td>6.9</td><td>3.1</td><td>5.1</td><td>2.3</td><td>&quot;virginica&quot;</td></tr><tr><td>5.8</td><td>2.7</td><td>5.1</td><td>1.9</td><td>&quot;virginica&quot;</td></tr><tr><td>6.8</td><td>3.2</td><td>5.9</td><td>2.3</td><td>&quot;virginica&quot;</td></tr><tr><td>6.7</td><td>3.3</td><td>5.7</td><td>2.5</td><td>&quot;virginica&quot;</td></tr><tr><td>6.7</td><td>3.0</td><td>5.2</td><td>2.3</td><td>&quot;virginica&quot;</td></tr><tr><td>6.3</td><td>2.5</td><td>5.0</td><td>1.9</td><td>&quot;virginica&quot;</td></tr><tr><td>6.5</td><td>3.0</td><td>5.2</td><td>2.0</td><td>&quot;virginica&quot;</td></tr><tr><td>6.2</td><td>3.4</td><td>5.4</td><td>2.3</td><td>&quot;virginica&quot;</td></tr><tr><td>5.9</td><td>3.0</td><td>5.1</td><td>1.8</td><td>&quot;virginica&quot;</td></tr></tbody></table></div>"
            ]
          },
          "metadata": {},
          "execution_count": 14
        }
      ]
    },
    {
      "cell_type": "code",
      "source": [
        "df.select(\n",
        "    [pl.col(pl.Utf8)]\n",
        ")"
      ],
      "metadata": {
        "colab": {
          "base_uri": "https://localhost:8080/",
          "height": 882
        },
        "id": "8g3kiYyk0DJD",
        "outputId": "d6f68b8f-f021-4915-80dd-6fbbc964ba66"
      },
      "execution_count": 15,
      "outputs": [
        {
          "output_type": "execute_result",
          "data": {
            "text/plain": [
              "shape: (150, 1)\n",
              "┌───────────┐\n",
              "│ species   │\n",
              "│ ---       │\n",
              "│ str       │\n",
              "╞═══════════╡\n",
              "│ setosa    │\n",
              "│ setosa    │\n",
              "│ setosa    │\n",
              "│ setosa    │\n",
              "│ …         │\n",
              "│ virginica │\n",
              "│ virginica │\n",
              "│ virginica │\n",
              "│ virginica │\n",
              "└───────────┘"
            ],
            "text/html": [
              "<div><style>\n",
              ".dataframe > thead > tr > th,\n",
              ".dataframe > tbody > tr > td {\n",
              "  text-align: right;\n",
              "}\n",
              "</style>\n",
              "<small>shape: (150, 1)</small><table border=\"1\" class=\"dataframe\"><thead><tr><th>species</th></tr><tr><td>str</td></tr></thead><tbody><tr><td>&quot;setosa&quot;</td></tr><tr><td>&quot;setosa&quot;</td></tr><tr><td>&quot;setosa&quot;</td></tr><tr><td>&quot;setosa&quot;</td></tr><tr><td>&quot;setosa&quot;</td></tr><tr><td>&quot;setosa&quot;</td></tr><tr><td>&quot;setosa&quot;</td></tr><tr><td>&quot;setosa&quot;</td></tr><tr><td>&quot;setosa&quot;</td></tr><tr><td>&quot;setosa&quot;</td></tr><tr><td>&quot;setosa&quot;</td></tr><tr><td>&quot;setosa&quot;</td></tr><tr><td>&hellip;</td></tr><tr><td>&quot;virginica&quot;</td></tr><tr><td>&quot;virginica&quot;</td></tr><tr><td>&quot;virginica&quot;</td></tr><tr><td>&quot;virginica&quot;</td></tr><tr><td>&quot;virginica&quot;</td></tr><tr><td>&quot;virginica&quot;</td></tr><tr><td>&quot;virginica&quot;</td></tr><tr><td>&quot;virginica&quot;</td></tr><tr><td>&quot;virginica&quot;</td></tr><tr><td>&quot;virginica&quot;</td></tr><tr><td>&quot;virginica&quot;</td></tr><tr><td>&quot;virginica&quot;</td></tr></tbody></table></div>"
            ]
          },
          "metadata": {},
          "execution_count": 15
        }
      ]
    },
    {
      "cell_type": "markdown",
      "source": [
        "#Selecting Row(s)\n",
        "To select a single row in a dataframe, pass in the row number using the row() method:"
      ],
      "metadata": {
        "id": "coSsb_mT1xh3"
      }
    },
    {
      "cell_type": "code",
      "source": [
        "df.row(0)   # get the first row"
      ],
      "metadata": {
        "colab": {
          "base_uri": "https://localhost:8080/"
        },
        "id": "ZFoT5cQf1zxG",
        "outputId": "d2b46971-95ae-47ed-935e-c79ebc74e82a"
      },
      "execution_count": 16,
      "outputs": [
        {
          "output_type": "execute_result",
          "data": {
            "text/plain": [
              "(5.1, 3.5, 1.4, 0.2, 'setosa')"
            ]
          },
          "metadata": {},
          "execution_count": 16
        }
      ]
    },
    {
      "cell_type": "markdown",
      "source": [
        "If you need to get multiple rows based on row numbers, you need to use the square bracket indexing method, although it is not the recommended way to do in Polars. Here are some examples:\n",
        "\n",
        "> - df[:2]# first 2 rows\n",
        "> - df[[1,3]] # second and fourth row\n",
        "\n",
        "To select multiple rows, Polars recommends using the filter() function. For example, if you want to retrieve all Apple’s products, you can use the following expression:"
      ],
      "metadata": {
        "id": "jHF7o26y2KDh"
      }
    },
    {
      "cell_type": "code",
      "source": [
        "df.filter(\n",
        "    pl.col('species') == 'setosa'\n",
        ")"
      ],
      "metadata": {
        "colab": {
          "base_uri": "https://localhost:8080/",
          "height": 882
        },
        "id": "Vb4UEo1U2boS",
        "outputId": "8dff0f01-f728-49fe-f2cb-735c35408508"
      },
      "execution_count": 17,
      "outputs": [
        {
          "output_type": "execute_result",
          "data": {
            "text/plain": [
              "shape: (50, 5)\n",
              "┌──────────────┬─────────────┬──────────────┬─────────────┬─────────┐\n",
              "│ sepal_length ┆ sepal_width ┆ petal_length ┆ petal_width ┆ species │\n",
              "│ ---          ┆ ---         ┆ ---          ┆ ---         ┆ ---     │\n",
              "│ f64          ┆ f64         ┆ f64          ┆ f64         ┆ str     │\n",
              "╞══════════════╪═════════════╪══════════════╪═════════════╪═════════╡\n",
              "│ 5.1          ┆ 3.5         ┆ 1.4          ┆ 0.2         ┆ setosa  │\n",
              "│ 4.9          ┆ 3.0         ┆ 1.4          ┆ 0.2         ┆ setosa  │\n",
              "│ 4.7          ┆ 3.2         ┆ 1.3          ┆ 0.2         ┆ setosa  │\n",
              "│ 4.6          ┆ 3.1         ┆ 1.5          ┆ 0.2         ┆ setosa  │\n",
              "│ …            ┆ …           ┆ …            ┆ …           ┆ …       │\n",
              "│ 5.1          ┆ 3.8         ┆ 1.6          ┆ 0.2         ┆ setosa  │\n",
              "│ 4.6          ┆ 3.2         ┆ 1.4          ┆ 0.2         ┆ setosa  │\n",
              "│ 5.3          ┆ 3.7         ┆ 1.5          ┆ 0.2         ┆ setosa  │\n",
              "│ 5.0          ┆ 3.3         ┆ 1.4          ┆ 0.2         ┆ setosa  │\n",
              "└──────────────┴─────────────┴──────────────┴─────────────┴─────────┘"
            ],
            "text/html": [
              "<div><style>\n",
              ".dataframe > thead > tr > th,\n",
              ".dataframe > tbody > tr > td {\n",
              "  text-align: right;\n",
              "}\n",
              "</style>\n",
              "<small>shape: (50, 5)</small><table border=\"1\" class=\"dataframe\"><thead><tr><th>sepal_length</th><th>sepal_width</th><th>petal_length</th><th>petal_width</th><th>species</th></tr><tr><td>f64</td><td>f64</td><td>f64</td><td>f64</td><td>str</td></tr></thead><tbody><tr><td>5.1</td><td>3.5</td><td>1.4</td><td>0.2</td><td>&quot;setosa&quot;</td></tr><tr><td>4.9</td><td>3.0</td><td>1.4</td><td>0.2</td><td>&quot;setosa&quot;</td></tr><tr><td>4.7</td><td>3.2</td><td>1.3</td><td>0.2</td><td>&quot;setosa&quot;</td></tr><tr><td>4.6</td><td>3.1</td><td>1.5</td><td>0.2</td><td>&quot;setosa&quot;</td></tr><tr><td>5.0</td><td>3.6</td><td>1.4</td><td>0.2</td><td>&quot;setosa&quot;</td></tr><tr><td>5.4</td><td>3.9</td><td>1.7</td><td>0.4</td><td>&quot;setosa&quot;</td></tr><tr><td>4.6</td><td>3.4</td><td>1.4</td><td>0.3</td><td>&quot;setosa&quot;</td></tr><tr><td>5.0</td><td>3.4</td><td>1.5</td><td>0.2</td><td>&quot;setosa&quot;</td></tr><tr><td>4.4</td><td>2.9</td><td>1.4</td><td>0.2</td><td>&quot;setosa&quot;</td></tr><tr><td>4.9</td><td>3.1</td><td>1.5</td><td>0.1</td><td>&quot;setosa&quot;</td></tr><tr><td>5.4</td><td>3.7</td><td>1.5</td><td>0.2</td><td>&quot;setosa&quot;</td></tr><tr><td>4.8</td><td>3.4</td><td>1.6</td><td>0.2</td><td>&quot;setosa&quot;</td></tr><tr><td>&hellip;</td><td>&hellip;</td><td>&hellip;</td><td>&hellip;</td><td>&hellip;</td></tr><tr><td>4.4</td><td>3.0</td><td>1.3</td><td>0.2</td><td>&quot;setosa&quot;</td></tr><tr><td>5.1</td><td>3.4</td><td>1.5</td><td>0.2</td><td>&quot;setosa&quot;</td></tr><tr><td>5.0</td><td>3.5</td><td>1.3</td><td>0.3</td><td>&quot;setosa&quot;</td></tr><tr><td>4.5</td><td>2.3</td><td>1.3</td><td>0.3</td><td>&quot;setosa&quot;</td></tr><tr><td>4.4</td><td>3.2</td><td>1.3</td><td>0.2</td><td>&quot;setosa&quot;</td></tr><tr><td>5.0</td><td>3.5</td><td>1.6</td><td>0.6</td><td>&quot;setosa&quot;</td></tr><tr><td>5.1</td><td>3.8</td><td>1.9</td><td>0.4</td><td>&quot;setosa&quot;</td></tr><tr><td>4.8</td><td>3.0</td><td>1.4</td><td>0.3</td><td>&quot;setosa&quot;</td></tr><tr><td>5.1</td><td>3.8</td><td>1.6</td><td>0.2</td><td>&quot;setosa&quot;</td></tr><tr><td>4.6</td><td>3.2</td><td>1.4</td><td>0.2</td><td>&quot;setosa&quot;</td></tr><tr><td>5.3</td><td>3.7</td><td>1.5</td><td>0.2</td><td>&quot;setosa&quot;</td></tr><tr><td>5.0</td><td>3.3</td><td>1.4</td><td>0.2</td><td>&quot;setosa&quot;</td></tr></tbody></table></div>"
            ]
          },
          "metadata": {},
          "execution_count": 17
        }
      ]
    },
    {
      "cell_type": "markdown",
      "source": [
        "You can also specify multiple conditions using the logical operator:\n"
      ],
      "metadata": {
        "id": "LPT79jH52nqv"
      }
    },
    {
      "cell_type": "code",
      "source": [
        "df.filter(\n",
        "    (pl.col('species') == 'setosa') | \n",
        "    (pl.col('species') == 'versicolor')\n",
        ")"
      ],
      "metadata": {
        "colab": {
          "base_uri": "https://localhost:8080/",
          "height": 882
        },
        "id": "cXsJuy0x2pVR",
        "outputId": "6422032b-10da-4572-b5ac-dfc7fd6de1d3"
      },
      "execution_count": 18,
      "outputs": [
        {
          "output_type": "execute_result",
          "data": {
            "text/plain": [
              "shape: (100, 5)\n",
              "┌──────────────┬─────────────┬──────────────┬─────────────┬────────────┐\n",
              "│ sepal_length ┆ sepal_width ┆ petal_length ┆ petal_width ┆ species    │\n",
              "│ ---          ┆ ---         ┆ ---          ┆ ---         ┆ ---        │\n",
              "│ f64          ┆ f64         ┆ f64          ┆ f64         ┆ str        │\n",
              "╞══════════════╪═════════════╪══════════════╪═════════════╪════════════╡\n",
              "│ 5.1          ┆ 3.5         ┆ 1.4          ┆ 0.2         ┆ setosa     │\n",
              "│ 4.9          ┆ 3.0         ┆ 1.4          ┆ 0.2         ┆ setosa     │\n",
              "│ 4.7          ┆ 3.2         ┆ 1.3          ┆ 0.2         ┆ setosa     │\n",
              "│ 4.6          ┆ 3.1         ┆ 1.5          ┆ 0.2         ┆ setosa     │\n",
              "│ …            ┆ …           ┆ …            ┆ …           ┆ …          │\n",
              "│ 5.7          ┆ 2.9         ┆ 4.2          ┆ 1.3         ┆ versicolor │\n",
              "│ 6.2          ┆ 2.9         ┆ 4.3          ┆ 1.3         ┆ versicolor │\n",
              "│ 5.1          ┆ 2.5         ┆ 3.0          ┆ 1.1         ┆ versicolor │\n",
              "│ 5.7          ┆ 2.8         ┆ 4.1          ┆ 1.3         ┆ versicolor │\n",
              "└──────────────┴─────────────┴──────────────┴─────────────┴────────────┘"
            ],
            "text/html": [
              "<div><style>\n",
              ".dataframe > thead > tr > th,\n",
              ".dataframe > tbody > tr > td {\n",
              "  text-align: right;\n",
              "}\n",
              "</style>\n",
              "<small>shape: (100, 5)</small><table border=\"1\" class=\"dataframe\"><thead><tr><th>sepal_length</th><th>sepal_width</th><th>petal_length</th><th>petal_width</th><th>species</th></tr><tr><td>f64</td><td>f64</td><td>f64</td><td>f64</td><td>str</td></tr></thead><tbody><tr><td>5.1</td><td>3.5</td><td>1.4</td><td>0.2</td><td>&quot;setosa&quot;</td></tr><tr><td>4.9</td><td>3.0</td><td>1.4</td><td>0.2</td><td>&quot;setosa&quot;</td></tr><tr><td>4.7</td><td>3.2</td><td>1.3</td><td>0.2</td><td>&quot;setosa&quot;</td></tr><tr><td>4.6</td><td>3.1</td><td>1.5</td><td>0.2</td><td>&quot;setosa&quot;</td></tr><tr><td>5.0</td><td>3.6</td><td>1.4</td><td>0.2</td><td>&quot;setosa&quot;</td></tr><tr><td>5.4</td><td>3.9</td><td>1.7</td><td>0.4</td><td>&quot;setosa&quot;</td></tr><tr><td>4.6</td><td>3.4</td><td>1.4</td><td>0.3</td><td>&quot;setosa&quot;</td></tr><tr><td>5.0</td><td>3.4</td><td>1.5</td><td>0.2</td><td>&quot;setosa&quot;</td></tr><tr><td>4.4</td><td>2.9</td><td>1.4</td><td>0.2</td><td>&quot;setosa&quot;</td></tr><tr><td>4.9</td><td>3.1</td><td>1.5</td><td>0.1</td><td>&quot;setosa&quot;</td></tr><tr><td>5.4</td><td>3.7</td><td>1.5</td><td>0.2</td><td>&quot;setosa&quot;</td></tr><tr><td>4.8</td><td>3.4</td><td>1.6</td><td>0.2</td><td>&quot;setosa&quot;</td></tr><tr><td>&hellip;</td><td>&hellip;</td><td>&hellip;</td><td>&hellip;</td><td>&hellip;</td></tr><tr><td>5.6</td><td>3.0</td><td>4.1</td><td>1.3</td><td>&quot;versicolor&quot;</td></tr><tr><td>5.5</td><td>2.5</td><td>4.0</td><td>1.3</td><td>&quot;versicolor&quot;</td></tr><tr><td>5.5</td><td>2.6</td><td>4.4</td><td>1.2</td><td>&quot;versicolor&quot;</td></tr><tr><td>6.1</td><td>3.0</td><td>4.6</td><td>1.4</td><td>&quot;versicolor&quot;</td></tr><tr><td>5.8</td><td>2.6</td><td>4.0</td><td>1.2</td><td>&quot;versicolor&quot;</td></tr><tr><td>5.0</td><td>2.3</td><td>3.3</td><td>1.0</td><td>&quot;versicolor&quot;</td></tr><tr><td>5.6</td><td>2.7</td><td>4.2</td><td>1.3</td><td>&quot;versicolor&quot;</td></tr><tr><td>5.7</td><td>3.0</td><td>4.2</td><td>1.2</td><td>&quot;versicolor&quot;</td></tr><tr><td>5.7</td><td>2.9</td><td>4.2</td><td>1.3</td><td>&quot;versicolor&quot;</td></tr><tr><td>6.2</td><td>2.9</td><td>4.3</td><td>1.3</td><td>&quot;versicolor&quot;</td></tr><tr><td>5.1</td><td>2.5</td><td>3.0</td><td>1.1</td><td>&quot;versicolor&quot;</td></tr><tr><td>5.7</td><td>2.8</td><td>4.1</td><td>1.3</td><td>&quot;versicolor&quot;</td></tr></tbody></table></div>"
            ]
          },
          "metadata": {},
          "execution_count": 18
        }
      ]
    },
    {
      "cell_type": "markdown",
      "source": [
        "You can use the following logical operators in Polars:\n",
        "\n",
        "> - OR (|)\n",
        "> - AND (&)\n",
        "> - Not (~)"
      ],
      "metadata": {
        "id": "3XaX2lVK2z7X"
      }
    },
    {
      "cell_type": "markdown",
      "source": [
        "#Selecting Rows and Columns\n",
        "Very often, you need to select rows and columns at the same time. You can do so by chaining the filter() and select() methods, like this:"
      ],
      "metadata": {
        "id": "sB108FNy3KU3"
      }
    },
    {
      "cell_type": "code",
      "source": [
        "df.filter(pl.col('species') == 'versicolor').select(['petal_length', 'petal_width'])"
      ],
      "metadata": {
        "colab": {
          "base_uri": "https://localhost:8080/",
          "height": 882
        },
        "id": "HmfYsmV_3Jz0",
        "outputId": "eb6ce981-77a1-4ce5-9b81-8268b627c5e9"
      },
      "execution_count": 19,
      "outputs": [
        {
          "output_type": "execute_result",
          "data": {
            "text/plain": [
              "shape: (50, 2)\n",
              "┌──────────────┬─────────────┐\n",
              "│ petal_length ┆ petal_width │\n",
              "│ ---          ┆ ---         │\n",
              "│ f64          ┆ f64         │\n",
              "╞══════════════╪═════════════╡\n",
              "│ 4.7          ┆ 1.4         │\n",
              "│ 4.5          ┆ 1.5         │\n",
              "│ 4.9          ┆ 1.5         │\n",
              "│ 4.0          ┆ 1.3         │\n",
              "│ …            ┆ …           │\n",
              "│ 4.2          ┆ 1.3         │\n",
              "│ 4.3          ┆ 1.3         │\n",
              "│ 3.0          ┆ 1.1         │\n",
              "│ 4.1          ┆ 1.3         │\n",
              "└──────────────┴─────────────┘"
            ],
            "text/html": [
              "<div><style>\n",
              ".dataframe > thead > tr > th,\n",
              ".dataframe > tbody > tr > td {\n",
              "  text-align: right;\n",
              "}\n",
              "</style>\n",
              "<small>shape: (50, 2)</small><table border=\"1\" class=\"dataframe\"><thead><tr><th>petal_length</th><th>petal_width</th></tr><tr><td>f64</td><td>f64</td></tr></thead><tbody><tr><td>4.7</td><td>1.4</td></tr><tr><td>4.5</td><td>1.5</td></tr><tr><td>4.9</td><td>1.5</td></tr><tr><td>4.0</td><td>1.3</td></tr><tr><td>4.6</td><td>1.5</td></tr><tr><td>4.5</td><td>1.3</td></tr><tr><td>4.7</td><td>1.6</td></tr><tr><td>3.3</td><td>1.0</td></tr><tr><td>4.6</td><td>1.3</td></tr><tr><td>3.9</td><td>1.4</td></tr><tr><td>3.5</td><td>1.0</td></tr><tr><td>4.2</td><td>1.5</td></tr><tr><td>&hellip;</td><td>&hellip;</td></tr><tr><td>4.1</td><td>1.3</td></tr><tr><td>4.0</td><td>1.3</td></tr><tr><td>4.4</td><td>1.2</td></tr><tr><td>4.6</td><td>1.4</td></tr><tr><td>4.0</td><td>1.2</td></tr><tr><td>3.3</td><td>1.0</td></tr><tr><td>4.2</td><td>1.3</td></tr><tr><td>4.2</td><td>1.2</td></tr><tr><td>4.2</td><td>1.3</td></tr><tr><td>4.3</td><td>1.3</td></tr><tr><td>3.0</td><td>1.1</td></tr><tr><td>4.1</td><td>1.3</td></tr></tbody></table></div>"
            ]
          },
          "metadata": {},
          "execution_count": 19
        }
      ]
    },
    {
      "cell_type": "code",
      "source": [
        "df.filter(pl.col(\"sepal_length\") > 5).groupby(\"species\", maintain_order=True).agg(pl.all().sum())"
      ],
      "metadata": {
        "colab": {
          "base_uri": "https://localhost:8080/",
          "height": 192
        },
        "id": "dsRvqQGZsdJ-",
        "outputId": "00b8921f-8e66-4005-a3d4-3e1a0be82bbb"
      },
      "execution_count": 20,
      "outputs": [
        {
          "output_type": "execute_result",
          "data": {
            "text/plain": [
              "shape: (3, 5)\n",
              "┌────────────┬──────────────┬─────────────┬──────────────┬─────────────┐\n",
              "│ species    ┆ sepal_length ┆ sepal_width ┆ petal_length ┆ petal_width │\n",
              "│ ---        ┆ ---          ┆ ---         ┆ ---          ┆ ---         │\n",
              "│ str        ┆ f64          ┆ f64         ┆ f64          ┆ f64         │\n",
              "╞════════════╪══════════════╪═════════════╪══════════════╪═════════════╡\n",
              "│ setosa     ┆ 116.9        ┆ 81.7        ┆ 33.2         ┆ 6.1         │\n",
              "│ versicolor ┆ 281.9        ┆ 131.8       ┆ 202.9        ┆ 63.3        │\n",
              "│ virginica  ┆ 324.5        ┆ 146.2       ┆ 273.1        ┆ 99.6        │\n",
              "└────────────┴──────────────┴─────────────┴──────────────┴─────────────┘"
            ],
            "text/html": [
              "<div><style>\n",
              ".dataframe > thead > tr > th,\n",
              ".dataframe > tbody > tr > td {\n",
              "  text-align: right;\n",
              "}\n",
              "</style>\n",
              "<small>shape: (3, 5)</small><table border=\"1\" class=\"dataframe\"><thead><tr><th>species</th><th>sepal_length</th><th>sepal_width</th><th>petal_length</th><th>petal_width</th></tr><tr><td>str</td><td>f64</td><td>f64</td><td>f64</td><td>f64</td></tr></thead><tbody><tr><td>&quot;setosa&quot;</td><td>116.9</td><td>81.7</td><td>33.2</td><td>6.1</td></tr><tr><td>&quot;versicolor&quot;</td><td>281.9</td><td>131.8</td><td>202.9</td><td>63.3</td></tr><tr><td>&quot;virginica&quot;</td><td>324.5</td><td>146.2</td><td>273.1</td><td>99.6</td></tr></tbody></table></div>"
            ]
          },
          "metadata": {},
          "execution_count": 20
        }
      ]
    },
    {
      "cell_type": "code",
      "source": [],
      "metadata": {
        "id": "7eByJELsscmw"
      },
      "execution_count": 20,
      "outputs": []
    }
  ]
}