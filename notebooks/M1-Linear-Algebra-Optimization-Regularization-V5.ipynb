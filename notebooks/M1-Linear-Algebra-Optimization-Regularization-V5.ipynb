{
  "nbformat": 4,
  "nbformat_minor": 0,
  "metadata": {
    "colab": {
      "provenance": [],
      "toc_visible": true,
      "include_colab_link": true
    },
    "kernelspec": {
      "name": "python3",
      "display_name": "Python 3"
    },
    "language_info": {
      "name": "python"
    }
  },
  "cells": [
    {
      "cell_type": "markdown",
      "metadata": {
        "id": "view-in-github",
        "colab_type": "text"
      },
      "source": [
        "<a href=\"https://colab.research.google.com/github/aaubs/ds-master/blob/main/notebooks/M1-Linear-Algebra-Optimization-Regularization-V5.ipynb\" target=\"_parent\"><img src=\"https://colab.research.google.com/assets/colab-badge.svg\" alt=\"Open In Colab\"/></a>"
      ]
    },
    {
      "cell_type": "markdown",
      "source": [
        "# Tutorial 3: Optimization and Regularization"
      ],
      "metadata": {
        "id": "-FFa6doR0gJC"
      }
    },
    {
      "cell_type": "code",
      "source": [
        "# @title Basic imports\n",
        "import numpy as np\n",
        "import pandas as pd\n",
        "import matplotlib.pyplot as plt\n",
        "import matplotlib\n",
        "from mpl_toolkits.mplot3d import Axes3D\n",
        "from matplotlib import ticker\n",
        "\n",
        "# Display options\n",
        "from IPython.display import display\n",
        "pd.options.display.max_columns = None\n",
        "\n",
        "np.set_printoptions(threshold=30)\n",
        "\n",
        "# Plots style\n",
        "from cycler import cycler\n",
        "\n",
        "matplotlib.rcParams['lines.linewidth'] = 3\n",
        "matplotlib.rcParams['lines.markersize'] = 10\n",
        "\n",
        "matplotlib.rcParams['xtick.labelsize'] = 12\n",
        "matplotlib.rcParams['xtick.color'] = '#A9A9A9'\n",
        "matplotlib.rcParams['ytick.labelsize'] = 12\n",
        "matplotlib.rcParams['ytick.color'] = '#A9A9A9'\n",
        "\n",
        "matplotlib.rcParams['grid.color'] = '#ffffff'\n",
        "\n",
        "matplotlib.rcParams['axes.facecolor'] = '#ffffff'\n",
        "\n",
        "matplotlib.rcParams['axes.spines.left'] = False\n",
        "matplotlib.rcParams['axes.spines.right'] = False\n",
        "matplotlib.rcParams['axes.spines.top'] = False\n",
        "matplotlib.rcParams['axes.spines.bottom'] = False\n",
        "\n",
        "matplotlib.rcParams['axes.prop_cycle'] = cycler(color=['#2EBCE7', '#84EE29', '#FF8177'])"
      ],
      "metadata": {
        "cellView": "form",
        "id": "UY4LEfUicVGW"
      },
      "execution_count": null,
      "outputs": []
    },
    {
      "cell_type": "markdown",
      "source": [
        "# Section 1 Cost Function"
      ],
      "metadata": {
        "id": "EkDCEVux2g8k"
      }
    },
    {
      "cell_type": "markdown",
      "source": [
        "As part of this tutorial, we'll learn how gradient descent can be used to optimize cost functions (i.e., to find the parameters associated with the lowest error) based on derivatives.\n",
        " - define a cost function used for linear regression\n",
        " - implement a prediction function\n",
        " - evaluate the error with a cost function\n",
        " - use the derivative of this cost function to optimize the parameters of the\n",
        " model."
      ],
      "metadata": {
        "id": "9xqLEpJJ0gxJ"
      }
    },
    {
      "cell_type": "markdown",
      "source": [
        "## Section 1.1 Norm"
      ],
      "metadata": {
        "id": "dEsl6HPm2tqL"
      }
    },
    {
      "cell_type": "markdown",
      "source": [
        "Similarly to humans, models require feedback to learn a new skill. In order to improve, you can try something, use the feedback to evaluate your performance, and then iterate until the feedback is positive.\n"
      ],
      "metadata": {
        "id": "nF3P9Czh2aj8"
      }
    },
    {
      "cell_type": "markdown",
      "source": [
        "- You first need a way to assess its performances. The loss is a value that tells you how badly the model performs for a given data sample.\n",
        "- Errors are represented in red: it is the difference between the estimated value (the point on the line) and the true value.\n",
        "- There are multiple ways to\n",
        "calculate a distance. In ML, we use Norm for calculating a distance. A norm is a function that takes a vector and returns its length. It is denoted with double vertical bars: \n",
        "$$\n",
        "||\\vec{u}||\n",
        "$$\n",
        "\n",
        "\n",
        "There are different types of Norm functions, but these two are commonly used:\n",
        "- > $L^1$ Norm: is also called the *Manhattan distance* or the *taxicab distance* because of the displacement of a taxi in a street grid, like\n",
        "in Manhattan.\n",
        "\n",
        "$$\n",
        "\\begin{aligned}\n",
        "||\\vec{u}||_1 &= \\left(\\sum_{i=1}^m \\left| {u}_i \\right| ^1 \\right)^{\\frac{1}{1}}\n",
        "= \\sum_{i=1}^m \\left| {u}_i \\right|\n",
        "\\end{aligned}\n",
        "$$\n",
        "\n",
        "- > $L^2$ Norm: The vector length measured with the $L^2$ norm corresponds to an *Euclidean distance*, that is, the physical distance in the real world,\n",
        "which is a consequence of the Pythagorean theorem. The formula is as\n",
        "follows:\n",
        "\n",
        "$$\n",
        "\\begin{aligned}\n",
        "||\\vec{u}||_2 &= \\left(\\sum_{i=1}^m \\left| {u}_i \\right|^2 \\right)^{\\frac{1}{2}}\n",
        "= \\sqrt{\\sum_{i=1}^m \\left| {u}_i \\right|^2}\n",
        "= \\sqrt{\\sum_{i=1}^m{u}_i^2}\n",
        "\\end{aligned}\n",
        "$$\n"
      ],
      "metadata": {
        "id": "v1b_uxdK4tib"
      }
    },
    {
      "cell_type": "code",
      "source": [
        "u = np.array([2, 1])\n",
        "np.linalg.norm(u, ord=1)"
      ],
      "metadata": {
        "colab": {
          "base_uri": "https://localhost:8080/"
        },
        "id": "bSVke6yDcJ1P",
        "outputId": "df5c1774-7258-4668-f750-cc30f8de118f"
      },
      "execution_count": null,
      "outputs": [
        {
          "output_type": "execute_result",
          "data": {
            "text/plain": [
              "3.0"
            ]
          },
          "metadata": {},
          "execution_count": 2
        }
      ]
    },
    {
      "cell_type": "code",
      "source": [
        "np.linalg.norm(u, ord=2)"
      ],
      "metadata": {
        "colab": {
          "base_uri": "https://localhost:8080/"
        },
        "id": "nP8VaNqAcZOY",
        "outputId": "d730afa6-055c-49c6-869f-aea320f6fbcc"
      },
      "execution_count": null,
      "outputs": [
        {
          "output_type": "execute_result",
          "data": {
            "text/plain": [
              "2.23606797749979"
            ]
          },
          "metadata": {},
          "execution_count": 3
        }
      ]
    },
    {
      "cell_type": "code",
      "source": [
        "np.sqrt(u@u)"
      ],
      "metadata": {
        "colab": {
          "base_uri": "https://localhost:8080/"
        },
        "id": "S9aM-LFe9YI2",
        "outputId": "94813984-4df3-4cb3-c34f-5f1a16ccd758"
      },
      "execution_count": null,
      "outputs": [
        {
          "output_type": "execute_result",
          "data": {
            "text/plain": [
              "2.23606797749979"
            ]
          },
          "metadata": {},
          "execution_count": 6
        }
      ]
    },
    {
      "cell_type": "markdown",
      "source": [
        "## 1.2 Mathematical Definition of the Cost Function"
      ],
      "metadata": {
        "id": "lW742uMEgf-1"
      }
    },
    {
      "cell_type": "markdown",
      "source": [
        "The Mean Squared Error (MSE) loss is defined as follows:\n",
        "\n",
        "$$\n",
        "L=(\\hat{y} - y)^2\n",
        "$$\n",
        "\n",
        "with $\\hat{y}$ (pronounced “y hat”) being the estimated value and $y$\n",
        "the true value. So the difference $\\hat{y}-y$ corresponds to the error\n",
        "made by the model."
      ],
      "metadata": {
        "id": "oTaiRBIN7zwd"
      }
    },
    {
      "cell_type": "markdown",
      "source": [
        "![](https://baptiste-monpezat.github.io/6f5cc892ec345d96f64c881b62b0d910/gradient_descent_parameter_a.gif)"
      ],
      "metadata": {
        "id": "Vljx-KjSdU8X"
      }
    },
    {
      "cell_type": "markdown",
      "source": [
        "Generally, loss functions refer to errors calculated on one training example, while cost functions refer to the error calculated over all training examples.\n"
      ],
      "metadata": {
        "id": "uJmT5eQ5gIsI"
      }
    },
    {
      "cell_type": "markdown",
      "source": [
        "\n",
        "\n",
        "> **Prediction Function:** It is called the prediction function, hypothesis function, or simply the model. In the case of linear regression, the predicted value $\\hat{y}$ is calculated with a linear function (the assumption is that a line could fit our data well):\n",
        "\n",
        "$$\n",
        "\\hat{y}=\\theta x\n",
        "$$\n"
      ],
      "metadata": {
        "id": "n5ohazaggtZ-"
      }
    },
    {
      "cell_type": "markdown",
      "source": [
        "\n",
        "\n",
        "> **Loss Function:** If you replace $\\hat{y}$ in the loss function, you get:\n",
        "\n",
        "$$\n",
        "L = (\\hat{y} - y)^2 = (\\theta x - y)^2\n",
        "$$\n",
        "\n"
      ],
      "metadata": {
        "id": "7rnqoX6Nh0XM"
      }
    },
    {
      "cell_type": "markdown",
      "source": [
        "\n",
        "\n",
        "> **Cost Function:** To calculate the Mean Squared Error, let’s calculate the averaged loss across data samples. Mathematically, the cost function, usually denoted as $J(\\theta)$, is written as:\n",
        "\n",
        "$$\n",
        "J(\\theta) = \\frac{1}{2m}\\sum_{i=1} ^m (\\theta \\vec{x}^{(i)} - \\vec{y}^{(i)})^2\n",
        "$$\n",
        "\n"
      ],
      "metadata": {
        "id": "APvZkt1ljvv2"
      }
    },
    {
      "cell_type": "markdown",
      "source": [
        "The Sigma notation ($\\sum$) means that you take the sum over every $i$\n",
        "training example until $m$."
      ],
      "metadata": {
        "id": "YUviWT9lkhDA"
      }
    },
    {
      "cell_type": "markdown",
      "source": [
        "# Section 2 Optimization\n",
        "\n",
        "\n",
        "\n",
        "\n"
      ],
      "metadata": {
        "id": "id1P0_FUndfI"
      }
    },
    {
      "cell_type": "markdown",
      "source": [
        "The optimization process involves training and evaluating a model iteratively until an optimal or satisfactory solution (result) is obtained. To find an absolute minimum in the cost function, the first derivative test is commonly used. Using the first derivative test requires the derivative of the function to be always:\n",
        "\n",
        "*   Negative on one side of a point\n",
        "*   Zero at the point\n",
        "*   Positive on the other side"
      ],
      "metadata": {
        "id": "1ocV8wMaXUYY"
      }
    },
    {
      "cell_type": "code",
      "source": [
        "import IPython\n",
        "iframe = '<iframe src=\"https://www.desmos.com/calculator/m818n6q7zg\" width=\"1000px\" height=\"500px\" style=\"border: 1px solid #ccc\" frameborder=0></iframe>'\n",
        "IPython.display.HTML(iframe)"
      ],
      "metadata": {
        "colab": {
          "base_uri": "https://localhost:8080/",
          "height": 557
        },
        "id": "P7h5BWqdaZnA",
        "outputId": "844c7c4d-0b7b-4501-98ac-4edaddd8d2ce"
      },
      "execution_count": null,
      "outputs": [
        {
          "output_type": "stream",
          "name": "stderr",
          "text": [
            "/usr/local/lib/python3.7/dist-packages/IPython/core/display.py:701: UserWarning: Consider using IPython.display.IFrame instead\n",
            "  warnings.warn(\"Consider using IPython.display.IFrame instead\")\n"
          ]
        },
        {
          "output_type": "execute_result",
          "data": {
            "text/plain": [
              "<IPython.core.display.HTML object>"
            ],
            "text/html": [
              "<iframe src=\"https://www.desmos.com/calculator/m818n6q7zg\" width=\"1000px\" height=\"500px\" style=\"border: 1px solid #ccc\" frameborder=0></iframe>"
            ]
          },
          "metadata": {},
          "execution_count": 1
        }
      ]
    },
    {
      "cell_type": "markdown",
      "source": [
        "Let’s write an implementation of the MSE:"
      ],
      "metadata": {
        "id": "WCjrfTQncz7m"
      }
    },
    {
      "cell_type": "code",
      "execution_count": null,
      "metadata": {
        "id": "LZvMMSI9z0hs"
      },
      "outputs": [],
      "source": [
        "def MSE(x, y, theta):\n",
        "    m = y.shape[0]\n",
        "    cost = (1 / (2 * m)) * np.sum((theta * x - y) ** 2)\n",
        "    return cost"
      ]
    },
    {
      "cell_type": "markdown",
      "source": [
        "Derivative of the Cost Function indicates the direction of  𝑥 needed to maximize or minimize the function"
      ],
      "metadata": {
        "id": "kgVLpv5XpIql"
      }
    },
    {
      "cell_type": "markdown",
      "source": [
        "$$\n",
        "\\begin{aligned}\n",
        "\\frac{d J(\\theta)}{d\\theta} &= \\frac{1}{2m}\\sum_{i=1} ^m 2 (\\theta x^{(i)} - y^{(i)}) \\cdot x^{(i)} \\\\\\\\\n",
        "&= \\frac{1}{m}\\sum_{i=1} ^m (\\theta x^{(i)} - y^{(i)}) \\cdot x^{(i)}\n",
        "\\end{aligned}\n",
        "$$\n",
        "\n"
      ],
      "metadata": {
        "id": "yBZbRJCzqRbA"
      }
    },
    {
      "cell_type": "code",
      "source": [
        "def MSE_derivative(x, y, theta):\n",
        "    m = y.shape[0]\n",
        "    cost_derivative = (1 / m) * np.sum((theta * x - y) * x)\n",
        "    return cost_derivative"
      ],
      "metadata": {
        "id": "KxTcSMMnnyJV"
      },
      "execution_count": null,
      "outputs": []
    },
    {
      "cell_type": "markdown",
      "source": [
        "The function $\\frac{d J}{d\\theta}$ takes the parameter $\\theta$ as input\n",
        "and returns the slope of the tangent of the cost function for this value\n",
        "of $\\theta$. The slope tells you the direction that you must take to\n",
        "minimize the cost. For instance, the slope of the\n",
        "tangent line at $\\theta = 0$ is negative. It means that you need to\n",
        "increase the value of $\\theta$ to reach the minimum of the cost\n",
        "function. Conversely, the slope of the tangent is positive for\n",
        "$\\theta = 3$, meaning that the value of $\\theta$ that minimizes the cost\n",
        "is smaller than three.\n",
        "\n",
        "\n",
        "\n",
        "*   **The slope of the tangent is positive:** It means that you need to\n",
        "decrease the value of $\\theta$ to reach the minimum of the cost\n",
        "function.\n",
        "\n"
      ],
      "metadata": {
        "id": "bZTUjQu_qvT4"
      }
    },
    {
      "cell_type": "markdown",
      "source": [
        "![](https://miro.medium.com/max/1400/1*rEXxyndPpGuOwe-lBCOTow.gif)"
      ],
      "metadata": {
        "id": "0GyCmRbfvdXk"
      }
    },
    {
      "cell_type": "markdown",
      "source": [
        "*   **The slope of the tangent is negative:** It means that you need to\n",
        "increase the value of $\\theta$ to reach the minimum of the cost\n",
        "function.\n"
      ],
      "metadata": {
        "id": "sUUKkLpTwHTa"
      }
    },
    {
      "cell_type": "markdown",
      "source": [
        "![](https://miro.medium.com/max/1400/1*iWRgqnhWm5CBt-0Pi6hzbg.gif)"
      ],
      "metadata": {
        "id": "0xZNbkq7o8QY"
      }
    },
    {
      "cell_type": "code",
      "source": [
        "x = np.array([-0.5, 0, 1])\n",
        "y = np.array([-1, 0, 2])\n",
        "MSE_derivative(x, y, 3)"
      ],
      "metadata": {
        "colab": {
          "base_uri": "https://localhost:8080/"
        },
        "id": "hMvDAcLRqwA7",
        "outputId": "9f61af63-4a9f-40ad-fbaa-eb4d18560120"
      },
      "execution_count": null,
      "outputs": [
        {
          "output_type": "execute_result",
          "data": {
            "text/plain": [
              "0.41666666666666663"
            ]
          },
          "metadata": {},
          "execution_count": 13
        }
      ]
    },
    {
      "cell_type": "code",
      "source": [
        "MSE_derivative(x, y, 2)"
      ],
      "metadata": {
        "colab": {
          "base_uri": "https://localhost:8080/"
        },
        "id": "bQSPir6UxQJg",
        "outputId": "1c74fecf-ef4e-4e54-b68c-b8ca51e8ac64"
      },
      "execution_count": null,
      "outputs": [
        {
          "output_type": "execute_result",
          "data": {
            "text/plain": [
              "0.0"
            ]
          },
          "metadata": {},
          "execution_count": 14
        }
      ]
    },
    {
      "cell_type": "code",
      "source": [
        "MSE_derivative(x, y, 1)"
      ],
      "metadata": {
        "colab": {
          "base_uri": "https://localhost:8080/"
        },
        "id": "OQbIdZWhxwHY",
        "outputId": "ff853366-9de2-4f6c-bde9-3022e72a592f"
      },
      "execution_count": null,
      "outputs": [
        {
          "output_type": "execute_result",
          "data": {
            "text/plain": [
              "-0.41666666666666663"
            ]
          },
          "metadata": {},
          "execution_count": 15
        }
      ]
    },
    {
      "cell_type": "markdown",
      "source": [
        "\n",
        "we give a value of $\\theta$ and arrays containing the $x$ values and\n",
        "the $y$ values, and the function returns the slope of the tangent of the\n",
        "cost function for this $\\theta$."
      ],
      "metadata": {
        "id": "JkasMefFx59k"
      }
    },
    {
      "cell_type": "markdown",
      "source": [],
      "metadata": {
        "id": "6TKlyBYFyL6m"
      }
    },
    {
      "cell_type": "code",
      "source": [
        "data = pd.read_csv('https://raw.githubusercontent.com/HamidBekamiri/Linear-Algebra/main/df_advertising.csv')\n",
        "data = data[['TV', 'Sales']]\n",
        "data.head()"
      ],
      "metadata": {
        "colab": {
          "base_uri": "https://localhost:8080/",
          "height": 206
        },
        "id": "XPUqPDLnxx4P",
        "outputId": "e81ca5cb-c332-4d68-bf2c-d300a0cba417"
      },
      "execution_count": null,
      "outputs": [
        {
          "output_type": "execute_result",
          "data": {
            "text/plain": [
              "      TV  Sales\n",
              "0  230.1   22.1\n",
              "1   44.5   10.4\n",
              "2   17.2    9.3\n",
              "3  151.5   18.5\n",
              "4  180.8   12.9"
            ],
            "text/html": [
              "\n",
              "  <div id=\"df-26eb4d56-83df-4acd-b392-0c57d3abd64f\">\n",
              "    <div class=\"colab-df-container\">\n",
              "      <div>\n",
              "<style scoped>\n",
              "    .dataframe tbody tr th:only-of-type {\n",
              "        vertical-align: middle;\n",
              "    }\n",
              "\n",
              "    .dataframe tbody tr th {\n",
              "        vertical-align: top;\n",
              "    }\n",
              "\n",
              "    .dataframe thead th {\n",
              "        text-align: right;\n",
              "    }\n",
              "</style>\n",
              "<table border=\"1\" class=\"dataframe\">\n",
              "  <thead>\n",
              "    <tr style=\"text-align: right;\">\n",
              "      <th></th>\n",
              "      <th>TV</th>\n",
              "      <th>Sales</th>\n",
              "    </tr>\n",
              "  </thead>\n",
              "  <tbody>\n",
              "    <tr>\n",
              "      <th>0</th>\n",
              "      <td>230.1</td>\n",
              "      <td>22.1</td>\n",
              "    </tr>\n",
              "    <tr>\n",
              "      <th>1</th>\n",
              "      <td>44.5</td>\n",
              "      <td>10.4</td>\n",
              "    </tr>\n",
              "    <tr>\n",
              "      <th>2</th>\n",
              "      <td>17.2</td>\n",
              "      <td>9.3</td>\n",
              "    </tr>\n",
              "    <tr>\n",
              "      <th>3</th>\n",
              "      <td>151.5</td>\n",
              "      <td>18.5</td>\n",
              "    </tr>\n",
              "    <tr>\n",
              "      <th>4</th>\n",
              "      <td>180.8</td>\n",
              "      <td>12.9</td>\n",
              "    </tr>\n",
              "  </tbody>\n",
              "</table>\n",
              "</div>\n",
              "      <button class=\"colab-df-convert\" onclick=\"convertToInteractive('df-26eb4d56-83df-4acd-b392-0c57d3abd64f')\"\n",
              "              title=\"Convert this dataframe to an interactive table.\"\n",
              "              style=\"display:none;\">\n",
              "        \n",
              "  <svg xmlns=\"http://www.w3.org/2000/svg\" height=\"24px\"viewBox=\"0 0 24 24\"\n",
              "       width=\"24px\">\n",
              "    <path d=\"M0 0h24v24H0V0z\" fill=\"none\"/>\n",
              "    <path d=\"M18.56 5.44l.94 2.06.94-2.06 2.06-.94-2.06-.94-.94-2.06-.94 2.06-2.06.94zm-11 1L8.5 8.5l.94-2.06 2.06-.94-2.06-.94L8.5 2.5l-.94 2.06-2.06.94zm10 10l.94 2.06.94-2.06 2.06-.94-2.06-.94-.94-2.06-.94 2.06-2.06.94z\"/><path d=\"M17.41 7.96l-1.37-1.37c-.4-.4-.92-.59-1.43-.59-.52 0-1.04.2-1.43.59L10.3 9.45l-7.72 7.72c-.78.78-.78 2.05 0 2.83L4 21.41c.39.39.9.59 1.41.59.51 0 1.02-.2 1.41-.59l7.78-7.78 2.81-2.81c.8-.78.8-2.07 0-2.86zM5.41 20L4 18.59l7.72-7.72 1.47 1.35L5.41 20z\"/>\n",
              "  </svg>\n",
              "      </button>\n",
              "      \n",
              "  <style>\n",
              "    .colab-df-container {\n",
              "      display:flex;\n",
              "      flex-wrap:wrap;\n",
              "      gap: 12px;\n",
              "    }\n",
              "\n",
              "    .colab-df-convert {\n",
              "      background-color: #E8F0FE;\n",
              "      border: none;\n",
              "      border-radius: 50%;\n",
              "      cursor: pointer;\n",
              "      display: none;\n",
              "      fill: #1967D2;\n",
              "      height: 32px;\n",
              "      padding: 0 0 0 0;\n",
              "      width: 32px;\n",
              "    }\n",
              "\n",
              "    .colab-df-convert:hover {\n",
              "      background-color: #E2EBFA;\n",
              "      box-shadow: 0px 1px 2px rgba(60, 64, 67, 0.3), 0px 1px 3px 1px rgba(60, 64, 67, 0.15);\n",
              "      fill: #174EA6;\n",
              "    }\n",
              "\n",
              "    [theme=dark] .colab-df-convert {\n",
              "      background-color: #3B4455;\n",
              "      fill: #D2E3FC;\n",
              "    }\n",
              "\n",
              "    [theme=dark] .colab-df-convert:hover {\n",
              "      background-color: #434B5C;\n",
              "      box-shadow: 0px 1px 3px 1px rgba(0, 0, 0, 0.15);\n",
              "      filter: drop-shadow(0px 1px 2px rgba(0, 0, 0, 0.3));\n",
              "      fill: #FFFFFF;\n",
              "    }\n",
              "  </style>\n",
              "\n",
              "      <script>\n",
              "        const buttonEl =\n",
              "          document.querySelector('#df-26eb4d56-83df-4acd-b392-0c57d3abd64f button.colab-df-convert');\n",
              "        buttonEl.style.display =\n",
              "          google.colab.kernel.accessAllowed ? 'block' : 'none';\n",
              "\n",
              "        async function convertToInteractive(key) {\n",
              "          const element = document.querySelector('#df-26eb4d56-83df-4acd-b392-0c57d3abd64f');\n",
              "          const dataTable =\n",
              "            await google.colab.kernel.invokeFunction('convertToInteractive',\n",
              "                                                     [key], {});\n",
              "          if (!dataTable) return;\n",
              "\n",
              "          const docLinkHtml = 'Like what you see? Visit the ' +\n",
              "            '<a target=\"_blank\" href=https://colab.research.google.com/notebooks/data_table.ipynb>data table notebook</a>'\n",
              "            + ' to learn more about interactive tables.';\n",
              "          element.innerHTML = '';\n",
              "          dataTable['output_type'] = 'display_data';\n",
              "          await google.colab.output.renderOutput(dataTable, element);\n",
              "          const docLink = document.createElement('div');\n",
              "          docLink.innerHTML = docLinkHtml;\n",
              "          element.appendChild(docLink);\n",
              "        }\n",
              "      </script>\n",
              "    </div>\n",
              "  </div>\n",
              "  "
            ]
          },
          "metadata": {},
          "execution_count": 8
        }
      ]
    },
    {
      "cell_type": "code",
      "source": [
        "data.shape"
      ],
      "metadata": {
        "colab": {
          "base_uri": "https://localhost:8080/"
        },
        "id": "njQxpCa2yNTR",
        "outputId": "07b9cafc-40f1-46c4-dc0f-9e3446c9d338"
      },
      "execution_count": null,
      "outputs": [
        {
          "output_type": "execute_result",
          "data": {
            "text/plain": [
              "(200, 2)"
            ]
          },
          "metadata": {},
          "execution_count": 9
        }
      ]
    },
    {
      "cell_type": "code",
      "source": [
        "plt.scatter(data['TV'], data['Sales'], alpha=0.4)\n",
        "# [...] Add axes, labels etc.\n",
        "\n",
        "plt.xlabel(\"TV\")\n",
        "plt.ylabel(\"Sales\")\n",
        "\n",
        "plt.show()"
      ],
      "metadata": {
        "colab": {
          "base_uri": "https://localhost:8080/",
          "height": 282
        },
        "id": "G964coJoyipu",
        "outputId": "9c2aa563-9e4b-4e69-8091-3ca8605867f1"
      },
      "execution_count": null,
      "outputs": [
        {
          "output_type": "display_data",
          "data": {
            "text/plain": [
              "<Figure size 432x288 with 1 Axes>"
            ],
            "image/png": "[encoded data removed]"
          },
          "metadata": {
            "needs_background": "dark"
          }
        }
      ]
    },
    {
      "cell_type": "code",
      "source": [
        "X = data['TV'].to_numpy().reshape(-1, 1)\n",
        "X.shape"
      ],
      "metadata": {
        "colab": {
          "base_uri": "https://localhost:8080/"
        },
        "id": "lIE3VfV2yri2",
        "outputId": "cec5815b-acce-4963-aa6f-6b70388e07cc"
      },
      "execution_count": null,
      "outputs": [
        {
          "output_type": "execute_result",
          "data": {
            "text/plain": [
              "(200, 1)"
            ]
          },
          "metadata": {},
          "execution_count": 11
        }
      ]
    },
    {
      "cell_type": "code",
      "source": [
        "y = data['Sales'].to_numpy().reshape(-1, 1)\n",
        "y.shape"
      ],
      "metadata": {
        "colab": {
          "base_uri": "https://localhost:8080/"
        },
        "id": "Q66LHlVwzPEC",
        "outputId": "691a7d80-3449-4116-e5f6-40e786af0936"
      },
      "execution_count": null,
      "outputs": [
        {
          "output_type": "execute_result",
          "data": {
            "text/plain": [
              "(200, 1)"
            ]
          },
          "metadata": {},
          "execution_count": 12
        }
      ]
    },
    {
      "cell_type": "code",
      "source": [
        "from sklearn.preprocessing import StandardScaler\n",
        "\n",
        "standard_scaler = StandardScaler()\n",
        "X = standard_scaler.fit_transform(X)\n",
        "y = standard_scaler.fit_transform(y)"
      ],
      "metadata": {
        "id": "fQKZhkXPzSxC"
      },
      "execution_count": null,
      "outputs": []
    },
    {
      "cell_type": "code",
      "source": [
        "MSE_derivative(x=X, y=y, theta=0.66775)"
      ],
      "metadata": {
        "colab": {
          "base_uri": "https://localhost:8080/"
        },
        "id": "yr5pgKjWzZXX",
        "outputId": "110bcb63-3b77-424d-ec38-8da5d0c7ce0f"
      },
      "execution_count": null,
      "outputs": [
        {
          "output_type": "execute_result",
          "data": {
            "text/plain": [
              "-0.1144744248616065"
            ]
          },
          "metadata": {},
          "execution_count": 17
        }
      ]
    },
    {
      "cell_type": "code",
      "source": [
        "lr = 0.01\n",
        "theta = 0\n",
        "theta = theta - lr * MSE_derivative(x=X, y=y, theta=theta)\n",
        "theta"
      ],
      "metadata": {
        "colab": {
          "base_uri": "https://localhost:8080/"
        },
        "id": "w6BF3lfyzcmj",
        "outputId": "b2fadb0c-1fc5-47ce-ed76-24d65daa5b09"
      },
      "execution_count": null,
      "outputs": [
        {
          "output_type": "execute_result",
          "data": {
            "text/plain": [
              "0.007822244248616064"
            ]
          },
          "metadata": {},
          "execution_count": 18
        }
      ]
    },
    {
      "cell_type": "code",
      "source": [
        "lr = 0.1\n",
        "theta = 3\n",
        "\n",
        "theta_all = []\n",
        "cost_all = []\n",
        "\n",
        "for i in range(30):\n",
        "    theta = theta - lr * MSE_derivative(x=X, y=y, theta=theta)\n",
        "    cost = MSE(X, y, theta)\n",
        "    \n",
        "    theta_all.append(theta)\n",
        "    cost_all.append(cost)\n",
        "\n",
        "lr = 0.1\n",
        "theta = -1.5\n",
        "for i in range(30):\n",
        "    theta = theta - lr * MSE_derivative(x=X, y=y, theta=theta)\n",
        "    cost = MSE(X, y, theta)\n",
        "    \n",
        "    theta_all.append(theta)\n",
        "    cost_all.append(cost)\n",
        "\n",
        "plt.scatter(theta_all, cost_all, linewidth=1.5, c=np.arange(len(cost_all)))\n",
        "\n",
        "plt.xlabel(r\"Value of the parameter $\\theta$\")\n",
        "plt.ylabel(\"Cost\")\n",
        "clb = plt.colorbar()\n",
        "clb.ax.set_title('Iterations')\n",
        "plt.show()"
      ],
      "metadata": {
        "colab": {
          "base_uri": "https://localhost:8080/",
          "height": 302
        },
        "id": "CxKUMYO5zfwc",
        "outputId": "2df972b0-0865-46bb-fb27-ffb8848d33d6"
      },
      "execution_count": null,
      "outputs": [
        {
          "output_type": "display_data",
          "data": {
            "text/plain": [
              "<Figure size 432x288 with 2 Axes>"
            ],
            "image/png": "[encoded data removed]"
          },
          "metadata": {
            "needs_background": "dark"
          }
        }
      ]
    },
    {
      "cell_type": "code",
      "source": [
        "best_slope = theta_all[-1]\n",
        "best_slope"
      ],
      "metadata": {
        "colab": {
          "base_uri": "https://localhost:8080/"
        },
        "id": "opaugqLNzish",
        "outputId": "4383cb42-effa-46a3-a1d6-e1f51c9033a4"
      },
      "execution_count": null,
      "outputs": [
        {
          "output_type": "execute_result",
          "data": {
            "text/plain": [
              "0.6854782880477339"
            ]
          },
          "metadata": {},
          "execution_count": 20
        }
      ]
    },
    {
      "cell_type": "code",
      "source": [
        "x_axis = np.arange(-2, 4, 0.1)\n",
        "y_axis = best_slope * x_axis\n",
        "plt.scatter(X, y, alpha=0.4, zorder=0)\n",
        "plt.plot(x_axis, y_axis, c='#FF8177')\n",
        "\n",
        "plt.xlabel(\"TV\")\n",
        "plt.ylabel(\"Sales\")\n",
        "plt.show()"
      ],
      "metadata": {
        "colab": {
          "base_uri": "https://localhost:8080/",
          "height": 282
        },
        "id": "Cmeon7QhznOo",
        "outputId": "4279aff3-cba0-4f19-d0dd-66ea5af589e8"
      },
      "execution_count": null,
      "outputs": [
        {
          "output_type": "display_data",
          "data": {
            "text/plain": [
              "<Figure size 432x288 with 1 Axes>"
            ],
            "image/png": "[encoded data removed]"
          },
          "metadata": {
            "needs_background": "dark"
          }
        }
      ]
    },
    {
      "cell_type": "markdown",
      "source": [
        "# Section 3 Regularization"
      ],
      "metadata": {
        "id": "bDYNYI86VOiT"
      }
    },
    {
      "cell_type": "markdown",
      "source": [
        "When you apply machine learning or deep learning to new data, you might find that your model performs well on your training data but not on your test data. A model may describe the training data very well, even taking into account noise or specifics in the dataset. Overfitting is the result of this. Often, parameter values (in this case slope and intercept $\\theta, b$) are large in overfitting models. \n",
        "\n",
        "This problem can be addressed in two ways:\n",
        "- Increasing the size of the training dataset to compensate this sensitivity. \n",
        "- Regularization by constraining parameter values to be small in order to avoid too sensitive models. The machine learning algorithms prefer a solution that is suboptimal on the training set but generally more effective.\n",
        "\n",
        "\n",
        "How does Regularization work? The model learns the best parameter values according to the loss function. Regularization punishes large parameter values by adding an extra term to the loss function. Using this term, you can restrict the parameters' values. Large parameter values will increase the loss, and thus the model will try to fit the data with small parameters.\n",
        "\n",
        "The regularization term is constructed as the norm of the vector containing all the parameter values. \n",
        "\n",
        "For cost functions, you calculate the norm of an “error vector”. What we\n",
        "loosely call an error vector here is a vector containing the errors of a\n",
        "model (the differences between the values estimated by the model and the\n",
        "true values). The length of this vector tells you the overall quality of\n",
        "the fit.\n",
        "\n",
        "With regularization, you calculate the norm of the “parameter vector”\n",
        "(the vector that contains all parameter values). The norm of this vector\n",
        "tells you how large the overall parameter values are.\n",
        "\n",
        "\n",
        "$$\n",
        "J(\\theta_0, \\theta_1) = \\frac{1}{2m}\\sum_{i=1} ^m (\\theta_0 + \\theta_1 x^{(i)} - y^{(i)})^2 + \\alpha \\sum_{i=1}^n \\left| \\theta_i \\right|\n",
        "$$\n",
        "\n",
        "\n",
        "Regularized models are often sensitive to differences in scale in the data, so you need to normalize the data. "
      ],
      "metadata": {
        "id": "Z2fWwY-dC5hq"
      }
    },
    {
      "cell_type": "code",
      "source": [
        "from sklearn.preprocessing import StandardScaler\n",
        "scaler = StandardScaler()\n",
        "\n",
        "scaler.fit(X)\n",
        "X_transformed = scaler.transform(X)\n",
        "# y_dk_noise_transformed = scaler.transform(y_dk.reshape(-1, 1)).flatten()\n",
        "y_transformed = scaler.transform(y.reshape(-1, 1)).flatten()"
      ],
      "metadata": {
        "id": "lRmCzLXF5RNu"
      },
      "execution_count": null,
      "outputs": []
    },
    {
      "cell_type": "markdown",
      "source": [
        "![](https://miro.medium.com/max/1200/0*4J2Bm1g7_DR47u-g.png)"
      ],
      "metadata": {
        "id": "IFURetwMD5qV"
      }
    },
    {
      "cell_type": "code",
      "source": [
        "import numpy as np\n",
        "from sklearn.preprocessing import PolynomialFeatures\n",
        "\n",
        "poly = PolynomialFeatures(10, include_bias=False)\n",
        "X_poly = poly.fit_transform(X_transformed)"
      ],
      "metadata": {
        "id": "4_dFxMkj5a-N"
      },
      "execution_count": null,
      "outputs": []
    },
    {
      "cell_type": "code",
      "source": [
        "from sklearn.linear_model import Ridge\n",
        "\n",
        "X_axis = np.arange(-1.7, 1.65, 0.01)\n",
        "X_axis_poly = poly.fit_transform(X_axis.reshape(-1, 1))\n",
        "\n",
        "f, axes = plt.subplots(1, 5, figsize=(16, 4), sharey=True)\n",
        "\n",
        "\n",
        "count = 0\n",
        "\n",
        "for alpha, ax in zip([0.00000, 0.001, 0.01, 8, 50], axes.flatten()):\n",
        "    ridge = Ridge(alpha=alpha)\n",
        "    ridge.fit(X_poly, y_transformed)\n",
        "    y_axis_ridge = ridge.predict(X_axis_poly)\n",
        "\n",
        "    ax.plot(X_axis_poly[:, 0], y_axis_ridge, c=\"#F57F53\")\n",
        "    ax.scatter(X_transformed, y_transformed,\n",
        "                alpha=0.6, s=60, label=\"Data\")\n",
        "    # ax.scatter(X_transformed, y_transformed,\n",
        "    #             alpha=0.6, s=60, label=\"Data with noise\")\n",
        "    ax.set_title(r\"$\\alpha$\" + f\" = {alpha}\")\n",
        "    # [...] Figure titles, legend...\n",
        "    \n",
        "    if count ==  0:\n",
        "        ax.legend()\n",
        "    count += 1\n",
        "    \n",
        "\n"
      ],
      "metadata": {
        "colab": {
          "base_uri": "https://localhost:8080/",
          "height": 284
        },
        "id": "t61kswlu5fwo",
        "outputId": "c7a12c66-a6d5-4e91-c7e6-e38866281e25"
      },
      "execution_count": null,
      "outputs": [
        {
          "output_type": "display_data",
          "data": {
            "text/plain": [
              "<Figure size 1152x288 with 5 Axes>"
            ],
            "image/png": "[encoded data removed]"
          },
          "metadata": {
            "needs_background": "dark"
          }
        }
      ]
    },
    {
      "cell_type": "markdown",
      "source": [
        "# Section 4 Hands-on Project: Polynomial regression to model the total number of cases of COVID-19 in Denmark"
      ],
      "metadata": {
        "id": "txBeSFZ52X0x"
      }
    },
    {
      "cell_type": "code",
      "source": [
        "data_covid_all = pd.read_csv('https://covid.ourworldindata.org/data/owid-covid-data.csv')"
      ],
      "metadata": {
        "id": "-M2lIpdo2e5n"
      },
      "execution_count": null,
      "outputs": []
    },
    {
      "cell_type": "code",
      "source": [
        "data_covid_dk = data_covid_all[(data_covid_all['location'] == 'Denmark')][55:85]\n",
        "data_covid_dk.head()"
      ],
      "metadata": {
        "colab": {
          "base_uri": "https://localhost:8080/",
          "height": 357
        },
        "id": "ZZ9O-t9V2i51",
        "outputId": "892eaf57-45da-4dff-92b8-e874f1762a89"
      },
      "execution_count": null,
      "outputs": [
        {
          "output_type": "execute_result",
          "data": {
            "text/plain": [
              "      iso_code continent location        date  total_cases  new_cases  \\\n",
              "51577      DNK    Europe  Denmark  2020-03-28       2201.0      155.0   \n",
              "51578      DNK    Europe  Denmark  2020-03-29       2395.0      194.0   \n",
              "51579      DNK    Europe  Denmark  2020-03-30       2577.0      182.0   \n",
              "51580      DNK    Europe  Denmark  2020-03-31       2860.0      283.0   \n",
              "51581      DNK    Europe  Denmark  2020-04-01       3107.0      247.0   \n",
              "\n",
              "       new_cases_smoothed  total_deaths  new_deaths  new_deaths_smoothed  \\\n",
              "51577             125.000          65.0        13.0                7.429   \n",
              "51578             142.857          72.0         7.0                8.429   \n",
              "51579             161.000          77.0         5.0                7.571   \n",
              "51580             181.286          90.0        13.0                8.286   \n",
              "51581             197.571         104.0        14.0               10.000   \n",
              "\n",
              "       total_cases_per_million  new_cases_per_million  \\\n",
              "51577                  375.967                 26.477   \n",
              "51578                  409.105                 33.138   \n",
              "51579                  440.194                 31.089   \n",
              "51580                  488.535                 48.341   \n",
              "51581                  530.726                 42.192   \n",
              "\n",
              "       new_cases_smoothed_per_million  total_deaths_per_million  \\\n",
              "51577                          21.352                    11.103   \n",
              "51578                          24.402                    12.299   \n",
              "51579                          27.501                    13.153   \n",
              "51580                          30.967                    15.373   \n",
              "51581                          33.748                    17.765   \n",
              "\n",
              "       new_deaths_per_million  new_deaths_smoothed_per_million  \\\n",
              "51577                   2.221                            1.269   \n",
              "51578                   1.196                            1.440   \n",
              "51579                   0.854                            1.293   \n",
              "51580                   2.221                            1.415   \n",
              "51581                   2.391                            1.708   \n",
              "\n",
              "       reproduction_rate  icu_patients  icu_patients_per_million  \\\n",
              "51577               1.43         121.0                    20.669   \n",
              "51578               1.43         131.0                    22.377   \n",
              "51579               1.43         137.0                    23.402   \n",
              "51580               1.41         145.0                    24.768   \n",
              "51581               1.39         146.0                    24.939   \n",
              "\n",
              "       hosp_patients  hosp_patients_per_million  weekly_icu_admissions  \\\n",
              "51577            NaN                        NaN                    NaN   \n",
              "51578            NaN                        NaN                    NaN   \n",
              "51579            NaN                        NaN                    NaN   \n",
              "51580            NaN                        NaN                    NaN   \n",
              "51581            NaN                        NaN                    NaN   \n",
              "\n",
              "       weekly_icu_admissions_per_million  weekly_hosp_admissions  \\\n",
              "51577                                NaN                   546.0   \n",
              "51578                                NaN                   555.0   \n",
              "51579                                NaN                   538.0   \n",
              "51580                                NaN                   508.0   \n",
              "51581                                NaN                   478.0   \n",
              "\n",
              "       weekly_hosp_admissions_per_million  total_tests  new_tests  \\\n",
              "51577                              93.266      22176.0     1383.0   \n",
              "51578                              94.803      23477.0     1301.0   \n",
              "51579                              91.899      26695.0     3218.0   \n",
              "51580                              86.775      29904.0     3209.0   \n",
              "51581                              81.650      33462.0     3558.0   \n",
              "\n",
              "       total_tests_per_thousand  new_tests_per_thousand  new_tests_smoothed  \\\n",
              "51577                     3.788                   0.236              1322.0   \n",
              "51578                     4.010                   0.222              1431.0   \n",
              "51579                     4.560                   0.550              1731.0   \n",
              "51580                     5.108                   0.548              2029.0   \n",
              "51581                     5.716                   0.608              2341.0   \n",
              "\n",
              "       new_tests_smoothed_per_thousand  positive_rate  tests_per_case  \\\n",
              "51577                            0.226         0.0946            10.6   \n",
              "51578                            0.244         0.0998            10.0   \n",
              "51579                            0.296         0.0930            10.8   \n",
              "51580                            0.347         0.0893            11.2   \n",
              "51581                            0.400         0.0844            11.8   \n",
              "\n",
              "           tests_units  total_vaccinations  people_vaccinated  \\\n",
              "51577  tests performed                 NaN                NaN   \n",
              "51578  tests performed                 NaN                NaN   \n",
              "51579  tests performed                 NaN                NaN   \n",
              "51580  tests performed                 NaN                NaN   \n",
              "51581  tests performed                 NaN                NaN   \n",
              "\n",
              "       people_fully_vaccinated  total_boosters  new_vaccinations  \\\n",
              "51577                      NaN             NaN               NaN   \n",
              "51578                      NaN             NaN               NaN   \n",
              "51579                      NaN             NaN               NaN   \n",
              "51580                      NaN             NaN               NaN   \n",
              "51581                      NaN             NaN               NaN   \n",
              "\n",
              "       new_vaccinations_smoothed  total_vaccinations_per_hundred  \\\n",
              "51577                        NaN                             NaN   \n",
              "51578                        NaN                             NaN   \n",
              "51579                        NaN                             NaN   \n",
              "51580                        NaN                             NaN   \n",
              "51581                        NaN                             NaN   \n",
              "\n",
              "       people_vaccinated_per_hundred  people_fully_vaccinated_per_hundred  \\\n",
              "51577                            NaN                                  NaN   \n",
              "51578                            NaN                                  NaN   \n",
              "51579                            NaN                                  NaN   \n",
              "51580                            NaN                                  NaN   \n",
              "51581                            NaN                                  NaN   \n",
              "\n",
              "       total_boosters_per_hundred  new_vaccinations_smoothed_per_million  \\\n",
              "51577                         NaN                                    NaN   \n",
              "51578                         NaN                                    NaN   \n",
              "51579                         NaN                                    NaN   \n",
              "51580                         NaN                                    NaN   \n",
              "51581                         NaN                                    NaN   \n",
              "\n",
              "       new_people_vaccinated_smoothed  \\\n",
              "51577                             NaN   \n",
              "51578                             NaN   \n",
              "51579                             NaN   \n",
              "51580                             NaN   \n",
              "51581                             NaN   \n",
              "\n",
              "       new_people_vaccinated_smoothed_per_hundred  stringency_index  \\\n",
              "51577                                         NaN             72.22   \n",
              "51578                                         NaN             72.22   \n",
              "51579                                         NaN             72.22   \n",
              "51580                                         NaN             72.22   \n",
              "51581                                         NaN             72.22   \n",
              "\n",
              "       population  population_density  median_age  aged_65_older  \\\n",
              "51577   5854240.0              136.52        42.3         19.677   \n",
              "51578   5854240.0              136.52        42.3         19.677   \n",
              "51579   5854240.0              136.52        42.3         19.677   \n",
              "51580   5854240.0              136.52        42.3         19.677   \n",
              "51581   5854240.0              136.52        42.3         19.677   \n",
              "\n",
              "       aged_70_older  gdp_per_capita  extreme_poverty  cardiovasc_death_rate  \\\n",
              "51577         12.325       46682.515              0.2                114.767   \n",
              "51578         12.325       46682.515              0.2                114.767   \n",
              "51579         12.325       46682.515              0.2                114.767   \n",
              "51580         12.325       46682.515              0.2                114.767   \n",
              "51581         12.325       46682.515              0.2                114.767   \n",
              "\n",
              "       diabetes_prevalence  female_smokers  male_smokers  \\\n",
              "51577                 6.41            19.3          18.8   \n",
              "51578                 6.41            19.3          18.8   \n",
              "51579                 6.41            19.3          18.8   \n",
              "51580                 6.41            19.3          18.8   \n",
              "51581                 6.41            19.3          18.8   \n",
              "\n",
              "       handwashing_facilities  hospital_beds_per_thousand  life_expectancy  \\\n",
              "51577                     NaN                         2.5             80.9   \n",
              "51578                     NaN                         2.5             80.9   \n",
              "51579                     NaN                         2.5             80.9   \n",
              "51580                     NaN                         2.5             80.9   \n",
              "51581                     NaN                         2.5             80.9   \n",
              "\n",
              "       human_development_index  excess_mortality_cumulative_absolute  \\\n",
              "51577                     0.94                                   NaN   \n",
              "51578                     0.94                               -1117.0   \n",
              "51579                     0.94                                   NaN   \n",
              "51580                     0.94                                   NaN   \n",
              "51581                     0.94                                   NaN   \n",
              "\n",
              "       excess_mortality_cumulative  excess_mortality  \\\n",
              "51577                          NaN               NaN   \n",
              "51578                        -7.37             -0.29   \n",
              "51579                          NaN               NaN   \n",
              "51580                          NaN               NaN   \n",
              "51581                          NaN               NaN   \n",
              "\n",
              "       excess_mortality_cumulative_per_million  \n",
              "51577                                      NaN  \n",
              "51578                               -190.80188  \n",
              "51579                                      NaN  \n",
              "51580                                      NaN  \n",
              "51581                                      NaN  "
            ],
            "text/html": [
              "\n",
              "  <div id=\"df-97b71df9-0545-4c32-8962-7cfbdbe01132\">\n",
              "    <div class=\"colab-df-container\">\n",
              "      <div>\n",
              "<style scoped>\n",
              "    .dataframe tbody tr th:only-of-type {\n",
              "        vertical-align: middle;\n",
              "    }\n",
              "\n",
              "    .dataframe tbody tr th {\n",
              "        vertical-align: top;\n",
              "    }\n",
              "\n",
              "    .dataframe thead th {\n",
              "        text-align: right;\n",
              "    }\n",
              "</style>\n",
              "<table border=\"1\" class=\"dataframe\">\n",
              "  <thead>\n",
              "    <tr style=\"text-align: right;\">\n",
              "      <th></th>\n",
              "      <th>iso_code</th>\n",
              "      <th>continent</th>\n",
              "      <th>location</th>\n",
              "      <th>date</th>\n",
              "      <th>total_cases</th>\n",
              "      <th>new_cases</th>\n",
              "      <th>new_cases_smoothed</th>\n",
              "      <th>total_deaths</th>\n",
              "      <th>new_deaths</th>\n",
              "      <th>new_deaths_smoothed</th>\n",
              "      <th>total_cases_per_million</th>\n",
              "      <th>new_cases_per_million</th>\n",
              "      <th>new_cases_smoothed_per_million</th>\n",
              "      <th>total_deaths_per_million</th>\n",
              "      <th>new_deaths_per_million</th>\n",
              "      <th>new_deaths_smoothed_per_million</th>\n",
              "      <th>reproduction_rate</th>\n",
              "      <th>icu_patients</th>\n",
              "      <th>icu_patients_per_million</th>\n",
              "      <th>hosp_patients</th>\n",
              "      <th>hosp_patients_per_million</th>\n",
              "      <th>weekly_icu_admissions</th>\n",
              "      <th>weekly_icu_admissions_per_million</th>\n",
              "      <th>weekly_hosp_admissions</th>\n",
              "      <th>weekly_hosp_admissions_per_million</th>\n",
              "      <th>total_tests</th>\n",
              "      <th>new_tests</th>\n",
              "      <th>total_tests_per_thousand</th>\n",
              "      <th>new_tests_per_thousand</th>\n",
              "      <th>new_tests_smoothed</th>\n",
              "      <th>new_tests_smoothed_per_thousand</th>\n",
              "      <th>positive_rate</th>\n",
              "      <th>tests_per_case</th>\n",
              "      <th>tests_units</th>\n",
              "      <th>total_vaccinations</th>\n",
              "      <th>people_vaccinated</th>\n",
              "      <th>people_fully_vaccinated</th>\n",
              "      <th>total_boosters</th>\n",
              "      <th>new_vaccinations</th>\n",
              "      <th>new_vaccinations_smoothed</th>\n",
              "      <th>total_vaccinations_per_hundred</th>\n",
              "      <th>people_vaccinated_per_hundred</th>\n",
              "      <th>people_fully_vaccinated_per_hundred</th>\n",
              "      <th>total_boosters_per_hundred</th>\n",
              "      <th>new_vaccinations_smoothed_per_million</th>\n",
              "      <th>new_people_vaccinated_smoothed</th>\n",
              "      <th>new_people_vaccinated_smoothed_per_hundred</th>\n",
              "      <th>stringency_index</th>\n",
              "      <th>population</th>\n",
              "      <th>population_density</th>\n",
              "      <th>median_age</th>\n",
              "      <th>aged_65_older</th>\n",
              "      <th>aged_70_older</th>\n",
              "      <th>gdp_per_capita</th>\n",
              "      <th>extreme_poverty</th>\n",
              "      <th>cardiovasc_death_rate</th>\n",
              "      <th>diabetes_prevalence</th>\n",
              "      <th>female_smokers</th>\n",
              "      <th>male_smokers</th>\n",
              "      <th>handwashing_facilities</th>\n",
              "      <th>hospital_beds_per_thousand</th>\n",
              "      <th>life_expectancy</th>\n",
              "      <th>human_development_index</th>\n",
              "      <th>excess_mortality_cumulative_absolute</th>\n",
              "      <th>excess_mortality_cumulative</th>\n",
              "      <th>excess_mortality</th>\n",
              "      <th>excess_mortality_cumulative_per_million</th>\n",
              "    </tr>\n",
              "  </thead>\n",
              "  <tbody>\n",
              "    <tr>\n",
              "      <th>51577</th>\n",
              "      <td>DNK</td>\n",
              "      <td>Europe</td>\n",
              "      <td>Denmark</td>\n",
              "      <td>2020-03-28</td>\n",
              "      <td>2201.0</td>\n",
              "      <td>155.0</td>\n",
              "      <td>125.000</td>\n",
              "      <td>65.0</td>\n",
              "      <td>13.0</td>\n",
              "      <td>7.429</td>\n",
              "      <td>375.967</td>\n",
              "      <td>26.477</td>\n",
              "      <td>21.352</td>\n",
              "      <td>11.103</td>\n",
              "      <td>2.221</td>\n",
              "      <td>1.269</td>\n",
              "      <td>1.43</td>\n",
              "      <td>121.0</td>\n",
              "      <td>20.669</td>\n",
              "      <td>NaN</td>\n",
              "      <td>NaN</td>\n",
              "      <td>NaN</td>\n",
              "      <td>NaN</td>\n",
              "      <td>546.0</td>\n",
              "      <td>93.266</td>\n",
              "      <td>22176.0</td>\n",
              "      <td>1383.0</td>\n",
              "      <td>3.788</td>\n",
              "      <td>0.236</td>\n",
              "      <td>1322.0</td>\n",
              "      <td>0.226</td>\n",
              "      <td>0.0946</td>\n",
              "      <td>10.6</td>\n",
              "      <td>tests performed</td>\n",
              "      <td>NaN</td>\n",
              "      <td>NaN</td>\n",
              "      <td>NaN</td>\n",
              "      <td>NaN</td>\n",
              "      <td>NaN</td>\n",
              "      <td>NaN</td>\n",
              "      <td>NaN</td>\n",
              "      <td>NaN</td>\n",
              "      <td>NaN</td>\n",
              "      <td>NaN</td>\n",
              "      <td>NaN</td>\n",
              "      <td>NaN</td>\n",
              "      <td>NaN</td>\n",
              "      <td>72.22</td>\n",
              "      <td>5854240.0</td>\n",
              "      <td>136.52</td>\n",
              "      <td>42.3</td>\n",
              "      <td>19.677</td>\n",
              "      <td>12.325</td>\n",
              "      <td>46682.515</td>\n",
              "      <td>0.2</td>\n",
              "      <td>114.767</td>\n",
              "      <td>6.41</td>\n",
              "      <td>19.3</td>\n",
              "      <td>18.8</td>\n",
              "      <td>NaN</td>\n",
              "      <td>2.5</td>\n",
              "      <td>80.9</td>\n",
              "      <td>0.94</td>\n",
              "      <td>NaN</td>\n",
              "      <td>NaN</td>\n",
              "      <td>NaN</td>\n",
              "      <td>NaN</td>\n",
              "    </tr>\n",
              "    <tr>\n",
              "      <th>51578</th>\n",
              "      <td>DNK</td>\n",
              "      <td>Europe</td>\n",
              "      <td>Denmark</td>\n",
              "      <td>2020-03-29</td>\n",
              "      <td>2395.0</td>\n",
              "      <td>194.0</td>\n",
              "      <td>142.857</td>\n",
              "      <td>72.0</td>\n",
              "      <td>7.0</td>\n",
              "      <td>8.429</td>\n",
              "      <td>409.105</td>\n",
              "      <td>33.138</td>\n",
              "      <td>24.402</td>\n",
              "      <td>12.299</td>\n",
              "      <td>1.196</td>\n",
              "      <td>1.440</td>\n",
              "      <td>1.43</td>\n",
              "      <td>131.0</td>\n",
              "      <td>22.377</td>\n",
              "      <td>NaN</td>\n",
              "      <td>NaN</td>\n",
              "      <td>NaN</td>\n",
              "      <td>NaN</td>\n",
              "      <td>555.0</td>\n",
              "      <td>94.803</td>\n",
              "      <td>23477.0</td>\n",
              "      <td>1301.0</td>\n",
              "      <td>4.010</td>\n",
              "      <td>0.222</td>\n",
              "      <td>1431.0</td>\n",
              "      <td>0.244</td>\n",
              "      <td>0.0998</td>\n",
              "      <td>10.0</td>\n",
              "      <td>tests performed</td>\n",
              "      <td>NaN</td>\n",
              "      <td>NaN</td>\n",
              "      <td>NaN</td>\n",
              "      <td>NaN</td>\n",
              "      <td>NaN</td>\n",
              "      <td>NaN</td>\n",
              "      <td>NaN</td>\n",
              "      <td>NaN</td>\n",
              "      <td>NaN</td>\n",
              "      <td>NaN</td>\n",
              "      <td>NaN</td>\n",
              "      <td>NaN</td>\n",
              "      <td>NaN</td>\n",
              "      <td>72.22</td>\n",
              "      <td>5854240.0</td>\n",
              "      <td>136.52</td>\n",
              "      <td>42.3</td>\n",
              "      <td>19.677</td>\n",
              "      <td>12.325</td>\n",
              "      <td>46682.515</td>\n",
              "      <td>0.2</td>\n",
              "      <td>114.767</td>\n",
              "      <td>6.41</td>\n",
              "      <td>19.3</td>\n",
              "      <td>18.8</td>\n",
              "      <td>NaN</td>\n",
              "      <td>2.5</td>\n",
              "      <td>80.9</td>\n",
              "      <td>0.94</td>\n",
              "      <td>-1117.0</td>\n",
              "      <td>-7.37</td>\n",
              "      <td>-0.29</td>\n",
              "      <td>-190.80188</td>\n",
              "    </tr>\n",
              "    <tr>\n",
              "      <th>51579</th>\n",
              "      <td>DNK</td>\n",
              "      <td>Europe</td>\n",
              "      <td>Denmark</td>\n",
              "      <td>2020-03-30</td>\n",
              "      <td>2577.0</td>\n",
              "      <td>182.0</td>\n",
              "      <td>161.000</td>\n",
              "      <td>77.0</td>\n",
              "      <td>5.0</td>\n",
              "      <td>7.571</td>\n",
              "      <td>440.194</td>\n",
              "      <td>31.089</td>\n",
              "      <td>27.501</td>\n",
              "      <td>13.153</td>\n",
              "      <td>0.854</td>\n",
              "      <td>1.293</td>\n",
              "      <td>1.43</td>\n",
              "      <td>137.0</td>\n",
              "      <td>23.402</td>\n",
              "      <td>NaN</td>\n",
              "      <td>NaN</td>\n",
              "      <td>NaN</td>\n",
              "      <td>NaN</td>\n",
              "      <td>538.0</td>\n",
              "      <td>91.899</td>\n",
              "      <td>26695.0</td>\n",
              "      <td>3218.0</td>\n",
              "      <td>4.560</td>\n",
              "      <td>0.550</td>\n",
              "      <td>1731.0</td>\n",
              "      <td>0.296</td>\n",
              "      <td>0.0930</td>\n",
              "      <td>10.8</td>\n",
              "      <td>tests performed</td>\n",
              "      <td>NaN</td>\n",
              "      <td>NaN</td>\n",
              "      <td>NaN</td>\n",
              "      <td>NaN</td>\n",
              "      <td>NaN</td>\n",
              "      <td>NaN</td>\n",
              "      <td>NaN</td>\n",
              "      <td>NaN</td>\n",
              "      <td>NaN</td>\n",
              "      <td>NaN</td>\n",
              "      <td>NaN</td>\n",
              "      <td>NaN</td>\n",
              "      <td>NaN</td>\n",
              "      <td>72.22</td>\n",
              "      <td>5854240.0</td>\n",
              "      <td>136.52</td>\n",
              "      <td>42.3</td>\n",
              "      <td>19.677</td>\n",
              "      <td>12.325</td>\n",
              "      <td>46682.515</td>\n",
              "      <td>0.2</td>\n",
              "      <td>114.767</td>\n",
              "      <td>6.41</td>\n",
              "      <td>19.3</td>\n",
              "      <td>18.8</td>\n",
              "      <td>NaN</td>\n",
              "      <td>2.5</td>\n",
              "      <td>80.9</td>\n",
              "      <td>0.94</td>\n",
              "      <td>NaN</td>\n",
              "      <td>NaN</td>\n",
              "      <td>NaN</td>\n",
              "      <td>NaN</td>\n",
              "    </tr>\n",
              "    <tr>\n",
              "      <th>51580</th>\n",
              "      <td>DNK</td>\n",
              "      <td>Europe</td>\n",
              "      <td>Denmark</td>\n",
              "      <td>2020-03-31</td>\n",
              "      <td>2860.0</td>\n",
              "      <td>283.0</td>\n",
              "      <td>181.286</td>\n",
              "      <td>90.0</td>\n",
              "      <td>13.0</td>\n",
              "      <td>8.286</td>\n",
              "      <td>488.535</td>\n",
              "      <td>48.341</td>\n",
              "      <td>30.967</td>\n",
              "      <td>15.373</td>\n",
              "      <td>2.221</td>\n",
              "      <td>1.415</td>\n",
              "      <td>1.41</td>\n",
              "      <td>145.0</td>\n",
              "      <td>24.768</td>\n",
              "      <td>NaN</td>\n",
              "      <td>NaN</td>\n",
              "      <td>NaN</td>\n",
              "      <td>NaN</td>\n",
              "      <td>508.0</td>\n",
              "      <td>86.775</td>\n",
              "      <td>29904.0</td>\n",
              "      <td>3209.0</td>\n",
              "      <td>5.108</td>\n",
              "      <td>0.548</td>\n",
              "      <td>2029.0</td>\n",
              "      <td>0.347</td>\n",
              "      <td>0.0893</td>\n",
              "      <td>11.2</td>\n",
              "      <td>tests performed</td>\n",
              "      <td>NaN</td>\n",
              "      <td>NaN</td>\n",
              "      <td>NaN</td>\n",
              "      <td>NaN</td>\n",
              "      <td>NaN</td>\n",
              "      <td>NaN</td>\n",
              "      <td>NaN</td>\n",
              "      <td>NaN</td>\n",
              "      <td>NaN</td>\n",
              "      <td>NaN</td>\n",
              "      <td>NaN</td>\n",
              "      <td>NaN</td>\n",
              "      <td>NaN</td>\n",
              "      <td>72.22</td>\n",
              "      <td>5854240.0</td>\n",
              "      <td>136.52</td>\n",
              "      <td>42.3</td>\n",
              "      <td>19.677</td>\n",
              "      <td>12.325</td>\n",
              "      <td>46682.515</td>\n",
              "      <td>0.2</td>\n",
              "      <td>114.767</td>\n",
              "      <td>6.41</td>\n",
              "      <td>19.3</td>\n",
              "      <td>18.8</td>\n",
              "      <td>NaN</td>\n",
              "      <td>2.5</td>\n",
              "      <td>80.9</td>\n",
              "      <td>0.94</td>\n",
              "      <td>NaN</td>\n",
              "      <td>NaN</td>\n",
              "      <td>NaN</td>\n",
              "      <td>NaN</td>\n",
              "    </tr>\n",
              "    <tr>\n",
              "      <th>51581</th>\n",
              "      <td>DNK</td>\n",
              "      <td>Europe</td>\n",
              "      <td>Denmark</td>\n",
              "      <td>2020-04-01</td>\n",
              "      <td>3107.0</td>\n",
              "      <td>247.0</td>\n",
              "      <td>197.571</td>\n",
              "      <td>104.0</td>\n",
              "      <td>14.0</td>\n",
              "      <td>10.000</td>\n",
              "      <td>530.726</td>\n",
              "      <td>42.192</td>\n",
              "      <td>33.748</td>\n",
              "      <td>17.765</td>\n",
              "      <td>2.391</td>\n",
              "      <td>1.708</td>\n",
              "      <td>1.39</td>\n",
              "      <td>146.0</td>\n",
              "      <td>24.939</td>\n",
              "      <td>NaN</td>\n",
              "      <td>NaN</td>\n",
              "      <td>NaN</td>\n",
              "      <td>NaN</td>\n",
              "      <td>478.0</td>\n",
              "      <td>81.650</td>\n",
              "      <td>33462.0</td>\n",
              "      <td>3558.0</td>\n",
              "      <td>5.716</td>\n",
              "      <td>0.608</td>\n",
              "      <td>2341.0</td>\n",
              "      <td>0.400</td>\n",
              "      <td>0.0844</td>\n",
              "      <td>11.8</td>\n",
              "      <td>tests performed</td>\n",
              "      <td>NaN</td>\n",
              "      <td>NaN</td>\n",
              "      <td>NaN</td>\n",
              "      <td>NaN</td>\n",
              "      <td>NaN</td>\n",
              "      <td>NaN</td>\n",
              "      <td>NaN</td>\n",
              "      <td>NaN</td>\n",
              "      <td>NaN</td>\n",
              "      <td>NaN</td>\n",
              "      <td>NaN</td>\n",
              "      <td>NaN</td>\n",
              "      <td>NaN</td>\n",
              "      <td>72.22</td>\n",
              "      <td>5854240.0</td>\n",
              "      <td>136.52</td>\n",
              "      <td>42.3</td>\n",
              "      <td>19.677</td>\n",
              "      <td>12.325</td>\n",
              "      <td>46682.515</td>\n",
              "      <td>0.2</td>\n",
              "      <td>114.767</td>\n",
              "      <td>6.41</td>\n",
              "      <td>19.3</td>\n",
              "      <td>18.8</td>\n",
              "      <td>NaN</td>\n",
              "      <td>2.5</td>\n",
              "      <td>80.9</td>\n",
              "      <td>0.94</td>\n",
              "      <td>NaN</td>\n",
              "      <td>NaN</td>\n",
              "      <td>NaN</td>\n",
              "      <td>NaN</td>\n",
              "    </tr>\n",
              "  </tbody>\n",
              "</table>\n",
              "</div>\n",
              "      <button class=\"colab-df-convert\" onclick=\"convertToInteractive('df-97b71df9-0545-4c32-8962-7cfbdbe01132')\"\n",
              "              title=\"Convert this dataframe to an interactive table.\"\n",
              "              style=\"display:none;\">\n",
              "        \n",
              "  <svg xmlns=\"http://www.w3.org/2000/svg\" height=\"24px\"viewBox=\"0 0 24 24\"\n",
              "       width=\"24px\">\n",
              "    <path d=\"M0 0h24v24H0V0z\" fill=\"none\"/>\n",
              "    <path d=\"M18.56 5.44l.94 2.06.94-2.06 2.06-.94-2.06-.94-.94-2.06-.94 2.06-2.06.94zm-11 1L8.5 8.5l.94-2.06 2.06-.94-2.06-.94L8.5 2.5l-.94 2.06-2.06.94zm10 10l.94 2.06.94-2.06 2.06-.94-2.06-.94-.94-2.06-.94 2.06-2.06.94z\"/><path d=\"M17.41 7.96l-1.37-1.37c-.4-.4-.92-.59-1.43-.59-.52 0-1.04.2-1.43.59L10.3 9.45l-7.72 7.72c-.78.78-.78 2.05 0 2.83L4 21.41c.39.39.9.59 1.41.59.51 0 1.02-.2 1.41-.59l7.78-7.78 2.81-2.81c.8-.78.8-2.07 0-2.86zM5.41 20L4 18.59l7.72-7.72 1.47 1.35L5.41 20z\"/>\n",
              "  </svg>\n",
              "      </button>\n",
              "      \n",
              "  <style>\n",
              "    .colab-df-container {\n",
              "      display:flex;\n",
              "      flex-wrap:wrap;\n",
              "      gap: 12px;\n",
              "    }\n",
              "\n",
              "    .colab-df-convert {\n",
              "      background-color: #E8F0FE;\n",
              "      border: none;\n",
              "      border-radius: 50%;\n",
              "      cursor: pointer;\n",
              "      display: none;\n",
              "      fill: #1967D2;\n",
              "      height: 32px;\n",
              "      padding: 0 0 0 0;\n",
              "      width: 32px;\n",
              "    }\n",
              "\n",
              "    .colab-df-convert:hover {\n",
              "      background-color: #E2EBFA;\n",
              "      box-shadow: 0px 1px 2px rgba(60, 64, 67, 0.3), 0px 1px 3px 1px rgba(60, 64, 67, 0.15);\n",
              "      fill: #174EA6;\n",
              "    }\n",
              "\n",
              "    [theme=dark] .colab-df-convert {\n",
              "      background-color: #3B4455;\n",
              "      fill: #D2E3FC;\n",
              "    }\n",
              "\n",
              "    [theme=dark] .colab-df-convert:hover {\n",
              "      background-color: #434B5C;\n",
              "      box-shadow: 0px 1px 3px 1px rgba(0, 0, 0, 0.15);\n",
              "      filter: drop-shadow(0px 1px 2px rgba(0, 0, 0, 0.3));\n",
              "      fill: #FFFFFF;\n",
              "    }\n",
              "  </style>\n",
              "\n",
              "      <script>\n",
              "        const buttonEl =\n",
              "          document.querySelector('#df-97b71df9-0545-4c32-8962-7cfbdbe01132 button.colab-df-convert');\n",
              "        buttonEl.style.display =\n",
              "          google.colab.kernel.accessAllowed ? 'block' : 'none';\n",
              "\n",
              "        async function convertToInteractive(key) {\n",
              "          const element = document.querySelector('#df-97b71df9-0545-4c32-8962-7cfbdbe01132');\n",
              "          const dataTable =\n",
              "            await google.colab.kernel.invokeFunction('convertToInteractive',\n",
              "                                                     [key], {});\n",
              "          if (!dataTable) return;\n",
              "\n",
              "          const docLinkHtml = 'Like what you see? Visit the ' +\n",
              "            '<a target=\"_blank\" href=https://colab.research.google.com/notebooks/data_table.ipynb>data table notebook</a>'\n",
              "            + ' to learn more about interactive tables.';\n",
              "          element.innerHTML = '';\n",
              "          dataTable['output_type'] = 'display_data';\n",
              "          await google.colab.output.renderOutput(dataTable, element);\n",
              "          const docLink = document.createElement('div');\n",
              "          docLink.innerHTML = docLinkHtml;\n",
              "          element.appendChild(docLink);\n",
              "        }\n",
              "      </script>\n",
              "    </div>\n",
              "  </div>\n",
              "  "
            ]
          },
          "metadata": {},
          "execution_count": 66
        }
      ]
    },
    {
      "cell_type": "code",
      "source": [
        "data_covid_dk['days'] = data_covid_dk[\"date\"].str.split(\"-\").apply(lambda x: x[2]).astype(int)\n",
        "\n",
        "plt.scatter(data_covid_dk['days'], data_covid_dk[\"new_cases\"])\n",
        "\n",
        "plt.xlabel(\"Days from the 04th of March 2020\")\n",
        "plt.ylabel(\"Number of cases of COVID-19\")\n",
        "plt.show()"
      ],
      "metadata": {
        "colab": {
          "base_uri": "https://localhost:8080/",
          "height": 285
        },
        "id": "3MMC6p862thk",
        "outputId": "eba70043-93e2-4c73-f870-116684d50e4d"
      },
      "execution_count": null,
      "outputs": [
        {
          "output_type": "display_data",
          "data": {
            "text/plain": [
              "<Figure size 432x288 with 1 Axes>"
            ],
            "image/png": "[encoded data removed]"
          },
          "metadata": {
            "needs_background": "dark"
          }
        }
      ]
    },
    {
      "cell_type": "code",
      "source": [
        "X_dk = data_covid_dk['days'].to_numpy().reshape(-1, 1)\n",
        "y_dk = data_covid_dk[\"new_cases\"].to_numpy().reshape(-1, 1)"
      ],
      "metadata": {
        "id": "pkXiLPxi28mk"
      },
      "execution_count": null,
      "outputs": []
    },
    {
      "cell_type": "code",
      "source": [
        "from sklearn.preprocessing import StandardScaler\n",
        "\n",
        "standard_scaler = StandardScaler()\n",
        "X_dk = standard_scaler.fit_transform(X_dk)\n",
        "y_dk = standard_scaler.fit_transform(y_dk)"
      ],
      "metadata": {
        "id": "QqaDOzic3GZ6"
      },
      "execution_count": null,
      "outputs": []
    },
    {
      "cell_type": "code",
      "source": [
        "MSE_derivative(x=X_dk, y=y_dk, theta=0.66775)"
      ],
      "metadata": {
        "colab": {
          "base_uri": "https://localhost:8080/"
        },
        "id": "wPnaoBM339mP",
        "outputId": "82e1f2f8-cbe2-4d46-b08d-14d0f33a68d0"
      },
      "execution_count": null,
      "outputs": [
        {
          "output_type": "execute_result",
          "data": {
            "text/plain": [
              "1.25516204780681"
            ]
          },
          "metadata": {},
          "execution_count": 70
        }
      ]
    },
    {
      "cell_type": "code",
      "source": [
        "lr = 0.01\n",
        "theta = 0\n",
        "theta = theta - lr * MSE_derivative(x=X_dk, y=y_dk, theta=theta)\n",
        "theta"
      ],
      "metadata": {
        "colab": {
          "base_uri": "https://localhost:8080/"
        },
        "id": "VSO2C2Ma4BO2",
        "outputId": "80b2cab4-91ab-4bec-e931-dbd9b70d3eee"
      },
      "execution_count": null,
      "outputs": [
        {
          "output_type": "execute_result",
          "data": {
            "text/plain": [
              "-0.005874120478068099"
            ]
          },
          "metadata": {},
          "execution_count": 71
        }
      ]
    },
    {
      "cell_type": "code",
      "source": [
        "lr = 0.1\n",
        "theta = 0\n",
        "\n",
        "theta_all = []\n",
        "cost_all = []\n",
        "\n",
        "for i in range(30):\n",
        "    theta = theta - lr * MSE_derivative(x=X_dk, y=y_dk, theta=theta)\n",
        "    cost = MSE(X, y, theta)\n",
        "    \n",
        "    theta_all.append(theta)\n",
        "    cost_all.append(cost)\n",
        "    \n",
        "plt.scatter(theta_all, cost_all, linewidth=1.5, c=np.arange(len(cost_all)))\n",
        "\n",
        "plt.xlabel(r\"Value of the parameter $\\theta$\")\n",
        "plt.ylabel(\"Cost\")\n",
        "clb = plt.colorbar()\n",
        "clb.ax.set_title('Iterations')\n",
        "plt.show()"
      ],
      "metadata": {
        "colab": {
          "base_uri": "https://localhost:8080/",
          "height": 302
        },
        "id": "bmMEGOuT3cGa",
        "outputId": "b5701f28-d66c-47ab-e716-1d7aa70e0e33"
      },
      "execution_count": null,
      "outputs": [
        {
          "output_type": "display_data",
          "data": {
            "text/plain": [
              "<Figure size 432x288 with 2 Axes>"
            ],
            "image/png": "[encoded data removed]"
          },
          "metadata": {
            "needs_background": "dark"
          }
        }
      ]
    },
    {
      "cell_type": "code",
      "source": [
        "best_slope = theta_all[-1]\n",
        "best_slope"
      ],
      "metadata": {
        "colab": {
          "base_uri": "https://localhost:8080/"
        },
        "id": "jBZbVUEt3zn3",
        "outputId": "115838ff-72fc-4011-c8a3-fc4f65af5d7a"
      },
      "execution_count": null,
      "outputs": [
        {
          "output_type": "execute_result",
          "data": {
            "text/plain": [
              "-0.5625109707154626"
            ]
          },
          "metadata": {},
          "execution_count": 73
        }
      ]
    },
    {
      "cell_type": "code",
      "source": [
        "x_axis = np.arange(-2, 4, 0.1)\n",
        "y_axis = best_slope * x_axis\n",
        "plt.scatter(X_dk, y_dk, alpha=0.4, zorder=0)\n",
        "plt.plot(x_axis, y_axis, c='#FF8177')\n",
        "\n",
        "plt.xlabel(\"Days from the 04th of March 2020\")\n",
        "plt.ylabel(\"Number of cases of COVID-19\")\n",
        "plt.show()"
      ],
      "metadata": {
        "colab": {
          "base_uri": "https://localhost:8080/",
          "height": 282
        },
        "id": "p0j55J6v4Mf6",
        "outputId": "c1617e0b-8d67-436f-b099-83d5faf6dc30"
      },
      "execution_count": null,
      "outputs": [
        {
          "output_type": "display_data",
          "data": {
            "text/plain": [
              "<Figure size 432x288 with 1 Axes>"
            ],
            "image/png": "[encoded data removed]"
          },
          "metadata": {
            "needs_background": "dark"
          }
        }
      ]
    },
    {
      "cell_type": "code",
      "source": [
        "from sklearn.preprocessing import StandardScaler\n",
        "scaler = StandardScaler()\n",
        "\n",
        "scaler.fit(X_dk)\n",
        "X_dk_transformed = scaler.transform(X_dk)\n",
        "# y_dk_noise_transformed = scaler.transform(y_dk.reshape(-1, 1)).flatten()\n",
        "y_dk_transformed = scaler.transform(y_dk.reshape(-1, 1)).flatten()"
      ],
      "metadata": {
        "id": "Tk1DUQwZ4PiV"
      },
      "execution_count": null,
      "outputs": []
    },
    {
      "cell_type": "markdown",
      "source": [
        "![](https://i0.wp.com/www.nullplug.org/ML-Blog/wp-content/uploads/2017/10/compressed_polyreg_normal.gif?resize=640%2C480)"
      ],
      "metadata": {
        "id": "q-6_Jx_77Own"
      }
    },
    {
      "cell_type": "code",
      "source": [
        "import numpy as np\n",
        "from sklearn.preprocessing import PolynomialFeatures\n",
        "\n",
        "poly = PolynomialFeatures(10, include_bias=False)\n",
        "X_dk_poly = poly.fit_transform(X_dk_transformed)"
      ],
      "metadata": {
        "id": "UAPL5TD95_Bn"
      },
      "execution_count": null,
      "outputs": []
    },
    {
      "cell_type": "code",
      "source": [
        "from sklearn.linear_model import Ridge\n",
        "\n",
        "X_axis = np.arange(-1.7, 1.65, 0.01)\n",
        "X_axis_poly = poly.fit_transform(X_axis.reshape(-1, 1))\n",
        "\n",
        "f, axes = plt.subplots(1, 5, figsize=(16, 4), sharey=True)\n",
        "\n",
        "\n",
        "count = 0\n",
        "\n",
        "for alpha, ax in zip([0.00001, 0.001, 0.01, 8, 50], axes.flatten()):\n",
        "    ridge = Ridge(alpha=alpha)\n",
        "    ridge.fit(X_dk_poly, y_dk_transformed)\n",
        "    y_axis_ridge = ridge.predict(X_axis_poly)\n",
        "\n",
        "    ax.plot(X_axis_poly[:, 0], y_axis_ridge, c=\"#F57F53\")\n",
        "    ax.scatter(X_dk_transformed, y_dk_transformed,\n",
        "                alpha=0.6, s=60, label=\"Data\")\n",
        "    ax.scatter(X_dk_transformed, y_dk_transformed,\n",
        "                alpha=0.6, s=60, label=\"Data with noise\")\n",
        "    ax.set_title(r\"$\\alpha$\" + f\" = {alpha}\")\n",
        "    # [...] Figure titles, legend...\n",
        "    \n",
        "    if count ==  0:\n",
        "        ax.legend()\n",
        "    count += 1\n",
        "    "
      ],
      "metadata": {
        "colab": {
          "base_uri": "https://localhost:8080/",
          "height": 284
        },
        "id": "RAgI70US6BKz",
        "outputId": "8778be1f-f159-4081-9639-c96c36b6d1bf"
      },
      "execution_count": null,
      "outputs": [
        {
          "output_type": "display_data",
          "data": {
            "text/plain": [
              "<Figure size 1152x288 with 5 Axes>"
            ],
            "image/png": "[encoded data removed]"
          },
          "metadata": {
            "needs_background": "dark"
          }
        }
      ]
    }
  ]
}