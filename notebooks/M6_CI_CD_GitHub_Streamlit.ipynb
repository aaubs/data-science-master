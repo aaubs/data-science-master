{
  "nbformat": 4,
  "nbformat_minor": 0,
  "metadata": {
    "colab": {
      "provenance": [],
      "authorship_tag": "ABX9TyMqZwcP08IpSnJZBq3GWpg3",
      "include_colab_link": true
    },
    "kernelspec": {
      "name": "python3",
      "display_name": "Python 3"
    },
    "language_info": {
      "name": "python"
    }
  },
  "cells": [
    {
      "cell_type": "markdown",
      "metadata": {
        "id": "view-in-github",
        "colab_type": "text"
      },
      "source": [
        "<a href=\"https://colab.research.google.com/github/aaubs/ds-master/blob/main/notebooks/M6_CI_CD_GitHub_Streamlit.ipynb\" target=\"_parent\"><img src=\"https://colab.research.google.com/assets/colab-badge.svg\" alt=\"Open In Colab\"/></a>"
      ]
    },
    {
      "cell_type": "markdown",
      "source": [
        "CI/CD is an essential practice for modern software development, enabling developers to automate the build, testing, and deployment process of their applications. For example, when it comes to deploying a Streamlit app, you can utilize cloud-based platforms like Streamlit server, Heroku, Google Cloud Platform (GCP), or Amazon Web Services (AWS) that provide a suite of tools and services to automate these processes.\n",
        "\n"
      ],
      "metadata": {
        "id": "6-LLXB6JnJpo"
      }
    },
    {
      "cell_type": "markdown",
      "source": [
        "![](https://www.synopsys.com/glossary/what-is-cicd/_jcr_content/root/synopsyscontainer/column_1946395452_co/colRight/image_copy.coreimg.svg/1663683682045/cicd.svg)"
      ],
      "metadata": {
        "id": "QSWaDGetqkrk"
      }
    },
    {
      "cell_type": "markdown",
      "source": [
        "####Step 1: Create a Streamlit app for Iris classification\n",
        "\n",
        "Create a Streamlit app for Iris classification using Python and Scikit-learn. The app should take user inputs for the sepal length, sepal width, petal length, and petal width of an Iris flower and predict its species using a pre-trained K-nearest neighbors (KNN) classification model. "
      ],
      "metadata": {
        "id": "N01CCy7jnOgP"
      }
    },
    {
      "cell_type": "code",
      "execution_count": null,
      "metadata": {
        "id": "TolNH-OMmbMN"
      },
      "outputs": [],
      "source": [
        "#app.py\n",
        "from sklearn.datasets import load_iris\n",
        "from sklearn.model_selection import train_test_split\n",
        "from sklearn.neighbors import KNeighborsClassifier\n",
        "\n",
        "iris = load_iris()\n",
        "X_train, X_test, y_train, y_test = train_test_split(iris.data, iris.target, test_size=0.2)\n",
        "\n",
        "model = KNeighborsClassifier(n_neighbors=5)\n",
        "model.fit(X_train, y_train)\n",
        "\n",
        "import streamlit as st\n",
        "\n",
        "st.title(\"Iris Classification\")\n",
        "st.sidebar.title(\"Input Parameters\")\n",
        "\n",
        "sepal_length = st.sidebar.slider(\"Sepal length\", 0.0, 10.0, 5.0)\n",
        "sepal_width = st.sidebar.slider(\"Sepal width\", 0.0, 10.0, 5.0)\n",
        "petal_length = st.sidebar.slider(\"Petal length\", 0.0, 10.0, 5.0)\n",
        "petal_width = st.sidebar.slider(\"Petal width\", 0.0, 10.0, 5.0)\n",
        "\n",
        "input_data = [[sepal_length, sepal_width, petal_length, petal_width]]\n",
        "\n",
        "if st.sidebar.button(\"Predict\"):\n",
        "    prediction = model.predict(input_data)\n",
        "    st.write(f\"Predicted iris species: {iris.target_names[prediction[0]]}\")"
      ]
    },
    {
      "cell_type": "markdown",
      "source": [
        "####Step 2: Set up a GitHub repository for your app\n",
        "Set up a new repository on GitHub for your Streamlit app. This repository will host your code and allow you to deploy your app using the Streamlit server.\n",
        "\n"
      ],
      "metadata": {
        "id": "KPn620aNooli"
      }
    },
    {
      "cell_type": "markdown",
      "source": [
        "####Step 3: Install and configure the Streamlit server\n",
        "\n",
        "Install the Streamlit server on your local machine by running pip install streamlit. Once installed, you can run the Streamlit server using the command streamlit run app.py. This will start the server and display your Streamlit app in a web browser."
      ],
      "metadata": {
        "id": "UZs9otBDouu8"
      }
    },
    {
      "cell_type": "markdown",
      "source": [
        "####Step 4: Connect your GitHub repository to the Streamlit server\n",
        "To deploy your app on the Streamlit server, you need to connect your GitHub repository to the server. You can do this by creating an account on the Streamlit sharing platform (https://share.streamlit.io/) and linking your GitHub repository to the platform."
      ],
      "metadata": {
        "id": "Oe9Rf8eEpici"
      }
    },
    {
      "cell_type": "markdown",
      "source": [
        "####Step 5: Deploy your app on the Streamlit server\n",
        "Once you have connected your GitHub repository to the Streamlit server, you can deploy your app by clicking on the \"Deploy app\" button on the Streamlit sharing platform. This will trigger a build process that deploys your app on the Streamlit server. You can then access your app using the URL provided by the Streamlit server.\n",
        "\n"
      ],
      "metadata": {
        "id": "Ug0Lxv_AppOh"
      }
    },
    {
      "cell_type": "markdown",
      "source": [
        "####Step 7: Push your code changes to the repository and monitor the deployment process\n",
        "\n",
        "Push your code changes to the repository and monitor the deployment process. You should see the app being built, tested, and deployed automatically by the CI/CD pipeline. Once the deployment is complete, you can access the app using the URL provided by the cloud platform."
      ],
      "metadata": {
        "id": "PqjY4OHBp3BS"
      }
    },
    {
      "cell_type": "markdown",
      "source": [
        "<img src=\"https://raw.githubusercontent.com/aaubs/ds-master/main/data/Images/Exercise.png\" width=\"600\">"
      ],
      "metadata": {
        "id": "7ZHRFAGaVq3t"
      }
    },
    {
      "cell_type": "code",
      "source": [],
      "metadata": {
        "id": "W7VpMBPjVrYO"
      },
      "execution_count": null,
      "outputs": []
    }
  ]
}