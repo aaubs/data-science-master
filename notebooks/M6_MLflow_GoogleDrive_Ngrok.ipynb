{
  "nbformat": 4,
  "nbformat_minor": 0,
  "metadata": {
    "colab": {
      "provenance": [],
      "authorship_tag": "ABX9TyNfbVH1HdZpvtJVw5ebk5fD",
      "include_colab_link": true
    },
    "kernelspec": {
      "name": "python3",
      "display_name": "Python 3"
    },
    "language_info": {
      "name": "python"
    }
  },
  "cells": [
    {
      "cell_type": "markdown",
      "metadata": {
        "id": "view-in-github",
        "colab_type": "text"
      },
      "source": [
        "<a href=\"https://colab.research.google.com/github/aaubs/ds-master/blob/main/notebooks/M6_MLflow_GoogleDrive_Ngrok.ipynb\" target=\"_parent\"><img src=\"https://colab.research.google.com/assets/colab-badge.svg\" alt=\"Open In Colab\"/></a>"
      ]
    },
    {
      "cell_type": "markdown",
      "source": [
        "![](https://raw.githubusercontent.com/aaubs/ds-master/main/data/Images/mlflow.jpg)"
      ],
      "metadata": {
        "id": "PoqSHie5M5Z5"
      }
    },
    {
      "cell_type": "markdown",
      "source": [
        "We mount the Google Drive filesystem in Colab and changes the current working directory to a specific directory within the mounted Google Drive directory.\n",
        "\n"
      ],
      "metadata": {
        "id": "JjigF0ycLngW"
      }
    },
    {
      "cell_type": "code",
      "execution_count": null,
      "metadata": {
        "colab": {
          "base_uri": "https://localhost:8080/"
        },
        "id": "BWVg3aERAs7w",
        "outputId": "451e3c6b-e943-4b35-c5ef-4dd7ee7ede92"
      },
      "outputs": [
        {
          "output_type": "stream",
          "name": "stdout",
          "text": [
            "Mounted at /content/drive\n"
          ]
        }
      ],
      "source": [
        "# mount to Google drive\n",
        "from google.colab import drive\n",
        "drive.mount('/content/drive')"
      ]
    },
    {
      "cell_type": "code",
      "source": [
        "import os\n",
        "os.chdir('/content/drive/My Drive/learn/mlflow')"
      ],
      "metadata": {
        "id": "_bxvC2uZA1sz"
      },
      "execution_count": null,
      "outputs": []
    },
    {
      "cell_type": "markdown",
      "source": [
        "The second cell installs the MLflow Python package if it's not already installed, and then imports it. It also imports several other Python packages that may be used later in the code, such as os and pandas. Finally, it prints the version of MLflow that is installed.\n",
        "\n"
      ],
      "metadata": {
        "id": "gtIdarQSLztm"
      }
    },
    {
      "cell_type": "code",
      "source": [
        "## Step 1 - Installing MLflow and checking the version\n",
        "\n",
        "# install and import mlflow\n",
        "import importlib\n",
        "\n",
        "if importlib.util.find_spec('mlflow') is None:\n",
        "  !pip install mlflow --q\n",
        "\n",
        "\n",
        "import os\n",
        "import pandas as pd\n",
        "\n",
        "import mlflow\n",
        "\n",
        "print(mlflow.__version__)"
      ],
      "metadata": {
        "colab": {
          "base_uri": "https://localhost:8080/"
        },
        "id": "X-gDXEAuBDCD",
        "outputId": "913482b3-b79f-47d8-da7f-dfba35129b63"
      },
      "execution_count": null,
      "outputs": [
        {
          "output_type": "stream",
          "name": "stdout",
          "text": [
            "\u001b[2K     \u001b[90m━━━━━━━━━━━━━━━━━━━━━━━━━━━━━━━━━━━━━━━━\u001b[0m \u001b[32m17.6/17.6 MB\u001b[0m \u001b[31m42.6 MB/s\u001b[0m eta \u001b[36m0:00:00\u001b[0m\n",
            "\u001b[2K     \u001b[90m━━━━━━━━━━━━━━━━━━━━━━━━━━━━━━━━━━━━━━━━\u001b[0m \u001b[32m82.7/82.7 kB\u001b[0m \u001b[31m7.3 MB/s\u001b[0m eta \u001b[36m0:00:00\u001b[0m\n",
            "\u001b[?25h  Preparing metadata (setup.py) ... \u001b[?25l\u001b[?25hdone\n",
            "\u001b[2K     \u001b[90m━━━━━━━━━━━━━━━━━━━━━━━━━━━━━━━━━━━━━━\u001b[0m \u001b[32m147.5/147.5 kB\u001b[0m \u001b[31m11.9 MB/s\u001b[0m eta \u001b[36m0:00:00\u001b[0m\n",
            "\u001b[2K     \u001b[90m━━━━━━━━━━━━━━━━━━━━━━━━━━━━━━━━━━━━━━\u001b[0m \u001b[32m572.4/572.4 kB\u001b[0m \u001b[31m33.2 MB/s\u001b[0m eta \u001b[36m0:00:00\u001b[0m\n",
            "\u001b[2K     \u001b[90m━━━━━━━━━━━━━━━━━━━━━━━━━━━━━━━━━━━━━━\u001b[0m \u001b[32m212.3/212.3 kB\u001b[0m \u001b[31m16.9 MB/s\u001b[0m eta \u001b[36m0:00:00\u001b[0m\n",
            "\u001b[2K     \u001b[90m━━━━━━━━━━━━━━━━━━━━━━━━━━━━━━━━━━━━━━━━\u001b[0m \u001b[32m79.5/79.5 kB\u001b[0m \u001b[31m6.5 MB/s\u001b[0m eta \u001b[36m0:00:00\u001b[0m\n",
            "\u001b[2K     \u001b[90m━━━━━━━━━━━━━━━━━━━━━━━━━━━━━━━━━━━━━━\u001b[0m \u001b[32m184.3/184.3 kB\u001b[0m \u001b[31m12.1 MB/s\u001b[0m eta \u001b[36m0:00:00\u001b[0m\n",
            "\u001b[2K     \u001b[90m━━━━━━━━━━━━━━━━━━━━━━━━━━━━━━━━━━━━━━━━\u001b[0m \u001b[32m78.7/78.7 kB\u001b[0m \u001b[31m8.4 MB/s\u001b[0m eta \u001b[36m0:00:00\u001b[0m\n",
            "\u001b[2K     \u001b[90m━━━━━━━━━━━━━━━━━━━━━━━━━━━━━━━━━━━━━━━━\u001b[0m \u001b[32m62.7/62.7 kB\u001b[0m \u001b[31m5.2 MB/s\u001b[0m eta \u001b[36m0:00:00\u001b[0m\n",
            "\u001b[?25h  Building wheel for databricks-cli (setup.py) ... \u001b[?25l\u001b[?25hdone\n",
            "2.2.2\n"
          ]
        }
      ]
    },
    {
      "cell_type": "markdown",
      "source": [
        "We will create a directory called artefacts_mlflow if it doesn't already exist, and then creates an MLflow experiment with the name \"Iris Classification\". It then retrieves the ID of the newly created experiment.\n",
        "\n"
      ],
      "metadata": {
        "id": "ou940z_vL4bL"
      }
    },
    {
      "cell_type": "code",
      "source": [
        "## Step 1 - Setting mlflow artefacts\n",
        "artefacts_temp_dir = 'artefacts_mlflow'\n",
        "if not os.path.exists(artefacts_temp_dir):\n",
        "    os.makedirs(artefacts_temp_dir)\n",
        "\n",
        "mlflow.create_experiment('Iris Classification')"
      ],
      "metadata": {
        "colab": {
          "base_uri": "https://localhost:8080/",
          "height": 35
        },
        "id": "MGc9SdNnBF_i",
        "outputId": "fabd564d-008d-4ce0-f8a9-606047af1cf9"
      },
      "execution_count": null,
      "outputs": [
        {
          "output_type": "execute_result",
          "data": {
            "text/plain": [
              "'948807405757869476'"
            ],
            "application/vnd.google.colaboratory.intrinsic+json": {
              "type": "string"
            }
          },
          "metadata": {},
          "execution_count": 4
        }
      ]
    },
    {
      "cell_type": "code",
      "source": [
        "# Get the experiment ID for the experiment with the specified name\n",
        "experiment_id = mlflow.get_experiment_by_name('Iris Classification').experiment_id\n"
      ],
      "metadata": {
        "id": "N4PA1EtsP_3H"
      },
      "execution_count": null,
      "outputs": []
    },
    {
      "cell_type": "code",
      "source": [
        "## Step 2 - Starting MLflow, running UI in background\n",
        "\n",
        "# Start an MLflow run\n",
        "with mlflow.start_run(run_name=\"my-run\", nested=True, experiment_id=experiment_id):\n",
        "    # Log some metrics\n",
        "    mlflow.log_metric(\"accuracy\", 0.85)\n",
        "    mlflow.log_metric(\"precision\", 0.75)"
      ],
      "metadata": {
        "id": "d46iqMRkBK9o"
      },
      "execution_count": null,
      "outputs": []
    },
    {
      "cell_type": "markdown",
      "source": [
        "The fourth cell starts a new MLflow run within the previously created experiment, with the name \"my-run\". It then logs two metrics for the run, \"accuracy\" and \"precision\", with the respective values 0.85 and 0.75. Finally, it starts the MLflow tracking UI in the background using a system command."
      ],
      "metadata": {
        "id": "uXz3GpNKMJv0"
      }
    },
    {
      "cell_type": "markdown",
      "source": [
        "We install the Pyngrok Python package and imports it, and then prompt the user to enter their Ngrok authentication token. It then sets the authentication token in the Pyngrok library, creates an HTTP tunnel to the MLflow tracking UI running on port 5000, and prints the public URL of the tunnel. This allows the user to access the MLflow tracking UI from a remote location.\n",
        "\n",
        "\n",
        "\n"
      ],
      "metadata": {
        "id": "87Bu1e_zMGHF"
      }
    },
    {
      "cell_type": "markdown",
      "source": [
        "![](https://hackernoon.com/hn-images/1*OBNbvLxAESaQTEqWdqBCGw.png)"
      ],
      "metadata": {
        "id": "PBkaHXTJLJK0"
      }
    },
    {
      "cell_type": "code",
      "source": [
        "# run tracking UI in the background\n",
        "get_ipython().system_raw(\"mlflow ui --port 5000 &\")\n",
        "## Step 3 - Installing pyngrok for remote tunnel access using ngrock.com\n",
        "!pip install pyngrok --quiet\n",
        "from pyngrok import ngrok\n",
        "from getpass import getpass\n",
        "# Terminate open tunnels if any exist\n",
        "ngrok.kill()\n",
        "## Step 4 - Login on ngrok.com and get your authtoken from https://dashboard.ngrok.com/auth\n",
        "# Enter your auth token when the code is running\n",
        "NGROK_AUTH_TOKEN = getpass('Enter the ngrok authtoken: ')\n",
        "ngrok.set_auth_token(NGROK_AUTH_TOKEN)\n",
        "ngrok_tunnel = ngrok.connect(addr=\"5000\", proto=\"http\", bind_tls=True)\n",
        "print(\"MLflow Tracking UI:\", ngrok_tunnel.public_url)"
      ],
      "metadata": {
        "colab": {
          "base_uri": "https://localhost:8080/"
        },
        "id": "dIq8JtNCEB_b",
        "outputId": "abef6fdd-b540-4926-fed5-ea4bcbe77fe6"
      },
      "execution_count": null,
      "outputs": [
        {
          "output_type": "stream",
          "name": "stdout",
          "text": [
            "\u001b[2K     \u001b[90m━━━━━━━━━━━━━━━━━━━━━━━━━━━━━━━━━━━━━━━\u001b[0m \u001b[32m680.1/680.1 kB\u001b[0m \u001b[31m2.2 MB/s\u001b[0m eta \u001b[36m0:00:00\u001b[0m\n",
            "\u001b[?25h  Preparing metadata (setup.py) ... \u001b[?25l\u001b[?25hdone\n",
            "  Building wheel for pyngrok (setup.py) ... \u001b[?25l\u001b[?25hdone\n",
            "Enter the ngrok authtoken: ··········\n",
            "MLflow Tracking UI: https://c3b7-35-224-57-111.ngrok-free.app\n"
          ]
        }
      ]
    },
    {
      "cell_type": "markdown",
      "source": [
        "<img src=\"https://raw.githubusercontent.com/aaubs/ds-master/main/data/Images/Exercise.png\" width=\"600\">"
      ],
      "metadata": {
        "id": "4u1KvuAOaZ5e"
      }
    },
    {
      "cell_type": "code",
      "source": [],
      "metadata": {
        "id": "weU4VMoXaamQ"
      },
      "execution_count": null,
      "outputs": []
    }
  ]
}