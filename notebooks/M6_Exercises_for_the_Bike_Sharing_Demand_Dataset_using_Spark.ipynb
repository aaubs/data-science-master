{
  "nbformat": 4,
  "nbformat_minor": 0,
  "metadata": {
    "colab": {
      "provenance": [],
      "authorship_tag": "ABX9TyMbJX3/qU1i7hluK8QGBH6O",
      "include_colab_link": true
    },
    "kernelspec": {
      "name": "python3",
      "display_name": "Python 3"
    },
    "language_info": {
      "name": "python"
    }
  },
  "cells": [
    {
      "cell_type": "markdown",
      "metadata": {
        "id": "view-in-github",
        "colab_type": "text"
      },
      "source": [
        "<a href=\"https://colab.research.google.com/github/aaubs/ds-master/blob/main/notebooks/M6_Exercises_for_the_Bike_Sharing_Demand_Dataset_using_Spark.ipynb\" target=\"_parent\"><img src=\"https://colab.research.google.com/assets/colab-badge.svg\" alt=\"Open In Colab\"/></a>"
      ]
    },
    {
      "cell_type": "markdown",
      "source": [
        "##Exercise 1\n",
        "Load the dataset into a Spark DataFrame and display the first 5 rows.\n"
      ],
      "metadata": {
        "id": "Vk8C05N6RWU2"
      }
    },
    {
      "cell_type": "code",
      "source": [
        "!pip install pyspark --q"
      ],
      "metadata": {
        "id": "fgYjZH5BR_mP"
      },
      "execution_count": null,
      "outputs": []
    },
    {
      "cell_type": "code",
      "source": [
        "import pandas as pd\n",
        "\n",
        "df_bike_sharing = pd.read_csv(\"https://raw.githubusercontent.com/arifuddinatif/Bike-Sharing-Demand-Prediction/main/SeoulBikeData.csv\", encoding=\"ISO-8859-1\")\n",
        "df_bike_sharing.to_csv('bike-sharing-demand.csv', index=False)"
      ],
      "metadata": {
        "id": "Ap2tkVZCSWIe"
      },
      "execution_count": null,
      "outputs": []
    },
    {
      "cell_type": "code",
      "execution_count": null,
      "metadata": {
        "colab": {
          "base_uri": "https://localhost:8080/"
        },
        "id": "CbzAJSAZRO2_",
        "outputId": "e542ea40-ac01-4a28-c382-9d54846c80ae"
      },
      "outputs": [
        {
          "output_type": "stream",
          "name": "stdout",
          "text": [
            "+----------+-----------------+----+---------------+-----------+----------------+----------------+-------------------------+-----------------------+------------+-------------+-------+----------+---------------+\n",
            "|      Date|Rented Bike Count|Hour|Temperature(°C)|Humidity(%)|Wind speed (m/s)|Visibility (10m)|Dew point temperature(°C)|Solar Radiation (MJ/m2)|Rainfall(mm)|Snowfall (cm)|Seasons|   Holiday|Functioning Day|\n",
            "+----------+-----------------+----+---------------+-----------+----------------+----------------+-------------------------+-----------------------+------------+-------------+-------+----------+---------------+\n",
            "|01/12/2017|              254|   0|           -5.2|         37|             2.2|            2000|                    -17.6|                    0.0|         0.0|          0.0| Winter|No Holiday|            Yes|\n",
            "|01/12/2017|              204|   1|           -5.5|         38|             0.8|            2000|                    -17.6|                    0.0|         0.0|          0.0| Winter|No Holiday|            Yes|\n",
            "|01/12/2017|              173|   2|           -6.0|         39|             1.0|            2000|                    -17.7|                    0.0|         0.0|          0.0| Winter|No Holiday|            Yes|\n",
            "|01/12/2017|              107|   3|           -6.2|         40|             0.9|            2000|                    -17.6|                    0.0|         0.0|          0.0| Winter|No Holiday|            Yes|\n",
            "|01/12/2017|               78|   4|           -6.0|         36|             2.3|            2000|                    -18.6|                    0.0|         0.0|          0.0| Winter|No Holiday|            Yes|\n",
            "+----------+-----------------+----+---------------+-----------+----------------+----------------+-------------------------+-----------------------+------------+-------------+-------+----------+---------------+\n",
            "only showing top 5 rows\n",
            "\n"
          ]
        }
      ],
      "source": [
        "from pyspark.sql import SparkSession\n",
        "\n"
      ]
    },
    {
      "cell_type": "markdown",
      "source": [
        "##Exercise 2\n",
        "Display the total number of rows in the dataset.\n"
      ],
      "metadata": {
        "id": "s9Fvty61S9BY"
      }
    },
    {
      "cell_type": "code",
      "source": [
        "rowCount = \n",
        "print(\"Total number of rows in the dataset:\", rowCount)"
      ],
      "metadata": {
        "colab": {
          "base_uri": "https://localhost:8080/"
        },
        "id": "62CQ4li0R78O",
        "outputId": "d9fb90fa-d1e3-4943-81fd-279cf50d44d0"
      },
      "execution_count": null,
      "outputs": [
        {
          "output_type": "stream",
          "name": "stdout",
          "text": [
            "Total number of rows in the dataset: 8760\n"
          ]
        }
      ]
    },
    {
      "cell_type": "code",
      "source": [
        "bikeSharingDF.dtypes"
      ],
      "metadata": {
        "colab": {
          "base_uri": "https://localhost:8080/"
        },
        "id": "d70wChXPUQ19",
        "outputId": "fcf8ae68-bb8a-48a4-d80f-7200bdc82deb"
      },
      "execution_count": null,
      "outputs": [
        {
          "output_type": "execute_result",
          "data": {
            "text/plain": [
              "[('Date', 'string'),\n",
              " ('Rented Bike Count', 'int'),\n",
              " ('Hour', 'int'),\n",
              " ('Temperature(°C)', 'double'),\n",
              " ('Humidity(%)', 'int'),\n",
              " ('Wind speed (m/s)', 'double'),\n",
              " ('Visibility (10m)', 'int'),\n",
              " ('Dew point temperature(°C)', 'double'),\n",
              " ('Solar Radiation (MJ/m2)', 'double'),\n",
              " ('Rainfall(mm)', 'double'),\n",
              " ('Snowfall (cm)', 'double'),\n",
              " ('Seasons', 'string'),\n",
              " ('Holiday', 'string'),\n",
              " ('Functioning Day', 'string')]"
            ]
          },
          "metadata": {},
          "execution_count": 68
        }
      ]
    },
    {
      "cell_type": "code",
      "source": [
        "bikeSharingDF.columns"
      ],
      "metadata": {
        "colab": {
          "base_uri": "https://localhost:8080/"
        },
        "id": "pu6xrXkaTaiP",
        "outputId": "04cb8529-d1bf-458a-c5cf-899d3be53d06"
      },
      "execution_count": null,
      "outputs": [
        {
          "output_type": "execute_result",
          "data": {
            "text/plain": [
              "['Date',\n",
              " 'Rented Bike Count',\n",
              " 'Hour',\n",
              " 'Temperature(°C)',\n",
              " 'Humidity(%)',\n",
              " 'Wind speed (m/s)',\n",
              " 'Visibility (10m)',\n",
              " 'Dew point temperature(°C)',\n",
              " 'Solar Radiation (MJ/m2)',\n",
              " 'Rainfall(mm)',\n",
              " 'Snowfall (cm)',\n",
              " 'Seasons',\n",
              " 'Holiday',\n",
              " 'Functioning Day']"
            ]
          },
          "metadata": {},
          "execution_count": 69
        }
      ]
    },
    {
      "cell_type": "markdown",
      "source": [
        "## Exercise 3\n",
        "Display the number of unique values in the 'season' column.\n"
      ],
      "metadata": {
        "id": "dZt2Q0dGTMAv"
      }
    },
    {
      "cell_type": "code",
      "source": [
        "uniqueSeasons = \n",
        "\n",
        "print(\"Number of unique values in the 'season' column:\", uniqueSeasons)\n"
      ],
      "metadata": {
        "colab": {
          "base_uri": "https://localhost:8080/"
        },
        "id": "OS0h5K-WTJVc",
        "outputId": "9ec4e29a-f654-4bf1-a9a1-09e93298e246"
      },
      "execution_count": null,
      "outputs": [
        {
          "output_type": "stream",
          "name": "stdout",
          "text": [
            "Number of unique values in the 'season' column: 4\n"
          ]
        }
      ]
    },
    {
      "cell_type": "markdown",
      "source": [
        "##Exercise 4\n",
        "Display the average temperature for each season.\n"
      ],
      "metadata": {
        "id": "6KBHJKwaTnGz"
      }
    },
    {
      "cell_type": "code",
      "source": [
        "from pyspark.sql.functions import avg\n",
        "\n",
        "avgTempBySeason = \n",
        "avgTempBySeason.show()"
      ],
      "metadata": {
        "colab": {
          "base_uri": "https://localhost:8080/"
        },
        "id": "ugcZy9z8TSnT",
        "outputId": "1aa6d0ae-6abf-4a6f-f294-539df1741305"
      },
      "execution_count": null,
      "outputs": [
        {
          "output_type": "stream",
          "name": "stdout",
          "text": [
            "+-------+--------------------+\n",
            "|Seasons|avg(Temperature(°C))|\n",
            "+-------+--------------------+\n",
            "| Spring|  13.046693840579712|\n",
            "| Summer|  26.582789855072505|\n",
            "| Autumn|    14.1208333333333|\n",
            "| Winter| -2.5404629629629607|\n",
            "+-------+--------------------+\n",
            "\n"
          ]
        }
      ]
    },
    {
      "cell_type": "markdown",
      "source": [
        "##Exercise 5\n",
        "Display the minimum and maximum temperature for each season.\n"
      ],
      "metadata": {
        "id": "NBQ5C5IiT1Dd"
      }
    },
    {
      "cell_type": "code",
      "source": [
        "from pyspark.sql.functions import min, max\n",
        "\n",
        "tempRangeBySeason = \n",
        "tempRangeBySeason.show()"
      ],
      "metadata": {
        "colab": {
          "base_uri": "https://localhost:8080/"
        },
        "id": "6McVUAxITuzC",
        "outputId": "9b62c24c-7c6b-418a-858a-5abf2353c6e7"
      },
      "execution_count": null,
      "outputs": [
        {
          "output_type": "stream",
          "name": "stdout",
          "text": [
            "+-------+--------------------+--------------------+\n",
            "|Seasons|min(Temperature(°C))|max(Temperature(°C))|\n",
            "+-------+--------------------+--------------------+\n",
            "| Spring|                -6.6|                29.4|\n",
            "| Summer|                16.3|                39.4|\n",
            "| Autumn|                -3.0|                30.5|\n",
            "| Winter|               -17.8|                10.3|\n",
            "+-------+--------------------+--------------------+\n",
            "\n"
          ]
        }
      ]
    },
    {
      "cell_type": "markdown",
      "source": [
        "##Exercise 6\n",
        "Display the number of rentals per year.\n"
      ],
      "metadata": {
        "id": "tWUDKYRaUAQ0"
      }
    },
    {
      "cell_type": "code",
      "source": [
        "from pyspark.sql.functions import to_timestamp, year, sum, desc\n",
        "\n",
        "\n"
      ],
      "metadata": {
        "colab": {
          "base_uri": "https://localhost:8080/"
        },
        "id": "lSfibI4MUprT",
        "outputId": "bdfc25e5-f7ba-410e-84de-0d22d03a31ab"
      },
      "execution_count": null,
      "outputs": [
        {
          "output_type": "stream",
          "name": "stdout",
          "text": [
            "+----+----------------------+\n",
            "|year|sum(Rented Bike Count)|\n",
            "+----+----------------------+\n",
            "|2018|               5986984|\n",
            "|2017|                185330|\n",
            "+----+----------------------+\n",
            "\n"
          ]
        }
      ]
    },
    {
      "cell_type": "markdown",
      "source": [
        "##Exercise 7\n",
        "Display the average number of rentals per hour.\n"
      ],
      "metadata": {
        "id": "cYF-kUo3XVp-"
      }
    },
    {
      "cell_type": "code",
      "source": [
        "avgRentalsPerHour = \n",
        "avgRentalsPerHour.show()"
      ],
      "metadata": {
        "colab": {
          "base_uri": "https://localhost:8080/"
        },
        "id": "eiOpzu73UN-f",
        "outputId": "0e1fac09-d5b8-483d-f433-1245e6dae0f8"
      },
      "execution_count": null,
      "outputs": [
        {
          "output_type": "stream",
          "name": "stdout",
          "text": [
            "+----+----------------------+\n",
            "|Hour|avg(Rented Bike Count)|\n",
            "+----+----------------------+\n",
            "|  12|     699.4410958904109|\n",
            "|  22|     922.7972602739726|\n",
            "|   1|     426.1835616438356|\n",
            "|  13|     733.2465753424658|\n",
            "|   6|     287.5643835616438|\n",
            "|  16|     930.6219178082192|\n",
            "|   3|    203.33150684931508|\n",
            "|  20|     1068.964383561644|\n",
            "|   5|    139.08219178082192|\n",
            "|  19|    1195.1479452054793|\n",
            "|  15|      829.186301369863|\n",
            "|   9|     645.9835616438356|\n",
            "|  17|     1138.509589041096|\n",
            "|   4|     132.5917808219178|\n",
            "|   8|    1015.7013698630137|\n",
            "|  23|     671.1260273972603|\n",
            "|   7|     606.0054794520548|\n",
            "|  10|     527.8219178082192|\n",
            "|  21|    1031.4493150684932|\n",
            "|  11|     600.8520547945205|\n",
            "+----+----------------------+\n",
            "only showing top 20 rows\n",
            "\n"
          ]
        }
      ]
    },
    {
      "cell_type": "markdown",
      "source": [
        "##Exercise 8\n",
        "Display the days with the highest number of rentals.\n"
      ],
      "metadata": {
        "id": "5Qm5-MZbXmcj"
      }
    },
    {
      "cell_type": "code",
      "source": [
        "from pyspark.sql.functions import to_timestamp, year, sum, desc, first\n",
        "\n",
        "maxRentalsByDay = \n",
        "maxRentalsByDay.show(10)\n"
      ],
      "metadata": {
        "colab": {
          "base_uri": "https://localhost:8080/"
        },
        "id": "rf7Vi5GhXfFC",
        "outputId": "ca23fd74-37d8-4284-842e-8b66bdbfbfb2"
      },
      "execution_count": null,
      "outputs": [
        {
          "output_type": "stream",
          "name": "stdout",
          "text": [
            "+----------+----------------------+\n",
            "|      Date|sum(Rented Bike Count)|\n",
            "+----------+----------------------+\n",
            "|13/06/2018|                 36149|\n",
            "|19/06/2018|                 35349|\n",
            "|08/06/2018|                 35103|\n",
            "|20/06/2018|                 34639|\n",
            "|21/06/2018|                 34621|\n",
            "|12/06/2018|                 34544|\n",
            "|16/06/2018|                 34360|\n",
            "|22/06/2018|                 34079|\n",
            "|06/07/2018|                 33676|\n",
            "|15/06/2018|                 33492|\n",
            "+----------+----------------------+\n",
            "only showing top 10 rows\n",
            "\n"
          ]
        }
      ]
    },
    {
      "cell_type": "markdown",
      "source": [
        "##Exercise 9\n",
        "Display the average number of rentals per season."
      ],
      "metadata": {
        "id": "q9Odcwz4YZcB"
      }
    },
    {
      "cell_type": "code",
      "source": [
        "bikeSharingDF.columns"
      ],
      "metadata": {
        "colab": {
          "base_uri": "https://localhost:8080/"
        },
        "id": "Dih-vFGGYkQm",
        "outputId": "df986adf-bbb5-4d72-9e30-eb226b7f4318"
      },
      "execution_count": null,
      "outputs": [
        {
          "output_type": "execute_result",
          "data": {
            "text/plain": [
              "['Date',\n",
              " 'Rented Bike Count',\n",
              " 'Hour',\n",
              " 'Temperature(°C)',\n",
              " 'Humidity(%)',\n",
              " 'Wind speed (m/s)',\n",
              " 'Visibility (10m)',\n",
              " 'Dew point temperature(°C)',\n",
              " 'Solar Radiation (MJ/m2)',\n",
              " 'Rainfall(mm)',\n",
              " 'Snowfall (cm)',\n",
              " 'Seasons',\n",
              " 'Holiday',\n",
              " 'Functioning Day',\n",
              " 'datetime',\n",
              " 'year']"
            ]
          },
          "metadata": {},
          "execution_count": 76
        }
      ]
    },
    {
      "cell_type": "code",
      "source": [
        "avgRentalsBySeason = \n",
        "avgRentalsBySeason.show()"
      ],
      "metadata": {
        "colab": {
          "base_uri": "https://localhost:8080/"
        },
        "id": "QdWWcyyaXxQa",
        "outputId": "fc1b33a0-6710-40b9-de3c-d6640a98b2b9"
      },
      "execution_count": null,
      "outputs": [
        {
          "output_type": "stream",
          "name": "stdout",
          "text": [
            "+-------+----------------------+\n",
            "|Seasons|avg(Rented Bike Count)|\n",
            "+-------+----------------------+\n",
            "| Spring|             730.03125|\n",
            "| Summer|    1034.0733695652175|\n",
            "| Autumn|     819.5979853479854|\n",
            "| Winter|     225.5412037037037|\n",
            "+-------+----------------------+\n",
            "\n"
          ]
        }
      ]
    },
    {
      "cell_type": "markdown",
      "source": [
        "##Exercise 10\n",
        "Display the average number of rentals for Holiday and no Holiday."
      ],
      "metadata": {
        "id": "YttLag-hZHJ0"
      }
    },
    {
      "cell_type": "code",
      "source": [
        "avgRentalsByWeather = \n",
        "avgRentalsByWeather.show()\n"
      ],
      "metadata": {
        "colab": {
          "base_uri": "https://localhost:8080/"
        },
        "id": "rQDb6o7jZFm9",
        "outputId": "d1ed212f-288d-456a-c439-deb9cb3e15f9"
      },
      "execution_count": null,
      "outputs": [
        {
          "output_type": "stream",
          "name": "stdout",
          "text": [
            "+----------+----------------------+\n",
            "|   Holiday|avg(Rented Bike Count)|\n",
            "+----------+----------------------+\n",
            "|No Holiday|     715.2280259365995|\n",
            "|   Holiday|    499.75694444444446|\n",
            "+----------+----------------------+\n",
            "\n"
          ]
        }
      ]
    },
    {
      "cell_type": "markdown",
      "source": [
        "##Exercise 11\n",
        "Display the average number of rentals per day of the week.\n"
      ],
      "metadata": {
        "id": "RmUA55EU_8Fy"
      }
    },
    {
      "cell_type": "code",
      "source": [
        "from pyspark.sql.functions import dayofweek\n",
        "\n",
        "avgRentalsByDayOfWeek = \n",
        "avgRentalsByDayOfWeek.show()"
      ],
      "metadata": {
        "colab": {
          "base_uri": "https://localhost:8080/"
        },
        "id": "0V-yzeLjZbES",
        "outputId": "64a578a3-2a28-424d-933f-550dbc908840"
      },
      "execution_count": null,
      "outputs": [
        {
          "output_type": "stream",
          "name": "stdout",
          "text": [
            "+---------+----------------------+\n",
            "|dayOfWeek|avg(Rented Bike Count)|\n",
            "+---------+----------------------+\n",
            "|        1|     625.1554487179487|\n",
            "|        6|     747.1179245283018|\n",
            "|        3|     687.9775641025641|\n",
            "|        5|     690.7043269230769|\n",
            "|        4|      740.349358974359|\n",
            "|        7|     709.5288461538462|\n",
            "|        2|     730.5633012820513|\n",
            "+---------+----------------------+\n",
            "\n"
          ]
        }
      ]
    },
    {
      "cell_type": "markdown",
      "source": [
        "##Exercise 12\n",
        "Display the average number of rentals per month.\n"
      ],
      "metadata": {
        "id": "RKVQklaTDazO"
      }
    },
    {
      "cell_type": "code",
      "source": [
        "from pyspark.sql.functions import month\n",
        "\n",
        "avgRentalsByMonth = \n",
        "avgRentalsByMonth.show()"
      ],
      "metadata": {
        "colab": {
          "base_uri": "https://localhost:8080/"
        },
        "id": "67yaxbguATWI",
        "outputId": "12e2be99-d4be-4de7-9995-476c484362b3"
      },
      "execution_count": null,
      "outputs": [
        {
          "output_type": "stream",
          "name": "stdout",
          "text": [
            "+-----+----------------------+\n",
            "|month|avg(Rented Bike Count)|\n",
            "+-----+----------------------+\n",
            "|   12|     249.0994623655914|\n",
            "|    1|     201.6209677419355|\n",
            "|    6|    1245.6763888888888|\n",
            "|    3|     511.5510752688172|\n",
            "|    5|     950.3870967741935|\n",
            "|    9|     935.5722222222222|\n",
            "|    4|     728.0930555555556|\n",
            "|    8|     876.1922043010753|\n",
            "|    7|     987.1774193548387|\n",
            "|   10|     874.5631720430108|\n",
            "|   11|     646.8263888888889|\n",
            "|    2|    225.94196428571428|\n",
            "+-----+----------------------+\n",
            "\n"
          ]
        }
      ]
    },
    {
      "cell_type": "markdown",
      "source": [
        "## Exercise 13\n",
        "Display the busiest hour of the day. "
      ],
      "metadata": {
        "id": "ktXuHH5IDlM-"
      }
    },
    {
      "cell_type": "code",
      "source": [
        "busiestHour = \n",
        "\n",
        "busiestHour.show()\n"
      ],
      "metadata": {
        "colab": {
          "base_uri": "https://localhost:8080/"
        },
        "id": "6xkliQp4Dior",
        "outputId": "1ad74d02-ac6a-4ec3-9430-0804ea9d281f"
      },
      "execution_count": null,
      "outputs": [
        {
          "output_type": "stream",
          "name": "stdout",
          "text": [
            "+----+----------------------+\n",
            "|hour|sum(Rented Bike Count)|\n",
            "+----+----------------------+\n",
            "|  18|                548568|\n",
            "|  19|                436229|\n",
            "|  17|                415556|\n",
            "+----+----------------------+\n",
            "\n"
          ]
        }
      ]
    },
    {
      "cell_type": "markdown",
      "source": [
        "## Exercise 14\n",
        "Display the busiest day of the year."
      ],
      "metadata": {
        "id": "xXzqohuOD22z"
      }
    },
    {
      "cell_type": "code",
      "source": [
        "busiestDayOfYear = \n",
        "\n",
        "busiestDayOfYear.show()\n"
      ],
      "metadata": {
        "colab": {
          "base_uri": "https://localhost:8080/"
        },
        "id": "whwYXN1RDvXH",
        "outputId": "08beb034-4033-4c34-acab-659a406af116"
      },
      "execution_count": null,
      "outputs": [
        {
          "output_type": "stream",
          "name": "stdout",
          "text": [
            "+----------+----------------------+\n",
            "|      date|sum(Rented Bike Count)|\n",
            "+----------+----------------------+\n",
            "|13/06/2018|                 36149|\n",
            "+----------+----------------------+\n",
            "\n"
          ]
        }
      ]
    },
    {
      "cell_type": "markdown",
      "source": [
        "##Exercise 15\n",
        "Display the average number of rentals per hour, grouped by Holiday or no Holiday.\n"
      ],
      "metadata": {
        "id": "p6FJRkWxEC54"
      }
    },
    {
      "cell_type": "code",
      "source": [
        "avgRentalsByHourAndWeather = \n",
        "\n",
        "avgRentalsByHourAndWeather.show()\n"
      ],
      "metadata": {
        "colab": {
          "base_uri": "https://localhost:8080/"
        },
        "id": "bqRf2XTCD__9",
        "outputId": "dc2a1ab4-ef85-40d0-af4c-99c1d4f60eee"
      },
      "execution_count": null,
      "outputs": [
        {
          "output_type": "stream",
          "name": "stdout",
          "text": [
            "+----------+----+----------------------+\n",
            "|   Holiday|hour|avg(Rented Bike Count)|\n",
            "+----------+----+----------------------+\n",
            "|No Holiday|  18|    1539.3544668587897|\n",
            "|No Holiday|  19|    1219.6945244956773|\n",
            "|No Holiday|  17|     1154.487031700288|\n",
            "|No Holiday|  20|    1087.3890489913545|\n",
            "|No Holiday|   8|    1050.3112391930836|\n",
            "|No Holiday|  21|    1049.7665706051873|\n",
            "|No Holiday|  22|     939.7060518731988|\n",
            "|No Holiday|  16|     938.0403458213257|\n",
            "|No Holiday|  15|     833.4092219020173|\n",
            "|   Holiday|  17|                 830.5|\n",
            "+----------+----+----------------------+\n",
            "\n"
          ]
        }
      ]
    },
    {
      "cell_type": "markdown",
      "source": [
        "##Exercise 16\n",
        "\n",
        "Display the busiest hour of the day for each season."
      ],
      "metadata": {
        "id": "KTB5vPCKEsgT"
      }
    },
    {
      "cell_type": "code",
      "source": [
        "\n",
        "\n",
        "busiestHourBySeason.show()\n"
      ],
      "metadata": {
        "colab": {
          "base_uri": "https://localhost:8080/"
        },
        "id": "M7sI6fTgELqP",
        "outputId": "8a097644-fec9-41ff-da0f-b5da38e8ddad"
      },
      "execution_count": null,
      "outputs": [
        {
          "output_type": "stream",
          "name": "stdout",
          "text": [
            "+-------+-----------+\n",
            "|Seasons|busiestHour|\n",
            "+-------+-----------+\n",
            "| Spring|         18|\n",
            "| Summer|         18|\n",
            "| Autumn|         18|\n",
            "| Winter|         18|\n",
            "+-------+-----------+\n",
            "\n"
          ]
        }
      ]
    },
    {
      "cell_type": "markdown",
      "source": [
        "##Exercise 17\n",
        "Display the average number of rentals per hour, grouped by day of the week."
      ],
      "metadata": {
        "id": "hruy8B6uFPYY"
      }
    },
    {
      "cell_type": "code",
      "source": [
        "\n",
        "avgRentalsByHourAndDayOfWeek.show()\n"
      ],
      "metadata": {
        "colab": {
          "base_uri": "https://localhost:8080/"
        },
        "id": "AGUufUFrE52P",
        "outputId": "49a4ceac-8f82-4f7b-e37c-c082e55daffd"
      },
      "execution_count": null,
      "outputs": [
        {
          "output_type": "stream",
          "name": "stdout",
          "text": [
            "+---------+----+----------------------+\n",
            "|dayOfWeek|Hour|avg(Rented Bike Count)|\n",
            "+---------+----+----------------------+\n",
            "|        3|  22|     900.2307692307693|\n",
            "|        3|  15|     701.6538461538462|\n",
            "|        7|  21|     993.6153846153846|\n",
            "|        6|  20|     1111.188679245283|\n",
            "|        1|   0|     638.8461538461538|\n",
            "|        4|  10|     563.4807692307693|\n",
            "|        5|  16|     803.4615384615385|\n",
            "|        6|   1|     431.6792452830189|\n",
            "|        3|   1|    380.38461538461536|\n",
            "|        7|   4|    184.82692307692307|\n",
            "|        2|   2|     199.8653846153846|\n",
            "|        6|  22|     987.2641509433962|\n",
            "|        3|  13|     663.4615384615385|\n",
            "|        7|  14|     959.2115384615385|\n",
            "|        2|  19|    1294.4807692307693|\n",
            "|        3|  18|    1552.3461538461538|\n",
            "|        1|   7|    205.23076923076923|\n",
            "|        7|   1|     597.1730769230769|\n",
            "|        1|  20|     989.8461538461538|\n",
            "|        2|   3|    132.76923076923077|\n",
            "+---------+----+----------------------+\n",
            "only showing top 20 rows\n",
            "\n"
          ]
        }
      ]
    },
    {
      "cell_type": "markdown",
      "source": [
        "##Exercise 18\n",
        "Display the percentage of rentals that were taken on weekends."
      ],
      "metadata": {
        "id": "WGUP5BqiFfxN"
      }
    },
    {
      "cell_type": "code",
      "source": [
        "from pyspark.sql.functions import dayofweek\n",
        "totalRentals = \n",
        "weekendRentals = \n",
        "weekendPercentage = weekendRentals / totalRentals * 100\n",
        "print(\"Percentage of rentals that were taken on weekends:\", weekendPercentage)"
      ],
      "metadata": {
        "colab": {
          "base_uri": "https://localhost:8080/"
        },
        "id": "hXe1Bo1cFW_x",
        "outputId": "6404fc51-34c6-4583-a86c-e9cccf325f9f"
      },
      "execution_count": null,
      "outputs": [
        {
          "output_type": "stream",
          "name": "stdout",
          "text": [
            "Percentage of rentals that were taken on weekends: 26.986410607107803\n"
          ]
        }
      ]
    }
  ]
}