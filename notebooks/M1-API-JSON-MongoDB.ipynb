{
  "nbformat": 4,
  "nbformat_minor": 0,
  "metadata": {
    "colab": {
      "provenance": [],
      "collapsed_sections": [],
      "authorship_tag": "ABX9TyOEny1qVTRTj5mLh/uFo1cN",
      "include_colab_link": true
    },
    "kernelspec": {
      "name": "python3",
      "display_name": "Python 3"
    },
    "language_info": {
      "name": "python"
    }
  },
  "cells": [
    {
      "cell_type": "markdown",
      "metadata": {
        "id": "view-in-github",
        "colab_type": "text"
      },
      "source": [
        "<a href=\"https://colab.research.google.com/github/aaubs/ds-master/blob/main/notebooks/M1-API-JSON-MongoDB.ipynb\" target=\"_parent\"><img src=\"https://colab.research.google.com/assets/colab-badge.svg\" alt=\"Open In Colab\"/></a>"
      ]
    },
    {
      "cell_type": "markdown",
      "source": [
        "# Working with web- & app-data\n",
        "\n",
        "In this session, you will learn to work with Python dictionaries, the JSON (Java Script Object Notation) format. This will also include dealing (a bit) with APIs and MongoDB"
      ],
      "metadata": {
        "id": "wa-XgUQExS34"
      }
    },
    {
      "cell_type": "code",
      "source": [
        "# some necessary installs\n",
        "!pip install \"pymongo[srv]\"\n",
        "!pip install cloudscraper\n",
        "!pip install srsly"
      ],
      "metadata": {
        "id": "Zm8SIPJeNA5H"
      },
      "execution_count": null,
      "outputs": []
    },
    {
      "cell_type": "code",
      "source": [
        "import pandas as pd"
      ],
      "metadata": {
        "id": "ruOgruPv0Qra"
      },
      "execution_count": null,
      "outputs": []
    },
    {
      "cell_type": "markdown",
      "source": [
        "## Python dictionaries (recap)\n",
        "\n",
        "Dictionaries are a super-flexible datatype that is able to take in and index nested structures."
      ],
      "metadata": {
        "id": "4eGnU2IfyyYr"
      }
    },
    {
      "cell_type": "code",
      "source": [
        "capitals = {\"USA\":\"Washington D.C.\", \"France\":\"Paris\", \"India\":\"New Delhi\"}"
      ],
      "metadata": {
        "id": "5o0l5a19zN0C"
      },
      "execution_count": null,
      "outputs": []
    },
    {
      "cell_type": "code",
      "source": [
        "capitals['Denmark'] = 'Copenhagen'"
      ],
      "metadata": {
        "id": "oouu9YoAzSrj"
      },
      "execution_count": null,
      "outputs": []
    },
    {
      "cell_type": "code",
      "source": [
        "capitals['Denmark']"
      ],
      "metadata": {
        "id": "25Q48qQ9zWwf"
      },
      "execution_count": null,
      "outputs": []
    },
    {
      "cell_type": "code",
      "source": [
        "capitals.keys()"
      ],
      "metadata": {
        "id": "Vh_qF0dHzZDh"
      },
      "execution_count": null,
      "outputs": []
    },
    {
      "cell_type": "code",
      "source": [
        "capitals.values()"
      ],
      "metadata": {
        "id": "59A5dyzIza3v"
      },
      "execution_count": null,
      "outputs": []
    },
    {
      "cell_type": "code",
      "source": [
        "country_info = {}"
      ],
      "metadata": {
        "id": "DK0oyB_bzdUR"
      },
      "execution_count": null,
      "outputs": []
    },
    {
      "cell_type": "code",
      "source": [
        "country_info['USA'] = {'capital':\"Washington D.C.\", 'population': 329.5, 'cities': [\"Washington D.C.\",'New York','San Francisco']}"
      ],
      "metadata": {
        "id": "IdJzPLcqzmTO"
      },
      "execution_count": null,
      "outputs": []
    },
    {
      "cell_type": "code",
      "source": [
        "country_info['Denmark'] = {'capital':\"Copenhagen\", 'population': 5.831, 'cities': [\"Copenhagen\",'Århus','Odense','Aalborg']}"
      ],
      "metadata": {
        "id": "Qun9hNgtz8sy"
      },
      "execution_count": null,
      "outputs": []
    },
    {
      "cell_type": "code",
      "source": [
        "country_info"
      ],
      "metadata": {
        "id": "Ih6op-Uw0J0s"
      },
      "execution_count": null,
      "outputs": []
    },
    {
      "cell_type": "markdown",
      "source": [
        "### Dicts in Pandas?"
      ],
      "metadata": {
        "id": "X9vGf9FF2FTv"
      }
    },
    {
      "cell_type": "code",
      "source": [
        "pd.DataFrame(country_info)"
      ],
      "metadata": {
        "id": "Bd8jO-j30NDi"
      },
      "execution_count": null,
      "outputs": []
    },
    {
      "cell_type": "code",
      "source": [
        "pd.DataFrame(country_info).T"
      ],
      "metadata": {
        "id": "I_aKDUGG0ZOs"
      },
      "execution_count": null,
      "outputs": []
    },
    {
      "cell_type": "code",
      "source": [
        "pd.DataFrame(country_info).T.to_json('country_info.json')"
      ],
      "metadata": {
        "id": "iOmujyq60toY"
      },
      "execution_count": null,
      "outputs": []
    },
    {
      "cell_type": "markdown",
      "source": [
        "### Introducing srsly: Modern high-performance serialization utilities for Python\n",
        "\n",
        "https://pypi.org/project/srsly/"
      ],
      "metadata": {
        "id": "1o5UO7eb19eQ"
      }
    },
    {
      "cell_type": "code",
      "source": [
        "import srsly"
      ],
      "metadata": {
        "id": "jsWD15SO1Zd4"
      },
      "execution_count": null,
      "outputs": []
    },
    {
      "cell_type": "code",
      "source": [
        "json_string = srsly.json_dumps(country_info)"
      ],
      "metadata": {
        "id": "qKk2hwj31L9f"
      },
      "execution_count": null,
      "outputs": []
    },
    {
      "cell_type": "code",
      "source": [
        "json_string"
      ],
      "metadata": {
        "id": "AY0-Jyry1c3J"
      },
      "execution_count": null,
      "outputs": []
    },
    {
      "cell_type": "code",
      "source": [
        "srsly.write_json(\"country_info_str.json\", country_info)"
      ],
      "metadata": {
        "id": "bxeZ64sS1hsj"
      },
      "execution_count": null,
      "outputs": []
    },
    {
      "cell_type": "code",
      "source": [
        "country_info_from_str = srsly.read_json(\"country_info_str.json\")"
      ],
      "metadata": {
        "id": "Dq9R173G1w87"
      },
      "execution_count": null,
      "outputs": []
    },
    {
      "cell_type": "markdown",
      "source": [
        "### Nomadlist API and Digital Nomads\n",
        "\n",
        "We will look at https://nomadlist.com and its API to gather data about trips around the world by digital nomads.\n",
        "* We will start with the `requests` library to perform simle API intraction.\n",
        "* We will use the standard `json` library to parse the respons\n",
        "\n",
        "To do so, we need to identify a user of the platform and then add `.json` to the URL"
      ],
      "metadata": {
        "id": "bJNpiOGV31qX"
      }
    },
    {
      "cell_type": "code",
      "source": [
        "# import the relevant libraries\n",
        "import requests as rq\n",
        "import json"
      ],
      "metadata": {
        "id": "McYzTN2wNT8W"
      },
      "execution_count": null,
      "outputs": []
    },
    {
      "cell_type": "code",
      "source": [
        "# get data\n",
        "result = rq.get('https://nomadlist.com/@ambroisedebret.json')"
      ],
      "metadata": {
        "id": "gjkzUzqt4pLb"
      },
      "execution_count": null,
      "outputs": []
    },
    {
      "cell_type": "code",
      "source": [
        "# parse the response content\n",
        "doc = json.loads(result.content)"
      ],
      "metadata": {
        "id": "9ZREnsgd4pHJ"
      },
      "execution_count": null,
      "outputs": []
    },
    {
      "cell_type": "code",
      "source": [
        "handles = srsly.read_gzip_json(\"handles-out.json.gz\")"
      ],
      "metadata": {
        "id": "Vy407Sef4o-w"
      },
      "execution_count": null,
      "outputs": []
    },
    {
      "cell_type": "code",
      "source": [
        "handles"
      ],
      "metadata": {
        "id": "DFAsqEkZ5hUV"
      },
      "execution_count": null,
      "outputs": []
    },
    {
      "cell_type": "code",
      "source": [
        "# alternatively\n",
        "# handles = pd.read_json('/content/handles-out.json.gz', typ='series')"
      ],
      "metadata": {
        "id": "z55S1vkY5o_H"
      },
      "execution_count": null,
      "outputs": []
    },
    {
      "cell_type": "code",
      "source": [
        "# prepare handles for scrape\n",
        "handle_list = pd.Series(handles).sample(10).to_list()"
      ],
      "metadata": {
        "id": "9All5E8f5UcB"
      },
      "execution_count": null,
      "outputs": []
    },
    {
      "cell_type": "code",
      "source": [
        "# managing time...\n",
        "import time"
      ],
      "metadata": {
        "id": "NTeKqIkz7BGN"
      },
      "execution_count": null,
      "outputs": []
    },
    {
      "cell_type": "code",
      "source": [
        "profiles = []"
      ],
      "metadata": {
        "id": "tK2-i7ui54X6"
      },
      "execution_count": null,
      "outputs": []
    },
    {
      "cell_type": "code",
      "source": [
        "for i in handle_list:\n",
        "  url = 'https://nomadlist.com' + i + '.json'\n",
        "  result = rq.get(url)\n",
        "  result_json = json.loads(result.content)\n",
        "  profiles.append(result_json)\n",
        "  time.sleep(1)"
      ],
      "metadata": {
        "id": "IUjCTNsu5T21"
      },
      "execution_count": null,
      "outputs": []
    },
    {
      "cell_type": "code",
      "source": [
        "result"
      ],
      "metadata": {
        "id": "_cyKkGcq58fd"
      },
      "execution_count": null,
      "outputs": []
    },
    {
      "cell_type": "markdown",
      "source": [
        "Oh no!!! 🤯\n",
        "Most modern webapps are protected against full-automatic scraping.\n",
        "https://www.cloudflare.com/learning/bots/what-is-content-scraping/\n",
        "However, it's a chicken and egg game...\n",
        "\n",
        "\n",
        "**cloudscraper**\n",
        "\n",
        "> A simple Python module to bypass Cloudflare's anti-bot page (also known as \"I'm Under Attack Mode\", or IUAM), implemented with Requests. Cloudflare changes their techniques periodically, so I will update this repo frequently.\n",
        "\n",
        "\n",
        "\n",
        "\n",
        "\n"
      ],
      "metadata": {
        "id": "aLRgslvG5_rE"
      }
    },
    {
      "cell_type": "code",
      "source": [
        "import cloudscraper"
      ],
      "metadata": {
        "id": "JebsKhKqTuVP"
      },
      "execution_count": null,
      "outputs": []
    },
    {
      "cell_type": "code",
      "source": [
        "# Instantiate scraper\n",
        "scraper = cloudscraper.create_scraper()"
      ],
      "metadata": {
        "id": "cNwAXreYT7Cw"
      },
      "execution_count": null,
      "outputs": []
    },
    {
      "cell_type": "code",
      "source": [
        "profiles = []"
      ],
      "metadata": {
        "id": "qcvd5cxZ6JP8"
      },
      "execution_count": null,
      "outputs": []
    },
    {
      "cell_type": "code",
      "source": [
        "for i in handle_list:\n",
        "  url = 'https://nomadlist.com' + i + '.json'\n",
        "  result = scraper.get(url)\n",
        "  result_json = json.loads(result.content)\n",
        "  profiles.append(result_json)\n",
        "  time.sleep(1)"
      ],
      "metadata": {
        "id": "6rQgvA_z8xYM"
      },
      "execution_count": null,
      "outputs": []
    },
    {
      "cell_type": "code",
      "source": [
        "len(profiles)"
      ],
      "metadata": {
        "id": "YJthcLI58z4c"
      },
      "execution_count": null,
      "outputs": []
    },
    {
      "cell_type": "code",
      "source": [
        "trips = pd.DataFrame(profiles)['trips'].to_list()"
      ],
      "metadata": {
        "id": "sWR3UqsM8zuz"
      },
      "execution_count": null,
      "outputs": []
    },
    {
      "cell_type": "code",
      "source": [
        "trips[1]"
      ],
      "metadata": {
        "id": "MFqLtDRj8zjX"
      },
      "execution_count": null,
      "outputs": []
    },
    {
      "cell_type": "code",
      "source": [
        "trips_all = []\n",
        "\n",
        "for trip in trips:\n",
        "  trips_all.extend(trip)"
      ],
      "metadata": {
        "id": "G03oiw2C9wu6"
      },
      "execution_count": null,
      "outputs": []
    },
    {
      "cell_type": "code",
      "source": [
        "trips_all = []\n",
        "\n",
        "for trip in trips:\n",
        "  if type(trip) != float:\n",
        "    trips_all.extend(trip)"
      ],
      "metadata": {
        "id": "KkOrDFjM-Fpm"
      },
      "execution_count": null,
      "outputs": []
    },
    {
      "cell_type": "code",
      "source": [
        "pd.DataFrame(trips_all)"
      ],
      "metadata": {
        "id": "ueljiX9C-x_f"
      },
      "execution_count": null,
      "outputs": []
    },
    {
      "cell_type": "markdown",
      "source": [
        "## Introducing NoSQL with MongoDB\n",
        "What if there was a Database where we could insert all these documents?\n",
        "Well, there is one and it's called MongoDB and is powering many many of the apps that you use daily...\n",
        "\n",
        "you can install it on your machine, on uCloud or use the free-tier version https://cloud.mongodb.com/ from mongodb.com (Atlas)\n",
        "\n",
        "Learn more with [this course](https://campus.datacamp.com/courses/introduction-to-using-mongodb-for-data-science-with-python/)"
      ],
      "metadata": {
        "id": "cyapA2ev_Wnd"
      }
    },
    {
      "cell_type": "code",
      "source": [
        "# pymongo will make it possible for our python driver to connect (pymongo is the official python driver)\n",
        "import pymongo"
      ],
      "metadata": {
        "id": "xGO7ABr8O0wy"
      },
      "execution_count": null,
      "outputs": []
    },
    {
      "cell_type": "code",
      "source": [
        "from pymongo import MongoClient\n",
        "client = MongoClient('xxx')"
      ],
      "metadata": {
        "id": "fatWg2bqO4D_"
      },
      "execution_count": null,
      "outputs": []
    },
    {
      "cell_type": "code",
      "execution_count": null,
      "metadata": {
        "id": "WELvf1c5M2fa"
      },
      "outputs": [],
      "source": [
        "db = client.test_database\n"
      ]
    },
    {
      "cell_type": "code",
      "source": [
        "collection = db.test_collection"
      ],
      "metadata": {
        "id": "q-wKznQ2PbAm"
      },
      "execution_count": null,
      "outputs": []
    },
    {
      "cell_type": "code",
      "source": [
        "collection.insert_one(profiles[0])"
      ],
      "metadata": {
        "id": "c5bSLlSjPqb0"
      },
      "execution_count": null,
      "outputs": []
    },
    {
      "cell_type": "code",
      "source": [
        "profiles[0]"
      ],
      "metadata": {
        "id": "3vEQYrnNCATv"
      },
      "execution_count": null,
      "outputs": []
    },
    {
      "cell_type": "code",
      "source": [
        "collection.find_one()"
      ],
      "metadata": {
        "id": "4KQUAaI0COa9"
      },
      "execution_count": null,
      "outputs": []
    },
    {
      "cell_type": "code",
      "source": [
        "profiles[0]"
      ],
      "metadata": {
        "id": "eGOv2zRgCYG5"
      },
      "execution_count": null,
      "outputs": []
    },
    {
      "cell_type": "code",
      "source": [
        "collection.insert_many(profiles[1:])"
      ],
      "metadata": {
        "id": "Y7FlaPxqTS9N"
      },
      "execution_count": null,
      "outputs": []
    },
    {
      "cell_type": "code",
      "source": [
        "a = collection.find({'trips.country_code' : 'DK' })"
      ],
      "metadata": {
        "id": "a0SH78WwV8V5"
      },
      "execution_count": null,
      "outputs": []
    },
    {
      "cell_type": "code",
      "source": [
        "collection.count_documents({'trips.country_code' : 'DK' })"
      ],
      "metadata": {
        "id": "_PNcxDi_UX3P"
      },
      "execution_count": null,
      "outputs": []
    },
    {
      "cell_type": "code",
      "source": [
        "list(a)"
      ],
      "metadata": {
        "id": "4BKDoBhJDerj"
      },
      "execution_count": null,
      "outputs": []
    },
    {
      "cell_type": "markdown",
      "source": [
        "### More complex aggregation pipeline\n",
        "\n",
        "Mongo allows us to perform really nice data manipulation within the DB (superfast)\n",
        "However, some slightly different syntax is needed. (Not beginner friendly...but doable)"
      ],
      "metadata": {
        "id": "G9LiOH3FDk17"
      }
    },
    {
      "cell_type": "code",
      "source": [
        "# aggregation\n",
        "\n",
        "c = collection.aggregate([\n",
        "   {'$match':{'trips.country_code' : 'DK' }}, # Find all trips that went to DK\n",
        "   {'$project': \n",
        "   {'trips': 1} #project (reveal) only data from trips key\n",
        "   }, \n",
        "   {'$unwind': '$trips'} # unwind...flatten\n",
        "  ])"
      ],
      "metadata": {
        "id": "wsM44yeoXd4r"
      },
      "execution_count": null,
      "outputs": []
    },
    {
      "cell_type": "code",
      "source": [
        "# turning cursor into list\n",
        "c = list(c)"
      ],
      "metadata": {
        "id": "aaWt8-hxerEl"
      },
      "execution_count": null,
      "outputs": []
    },
    {
      "cell_type": "code",
      "source": [
        "# flatten using list comprehension\n",
        "c = [c['trips'] for c in c]"
      ],
      "metadata": {
        "id": "CD4Nqieyeymo"
      },
      "execution_count": null,
      "outputs": []
    },
    {
      "cell_type": "code",
      "source": [
        "# making it a DF for in memory analysis\n",
        "pd.DataFrame(c)"
      ],
      "metadata": {
        "id": "3c0uJ75KfazX"
      },
      "execution_count": null,
      "outputs": []
    },
    {
      "cell_type": "markdown",
      "source": [
        "#### sequence matters"
      ],
      "metadata": {
        "id": "ssisqAD0Ey6c"
      }
    },
    {
      "cell_type": "code",
      "source": [
        "# aggregation\n",
        "\n",
        "c = collection.aggregate([\n",
        "   \n",
        "  { '$project': \n",
        "   {'trips': 1} #project (reveal) only data from trips key\n",
        "   }, \n",
        "   {'$unwind': '$trips'}, # unwind...flatten\n",
        "   {'$match':{'trips.country_code' : 'DK' }} # Find all trips that went to DK\n",
        "  ])"
      ],
      "metadata": {
        "id": "58YSSfHwEZ9q"
      },
      "execution_count": null,
      "outputs": []
    },
    {
      "cell_type": "code",
      "source": [
        "# turning cursor into list\n",
        "c = list(c)"
      ],
      "metadata": {
        "id": "oyatLwfJEZ9q"
      },
      "execution_count": null,
      "outputs": []
    },
    {
      "cell_type": "code",
      "source": [
        "# flatten using list comprehension\n",
        "c = [c['trips'] for c in c]"
      ],
      "metadata": {
        "id": "7n7Ryp0CEZ9q"
      },
      "execution_count": null,
      "outputs": []
    },
    {
      "cell_type": "code",
      "source": [
        "# making it a DF for in memory analysis\n",
        "pd.DataFrame(c)"
      ],
      "metadata": {
        "id": "TLivrfpvEZ9r"
      },
      "execution_count": null,
      "outputs": []
    },
    {
      "cell_type": "markdown",
      "source": [
        "### Adding some EDA viz to it"
      ],
      "metadata": {
        "id": "6jwp6vsAnO8r"
      }
    },
    {
      "cell_type": "code",
      "source": [
        "# aggregation\n",
        "\n",
        "c = collection.aggregate([\n",
        "  { '$project': \n",
        "   {'trips': 1} \n",
        "   }, \n",
        "   {'$unwind': '$trips'}\n",
        "  \n",
        "  ])"
      ],
      "metadata": {
        "id": "8md7DIhxnM2L"
      },
      "execution_count": null,
      "outputs": []
    },
    {
      "cell_type": "code",
      "source": [
        "\n",
        "c = list(c)"
      ],
      "metadata": {
        "id": "CrXk_QWnnV9_"
      },
      "execution_count": null,
      "outputs": []
    },
    {
      "cell_type": "code",
      "source": [
        "\n",
        "trips_df = pd.DataFrame([x['trips'] for x in c])"
      ],
      "metadata": {
        "id": "C2XVcpUMnZzP"
      },
      "execution_count": null,
      "outputs": []
    },
    {
      "cell_type": "code",
      "source": [
        "trips_df"
      ],
      "metadata": {
        "id": "bP4pMdAPneSf"
      },
      "execution_count": null,
      "outputs": []
    },
    {
      "cell_type": "code",
      "source": [
        "pd.to_datetime(trips_df.epoch_start, unit='s')"
      ],
      "metadata": {
        "id": "oo6Edql2nfM6"
      },
      "execution_count": null,
      "outputs": []
    },
    {
      "cell_type": "code",
      "source": [
        "trips_df.epoch_start = pd.to_datetime( trips_df.epoch_start, unit='s')\n",
        "trips_df.epoch_end = pd.to_datetime( trips_df.epoch_end, unit='s')"
      ],
      "metadata": {
        "id": "qewX6t9tr8FA"
      },
      "execution_count": null,
      "outputs": []
    },
    {
      "cell_type": "code",
      "source": [
        "trips_df['length'] = pd.to_timedelta(trips_df.epoch_duration, unit='s')"
      ],
      "metadata": {
        "id": "N1kw9KVxrD-x"
      },
      "execution_count": null,
      "outputs": []
    },
    {
      "cell_type": "code",
      "source": [
        "trips_df.place.value_counts()[:20]"
      ],
      "metadata": {
        "id": "d1W1lqagtKfw"
      },
      "execution_count": null,
      "outputs": []
    },
    {
      "cell_type": "code",
      "source": [
        "trips_df.groupby('place')['length'].median().nlargest(20)"
      ],
      "metadata": {
        "id": "4HMRJ_BysaWU"
      },
      "execution_count": null,
      "outputs": []
    },
    {
      "cell_type": "code",
      "source": [
        "trips_2020 = trips_df[(trips_df.epoch_start > pd.to_datetime('2020')) & (trips_df.epoch_end < pd.to_datetime('2021'))]"
      ],
      "metadata": {
        "id": "Ip069RAMtANQ"
      },
      "execution_count": null,
      "outputs": []
    },
    {
      "cell_type": "code",
      "source": [
        "trips_2020.length.mean()"
      ],
      "metadata": {
        "id": "CX6_owrftqFd"
      },
      "execution_count": null,
      "outputs": []
    },
    {
      "cell_type": "code",
      "source": [
        "len(trips_2020)"
      ],
      "metadata": {
        "id": "GOq21pq7uV2Q"
      },
      "execution_count": null,
      "outputs": []
    },
    {
      "cell_type": "code",
      "source": [
        "trips_2021 = trips_df[(trips_df.epoch_start > pd.to_datetime('2021')) & (trips_df.epoch_end < pd.to_datetime('2022'))]"
      ],
      "metadata": {
        "id": "mYOxRp7DuEdz"
      },
      "execution_count": null,
      "outputs": []
    },
    {
      "cell_type": "code",
      "source": [
        "trips_2021.length.mean()"
      ],
      "metadata": {
        "id": "gNZIydfOuH4H"
      },
      "execution_count": null,
      "outputs": []
    },
    {
      "cell_type": "code",
      "source": [
        "len(trips_2021)"
      ],
      "metadata": {
        "id": "qwcHySPTuMaP"
      },
      "execution_count": null,
      "outputs": []
    },
    {
      "cell_type": "code",
      "source": [
        "pd.Series([x.year for x in trips_df.epoch_start]).hist()"
      ],
      "metadata": {
        "id": "FoZgNK_4uQC7"
      },
      "execution_count": null,
      "outputs": []
    },
    {
      "cell_type": "markdown",
      "source": [
        "## Introducing Altair\n",
        "\n",
        "https://altair-viz.github.io/\n",
        "The probably best open source interactive plotting library for Python."
      ],
      "metadata": {
        "id": "MGOzNB8QvRjO"
      }
    },
    {
      "cell_type": "code",
      "source": [
        "trips_df.groupby('place')['length'].median().nlargest(20)"
      ],
      "metadata": {
        "id": "IfAQwn_yviyJ"
      },
      "execution_count": null,
      "outputs": []
    },
    {
      "cell_type": "code",
      "source": [
        "import altair as alt"
      ],
      "metadata": {
        "id": "AzAhWPXCv2k5"
      },
      "execution_count": null,
      "outputs": []
    },
    {
      "cell_type": "code",
      "source": [
        "source = pd.DataFrame(trips_df.groupby('place')['length'].median().nlargest(20)).reset_index()\n",
        "\n",
        "source['length'] = [d.days for d in source['length']]\n",
        "\n",
        "alt.Chart(source).mark_bar().encode(\n",
        "    x='length',\n",
        "    y='place:N',\n",
        "    tooltip=['length']\n",
        ").interactive()"
      ],
      "metadata": {
        "id": "qfGIP0l7vQJj"
      },
      "execution_count": null,
      "outputs": []
    }
  ]
}