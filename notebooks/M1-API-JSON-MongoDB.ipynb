{
  "cells": [
    {
      "cell_type": "markdown",
      "metadata": {
        "colab_type": "text",
        "id": "view-in-github"
      },
      "source": [
        "<a href=\"https://colab.research.google.com/github/aaubs/ds-master/blob/main/notebooks/M1-API-JSON-MongoDB.ipynb\" target=\"_parent\"><img src=\"https://colab.research.google.com/assets/colab-badge.svg\" alt=\"Open In Colab\"/></a>"
      ]
    },
    {
      "cell_type": "markdown",
      "metadata": {
        "id": "wa-XgUQExS34"
      },
      "source": [
        "# Working with web- & app-data\n",
        "\n",
        "In this session, you will learn to work with Python dictionaries, the JSON (Java Script Object Notation) format. This will also include dealing (a bit) with APIs and MongoDB\n",
        "\n",
        "![](https://aaubs.github.io/ds22/images/corgi_bali3.png)"
      ]
    },
    {
      "cell_type": "code",
      "execution_count": null,
      "metadata": {
        "id": "Zm8SIPJeNA5H"
      },
      "outputs": [],
      "source": [
        "# some necessary installs\n",
        "!pip install \"pymongo[srv]\"\n",
        "!pip install cloudscraper\n",
        "!pip install srsly"
      ]
    },
    {
      "cell_type": "code",
      "execution_count": null,
      "metadata": {
        "id": "ruOgruPv0Qra"
      },
      "outputs": [],
      "source": [
        "import pandas as pd"
      ]
    },
    {
      "cell_type": "markdown",
      "metadata": {
        "id": "4eGnU2IfyyYr"
      },
      "source": [
        "## Python dictionaries (recap)\n",
        "\n",
        "Dictionaries are a super-flexible datatype that is able to take in and index nested structures."
      ]
    },
    {
      "cell_type": "code",
      "execution_count": null,
      "metadata": {
        "id": "5o0l5a19zN0C"
      },
      "outputs": [],
      "source": [
        "capitals = {\"USA\":\"Washington D.C.\", \"France\":\"Paris\", \"India\":\"New Delhi\"}"
      ]
    },
    {
      "cell_type": "code",
      "execution_count": null,
      "metadata": {
        "id": "oouu9YoAzSrj"
      },
      "outputs": [],
      "source": [
        "capitals['Denmark'] = 'Copenhagen'"
      ]
    },
    {
      "cell_type": "code",
      "execution_count": null,
      "metadata": {
        "id": "25Q48qQ9zWwf"
      },
      "outputs": [],
      "source": [
        "capitals['Denmark']"
      ]
    },
    {
      "cell_type": "code",
      "execution_count": null,
      "metadata": {
        "id": "Vh_qF0dHzZDh"
      },
      "outputs": [],
      "source": [
        "capitals.keys()"
      ]
    },
    {
      "cell_type": "code",
      "execution_count": null,
      "metadata": {
        "id": "59A5dyzIza3v"
      },
      "outputs": [],
      "source": [
        "capitals.values()"
      ]
    },
    {
      "cell_type": "code",
      "execution_count": null,
      "metadata": {
        "id": "DK0oyB_bzdUR"
      },
      "outputs": [],
      "source": [
        "country_info = {}"
      ]
    },
    {
      "cell_type": "code",
      "execution_count": null,
      "metadata": {
        "id": "IdJzPLcqzmTO"
      },
      "outputs": [],
      "source": [
        "country_info['USA'] = {'capital':\"Washington D.C.\", 'population': 329.5, 'cities': [\"Washington D.C.\",'New York','San Francisco']}"
      ]
    },
    {
      "cell_type": "code",
      "execution_count": null,
      "metadata": {
        "id": "Qun9hNgtz8sy"
      },
      "outputs": [],
      "source": [
        "country_info['Denmark'] = {'capital':\"Copenhagen\", 'population': 5.831, 'cities': [\"Copenhagen\",'Århus','Odense','Aalborg']}"
      ]
    },
    {
      "cell_type": "code",
      "execution_count": null,
      "metadata": {
        "id": "Ih6op-Uw0J0s"
      },
      "outputs": [],
      "source": [
        "country_info"
      ]
    },
    {
      "cell_type": "markdown",
      "metadata": {
        "id": "X9vGf9FF2FTv"
      },
      "source": [
        "### Dicts in Pandas?"
      ]
    },
    {
      "cell_type": "code",
      "execution_count": null,
      "metadata": {
        "id": "Bd8jO-j30NDi"
      },
      "outputs": [],
      "source": [
        "pd.DataFrame(country_info)"
      ]
    },
    {
      "cell_type": "code",
      "execution_count": null,
      "metadata": {
        "id": "I_aKDUGG0ZOs"
      },
      "outputs": [],
      "source": [
        "pd.DataFrame(country_info).T"
      ]
    },
    {
      "cell_type": "code",
      "execution_count": null,
      "metadata": {
        "id": "iOmujyq60toY"
      },
      "outputs": [],
      "source": [
        "pd.DataFrame(country_info).T.to_json('country_info.json')"
      ]
    },
    {
      "cell_type": "markdown",
      "metadata": {
        "id": "1o5UO7eb19eQ"
      },
      "source": [
        "### Introducing srsly: Modern high-performance serialization utilities for Python\n",
        "\n",
        "https://pypi.org/project/srsly/"
      ]
    },
    {
      "cell_type": "code",
      "execution_count": null,
      "metadata": {
        "id": "jsWD15SO1Zd4"
      },
      "outputs": [],
      "source": [
        "import srsly"
      ]
    },
    {
      "cell_type": "code",
      "execution_count": null,
      "metadata": {
        "id": "qKk2hwj31L9f"
      },
      "outputs": [],
      "source": [
        "json_string = srsly.json_dumps(country_info)"
      ]
    },
    {
      "cell_type": "code",
      "execution_count": null,
      "metadata": {
        "id": "AY0-Jyry1c3J"
      },
      "outputs": [],
      "source": [
        "json_string"
      ]
    },
    {
      "cell_type": "code",
      "execution_count": null,
      "metadata": {
        "id": "bxeZ64sS1hsj"
      },
      "outputs": [],
      "source": [
        "srsly.write_json(\"country_info_str.json\", country_info)"
      ]
    },
    {
      "cell_type": "code",
      "execution_count": null,
      "metadata": {
        "id": "Dq9R173G1w87"
      },
      "outputs": [],
      "source": [
        "country_info_from_str = srsly.read_json(\"country_info_str.json\")"
      ]
    },
    {
      "cell_type": "markdown",
      "metadata": {
        "id": "bJNpiOGV31qX"
      },
      "source": [
        "### Nomadlist API and Digital Nomads\n",
        "\n",
        "We will look at https://nomadlist.com and its API to gather data about trips around the world by digital nomads.\n",
        "* We will start with the `requests` library to perform simle API intraction.\n",
        "* We will use the standard `json` library to parse the respons\n",
        "\n",
        "To do so, we need to identify a user of the platform and then add `.json` to the URL"
      ]
    },
    {
      "cell_type": "code",
      "execution_count": null,
      "metadata": {
        "id": "McYzTN2wNT8W"
      },
      "outputs": [],
      "source": [
        "# import the relevant libraries\n",
        "import requests as rq\n",
        "import json"
      ]
    },
    {
      "cell_type": "code",
      "execution_count": null,
      "metadata": {
        "id": "gjkzUzqt4pLb"
      },
      "outputs": [],
      "source": [
        "# get data\n",
        "result = rq.get('https://nomadlist.com/@ambroisedebret.json')"
      ]
    },
    {
      "cell_type": "code",
      "execution_count": null,
      "metadata": {
        "id": "9ZREnsgd4pHJ"
      },
      "outputs": [],
      "source": [
        "# parse the response content\n",
        "doc = json.loads(result.content)"
      ]
    },
    {
      "cell_type": "code",
      "execution_count": null,
      "metadata": {
        "id": "Vy407Sef4o-w"
      },
      "outputs": [],
      "source": [
        "handles = srsly.read_gzip_json(\"handles-out.json.gz\")"
      ]
    },
    {
      "cell_type": "code",
      "execution_count": null,
      "metadata": {
        "id": "DFAsqEkZ5hUV"
      },
      "outputs": [],
      "source": [
        "handles"
      ]
    },
    {
      "cell_type": "code",
      "execution_count": null,
      "metadata": {
        "id": "z55S1vkY5o_H"
      },
      "outputs": [],
      "source": [
        "# alternatively\n",
        "# handles = pd.read_json('/content/handles-out.json.gz', typ='series')"
      ]
    },
    {
      "cell_type": "code",
      "execution_count": null,
      "metadata": {
        "id": "9All5E8f5UcB"
      },
      "outputs": [],
      "source": [
        "# prepare handles for scrape\n",
        "handle_list = pd.Series(handles).sample(10).to_list()"
      ]
    },
    {
      "cell_type": "code",
      "execution_count": null,
      "metadata": {
        "id": "NTeKqIkz7BGN"
      },
      "outputs": [],
      "source": [
        "# managing time...\n",
        "import time"
      ]
    },
    {
      "cell_type": "code",
      "execution_count": null,
      "metadata": {
        "id": "tK2-i7ui54X6"
      },
      "outputs": [],
      "source": [
        "profiles = []"
      ]
    },
    {
      "cell_type": "code",
      "execution_count": null,
      "metadata": {
        "id": "IUjCTNsu5T21"
      },
      "outputs": [],
      "source": [
        "for i in handle_list:\n",
        "  url = 'https://nomadlist.com' + i + '.json'\n",
        "  result = rq.get(url)\n",
        "  result_json = json.loads(result.content)\n",
        "  profiles.append(result_json)\n",
        "  time.sleep(1)"
      ]
    },
    {
      "cell_type": "code",
      "execution_count": null,
      "metadata": {
        "id": "_cyKkGcq58fd"
      },
      "outputs": [],
      "source": [
        "result"
      ]
    },
    {
      "cell_type": "markdown",
      "metadata": {
        "id": "aLRgslvG5_rE"
      },
      "source": [
        "Oh no!!! 🤯\n",
        "Most modern webapps are protected against full-automatic scraping.\n",
        "https://www.cloudflare.com/learning/bots/what-is-content-scraping/\n",
        "However, it's a chicken and egg game...\n",
        "\n",
        "\n",
        "**cloudscraper**\n",
        "\n",
        "> A simple Python module to bypass Cloudflare's anti-bot page (also known as \"I'm Under Attack Mode\", or IUAM), implemented with Requests. Cloudflare changes their techniques periodically, so I will update this repo frequently.\n",
        "\n",
        "\n",
        "\n",
        "\n",
        "\n"
      ]
    },
    {
      "cell_type": "code",
      "execution_count": null,
      "metadata": {
        "id": "JebsKhKqTuVP"
      },
      "outputs": [],
      "source": [
        "import cloudscraper"
      ]
    },
    {
      "cell_type": "code",
      "execution_count": null,
      "metadata": {
        "id": "cNwAXreYT7Cw"
      },
      "outputs": [],
      "source": [
        "# Instantiate scraper\n",
        "scraper = cloudscraper.create_scraper()"
      ]
    },
    {
      "cell_type": "code",
      "execution_count": null,
      "metadata": {
        "id": "qcvd5cxZ6JP8"
      },
      "outputs": [],
      "source": [
        "profiles = []"
      ]
    },
    {
      "cell_type": "code",
      "execution_count": null,
      "metadata": {
        "id": "6rQgvA_z8xYM"
      },
      "outputs": [],
      "source": [
        "for i in handle_list:\n",
        "  url = 'https://nomadlist.com' + i + '.json'\n",
        "  result = scraper.get(url)\n",
        "  result_json = json.loads(result.content)\n",
        "  profiles.append(result_json)\n",
        "  time.sleep(1)"
      ]
    },
    {
      "cell_type": "code",
      "execution_count": null,
      "metadata": {
        "id": "YJthcLI58z4c"
      },
      "outputs": [],
      "source": [
        "len(profiles)"
      ]
    },
    {
      "cell_type": "code",
      "execution_count": null,
      "metadata": {
        "id": "sWR3UqsM8zuz"
      },
      "outputs": [],
      "source": [
        "trips = pd.DataFrame(profiles)['trips'].to_list()"
      ]
    },
    {
      "cell_type": "code",
      "execution_count": null,
      "metadata": {
        "id": "MFqLtDRj8zjX"
      },
      "outputs": [],
      "source": [
        "trips[1]"
      ]
    },
    {
      "cell_type": "code",
      "execution_count": null,
      "metadata": {
        "id": "G03oiw2C9wu6"
      },
      "outputs": [],
      "source": [
        "trips_all = []\n",
        "\n",
        "for trip in trips:\n",
        "  trips_all.extend(trip)"
      ]
    },
    {
      "cell_type": "code",
      "execution_count": null,
      "metadata": {
        "id": "KkOrDFjM-Fpm"
      },
      "outputs": [],
      "source": [
        "trips_all = []\n",
        "\n",
        "for trip in trips:\n",
        "  if type(trip) != float:\n",
        "    trips_all.extend(trip)"
      ]
    },
    {
      "cell_type": "code",
      "execution_count": null,
      "metadata": {
        "id": "ueljiX9C-x_f"
      },
      "outputs": [],
      "source": [
        "pd.DataFrame(trips_all)"
      ]
    },
    {
      "cell_type": "markdown",
      "metadata": {
        "id": "cyapA2ev_Wnd"
      },
      "source": [
        "## Introducing NoSQL with MongoDB\n",
        "What if there was a Database where we could insert all these documents?\n",
        "Well, there is one and it's called MongoDB and is powering many many of the apps that you use daily...\n",
        "\n",
        "you can install it on your machine, on uCloud or use the free-tier version https://cloud.mongodb.com/ from mongodb.com (Atlas)\n",
        "\n",
        "Learn more with [this course](https://campus.datacamp.com/courses/introduction-to-using-mongodb-for-data-science-with-python/)"
      ]
    },
    {
      "cell_type": "code",
      "execution_count": null,
      "metadata": {
        "id": "xGO7ABr8O0wy"
      },
      "outputs": [],
      "source": [
        "# pymongo will make it possible for our python driver to connect (pymongo is the official python driver)\n",
        "import pymongo"
      ]
    },
    {
      "cell_type": "code",
      "execution_count": null,
      "metadata": {
        "id": "fatWg2bqO4D_"
      },
      "outputs": [],
      "source": [
        "from pymongo import MongoClient\n",
        "client = MongoClient('xxx')"
      ]
    },
    {
      "cell_type": "code",
      "execution_count": null,
      "metadata": {
        "id": "WELvf1c5M2fa"
      },
      "outputs": [],
      "source": [
        "db = client.test_database\n"
      ]
    },
    {
      "cell_type": "code",
      "execution_count": null,
      "metadata": {
        "id": "q-wKznQ2PbAm"
      },
      "outputs": [],
      "source": [
        "collection = db.test_collection"
      ]
    },
    {
      "cell_type": "code",
      "execution_count": null,
      "metadata": {
        "id": "c5bSLlSjPqb0"
      },
      "outputs": [],
      "source": [
        "collection.insert_one(profiles[0])"
      ]
    },
    {
      "cell_type": "code",
      "execution_count": null,
      "metadata": {
        "id": "3vEQYrnNCATv"
      },
      "outputs": [],
      "source": [
        "profiles[0]"
      ]
    },
    {
      "cell_type": "code",
      "execution_count": null,
      "metadata": {
        "id": "4KQUAaI0COa9"
      },
      "outputs": [],
      "source": [
        "collection.find_one()"
      ]
    },
    {
      "cell_type": "code",
      "execution_count": null,
      "metadata": {
        "id": "eGOv2zRgCYG5"
      },
      "outputs": [],
      "source": [
        "profiles[0]"
      ]
    },
    {
      "cell_type": "code",
      "execution_count": null,
      "metadata": {
        "id": "Y7FlaPxqTS9N"
      },
      "outputs": [],
      "source": [
        "collection.insert_many(profiles[1:])"
      ]
    },
    {
      "cell_type": "code",
      "execution_count": null,
      "metadata": {
        "id": "a0SH78WwV8V5"
      },
      "outputs": [],
      "source": [
        "a = collection.find({'trips.country_code' : 'DK' })"
      ]
    },
    {
      "cell_type": "code",
      "execution_count": null,
      "metadata": {
        "id": "_PNcxDi_UX3P"
      },
      "outputs": [],
      "source": [
        "collection.count_documents({'trips.country_code' : 'DK' })"
      ]
    },
    {
      "cell_type": "code",
      "execution_count": null,
      "metadata": {
        "id": "4BKDoBhJDerj"
      },
      "outputs": [],
      "source": [
        "list(a)"
      ]
    },
    {
      "cell_type": "markdown",
      "metadata": {
        "id": "G9LiOH3FDk17"
      },
      "source": [
        "### More complex aggregation pipeline\n",
        "\n",
        "Mongo allows us to perform really nice data manipulation within the DB (superfast)\n",
        "However, some slightly different syntax is needed. (Not beginner friendly...but doable)"
      ]
    },
    {
      "cell_type": "code",
      "execution_count": null,
      "metadata": {
        "id": "wsM44yeoXd4r"
      },
      "outputs": [],
      "source": [
        "# aggregation\n",
        "\n",
        "c = collection.aggregate([\n",
        "   {'$match':{'trips.country_code' : 'DK' }}, # Find all trips that went to DK\n",
        "   {'$project': \n",
        "   {'trips': 1} #project (reveal) only data from trips key\n",
        "   }, \n",
        "   {'$unwind': '$trips'} # unwind...flatten\n",
        "  ])"
      ]
    },
    {
      "cell_type": "code",
      "execution_count": null,
      "metadata": {
        "id": "aaWt8-hxerEl"
      },
      "outputs": [],
      "source": [
        "# turning cursor into list\n",
        "c = list(c)"
      ]
    },
    {
      "cell_type": "code",
      "execution_count": null,
      "metadata": {
        "id": "CD4Nqieyeymo"
      },
      "outputs": [],
      "source": [
        "# flatten using list comprehension\n",
        "c = [c['trips'] for c in c]"
      ]
    },
    {
      "cell_type": "code",
      "execution_count": null,
      "metadata": {
        "id": "3c0uJ75KfazX"
      },
      "outputs": [],
      "source": [
        "# making it a DF for in memory analysis\n",
        "pd.DataFrame(c)"
      ]
    },
    {
      "cell_type": "markdown",
      "metadata": {
        "id": "ssisqAD0Ey6c"
      },
      "source": [
        "#### sequence matters"
      ]
    },
    {
      "cell_type": "code",
      "execution_count": null,
      "metadata": {
        "id": "58YSSfHwEZ9q"
      },
      "outputs": [],
      "source": [
        "# aggregation\n",
        "\n",
        "c = collection.aggregate([\n",
        "   \n",
        "  { '$project': \n",
        "   {'trips': 1} #project (reveal) only data from trips key\n",
        "   }, \n",
        "   {'$unwind': '$trips'}, # unwind...flatten\n",
        "   {'$match':{'trips.country_code' : 'DK' }} # Find all trips that went to DK\n",
        "  ])"
      ]
    },
    {
      "cell_type": "code",
      "execution_count": null,
      "metadata": {
        "id": "oyatLwfJEZ9q"
      },
      "outputs": [],
      "source": [
        "# turning cursor into list\n",
        "c = list(c)"
      ]
    },
    {
      "cell_type": "code",
      "execution_count": null,
      "metadata": {
        "id": "7n7Ryp0CEZ9q"
      },
      "outputs": [],
      "source": [
        "# flatten using list comprehension\n",
        "c = [c['trips'] for c in c]"
      ]
    },
    {
      "cell_type": "code",
      "execution_count": null,
      "metadata": {
        "id": "TLivrfpvEZ9r"
      },
      "outputs": [],
      "source": [
        "# making it a DF for in memory analysis\n",
        "pd.DataFrame(c)"
      ]
    },
    {
      "cell_type": "markdown",
      "metadata": {
        "id": "6jwp6vsAnO8r"
      },
      "source": [
        "### Adding some EDA viz to it"
      ]
    },
    {
      "cell_type": "code",
      "execution_count": null,
      "metadata": {
        "id": "8md7DIhxnM2L"
      },
      "outputs": [],
      "source": [
        "# aggregation\n",
        "\n",
        "c = collection.aggregate([\n",
        "  { '$project': \n",
        "   {'trips': 1} \n",
        "   }, \n",
        "   {'$unwind': '$trips'}\n",
        "  \n",
        "  ])"
      ]
    },
    {
      "cell_type": "code",
      "execution_count": null,
      "metadata": {
        "id": "CrXk_QWnnV9_"
      },
      "outputs": [],
      "source": [
        "\n",
        "c = list(c)"
      ]
    },
    {
      "cell_type": "code",
      "execution_count": null,
      "metadata": {
        "id": "C2XVcpUMnZzP"
      },
      "outputs": [],
      "source": [
        "\n",
        "trips_df = pd.DataFrame([x['trips'] for x in c])"
      ]
    },
    {
      "cell_type": "code",
      "execution_count": null,
      "metadata": {
        "id": "bP4pMdAPneSf"
      },
      "outputs": [],
      "source": [
        "trips_df"
      ]
    },
    {
      "cell_type": "code",
      "execution_count": null,
      "metadata": {
        "id": "oo6Edql2nfM6"
      },
      "outputs": [],
      "source": [
        "pd.to_datetime(trips_df.epoch_start, unit='s')"
      ]
    },
    {
      "cell_type": "code",
      "execution_count": null,
      "metadata": {
        "id": "qewX6t9tr8FA"
      },
      "outputs": [],
      "source": [
        "trips_df.epoch_start = pd.to_datetime( trips_df.epoch_start, unit='s')\n",
        "trips_df.epoch_end = pd.to_datetime( trips_df.epoch_end, unit='s')"
      ]
    },
    {
      "cell_type": "code",
      "execution_count": null,
      "metadata": {
        "id": "N1kw9KVxrD-x"
      },
      "outputs": [],
      "source": [
        "trips_df['length'] = pd.to_timedelta(trips_df.epoch_duration, unit='s')"
      ]
    },
    {
      "cell_type": "code",
      "execution_count": null,
      "metadata": {
        "id": "d1W1lqagtKfw"
      },
      "outputs": [],
      "source": [
        "trips_df.place.value_counts()[:20]"
      ]
    },
    {
      "cell_type": "code",
      "execution_count": null,
      "metadata": {
        "id": "4HMRJ_BysaWU"
      },
      "outputs": [],
      "source": [
        "trips_df.groupby('place')['length'].median().nlargest(20)"
      ]
    },
    {
      "cell_type": "code",
      "execution_count": null,
      "metadata": {
        "id": "Ip069RAMtANQ"
      },
      "outputs": [],
      "source": [
        "trips_2020 = trips_df[(trips_df.epoch_start > pd.to_datetime('2020')) & (trips_df.epoch_end < pd.to_datetime('2021'))]"
      ]
    },
    {
      "cell_type": "code",
      "execution_count": null,
      "metadata": {
        "id": "CX6_owrftqFd"
      },
      "outputs": [],
      "source": [
        "trips_2020.length.mean()"
      ]
    },
    {
      "cell_type": "code",
      "execution_count": null,
      "metadata": {
        "id": "GOq21pq7uV2Q"
      },
      "outputs": [],
      "source": [
        "len(trips_2020)"
      ]
    },
    {
      "cell_type": "code",
      "execution_count": null,
      "metadata": {
        "id": "mYOxRp7DuEdz"
      },
      "outputs": [],
      "source": [
        "trips_2021 = trips_df[(trips_df.epoch_start > pd.to_datetime('2021')) & (trips_df.epoch_end < pd.to_datetime('2022'))]"
      ]
    },
    {
      "cell_type": "code",
      "execution_count": null,
      "metadata": {
        "id": "gNZIydfOuH4H"
      },
      "outputs": [],
      "source": [
        "trips_2021.length.mean()"
      ]
    },
    {
      "cell_type": "code",
      "execution_count": null,
      "metadata": {
        "id": "qwcHySPTuMaP"
      },
      "outputs": [],
      "source": [
        "len(trips_2021)"
      ]
    },
    {
      "cell_type": "code",
      "execution_count": null,
      "metadata": {
        "id": "FoZgNK_4uQC7"
      },
      "outputs": [],
      "source": [
        "pd.Series([x.year for x in trips_df.epoch_start]).hist()"
      ]
    },
    {
      "cell_type": "markdown",
      "metadata": {
        "id": "MGOzNB8QvRjO"
      },
      "source": [
        "## Introducing Altair\n",
        "\n",
        "https://altair-viz.github.io/\n",
        "The probably best open source interactive plotting library for Python."
      ]
    },
    {
      "cell_type": "code",
      "execution_count": null,
      "metadata": {
        "id": "IfAQwn_yviyJ"
      },
      "outputs": [],
      "source": [
        "trips_df.groupby('place')['length'].median().nlargest(20)"
      ]
    },
    {
      "cell_type": "code",
      "execution_count": null,
      "metadata": {
        "id": "AzAhWPXCv2k5"
      },
      "outputs": [],
      "source": [
        "import altair as alt"
      ]
    },
    {
      "cell_type": "code",
      "execution_count": null,
      "metadata": {
        "id": "qfGIP0l7vQJj"
      },
      "outputs": [],
      "source": [
        "source = pd.DataFrame(trips_df.groupby('place')['length'].median().nlargest(20)).reset_index()\n",
        "\n",
        "source['length'] = [d.days for d in source['length']]\n",
        "\n",
        "alt.Chart(source).mark_bar().encode(\n",
        "    x='length',\n",
        "    y='place:N',\n",
        "    tooltip=['length']\n",
        ").interactive()"
      ]
    }
  ],
  "metadata": {
    "colab": {
      "authorship_tag": "ABX9TyOEny1qVTRTj5mLh/uFo1cN",
      "collapsed_sections": [],
      "include_colab_link": true,
      "provenance": []
    },
    "kernelspec": {
      "display_name": "Python 3",
      "name": "python3"
    },
    "language_info": {
      "name": "python"
    }
  },
  "nbformat": 4,
  "nbformat_minor": 0
}
