{
  "nbformat": 4,
  "nbformat_minor": 0,
  "metadata": {
    "colab": {
      "provenance": [],
      "authorship_tag": "ABX9TyN0dCVq/rZu3lfA1R+/+tDd",
      "include_colab_link": true
    },
    "kernelspec": {
      "name": "python3",
      "display_name": "Python 3"
    },
    "language_info": {
      "name": "python"
    }
  },
  "cells": [
    {
      "cell_type": "markdown",
      "metadata": {
        "id": "view-in-github",
        "colab_type": "text"
      },
      "source": [
        "<a href=\"https://colab.research.google.com/github/aaubs/ds-master/blob/main/notebooks/M1-Policing_EDA_rev23.ipynb\" target=\"_parent\"><img src=\"https://colab.research.google.com/assets/colab-badge.svg\" alt=\"Open In Colab\"/></a>"
      ]
    },
    {
      "cell_type": "markdown",
      "source": [
        "# Traffic Stops Data Analysis Assignment\n",
        "\n",
        "In this session we will explore a **real** dataset from the Stanford Open Policing Project.\n",
        "The project is collecting and standardizing data on vehicle and pedestrian stops from law enforcement departments across the US — and making that information freely available. They have already gathered 130 million records from 31 state police agencies and have begun collecting data on stops from law enforcement agencies in major cities, as well.\n",
        "\n",
        "You can read more about the project [here](https://openpolicing.stanford.edu)\n",
        "\n",
        "![open police](https://openpolicing.stanford.edu/img/logo_large_w_padding.png?width=20pc)\n",
        "\n",
        "\n",
        "## Objective\n",
        "\n",
        "In this assignment, you will be exploring and analyzing a dataset containing information on traffic stops. Your objective is to answer questions related to various themes like Demographic Disparities, Types and Outcomes of Violations, Temporal Patterns, Stop Duration and Location, and Hypothesis Testing and Social Implications.\n",
        "\n",
        "## Data\n",
        "\n",
        "You will be using the `RI-clean.csv.gz` dataset which is a cleaned dataset containing information on traffic stops, the drivers involved, and the outcomes. You will be provided with a code snippet to load and preprocess this dataset.\n",
        "\n",
        "## Requirements\n",
        "\n",
        "- Import required libraries\n",
        "- Load and preprocess the dataset\n",
        "- Perform exploratory data analysis (EDA)\n",
        "- Answer specific questions related to the themes provided\n",
        "- Use visualizations to support your findings\n",
        "- Conduct hypothesis testing\n",
        "- Interpret the results\n",
        "\n",
        "## Libraries to Import\n",
        "\n",
        "```python\n",
        "import pandas as pd\n",
        "import matplotlib.pyplot as plt\n",
        "import seaborn as sns\n",
        "from scipy.stats import chi2_contingency\n",
        "```\n",
        "\n",
        "## Load and Preprocess Data\n",
        "\n",
        "Use the provided code to load and preprocess the dataset. This includes handling missing values, irrelevant columns, and converting data to the appropriate data types.\n",
        "\n",
        "## Questions to Answer\n",
        "\n",
        "### Theme 1: Demographic Disparities in Traffic Stops\n",
        "\n",
        "- What is the distribution of driver genders and races among the traffic stops?\n",
        "- Are certain races disproportionately represented?\n",
        "- What is the distribution of stops by driver age?\n",
        "- Are certain groups more likely to be searched than others?\n",
        "- Does the likelihood of arrest vary by race, gender, or age?\n",
        "\n",
        "### Theme 2: Types and Outcomes of Violations\n",
        "\n",
        "- What types of violations lead to stops?\n",
        "- What are the most common outcomes of a stop (e.g., warning, citation, arrest)?\n",
        "- Does the outcome of stops vary by violation type?\n",
        "- Does the type of violation differ by driver gender or driver race?\n",
        "\n",
        "### Theme 3: Temporal Patterns in Traffic Stops\n",
        "\n",
        "- Has the number of stops increased or decreased over time?\n",
        "- Are there any seasonal trends in the number or type of stops?\n",
        "- Have arrest rates or search rates changed over time?\n",
        "- At what times of the day are stops most frequent?\n",
        "\n",
        "### Theme 4: Stop Duration and Location\n",
        "\n",
        "- What is the average duration of a stop?\n",
        "- Are certain areas more prone to specific types of stops or outcomes?\n",
        "\n",
        "### Theme 5: Hypothesis Testing and Social Implications\n",
        "\n",
        "- Is there a significant difference in stop outcomes or search rates between two specific demographic groups? (Use chi-squared tests)\n",
        "- Can you disprove any commonly held beliefs or biases about traffic stops? (Use chi-squared tests)\n",
        "\n",
        "## Visualization\n",
        "\n",
        "Use Matplotlib and Seaborn libraries to visualize your findings.\n",
        "\n",
        "## Interpretation\n",
        "\n",
        "For hypothesis testing, interpret the p-values obtained from the chi-squared tests to conclude whether there is a significant difference between the groups in question.\n"
      ],
      "metadata": {
        "id": "-I3ehkIXd2_R"
      }
    },
    {
      "cell_type": "code",
      "source": [
        "# Import required libraries\n",
        "import pandas as pd\n",
        "import matplotlib.pyplot as plt\n",
        "import seaborn as sns\n",
        "from scipy.stats import chi2_contingency\n",
        "\n",
        "# Set the Seaborn style to 'ggplot'\n",
        "sns.set(style=\"whitegrid\", palette=\"pastel\", color_codes=True)\n",
        "\n",
        "# Load data\n",
        "data_path = 'https://sds-aau.github.io/SDS-master/M1/data/RI-clean.csv.gz'\n",
        "data = pd.read_csv(data_path, low_memory=False)"
      ],
      "metadata": {
        "id": "p9_rEyUoNjMB"
      },
      "execution_count": null,
      "outputs": []
    },
    {
      "cell_type": "code",
      "source": [
        "# Check data\n",
        "data.info()"
      ],
      "metadata": {
        "id": "Nww0tOhUNmdE"
      },
      "execution_count": null,
      "outputs": []
    },
    {
      "cell_type": "code",
      "source": [
        "# Handle missing and irrelevant columns\n",
        "data.drop(['id', 'state', 'county_name', 'county_fips', 'fine_grained_location'], axis='columns', inplace=True)\n",
        "data.dropna(subset=['stop_date', 'stop_time', 'driver_gender'], inplace=True)"
      ],
      "metadata": {
        "id": "KVkLzjdeNl6G"
      },
      "execution_count": null,
      "outputs": []
    },
    {
      "cell_type": "code",
      "source": [
        "# Convert to proper data types and create datetime index\n",
        "data['is_arrested'] = data['is_arrested'].astype('bool')\n",
        "data['search_conducted'] = data['search_conducted'].astype('bool')\n",
        "data['datetime'] = pd.to_datetime(data['stop_date'] + ' ' + data['stop_time'])\n",
        "data.set_index('datetime', inplace=True)"
      ],
      "metadata": {
        "id": "nlM1TuJDNzzY"
      },
      "execution_count": null,
      "outputs": []
    },
    {
      "cell_type": "code",
      "source": [
        "# Handle missing values\n",
        "data['out_of_state'].fillna(data['out_of_state'].mode()[0], inplace=True)\n",
        "data[['driver_age', 'driver_age_raw']].fillna(data[['driver_age', 'driver_age_raw']].median(), inplace=True)"
      ],
      "metadata": {
        "id": "AsbHnP4DN-bl"
      },
      "execution_count": null,
      "outputs": []
    },
    {
      "cell_type": "code",
      "source": [
        "bins = pd.IntervalIndex.from_tuples([(10, 20), (20, 30), (30, 40), (40, 50), (50, 100)])"
      ],
      "metadata": {
        "id": "bCPFvo0OltDy"
      },
      "execution_count": null,
      "outputs": []
    },
    {
      "cell_type": "code",
      "source": [
        "# Create age categories\n",
        "labels = [\"teen\", \"20s\", \"30s\", \"40s\", \"50+\"]\n",
        "bins = pd.IntervalIndex.from_tuples([(10, 20), (20, 30), (30, 40), (40, 50), (50, 100)])\n",
        "data['age_cat'] = pd.cut(data.driver_age, bins=bins)"
      ],
      "metadata": {
        "id": "nXhpLbIVOBUy"
      },
      "execution_count": null,
      "outputs": []
    },
    {
      "cell_type": "code",
      "source": [
        "# Theme 1: Demographic Disparities in Traffic Stops\n",
        "## Distribution of driver genders and races among the traffic stops\n",
        "gender_distribution = data['driver_gender'].value_counts(normalize=True) * 100\n",
        "race_distribution = data['driver_race'].value_counts(normalize=True) * 100"
      ],
      "metadata": {
        "id": "2hPN88HJOD2o"
      },
      "execution_count": null,
      "outputs": []
    },
    {
      "cell_type": "code",
      "source": [
        "gender_distribution"
      ],
      "metadata": {
        "id": "MHJaWdLUQeys"
      },
      "execution_count": null,
      "outputs": []
    },
    {
      "cell_type": "code",
      "source": [
        "race_distribution"
      ],
      "metadata": {
        "id": "FOVrtmu6PKVd"
      },
      "execution_count": null,
      "outputs": []
    },
    {
      "cell_type": "code",
      "source": [
        "# Plot the gender distribution\n",
        "plt.figure(figsize=(8, 6))\n",
        "sns.barplot(x=gender_distribution.index, y=gender_distribution.values)\n",
        "plt.title('Gender Distribution in Traffic Stops (%)')\n",
        "plt.xlabel('Gender')\n",
        "plt.ylabel('Percentage')\n",
        "plt.show()"
      ],
      "metadata": {
        "id": "xVStDp5eSRGf"
      },
      "execution_count": null,
      "outputs": []
    },
    {
      "cell_type": "code",
      "source": [
        "# Create subfigures\n",
        "fig, axes = plt.subplots(1, 2, figsize=(18, 6))\n",
        "\n",
        "# Plot the gender distribution on the first subplot\n",
        "sns.barplot(x=gender_distribution.index, y=gender_distribution.values, ax=axes[0])\n",
        "axes[0].set_title('Gender Distribution in Traffic Stops (%)')\n",
        "axes[0].set_xlabel('Gender')\n",
        "axes[0].set_ylabel('Percentage')\n",
        "\n",
        "# Plot the race distribution on the second subplot\n",
        "sns.barplot(x=race_distribution.index, y=race_distribution.values, ax=axes[1])\n",
        "axes[1].set_title('Race Distribution in Traffic Stops (%)')\n",
        "axes[1].set_xlabel('Race')\n",
        "axes[1].set_ylabel('Percentage')\n",
        "axes[1].tick_params(axis='x', rotation=45)\n",
        "\n",
        "plt.tight_layout()\n",
        "plt.show()"
      ],
      "metadata": {
        "id": "Pnnt7irUOSNm"
      },
      "execution_count": null,
      "outputs": []
    },
    {
      "cell_type": "code",
      "source": [
        "## Distribution of stops by driver age\n",
        "age_distribution_stops = data['age_cat'].value_counts(normalize=True) * 100\n",
        "age_distribution_stops"
      ],
      "metadata": {
        "id": "8wlBQoq6OIIC"
      },
      "execution_count": null,
      "outputs": []
    },
    {
      "cell_type": "code",
      "source": [
        "## Are certain groups more likely to be searched than others?\n",
        "search_rate_by_group = data.groupby(['driver_race', 'driver_gender', 'age_cat'])['search_conducted'].mean() * 100\n",
        "search_rate_by_group"
      ],
      "metadata": {
        "id": "3FRiNxSeOKpq"
      },
      "execution_count": null,
      "outputs": []
    },
    {
      "cell_type": "code",
      "source": [
        "search_rate_by_group.sort_values(ascending=False)"
      ],
      "metadata": {
        "id": "5FSRIqJgoHTq"
      },
      "execution_count": null,
      "outputs": []
    },
    {
      "cell_type": "code",
      "source": [
        "# Convert the groupby object to a DataFrame and reset the index for plotting\n",
        "search_rate_df = search_rate_by_group.reset_index()\n",
        "search_rate_df.columns = ['Driver Race', 'Driver Gender', 'Age Category', 'Search Rate']\n",
        "\n",
        "plt.figure(figsize=(12, 8))\n",
        "sns.barplot(x='Driver Race', y='Search Rate', hue='Age Category', data=search_rate_df)\n",
        "plt.title('Search Rate by Race and Age (%)')\n",
        "plt.xlabel('Driver Race')\n",
        "plt.ylabel('Search Rate (%)')\n",
        "plt.show()"
      ],
      "metadata": {
        "id": "CnjSqWSJSo0N"
      },
      "execution_count": null,
      "outputs": []
    },
    {
      "cell_type": "code",
      "source": [
        "## Does the likelihood of arrest vary by race, gender, or age?\n",
        "arrest_rate_by_group = data.groupby(['driver_race', 'driver_gender', 'age_cat'])['is_arrested'].mean() * 100\n",
        "arrest_rate_by_group"
      ],
      "metadata": {
        "id": "nJsjeKQCOMym"
      },
      "execution_count": null,
      "outputs": []
    },
    {
      "cell_type": "code",
      "source": [
        "# Theme 2: Types and Outcomes of Violations\n",
        "## What types of violations lead to stops?\n",
        "violation_distribution = data['violation'].value_counts(normalize=True) * 100\n",
        "violation_distribution"
      ],
      "metadata": {
        "id": "3lyJ_AhPT8U0"
      },
      "execution_count": null,
      "outputs": []
    },
    {
      "cell_type": "code",
      "source": [
        "## What are the most common outcomes of a stop?\n",
        "outcome_distribution = data['stop_outcome'].value_counts(normalize=True) * 100\n",
        "outcome_distribution"
      ],
      "metadata": {
        "id": "D2N7GI-kT_EE"
      },
      "execution_count": null,
      "outputs": []
    },
    {
      "cell_type": "code",
      "source": [
        "## Does the outcome of stops vary by violation type?\n",
        "outcome_by_violation = data.groupby('violation')['stop_outcome'].value_counts(normalize=True) * 100\n",
        "outcome_by_violation"
      ],
      "metadata": {
        "id": "cKOrF-quUB4W"
      },
      "execution_count": null,
      "outputs": []
    },
    {
      "cell_type": "code",
      "source": [
        "## Does the type of violation differ by driver gender or driver race?\n",
        "violation_by_demographics = data.groupby(['driver_race', 'driver_gender'])['violation'].value_counts(normalize=True) * 100\n",
        "violation_by_demographics"
      ],
      "metadata": {
        "id": "1d61e4ZEUGPU"
      },
      "execution_count": null,
      "outputs": []
    },
    {
      "cell_type": "code",
      "source": [
        "# Theme 3: Temporal Patterns in Traffic Stops\n",
        "## Has the number of stops increased or decreased over time?\n",
        "plt.figure(figsize=(12, 6))\n",
        "data.resample('Y').size().plot()\n",
        "plt.title('Number of Traffic Stops Over Time')\n",
        "plt.xlabel('Year')\n",
        "plt.ylabel('Number of Stops')\n",
        "plt.show()"
      ],
      "metadata": {
        "id": "ArwZ6ffmYBM4"
      },
      "execution_count": null,
      "outputs": []
    },
    {
      "cell_type": "code",
      "source": [
        "## Are there any seasonal trends in the number of stops?\n",
        "plt.figure(figsize=(12, 6))\n",
        "data.resample('M').size().plot()\n",
        "plt.title('Seasonal Trends in Traffic Stops')\n",
        "plt.xlabel('Month')\n",
        "plt.ylabel('Number of Stops')\n",
        "plt.show()"
      ],
      "metadata": {
        "id": "MQpE1gJ6YGsq"
      },
      "execution_count": null,
      "outputs": []
    },
    {
      "cell_type": "code",
      "source": [
        "## What's the difference here?\n",
        "plt.figure(figsize=(12, 6))\n",
        "data.groupby(data.index.month).size().plot()\n",
        "plt.title('Seasonal Trends in Traffic Stops')\n",
        "plt.xlabel('Month')\n",
        "plt.ylabel('Number of Stops')\n",
        "plt.show()"
      ],
      "metadata": {
        "id": "g9IePe5AYWGm"
      },
      "execution_count": null,
      "outputs": []
    },
    {
      "cell_type": "code",
      "source": [
        "## Have arrest rates or search rates changed over time?\n",
        "# Omitted for brevity, can be implemented similarly to the above plots\n",
        "\n",
        "## At what times of the day are stops most frequent?\n",
        "data['hour'] = data.index.hour\n",
        "hourly_stops = data['hour'].value_counts().sort_index()\n",
        "hourly_stops"
      ],
      "metadata": {
        "id": "ZYPCF7nLYlLN"
      },
      "execution_count": null,
      "outputs": []
    },
    {
      "cell_type": "code",
      "source": [
        "data['stop_duration'].value_counts()"
      ],
      "metadata": {
        "id": "pjdGN025Zmcw"
      },
      "execution_count": null,
      "outputs": []
    },
    {
      "cell_type": "code",
      "source": [
        "# Theme 4: Stop Duration and Location\n",
        "## What is the average duration of a stop?\n",
        "\n",
        "# Create a mapping for 'stop_duration' to numerical values\n",
        "duration_mapping = {\n",
        "    '0-15 Min': 7.5,\n",
        "    '16-30 Min': 23,\n",
        "    '30+ Min': 45,\n",
        "    '2': None,  # Unclear what this represents\n",
        "    '1': None   # Unclear what this represents\n",
        "}\n",
        "\n",
        "# Apply the mapping to create a new 'stop_duration_num' column\n",
        "data['stop_duration_num'] = data['stop_duration'].map(duration_mapping)\n",
        "\n",
        "# Drop rows where 'stop_duration_num' or 'district' is NaN\n",
        "data = data.dropna(subset=['stop_duration_num', 'district'])\n",
        "\n",
        "# Check the first few rows to see if the mapping worked\n",
        "data[['stop_duration', 'stop_duration_num']].head()"
      ],
      "metadata": {
        "id": "u2j5SreaYvJq"
      },
      "execution_count": null,
      "outputs": []
    },
    {
      "cell_type": "code",
      "source": [
        "average_duration = data['stop_duration_num'].mean()\n",
        "average_duration"
      ],
      "metadata": {
        "id": "JYavSiC4aKBi"
      },
      "execution_count": null,
      "outputs": []
    },
    {
      "cell_type": "code",
      "source": [
        "# Create a boxplot to visualize 'stop_duration_num' against 'district'\n",
        "plt.figure(figsize=(12, 6))\n",
        "sns.boxplot(data=data, x='district', y='stop_duration_num')\n",
        "plt.title('Stop Duration by District')\n",
        "plt.xlabel('District')\n",
        "plt.ylabel('Stop Duration (minutes)')\n",
        "plt.show()\n"
      ],
      "metadata": {
        "id": "iEW_JhOJbNxx"
      },
      "execution_count": null,
      "outputs": []
    },
    {
      "cell_type": "code",
      "source": [
        "# Theme 5: Hypothesis Testing and Social Implications\n",
        "\n",
        "# Question 1: Is there a significant difference in stop outcomes between White and Black drivers?\n",
        "## Chi-Squared Test: Race and Stop Outcomes\n",
        "filtered_data_race = data[data['driver_race'].isin(['White', 'Black'])]\n",
        "crosstab_race_outcome = pd.crosstab(filtered_data_race['driver_race'], filtered_data_race['stop_outcome'])\n",
        "crosstab_race_outcome"
      ],
      "metadata": {
        "id": "acHA9fU9bfK_"
      },
      "execution_count": null,
      "outputs": []
    },
    {
      "cell_type": "code",
      "source": [
        "chi2, p_value_race_outcome, _, _ = chi2_contingency(crosstab_race_outcome)\n",
        "print(\"Chi-squared test result for race and stop outcomes:\")\n",
        "print(\"Chi2:\", chi2)\n",
        "print(\"P-value:\", p_value_race_outcome)"
      ],
      "metadata": {
        "id": "sXUECMSAcMon"
      },
      "execution_count": null,
      "outputs": []
    },
    {
      "cell_type": "code",
      "execution_count": null,
      "metadata": {
        "id": "QHi22dgoNYm9"
      },
      "outputs": [],
      "source": [
        "# Question 2: Are younger drivers more likely to be searched? (Commonly held belief)\n",
        "## Chi-Squared Test: Age and Search Rates\n",
        "crosstab_age_search = pd.crosstab(data['age_cat'], data['search_conducted'])\n",
        "chi2, p_value_age_search, _, _ = chi2_contingency(crosstab_age_search)\n",
        "print(\"Chi-squared test result for age categories and search rates:\")\n",
        "print(\"Chi2:\", chi2)\n",
        "print(\"P-value:\", p_value_age_search)"
      ]
    },
    {
      "cell_type": "code",
      "source": [
        "# Interpretation of the results\n",
        "print(\"\\nInterpretation:\")\n",
        "if p_value_race_outcome < 0.05:\n",
        "    print(\"There is a significant difference in stop outcomes between White and Black drivers.\")\n",
        "else:\n",
        "    print(\"There is no significant difference in stop outcomes between White and Black drivers.\")\n",
        "\n",
        "if p_value_age_search < 0.05:\n",
        "    print(\"There is a significant difference in search rates among different age groups.\")\n",
        "else:\n",
        "    print(\"There is no significant difference in search rates among different age groups.\")"
      ],
      "metadata": {
        "id": "HoUpsFiycS7k"
      },
      "execution_count": null,
      "outputs": []
    }
  ]
}