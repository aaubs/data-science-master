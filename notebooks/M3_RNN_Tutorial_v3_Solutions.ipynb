{
  "nbformat": 4,
  "nbformat_minor": 0,
  "metadata": {
    "colab": {
      "provenance": [],
      "authorship_tag": "ABX9TyMO4qXOwQbqICdv2EPVL3Qf",
      "include_colab_link": true
    },
    "kernelspec": {
      "name": "python3",
      "display_name": "Python 3"
    },
    "language_info": {
      "name": "python"
    }
  },
  "cells": [
    {
      "cell_type": "markdown",
      "metadata": {
        "id": "view-in-github",
        "colab_type": "text"
      },
      "source": [
        "<a href=\"https://colab.research.google.com/github/aaubs/ds-master/blob/main/notebooks/M3_RNN_Tutorial_v3_Solutions.ipynb\" target=\"_parent\"><img src=\"https://colab.research.google.com/assets/colab-badge.svg\" alt=\"Open In Colab\"/></a>"
      ]
    },
    {
      "cell_type": "markdown",
      "source": [
        "# The objective of this tutorial\n",
        "\n",
        "Our goal in this tutorial is to provide simple examples of the RNN model so that you can better understand its functionality and how it can be used in a domain.\n",
        "\n",
        "After completing this tutorial, you will know:\n",
        "\n",
        "\n",
        "```\n",
        "1. What is a recurrent neural network (RNN)?\n",
        "2. How do RNNs work and what is their structure?\n",
        "3. How can RNNs be used for tasks such as time series analysis?\n",
        "4. How to implement an RNN in code using PyTorch?\n",
        "5. How to train an RNN for a specific task?\n",
        "6. What are some common challenges and pitfalls to avoid when working with RNNs?\n",
        "```\n"
      ],
      "metadata": {
        "id": "5YsD4lOPEdmK"
      }
    },
    {
      "cell_type": "markdown",
      "source": [
        "## A quick recap on Simple Neural Network (FeedForward)"
      ],
      "metadata": {
        "id": "ZQawEI4XUZ-p"
      }
    },
    {
      "cell_type": "markdown",
      "source": [
        "A simple neural network consists of three different parts namely Parameters, Linear, and None-Linear (Activation Function ) parts:"
      ],
      "metadata": {
        "id": "Mg36lXTUh26q"
      }
    },
    {
      "cell_type": "markdown",
      "source": [
        "1. First, a weight is being applied to each input to an artificial neuron.\n",
        "2. Second, the inputs are multiplied by their weights, and then a bias is applied to the outcome. This is called the weighted sum.\n",
        "3. Third, the weighted sum is processed via an activation function, as a non-linear function."
      ],
      "metadata": {
        "id": "1IUeWB5KiCMj"
      }
    },
    {
      "cell_type": "markdown",
      "source": [
        "<img src=\"https://cdn.analyticsvidhya.com/wp-content/uploads/2020/02/13UpdymQx-C1tBKRnfD7eOg.gif\" width=\"500\">"
      ],
      "metadata": {
        "id": "HBtJUGWIkxQN"
      }
    },
    {
      "cell_type": "markdown",
      "source": [
        "The neural network can compare the outputs of its nodes with the desired values using a property known as the delta rule, allowing the network to alter its weights through training to create more accurate output values. This training and learning procedure results in gradient descent.\n",
        "\n",
        "The technique of updating weights in multi-layered perceptrons is virtually the same, however, the process is referred to as back-propagation. In such circumstances, the output values provided by the final layer are used to alter each hidden layer inside the network."
      ],
      "metadata": {
        "id": "evhlndvXkzzx"
      }
    },
    {
      "cell_type": "markdown",
      "source": [
        "### Problems with a Simple Neural Network"
      ],
      "metadata": {
        "id": "Ivg_7TJWRZbb"
      }
    },
    {
      "cell_type": "markdown",
      "source": [
        "The main shortcomings of traditional neural networks are:\n",
        "\n",
        "1. They can not handle sequential data\n",
        "2. They can not remember the sequence of the data, i.e order is not important\n",
        "3. Can not share parameters across the sequence\n",
        "4. They have a fixed input length\n",
        "\n",
        "Let’s have a brief look at these problems, then dig deeper into RNN."
      ],
      "metadata": {
        "id": "J2NNUpctRz82"
      }
    },
    {
      "cell_type": "markdown",
      "source": [
        "#### 1. They can not handle sequential data"
      ],
      "metadata": {
        "id": "KfTNIi8UhsLu"
      }
    },
    {
      "cell_type": "markdown",
      "source": [
        "Sequential data in RNN (Recurrent Neural Network) refers to any type of data where the observations have a temporal or sequential relationship. This could include time series data, where each observation is dependent on the previous one, or sequence data, where the order of the observations is important. In RNNs, this type of data is processed through the recurrent connections in the network, allowing the model to maintain and update an internal state based on the information in the sequence. This makes RNNs particularly well suited for tasks such as language modeling, speech recognition, and time series forecasting. There are some variations to the neural network’s configuration based on the shape of the input or output which you can see in the following:"
      ],
      "metadata": {
        "id": "BhxBLbBnkTtY"
      }
    },
    {
      "cell_type": "markdown",
      "source": [
        "<img src=\"https://raw.githubusercontent.com/aaubs/ds-master/main/data/Images/SeqData_RNN.png\" width=\"400\">\n",
        "\n"
      ],
      "metadata": {
        "id": "3k4r4FqTksyQ"
      }
    },
    {
      "cell_type": "markdown",
      "source": [
        "#### 2. They can not remember the sequence of the data, i.e order is not important"
      ],
      "metadata": {
        "id": "QgCDwtjPbxRI"
      }
    },
    {
      "cell_type": "markdown",
      "source": [
        "The second limitation of traditional neural networks is that they can not remember the sequence of the data, or the order is not important to them. Let’s understand this problem with an example which is shown in this figure (MIT 6.S191 Intro to Deep Learning)."
      ],
      "metadata": {
        "id": "r_nG9WWAb4f8"
      }
    },
    {
      "cell_type": "markdown",
      "source": [
        "![image.jpeg](https://raw.githubusercontent.com/aaubs/ds-master/main/data/Images/Problems-with-Traditional-Neural-Network-2.jpeg)"
      ],
      "metadata": {
        "id": "SAJh08ejgB18"
      }
    },
    {
      "cell_type": "markdown",
      "source": [
        "\n",
        "\n",
        "> *RNNs use feedback connections that allow information to be passed from one step of the sequence to the next, allowing the network to maintain and update an internal state that depends on the past input. This enables RNNs to capture and understand the dependencies and patterns in the sequence data, making them well suited for tasks such as natural language processing and time series analysis.*\n",
        "\n"
      ],
      "metadata": {
        "id": "Eyl8isKBg08O"
      }
    },
    {
      "cell_type": "markdown",
      "source": [
        "#### 3. FeedForward Neural Network Can not share parameters across the sequence\n",
        "\n",
        "In traditional Feedforward Neural Networks (MLPs), each input is processed independently and there is no mechanism for sharing parameters across different inputs in a sequence. For example, let’s take the sentence **“what is your name? My name is Lasse”**. In an MLP, each word would be treated as a separate input and would be processed through separate hidden layers. There is no way for the network to share information across words in the sequence, such as information about the relationship between words or about common features that occur across different parts of the sequence. In this case, \"name\"'s parameters should have been shared and so the neural network should have been able to determine that \"name\"'s words are dependent in this sentence."
      ],
      "metadata": {
        "id": "5_a87DZzYAA3"
      }
    },
    {
      "cell_type": "markdown",
      "source": [
        "\n",
        "\n",
        "> *In contrast, Recurrent Neural Networks (RNNs) have a hidden state that is updated at each time step, allowing the network to maintain information about the sequence and share parameters across different time steps. This makes RNNs well-suited for processing sequential data and for tasks such as sequence classification, language modeling, and machine translation*\n",
        "\n",
        "\n"
      ],
      "metadata": {
        "id": "BYpgv8E9baFb"
      }
    },
    {
      "cell_type": "markdown",
      "source": [
        "Therefore Recurrent Neural Networks (RNN), originally were designed to handle some of the shortcomings that traditional neural networks have when dealing with sequential data."
      ],
      "metadata": {
        "id": "5x-VbMMUiw6z"
      }
    },
    {
      "cell_type": "markdown",
      "source": [
        "## What is a Recurrent Neural Network?"
      ],
      "metadata": {
        "id": "JIhY3uV3ipL1"
      }
    },
    {
      "cell_type": "markdown",
      "source": [
        "Here we can see that the Simple Neural Network is unidirectional, which means it has a single direction, whereas the RNN, has loops inside it to persist the information over timestamp t. This looping preserves the information over the sequence."
      ],
      "metadata": {
        "id": "9EdoHDLRsC_j"
      }
    },
    {
      "cell_type": "markdown",
      "source": [
        "<img src=\"https://raw.githubusercontent.com/aaubs/ds-master/main/data/Images/FNN-RNN.png\" width=\"500\">"
      ],
      "metadata": {
        "id": "wYP4GSJpj4Fn"
      }
    },
    {
      "cell_type": "markdown",
      "source": [
        "#### Structure of RNN"
      ],
      "metadata": {
        "id": "WRRo4fLIGilr"
      }
    },
    {
      "cell_type": "markdown",
      "source": [
        "Now, let’s dig deeper to understand what is happening under the hood. An RNN consists of four different parts:\n",
        "1. Linear part (Parameters: This includes the weights and biases of the input-to-hidden layer, the hidden-to-hidden layer, and the hidden-to-output layer.)\n",
        "> *The hidden state is used to capture the information from the previous time steps, but this information is not relevant after the training process is finished. Therefore, resetting the hidden state parameters to zero ensures that the network starts with a clean slate for making predictions on new, unseen data.*\n",
        "\n",
        "2. The hidden state (also known as the context state)\n",
        "> *you can think of the hidden state as representing the \"memory\" of the network, which is updated at each time step and used to produce the output.*\n",
        "\n",
        "\n",
        "3. Non-Linear part (Activation Function (Tanh))\n",
        "> As you can see in the equation above, you feed in both input vector Xt and the previous state ht-1 into the function. Here you’ll have 2 separate weight matrices then apply the Non-linearity (tanh) to the sum of input Xt and previous state ht-1 after multiplication to these 2 weight matrices.\n",
        "<img src=\"https://raw.githubusercontent.com/aaubs/ds-master/main/data/Images/sequence-2.png\" width=\"300\">\n",
        "\n",
        "\n",
        "4. Fully connected (Output layer): Finally, you’ll have the output vector ŷt at the timestamp t.\n",
        "> <img src=\"https://raw.githubusercontent.com/aaubs/ds-master/main/data/Images/sequence-3.png\" width=\"150\">\n",
        "\n",
        "\n",
        "\n",
        "\n"
      ],
      "metadata": {
        "id": "zFlqx_2isQAr"
      }
    },
    {
      "cell_type": "markdown",
      "source": [
        "![](https://raw.githubusercontent.com/HamidBekamiri/Econometrics-II/refs/heads/main/images/RNN_Formula.png)"
      ],
      "metadata": {
        "id": "vYCCWezZl88P"
      }
    },
    {
      "cell_type": "markdown",
      "source": [
        "### RNN code implementation"
      ],
      "metadata": {
        "id": "lyzMY5Q8sTWK"
      }
    },
    {
      "cell_type": "markdown",
      "source": [
        "In Recurrent Neural Networks (RNNs), the terms \"input size\", \"hidden size\", and \"number of outputs\" refer to the following:\n",
        "> Input size: Refers to the number of features in a single input sample. For example, if the input is a one-hot encoded word, the input size would be the number of unique words in the vocabulary.\n",
        "\n",
        "> Hidden size: Refers to the number of neurons in the hidden layer. The hidden state of the RNN at each time step is represented by this layer, which helps to capture information from the past time steps.\n",
        "\n",
        "> Number of outputs: Refers to the number of outputs generated by the RNN. This could be one output for a simple prediction problem, or multiple outputs for a multi-task prediction problem.\n",
        "\n",
        "Note that these hyperparameters need to be set prior to training the RNN and their choice can affect the model's performance."
      ],
      "metadata": {
        "id": "L5175gDHG1lH"
      }
    },
    {
      "cell_type": "markdown",
      "source": [
        "The \"input to hidden\" weights are the connections or weights between the input layer and the hidden layer, and these connections allow the network to learn how to propagate information from the input to the hidden state.\n",
        "\n",
        "The \"hidden to output\" weights are the connections or weights between the hidden layer and the output layer, and these connections allow the network to learn how to produce the final output based on the hidden state."
      ],
      "metadata": {
        "id": "ZfNYUio8H_gr"
      }
    },
    {
      "cell_type": "markdown",
      "source": [
        "The forward pass is the process of computing the output for a given input sequence. The forward pass starts by initializing the hidden state of the RNN with a zero vector or some other randomly generated values."
      ],
      "metadata": {
        "id": "hUyMWlphcdmQ"
      }
    },
    {
      "cell_type": "markdown",
      "source": [
        "In the forward pass we understood how the inputs and the hidden states interact with the weights and biases of the recurrent layers and how to use the information contained in the last hidden state to predict the next time step value.\n"
      ],
      "metadata": {
        "id": "AcOyCY_b_Ji4"
      }
    },
    {
      "cell_type": "markdown",
      "source": [
        "RNNs use feedback connections that allow information to be passed from one step of the sequence to the next, allowing the network to maintain and update an internal state that depends on the past input. This enables RNNs to capture and understand the dependencies and patterns in the sequence data, making them well suited for tasks such as natural language processing and time series analysis."
      ],
      "metadata": {
        "id": "gn7f3NVGwOt0"
      }
    },
    {
      "cell_type": "markdown",
      "source": [
        "<img src=\"https://raw.githubusercontent.com/aaubs/ds-master/main/data/Images/rnn_timestamps.gif\" width=\"700\">"
      ],
      "metadata": {
        "id": "fjIw-SzZBD4E"
      }
    },
    {
      "cell_type": "markdown",
      "source": [
        "The backward pass is just the application of the chain rule from the loss gradient with respect to the predictions until it becomes with respect to the parameters we want to optimize."
      ],
      "metadata": {
        "id": "ss-PWvFz_ZTk"
      }
    },
    {
      "cell_type": "markdown",
      "source": [
        "<img src=\"https://raw.githubusercontent.com/aaubs/ds-master/main/data/Images/understanding-gradient-descent.png\" width=\"400\">"
      ],
      "metadata": {
        "id": "Ecjc8TjoDy2Y"
      }
    },
    {
      "cell_type": "markdown",
      "source": [
        "The hidden state is used to capture the information from the previous time steps, but this information is not relevant after the training process is finished. Therefore, resetting the hidden state to zero ensures that the network starts with a clean slate for making predictions on new, unseen data.\n"
      ],
      "metadata": {
        "id": "9gCpg1IMx3cF"
      }
    },
    {
      "cell_type": "markdown",
      "source": [
        "<img src=\"https://raw.githubusercontent.com/aaubs/ds-master/main/data/Images/rnn-shorttermmemory.gif\" width=\"400\">"
      ],
      "metadata": {
        "id": "Zv93vePiy-CC"
      }
    },
    {
      "cell_type": "markdown",
      "source": [
        "### Which parameters have been trained and should be saved?"
      ],
      "metadata": {
        "id": "Qg9pMoqr2OE2"
      }
    },
    {
      "cell_type": "markdown",
      "source": [
        "The \"input to hidden\" as Wi2h and the \"hidden to hidden\" as Wh2h weights are learned during the training process through backpropagation and gradient descent optimization algorithms, and they determine the strength of the relationships between the input, hidden, and output layers."
      ],
      "metadata": {
        "id": "qVNe2og85Mxi"
      }
    },
    {
      "cell_type": "markdown",
      "source": [
        "## How does PyTorch help to implement an RNN?\n"
      ],
      "metadata": {
        "id": "z1NQv-uxetdr"
      }
    },
    {
      "cell_type": "markdown",
      "source": [
        "Let's implement this code using PyTorch!"
      ],
      "metadata": {
        "id": "RK3YjT2uggx-"
      }
    },
    {
      "cell_type": "code",
      "source": [
        "# import required libraries\n",
        "import torch\n",
        "import pandas as pd\n",
        "import torch.nn as nn\n",
        "import torch.optim as optim\n",
        "import numpy as np\n",
        "from torch.utils.data import DataLoader, TensorDataset\n",
        "from sklearn import preprocessing\n",
        "import matplotlib.pyplot as plt\n",
        "from tqdm import tqdm\n",
        "from sklearn.preprocessing import MinMaxScaler"
      ],
      "metadata": {
        "id": "nvXoIUUSQ0JG"
      },
      "execution_count": 5,
      "outputs": []
    },
    {
      "cell_type": "markdown",
      "source": [
        "### Data Preparation"
      ],
      "metadata": {
        "id": "t_oBVKD6Q52-"
      }
    },
    {
      "cell_type": "markdown",
      "source": [
        "To understand how should we prepare the data for RNN, we’ll use a simple dataset as a Timeseries Forecasting example. Below is the full sequence of values and their restructuring as a training and testing dataset.\n",
        "\n",
        "<img src=\"https://raw.githubusercontent.com/aaubs/ds-master/main/data/Images/SequenceDataPerparation.webp\" width=\"400\">\n",
        "\n",
        "Now, let’s separate the datasets into batches!\n",
        "\n",
        "<img src=\"https://raw.githubusercontent.com/aaubs/ds-master/main/data/Images/Seq_DataPerparation_2.webp\" width=\"100\">"
      ],
      "metadata": {
        "id": "l3KQo2ko5S3N"
      }
    },
    {
      "cell_type": "code",
      "source": [
        "# Step 1: Load and Preprocess Data\n",
        "df_array = pd.DataFrame(np.array([10, 20, 30, 40, 50, 60, 70, 80, 90]))"
      ],
      "metadata": {
        "id": "5qSxuowB4zPc"
      },
      "execution_count": 7,
      "outputs": []
    },
    {
      "cell_type": "code",
      "source": [
        "# Step 2: Feature engineering\n"
      ],
      "metadata": {
        "id": "aL0G94Tv5QD0"
      },
      "execution_count": null,
      "outputs": []
    },
    {
      "cell_type": "code",
      "source": [
        "# Step 3: Normalize the Data\n",
        "scaler = MinMaxScaler()\n",
        "data_scaled = scaler.fit_transform(df_array)"
      ],
      "metadata": {
        "id": "vVl0pHu15_bm"
      },
      "execution_count": 8,
      "outputs": []
    },
    {
      "cell_type": "code",
      "source": [
        "# Step 4: Split Data into Training and Testing Sets\n",
        "train_size = int(len(data_scaled) * 0.8)\n",
        "train_data = data_scaled[:train_size]\n",
        "test_data = data_scaled[train_size:]\n",
        "\n",
        "# Further split the training data into training and validation sets\n",
        "train_valid_size = int(len(train_data) * 0.8)\n",
        "train_data_final = train_data[:train_valid_size]\n",
        "valid_data = train_data[train_valid_size:]\n",
        "\n",
        "# Step 5: Prepare Data for RNN Input\n",
        "def create_sequences_multivariate(data, n_timesteps, target_column_index):\n",
        "    X = []\n",
        "    y = []\n",
        "    for i in range(len(data) - n_timesteps):\n",
        "        seq_x = data[i:i + n_timesteps]\n",
        "        seq_y = data[i + n_timesteps, target_column_index]\n",
        "        X.append(seq_x)\n",
        "        y.append(seq_y)\n",
        "    return np.array(X), np.array(y)\n",
        "\n",
        "n_timesteps = 1\n",
        "n_features = data_scaled.shape[1]\n",
        "target_column_index = 0  # 'Close' is the target column\n",
        "\n",
        "# Create sequences for training, validation, and testing\n",
        "X_train, y_train = create_sequences_multivariate(train_data_final, n_timesteps, target_column_index)\n",
        "X_valid, y_valid = create_sequences_multivariate(valid_data, n_timesteps, target_column_index)\n",
        "X_test, y_test = create_sequences_multivariate(test_data, n_timesteps, target_column_index)\n",
        "\n",
        "# Convert to tensors\n",
        "X_train = torch.tensor(X_train, dtype=torch.float32)\n",
        "y_train = torch.tensor(y_train, dtype=torch.float32)\n",
        "\n",
        "X_valid = torch.tensor(X_valid, dtype=torch.float32)\n",
        "y_valid = torch.tensor(y_valid, dtype=torch.float32)\n",
        "\n",
        "X_test = torch.tensor(X_test, dtype=torch.float32)\n",
        "y_test = torch.tensor(y_test, dtype=torch.float32)"
      ],
      "metadata": {
        "id": "WXwqfxL255h3"
      },
      "execution_count": 21,
      "outputs": []
    },
    {
      "cell_type": "markdown",
      "source": [
        "Implementing code for LSTM and RNN requires sequential data preparation. The data preparation process for these models is visualized here!\n",
        "\n",
        "\n",
        "<img src=\"https://raw.githubusercontent.com/aaubs/ds-master/main/data/Images/sequence.gif\" width=\"600\">\n"
      ],
      "metadata": {
        "id": "ot0lYrMKzpVL"
      }
    },
    {
      "cell_type": "markdown",
      "source": [
        "We then have to prepare the dataset. We need the data as Pytorch tensors so that we can use that in our model which we will make. We use the dataloader so that we can extract the data in batches. This is especially helpful for large datasets.\n",
        "\n",
        "<img src=\"https://raw.githubusercontent.com/aaubs/ds-master/main/data/Images/TensorDataset.webp\" width=\"600\">\n",
        "\n"
      ],
      "metadata": {
        "id": "wMQQtwD2-h6Y"
      }
    },
    {
      "cell_type": "code",
      "source": [
        "# Create DataLoaders\n",
        "train_dataset = TensorDataset(X_train, y_train)\n",
        "valid_dataset = TensorDataset(X_valid, y_valid)\n",
        "test_dataset = TensorDataset(X_test, y_test)\n",
        "\n",
        "train_loader = DataLoader(train_dataset, batch_size=1, shuffle=False)\n",
        "valid_loader = DataLoader(valid_dataset, batch_size=1, shuffle=False)\n",
        "test_loader = DataLoader(test_dataset, batch_size=1, shuffle=False)"
      ],
      "metadata": {
        "id": "HtUly6R_64BL"
      },
      "execution_count": 22,
      "outputs": []
    },
    {
      "cell_type": "code",
      "source": [
        "X_train"
      ],
      "metadata": {
        "colab": {
          "base_uri": "https://localhost:8080/"
        },
        "id": "gZA2ntGO7h1t",
        "outputId": "b8029797-c270-4a96-9209-99335da1da29"
      },
      "execution_count": 23,
      "outputs": [
        {
          "output_type": "execute_result",
          "data": {
            "text/plain": [
              "tensor([[[0.0000]],\n",
              "\n",
              "        [[0.1250]],\n",
              "\n",
              "        [[0.2500]],\n",
              "\n",
              "        [[0.3750]]])"
            ]
          },
          "metadata": {},
          "execution_count": 23
        }
      ]
    },
    {
      "cell_type": "code",
      "source": [
        "len(train_loader.dataset)"
      ],
      "metadata": {
        "colab": {
          "base_uri": "https://localhost:8080/"
        },
        "id": "ApeKyNoN7ab7",
        "outputId": "52f63ec8-f692-44f2-c891-54093b66339f"
      },
      "execution_count": 24,
      "outputs": [
        {
          "output_type": "execute_result",
          "data": {
            "text/plain": [
              "4"
            ]
          },
          "metadata": {},
          "execution_count": 24
        }
      ]
    },
    {
      "cell_type": "code",
      "source": [
        "# Step 6: Build the RNN Model\n",
        "# 1. Creating a FeedForwardNetwork\n",
        "# 1.1 Structure (Architecture) of NN\n",
        "class RNNModel(nn.Module):\n",
        "    def __init__(self, input_size, hidden_size=50, output_size=1):\n",
        "        super(RNNModel, self).__init__()\n",
        "        self.hidden_size = hidden_size\n",
        "        self.rnn = nn.RNN(input_size, hidden_size, batch_first=True)\n",
        "        self.fc = nn.Linear(hidden_size, output_size)\n",
        "\n",
        "    def forward(self, x):\n",
        "        out, h_n = self.rnn(x)\n",
        "        out = out[:, -1, :]  # Take the output at the last time step\n",
        "        out = self.fc(out)\n",
        "        return out\n",
        "\n",
        "model = RNNModel(input_size=n_features, hidden_size=50, output_size=1)\n",
        "\n",
        "# Define loss function and optimizer\n",
        "# 1.2 Loss Function\n",
        "criterion = nn.MSELoss()\n",
        "\n",
        "# 1.3 Optmization Approch\n",
        "optimizer = optim.Adam(model.parameters())\n",
        "\n",
        "# Step 7: Train the Model\n",
        "device = torch.device('cuda' if torch.cuda.is_available() else 'cpu')\n",
        "model.to(device)\n",
        "\n",
        "num_epochs = 10\n",
        "train_losses = []\n",
        "valid_losses = []\n",
        "\n",
        "for epoch in range(num_epochs):\n",
        "    model.train()\n",
        "    train_loss = 0\n",
        "    for inputs, targets in train_loader:\n",
        "        inputs = inputs.to(device)\n",
        "        targets = targets.to(device)\n",
        "        optimizer.zero_grad()\n",
        "        # 2. Forward Pass\n",
        "        outputs = model(inputs)\n",
        "        # 3. FeedForward Evaluation\n",
        "        loss = criterion(outputs.squeeze(), targets)\n",
        "        # 4. Backward Pass / Gradient Calculation\n",
        "        loss.backward()\n",
        "        # 5. Back Propagation / Update Weights\n",
        "        optimizer.step()\n",
        "        train_loss += loss.item() * inputs.size(0)\n",
        "    train_loss /= len(train_loader.dataset)\n",
        "    train_losses.append(train_loss)\n",
        "\n",
        "    # Evaluate on validation set\n",
        "    model.eval()\n",
        "    valid_loss = 0\n",
        "    with torch.no_grad():\n",
        "        for inputs, targets in valid_loader:\n",
        "            inputs = inputs.to(device)\n",
        "            targets = targets.to(device)\n",
        "            outputs = model(inputs)\n",
        "            loss = criterion(outputs.squeeze(), targets)\n",
        "            valid_loss += loss.item() * inputs.size(0)\n",
        "    valid_loss /= len(valid_loader.dataset)\n",
        "    valid_losses.append(valid_loss)\n",
        "\n",
        "    if (epoch + 1) % 2 == 0:\n",
        "        print(f'Epoch {epoch + 1}/{num_epochs}, Train Loss: {train_loss:.6f}, Valid Loss: {valid_loss:.6f}')\n",
        "\n",
        "# Step 8: Evaluate the Model\n",
        "# Evaluate on testing set\n",
        "model.eval()\n",
        "with torch.no_grad():\n",
        "    test_preds = model(X_test.to(device)).cpu().numpy()\n",
        "    test_actuals = y_test.numpy()\n",
        "\n",
        "# # Step 9: Denormalize and Visualize Predictions\n",
        "# # Since we have multiple features, we need to only inverse transform the target variable\n",
        "# def denormalize(scaled_data, scaler, index):\n",
        "#     data = np.zeros((len(scaled_data), scaler.n_features_in_))\n",
        "#     data[:, index] = scaled_data[:, 0]\n",
        "#     data = scaler.inverse_transform(data)\n",
        "#     return data[:, index]\n",
        "\n",
        "# # Denormalize the predictions and actuals\n",
        "# test_preds_denorm = denormalize(test_preds, scaler, target_column_index)\n",
        "# test_actuals_denorm = denormalize(test_actuals.reshape(-1, 1), scaler, target_column_index)\n",
        "\n",
        "# # Plot predictions vs actuals for the test set\n",
        "# plt.figure(figsize=(12, 6))\n",
        "# plt.plot(test_actuals_denorm, label='Actual')\n",
        "# plt.plot(test_preds_denorm, label='Predicted')\n",
        "# plt.title('Predictions vs Actuals on Test Set')\n",
        "# plt.xlabel('Index')\n",
        "# plt.ylabel('TSLA Close Price')\n",
        "# plt.legend()\n",
        "# plt.show()\n",
        "\n",
        "# # Step 10: Save and Load the Model\n",
        "# # Save the model\n",
        "# torch.save(model.state_dict(), 'tsla_rnn_model.pth')\n",
        "\n",
        "# # Load the model\n",
        "# loaded_model = RNNModel(input_size=n_features, hidden_size=50, output_size=1)\n",
        "# loaded_model.load_state_dict(torch.load('tsla_rnn_model.pth'))\n",
        "# loaded_model.to(device)\n",
        "# loaded_model.eval()"
      ],
      "metadata": {
        "colab": {
          "base_uri": "https://localhost:8080/"
        },
        "id": "ZV4gm9xi4un4",
        "outputId": "25d6d48d-eaac-468b-a671-619bb7d1580b"
      },
      "execution_count": 29,
      "outputs": [
        {
          "output_type": "stream",
          "name": "stdout",
          "text": [
            "Epoch 2/10, Train Loss: 0.141480, Valid Loss: 0.551020\n",
            "Epoch 4/10, Train Loss: 0.081638, Valid Loss: 0.409537\n",
            "Epoch 6/10, Train Loss: 0.043265, Valid Loss: 0.299196\n",
            "Epoch 8/10, Train Loss: 0.022836, Valid Loss: 0.218886\n",
            "Epoch 10/10, Train Loss: 0.015099, Valid Loss: 0.166180\n"
          ]
        },
        {
          "output_type": "stream",
          "name": "stderr",
          "text": [
            "/usr/local/lib/python3.10/dist-packages/torch/nn/modules/loss.py:608: UserWarning: Using a target size (torch.Size([1])) that is different to the input size (torch.Size([])). This will likely lead to incorrect results due to broadcasting. Please ensure they have the same size.\n",
            "  return F.mse_loss(input, target, reduction=self.reduction)\n"
          ]
        }
      ]
    },
    {
      "cell_type": "code",
      "source": [
        "# Combine the parameters of the RNN layer and linear layer\n",
        "params = list(model.parameters())\n",
        "\n",
        "# Print the number of parameters\n",
        "print(\"Number of parameters:\", sum(p.numel() for p in params))\n",
        "\n",
        "# Print the shapes of the parameters\n",
        "for name, param in model.named_parameters():\n",
        "    print(\"Name: \", name)\n",
        "    print(\"shape: \", param.shape)\n",
        "    print(\"Weight: \", param.data)"
      ],
      "metadata": {
        "colab": {
          "base_uri": "https://localhost:8080/"
        },
        "id": "0zWfVNQfEU3o",
        "outputId": "4ddbde4b-9abe-4918-9e45-a9bf790de7bd"
      },
      "execution_count": 30,
      "outputs": [
        {
          "output_type": "stream",
          "name": "stdout",
          "text": [
            "Number of parameters: 2701\n",
            "Name:  rnn.weight_ih_l0\n",
            "shape:  torch.Size([50, 1])\n",
            "Weight:  tensor([[ 0.1136],\n",
            "        [-0.0234],\n",
            "        [-0.1397],\n",
            "        [-0.1075],\n",
            "        [ 0.0481],\n",
            "        [-0.0875],\n",
            "        [-0.1083],\n",
            "        [ 0.0781],\n",
            "        [ 0.0840],\n",
            "        [ 0.0544],\n",
            "        [-0.0105],\n",
            "        [ 0.1295],\n",
            "        [ 0.0226],\n",
            "        [ 0.0811],\n",
            "        [-0.0121],\n",
            "        [-0.0042],\n",
            "        [-0.0188],\n",
            "        [-0.0948],\n",
            "        [-0.1634],\n",
            "        [-0.0587],\n",
            "        [-0.1550],\n",
            "        [ 0.0899],\n",
            "        [-0.0625],\n",
            "        [ 0.1286],\n",
            "        [ 0.0638],\n",
            "        [-0.0673],\n",
            "        [ 0.0840],\n",
            "        [ 0.1515],\n",
            "        [-0.1528],\n",
            "        [ 0.1409],\n",
            "        [-0.0421],\n",
            "        [-0.0961],\n",
            "        [-0.0110],\n",
            "        [-0.0957],\n",
            "        [ 0.0139],\n",
            "        [ 0.1538],\n",
            "        [ 0.1279],\n",
            "        [ 0.0641],\n",
            "        [-0.0328],\n",
            "        [ 0.0639],\n",
            "        [ 0.0979],\n",
            "        [ 0.0481],\n",
            "        [ 0.0997],\n",
            "        [-0.0076],\n",
            "        [ 0.0212],\n",
            "        [-0.0966],\n",
            "        [ 0.0277],\n",
            "        [-0.0814],\n",
            "        [ 0.1208],\n",
            "        [-0.0980]])\n",
            "Name:  rnn.weight_hh_l0\n",
            "shape:  torch.Size([50, 50])\n",
            "Weight:  tensor([[ 7.8530e-02, -8.7882e-02, -9.7342e-05,  ..., -7.7713e-02,\n",
            "         -1.1941e-01,  1.2766e-01],\n",
            "        [ 3.5274e-02, -7.8723e-03,  2.1525e-02,  ...,  7.1226e-02,\n",
            "         -4.7111e-02,  8.1909e-02],\n",
            "        [-1.2377e-01, -9.2855e-02,  7.2990e-02,  ...,  5.3294e-02,\n",
            "          1.2852e-01, -5.4310e-02],\n",
            "        ...,\n",
            "        [-7.7642e-02, -4.4228e-03, -5.1339e-02,  ..., -9.4548e-02,\n",
            "         -2.4555e-02,  1.0013e-01],\n",
            "        [-1.0604e-01,  5.5363e-02,  5.4358e-02,  ...,  2.8376e-02,\n",
            "          3.1765e-02, -3.1952e-03],\n",
            "        [-1.1534e-01,  2.8864e-02, -1.0228e-01,  ...,  1.4081e-01,\n",
            "         -9.3411e-02, -5.8523e-02]])\n",
            "Name:  rnn.bias_ih_l0\n",
            "shape:  torch.Size([50])\n",
            "Weight:  tensor([-0.0730, -0.0742,  0.0233,  0.0455,  0.0688,  0.0507,  0.1132, -0.0525,\n",
            "        -0.1483,  0.0367, -0.1221,  0.0182,  0.1377, -0.0210, -0.1198,  0.1187,\n",
            "         0.0022,  0.1018,  0.0317, -0.0567,  0.0327,  0.0884,  0.0276, -0.0357,\n",
            "        -0.0965,  0.0936,  0.0935,  0.0840, -0.0615, -0.0938, -0.1271,  0.0141,\n",
            "         0.0999, -0.0105,  0.0137, -0.0484,  0.1603, -0.0546,  0.0403, -0.0587,\n",
            "        -0.0408, -0.0726, -0.0690, -0.1289,  0.1681, -0.0369,  0.0787,  0.0944,\n",
            "        -0.1097,  0.0351])\n",
            "Name:  rnn.bias_hh_l0\n",
            "shape:  torch.Size([50])\n",
            "Weight:  tensor([ 0.0422, -0.0861, -0.1174, -0.1229,  0.0599,  0.0102, -0.0420, -0.0507,\n",
            "         0.0058, -0.0547, -0.1670,  0.0822,  0.1375, -0.1374, -0.1512, -0.0916,\n",
            "        -0.0683,  0.0993, -0.1361, -0.0332,  0.1015,  0.0276, -0.0200,  0.0169,\n",
            "         0.0889, -0.0219,  0.0024,  0.1606, -0.1401, -0.0479, -0.1486,  0.0811,\n",
            "        -0.0206,  0.0065,  0.0786, -0.1056,  0.0273,  0.0067, -0.1053,  0.1252,\n",
            "         0.0539, -0.0476,  0.0862, -0.1207, -0.0429, -0.0797,  0.1155,  0.1634,\n",
            "         0.0252, -0.0383])\n",
            "Name:  fc.weight\n",
            "shape:  torch.Size([1, 50])\n",
            "Weight:  tensor([[-0.0289, -0.0016, -0.0941, -0.1167,  0.1243, -0.0259,  0.0338,  0.0146,\n",
            "         -0.0797, -0.0821, -0.0986,  0.0737,  0.1092, -0.0636, -0.0439,  0.0949,\n",
            "         -0.1338, -0.0125, -0.0405, -0.1680,  0.0003, -0.0230,  0.0611,  0.0323,\n",
            "         -0.0002, -0.0894,  0.1343,  0.1208, -0.1090, -0.0035, -0.0955,  0.0612,\n",
            "         -0.1054, -0.0303,  0.1255,  0.0371,  0.0485, -0.0077, -0.0022,  0.1729,\n",
            "          0.1057, -0.0890, -0.0373, -0.1307,  0.1023,  0.1063,  0.1370,  0.0346,\n",
            "         -0.0043, -0.0653]])\n",
            "Name:  fc.bias\n",
            "shape:  torch.Size([1])\n",
            "Weight:  tensor([-0.0777])\n"
          ]
        }
      ]
    },
    {
      "cell_type": "markdown",
      "source": [
        "| Layer                | Description                           | Shape         | Weight / Bias Values Explanation |\n",
        "|----------------------|---------------------------------------|---------------|----------------------------------|\n",
        "| `rnn.weight_ih_l0`   | Input to Hidden Layer Weights        | `[50, 1]`     | Connects input feature to each of the 50 hidden units, influencing how input affects hidden activations. |\n",
        "| `rnn.weight_hh_l0`   | Hidden to Hidden Layer Weights       | `[50, 50]`    | Connects each hidden unit to every other hidden unit, capturing temporal dependencies across time steps. |\n",
        "| `rnn.bias_ih_l0`     | Input to Hidden Layer Biases         | `[50]`        | Adjusts the activation of each hidden unit to improve model flexibility for input transformations. |\n",
        "| `rnn.bias_hh_l0`     | Hidden to Hidden Layer Biases        | `[50]`        | Adjusts hidden state outputs after combining them with hidden-to-hidden transformations. |\n",
        "| `fc.weight`          | Fully Connected Layer Weights        | `[1, 50]`     | Connects 50 hidden units to a single output, combining RNN hidden states into one final output. |\n",
        "| `fc.bias`            | Fully Connected Layer Bias           | `[1]`         | Single bias term adjusting the output of the fully connected layer. |\n"
      ],
      "metadata": {
        "id": "0CWDd2o79Suk"
      }
    },
    {
      "cell_type": "markdown",
      "source": [
        "## **Exercise 1: Implementing an RNN for Time Series Forecasting**\n",
        "**Objective:**\n",
        "\n",
        "In this exercise, you will build and train a Recurrent Neural Network (RNN) for time series forecasting."
      ],
      "metadata": {
        "id": "i_YxzAB60GJo"
      }
    },
    {
      "cell_type": "code",
      "source": [
        "# Import necessary libraries\n",
        "import pandas as pd\n",
        "import numpy as np\n",
        "import yfinance as yf\n",
        "import torch\n",
        "import torch.nn as nn\n",
        "import torch.optim as optim\n",
        "from torch.utils.data import TensorDataset, DataLoader\n",
        "from sklearn.preprocessing import MinMaxScaler\n",
        "import matplotlib.pyplot as plt\n",
        "\n",
        "# Step 1: Load and Preprocess Data\n",
        "# Load dataset\n",
        "end_date = pd.Timestamp.today()\n",
        "start_date = end_date - pd.DateOffset(years=5)  # Last 5 years\n",
        "df = yf.download('TSLA', start=start_date, end=end_date)\n",
        "df = df[['Close']]\n",
        "df = df.sort_index()\n",
        "\n",
        "# Step 2: Create Lag and Rolling Features\n",
        "df['lag_5'] = df['Close'].shift(5)\n",
        "df['rolling_mean_10'] = df['Close'].rolling(window=10).mean()\n",
        "df['rolling_sd_10'] = df['Close'].rolling(window=10).std()\n",
        "# df['rolling_diff_10'] = df['Close'] - df['rolling_mean_10']\n",
        "df.dropna(inplace=True)\n",
        "\n",
        "# Step 3: Normalize the Data\n",
        "scaler = MinMaxScaler()\n",
        "data_scaled = scaler.fit_transform(df)"
      ],
      "metadata": {
        "id": "5EBAKGd-9_0a"
      },
      "execution_count": null,
      "outputs": []
    },
    {
      "cell_type": "code",
      "source": [
        "# Step 4: Split Data into Training and Testing Sets\n",
        "train_size = int(len(data_scaled) * 0.8)\n",
        "train_data = data_scaled[:train_size]\n",
        "test_data = data_scaled[train_size:]\n",
        "\n",
        "# Further split the training data into training and validation sets\n",
        "train_valid_size = int(len(train_data) * 0.8)\n",
        "train_data_final = train_data[:train_valid_size]\n",
        "valid_data = train_data[train_valid_size:]\n",
        "\n",
        "# Step 5: Prepare Data for RNN Input\n",
        "def create_sequences_multivariate(data, n_timesteps, target_column_index):\n",
        "    X = []\n",
        "    y = []\n",
        "    for i in range(len(data) - n_timesteps):\n",
        "        seq_x = data[i:i + n_timesteps]\n",
        "        seq_y = data[i + n_timesteps, target_column_index]\n",
        "        X.append(seq_x)\n",
        "        y.append(seq_y)\n",
        "    return np.array(X), np.array(y)\n",
        "\n",
        "n_timesteps = 7\n",
        "n_features = data_scaled.shape[1]\n",
        "target_column_index = 0  # 'Close' is the target column\n",
        "\n",
        "# Create sequences for training, validation, and testing\n",
        "X_train, y_train = create_sequences_multivariate(train_data_final, n_timesteps, target_column_index)\n",
        "X_valid, y_valid = create_sequences_multivariate(valid_data, n_timesteps, target_column_index)\n",
        "X_test, y_test = create_sequences_multivariate(test_data, n_timesteps, target_column_index)\n",
        "\n",
        "# Convert to tensors\n",
        "X_train = torch.tensor(X_train, dtype=torch.float32)\n",
        "y_train = torch.tensor(y_train, dtype=torch.float32)\n",
        "\n",
        "X_valid = torch.tensor(X_valid, dtype=torch.float32)\n",
        "y_valid = torch.tensor(y_valid, dtype=torch.float32)\n",
        "\n",
        "X_test = torch.tensor(X_test, dtype=torch.float32)\n",
        "y_test = torch.tensor(y_test, dtype=torch.float32)\n",
        "\n",
        "# Create DataLoaders\n",
        "train_dataset = TensorDataset(X_train, y_train)\n",
        "valid_dataset = TensorDataset(X_valid, y_valid)\n",
        "test_dataset = TensorDataset(X_test, y_test)\n",
        "\n",
        "train_loader = DataLoader(train_dataset, batch_size=32, shuffle=False)\n",
        "valid_loader = DataLoader(valid_dataset, batch_size=32, shuffle=False)\n",
        "test_loader = DataLoader(test_dataset, batch_size=32, shuffle=False)\n",
        "\n",
        "# Step 6: Build the RNN Model\n",
        "# 1. Creating a FeedForwardNetwork\n",
        "# 1.1 Structure (Architecture) of NN\n",
        "class RNNModel(nn.Module):\n",
        "    def __init__(self, input_size, hidden_size=50, output_size=1):\n",
        "        super(RNNModel, self).__init__()\n",
        "        self.hidden_size = hidden_size\n",
        "        self.rnn = nn.RNN(input_size, hidden_size, batch_first=True)\n",
        "        self.fc = nn.Linear(hidden_size, output_size)\n",
        "\n",
        "    def forward(self, x):\n",
        "        out, h_n = self.rnn(x)\n",
        "        out = out[:, -1, :]  # Take the output at the last time step\n",
        "        out = self.fc(out)\n",
        "        return out\n",
        "\n",
        "model = RNNModel(input_size=n_features, hidden_size=50, output_size=1)\n",
        "\n",
        "# Define loss function and optimizer\n",
        "# 1.2 Loss Function\n",
        "criterion = nn.MSELoss()\n",
        "\n",
        "# 1.3 Optmization Approch\n",
        "optimizer = optim.Adam(model.parameters())\n",
        "\n",
        "# Step 7: Train the Model\n",
        "device = torch.device('cuda' if torch.cuda.is_available() else 'cpu')\n",
        "model.to(device)\n",
        "\n",
        "num_epochs = 200\n",
        "train_losses = []\n",
        "valid_losses = []\n",
        "\n",
        "for epoch in range(num_epochs):\n",
        "    model.train()\n",
        "    train_loss = 0\n",
        "    for inputs, targets in train_loader:\n",
        "        inputs = inputs.to(device)\n",
        "        targets = targets.to(device)\n",
        "        optimizer.zero_grad()\n",
        "        # 2. Forward Pass\n",
        "        outputs = model(inputs)\n",
        "        # 3. FeedForward Evaluation\n",
        "        loss = criterion(outputs.squeeze(), targets)\n",
        "        # 4. Backward Pass / Gradient Calculation\n",
        "        loss.backward()\n",
        "        # 5. Back Propagation / Update Weights\n",
        "        optimizer.step()\n",
        "        train_loss += loss.item() * inputs.size(0)\n",
        "    train_loss /= len(train_loader.dataset)\n",
        "    train_losses.append(train_loss)\n",
        "\n",
        "    # Evaluate on validation set\n",
        "    model.eval()\n",
        "    valid_loss = 0\n",
        "    with torch.no_grad():\n",
        "        for inputs, targets in valid_loader:\n",
        "            inputs = inputs.to(device)\n",
        "            targets = targets.to(device)\n",
        "            outputs = model(inputs)\n",
        "            loss = criterion(outputs.squeeze(), targets)\n",
        "            valid_loss += loss.item() * inputs.size(0)\n",
        "    valid_loss /= len(valid_loader.dataset)\n",
        "    valid_losses.append(valid_loss)\n",
        "\n",
        "    if (epoch + 1) % 20 == 0:\n",
        "        print(f'Epoch {epoch + 1}/{num_epochs}, Train Loss: {train_loss:.6f}, Valid Loss: {valid_loss:.6f}')\n",
        "\n",
        "# Step 8: Evaluate the Model\n",
        "# Evaluate on testing set\n",
        "model.eval()\n",
        "with torch.no_grad():\n",
        "    test_preds = model(X_test.to(device)).cpu().numpy()\n",
        "    test_actuals = y_test.numpy()\n",
        "\n",
        "# Step 9: Denormalize and Visualize Predictions\n",
        "# Since we have multiple features, we need to only inverse transform the target variable\n",
        "def denormalize(scaled_data, scaler, index):\n",
        "    data = np.zeros((len(scaled_data), scaler.n_features_in_))\n",
        "    data[:, index] = scaled_data[:, 0]\n",
        "    data = scaler.inverse_transform(data)\n",
        "    return data[:, index]\n",
        "\n",
        "# Denormalize the predictions and actuals\n",
        "test_preds_denorm = denormalize(test_preds, scaler, target_column_index)\n",
        "test_actuals_denorm = denormalize(test_actuals.reshape(-1, 1), scaler, target_column_index)\n",
        "\n",
        "# Plot predictions vs actuals for the test set\n",
        "plt.figure(figsize=(12, 6))\n",
        "plt.plot(test_actuals_denorm, label='Actual')\n",
        "plt.plot(test_preds_denorm, label='Predicted')\n",
        "plt.title('Predictions vs Actuals on Test Set')\n",
        "plt.xlabel('Index')\n",
        "plt.ylabel('TSLA Close Price')\n",
        "plt.legend()\n",
        "plt.show()\n",
        "\n",
        "# Step 10: Save and Load the Model\n",
        "# Save the model\n",
        "torch.save(model.state_dict(), 'tsla_rnn_model.pth')\n",
        "\n",
        "# Load the model\n",
        "loaded_model = RNNModel(input_size=n_features, hidden_size=50, output_size=1)\n",
        "loaded_model.load_state_dict(torch.load('tsla_rnn_model.pth'))\n",
        "loaded_model.to(device)\n",
        "loaded_model.eval()\n"
      ],
      "metadata": {
        "id": "knhdQPnB3-4S",
        "colab": {
          "base_uri": "https://localhost:8080/",
          "height": 848
        },
        "outputId": "2955acd9-a3fc-448b-c2b5-ee7d2ba3d667"
      },
      "execution_count": null,
      "outputs": [
        {
          "output_type": "stream",
          "name": "stderr",
          "text": [
            "\r[*********************100%***********************]  1 of 1 completed\n",
            "/usr/local/lib/python3.10/dist-packages/torch/nn/modules/loss.py:608: UserWarning: Using a target size (torch.Size([1])) that is different to the input size (torch.Size([])). This will likely lead to incorrect results due to broadcasting. Please ensure they have the same size.\n",
            "  return F.mse_loss(input, target, reduction=self.reduction)\n"
          ]
        },
        {
          "output_type": "stream",
          "name": "stdout",
          "text": [
            "Epoch 20/200, Train Loss: 0.002416, Valid Loss: 0.001197\n",
            "Epoch 40/200, Train Loss: 0.001820, Valid Loss: 0.000868\n",
            "Epoch 60/200, Train Loss: 0.001616, Valid Loss: 0.000706\n",
            "Epoch 80/200, Train Loss: 0.001432, Valid Loss: 0.000639\n",
            "Epoch 100/200, Train Loss: 0.001252, Valid Loss: 0.000686\n",
            "Epoch 120/200, Train Loss: 0.000837, Valid Loss: 0.000546\n",
            "Epoch 140/200, Train Loss: 0.000924, Valid Loss: 0.000521\n",
            "Epoch 160/200, Train Loss: 0.000890, Valid Loss: 0.000522\n",
            "Epoch 180/200, Train Loss: 0.000776, Valid Loss: 0.000483\n",
            "Epoch 200/200, Train Loss: 0.000951, Valid Loss: 0.000512\n"
          ]
        },
        {
          "output_type": "display_data",
          "data": {
            "text/plain": [
              "<Figure size 1200x600 with 1 Axes>"
            ],
            "image/png": "[encoded data removed]"
          },
          "metadata": {}
        },
        {
          "output_type": "stream",
          "name": "stderr",
          "text": [
            "<ipython-input-1-e50e445c7255>:174: FutureWarning: You are using `torch.load` with `weights_only=False` (the current default value), which uses the default pickle module implicitly. It is possible to construct malicious pickle data which will execute arbitrary code during unpickling (See https://github.com/pytorch/pytorch/blob/main/SECURITY.md#untrusted-models for more details). In a future release, the default value for `weights_only` will be flipped to `True`. This limits the functions that could be executed during unpickling. Arbitrary objects will no longer be allowed to be loaded via this mode unless they are explicitly allowlisted by the user via `torch.serialization.add_safe_globals`. We recommend you start setting `weights_only=True` for any use case where you don't have full control of the loaded file. Please open an issue on GitHub for any issues related to this experimental feature.\n",
            "  loaded_model.load_state_dict(torch.load('tsla_rnn_model.pth'))\n"
          ]
        },
        {
          "output_type": "execute_result",
          "data": {
            "text/plain": [
              "RNNModel(\n",
              "  (rnn): RNN(4, 50, batch_first=True)\n",
              "  (fc): Linear(in_features=50, out_features=1, bias=True)\n",
              ")"
            ]
          },
          "metadata": {},
          "execution_count": 1
        }
      ]
    }
  ]
}