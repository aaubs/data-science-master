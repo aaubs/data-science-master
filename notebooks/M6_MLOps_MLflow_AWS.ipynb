{
  "nbformat": 4,
  "nbformat_minor": 0,
  "metadata": {
    "colab": {
      "provenance": [],
      "authorship_tag": "ABX9TyM/pZEry1NAfGbE0THGD7e4",
      "include_colab_link": true
    },
    "kernelspec": {
      "name": "python3",
      "display_name": "Python 3"
    },
    "language_info": {
      "name": "python"
    }
  },
  "cells": [
    {
      "cell_type": "markdown",
      "metadata": {
        "id": "view-in-github",
        "colab_type": "text"
      },
      "source": [
        "<a href=\"https://colab.research.google.com/github/aaubs/ds-master/blob/main/notebooks/M6_MLOps_MLflow_AWS.ipynb\" target=\"_parent\"><img src=\"https://colab.research.google.com/assets/colab-badge.svg\" alt=\"Open In Colab\"/></a>"
      ]
    },
    {
      "cell_type": "markdown",
      "source": [
        "MLflow is an open-source platform for managing the machine learning lifecycle. It can be used to monitor and log training metrics, parameters, and artifacts. To add MLflow to the training part of our Iris classification app, follow these steps:\n",
        "\n"
      ],
      "metadata": {
        "id": "ZCe1qWzBjCPU"
      }
    },
    {
      "cell_type": "markdown",
      "source": [
        "![](https://raw.githubusercontent.com/aaubs/ds-master/main/data/Images/mlflow.jpg)"
      ],
      "metadata": {
        "id": "FrU-B7qEjNEG"
      }
    },
    {
      "cell_type": "markdown",
      "source": [
        "####Modify the **ml_model.py** file to incorporate MLflow:\n"
      ],
      "metadata": {
        "id": "JRkumLe8jTRL"
      }
    },
    {
      "cell_type": "markdown",
      "source": [
        "This code sets up an experiment named \"Iris_Classification\" and logs the model's parameters, performance metrics, and the trained model itself as an artifact."
      ],
      "metadata": {
        "id": "fQUZubYejdbY"
      }
    },
    {
      "cell_type": "code",
      "execution_count": null,
      "metadata": {
        "id": "sxex65uli6eD"
      },
      "outputs": [],
      "source": [
        "import mlflow\n",
        "import mlflow.sklearn\n",
        "from sklearn import datasets\n",
        "from sklearn.model_selection import train_test_split\n",
        "from sklearn.ensemble import RandomForestClassifier\n",
        "\n",
        "def train_model():\n",
        "    mlflow.set_experiment(\"Iris_Classification\")\n",
        "\n",
        "    iris = datasets.load_iris()\n",
        "    X = iris.data\n",
        "    y = iris.target\n",
        "\n",
        "    X_train, X_test, y_train, y_test = train_test_split(X, y, test_size=0.3, random_state=42)\n",
        "\n",
        "    clf = RandomForestClassifier()\n",
        "\n",
        "    with mlflow.start_run():\n",
        "        clf.fit(X_train, y_train)\n",
        "\n",
        "        # Log model parameters\n",
        "        mlflow.log_param(\"n_estimators\", clf.n_estimators)\n",
        "        mlflow.log_param(\"criterion\", clf.criterion)\n",
        "\n",
        "        # Log model performance metrics\n",
        "        train_score = clf.score(X_train, y_train)\n",
        "        test_score = clf.score(X_test, y_test)\n",
        "        mlflow.log_metric(\"train_score\", train_score)\n",
        "        mlflow.log_metric(\"test_score\", test_score)\n",
        "\n",
        "        # Save the model as an artifact\n",
        "        mlflow.sklearn.log_model(clf, \"model\")\n",
        "\n",
        "    return test_score\n",
        "\n",
        "if __name__ == '__main__':\n",
        "    accuracy = train_model()\n",
        "    print(f\"Model trained with accuracy: {accuracy}\")\n"
      ]
    },
    {
      "cell_type": "markdown",
      "source": [
        "1. To view the MLflow UI, run the following command in your terminal:\n",
        "> mlflow ui\n",
        "\n",
        "\n",
        "\n",
        "2. Open your browser and navigate to http://127.0.0.1:5000. You will see the MLflow dashboard displaying the experiment and its runs.\n"
      ],
      "metadata": {
        "id": "8EdFlRiIjltd"
      }
    },
    {
      "cell_type": "markdown",
      "source": [
        "####To load the trained model from MLflow instead of using the **model.pkl** file, modify the app.py file as follows:"
      ],
      "metadata": {
        "id": "QEi5IhUWkCeE"
      }
    },
    {
      "cell_type": "code",
      "source": [
        "import mlflow.sklearn\n",
        "# ...\n",
        "@app.before_first_request\n",
        "def load_model():\n",
        "    global model\n",
        "    model_uri = \"runs:/<RUN_ID>/model\"  # Replace <RUN_ID> with the run ID from the MLflow UI\n",
        "    model = mlflow.sklearn.load_model(model_uri)\n",
        "# ...\n"
      ],
      "metadata": {
        "id": "JFoxeZkqjnhp"
      },
      "execution_count": null,
      "outputs": []
    },
    {
      "cell_type": "markdown",
      "source": [
        "Replace **RUN_ID** with the run ID of the model you want to load. You can find this ID in the MLflow UI.\n",
        "\n",
        "Now, the Iris classification app will use the model trained and logged with MLflow. You can monitor the training process and access all logged information through the MLflow UI."
      ],
      "metadata": {
        "id": "kJm5MuAkkN1H"
      }
    },
    {
      "cell_type": "code",
      "source": [],
      "metadata": {
        "id": "2Tj-hC1-kOif"
      },
      "execution_count": null,
      "outputs": []
    }
  ]
}