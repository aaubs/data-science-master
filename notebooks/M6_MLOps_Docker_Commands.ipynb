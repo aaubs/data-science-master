{
  "nbformat": 4,
  "nbformat_minor": 0,
  "metadata": {
    "colab": {
      "provenance": [],
      "authorship_tag": "ABX9TyNjR5l1Wrfrou0HqTiGDyND",
      "include_colab_link": true
    },
    "kernelspec": {
      "name": "python3",
      "display_name": "Python 3"
    },
    "language_info": {
      "name": "python"
    }
  },
  "cells": [
    {
      "cell_type": "markdown",
      "metadata": {
        "id": "view-in-github",
        "colab_type": "text"
      },
      "source": [
        "<a href=\"https://colab.research.google.com/github/aaubs/ds-master/blob/main/notebooks/M6_MLOps_Docker_Commands.ipynb\" target=\"_parent\"><img src=\"https://colab.research.google.com/assets/colab-badge.svg\" alt=\"Open In Colab\"/></a>"
      ]
    },
    {
      "cell_type": "markdown",
      "source": [
        "Docker is a popular platform that simplifies the process of building, shipping, and running applications inside containers. Here's a tutorial covering some of the most common Docker commands along with examples for each."
      ],
      "metadata": {
        "id": "EsBAbkR55lKr"
      }
    },
    {
      "cell_type": "markdown",
      "source": [
        "![](https://thesolving.com/wp-content/uploads/2021/05/How-docker-works-structure-and-functioning-in-detail.png)"
      ],
      "metadata": {
        "id": "8pCIpsSp5hLr"
      }
    },
    {
      "cell_type": "markdown",
      "source": [
        "\n",
        "```\n",
        "$ docker version\n",
        "```\n",
        "\n",
        "\n",
        "Displays the Docker version installed on your system.\n"
      ],
      "metadata": {
        "id": "W3QNDp_651ov"
      }
    },
    {
      "cell_type": "markdown",
      "source": [
        "\n",
        "```\n",
        "$ docker info\n",
        "```\n",
        "Provides more detailed information about the Docker installation, such as the number of containers and images on your system."
      ],
      "metadata": {
        "id": "JYmh3xVZ6KvG"
      }
    },
    {
      "cell_type": "markdown",
      "source": [
        "\n",
        "```\n",
        "$ docker pull docker_image_name\n",
        "```\n",
        "\n",
        "Downloads a Docker image from the Docker Hub registry.\n",
        "Example:"
      ],
      "metadata": {
        "id": "L_HZICGS6PCZ"
      }
    },
    {
      "cell_type": "markdown",
      "source": [
        "\n",
        "```\n",
        "$ docker images\n",
        "```\n",
        "Lists all the Docker images available on your local system.\n",
        "Example:"
      ],
      "metadata": {
        "id": "KJwv2To06PuR"
      }
    },
    {
      "cell_type": "markdown",
      "source": [
        "\n",
        "```\n",
        "$ docker run -it --name my_container_local docker_image_name /bin/bash\n",
        "```\n",
        "\n",
        "\n",
        "Creates and starts a new Docker container from an image.\n",
        "Example:"
      ],
      "metadata": {
        "id": "kRMxQSAo6Qbj"
      }
    },
    {
      "cell_type": "markdown",
      "source": [
        "\n",
        "```\n",
        "$ docker ps\n",
        "```\n",
        "Lists all running containers."
      ],
      "metadata": {
        "id": "UMtfNNbB6Q6v"
      }
    },
    {
      "cell_type": "markdown",
      "source": [
        "\n",
        "```\n",
        "$ docker ps -a\n",
        "```\n",
        "\n",
        "Lists all containers, including stopped ones.\n"
      ],
      "metadata": {
        "id": "y090k1YA6Rah"
      }
    },
    {
      "cell_type": "markdown",
      "source": [
        "\n",
        "```\n",
        "$ docker start my_container_loacl\n",
        "```\n",
        "\n",
        "Starts an existing container."
      ],
      "metadata": {
        "id": "fQPaOVla6R8I"
      }
    },
    {
      "cell_type": "markdown",
      "source": [
        "\n",
        "```\n",
        "$ docker stop my_container_local\n",
        "```\n",
        "\n",
        "Stops a running container."
      ],
      "metadata": {
        "id": "Z7uFXbA56SY3"
      }
    },
    {
      "cell_type": "markdown",
      "source": [
        "\n",
        "```\n",
        "$ docker rm my _container_local\n",
        "```\n",
        "\n",
        "Removes a container."
      ],
      "metadata": {
        "id": "QyJgp3dG6S5Z"
      }
    },
    {
      "cell_type": "markdown",
      "source": [
        "\n",
        "```\n",
        "$ docker rmi docker_image_name\n",
        "```\n",
        "\n",
        "Removes an image."
      ],
      "metadata": {
        "id": "Z1XOxg9c6TZs"
      }
    },
    {
      "cell_type": "markdown",
      "source": [
        "\n",
        "```\n",
        "$ docker exec -it my_container_local /bin/bash\n",
        "```\n",
        "\n",
        "Executes a command inside a running container."
      ],
      "metadata": {
        "id": "Oz-qj8sOFIIo"
      }
    },
    {
      "cell_type": "markdown",
      "source": [
        "\n",
        "```\n",
        "$ docker logs my_container_local\n",
        "```\n",
        "\n",
        "Shows the logs of a container."
      ],
      "metadata": {
        "id": "lPagOyqIFJO9"
      }
    },
    {
      "cell_type": "markdown",
      "source": [
        "\n",
        "```\n",
        "$ docker cp my_container_local:/path/to/file/on/container /path/to/file/on/host\n",
        "```\n",
        "\n",
        "docker cp: Copies files or directories between a container and the local filesystem.\n"
      ],
      "metadata": {
        "id": "k3x7Nr48FJ-y"
      }
    },
    {
      "cell_type": "markdown",
      "source": [
        "\n",
        "```\n",
        "$ docker build -t my_image:latest .\n",
        "```\n",
        "\n",
        "docker build: Builds a Docker image from a Dockerfile. This command builds an image named my_image with the latest tag from the Dockerfile in the current directory.\n"
      ],
      "metadata": {
        "id": "TP26POntIT5G"
      }
    },
    {
      "cell_type": "code",
      "source": [],
      "metadata": {
        "id": "ILi8A3FdFIu0"
      },
      "execution_count": null,
      "outputs": []
    }
  ]
}