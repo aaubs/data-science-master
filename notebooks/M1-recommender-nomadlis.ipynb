{
  "nbformat": 4,
  "nbformat_minor": 0,
  "metadata": {
    "colab": {
      "provenance": [],
      "authorship_tag": "ABX9TyMVCx+J9AIlcgoFUztv11Mf",
      "include_colab_link": true
    },
    "kernelspec": {
      "name": "python3",
      "display_name": "Python 3"
    },
    "language_info": {
      "name": "python"
    }
  },
  "cells": [
    {
      "cell_type": "markdown",
      "metadata": {
        "id": "view-in-github",
        "colab_type": "text"
      },
      "source": [
        "<a href=\"https://colab.research.google.com/github/aaubs/ds-master/blob/main/notebooks/M1-recommender-nomadlis.ipynb\" target=\"_parent\"><img src=\"https://colab.research.google.com/assets/colab-badge.svg\" alt=\"Open In Colab\"/></a>"
      ]
    },
    {
      "cell_type": "code",
      "execution_count": 306,
      "metadata": {
        "id": "8F2wx9lTm_hY"
      },
      "outputs": [],
      "source": [
        "import pandas as pd"
      ]
    },
    {
      "cell_type": "code",
      "source": [
        "trips = pd.read_csv('https://sds-aau.github.io/SDS-master/M1/data/trips.csv')"
      ],
      "metadata": {
        "id": "rLMzRMnrnK1c"
      },
      "execution_count": 307,
      "outputs": []
    },
    {
      "cell_type": "code",
      "source": [
        "trips['date_end'] = pd.to_datetime(trips.date_end, errors='coerce')\n",
        "trips['date_start'] = pd.to_datetime(trips.date_start, errors='coerce')"
      ],
      "metadata": {
        "id": "icdrjTy3nNeM"
      },
      "execution_count": 308,
      "outputs": []
    },
    {
      "cell_type": "code",
      "source": [
        "trips['date_start'].describe()"
      ],
      "metadata": {
        "colab": {
          "base_uri": "https://localhost:8080/"
        },
        "id": "X54P5Um3nPWz",
        "outputId": "d450156d-057d-437d-a02d-c9a76f349b14"
      },
      "execution_count": 309,
      "outputs": [
        {
          "output_type": "stream",
          "name": "stderr",
          "text": [
            "/usr/local/lib/python3.7/dist-packages/ipykernel_launcher.py:1: FutureWarning: Treating datetime data as categorical rather than numeric in `.describe` is deprecated and will be removed in a future version of pandas. Specify `datetime_is_numeric=True` to silence this warning and adopt the future behavior now.\n",
            "  \"\"\"Entry point for launching an IPython kernel.\n"
          ]
        },
        {
          "output_type": "execute_result",
          "data": {
            "text/plain": [
              "count                   46499\n",
              "unique                   4497\n",
              "top       2017-05-01 00:00:00\n",
              "freq                       90\n",
              "first     1970-01-01 00:00:00\n",
              "last      2106-06-19 00:00:00\n",
              "Name: date_start, dtype: object"
            ]
          },
          "metadata": {},
          "execution_count": 309
        }
      ]
    },
    {
      "cell_type": "code",
      "source": [
        "trips['date_end'].describe()"
      ],
      "metadata": {
        "colab": {
          "base_uri": "https://localhost:8080/"
        },
        "id": "R9UwpqTknkFr",
        "outputId": "18d7963b-3b34-4fa3-bb2e-5277c3b0b732"
      },
      "execution_count": 310,
      "outputs": [
        {
          "output_type": "stream",
          "name": "stderr",
          "text": [
            "/usr/local/lib/python3.7/dist-packages/ipykernel_launcher.py:1: FutureWarning: Treating datetime data as categorical rather than numeric in `.describe` is deprecated and will be removed in a future version of pandas. Specify `datetime_is_numeric=True` to silence this warning and adopt the future behavior now.\n",
            "  \"\"\"Entry point for launching an IPython kernel.\n"
          ]
        },
        {
          "output_type": "execute_result",
          "data": {
            "text/plain": [
              "count                   46292\n",
              "unique                   4478\n",
              "top       2016-06-30 00:00:00\n",
              "freq                       74\n",
              "first     1970-01-01 00:00:00\n",
              "last      2222-01-01 00:00:00\n",
              "Name: date_end, dtype: object"
            ]
          },
          "metadata": {},
          "execution_count": 310
        }
      ]
    },
    {
      "cell_type": "code",
      "source": [
        "first = trips['date_start'].quantile(0.05)"
      ],
      "metadata": {
        "id": "Xh1_TQjNnoP5"
      },
      "execution_count": 311,
      "outputs": []
    },
    {
      "cell_type": "code",
      "source": [
        "last = trips['date_end'].quantile(0.95)"
      ],
      "metadata": {
        "id": "DKzY7p5InuZA"
      },
      "execution_count": 312,
      "outputs": []
    },
    {
      "cell_type": "code",
      "source": [
        "trips = trips[(trips.date_start >= first) & (trips.date_end <= last)]"
      ],
      "metadata": {
        "id": "A2pq9oEDowIO"
      },
      "execution_count": 313,
      "outputs": []
    },
    {
      "cell_type": "code",
      "source": [
        "import scipy.sparse as ss\n",
        "import numpy as np\n",
        "from sklearn.preprocessing import LabelEncoder"
      ],
      "metadata": {
        "id": "6DsUmfITpfPj"
      },
      "execution_count": 314,
      "outputs": []
    },
    {
      "cell_type": "code",
      "source": [
        "le_user = LabelEncoder()\n",
        "le_place = LabelEncoder()"
      ],
      "metadata": {
        "id": "sEfS5s3VrwgB"
      },
      "execution_count": 315,
      "outputs": []
    },
    {
      "cell_type": "code",
      "source": [
        "trips['username_id'] = le_user.fit_transform(trips['username'])"
      ],
      "metadata": {
        "id": "8R4ZiY5ArTbi"
      },
      "execution_count": 316,
      "outputs": []
    },
    {
      "cell_type": "code",
      "source": [
        "trips['place_slug_id'] = le_place.fit_transform(trips['place_slug'])"
      ],
      "metadata": {
        "id": "z7j8CkQjr2-5"
      },
      "execution_count": 317,
      "outputs": []
    },
    {
      "cell_type": "code",
      "source": [
        "ones = np.ones(len(trips), np.uint32)"
      ],
      "metadata": {
        "id": "NqTabteIsBGA"
      },
      "execution_count": 318,
      "outputs": []
    },
    {
      "cell_type": "code",
      "source": [
        "matrix = ss.coo_matrix((ones, (trips['username_id'], trips['place_slug_id'])))"
      ],
      "metadata": {
        "id": "zj_9NsIVqUJ9"
      },
      "execution_count": 319,
      "outputs": []
    },
    {
      "cell_type": "code",
      "source": [
        "matrix.todense()"
      ],
      "metadata": {
        "colab": {
          "base_uri": "https://localhost:8080/"
        },
        "id": "uTLPfOavqcQv",
        "outputId": "f2ad261a-2482-4df8-b787-ffd07145d162"
      },
      "execution_count": 59,
      "outputs": [
        {
          "output_type": "execute_result",
          "data": {
            "text/plain": [
              "matrix([[0, 0, 0, ..., 0, 0, 0],\n",
              "        [0, 0, 0, ..., 0, 0, 0],\n",
              "        [0, 0, 0, ..., 0, 0, 0],\n",
              "        ...,\n",
              "        [0, 0, 0, ..., 0, 0, 0],\n",
              "        [0, 0, 0, ..., 0, 0, 0],\n",
              "        [0, 0, 0, ..., 0, 0, 0]], dtype=uint32)"
            ]
          },
          "metadata": {},
          "execution_count": 59
        }
      ]
    },
    {
      "cell_type": "code",
      "source": [
        "np.where(matrix.todense()[1] == 1)"
      ],
      "metadata": {
        "colab": {
          "base_uri": "https://localhost:8080/"
        },
        "id": "PwcsTNvcsJO_",
        "outputId": "ba30206c-20e3-441e-fe12-063ae8f2eab8"
      },
      "execution_count": 320,
      "outputs": [
        {
          "output_type": "execute_result",
          "data": {
            "text/plain": [
              "(array([0, 0]), array([433, 792]))"
            ]
          },
          "metadata": {},
          "execution_count": 320
        }
      ]
    },
    {
      "cell_type": "code",
      "source": [
        "trips[trips['username_id'] == 1]"
      ],
      "metadata": {
        "colab": {
          "base_uri": "https://localhost:8080/",
          "height": 112
        },
        "id": "utj6DzcSswRN",
        "outputId": "409533ee-1d5c-45ab-a350-aeeb8d849977"
      },
      "execution_count": 58,
      "outputs": [
        {
          "output_type": "execute_result",
          "data": {
            "text/plain": [
              "     Unnamed: 0   username    country country_code country_slug   date_end  \\\n",
              "699         699  @0chucha0  Sri Lanka           LK    sri-lanka 2018-03-18   \n",
              "700         700  @0chucha0   Thailand           TH     thailand 2018-02-20   \n",
              "\n",
              "    date_start  latitude  longitude      place         place_slug  \\\n",
              "699 2018-02-18         7         80  Sri Lanka          sri-lanka   \n",
              "700 2017-11-21         9        100   Ko Samui  ko-samui-thailand   \n",
              "\n",
              "     username_id  place_slug_id  \n",
              "699            1            792  \n",
              "700            1            433  "
            ],
            "text/html": [
              "\n",
              "  <div id=\"df-2cbe84f7-8258-4829-8d12-901c22035794\">\n",
              "    <div class=\"colab-df-container\">\n",
              "      <div>\n",
              "<style scoped>\n",
              "    .dataframe tbody tr th:only-of-type {\n",
              "        vertical-align: middle;\n",
              "    }\n",
              "\n",
              "    .dataframe tbody tr th {\n",
              "        vertical-align: top;\n",
              "    }\n",
              "\n",
              "    .dataframe thead th {\n",
              "        text-align: right;\n",
              "    }\n",
              "</style>\n",
              "<table border=\"1\" class=\"dataframe\">\n",
              "  <thead>\n",
              "    <tr style=\"text-align: right;\">\n",
              "      <th></th>\n",
              "      <th>Unnamed: 0</th>\n",
              "      <th>username</th>\n",
              "      <th>country</th>\n",
              "      <th>country_code</th>\n",
              "      <th>country_slug</th>\n",
              "      <th>date_end</th>\n",
              "      <th>date_start</th>\n",
              "      <th>latitude</th>\n",
              "      <th>longitude</th>\n",
              "      <th>place</th>\n",
              "      <th>place_slug</th>\n",
              "      <th>username_id</th>\n",
              "      <th>place_slug_id</th>\n",
              "    </tr>\n",
              "  </thead>\n",
              "  <tbody>\n",
              "    <tr>\n",
              "      <th>699</th>\n",
              "      <td>699</td>\n",
              "      <td>@0chucha0</td>\n",
              "      <td>Sri Lanka</td>\n",
              "      <td>LK</td>\n",
              "      <td>sri-lanka</td>\n",
              "      <td>2018-03-18</td>\n",
              "      <td>2018-02-18</td>\n",
              "      <td>7</td>\n",
              "      <td>80</td>\n",
              "      <td>Sri Lanka</td>\n",
              "      <td>sri-lanka</td>\n",
              "      <td>1</td>\n",
              "      <td>792</td>\n",
              "    </tr>\n",
              "    <tr>\n",
              "      <th>700</th>\n",
              "      <td>700</td>\n",
              "      <td>@0chucha0</td>\n",
              "      <td>Thailand</td>\n",
              "      <td>TH</td>\n",
              "      <td>thailand</td>\n",
              "      <td>2018-02-20</td>\n",
              "      <td>2017-11-21</td>\n",
              "      <td>9</td>\n",
              "      <td>100</td>\n",
              "      <td>Ko Samui</td>\n",
              "      <td>ko-samui-thailand</td>\n",
              "      <td>1</td>\n",
              "      <td>433</td>\n",
              "    </tr>\n",
              "  </tbody>\n",
              "</table>\n",
              "</div>\n",
              "      <button class=\"colab-df-convert\" onclick=\"convertToInteractive('df-2cbe84f7-8258-4829-8d12-901c22035794')\"\n",
              "              title=\"Convert this dataframe to an interactive table.\"\n",
              "              style=\"display:none;\">\n",
              "        \n",
              "  <svg xmlns=\"http://www.w3.org/2000/svg\" height=\"24px\"viewBox=\"0 0 24 24\"\n",
              "       width=\"24px\">\n",
              "    <path d=\"M0 0h24v24H0V0z\" fill=\"none\"/>\n",
              "    <path d=\"M18.56 5.44l.94 2.06.94-2.06 2.06-.94-2.06-.94-.94-2.06-.94 2.06-2.06.94zm-11 1L8.5 8.5l.94-2.06 2.06-.94-2.06-.94L8.5 2.5l-.94 2.06-2.06.94zm10 10l.94 2.06.94-2.06 2.06-.94-2.06-.94-.94-2.06-.94 2.06-2.06.94z\"/><path d=\"M17.41 7.96l-1.37-1.37c-.4-.4-.92-.59-1.43-.59-.52 0-1.04.2-1.43.59L10.3 9.45l-7.72 7.72c-.78.78-.78 2.05 0 2.83L4 21.41c.39.39.9.59 1.41.59.51 0 1.02-.2 1.41-.59l7.78-7.78 2.81-2.81c.8-.78.8-2.07 0-2.86zM5.41 20L4 18.59l7.72-7.72 1.47 1.35L5.41 20z\"/>\n",
              "  </svg>\n",
              "      </button>\n",
              "      \n",
              "  <style>\n",
              "    .colab-df-container {\n",
              "      display:flex;\n",
              "      flex-wrap:wrap;\n",
              "      gap: 12px;\n",
              "    }\n",
              "\n",
              "    .colab-df-convert {\n",
              "      background-color: #E8F0FE;\n",
              "      border: none;\n",
              "      border-radius: 50%;\n",
              "      cursor: pointer;\n",
              "      display: none;\n",
              "      fill: #1967D2;\n",
              "      height: 32px;\n",
              "      padding: 0 0 0 0;\n",
              "      width: 32px;\n",
              "    }\n",
              "\n",
              "    .colab-df-convert:hover {\n",
              "      background-color: #E2EBFA;\n",
              "      box-shadow: 0px 1px 2px rgba(60, 64, 67, 0.3), 0px 1px 3px 1px rgba(60, 64, 67, 0.15);\n",
              "      fill: #174EA6;\n",
              "    }\n",
              "\n",
              "    [theme=dark] .colab-df-convert {\n",
              "      background-color: #3B4455;\n",
              "      fill: #D2E3FC;\n",
              "    }\n",
              "\n",
              "    [theme=dark] .colab-df-convert:hover {\n",
              "      background-color: #434B5C;\n",
              "      box-shadow: 0px 1px 3px 1px rgba(0, 0, 0, 0.15);\n",
              "      filter: drop-shadow(0px 1px 2px rgba(0, 0, 0, 0.3));\n",
              "      fill: #FFFFFF;\n",
              "    }\n",
              "  </style>\n",
              "\n",
              "      <script>\n",
              "        const buttonEl =\n",
              "          document.querySelector('#df-2cbe84f7-8258-4829-8d12-901c22035794 button.colab-df-convert');\n",
              "        buttonEl.style.display =\n",
              "          google.colab.kernel.accessAllowed ? 'block' : 'none';\n",
              "\n",
              "        async function convertToInteractive(key) {\n",
              "          const element = document.querySelector('#df-2cbe84f7-8258-4829-8d12-901c22035794');\n",
              "          const dataTable =\n",
              "            await google.colab.kernel.invokeFunction('convertToInteractive',\n",
              "                                                     [key], {});\n",
              "          if (!dataTable) return;\n",
              "\n",
              "          const docLinkHtml = 'Like what you see? Visit the ' +\n",
              "            '<a target=\"_blank\" href=https://colab.research.google.com/notebooks/data_table.ipynb>data table notebook</a>'\n",
              "            + ' to learn more about interactive tables.';\n",
              "          element.innerHTML = '';\n",
              "          dataTable['output_type'] = 'display_data';\n",
              "          await google.colab.output.renderOutput(dataTable, element);\n",
              "          const docLink = document.createElement('div');\n",
              "          docLink.innerHTML = docLinkHtml;\n",
              "          element.appendChild(docLink);\n",
              "        }\n",
              "      </script>\n",
              "    </div>\n",
              "  </div>\n",
              "  "
            ]
          },
          "metadata": {},
          "execution_count": 58
        }
      ]
    },
    {
      "cell_type": "code",
      "source": [
        "from sklearn.decomposition import TruncatedSVD"
      ],
      "metadata": {
        "id": "upqIoxHXxNoa"
      },
      "execution_count": 321,
      "outputs": []
    },
    {
      "cell_type": "code",
      "source": [
        "svd = TruncatedSVD(n_components=5, n_iter=7, random_state=42)"
      ],
      "metadata": {
        "id": "xbTti3eCxj1x"
      },
      "execution_count": 322,
      "outputs": []
    },
    {
      "cell_type": "code",
      "source": [
        "matrix_users = svd.fit_transform(matrix)"
      ],
      "metadata": {
        "id": "4nTu5i4PxmfM"
      },
      "execution_count": 323,
      "outputs": []
    },
    {
      "cell_type": "code",
      "source": [
        "matrix_places = svd.fit_transform(matrix.T)"
      ],
      "metadata": {
        "id": "h24Q1_5RxtLQ"
      },
      "execution_count": 324,
      "outputs": []
    },
    {
      "cell_type": "code",
      "source": [
        "matrix_places"
      ],
      "metadata": {
        "colab": {
          "base_uri": "https://localhost:8080/"
        },
        "id": "5CbvgwRExxh-",
        "outputId": "ace95aec-2350-404a-94f6-2d32ac347cd7"
      },
      "execution_count": 325,
      "outputs": [
        {
          "output_type": "execute_result",
          "data": {
            "text/plain": [
              "array([[ 1.81576739e-02, -2.55111605e-03,  6.15248871e-02,\n",
              "        -1.82531859e-02, -1.30631662e-02],\n",
              "       [ 6.43184382e-02, -2.56848567e-03,  7.82669077e-02,\n",
              "         4.33770282e-01, -3.43629704e-01],\n",
              "       [ 2.22883998e-02,  6.08413036e-04,  9.33975454e-03,\n",
              "         4.74407091e-02,  2.20192149e-02],\n",
              "       ...,\n",
              "       [ 3.80432584e+00, -5.29492371e-02,  1.71337042e+00,\n",
              "         1.25019246e+00, -4.49876564e-01],\n",
              "       [ 3.92807938e-01,  8.41059925e-01, -1.38472884e-01,\n",
              "        -2.99649996e-02, -3.31083026e-02],\n",
              "       [ 4.98476098e-01,  4.06888171e-03,  2.86557464e-01,\n",
              "         3.71966324e-01,  4.92203378e-01]])"
            ]
          },
          "metadata": {},
          "execution_count": 325
        }
      ]
    },
    {
      "cell_type": "code",
      "source": [
        "# or easier\n",
        "from sklearn.metrics.pairwise import cosine_distances"
      ],
      "metadata": {
        "id": "83vemjc5xy_Q"
      },
      "execution_count": 326,
      "outputs": []
    },
    {
      "cell_type": "code",
      "source": [
        "cosine_distance_matrix_places = cosine_distances(matrix_places)"
      ],
      "metadata": {
        "id": "J9kQUXGqyNiP"
      },
      "execution_count": 327,
      "outputs": []
    },
    {
      "cell_type": "code",
      "source": [
        "cosine_distance_matrix_places.shape"
      ],
      "metadata": {
        "colab": {
          "base_uri": "https://localhost:8080/"
        },
        "id": "lOSIA7cpyUKV",
        "outputId": "68b1986e-402d-404b-aa38-a7c843a2977a"
      },
      "execution_count": 328,
      "outputs": [
        {
          "output_type": "execute_result",
          "data": {
            "text/plain": [
              "(927, 927)"
            ]
          },
          "metadata": {},
          "execution_count": 328
        }
      ]
    },
    {
      "cell_type": "code",
      "source": [
        "le_place.transform(['ubud-bali-indonesia'])"
      ],
      "metadata": {
        "colab": {
          "base_uri": "https://localhost:8080/"
        },
        "id": "sKvRt5lJyU3w",
        "outputId": "3dc2a997-a93b-4779-f07d-879d93fa1b88"
      },
      "execution_count": 330,
      "outputs": [
        {
          "output_type": "execute_result",
          "data": {
            "text/plain": [
              "array([858])"
            ]
          },
          "metadata": {},
          "execution_count": 330
        }
      ]
    },
    {
      "cell_type": "code",
      "source": [
        "def similar_place(place, n):\n",
        "  ix = le_place.transform([place])[0]\n",
        "  sim_places = le_place.inverse_transform(np.argsort(cosine_distance_matrix_places[ix,:])[:n])\n",
        "  return sim_places"
      ],
      "metadata": {
        "id": "uVTqJJOjERVL"
      },
      "execution_count": 360,
      "outputs": []
    },
    {
      "cell_type": "code",
      "source": [
        "similar_place('ko-pha-ngan-thailand', 10)"
      ],
      "metadata": {
        "colab": {
          "base_uri": "https://localhost:8080/"
        },
        "id": "eJfaQh3nFDHQ",
        "outputId": "5f40ec12-c1aa-42a0-83bc-d882b47ce683"
      },
      "execution_count": 359,
      "outputs": [
        {
          "output_type": "execute_result",
          "data": {
            "text/plain": [
              "array(['ko-pha-ngan-thailand', 'ubud-bali-indonesia', 'pai-thailand',\n",
              "       'hoi-an-vietnam', 'yogyakarta-indonesia', 'laos',\n",
              "       'ho-chi-minh-city-vietnam', 'malaysia', 'vietnam',\n",
              "       'canberra-australia'], dtype=object)"
            ]
          },
          "metadata": {},
          "execution_count": 359
        }
      ]
    },
    {
      "cell_type": "code",
      "source": [
        "np.argsort(cosine_distance_matrix_places[858,:])[:5]"
      ],
      "metadata": {
        "colab": {
          "base_uri": "https://localhost:8080/"
        },
        "id": "5Sd-jIFUyrwa",
        "outputId": "003069c3-06ad-4f6f-e83e-a5b7ccf915b3"
      },
      "execution_count": 331,
      "outputs": [
        {
          "output_type": "execute_result",
          "data": {
            "text/plain": [
              "array([858, 431, 914, 347, 513])"
            ]
          },
          "metadata": {},
          "execution_count": 331
        }
      ]
    },
    {
      "cell_type": "code",
      "source": [
        "le_place.inverse_transform(np.argsort(cosine_distance_matrix_places[858,:])[:10])"
      ],
      "metadata": {
        "colab": {
          "base_uri": "https://localhost:8080/"
        },
        "id": "11wCxVIvy1MA",
        "outputId": "bc06bece-6aef-4a13-c3b4-d7d41a0d7128"
      },
      "execution_count": 332,
      "outputs": [
        {
          "output_type": "execute_result",
          "data": {
            "text/plain": [
              "array(['ubud-bali-indonesia', 'ko-pha-ngan-thailand',\n",
              "       'yogyakarta-indonesia', 'ho-chi-minh-city-vietnam', 'malaysia',\n",
              "       'gurgaon-india', 'laos', 'siem-reap-cambodia', 'lviv-ukraine',\n",
              "       'kathmandu-nepal'], dtype=object)"
            ]
          },
          "metadata": {},
          "execution_count": 332
        }
      ]
    },
    {
      "cell_type": "code",
      "source": [
        "trips[trips.username_id == 7]"
      ],
      "metadata": {
        "colab": {
          "base_uri": "https://localhost:8080/",
          "height": 143
        },
        "id": "TE1o7iWizvNS",
        "outputId": "e2f101fd-0d40-4e73-f43c-99dfa69ed7e3"
      },
      "execution_count": 336,
      "outputs": [
        {
          "output_type": "execute_result",
          "data": {
            "text/plain": [
              "       Unnamed: 0  username    country country_code country_slug   date_end  \\\n",
              "44611       44611  @9102180  Indonesia           ID    indonesia 2018-01-31   \n",
              "44612       44612  @9102180   Thailand           TH     thailand 2018-01-13   \n",
              "44613       44613  @9102180   Thailand           TH     thailand 2017-09-30   \n",
              "\n",
              "      date_start  latitude  longitude       place             place_slug  \\\n",
              "44611 2018-01-14        -8        115      Canggu  canggu-bali-indonesia   \n",
              "44612 2017-12-01        13        100     Bangkok       bangkok-thailand   \n",
              "44613 2017-08-14        18         98  Chiang Mai    chiang-mai-thailand   \n",
              "\n",
              "       username_id  place_slug_id  \n",
              "44611            7            159  \n",
              "44612            7             75  \n",
              "44613            7            180  "
            ],
            "text/html": [
              "\n",
              "  <div id=\"df-36370d17-a44f-490d-90aa-587a7462f33f\">\n",
              "    <div class=\"colab-df-container\">\n",
              "      <div>\n",
              "<style scoped>\n",
              "    .dataframe tbody tr th:only-of-type {\n",
              "        vertical-align: middle;\n",
              "    }\n",
              "\n",
              "    .dataframe tbody tr th {\n",
              "        vertical-align: top;\n",
              "    }\n",
              "\n",
              "    .dataframe thead th {\n",
              "        text-align: right;\n",
              "    }\n",
              "</style>\n",
              "<table border=\"1\" class=\"dataframe\">\n",
              "  <thead>\n",
              "    <tr style=\"text-align: right;\">\n",
              "      <th></th>\n",
              "      <th>Unnamed: 0</th>\n",
              "      <th>username</th>\n",
              "      <th>country</th>\n",
              "      <th>country_code</th>\n",
              "      <th>country_slug</th>\n",
              "      <th>date_end</th>\n",
              "      <th>date_start</th>\n",
              "      <th>latitude</th>\n",
              "      <th>longitude</th>\n",
              "      <th>place</th>\n",
              "      <th>place_slug</th>\n",
              "      <th>username_id</th>\n",
              "      <th>place_slug_id</th>\n",
              "    </tr>\n",
              "  </thead>\n",
              "  <tbody>\n",
              "    <tr>\n",
              "      <th>44611</th>\n",
              "      <td>44611</td>\n",
              "      <td>@9102180</td>\n",
              "      <td>Indonesia</td>\n",
              "      <td>ID</td>\n",
              "      <td>indonesia</td>\n",
              "      <td>2018-01-31</td>\n",
              "      <td>2018-01-14</td>\n",
              "      <td>-8</td>\n",
              "      <td>115</td>\n",
              "      <td>Canggu</td>\n",
              "      <td>canggu-bali-indonesia</td>\n",
              "      <td>7</td>\n",
              "      <td>159</td>\n",
              "    </tr>\n",
              "    <tr>\n",
              "      <th>44612</th>\n",
              "      <td>44612</td>\n",
              "      <td>@9102180</td>\n",
              "      <td>Thailand</td>\n",
              "      <td>TH</td>\n",
              "      <td>thailand</td>\n",
              "      <td>2018-01-13</td>\n",
              "      <td>2017-12-01</td>\n",
              "      <td>13</td>\n",
              "      <td>100</td>\n",
              "      <td>Bangkok</td>\n",
              "      <td>bangkok-thailand</td>\n",
              "      <td>7</td>\n",
              "      <td>75</td>\n",
              "    </tr>\n",
              "    <tr>\n",
              "      <th>44613</th>\n",
              "      <td>44613</td>\n",
              "      <td>@9102180</td>\n",
              "      <td>Thailand</td>\n",
              "      <td>TH</td>\n",
              "      <td>thailand</td>\n",
              "      <td>2017-09-30</td>\n",
              "      <td>2017-08-14</td>\n",
              "      <td>18</td>\n",
              "      <td>98</td>\n",
              "      <td>Chiang Mai</td>\n",
              "      <td>chiang-mai-thailand</td>\n",
              "      <td>7</td>\n",
              "      <td>180</td>\n",
              "    </tr>\n",
              "  </tbody>\n",
              "</table>\n",
              "</div>\n",
              "      <button class=\"colab-df-convert\" onclick=\"convertToInteractive('df-36370d17-a44f-490d-90aa-587a7462f33f')\"\n",
              "              title=\"Convert this dataframe to an interactive table.\"\n",
              "              style=\"display:none;\">\n",
              "        \n",
              "  <svg xmlns=\"http://www.w3.org/2000/svg\" height=\"24px\"viewBox=\"0 0 24 24\"\n",
              "       width=\"24px\">\n",
              "    <path d=\"M0 0h24v24H0V0z\" fill=\"none\"/>\n",
              "    <path d=\"M18.56 5.44l.94 2.06.94-2.06 2.06-.94-2.06-.94-.94-2.06-.94 2.06-2.06.94zm-11 1L8.5 8.5l.94-2.06 2.06-.94-2.06-.94L8.5 2.5l-.94 2.06-2.06.94zm10 10l.94 2.06.94-2.06 2.06-.94-2.06-.94-.94-2.06-.94 2.06-2.06.94z\"/><path d=\"M17.41 7.96l-1.37-1.37c-.4-.4-.92-.59-1.43-.59-.52 0-1.04.2-1.43.59L10.3 9.45l-7.72 7.72c-.78.78-.78 2.05 0 2.83L4 21.41c.39.39.9.59 1.41.59.51 0 1.02-.2 1.41-.59l7.78-7.78 2.81-2.81c.8-.78.8-2.07 0-2.86zM5.41 20L4 18.59l7.72-7.72 1.47 1.35L5.41 20z\"/>\n",
              "  </svg>\n",
              "      </button>\n",
              "      \n",
              "  <style>\n",
              "    .colab-df-container {\n",
              "      display:flex;\n",
              "      flex-wrap:wrap;\n",
              "      gap: 12px;\n",
              "    }\n",
              "\n",
              "    .colab-df-convert {\n",
              "      background-color: #E8F0FE;\n",
              "      border: none;\n",
              "      border-radius: 50%;\n",
              "      cursor: pointer;\n",
              "      display: none;\n",
              "      fill: #1967D2;\n",
              "      height: 32px;\n",
              "      padding: 0 0 0 0;\n",
              "      width: 32px;\n",
              "    }\n",
              "\n",
              "    .colab-df-convert:hover {\n",
              "      background-color: #E2EBFA;\n",
              "      box-shadow: 0px 1px 2px rgba(60, 64, 67, 0.3), 0px 1px 3px 1px rgba(60, 64, 67, 0.15);\n",
              "      fill: #174EA6;\n",
              "    }\n",
              "\n",
              "    [theme=dark] .colab-df-convert {\n",
              "      background-color: #3B4455;\n",
              "      fill: #D2E3FC;\n",
              "    }\n",
              "\n",
              "    [theme=dark] .colab-df-convert:hover {\n",
              "      background-color: #434B5C;\n",
              "      box-shadow: 0px 1px 3px 1px rgba(0, 0, 0, 0.15);\n",
              "      filter: drop-shadow(0px 1px 2px rgba(0, 0, 0, 0.3));\n",
              "      fill: #FFFFFF;\n",
              "    }\n",
              "  </style>\n",
              "\n",
              "      <script>\n",
              "        const buttonEl =\n",
              "          document.querySelector('#df-36370d17-a44f-490d-90aa-587a7462f33f button.colab-df-convert');\n",
              "        buttonEl.style.display =\n",
              "          google.colab.kernel.accessAllowed ? 'block' : 'none';\n",
              "\n",
              "        async function convertToInteractive(key) {\n",
              "          const element = document.querySelector('#df-36370d17-a44f-490d-90aa-587a7462f33f');\n",
              "          const dataTable =\n",
              "            await google.colab.kernel.invokeFunction('convertToInteractive',\n",
              "                                                     [key], {});\n",
              "          if (!dataTable) return;\n",
              "\n",
              "          const docLinkHtml = 'Like what you see? Visit the ' +\n",
              "            '<a target=\"_blank\" href=https://colab.research.google.com/notebooks/data_table.ipynb>data table notebook</a>'\n",
              "            + ' to learn more about interactive tables.';\n",
              "          element.innerHTML = '';\n",
              "          dataTable['output_type'] = 'display_data';\n",
              "          await google.colab.output.renderOutput(dataTable, element);\n",
              "          const docLink = document.createElement('div');\n",
              "          docLink.innerHTML = docLinkHtml;\n",
              "          element.appendChild(docLink);\n",
              "        }\n",
              "      </script>\n",
              "    </div>\n",
              "  </div>\n",
              "  "
            ]
          },
          "metadata": {},
          "execution_count": 336
        }
      ]
    },
    {
      "cell_type": "code",
      "source": [
        "user_places_ids = trips[trips.username_id == 7]['place_slug_id'].unique()\n",
        "user_vector_trips = np.mean(matrix_places[user_places_ids], axis=0)"
      ],
      "metadata": {
        "id": "cnmFNY9X0mNN"
      },
      "execution_count": 338,
      "outputs": []
    },
    {
      "cell_type": "code",
      "source": [
        "closest_for_user = cosine_distances(user_vector_trips.reshape(1,5), matrix_places)"
      ],
      "metadata": {
        "id": "VFxb4CZ80zeW"
      },
      "execution_count": 339,
      "outputs": []
    },
    {
      "cell_type": "code",
      "source": [
        "le_place.inverse_transform(np.argsort(closest_for_user[0])[:10])"
      ],
      "metadata": {
        "colab": {
          "base_uri": "https://localhost:8080/"
        },
        "id": "rCDV_OJz1ar2",
        "outputId": "49c3fdc7-65f8-4fb3-ef12-5ea1ce7128b5"
      },
      "execution_count": 340,
      "outputs": [
        {
          "output_type": "execute_result",
          "data": {
            "text/plain": [
              "array(['jakarta-indonesia', 'phnom-penh-cambodia', 'darwin-australia',\n",
              "       'shenyang-china', 'guiyang-china', 'north-korea',\n",
              "       'sinuiju-north-korea', 'chongqing-china', 'bangkok-thailand',\n",
              "       'siem-reap-cambodia'], dtype=object)"
            ]
          },
          "metadata": {},
          "execution_count": 340
        }
      ]
    },
    {
      "cell_type": "code",
      "source": [
        "def similar_user_place(u_id, n):\n",
        "  user_places_ids = trips[trips.username_id == u_id]['place_slug_id'].unique()\n",
        "  user_vector_trips = np.mean(matrix_places[user_places_ids], axis=0)\n",
        "  closest_for_user = cosine_distances(user_vector_trips.reshape(1,5), matrix_places)\n",
        "  sim_places = le_place.inverse_transform(np.argsort(closest_for_user[0])[:n])\n",
        "  return sim_places"
      ],
      "metadata": {
        "id": "Ns05_N9GFUbe"
      },
      "execution_count": 352,
      "outputs": []
    },
    {
      "cell_type": "code",
      "source": [
        "def similar_multiplaces(places, n):\n",
        "  ixs = le_place.transform(places)\n",
        "  places_vector = np.mean(matrix_places[ixs], axis=0)\n",
        "  closest_multiple = cosine_distances(places_vector.reshape(1,5), matrix_places)\n",
        "  sim_places = le_place.inverse_transform(np.argsort(closest_multiple[0])[:n])\n",
        "  return sim_places"
      ],
      "metadata": {
        "id": "vZkycxLcHIbG"
      },
      "execution_count": 374,
      "outputs": []
    },
    {
      "cell_type": "code",
      "source": [
        "similar_multiplaces(['lviv-ukraine','darwin-australia'], 20)"
      ],
      "metadata": {
        "colab": {
          "base_uri": "https://localhost:8080/"
        },
        "id": "RiNi3IMiHe75",
        "outputId": "661111a5-f15c-4745-ee87-d559f9223bc5"
      },
      "execution_count": 378,
      "outputs": [
        {
          "output_type": "execute_result",
          "data": {
            "text/plain": [
              "array(['lviv-ukraine', 'yogyakarta-indonesia', 'ho-chi-minh-city-vietnam',\n",
              "       'siem-reap-cambodia', 'jakarta-indonesia', 'malaysia',\n",
              "       'kuala-lumpur-malaysia', 'phnom-penh-cambodia', 'darwin-australia',\n",
              "       'shenyang-china', 'north-korea', 'sinuiju-north-korea',\n",
              "       'guiyang-china', 'laos', 'kunming-china', 'chongqing-china',\n",
              "       'chiang-mai-thailand', 'windsor-canada', 'yokohama-japan',\n",
              "       'canberra-australia'], dtype=object)"
            ]
          },
          "metadata": {},
          "execution_count": 378
        }
      ]
    }
  ]
}