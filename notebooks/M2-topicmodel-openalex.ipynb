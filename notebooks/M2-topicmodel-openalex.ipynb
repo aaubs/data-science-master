{
  "nbformat": 4,
  "nbformat_minor": 0,
  "metadata": {
    "colab": {
      "provenance": [],
      "include_colab_link": true
    },
    "kernelspec": {
      "name": "python3",
      "display_name": "Python 3"
    },
    "language_info": {
      "name": "python"
    }
  },
  "cells": [
    {
      "cell_type": "markdown",
      "metadata": {
        "id": "view-in-github",
        "colab_type": "text"
      },
      "source": [
        "<a href=\"https://colab.research.google.com/github/aaubs/ds-master/blob/main/notebooks/M2-topicmodel-openalex.ipynb\" target=\"_parent\"><img src=\"https://colab.research.google.com/assets/colab-badge.svg\" alt=\"Open In Colab\"/></a>"
      ]
    },
    {
      "cell_type": "code",
      "source": [
        "# Installing Gensim and PyLDAvis\n",
        "!pip install -qq -U gensim\n",
        "!pip install -qq pyLDAvis\n",
        "!pip install -qq --upgrade numpy"
      ],
      "metadata": {
        "id": "a7ClxNmEW8-L"
      },
      "execution_count": null,
      "outputs": []
    },
    {
      "cell_type": "code",
      "source": [
        "import pandas as pd\n",
        "import numpy as np\n",
        "import tqdm #progress bar\n",
        "\n",
        "import spacy #spacy for quick language prepro\n",
        "nlp = spacy.load('en_core_web_sm') #instantiating English module\n",
        "\n",
        "# sampling, splitting\n",
        "from imblearn.under_sampling import RandomUnderSampler\n",
        "from sklearn.model_selection import train_test_split\n",
        "\n",
        "\n",
        "# loading ML libraries\n",
        "from sklearn.pipeline import make_pipeline #pipeline creation\n",
        "from sklearn.feature_extraction.text import TfidfVectorizer #transforms text to sparse matrix\n",
        "from sklearn.linear_model import LogisticRegression #Logit model\n",
        "from sklearn.metrics import classification_report #that's self explanatory\n",
        "from sklearn.decomposition import TruncatedSVD #dimensionality reduction\n",
        "from xgboost import XGBClassifier\n",
        "\n",
        "import altair as alt #viz\n",
        "\n",
        "# topic modeling\n",
        "\n",
        "from gensim.corpora.dictionary import Dictionary # Import the dictionary builder\n",
        "from gensim.models import LdaMulticore # we'll use the faster multicore version of LDA\n",
        "\n",
        "\n",
        "# Import pyLDAvis\n",
        "import pyLDAvis\n",
        "import pyLDAvis.gensim_models as gensimvis\n",
        "\n",
        "%matplotlib inline\n",
        "pyLDAvis.enable_notebook()"
      ],
      "metadata": {
        "id": "FWtRTWgSBerP",
        "outputId": "908ed398-e9d6-4d31-a316-ec1e0b3b5037",
        "colab": {
          "base_uri": "https://localhost:8080/"
        }
      },
      "execution_count": 3,
      "outputs": [
        {
          "output_type": "stream",
          "name": "stderr",
          "text": [
            "/usr/local/lib/python3.8/dist-packages/past/types/oldstr.py:5: DeprecationWarning: Using or importing the ABCs from 'collections' instead of from 'collections.abc' is deprecated since Python 3.3, and in 3.10 it will stop working\n",
            "  from collections import Iterable\n",
            "/usr/local/lib/python3.8/dist-packages/past/builtins/misc.py:4: DeprecationWarning: Using or importing the ABCs from 'collections' instead of from 'collections.abc' is deprecated since Python 3.3, and in 3.10 it will stop working\n",
            "  from collections import Mapping\n"
          ]
        }
      ]
    },
    {
      "cell_type": "markdown",
      "source": [
        "## Data Loading"
      ],
      "metadata": {
        "id": "QXxHRq6zE4j4"
      }
    },
    {
      "cell_type": "code",
      "metadata": {
        "id": "t3-rBov_TJuV"
      },
      "source": [
        "# Load remote file - dataframe of 1072 publications records on NLP research from Openalex\n",
        "data = pd.read_csv('https://raw.githubusercontent.com/AI-Growth-Lab/SciNerTopic/main/data/nlp_openalex.csv')"
      ],
      "execution_count": 4,
      "outputs": []
    },
    {
      "cell_type": "code",
      "source": [
        "#@title Load Data from OpenAlex\n",
        "\n",
        "#@markdown You can check out the list of concepts witht heir IDs [here](https://docs.google.com/spreadsheets/d/1LBFHjPt4rj_9r0t0TTAlT68NwOtNH8Z21lBMsJDMoZg/edit#gid=575855905), e.g., NLP c204321447 \n",
        "# specify endpoint\n",
        "endpoint = 'works'\n",
        "concept = \"'c204321447'\" #@param {type:\"string\"}\n",
        "oa = True #@param {type:\"boolean\"}\n",
        "nDocs = 200 #@param {type:\"slider\", min:200, max:3000, step:1}\n",
        "from_pub_date = \"2017-01-01\" #@param {type:\"date\"}\n",
        "#@markdown Enter your email for API call to OpenAlex. It is not stored but just used for the API call to OpenAlex.\n",
        "email = 'test@test.com'#@param {type:\"string\"} \n",
        "\n",
        "\n",
        "def OA(oa):\n",
        "  if True:\n",
        "    return 'true'\n",
        "  else:\n",
        "    return 'false'\n",
        "\n",
        "\n",
        "\n",
        "oa_str = OA(oa)\n",
        "\n",
        "# build the 'filter' parameter\n",
        "filters = \",\".join((\n",
        "    f'concepts.id:{concept}',\n",
        "    'is_paratext:false', \n",
        "    f'from_publication_date:{from_pub_date}',\n",
        "    f'is_oa:{oa_str}'\n",
        "))\n",
        "\n",
        "# put the URL together\n",
        "filtered_works_url = f'https://api.openalex.org/{endpoint}?mailto={email}&filter={filters}'\n",
        "print(f'complete URL with filters:\\n{filtered_works_url}')\n",
        "\n",
        "\n",
        "paging_param = 'per-page=100&cursor=*'\n",
        "\n",
        "works_query = f'{filtered_works_url}&{paging_param}'\n",
        "\n",
        "response = requests.get(works_query)\n",
        "meta = json.loads(response.text)['meta']\n",
        "next_cursor = meta['next_cursor']\n",
        "results_alx = json.loads(response.text)['results']\n",
        "\n",
        "\n",
        "cycles = math.floor((meta['count'] - 100) / meta['per_page'])+1\n",
        "if cycles > 30:\n",
        "  cycles = int(nDocs/100)\n",
        "\n",
        "df_input = []\n",
        "\n",
        "for result in results_alx:\n",
        "  if result['abstract_inverted_index']:\n",
        "    abs = ' '.join(result['abstract_inverted_index'].keys())\n",
        "    df_input.append((result['id'], result['doi'],result['title'],result['publication_year'],abs))\n",
        "\n",
        "for cycle in range(cycles):\n",
        "  cycle_query = f'{works_query[:-1]}{next_cursor}'\n",
        "  response = requests.get(cycle_query)\n",
        "  meta = json.loads(response.text)['meta']\n",
        "  next_cursor = meta['next_cursor']\n",
        "  results_alx = json.loads(response.text)['results']\n",
        "  for result in results_alx:\n",
        "    if result['abstract_inverted_index']:\n",
        "      abs = ' '.join(result['abstract_inverted_index'].keys())\n",
        "      df_input.append((result['id'], result['doi'],result['title'],result['publication_year'],abs))\n",
        "\n",
        "\n",
        "data = pd.DataFrame(df_input, columns=['id','doi','title','publication_year','abstract'])\n",
        "\n",
        "print(f'Downloaded {str(len(data))} documents')\n",
        "\n",
        "data.head()"
      ],
      "metadata": {
        "cellView": "form",
        "id": "Iip8qxOtCHnC"
      },
      "execution_count": null,
      "outputs": []
    },
    {
      "cell_type": "code",
      "source": [
        "data.shape"
      ],
      "metadata": {
        "colab": {
          "base_uri": "https://localhost:8080/"
        },
        "id": "CUkRDA7gELnl",
        "outputId": "5a5294ad-419f-4a85-a76b-f06f10ab3098"
      },
      "execution_count": 5,
      "outputs": [
        {
          "output_type": "execute_result",
          "data": {
            "text/plain": [
              "(1072, 5)"
            ]
          },
          "metadata": {},
          "execution_count": 5
        }
      ]
    },
    {
      "cell_type": "code",
      "source": [
        "data.columns"
      ],
      "metadata": {
        "colab": {
          "base_uri": "https://localhost:8080/"
        },
        "id": "zPS_VOisiXs6",
        "outputId": "1571f6d7-0cb1-4577-f4a7-50036d2ac199"
      },
      "execution_count": 6,
      "outputs": [
        {
          "output_type": "execute_result",
          "data": {
            "text/plain": [
              "Index(['id', 'doi', 'title', 'publication_year', 'abstract'], dtype='object')"
            ]
          },
          "metadata": {},
          "execution_count": 6
        }
      ]
    },
    {
      "cell_type": "code",
      "source": [
        "data"
      ],
      "metadata": {
        "colab": {
          "base_uri": "https://localhost:8080/",
          "height": 843
        },
        "id": "rP5da69_nv1j",
        "outputId": "2a2f577d-bf0f-47eb-8540-35126d342ea7"
      },
      "execution_count": 8,
      "outputs": [
        {
          "output_type": "execute_result",
          "data": {
            "text/plain": [
              "                                    id  \\\n",
              "0     https://openalex.org/W2962739339   \n",
              "1     https://openalex.org/W2965373594   \n",
              "2     https://openalex.org/W2493916176   \n",
              "3     https://openalex.org/W1902237438   \n",
              "4     https://openalex.org/W2962784628   \n",
              "...                                ...   \n",
              "1067  https://openalex.org/W2963924212   \n",
              "1068  https://openalex.org/W2105637130   \n",
              "1069  https://openalex.org/W2295584157   \n",
              "1070  https://openalex.org/W2951211142   \n",
              "1071  https://openalex.org/W2952594430   \n",
              "\n",
              "                                            doi  \\\n",
              "0          https://doi.org/10.18653/v1/n18-1202   \n",
              "1     https://doi.org/10.48550/arxiv.1907.11692   \n",
              "2          https://doi.org/10.1162/tacl_a_00051   \n",
              "3          https://doi.org/10.18653/v1/d15-1166   \n",
              "4          https://doi.org/10.18653/v1/p16-1162   \n",
              "...                                         ...   \n",
              "1067       https://doi.org/10.18653/v1/d17-1314   \n",
              "1068       https://doi.org/10.1093/jamia/ocv034   \n",
              "1069        https://doi.org/10.3115/v1/n15-1028   \n",
              "1070       https://doi.org/10.18653/v1/p19-1213   \n",
              "1071       https://doi.org/10.18653/v1/p19-1527   \n",
              "\n",
              "                                                  title  publication_year  \\\n",
              "0              Deep Contextualized Word Representations              2018   \n",
              "1     RoBERTa: A Robustly Optimized BERT Pretraining...              2019   \n",
              "2       Enriching Word Vectors with Subword Information              2017   \n",
              "3     Effective Approaches to Attention-based Neural...              2015   \n",
              "4     Neural Machine Translation of Rare Words with ...              2016   \n",
              "...                                                 ...               ...   \n",
              "1067    DOC: Deep Open Classification of Text Documents              2017   \n",
              "1068  Toward high-throughput phenotyping: unbiased a...              2015   \n",
              "1069  Deep Multilingual Correlation for Improved Wor...              2015   \n",
              "1070  Ranking Generated Summaries by Correctness: An...              2019   \n",
              "1071  Neural Architectures for Nested NER through Li...              2019   \n",
              "\n",
              "                                               abstract  \n",
              "0     We introduce a new type of deep contextualized...  \n",
              "1     Language model pretraining has led to signific...  \n",
              "2     Continuous word representations, trained on la...  \n",
              "3     An attentional mechanism has lately been used ...  \n",
              "4     Neural machine translation (NMT) models typica...  \n",
              "...                                                 ...  \n",
              "1067  Traditional supervised learning makes the clos...  \n",
              "1068  Analysis of narrative (text) data from electro...  \n",
              "1069  Word embeddings have been found useful for man...  \n",
              "1070  While recent progress on abstractive summariza...  \n",
              "1071  We propose two neural network architectures fo...  \n",
              "\n",
              "[1072 rows x 5 columns]"
            ],
            "text/html": [
              "\n",
              "  <div id=\"df-d5da7f8c-caf9-4d03-b49d-ba62aacd81c7\">\n",
              "    <div class=\"colab-df-container\">\n",
              "      <div>\n",
              "<style scoped>\n",
              "    .dataframe tbody tr th:only-of-type {\n",
              "        vertical-align: middle;\n",
              "    }\n",
              "\n",
              "    .dataframe tbody tr th {\n",
              "        vertical-align: top;\n",
              "    }\n",
              "\n",
              "    .dataframe thead th {\n",
              "        text-align: right;\n",
              "    }\n",
              "</style>\n",
              "<table border=\"1\" class=\"dataframe\">\n",
              "  <thead>\n",
              "    <tr style=\"text-align: right;\">\n",
              "      <th></th>\n",
              "      <th>id</th>\n",
              "      <th>doi</th>\n",
              "      <th>title</th>\n",
              "      <th>publication_year</th>\n",
              "      <th>abstract</th>\n",
              "    </tr>\n",
              "  </thead>\n",
              "  <tbody>\n",
              "    <tr>\n",
              "      <th>0</th>\n",
              "      <td>https://openalex.org/W2962739339</td>\n",
              "      <td>https://doi.org/10.18653/v1/n18-1202</td>\n",
              "      <td>Deep Contextualized Word Representations</td>\n",
              "      <td>2018</td>\n",
              "      <td>We introduce a new type of deep contextualized...</td>\n",
              "    </tr>\n",
              "    <tr>\n",
              "      <th>1</th>\n",
              "      <td>https://openalex.org/W2965373594</td>\n",
              "      <td>https://doi.org/10.48550/arxiv.1907.11692</td>\n",
              "      <td>RoBERTa: A Robustly Optimized BERT Pretraining...</td>\n",
              "      <td>2019</td>\n",
              "      <td>Language model pretraining has led to signific...</td>\n",
              "    </tr>\n",
              "    <tr>\n",
              "      <th>2</th>\n",
              "      <td>https://openalex.org/W2493916176</td>\n",
              "      <td>https://doi.org/10.1162/tacl_a_00051</td>\n",
              "      <td>Enriching Word Vectors with Subword Information</td>\n",
              "      <td>2017</td>\n",
              "      <td>Continuous word representations, trained on la...</td>\n",
              "    </tr>\n",
              "    <tr>\n",
              "      <th>3</th>\n",
              "      <td>https://openalex.org/W1902237438</td>\n",
              "      <td>https://doi.org/10.18653/v1/d15-1166</td>\n",
              "      <td>Effective Approaches to Attention-based Neural...</td>\n",
              "      <td>2015</td>\n",
              "      <td>An attentional mechanism has lately been used ...</td>\n",
              "    </tr>\n",
              "    <tr>\n",
              "      <th>4</th>\n",
              "      <td>https://openalex.org/W2962784628</td>\n",
              "      <td>https://doi.org/10.18653/v1/p16-1162</td>\n",
              "      <td>Neural Machine Translation of Rare Words with ...</td>\n",
              "      <td>2016</td>\n",
              "      <td>Neural machine translation (NMT) models typica...</td>\n",
              "    </tr>\n",
              "    <tr>\n",
              "      <th>...</th>\n",
              "      <td>...</td>\n",
              "      <td>...</td>\n",
              "      <td>...</td>\n",
              "      <td>...</td>\n",
              "      <td>...</td>\n",
              "    </tr>\n",
              "    <tr>\n",
              "      <th>1067</th>\n",
              "      <td>https://openalex.org/W2963924212</td>\n",
              "      <td>https://doi.org/10.18653/v1/d17-1314</td>\n",
              "      <td>DOC: Deep Open Classification of Text Documents</td>\n",
              "      <td>2017</td>\n",
              "      <td>Traditional supervised learning makes the clos...</td>\n",
              "    </tr>\n",
              "    <tr>\n",
              "      <th>1068</th>\n",
              "      <td>https://openalex.org/W2105637130</td>\n",
              "      <td>https://doi.org/10.1093/jamia/ocv034</td>\n",
              "      <td>Toward high-throughput phenotyping: unbiased a...</td>\n",
              "      <td>2015</td>\n",
              "      <td>Analysis of narrative (text) data from electro...</td>\n",
              "    </tr>\n",
              "    <tr>\n",
              "      <th>1069</th>\n",
              "      <td>https://openalex.org/W2295584157</td>\n",
              "      <td>https://doi.org/10.3115/v1/n15-1028</td>\n",
              "      <td>Deep Multilingual Correlation for Improved Wor...</td>\n",
              "      <td>2015</td>\n",
              "      <td>Word embeddings have been found useful for man...</td>\n",
              "    </tr>\n",
              "    <tr>\n",
              "      <th>1070</th>\n",
              "      <td>https://openalex.org/W2951211142</td>\n",
              "      <td>https://doi.org/10.18653/v1/p19-1213</td>\n",
              "      <td>Ranking Generated Summaries by Correctness: An...</td>\n",
              "      <td>2019</td>\n",
              "      <td>While recent progress on abstractive summariza...</td>\n",
              "    </tr>\n",
              "    <tr>\n",
              "      <th>1071</th>\n",
              "      <td>https://openalex.org/W2952594430</td>\n",
              "      <td>https://doi.org/10.18653/v1/p19-1527</td>\n",
              "      <td>Neural Architectures for Nested NER through Li...</td>\n",
              "      <td>2019</td>\n",
              "      <td>We propose two neural network architectures fo...</td>\n",
              "    </tr>\n",
              "  </tbody>\n",
              "</table>\n",
              "<p>1072 rows × 5 columns</p>\n",
              "</div>\n",
              "      <button class=\"colab-df-convert\" onclick=\"convertToInteractive('df-d5da7f8c-caf9-4d03-b49d-ba62aacd81c7')\"\n",
              "              title=\"Convert this dataframe to an interactive table.\"\n",
              "              style=\"display:none;\">\n",
              "        \n",
              "  <svg xmlns=\"http://www.w3.org/2000/svg\" height=\"24px\"viewBox=\"0 0 24 24\"\n",
              "       width=\"24px\">\n",
              "    <path d=\"M0 0h24v24H0V0z\" fill=\"none\"/>\n",
              "    <path d=\"M18.56 5.44l.94 2.06.94-2.06 2.06-.94-2.06-.94-.94-2.06-.94 2.06-2.06.94zm-11 1L8.5 8.5l.94-2.06 2.06-.94-2.06-.94L8.5 2.5l-.94 2.06-2.06.94zm10 10l.94 2.06.94-2.06 2.06-.94-2.06-.94-.94-2.06-.94 2.06-2.06.94z\"/><path d=\"M17.41 7.96l-1.37-1.37c-.4-.4-.92-.59-1.43-.59-.52 0-1.04.2-1.43.59L10.3 9.45l-7.72 7.72c-.78.78-.78 2.05 0 2.83L4 21.41c.39.39.9.59 1.41.59.51 0 1.02-.2 1.41-.59l7.78-7.78 2.81-2.81c.8-.78.8-2.07 0-2.86zM5.41 20L4 18.59l7.72-7.72 1.47 1.35L5.41 20z\"/>\n",
              "  </svg>\n",
              "      </button>\n",
              "      \n",
              "  <style>\n",
              "    .colab-df-container {\n",
              "      display:flex;\n",
              "      flex-wrap:wrap;\n",
              "      gap: 12px;\n",
              "    }\n",
              "\n",
              "    .colab-df-convert {\n",
              "      background-color: #E8F0FE;\n",
              "      border: none;\n",
              "      border-radius: 50%;\n",
              "      cursor: pointer;\n",
              "      display: none;\n",
              "      fill: #1967D2;\n",
              "      height: 32px;\n",
              "      padding: 0 0 0 0;\n",
              "      width: 32px;\n",
              "    }\n",
              "\n",
              "    .colab-df-convert:hover {\n",
              "      background-color: #E2EBFA;\n",
              "      box-shadow: 0px 1px 2px rgba(60, 64, 67, 0.3), 0px 1px 3px 1px rgba(60, 64, 67, 0.15);\n",
              "      fill: #174EA6;\n",
              "    }\n",
              "\n",
              "    [theme=dark] .colab-df-convert {\n",
              "      background-color: #3B4455;\n",
              "      fill: #D2E3FC;\n",
              "    }\n",
              "\n",
              "    [theme=dark] .colab-df-convert:hover {\n",
              "      background-color: #434B5C;\n",
              "      box-shadow: 0px 1px 3px 1px rgba(0, 0, 0, 0.15);\n",
              "      filter: drop-shadow(0px 1px 2px rgba(0, 0, 0, 0.3));\n",
              "      fill: #FFFFFF;\n",
              "    }\n",
              "  </style>\n",
              "\n",
              "      <script>\n",
              "        const buttonEl =\n",
              "          document.querySelector('#df-d5da7f8c-caf9-4d03-b49d-ba62aacd81c7 button.colab-df-convert');\n",
              "        buttonEl.style.display =\n",
              "          google.colab.kernel.accessAllowed ? 'block' : 'none';\n",
              "\n",
              "        async function convertToInteractive(key) {\n",
              "          const element = document.querySelector('#df-d5da7f8c-caf9-4d03-b49d-ba62aacd81c7');\n",
              "          const dataTable =\n",
              "            await google.colab.kernel.invokeFunction('convertToInteractive',\n",
              "                                                     [key], {});\n",
              "          if (!dataTable) return;\n",
              "\n",
              "          const docLinkHtml = 'Like what you see? Visit the ' +\n",
              "            '<a target=\"_blank\" href=https://colab.research.google.com/notebooks/data_table.ipynb>data table notebook</a>'\n",
              "            + ' to learn more about interactive tables.';\n",
              "          element.innerHTML = '';\n",
              "          dataTable['output_type'] = 'display_data';\n",
              "          await google.colab.output.renderOutput(dataTable, element);\n",
              "          const docLink = document.createElement('div');\n",
              "          docLink.innerHTML = docLinkHtml;\n",
              "          element.appendChild(docLink);\n",
              "        }\n",
              "      </script>\n",
              "    </div>\n",
              "  </div>\n",
              "  "
            ]
          },
          "metadata": {},
          "execution_count": 8
        }
      ]
    },
    {
      "cell_type": "code",
      "source": [
        "data ['text'] = data['title'] + '. ' + data['abstract']"
      ],
      "metadata": {
        "id": "3aB3k2CWi8Uo"
      },
      "execution_count": 9,
      "outputs": []
    },
    {
      "cell_type": "code",
      "metadata": {
        "colab": {
          "base_uri": "https://localhost:8080/"
        },
        "id": "ijwe4ks92cTn",
        "outputId": "c44fcb50-6913-440c-a724-da1773cd46fd"
      },
      "source": [
        "# run progress bar and clean up using spacy but without some heavy parts of the pipeline\n",
        "\n",
        "clean_text = []\n",
        "\n",
        "pbar = tqdm.tqdm(total=len(data['text']),position=0, leave=True)\n",
        "\n",
        "for text in nlp.pipe(data['text'], disable=[\"tagger\", \"parser\", \"ner\"]):\n",
        "\n",
        "  txt = [token.lemma_.lower() for token in text \n",
        "         if token.is_alpha \n",
        "         and not token.is_stop \n",
        "         and not token.is_punct]\n",
        "\n",
        "  clean_text.append(\" \".join(txt))\n",
        "\n",
        "  pbar.update(1)"
      ],
      "execution_count": 11,
      "outputs": [
        {
          "output_type": "stream",
          "name": "stderr",
          "text": [
            "  0%|          | 0/1072 [00:00<?, ?it/s]/usr/local/lib/python3.8/dist-packages/spacy/pipeline/lemmatizer.py:211: UserWarning: [W108] The rule-based lemmatizer did not find POS annotation for one or more tokens. Check that your pipeline includes components that assign token.pos, typically 'tagger'+'attribute_ruler' or 'morphologizer'.\n",
            "  warnings.warn(Warnings.W108)\n",
            "100%|█████████▉| 1070/1072 [00:10<00:00, 201.01it/s]"
          ]
        }
      ]
    },
    {
      "cell_type": "code",
      "metadata": {
        "colab": {
          "base_uri": "https://localhost:8080/",
          "height": 1000
        },
        "id": "kdAqGWwL12Y0",
        "outputId": "fac9efc8-07ca-44d5-f12a-506e2b00b015"
      },
      "source": [
        "data"
      ],
      "execution_count": 12,
      "outputs": [
        {
          "output_type": "execute_result",
          "data": {
            "text/plain": [
              "                                    id  \\\n",
              "0     https://openalex.org/W2962739339   \n",
              "1     https://openalex.org/W2965373594   \n",
              "2     https://openalex.org/W2493916176   \n",
              "3     https://openalex.org/W1902237438   \n",
              "4     https://openalex.org/W2962784628   \n",
              "...                                ...   \n",
              "1067  https://openalex.org/W2963924212   \n",
              "1068  https://openalex.org/W2105637130   \n",
              "1069  https://openalex.org/W2295584157   \n",
              "1070  https://openalex.org/W2951211142   \n",
              "1071  https://openalex.org/W2952594430   \n",
              "\n",
              "                                            doi  \\\n",
              "0          https://doi.org/10.18653/v1/n18-1202   \n",
              "1     https://doi.org/10.48550/arxiv.1907.11692   \n",
              "2          https://doi.org/10.1162/tacl_a_00051   \n",
              "3          https://doi.org/10.18653/v1/d15-1166   \n",
              "4          https://doi.org/10.18653/v1/p16-1162   \n",
              "...                                         ...   \n",
              "1067       https://doi.org/10.18653/v1/d17-1314   \n",
              "1068       https://doi.org/10.1093/jamia/ocv034   \n",
              "1069        https://doi.org/10.3115/v1/n15-1028   \n",
              "1070       https://doi.org/10.18653/v1/p19-1213   \n",
              "1071       https://doi.org/10.18653/v1/p19-1527   \n",
              "\n",
              "                                                  title  publication_year  \\\n",
              "0              Deep Contextualized Word Representations              2018   \n",
              "1     RoBERTa: A Robustly Optimized BERT Pretraining...              2019   \n",
              "2       Enriching Word Vectors with Subword Information              2017   \n",
              "3     Effective Approaches to Attention-based Neural...              2015   \n",
              "4     Neural Machine Translation of Rare Words with ...              2016   \n",
              "...                                                 ...               ...   \n",
              "1067    DOC: Deep Open Classification of Text Documents              2017   \n",
              "1068  Toward high-throughput phenotyping: unbiased a...              2015   \n",
              "1069  Deep Multilingual Correlation for Improved Wor...              2015   \n",
              "1070  Ranking Generated Summaries by Correctness: An...              2019   \n",
              "1071  Neural Architectures for Nested NER through Li...              2019   \n",
              "\n",
              "                                               abstract  \\\n",
              "0     We introduce a new type of deep contextualized...   \n",
              "1     Language model pretraining has led to signific...   \n",
              "2     Continuous word representations, trained on la...   \n",
              "3     An attentional mechanism has lately been used ...   \n",
              "4     Neural machine translation (NMT) models typica...   \n",
              "...                                                 ...   \n",
              "1067  Traditional supervised learning makes the clos...   \n",
              "1068  Analysis of narrative (text) data from electro...   \n",
              "1069  Word embeddings have been found useful for man...   \n",
              "1070  While recent progress on abstractive summariza...   \n",
              "1071  We propose two neural network architectures fo...   \n",
              "\n",
              "                                                   text  \n",
              "0     Deep Contextualized Word Representations. We i...  \n",
              "1     RoBERTa: A Robustly Optimized BERT Pretraining...  \n",
              "2     Enriching Word Vectors with Subword Informatio...  \n",
              "3     Effective Approaches to Attention-based Neural...  \n",
              "4     Neural Machine Translation of Rare Words with ...  \n",
              "...                                                 ...  \n",
              "1067  DOC: Deep Open Classification of Text Document...  \n",
              "1068  Toward high-throughput phenotyping: unbiased a...  \n",
              "1069  Deep Multilingual Correlation for Improved Wor...  \n",
              "1070  Ranking Generated Summaries by Correctness: An...  \n",
              "1071  Neural Architectures for Nested NER through Li...  \n",
              "\n",
              "[1072 rows x 6 columns]"
            ],
            "text/html": [
              "\n",
              "  <div id=\"df-92086047-67ed-4aaf-9d19-4e2ce88f8639\">\n",
              "    <div class=\"colab-df-container\">\n",
              "      <div>\n",
              "<style scoped>\n",
              "    .dataframe tbody tr th:only-of-type {\n",
              "        vertical-align: middle;\n",
              "    }\n",
              "\n",
              "    .dataframe tbody tr th {\n",
              "        vertical-align: top;\n",
              "    }\n",
              "\n",
              "    .dataframe thead th {\n",
              "        text-align: right;\n",
              "    }\n",
              "</style>\n",
              "<table border=\"1\" class=\"dataframe\">\n",
              "  <thead>\n",
              "    <tr style=\"text-align: right;\">\n",
              "      <th></th>\n",
              "      <th>id</th>\n",
              "      <th>doi</th>\n",
              "      <th>title</th>\n",
              "      <th>publication_year</th>\n",
              "      <th>abstract</th>\n",
              "      <th>text</th>\n",
              "    </tr>\n",
              "  </thead>\n",
              "  <tbody>\n",
              "    <tr>\n",
              "      <th>0</th>\n",
              "      <td>https://openalex.org/W2962739339</td>\n",
              "      <td>https://doi.org/10.18653/v1/n18-1202</td>\n",
              "      <td>Deep Contextualized Word Representations</td>\n",
              "      <td>2018</td>\n",
              "      <td>We introduce a new type of deep contextualized...</td>\n",
              "      <td>Deep Contextualized Word Representations. We i...</td>\n",
              "    </tr>\n",
              "    <tr>\n",
              "      <th>1</th>\n",
              "      <td>https://openalex.org/W2965373594</td>\n",
              "      <td>https://doi.org/10.48550/arxiv.1907.11692</td>\n",
              "      <td>RoBERTa: A Robustly Optimized BERT Pretraining...</td>\n",
              "      <td>2019</td>\n",
              "      <td>Language model pretraining has led to signific...</td>\n",
              "      <td>RoBERTa: A Robustly Optimized BERT Pretraining...</td>\n",
              "    </tr>\n",
              "    <tr>\n",
              "      <th>2</th>\n",
              "      <td>https://openalex.org/W2493916176</td>\n",
              "      <td>https://doi.org/10.1162/tacl_a_00051</td>\n",
              "      <td>Enriching Word Vectors with Subword Information</td>\n",
              "      <td>2017</td>\n",
              "      <td>Continuous word representations, trained on la...</td>\n",
              "      <td>Enriching Word Vectors with Subword Informatio...</td>\n",
              "    </tr>\n",
              "    <tr>\n",
              "      <th>3</th>\n",
              "      <td>https://openalex.org/W1902237438</td>\n",
              "      <td>https://doi.org/10.18653/v1/d15-1166</td>\n",
              "      <td>Effective Approaches to Attention-based Neural...</td>\n",
              "      <td>2015</td>\n",
              "      <td>An attentional mechanism has lately been used ...</td>\n",
              "      <td>Effective Approaches to Attention-based Neural...</td>\n",
              "    </tr>\n",
              "    <tr>\n",
              "      <th>4</th>\n",
              "      <td>https://openalex.org/W2962784628</td>\n",
              "      <td>https://doi.org/10.18653/v1/p16-1162</td>\n",
              "      <td>Neural Machine Translation of Rare Words with ...</td>\n",
              "      <td>2016</td>\n",
              "      <td>Neural machine translation (NMT) models typica...</td>\n",
              "      <td>Neural Machine Translation of Rare Words with ...</td>\n",
              "    </tr>\n",
              "    <tr>\n",
              "      <th>...</th>\n",
              "      <td>...</td>\n",
              "      <td>...</td>\n",
              "      <td>...</td>\n",
              "      <td>...</td>\n",
              "      <td>...</td>\n",
              "      <td>...</td>\n",
              "    </tr>\n",
              "    <tr>\n",
              "      <th>1067</th>\n",
              "      <td>https://openalex.org/W2963924212</td>\n",
              "      <td>https://doi.org/10.18653/v1/d17-1314</td>\n",
              "      <td>DOC: Deep Open Classification of Text Documents</td>\n",
              "      <td>2017</td>\n",
              "      <td>Traditional supervised learning makes the clos...</td>\n",
              "      <td>DOC: Deep Open Classification of Text Document...</td>\n",
              "    </tr>\n",
              "    <tr>\n",
              "      <th>1068</th>\n",
              "      <td>https://openalex.org/W2105637130</td>\n",
              "      <td>https://doi.org/10.1093/jamia/ocv034</td>\n",
              "      <td>Toward high-throughput phenotyping: unbiased a...</td>\n",
              "      <td>2015</td>\n",
              "      <td>Analysis of narrative (text) data from electro...</td>\n",
              "      <td>Toward high-throughput phenotyping: unbiased a...</td>\n",
              "    </tr>\n",
              "    <tr>\n",
              "      <th>1069</th>\n",
              "      <td>https://openalex.org/W2295584157</td>\n",
              "      <td>https://doi.org/10.3115/v1/n15-1028</td>\n",
              "      <td>Deep Multilingual Correlation for Improved Wor...</td>\n",
              "      <td>2015</td>\n",
              "      <td>Word embeddings have been found useful for man...</td>\n",
              "      <td>Deep Multilingual Correlation for Improved Wor...</td>\n",
              "    </tr>\n",
              "    <tr>\n",
              "      <th>1070</th>\n",
              "      <td>https://openalex.org/W2951211142</td>\n",
              "      <td>https://doi.org/10.18653/v1/p19-1213</td>\n",
              "      <td>Ranking Generated Summaries by Correctness: An...</td>\n",
              "      <td>2019</td>\n",
              "      <td>While recent progress on abstractive summariza...</td>\n",
              "      <td>Ranking Generated Summaries by Correctness: An...</td>\n",
              "    </tr>\n",
              "    <tr>\n",
              "      <th>1071</th>\n",
              "      <td>https://openalex.org/W2952594430</td>\n",
              "      <td>https://doi.org/10.18653/v1/p19-1527</td>\n",
              "      <td>Neural Architectures for Nested NER through Li...</td>\n",
              "      <td>2019</td>\n",
              "      <td>We propose two neural network architectures fo...</td>\n",
              "      <td>Neural Architectures for Nested NER through Li...</td>\n",
              "    </tr>\n",
              "  </tbody>\n",
              "</table>\n",
              "<p>1072 rows × 6 columns</p>\n",
              "</div>\n",
              "      <button class=\"colab-df-convert\" onclick=\"convertToInteractive('df-92086047-67ed-4aaf-9d19-4e2ce88f8639')\"\n",
              "              title=\"Convert this dataframe to an interactive table.\"\n",
              "              style=\"display:none;\">\n",
              "        \n",
              "  <svg xmlns=\"http://www.w3.org/2000/svg\" height=\"24px\"viewBox=\"0 0 24 24\"\n",
              "       width=\"24px\">\n",
              "    <path d=\"M0 0h24v24H0V0z\" fill=\"none\"/>\n",
              "    <path d=\"M18.56 5.44l.94 2.06.94-2.06 2.06-.94-2.06-.94-.94-2.06-.94 2.06-2.06.94zm-11 1L8.5 8.5l.94-2.06 2.06-.94-2.06-.94L8.5 2.5l-.94 2.06-2.06.94zm10 10l.94 2.06.94-2.06 2.06-.94-2.06-.94-.94-2.06-.94 2.06-2.06.94z\"/><path d=\"M17.41 7.96l-1.37-1.37c-.4-.4-.92-.59-1.43-.59-.52 0-1.04.2-1.43.59L10.3 9.45l-7.72 7.72c-.78.78-.78 2.05 0 2.83L4 21.41c.39.39.9.59 1.41.59.51 0 1.02-.2 1.41-.59l7.78-7.78 2.81-2.81c.8-.78.8-2.07 0-2.86zM5.41 20L4 18.59l7.72-7.72 1.47 1.35L5.41 20z\"/>\n",
              "  </svg>\n",
              "      </button>\n",
              "      \n",
              "  <style>\n",
              "    .colab-df-container {\n",
              "      display:flex;\n",
              "      flex-wrap:wrap;\n",
              "      gap: 12px;\n",
              "    }\n",
              "\n",
              "    .colab-df-convert {\n",
              "      background-color: #E8F0FE;\n",
              "      border: none;\n",
              "      border-radius: 50%;\n",
              "      cursor: pointer;\n",
              "      display: none;\n",
              "      fill: #1967D2;\n",
              "      height: 32px;\n",
              "      padding: 0 0 0 0;\n",
              "      width: 32px;\n",
              "    }\n",
              "\n",
              "    .colab-df-convert:hover {\n",
              "      background-color: #E2EBFA;\n",
              "      box-shadow: 0px 1px 2px rgba(60, 64, 67, 0.3), 0px 1px 3px 1px rgba(60, 64, 67, 0.15);\n",
              "      fill: #174EA6;\n",
              "    }\n",
              "\n",
              "    [theme=dark] .colab-df-convert {\n",
              "      background-color: #3B4455;\n",
              "      fill: #D2E3FC;\n",
              "    }\n",
              "\n",
              "    [theme=dark] .colab-df-convert:hover {\n",
              "      background-color: #434B5C;\n",
              "      box-shadow: 0px 1px 3px 1px rgba(0, 0, 0, 0.15);\n",
              "      filter: drop-shadow(0px 1px 2px rgba(0, 0, 0, 0.3));\n",
              "      fill: #FFFFFF;\n",
              "    }\n",
              "  </style>\n",
              "\n",
              "      <script>\n",
              "        const buttonEl =\n",
              "          document.querySelector('#df-92086047-67ed-4aaf-9d19-4e2ce88f8639 button.colab-df-convert');\n",
              "        buttonEl.style.display =\n",
              "          google.colab.kernel.accessAllowed ? 'block' : 'none';\n",
              "\n",
              "        async function convertToInteractive(key) {\n",
              "          const element = document.querySelector('#df-92086047-67ed-4aaf-9d19-4e2ce88f8639');\n",
              "          const dataTable =\n",
              "            await google.colab.kernel.invokeFunction('convertToInteractive',\n",
              "                                                     [key], {});\n",
              "          if (!dataTable) return;\n",
              "\n",
              "          const docLinkHtml = 'Like what you see? Visit the ' +\n",
              "            '<a target=\"_blank\" href=https://colab.research.google.com/notebooks/data_table.ipynb>data table notebook</a>'\n",
              "            + ' to learn more about interactive tables.';\n",
              "          element.innerHTML = '';\n",
              "          dataTable['output_type'] = 'display_data';\n",
              "          await google.colab.output.renderOutput(dataTable, element);\n",
              "          const docLink = document.createElement('div');\n",
              "          docLink.innerHTML = docLinkHtml;\n",
              "          element.appendChild(docLink);\n",
              "        }\n",
              "      </script>\n",
              "    </div>\n",
              "  </div>\n",
              "  "
            ]
          },
          "metadata": {},
          "execution_count": 12
        }
      ]
    },
    {
      "cell_type": "code",
      "source": [
        "data['text_clean'] = clean_text"
      ],
      "metadata": {
        "id": "fHpD7QnSFiTV"
      },
      "execution_count": 13,
      "outputs": []
    },
    {
      "cell_type": "code",
      "source": [
        "# preprocess texts (we need tokens)\n",
        "tokens = []\n",
        "\n",
        "for summary in nlp.pipe(data['text_clean'], disable=[\"ner\"]):\n",
        "  proj_tok = [token.lemma_.lower() for token in summary \n",
        "              if token.pos_ in ['NOUN', 'PROPN', 'ADJ', 'ADV'] \n",
        "              and not token.is_stop\n",
        "              and not token.is_punct] \n",
        "  tokens.append(proj_tok)"
      ],
      "metadata": {
        "id": "q1IjMnsdlQg1"
      },
      "execution_count": 14,
      "outputs": []
    },
    {
      "cell_type": "code",
      "source": [
        "data['tokens'] = tokens"
      ],
      "metadata": {
        "id": "QIFmN_6tlSt5"
      },
      "execution_count": 15,
      "outputs": []
    },
    {
      "cell_type": "code",
      "source": [
        "# Create a Dictionary from the articles: dictionary\n",
        "dictionary = Dictionary(data['tokens'])\n",
        "# filter out low-frequency / high-frequency stuff, also limit the vocabulary to max 1000 words\n",
        "dictionary.filter_extremes(no_below=5, no_above=0.5, keep_n=1000)\n",
        "# construct corpus using this dictionary\n",
        "corpus = [dictionary.doc2bow(doc) for doc in data['tokens']]"
      ],
      "metadata": {
        "id": "uxBNVSFwgrKs"
      },
      "execution_count": 16,
      "outputs": []
    },
    {
      "cell_type": "code",
      "source": [
        "corpus"
      ],
      "metadata": {
        "id": "UkhM6GvJWXPU"
      },
      "execution_count": null,
      "outputs": []
    },
    {
      "cell_type": "code",
      "source": [
        "# Training the model\n",
        "lda_model = LdaMulticore(corpus, id2word=dictionary, num_topics=10, workers = 4, passes=10)"
      ],
      "metadata": {
        "id": "WR-I1RThhBSd"
      },
      "execution_count": 40,
      "outputs": []
    },
    {
      "cell_type": "code",
      "source": [
        "# Let's try to visualize\n",
        "lda_display = pyLDAvis.gensim_models.prepare(lda_model, corpus, dictionary)"
      ],
      "metadata": {
        "id": "81KTmWw7hCqQ"
      },
      "execution_count": 22,
      "outputs": []
    },
    {
      "cell_type": "code",
      "source": [
        " # Let's Visualize\n",
        "pyLDAvis.display(lda_display)"
      ],
      "metadata": {
        "colab": {
          "base_uri": "https://localhost:8080/",
          "height": 881
        },
        "id": "dfGSNcH5hl_S",
        "outputId": "822ec39e-decf-41a9-df98-12ba37257107"
      },
      "execution_count": 23,
      "outputs": [
        {
          "output_type": "execute_result",
          "data": {
            "text/plain": [
              "<IPython.core.display.HTML object>"
            ],
            "text/html": [
              "\n",
              "<link rel=\"stylesheet\" type=\"text/css\" href=\"https://cdn.jsdelivr.net/gh/bmabey/pyLDAvis@3.3.1/pyLDAvis/js/ldavis.v1.0.0.css\">\n",
              "\n",
              "\n",
              "<div id=\"ldavis_el16881397113164433127269018617\"></div>\n",
              "<script type=\"text/javascript\">\n",
              "\n",
              "var ldavis_el16881397113164433127269018617_data = {\"mdsDat\": {\"x\": [-0.03823454346271289, 0.0988668125963111, -0.0330581863006219, -0.07772441886677463, 0.049378640183708244, -0.1246163449340673, 0.11352540182579376, -0.09634162888389457, 0.06193308478150116, 0.04627118306075707], \"y\": [0.007253425492976644, -0.09348108702357837, 0.053411096073894646, 0.0696075902809975, -0.049326762980396725, -0.11201868013550402, -0.005631928272470481, 0.0011909945397113484, -0.0027414476328820403, 0.13173679965725205], \"topics\": [1, 2, 3, 4, 5, 6, 7, 8, 9, 10], \"cluster\": [1, 1, 1, 1, 1, 1, 1, 1, 1, 1], \"Freq\": [14.987612773479992, 14.381185041825779, 14.305085981676061, 13.003820086342404, 9.251576948877716, 9.176132465241235, 8.427228579770569, 7.835678140259185, 5.933480473094104, 2.6981995094329605]}, \"tinfo\": {\"Term\": [\"question\", \"language\", \"image\", \"translation\", \"word\", \"network\", \"sentiment\", \"bert\", \"neural\", \"semantic\", \"embedding\", \"lstm\", \"dataset\", \"machine\", \"answer\", \"visual\", \"entity\", \"speech\", \"sentence\", \"multilingual\", \"text\", \"vector\", \"resource\", \"bias\", \"dialogue\", \"video\", \"memory\", \"dependency\", \"comprehension\", \"processing\", \"abstractive\", \"mt\", \"extractive\", \"summarization\", \"reward\", \"rouge\", \"german\", \"decoder\", \"summary\", \"bleu\", \"french\", \"perplexity\", \"judge\", \"reinforcement\", \"encoder\", \"dialog\", \"nmt\", \"fluency\", \"translation\", \"coherence\", \"autoencoder\", \"response\", \"dialogue\", \"variable\", \"generator\", \"rare\", \"discourse\", \"agent\", \"metric\", \"interpretability\", \"sequence\", \"machine\", \"generation\", \"neural\", \"document\", \"sentence\", \"transformer\", \"evaluation\", \"domain\", \"quality\", \"system\", \"state\", \"human\", \"art\", \"english\", \"training\", \"result\", \"word\", \"attention\", \"learning\", \"network\", \"paper\", \"approach\", \"level\", \"method\", \"datum\", \"performance\", \"language\", \"health\", \"record\", \"electronic\", \"clinical\", \"material\", \"patient\", \"popularity\", \"discussion\", \"overview\", \"disease\", \"scientific\", \"survey\", \"conclusion\", \"guideline\", \"population\", \"discuss\", \"medical\", \"outcome\", \"identification\", \"medium\", \"biomedical\", \"trend\", \"review\", \"tool\", \"google\", \"validation\", \"examine\", \"article\", \"topic\", \"toolkit\", \"nlp\", \"processing\", \"practice\", \"research\", \"online\", \"literature\", \"study\", \"field\", \"social\", \"community\", \"mining\", \"application\", \"analysis\", \"natural\", \"language\", \"automatic\", \"text\", \"recognition\", \"datum\", \"method\", \"system\", \"available\", \"learning\", \"technique\", \"paper\", \"corpus\", \"information\", \"performance\", \"evaluation\", \"result\", \"new\", \"vqa\", \"qa\", \"table\", \"genome\", \"triple\", \"relational\", \"reasoning\", \"question\", \"answer\", \"graph\", \"modular\", \"completion\", \"base\", \"wikipedia\", \"knowledge\", \"commonsense\", \"fusion\", \"desirable\", \"query\", \"formulation\", \"relation\", \"reason\", \"visual\", \"relationship\", \"basis\", \"external\", \"fact\", \"reference\", \"format\", \"importantly\", \"parser\", \"entity\", \"concept\", \"image\", \"supervision\", \"object\", \"dataset\", \"representation\", \"extraction\", \"semantic\", \"information\", \"domain\", \"description\", \"approach\", \"state\", \"attention\", \"paper\", \"art\", \"novel\", \"language\", \"present\", \"result\", \"method\", \"network\", \"neural\", \"natural\", \"text\", \"large\", \"clip\", \"localize\", \"pixel\", \"mscoco\", \"captioning\", \"caption\", \"localization\", \"video\", \"coco\", \"movie\", \"salient\", \"region\", \"box\", \"regression\", \"modal\", \"paragraph\", \"image\", \"proposal\", \"verification\", \"scene\", \"book\", \"efficiency\", \"fully\", \"ms\", \"orientation\", \"temporal\", \"retrieval\", \"segment\", \"detector\", \"newly\", \"object\", \"segmentation\", \"description\", \"text\", \"convolutional\", \"k\", \"vision\", \"network\", \"end\", \"visual\", \"dataset\", \"generation\", \"layer\", \"sentence\", \"detection\", \"method\", \"level\", \"deep\", \"state\", \"art\", \"semantic\", \"multi\", \"neural\", \"approach\", \"paper\", \"performance\", \"result\", \"word\", \"language\", \"natural\", \"hate\", \"relatedness\", \"brain\", \"massive\", \"distributional\", \"intrinsic\", \"vector\", \"occurrence\", \"contexts\", \"static\", \"family\", \"bilingual\", \"building\", \"assumption\", \"gram\", \"embedding\", \"space\", \"preference\", \"group\", \"past\", \"criterion\", \"similarity\", \"equivalent\", \"scalable\", \"product\", \"requirement\", \"unsupervised\", \"definition\", \"decision\", \"commonly\", \"meaning\", \"speech\", \"lingual\", \"word\", \"cross\", \"representation\", \"semantic\", \"linguistic\", \"property\", \"method\", \"application\", \"detection\", \"document\", \"different\", \"approach\", \"language\", \"datum\", \"feature\", \"information\", \"paper\", \"analysis\", \"processing\", \"learning\", \"large\", \"new\", \"problem\", \"sentence\", \"natural\", \"result\", \"crf\", \"opinion\", \"ner\", \"sentiment\", \"polarity\", \"engineering\", \"subtask\", \"semeval\", \"aspect\", \"comment\", \"propagation\", \"character\", \"twitter\", \"convolution\", \"b\", \"target\", \"irrelevant\", \"random\", \"tackle\", \"hybrid\", \"classification\", \"tagging\", \"directional\", \"n\", \"exhibit\", \"subset\", \"lstm\", \"independent\", \"acoustic\", \"cnn\", \"entity\", \"network\", \"short\", \"lexicon\", \"analysis\", \"memory\", \"recognition\", \"term\", \"level\", \"recurrent\", \"neural\", \"extraction\", \"convolutional\", \"feature\", \"art\", \"attention\", \"word\", \"state\", \"result\", \"end\", \"system\", \"approach\", \"paper\", \"deep\", \"performance\", \"embedding\", \"dataset\", \"glue\", \"bert\", \"squad\", \"nli\", \"race\", \"reading\", \"bias\", \"gender\", \"comprehension\", \"freely\", \"suite\", \"behavior\", \"room\", \"bad\", \"elmo\", \"entailment\", \"passage\", \"technical\", \"annotator\", \"investigation\", \"magnitude\", \"inference\", \"neutral\", \"american\", \"light\", \"emotion\", \"diversity\", \"example\", \"generalization\", \"carefully\", \"al\", \"et\", \"adversarial\", \"dataset\", \"tweet\", \"diverse\", \"benchmark\", \"question\", \"answer\", \"human\", \"training\", \"language\", \"introduce\", \"test\", \"analysis\", \"large\", \"new\", \"performance\", \"natural\", \"art\", \"understanding\", \"state\", \"nlp\", \"sentence\", \"scale\", \"system\", \"machine\", \"present\", \"text\", \"datum\", \"method\", \"linguistics\", \"verb\", \"treebank\", \"argument\", \"conll\", \"transition\", \"dependency\", \"rnn\", \"degree\", \"cell\", \"memory\", \"account\", \"capturing\", \"sensitive\", \"lstms\", \"tree\", \"stanford\", \"encoding\", \"lstm\", \"syntactic\", \"syntax\", \"role\", \"token\", \"predicate\", \"conference\", \"date\", \"parser\", \"grammatical\", \"pooling\", \"path\", \"long\", \"prediction\", \"structure\", \"sentence\", \"short\", \"term\", \"recurrent\", \"language\", \"network\", \"neural\", \"information\", \"representation\", \"semantic\", \"natural\", \"linguistic\", \"word\", \"attention\", \"architecture\", \"result\", \"state\", \"experiment\", \"processing\", \"art\", \"paper\", \"feature\", \"synthesis\", \"audio\", \"wild\", \"multilingual\", \"parallel\", \"production\", \"speaker\", \"universal\", \"lingual\", \"hyperparameter\", \"environment\", \"resource\", \"shot\", \"low\", \"share\", \"precisely\", \"adaptation\", \"availability\", \"translate\", \"limited\", \"monolingual\", \"date\", \"hypothesis\", \"setting\", \"transfer\", \"greatly\", \"coverage\", \"translation\", \"tuning\", \"modification\", \"cross\", \"nmt\", \"language\", \"speech\", \"pair\", \"parameter\", \"machine\", \"train\", \"corpora\", \"training\", \"system\", \"recognition\", \"large\", \"corpus\", \"paper\", \"source\", \"neural\", \"end\", \"different\", \"work\", \"approach\", \"dataset\", \"performance\", \"state\", \"datum\", \"sentence\", \"cue\", \"turn\", \"heuristic\", \"modality\", \"sample\", \"qualitatively\", \"inherent\", \"constraint\", \"quantitatively\", \"variability\", \"implication\", \"dialogue\", \"explanation\", \"generate\", \"adversarial\", \"condition\", \"frequency\", \"association\", \"robust\", \"utility\", \"change\", \"response\", \"modal\", \"probability\", \"gap\", \"predictive\", \"robustness\", \"applicable\", \"experimentally\", \"intermediate\", \"rate\", \"capability\", \"challenge\", \"cross\", \"learning\", \"semantic\", \"image\", \"word\", \"dataset\", \"address\", \"machine\", \"human\", \"datum\", \"domain\", \"network\", \"different\", \"visual\", \"language\", \"problem\", \"result\", \"structure\", \"system\", \"neural\", \"state\", \"method\", \"large\"], \"Freq\": [360.0, 865.0, 355.0, 273.0, 648.0, 573.0, 165.0, 123.0, 601.0, 369.0, 236.0, 139.0, 583.0, 302.0, 151.0, 196.0, 235.0, 165.0, 480.0, 87.0, 622.0, 146.0, 119.0, 90.0, 71.0, 123.0, 101.0, 104.0, 91.0, 212.0, 38.08654581928016, 21.60865380267791, 20.59255043688293, 76.76968117106388, 10.382477739055517, 10.231727566662387, 18.18186357240655, 63.69923689325373, 38.7218968401965, 44.647634452278524, 14.08507108833745, 8.53026730239495, 7.681808425935276, 24.46325591508948, 86.25310602042379, 17.56228415089078, 42.79933918224092, 6.54058038965946, 178.96348659765582, 15.274925035037747, 6.582052561949334, 39.18879432659848, 44.26870293721183, 14.200213709670633, 16.727911841201074, 11.288589213226958, 13.847604852468391, 12.51844881829033, 56.5803967216189, 6.555134117859648, 126.01876677341151, 140.37877168753525, 77.143333809785, 209.59376111391057, 76.35256578376423, 139.89935790881245, 32.269862907006704, 65.00702112877767, 68.38983984919953, 40.63569608019173, 100.68554629866324, 115.44191832088488, 72.37548329664905, 102.766203934451, 51.26653060653357, 73.23492261843478, 85.15438823982066, 98.041984481893, 62.68156134037322, 64.13821371411491, 83.0847932927223, 73.00604125085452, 69.39586362139264, 62.72109935914699, 66.67719640015218, 61.10893817375573, 60.581861497014266, 69.35414519717179, 21.903413438835855, 26.515744356828346, 15.155711608221628, 45.357713704204755, 24.67515638727573, 15.125178597234154, 9.149657110009926, 11.594329607879171, 13.901144744454882, 23.756203968348544, 20.204403794679504, 35.394118866721286, 15.278442860447496, 10.244034404500862, 9.395601366904064, 8.495511620750168, 23.734682022093203, 12.07095528666851, 27.021415578587767, 48.126382613250264, 31.31088793879176, 12.353923824602578, 48.94057176961756, 43.8319771080361, 7.218617137119651, 7.213418340048378, 8.37992315140362, 45.816485178666895, 55.39230692258992, 10.143504140068194, 98.05657850865957, 119.88012932165357, 14.395968736458851, 107.29395860912392, 31.167232113339125, 30.576704557563488, 80.0126609872656, 31.040100855472666, 36.19405916227793, 34.128818558537866, 27.158097463921848, 54.1477192165586, 93.16747943607263, 97.90092016521342, 167.805890030167, 42.075682051548014, 130.1450130542378, 58.697752661571, 80.52124474664822, 81.97503964475177, 74.50920917716115, 50.30156921820675, 61.83238458407988, 43.07004478612558, 66.91382492513657, 41.45999692441839, 52.77336850788978, 53.91168437799871, 42.81826352487695, 48.215880287940124, 43.714066133105334, 53.48519071094814, 37.31833100790268, 17.302080253867896, 15.527062255296642, 10.522851698367257, 13.402692334092796, 61.85980816799463, 261.7396058922716, 106.65342454937917, 97.05802731754851, 10.996885908218468, 7.026220389446618, 28.88742862311896, 27.678620713802516, 130.60621014366325, 21.098612908300677, 17.189218312624188, 6.467167770690829, 30.041569029645487, 8.179249500897896, 102.40326991652661, 16.453972712087985, 110.96878002807576, 51.76417754557779, 20.526020744987445, 21.300734435095478, 21.85608441034183, 13.794369310227838, 8.74814312815782, 5.3322876823431935, 20.69369805744176, 101.56414401215157, 30.826516674894116, 100.59459450965582, 24.96508732571984, 31.218674679780417, 118.45919544440551, 89.5947904820488, 43.72033626900671, 81.6300277764339, 72.2242745324423, 57.13946116592471, 38.93094019108272, 72.42915809529269, 81.75290095741914, 56.6747563580974, 73.47045116486397, 75.15854626403825, 47.80529449290765, 83.65131241475213, 46.67763166136493, 59.68087753786025, 61.41621020806878, 60.347413612249156, 58.303901246889914, 50.41776437928883, 54.50498261682945, 46.918065713406904, 20.170812532030496, 9.014312615916674, 9.673316964807658, 10.529131811814487, 43.62486121215156, 58.811413611225184, 20.293150739517962, 101.32007828344621, 22.28796996036571, 27.337615095061754, 9.758767516876246, 47.603351296148425, 16.54719136790652, 14.773077435663245, 20.061788298019678, 25.65918985016865, 224.6153452298849, 14.647757150357316, 13.21438917011045, 40.06932833566897, 16.603895652301016, 7.515736368091831, 23.972565135881542, 8.910972915888689, 8.958628079334892, 16.023040992171815, 50.27318548736325, 16.012212913281733, 11.854633042345682, 7.853774055758952, 44.39550180979251, 34.66062244550213, 59.7292032374242, 268.95218125501503, 68.40535370499686, 26.08412183375637, 37.7936395350045, 143.54027961508407, 60.96008946137792, 58.386302404262736, 115.19376635938298, 51.30255494013871, 39.69188722743395, 91.83638047884327, 47.93423083541825, 93.28504301680515, 70.41315998260994, 61.30356774010115, 81.0614977415433, 76.61834450694165, 67.94901116551159, 44.573600060005745, 66.52707946199591, 54.300188683739066, 55.941430056802275, 52.91942857214108, 53.67354411084143, 54.80103836128287, 51.60316896173845, 44.64126352186999, 27.263977733674682, 11.946934434917106, 14.095143771157336, 10.437428643230929, 14.449957691073008, 7.199570396505115, 96.71291827158741, 12.97354156069452, 6.134851187498193, 8.521315057980898, 7.175903974635374, 12.276862927172186, 13.373890217018472, 6.024905719927029, 18.617700119350967, 127.94451487268947, 52.89177460803744, 7.301571960479436, 16.457349131243316, 6.632450531958805, 7.684848632555729, 53.36452925675008, 6.49179438290423, 6.797918909294766, 11.5432292328659, 6.405329387166914, 20.0789202947328, 5.499284590533769, 25.12658891857068, 11.254189677709656, 14.183756342229817, 68.71006128164154, 24.488517013821085, 236.79351241379845, 36.193957251648165, 100.78049915577003, 90.66134141333765, 41.69755411206192, 22.87429124573111, 99.60172468823993, 32.65139301166277, 36.8833537275744, 40.05308991654795, 44.967115364113475, 56.94473922908132, 67.32786810056133, 42.67817077626372, 35.57113443047691, 40.45930869083036, 43.17001393405771, 35.70653911439085, 30.739276466708066, 33.781995203862785, 34.040894324312355, 29.68116055008684, 28.61571288919328, 31.171030017982762, 29.98920951176947, 29.690534793166123, 21.215629464287538, 26.86008859954581, 40.74001049929406, 135.04134402593147, 21.974325120032297, 22.727029902224363, 32.70402180917079, 13.637693176381857, 51.19501228655787, 11.491281219991636, 7.725343862903065, 61.40851957205763, 32.558507753042576, 11.151437324742423, 8.425565852616359, 50.23095941556902, 5.396414603936561, 9.414303558337574, 6.994644650648885, 6.404883783340906, 84.60727572921162, 9.294562788264487, 5.666161414295037, 7.04738096621682, 4.890136606425662, 5.907548768887458, 54.28470110170631, 13.362083717774446, 5.745829142177597, 38.781165814634925, 82.13117602423414, 170.48536609629204, 40.51628720492556, 13.35986231685, 77.30732370279937, 31.2538627131141, 47.88507572682678, 38.98104271552667, 76.1178706549308, 35.42535855537175, 113.070098655204, 37.92683633142703, 39.324445302082886, 51.023080304833734, 79.85575887319847, 54.183615064067, 91.23619839339922, 79.18660780674757, 58.46495373685432, 43.59777428466293, 52.95768279553511, 51.11875160453175, 47.632925058266494, 41.039872690925286, 42.18627950896645, 39.71348672871782, 42.20396640383351, 16.01089116401299, 112.5243176332989, 20.70006794296975, 18.071325069068347, 9.887872722539752, 34.97237104228268, 70.66352503388613, 35.93579640633164, 66.33743170262395, 9.859257511793022, 9.012607329784158, 10.16707320935661, 6.8560643655583124, 7.698725216378624, 7.708079361864006, 13.724277935709447, 12.061618904546343, 6.398575349892248, 16.666469642843836, 6.906588365892097, 5.823615882577406, 47.15593152515697, 6.587808594607716, 5.870246803277128, 4.92391980196352, 19.44887731690899, 9.489703163502275, 36.92520216203798, 11.07898732249055, 7.077685451781917, 23.2919964792929, 19.923796467428396, 26.354520911956193, 135.53764919308372, 20.373060008072045, 18.11484582780627, 49.039652953353105, 77.81225166093516, 40.50191422857929, 59.46353929075798, 55.25782170247921, 103.90086663039392, 23.476358535002156, 28.977378998079253, 47.05264231510891, 47.76919265854009, 43.575920019853974, 48.89859441823644, 44.2773196158032, 43.119496223905465, 22.879738703900113, 41.71533768044417, 29.156206858264504, 37.70153386201566, 26.21715542531008, 33.33905851859314, 29.980139522541336, 28.067131811307966, 31.033761734355185, 28.102993312268595, 28.341929461654697, 9.43988787278307, 11.053742660809514, 11.114522376301526, 19.212891744130154, 9.033524832455644, 14.676895867269735, 68.58097391558148, 7.518209719390301, 9.813230697507823, 9.53078496074607, 58.34363513668012, 16.602771793816764, 5.2923490038838645, 14.316586338231652, 20.11513698721047, 24.81552498039622, 10.298163491961722, 13.332550515076822, 71.67799055422084, 31.222374757168787, 15.120954870524589, 33.41336235720241, 11.698776803459886, 10.974149961962503, 7.762444021080503, 6.81979496140393, 18.948720019849137, 7.614174033522719, 6.782083499314068, 8.824671118814669, 61.23151507697087, 37.57186963337391, 45.613163085558874, 102.87724056104055, 34.661370915391544, 37.03221879585799, 32.98829532763, 111.16363276820105, 82.03554283683953, 84.36868075513505, 55.38155920590671, 61.24459437017186, 58.872718545255054, 41.16657137733814, 27.981351900559485, 51.47965806285731, 34.995788843599875, 28.324227371726067, 36.88409880019472, 37.8937722379046, 28.97344628823318, 28.857784538541157, 35.51663669722043, 32.793307864663184, 27.810925110345167, 10.215188659719194, 23.803082611306845, 8.539205083251852, 62.19051963230782, 29.89247501712331, 8.933374347812276, 26.379212574166857, 22.006165427223376, 30.936669237402455, 6.181574069423403, 8.47327509584487, 58.45515284202372, 16.748824591299137, 36.71591939836127, 4.618066577466421, 4.611876483783656, 6.731624279677938, 5.660196675986641, 5.049885619781133, 8.528217383015692, 13.677375068513292, 5.300078605666458, 9.796444533938692, 15.594968412891529, 30.280596541225723, 3.5485751290713727, 5.948163998697914, 83.27853856218725, 8.384371720996286, 3.245030350422645, 31.465411517225203, 17.188067581444145, 181.11603208422218, 39.3471794334971, 25.118471839909482, 16.639956176678872, 48.54326438599796, 16.78166729752498, 16.131550720847773, 34.68398764098182, 41.60167288579862, 25.673255673486075, 33.58235843770266, 20.691846876598404, 30.730565998295507, 21.16348431175088, 30.895174786782817, 21.860856101462222, 22.607236774784976, 22.63871955339562, 25.1096519975588, 25.848077548651442, 23.372090050613508, 23.454783644631224, 21.64860138577071, 21.26043442978806, 9.382179195587032, 8.331549185528704, 11.52915099860586, 21.152698159322657, 12.471318650902175, 5.524037367828851, 4.516793196131555, 8.169264712115128, 3.9774963548273776, 3.514011532391807, 3.473428534676952, 19.83909007615496, 5.594573228562156, 4.3818357303595565, 20.12231746778034, 5.506733786625869, 3.845352403910404, 7.516371562921852, 10.43730132592423, 4.597248840178826, 4.852144815542862, 14.668866921423817, 7.247774724006056, 4.54856480660616, 6.290341575738297, 4.574551684543203, 3.658954892706772, 2.3513784261974346, 2.7582391531585597, 3.965691368498939, 6.26286685081942, 5.339521272017198, 17.597840905946583, 13.210655675307052, 23.55046979614202, 18.096449040435367, 17.372375446026027, 21.1099903053882, 19.777704422710535, 7.774518695703724, 12.685541069940797, 11.882103699750653, 12.371204213118773, 10.749939950551298, 13.632848870291916, 10.44565200053738, 9.80269688411191, 13.893353281582845, 10.19161615980899, 11.058330240056437, 8.613466059770873, 9.942578603456507, 9.471231021050983, 9.271763113276322, 9.208584881403885, 8.662806385023098], \"Total\": [360.0, 865.0, 355.0, 273.0, 648.0, 573.0, 165.0, 123.0, 601.0, 369.0, 236.0, 139.0, 583.0, 302.0, 151.0, 196.0, 235.0, 165.0, 480.0, 87.0, 622.0, 146.0, 119.0, 90.0, 71.0, 123.0, 101.0, 104.0, 91.0, 212.0, 39.7895272513511, 22.75831255050037, 21.814231120125335, 81.5374853418267, 11.390347520449046, 11.400861376041332, 20.9242888095099, 74.1139487612001, 45.7531084371136, 53.32950102606249, 17.194604219127946, 10.43894712037393, 9.499660301535826, 32.193108069901974, 117.30950381398996, 23.961233147347922, 61.278017964513616, 9.54689861722088, 273.3297610363369, 24.168858756836077, 10.467839167039815, 62.79199531469554, 71.2995632360053, 22.875600005537986, 26.952465083038742, 18.30162330270741, 23.128228931930877, 20.95487261404839, 96.69125934089624, 11.626302222488933, 225.27276663007345, 302.77680229681187, 162.9862010569309, 601.4396085365825, 188.02079865026843, 480.6009527102454, 75.38508200641698, 212.08163924060415, 230.3333894958117, 106.27724819037518, 412.4524298452616, 512.180505796657, 265.1012343358843, 476.5363714630224, 154.9886053433016, 290.55018681588535, 428.1639321786298, 648.2211865095152, 259.33098197204777, 304.81906555700834, 573.4481467812499, 448.2128704662358, 394.4376416065669, 319.0180241058621, 512.6082745379583, 343.35050108775533, 373.3651025063507, 865.8056955155793, 23.13733631884677, 28.14042414752289, 16.090679318994944, 50.20186079178916, 28.95738543135915, 18.106456466418457, 10.9866527424566, 14.09274156663515, 16.94846284652466, 29.180834258119344, 24.908529063662204, 44.06511368729416, 19.066317851771505, 12.966278997232275, 11.961751255986336, 10.99392103834941, 31.094029517214253, 15.94536223333883, 35.903873123809426, 69.60089151743848, 45.34271848204669, 18.10605980248203, 73.3663283819846, 66.5607757231943, 10.979943006690267, 11.048256567345202, 12.926130364532188, 70.84112242988483, 86.02885751240849, 15.823038903623528, 170.28835097289667, 212.4716713970318, 22.893258800636374, 196.81212333653113, 53.02167525088071, 53.21108262196586, 175.75308161112855, 55.92863112485446, 70.67425652810647, 66.85632374340635, 49.33085502137024, 131.43270426597425, 296.65434515520667, 349.35453462596234, 865.8056955155793, 95.49576524547982, 622.4441085921228, 174.04892832760083, 343.35050108775533, 512.6082745379583, 412.4524298452616, 179.30170158912668, 304.81906555700834, 124.31411500705637, 448.2128704662358, 124.09349448072344, 331.029797443405, 373.3651025063507, 212.08163924060415, 428.1639321786298, 282.0508167049899, 55.52402817681961, 44.60235284833452, 20.862067128678238, 18.974026662204047, 13.289097565081919, 17.078499221430988, 81.96597239903352, 360.70474455295385, 151.64145499059023, 138.02797461451343, 16.18562445422605, 10.557784364220282, 44.12226149884773, 42.300172388948496, 207.3938761511237, 33.70196015384808, 27.943094284657153, 10.537468301029586, 48.99964305302055, 13.37145943287184, 174.14602419822046, 28.806316347163985, 196.66984040307284, 92.02144429211654, 36.79617581299143, 40.455679547057365, 42.36827363046792, 27.02576368826749, 17.40128521340302, 10.65087864297435, 42.942241224541505, 235.93507804628038, 75.00568236380643, 355.23468829171964, 58.16111849427524, 84.4984829118976, 583.0819950114626, 394.8608819140223, 139.11592029568533, 369.13572322515364, 331.029797443405, 230.3333894958117, 122.75368685839615, 394.4376416065669, 512.180505796657, 259.33098197204777, 448.2128704662358, 476.5363714630224, 204.32599175681688, 865.8056955155793, 218.46599414736278, 428.1639321786298, 512.6082745379583, 573.4481467812499, 601.4396085365825, 349.35453462596234, 622.4441085921228, 324.06245967436604, 21.87858352385069, 9.935634370961587, 10.914912728148263, 11.912571553231105, 49.56346950618967, 68.34361711244667, 24.759864160709398, 123.843622013435, 27.619068301358496, 34.72500219879107, 12.81241894365761, 70.4912570334954, 24.726922792435886, 22.88830820671921, 31.366059299214367, 40.56485631326442, 355.23468829171964, 23.59264569630135, 21.759669142038245, 66.18104617091905, 27.91817665515645, 12.99827305126744, 41.57855887973664, 15.715283781738384, 15.95929768965221, 28.606821083102858, 92.53400190460945, 30.166447600772475, 22.338223400781043, 14.875704511589472, 84.4984829118976, 68.49357838504257, 122.75368685839615, 622.4441085921228, 150.33120872324176, 52.33479895205412, 84.76214331734879, 573.4481467812499, 207.35951292682347, 196.66984040307284, 583.0819950114626, 162.9862010569309, 115.48886795124562, 480.6009527102454, 162.18360748190625, 512.6082745379583, 319.0180241058621, 269.7398115947417, 512.180505796657, 476.5363714630224, 369.13572322515364, 186.84310224910962, 601.4396085365825, 394.4376416065669, 448.2128704662358, 373.3651025063507, 428.1639321786298, 648.2211865095152, 865.8056955155793, 349.35453462596234, 31.426118020684513, 14.118635279947108, 17.157991408699676, 13.03885934031701, 18.070483422739496, 10.916686575627182, 146.93112512110923, 20.19099912439031, 9.903577141285522, 13.960478322312403, 12.042756839414476, 20.924618275737988, 24.058337464557205, 10.998629145177059, 34.2705950337708, 236.60683985673043, 98.88678316546809, 13.795068071248965, 31.2108023100927, 12.777231966300462, 15.027893464906152, 106.2120552136445, 12.936699317323072, 13.806295076496085, 24.104648311717913, 13.810013621020275, 43.907594740526285, 12.091531511017003, 55.580746798085826, 24.926333988342037, 31.489635279164197, 165.8711244378827, 56.88605175851336, 648.2211865095152, 106.37506947675203, 394.8608819140223, 369.13572322515364, 146.0986148430266, 65.33372262320422, 512.6082745379583, 131.43270426597425, 162.18360748190625, 188.02079865026843, 237.93949887463447, 394.4376416065669, 865.8056955155793, 343.35050108775533, 235.63137191206326, 331.029797443405, 448.2128704662358, 296.65434515520667, 212.4716713970318, 304.81906555700834, 324.06245967436604, 282.0508167049899, 242.33568338448387, 480.6009527102454, 349.35453462596234, 428.1639321786298, 22.40321480531401, 31.508649774894256, 48.73374116396436, 165.03592119813095, 27.43018315400468, 32.198720031425445, 47.76757807516125, 21.003964899686494, 84.8427278192014, 19.119689276865522, 12.895764662091823, 102.68860981984206, 55.89169906955319, 21.917505937173768, 17.974524552673923, 108.2436368911692, 11.974696590627776, 20.993334819289693, 15.741797625575813, 14.863515877312393, 200.8100905487469, 22.077218421931054, 13.812990167333325, 17.22418716469977, 11.98403374629118, 15.122007152699757, 139.75265400284482, 34.58730639098746, 14.887138089729472, 104.09211915545359, 235.93507804628038, 573.4481467812499, 122.27126128444591, 37.32660917584818, 296.65434515520667, 101.78772215071248, 174.04892832760083, 137.96670115387087, 319.0180241058621, 124.52403007008029, 601.4396085365825, 139.11592029568533, 150.33120872324176, 235.63137191206326, 476.5363714630224, 259.33098197204777, 648.2211865095152, 512.180505796657, 428.1639321786298, 207.35951292682347, 412.4524298452616, 394.4376416065669, 448.2128704662358, 269.7398115947417, 373.3651025063507, 236.60683985673043, 583.0819950114626, 17.21355439496312, 123.35720744883814, 23.246928317127534, 21.170290371326473, 12.146357349436332, 44.06306972956495, 90.65889547714379, 48.28407877992767, 91.18860904729253, 14.073168885314551, 13.870954457812893, 16.036573449513668, 10.95567959911443, 12.847240806329966, 12.917047937465716, 23.794145249102325, 22.72149955788167, 12.081001127058586, 32.106828635429885, 14.07952439280404, 12.025998870623617, 98.66139582469741, 14.184036693391835, 13.018073353714112, 10.953959573714938, 44.16707662123378, 21.65257877152133, 88.00548505203851, 26.74501365918611, 17.74069139431445, 58.992640597269336, 51.141491133250796, 74.67857497081707, 583.0819950114626, 56.75588337071372, 50.0088473709209, 179.4170665051845, 360.70474455295385, 151.64145499059023, 265.1012343358843, 290.55018681588535, 865.8056955155793, 78.30189586582416, 116.90761546757872, 296.65434515520667, 324.06245967436604, 282.0508167049899, 373.3651025063507, 349.35453462596234, 476.5363714630224, 80.50114820755788, 512.180505796657, 170.28835097289667, 480.6009527102454, 143.68024907921105, 412.4524298452616, 302.77680229681187, 218.46599414736278, 622.4441085921228, 343.35050108775533, 512.6082745379583, 10.622707436539569, 13.473430800567845, 15.492151010201775, 26.820940126667832, 13.588550428723348, 22.180793353490863, 104.04637916274143, 11.748711367759594, 15.469285836030405, 16.24911931035066, 101.78772215071248, 29.29031527840234, 9.622378763902791, 26.324805965681755, 37.14681964780386, 45.91877970330228, 19.670021332398203, 25.97397696657431, 139.75265400284482, 61.165722824755626, 29.92490430670053, 66.24225387801599, 24.284968450144238, 22.860470010365443, 16.278621166837663, 14.639015241586016, 42.942241224541505, 17.283184297471294, 15.459604892852704, 21.482718440147455, 149.84902001286105, 115.47797615572628, 147.9774662734566, 480.6009527102454, 122.27126128444591, 137.96670115387087, 124.52403007008029, 865.8056955155793, 573.4481467812499, 601.4396085365825, 331.029797443405, 394.8608819140223, 369.13572322515364, 349.35453462596234, 146.0986148430266, 648.2211865095152, 259.33098197204777, 153.15505164625196, 428.1639321786298, 512.180505796657, 213.56487835867992, 212.4716713970318, 476.5363714630224, 448.2128704662358, 235.63137191206326, 11.800469767606076, 27.61022961197725, 11.861617435795578, 87.18933331259075, 43.87511670951726, 13.774532482424632, 41.46690390539254, 39.44943301744488, 56.88605175851336, 11.916504841687013, 16.537201667165547, 119.87790220971235, 40.34473914742236, 89.30413766305517, 11.844240980691726, 11.8964751948779, 17.400746179383997, 14.749417909342268, 13.49442734506547, 22.942845543327234, 37.535571266674076, 14.639015241586016, 27.675903311468172, 44.592332708376475, 86.58939270677014, 10.836368815168846, 18.43913811081874, 273.3297610363369, 27.608862710939526, 10.768278235271467, 106.37506947675203, 61.278017964513616, 865.8056955155793, 165.8711244378827, 108.20296320265922, 64.48443503604496, 302.77680229681187, 73.8027866859087, 71.39666759631301, 290.55018681588535, 412.4524298452616, 174.04892832760083, 324.06245967436604, 124.09349448072344, 448.2128704662358, 156.34157974093145, 601.4396085365825, 207.35951292682347, 237.93949887463447, 242.4803120623929, 394.4376416065669, 583.0819950114626, 373.3651025063507, 512.180505796657, 343.35050108775533, 480.6009527102454, 13.347830958426785, 13.288716120194113, 20.141678894915714, 45.144771447667836, 27.99174216466411, 13.42994905936753, 11.576419308025292, 22.07108689221441, 11.645754965019117, 10.714229121719434, 10.695007367580017, 71.2995632360053, 20.19648081024137, 16.15223800340547, 74.67857497081707, 20.693092927380626, 14.767213591124937, 29.771364359703604, 42.0821761008149, 18.561747931948712, 19.671133912990978, 62.79199531469554, 31.366059299214367, 20.171194042008977, 28.191495359219175, 20.52225457810612, 16.616072563846792, 10.77265816080173, 12.653826804817578, 18.241318199802535, 29.748725974595143, 27.245974338555207, 143.8889062004308, 106.37506947675203, 304.81906555700834, 369.13572322515364, 355.23468829171964, 648.2211865095152, 583.0819950114626, 72.35445697008566, 302.77680229681187, 265.1012343358843, 343.35050108775533, 230.3333894958117, 573.4481467812499, 237.93949887463447, 196.66984040307284, 865.8056955155793, 242.33568338448387, 428.1639321786298, 147.9774662734566, 412.4524298452616, 601.4396085365825, 512.180505796657, 512.6082745379583, 324.06245967436604], \"Category\": [\"Default\", \"Default\", \"Default\", \"Default\", \"Default\", \"Default\", \"Default\", \"Default\", \"Default\", \"Default\", \"Default\", \"Default\", \"Default\", \"Default\", \"Default\", \"Default\", \"Default\", \"Default\", \"Default\", \"Default\", \"Default\", \"Default\", \"Default\", \"Default\", \"Default\", \"Default\", \"Default\", \"Default\", \"Default\", \"Default\", \"Topic1\", \"Topic1\", \"Topic1\", \"Topic1\", \"Topic1\", \"Topic1\", \"Topic1\", \"Topic1\", \"Topic1\", \"Topic1\", \"Topic1\", \"Topic1\", \"Topic1\", \"Topic1\", \"Topic1\", \"Topic1\", \"Topic1\", \"Topic1\", \"Topic1\", \"Topic1\", \"Topic1\", \"Topic1\", \"Topic1\", \"Topic1\", \"Topic1\", \"Topic1\", \"Topic1\", \"Topic1\", \"Topic1\", \"Topic1\", \"Topic1\", \"Topic1\", \"Topic1\", \"Topic1\", \"Topic1\", \"Topic1\", \"Topic1\", \"Topic1\", \"Topic1\", \"Topic1\", \"Topic1\", \"Topic1\", \"Topic1\", \"Topic1\", \"Topic1\", \"Topic1\", \"Topic1\", \"Topic1\", \"Topic1\", \"Topic1\", \"Topic1\", \"Topic1\", \"Topic1\", \"Topic1\", \"Topic1\", \"Topic1\", \"Topic1\", \"Topic1\", \"Topic2\", \"Topic2\", \"Topic2\", \"Topic2\", \"Topic2\", \"Topic2\", \"Topic2\", \"Topic2\", \"Topic2\", \"Topic2\", \"Topic2\", \"Topic2\", \"Topic2\", \"Topic2\", \"Topic2\", \"Topic2\", \"Topic2\", \"Topic2\", \"Topic2\", \"Topic2\", \"Topic2\", \"Topic2\", \"Topic2\", \"Topic2\", \"Topic2\", \"Topic2\", \"Topic2\", \"Topic2\", \"Topic2\", \"Topic2\", \"Topic2\", \"Topic2\", \"Topic2\", \"Topic2\", \"Topic2\", \"Topic2\", \"Topic2\", \"Topic2\", \"Topic2\", \"Topic2\", \"Topic2\", \"Topic2\", \"Topic2\", \"Topic2\", \"Topic2\", \"Topic2\", \"Topic2\", \"Topic2\", \"Topic2\", \"Topic2\", \"Topic2\", \"Topic2\", \"Topic2\", \"Topic2\", \"Topic2\", \"Topic2\", \"Topic2\", \"Topic2\", \"Topic2\", \"Topic2\", \"Topic2\", \"Topic3\", \"Topic3\", \"Topic3\", \"Topic3\", \"Topic3\", \"Topic3\", \"Topic3\", \"Topic3\", \"Topic3\", \"Topic3\", \"Topic3\", \"Topic3\", \"Topic3\", \"Topic3\", \"Topic3\", \"Topic3\", \"Topic3\", \"Topic3\", \"Topic3\", \"Topic3\", \"Topic3\", \"Topic3\", \"Topic3\", \"Topic3\", \"Topic3\", \"Topic3\", \"Topic3\", \"Topic3\", \"Topic3\", \"Topic3\", \"Topic3\", \"Topic3\", \"Topic3\", \"Topic3\", \"Topic3\", \"Topic3\", \"Topic3\", \"Topic3\", \"Topic3\", \"Topic3\", \"Topic3\", \"Topic3\", \"Topic3\", \"Topic3\", \"Topic3\", \"Topic3\", \"Topic3\", \"Topic3\", \"Topic3\", \"Topic3\", \"Topic3\", \"Topic3\", \"Topic3\", \"Topic3\", \"Topic3\", \"Topic3\", \"Topic3\", \"Topic3\", \"Topic4\", \"Topic4\", \"Topic4\", \"Topic4\", \"Topic4\", \"Topic4\", \"Topic4\", \"Topic4\", \"Topic4\", \"Topic4\", \"Topic4\", \"Topic4\", \"Topic4\", \"Topic4\", \"Topic4\", \"Topic4\", \"Topic4\", \"Topic4\", \"Topic4\", \"Topic4\", \"Topic4\", \"Topic4\", \"Topic4\", \"Topic4\", \"Topic4\", \"Topic4\", \"Topic4\", \"Topic4\", \"Topic4\", \"Topic4\", \"Topic4\", \"Topic4\", \"Topic4\", \"Topic4\", \"Topic4\", \"Topic4\", \"Topic4\", \"Topic4\", \"Topic4\", \"Topic4\", \"Topic4\", \"Topic4\", \"Topic4\", \"Topic4\", \"Topic4\", \"Topic4\", \"Topic4\", \"Topic4\", \"Topic4\", \"Topic4\", \"Topic4\", \"Topic4\", \"Topic4\", \"Topic4\", \"Topic4\", \"Topic4\", \"Topic4\", \"Topic4\", \"Topic4\", \"Topic4\", \"Topic5\", \"Topic5\", \"Topic5\", \"Topic5\", \"Topic5\", \"Topic5\", \"Topic5\", \"Topic5\", \"Topic5\", \"Topic5\", \"Topic5\", \"Topic5\", \"Topic5\", \"Topic5\", \"Topic5\", \"Topic5\", \"Topic5\", \"Topic5\", \"Topic5\", \"Topic5\", \"Topic5\", \"Topic5\", \"Topic5\", \"Topic5\", \"Topic5\", \"Topic5\", \"Topic5\", \"Topic5\", \"Topic5\", \"Topic5\", \"Topic5\", \"Topic5\", \"Topic5\", \"Topic5\", \"Topic5\", \"Topic5\", \"Topic5\", \"Topic5\", \"Topic5\", \"Topic5\", \"Topic5\", \"Topic5\", \"Topic5\", \"Topic5\", \"Topic5\", \"Topic5\", \"Topic5\", \"Topic5\", \"Topic5\", \"Topic5\", \"Topic5\", \"Topic5\", \"Topic5\", \"Topic5\", \"Topic5\", \"Topic5\", \"Topic5\", \"Topic5\", \"Topic5\", \"Topic6\", \"Topic6\", \"Topic6\", \"Topic6\", \"Topic6\", \"Topic6\", \"Topic6\", \"Topic6\", \"Topic6\", \"Topic6\", \"Topic6\", \"Topic6\", \"Topic6\", \"Topic6\", \"Topic6\", \"Topic6\", \"Topic6\", \"Topic6\", \"Topic6\", \"Topic6\", \"Topic6\", \"Topic6\", \"Topic6\", \"Topic6\", \"Topic6\", \"Topic6\", \"Topic6\", \"Topic6\", \"Topic6\", \"Topic6\", \"Topic6\", \"Topic6\", \"Topic6\", \"Topic6\", \"Topic6\", \"Topic6\", \"Topic6\", \"Topic6\", \"Topic6\", \"Topic6\", \"Topic6\", \"Topic6\", \"Topic6\", \"Topic6\", \"Topic6\", \"Topic6\", \"Topic6\", \"Topic6\", \"Topic6\", \"Topic6\", \"Topic6\", \"Topic6\", \"Topic6\", \"Topic6\", \"Topic6\", \"Topic6\", \"Topic6\", \"Topic7\", \"Topic7\", \"Topic7\", \"Topic7\", \"Topic7\", \"Topic7\", \"Topic7\", \"Topic7\", \"Topic7\", \"Topic7\", \"Topic7\", \"Topic7\", \"Topic7\", \"Topic7\", \"Topic7\", \"Topic7\", \"Topic7\", \"Topic7\", \"Topic7\", \"Topic7\", \"Topic7\", \"Topic7\", \"Topic7\", \"Topic7\", \"Topic7\", \"Topic7\", \"Topic7\", \"Topic7\", \"Topic7\", \"Topic7\", \"Topic7\", \"Topic7\", \"Topic7\", \"Topic7\", \"Topic7\", \"Topic7\", \"Topic7\", \"Topic7\", \"Topic7\", \"Topic7\", \"Topic7\", \"Topic7\", \"Topic7\", \"Topic7\", \"Topic7\", \"Topic7\", \"Topic7\", \"Topic7\", \"Topic7\", \"Topic7\", \"Topic7\", \"Topic7\", \"Topic7\", \"Topic7\", \"Topic7\", \"Topic7\", \"Topic7\", \"Topic7\", \"Topic7\", \"Topic7\", \"Topic7\", \"Topic8\", \"Topic8\", \"Topic8\", \"Topic8\", \"Topic8\", \"Topic8\", \"Topic8\", \"Topic8\", \"Topic8\", \"Topic8\", \"Topic8\", \"Topic8\", \"Topic8\", \"Topic8\", \"Topic8\", \"Topic8\", \"Topic8\", \"Topic8\", \"Topic8\", \"Topic8\", \"Topic8\", \"Topic8\", \"Topic8\", \"Topic8\", \"Topic8\", \"Topic8\", \"Topic8\", \"Topic8\", \"Topic8\", \"Topic8\", \"Topic8\", \"Topic8\", \"Topic8\", \"Topic8\", \"Topic8\", \"Topic8\", \"Topic8\", \"Topic8\", \"Topic8\", \"Topic8\", \"Topic8\", \"Topic8\", \"Topic8\", \"Topic8\", \"Topic8\", \"Topic8\", \"Topic8\", \"Topic8\", \"Topic8\", \"Topic8\", \"Topic8\", \"Topic8\", \"Topic8\", \"Topic8\", \"Topic8\", \"Topic9\", \"Topic9\", \"Topic9\", \"Topic9\", \"Topic9\", \"Topic9\", \"Topic9\", \"Topic9\", \"Topic9\", \"Topic9\", \"Topic9\", \"Topic9\", \"Topic9\", \"Topic9\", \"Topic9\", \"Topic9\", \"Topic9\", \"Topic9\", \"Topic9\", \"Topic9\", \"Topic9\", \"Topic9\", \"Topic9\", \"Topic9\", \"Topic9\", \"Topic9\", \"Topic9\", \"Topic9\", \"Topic9\", \"Topic9\", \"Topic9\", \"Topic9\", \"Topic9\", \"Topic9\", \"Topic9\", \"Topic9\", \"Topic9\", \"Topic9\", \"Topic9\", \"Topic9\", \"Topic9\", \"Topic9\", \"Topic9\", \"Topic9\", \"Topic9\", \"Topic9\", \"Topic9\", \"Topic9\", \"Topic9\", \"Topic9\", \"Topic9\", \"Topic9\", \"Topic9\", \"Topic9\", \"Topic9\", \"Topic9\", \"Topic10\", \"Topic10\", \"Topic10\", \"Topic10\", \"Topic10\", \"Topic10\", \"Topic10\", \"Topic10\", \"Topic10\", \"Topic10\", \"Topic10\", \"Topic10\", \"Topic10\", \"Topic10\", \"Topic10\", \"Topic10\", \"Topic10\", \"Topic10\", \"Topic10\", \"Topic10\", \"Topic10\", \"Topic10\", \"Topic10\", \"Topic10\", \"Topic10\", \"Topic10\", \"Topic10\", \"Topic10\", \"Topic10\", \"Topic10\", \"Topic10\", \"Topic10\", \"Topic10\", \"Topic10\", \"Topic10\", \"Topic10\", \"Topic10\", \"Topic10\", \"Topic10\", \"Topic10\", \"Topic10\", \"Topic10\", \"Topic10\", \"Topic10\", \"Topic10\", \"Topic10\", \"Topic10\", \"Topic10\", \"Topic10\", \"Topic10\", \"Topic10\", \"Topic10\", \"Topic10\", \"Topic10\", \"Topic10\", \"Topic10\"], \"logprob\": [30.0, 29.0, 28.0, 27.0, 26.0, 25.0, 24.0, 23.0, 22.0, 21.0, 20.0, 19.0, 18.0, 17.0, 16.0, 15.0, 14.0, 13.0, 12.0, 11.0, 10.0, 9.0, 8.0, 7.0, 6.0, 5.0, 4.0, 3.0, 2.0, 1.0, -5.3738, -5.9406, -5.9888, -4.6729, -6.6736, -6.6882, -6.1133, -4.8595, -5.3573, -5.2149, -6.3686, -6.8701, -6.9748, -5.8165, -4.5564, -6.1479, -5.2572, -7.1357, -3.8265, -6.2875, -7.1293, -5.3453, -5.2234, -6.3604, -6.1966, -6.5899, -6.3856, -6.4865, -4.978, -7.1334, -4.1773, -4.0693, -4.668, -3.6685, -4.6783, -4.0728, -5.5395, -4.8392, -4.7885, -5.309, -4.4017, -4.2649, -4.7318, -4.3812, -5.0766, -4.72, -4.5692, -4.4283, -4.8756, -4.8526, -4.5938, -4.7231, -4.7739, -4.875, -4.8138, -4.901, -4.9097, -4.7745, -5.8857, -5.6946, -6.254, -5.1578, -5.7666, -6.256, -6.7587, -6.5219, -6.3404, -5.8045, -5.9665, -5.4058, -6.2459, -6.6457, -6.7321, -6.8328, -5.8054, -6.4816, -5.6757, -5.0985, -5.5284, -6.4584, -5.0818, -5.192, -6.9957, -6.9964, -6.8465, -5.1477, -4.9579, -6.6555, -4.3868, -4.1859, -6.3054, -4.2968, -5.533, -5.5521, -4.5902, -5.5371, -5.3835, -5.4422, -5.6707, -4.9807, -4.438, -4.3884, -3.8496, -5.2329, -4.1037, -4.9, -4.5839, -4.566, -4.6615, -5.0543, -4.848, -5.2096, -4.769, -5.2476, -5.0064, -4.985, -5.2154, -5.0967, -5.1947, -4.9877, -5.3476, -6.1162, -6.2245, -6.6135, -6.3716, -4.8422, -3.3997, -4.2975, -4.3918, -6.5695, -7.0174, -5.6037, -5.6464, -4.0949, -5.9179, -6.1228, -7.1003, -5.5645, -6.8655, -4.3382, -6.1665, -4.2578, -5.0204, -5.9454, -5.9083, -5.8826, -6.3428, -6.7982, -7.2933, -5.9372, -4.3464, -5.5387, -4.356, -5.7496, -5.5261, -4.1925, -4.4718, -5.1893, -4.5649, -4.6873, -4.9216, -5.3053, -4.6845, -4.5634, -4.9297, -4.6702, -4.6475, -5.0999, -4.5404, -5.1238, -4.8781, -4.8494, -4.867, -4.9014, -5.0467, -4.9688, -5.1187, -5.8675, -6.6729, -6.6023, -6.5176, -5.0961, -4.7974, -5.8614, -4.2534, -5.7677, -5.5634, -6.5935, -5.0088, -6.0655, -6.1789, -5.8729, -5.6268, -3.4573, -6.1874, -6.2904, -5.1811, -6.0621, -6.8547, -5.6948, -6.6844, -6.6791, -6.0977, -4.9542, -6.0983, -6.399, -6.8107, -5.0786, -5.3261, -4.7819, -3.2772, -4.6462, -5.6104, -5.2396, -3.9051, -4.7615, -4.8046, -4.1251, -4.934, -5.1906, -4.3517, -5.0019, -4.336, -4.6173, -4.7559, -4.4765, -4.5329, -4.6529, -5.0746, -4.6741, -4.8772, -4.8474, -4.9029, -4.8888, -4.868, -4.9281, -5.073, -5.2257, -6.0508, -5.8854, -6.1859, -5.8606, -6.5572, -3.9595, -5.9683, -6.7173, -6.3887, -6.5605, -6.0235, -5.9379, -6.7353, -5.6071, -3.6797, -4.563, -6.5432, -5.7305, -6.6393, -6.492, -4.5541, -6.6607, -6.6146, -6.0852, -6.6741, -5.5316, -6.8266, -5.3073, -6.1105, -5.8792, -4.3014, -5.333, -3.0641, -4.9424, -3.9183, -4.0241, -4.8008, -5.4012, -3.9301, -5.0454, -4.9235, -4.841, -4.7253, -4.4892, -4.3217, -4.7776, -4.9597, -4.831, -4.7661, -4.9559, -5.1057, -5.0113, -5.0037, -5.1407, -5.1773, -5.0918, -5.1304, -5.1404, -5.4683, -5.2324, -4.8159, -3.6175, -5.4332, -5.3995, -5.0356, -5.9102, -4.5874, -6.0815, -6.4786, -4.4055, -5.04, -6.1115, -6.3918, -4.6064, -6.8373, -6.2808, -6.5779, -6.666, -4.085, -6.2936, -6.7886, -6.5704, -6.9358, -6.7468, -4.5288, -5.9306, -6.7746, -4.8651, -4.1147, -3.3844, -4.8214, -5.9308, -4.1753, -5.0809, -4.6543, -4.86, -4.1908, -4.9556, -3.7951, -4.8874, -4.8512, -4.5908, -4.1428, -4.5307, -4.0096, -4.1513, -4.4546, -4.7481, -4.5536, -4.5889, -4.6595, -4.8085, -4.781, -4.8414, -4.7805, -5.6647, -3.7148, -5.4078, -5.5436, -6.1466, -4.8834, -4.18, -4.8562, -4.2432, -6.1495, -6.2393, -6.1188, -6.5128, -6.3969, -6.3957, -5.8188, -5.9479, -6.5819, -5.6245, -6.5054, -6.676, -4.5845, -6.5527, -6.668, -6.8438, -5.4701, -6.1877, -4.829, -6.0329, -6.481, -5.2898, -5.446, -5.1663, -3.5287, -5.4237, -5.5412, -4.5453, -4.0836, -4.7366, -4.3526, -4.4259, -3.7945, -5.2819, -5.0714, -4.5867, -4.5715, -4.6634, -4.5482, -4.6475, -4.674, -5.3077, -4.7071, -5.0653, -4.8082, -5.1715, -4.9312, -5.0374, -5.1033, -5.0029, -5.102, -5.0936, -6.1202, -5.9624, -5.9569, -5.4096, -6.1642, -5.6789, -4.1371, -6.3478, -6.0814, -6.1106, -4.2988, -5.5556, -6.6989, -5.7037, -5.3637, -5.1537, -6.0332, -5.7749, -4.093, -4.924, -5.6491, -4.8562, -5.9057, -5.9696, -6.3158, -6.4453, -5.4234, -6.3351, -6.4509, -6.1876, -4.2505, -4.7389, -4.5449, -3.7316, -4.8195, -4.7534, -4.869, -3.6541, -3.958, -3.9299, -4.3509, -4.2503, -4.2898, -4.6475, -5.0336, -4.424, -4.8099, -5.0214, -4.7574, -4.7304, -4.9988, -5.0028, -4.7951, -4.8749, -5.0397, -5.7632, -4.9173, -5.9424, -3.9569, -4.6895, -5.8973, -4.8145, -4.9957, -4.6551, -6.2655, -5.9502, -4.0188, -5.2687, -4.4839, -6.5571, -6.5584, -6.1803, -6.3536, -6.4677, -5.9437, -5.4713, -6.4193, -5.805, -5.3401, -4.6766, -6.8205, -6.304, -3.6649, -5.9607, -6.9099, -4.6382, -5.2429, -2.8879, -4.4146, -4.8635, -5.2753, -4.2046, -5.2668, -5.3063, -4.5408, -4.3589, -4.8416, -4.5731, -5.0573, -4.6618, -5.0348, -4.6565, -5.0024, -4.9688, -4.9674, -4.8638, -4.8348, -4.9355, -4.932, -5.0121, -5.0302, -5.0602, -5.179, -4.8542, -4.2473, -4.7756, -5.5899, -5.7912, -5.1987, -5.9184, -6.0423, -6.0539, -4.3114, -5.5772, -5.8216, -4.2972, -5.5931, -5.9522, -5.282, -4.9537, -5.7736, -5.7196, -4.6133, -5.3183, -5.7842, -5.46, -5.7785, -6.0019, -6.444, -6.2844, -5.9214, -5.4644, -5.6239, -4.4313, -4.718, -4.1399, -4.4033, -4.4442, -4.2493, -4.3145, -5.2482, -4.7586, -4.824, -4.7837, -4.9241, -4.6866, -4.9529, -5.0164, -4.6676, -4.9775, -4.8959, -5.1457, -5.0022, -5.0508, -5.0721, -5.0789, -5.14], \"loglift\": [30.0, 29.0, 28.0, 27.0, 26.0, 25.0, 24.0, 23.0, 22.0, 21.0, 20.0, 19.0, 18.0, 17.0, 16.0, 15.0, 14.0, 13.0, 12.0, 11.0, 10.0, 9.0, 8.0, 7.0, 6.0, 5.0, 4.0, 3.0, 2.0, 1.0, 1.8542, 1.8461, 1.8403, 1.8377, 1.8053, 1.7898, 1.7575, 1.7465, 1.7311, 1.7203, 1.6985, 1.696, 1.6855, 1.6234, 1.5904, 1.5873, 1.539, 1.5198, 1.4744, 1.4391, 1.434, 1.4265, 1.4213, 1.4211, 1.421, 1.4147, 1.385, 1.3828, 1.3621, 1.3249, 1.3171, 1.1293, 1.1499, 0.8438, 0.9968, 0.6638, 1.0495, 0.7155, 0.6836, 0.9365, 0.4878, 0.408, 0.5997, 0.3639, 0.7916, 0.5198, 0.2829, 0.0091, 0.4779, 0.3393, -0.0339, 0.0832, 0.1603, 0.2714, -0.1417, 0.1719, 0.0794, -0.6265, 1.8844, 1.8798, 1.8794, 1.8378, 1.7792, 1.7593, 1.7563, 1.7441, 1.741, 1.7336, 1.7299, 1.7201, 1.7178, 1.7036, 1.6978, 1.6814, 1.6692, 1.6609, 1.655, 1.5703, 1.569, 1.557, 1.5344, 1.5215, 1.5198, 1.5129, 1.5058, 1.5035, 1.499, 1.4946, 1.3873, 1.3669, 1.4754, 1.3326, 1.4079, 1.3852, 1.1524, 1.3505, 1.2701, 1.2668, 1.3424, 1.0525, 0.7811, 0.6671, 0.2984, 1.1196, 0.3742, 0.8523, 0.489, 0.1062, 0.2281, 0.6682, 0.344, 0.8793, 0.0374, 0.8429, 0.103, 0.004, 0.3392, -0.2446, 0.0748, 1.9071, 1.7663, 1.7574, 1.7441, 1.7112, 1.7022, 1.6631, 1.6238, 1.5926, 1.5924, 1.558, 1.5373, 1.521, 1.5204, 1.4821, 1.4762, 1.4587, 1.4564, 1.4553, 1.453, 1.4136, 1.3845, 1.3723, 1.3692, 1.3609, 1.3031, 1.2826, 1.272, 1.2569, 1.2527, 1.2145, 1.1017, 1.0554, 0.6829, 1.0988, 0.9488, 0.3508, 0.4613, 0.7871, 0.4356, 0.4221, 0.5505, 0.7962, 0.2497, 0.1096, 0.4238, 0.1362, 0.0976, 0.492, -0.3924, 0.4012, -0.0259, -0.1773, -0.307, -0.3891, 0.0088, -0.4908, 0.012, 1.9587, 1.9426, 1.9192, 1.9165, 1.9123, 1.8897, 1.841, 1.8392, 1.8255, 1.8007, 1.7677, 1.6473, 1.6383, 1.6021, 1.593, 1.5819, 1.5815, 1.5633, 1.5412, 1.5381, 1.5203, 1.4921, 1.4893, 1.4726, 1.4625, 1.4603, 1.4298, 1.4065, 1.4063, 1.4012, 1.3963, 1.3588, 1.3196, 1.2008, 1.2525, 1.3436, 1.2322, 0.6549, 0.8157, 0.8255, 0.4182, 0.884, 0.9719, 0.3849, 0.821, 0.3361, 0.5291, 0.5583, 0.1965, 0.2122, 0.3475, 0.6068, -0.1618, 0.057, -0.041, 0.0861, -0.0367, -0.4306, -0.7802, -0.0175, 2.2383, 2.2134, 2.1837, 2.1578, 2.1568, 1.9641, 1.9622, 1.9381, 1.9015, 1.8867, 1.8626, 1.8472, 1.7932, 1.7785, 1.7702, 1.7656, 1.7546, 1.7442, 1.7404, 1.7247, 1.7097, 1.6921, 1.6908, 1.6719, 1.6441, 1.6121, 1.598, 1.5925, 1.5865, 1.5852, 1.5828, 1.4991, 1.5375, 1.3733, 1.3023, 1.0148, 0.9763, 1.1265, 1.3309, 0.742, 0.9878, 0.8994, 0.834, 0.7143, 0.445, -0.1737, 0.2953, 0.4896, 0.2785, 0.0403, 0.2631, 0.4471, 0.1806, 0.127, 0.1288, 0.244, -0.3552, -0.0749, -0.2883, 2.3341, 2.2289, 2.2094, 2.188, 2.1668, 2.0402, 2.0097, 1.9567, 1.8834, 1.8794, 1.8762, 1.8744, 1.8482, 1.7128, 1.6309, 1.6208, 1.5915, 1.5866, 1.5774, 1.5467, 1.5242, 1.5234, 1.4975, 1.4949, 1.4922, 1.4486, 1.4429, 1.4375, 1.4365, 1.4012, 1.3333, 1.1755, 1.284, 1.3611, 1.0438, 1.2078, 1.098, 1.1246, 0.9556, 1.1315, 0.7172, 1.0889, 1.0476, 0.8586, 0.6022, 0.8228, 0.4278, 0.5217, 0.3975, 0.8291, 0.3359, 0.3453, 0.1468, 0.5057, 0.2081, 0.6039, -0.2372, 2.4013, 2.3818, 2.3577, 2.3154, 2.268, 2.2426, 2.2245, 2.1783, 2.1555, 2.1178, 2.0425, 2.018, 2.005, 1.9616, 1.9574, 1.9234, 1.8404, 1.8381, 1.818, 1.7615, 1.7486, 1.7355, 1.7068, 1.6773, 1.6741, 1.6535, 1.6488, 1.6052, 1.5924, 1.5548, 1.5444, 1.531, 1.4321, 1.0146, 1.4492, 1.4582, 1.1766, 0.9399, 1.1535, 0.979, 0.8139, 0.3535, 1.2691, 1.0788, 0.6324, 0.5591, 0.6061, 0.4409, 0.4081, 0.0711, 1.2157, -0.0341, 0.7089, -0.0716, 0.7725, -0.0417, 0.1612, 0.4217, -0.5249, -0.0292, -0.4215, 2.4284, 2.3485, 2.2144, 2.2129, 2.1382, 2.1335, 2.1297, 2.1001, 2.0914, 2.013, 1.9899, 1.9788, 1.9487, 1.9374, 1.9331, 1.9311, 1.8994, 1.8796, 1.8788, 1.874, 1.8639, 1.8621, 1.8161, 1.8126, 1.8059, 1.7826, 1.7284, 1.7268, 1.7225, 1.6568, 1.6515, 1.4237, 1.3696, 1.005, 1.2859, 1.2313, 1.2181, 0.4938, 0.602, 0.5824, 0.7585, 0.6828, 0.7107, 0.408, 0.8937, 0.0134, 0.5436, 0.8587, 0.0948, -0.0574, 0.5489, 0.5501, -0.0501, -0.0686, 0.4096, 2.6803, 2.6762, 2.4959, 2.4867, 2.4408, 2.3915, 2.3722, 2.2409, 2.2155, 2.1682, 2.1559, 2.1063, 1.9454, 1.9357, 1.8827, 1.877, 1.8749, 1.8668, 1.8416, 1.8349, 1.815, 1.8086, 1.786, 1.7739, 1.7739, 1.7082, 1.6932, 1.6361, 1.6328, 1.6251, 1.6065, 1.5534, 1.26, 1.3858, 1.3642, 1.4699, 0.994, 1.3434, 1.3371, 0.6991, 0.5306, 0.9107, 0.5576, 1.0333, 0.1445, 0.8248, -0.1442, 0.5748, 0.4708, 0.4533, 0.0704, -0.2915, 0.0535, -0.259, 0.0607, -0.2936, 3.26, 3.1457, 3.0547, 2.8545, 2.8041, 2.7242, 2.6714, 2.6187, 2.5383, 2.4978, 2.488, 2.3333, 2.3289, 2.308, 2.3012, 2.2888, 2.267, 2.2361, 2.2183, 2.2169, 2.2129, 2.1585, 2.1476, 2.1231, 2.1126, 2.1116, 2.0994, 2.0906, 2.0892, 2.0866, 2.0544, 1.9828, 1.5113, 1.5266, 1.052, 0.5971, 0.5947, 0.1881, 0.2288, 1.3819, 0.4401, 0.5075, 0.2892, 0.548, -0.1266, 0.4868, 0.6137, -0.5197, 0.4438, -0.0437, 0.7689, -0.1127, -0.5385, -0.3991, -0.4068, -0.0093]}, \"token.table\": {\"Topic\": [1, 3, 1, 2, 5, 6, 7, 8, 10, 1, 2, 6, 9, 10, 1, 4, 9, 1, 2, 3, 4, 5, 7, 8, 10, 1, 2, 4, 5, 6, 7, 8, 9, 10, 1, 3, 6, 9, 1, 2, 3, 5, 7, 8, 9, 10, 2, 5, 7, 8, 9, 1, 2, 3, 4, 5, 6, 7, 8, 9, 10, 1, 2, 3, 4, 7, 1, 3, 4, 7, 3, 4, 6, 10, 1, 2, 3, 4, 5, 7, 8, 9, 10, 1, 2, 3, 4, 5, 6, 7, 8, 9, 10, 1, 2, 3, 4, 5, 6, 7, 8, 9, 10, 3, 8, 1, 2, 3, 4, 5, 6, 7, 8, 9, 10, 1, 2, 3, 4, 5, 6, 7, 9, 1, 2, 3, 4, 5, 6, 8, 9, 1, 2, 3, 4, 7, 8, 10, 1, 2, 5, 7, 1, 2, 3, 4, 5, 6, 7, 8, 9, 10, 4, 9, 1, 8, 10, 1, 2, 3, 4, 6, 7, 8, 9, 10, 2, 3, 4, 6, 9, 1, 2, 3, 4, 5, 6, 7, 8, 9, 10, 1, 2, 3, 6, 7, 9, 1, 3, 7, 1, 2, 3, 4, 7, 9, 3, 4, 5, 9, 2, 7, 8, 9, 1, 2, 3, 4, 5, 6, 7, 8, 9, 10, 1, 3, 6, 7, 9, 1, 2, 3, 7, 8, 9, 10, 1, 5, 9, 1, 2, 6, 7, 1, 9, 2, 3, 4, 5, 6, 1, 3, 4, 7, 10, 5, 7, 8, 1, 2, 3, 4, 5, 7, 9, 1, 3, 4, 5, 7, 9, 10, 1, 3, 4, 7, 8, 3, 4, 8, 9, 10, 3, 8, 9, 1, 2, 7, 8, 10, 1, 3, 8, 1, 2, 3, 4, 5, 6, 7, 8, 9, 10, 1, 2, 3, 5, 9, 10, 1, 4, 5, 6, 8, 9, 1, 2, 3, 4, 5, 6, 7, 8, 9, 10, 2, 5, 10, 2, 4, 1, 2, 3, 4, 6, 7, 9, 3, 4, 1, 2, 4, 5, 1, 2, 6, 7, 1, 2, 4, 5, 10, 3, 6, 7, 9, 10, 1, 2, 3, 4, 6, 7, 9, 3, 7, 9, 3, 4, 5, 6, 7, 8, 9, 10, 2, 3, 4, 5, 6, 7, 8, 9, 10, 2, 7, 8, 2, 4, 9, 10, 1, 8, 3, 6, 8, 3, 4, 5, 7, 8, 10, 1, 3, 5, 3, 4, 6, 8, 1, 2, 3, 4, 6, 8, 10, 1, 2, 3, 4, 5, 6, 7, 8, 9, 10, 1, 2, 3, 4, 5, 6, 7, 8, 9, 10, 1, 2, 9, 10, 6, 1, 2, 5, 8, 1, 3, 4, 5, 7, 8, 9, 10, 8, 10, 1, 2, 3, 4, 5, 6, 7, 8, 9, 10, 2, 8, 9, 1, 2, 3, 4, 5, 6, 7, 8, 9, 10, 1, 2, 3, 4, 5, 8, 9, 10, 1, 3, 4, 1, 2, 3, 4, 5, 6, 7, 8, 9, 2, 5, 1, 5, 8, 10, 1, 2, 3, 4, 5, 6, 7, 8, 9, 1, 2, 3, 4, 7, 8, 9, 10, 3, 4, 9, 1, 2, 3, 4, 5, 6, 7, 8, 3, 4, 8, 1, 3, 4, 5, 6, 1, 2, 5, 7, 8, 10, 1, 2, 3, 4, 5, 6, 7, 8, 9, 10, 1, 3, 4, 6, 8, 1, 3, 5, 2, 6, 10, 2, 6, 2, 3, 6, 9, 3, 5, 1, 2, 3, 5, 7, 8, 9, 10, 1, 4, 7, 10, 1, 2, 3, 4, 5, 6, 7, 8, 1, 2, 3, 4, 5, 6, 7, 8, 9, 10, 2, 4, 5, 6, 2, 3, 7, 8, 9, 1, 2, 3, 4, 5, 6, 7, 8, 9, 10, 2, 5, 6, 7, 8, 1, 3, 4, 6, 7, 8, 9, 10, 1, 2, 3, 8, 9, 1, 2, 3, 4, 5, 6, 7, 8, 9, 10, 1, 2, 3, 6, 7, 1, 2, 3, 5, 6, 7, 8, 9, 10, 1, 4, 7, 8, 1, 2, 3, 5, 6, 7, 8, 9, 10, 1, 3, 4, 9, 1, 2, 5, 8, 1, 2, 3, 5, 7, 8, 9, 10, 1, 2, 3, 4, 5, 6, 7, 8, 9, 10, 1, 2, 5, 8, 1, 2, 3, 4, 5, 6, 7, 9, 10, 1, 3, 4, 6, 7, 1, 2, 3, 4, 5, 6, 7, 8, 9, 10, 1, 2, 6, 8, 10, 1, 3, 4, 5, 8, 10, 1, 2, 3, 4, 6, 8, 1, 2, 3, 4, 5, 6, 7, 8, 9, 1, 1, 2, 3, 4, 8, 9, 2, 5, 10, 1, 2, 3, 4, 5, 6, 7, 8, 9, 10, 1, 2, 3, 4, 5, 6, 7, 8, 9, 1, 4, 8, 1, 2, 3, 7, 10, 1, 3, 5, 7, 9, 1, 2, 1, 2, 5, 8, 9, 10, 1, 2, 3, 4, 5, 7, 8, 2, 3, 1, 2, 3, 4, 7, 8, 9, 10, 2, 7, 8, 10, 1, 2, 3, 5, 6, 7, 8, 1, 3, 4, 10, 1, 3, 4, 7, 8, 9, 1, 4, 9, 3, 4, 1, 9, 7, 2, 4, 9, 1, 5, 6, 8, 1, 2, 8, 10, 1, 2, 3, 5, 6, 8, 9, 10, 1, 2, 4, 7, 9, 2, 5, 7, 8, 2, 3, 2, 5, 2, 1, 2, 3, 4, 5, 7, 8, 10, 1, 2, 3, 4, 5, 6, 7, 8, 9, 10, 1, 2, 3, 6, 9, 2, 4, 6, 9, 1, 4, 5, 7, 8, 9, 1, 2, 3, 4, 6, 1, 3, 4, 5, 7, 8, 10, 2, 8, 10, 2, 3, 5, 6, 10, 1, 2, 3, 5, 6, 8, 9, 10, 1, 2, 3, 4, 5, 7, 8, 9, 1, 2, 3, 4, 5, 6, 7, 8, 9, 10, 1, 2, 3, 4, 10, 1, 3, 4, 7, 10, 1, 2, 3, 5, 1, 2, 3, 4, 5, 6, 7, 8, 9, 10, 2, 7, 10, 1, 4, 6, 8, 1, 8, 2, 3, 4, 5, 7, 9, 1, 2, 3, 4, 5, 6, 7, 8, 9, 10, 1, 2, 3, 4, 5, 6, 7, 8, 9, 10, 1, 2, 3, 4, 5, 6, 7, 8, 9, 10, 1, 2, 3, 4, 5, 6, 7, 8, 10, 1, 2, 3, 4, 5, 6, 7, 8, 9, 10, 1, 2, 3, 4, 5, 6, 7, 8, 9, 10, 1, 2, 4, 5, 6, 1, 2, 7, 3, 5, 7, 9, 5, 9, 1, 2, 3, 4, 5, 6, 7, 8, 9, 10, 8, 2, 3, 4, 5, 6, 9, 10, 3, 4, 5, 10, 4, 1, 2, 3, 4, 6, 8, 9, 10, 1, 2, 3, 4, 5, 6, 7, 8, 9, 10, 1, 3, 4, 6, 8, 10, 1, 3, 6, 8, 1, 2, 3, 4, 5, 6, 7, 8, 9, 10, 2, 4, 7, 9, 3, 5, 2, 3, 1, 2, 3, 4, 5, 8, 2, 4, 2, 5, 6, 7, 8, 1, 3, 4, 6, 8, 10, 1, 2, 3, 4, 5, 6, 7, 8, 9, 10, 1, 2, 3, 4, 5, 6, 7, 8, 10, 2, 3, 5, 6, 9, 3, 4, 9, 10, 2, 3, 4, 10, 1, 4, 8, 9, 1, 3, 5, 9, 1, 2, 5, 9, 1, 2, 4, 9, 3, 4, 5, 7, 10, 4, 8, 1, 1, 2, 3, 4, 5, 6, 7, 8, 9, 10, 1, 2, 5, 6, 7, 8, 9, 2, 5, 6, 1, 2, 3, 4, 5, 6, 7, 8, 9, 10, 2, 3, 6, 9, 1, 2, 3, 4, 5, 6, 7, 8, 9, 10, 1, 2, 3, 4, 5, 6, 7, 8, 9, 10, 5, 6, 7, 1, 2, 3, 4, 5, 6, 7, 8, 9, 10, 2, 3, 4, 5, 8, 3, 4, 7, 1, 2, 3, 4, 5, 6, 7, 8, 9, 1, 9, 1, 2, 3, 4, 5, 6, 7, 8, 9, 10, 3, 4, 7, 8, 9, 10, 2, 4, 5, 7, 1, 2, 3, 4, 5, 6, 8, 5, 6, 8, 9, 4, 5, 10, 1, 2, 5, 2, 3, 1, 3, 4, 5, 7, 8, 9, 10, 1, 2, 3, 4, 5, 6, 7, 8, 9, 10, 1, 3, 4, 7, 1, 4, 5, 9, 1, 2, 3, 4, 5, 6, 7, 8, 9, 10, 3, 4, 6, 7, 8, 3, 4, 7, 3, 5, 8, 10, 3, 5, 6, 7, 8, 9, 2, 4, 5, 1, 2, 3, 4, 5, 6, 7, 8, 9, 10, 1, 3, 4, 2, 5, 6, 7, 8, 1, 3, 4, 8, 2, 3, 2, 10, 2, 3, 7, 8, 9, 4, 6, 7, 9, 10, 3, 8, 1, 2, 3, 4, 5, 6, 7, 8, 9, 10, 1, 2, 5, 8, 10, 1, 2, 3, 5, 10, 1, 2, 3, 4, 5, 6, 7, 8, 9, 10, 1, 3, 4, 7, 8, 10, 1, 2, 3, 4, 5, 6, 7, 8, 9, 10, 1, 2, 3, 4, 5, 6, 7, 8, 9, 10, 2, 3, 4, 5, 6, 2, 8, 9, 10, 1, 6, 10, 1, 2, 3, 4, 5, 6, 7, 8, 9, 10, 3, 4, 5, 8, 10, 1, 3, 7, 1, 3, 4, 8, 10, 1, 2, 3, 4, 5, 6, 7, 8, 9, 2, 3, 4, 8, 10, 1, 2, 3, 4, 5, 7, 1, 3, 4, 5, 6, 7, 8, 10, 5, 7, 1, 2, 3, 4, 5, 6, 1, 2, 3, 6, 1, 2, 5, 6, 9, 10, 1, 3, 7, 10, 1, 3, 4, 5, 9, 10, 1, 3, 4, 5, 7, 9, 10, 1, 2, 3, 4, 6, 8, 9, 10, 2, 1, 2, 3, 4, 6, 8, 1, 2, 3, 4, 9, 10, 3, 4, 5, 7, 2, 4, 10, 1, 3, 10, 5, 8, 1, 2, 3, 4, 5, 6, 8, 9, 10, 3, 9, 1, 2, 3, 4, 5, 6, 8, 9, 10, 1, 2, 3, 4, 5, 6, 7, 8, 9, 10, 1, 2, 5, 10, 1, 2, 3, 4, 5, 6, 7, 8, 9, 10, 1, 2, 3, 4, 5, 6, 7, 8, 9, 10, 1, 3, 5, 8, 9, 10, 1, 2, 3, 4, 5, 6, 7, 8, 9, 10, 1, 3, 4, 5, 8, 9, 10, 1, 2, 5, 6, 8, 1, 6, 8, 1, 2, 3, 4, 5, 7, 8, 10, 1, 2, 4, 5, 10, 1, 2, 3, 4, 5, 6, 7, 8, 3, 7, 8, 9, 1, 1, 4, 1, 2, 3, 7, 9, 10, 1, 3, 4, 5, 1, 2, 3, 4, 5, 6, 7, 9, 10, 3, 4, 10, 1, 2, 3, 1, 4, 10, 1, 2, 3, 4, 5, 6, 8, 10, 1, 2, 3, 4, 5, 6, 7, 8, 9, 10, 1, 3, 4, 6, 8, 1, 3, 5, 6, 8, 1, 2, 3, 4, 5, 6, 7, 8, 9, 10, 1, 2, 5, 6, 7, 1, 2, 3, 4, 6, 7, 8, 9, 10, 1, 2, 3, 4, 7, 8, 9, 6, 8, 9, 10, 1, 2, 3, 4, 6, 7, 8, 10, 1, 3, 4, 5, 9, 10, 1, 2, 3, 4, 5, 8, 10, 2, 5, 6, 7, 8, 1, 2, 3, 4, 5, 6, 7, 8, 9, 10, 1, 2, 3, 4, 5, 8, 9, 10, 1, 2, 5, 8, 9, 10, 2, 5, 6, 8, 9, 10, 4, 7, 10, 7, 8, 10, 1, 2, 3, 4, 5, 6, 7, 8, 9, 10, 3, 5, 7, 8, 1, 2, 3, 4, 5, 6, 7, 8, 9, 10, 1, 2, 3, 4, 5, 6, 7, 8, 10, 6, 7, 9, 2, 4, 6, 7, 1, 3, 7, 1, 2, 3, 4, 1, 2, 3, 7, 1, 2, 3, 4, 5, 6, 7, 8, 10, 1, 2, 3, 5, 8, 9, 1, 3, 4, 5, 7, 8, 10, 1, 5, 8, 8, 9, 1, 2, 3, 4, 5, 6, 7, 8, 9, 10, 3, 7, 9, 1, 3, 4, 6, 8, 1, 2, 3, 6, 8, 1, 2, 3, 4, 5, 6, 7, 8, 9, 2, 7, 9, 1, 2, 3, 4, 5, 6, 7, 8, 9, 1, 2, 3, 4, 5, 6, 8, 1, 2, 3, 4, 5, 6, 7, 8, 9, 10, 1, 2, 3, 4, 5, 6, 7, 8, 10, 1, 2, 3, 4, 5, 6, 7, 8, 9, 10, 1, 3, 6, 8, 9, 2, 3, 5, 6, 7, 1, 2, 3, 9, 1, 2, 3, 4, 5, 6, 7, 8, 1, 3, 4, 5, 6, 7, 8, 9, 1, 2, 3, 4, 5, 6, 7, 8, 9, 10, 1, 2, 3, 4, 5, 6, 7, 8, 9, 1, 2, 4, 7, 8, 9, 10, 3, 4, 6, 8, 9, 1, 8, 9, 1, 2, 5, 6, 8, 9, 1, 3, 4, 5, 6, 8, 1, 3, 6, 8, 2, 5, 9, 3, 4, 9, 1, 7, 9, 10, 1, 3, 10, 2, 5, 6, 7, 8, 2, 5, 6, 7, 1, 2, 3, 4, 5, 6, 7, 8, 9, 10, 4, 7, 8, 9, 1, 2, 3, 4, 5, 6, 7, 1, 2, 3, 5, 7, 10, 2, 5, 8, 3, 4, 5, 7, 8, 10, 1, 2, 3, 8, 1, 2, 3, 4, 5, 6, 8, 9, 1, 3, 8, 1, 2, 3, 4, 9, 2, 3, 4, 8, 9, 2, 3, 4, 8, 9, 10, 2, 3, 4, 7, 8, 9, 10, 3, 7, 2, 3, 4, 5, 7, 9, 4, 7, 9, 1, 2, 3, 4, 5, 6, 7, 8, 9, 10, 1, 2, 3, 4, 5, 6, 7, 8, 9, 10], \"Freq\": [0.9550251693103406, 0.025132241297640544, 0.06828195534906825, 0.10242293302360236, 0.034140977674534126, 0.06828195534906825, 0.10242293302360236, 0.5803966204670801, 0.034140977674534126, 0.06717207793550949, 0.13434415587101897, 0.40303246761305694, 0.26868831174203794, 0.13434415587101897, 0.45975039906496745, 0.05746879988312093, 0.40228159918184647, 0.20731272997047884, 0.1243876379822873, 0.04146254599409577, 0.23495442729987603, 0.08292509198819153, 0.08292509198819153, 0.09674594065289012, 0.11056678931758872, 0.10712577205880326, 0.013390721507350408, 0.10712577205880326, 0.026781443014700815, 0.040172164522051225, 0.3481587591911106, 0.026781443014700815, 0.05356288602940163, 0.2678144301470082, 0.6203807696394512, 0.23860798832286587, 0.04772159766457317, 0.04772159766457317, 0.15256140272548835, 0.05085380090849611, 0.06780506787799481, 0.016951266969498703, 0.3898791402984702, 0.13561013575598962, 0.10170760181699222, 0.08475633484749352, 0.1536325649470543, 0.1536325649470543, 0.46089769484116283, 0.1536325649470543, 0.07681628247352715, 0.023596485655174436, 0.31349616656160323, 0.05056389783251665, 0.02022555913300666, 0.12135335479803995, 0.2595613422069188, 0.1584335465418855, 0.023596485655174436, 0.02022555913300666, 0.006741853044335553, 0.06229204455880143, 0.34260624507340787, 0.06229204455880143, 0.031146022279400713, 0.5294823787498121, 0.006594502803089384, 0.7056117999305641, 0.013189005606178769, 0.27037461492666476, 0.18565519950102588, 0.18565519950102588, 0.37131039900205176, 0.18565519950102588, 0.0684761076039881, 0.41085664562392865, 0.053259194803101866, 0.08369302040487436, 0.2510790612146231, 0.02282536920132937, 0.015216912800886247, 0.053259194803101866, 0.03804228200221562, 0.1749325944627371, 0.08873392472747534, 0.18253835943937782, 0.13690376957953337, 0.1445095345561741, 0.12929800460289262, 0.032958314898776556, 0.0405640798754173, 0.06338137480533952, 0.005070509984427162, 0.26117323307356205, 0.032646654134195256, 0.10446929322942483, 0.12405728570994198, 0.03917598496103431, 0.1632332706709763, 0.03917598496103431, 0.18282126315149344, 0.04570531578787336, 0.006529330826839052, 0.2609901057509897, 0.7084017156098291, 0.21614299803345113, 0.03987103847219002, 0.15738567817969742, 0.1615826295978227, 0.03777256276312738, 0.1678780567250106, 0.0902344554896932, 0.07554512552625477, 0.03987103847219002, 0.01678780567250106, 0.0282321896011671, 0.6493403608268433, 0.1129287584046684, 0.01411609480058355, 0.01411609480058355, 0.04234828440175065, 0.1129287584046684, 0.01411609480058355, 0.0707190840538026, 0.0825055980627697, 0.1296516540986381, 0.0235730280179342, 0.0117865140089671, 0.6011122144573221, 0.0589325700448355, 0.0117865140089671, 0.0335893238857917, 0.1007679716573751, 0.1679466194289585, 0.0335893238857917, 0.0335893238857917, 0.3694825627437087, 0.2687145910863336, 0.18184084339974382, 0.09092042169987191, 0.5455225301992315, 0.18184084339974382, 0.2429327939181232, 0.0038560760939384633, 0.21979633735449242, 0.14653089156966162, 0.007712152187876927, 0.20822810907267703, 0.015424304375753853, 0.13496266328784623, 0.02313645656363078, 0.0038560760939384633, 0.10865538034854326, 0.8692430427883461, 0.6687148979171333, 0.09553069970244762, 0.19106139940489525, 0.24084837626963443, 0.43981007840541936, 0.07330167973423656, 0.08377334826769893, 0.05235834266731183, 0.05235834266731183, 0.020943337066924732, 0.010471668533462366, 0.020943337066924732, 0.20339785735542842, 0.20339785735542842, 0.13559857157028563, 0.06779928578514281, 0.40679571471085685, 0.09481226251246533, 0.27885959562489804, 0.1561613735499429, 0.10596664633746125, 0.044617535299983684, 0.044617535299983684, 0.11154383824995921, 0.050194727212481645, 0.08923507059996737, 0.022308767649991842, 0.16690288475829057, 0.055634294919430186, 0.055634294919430186, 0.4450743593554415, 0.16690288475829057, 0.055634294919430186, 0.23351317572578462, 0.1556754504838564, 0.6227018019354256, 0.06799288835361139, 0.022664296117870464, 0.6572645874182435, 0.022664296117870464, 0.22664296117870464, 0.022664296117870464, 0.5707114811802166, 0.027176737199057936, 0.3261208463886952, 0.05435347439811587, 0.1247149215695235, 0.6235746078476175, 0.18707238235428525, 0.06235746078476175, 0.08917769257774404, 0.03344163471665401, 0.14491375043883406, 0.2396650488026871, 0.03901524050276302, 0.027868028930545012, 0.27310668351934114, 0.03901524050276302, 0.08917769257774404, 0.02229442314443601, 0.008106538893681957, 0.02431961668104587, 0.008106538893681957, 0.9160388949860612, 0.032426155574727826, 0.03309107158443527, 0.11030357194811757, 0.011030357194811756, 0.7831553608316347, 0.044121428779247025, 0.011030357194811756, 0.011030357194811756, 0.14337179108679313, 0.5734871643471725, 0.19116238811572417, 0.02205425773922106, 0.6836819899158528, 0.24259683513143165, 0.02205425773922106, 0.8438106326554264, 0.13125943174639967, 0.2507327067402559, 0.03581895810575084, 0.6089222877977643, 0.03581895810575084, 0.03581895810575084, 0.040441748793178016, 0.08088349758635603, 0.6875097294840263, 0.12132524637953405, 0.040441748793178016, 0.8159463230003444, 0.058281880214310314, 0.058281880214310314, 0.08313126386835351, 0.08313126386835351, 0.041565631934176756, 0.041565631934176756, 0.5403532151442978, 0.08313126386835351, 0.12469689580253027, 0.11010800945205189, 0.18351334908675315, 0.14681067926940253, 0.03670266981735063, 0.22021601890410378, 0.07340533963470126, 0.18351334908675315, 0.014631944316828982, 0.07315972158414491, 0.86328471469291, 0.029263888633657965, 0.014631944316828982, 0.020176150095285728, 0.887750604192572, 0.040352300190571455, 0.040352300190571455, 0.020176150095285728, 0.20784881255171142, 0.5196220313792785, 0.10392440627585571, 0.28183794469264056, 0.16910276681558434, 0.3945731225696968, 0.05636758893852811, 0.05636758893852811, 0.06154179687529291, 0.30770898437646454, 0.6154179687529291, 0.0694980611366275, 0.250193020091859, 0.111196897818604, 0.18069495895523152, 0.041698836681976506, 0.0138996122273255, 0.17374515284156877, 0.027799224454651, 0.00694980611366275, 0.1250965100459295, 0.050835910345747366, 0.10167182069149473, 0.050835910345747366, 0.3050154620744842, 0.25417955172873685, 0.25417955172873685, 0.06816724865864746, 0.2726689946345898, 0.029214535139420336, 0.5940288811682135, 0.019476356759613556, 0.009738178379806778, 0.054778123798165095, 0.16433437139449528, 0.03485880605337779, 0.08465710041534605, 0.08963692985154288, 0.42328550207673027, 0.08465710041534605, 0.009959658872393654, 0.01493948830859048, 0.04481846492577144, 0.8963811159637343, 0.01991958035474965, 0.0398391607094993, 0.045706798107375705, 0.9141359621475141, 0.1441031282838872, 0.019213750437851625, 0.10567562740818394, 0.2978131317867002, 0.3746681335381067, 0.03842750087570325, 0.02882062565677744, 0.1448274777539564, 0.7965511276467602, 0.620633359270938, 0.0827511145694584, 0.0827511145694584, 0.1655022291389168, 0.10460421040523728, 0.15690631560785592, 0.575323157228805, 0.05230210520261864, 0.08023642790533872, 0.12035464185800808, 0.24070928371601616, 0.441300353479363, 0.08023642790533872, 0.6231091575723149, 0.05934372929260142, 0.20770305252410498, 0.02967186464630071, 0.02967186464630071, 0.014957448211450966, 0.5085532391893328, 0.13461703390305868, 0.07478724105725483, 0.0897446892687058, 0.14957448211450966, 0.014957448211450966, 0.6630178983123195, 0.18943368523209128, 0.09471684261604564, 0.06579769186838084, 0.010966281978063475, 0.06579769186838084, 0.010966281978063475, 0.7237746105521893, 0.02193256395612695, 0.010966281978063475, 0.07676397384644432, 0.19998484817782508, 0.4133020195675051, 0.18665252496597007, 0.11999090890669505, 0.013332323211855004, 0.013332323211855004, 0.026664646423710008, 0.013332323211855004, 0.026664646423710008, 0.7867276794929918, 0.1048970239323989, 0.05244851196619945, 0.43492773320953904, 0.19330121475979514, 0.09665060737989757, 0.28995182213969267, 0.4300118497910743, 0.49144211404694205, 0.07359136688238721, 0.14718273376477442, 0.6623223019414849, 0.2718488685809354, 0.09061628952697845, 0.09061628952697845, 0.045308144763489225, 0.09061628952697845, 0.3624651581079138, 0.100973616475531, 0.201947232951062, 0.605841698853186, 0.09125125850235756, 0.13687688775353632, 0.5018819217629665, 0.2281281462558939, 0.09977968066241553, 0.0066519787108277025, 0.07317176581910473, 0.4523345523362838, 0.2594271697222804, 0.07982374452993243, 0.0066519787108277025, 0.1680750713443619, 0.19608758323508887, 0.028012511890726982, 0.014006255945363491, 0.19608758323508887, 0.11205004756290793, 0.04201876783609047, 0.014006255945363491, 0.22410009512581586, 0.014006255945363491, 0.11281816229435578, 0.33039604671918477, 0.04029220081941278, 0.04029220081941278, 0.05640908114717789, 0.08864284180270811, 0.11281816229435578, 0.04029220081941278, 0.16922724344153367, 0.01611688032776511, 0.32539481856148356, 0.16269740928074178, 0.32539481856148356, 0.10846493952049452, 0.9373654710938553, 0.06654292581560066, 0.3327146290780033, 0.5323434065248053, 0.06654292581560066, 0.03760279565198487, 0.08460629021696596, 0.07520559130396974, 0.33842516086786384, 0.009400698912996218, 0.028202096738988654, 0.29142166630288274, 0.12220908586895084, 0.22475561829812002, 0.67426685489436, 0.09604138093631089, 0.056595813766040344, 0.20237290983008363, 0.1972278358513527, 0.03944556717027054, 0.07203103570223317, 0.2332433537024693, 0.02229532057450074, 0.04459064114900148, 0.0343004931915396, 0.1366212116726587, 0.47817424085430543, 0.34155302918164676, 0.17766101929878733, 0.23591053382297988, 0.0815493203338696, 0.0815493203338696, 0.12523645622701401, 0.0815493203338696, 0.0815493203338696, 0.03494970871451554, 0.06407446597661183, 0.03494970871451554, 0.017991841736722393, 0.12594289215705673, 0.05397552521016717, 0.08995920868361196, 0.4497960434180598, 0.12594289215705673, 0.035983683473444786, 0.10795105042033434, 0.8635351518809516, 0.04047821024441961, 0.08095642048883922, 0.21131474684069645, 0.13346194537307143, 0.12234011659198216, 0.22614385188214883, 0.040780038863994054, 0.1519983266748869, 0.014829105041452384, 0.08156007772798811, 0.014829105041452384, 0.41351254764082873, 0.41351254764082873, 0.12928845075327813, 0.12928845075327813, 0.6464422537663906, 0.06464422537663907, 0.05766659107488264, 0.01922219702496088, 0.0480554925624022, 0.00961109851248044, 0.02883329553744132, 0.15377757619968704, 0.00961109851248044, 0.6631657973611503, 0.00961109851248044, 0.008146394830108532, 0.03258557932043413, 0.31770939837423273, 0.4887836898065119, 0.04073197415054266, 0.008146394830108532, 0.04887836898065119, 0.04887836898065119, 0.5693967306562391, 0.18979891021874634, 0.09489945510937317, 0.006165851256647891, 0.21580479398267619, 0.11098532261966204, 0.2959608603190988, 0.22813649649597198, 0.030829256283239456, 0.04316095879653524, 0.0678243638231268, 0.35813053958983526, 0.5371958093847529, 0.04476631744872941, 0.7512134241718806, 0.04173407912066003, 0.08346815824132006, 0.08346815824132006, 0.04173407912066003, 0.617114579711487, 0.01402533135707925, 0.01402533135707925, 0.01402533135707925, 0.04207599407123775, 0.28050662714158503, 0.12608247114030613, 0.09246047883622449, 0.15550171440637756, 0.11347422402627551, 0.18912370671045917, 0.06724398460816326, 0.07564948268418367, 0.04202749038010204, 0.09666322787423469, 0.04202749038010204, 0.14479124185072167, 0.07239562092536084, 0.14479124185072167, 0.434373725552165, 0.14479124185072167, 0.6053208847596442, 0.08647441210852061, 0.2594232363255618, 0.7276748643267583, 0.09095935804084479, 0.09095935804084479, 0.851502168209076, 0.141917028034846, 0.8224576373556621, 0.034269068223152586, 0.10280720466945777, 0.034269068223152586, 0.11067772528338916, 0.7747440769837242, 0.1199787700663718, 0.07998584671091453, 0.19996461677728633, 0.019996461677728634, 0.3599363101991154, 0.019996461677728634, 0.09998230838864317, 0.07998584671091453, 0.3232871277765209, 0.13855162618993752, 0.4156548785698126, 0.04618387539664584, 0.40421060087807203, 0.031911363227216216, 0.11168977129525674, 0.11700833183312612, 0.21274242151477477, 0.047867044840824324, 0.04254848430295495, 0.015955681613608108, 0.2952242406055353, 0.16497825210309328, 0.24746737815463993, 0.017366131800325608, 0.02170766475040701, 0.06512299425122103, 0.06078146130113963, 0.008683065900162804, 0.07380606015138383, 0.04775686245089542, 0.15386659382455298, 0.6154663752982119, 0.07693329691227649, 0.07693329691227649, 0.9322167015218926, 0.07741706966183148, 0.6193365572946519, 0.23225120898549445, 0.07741706966183148, 0.07184914861418967, 0.06762272810747263, 0.054943466587321514, 0.029584943547019276, 0.5409818248597811, 0.16905682026868157, 0.00422642050671704, 0.04226420506717039, 0.01690568202686816, 0.00422642050671704, 0.1358477956658657, 0.2037716934987985, 0.02264129927764428, 0.4301846862752413, 0.18113039422115423, 0.733103433259462, 0.04262229263136407, 0.05114675115763689, 0.008524458526272814, 0.025573375578818443, 0.008524458526272814, 0.06819566821018251, 0.05114675115763689, 0.23100043584859373, 0.07700014528286458, 0.11550021792429686, 0.5005009443386198, 0.03850007264143229, 0.10609592822376918, 0.033757795343926554, 0.14467626575968523, 0.29417507371136, 0.009645084383979017, 0.21219185644753835, 0.0048225421919895085, 0.08198321726382164, 0.10609592822376918, 0.014467626575968524, 0.09317140548046776, 0.062114270320311846, 0.062114270320311846, 0.7143141086835862, 0.062114270320311846, 0.3290564482920173, 0.14194591887106628, 0.006452087221412104, 0.10968548276400576, 0.07742504665694525, 0.10968548276400576, 0.07742504665694525, 0.12258965720682997, 0.025808348885648418, 0.16810858125491634, 0.042027145313729086, 0.5883800343922072, 0.12608143594118726, 0.016953816419003922, 0.1271536231425294, 0.4323223186846, 0.008476908209501961, 0.34755323658958037, 0.016953816419003922, 0.016953816419003922, 0.033907632838007844, 0.0042384541047509805, 0.12093944551519745, 0.18140916827279616, 0.12093944551519745, 0.4837577820607898, 0.07729946993982736, 0.15459893987965473, 0.4637968196389642, 0.15459893987965473, 0.15642875916847523, 0.05866078468817821, 0.05866078468817821, 0.019553594896059404, 0.39107189792118807, 0.13687516427241583, 0.11732156937635642, 0.07821437958423762, 0.3064857487557339, 0.20275211071533167, 0.10373363804040224, 0.0330061575583098, 0.06129714975114678, 0.05658198438567395, 0.11787913413682073, 0.04243648828925546, 0.037721322923782635, 0.04243648828925546, 0.0773626732671585, 0.618901386137268, 0.0773626732671585, 0.154725346534317, 0.09090342488618205, 0.0795404967754093, 0.13635513732927307, 0.05681464055386378, 0.03408878433231827, 0.022725856221545514, 0.420428340098592, 0.10226635299695482, 0.04545171244309103, 0.08344435781562115, 0.08344435781562115, 0.1668887156312423, 0.41722178907810575, 0.25033307344686345, 0.20134396783998332, 0.05618901428092558, 0.15920220712928915, 0.16856704284277674, 0.08428352142138837, 0.08428352142138837, 0.05618901428092558, 0.13579011784557016, 0.02809450714046279, 0.02809450714046279, 0.1580549529284341, 0.07902747646421705, 0.23708242939265115, 0.3161099058568682, 0.23708242939265115, 0.04951357661741313, 0.24756788308706565, 0.24756788308706565, 0.04951357661741313, 0.09902715323482626, 0.2970814597044788, 0.07415522452194755, 0.09887363269593005, 0.5190865716536328, 0.12359204086991257, 0.09887363269593005, 0.049436816347965026, 0.014376499797787917, 0.2587769963601825, 0.31628299555133416, 0.050317749292257706, 0.06469424909004562, 0.2731534961579704, 0.007188249898893958, 0.014376499797787917, 0.007188249898893958, 0.962674314962486, 0.0472051331957448, 0.21242309938085158, 0.5192564651531928, 0.118012832989362, 0.07080769979361719, 0.0236025665978724, 0.2491123951105087, 0.5812622552578536, 0.08303746503683623, 0.03395133650957806, 0.17400059961158756, 0.09761009246503694, 0.16551276548419305, 0.15278101429310129, 0.21643977024856015, 0.029707419445880803, 0.11882967778352321, 0.004243917063697257, 0.01697566825478903, 0.017879929829993712, 0.554277824729805, 0.07151971931997485, 0.05363978948998113, 0.035759859659987424, 0.12515950880995597, 0.035759859659987424, 0.05363978948998113, 0.05363978948998113, 0.7332224087279261, 0.10474605838970373, 0.20949211677940746, 0.057467019690578276, 0.2873350984528914, 0.5172031772152045, 0.057467019690578276, 0.057467019690578276, 0.14957230435768912, 0.5982892174307565, 0.14957230435768912, 0.7105720169701842, 0.21317160509105526, 0.8142089123764684, 0.11631555891092406, 0.0677175821849694, 0.2031527465549082, 0.33858791092484697, 0.0677175821849694, 0.0677175821849694, 0.2708703287398776, 0.12025428814072621, 0.16835600339701667, 0.02405085762814524, 0.5772205830754857, 0.04810171525629048, 0.02405085762814524, 0.02405085762814524, 0.35787017350797645, 0.6083792949635599, 0.10641507170065531, 0.0709433811337702, 0.10641507170065531, 0.10641507170065531, 0.17735845283442553, 0.1418867622675404, 0.10641507170065531, 0.21283014340131062, 0.10355380337252217, 0.7455873842821596, 0.062132282023513306, 0.062132282023513306, 0.11217044187111828, 0.11217044187111828, 0.07478029458074552, 0.03739014729037276, 0.07478029458074552, 0.41129162019410037, 0.11217044187111828, 0.3095546263586397, 0.3095546263586397, 0.06191092527172794, 0.24764370108691175, 0.4724326323374087, 0.09816781970647452, 0.31290992531438755, 0.018406466194963975, 0.042948421121582606, 0.04908390985323726, 0.6307400806428702, 0.2968188614789978, 0.03710235768487472, 0.8432580118521569, 0.1581108772222794, 0.8602442914006789, 0.09558269904451988, 0.9295000691246998, 0.6375260778434625, 0.09107515397763749, 0.18215030795527498, 0.029179534204602627, 0.5544111498874499, 0.29179534204602625, 0.08753860261380787, 0.34715824912414206, 0.057859708187357015, 0.4628776654988561, 0.11571941637471403, 0.173877795910775, 0.007244908162948959, 0.702756091806049, 0.007244908162948959, 0.014489816325897917, 0.06520417346654063, 0.014489816325897917, 0.007244908162948959, 0.18456367018446088, 0.18456367018446088, 0.09228183509223044, 0.09228183509223044, 0.36912734036892175, 0.2242813219106641, 0.5126430215100894, 0.12816075537752236, 0.09612056653314177, 0.771231284020231, 0.0771231284020231, 0.09546199750237733, 0.8591579775213959, 0.9508441117346623, 0.14894488268092082, 0.04964829422697361, 0.04964829422697361, 0.04964829422697361, 0.04964829422697361, 0.09929658845394722, 0.04964829422697361, 0.5957795307236833, 0.27159435971835466, 0.10939217266433729, 0.17729076259392595, 0.04526572661972578, 0.06789858992958867, 0.007544287769954296, 0.22255648921365173, 0.04526572661972578, 0.003772143884977148, 0.04526572661972578, 0.13455766566326285, 0.13455766566326285, 0.06727883283163143, 0.40367299698978854, 0.13455766566326285, 0.2517516704650868, 0.08391722348836225, 0.08391722348836225, 0.5035033409301736, 0.07226503061134963, 0.036132515305674816, 0.10839754591702444, 0.2529276071397237, 0.14453006122269926, 0.3613251530567481, 0.02785214833373663, 0.7520080050108889, 0.11140859333494652, 0.05570429666747326, 0.05570429666747326, 0.002815040402751427, 0.28431908067789413, 0.6333840906190711, 0.002815040402751427, 0.014075202013757135, 0.014075202013757135, 0.047855686846774256, 0.2805047156015954, 0.2805047156015954, 0.2805047156015954, 0.18777793523347128, 0.4694448380836782, 0.09388896761673564, 0.09388896761673564, 0.09388896761673564, 0.14456170548461295, 0.14456170548461295, 0.05782468219384518, 0.02891234109692259, 0.37586043425999366, 0.14456170548461295, 0.02891234109692259, 0.08673702329076777, 0.0912210893102637, 0.0202713531800586, 0.1723065020304981, 0.0709497361302051, 0.0304070297700879, 0.4763767997313771, 0.101356765900293, 0.0405427063601172, 0.08760540659472815, 0.16010643274208938, 0.2175030784420837, 0.11177241531051524, 0.12083504357893539, 0.07250102614736123, 0.04833401743157416, 0.16614818492103617, 0.009062628268420154, 0.003020876089473385, 0.08638249646907271, 0.17276499293814543, 0.17276499293814543, 0.17276499293814543, 0.43191248234536356, 0.16446179860140125, 0.3289235972028025, 0.10964119906760084, 0.10964119906760084, 0.21928239813520167, 0.6020830928048467, 0.34404748160276954, 0.18320577275390879, 0.6412202046386807, 0.10216866285981843, 0.051084331429909216, 0.051084331429909216, 0.14048191143225036, 0.07662649714486383, 0.06385541428738652, 0.293734905721978, 0.051084331429909216, 0.12771082857477303, 0.038313248572431916, 0.42615075854881607, 0.4971758849736187, 0.07102512642480267, 0.08350942275920953, 0.3340376910368381, 0.4175471137960477, 0.08350942275920953, 0.8421353760098796, 0.10526692200123496, 0.07643098053485503, 0.1719697062034238, 0.4968013734765577, 0.019107745133713758, 0.1337542159359963, 0.09553872566856879, 0.04339568827693776, 0.08679137655387552, 0.6316483515865385, 0.05786091770258368, 0.038573945135055784, 0.0723261471282296, 0.024108715709409867, 0.01446522942564592, 0.03375220199317381, 0.004821743141881973, 0.07969455543822813, 0.19403891758872938, 0.09701945879436469, 0.060059664967940046, 0.0773845683240766, 0.01847989691321232, 0.12011932993588009, 0.12820428483541046, 0.20905383383071438, 0.016169909799060782, 0.13577629461991178, 0.11726134535356017, 0.14503376925308756, 0.12034717023128542, 0.1049180458426591, 0.07714562194313168, 0.14811959413081283, 0.02468659902180214, 0.1049180458426591, 0.02777242389952741, 0.19049455060281173, 0.03463537283687486, 0.060611902464531, 0.34635372836874856, 0.008658843209218715, 0.19915339381203043, 0.10390611851062458, 0.05195305925531229, 0.008658843209218715, 0.209960620025687, 0.20339935064988426, 0.08529650188543533, 0.08201586719753398, 0.11154157938864621, 0.07545459782173126, 0.026245077503210874, 0.059051424382224466, 0.06889332844592855, 0.07873523250963262, 0.19748100495755766, 0.006269238252620878, 0.128519384178728, 0.21942333884173074, 0.040750048642035706, 0.23823105359959337, 0.03134619126310439, 0.06896162077882965, 0.053288525147277464, 0.012538476505241756, 0.0803716186987893, 0.1607432373975786, 0.026790539566263098, 0.3482770143614203, 0.3482770143614203, 0.182582379142533, 0.27387356871379953, 0.45645594785633253, 0.04358657247251717, 0.21793286236258583, 0.30510600730762016, 0.39227915225265453, 0.42189604055985913, 0.5449490523898181, 0.07529161047706565, 0.10267037792327133, 0.08898099420016849, 0.02737876744620569, 0.28747705818515973, 0.02737876744620569, 0.07529161047706565, 0.1916513721234398, 0.11635976164637417, 0.006844691861551422, 0.8472416334316198, 0.5825854027484683, 0.03758615501603021, 0.03758615501603021, 0.20672385258816617, 0.07517231003206042, 0.018793077508015104, 0.03758615501603021, 0.040387943710404786, 0.8077588742080957, 0.040387943710404786, 0.040387943710404786, 0.9058304345723388, 0.18018135852795486, 0.020020150947550542, 0.07340722014101865, 0.09342737108856919, 0.2002015094755054, 0.40707640260019434, 0.006673383649183513, 0.013346767298367026, 0.10077920503478834, 0.011197689448309815, 0.06718613668985889, 0.13437227337971777, 0.12317458393140795, 0.02239537889661963, 0.02239537889661963, 0.04479075779323926, 0.41431450958746313, 0.06718613668985889, 0.014310998343969109, 0.042932995031907326, 0.021466497515953663, 0.38639695528716594, 0.5151959403828879, 0.021466497515953663, 0.026920204999544842, 0.10768081999817937, 0.2961222549949933, 0.5384040999908968, 0.4623868108057965, 0.11559670270144913, 0.026422103474616942, 0.0033027629343271177, 0.04623868108057965, 0.01651381467163559, 0.09908288802981353, 0.026422103474616942, 0.16183538378202877, 0.042935918146252534, 0.08315317594472252, 0.24945952783416758, 0.49891905566833517, 0.16630635188944504, 0.15338765054515685, 0.7669382527257843, 0.8633376124118742, 0.10360051348942491, 0.03175648085901051, 0.06351296171802102, 0.1905388851540631, 0.03175648085901051, 0.4445907320261472, 0.2222953660130736, 0.7718523579169158, 0.19296308947922894, 0.6896463386244646, 0.14367632054676344, 0.05747052821870537, 0.07183816027338172, 0.014367632054676343, 0.03929747041669113, 0.04912183802086391, 0.009824367604172782, 0.30455539572935625, 0.5698133210420213, 0.009824367604172782, 0.1307040938041641, 0.15996620435733513, 0.11899924958289566, 0.1814250854296606, 0.19508073702114043, 0.07217987269782196, 0.05462260636591932, 0.03901614740422808, 0.031212917923382467, 0.01755726633190264, 0.589505198179702, 0.04136878583717207, 0.05171098229646509, 0.08273757167434415, 0.010342196459293018, 0.031026589377879055, 0.1758173398079813, 0.010342196459293018, 0.010342196459293018, 0.5473247927347608, 0.04054257723961191, 0.20271288619805955, 0.16217030895844764, 0.020271288619805955, 0.06376319004313348, 0.6376319004313349, 0.03188159502156674, 0.2231711651509672, 0.13290575647182634, 0.24366055353168162, 0.15505671588379738, 0.46517014765139214, 0.09286535675912447, 0.2785960702773734, 0.18573071351824894, 0.2785960702773734, 0.12356644043336876, 0.6796154223835281, 0.06178322021668438, 0.06178322021668438, 0.21313116412065355, 0.026641395515081694, 0.3729795372111437, 0.3729795372111437, 0.028797694360831877, 0.028797694360831877, 0.7775377477424606, 0.11519077744332751, 0.06363232213229449, 0.5726908991906504, 0.06363232213229449, 0.06363232213229449, 0.19089696639688347, 0.9233942437068859, 0.08394493124608055, 0.9666797549766625, 0.12845001881847298, 0.17126669175796397, 0.11239376646616385, 0.24084378528463682, 0.07492917764410924, 0.03746458882205462, 0.048168757056927365, 0.048168757056927365, 0.10704168234872748, 0.02676042058718187, 0.011469292882591556, 0.14910080747369023, 0.09175434306073245, 0.011469292882591556, 0.011469292882591556, 0.011469292882591556, 0.7110961587206766, 0.11611578420948153, 0.40640524473318534, 0.40640524473318534, 0.04293632546106723, 0.28051732634563925, 0.1431210848702241, 0.12880897638320168, 0.08587265092213446, 0.002862421697404482, 0.1259465546857972, 0.11735928959358376, 0.05438601225068516, 0.01717453018442689, 0.06155899236027292, 0.020519664120090972, 0.8413062289237299, 0.06155899236027292, 0.14473845711399877, 0.013950694661590242, 0.10463020996192682, 0.25111250390862433, 0.010463020996192682, 0.2964522615587926, 0.006975347330795121, 0.14299462028129997, 0.005231510498096341, 0.024413715657782924, 0.3491622384348283, 0.021614805236441752, 0.09643528490104782, 0.11139938083396903, 0.01662677325880135, 0.18788253782445524, 0.009976063955280808, 0.1396648953739313, 0.05154299710228418, 0.014964095932921213, 0.1410035833404023, 0.35250895835100576, 0.49351254169140807, 0.1843639405390881, 0.1560002573792284, 0.14890933658926347, 0.1276365742193687, 0.10636381184947391, 0.0390000643448071, 0.1560002573792284, 0.01772730197491232, 0.042545524739789564, 0.024818222764877246, 0.2016711206963501, 0.06722370689878336, 0.5377896551902669, 0.06722370689878336, 0.06722370689878336, 0.04723600774765106, 0.04723600774765106, 0.8502481394577192, 0.05872392293934195, 0.5754944448055511, 0.017617176881802584, 0.005872392293934195, 0.04110674605753937, 0.04697913835147356, 0.17029937652409166, 0.029361961469670975, 0.04697913835147356, 0.7017198243079843, 0.2774241165868775, 0.13703591872601711, 0.05872967945400733, 0.23491871781602933, 0.19576559818002445, 0.07341209931750917, 0.14193005868051772, 0.044047259590505504, 0.06362381940850795, 0.024470699772503057, 0.024470699772503057, 0.36687049201016037, 0.5207194080144212, 0.011834532000327753, 0.05917266000163877, 0.023669064000655507, 0.011834532000327753, 0.19810807654228874, 0.049527019135572184, 0.6438512487624384, 0.049527019135572184, 0.05658063397289901, 0.5846665510532898, 0.037720422648599344, 0.037720422648599344, 0.11316126794579802, 0.09430105662149836, 0.037720422648599344, 0.031737316804885396, 0.8569075537319057, 0.031737316804885396, 0.06347463360977079, 0.5639345900437384, 0.31329699446874354, 0.0626593988937487, 0.12542832020575653, 0.7525699212345393, 0.06271416010287827, 0.8260336130052495, 0.11800480185789279, 0.24953105904715595, 0.24953105904715595, 0.06469323753074413, 0.036967564303282366, 0.08317701968238532, 0.05545134645492354, 0.23104727689551477, 0.018483782151641183, 0.16286904015956663, 0.1494825437080954, 0.16286904015956663, 0.12494063354706482, 0.09593655790221048, 0.10709197161176984, 0.04239057209632556, 0.07362573048309176, 0.06916356499926803, 0.01338649645147123, 0.09860752295311417, 0.07395564221483564, 0.6409488991952421, 0.1725631651679498, 0.2507115838079107, 0.02279196216435552, 0.02279196216435552, 0.6837588649306656, 0.09304570935057695, 0.09304570935057695, 0.015507618225096158, 0.015507618225096158, 0.09304570935057695, 0.20159903692625006, 0.10855332757567311, 0.06203047290038463, 0.2636295098266347, 0.04652285467528847, 0.48902897010411495, 0.023287093814481664, 0.023287093814481664, 0.023287093814481664, 0.44245478247515163, 0.3080782578706091, 0.1320335390874039, 0.5281341563496156, 0.23479263802303998, 0.5478494887204266, 0.07826421267434666, 0.07826421267434666, 0.18619617489957405, 0.13964713117468053, 0.13964713117468053, 0.04654904372489351, 0.4189413935240416, 0.04654904372489351, 0.8284337704519978, 0.05522891803013319, 0.05522891803013319, 0.16337895424750476, 0.14463054966172553, 0.12052545805143795, 0.14195220614947135, 0.05624521375733771, 0.11249042751467542, 0.13123883210045464, 0.06695858780635441, 0.06160190078184606, 0.0026783435122541767, 0.8621559144058212, 0.0957951016006468, 0.9161777330762516, 0.03645619113753546, 0.03645619113753546, 0.8020362050257802, 0.03645619113753546, 0.03645619113753546, 0.1940541185102966, 0.06468470617009887, 0.1940541185102966, 0.4527929431906921, 0.8191757954832395, 0.09101953283147105, 0.7523981904820075, 0.08359979894244528, 0.611533732349666, 0.131042942646357, 0.131042942646357, 0.043680980882119, 0.043680980882119, 0.16811702350803137, 0.08405851175401569, 0.16811702350803137, 0.42029255877007843, 0.08405851175401569, 0.4811799580241507, 0.4811799580241507, 0.051957959428634085, 0.060617619333406425, 0.12123523866681285, 0.08659659904772347, 0.03463863961908939, 0.07793693914295112, 0.17319319809544695, 0.3290670763813492, 0.025978979714317042, 0.051957959428634085, 0.04872758966097399, 0.14618276898292198, 0.24363794830486996, 0.29236553796584397, 0.24363794830486996, 0.1449793498423039, 0.07248967492115195, 0.1449793498423039, 0.5074277244480636, 0.07248967492115195, 0.11901165717563399, 0.15105325718445853, 0.21513645720210758, 0.14647588575462644, 0.06866057144748115, 0.05035108572815284, 0.12816640003529814, 0.06866057144748115, 0.018309485719328306, 0.02746422857899246, 0.29745388336973344, 0.0495756472282889, 0.14872694168486672, 0.0495756472282889, 0.1983025889131556, 0.24787823614144452, 0.19807235702818216, 0.08665665619982969, 0.18156632727583363, 0.14855426777113662, 0.11966871570452672, 0.11554220826643959, 0.02475904462852277, 0.05364459669513267, 0.028885552066609897, 0.041265074380871285, 0.018826039131237707, 0.5647811739371312, 0.023532548914047133, 0.037652078262475415, 0.14590180326709223, 0.03294556847966599, 0.009413019565618854, 0.13648878370147338, 0.004706509782809427, 0.02823905869685656, 0.041485774323198624, 0.12445732296959587, 0.08297154864639725, 0.4978292918783835, 0.2904004202623904, 0.14519549048592859, 0.07259774524296429, 0.6533797071866786, 0.07259774524296429, 0.07754483942620197, 0.6203587154096157, 0.23263451827860587, 0.1530603124771028, 0.13775428122939254, 0.015306031247710282, 0.06122412499084113, 0.3520387186973365, 0.015306031247710282, 0.015306031247710282, 0.10714221873397198, 0.10714221873397198, 0.015306031247710282, 0.08477217967603957, 0.6357913475702969, 0.08477217967603957, 0.08477217967603957, 0.12715826951405937, 0.022420341890939968, 0.8295526499647788, 0.11210170945469984, 0.14892089248879012, 0.07446044624439506, 0.14892089248879012, 0.14892089248879012, 0.4467626774663704, 0.3857834174117532, 0.15995897795121475, 0.07527481315351282, 0.03763740657675641, 0.14114027466283655, 0.009409351644189103, 0.03763740657675641, 0.018818703288378206, 0.13173092301864744, 0.1717363971685383, 0.08586819858426915, 0.2576045957528075, 0.08586819858426915, 0.3434727943370766, 0.02040831193235306, 0.08163324772941224, 0.6122493579705918, 0.24489974318823673, 0.02040831193235306, 0.02040831193235306, 0.024951155026126194, 0.7263558463161182, 0.011089402233833865, 0.008317051675375399, 0.005544701116916933, 0.21624334355976035, 0.005544701116916933, 0.0027723505584584664, 0.08232920959191163, 0.8232920959191163, 0.04763416620598799, 0.04763416620598799, 0.14290249861796395, 0.14290249861796395, 0.14290249861796395, 0.4287074958538919, 0.6010395809191822, 0.10927992380348767, 0.05463996190174383, 0.10927992380348767, 0.033614884914869345, 0.4706083888081708, 0.20168930948921604, 0.033614884914869345, 0.033614884914869345, 0.20168930948921604, 0.04538948403447393, 0.09077896806894786, 0.7943159706032938, 0.04538948403447393, 0.0347146086972155, 0.555433739155448, 0.069429217394431, 0.208287652183293, 0.0347146086972155, 0.069429217394431, 0.012200184670923165, 0.7564114495972363, 0.012200184670923165, 0.012200184670923165, 0.15860240072200116, 0.012200184670923165, 0.036600554012769494, 0.005745510814739209, 0.33898513806961333, 0.04596408651791367, 0.15512879199795862, 0.27578451910748203, 0.005745510814739209, 0.14938328118321942, 0.017236532444217627, 0.9594738110007032, 0.1445504132003266, 0.01606115702225851, 0.10439752064468032, 0.17667272724484362, 0.28107024788952395, 0.26500909086726543, 0.03700172959160903, 0.3330155663244813, 0.5180242142825264, 0.03700172959160903, 0.03700172959160903, 0.03700172959160903, 0.2837231288200263, 0.6809355091680631, 0.028372312882002627, 0.014186156441001314, 0.26214257278476394, 0.6553564319619098, 0.043690428797460656, 0.7455011783232609, 0.09318764729040761, 0.09318764729040761, 0.8499405050177735, 0.0708283754181478, 0.028711536901403996, 0.0344538442816848, 0.5857153527886415, 0.005742307380280799, 0.05742307380280799, 0.16652691402814318, 0.05168076642252719, 0.0344538442816848, 0.0344538442816848, 0.7611910058049436, 0.17565946287806392, 0.010867032219420075, 0.06520219331652045, 0.5650856754098439, 0.0434681288776803, 0.054335161097100376, 0.02173406443884015, 0.16300548329130113, 0.06520219331652045, 0.02173406443884015, 0.1190292636033616, 0.02026030018780623, 0.2279283771128201, 0.08104120075122492, 0.2557862898710537, 0.05318328799299136, 0.03292298780518513, 0.15448478893202253, 0.0481182129460398, 0.0075976125704273366, 0.21723367422561324, 0.14482244948374218, 0.4344673484512265, 0.14482244948374218, 0.04572889031134939, 0.5436656959238205, 0.06605284156083802, 0.040647902498977234, 0.06605284156083802, 0.07621481718558232, 0.09145778062269878, 0.010161975624744309, 0.040647902498977234, 0.020323951249488617, 0.02502546294772369, 0.1751782406340658, 0.016683641965149126, 0.016683641965149126, 0.05839274687802194, 0.02502546294772369, 0.12512731473861843, 0.03336728393029825, 0.48382561698932464, 0.03336728393029825, 0.6210982754178004, 0.03185119361116925, 0.047776790416753874, 0.03185119361116925, 0.015925596805584624, 0.23888395208376936, 0.1985220930859212, 0.11210659374263786, 0.1401332421782973, 0.1261199179604676, 0.07006662108914866, 0.13546213410568742, 0.0630599589802338, 0.08641549934328335, 0.042039972653489195, 0.02569109439935451, 0.03242051503503124, 0.183716251865177, 0.5403419172505206, 0.183716251865177, 0.010806838345010412, 0.021613676690020824, 0.03242051503503124, 0.027260461905452366, 0.667881316683583, 0.0817813857163571, 0.14993254047998802, 0.05452092381090473, 0.877936338820834, 0.25534715307012273, 0.6809257415203273, 0.09505211875016469, 0.2376302968754117, 0.04752605937508234, 0.07128908906262352, 0.02376302968754117, 0.19010423750032937, 0.09505211875016469, 0.2376302968754117, 0.1805480800876732, 0.12036538672511547, 0.24073077345023094, 0.12036538672511547, 0.24073077345023094, 0.04528831409517633, 0.12076883758713687, 0.12076883758713687, 0.015096104698392109, 0.04528831409517633, 0.015096104698392109, 0.10567273288874476, 0.49817145504693955, 0.09127685699030776, 0.6389379989321543, 0.09127685699030776, 0.09127685699030776, 0.8771267073744785, 0.15609854850945518, 0.780492742547276, 0.17862410887421798, 0.17862410887421798, 0.035724821774843596, 0.07144964354968719, 0.10717446532453079, 0.42869786129812315, 0.14486145551132043, 0.21729218326698066, 0.07243072775566022, 0.5070150942896215, 0.12527817925814275, 0.10439848271511895, 0.15311777464884113, 0.20183706658256328, 0.06959898847674596, 0.027839595390698385, 0.18095737003953952, 0.10439848271511895, 0.027839595390698385, 0.3626415928514887, 0.6044026547524811, 0.01511006636881203, 0.08029378189648698, 0.8029378189648698, 0.08029378189648698, 0.3977929439624411, 0.5303905919499214, 0.03314941199687009, 0.23359854131221788, 0.029199817664027235, 0.014599908832013618, 0.5109968091204766, 0.029199817664027235, 0.029199817664027235, 0.11679927065610894, 0.04379972649604085, 0.08127092045681408, 0.018963214773256618, 0.22214051591529183, 0.1842140863687786, 0.24652179205233604, 0.02167224545515042, 0.016254184091362818, 0.15983281023173437, 0.0027090306818938026, 0.04876255227408845, 0.0476100586139775, 0.095220117227955, 0.095220117227955, 0.666540820595685, 0.0476100586139775, 0.07597396928992728, 0.07597396928992728, 0.11396095393489092, 0.15194793857985456, 0.531817785029491, 0.2913019610354499, 0.004161456586220713, 0.043695294155317484, 0.19142700296615278, 0.06450257708642104, 0.0665833053795314, 0.07906767513819354, 0.2143150141903667, 0.043695294155317484, 0.004161456586220713, 0.006059286928204362, 0.07271144313845235, 0.012118573856408724, 0.8180037353075889, 0.08483001699486106, 0.5593219361792987, 0.03551250388439992, 0.05326875582659988, 0.09322032269654978, 0.15536720449424965, 0.01331718895664997, 0.03551250388439992, 0.04882969284104989, 0.00443906298554999, 0.1569776590468675, 0.04485075972767643, 0.26910455836605857, 0.04485075972767643, 0.08970151945535286, 0.04485075972767643, 0.35880607782141144, 0.253287653036657, 0.16885843535777134, 0.42214608839442835, 0.08442921767888567, 0.08178536718237073, 0.032714146872948296, 0.05724975702765951, 0.16357073436474145, 0.33532000544772, 0.016357073436474148, 0.28624878513829755, 0.02453561015471122, 0.049572758239726546, 0.09914551647945309, 0.12393189559931637, 0.22307741207876947, 0.4213684450376757, 0.049572758239726546, 0.04707563552877825, 0.0564907626345339, 0.0941512710575565, 0.16005716079784604, 0.49900173660504943, 0.0753210168460452, 0.0564907626345339, 0.509379253047864, 0.198091931740836, 0.099045965870418, 0.155643660653514, 0.028298847391548, 0.29422755018994373, 0.24305754146125788, 0.095943766366286, 0.08315126418411453, 0.051170008728685865, 0.03198125545542867, 0.025585004364342932, 0.0191887532732572, 0.1343212729128004, 0.012792502182171466, 0.070788024202252, 0.010112574886035999, 0.15168862329053998, 0.070788024202252, 0.535966468959908, 0.070788024202252, 0.050562874430179996, 0.030337724658108, 0.02411561765695161, 0.16880932359866127, 0.07234685297085483, 0.07234685297085483, 0.6270060590807418, 0.02411561765695161, 0.21100719078507962, 0.41598560469058554, 0.10248920695275296, 0.012057553759147407, 0.23512229830337444, 0.012057553759147407, 0.043016435821468704, 0.9033451522508428, 0.043016435821468704, 0.4067102859122637, 0.5083878573903297, 0.050838785739032964, 0.22453021678583104, 0.04100117002176045, 0.16009980675163604, 0.15814737008393318, 0.04295360668946333, 0.1542424967485274, 0.0820023400435209, 0.07419259337270939, 0.04490604335716621, 0.017571930009325908, 0.14326156696246506, 0.6446770513310928, 0.07163078348123253, 0.14326156696246506, 0.0878512136163793, 0.047304499639588854, 0.22976471253514588, 0.1554290702443634, 0.06082007096518567, 0.033788928313992043, 0.006757785662798408, 0.3108581404887268, 0.013515571325596816, 0.06082007096518567, 0.09103681058293826, 0.45518405291469133, 0.14224501653584104, 0.04551840529146913, 0.05120820595290277, 0.011379601322867283, 0.11379601322867283, 0.04551840529146913, 0.04551840529146913, 0.3967727259624269, 0.3967727259624269, 0.19838636298121345, 0.18841231568907876, 0.020934701743230977, 0.6908451575266222, 0.10467350871615487, 0.144186184597664, 0.144186184597664, 0.648837830689488, 0.944350928621304, 0.012264297774302648, 0.012264297774302648, 0.024528595548605297, 0.8524011008695602, 0.08742575393533951, 0.021856438483834877, 0.021856438483834877, 0.12035531951967197, 0.051580851222716564, 0.42984042685597135, 0.051580851222716564, 0.12035531951967197, 0.10316170244543313, 0.06877446829695541, 0.034387234148477705, 0.017193617074238852, 0.022693689322951696, 0.7942791263033093, 0.022693689322951696, 0.04538737864590339, 0.022693689322951696, 0.06808106796885509, 0.14714123506372473, 0.06539610447276654, 0.016349026118191636, 0.17983928730010798, 0.049047078354574905, 0.5068198096639407, 0.03269805223638327, 0.3341698238199841, 0.13366792952799364, 0.5012547357299761, 0.0847423890483698, 0.8474238904836979, 0.24487672442102434, 0.18183915179779037, 0.11152801310264475, 0.043641396431469685, 0.029094264287646457, 0.12849966727043852, 0.08000922679102776, 0.055764006551322375, 0.1018299250067626, 0.024245220239705382, 0.8148761048051077, 0.04793388851794751, 0.09586777703589502, 0.12705029295704992, 0.25410058591409984, 0.12705029295704992, 0.44467602534967476, 0.06352514647852496, 0.04529556128350937, 0.36236449026807493, 0.04529556128350937, 0.4076600515515843, 0.09059112256701873, 0.24019887678146878, 0.055430510026492796, 0.0184768366754976, 0.046192091688744, 0.0092384183377488, 0.46192091688743997, 0.0369536733509952, 0.027715255013246398, 0.092384183377488, 0.331098388116275, 0.49664758217441257, 0.08277459702906875, 0.1367503601584988, 0.34589796981267346, 0.032176555331411484, 0.04022069416426435, 0.12066208249279306, 0.08848552716138158, 0.08848552716138158, 0.032176555331411484, 0.12066208249279306, 0.03495669781325924, 0.06991339562651848, 0.10487009343977773, 0.5593071650121478, 0.06991339562651848, 0.03495669781325924, 0.06991339562651848, 0.14496251510496355, 0.07972938330772995, 0.021744377265744533, 0.043488754531489066, 0.07972938330772995, 0.28267690445467897, 0.014496251510496357, 0.2681806529441826, 0.021744377265744533, 0.03624062877624089, 0.20529030469067924, 0.16252149121345438, 0.08553762695444968, 0.11119891504078458, 0.017107525390889937, 0.034215050781779874, 0.24805911816790407, 0.10264515234533962, 0.034215050781779874, 0.09157448711166313, 0.20885409341256506, 0.08836134721300828, 0.4321673163690769, 0.038557678783858164, 0.04337738863184044, 0.04980366842915013, 0.011245989645291964, 0.030524829037221046, 0.008032849746637117, 0.16471094077028717, 0.04117773519257179, 0.16471094077028717, 0.4941328223108615, 0.12353320557771537, 0.6610499881038407, 0.01502386336599638, 0.13521477029396742, 0.0751193168299819, 0.09014318019597828, 0.06319898510588864, 0.6319898510588865, 0.1263979702117773, 0.06319898510588864, 0.011624006512649126, 0.6393203581957019, 0.011624006512649126, 0.092992052101193, 0.0464960260505965, 0.05812003256324563, 0.02324801302529825, 0.10461605861384213, 0.23034360575500926, 0.21679398188706753, 0.12194661481147549, 0.10839699094353376, 0.04064887160382517, 0.01354962386794172, 0.02709924773588344, 0.23034360575500926, 0.25124747225255906, 0.05506793912384855, 0.07227667010005123, 0.14111159400486192, 0.05506793912384855, 0.058509685319089094, 0.18929604073822942, 0.030975715757164814, 0.12046111683341872, 0.024092223366683742, 0.03464627601858027, 0.03464627601858027, 0.023097517345720183, 0.127036345401461, 0.06929255203716055, 0.06929255203716055, 0.2425239321300619, 0.03464627601858027, 0.34646276018580274, 0.4244871683932913, 0.03979567203687106, 0.013265224012290354, 0.13265224012290353, 0.1724479121597746, 0.13265224012290353, 0.06632612006145176, 0.180336200615226, 0.0450840501538065, 0.0450840501538065, 0.6762607523070976, 0.0450840501538065, 0.5187326457806083, 0.07410466368294404, 0.3705233184147202, 0.6548866077419336, 0.003658584400792925, 0.00731716880158585, 0.003658584400792925, 0.02195150640475755, 0.3036625052658128, 0.10888791105309843, 0.021777582210619685, 0.04355516442123937, 0.06533274663185906, 0.1959982398955772, 0.5444395552654921, 0.06454881567714435, 0.06454881567714435, 0.1290976313542887, 0.7100369724485879, 0.6627615356906645, 0.2209205118968882, 0.05523012797422205, 0.8277461991778365, 0.07524965447071241, 0.07524965447071241, 0.21732151964458157, 0.3984227860150662, 0.2897620261927754, 0.03622025327409693, 0.2257554434051811, 0.0752518144683937, 0.6020145157471496, 0.2819090999869111, 0.052857956247545836, 0.2819090999869111, 0.3523863749836389, 0.017619318749181944, 0.19680918961349328, 0.14313395608254056, 0.5904275688404799, 0.053675233530952715, 0.04968873226114381, 0.07453309839171571, 0.27328802743629094, 0.07453309839171571, 0.08695528145700167, 0.024844366130571904, 0.2857102105015769, 0.07453309839171571, 0.037266549195857854, 0.012422183065285952, 0.05069781355578881, 0.17744234744526086, 0.17744234744526086, 0.557675949113677, 0.15942572216416737, 0.0911004126652385, 0.022775103166309624, 0.15942572216416737, 0.4555020633261925, 0.06832530949892887, 0.022775103166309624, 0.16162270983307356, 0.2154969464440981, 0.05387423661102452, 0.16162270983307356, 0.10774847322204904, 0.2693711830551226, 0.6335841277156399, 0.18102403649018284, 0.09051201824509142, 0.0933338263200702, 0.0933338263200702, 0.1866676526401404, 0.0933338263200702, 0.0933338263200702, 0.3733353052802808, 0.612005805164049, 0.08742940073772129, 0.17485880147544258, 0.08742940073772129, 0.04764136934383501, 0.034029549531310724, 0.08847682878140788, 0.04764136934383501, 0.660173260907428, 0.034029549531310724, 0.06805909906262145, 0.01361181981252429, 0.07422014591546011, 0.07422014591546011, 0.8164216050700612, 0.045956581116762756, 0.13786974335028826, 0.045956581116762756, 0.5974355545179159, 0.13786974335028826, 0.032298796942212056, 0.032298796942212056, 0.8155446227908545, 0.0565228946488711, 0.04844819541331809, 0.04719087842108985, 0.2831452705265391, 0.4483133450003536, 0.011797719605272462, 0.1297749156579971, 0.07078631763163477, 0.005084663708225472, 0.5643976716130273, 0.29491049507707734, 0.005084663708225472, 0.02542331854112736, 0.05084663708225472, 0.05084663708225472, 0.9545416955559908, 0.01801022067086775, 0.07092169678211031, 0.6619358366330296, 0.04728113118807354, 0.09456226237614708, 0.09456226237614708, 0.02364056559403677, 0.0843055346720452, 0.0843055346720452, 0.7587498120484069, 0.1511829635308618, 0.05399391554673636, 0.04165244913605376, 0.08484758157344285, 0.3656159424164719, 0.14038418042151454, 0.032396349328041814, 0.07867684836810156, 0.018512199616023895, 0.032396349328041814, 0.18970612339101448, 0.13196947714157528, 0.13196947714157528, 0.1484656617842722, 0.05773664624943919, 0.05773664624943919, 0.06186069241011341, 0.10722520017752991, 0.09485306169550724, 0.024744276964045363], \"Term\": [\"abstractive\", \"abstractive\", \"account\", \"account\", \"account\", \"account\", \"account\", \"account\", \"account\", \"acoustic\", \"acoustic\", \"acoustic\", \"acoustic\", \"acoustic\", \"adaptation\", \"adaptation\", \"adaptation\", \"address\", \"address\", \"address\", \"address\", \"address\", \"address\", \"address\", \"address\", \"adversarial\", \"adversarial\", \"adversarial\", \"adversarial\", \"adversarial\", \"adversarial\", \"adversarial\", \"adversarial\", \"adversarial\", \"agent\", \"agent\", \"agent\", \"agent\", \"al\", \"al\", \"al\", \"al\", \"al\", \"al\", \"al\", \"al\", \"american\", \"american\", \"american\", \"american\", \"american\", \"analysis\", \"analysis\", \"analysis\", \"analysis\", \"analysis\", \"analysis\", \"analysis\", \"analysis\", \"analysis\", \"analysis\", \"annotator\", \"annotator\", \"annotator\", \"annotator\", \"annotator\", \"answer\", \"answer\", \"answer\", \"answer\", \"applicable\", \"applicable\", \"applicable\", \"applicable\", \"application\", \"application\", \"application\", \"application\", \"application\", \"application\", \"application\", \"application\", \"application\", \"approach\", \"approach\", \"approach\", \"approach\", \"approach\", \"approach\", \"approach\", \"approach\", \"approach\", \"approach\", \"architecture\", \"architecture\", \"architecture\", \"architecture\", \"architecture\", \"architecture\", \"architecture\", \"architecture\", \"architecture\", \"architecture\", \"argument\", \"argument\", \"art\", \"art\", \"art\", \"art\", \"art\", \"art\", \"art\", \"art\", \"art\", \"art\", \"article\", \"article\", \"article\", \"article\", \"article\", \"article\", \"article\", \"article\", \"aspect\", \"aspect\", \"aspect\", \"aspect\", \"aspect\", \"aspect\", \"aspect\", \"aspect\", \"association\", \"association\", \"association\", \"association\", \"association\", \"association\", \"association\", \"assumption\", \"assumption\", \"assumption\", \"assumption\", \"attention\", \"attention\", \"attention\", \"attention\", \"attention\", \"attention\", \"attention\", \"attention\", \"attention\", \"attention\", \"audio\", \"audio\", \"autoencoder\", \"autoencoder\", \"autoencoder\", \"automatic\", \"automatic\", \"automatic\", \"automatic\", \"automatic\", \"automatic\", \"automatic\", \"automatic\", \"automatic\", \"availability\", \"availability\", \"availability\", \"availability\", \"availability\", \"available\", \"available\", \"available\", \"available\", \"available\", \"available\", \"available\", \"available\", \"available\", \"available\", \"b\", \"b\", \"b\", \"b\", \"b\", \"b\", \"bad\", \"bad\", \"bad\", \"base\", \"base\", \"base\", \"base\", \"base\", \"base\", \"basis\", \"basis\", \"basis\", \"basis\", \"behavior\", \"behavior\", \"behavior\", \"behavior\", \"benchmark\", \"benchmark\", \"benchmark\", \"benchmark\", \"benchmark\", \"benchmark\", \"benchmark\", \"benchmark\", \"benchmark\", \"benchmark\", \"bert\", \"bert\", \"bert\", \"bert\", \"bert\", \"bias\", \"bias\", \"bias\", \"bias\", \"bias\", \"bias\", \"bias\", \"bilingual\", \"bilingual\", \"bilingual\", \"biomedical\", \"biomedical\", \"biomedical\", \"biomedical\", \"bleu\", \"bleu\", \"book\", \"book\", \"book\", \"book\", \"book\", \"box\", \"box\", \"box\", \"box\", \"box\", \"brain\", \"brain\", \"brain\", \"building\", \"building\", \"building\", \"building\", \"building\", \"building\", \"building\", \"capability\", \"capability\", \"capability\", \"capability\", \"capability\", \"capability\", \"capability\", \"caption\", \"caption\", \"caption\", \"caption\", \"caption\", \"captioning\", \"captioning\", \"captioning\", \"captioning\", \"captioning\", \"capturing\", \"capturing\", \"capturing\", \"carefully\", \"carefully\", \"carefully\", \"carefully\", \"carefully\", \"cell\", \"cell\", \"cell\", \"challenge\", \"challenge\", \"challenge\", \"challenge\", \"challenge\", \"challenge\", \"challenge\", \"challenge\", \"challenge\", \"challenge\", \"change\", \"change\", \"change\", \"change\", \"change\", \"change\", \"character\", \"character\", \"character\", \"character\", \"character\", \"character\", \"classification\", \"classification\", \"classification\", \"classification\", \"classification\", \"classification\", \"classification\", \"classification\", \"classification\", \"classification\", \"clinical\", \"clinical\", \"clinical\", \"clip\", \"clip\", \"cnn\", \"cnn\", \"cnn\", \"cnn\", \"cnn\", \"cnn\", \"cnn\", \"coco\", \"coco\", \"coherence\", \"coherence\", \"coherence\", \"coherence\", \"comment\", \"comment\", \"comment\", \"comment\", \"commonly\", \"commonly\", \"commonly\", \"commonly\", \"commonly\", \"commonsense\", \"commonsense\", \"commonsense\", \"commonsense\", \"commonsense\", \"community\", \"community\", \"community\", \"community\", \"community\", \"community\", \"community\", \"completion\", \"completion\", \"completion\", \"comprehension\", \"comprehension\", \"comprehension\", \"comprehension\", \"comprehension\", \"comprehension\", \"comprehension\", \"comprehension\", \"concept\", \"concept\", \"concept\", \"concept\", \"concept\", \"concept\", \"concept\", \"concept\", \"concept\", \"conclusion\", \"conclusion\", \"conclusion\", \"condition\", \"condition\", \"condition\", \"condition\", \"conference\", \"conference\", \"conll\", \"conll\", \"conll\", \"constraint\", \"constraint\", \"constraint\", \"constraint\", \"constraint\", \"constraint\", \"contexts\", \"contexts\", \"contexts\", \"convolution\", \"convolution\", \"convolution\", \"convolution\", \"convolutional\", \"convolutional\", \"convolutional\", \"convolutional\", \"convolutional\", \"convolutional\", \"convolutional\", \"corpora\", \"corpora\", \"corpora\", \"corpora\", \"corpora\", \"corpora\", \"corpora\", \"corpora\", \"corpora\", \"corpora\", \"corpus\", \"corpus\", \"corpus\", \"corpus\", \"corpus\", \"corpus\", \"corpus\", \"corpus\", \"corpus\", \"corpus\", \"coverage\", \"coverage\", \"coverage\", \"coverage\", \"crf\", \"criterion\", \"criterion\", \"criterion\", \"criterion\", \"cross\", \"cross\", \"cross\", \"cross\", \"cross\", \"cross\", \"cross\", \"cross\", \"cue\", \"cue\", \"dataset\", \"dataset\", \"dataset\", \"dataset\", \"dataset\", \"dataset\", \"dataset\", \"dataset\", \"dataset\", \"dataset\", \"date\", \"date\", \"date\", \"datum\", \"datum\", \"datum\", \"datum\", \"datum\", \"datum\", \"datum\", \"datum\", \"datum\", \"datum\", \"decision\", \"decision\", \"decision\", \"decision\", \"decision\", \"decision\", \"decision\", \"decision\", \"decoder\", \"decoder\", \"decoder\", \"deep\", \"deep\", \"deep\", \"deep\", \"deep\", \"deep\", \"deep\", \"deep\", \"deep\", \"definition\", \"definition\", \"degree\", \"degree\", \"degree\", \"degree\", \"dependency\", \"dependency\", \"dependency\", \"dependency\", \"dependency\", \"dependency\", \"dependency\", \"dependency\", \"dependency\", \"description\", \"description\", \"description\", \"description\", \"description\", \"description\", \"description\", \"description\", \"desirable\", \"desirable\", \"desirable\", \"detection\", \"detection\", \"detection\", \"detection\", \"detection\", \"detection\", \"detection\", \"detection\", \"detector\", \"detector\", \"detector\", \"dialog\", \"dialog\", \"dialog\", \"dialog\", \"dialog\", \"dialogue\", \"dialogue\", \"dialogue\", \"dialogue\", \"dialogue\", \"dialogue\", \"different\", \"different\", \"different\", \"different\", \"different\", \"different\", \"different\", \"different\", \"different\", \"different\", \"directional\", \"directional\", \"directional\", \"directional\", \"directional\", \"discourse\", \"discourse\", \"discourse\", \"discuss\", \"discuss\", \"discuss\", \"discussion\", \"discussion\", \"disease\", \"disease\", \"disease\", \"disease\", \"distributional\", \"distributional\", \"diverse\", \"diverse\", \"diverse\", \"diverse\", \"diverse\", \"diverse\", \"diverse\", \"diverse\", \"diversity\", \"diversity\", \"diversity\", \"diversity\", \"document\", \"document\", \"document\", \"document\", \"document\", \"document\", \"document\", \"document\", \"domain\", \"domain\", \"domain\", \"domain\", \"domain\", \"domain\", \"domain\", \"domain\", \"domain\", \"domain\", \"efficiency\", \"efficiency\", \"efficiency\", \"efficiency\", \"electronic\", \"elmo\", \"elmo\", \"elmo\", \"elmo\", \"embedding\", \"embedding\", \"embedding\", \"embedding\", \"embedding\", \"embedding\", \"embedding\", \"embedding\", \"embedding\", \"embedding\", \"emotion\", \"emotion\", \"emotion\", \"emotion\", \"emotion\", \"encoder\", \"encoder\", \"encoder\", \"encoder\", \"encoder\", \"encoder\", \"encoder\", \"encoder\", \"encoding\", \"encoding\", \"encoding\", \"encoding\", \"encoding\", \"end\", \"end\", \"end\", \"end\", \"end\", \"end\", \"end\", \"end\", \"end\", \"end\", \"engineering\", \"engineering\", \"engineering\", \"engineering\", \"engineering\", \"english\", \"english\", \"english\", \"english\", \"english\", \"english\", \"english\", \"english\", \"english\", \"entailment\", \"entailment\", \"entailment\", \"entailment\", \"entity\", \"entity\", \"entity\", \"entity\", \"entity\", \"entity\", \"entity\", \"entity\", \"entity\", \"environment\", \"environment\", \"environment\", \"environment\", \"equivalent\", \"equivalent\", \"equivalent\", \"equivalent\", \"et\", \"et\", \"et\", \"et\", \"et\", \"et\", \"et\", \"et\", \"evaluation\", \"evaluation\", \"evaluation\", \"evaluation\", \"evaluation\", \"evaluation\", \"evaluation\", \"evaluation\", \"evaluation\", \"evaluation\", \"examine\", \"examine\", \"examine\", \"examine\", \"example\", \"example\", \"example\", \"example\", \"example\", \"example\", \"example\", \"example\", \"example\", \"exhibit\", \"exhibit\", \"exhibit\", \"exhibit\", \"exhibit\", \"experiment\", \"experiment\", \"experiment\", \"experiment\", \"experiment\", \"experiment\", \"experiment\", \"experiment\", \"experiment\", \"experiment\", \"experimentally\", \"experimentally\", \"experimentally\", \"experimentally\", \"experimentally\", \"explanation\", \"explanation\", \"explanation\", \"explanation\", \"explanation\", \"explanation\", \"external\", \"external\", \"external\", \"external\", \"external\", \"external\", \"extraction\", \"extraction\", \"extraction\", \"extraction\", \"extraction\", \"extraction\", \"extraction\", \"extraction\", \"extraction\", \"extractive\", \"fact\", \"fact\", \"fact\", \"fact\", \"fact\", \"fact\", \"family\", \"family\", \"family\", \"feature\", \"feature\", \"feature\", \"feature\", \"feature\", \"feature\", \"feature\", \"feature\", \"feature\", \"feature\", \"field\", \"field\", \"field\", \"field\", \"field\", \"field\", \"field\", \"field\", \"field\", \"fluency\", \"fluency\", \"fluency\", \"format\", \"format\", \"format\", \"format\", \"format\", \"formulation\", \"formulation\", \"formulation\", \"freely\", \"freely\", \"french\", \"french\", \"frequency\", \"frequency\", \"frequency\", \"frequency\", \"frequency\", \"frequency\", \"fully\", \"fully\", \"fully\", \"fully\", \"fully\", \"fully\", \"fully\", \"fusion\", \"fusion\", \"gap\", \"gap\", \"gap\", \"gap\", \"gap\", \"gap\", \"gap\", \"gap\", \"gender\", \"gender\", \"gender\", \"gender\", \"generalization\", \"generalization\", \"generalization\", \"generalization\", \"generalization\", \"generalization\", \"generalization\", \"generate\", \"generate\", \"generate\", \"generate\", \"generation\", \"generation\", \"generation\", \"generation\", \"generation\", \"generation\", \"generator\", \"generator\", \"generator\", \"genome\", \"genome\", \"german\", \"german\", \"glue\", \"google\", \"google\", \"google\", \"gram\", \"gram\", \"gram\", \"gram\", \"grammatical\", \"grammatical\", \"grammatical\", \"grammatical\", \"graph\", \"graph\", \"graph\", \"graph\", \"graph\", \"graph\", \"graph\", \"graph\", \"greatly\", \"greatly\", \"greatly\", \"greatly\", \"greatly\", \"group\", \"group\", \"group\", \"group\", \"guideline\", \"guideline\", \"hate\", \"hate\", \"health\", \"heuristic\", \"heuristic\", \"heuristic\", \"heuristic\", \"heuristic\", \"heuristic\", \"heuristic\", \"heuristic\", \"human\", \"human\", \"human\", \"human\", \"human\", \"human\", \"human\", \"human\", \"human\", \"human\", \"hybrid\", \"hybrid\", \"hybrid\", \"hybrid\", \"hybrid\", \"hyperparameter\", \"hyperparameter\", \"hyperparameter\", \"hyperparameter\", \"hypothesis\", \"hypothesis\", \"hypothesis\", \"hypothesis\", \"hypothesis\", \"hypothesis\", \"identification\", \"identification\", \"identification\", \"identification\", \"identification\", \"image\", \"image\", \"image\", \"image\", \"image\", \"image\", \"image\", \"implication\", \"implication\", \"implication\", \"importantly\", \"importantly\", \"importantly\", \"importantly\", \"importantly\", \"independent\", \"independent\", \"independent\", \"independent\", \"independent\", \"independent\", \"independent\", \"independent\", \"inference\", \"inference\", \"inference\", \"inference\", \"inference\", \"inference\", \"inference\", \"inference\", \"information\", \"information\", \"information\", \"information\", \"information\", \"information\", \"information\", \"information\", \"information\", \"information\", \"inherent\", \"inherent\", \"inherent\", \"inherent\", \"inherent\", \"intermediate\", \"intermediate\", \"intermediate\", \"intermediate\", \"intermediate\", \"interpretability\", \"interpretability\", \"intrinsic\", \"intrinsic\", \"introduce\", \"introduce\", \"introduce\", \"introduce\", \"introduce\", \"introduce\", \"introduce\", \"introduce\", \"introduce\", \"introduce\", \"investigation\", \"investigation\", \"investigation\", \"irrelevant\", \"irrelevant\", \"irrelevant\", \"irrelevant\", \"judge\", \"judge\", \"k\", \"k\", \"k\", \"k\", \"k\", \"k\", \"knowledge\", \"knowledge\", \"knowledge\", \"knowledge\", \"knowledge\", \"knowledge\", \"knowledge\", \"knowledge\", \"knowledge\", \"knowledge\", \"language\", \"language\", \"language\", \"language\", \"language\", \"language\", \"language\", \"language\", \"language\", \"language\", \"large\", \"large\", \"large\", \"large\", \"large\", \"large\", \"large\", \"large\", \"large\", \"large\", \"layer\", \"layer\", \"layer\", \"layer\", \"layer\", \"layer\", \"layer\", \"layer\", \"layer\", \"learning\", \"learning\", \"learning\", \"learning\", \"learning\", \"learning\", \"learning\", \"learning\", \"learning\", \"learning\", \"level\", \"level\", \"level\", \"level\", \"level\", \"level\", \"level\", \"level\", \"level\", \"level\", \"lexicon\", \"lexicon\", \"lexicon\", \"lexicon\", \"lexicon\", \"light\", \"light\", \"light\", \"limited\", \"limited\", \"limited\", \"limited\", \"lingual\", \"lingual\", \"linguistic\", \"linguistic\", \"linguistic\", \"linguistic\", \"linguistic\", \"linguistic\", \"linguistic\", \"linguistic\", \"linguistic\", \"linguistic\", \"linguistics\", \"literature\", \"literature\", \"literature\", \"literature\", \"literature\", \"literature\", \"literature\", \"localization\", \"localization\", \"localization\", \"localization\", \"localize\", \"long\", \"long\", \"long\", \"long\", \"long\", \"long\", \"long\", \"long\", \"low\", \"low\", \"low\", \"low\", \"low\", \"low\", \"low\", \"low\", \"low\", \"low\", \"lstm\", \"lstm\", \"lstm\", \"lstm\", \"lstm\", \"lstm\", \"lstms\", \"lstms\", \"lstms\", \"lstms\", \"machine\", \"machine\", \"machine\", \"machine\", \"machine\", \"machine\", \"machine\", \"machine\", \"machine\", \"machine\", \"magnitude\", \"magnitude\", \"magnitude\", \"magnitude\", \"massive\", \"massive\", \"material\", \"material\", \"meaning\", \"meaning\", \"meaning\", \"meaning\", \"meaning\", \"meaning\", \"medical\", \"medical\", \"medium\", \"medium\", \"medium\", \"medium\", \"medium\", \"memory\", \"memory\", \"memory\", \"memory\", \"memory\", \"memory\", \"method\", \"method\", \"method\", \"method\", \"method\", \"method\", \"method\", \"method\", \"method\", \"method\", \"metric\", \"metric\", \"metric\", \"metric\", \"metric\", \"metric\", \"metric\", \"metric\", \"metric\", \"mining\", \"mining\", \"mining\", \"mining\", \"mining\", \"modal\", \"modal\", \"modal\", \"modal\", \"modality\", \"modality\", \"modality\", \"modality\", \"modification\", \"modification\", \"modification\", \"modification\", \"modular\", \"modular\", \"modular\", \"modular\", \"monolingual\", \"monolingual\", \"monolingual\", \"monolingual\", \"movie\", \"movie\", \"movie\", \"movie\", \"ms\", \"ms\", \"ms\", \"ms\", \"ms\", \"mscoco\", \"mscoco\", \"mt\", \"multi\", \"multi\", \"multi\", \"multi\", \"multi\", \"multi\", \"multi\", \"multi\", \"multi\", \"multi\", \"multilingual\", \"multilingual\", \"multilingual\", \"multilingual\", \"multilingual\", \"multilingual\", \"multilingual\", \"n\", \"n\", \"n\", \"natural\", \"natural\", \"natural\", \"natural\", \"natural\", \"natural\", \"natural\", \"natural\", \"natural\", \"natural\", \"ner\", \"ner\", \"ner\", \"ner\", \"network\", \"network\", \"network\", \"network\", \"network\", \"network\", \"network\", \"network\", \"network\", \"network\", \"neural\", \"neural\", \"neural\", \"neural\", \"neural\", \"neural\", \"neural\", \"neural\", \"neural\", \"neural\", \"neutral\", \"neutral\", \"neutral\", \"new\", \"new\", \"new\", \"new\", \"new\", \"new\", \"new\", \"new\", \"new\", \"new\", \"newly\", \"newly\", \"newly\", \"newly\", \"newly\", \"nli\", \"nli\", \"nli\", \"nlp\", \"nlp\", \"nlp\", \"nlp\", \"nlp\", \"nlp\", \"nlp\", \"nlp\", \"nlp\", \"nmt\", \"nmt\", \"novel\", \"novel\", \"novel\", \"novel\", \"novel\", \"novel\", \"novel\", \"novel\", \"novel\", \"novel\", \"object\", \"object\", \"object\", \"object\", \"object\", \"object\", \"occurrence\", \"occurrence\", \"occurrence\", \"occurrence\", \"online\", \"online\", \"online\", \"online\", \"online\", \"online\", \"online\", \"opinion\", \"opinion\", \"opinion\", \"opinion\", \"orientation\", \"orientation\", \"orientation\", \"outcome\", \"outcome\", \"outcome\", \"overview\", \"overview\", \"pair\", \"pair\", \"pair\", \"pair\", \"pair\", \"pair\", \"pair\", \"pair\", \"paper\", \"paper\", \"paper\", \"paper\", \"paper\", \"paper\", \"paper\", \"paper\", \"paper\", \"paper\", \"paragraph\", \"paragraph\", \"paragraph\", \"paragraph\", \"parallel\", \"parallel\", \"parallel\", \"parallel\", \"parameter\", \"parameter\", \"parameter\", \"parameter\", \"parameter\", \"parameter\", \"parameter\", \"parameter\", \"parameter\", \"parameter\", \"parser\", \"parser\", \"parser\", \"parser\", \"parser\", \"passage\", \"passage\", \"passage\", \"past\", \"past\", \"past\", \"past\", \"path\", \"path\", \"path\", \"path\", \"path\", \"path\", \"patient\", \"patient\", \"patient\", \"performance\", \"performance\", \"performance\", \"performance\", \"performance\", \"performance\", \"performance\", \"performance\", \"performance\", \"performance\", \"perplexity\", \"perplexity\", \"pixel\", \"polarity\", \"polarity\", \"polarity\", \"polarity\", \"polarity\", \"pooling\", \"pooling\", \"pooling\", \"pooling\", \"popularity\", \"popularity\", \"population\", \"population\", \"practice\", \"practice\", \"practice\", \"practice\", \"practice\", \"precisely\", \"precisely\", \"precisely\", \"precisely\", \"precisely\", \"predicate\", \"predicate\", \"prediction\", \"prediction\", \"prediction\", \"prediction\", \"prediction\", \"prediction\", \"prediction\", \"prediction\", \"prediction\", \"prediction\", \"predictive\", \"predictive\", \"predictive\", \"predictive\", \"predictive\", \"preference\", \"preference\", \"preference\", \"preference\", \"preference\", \"present\", \"present\", \"present\", \"present\", \"present\", \"present\", \"present\", \"present\", \"present\", \"present\", \"probability\", \"probability\", \"probability\", \"probability\", \"probability\", \"probability\", \"problem\", \"problem\", \"problem\", \"problem\", \"problem\", \"problem\", \"problem\", \"problem\", \"problem\", \"problem\", \"processing\", \"processing\", \"processing\", \"processing\", \"processing\", \"processing\", \"processing\", \"processing\", \"processing\", \"processing\", \"product\", \"product\", \"product\", \"product\", \"product\", \"production\", \"production\", \"production\", \"production\", \"propagation\", \"propagation\", \"propagation\", \"property\", \"property\", \"property\", \"property\", \"property\", \"property\", \"property\", \"property\", \"property\", \"property\", \"proposal\", \"proposal\", \"proposal\", \"proposal\", \"proposal\", \"qa\", \"qa\", \"qa\", \"qualitatively\", \"qualitatively\", \"qualitatively\", \"qualitatively\", \"qualitatively\", \"quality\", \"quality\", \"quality\", \"quality\", \"quality\", \"quality\", \"quality\", \"quality\", \"quality\", \"quantitatively\", \"quantitatively\", \"quantitatively\", \"quantitatively\", \"quantitatively\", \"query\", \"query\", \"query\", \"query\", \"query\", \"query\", \"question\", \"question\", \"question\", \"question\", \"question\", \"question\", \"question\", \"question\", \"race\", \"race\", \"random\", \"random\", \"random\", \"random\", \"random\", \"random\", \"rare\", \"rare\", \"rare\", \"rare\", \"rate\", \"rate\", \"rate\", \"rate\", \"rate\", \"rate\", \"reading\", \"reading\", \"reading\", \"reading\", \"reason\", \"reason\", \"reason\", \"reason\", \"reason\", \"reason\", \"reasoning\", \"reasoning\", \"reasoning\", \"reasoning\", \"reasoning\", \"reasoning\", \"reasoning\", \"recognition\", \"recognition\", \"recognition\", \"recognition\", \"recognition\", \"recognition\", \"recognition\", \"recognition\", \"record\", \"recurrent\", \"recurrent\", \"recurrent\", \"recurrent\", \"recurrent\", \"recurrent\", \"reference\", \"reference\", \"reference\", \"reference\", \"reference\", \"reference\", \"region\", \"region\", \"region\", \"region\", \"regression\", \"regression\", \"regression\", \"reinforcement\", \"reinforcement\", \"reinforcement\", \"relatedness\", \"relatedness\", \"relation\", \"relation\", \"relation\", \"relation\", \"relation\", \"relation\", \"relation\", \"relation\", \"relation\", \"relational\", \"relational\", \"relationship\", \"relationship\", \"relationship\", \"relationship\", \"relationship\", \"relationship\", \"relationship\", \"relationship\", \"relationship\", \"representation\", \"representation\", \"representation\", \"representation\", \"representation\", \"representation\", \"representation\", \"representation\", \"representation\", \"representation\", \"requirement\", \"requirement\", \"requirement\", \"requirement\", \"research\", \"research\", \"research\", \"research\", \"research\", \"research\", \"research\", \"research\", \"research\", \"research\", \"resource\", \"resource\", \"resource\", \"resource\", \"resource\", \"resource\", \"resource\", \"resource\", \"resource\", \"resource\", \"response\", \"response\", \"response\", \"response\", \"response\", \"response\", \"result\", \"result\", \"result\", \"result\", \"result\", \"result\", \"result\", \"result\", \"result\", \"result\", \"retrieval\", \"retrieval\", \"retrieval\", \"retrieval\", \"retrieval\", \"retrieval\", \"retrieval\", \"review\", \"review\", \"review\", \"review\", \"review\", \"reward\", \"rnn\", \"rnn\", \"robust\", \"robust\", \"robust\", \"robust\", \"robust\", \"robust\", \"robust\", \"robust\", \"robustness\", \"robustness\", \"robustness\", \"robustness\", \"robustness\", \"role\", \"role\", \"role\", \"role\", \"role\", \"role\", \"role\", \"role\", \"room\", \"room\", \"room\", \"room\", \"rouge\", \"salient\", \"salient\", \"sample\", \"sample\", \"sample\", \"sample\", \"sample\", \"sample\", \"scalable\", \"scalable\", \"scalable\", \"scalable\", \"scale\", \"scale\", \"scale\", \"scale\", \"scale\", \"scale\", \"scale\", \"scale\", \"scale\", \"scene\", \"scene\", \"scene\", \"scientific\", \"scientific\", \"scientific\", \"segment\", \"segment\", \"segment\", \"segmentation\", \"segmentation\", \"segmentation\", \"segmentation\", \"segmentation\", \"segmentation\", \"segmentation\", \"segmentation\", \"semantic\", \"semantic\", \"semantic\", \"semantic\", \"semantic\", \"semantic\", \"semantic\", \"semantic\", \"semantic\", \"semantic\", \"semeval\", \"semeval\", \"semeval\", \"semeval\", \"semeval\", \"sensitive\", \"sensitive\", \"sensitive\", \"sensitive\", \"sensitive\", \"sentence\", \"sentence\", \"sentence\", \"sentence\", \"sentence\", \"sentence\", \"sentence\", \"sentence\", \"sentence\", \"sentence\", \"sentiment\", \"sentiment\", \"sentiment\", \"sentiment\", \"sentiment\", \"sequence\", \"sequence\", \"sequence\", \"sequence\", \"sequence\", \"sequence\", \"sequence\", \"sequence\", \"sequence\", \"setting\", \"setting\", \"setting\", \"setting\", \"setting\", \"setting\", \"setting\", \"share\", \"share\", \"share\", \"share\", \"short\", \"short\", \"short\", \"short\", \"short\", \"short\", \"short\", \"short\", \"shot\", \"shot\", \"shot\", \"shot\", \"shot\", \"shot\", \"similarity\", \"similarity\", \"similarity\", \"similarity\", \"similarity\", \"similarity\", \"similarity\", \"social\", \"social\", \"social\", \"social\", \"social\", \"source\", \"source\", \"source\", \"source\", \"source\", \"source\", \"source\", \"source\", \"source\", \"source\", \"space\", \"space\", \"space\", \"space\", \"space\", \"space\", \"space\", \"space\", \"speaker\", \"speaker\", \"speaker\", \"speaker\", \"speaker\", \"speaker\", \"speech\", \"speech\", \"speech\", \"speech\", \"speech\", \"speech\", \"squad\", \"squad\", \"squad\", \"stanford\", \"stanford\", \"stanford\", \"state\", \"state\", \"state\", \"state\", \"state\", \"state\", \"state\", \"state\", \"state\", \"state\", \"static\", \"static\", \"static\", \"static\", \"structure\", \"structure\", \"structure\", \"structure\", \"structure\", \"structure\", \"structure\", \"structure\", \"structure\", \"structure\", \"study\", \"study\", \"study\", \"study\", \"study\", \"study\", \"study\", \"study\", \"study\", \"subset\", \"subset\", \"subset\", \"subtask\", \"subtask\", \"subtask\", \"subtask\", \"suite\", \"suite\", \"suite\", \"summarization\", \"summarization\", \"summarization\", \"summarization\", \"summary\", \"summary\", \"summary\", \"summary\", \"supervision\", \"supervision\", \"supervision\", \"supervision\", \"supervision\", \"supervision\", \"supervision\", \"supervision\", \"supervision\", \"survey\", \"survey\", \"survey\", \"survey\", \"survey\", \"survey\", \"syntactic\", \"syntactic\", \"syntactic\", \"syntactic\", \"syntactic\", \"syntactic\", \"syntactic\", \"syntax\", \"syntax\", \"syntax\", \"synthesis\", \"synthesis\", \"system\", \"system\", \"system\", \"system\", \"system\", \"system\", \"system\", \"system\", \"system\", \"system\", \"table\", \"table\", \"table\", \"tackle\", \"tackle\", \"tackle\", \"tackle\", \"tackle\", \"tagging\", \"tagging\", \"tagging\", \"tagging\", \"tagging\", \"target\", \"target\", \"target\", \"target\", \"target\", \"target\", \"target\", \"target\", \"target\", \"technical\", \"technical\", \"technical\", \"technique\", \"technique\", \"technique\", \"technique\", \"technique\", \"technique\", \"technique\", \"technique\", \"technique\", \"temporal\", \"temporal\", \"temporal\", \"temporal\", \"temporal\", \"temporal\", \"temporal\", \"term\", \"term\", \"term\", \"term\", \"term\", \"term\", \"term\", \"term\", \"term\", \"term\", \"test\", \"test\", \"test\", \"test\", \"test\", \"test\", \"test\", \"test\", \"test\", \"text\", \"text\", \"text\", \"text\", \"text\", \"text\", \"text\", \"text\", \"text\", \"text\", \"token\", \"token\", \"token\", \"token\", \"token\", \"tool\", \"tool\", \"tool\", \"tool\", \"tool\", \"toolkit\", \"toolkit\", \"toolkit\", \"toolkit\", \"topic\", \"topic\", \"topic\", \"topic\", \"topic\", \"topic\", \"topic\", \"topic\", \"train\", \"train\", \"train\", \"train\", \"train\", \"train\", \"train\", \"train\", \"training\", \"training\", \"training\", \"training\", \"training\", \"training\", \"training\", \"training\", \"training\", \"training\", \"transfer\", \"transfer\", \"transfer\", \"transfer\", \"transfer\", \"transfer\", \"transfer\", \"transfer\", \"transfer\", \"transformer\", \"transformer\", \"transformer\", \"transformer\", \"transformer\", \"transformer\", \"transformer\", \"transition\", \"transition\", \"transition\", \"transition\", \"transition\", \"translate\", \"translate\", \"translate\", \"translation\", \"translation\", \"translation\", \"translation\", \"translation\", \"translation\", \"tree\", \"tree\", \"tree\", \"tree\", \"tree\", \"tree\", \"treebank\", \"treebank\", \"treebank\", \"treebank\", \"trend\", \"trend\", \"trend\", \"triple\", \"triple\", \"triple\", \"tuning\", \"tuning\", \"tuning\", \"tuning\", \"turn\", \"turn\", \"turn\", \"tweet\", \"tweet\", \"tweet\", \"tweet\", \"tweet\", \"twitter\", \"twitter\", \"twitter\", \"twitter\", \"understanding\", \"understanding\", \"understanding\", \"understanding\", \"understanding\", \"understanding\", \"understanding\", \"understanding\", \"understanding\", \"understanding\", \"universal\", \"universal\", \"universal\", \"universal\", \"unsupervised\", \"unsupervised\", \"unsupervised\", \"unsupervised\", \"unsupervised\", \"unsupervised\", \"unsupervised\", \"utility\", \"utility\", \"utility\", \"utility\", \"utility\", \"utility\", \"validation\", \"validation\", \"validation\", \"variability\", \"variability\", \"variability\", \"variability\", \"variability\", \"variability\", \"variable\", \"variable\", \"variable\", \"variable\", \"vector\", \"vector\", \"vector\", \"vector\", \"vector\", \"vector\", \"vector\", \"vector\", \"verb\", \"verb\", \"verb\", \"verification\", \"verification\", \"verification\", \"verification\", \"verification\", \"video\", \"video\", \"video\", \"video\", \"video\", \"vision\", \"vision\", \"vision\", \"vision\", \"vision\", \"vision\", \"visual\", \"visual\", \"visual\", \"visual\", \"visual\", \"visual\", \"visual\", \"vqa\", \"vqa\", \"wikipedia\", \"wikipedia\", \"wikipedia\", \"wikipedia\", \"wikipedia\", \"wikipedia\", \"wild\", \"wild\", \"wild\", \"word\", \"word\", \"word\", \"word\", \"word\", \"word\", \"word\", \"word\", \"word\", \"word\", \"work\", \"work\", \"work\", \"work\", \"work\", \"work\", \"work\", \"work\", \"work\", \"work\"]}, \"R\": 30, \"lambda.step\": 0.01, \"plot.opts\": {\"xlab\": \"PC1\", \"ylab\": \"PC2\"}, \"topic.order\": [4, 7, 3, 6, 2, 8, 5, 10, 9, 1]};\n",
              "\n",
              "function LDAvis_load_lib(url, callback){\n",
              "  var s = document.createElement('script');\n",
              "  s.src = url;\n",
              "  s.async = true;\n",
              "  s.onreadystatechange = s.onload = callback;\n",
              "  s.onerror = function(){console.warn(\"failed to load library \" + url);};\n",
              "  document.getElementsByTagName(\"head\")[0].appendChild(s);\n",
              "}\n",
              "\n",
              "if(typeof(LDAvis) !== \"undefined\"){\n",
              "   // already loaded: just create the visualization\n",
              "   !function(LDAvis){\n",
              "       new LDAvis(\"#\" + \"ldavis_el16881397113164433127269018617\", ldavis_el16881397113164433127269018617_data);\n",
              "   }(LDAvis);\n",
              "}else if(typeof define === \"function\" && define.amd){\n",
              "   // require.js is available: use it to load d3/LDAvis\n",
              "   require.config({paths: {d3: \"https://d3js.org/d3.v5\"}});\n",
              "   require([\"d3\"], function(d3){\n",
              "      window.d3 = d3;\n",
              "      LDAvis_load_lib(\"https://cdn.jsdelivr.net/gh/bmabey/pyLDAvis@3.3.1/pyLDAvis/js/ldavis.v3.0.0.js\", function(){\n",
              "        new LDAvis(\"#\" + \"ldavis_el16881397113164433127269018617\", ldavis_el16881397113164433127269018617_data);\n",
              "      });\n",
              "    });\n",
              "}else{\n",
              "    // require.js not available: dynamically load d3 & LDAvis\n",
              "    LDAvis_load_lib(\"https://d3js.org/d3.v5.js\", function(){\n",
              "         LDAvis_load_lib(\"https://cdn.jsdelivr.net/gh/bmabey/pyLDAvis@3.3.1/pyLDAvis/js/ldavis.v3.0.0.js\", function(){\n",
              "                 new LDAvis(\"#\" + \"ldavis_el16881397113164433127269018617\", ldavis_el16881397113164433127269018617_data);\n",
              "            })\n",
              "         });\n",
              "}\n",
              "</script>"
            ]
          },
          "metadata": {},
          "execution_count": 23
        }
      ]
    },
    {
      "cell_type": "code",
      "source": [
        "from gensim.models.coherencemodel import CoherenceModel"
      ],
      "metadata": {
        "id": "IgpHVDk8He7_"
      },
      "execution_count": 25,
      "outputs": []
    },
    {
      "cell_type": "code",
      "source": [
        "cm = CoherenceModel(model=lda_model, texts = data['tokens'], coherence='c_v')\n",
        "coherence = cm.get_coherence()  # get coherence value"
      ],
      "metadata": {
        "id": "pBzQmhs_WNSq"
      },
      "execution_count": 41,
      "outputs": []
    },
    {
      "cell_type": "code",
      "source": [
        "coherence"
      ],
      "metadata": {
        "id": "cDRyAIzMHg06",
        "outputId": "ff42f948-5fd4-42da-c956-bf659a71098c",
        "colab": {
          "base_uri": "https://localhost:8080/"
        }
      },
      "execution_count": 42,
      "outputs": [
        {
          "output_type": "execute_result",
          "data": {
            "text/plain": [
              "0.4113904704698316"
            ]
          },
          "metadata": {},
          "execution_count": 42
        }
      ]
    }
  ]
}