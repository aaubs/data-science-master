{
  "cells": [
    {
      "cell_type": "markdown",
      "metadata": {
        "id": "bA9feCm62wpG"
      },
      "source": [
        "# Airbnb Price Prediction in Copenhagen: Inference\n",
        "\n",
        "This notebook demonstrates how to use the previously trained XGBoost model to predict the price of an Airbnb listing in Copenhagen. We'll load the saved model and preprocessing objects, then use them to make a prediction for a single observation.\n",
        "\n",
        "## Setup\n",
        "\n",
        "First, let's import the necessary libraries and load our saved objects."
      ]
    },
    {
      "cell_type": "code",
      "source": [
        "!pip install xgboost shap -q"
      ],
      "metadata": {
        "id": "HGsu_j-12-P0"
      },
      "execution_count": null,
      "outputs": []
    },
    {
      "cell_type": "code",
      "metadata": {
        "id": "_sjU2xf32wpK"
      },
      "source": [
        "import pandas as pd\n",
        "import numpy as np\n",
        "import joblib\n",
        "from xgboost import XGBRegressor\n",
        "from sklearn.preprocessing import StandardScaler, OneHotEncoder\n",
        "import shap"
      ],
      "execution_count": null,
      "outputs": []
    },
    {
      "cell_type": "code",
      "metadata": {
        "id": "54uCb3rL2wpM"
      },
      "source": [
        "# Load the saved model and preprocessing objects\n",
        "model_xgb = joblib.load('model_xgb.joblib')\n",
        "scaler = joblib.load('scaler.joblib')\n",
        "ohe = joblib.load('ohe.joblib')\n",
        "\n",
        "print(\"Model and preprocessing objects loaded successfully.\")"
      ],
      "execution_count": null,
      "outputs": []
    },
    {
      "cell_type": "markdown",
      "metadata": {
        "id": "ynAAxx0b2wpM"
      },
      "source": [
        "## Create a Sample Observation\n",
        "\n",
        "Let's create a sample Airbnb listing to predict its price."
      ]
    },
    {
      "cell_type": "code",
      "metadata": {
        "id": "CQikbe372wpM"
      },
      "source": [
        "# Create a sample observation\n",
        "sample_listing = pd.DataFrame({\n",
        "    'neighbourhood_cleansed': ['Indre By'],\n",
        "    'room_type': ['Entire home/apt'],\n",
        "    'instant_bookable': [False],\n",
        "    'accommodates': [2],\n",
        "    'bedrooms': [1],\n",
        "    'beds': [2],\n",
        "    'minimum_nights_avg_ntm': [3]\n",
        "})\n",
        "\n",
        "print(\"Sample listing:\")\n",
        "print(sample_listing)"
      ],
      "execution_count": null,
      "outputs": []
    },
    {
      "cell_type": "markdown",
      "metadata": {
        "id": "o85p7IOS2wpN"
      },
      "source": [
        "## Preprocess the Sample Observation\n",
        "\n",
        "Now, let's preprocess our sample observation using the same steps as in the training process."
      ]
    },
    {
      "cell_type": "code",
      "metadata": {
        "id": "s9jrFh8n2wpN"
      },
      "source": [
        "# Separate categorical and numerical features\n",
        "cat_features = ['neighbourhood_cleansed', 'room_type']\n",
        "num_features = ['instant_bookable', 'accommodates', 'bedrooms', 'beds', 'minimum_nights_avg_ntm']\n",
        "\n",
        "# One-hot encode categorical features\n",
        "X_cat = pd.DataFrame(ohe.transform(sample_listing[cat_features]).todense(),\n",
        "                     columns=ohe.get_feature_names_out(cat_features))\n",
        "\n",
        "# Scale numerical features\n",
        "X_num = pd.DataFrame(scaler.transform(sample_listing[num_features]),\n",
        "                     columns=num_features)\n",
        "\n",
        "# Combine processed features\n",
        "X_processed = pd.concat([X_num, X_cat], axis=1)\n",
        "\n",
        "print(\"Processed features:\")\n",
        "print(X_processed)"
      ],
      "execution_count": null,
      "outputs": []
    },
    {
      "cell_type": "markdown",
      "metadata": {
        "id": "VPHN2T-R2wpN"
      },
      "source": [
        "## Make a Prediction\n",
        "\n",
        "With our preprocessed sample, we can now make a price prediction."
      ]
    },
    {
      "cell_type": "code",
      "metadata": {
        "id": "Hjbvwa5_2wpO"
      },
      "source": [
        "# Make a prediction\n",
        "predicted_price = model_xgb.predict(X_processed)[0]\n",
        "\n",
        "print(f\"Predicted price: {predicted_price:.2f}\")"
      ],
      "execution_count": null,
      "outputs": []
    },
    {
      "cell_type": "markdown",
      "metadata": {
        "id": "NFXbGQrr2wpO"
      },
      "source": [
        "## Explain the Prediction\n",
        "\n",
        "Let's use SHAP values to explain this prediction."
      ]
    },
    {
      "cell_type": "code",
      "metadata": {
        "id": "VEpL4uek2wpO"
      },
      "source": [
        "# Create a SHAP explainer\n",
        "explainer = shap.TreeExplainer(model_xgb)\n",
        "\n",
        "# Calculate SHAP values for our sample\n",
        "shap_values = explainer.shap_values(X_processed)\n",
        "\n",
        "# Initialize JavaScript visualization code\n",
        "shap.initjs()\n",
        "\n",
        "# Create a force plot\n",
        "shap.force_plot(explainer.expected_value, shap_values[0,:], X_processed.iloc[0,:])"
      ],
      "execution_count": null,
      "outputs": []
    },
    {
      "cell_type": "markdown",
      "metadata": {
        "id": "Aok2-xOJ2wpO"
      },
      "source": [
        "This force plot shows how each feature contributes to pushing the model output from the base value (the average model output over the training dataset) to the output for this specific prediction. Features pushing the prediction higher are shown in red, those pushing the prediction lower are in blue.\n",
        "\n",
        "## Interpretation\n",
        "\n",
        "Let's interpret the results:\n",
        "\n",
        "1. The predicted price for this Airbnb listing is seen above.\n",
        "2. The SHAP force plot shows which features had the most significant impact on this prediction.\n",
        "3. [Interpret the top features from the force plot, e.g.]:\n",
        "   - The location (Indre By) seems to increase the price.\n",
        "   - Being an entire home/apartment also positively affects the price.\n",
        "   - The number of people it accommodates (2) might be pushing the price down slightly.\n",
        "\n",
        "Remember, this is just one example. The model's predictions and the importance of different features can vary significantly depending on the specific characteristics of each listing.\n",
        "\n",
        "This notebook demonstrates how to use our trained model for making predictions on new data, as well as how to interpret these predictions using SHAP values. This can be valuable for both hosts trying to price their listings competitively and for guests trying to understand what factors influence the prices they see."
      ]
    }
  ],
  "metadata": {
    "kernelspec": {
      "display_name": "Python 3",
      "language": "python",
      "name": "python3"
    },
    "colab": {
      "provenance": []
    }
  },
  "nbformat": 4,
  "nbformat_minor": 0
}