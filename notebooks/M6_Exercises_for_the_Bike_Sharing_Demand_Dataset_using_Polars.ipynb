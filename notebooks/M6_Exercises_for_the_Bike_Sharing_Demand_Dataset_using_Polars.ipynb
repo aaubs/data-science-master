{
  "nbformat": 4,
  "nbformat_minor": 0,
  "metadata": {
    "colab": {
      "provenance": [],
      "authorship_tag": "ABX9TyMqvRrgbZePLq1JSv+clinD",
      "include_colab_link": true
    },
    "kernelspec": {
      "name": "python3",
      "display_name": "Python 3"
    },
    "language_info": {
      "name": "python"
    }
  },
  "cells": [
    {
      "cell_type": "markdown",
      "metadata": {
        "id": "view-in-github",
        "colab_type": "text"
      },
      "source": [
        "<a href=\"https://colab.research.google.com/github/aaubs/ds-master/blob/main/notebooks/M6_Exercises_for_the_Bike_Sharing_Demand_Dataset_using_Polars.ipynb\" target=\"_parent\"><img src=\"https://colab.research.google.com/assets/colab-badge.svg\" alt=\"Open In Colab\"/></a>"
      ]
    },
    {
      "cell_type": "markdown",
      "source": [
        "##Exercise 1\n",
        "Load the dataset into a Spark DataFrame and display the first 5 rows.\n"
      ],
      "metadata": {
        "id": "Vk8C05N6RWU2"
      }
    },
    {
      "cell_type": "code",
      "source": [
        "!pip install polars --q"
      ],
      "metadata": {
        "id": "fgYjZH5BR_mP"
      },
      "execution_count": null,
      "outputs": []
    },
    {
      "cell_type": "code",
      "source": [
        "import pandas as pd\n",
        "\n",
        "df_bike_sharing = pd.read_csv(\"https://raw.githubusercontent.com/arifuddinatif/Bike-Sharing-Demand-Prediction/main/SeoulBikeData.csv\", encoding=\"ISO-8859-1\")\n",
        "df_bike_sharing.to_csv('bike-sharing-demand.csv', index=False)"
      ],
      "metadata": {
        "id": "Ap2tkVZCSWIe"
      },
      "execution_count": null,
      "outputs": []
    },
    {
      "cell_type": "code",
      "source": [
        "import polars as pl\n",
        "\n",
        "bikeSharingDF = \n",
        "bikeSharingDF.head(5)"
      ],
      "metadata": {
        "colab": {
          "base_uri": "https://localhost:8080/",
          "height": 396
        },
        "id": "GmiwXvaNG0_s",
        "outputId": "1bfccc71-1f08-4ffc-99a9-69eb360d46a8"
      },
      "execution_count": null,
      "outputs": [
        {
          "output_type": "execute_result",
          "data": {
            "text/plain": [
              "shape: (5, 14)\n",
              "┌────────────┬────────────┬──────┬────────────┬───┬────────────┬─────────┬────────────┬────────────┐\n",
              "│ Date       ┆ Rented     ┆ Hour ┆ Temperatur ┆ … ┆ Snowfall   ┆ Seasons ┆ Holiday    ┆ Functionin │\n",
              "│ ---        ┆ Bike Count ┆ ---  ┆ e(°C)      ┆   ┆ (cm)       ┆ ---     ┆ ---        ┆ g Day      │\n",
              "│ str        ┆ ---        ┆ i64  ┆ ---        ┆   ┆ ---        ┆ str     ┆ str        ┆ ---        │\n",
              "│            ┆ i64        ┆      ┆ f64        ┆   ┆ f64        ┆         ┆            ┆ str        │\n",
              "╞════════════╪════════════╪══════╪════════════╪═══╪════════════╪═════════╪════════════╪════════════╡\n",
              "│ 01/12/2017 ┆ 254        ┆ 0    ┆ -5.2       ┆ … ┆ 0.0        ┆ Winter  ┆ No Holiday ┆ Yes        │\n",
              "│ 01/12/2017 ┆ 204        ┆ 1    ┆ -5.5       ┆ … ┆ 0.0        ┆ Winter  ┆ No Holiday ┆ Yes        │\n",
              "│ 01/12/2017 ┆ 173        ┆ 2    ┆ -6.0       ┆ … ┆ 0.0        ┆ Winter  ┆ No Holiday ┆ Yes        │\n",
              "│ 01/12/2017 ┆ 107        ┆ 3    ┆ -6.2       ┆ … ┆ 0.0        ┆ Winter  ┆ No Holiday ┆ Yes        │\n",
              "│ 01/12/2017 ┆ 78         ┆ 4    ┆ -6.0       ┆ … ┆ 0.0        ┆ Winter  ┆ No Holiday ┆ Yes        │\n",
              "└────────────┴────────────┴──────┴────────────┴───┴────────────┴─────────┴────────────┴────────────┘"
            ],
            "text/html": [
              "<div><style>\n",
              ".dataframe > thead > tr > th,\n",
              ".dataframe > tbody > tr > td {\n",
              "  text-align: right;\n",
              "}\n",
              "</style>\n",
              "<small>shape: (5, 14)</small><table border=\"1\" class=\"dataframe\"><thead><tr><th>Date</th><th>Rented Bike Count</th><th>Hour</th><th>Temperature(°C)</th><th>Humidity(%)</th><th>Wind speed (m/s)</th><th>Visibility (10m)</th><th>Dew point temperature(°C)</th><th>Solar Radiation (MJ/m2)</th><th>Rainfall(mm)</th><th>Snowfall (cm)</th><th>Seasons</th><th>Holiday</th><th>Functioning Day</th></tr><tr><td>str</td><td>i64</td><td>i64</td><td>f64</td><td>i64</td><td>f64</td><td>i64</td><td>f64</td><td>f64</td><td>f64</td><td>f64</td><td>str</td><td>str</td><td>str</td></tr></thead><tbody><tr><td>&quot;01/12/2017&quot;</td><td>254</td><td>0</td><td>-5.2</td><td>37</td><td>2.2</td><td>2000</td><td>-17.6</td><td>0.0</td><td>0.0</td><td>0.0</td><td>&quot;Winter&quot;</td><td>&quot;No Holiday&quot;</td><td>&quot;Yes&quot;</td></tr><tr><td>&quot;01/12/2017&quot;</td><td>204</td><td>1</td><td>-5.5</td><td>38</td><td>0.8</td><td>2000</td><td>-17.6</td><td>0.0</td><td>0.0</td><td>0.0</td><td>&quot;Winter&quot;</td><td>&quot;No Holiday&quot;</td><td>&quot;Yes&quot;</td></tr><tr><td>&quot;01/12/2017&quot;</td><td>173</td><td>2</td><td>-6.0</td><td>39</td><td>1.0</td><td>2000</td><td>-17.7</td><td>0.0</td><td>0.0</td><td>0.0</td><td>&quot;Winter&quot;</td><td>&quot;No Holiday&quot;</td><td>&quot;Yes&quot;</td></tr><tr><td>&quot;01/12/2017&quot;</td><td>107</td><td>3</td><td>-6.2</td><td>40</td><td>0.9</td><td>2000</td><td>-17.6</td><td>0.0</td><td>0.0</td><td>0.0</td><td>&quot;Winter&quot;</td><td>&quot;No Holiday&quot;</td><td>&quot;Yes&quot;</td></tr><tr><td>&quot;01/12/2017&quot;</td><td>78</td><td>4</td><td>-6.0</td><td>36</td><td>2.3</td><td>2000</td><td>-18.6</td><td>0.0</td><td>0.0</td><td>0.0</td><td>&quot;Winter&quot;</td><td>&quot;No Holiday&quot;</td><td>&quot;Yes&quot;</td></tr></tbody></table></div>"
            ]
          },
          "metadata": {},
          "execution_count": 3
        }
      ]
    },
    {
      "cell_type": "markdown",
      "source": [
        "##Exercise 2\n",
        "Display the total number of rows in the dataset.\n"
      ],
      "metadata": {
        "id": "s9Fvty61S9BY"
      }
    },
    {
      "cell_type": "code",
      "source": [
        "rowCount = \n",
        "print(\"Total number of rows in the dataset:\", rowCount)"
      ],
      "metadata": {
        "colab": {
          "base_uri": "https://localhost:8080/"
        },
        "id": "62CQ4li0R78O",
        "outputId": "ecd3ee69-2d0f-4c84-ee6a-aaa8986dbcde"
      },
      "execution_count": null,
      "outputs": [
        {
          "output_type": "stream",
          "name": "stdout",
          "text": [
            "Total number of rows in the dataset: 8760\n"
          ]
        }
      ]
    },
    {
      "cell_type": "code",
      "source": [
        "bikeSharingDF.columns"
      ],
      "metadata": {
        "colab": {
          "base_uri": "https://localhost:8080/"
        },
        "id": "pu6xrXkaTaiP",
        "outputId": "506e1d38-3d8f-4a01-d44c-b0cdbd93e102"
      },
      "execution_count": null,
      "outputs": [
        {
          "output_type": "execute_result",
          "data": {
            "text/plain": [
              "['Date',\n",
              " 'Rented Bike Count',\n",
              " 'Hour',\n",
              " 'Temperature(°C)',\n",
              " 'Humidity(%)',\n",
              " 'Wind speed (m/s)',\n",
              " 'Visibility (10m)',\n",
              " 'Dew point temperature(°C)',\n",
              " 'Solar Radiation (MJ/m2)',\n",
              " 'Rainfall(mm)',\n",
              " 'Snowfall (cm)',\n",
              " 'Seasons',\n",
              " 'Holiday',\n",
              " 'Functioning Day']"
            ]
          },
          "metadata": {},
          "execution_count": 5
        }
      ]
    },
    {
      "cell_type": "markdown",
      "source": [
        "## Exercise 3\n",
        "Display the number of unique values in the 'season' column.\n"
      ],
      "metadata": {
        "id": "dZt2Q0dGTMAv"
      }
    },
    {
      "cell_type": "code",
      "source": [
        "uniqueSeasons = \n",
        "print(\"Number of unique values in the 'season' column:\", uniqueSeasons)\n"
      ],
      "metadata": {
        "colab": {
          "base_uri": "https://localhost:8080/"
        },
        "id": "OS0h5K-WTJVc",
        "outputId": "df56cf5f-85de-40b0-9f0b-734861c22f29"
      },
      "execution_count": null,
      "outputs": [
        {
          "output_type": "stream",
          "name": "stdout",
          "text": [
            "Number of unique values in the 'season' column: 4\n"
          ]
        }
      ]
    },
    {
      "cell_type": "markdown",
      "source": [
        "##Exercise 4\n",
        "Display the average temperature for each season.\n"
      ],
      "metadata": {
        "id": "6KBHJKwaTnGz"
      }
    },
    {
      "cell_type": "code",
      "source": [
        "avgTempBySeason = \n",
        "avgTempBySeason['Temperature(°C)']"
      ],
      "metadata": {
        "colab": {
          "base_uri": "https://localhost:8080/",
          "height": 223
        },
        "id": "ugcZy9z8TSnT",
        "outputId": "f5323ce1-00a6-42c1-ac5d-193c1b8ddc76"
      },
      "execution_count": null,
      "outputs": [
        {
          "output_type": "execute_result",
          "data": {
            "text/plain": [
              "shape: (4,)\n",
              "Series: 'Temperature(°C)' [f64]\n",
              "[\n",
              "\t13.046694\n",
              "\t14.120833\n",
              "\t-2.540463\n",
              "\t26.58279\n",
              "]"
            ],
            "text/html": [
              "<div><style>\n",
              ".dataframe > thead > tr > th,\n",
              ".dataframe > tbody > tr > td {\n",
              "  text-align: right;\n",
              "}\n",
              "</style>\n",
              "<small>shape: (4,)</small><table border=\"1\" class=\"dataframe\"><thead><tr><th>Temperature(°C)</th></tr><tr><td>f64</td></tr></thead><tbody><tr><td>13.046694</td></tr><tr><td>14.120833</td></tr><tr><td>-2.540463</td></tr><tr><td>26.58279</td></tr></tbody></table></div>"
            ]
          },
          "metadata": {},
          "execution_count": 7
        }
      ]
    },
    {
      "cell_type": "markdown",
      "source": [
        "##Exercise 5\n",
        "Display the minimum and maximum temperature for each season.\n"
      ],
      "metadata": {
        "id": "NBQ5C5IiT1Dd"
      }
    },
    {
      "cell_type": "code",
      "source": [
        "temp_range_by_season = \n",
        "temp_range_by_season\n"
      ],
      "metadata": {
        "colab": {
          "base_uri": "https://localhost:8080/",
          "height": 223
        },
        "id": "6McVUAxITuzC",
        "outputId": "c8305bca-beff-4132-8b93-b71a175b3ce6"
      },
      "execution_count": null,
      "outputs": [
        {
          "output_type": "execute_result",
          "data": {
            "text/plain": [
              "shape: (4, 3)\n",
              "┌─────────┬──────────┬──────────┐\n",
              "│ Seasons ┆ temp_min ┆ temp_max │\n",
              "│ ---     ┆ ---      ┆ ---      │\n",
              "│ str     ┆ f64      ┆ f64      │\n",
              "╞═════════╪══════════╪══════════╡\n",
              "│ Summer  ┆ 16.3     ┆ 39.4     │\n",
              "│ Autumn  ┆ -3.0     ┆ 30.5     │\n",
              "│ Spring  ┆ -6.6     ┆ 29.4     │\n",
              "│ Winter  ┆ -17.8    ┆ 10.3     │\n",
              "└─────────┴──────────┴──────────┘"
            ],
            "text/html": [
              "<div><style>\n",
              ".dataframe > thead > tr > th,\n",
              ".dataframe > tbody > tr > td {\n",
              "  text-align: right;\n",
              "}\n",
              "</style>\n",
              "<small>shape: (4, 3)</small><table border=\"1\" class=\"dataframe\"><thead><tr><th>Seasons</th><th>temp_min</th><th>temp_max</th></tr><tr><td>str</td><td>f64</td><td>f64</td></tr></thead><tbody><tr><td>&quot;Summer&quot;</td><td>16.3</td><td>39.4</td></tr><tr><td>&quot;Autumn&quot;</td><td>-3.0</td><td>30.5</td></tr><tr><td>&quot;Spring&quot;</td><td>-6.6</td><td>29.4</td></tr><tr><td>&quot;Winter&quot;</td><td>-17.8</td><td>10.3</td></tr></tbody></table></div>"
            ]
          },
          "metadata": {},
          "execution_count": 8
        }
      ]
    },
    {
      "cell_type": "markdown",
      "source": [
        "##Exercise 6\n",
        "Display the number of rentals per year.\n"
      ],
      "metadata": {
        "id": "tWUDKYRaUAQ0"
      }
    },
    {
      "cell_type": "code",
      "source": [],
      "metadata": {
        "colab": {
          "base_uri": "https://localhost:8080/",
          "height": 252
        },
        "id": "MPRTgwc4QMBy",
        "outputId": "4d9dd7f2-da67-4d53-cb7c-e73e4c190f56"
      },
      "execution_count": null,
      "outputs": [
        {
          "output_type": "stream",
          "name": "stderr",
          "text": [
            "<ipython-input-9-2e5370ced5c8>:1: DeprecationWarning: `DataFrame.with_column` has been renamed; this redirect is temporary, please use `.with_columns` instead\n",
            "  bikeSharingDF = bikeSharingDF.with_column(pl.col('Date').str.strptime(pl.Date, strict=False))\n",
            "<ipython-input-9-2e5370ced5c8>:2: DeprecationWarning: `DataFrame.with_column` has been renamed; this redirect is temporary, please use `.with_columns` instead\n",
            "  bikeSharingDF.with_column(pl.col('Date').dt.year().alias('year')).groupby('year').agg(pl.col('Rented Bike Count').sum())\n"
          ]
        },
        {
          "output_type": "execute_result",
          "data": {
            "text/plain": [
              "shape: (2, 2)\n",
              "┌──────┬───────────────────┐\n",
              "│ year ┆ Rented Bike Count │\n",
              "│ ---  ┆ ---               │\n",
              "│ i32  ┆ i64               │\n",
              "╞══════╪═══════════════════╡\n",
              "│ 2018 ┆ 5986984           │\n",
              "│ 2017 ┆ 185330            │\n",
              "└──────┴───────────────────┘"
            ],
            "text/html": [
              "<div><style>\n",
              ".dataframe > thead > tr > th,\n",
              ".dataframe > tbody > tr > td {\n",
              "  text-align: right;\n",
              "}\n",
              "</style>\n",
              "<small>shape: (2, 2)</small><table border=\"1\" class=\"dataframe\"><thead><tr><th>year</th><th>Rented Bike Count</th></tr><tr><td>i32</td><td>i64</td></tr></thead><tbody><tr><td>2018</td><td>5986984</td></tr><tr><td>2017</td><td>185330</td></tr></tbody></table></div>"
            ]
          },
          "metadata": {},
          "execution_count": 9
        }
      ]
    },
    {
      "cell_type": "markdown",
      "source": [
        "##Exercise 7\n",
        "Display the average number of rentals per hour.\n"
      ],
      "metadata": {
        "id": "cYF-kUo3XVp-"
      }
    },
    {
      "cell_type": "code",
      "source": [
        "avgRentalsPerHour = \n",
        "avgRentalsPerHour"
      ],
      "metadata": {
        "colab": {
          "base_uri": "https://localhost:8080/",
          "height": 850
        },
        "id": "eiOpzu73UN-f",
        "outputId": "ca98f4f7-7043-49d3-f897-37b72027a853"
      },
      "execution_count": null,
      "outputs": [
        {
          "output_type": "execute_result",
          "data": {
            "text/plain": [
              "shape: (24, 2)\n",
              "┌──────┬───────────────────┐\n",
              "│ Hour ┆ Rented Bike Count │\n",
              "│ ---  ┆ ---               │\n",
              "│ i64  ┆ f64               │\n",
              "╞══════╪═══════════════════╡\n",
              "│ 0    ┆ 541.460274        │\n",
              "│ 22   ┆ 922.79726         │\n",
              "│ 4    ┆ 132.591781        │\n",
              "│ 8    ┆ 1015.70137        │\n",
              "│ …    ┆ …                 │\n",
              "│ 1    ┆ 426.183562        │\n",
              "│ 23   ┆ 671.126027        │\n",
              "│ 5    ┆ 139.082192        │\n",
              "│ 9    ┆ 645.983562        │\n",
              "└──────┴───────────────────┘"
            ],
            "text/html": [
              "<div><style>\n",
              ".dataframe > thead > tr > th,\n",
              ".dataframe > tbody > tr > td {\n",
              "  text-align: right;\n",
              "}\n",
              "</style>\n",
              "<small>shape: (24, 2)</small><table border=\"1\" class=\"dataframe\"><thead><tr><th>Hour</th><th>Rented Bike Count</th></tr><tr><td>i64</td><td>f64</td></tr></thead><tbody><tr><td>0</td><td>541.460274</td></tr><tr><td>22</td><td>922.79726</td></tr><tr><td>4</td><td>132.591781</td></tr><tr><td>8</td><td>1015.70137</td></tr><tr><td>12</td><td>699.441096</td></tr><tr><td>16</td><td>930.621918</td></tr><tr><td>20</td><td>1068.964384</td></tr><tr><td>2</td><td>301.630137</td></tr><tr><td>6</td><td>287.564384</td></tr><tr><td>10</td><td>527.821918</td></tr><tr><td>14</td><td>758.824658</td></tr><tr><td>18</td><td>1502.926027</td></tr><tr><td>13</td><td>733.246575</td></tr><tr><td>17</td><td>1138.509589</td></tr><tr><td>21</td><td>1031.449315</td></tr><tr><td>3</td><td>203.331507</td></tr><tr><td>7</td><td>606.005479</td></tr><tr><td>11</td><td>600.852055</td></tr><tr><td>15</td><td>829.186301</td></tr><tr><td>19</td><td>1195.147945</td></tr><tr><td>1</td><td>426.183562</td></tr><tr><td>23</td><td>671.126027</td></tr><tr><td>5</td><td>139.082192</td></tr><tr><td>9</td><td>645.983562</td></tr></tbody></table></div>"
            ]
          },
          "metadata": {},
          "execution_count": 13
        }
      ]
    },
    {
      "cell_type": "markdown",
      "source": [
        "##Exercise 8\n",
        "Display the days with the highest number of rentals.\n"
      ],
      "metadata": {
        "id": "5Qm5-MZbXmcj"
      }
    },
    {
      "cell_type": "code",
      "source": [],
      "metadata": {
        "colab": {
          "base_uri": "https://localhost:8080/",
          "height": 937
        },
        "id": "rf7Vi5GhXfFC",
        "outputId": "53cd39fc-d45c-47d4-d2c4-57883882e72e"
      },
      "execution_count": null,
      "outputs": [
        {
          "output_type": "stream",
          "name": "stderr",
          "text": [
            "<ipython-input-14-cc31761fccca>:1: DeprecationWarning: `DataFrame.with_column` has been renamed; this redirect is temporary, please use `.with_columns` instead\n",
            "  bikeSharingDF.with_column(pl.col('Date').dt.day().alias('day')).groupby('day').agg(pl.col('Rented Bike Count').sum())\n"
          ]
        },
        {
          "output_type": "execute_result",
          "data": {
            "text/plain": [
              "shape: (31, 2)\n",
              "┌─────┬───────────────────┐\n",
              "│ day ┆ Rented Bike Count │\n",
              "│ --- ┆ ---               │\n",
              "│ u32 ┆ i64               │\n",
              "╞═════╪═══════════════════╡\n",
              "│ 16  ┆ 207127            │\n",
              "│ 15  ┆ 209554            │\n",
              "│ 31  ┆ 130440            │\n",
              "│ 14  ┆ 220070            │\n",
              "│ …   ┆ …                 │\n",
              "│ 2   ┆ 165973            │\n",
              "│ 18  ┆ 183589            │\n",
              "│ 1   ┆ 201300            │\n",
              "│ 17  ┆ 216553            │\n",
              "└─────┴───────────────────┘"
            ],
            "text/html": [
              "<div><style>\n",
              ".dataframe > thead > tr > th,\n",
              ".dataframe > tbody > tr > td {\n",
              "  text-align: right;\n",
              "}\n",
              "</style>\n",
              "<small>shape: (31, 2)</small><table border=\"1\" class=\"dataframe\"><thead><tr><th>day</th><th>Rented Bike Count</th></tr><tr><td>u32</td><td>i64</td></tr></thead><tbody><tr><td>16</td><td>207127</td></tr><tr><td>15</td><td>209554</td></tr><tr><td>31</td><td>130440</td></tr><tr><td>14</td><td>220070</td></tr><tr><td>30</td><td>184774</td></tr><tr><td>13</td><td>248494</td></tr><tr><td>29</td><td>204323</td></tr><tr><td>12</td><td>214041</td></tr><tr><td>28</td><td>162229</td></tr><tr><td>11</td><td>189541</td></tr><tr><td>27</td><td>219402</td></tr><tr><td>10</td><td>187279</td></tr><tr><td>&hellip;</td><td>&hellip;</td></tr><tr><td>6</td><td>181136</td></tr><tr><td>22</td><td>201731</td></tr><tr><td>5</td><td>193881</td></tr><tr><td>21</td><td>220163</td></tr><tr><td>4</td><td>202423</td></tr><tr><td>20</td><td>226965</td></tr><tr><td>3</td><td>192256</td></tr><tr><td>19</td><td>211211</td></tr><tr><td>2</td><td>165973</td></tr><tr><td>18</td><td>183589</td></tr><tr><td>1</td><td>201300</td></tr><tr><td>17</td><td>216553</td></tr></tbody></table></div>"
            ]
          },
          "metadata": {},
          "execution_count": 14
        }
      ]
    },
    {
      "cell_type": "markdown",
      "source": [
        "##Exercise 9\n",
        "Display the average number of rentals per season."
      ],
      "metadata": {
        "id": "q9Odcwz4YZcB"
      }
    },
    {
      "cell_type": "code",
      "source": [
        "avgRentalsBySeason = \n",
        "avgRentalsBySeason\n",
        "\n"
      ],
      "metadata": {
        "colab": {
          "base_uri": "https://localhost:8080/",
          "height": 223
        },
        "id": "Dih-vFGGYkQm",
        "outputId": "a632585c-a835-40cd-ff88-680f1d18d0e9"
      },
      "execution_count": null,
      "outputs": [
        {
          "output_type": "execute_result",
          "data": {
            "text/plain": [
              "shape: (4, 2)\n",
              "┌─────────┬───────────────────┐\n",
              "│ Seasons ┆ Rented Bike Count │\n",
              "│ ---     ┆ ---               │\n",
              "│ str     ┆ f64               │\n",
              "╞═════════╪═══════════════════╡\n",
              "│ Summer  ┆ 1034.07337        │\n",
              "│ Autumn  ┆ 819.597985        │\n",
              "│ Spring  ┆ 730.03125         │\n",
              "│ Winter  ┆ 225.541204        │\n",
              "└─────────┴───────────────────┘"
            ],
            "text/html": [
              "<div><style>\n",
              ".dataframe > thead > tr > th,\n",
              ".dataframe > tbody > tr > td {\n",
              "  text-align: right;\n",
              "}\n",
              "</style>\n",
              "<small>shape: (4, 2)</small><table border=\"1\" class=\"dataframe\"><thead><tr><th>Seasons</th><th>Rented Bike Count</th></tr><tr><td>str</td><td>f64</td></tr></thead><tbody><tr><td>&quot;Summer&quot;</td><td>1034.07337</td></tr><tr><td>&quot;Autumn&quot;</td><td>819.597985</td></tr><tr><td>&quot;Spring&quot;</td><td>730.03125</td></tr><tr><td>&quot;Winter&quot;</td><td>225.541204</td></tr></tbody></table></div>"
            ]
          },
          "metadata": {},
          "execution_count": 15
        }
      ]
    },
    {
      "cell_type": "code",
      "source": [
        "bikeSharingDF.columns"
      ],
      "metadata": {
        "colab": {
          "base_uri": "https://localhost:8080/"
        },
        "id": "NvG1BUEakMUK",
        "outputId": "ee158525-aa68-47df-8868-807635ee3a09"
      },
      "execution_count": null,
      "outputs": [
        {
          "output_type": "execute_result",
          "data": {
            "text/plain": [
              "['Date',\n",
              " 'Rented Bike Count',\n",
              " 'Hour',\n",
              " 'Temperature(°C)',\n",
              " 'Humidity(%)',\n",
              " 'Wind speed (m/s)',\n",
              " 'Visibility (10m)',\n",
              " 'Dew point temperature(°C)',\n",
              " 'Solar Radiation (MJ/m2)',\n",
              " 'Rainfall(mm)',\n",
              " 'Snowfall (cm)',\n",
              " 'Seasons',\n",
              " 'Holiday',\n",
              " 'Functioning Day']"
            ]
          },
          "metadata": {},
          "execution_count": 16
        }
      ]
    },
    {
      "cell_type": "markdown",
      "source": [
        "##Exercise 10\n",
        "Display the average number of rentals for Holiday and no Holiday."
      ],
      "metadata": {
        "id": "YttLag-hZHJ0"
      }
    },
    {
      "cell_type": "code",
      "source": [
        "avgRentalsByWeather = \n",
        "avgRentalsByWeather\n",
        "\n"
      ],
      "metadata": {
        "colab": {
          "base_uri": "https://localhost:8080/",
          "height": 161
        },
        "id": "rQDb6o7jZFm9",
        "outputId": "239f7f6d-81bc-4579-f433-f59dcc327ee4"
      },
      "execution_count": null,
      "outputs": [
        {
          "output_type": "execute_result",
          "data": {
            "text/plain": [
              "shape: (2, 2)\n",
              "┌────────────┬───────────────────┐\n",
              "│ Holiday    ┆ Rented Bike Count │\n",
              "│ ---        ┆ ---               │\n",
              "│ str        ┆ f64               │\n",
              "╞════════════╪═══════════════════╡\n",
              "│ No Holiday ┆ 715.228026        │\n",
              "│ Holiday    ┆ 499.756944        │\n",
              "└────────────┴───────────────────┘"
            ],
            "text/html": [
              "<div><style>\n",
              ".dataframe > thead > tr > th,\n",
              ".dataframe > tbody > tr > td {\n",
              "  text-align: right;\n",
              "}\n",
              "</style>\n",
              "<small>shape: (2, 2)</small><table border=\"1\" class=\"dataframe\"><thead><tr><th>Holiday</th><th>Rented Bike Count</th></tr><tr><td>str</td><td>f64</td></tr></thead><tbody><tr><td>&quot;No Holiday&quot;</td><td>715.228026</td></tr><tr><td>&quot;Holiday&quot;</td><td>499.756944</td></tr></tbody></table></div>"
            ]
          },
          "metadata": {},
          "execution_count": 17
        }
      ]
    },
    {
      "cell_type": "markdown",
      "source": [
        "##Exercise 11\n",
        "Display the average number of rentals per day of the week.\n"
      ],
      "metadata": {
        "id": "RmUA55EU_8Fy"
      }
    },
    {
      "cell_type": "code",
      "source": [
        "avgRentalsByDayOfWeek = \n",
        "avgRentalsByDayOfWeek\n"
      ],
      "metadata": {
        "colab": {
          "base_uri": "https://localhost:8080/",
          "height": 317
        },
        "id": "0V-yzeLjZbES",
        "outputId": "10e2497c-e8aa-4be3-e1e5-a484f208c92e"
      },
      "execution_count": null,
      "outputs": [
        {
          "output_type": "execute_result",
          "data": {
            "text/plain": [
              "shape: (7, 2)\n",
              "┌──────┬───────────────────┐\n",
              "│ Date ┆ Rented Bike Count │\n",
              "│ ---  ┆ ---               │\n",
              "│ u32  ┆ f64               │\n",
              "╞══════╪═══════════════════╡\n",
              "│ 4    ┆ 690.704327        │\n",
              "│ 6    ┆ 709.528846        │\n",
              "│ 2    ┆ 687.977564        │\n",
              "│ 1    ┆ 730.563301        │\n",
              "│ 7    ┆ 625.155449        │\n",
              "│ 5    ┆ 747.117925        │\n",
              "│ 3    ┆ 740.349359        │\n",
              "└──────┴───────────────────┘"
            ],
            "text/html": [
              "<div><style>\n",
              ".dataframe > thead > tr > th,\n",
              ".dataframe > tbody > tr > td {\n",
              "  text-align: right;\n",
              "}\n",
              "</style>\n",
              "<small>shape: (7, 2)</small><table border=\"1\" class=\"dataframe\"><thead><tr><th>Date</th><th>Rented Bike Count</th></tr><tr><td>u32</td><td>f64</td></tr></thead><tbody><tr><td>4</td><td>690.704327</td></tr><tr><td>6</td><td>709.528846</td></tr><tr><td>2</td><td>687.977564</td></tr><tr><td>1</td><td>730.563301</td></tr><tr><td>7</td><td>625.155449</td></tr><tr><td>5</td><td>747.117925</td></tr><tr><td>3</td><td>740.349359</td></tr></tbody></table></div>"
            ]
          },
          "metadata": {},
          "execution_count": 26
        }
      ]
    },
    {
      "cell_type": "markdown",
      "source": [
        "##Exercise 12\n",
        "Display the average number of rentals per month.\n"
      ],
      "metadata": {
        "id": "RKVQklaTDazO"
      }
    },
    {
      "cell_type": "code",
      "source": [
        "avgRentalsByMonth = \n",
        "avgRentalsByMonth\n"
      ],
      "metadata": {
        "colab": {
          "base_uri": "https://localhost:8080/",
          "height": 474
        },
        "id": "67yaxbguATWI",
        "outputId": "019cbff8-c121-4805-ed6e-4cf70afc13d0"
      },
      "execution_count": null,
      "outputs": [
        {
          "output_type": "execute_result",
          "data": {
            "text/plain": [
              "shape: (12, 2)\n",
              "┌──────┬───────────────────┐\n",
              "│ Date ┆ Rented Bike Count │\n",
              "│ ---  ┆ ---               │\n",
              "│ u32  ┆ f64               │\n",
              "╞══════╪═══════════════════╡\n",
              "│ 4    ┆ 728.093056        │\n",
              "│ 8    ┆ 876.192204        │\n",
              "│ 2    ┆ 225.941964        │\n",
              "│ 6    ┆ 1245.676389       │\n",
              "│ …    ┆ …                 │\n",
              "│ 11   ┆ 646.826389        │\n",
              "│ 3    ┆ 511.551075        │\n",
              "│ 7    ┆ 987.177419        │\n",
              "│ 5    ┆ 950.387097        │\n",
              "└──────┴───────────────────┘"
            ],
            "text/html": [
              "<div><style>\n",
              ".dataframe > thead > tr > th,\n",
              ".dataframe > tbody > tr > td {\n",
              "  text-align: right;\n",
              "}\n",
              "</style>\n",
              "<small>shape: (12, 2)</small><table border=\"1\" class=\"dataframe\"><thead><tr><th>Date</th><th>Rented Bike Count</th></tr><tr><td>u32</td><td>f64</td></tr></thead><tbody><tr><td>4</td><td>728.093056</td></tr><tr><td>8</td><td>876.192204</td></tr><tr><td>2</td><td>225.941964</td></tr><tr><td>6</td><td>1245.676389</td></tr><tr><td>10</td><td>874.563172</td></tr><tr><td>12</td><td>249.099462</td></tr><tr><td>1</td><td>201.620968</td></tr><tr><td>9</td><td>935.572222</td></tr><tr><td>11</td><td>646.826389</td></tr><tr><td>3</td><td>511.551075</td></tr><tr><td>7</td><td>987.177419</td></tr><tr><td>5</td><td>950.387097</td></tr></tbody></table></div>"
            ]
          },
          "metadata": {},
          "execution_count": 29
        }
      ]
    },
    {
      "cell_type": "markdown",
      "source": [
        "## Exercise 13\n",
        "Display the busiest hour of the day. "
      ],
      "metadata": {
        "id": "ktXuHH5IDlM-"
      }
    },
    {
      "cell_type": "code",
      "source": [
        "busiestHour = \n",
        "busiestHour\n"
      ],
      "metadata": {
        "colab": {
          "base_uri": "https://localhost:8080/",
          "height": 279
        },
        "id": "6xkliQp4Dior",
        "outputId": "20c6aa54-e7e9-41a1-de05-b6995444b573"
      },
      "execution_count": null,
      "outputs": [
        {
          "output_type": "stream",
          "name": "stderr",
          "text": [
            "<ipython-input-33-a79c03ba7921>:1: DeprecationWarning: `reverse` is deprecated as an argument to `sort`; use `descending` instead.\n",
            "  busiestHour = bikeSharingDF.groupby('Hour').agg(pl.col('Rented Bike Count').sum()).sort(by='Rented Bike Count', reverse=True).head(4)\n"
          ]
        },
        {
          "output_type": "execute_result",
          "data": {
            "text/plain": [
              "shape: (4, 2)\n",
              "┌──────┬───────────────────┐\n",
              "│ Hour ┆ Rented Bike Count │\n",
              "│ ---  ┆ ---               │\n",
              "│ i64  ┆ i64               │\n",
              "╞══════╪═══════════════════╡\n",
              "│ 18   ┆ 548568            │\n",
              "│ 19   ┆ 436229            │\n",
              "│ 17   ┆ 415556            │\n",
              "│ 20   ┆ 390172            │\n",
              "└──────┴───────────────────┘"
            ],
            "text/html": [
              "<div><style>\n",
              ".dataframe > thead > tr > th,\n",
              ".dataframe > tbody > tr > td {\n",
              "  text-align: right;\n",
              "}\n",
              "</style>\n",
              "<small>shape: (4, 2)</small><table border=\"1\" class=\"dataframe\"><thead><tr><th>Hour</th><th>Rented Bike Count</th></tr><tr><td>i64</td><td>i64</td></tr></thead><tbody><tr><td>18</td><td>548568</td></tr><tr><td>19</td><td>436229</td></tr><tr><td>17</td><td>415556</td></tr><tr><td>20</td><td>390172</td></tr></tbody></table></div>"
            ]
          },
          "metadata": {},
          "execution_count": 33
        }
      ]
    },
    {
      "cell_type": "markdown",
      "source": [
        "## Exercise 14\n",
        "Display the busiest day of the year."
      ],
      "metadata": {
        "id": "xXzqohuOD22z"
      }
    },
    {
      "cell_type": "code",
      "source": [
        "busiestDayOfYear = \n",
        "busiestDayOfYear\n",
        "\n"
      ],
      "metadata": {
        "colab": {
          "base_uri": "https://localhost:8080/",
          "height": 216
        },
        "id": "whwYXN1RDvXH",
        "outputId": "c206c73c-036b-4529-870c-21f7f990f2d0"
      },
      "execution_count": null,
      "outputs": [
        {
          "output_type": "stream",
          "name": "stderr",
          "text": [
            "<ipython-input-36-86d07a481685>:1: DeprecationWarning: `reverse` is deprecated as an argument to `sort`; use `descending` instead.\n",
            "  busiestDayOfYear = bikeSharingDF.groupby(pl.col('Date').dt.year()).agg(pl.col('Rented Bike Count').sum()).sort(by='Rented Bike Count', reverse=True)\n"
          ]
        },
        {
          "output_type": "execute_result",
          "data": {
            "text/plain": [
              "shape: (2, 2)\n",
              "┌──────┬───────────────────┐\n",
              "│ Date ┆ Rented Bike Count │\n",
              "│ ---  ┆ ---               │\n",
              "│ i32  ┆ i64               │\n",
              "╞══════╪═══════════════════╡\n",
              "│ 2018 ┆ 5986984           │\n",
              "│ 2017 ┆ 185330            │\n",
              "└──────┴───────────────────┘"
            ],
            "text/html": [
              "<div><style>\n",
              ".dataframe > thead > tr > th,\n",
              ".dataframe > tbody > tr > td {\n",
              "  text-align: right;\n",
              "}\n",
              "</style>\n",
              "<small>shape: (2, 2)</small><table border=\"1\" class=\"dataframe\"><thead><tr><th>Date</th><th>Rented Bike Count</th></tr><tr><td>i32</td><td>i64</td></tr></thead><tbody><tr><td>2018</td><td>5986984</td></tr><tr><td>2017</td><td>185330</td></tr></tbody></table></div>"
            ]
          },
          "metadata": {},
          "execution_count": 36
        }
      ]
    },
    {
      "cell_type": "markdown",
      "source": [
        "##Exercise 15\n",
        "Display the average number of rentals per hour, grouped by Holiday or no Holiday.\n"
      ],
      "metadata": {
        "id": "p6FJRkWxEC54"
      }
    },
    {
      "cell_type": "code",
      "source": [
        "avgRentalsByHourAndWeather = \n",
        "avgRentalsByHourAndWeather\n",
        "\n"
      ],
      "metadata": {
        "colab": {
          "base_uri": "https://localhost:8080/",
          "height": 192
        },
        "id": "bqRf2XTCD__9",
        "outputId": "f1af6e0d-31ce-4fcd-845b-ac1f2867b225"
      },
      "execution_count": null,
      "outputs": [
        {
          "output_type": "execute_result",
          "data": {
            "text/plain": [
              "shape: (3, 3)\n",
              "┌─────────┬──────┬───────────────────┐\n",
              "│ Holiday ┆ Hour ┆ Rented Bike Count │\n",
              "│ ---     ┆ ---  ┆ ---               │\n",
              "│ str     ┆ i64  ┆ f64               │\n",
              "╞═════════╪══════╪═══════════════════╡\n",
              "│ Holiday ┆ 22   ┆ 596.833333        │\n",
              "│ Holiday ┆ 8    ┆ 348.5             │\n",
              "│ Holiday ┆ 11   ┆ 510.0             │\n",
              "└─────────┴──────┴───────────────────┘"
            ],
            "text/html": [
              "<div><style>\n",
              ".dataframe > thead > tr > th,\n",
              ".dataframe > tbody > tr > td {\n",
              "  text-align: right;\n",
              "}\n",
              "</style>\n",
              "<small>shape: (3, 3)</small><table border=\"1\" class=\"dataframe\"><thead><tr><th>Holiday</th><th>Hour</th><th>Rented Bike Count</th></tr><tr><td>str</td><td>i64</td><td>f64</td></tr></thead><tbody><tr><td>&quot;Holiday&quot;</td><td>22</td><td>596.833333</td></tr><tr><td>&quot;Holiday&quot;</td><td>8</td><td>348.5</td></tr><tr><td>&quot;Holiday&quot;</td><td>11</td><td>510.0</td></tr></tbody></table></div>"
            ]
          },
          "metadata": {},
          "execution_count": 39
        }
      ]
    },
    {
      "cell_type": "markdown",
      "source": [
        "##Exercise 16\n",
        "\n",
        "Display the busiest hour of the day for each season."
      ],
      "metadata": {
        "id": "KTB5vPCKEsgT"
      }
    },
    {
      "cell_type": "code",
      "source": [
        "from polars.functions.lazy import first\n",
        "\n",
        "busiestHourBySeason = \n",
        "busiestHourBySeason\n",
        "\n"
      ],
      "metadata": {
        "colab": {
          "base_uri": "https://localhost:8080/",
          "height": 279
        },
        "id": "M7sI6fTgELqP",
        "outputId": "0a3c7de7-390d-4b70-d8a8-b0fdd2049f20"
      },
      "execution_count": null,
      "outputs": [
        {
          "output_type": "stream",
          "name": "stderr",
          "text": [
            "<ipython-input-43-3794bff40f22>:2: DeprecationWarning: `reverse` is deprecated as an argument to `sort`; use `descending` instead.\n",
            "  busiestHourBySeason = bikeSharingDF.groupby(['Seasons', 'Hour']).agg(pl.col('Rented Bike Count').mean()).sort(by='Rented Bike Count', reverse=True).groupby('Seasons').agg(pl.col('Hour').first())\n"
          ]
        },
        {
          "output_type": "execute_result",
          "data": {
            "text/plain": [
              "shape: (4, 2)\n",
              "┌─────────┬──────┐\n",
              "│ Seasons ┆ Hour │\n",
              "│ ---     ┆ ---  │\n",
              "│ str     ┆ i64  │\n",
              "╞═════════╪══════╡\n",
              "│ Winter  ┆ 18   │\n",
              "│ Spring  ┆ 18   │\n",
              "│ Summer  ┆ 18   │\n",
              "│ Autumn  ┆ 18   │\n",
              "└─────────┴──────┘"
            ],
            "text/html": [
              "<div><style>\n",
              ".dataframe > thead > tr > th,\n",
              ".dataframe > tbody > tr > td {\n",
              "  text-align: right;\n",
              "}\n",
              "</style>\n",
              "<small>shape: (4, 2)</small><table border=\"1\" class=\"dataframe\"><thead><tr><th>Seasons</th><th>Hour</th></tr><tr><td>str</td><td>i64</td></tr></thead><tbody><tr><td>&quot;Winter&quot;</td><td>18</td></tr><tr><td>&quot;Spring&quot;</td><td>18</td></tr><tr><td>&quot;Summer&quot;</td><td>18</td></tr><tr><td>&quot;Autumn&quot;</td><td>18</td></tr></tbody></table></div>"
            ]
          },
          "metadata": {},
          "execution_count": 43
        }
      ]
    },
    {
      "cell_type": "markdown",
      "source": [
        "##Exercise 17\n",
        "Display the average number of rentals per hour, grouped by day of the week."
      ],
      "metadata": {
        "id": "hruy8B6uFPYY"
      }
    },
    {
      "cell_type": "code",
      "source": [
        "avgRentalsByHourAndDayOfWeek = \n",
        "avgRentalsByHourAndDayOfWeek\n"
      ],
      "metadata": {
        "colab": {
          "base_uri": "https://localhost:8080/",
          "height": 882
        },
        "id": "AGUufUFrE52P",
        "outputId": "eddf26d1-5425-4c6b-9dbc-26c611ed3ba9"
      },
      "execution_count": null,
      "outputs": [
        {
          "output_type": "execute_result",
          "data": {
            "text/plain": [
              "shape: (168, 3)\n",
              "┌──────┬──────┬───────────────────┐\n",
              "│ Date ┆ Hour ┆ Rented Bike Count │\n",
              "│ ---  ┆ ---  ┆ ---               │\n",
              "│ u32  ┆ i64  ┆ f64               │\n",
              "╞══════╪══════╪═══════════════════╡\n",
              "│ 3    ┆ 6    ┆ 321.134615        │\n",
              "│ 4    ┆ 12   ┆ 640.769231        │\n",
              "│ 7    ┆ 15   ┆ 959.115385        │\n",
              "│ 1    ┆ 20   ┆ 1181.25           │\n",
              "│ …    ┆ …    ┆ …                 │\n",
              "│ 2    ┆ 12   ┆ 653.576923        │\n",
              "│ 4    ┆ 11   ┆ 553.384615        │\n",
              "│ 1    ┆ 15   ┆ 782.634615        │\n",
              "│ 2    ┆ 0    ┆ 473.461538        │\n",
              "└──────┴──────┴───────────────────┘"
            ],
            "text/html": [
              "<div><style>\n",
              ".dataframe > thead > tr > th,\n",
              ".dataframe > tbody > tr > td {\n",
              "  text-align: right;\n",
              "}\n",
              "</style>\n",
              "<small>shape: (168, 3)</small><table border=\"1\" class=\"dataframe\"><thead><tr><th>Date</th><th>Hour</th><th>Rented Bike Count</th></tr><tr><td>u32</td><td>i64</td><td>f64</td></tr></thead><tbody><tr><td>3</td><td>6</td><td>321.134615</td></tr><tr><td>4</td><td>12</td><td>640.769231</td></tr><tr><td>7</td><td>15</td><td>959.115385</td></tr><tr><td>1</td><td>20</td><td>1181.25</td></tr><tr><td>4</td><td>10</td><td>478.519231</td></tr><tr><td>5</td><td>3</td><td>192.811321</td></tr><tr><td>2</td><td>13</td><td>663.461538</td></tr><tr><td>3</td><td>4</td><td>126.692308</td></tr><tr><td>6</td><td>0</td><td>663.557692</td></tr><tr><td>7</td><td>17</td><td>1068.653846</td></tr><tr><td>1</td><td>22</td><td>980.903846</td></tr><tr><td>6</td><td>20</td><td>1005.980769</td></tr><tr><td>&hellip;</td><td>&hellip;</td><td>&hellip;</td></tr><tr><td>7</td><td>0</td><td>638.846154</td></tr><tr><td>5</td><td>8</td><td>1287.471698</td></tr><tr><td>5</td><td>20</td><td>1111.188679</td></tr><tr><td>3</td><td>9</td><td>722.653846</td></tr><tr><td>7</td><td>12</td><td>736.192308</td></tr><tr><td>6</td><td>5</td><td>138.846154</td></tr><tr><td>4</td><td>23</td><td>663.057692</td></tr><tr><td>1</td><td>3</td><td>132.769231</td></tr><tr><td>2</td><td>12</td><td>653.576923</td></tr><tr><td>4</td><td>11</td><td>553.384615</td></tr><tr><td>1</td><td>15</td><td>782.634615</td></tr><tr><td>2</td><td>0</td><td>473.461538</td></tr></tbody></table></div>"
            ]
          },
          "metadata": {},
          "execution_count": 44
        }
      ]
    },
    {
      "cell_type": "markdown",
      "source": [
        "##Exercise 18\n",
        "Display the percentage of rentals that were taken on weekends."
      ],
      "metadata": {
        "id": "WGUP5BqiFfxN"
      }
    },
    {
      "cell_type": "code",
      "source": [
        "totalRentals = \n",
        "weekendRentals = \n",
        "weekendPercentage = weekendRentals / totalRentals * 100\n",
        "print(\"Percentage of rentals that were taken on weekends:\", weekendPercentage)\n"
      ],
      "metadata": {
        "colab": {
          "base_uri": "https://localhost:8080/"
        },
        "id": "hXe1Bo1cFW_x",
        "outputId": "2b16412c-8baa-4650-cb2c-b91fd80913bf"
      },
      "execution_count": null,
      "outputs": [
        {
          "output_type": "stream",
          "name": "stdout",
          "text": [
            "Percentage of rentals that were taken on weekends: 26.986410607107803\n"
          ]
        }
      ]
    }
  ]
}