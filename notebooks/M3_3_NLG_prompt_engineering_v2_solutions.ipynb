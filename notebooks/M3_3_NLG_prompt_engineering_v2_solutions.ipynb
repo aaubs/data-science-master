{
  "cells": [
    {
      "cell_type": "markdown",
      "metadata": {
        "id": "view-in-github",
        "colab_type": "text"
      },
      "source": [
        "<a href=\"https://colab.research.google.com/github/aaubs/ds-master/blob/main/notebooks/M3_3_NLG_prompt_engineering_v2_solutions.ipynb\" target=\"_parent\"><img src=\"https://colab.research.google.com/assets/colab-badge.svg\" alt=\"Open In Colab\"/></a>"
      ]
    },
    {
      "cell_type": "markdown",
      "source": [
        "# LLMs in Harry Potter: Tom Riddle introduces himself to Harry Potter"
      ],
      "metadata": {
        "id": "40SgB408bPei"
      }
    },
    {
      "cell_type": "code",
      "source": [
        "%%html\n",
        "\n",
        "<iframe width=\"966\" height=\"543\" src=\"https://www.youtube.com/embed/eh4b5zC0sB4\" title=\"Tom Riddle introduces himself to Harry Potter | Harry Potter and the Chamber of Secrets\" frameborder=\"0\" allow=\"accelerometer; autoplay; clipboard-write; encrypted-media; gyroscope; picture-in-picture; web-share\" allowfullscreen></iframe>"
      ],
      "metadata": {
        "colab": {
          "base_uri": "https://localhost:8080/",
          "height": 565
        },
        "id": "w9sqlGUBc5HO",
        "outputId": "128b4bd4-dddb-4c9b-8b19-3588f61151ea"
      },
      "execution_count": null,
      "outputs": [
        {
          "output_type": "display_data",
          "data": {
            "text/plain": [
              "<IPython.core.display.HTML object>"
            ],
            "text/html": [
              "\n",
              "<iframe width=\"966\" height=\"543\" src=\"https://www.youtube.com/embed/eh4b5zC0sB4\" title=\"Tom Riddle introduces himself to Harry Potter | Harry Potter and the Chamber of Secrets\" frameborder=\"0\" allow=\"accelerometer; autoplay; clipboard-write; encrypted-media; gyroscope; picture-in-picture; web-share\" allowfullscreen></iframe>\n"
            ]
          },
          "metadata": {}
        }
      ]
    },
    {
      "cell_type": "markdown",
      "source": [
        "# How Smart Are They? Understanding the Scale of GPT-3 and GPT-4\n"
      ],
      "metadata": {
        "id": "J3ZgnpAvZ-_z"
      }
    },
    {
      "cell_type": "markdown",
      "source": [
        "| Assumption                                  | Description                                                                                       |\n",
        "|---------------------------------------------|---------------------------------------------------------------------------------------------------|\n",
        "| **Average Tokens per Book**                 | Estimated at 135,000 tokens per book, based on an average book length of 80,000 to 100,000 words.  |\n",
        "| **Average Reading Lifetime of an Individual** | Estimated at 510 books per lifetime, assuming a moderate reading habit of 5-12 books per year over 60 years. |\n",
        "| **Tokens per Word**                         | Estimated at 1.5 tokens per word, accounting for spaces and punctuation.                          |\n",
        "\n"
      ],
      "metadata": {
        "id": "xE_UeBjWZlQt"
      }
    },
    {
      "cell_type": "markdown",
      "source": [
        "| Detail                             | GPT-3                                   | GPT-4                                   |\n",
        "|------------------------------------|-----------------------------------------|-----------------------------------------|\n",
        "| **Developed By**                   | OpenAI                                  | OpenAI                                  |\n",
        "| **Approximate Training Data Size** | 45 terabytes of text data               | Larger than GPT-3 (exact size unknown)  |\n",
        "| **Estimated Token Count**          | 300-400 billion tokens                  | Likely over 500 billion tokens          |\n",
        "| **Equivalent Number of Books**     | 2,222,222 - 2,962,963 books             | >3,703,704 books                        |\n",
        "| **Equivalent Knowledge of People** | 4,356 - 5,810 people                    | >7,263 people                           |\n"
      ],
      "metadata": {
        "id": "vxvz6Gw_ZjY7"
      }
    },
    {
      "cell_type": "markdown",
      "metadata": {
        "id": "j431XmcTOzCY"
      },
      "source": [
        "# Why adapt the language model?\n",
        "\n",
        "- LMs are trained in a task-agnostic way.\n",
        "- Downstream tasks can be very different from language modeling on the Pile.\n",
        "For example, consider the natural language inference (NLI) task (is the hypothesis entailed by the premise?):\n",
        "\n",
        "      Premise: I have never seen an apple that is not red.\n",
        "      Hypothesis: I have never seen an apple.\n",
        "      Correct output: Not entailment (the reverse direction would be entailment)\n",
        "\n",
        "- The format of such a task may not be very natural for the model.\n",
        "\n",
        "# Ways downstream tasks can be different\n",
        "\n",
        "- **Formatting**: for example, NLI takes in two sentences and compares them to produce a single binary output. This is different from generating the next token or filling in MASKs. Another example is the presence of MASK tokens in BERT training vs. no MASKs in downstream tasks.\n",
        "- **Topic shift**: the downstream task is focused on a new or very specific topic (e.g., medical records)\n",
        "- **Temporal shift**: the downstream task requires new knowledge that is unavailable during pre-training because 1) the knowledge is new (e.g., GPT3 was trained before Biden became President), 2) the knowledge for the downstream task is not publicly available."
      ]
    },
    {
      "cell_type": "markdown",
      "source": [
        "\n",
        "# Optimizing Large Language Models\n",
        "\n",
        "There are several options to optimize Large Language Models:\n",
        "\n",
        "    Prompt engineering by providing samples (In-Context Learning)\n",
        "    Prompt Tuning\n",
        "    Fine-Tuning\n",
        "       - Classic fine-tuning by changing all weights\n",
        "       - Transfer Learning - PEFT fine-tuning by changing only a few weights\n",
        "       - Reinforcement Learning Human Feedback (RLHF)\n",
        "\n",
        "An important question is which of these options is the most effective one and which one can overwrite previous optimizations."
      ],
      "metadata": {
        "id": "0RH5hIcHJWz3"
      }
    },
    {
      "cell_type": "markdown",
      "source": [
        "## In-Context Learning\n",
        "\n",
        "In-context learning is a key concept in the functionality of AI models like ChatGPT, crucial for understanding how these systems process and respond to queries.\n",
        "\n",
        "### Description:\n",
        "\n",
        "1. **Learning from Examples**:\n",
        "   - In-context learning refers to the model's ability to learn from the examples given in the prompt itself. This means ChatGPT learns from the context provided in the current conversation, adapting to the format, style, or response type illustrated by these examples.\n",
        "\n",
        "2. **Improving Response Accuracy and Relevance**:\n",
        "   - By analyzing the structure, content, and intent of the provided examples, ChatGPT generates more accurate and relevant responses. For instance, if you give examples of business strategies in a specific format, ChatGPT replicates this format in its responses, making them tailored to the query's specific needs.\n",
        "\n",
        "3. **Flexibility and Adaptability**:\n",
        "   - This feature makes ChatGPT flexible and adaptable to a wide range of tasks. Whether it's generating creative content, solving complex problems, or providing detailed explanations, the model adjusts its responses based on the user-set context. This adaptability is particularly beneficial in varied settings, such as education or business, where query types can significantly differ.\n",
        "\n"
      ],
      "metadata": {
        "id": "5f1gTAAQguh7"
      }
    },
    {
      "cell_type": "markdown",
      "source": [
        "# How much does this approach improve the performance of GPT models?\n"
      ],
      "metadata": {
        "id": "77wRbZ1Og2kj"
      }
    },
    {
      "cell_type": "markdown",
      "metadata": {
        "id": "8hsQWZfqa5VY"
      },
      "source": [
        "![](https://heidloff.net/assets/img/2023/09/icp-amount-samples.png)"
      ]
    },
    {
      "cell_type": "markdown",
      "metadata": {
        "id": "QB_FWy5F7nJg"
      },
      "source": [
        "# Prompt engineering"
      ]
    },
    {
      "cell_type": "markdown",
      "metadata": {
        "id": "wxy04CJB8aIl"
      },
      "source": [
        "Prompt Engineering can be described as an art form, creating input requests for Large Language Models (LLMs) that will lead to a envisaged output. Here are twelve different techniques in crafting a single or a sequence of prompts."
      ]
    },
    {
      "cell_type": "markdown",
      "metadata": {
        "id": "6abbio_h7po7"
      },
      "source": [
        "![](https://raw.githubusercontent.com/promptslab/Awesome-Prompt-Engineering/main/_source/prompt.png)"
      ]
    },
    {
      "cell_type": "markdown",
      "metadata": {
        "id": "ku8DUtqqQFNS"
      },
      "source": [
        "## Why Prompt Engineering?"
      ]
    },
    {
      "cell_type": "markdown",
      "metadata": {
        "id": "DQv5Grf1Rl1l"
      },
      "source": [
        "![](https://raw.githubusercontent.com/aaubs/ds-master/main/data/Images/prompt_engin.png)"
      ]
    },
    {
      "cell_type": "markdown",
      "metadata": {
        "id": "y49y0jDZR1ep"
      },
      "source": [
        "## Elements of a Prompt"
      ]
    },
    {
      "cell_type": "markdown",
      "metadata": {
        "id": "kdCjZX9VSChr"
      },
      "source": [
        "As we cover more and more examples and applications with prompt engineering, you will notice that certain elements make up a prompt.\n",
        "\n",
        "A prompt contains any of the following elements:\n",
        "       \n",
        "      Instruction - a specific task or instruction you want the model to perform\n",
        "      Context - external information or additional context that can steer the model to better responses\n",
        "      Input Data - the input or question that we are interested to find a response for\n",
        "      Output Indicator - the type or format of the output.\n",
        "\n",
        "You do not need all the four elements for a prompt and the format depends on the task at hand. We will touch on more concrete examples in upcoming guides."
      ]
    },
    {
      "cell_type": "markdown",
      "metadata": {
        "id": "OLtuGFOxHWz0"
      },
      "source": [
        "### Prompt Example:\n",
        "\n",
        ">_Write a short story about a space explorer who discovers a new planet. The story should be thrilling and include dialogue between characters. The planet is unlike anything previously discovered, with a unique ecosystem and intelligent life forms. Focus on the explorer's first encounter with these life forms. The story should be suitable for a young adult audience and conclude with a surprising twist. Please ensure the story is no longer than 500 words._\n",
        "\n",
        "### Breakdown of Elements in the Prompt:\n",
        "\n",
        "- **Instruction:** \"Write a short story about a space explorer who discovers a new planet... The story should be suitable for a young adult audience and conclude with a surprising twist.\"\n",
        "\n",
        "- **Context:** \"The story should be thrilling and include dialogue between characters. The planet is unlike anything previously discovered, with a unique ecosystem and intelligent life forms.\"\n",
        "\n",
        "- **Input Data:** The main input data is the theme of the story – a space explorer discovering a new planet with intelligent life forms.\n",
        "\n",
        "- **Output Indicator:** \"Please ensure the story is no longer than 500 words.\"\n"
      ]
    },
    {
      "cell_type": "markdown",
      "metadata": {
        "id": "bmYPeiHgHWz1"
      },
      "source": [
        "### General Tips for Designing Prompts with Examples\n",
        "\n",
        "#### 1. Start Simple\n",
        "- **Tip:** Begin with straightforward prompts and gradually add more elements and context for improved outcomes.\n",
        "- **Example:**\n",
        "   - Simple Prompt: \"Describe a cat.\"\n",
        "   - Enhanced Prompt: \"Describe a cat, focusing on its physical characteristics, typical behaviors, and common habitats.\"\n",
        "\n",
        "#### 2. The Instruction\n",
        "- **Tip:** Use clear commands to direct the model, such as \"Write\", \"Classify\", \"Summarize\", \"Translate\", \"Order\", etc.\n",
        "- **Example:**\n",
        "   - Task: \"Translate the following sentence from English to French: 'Hello, how are you?'\"\n",
        "\n",
        "#### 3. Specificity\n",
        "- **Tip:** Detailed and descriptive prompts yield better results.\n",
        "- **Example:**\n",
        "   - General Prompt: \"Write a story about a dog.\"\n",
        "   - Specific Prompt: \"Write a story about a Golden Retriever named Max who gets lost in the city and his adventure to find his way back home to his family in the countryside.\"\n",
        "\n",
        "#### 4. Avoid Impreciseness\n",
        "- **Tip:** Be detailed and clear, avoiding overly clever or vague descriptions.\n",
        "- **Example:**\n",
        "   - Imprecise Prompt: \"Write something about space.\"\n",
        "   - Improved Prompt: \"Write a short essay on the importance of satellite technology in modern communication systems, including examples of its applications.\"\n",
        "\n",
        "#### 5. To Do or Not to Do?\n",
        "- **Tip:** Focus on what should be done rather than what should not be done.\n",
        "- **Example:**\n",
        "   - Negative Prompt: \"Don't write a boring account of a historical event.\"\n",
        "   - Positive Prompt: \"Write an engaging and informative account of the first moon landing, highlighting the key moments and emotions of the astronauts.\"\n"
      ]
    },
    {
      "cell_type": "markdown",
      "source": [
        "### Exercise 1: Enhancing a Business-Related Prompt\n",
        "\n",
        "**Objective**: Transform a simple business-related prompt into a more detailed and context-specific one, using the \"Start Simple\" tip.\n",
        "\n",
        "**Prompt**:\n",
        "- **Simple Prompt**: \"What is Business Design? (definition and process)\""
      ],
      "metadata": {
        "id": "N1Ah3vMsibxs"
      }
    },
    {
      "cell_type": "markdown",
      "source": [
        "### Solution\n",
        "\n",
        "- **Enhanced Prompt Solution**:\n",
        "  \"Could you provide an in-depth explanation of Business Design, focusing on its core definition, its significance in the modern business landscape, and the step-by-step process typically involved in implementing Business Design strategies? Additionally, please include examples of how Business Design principles are applied in real-world scenarios, such as in product development, service innovation, or business model restructuring. Furthermore, discuss the role of interdisciplinary teams and customer-centric approaches in the successful execution of Business Design.\""
      ],
      "metadata": {
        "id": "foG8JLxrifAl"
      }
    },
    {
      "cell_type": "markdown",
      "source": [
        "### Exercise 2: Creating a Specific and Clear Business Design Prompt\n",
        "\n",
        "**Objective**: Develop a business design prompt that is both specific and clear, applying the \"Specificity\" and \"Avoid Impreciseness\" tips.\n",
        "\n",
        "**Prompt**:\n",
        "- **General and Imprecise Prompt**: \"What is Business Designer? (definition and job type)\"\n"
      ],
      "metadata": {
        "id": "xXrOv1VeiQwr"
      }
    },
    {
      "cell_type": "markdown",
      "source": [
        "### Solution\n",
        "\n",
        "- **Specific and Clear Prompt Solution**:\n",
        "  \"Define the role and responsibilities of a Business Designer in a tech startup focusing on sustainable energy solutions. Include a detailed description of the key skills and competencies required for this position, how the Business Designer collaborates with other departments (like R&D, marketing, and finance) to align business strategies with market needs, and the typical career path for someone in this role. Additionally, provide examples of real-world challenges a Business Designer might face in the sustainable energy sector and the strategies used to overcome them.\""
      ],
      "metadata": {
        "id": "VolKVvCEilp0"
      }
    },
    {
      "cell_type": "markdown",
      "metadata": {
        "id": "7Rp9n0imHWz2"
      },
      "source": [
        "### 1. N-shot Prompting\n",
        "\n",
        "**Description**:\n",
        "- N-shot prompting involves providing multiple examples (N examples) to demonstrate a specific task or question-answer format.\n",
        "- It helps the model understand the context or pattern you're expecting in the response.\n",
        "- Useful when you want the AI to follow a specific format or style.\n",
        "\n",
        "**Technique:** Providing multiple examples (N examples) to the model before giving the actual prompt.\n",
        "\n",
        "**Steps**:\n",
        "- Step 1: Identify the task or question format.\n",
        "- Step 2: Provide N examples of the task with input and corresponding output.\n",
        "\n",
        "**Example Usage:**\n",
        "```plaintext\n",
        "n_shot_prompt = '''\n",
        "Example 1: Explain the concept of strategic design in business.\n",
        "Response: Strategic design in business refers to...\n",
        "\n",
        "Example 2: Describe service design in the context of business.\n",
        "Response: Service design in business involves...\n",
        "\n",
        "Prompt: Explain key theoretical approaches to business design in an open organizational context.\n",
        "'''\n"
      ]
    },
    {
      "cell_type": "markdown",
      "source": [
        "## Prompt Engineering Techniques\n",
        "\n",
        "This document outlines various advanced prompt engineering techniques used in the context of business design, detailing their methods and applications.\n",
        "\n",
        "1. **N-shot Prompting**\n",
        "2. **Chain-of-Thought (CoT) Prompting**\n",
        "3. **Generated Knowledge Prompting**\n",
        "4. **Self-Consistency**\n",
        "5. **Retrieval Augmented Generation (RAG)**\n",
        "6. **ReAct Prompting**\n",
        "\n",
        "---\n"
      ],
      "metadata": {
        "id": "WY9tZAL-mrsM"
      }
    },
    {
      "cell_type": "markdown",
      "source": [
        "![](https://www.slideteam.net/media/catalog/product/cache/1280x720/z/e/zero_shot_and_few_shot_prompting_method_prompt_engineering_for_effective_interaction_with_ai_slide01.jpg)"
      ],
      "metadata": {
        "id": "mhBr-HF-RrX2"
      }
    },
    {
      "cell_type": "markdown",
      "source": [
        "### Exercise 3: N-shot Prompting for Business Plans\n",
        "\n",
        "**Objective**: Create a 3-shot prompt to guide ChatGPT in generating detailed business plans for different industries.\n",
        "\n",
        "**Prompt**:\n",
        "- **Simple Prompt**: \"Who are the users of Norlys energy company?\""
      ],
      "metadata": {
        "id": "thPCwYQSnZRJ"
      }
    },
    {
      "cell_type": "markdown",
      "source": [
        "![](https://raw.githubusercontent.com/aaubs/ds-master/main/data/Images/NShot_1.png)"
      ],
      "metadata": {
        "id": "VzGqx-0FsTF5"
      }
    },
    {
      "cell_type": "markdown",
      "source": [
        "### Solution\n"
      ],
      "metadata": {
        "id": "KSpFG5PvtDaB"
      }
    },
    {
      "cell_type": "markdown",
      "source": [
        "- Providing multiple examples (N examples) to the model"
      ],
      "metadata": {
        "id": "4nNlMDZgxiBw"
      }
    },
    {
      "cell_type": "markdown",
      "source": [
        "![](https://raw.githubusercontent.com/aaubs/ds-master/main/data/Images/NShot_2.png)"
      ],
      "metadata": {
        "id": "qi0OLMpXspWe"
      }
    },
    {
      "cell_type": "markdown",
      "metadata": {
        "id": "WC5hiNOeHWz2"
      },
      "source": [
        "### 2. Chain-of-Thought (CoT) Prompting\n",
        "\n",
        "**Technique:** Encouraging the model to follow a 'chain of thought' in its response, usually by providing a step-by-step reasoning process.\n",
        "\n",
        "**Example Usage:**\n",
        "```plaintext\n",
        "cot_prompt = '''\n",
        "Prompt: What are the steps involved in modifying business design on a scientific basis in an open organizational context?\n",
        "Response: First, identify the current business model and its limitations. Next, research relevant theories and frameworks. Then, apply these theories to propose changes. Finally, test and refine these changes empirically.\n",
        "'''\n"
      ]
    },
    {
      "cell_type": "markdown",
      "metadata": {
        "id": "Jt7YLg9PrrHK"
      },
      "source": [
        "![](https://www.promptingguide.ai/_next/image?url=%2F_next%2Fstatic%2Fmedia%2Fcot.1933d9fe.png&w=1920&q=75)"
      ]
    },
    {
      "cell_type": "markdown",
      "source": [
        "### Exercise 4: Chain-of-Thought (CoT) Prompting for Problem Solving\n",
        "\n",
        "**Objective**: Use CoT prompting to solve a complex business problem in a step-by-step manner.\n",
        "\n",
        "**Prompt**:\n",
        "- **Simple Prompt**: \"Make a strategy for Norlys to only use renewable energy by 2030?\""
      ],
      "metadata": {
        "id": "yOR3MCz0p8F6"
      }
    },
    {
      "cell_type": "markdown",
      "source": [
        "![](https://raw.githubusercontent.com/aaubs/ds-master/main/data/Images/COT_1.png)"
      ],
      "metadata": {
        "id": "q8V63MEZtnd9"
      }
    },
    {
      "cell_type": "markdown",
      "source": [
        "**Solution**:\n",
        "- Start with: \"Make a strategy for Norlys to only use renewable energy by 2030?\"\n",
        "- Follow up with: \"Based on the standard process of making a strategy for a company, help the model to define a proper strategy for Norlys\"\n",
        "- Continue the chain with additional related questions.\n"
      ],
      "metadata": {
        "id": "cPY_tSzVp9f-"
      }
    },
    {
      "cell_type": "markdown",
      "metadata": {
        "id": "0Mgx0qwwHWz2"
      },
      "source": [
        "## 3. Generated Knowledge Prompting\n",
        "\n",
        "> `Indented block`\n",
        "\n",
        "\n",
        "\n",
        "**Technique:** Using the model's previously generated knowledge or responses as a basis for new prompts.\n",
        "\n",
        "**Example Usage:**\n",
        "```plaintext\n",
        "generated_knowledge_prompt = '''\n",
        "Previous Response: Strategic design focuses on aligning business goals with the creative process to innovate and compete effectively.\n",
        "\n",
        "Prompt: Based on the focus of strategic design, how can businesses in an open organizational context leverage this for better collaboration and partnerships?\n",
        "'''\n"
      ]
    },
    {
      "cell_type": "markdown",
      "source": [
        "![](https://raw.githubusercontent.com/aaubs/ds-master/main/data/Images/COT_2.png)"
      ],
      "metadata": {
        "id": "gINM-rp8uPBC"
      }
    },
    {
      "cell_type": "markdown",
      "source": [
        "![](https://www.promptingguide.ai/_next/image?url=%2F_next%2Fstatic%2Fmedia%2Fgen-knowledge.055b8d37.png&w=1920&q=75)"
      ],
      "metadata": {
        "id": "aIHiZEL2Vihb"
      }
    },
    {
      "cell_type": "markdown",
      "source": [
        "### Exercise 5: Generated Knowledge Prompting for Business Analysis\n",
        "\n",
        "**Objective**: Utilize Generated Knowledge Prompting to explore a business topic in depth, where each subsequent question builds upon the previous response.\n",
        "\n",
        "**Prompt**:\n",
        "- **Simple Prompt**: \"What is Norlys’ value proposition?\"\n"
      ],
      "metadata": {
        "id": "KW6AJjS0xjAV"
      }
    },
    {
      "cell_type": "markdown",
      "source": [
        "**Solution**:\n",
        "1. **Initial Question**: \"Identify the core components of Norlys’ business model, such as their primary services, target customer segments, and unique selling points.\"\n",
        "\n",
        "2. **Follow-Up Question**: \"Based on one of the core components you identified, how does Norlys differentiate itself in the market? What specific strategies or offerings set them apart from their competitors?\"\n",
        "\n",
        "3. **Second Follow-Up Question**: \"Considering another component, what are the key benefits that Norlys provides to its customers? How do these benefits align with the needs and preferences of their target market?\"\n",
        "\n",
        "4. **Third Follow-Up Question**: \"Focusing on the third component, can you discuss how Norlys’ approach to this aspect has contributed to their brand reputation and customer loyalty? Provide examples where applicable.\"\n",
        "\n",
        "5. **Further Exploration**: \"How might changes in the energy sector, such as advancements in renewable energy technologies or shifts in consumer behavior, affect Norlys’ value proposition in the future?\"\n",
        "\n",
        "In this exercise, each question delves deeper into the topic, using the information provided in the previous response as a springboard for the next inquiry. This approach helps in thoroughly exploring the subject matter and gaining comprehensive insights.\n",
        "\n",
        "This series of questions is designed to dissect and analyze Norlys' value proposition from various angles. It starts with a broad understanding of their business model and gradually narrows down to specific strategies, customer benefits, and future implications, providing a thorough and detailed perspective on what makes Norlys stand out in their market.\n",
        "\n",
        "\n",
        "\n",
        "\n",
        "\n"
      ],
      "metadata": {
        "id": "pVyTwIFfxlvI"
      }
    },
    {
      "cell_type": "markdown",
      "metadata": {
        "id": "Ux9tcowcHWz2"
      },
      "source": [
        "## 4. Self-Consistency\n",
        "\n",
        "**Technique:** Asking the model the same question multiple times or in different ways to ensure consistent and reliable responses.\n",
        "\n",
        "**Example Usage:**\n",
        "```plaintext\n",
        "self_consistency_prompt = '''\n",
        "Prompt 1: What are key methodical approaches to study business design from a theoretical perspective?\n",
        "Prompt 2: From a theoretical standpoint, how can one methodically approach the study of business design?\n",
        "'''\n"
      ]
    },
    {
      "cell_type": "markdown",
      "source": [
        "![](https://raw.githubusercontent.com/aaubs/ds-master/main/data/Images/self-consistency.png)"
      ],
      "metadata": {
        "id": "QXPu0oDuYKTH"
      }
    },
    {
      "cell_type": "markdown",
      "source": [
        "### Exercise 6: Self-Consistency in Evaluating Business Strategies\n",
        "\n",
        "**Objective**: Ask the same question about evaluating a business strategy in three different ways to assess self-consistency.\n",
        "\n",
        "**Prompt**:\n",
        "- **Simple Prompt**: \"What is the major challenge for Norlys´ business design and why?\"\n"
      ],
      "metadata": {
        "id": "sY1zcgpFqHT9"
      }
    },
    {
      "cell_type": "markdown",
      "source": [
        "**Solution**:\n",
        "\n",
        "To apply the Self-Consistency technique to the question \"What is the major challenge for Norlys’ business design and why?\", we'll frame the question in different ways to ensure that the responses are consistent, yet provide a comprehensive view of the challenge. This approach helps to validate the accuracy and reliability of the information. Here's how it can be structured:\n",
        "\n",
        "1. **First Variation**: \"Considering the current energy market trends and consumer expectations, what is the most significant challenge Norlys faces in its business design, and what are the underlying reasons for this challenge?\"\n",
        "\n",
        "2. **Second Variation**: \"From the perspective of technological advancements and sustainability goals, identify the primary obstacle in Norlys' business design. Why is this a critical issue for the company?\"\n",
        "\n",
        "3. **Third Variation**: \"Reflecting on Norlys' business objectives and competitive landscape, what stands out as the key challenge in their business design? Explain the factors contributing to this challenge.\"\n",
        "\n",
        "4. **Fourth Variation**: \"Taking into account regulatory changes and environmental concerns, what is the foremost challenge for Norlys in designing its business strategy? Discuss the rationale behind this challenge.\"\n",
        "\n",
        "In each variation, the question is slightly rephrased to focus on different aspects such as market trends, technology, competition, and regulations. However, all variations aim to uncover the central challenge in Norlys’ business design. The consistency across these different perspectives will help validate the core challenge identified, ensuring a well-rounded and reliable understanding of the issue."
      ],
      "metadata": {
        "id": "k7HdvASpqJeZ"
      }
    },
    {
      "cell_type": "markdown",
      "metadata": {
        "id": "m8KK6TBBHWz2"
      },
      "source": [
        "## 5. Retrieval Augmented Generation (RAG)\n",
        "\n",
        "**Technique:** Combining generative responses with retrieved information (like documents or database entries) for a more informed output.\n",
        "\n",
        "**Example Usage:**\n",
        "```plaintext\n",
        "rag_prompt = '''\n",
        "Prompt: Retrieve key principles of customer experience design and employee experience design, and generate a synthesis on how they contribute to business design in an open organizational context.\n",
        "'''\n"
      ]
    },
    {
      "cell_type": "markdown",
      "source": [
        "![](https://miro.medium.com/v2/resize:fit:1400/format:webp/0*s_pbYF-jOTqSYrMG.png)"
      ],
      "metadata": {
        "id": "9z-4Bj2YcnFD"
      }
    },
    {
      "cell_type": "markdown",
      "source": [
        "### Exercise 7: Retrieval Augmented Generation (RAG) for Industry Trends\n",
        "\n",
        "**Objective**: Use RAG to explore and integrate external information about the latest trends in a specific industry.\n",
        "\n",
        "**Prompt**:\n",
        "- **Simple Prompt**: \"How to plan a business design process for Norlys's challenge?\"\n"
      ],
      "metadata": {
        "id": "s1fndOOkwuf3"
      }
    },
    {
      "cell_type": "markdown",
      "source": [
        "**Solution**:\n",
        "\n",
        "We can structure the prompt to actively seek and integrate relevant information from various sources. This approach will focus on gathering and synthesizing insights from recent studies, reports, and articles specifically related to energy sector trends, business design strategies, and Norlys' market context. Here's the modified prompt:\n",
        "\n",
        "- **Enhanced RAG Prompt**: \"Retrieve and synthesize information from the latest studies, industry reports, and expert articles focusing on the energy sector in 2023. Concentrate on aspects such as advancements in renewable energy technologies, shifts in consumer preferences towards sustainability, regulatory changes impacting energy companies, and innovative business models in the energy market. Using this integrated knowledge, outline a strategic business design process tailored to address Norlys' specific challenges and opportunities in the current market landscape.\"\n",
        "\n",
        "This prompt directs the AI to actively seek out and incorporate up-to-date, relevant information, ensuring that the business design process for Norlys is informed by the most current trends and data in the energy sector.\n",
        "\n",
        "\n",
        "\n",
        "\n",
        "\n",
        "\n"
      ],
      "metadata": {
        "id": "oR_wrkCqwzNt"
      }
    },
    {
      "cell_type": "markdown",
      "source": [
        "## 6. ReAct Prompting\n",
        "\n",
        "**Description:** ReAct Prompting involves responding to the model's output by providing corrective or supplementary feedback, which guides the model towards a more accurate or desired response in subsequent iterations.\n",
        "\n",
        "**Technique:**\n",
        "- Provide an initial prompt and receive the model's response.\n",
        "- React to the response with additional information, correction, or specific guidance.\n",
        "- The model then uses this feedback to refine or correct its output.\n",
        "\n",
        "**Example Usage:**\n",
        "\n",
        "1. **Initial Prompt and Response:**\n",
        "   - Prompt: \"List some major causes of climate change.\"\n",
        "   - Response: \"Common causes of climate change include greenhouse gas emissions, deforestation, and industrial activities.\"\n",
        "\n",
        "2. **ReAct Prompt:**\n",
        "   - Feedback: \"Include more specific examples of industrial activities that contribute to climate change.\"\n",
        "   - Revised Response: \"Specific industrial activities contributing to climate change include burning fossil fuels for electricity and heat, manufacturing processes, and the use of certain refrigerants and chemicals.\"\n",
        "\n",
        "This technique is particularly useful in refining responses or when seeking to elaborate on specific aspects of a topic.\n"
      ],
      "metadata": {
        "id": "KRqtCTP1LEy8"
      }
    },
    {
      "cell_type": "markdown",
      "source": [
        "![](https://raw.githubusercontent.com/aaubs/ds-master/main/data/Images/ReAct.png)"
      ],
      "metadata": {
        "id": "rcpHPGSsd0wU"
      }
    },
    {
      "cell_type": "markdown",
      "source": [
        "### Exercise 8: ReAct Prompting for Business Model Evaluation\n",
        "\n",
        "**Objective**: Use ReAct prompting to refine and deepen the understanding of a specific business model.\n",
        "\n",
        "**Prompt**:\n",
        "- **Simple Prompt**: \"Make a P5F (Porter's Five Forces) for Norlys energy company\"\n"
      ],
      "metadata": {
        "id": "Zk2dw0x9w4et"
      }
    },
    {
      "cell_type": "markdown",
      "source": [
        "**Solution**:\n",
        "\n"
      ],
      "metadata": {
        "id": "ZrAcDgWkw8MX"
      }
    },
    {
      "cell_type": "markdown",
      "source": [
        "In the ReAct technique, you will provide feedback to the model after each response. This iterative approach allows you to guide the AI towards a more refined and appropriate response. Here's how you can structure this for the prompt \"Make a P5F (Porter's Five Forces) for Norlys energy company\":\n",
        "\n",
        "- **Round 1 - Initial Prompt**: \"Imagine Norlys is facing new competitive challenges. As a consultant, perform a preliminary Porter's Five Forces analysis for Norlys, focusing on competitive rivalry and threat of new entrants.\"\n",
        "\n",
        "- **Round 1 - Feedback**: \"This is a good start, but let's delve deeper into how technological advancements in the energy sector might affect these forces. Please expand your analysis with this focus.\"\n",
        "\n",
        "- **Round 2 - Revised Prompt**: \"Considering your feedback, analyze how technological changes in the energy sector specifically impact the competitive rivalry and threat of new entrants for Norlys.\"\n",
        "\n",
        "- **Round 2 - Feedback**: \"Great insights on technology. Now, let's consider the other three forces: threat of substitutes, bargaining power of customers, and bargaining power of suppliers. How do these interact with the current energy market trends?\"\n",
        "\n",
        "- **Round 3 - Final Prompt**: \"With the current energy market trends in mind, complete the Porter's Five Forces analysis for Norlys by examining the threat of substitutes, customer bargaining power, and supplier bargaining power.\"\n",
        "\n",
        "- **Final Review**: \"This comprehensive analysis now covers all aspects of Porter's Five Forces in the context of Norlys. Let's review the overall impact on Norlys' strategic positioning and identify key areas for strategic focus.\"\n",
        "\n",
        "By running the prompt in several rounds and incorporating specific feedback, you can guide the AI to construct a detailed and contextually relevant Porter's Five Forces analysis for Norlys. Each round allows you to steer the response, ensuring that the final output is comprehensive and tailored to the specific scenario you are exploring."
      ],
      "metadata": {
        "id": "_xgTnZfa9qy1"
      }
    }
  ],
  "metadata": {
    "accelerator": "GPU",
    "colab": {
      "provenance": [],
      "include_colab_link": true
    },
    "kernelspec": {
      "display_name": "Python 3",
      "name": "python3"
    },
    "language_info": {
      "codemirror_mode": {
        "name": "ipython",
        "version": 3
      },
      "file_extension": ".py",
      "mimetype": "text/x-python",
      "name": "python",
      "nbconvert_exporter": "python",
      "pygments_lexer": "ipython3",
      "version": "3.11.5"
    }
  },
  "nbformat": 4,
  "nbformat_minor": 0
}