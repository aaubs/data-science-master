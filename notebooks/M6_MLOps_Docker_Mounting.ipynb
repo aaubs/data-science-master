{
  "nbformat": 4,
  "nbformat_minor": 0,
  "metadata": {
    "colab": {
      "provenance": [],
      "authorship_tag": "ABX9TyPiWb0KzJ+/1YzPQTG4XZWz",
      "include_colab_link": true
    },
    "kernelspec": {
      "name": "python3",
      "display_name": "Python 3"
    },
    "language_info": {
      "name": "python"
    }
  },
  "cells": [
    {
      "cell_type": "markdown",
      "metadata": {
        "id": "view-in-github",
        "colab_type": "text"
      },
      "source": [
        "<a href=\"https://colab.research.google.com/github/aaubs/ds-master/blob/main/notebooks/M6_MLOps_Docker_Mounting.ipynb\" target=\"_parent\"><img src=\"https://colab.research.google.com/assets/colab-badge.svg\" alt=\"Open In Colab\"/></a>"
      ]
    },
    {
      "cell_type": "markdown",
      "source": [
        "![](https://techmormo.com/wp-content/uploads/2022/11/docker4-stateless-containers.png)"
      ],
      "metadata": {
        "id": "-kTb0apvTlMq"
      }
    },
    {
      "cell_type": "markdown",
      "source": [
        "Mounting a volume to a Docker container allows you to persist data across container restarts and share data between containers. Docker supports two types of volumes: \n",
        "- Bind mounts: \n",
        "- Managed volumes\n",
        "\n",
        "In this tutorial, we'll cover both methods.\n",
        "\n"
      ],
      "metadata": {
        "id": "iGpN85z-RM-D"
      }
    },
    {
      "cell_type": "markdown",
      "source": [
        "![](https://techmormo.com/wp-content/uploads/2022/11/docker4-stateful-containers.png)"
      ],
      "metadata": {
        "id": "uAqrwTs0TeIG"
      }
    },
    {
      "cell_type": "markdown",
      "source": [
        "###Bind Mounts\n",
        "\n",
        "Bind mounts map a directory or file on the host system to a directory or file in the container. This method is useful when you need to access files on the host system or share data between the host and the container."
      ],
      "metadata": {
        "id": "ORvN4gWWT51H"
      }
    },
    {
      "cell_type": "markdown",
      "source": [
        "1. Create a directory on the host system:\n",
        "\n",
        "```\n",
        "$ mkdir /path/to/host/directory\n",
        "```\n",
        "\n",
        "2. Run a Docker container with the -v or --mount flag to mount the host directory as a volume:\n",
        "\n",
        "```\n",
        "$ docker run -d -p 5000:5000 -v /path/to/host/directory:/path/to/container/directory --name my_container my_image\n",
        "```\n",
        "\n",
        "```\n",
        "$ docker run -d -p 5000:5000 --mount type=bind,source=/path/to/host/directory,target=/path/to/container/directory --name my_container my_image\n",
        "```\n"
      ],
      "metadata": {
        "id": "1HDb2KnIW-l2"
      }
    },
    {
      "cell_type": "markdown",
      "source": [
        "###Managed Volumes\n",
        "\n",
        "Managed volumes are created and managed by Docker, providing better isolation and improved performance compared to bind mounts. Docker automatically manages the storage and lifecycle of these volumes.\n",
        "\n"
      ],
      "metadata": {
        "id": "uJg0D1-zX_wf"
      }
    },
    {
      "cell_type": "markdown",
      "source": [
        "1. Create a managed volume:\n",
        "```\n",
        "$ docker volume create my_volume\n",
        "```\n",
        "2. Run a Docker container with the -v or --mount flag to attach the managed volume:\n",
        "\n",
        "\n",
        "```\n",
        "$ docker run -d -p 5000:5000 -v my_volume:/path/to/container/directory --name my_container my_image\n",
        "```\n",
        "\n",
        "```\n",
        "$ docker run -d -p 5000:5000 --mount type=volume,source=my_volume,target=/path/to/container/directory --name my_container my_image\n",
        "```"
      ],
      "metadata": {
        "id": "7jd-_tzGYGHG"
      }
    },
    {
      "cell_type": "markdown",
      "source": [
        "In both bind mounts and managed volumes, the volume is mounted at /path/to/container/directory in the container, and any changes made in the container's mounted directory will persist even after the container is stopped or removed.\n",
        "\n",
        "To remove a managed volume, first stop and remove any containers using the volume, and then use the following command:\n",
        "\n",
        "```\n",
        "$ docker volume rm my_volume\n",
        "```\n"
      ],
      "metadata": {
        "id": "1ysWxAaGYbJ-"
      }
    }
  ]
}