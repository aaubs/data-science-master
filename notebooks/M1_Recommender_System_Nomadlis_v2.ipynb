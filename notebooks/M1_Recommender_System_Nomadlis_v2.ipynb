{
  "nbformat": 4,
  "nbformat_minor": 0,
  "metadata": {
    "colab": {
      "provenance": [],
      "authorship_tag": "ABX9TyP5NOBVnxToCSD+p8OmNvGe",
      "include_colab_link": true
    },
    "kernelspec": {
      "name": "python3",
      "display_name": "Python 3"
    },
    "language_info": {
      "name": "python"
    }
  },
  "cells": [
    {
      "cell_type": "markdown",
      "metadata": {
        "id": "view-in-github",
        "colab_type": "text"
      },
      "source": [
        "<a href=\"https://colab.research.google.com/github/aaubs/ds-master/blob/main/notebooks/M1_Recommender_System_Nomadlis_v2.ipynb\" target=\"_parent\"><img src=\"https://colab.research.google.com/assets/colab-badge.svg\" alt=\"Open In Colab\"/></a>"
      ]
    },
    {
      "cell_type": "markdown",
      "source": [
        "#Building a Recommender System in Python\n",
        "\n"
      ],
      "metadata": {
        "id": "wOVR2z0B4ZIf"
      }
    },
    {
      "cell_type": "markdown",
      "source": [
        "In today's information age, we are bombarded with choices. We have access to millions of products, movies, music, and articles, but it can be overwhelming to know where to start. Recommender systems help us to navigate this information overload by providing us with personalized recommendations based on our interests and past behavior.\n",
        "\n"
      ],
      "metadata": {
        "id": "TvbEdZ4gRnho"
      }
    },
    {
      "cell_type": "markdown",
      "source": [
        "####**Question 1: What Are the Different Types of Recommender Systems?**\n",
        "\n",
        "Recommender systems can be broadly categorized into the following types, each with its own advantages and disadvantages:\n",
        "\n",
        "- Collaborative Filtering:\n",
        "  *   User-Based: Recommends items based on the similarities between users. If Alice and Bob like the same movies, then the movies liked by Alice will be recommended to Bob and vice versa.\n",
        "  *   Item-Based: Recommends items that are similar to a given item. For example, if you liked the movie \"Inception,\" you might also like other sci-fi thrillers.\n",
        "\n",
        "\n",
        "- Content-Based Filtering:\n",
        "   - Recommends items by comparing the content of the items and a user profile, with content described in terms of several descriptors or terms that are inherent to the item.\n"
      ],
      "metadata": {
        "id": "249T0I9tM7OK"
      }
    },
    {
      "cell_type": "markdown",
      "source": [
        "![image.png](https://raw.githubusercontent.com/aaubs/ds-master/main/data/recommendation_sys_1.png)"
      ],
      "metadata": {
        "id": "k4gYUZnltxbU"
      }
    },
    {
      "cell_type": "markdown",
      "source": [
        "##Step 1: Data Preprocessing\n",
        "###1.1 Load Data\n",
        "The first step in any data analysis or machine learning project is to load the data. We'll use the Pandas library for this purpose. We've already loaded the data, but let's do it again for the sake of the tutorial.\n",
        "\n",
        "Here's how you can load a CSV file using Pandas:"
      ],
      "metadata": {
        "id": "5j6nZ3jCQTLG"
      }
    },
    {
      "cell_type": "code",
      "execution_count": 49,
      "metadata": {
        "id": "XduUwun14XBz"
      },
      "outputs": [],
      "source": [
        "import pandas as pd\n",
        "\n",
        "df_trips = pd.read_csv('https://sds-aau.github.io/SDS-master/M1/data/trips.csv')"
      ]
    },
    {
      "cell_type": "markdown",
      "source": [
        "###1.2 Handle Missing Values\n",
        "Before we proceed, it's crucial to handle any missing values in the dataset. Missing values can affect the performance and reliability of the model. Let's check for missing values and handle them appropriately."
      ],
      "metadata": {
        "id": "ccumFWKlQhl8"
      }
    },
    {
      "cell_type": "code",
      "source": [
        "# Check for missing values\n",
        "df_trips.isnull().sum()"
      ],
      "metadata": {
        "colab": {
          "base_uri": "https://localhost:8080/"
        },
        "id": "9YND3XLxQeb6",
        "outputId": "a8e7cc99-08a7-4ab0-da2a-ce138735227b"
      },
      "execution_count": 50,
      "outputs": [
        {
          "output_type": "execute_result",
          "data": {
            "text/plain": [
              "Unnamed: 0        0\n",
              "username          0\n",
              "country          37\n",
              "country_code    601\n",
              "country_slug     37\n",
              "date_end        175\n",
              "date_start        0\n",
              "latitude          0\n",
              "longitude         0\n",
              "place             0\n",
              "place_slug       37\n",
              "dtype: int64"
            ]
          },
          "metadata": {},
          "execution_count": 50
        }
      ]
    },
    {
      "cell_type": "markdown",
      "source": [
        "If any columns have missing values, you can choose to either remove those rows or fill them with a specific value, such as the mean or median.\n",
        "\n",
        "###1.3 Convert Date Columns to DateTime Objects\n",
        "For easier manipulation and analysis, it's beneficial to convert date columns into DateTime objects."
      ],
      "metadata": {
        "id": "aO7twPx3Qyqn"
      }
    },
    {
      "cell_type": "code",
      "source": [
        "# Convert date columns to DateTime objects\n",
        "\n",
        "df_trips['date_start'] = pd.to_datetime(df_trips['date_start'], errors='coerce')\n",
        "df_trips['date_end'] = pd.to_datetime(df_trips['date_end'], errors='coerce')"
      ],
      "metadata": {
        "id": "w0yFs5MyQp9o"
      },
      "execution_count": 51,
      "outputs": []
    },
    {
      "cell_type": "markdown",
      "source": [
        "###1.4 Data Exploration\n",
        "After cleaning the data, it's helpful to perform some initial exploratory data analysis (EDA) to understand the dataset's characteristics.\n",
        "\n",
        "\n",
        "For example, you could use .describe() to get summary statistics or .value_counts() to understand the distribution of categorical variables."
      ],
      "metadata": {
        "id": "wK5CkatvRBVL"
      }
    },
    {
      "cell_type": "code",
      "source": [
        "# Summary statistics\n",
        "\n",
        "df_trips.describe().T"
      ],
      "metadata": {
        "colab": {
          "base_uri": "https://localhost:8080/",
          "height": 143
        },
        "id": "ZOXHrNTbQ8dL",
        "outputId": "d860b1fa-c240-4cc9-f3bf-80dca168dd9f"
      },
      "execution_count": 52,
      "outputs": [
        {
          "output_type": "execute_result",
          "data": {
            "text/plain": [
              "              count          mean           std    min       25%      50%  \\\n",
              "Unnamed: 0  46510.0  23254.500000  13426.424847    0.0  11627.25  23254.5   \n",
              "latitude    46510.0     28.931477     23.551976  -79.0     14.00     37.0   \n",
              "longitude   46510.0     11.912750     78.767316 -175.0    -68.00      9.0   \n",
              "\n",
              "                 75%      max  \n",
              "Unnamed: 0  34881.75  46509.0  \n",
              "latitude       47.00     78.0  \n",
              "longitude      98.00    178.0  "
            ],
            "text/html": [
              "\n",
              "  <div id=\"df-c7702f1d-7dd3-4c48-beea-b2e9e34e7c3f\" class=\"colab-df-container\">\n",
              "    <div>\n",
              "<style scoped>\n",
              "    .dataframe tbody tr th:only-of-type {\n",
              "        vertical-align: middle;\n",
              "    }\n",
              "\n",
              "    .dataframe tbody tr th {\n",
              "        vertical-align: top;\n",
              "    }\n",
              "\n",
              "    .dataframe thead th {\n",
              "        text-align: right;\n",
              "    }\n",
              "</style>\n",
              "<table border=\"1\" class=\"dataframe\">\n",
              "  <thead>\n",
              "    <tr style=\"text-align: right;\">\n",
              "      <th></th>\n",
              "      <th>count</th>\n",
              "      <th>mean</th>\n",
              "      <th>std</th>\n",
              "      <th>min</th>\n",
              "      <th>25%</th>\n",
              "      <th>50%</th>\n",
              "      <th>75%</th>\n",
              "      <th>max</th>\n",
              "    </tr>\n",
              "  </thead>\n",
              "  <tbody>\n",
              "    <tr>\n",
              "      <th>Unnamed: 0</th>\n",
              "      <td>46510.0</td>\n",
              "      <td>23254.500000</td>\n",
              "      <td>13426.424847</td>\n",
              "      <td>0.0</td>\n",
              "      <td>11627.25</td>\n",
              "      <td>23254.5</td>\n",
              "      <td>34881.75</td>\n",
              "      <td>46509.0</td>\n",
              "    </tr>\n",
              "    <tr>\n",
              "      <th>latitude</th>\n",
              "      <td>46510.0</td>\n",
              "      <td>28.931477</td>\n",
              "      <td>23.551976</td>\n",
              "      <td>-79.0</td>\n",
              "      <td>14.00</td>\n",
              "      <td>37.0</td>\n",
              "      <td>47.00</td>\n",
              "      <td>78.0</td>\n",
              "    </tr>\n",
              "    <tr>\n",
              "      <th>longitude</th>\n",
              "      <td>46510.0</td>\n",
              "      <td>11.912750</td>\n",
              "      <td>78.767316</td>\n",
              "      <td>-175.0</td>\n",
              "      <td>-68.00</td>\n",
              "      <td>9.0</td>\n",
              "      <td>98.00</td>\n",
              "      <td>178.0</td>\n",
              "    </tr>\n",
              "  </tbody>\n",
              "</table>\n",
              "</div>\n",
              "    <div class=\"colab-df-buttons\">\n",
              "\n",
              "  <div class=\"colab-df-container\">\n",
              "    <button class=\"colab-df-convert\" onclick=\"convertToInteractive('df-c7702f1d-7dd3-4c48-beea-b2e9e34e7c3f')\"\n",
              "            title=\"Convert this dataframe to an interactive table.\"\n",
              "            style=\"display:none;\">\n",
              "\n",
              "  <svg xmlns=\"http://www.w3.org/2000/svg\" height=\"24px\" viewBox=\"0 -960 960 960\">\n",
              "    <path d=\"M120-120v-720h720v720H120Zm60-500h600v-160H180v160Zm220 220h160v-160H400v160Zm0 220h160v-160H400v160ZM180-400h160v-160H180v160Zm440 0h160v-160H620v160ZM180-180h160v-160H180v160Zm440 0h160v-160H620v160Z\"/>\n",
              "  </svg>\n",
              "    </button>\n",
              "\n",
              "  <style>\n",
              "    .colab-df-container {\n",
              "      display:flex;\n",
              "      gap: 12px;\n",
              "    }\n",
              "\n",
              "    .colab-df-convert {\n",
              "      background-color: #E8F0FE;\n",
              "      border: none;\n",
              "      border-radius: 50%;\n",
              "      cursor: pointer;\n",
              "      display: none;\n",
              "      fill: #1967D2;\n",
              "      height: 32px;\n",
              "      padding: 0 0 0 0;\n",
              "      width: 32px;\n",
              "    }\n",
              "\n",
              "    .colab-df-convert:hover {\n",
              "      background-color: #E2EBFA;\n",
              "      box-shadow: 0px 1px 2px rgba(60, 64, 67, 0.3), 0px 1px 3px 1px rgba(60, 64, 67, 0.15);\n",
              "      fill: #174EA6;\n",
              "    }\n",
              "\n",
              "    .colab-df-buttons div {\n",
              "      margin-bottom: 4px;\n",
              "    }\n",
              "\n",
              "    [theme=dark] .colab-df-convert {\n",
              "      background-color: #3B4455;\n",
              "      fill: #D2E3FC;\n",
              "    }\n",
              "\n",
              "    [theme=dark] .colab-df-convert:hover {\n",
              "      background-color: #434B5C;\n",
              "      box-shadow: 0px 1px 3px 1px rgba(0, 0, 0, 0.15);\n",
              "      filter: drop-shadow(0px 1px 2px rgba(0, 0, 0, 0.3));\n",
              "      fill: #FFFFFF;\n",
              "    }\n",
              "  </style>\n",
              "\n",
              "    <script>\n",
              "      const buttonEl =\n",
              "        document.querySelector('#df-c7702f1d-7dd3-4c48-beea-b2e9e34e7c3f button.colab-df-convert');\n",
              "      buttonEl.style.display =\n",
              "        google.colab.kernel.accessAllowed ? 'block' : 'none';\n",
              "\n",
              "      async function convertToInteractive(key) {\n",
              "        const element = document.querySelector('#df-c7702f1d-7dd3-4c48-beea-b2e9e34e7c3f');\n",
              "        const dataTable =\n",
              "          await google.colab.kernel.invokeFunction('convertToInteractive',\n",
              "                                                    [key], {});\n",
              "        if (!dataTable) return;\n",
              "\n",
              "        const docLinkHtml = 'Like what you see? Visit the ' +\n",
              "          '<a target=\"_blank\" href=https://colab.research.google.com/notebooks/data_table.ipynb>data table notebook</a>'\n",
              "          + ' to learn more about interactive tables.';\n",
              "        element.innerHTML = '';\n",
              "        dataTable['output_type'] = 'display_data';\n",
              "        await google.colab.output.renderOutput(dataTable, element);\n",
              "        const docLink = document.createElement('div');\n",
              "        docLink.innerHTML = docLinkHtml;\n",
              "        element.appendChild(docLink);\n",
              "      }\n",
              "    </script>\n",
              "  </div>\n",
              "\n",
              "\n",
              "<div id=\"df-1bb6d1ea-339b-46d0-b39b-e96ba17ec187\">\n",
              "  <button class=\"colab-df-quickchart\" onclick=\"quickchart('df-1bb6d1ea-339b-46d0-b39b-e96ba17ec187')\"\n",
              "            title=\"Suggest charts.\"\n",
              "            style=\"display:none;\">\n",
              "\n",
              "<svg xmlns=\"http://www.w3.org/2000/svg\" height=\"24px\"viewBox=\"0 0 24 24\"\n",
              "     width=\"24px\">\n",
              "    <g>\n",
              "        <path d=\"M19 3H5c-1.1 0-2 .9-2 2v14c0 1.1.9 2 2 2h14c1.1 0 2-.9 2-2V5c0-1.1-.9-2-2-2zM9 17H7v-7h2v7zm4 0h-2V7h2v10zm4 0h-2v-4h2v4z\"/>\n",
              "    </g>\n",
              "</svg>\n",
              "  </button>\n",
              "\n",
              "<style>\n",
              "  .colab-df-quickchart {\n",
              "      --bg-color: #E8F0FE;\n",
              "      --fill-color: #1967D2;\n",
              "      --hover-bg-color: #E2EBFA;\n",
              "      --hover-fill-color: #174EA6;\n",
              "      --disabled-fill-color: #AAA;\n",
              "      --disabled-bg-color: #DDD;\n",
              "  }\n",
              "\n",
              "  [theme=dark] .colab-df-quickchart {\n",
              "      --bg-color: #3B4455;\n",
              "      --fill-color: #D2E3FC;\n",
              "      --hover-bg-color: #434B5C;\n",
              "      --hover-fill-color: #FFFFFF;\n",
              "      --disabled-bg-color: #3B4455;\n",
              "      --disabled-fill-color: #666;\n",
              "  }\n",
              "\n",
              "  .colab-df-quickchart {\n",
              "    background-color: var(--bg-color);\n",
              "    border: none;\n",
              "    border-radius: 50%;\n",
              "    cursor: pointer;\n",
              "    display: none;\n",
              "    fill: var(--fill-color);\n",
              "    height: 32px;\n",
              "    padding: 0;\n",
              "    width: 32px;\n",
              "  }\n",
              "\n",
              "  .colab-df-quickchart:hover {\n",
              "    background-color: var(--hover-bg-color);\n",
              "    box-shadow: 0 1px 2px rgba(60, 64, 67, 0.3), 0 1px 3px 1px rgba(60, 64, 67, 0.15);\n",
              "    fill: var(--button-hover-fill-color);\n",
              "  }\n",
              "\n",
              "  .colab-df-quickchart-complete:disabled,\n",
              "  .colab-df-quickchart-complete:disabled:hover {\n",
              "    background-color: var(--disabled-bg-color);\n",
              "    fill: var(--disabled-fill-color);\n",
              "    box-shadow: none;\n",
              "  }\n",
              "\n",
              "  .colab-df-spinner {\n",
              "    border: 2px solid var(--fill-color);\n",
              "    border-color: transparent;\n",
              "    border-bottom-color: var(--fill-color);\n",
              "    animation:\n",
              "      spin 1s steps(1) infinite;\n",
              "  }\n",
              "\n",
              "  @keyframes spin {\n",
              "    0% {\n",
              "      border-color: transparent;\n",
              "      border-bottom-color: var(--fill-color);\n",
              "      border-left-color: var(--fill-color);\n",
              "    }\n",
              "    20% {\n",
              "      border-color: transparent;\n",
              "      border-left-color: var(--fill-color);\n",
              "      border-top-color: var(--fill-color);\n",
              "    }\n",
              "    30% {\n",
              "      border-color: transparent;\n",
              "      border-left-color: var(--fill-color);\n",
              "      border-top-color: var(--fill-color);\n",
              "      border-right-color: var(--fill-color);\n",
              "    }\n",
              "    40% {\n",
              "      border-color: transparent;\n",
              "      border-right-color: var(--fill-color);\n",
              "      border-top-color: var(--fill-color);\n",
              "    }\n",
              "    60% {\n",
              "      border-color: transparent;\n",
              "      border-right-color: var(--fill-color);\n",
              "    }\n",
              "    80% {\n",
              "      border-color: transparent;\n",
              "      border-right-color: var(--fill-color);\n",
              "      border-bottom-color: var(--fill-color);\n",
              "    }\n",
              "    90% {\n",
              "      border-color: transparent;\n",
              "      border-bottom-color: var(--fill-color);\n",
              "    }\n",
              "  }\n",
              "</style>\n",
              "\n",
              "  <script>\n",
              "    async function quickchart(key) {\n",
              "      const quickchartButtonEl =\n",
              "        document.querySelector('#' + key + ' button');\n",
              "      quickchartButtonEl.disabled = true;  // To prevent multiple clicks.\n",
              "      quickchartButtonEl.classList.add('colab-df-spinner');\n",
              "      try {\n",
              "        const charts = await google.colab.kernel.invokeFunction(\n",
              "            'suggestCharts', [key], {});\n",
              "      } catch (error) {\n",
              "        console.error('Error during call to suggestCharts:', error);\n",
              "      }\n",
              "      quickchartButtonEl.classList.remove('colab-df-spinner');\n",
              "      quickchartButtonEl.classList.add('colab-df-quickchart-complete');\n",
              "    }\n",
              "    (() => {\n",
              "      let quickchartButtonEl =\n",
              "        document.querySelector('#df-1bb6d1ea-339b-46d0-b39b-e96ba17ec187 button');\n",
              "      quickchartButtonEl.style.display =\n",
              "        google.colab.kernel.accessAllowed ? 'block' : 'none';\n",
              "    })();\n",
              "  </script>\n",
              "</div>\n",
              "    </div>\n",
              "  </div>\n"
            ]
          },
          "metadata": {},
          "execution_count": 52
        }
      ]
    },
    {
      "cell_type": "code",
      "source": [
        "# Distribution of trips by country\n",
        "df_trips['country'].value_counts()"
      ],
      "metadata": {
        "colab": {
          "base_uri": "https://localhost:8080/"
        },
        "id": "HvFpYlMtTDp1",
        "outputId": "37226096-0d1b-4baa-96f6-db8fa17c9eeb"
      },
      "execution_count": 53,
      "outputs": [
        {
          "output_type": "execute_result",
          "data": {
            "text/plain": [
              "United States     7573\n",
              "Thailand          3372\n",
              "United Kingdom    2230\n",
              "Germany           2019\n",
              "Spain             1975\n",
              "                  ... \n",
              "Palau                1\n",
              "Sanur                1\n",
              "Andaman Sea          1\n",
              "Algeria              1\n",
              "Spania               1\n",
              "Name: country, Length: 249, dtype: int64"
            ]
          },
          "metadata": {},
          "execution_count": 53
        }
      ]
    },
    {
      "cell_type": "markdown",
      "source": [
        "Nearest Neighbors (KNN) imputation is a suitable method of handling missing data. It works by finding the k nearest neighbors to a given sample with missing values and then imputing those missing values based on the neighbors.\n",
        "\n",
        "To perform KNN imputation, we'll use the KNNImputer class from scikit-learn's impute module. Given that KNN is computationally expensive, we should select only the columns that are essential for the imputation.\n",
        "\n",
        "Let's proceed with the KNN imputation."
      ],
      "metadata": {
        "id": "cUqe5tkUUAPy"
      }
    },
    {
      "cell_type": "code",
      "source": [
        "from sklearn.impute import KNNImputer\n",
        "import numpy as np\n",
        "\n",
        "# Selecting columns that are essential for the imputation\n",
        "# In our case, let's select numerical columns like 'latitude' and 'longitude'\n",
        "columns_to_impute = ['latitude', 'longitude']\n",
        "\n",
        "# Initialize KNNImputer\n",
        "knn_imputer = KNNImputer(n_neighbors=5)\n",
        "\n",
        "# Perform imputation\n",
        "df_trips[columns_to_impute] = knn_imputer.fit_transform(df_trips[columns_to_impute])\n",
        "\n",
        "# Check if any missing values are remaining\n",
        "df_trips[columns_to_impute].isnull().sum()\n"
      ],
      "metadata": {
        "colab": {
          "base_uri": "https://localhost:8080/"
        },
        "id": "8TJ91VE0Tw96",
        "outputId": "7bae0715-f0f2-4c25-d55d-0dcffdd2c7f4"
      },
      "execution_count": 54,
      "outputs": [
        {
          "output_type": "execute_result",
          "data": {
            "text/plain": [
              "latitude     0\n",
              "longitude    0\n",
              "dtype: int64"
            ]
          },
          "metadata": {},
          "execution_count": 54
        }
      ]
    },
    {
      "cell_type": "markdown",
      "source": [
        "The KNN imputation was successful, and there are no more missing values in the latitude and longitude columns.\n",
        "\n",
        "Note: We didn't impute the missing values for the categorical columns and date columns because KNN imputation is generally not suitable for such types of data. For those, you might want to use different imputation methods like filling with the most frequent value or using specialized techniques for temporal data."
      ],
      "metadata": {
        "id": "_W1u44xHUV9E"
      }
    },
    {
      "cell_type": "markdown",
      "source": [
        "##Step 2: Feature Engineering\n",
        "###2.1 Create New Features\n",
        "Often, the raw data may not provide all the information you need. Feature engineering involves transforming the existing features or creating new ones to better represent the underlying problem to the machine learning models. In the context of a recommender system, you might consider creating features like:\n",
        "\n",
        "Duration of stay\n",
        "Distance traveled from one place to another\n",
        "For now, let's create a feature for the \"Duration of Stay\":\n",
        "\n",
        "\n",
        "**Duration of Stay** = **Date End** − **Date Start**\n",
        "\n",
        "Let's go ahead and create this new feature."
      ],
      "metadata": {
        "id": "w9WdQwRnYgdz"
      }
    },
    {
      "cell_type": "code",
      "source": [
        "# Creating a new feature for the 'Duration of Stay'\n",
        "\n",
        "df_trips['duration_of_stay'] = (df_trips['date_end'] - df_trips['date_start']).dt.days"
      ],
      "metadata": {
        "id": "pKcvI1zUT1ps"
      },
      "execution_count": 55,
      "outputs": []
    },
    {
      "cell_type": "markdown",
      "source": [
        "We've successfully added a new feature called duration_of_stay, which represents the duration of each trip in days."
      ],
      "metadata": {
        "id": "AoYV9IyQaa8E"
      }
    },
    {
      "cell_type": "markdown",
      "source": [
        "##Step 3: Build a Simple Recommender System\n",
        "Now that we have cleaned and preprocessed the data, let's move on to building a recommender system."
      ],
      "metadata": {
        "id": "y8AnOjZeahsU"
      }
    },
    {
      "cell_type": "markdown",
      "source": [
        "### 3.1. Label Encoding and Matrix Creation\n",
        "This part label-encodes the usernames and place slugs, creating numerical IDs for each. It then builds a sparse matrix to capture the interactions between users and places."
      ],
      "metadata": {
        "id": "Ij-oVnuwtome"
      }
    },
    {
      "cell_type": "code",
      "source": [
        "import scipy.sparse as ss\n",
        "import numpy as np\n",
        "from sklearn.preprocessing import LabelEncoder"
      ],
      "metadata": {
        "id": "GXQqbmj60wyx"
      },
      "execution_count": 56,
      "outputs": []
    },
    {
      "cell_type": "code",
      "source": [
        "# Initialize label encoders\n",
        "\n",
        "le_user = LabelEncoder()\n",
        "le_place = LabelEncoder()"
      ],
      "metadata": {
        "id": "LIU7deby0-66"
      },
      "execution_count": 57,
      "outputs": []
    },
    {
      "cell_type": "code",
      "source": [
        "# Label encode usernames and place slugs\n",
        "\n",
        "df_trips['username_id'] = le_user.fit_transform(df_trips['username'])\n",
        "df_trips['place_slug_id'] = le_place.fit_transform(df_trips['place_slug'])"
      ],
      "metadata": {
        "id": "NPW0ZpSa03p3"
      },
      "execution_count": 58,
      "outputs": []
    },
    {
      "cell_type": "code",
      "source": [
        "df_trips.shape"
      ],
      "metadata": {
        "colab": {
          "base_uri": "https://localhost:8080/"
        },
        "id": "pmT2vbIXJstD",
        "outputId": "3a0e9825-008b-42cf-bd02-c1924ccffdd8"
      },
      "execution_count": 59,
      "outputs": [
        {
          "output_type": "execute_result",
          "data": {
            "text/plain": [
              "(46510, 14)"
            ]
          },
          "metadata": {},
          "execution_count": 59
        }
      ]
    },
    {
      "cell_type": "markdown",
      "source": [
        "####**Question 2: Why Do We Use Sparse Matrices in Recommender Systems?**\n",
        "\n",
        "In the context of recommender systems, particularly those dealing with user-item interactions, sparse matrices play a crucial role. They are an efficient way to represent large matrices that are mostly populated with zero values. Sparse matrices are memory-efficient, computationally efficient, and scalable.\n",
        "\n",
        "- **Memory Efficiency:** Sparse matrices store only the non-zero elements and their indices, which saves a significant amount of memory.\n",
        "\n",
        "- **Computational Efficiency:** Certain matrix operations can be executed faster using sparse matrices, as they are optimized to ignore zero elements.\n",
        "\n",
        "- **Scalability:** As your data grows, using dense matrices could become impractical due to memory limitations. Sparse matrices allow your system to scale more easily.\n",
        "\n",
        "In this notebook, we use the **coo_matrix from SciPy's sparse package** to represent the user-item interaction matrix. This representation allows us to efficiently store and manipulate the data."
      ],
      "metadata": {
        "id": "TUcct6wTKTzQ"
      }
    },
    {
      "cell_type": "markdown",
      "source": [
        "![](https://raw.githubusercontent.com/aaubs/ds-master/main/data/recommendation_sys_2.png)"
      ],
      "metadata": {
        "id": "GmRPT05CsuoT"
      }
    },
    {
      "cell_type": "code",
      "source": [
        "# Create a sparse matrix\n",
        "\n",
        "# Create an array of ones, with length equal to the number of rows in the DataFrame\n",
        "ones = np.ones(len(df_trips), np.uint32)\n",
        "\n",
        "# Create the sparse matrix using the 'username_id' and 'place_slug_id' columns as indices\n",
        "matrix = ss.coo_matrix((ones, (df_trips['username_id'], df_trips['place_slug_id'])))"
      ],
      "metadata": {
        "id": "lLdK9rvTve7i"
      },
      "execution_count": 112,
      "outputs": []
    },
    {
      "cell_type": "code",
      "source": [
        "matrix.shape"
      ],
      "metadata": {
        "colab": {
          "base_uri": "https://localhost:8080/"
        },
        "id": "EatlPawXGoe7",
        "outputId": "63eed018-f4fb-4a12-b733-55925983312e"
      },
      "execution_count": 113,
      "outputs": [
        {
          "output_type": "execute_result",
          "data": {
            "text/plain": [
              "(2871, 961)"
            ]
          },
          "metadata": {},
          "execution_count": 113
        }
      ]
    },
    {
      "cell_type": "markdown",
      "source": [
        "### 3.2. Perform Dimensionality Reduction\n",
        "This section uses Truncated Singular Value Decomposition (SVD) to reduce the dimensionality of the user-item interaction matrix."
      ],
      "metadata": {
        "id": "umDeehK-CaHl"
      }
    },
    {
      "cell_type": "markdown",
      "source": [
        "####**Question 3: Why Is Dimensionality Reduction Important in Recommender Systems?**\n",
        "\n",
        "Dimensionality reduction is a critical aspect of building efficient and effective recommender systems for several reasons:\n",
        "\n",
        "- **Computational Efficiency:** Reducing the number of dimensions can significantly speed up algorithmic computations and save storage space, making the system more scalable.\n",
        "\n",
        "\n",
        "- **Latent Feature Discovery:** Techniques like Singular Value Decomposition (SVD) can uncover hidden features that capture the underlying structure of the data more effectively than the original high-dimensional features.\n"
      ],
      "metadata": {
        "id": "rXMSBs6VTx5T"
      }
    },
    {
      "cell_type": "code",
      "source": [
        "np.where(matrix.todense()[1] == 1)"
      ],
      "metadata": {
        "colab": {
          "base_uri": "https://localhost:8080/"
        },
        "id": "aWHqcJi2-v7t",
        "outputId": "a343a718-0cb8-4756-b5ed-ff4de75ca53d"
      },
      "execution_count": 61,
      "outputs": [
        {
          "output_type": "execute_result",
          "data": {
            "text/plain": [
              "(array([0, 0]), array([452, 824]))"
            ]
          },
          "metadata": {},
          "execution_count": 61
        }
      ]
    },
    {
      "cell_type": "code",
      "source": [
        "df_trips[df_trips['username_id'] == 1]"
      ],
      "metadata": {
        "colab": {
          "base_uri": "https://localhost:8080/",
          "height": 184
        },
        "id": "I_WYqOmR_EC8",
        "outputId": "7fd073b6-db28-489c-a1ca-aff8ebc095a5"
      },
      "execution_count": 62,
      "outputs": [
        {
          "output_type": "execute_result",
          "data": {
            "text/plain": [
              "     Unnamed: 0   username    country country_code country_slug   date_end  \\\n",
              "699         699  @0chucha0  Sri Lanka           LK    sri-lanka 2018-03-18   \n",
              "700         700  @0chucha0   Thailand           TH     thailand 2018-02-20   \n",
              "\n",
              "    date_start  latitude  longitude      place         place_slug  \\\n",
              "699 2018-02-18       7.0       80.0  Sri Lanka          sri-lanka   \n",
              "700 2017-11-21       9.0      100.0   Ko Samui  ko-samui-thailand   \n",
              "\n",
              "     duration_of_stay  username_id  place_slug_id  \n",
              "699              28.0            1            824  \n",
              "700              91.0            1            452  "
            ],
            "text/html": [
              "\n",
              "  <div id=\"df-e04ba483-0b3c-45f1-a1b1-ebe51171b8a9\" class=\"colab-df-container\">\n",
              "    <div>\n",
              "<style scoped>\n",
              "    .dataframe tbody tr th:only-of-type {\n",
              "        vertical-align: middle;\n",
              "    }\n",
              "\n",
              "    .dataframe tbody tr th {\n",
              "        vertical-align: top;\n",
              "    }\n",
              "\n",
              "    .dataframe thead th {\n",
              "        text-align: right;\n",
              "    }\n",
              "</style>\n",
              "<table border=\"1\" class=\"dataframe\">\n",
              "  <thead>\n",
              "    <tr style=\"text-align: right;\">\n",
              "      <th></th>\n",
              "      <th>Unnamed: 0</th>\n",
              "      <th>username</th>\n",
              "      <th>country</th>\n",
              "      <th>country_code</th>\n",
              "      <th>country_slug</th>\n",
              "      <th>date_end</th>\n",
              "      <th>date_start</th>\n",
              "      <th>latitude</th>\n",
              "      <th>longitude</th>\n",
              "      <th>place</th>\n",
              "      <th>place_slug</th>\n",
              "      <th>duration_of_stay</th>\n",
              "      <th>username_id</th>\n",
              "      <th>place_slug_id</th>\n",
              "    </tr>\n",
              "  </thead>\n",
              "  <tbody>\n",
              "    <tr>\n",
              "      <th>699</th>\n",
              "      <td>699</td>\n",
              "      <td>@0chucha0</td>\n",
              "      <td>Sri Lanka</td>\n",
              "      <td>LK</td>\n",
              "      <td>sri-lanka</td>\n",
              "      <td>2018-03-18</td>\n",
              "      <td>2018-02-18</td>\n",
              "      <td>7.0</td>\n",
              "      <td>80.0</td>\n",
              "      <td>Sri Lanka</td>\n",
              "      <td>sri-lanka</td>\n",
              "      <td>28.0</td>\n",
              "      <td>1</td>\n",
              "      <td>824</td>\n",
              "    </tr>\n",
              "    <tr>\n",
              "      <th>700</th>\n",
              "      <td>700</td>\n",
              "      <td>@0chucha0</td>\n",
              "      <td>Thailand</td>\n",
              "      <td>TH</td>\n",
              "      <td>thailand</td>\n",
              "      <td>2018-02-20</td>\n",
              "      <td>2017-11-21</td>\n",
              "      <td>9.0</td>\n",
              "      <td>100.0</td>\n",
              "      <td>Ko Samui</td>\n",
              "      <td>ko-samui-thailand</td>\n",
              "      <td>91.0</td>\n",
              "      <td>1</td>\n",
              "      <td>452</td>\n",
              "    </tr>\n",
              "  </tbody>\n",
              "</table>\n",
              "</div>\n",
              "    <div class=\"colab-df-buttons\">\n",
              "\n",
              "  <div class=\"colab-df-container\">\n",
              "    <button class=\"colab-df-convert\" onclick=\"convertToInteractive('df-e04ba483-0b3c-45f1-a1b1-ebe51171b8a9')\"\n",
              "            title=\"Convert this dataframe to an interactive table.\"\n",
              "            style=\"display:none;\">\n",
              "\n",
              "  <svg xmlns=\"http://www.w3.org/2000/svg\" height=\"24px\" viewBox=\"0 -960 960 960\">\n",
              "    <path d=\"M120-120v-720h720v720H120Zm60-500h600v-160H180v160Zm220 220h160v-160H400v160Zm0 220h160v-160H400v160ZM180-400h160v-160H180v160Zm440 0h160v-160H620v160ZM180-180h160v-160H180v160Zm440 0h160v-160H620v160Z\"/>\n",
              "  </svg>\n",
              "    </button>\n",
              "\n",
              "  <style>\n",
              "    .colab-df-container {\n",
              "      display:flex;\n",
              "      gap: 12px;\n",
              "    }\n",
              "\n",
              "    .colab-df-convert {\n",
              "      background-color: #E8F0FE;\n",
              "      border: none;\n",
              "      border-radius: 50%;\n",
              "      cursor: pointer;\n",
              "      display: none;\n",
              "      fill: #1967D2;\n",
              "      height: 32px;\n",
              "      padding: 0 0 0 0;\n",
              "      width: 32px;\n",
              "    }\n",
              "\n",
              "    .colab-df-convert:hover {\n",
              "      background-color: #E2EBFA;\n",
              "      box-shadow: 0px 1px 2px rgba(60, 64, 67, 0.3), 0px 1px 3px 1px rgba(60, 64, 67, 0.15);\n",
              "      fill: #174EA6;\n",
              "    }\n",
              "\n",
              "    .colab-df-buttons div {\n",
              "      margin-bottom: 4px;\n",
              "    }\n",
              "\n",
              "    [theme=dark] .colab-df-convert {\n",
              "      background-color: #3B4455;\n",
              "      fill: #D2E3FC;\n",
              "    }\n",
              "\n",
              "    [theme=dark] .colab-df-convert:hover {\n",
              "      background-color: #434B5C;\n",
              "      box-shadow: 0px 1px 3px 1px rgba(0, 0, 0, 0.15);\n",
              "      filter: drop-shadow(0px 1px 2px rgba(0, 0, 0, 0.3));\n",
              "      fill: #FFFFFF;\n",
              "    }\n",
              "  </style>\n",
              "\n",
              "    <script>\n",
              "      const buttonEl =\n",
              "        document.querySelector('#df-e04ba483-0b3c-45f1-a1b1-ebe51171b8a9 button.colab-df-convert');\n",
              "      buttonEl.style.display =\n",
              "        google.colab.kernel.accessAllowed ? 'block' : 'none';\n",
              "\n",
              "      async function convertToInteractive(key) {\n",
              "        const element = document.querySelector('#df-e04ba483-0b3c-45f1-a1b1-ebe51171b8a9');\n",
              "        const dataTable =\n",
              "          await google.colab.kernel.invokeFunction('convertToInteractive',\n",
              "                                                    [key], {});\n",
              "        if (!dataTable) return;\n",
              "\n",
              "        const docLinkHtml = 'Like what you see? Visit the ' +\n",
              "          '<a target=\"_blank\" href=https://colab.research.google.com/notebooks/data_table.ipynb>data table notebook</a>'\n",
              "          + ' to learn more about interactive tables.';\n",
              "        element.innerHTML = '';\n",
              "        dataTable['output_type'] = 'display_data';\n",
              "        await google.colab.output.renderOutput(dataTable, element);\n",
              "        const docLink = document.createElement('div');\n",
              "        docLink.innerHTML = docLinkHtml;\n",
              "        element.appendChild(docLink);\n",
              "      }\n",
              "    </script>\n",
              "  </div>\n",
              "\n",
              "\n",
              "<div id=\"df-96a5186d-2edf-4422-841c-803fe555a5cc\">\n",
              "  <button class=\"colab-df-quickchart\" onclick=\"quickchart('df-96a5186d-2edf-4422-841c-803fe555a5cc')\"\n",
              "            title=\"Suggest charts.\"\n",
              "            style=\"display:none;\">\n",
              "\n",
              "<svg xmlns=\"http://www.w3.org/2000/svg\" height=\"24px\"viewBox=\"0 0 24 24\"\n",
              "     width=\"24px\">\n",
              "    <g>\n",
              "        <path d=\"M19 3H5c-1.1 0-2 .9-2 2v14c0 1.1.9 2 2 2h14c1.1 0 2-.9 2-2V5c0-1.1-.9-2-2-2zM9 17H7v-7h2v7zm4 0h-2V7h2v10zm4 0h-2v-4h2v4z\"/>\n",
              "    </g>\n",
              "</svg>\n",
              "  </button>\n",
              "\n",
              "<style>\n",
              "  .colab-df-quickchart {\n",
              "      --bg-color: #E8F0FE;\n",
              "      --fill-color: #1967D2;\n",
              "      --hover-bg-color: #E2EBFA;\n",
              "      --hover-fill-color: #174EA6;\n",
              "      --disabled-fill-color: #AAA;\n",
              "      --disabled-bg-color: #DDD;\n",
              "  }\n",
              "\n",
              "  [theme=dark] .colab-df-quickchart {\n",
              "      --bg-color: #3B4455;\n",
              "      --fill-color: #D2E3FC;\n",
              "      --hover-bg-color: #434B5C;\n",
              "      --hover-fill-color: #FFFFFF;\n",
              "      --disabled-bg-color: #3B4455;\n",
              "      --disabled-fill-color: #666;\n",
              "  }\n",
              "\n",
              "  .colab-df-quickchart {\n",
              "    background-color: var(--bg-color);\n",
              "    border: none;\n",
              "    border-radius: 50%;\n",
              "    cursor: pointer;\n",
              "    display: none;\n",
              "    fill: var(--fill-color);\n",
              "    height: 32px;\n",
              "    padding: 0;\n",
              "    width: 32px;\n",
              "  }\n",
              "\n",
              "  .colab-df-quickchart:hover {\n",
              "    background-color: var(--hover-bg-color);\n",
              "    box-shadow: 0 1px 2px rgba(60, 64, 67, 0.3), 0 1px 3px 1px rgba(60, 64, 67, 0.15);\n",
              "    fill: var(--button-hover-fill-color);\n",
              "  }\n",
              "\n",
              "  .colab-df-quickchart-complete:disabled,\n",
              "  .colab-df-quickchart-complete:disabled:hover {\n",
              "    background-color: var(--disabled-bg-color);\n",
              "    fill: var(--disabled-fill-color);\n",
              "    box-shadow: none;\n",
              "  }\n",
              "\n",
              "  .colab-df-spinner {\n",
              "    border: 2px solid var(--fill-color);\n",
              "    border-color: transparent;\n",
              "    border-bottom-color: var(--fill-color);\n",
              "    animation:\n",
              "      spin 1s steps(1) infinite;\n",
              "  }\n",
              "\n",
              "  @keyframes spin {\n",
              "    0% {\n",
              "      border-color: transparent;\n",
              "      border-bottom-color: var(--fill-color);\n",
              "      border-left-color: var(--fill-color);\n",
              "    }\n",
              "    20% {\n",
              "      border-color: transparent;\n",
              "      border-left-color: var(--fill-color);\n",
              "      border-top-color: var(--fill-color);\n",
              "    }\n",
              "    30% {\n",
              "      border-color: transparent;\n",
              "      border-left-color: var(--fill-color);\n",
              "      border-top-color: var(--fill-color);\n",
              "      border-right-color: var(--fill-color);\n",
              "    }\n",
              "    40% {\n",
              "      border-color: transparent;\n",
              "      border-right-color: var(--fill-color);\n",
              "      border-top-color: var(--fill-color);\n",
              "    }\n",
              "    60% {\n",
              "      border-color: transparent;\n",
              "      border-right-color: var(--fill-color);\n",
              "    }\n",
              "    80% {\n",
              "      border-color: transparent;\n",
              "      border-right-color: var(--fill-color);\n",
              "      border-bottom-color: var(--fill-color);\n",
              "    }\n",
              "    90% {\n",
              "      border-color: transparent;\n",
              "      border-bottom-color: var(--fill-color);\n",
              "    }\n",
              "  }\n",
              "</style>\n",
              "\n",
              "  <script>\n",
              "    async function quickchart(key) {\n",
              "      const quickchartButtonEl =\n",
              "        document.querySelector('#' + key + ' button');\n",
              "      quickchartButtonEl.disabled = true;  // To prevent multiple clicks.\n",
              "      quickchartButtonEl.classList.add('colab-df-spinner');\n",
              "      try {\n",
              "        const charts = await google.colab.kernel.invokeFunction(\n",
              "            'suggestCharts', [key], {});\n",
              "      } catch (error) {\n",
              "        console.error('Error during call to suggestCharts:', error);\n",
              "      }\n",
              "      quickchartButtonEl.classList.remove('colab-df-spinner');\n",
              "      quickchartButtonEl.classList.add('colab-df-quickchart-complete');\n",
              "    }\n",
              "    (() => {\n",
              "      let quickchartButtonEl =\n",
              "        document.querySelector('#df-96a5186d-2edf-4422-841c-803fe555a5cc button');\n",
              "      quickchartButtonEl.style.display =\n",
              "        google.colab.kernel.accessAllowed ? 'block' : 'none';\n",
              "    })();\n",
              "  </script>\n",
              "</div>\n",
              "    </div>\n",
              "  </div>\n"
            ]
          },
          "metadata": {},
          "execution_count": 62
        }
      ]
    },
    {
      "cell_type": "code",
      "source": [
        "from sklearn.decomposition import TruncatedSVD\n",
        "\n",
        "svd = TruncatedSVD(n_components=5, n_iter=7, random_state=42)"
      ],
      "metadata": {
        "id": "FGoYOsQ5Jc88"
      },
      "execution_count": 63,
      "outputs": []
    },
    {
      "cell_type": "code",
      "source": [
        "matrix_places = svd.fit_transform(matrix.T)\n",
        "matrix_places.shape"
      ],
      "metadata": {
        "colab": {
          "base_uri": "https://localhost:8080/"
        },
        "id": "wetJZYOPJqxG",
        "outputId": "7328806a-8907-4a75-fe51-cc5f7b1aee4f"
      },
      "execution_count": 64,
      "outputs": [
        {
          "output_type": "execute_result",
          "data": {
            "text/plain": [
              "(961, 5)"
            ]
          },
          "metadata": {},
          "execution_count": 64
        }
      ]
    },
    {
      "cell_type": "markdown",
      "source": [
        "### 3.3. Calculate The Similarity Matrix\n"
      ],
      "metadata": {
        "id": "Fo9yRr9Rod1-"
      }
    },
    {
      "cell_type": "markdown",
      "source": [
        "A cosine distance matrix of item or user is a table that shows how similar each item or user is to every other item or user, based on their cosine similarity. Here, we can decide which type of collaborative model to implement, based on our specific needs and goals.\n",
        "\n",
        "####3.3.1. Item-Based Collaborative Filtering\n",
        "Recommends items based on their similarity to items that the target user has interacted with. This is generally more scalable and can handle a larger item set. It also performs better for new users but may not be as personalized as user-based models."
      ],
      "metadata": {
        "id": "BTq6rPAPPsHj"
      }
    },
    {
      "cell_type": "code",
      "source": [
        "from sklearn.metrics.pairwise import cosine_distances"
      ],
      "metadata": {
        "id": "z7ML_CPCJ1TF"
      },
      "execution_count": 65,
      "outputs": []
    },
    {
      "cell_type": "code",
      "source": [
        "cosine_distance_matrix_places = cosine_distances(matrix_places)\n",
        "cosine_distance_matrix_places.shape"
      ],
      "metadata": {
        "colab": {
          "base_uri": "https://localhost:8080/"
        },
        "id": "3q9PsPqkJ5fz",
        "outputId": "491f384a-0e93-4350-c767-b89f0e268868"
      },
      "execution_count": 66,
      "outputs": [
        {
          "output_type": "execute_result",
          "data": {
            "text/plain": [
              "(961, 961)"
            ]
          },
          "metadata": {},
          "execution_count": 66
        }
      ]
    },
    {
      "cell_type": "code",
      "source": [
        "cosine_distance_matrix_places"
      ],
      "metadata": {
        "colab": {
          "base_uri": "https://localhost:8080/"
        },
        "id": "RHRWKHP3KABn",
        "outputId": "97803903-b440-4eb3-93ff-0e638fa494a2"
      },
      "execution_count": 67,
      "outputs": [
        {
          "output_type": "execute_result",
          "data": {
            "text/plain": [
              "array([[0.        , 0.93737257, 0.94042055, ..., 0.55101577, 0.94479183,\n",
              "        0.66700793],\n",
              "       [0.93737257, 0.        , 0.2219977 , ..., 0.55865144, 1.01683665,\n",
              "        0.55894041],\n",
              "       [0.94042055, 0.2219977 , 0.        , ..., 0.42547908, 0.90915149,\n",
              "        0.12785817],\n",
              "       ...,\n",
              "       [0.55101577, 0.55865144, 0.42547908, ..., 0.        , 0.35913659,\n",
              "        0.36126287],\n",
              "       [0.94479183, 1.01683665, 0.90915149, ..., 0.35913659, 0.        ,\n",
              "        0.89817704],\n",
              "       [0.66700793, 0.55894041, 0.12785817, ..., 0.36126287, 0.89817704,\n",
              "        0.        ]])"
            ]
          },
          "metadata": {},
          "execution_count": 67
        }
      ]
    },
    {
      "cell_type": "code",
      "source": [
        "le_place.transform(['ubud-bali-indonesia'])"
      ],
      "metadata": {
        "colab": {
          "base_uri": "https://localhost:8080/"
        },
        "id": "X9S_YqdRLZX7",
        "outputId": "1c878527-d8b9-40f0-c7c5-fe298e5f884e"
      },
      "execution_count": 68,
      "outputs": [
        {
          "output_type": "execute_result",
          "data": {
            "text/plain": [
              "array([891])"
            ]
          },
          "metadata": {},
          "execution_count": 68
        }
      ]
    },
    {
      "cell_type": "code",
      "source": [
        "df_trips[df_trips.place_slug_id == 891]"
      ],
      "metadata": {
        "colab": {
          "base_uri": "https://localhost:8080/",
          "height": 634
        },
        "id": "2CLGfyX7LbOQ",
        "outputId": "a2011fa8-d9ce-44e2-9e26-bc054e6a397f"
      },
      "execution_count": 69,
      "outputs": [
        {
          "output_type": "execute_result",
          "data": {
            "text/plain": [
              "       Unnamed: 0             username    country country_code country_slug  \\\n",
              "79             79               @jezfx  Indonesia           ID    indonesia   \n",
              "196           196  @adventureinmyveins  Indonesia           ID    indonesia   \n",
              "354           354             @gnefkow  Indonesia           ID    indonesia   \n",
              "417           417        @marcusmeurer  Indonesia           ID    indonesia   \n",
              "546           546           @laudowicz  Indonesia           ID    indonesia   \n",
              "...           ...                  ...        ...          ...          ...   \n",
              "46007       46007             @reustle  Indonesia           ID    indonesia   \n",
              "46070       46070             @reustle  Indonesia           ID    indonesia   \n",
              "46151       46151            @amurzaya  Indonesia           ID    indonesia   \n",
              "46285       46285                  @cw  Indonesia           ID    indonesia   \n",
              "46287       46287                  @cw  Indonesia           ID    indonesia   \n",
              "\n",
              "        date_end date_start  latitude  longitude place           place_slug  \\\n",
              "79    2019-05-01 2018-11-25      -8.0      115.0  Ubud  ubud-bali-indonesia   \n",
              "196   2017-04-03 2017-03-03      -8.0      115.0  Ubud  ubud-bali-indonesia   \n",
              "354   2017-07-12 2017-06-13      -8.0      115.0  Ubud  ubud-bali-indonesia   \n",
              "417   2016-04-19 2016-04-03      -8.0      115.0  Ubud  ubud-bali-indonesia   \n",
              "546   2015-12-28 2015-12-19      -8.0      115.0  Ubud  ubud-bali-indonesia   \n",
              "...          ...        ...       ...        ...   ...                  ...   \n",
              "46007 2016-12-05 2016-11-07      -8.0      115.0  Ubud  ubud-bali-indonesia   \n",
              "46070 2015-04-24 2015-03-27      -8.0      115.0  Ubud  ubud-bali-indonesia   \n",
              "46151 2018-02-14 2018-01-24      -8.0      115.0  Ubud  ubud-bali-indonesia   \n",
              "46285 2016-02-26 2016-01-28      -8.0      115.0  Ubud  ubud-bali-indonesia   \n",
              "46287 2016-01-22 2016-01-02      -8.0      115.0  Ubud  ubud-bali-indonesia   \n",
              "\n",
              "       duration_of_stay  username_id  place_slug_id  \n",
              "79                157.0         1204            891  \n",
              "196                31.0           51            891  \n",
              "354                29.0          908            891  \n",
              "417                16.0         1644            891  \n",
              "546                 9.0         1495            891  \n",
              "...                 ...          ...            ...  \n",
              "46007              28.0         2187            891  \n",
              "46070              28.0         2187            891  \n",
              "46151              21.0          143            891  \n",
              "46285              29.0          555            891  \n",
              "46287              20.0          555            891  \n",
              "\n",
              "[473 rows x 14 columns]"
            ],
            "text/html": [
              "\n",
              "  <div id=\"df-865dfc4f-e9fd-47d2-b78f-77e38baab07d\" class=\"colab-df-container\">\n",
              "    <div>\n",
              "<style scoped>\n",
              "    .dataframe tbody tr th:only-of-type {\n",
              "        vertical-align: middle;\n",
              "    }\n",
              "\n",
              "    .dataframe tbody tr th {\n",
              "        vertical-align: top;\n",
              "    }\n",
              "\n",
              "    .dataframe thead th {\n",
              "        text-align: right;\n",
              "    }\n",
              "</style>\n",
              "<table border=\"1\" class=\"dataframe\">\n",
              "  <thead>\n",
              "    <tr style=\"text-align: right;\">\n",
              "      <th></th>\n",
              "      <th>Unnamed: 0</th>\n",
              "      <th>username</th>\n",
              "      <th>country</th>\n",
              "      <th>country_code</th>\n",
              "      <th>country_slug</th>\n",
              "      <th>date_end</th>\n",
              "      <th>date_start</th>\n",
              "      <th>latitude</th>\n",
              "      <th>longitude</th>\n",
              "      <th>place</th>\n",
              "      <th>place_slug</th>\n",
              "      <th>duration_of_stay</th>\n",
              "      <th>username_id</th>\n",
              "      <th>place_slug_id</th>\n",
              "    </tr>\n",
              "  </thead>\n",
              "  <tbody>\n",
              "    <tr>\n",
              "      <th>79</th>\n",
              "      <td>79</td>\n",
              "      <td>@jezfx</td>\n",
              "      <td>Indonesia</td>\n",
              "      <td>ID</td>\n",
              "      <td>indonesia</td>\n",
              "      <td>2019-05-01</td>\n",
              "      <td>2018-11-25</td>\n",
              "      <td>-8.0</td>\n",
              "      <td>115.0</td>\n",
              "      <td>Ubud</td>\n",
              "      <td>ubud-bali-indonesia</td>\n",
              "      <td>157.0</td>\n",
              "      <td>1204</td>\n",
              "      <td>891</td>\n",
              "    </tr>\n",
              "    <tr>\n",
              "      <th>196</th>\n",
              "      <td>196</td>\n",
              "      <td>@adventureinmyveins</td>\n",
              "      <td>Indonesia</td>\n",
              "      <td>ID</td>\n",
              "      <td>indonesia</td>\n",
              "      <td>2017-04-03</td>\n",
              "      <td>2017-03-03</td>\n",
              "      <td>-8.0</td>\n",
              "      <td>115.0</td>\n",
              "      <td>Ubud</td>\n",
              "      <td>ubud-bali-indonesia</td>\n",
              "      <td>31.0</td>\n",
              "      <td>51</td>\n",
              "      <td>891</td>\n",
              "    </tr>\n",
              "    <tr>\n",
              "      <th>354</th>\n",
              "      <td>354</td>\n",
              "      <td>@gnefkow</td>\n",
              "      <td>Indonesia</td>\n",
              "      <td>ID</td>\n",
              "      <td>indonesia</td>\n",
              "      <td>2017-07-12</td>\n",
              "      <td>2017-06-13</td>\n",
              "      <td>-8.0</td>\n",
              "      <td>115.0</td>\n",
              "      <td>Ubud</td>\n",
              "      <td>ubud-bali-indonesia</td>\n",
              "      <td>29.0</td>\n",
              "      <td>908</td>\n",
              "      <td>891</td>\n",
              "    </tr>\n",
              "    <tr>\n",
              "      <th>417</th>\n",
              "      <td>417</td>\n",
              "      <td>@marcusmeurer</td>\n",
              "      <td>Indonesia</td>\n",
              "      <td>ID</td>\n",
              "      <td>indonesia</td>\n",
              "      <td>2016-04-19</td>\n",
              "      <td>2016-04-03</td>\n",
              "      <td>-8.0</td>\n",
              "      <td>115.0</td>\n",
              "      <td>Ubud</td>\n",
              "      <td>ubud-bali-indonesia</td>\n",
              "      <td>16.0</td>\n",
              "      <td>1644</td>\n",
              "      <td>891</td>\n",
              "    </tr>\n",
              "    <tr>\n",
              "      <th>546</th>\n",
              "      <td>546</td>\n",
              "      <td>@laudowicz</td>\n",
              "      <td>Indonesia</td>\n",
              "      <td>ID</td>\n",
              "      <td>indonesia</td>\n",
              "      <td>2015-12-28</td>\n",
              "      <td>2015-12-19</td>\n",
              "      <td>-8.0</td>\n",
              "      <td>115.0</td>\n",
              "      <td>Ubud</td>\n",
              "      <td>ubud-bali-indonesia</td>\n",
              "      <td>9.0</td>\n",
              "      <td>1495</td>\n",
              "      <td>891</td>\n",
              "    </tr>\n",
              "    <tr>\n",
              "      <th>...</th>\n",
              "      <td>...</td>\n",
              "      <td>...</td>\n",
              "      <td>...</td>\n",
              "      <td>...</td>\n",
              "      <td>...</td>\n",
              "      <td>...</td>\n",
              "      <td>...</td>\n",
              "      <td>...</td>\n",
              "      <td>...</td>\n",
              "      <td>...</td>\n",
              "      <td>...</td>\n",
              "      <td>...</td>\n",
              "      <td>...</td>\n",
              "      <td>...</td>\n",
              "    </tr>\n",
              "    <tr>\n",
              "      <th>46007</th>\n",
              "      <td>46007</td>\n",
              "      <td>@reustle</td>\n",
              "      <td>Indonesia</td>\n",
              "      <td>ID</td>\n",
              "      <td>indonesia</td>\n",
              "      <td>2016-12-05</td>\n",
              "      <td>2016-11-07</td>\n",
              "      <td>-8.0</td>\n",
              "      <td>115.0</td>\n",
              "      <td>Ubud</td>\n",
              "      <td>ubud-bali-indonesia</td>\n",
              "      <td>28.0</td>\n",
              "      <td>2187</td>\n",
              "      <td>891</td>\n",
              "    </tr>\n",
              "    <tr>\n",
              "      <th>46070</th>\n",
              "      <td>46070</td>\n",
              "      <td>@reustle</td>\n",
              "      <td>Indonesia</td>\n",
              "      <td>ID</td>\n",
              "      <td>indonesia</td>\n",
              "      <td>2015-04-24</td>\n",
              "      <td>2015-03-27</td>\n",
              "      <td>-8.0</td>\n",
              "      <td>115.0</td>\n",
              "      <td>Ubud</td>\n",
              "      <td>ubud-bali-indonesia</td>\n",
              "      <td>28.0</td>\n",
              "      <td>2187</td>\n",
              "      <td>891</td>\n",
              "    </tr>\n",
              "    <tr>\n",
              "      <th>46151</th>\n",
              "      <td>46151</td>\n",
              "      <td>@amurzaya</td>\n",
              "      <td>Indonesia</td>\n",
              "      <td>ID</td>\n",
              "      <td>indonesia</td>\n",
              "      <td>2018-02-14</td>\n",
              "      <td>2018-01-24</td>\n",
              "      <td>-8.0</td>\n",
              "      <td>115.0</td>\n",
              "      <td>Ubud</td>\n",
              "      <td>ubud-bali-indonesia</td>\n",
              "      <td>21.0</td>\n",
              "      <td>143</td>\n",
              "      <td>891</td>\n",
              "    </tr>\n",
              "    <tr>\n",
              "      <th>46285</th>\n",
              "      <td>46285</td>\n",
              "      <td>@cw</td>\n",
              "      <td>Indonesia</td>\n",
              "      <td>ID</td>\n",
              "      <td>indonesia</td>\n",
              "      <td>2016-02-26</td>\n",
              "      <td>2016-01-28</td>\n",
              "      <td>-8.0</td>\n",
              "      <td>115.0</td>\n",
              "      <td>Ubud</td>\n",
              "      <td>ubud-bali-indonesia</td>\n",
              "      <td>29.0</td>\n",
              "      <td>555</td>\n",
              "      <td>891</td>\n",
              "    </tr>\n",
              "    <tr>\n",
              "      <th>46287</th>\n",
              "      <td>46287</td>\n",
              "      <td>@cw</td>\n",
              "      <td>Indonesia</td>\n",
              "      <td>ID</td>\n",
              "      <td>indonesia</td>\n",
              "      <td>2016-01-22</td>\n",
              "      <td>2016-01-02</td>\n",
              "      <td>-8.0</td>\n",
              "      <td>115.0</td>\n",
              "      <td>Ubud</td>\n",
              "      <td>ubud-bali-indonesia</td>\n",
              "      <td>20.0</td>\n",
              "      <td>555</td>\n",
              "      <td>891</td>\n",
              "    </tr>\n",
              "  </tbody>\n",
              "</table>\n",
              "<p>473 rows × 14 columns</p>\n",
              "</div>\n",
              "    <div class=\"colab-df-buttons\">\n",
              "\n",
              "  <div class=\"colab-df-container\">\n",
              "    <button class=\"colab-df-convert\" onclick=\"convertToInteractive('df-865dfc4f-e9fd-47d2-b78f-77e38baab07d')\"\n",
              "            title=\"Convert this dataframe to an interactive table.\"\n",
              "            style=\"display:none;\">\n",
              "\n",
              "  <svg xmlns=\"http://www.w3.org/2000/svg\" height=\"24px\" viewBox=\"0 -960 960 960\">\n",
              "    <path d=\"M120-120v-720h720v720H120Zm60-500h600v-160H180v160Zm220 220h160v-160H400v160Zm0 220h160v-160H400v160ZM180-400h160v-160H180v160Zm440 0h160v-160H620v160ZM180-180h160v-160H180v160Zm440 0h160v-160H620v160Z\"/>\n",
              "  </svg>\n",
              "    </button>\n",
              "\n",
              "  <style>\n",
              "    .colab-df-container {\n",
              "      display:flex;\n",
              "      gap: 12px;\n",
              "    }\n",
              "\n",
              "    .colab-df-convert {\n",
              "      background-color: #E8F0FE;\n",
              "      border: none;\n",
              "      border-radius: 50%;\n",
              "      cursor: pointer;\n",
              "      display: none;\n",
              "      fill: #1967D2;\n",
              "      height: 32px;\n",
              "      padding: 0 0 0 0;\n",
              "      width: 32px;\n",
              "    }\n",
              "\n",
              "    .colab-df-convert:hover {\n",
              "      background-color: #E2EBFA;\n",
              "      box-shadow: 0px 1px 2px rgba(60, 64, 67, 0.3), 0px 1px 3px 1px rgba(60, 64, 67, 0.15);\n",
              "      fill: #174EA6;\n",
              "    }\n",
              "\n",
              "    .colab-df-buttons div {\n",
              "      margin-bottom: 4px;\n",
              "    }\n",
              "\n",
              "    [theme=dark] .colab-df-convert {\n",
              "      background-color: #3B4455;\n",
              "      fill: #D2E3FC;\n",
              "    }\n",
              "\n",
              "    [theme=dark] .colab-df-convert:hover {\n",
              "      background-color: #434B5C;\n",
              "      box-shadow: 0px 1px 3px 1px rgba(0, 0, 0, 0.15);\n",
              "      filter: drop-shadow(0px 1px 2px rgba(0, 0, 0, 0.3));\n",
              "      fill: #FFFFFF;\n",
              "    }\n",
              "  </style>\n",
              "\n",
              "    <script>\n",
              "      const buttonEl =\n",
              "        document.querySelector('#df-865dfc4f-e9fd-47d2-b78f-77e38baab07d button.colab-df-convert');\n",
              "      buttonEl.style.display =\n",
              "        google.colab.kernel.accessAllowed ? 'block' : 'none';\n",
              "\n",
              "      async function convertToInteractive(key) {\n",
              "        const element = document.querySelector('#df-865dfc4f-e9fd-47d2-b78f-77e38baab07d');\n",
              "        const dataTable =\n",
              "          await google.colab.kernel.invokeFunction('convertToInteractive',\n",
              "                                                    [key], {});\n",
              "        if (!dataTable) return;\n",
              "\n",
              "        const docLinkHtml = 'Like what you see? Visit the ' +\n",
              "          '<a target=\"_blank\" href=https://colab.research.google.com/notebooks/data_table.ipynb>data table notebook</a>'\n",
              "          + ' to learn more about interactive tables.';\n",
              "        element.innerHTML = '';\n",
              "        dataTable['output_type'] = 'display_data';\n",
              "        await google.colab.output.renderOutput(dataTable, element);\n",
              "        const docLink = document.createElement('div');\n",
              "        docLink.innerHTML = docLinkHtml;\n",
              "        element.appendChild(docLink);\n",
              "      }\n",
              "    </script>\n",
              "  </div>\n",
              "\n",
              "\n",
              "<div id=\"df-b71b78e1-bfbb-4eb9-9144-841e8205581b\">\n",
              "  <button class=\"colab-df-quickchart\" onclick=\"quickchart('df-b71b78e1-bfbb-4eb9-9144-841e8205581b')\"\n",
              "            title=\"Suggest charts.\"\n",
              "            style=\"display:none;\">\n",
              "\n",
              "<svg xmlns=\"http://www.w3.org/2000/svg\" height=\"24px\"viewBox=\"0 0 24 24\"\n",
              "     width=\"24px\">\n",
              "    <g>\n",
              "        <path d=\"M19 3H5c-1.1 0-2 .9-2 2v14c0 1.1.9 2 2 2h14c1.1 0 2-.9 2-2V5c0-1.1-.9-2-2-2zM9 17H7v-7h2v7zm4 0h-2V7h2v10zm4 0h-2v-4h2v4z\"/>\n",
              "    </g>\n",
              "</svg>\n",
              "  </button>\n",
              "\n",
              "<style>\n",
              "  .colab-df-quickchart {\n",
              "      --bg-color: #E8F0FE;\n",
              "      --fill-color: #1967D2;\n",
              "      --hover-bg-color: #E2EBFA;\n",
              "      --hover-fill-color: #174EA6;\n",
              "      --disabled-fill-color: #AAA;\n",
              "      --disabled-bg-color: #DDD;\n",
              "  }\n",
              "\n",
              "  [theme=dark] .colab-df-quickchart {\n",
              "      --bg-color: #3B4455;\n",
              "      --fill-color: #D2E3FC;\n",
              "      --hover-bg-color: #434B5C;\n",
              "      --hover-fill-color: #FFFFFF;\n",
              "      --disabled-bg-color: #3B4455;\n",
              "      --disabled-fill-color: #666;\n",
              "  }\n",
              "\n",
              "  .colab-df-quickchart {\n",
              "    background-color: var(--bg-color);\n",
              "    border: none;\n",
              "    border-radius: 50%;\n",
              "    cursor: pointer;\n",
              "    display: none;\n",
              "    fill: var(--fill-color);\n",
              "    height: 32px;\n",
              "    padding: 0;\n",
              "    width: 32px;\n",
              "  }\n",
              "\n",
              "  .colab-df-quickchart:hover {\n",
              "    background-color: var(--hover-bg-color);\n",
              "    box-shadow: 0 1px 2px rgba(60, 64, 67, 0.3), 0 1px 3px 1px rgba(60, 64, 67, 0.15);\n",
              "    fill: var(--button-hover-fill-color);\n",
              "  }\n",
              "\n",
              "  .colab-df-quickchart-complete:disabled,\n",
              "  .colab-df-quickchart-complete:disabled:hover {\n",
              "    background-color: var(--disabled-bg-color);\n",
              "    fill: var(--disabled-fill-color);\n",
              "    box-shadow: none;\n",
              "  }\n",
              "\n",
              "  .colab-df-spinner {\n",
              "    border: 2px solid var(--fill-color);\n",
              "    border-color: transparent;\n",
              "    border-bottom-color: var(--fill-color);\n",
              "    animation:\n",
              "      spin 1s steps(1) infinite;\n",
              "  }\n",
              "\n",
              "  @keyframes spin {\n",
              "    0% {\n",
              "      border-color: transparent;\n",
              "      border-bottom-color: var(--fill-color);\n",
              "      border-left-color: var(--fill-color);\n",
              "    }\n",
              "    20% {\n",
              "      border-color: transparent;\n",
              "      border-left-color: var(--fill-color);\n",
              "      border-top-color: var(--fill-color);\n",
              "    }\n",
              "    30% {\n",
              "      border-color: transparent;\n",
              "      border-left-color: var(--fill-color);\n",
              "      border-top-color: var(--fill-color);\n",
              "      border-right-color: var(--fill-color);\n",
              "    }\n",
              "    40% {\n",
              "      border-color: transparent;\n",
              "      border-right-color: var(--fill-color);\n",
              "      border-top-color: var(--fill-color);\n",
              "    }\n",
              "    60% {\n",
              "      border-color: transparent;\n",
              "      border-right-color: var(--fill-color);\n",
              "    }\n",
              "    80% {\n",
              "      border-color: transparent;\n",
              "      border-right-color: var(--fill-color);\n",
              "      border-bottom-color: var(--fill-color);\n",
              "    }\n",
              "    90% {\n",
              "      border-color: transparent;\n",
              "      border-bottom-color: var(--fill-color);\n",
              "    }\n",
              "  }\n",
              "</style>\n",
              "\n",
              "  <script>\n",
              "    async function quickchart(key) {\n",
              "      const quickchartButtonEl =\n",
              "        document.querySelector('#' + key + ' button');\n",
              "      quickchartButtonEl.disabled = true;  // To prevent multiple clicks.\n",
              "      quickchartButtonEl.classList.add('colab-df-spinner');\n",
              "      try {\n",
              "        const charts = await google.colab.kernel.invokeFunction(\n",
              "            'suggestCharts', [key], {});\n",
              "      } catch (error) {\n",
              "        console.error('Error during call to suggestCharts:', error);\n",
              "      }\n",
              "      quickchartButtonEl.classList.remove('colab-df-spinner');\n",
              "      quickchartButtonEl.classList.add('colab-df-quickchart-complete');\n",
              "    }\n",
              "    (() => {\n",
              "      let quickchartButtonEl =\n",
              "        document.querySelector('#df-b71b78e1-bfbb-4eb9-9144-841e8205581b button');\n",
              "      quickchartButtonEl.style.display =\n",
              "        google.colab.kernel.accessAllowed ? 'block' : 'none';\n",
              "    })();\n",
              "  </script>\n",
              "</div>\n",
              "    </div>\n",
              "  </div>\n"
            ]
          },
          "metadata": {},
          "execution_count": 69
        }
      ]
    },
    {
      "cell_type": "code",
      "source": [
        "np.argsort(cosine_distance_matrix_places[891,:])[:5]"
      ],
      "metadata": {
        "colab": {
          "base_uri": "https://localhost:8080/"
        },
        "id": "F3FV0RNtL9Mz",
        "outputId": "9cf93411-f12a-4b95-80a7-aef67bf7f0dd"
      },
      "execution_count": 70,
      "outputs": [
        {
          "output_type": "execute_result",
          "data": {
            "text/plain": [
              "array([891, 244, 450, 676, 803])"
            ]
          },
          "metadata": {},
          "execution_count": 70
        }
      ]
    },
    {
      "cell_type": "markdown",
      "source": [
        "Finally, we recommend items that these similar users have interacted with but the target user has not."
      ],
      "metadata": {
        "id": "RMSvb8sLCjWo"
      }
    },
    {
      "cell_type": "code",
      "source": [
        "le_place.inverse_transform(np.argsort(cosine_distance_matrix_places[858,:])[:10])"
      ],
      "metadata": {
        "colab": {
          "base_uri": "https://localhost:8080/"
        },
        "id": "slvMzPhK_K8B",
        "outputId": "67858c91-616f-4193-d23f-a7da1aa963cb"
      },
      "execution_count": 71,
      "outputs": [
        {
          "output_type": "execute_result",
          "data": {
            "text/plain": [
              "array(['tel-aviv-israel', 'dakar-senegal', 'israel',\n",
              "       'santo-domingo-dominican-republic', 'braga-portugal',\n",
              "       'palma-mallorca-spain', 'tartu-estonia', 'saint-lucia',\n",
              "       'strasbourg-france', 'bordeaux-france'], dtype=object)"
            ]
          },
          "metadata": {},
          "execution_count": 71
        }
      ]
    },
    {
      "cell_type": "code",
      "source": [
        "def find_similar_places(place, num_similar):\n",
        "    # Convert the place name to its corresponding numerical index\n",
        "    place_index = le_place.transform([place])[0]\n",
        "\n",
        "    # Retrieve the cosine distances for this place from the matrix\n",
        "    distances = cosine_distance_matrix_places[place_index, :]\n",
        "\n",
        "    # Get indices of num_similar smallest distances\n",
        "    closest_indices = np.argsort(distances)[:num_similar]\n",
        "\n",
        "    # Convert these indices back to place names\n",
        "    closest_places = le_place.inverse_transform(closest_indices)\n",
        "\n",
        "    return closest_places"
      ],
      "metadata": {
        "id": "LwNArTW_O1zw"
      },
      "execution_count": 72,
      "outputs": []
    },
    {
      "cell_type": "code",
      "source": [
        "find_similar_places('ko-pha-ngan-thailand', 10)"
      ],
      "metadata": {
        "colab": {
          "base_uri": "https://localhost:8080/"
        },
        "id": "k3R_2MUUPDFd",
        "outputId": "642e7acb-b726-4d3e-e0fa-d2fe44b67542"
      },
      "execution_count": 73,
      "outputs": [
        {
          "output_type": "execute_result",
          "data": {
            "text/plain": [
              "array(['ko-pha-ngan-thailand', 'ubud-bali-indonesia', 'darwin-australia',\n",
              "       'vietnam', 'ho-chi-minh-city-vietnam', 'canberra-australia',\n",
              "       'siem-reap-cambodia', 'phnom-penh-cambodia', 'delhi-india',\n",
              "       'taipei-taiwan'], dtype=object)"
            ]
          },
          "metadata": {},
          "execution_count": 73
        }
      ]
    },
    {
      "cell_type": "code",
      "source": [
        "def find_similar_multiplaces(places, num_similar):\n",
        "    # Transform place names to their corresponding numerical indices\n",
        "    places_indices = le_place.transform(places)\n",
        "\n",
        "    # Compute the average vector representation of the given places\n",
        "    avg_vector = np.mean(matrix_places[places_indices], axis=0).reshape(1, -1)\n",
        "\n",
        "    # Calculate cosine distances between the average vector and all place vectors in the matrix\n",
        "    distances = cosine_distances(avg_vector, matrix_places)[0]\n",
        "\n",
        "    # Find the indices of 'num_similar' most similar places\n",
        "    closest_indices = np.argsort(distances)[:num_similar]\n",
        "\n",
        "    # Convert numerical indices back to place names\n",
        "    return le_place.inverse_transform(closest_indices)\n"
      ],
      "metadata": {
        "id": "Hwo4QwPtg1sa"
      },
      "execution_count": 74,
      "outputs": []
    },
    {
      "cell_type": "code",
      "source": [
        "find_similar_multiplaces(['lviv-ukraine','darwin-australia'], 20)"
      ],
      "metadata": {
        "colab": {
          "base_uri": "https://localhost:8080/"
        },
        "id": "u0ccRJsOhY2G",
        "outputId": "c039d246-3a8d-400f-d224-d53510977542"
      },
      "execution_count": 75,
      "outputs": [
        {
          "output_type": "execute_result",
          "data": {
            "text/plain": [
              "array(['siem-reap-cambodia', 'lviv-ukraine', 'ho-chi-minh-city-vietnam',\n",
              "       'yogyakarta-indonesia', 'phnom-penh-cambodia', 'shenyang-china',\n",
              "       'sinuiju-north-korea', 'north-korea', 'guiyang-china', 'indonesia',\n",
              "       'taipei-taiwan', 'kuala-lumpur-malaysia', 'krabi-thailand',\n",
              "       'darwin-australia', 'laos', 'gurgaon-india', 'ko-lanta-thailand',\n",
              "       'ubud-bali-indonesia', 'riga-latvia',\n",
              "       'road-town-british-virgin-islands'], dtype=object)"
            ]
          },
          "metadata": {},
          "execution_count": 75
        }
      ]
    },
    {
      "cell_type": "markdown",
      "source": [
        "####3.3.2. User-Based Collaborative Filtering\n",
        "\n",
        "Recommends items by finding users who are similar to the target user. If user A is similar to user B, then the items liked by user B can be recommended to user A."
      ],
      "metadata": {
        "id": "MxSByLclRhRo"
      }
    },
    {
      "cell_type": "markdown",
      "source": [
        "####**Question 4: What is the main difference between item-based and user-based recommender systems?**\n",
        "\n",
        "Item-based recommender systems focus on recommending travel destinations based on similarities between the destinations themselves, while user-based recommender systems make recommendations based on similarities between users' past behaviors and preferences. Item-based is generally good for new users, whereas user-based provides more personalized recommendations but may struggle with new users.\n",
        "\n",
        "\n",
        "\n",
        "\n",
        "\n"
      ],
      "metadata": {
        "id": "D8oNuBtHXz2z"
      }
    },
    {
      "cell_type": "code",
      "source": [
        "df_trips[df_trips.username_id == 7]"
      ],
      "metadata": {
        "colab": {
          "base_uri": "https://localhost:8080/",
          "height": 233
        },
        "id": "LUSYwLbbPGp7",
        "outputId": "481f6f6e-57bc-438a-c1c5-2f2ae0f1ab26"
      },
      "execution_count": 76,
      "outputs": [
        {
          "output_type": "execute_result",
          "data": {
            "text/plain": [
              "       Unnamed: 0  username    country country_code country_slug   date_end  \\\n",
              "44611       44611  @9102180  Indonesia           ID    indonesia 2018-01-31   \n",
              "44612       44612  @9102180   Thailand           TH     thailand 2018-01-13   \n",
              "44613       44613  @9102180   Thailand           TH     thailand 2017-09-30   \n",
              "\n",
              "      date_start  latitude  longitude       place             place_slug  \\\n",
              "44611 2018-01-14      -8.0      115.0      Canggu  canggu-bali-indonesia   \n",
              "44612 2017-12-01      13.0      100.0     Bangkok       bangkok-thailand   \n",
              "44613 2017-08-14      18.0       98.0  Chiang Mai    chiang-mai-thailand   \n",
              "\n",
              "       duration_of_stay  username_id  place_slug_id  \n",
              "44611              17.0            7            167  \n",
              "44612              43.0            7             78  \n",
              "44613              47.0            7            191  "
            ],
            "text/html": [
              "\n",
              "  <div id=\"df-b112edf2-280a-401f-a282-021fb8abac9b\" class=\"colab-df-container\">\n",
              "    <div>\n",
              "<style scoped>\n",
              "    .dataframe tbody tr th:only-of-type {\n",
              "        vertical-align: middle;\n",
              "    }\n",
              "\n",
              "    .dataframe tbody tr th {\n",
              "        vertical-align: top;\n",
              "    }\n",
              "\n",
              "    .dataframe thead th {\n",
              "        text-align: right;\n",
              "    }\n",
              "</style>\n",
              "<table border=\"1\" class=\"dataframe\">\n",
              "  <thead>\n",
              "    <tr style=\"text-align: right;\">\n",
              "      <th></th>\n",
              "      <th>Unnamed: 0</th>\n",
              "      <th>username</th>\n",
              "      <th>country</th>\n",
              "      <th>country_code</th>\n",
              "      <th>country_slug</th>\n",
              "      <th>date_end</th>\n",
              "      <th>date_start</th>\n",
              "      <th>latitude</th>\n",
              "      <th>longitude</th>\n",
              "      <th>place</th>\n",
              "      <th>place_slug</th>\n",
              "      <th>duration_of_stay</th>\n",
              "      <th>username_id</th>\n",
              "      <th>place_slug_id</th>\n",
              "    </tr>\n",
              "  </thead>\n",
              "  <tbody>\n",
              "    <tr>\n",
              "      <th>44611</th>\n",
              "      <td>44611</td>\n",
              "      <td>@9102180</td>\n",
              "      <td>Indonesia</td>\n",
              "      <td>ID</td>\n",
              "      <td>indonesia</td>\n",
              "      <td>2018-01-31</td>\n",
              "      <td>2018-01-14</td>\n",
              "      <td>-8.0</td>\n",
              "      <td>115.0</td>\n",
              "      <td>Canggu</td>\n",
              "      <td>canggu-bali-indonesia</td>\n",
              "      <td>17.0</td>\n",
              "      <td>7</td>\n",
              "      <td>167</td>\n",
              "    </tr>\n",
              "    <tr>\n",
              "      <th>44612</th>\n",
              "      <td>44612</td>\n",
              "      <td>@9102180</td>\n",
              "      <td>Thailand</td>\n",
              "      <td>TH</td>\n",
              "      <td>thailand</td>\n",
              "      <td>2018-01-13</td>\n",
              "      <td>2017-12-01</td>\n",
              "      <td>13.0</td>\n",
              "      <td>100.0</td>\n",
              "      <td>Bangkok</td>\n",
              "      <td>bangkok-thailand</td>\n",
              "      <td>43.0</td>\n",
              "      <td>7</td>\n",
              "      <td>78</td>\n",
              "    </tr>\n",
              "    <tr>\n",
              "      <th>44613</th>\n",
              "      <td>44613</td>\n",
              "      <td>@9102180</td>\n",
              "      <td>Thailand</td>\n",
              "      <td>TH</td>\n",
              "      <td>thailand</td>\n",
              "      <td>2017-09-30</td>\n",
              "      <td>2017-08-14</td>\n",
              "      <td>18.0</td>\n",
              "      <td>98.0</td>\n",
              "      <td>Chiang Mai</td>\n",
              "      <td>chiang-mai-thailand</td>\n",
              "      <td>47.0</td>\n",
              "      <td>7</td>\n",
              "      <td>191</td>\n",
              "    </tr>\n",
              "  </tbody>\n",
              "</table>\n",
              "</div>\n",
              "    <div class=\"colab-df-buttons\">\n",
              "\n",
              "  <div class=\"colab-df-container\">\n",
              "    <button class=\"colab-df-convert\" onclick=\"convertToInteractive('df-b112edf2-280a-401f-a282-021fb8abac9b')\"\n",
              "            title=\"Convert this dataframe to an interactive table.\"\n",
              "            style=\"display:none;\">\n",
              "\n",
              "  <svg xmlns=\"http://www.w3.org/2000/svg\" height=\"24px\" viewBox=\"0 -960 960 960\">\n",
              "    <path d=\"M120-120v-720h720v720H120Zm60-500h600v-160H180v160Zm220 220h160v-160H400v160Zm0 220h160v-160H400v160ZM180-400h160v-160H180v160Zm440 0h160v-160H620v160ZM180-180h160v-160H180v160Zm440 0h160v-160H620v160Z\"/>\n",
              "  </svg>\n",
              "    </button>\n",
              "\n",
              "  <style>\n",
              "    .colab-df-container {\n",
              "      display:flex;\n",
              "      gap: 12px;\n",
              "    }\n",
              "\n",
              "    .colab-df-convert {\n",
              "      background-color: #E8F0FE;\n",
              "      border: none;\n",
              "      border-radius: 50%;\n",
              "      cursor: pointer;\n",
              "      display: none;\n",
              "      fill: #1967D2;\n",
              "      height: 32px;\n",
              "      padding: 0 0 0 0;\n",
              "      width: 32px;\n",
              "    }\n",
              "\n",
              "    .colab-df-convert:hover {\n",
              "      background-color: #E2EBFA;\n",
              "      box-shadow: 0px 1px 2px rgba(60, 64, 67, 0.3), 0px 1px 3px 1px rgba(60, 64, 67, 0.15);\n",
              "      fill: #174EA6;\n",
              "    }\n",
              "\n",
              "    .colab-df-buttons div {\n",
              "      margin-bottom: 4px;\n",
              "    }\n",
              "\n",
              "    [theme=dark] .colab-df-convert {\n",
              "      background-color: #3B4455;\n",
              "      fill: #D2E3FC;\n",
              "    }\n",
              "\n",
              "    [theme=dark] .colab-df-convert:hover {\n",
              "      background-color: #434B5C;\n",
              "      box-shadow: 0px 1px 3px 1px rgba(0, 0, 0, 0.15);\n",
              "      filter: drop-shadow(0px 1px 2px rgba(0, 0, 0, 0.3));\n",
              "      fill: #FFFFFF;\n",
              "    }\n",
              "  </style>\n",
              "\n",
              "    <script>\n",
              "      const buttonEl =\n",
              "        document.querySelector('#df-b112edf2-280a-401f-a282-021fb8abac9b button.colab-df-convert');\n",
              "      buttonEl.style.display =\n",
              "        google.colab.kernel.accessAllowed ? 'block' : 'none';\n",
              "\n",
              "      async function convertToInteractive(key) {\n",
              "        const element = document.querySelector('#df-b112edf2-280a-401f-a282-021fb8abac9b');\n",
              "        const dataTable =\n",
              "          await google.colab.kernel.invokeFunction('convertToInteractive',\n",
              "                                                    [key], {});\n",
              "        if (!dataTable) return;\n",
              "\n",
              "        const docLinkHtml = 'Like what you see? Visit the ' +\n",
              "          '<a target=\"_blank\" href=https://colab.research.google.com/notebooks/data_table.ipynb>data table notebook</a>'\n",
              "          + ' to learn more about interactive tables.';\n",
              "        element.innerHTML = '';\n",
              "        dataTable['output_type'] = 'display_data';\n",
              "        await google.colab.output.renderOutput(dataTable, element);\n",
              "        const docLink = document.createElement('div');\n",
              "        docLink.innerHTML = docLinkHtml;\n",
              "        element.appendChild(docLink);\n",
              "      }\n",
              "    </script>\n",
              "  </div>\n",
              "\n",
              "\n",
              "<div id=\"df-3fabe3b7-c966-4e41-9931-1ccff050ffd3\">\n",
              "  <button class=\"colab-df-quickchart\" onclick=\"quickchart('df-3fabe3b7-c966-4e41-9931-1ccff050ffd3')\"\n",
              "            title=\"Suggest charts.\"\n",
              "            style=\"display:none;\">\n",
              "\n",
              "<svg xmlns=\"http://www.w3.org/2000/svg\" height=\"24px\"viewBox=\"0 0 24 24\"\n",
              "     width=\"24px\">\n",
              "    <g>\n",
              "        <path d=\"M19 3H5c-1.1 0-2 .9-2 2v14c0 1.1.9 2 2 2h14c1.1 0 2-.9 2-2V5c0-1.1-.9-2-2-2zM9 17H7v-7h2v7zm4 0h-2V7h2v10zm4 0h-2v-4h2v4z\"/>\n",
              "    </g>\n",
              "</svg>\n",
              "  </button>\n",
              "\n",
              "<style>\n",
              "  .colab-df-quickchart {\n",
              "      --bg-color: #E8F0FE;\n",
              "      --fill-color: #1967D2;\n",
              "      --hover-bg-color: #E2EBFA;\n",
              "      --hover-fill-color: #174EA6;\n",
              "      --disabled-fill-color: #AAA;\n",
              "      --disabled-bg-color: #DDD;\n",
              "  }\n",
              "\n",
              "  [theme=dark] .colab-df-quickchart {\n",
              "      --bg-color: #3B4455;\n",
              "      --fill-color: #D2E3FC;\n",
              "      --hover-bg-color: #434B5C;\n",
              "      --hover-fill-color: #FFFFFF;\n",
              "      --disabled-bg-color: #3B4455;\n",
              "      --disabled-fill-color: #666;\n",
              "  }\n",
              "\n",
              "  .colab-df-quickchart {\n",
              "    background-color: var(--bg-color);\n",
              "    border: none;\n",
              "    border-radius: 50%;\n",
              "    cursor: pointer;\n",
              "    display: none;\n",
              "    fill: var(--fill-color);\n",
              "    height: 32px;\n",
              "    padding: 0;\n",
              "    width: 32px;\n",
              "  }\n",
              "\n",
              "  .colab-df-quickchart:hover {\n",
              "    background-color: var(--hover-bg-color);\n",
              "    box-shadow: 0 1px 2px rgba(60, 64, 67, 0.3), 0 1px 3px 1px rgba(60, 64, 67, 0.15);\n",
              "    fill: var(--button-hover-fill-color);\n",
              "  }\n",
              "\n",
              "  .colab-df-quickchart-complete:disabled,\n",
              "  .colab-df-quickchart-complete:disabled:hover {\n",
              "    background-color: var(--disabled-bg-color);\n",
              "    fill: var(--disabled-fill-color);\n",
              "    box-shadow: none;\n",
              "  }\n",
              "\n",
              "  .colab-df-spinner {\n",
              "    border: 2px solid var(--fill-color);\n",
              "    border-color: transparent;\n",
              "    border-bottom-color: var(--fill-color);\n",
              "    animation:\n",
              "      spin 1s steps(1) infinite;\n",
              "  }\n",
              "\n",
              "  @keyframes spin {\n",
              "    0% {\n",
              "      border-color: transparent;\n",
              "      border-bottom-color: var(--fill-color);\n",
              "      border-left-color: var(--fill-color);\n",
              "    }\n",
              "    20% {\n",
              "      border-color: transparent;\n",
              "      border-left-color: var(--fill-color);\n",
              "      border-top-color: var(--fill-color);\n",
              "    }\n",
              "    30% {\n",
              "      border-color: transparent;\n",
              "      border-left-color: var(--fill-color);\n",
              "      border-top-color: var(--fill-color);\n",
              "      border-right-color: var(--fill-color);\n",
              "    }\n",
              "    40% {\n",
              "      border-color: transparent;\n",
              "      border-right-color: var(--fill-color);\n",
              "      border-top-color: var(--fill-color);\n",
              "    }\n",
              "    60% {\n",
              "      border-color: transparent;\n",
              "      border-right-color: var(--fill-color);\n",
              "    }\n",
              "    80% {\n",
              "      border-color: transparent;\n",
              "      border-right-color: var(--fill-color);\n",
              "      border-bottom-color: var(--fill-color);\n",
              "    }\n",
              "    90% {\n",
              "      border-color: transparent;\n",
              "      border-bottom-color: var(--fill-color);\n",
              "    }\n",
              "  }\n",
              "</style>\n",
              "\n",
              "  <script>\n",
              "    async function quickchart(key) {\n",
              "      const quickchartButtonEl =\n",
              "        document.querySelector('#' + key + ' button');\n",
              "      quickchartButtonEl.disabled = true;  // To prevent multiple clicks.\n",
              "      quickchartButtonEl.classList.add('colab-df-spinner');\n",
              "      try {\n",
              "        const charts = await google.colab.kernel.invokeFunction(\n",
              "            'suggestCharts', [key], {});\n",
              "      } catch (error) {\n",
              "        console.error('Error during call to suggestCharts:', error);\n",
              "      }\n",
              "      quickchartButtonEl.classList.remove('colab-df-spinner');\n",
              "      quickchartButtonEl.classList.add('colab-df-quickchart-complete');\n",
              "    }\n",
              "    (() => {\n",
              "      let quickchartButtonEl =\n",
              "        document.querySelector('#df-3fabe3b7-c966-4e41-9931-1ccff050ffd3 button');\n",
              "      quickchartButtonEl.style.display =\n",
              "        google.colab.kernel.accessAllowed ? 'block' : 'none';\n",
              "    })();\n",
              "  </script>\n",
              "</div>\n",
              "    </div>\n",
              "  </div>\n"
            ]
          },
          "metadata": {},
          "execution_count": 76
        }
      ]
    },
    {
      "cell_type": "code",
      "source": [
        "user_places_ids = df_trips[df_trips.username_id == 7]['place_slug_id'].unique()\n",
        "user_places_ids"
      ],
      "metadata": {
        "colab": {
          "base_uri": "https://localhost:8080/"
        },
        "id": "STz4j8q5RxD1",
        "outputId": "be6dd771-ab69-49f8-b75c-915dd22b134d"
      },
      "execution_count": 77,
      "outputs": [
        {
          "output_type": "execute_result",
          "data": {
            "text/plain": [
              "array([167,  78, 191])"
            ]
          },
          "metadata": {},
          "execution_count": 77
        }
      ]
    },
    {
      "cell_type": "code",
      "source": [
        "matrix_places.shape"
      ],
      "metadata": {
        "colab": {
          "base_uri": "https://localhost:8080/"
        },
        "id": "a3HyOQaMa5jq",
        "outputId": "28544bcb-e74e-4913-956d-3eee24ea0c4b"
      },
      "execution_count": 78,
      "outputs": [
        {
          "output_type": "execute_result",
          "data": {
            "text/plain": [
              "(961, 5)"
            ]
          },
          "metadata": {},
          "execution_count": 78
        }
      ]
    },
    {
      "cell_type": "code",
      "source": [
        "matrix_places[user_places_ids].shape"
      ],
      "metadata": {
        "colab": {
          "base_uri": "https://localhost:8080/"
        },
        "id": "j_kcvx3ESB4o",
        "outputId": "a184ae61-09dd-4218-e443-d8026859fd07"
      },
      "execution_count": 79,
      "outputs": [
        {
          "output_type": "execute_result",
          "data": {
            "text/plain": [
              "(3, 5)"
            ]
          },
          "metadata": {},
          "execution_count": 79
        }
      ]
    },
    {
      "cell_type": "code",
      "source": [
        "user_vector_trips = np.mean(matrix_places[user_places_ids], axis=0)\n",
        "user_vector_trips"
      ],
      "metadata": {
        "colab": {
          "base_uri": "https://localhost:8080/"
        },
        "id": "3q_vSy86R4JG",
        "outputId": "eaef6061-d0cc-43a5-b4a1-15be473e3729"
      },
      "execution_count": 80,
      "outputs": [
        {
          "output_type": "execute_result",
          "data": {
            "text/plain": [
              "array([ 20.33792152, -13.08586169,  11.97776613,  25.2318614 ,\n",
              "        -0.55921509])"
            ]
          },
          "metadata": {},
          "execution_count": 80
        }
      ]
    },
    {
      "cell_type": "code",
      "source": [
        "user_vector_trips.reshape(1,5)"
      ],
      "metadata": {
        "colab": {
          "base_uri": "https://localhost:8080/"
        },
        "id": "anaKSPufbVhx",
        "outputId": "6ca4a845-a2ae-4db9-d01a-e9b87a6d73c6"
      },
      "execution_count": 81,
      "outputs": [
        {
          "output_type": "execute_result",
          "data": {
            "text/plain": [
              "array([[ 20.33792152, -13.08586169,  11.97776613,  25.2318614 ,\n",
              "         -0.55921509]])"
            ]
          },
          "metadata": {},
          "execution_count": 81
        }
      ]
    },
    {
      "cell_type": "code",
      "source": [
        "closest_for_user = cosine_distances(user_vector_trips.reshape(1,5), matrix_places)\n",
        "closest_for_user.shape"
      ],
      "metadata": {
        "colab": {
          "base_uri": "https://localhost:8080/"
        },
        "id": "RDF4LT3lR9FN",
        "outputId": "4d131105-f1d4-4ad5-9f49-5c4de46ac0c5"
      },
      "execution_count": 82,
      "outputs": [
        {
          "output_type": "execute_result",
          "data": {
            "text/plain": [
              "(1, 961)"
            ]
          },
          "metadata": {},
          "execution_count": 82
        }
      ]
    },
    {
      "cell_type": "code",
      "source": [
        "np.argsort(closest_for_user[0])[:10]"
      ],
      "metadata": {
        "colab": {
          "base_uri": "https://localhost:8080/"
        },
        "id": "j90ovuHubL5t",
        "outputId": "3fddb900-02cd-4285-a0d5-3cf6c27e9609"
      },
      "execution_count": 83,
      "outputs": [
        {
          "output_type": "execute_result",
          "data": {
            "text/plain": [
              "array([405, 589,  78, 159, 191, 652, 448, 845, 814,  77])"
            ]
          },
          "metadata": {},
          "execution_count": 83
        }
      ]
    },
    {
      "cell_type": "code",
      "source": [
        "le_place.inverse_transform(np.argsort(closest_for_user[0])[:10])"
      ],
      "metadata": {
        "colab": {
          "base_uri": "https://localhost:8080/"
        },
        "id": "p-jrPZaKbjj9",
        "outputId": "83ea6f72-6821-438e-e1d5-4ac04c2dbc1a"
      },
      "execution_count": 84,
      "outputs": [
        {
          "output_type": "execute_result",
          "data": {
            "text/plain": [
              "array(['jakarta-indonesia', 'mumbai-india', 'bangkok-thailand',\n",
              "       'cambodia', 'chiang-mai-thailand', 'pai-thailand',\n",
              "       'ko-lanta-thailand', 'taiwan', 'sofia-bulgaria', 'bangalore-india'],\n",
              "      dtype=object)"
            ]
          },
          "metadata": {},
          "execution_count": 84
        }
      ]
    },
    {
      "cell_type": "code",
      "source": [
        "def find_similar_user_places(u_id, num_similar):\n",
        "    # Get unique places visited by the user\n",
        "    user_places_ids = df_trips[df_trips.username_id == u_id]['place_slug_id'].unique()\n",
        "\n",
        "    # Compute the average vector representation for these places\n",
        "    user_vector = np.mean(matrix_places[user_places_ids], axis=0)\n",
        "\n",
        "    # Calculate the cosine distances between the user vector and all other places\n",
        "    distances = cosine_distances(user_vector.reshape(1, -1), matrix_places)\n",
        "\n",
        "    # Get the indices of the 'num_similar' closest places\n",
        "    closest_indices = np.argsort(distances[0])[:num_similar]\n",
        "\n",
        "    # Convert these indices back to place names\n",
        "    closest_places = le_place.inverse_transform(closest_indices)\n",
        "\n",
        "    return closest_places\n"
      ],
      "metadata": {
        "id": "DDPWqlZ_coPA"
      },
      "execution_count": 85,
      "outputs": []
    },
    {
      "cell_type": "code",
      "source": [],
      "metadata": {
        "id": "bDtfA8CtJSuw"
      },
      "execution_count": null,
      "outputs": []
    },
    {
      "cell_type": "markdown",
      "source": [
        "####**Question 5: How can geospatial information be used to improve the performance of a trip recommender system?**\n"
      ],
      "metadata": {
        "id": "j9DONUW5YngH"
      }
    },
    {
      "cell_type": "code",
      "source": [
        "suggestions_list = find_similar_user_places(7, 10).tolist()"
      ],
      "metadata": {
        "id": "MEYZHAhKgTi7"
      },
      "execution_count": 86,
      "outputs": []
    },
    {
      "cell_type": "code",
      "source": [
        "suggestions_list"
      ],
      "metadata": {
        "colab": {
          "base_uri": "https://localhost:8080/"
        },
        "id": "sHTtvKtR66Ec",
        "outputId": "f097d684-ba5b-47df-8487-52be88f288c6"
      },
      "execution_count": 87,
      "outputs": [
        {
          "output_type": "execute_result",
          "data": {
            "text/plain": [
              "['jakarta-indonesia',\n",
              " 'mumbai-india',\n",
              " 'bangkok-thailand',\n",
              " 'cambodia',\n",
              " 'chiang-mai-thailand',\n",
              " 'pai-thailand',\n",
              " 'ko-lanta-thailand',\n",
              " 'taiwan',\n",
              " 'sofia-bulgaria',\n",
              " 'bangalore-india']"
            ]
          },
          "metadata": {},
          "execution_count": 87
        }
      ]
    },
    {
      "cell_type": "code",
      "source": [
        "df_trips.head()"
      ],
      "metadata": {
        "colab": {
          "base_uri": "https://localhost:8080/",
          "height": 330
        },
        "id": "uFefcFbj2b4y",
        "outputId": "66c3bd71-eaff-4d3d-c108-a9ecb51a6561"
      },
      "execution_count": 88,
      "outputs": [
        {
          "output_type": "execute_result",
          "data": {
            "text/plain": [
              "   Unnamed: 0          username country country_code country_slug   date_end  \\\n",
              "0           0  @lewellenmichael  Mexico           MX       mexico 2018-06-15   \n",
              "1           1  @lewellenmichael  Mexico           MX       mexico 2018-06-03   \n",
              "2           2  @lewellenmichael  Mexico           MX       mexico 2017-11-05   \n",
              "3           3  @lewellenmichael  Jordan           JO       jordan 2017-08-07   \n",
              "4           4      @waylandchin   China           CN        china 2017-03-18   \n",
              "\n",
              "  date_start  latitude  longitude        place          place_slug  \\\n",
              "0 2018-06-04      21.0     -101.0   Guanajuato              mexico   \n",
              "1 2018-05-31      19.0      -99.0  Mexico City  mexico-city-mexico   \n",
              "2 2017-11-01      21.0      -86.0       Cancun       cancun-mexico   \n",
              "3 2017-07-24      31.0       35.0        Amman        amman-jordan   \n",
              "4 2017-02-17      40.0      122.0      Yingkou               china   \n",
              "\n",
              "   duration_of_stay  username_id  place_slug_id  \n",
              "0              11.0         1512            563  \n",
              "1               3.0         1512            564  \n",
              "2               4.0         1512            166  \n",
              "3              14.0         1512             32  \n",
              "4              29.0         2742            196  "
            ],
            "text/html": [
              "\n",
              "  <div id=\"df-4dc6a7fb-3246-4ef5-b6f7-15e0c31c7013\" class=\"colab-df-container\">\n",
              "    <div>\n",
              "<style scoped>\n",
              "    .dataframe tbody tr th:only-of-type {\n",
              "        vertical-align: middle;\n",
              "    }\n",
              "\n",
              "    .dataframe tbody tr th {\n",
              "        vertical-align: top;\n",
              "    }\n",
              "\n",
              "    .dataframe thead th {\n",
              "        text-align: right;\n",
              "    }\n",
              "</style>\n",
              "<table border=\"1\" class=\"dataframe\">\n",
              "  <thead>\n",
              "    <tr style=\"text-align: right;\">\n",
              "      <th></th>\n",
              "      <th>Unnamed: 0</th>\n",
              "      <th>username</th>\n",
              "      <th>country</th>\n",
              "      <th>country_code</th>\n",
              "      <th>country_slug</th>\n",
              "      <th>date_end</th>\n",
              "      <th>date_start</th>\n",
              "      <th>latitude</th>\n",
              "      <th>longitude</th>\n",
              "      <th>place</th>\n",
              "      <th>place_slug</th>\n",
              "      <th>duration_of_stay</th>\n",
              "      <th>username_id</th>\n",
              "      <th>place_slug_id</th>\n",
              "    </tr>\n",
              "  </thead>\n",
              "  <tbody>\n",
              "    <tr>\n",
              "      <th>0</th>\n",
              "      <td>0</td>\n",
              "      <td>@lewellenmichael</td>\n",
              "      <td>Mexico</td>\n",
              "      <td>MX</td>\n",
              "      <td>mexico</td>\n",
              "      <td>2018-06-15</td>\n",
              "      <td>2018-06-04</td>\n",
              "      <td>21.0</td>\n",
              "      <td>-101.0</td>\n",
              "      <td>Guanajuato</td>\n",
              "      <td>mexico</td>\n",
              "      <td>11.0</td>\n",
              "      <td>1512</td>\n",
              "      <td>563</td>\n",
              "    </tr>\n",
              "    <tr>\n",
              "      <th>1</th>\n",
              "      <td>1</td>\n",
              "      <td>@lewellenmichael</td>\n",
              "      <td>Mexico</td>\n",
              "      <td>MX</td>\n",
              "      <td>mexico</td>\n",
              "      <td>2018-06-03</td>\n",
              "      <td>2018-05-31</td>\n",
              "      <td>19.0</td>\n",
              "      <td>-99.0</td>\n",
              "      <td>Mexico City</td>\n",
              "      <td>mexico-city-mexico</td>\n",
              "      <td>3.0</td>\n",
              "      <td>1512</td>\n",
              "      <td>564</td>\n",
              "    </tr>\n",
              "    <tr>\n",
              "      <th>2</th>\n",
              "      <td>2</td>\n",
              "      <td>@lewellenmichael</td>\n",
              "      <td>Mexico</td>\n",
              "      <td>MX</td>\n",
              "      <td>mexico</td>\n",
              "      <td>2017-11-05</td>\n",
              "      <td>2017-11-01</td>\n",
              "      <td>21.0</td>\n",
              "      <td>-86.0</td>\n",
              "      <td>Cancun</td>\n",
              "      <td>cancun-mexico</td>\n",
              "      <td>4.0</td>\n",
              "      <td>1512</td>\n",
              "      <td>166</td>\n",
              "    </tr>\n",
              "    <tr>\n",
              "      <th>3</th>\n",
              "      <td>3</td>\n",
              "      <td>@lewellenmichael</td>\n",
              "      <td>Jordan</td>\n",
              "      <td>JO</td>\n",
              "      <td>jordan</td>\n",
              "      <td>2017-08-07</td>\n",
              "      <td>2017-07-24</td>\n",
              "      <td>31.0</td>\n",
              "      <td>35.0</td>\n",
              "      <td>Amman</td>\n",
              "      <td>amman-jordan</td>\n",
              "      <td>14.0</td>\n",
              "      <td>1512</td>\n",
              "      <td>32</td>\n",
              "    </tr>\n",
              "    <tr>\n",
              "      <th>4</th>\n",
              "      <td>4</td>\n",
              "      <td>@waylandchin</td>\n",
              "      <td>China</td>\n",
              "      <td>CN</td>\n",
              "      <td>china</td>\n",
              "      <td>2017-03-18</td>\n",
              "      <td>2017-02-17</td>\n",
              "      <td>40.0</td>\n",
              "      <td>122.0</td>\n",
              "      <td>Yingkou</td>\n",
              "      <td>china</td>\n",
              "      <td>29.0</td>\n",
              "      <td>2742</td>\n",
              "      <td>196</td>\n",
              "    </tr>\n",
              "  </tbody>\n",
              "</table>\n",
              "</div>\n",
              "    <div class=\"colab-df-buttons\">\n",
              "\n",
              "  <div class=\"colab-df-container\">\n",
              "    <button class=\"colab-df-convert\" onclick=\"convertToInteractive('df-4dc6a7fb-3246-4ef5-b6f7-15e0c31c7013')\"\n",
              "            title=\"Convert this dataframe to an interactive table.\"\n",
              "            style=\"display:none;\">\n",
              "\n",
              "  <svg xmlns=\"http://www.w3.org/2000/svg\" height=\"24px\" viewBox=\"0 -960 960 960\">\n",
              "    <path d=\"M120-120v-720h720v720H120Zm60-500h600v-160H180v160Zm220 220h160v-160H400v160Zm0 220h160v-160H400v160ZM180-400h160v-160H180v160Zm440 0h160v-160H620v160ZM180-180h160v-160H180v160Zm440 0h160v-160H620v160Z\"/>\n",
              "  </svg>\n",
              "    </button>\n",
              "\n",
              "  <style>\n",
              "    .colab-df-container {\n",
              "      display:flex;\n",
              "      gap: 12px;\n",
              "    }\n",
              "\n",
              "    .colab-df-convert {\n",
              "      background-color: #E8F0FE;\n",
              "      border: none;\n",
              "      border-radius: 50%;\n",
              "      cursor: pointer;\n",
              "      display: none;\n",
              "      fill: #1967D2;\n",
              "      height: 32px;\n",
              "      padding: 0 0 0 0;\n",
              "      width: 32px;\n",
              "    }\n",
              "\n",
              "    .colab-df-convert:hover {\n",
              "      background-color: #E2EBFA;\n",
              "      box-shadow: 0px 1px 2px rgba(60, 64, 67, 0.3), 0px 1px 3px 1px rgba(60, 64, 67, 0.15);\n",
              "      fill: #174EA6;\n",
              "    }\n",
              "\n",
              "    .colab-df-buttons div {\n",
              "      margin-bottom: 4px;\n",
              "    }\n",
              "\n",
              "    [theme=dark] .colab-df-convert {\n",
              "      background-color: #3B4455;\n",
              "      fill: #D2E3FC;\n",
              "    }\n",
              "\n",
              "    [theme=dark] .colab-df-convert:hover {\n",
              "      background-color: #434B5C;\n",
              "      box-shadow: 0px 1px 3px 1px rgba(0, 0, 0, 0.15);\n",
              "      filter: drop-shadow(0px 1px 2px rgba(0, 0, 0, 0.3));\n",
              "      fill: #FFFFFF;\n",
              "    }\n",
              "  </style>\n",
              "\n",
              "    <script>\n",
              "      const buttonEl =\n",
              "        document.querySelector('#df-4dc6a7fb-3246-4ef5-b6f7-15e0c31c7013 button.colab-df-convert');\n",
              "      buttonEl.style.display =\n",
              "        google.colab.kernel.accessAllowed ? 'block' : 'none';\n",
              "\n",
              "      async function convertToInteractive(key) {\n",
              "        const element = document.querySelector('#df-4dc6a7fb-3246-4ef5-b6f7-15e0c31c7013');\n",
              "        const dataTable =\n",
              "          await google.colab.kernel.invokeFunction('convertToInteractive',\n",
              "                                                    [key], {});\n",
              "        if (!dataTable) return;\n",
              "\n",
              "        const docLinkHtml = 'Like what you see? Visit the ' +\n",
              "          '<a target=\"_blank\" href=https://colab.research.google.com/notebooks/data_table.ipynb>data table notebook</a>'\n",
              "          + ' to learn more about interactive tables.';\n",
              "        element.innerHTML = '';\n",
              "        dataTable['output_type'] = 'display_data';\n",
              "        await google.colab.output.renderOutput(dataTable, element);\n",
              "        const docLink = document.createElement('div');\n",
              "        docLink.innerHTML = docLinkHtml;\n",
              "        element.appendChild(docLink);\n",
              "      }\n",
              "    </script>\n",
              "  </div>\n",
              "\n",
              "\n",
              "<div id=\"df-f923affa-65fc-41b8-9a17-51e356f09a5c\">\n",
              "  <button class=\"colab-df-quickchart\" onclick=\"quickchart('df-f923affa-65fc-41b8-9a17-51e356f09a5c')\"\n",
              "            title=\"Suggest charts.\"\n",
              "            style=\"display:none;\">\n",
              "\n",
              "<svg xmlns=\"http://www.w3.org/2000/svg\" height=\"24px\"viewBox=\"0 0 24 24\"\n",
              "     width=\"24px\">\n",
              "    <g>\n",
              "        <path d=\"M19 3H5c-1.1 0-2 .9-2 2v14c0 1.1.9 2 2 2h14c1.1 0 2-.9 2-2V5c0-1.1-.9-2-2-2zM9 17H7v-7h2v7zm4 0h-2V7h2v10zm4 0h-2v-4h2v4z\"/>\n",
              "    </g>\n",
              "</svg>\n",
              "  </button>\n",
              "\n",
              "<style>\n",
              "  .colab-df-quickchart {\n",
              "      --bg-color: #E8F0FE;\n",
              "      --fill-color: #1967D2;\n",
              "      --hover-bg-color: #E2EBFA;\n",
              "      --hover-fill-color: #174EA6;\n",
              "      --disabled-fill-color: #AAA;\n",
              "      --disabled-bg-color: #DDD;\n",
              "  }\n",
              "\n",
              "  [theme=dark] .colab-df-quickchart {\n",
              "      --bg-color: #3B4455;\n",
              "      --fill-color: #D2E3FC;\n",
              "      --hover-bg-color: #434B5C;\n",
              "      --hover-fill-color: #FFFFFF;\n",
              "      --disabled-bg-color: #3B4455;\n",
              "      --disabled-fill-color: #666;\n",
              "  }\n",
              "\n",
              "  .colab-df-quickchart {\n",
              "    background-color: var(--bg-color);\n",
              "    border: none;\n",
              "    border-radius: 50%;\n",
              "    cursor: pointer;\n",
              "    display: none;\n",
              "    fill: var(--fill-color);\n",
              "    height: 32px;\n",
              "    padding: 0;\n",
              "    width: 32px;\n",
              "  }\n",
              "\n",
              "  .colab-df-quickchart:hover {\n",
              "    background-color: var(--hover-bg-color);\n",
              "    box-shadow: 0 1px 2px rgba(60, 64, 67, 0.3), 0 1px 3px 1px rgba(60, 64, 67, 0.15);\n",
              "    fill: var(--button-hover-fill-color);\n",
              "  }\n",
              "\n",
              "  .colab-df-quickchart-complete:disabled,\n",
              "  .colab-df-quickchart-complete:disabled:hover {\n",
              "    background-color: var(--disabled-bg-color);\n",
              "    fill: var(--disabled-fill-color);\n",
              "    box-shadow: none;\n",
              "  }\n",
              "\n",
              "  .colab-df-spinner {\n",
              "    border: 2px solid var(--fill-color);\n",
              "    border-color: transparent;\n",
              "    border-bottom-color: var(--fill-color);\n",
              "    animation:\n",
              "      spin 1s steps(1) infinite;\n",
              "  }\n",
              "\n",
              "  @keyframes spin {\n",
              "    0% {\n",
              "      border-color: transparent;\n",
              "      border-bottom-color: var(--fill-color);\n",
              "      border-left-color: var(--fill-color);\n",
              "    }\n",
              "    20% {\n",
              "      border-color: transparent;\n",
              "      border-left-color: var(--fill-color);\n",
              "      border-top-color: var(--fill-color);\n",
              "    }\n",
              "    30% {\n",
              "      border-color: transparent;\n",
              "      border-left-color: var(--fill-color);\n",
              "      border-top-color: var(--fill-color);\n",
              "      border-right-color: var(--fill-color);\n",
              "    }\n",
              "    40% {\n",
              "      border-color: transparent;\n",
              "      border-right-color: var(--fill-color);\n",
              "      border-top-color: var(--fill-color);\n",
              "    }\n",
              "    60% {\n",
              "      border-color: transparent;\n",
              "      border-right-color: var(--fill-color);\n",
              "    }\n",
              "    80% {\n",
              "      border-color: transparent;\n",
              "      border-right-color: var(--fill-color);\n",
              "      border-bottom-color: var(--fill-color);\n",
              "    }\n",
              "    90% {\n",
              "      border-color: transparent;\n",
              "      border-bottom-color: var(--fill-color);\n",
              "    }\n",
              "  }\n",
              "</style>\n",
              "\n",
              "  <script>\n",
              "    async function quickchart(key) {\n",
              "      const quickchartButtonEl =\n",
              "        document.querySelector('#' + key + ' button');\n",
              "      quickchartButtonEl.disabled = true;  // To prevent multiple clicks.\n",
              "      quickchartButtonEl.classList.add('colab-df-spinner');\n",
              "      try {\n",
              "        const charts = await google.colab.kernel.invokeFunction(\n",
              "            'suggestCharts', [key], {});\n",
              "      } catch (error) {\n",
              "        console.error('Error during call to suggestCharts:', error);\n",
              "      }\n",
              "      quickchartButtonEl.classList.remove('colab-df-spinner');\n",
              "      quickchartButtonEl.classList.add('colab-df-quickchart-complete');\n",
              "    }\n",
              "    (() => {\n",
              "      let quickchartButtonEl =\n",
              "        document.querySelector('#df-f923affa-65fc-41b8-9a17-51e356f09a5c button');\n",
              "      quickchartButtonEl.style.display =\n",
              "        google.colab.kernel.accessAllowed ? 'block' : 'none';\n",
              "    })();\n",
              "  </script>\n",
              "</div>\n",
              "    </div>\n",
              "  </div>\n"
            ]
          },
          "metadata": {},
          "execution_count": 88
        }
      ]
    },
    {
      "cell_type": "code",
      "source": [
        "import geopandas as gpd\n",
        "from shapely.geometry import Point\n",
        "\n",
        "# Create a GeoDataFrame from the filtered DataFrame\n",
        "geometry = [Point(xy) for xy in zip(df_trips['longitude'], df_trips['latitude'])]\n",
        "geo_df = gpd.GeoDataFrame(df_trips, geometry=geometry)\n",
        "\n",
        "# Set the initial CRS to WGS84 (the CRS for latitude/longitude)\n",
        "geo_df.crs = \"EPSG:4326\"\n",
        "\n",
        "# Convert to a Projected Coordinate System (UTM)\n",
        "# Automatically choosing the UTM zone based on the data\n",
        "geo_df_utm = geo_df.to_crs(epsg=32633)\n",
        "\n",
        "geo_df_utm.head()\n"
      ],
      "metadata": {
        "colab": {
          "base_uri": "https://localhost:8080/",
          "height": 417
        },
        "id": "dcsYfgbK2eJE",
        "outputId": "13f6a12b-68f1-41a6-83e3-4e50cc68d502"
      },
      "execution_count": 89,
      "outputs": [
        {
          "output_type": "execute_result",
          "data": {
            "text/plain": [
              "   Unnamed: 0          username country country_code country_slug   date_end  \\\n",
              "0           0  @lewellenmichael  Mexico           MX       mexico 2018-06-15   \n",
              "1           1  @lewellenmichael  Mexico           MX       mexico 2018-06-03   \n",
              "2           2  @lewellenmichael  Mexico           MX       mexico 2017-11-05   \n",
              "3           3  @lewellenmichael  Jordan           JO       jordan 2017-08-07   \n",
              "4           4      @waylandchin   China           CN        china 2017-03-18   \n",
              "\n",
              "  date_start  latitude  longitude        place          place_slug  \\\n",
              "0 2018-06-04      21.0     -101.0   Guanajuato              mexico   \n",
              "1 2018-05-31      19.0      -99.0  Mexico City  mexico-city-mexico   \n",
              "2 2017-11-01      21.0      -86.0       Cancun       cancun-mexico   \n",
              "3 2017-07-24      31.0       35.0        Amman        amman-jordan   \n",
              "4 2017-02-17      40.0      122.0      Yingkou               china   \n",
              "\n",
              "   duration_of_stay  username_id  place_slug_id  \\\n",
              "0              11.0         1512            563   \n",
              "1               3.0         1512            564   \n",
              "2               4.0         1512            166   \n",
              "3              14.0         1512             32   \n",
              "4              29.0         2742            196   \n",
              "\n",
              "                            geometry  \n",
              "0  POINT (-7272583.880 15408807.746)  \n",
              "1  POINT (-7846615.343 15509244.452)  \n",
              "2  POINT (-9463174.560 12902912.786)  \n",
              "3    POINT (2427460.642 3607388.444)  \n",
              "4   POINT (6461116.216 12134261.666)  "
            ],
            "text/html": [
              "\n",
              "  <div id=\"df-953f9f0c-4006-495d-8aeb-27c3f9b6ccad\" class=\"colab-df-container\">\n",
              "    <div>\n",
              "<style scoped>\n",
              "    .dataframe tbody tr th:only-of-type {\n",
              "        vertical-align: middle;\n",
              "    }\n",
              "\n",
              "    .dataframe tbody tr th {\n",
              "        vertical-align: top;\n",
              "    }\n",
              "\n",
              "    .dataframe thead th {\n",
              "        text-align: right;\n",
              "    }\n",
              "</style>\n",
              "<table border=\"1\" class=\"dataframe\">\n",
              "  <thead>\n",
              "    <tr style=\"text-align: right;\">\n",
              "      <th></th>\n",
              "      <th>Unnamed: 0</th>\n",
              "      <th>username</th>\n",
              "      <th>country</th>\n",
              "      <th>country_code</th>\n",
              "      <th>country_slug</th>\n",
              "      <th>date_end</th>\n",
              "      <th>date_start</th>\n",
              "      <th>latitude</th>\n",
              "      <th>longitude</th>\n",
              "      <th>place</th>\n",
              "      <th>place_slug</th>\n",
              "      <th>duration_of_stay</th>\n",
              "      <th>username_id</th>\n",
              "      <th>place_slug_id</th>\n",
              "      <th>geometry</th>\n",
              "    </tr>\n",
              "  </thead>\n",
              "  <tbody>\n",
              "    <tr>\n",
              "      <th>0</th>\n",
              "      <td>0</td>\n",
              "      <td>@lewellenmichael</td>\n",
              "      <td>Mexico</td>\n",
              "      <td>MX</td>\n",
              "      <td>mexico</td>\n",
              "      <td>2018-06-15</td>\n",
              "      <td>2018-06-04</td>\n",
              "      <td>21.0</td>\n",
              "      <td>-101.0</td>\n",
              "      <td>Guanajuato</td>\n",
              "      <td>mexico</td>\n",
              "      <td>11.0</td>\n",
              "      <td>1512</td>\n",
              "      <td>563</td>\n",
              "      <td>POINT (-7272583.880 15408807.746)</td>\n",
              "    </tr>\n",
              "    <tr>\n",
              "      <th>1</th>\n",
              "      <td>1</td>\n",
              "      <td>@lewellenmichael</td>\n",
              "      <td>Mexico</td>\n",
              "      <td>MX</td>\n",
              "      <td>mexico</td>\n",
              "      <td>2018-06-03</td>\n",
              "      <td>2018-05-31</td>\n",
              "      <td>19.0</td>\n",
              "      <td>-99.0</td>\n",
              "      <td>Mexico City</td>\n",
              "      <td>mexico-city-mexico</td>\n",
              "      <td>3.0</td>\n",
              "      <td>1512</td>\n",
              "      <td>564</td>\n",
              "      <td>POINT (-7846615.343 15509244.452)</td>\n",
              "    </tr>\n",
              "    <tr>\n",
              "      <th>2</th>\n",
              "      <td>2</td>\n",
              "      <td>@lewellenmichael</td>\n",
              "      <td>Mexico</td>\n",
              "      <td>MX</td>\n",
              "      <td>mexico</td>\n",
              "      <td>2017-11-05</td>\n",
              "      <td>2017-11-01</td>\n",
              "      <td>21.0</td>\n",
              "      <td>-86.0</td>\n",
              "      <td>Cancun</td>\n",
              "      <td>cancun-mexico</td>\n",
              "      <td>4.0</td>\n",
              "      <td>1512</td>\n",
              "      <td>166</td>\n",
              "      <td>POINT (-9463174.560 12902912.786)</td>\n",
              "    </tr>\n",
              "    <tr>\n",
              "      <th>3</th>\n",
              "      <td>3</td>\n",
              "      <td>@lewellenmichael</td>\n",
              "      <td>Jordan</td>\n",
              "      <td>JO</td>\n",
              "      <td>jordan</td>\n",
              "      <td>2017-08-07</td>\n",
              "      <td>2017-07-24</td>\n",
              "      <td>31.0</td>\n",
              "      <td>35.0</td>\n",
              "      <td>Amman</td>\n",
              "      <td>amman-jordan</td>\n",
              "      <td>14.0</td>\n",
              "      <td>1512</td>\n",
              "      <td>32</td>\n",
              "      <td>POINT (2427460.642 3607388.444)</td>\n",
              "    </tr>\n",
              "    <tr>\n",
              "      <th>4</th>\n",
              "      <td>4</td>\n",
              "      <td>@waylandchin</td>\n",
              "      <td>China</td>\n",
              "      <td>CN</td>\n",
              "      <td>china</td>\n",
              "      <td>2017-03-18</td>\n",
              "      <td>2017-02-17</td>\n",
              "      <td>40.0</td>\n",
              "      <td>122.0</td>\n",
              "      <td>Yingkou</td>\n",
              "      <td>china</td>\n",
              "      <td>29.0</td>\n",
              "      <td>2742</td>\n",
              "      <td>196</td>\n",
              "      <td>POINT (6461116.216 12134261.666)</td>\n",
              "    </tr>\n",
              "  </tbody>\n",
              "</table>\n",
              "</div>\n",
              "    <div class=\"colab-df-buttons\">\n",
              "\n",
              "  <div class=\"colab-df-container\">\n",
              "    <button class=\"colab-df-convert\" onclick=\"convertToInteractive('df-953f9f0c-4006-495d-8aeb-27c3f9b6ccad')\"\n",
              "            title=\"Convert this dataframe to an interactive table.\"\n",
              "            style=\"display:none;\">\n",
              "\n",
              "  <svg xmlns=\"http://www.w3.org/2000/svg\" height=\"24px\" viewBox=\"0 -960 960 960\">\n",
              "    <path d=\"M120-120v-720h720v720H120Zm60-500h600v-160H180v160Zm220 220h160v-160H400v160Zm0 220h160v-160H400v160ZM180-400h160v-160H180v160Zm440 0h160v-160H620v160ZM180-180h160v-160H180v160Zm440 0h160v-160H620v160Z\"/>\n",
              "  </svg>\n",
              "    </button>\n",
              "\n",
              "  <style>\n",
              "    .colab-df-container {\n",
              "      display:flex;\n",
              "      gap: 12px;\n",
              "    }\n",
              "\n",
              "    .colab-df-convert {\n",
              "      background-color: #E8F0FE;\n",
              "      border: none;\n",
              "      border-radius: 50%;\n",
              "      cursor: pointer;\n",
              "      display: none;\n",
              "      fill: #1967D2;\n",
              "      height: 32px;\n",
              "      padding: 0 0 0 0;\n",
              "      width: 32px;\n",
              "    }\n",
              "\n",
              "    .colab-df-convert:hover {\n",
              "      background-color: #E2EBFA;\n",
              "      box-shadow: 0px 1px 2px rgba(60, 64, 67, 0.3), 0px 1px 3px 1px rgba(60, 64, 67, 0.15);\n",
              "      fill: #174EA6;\n",
              "    }\n",
              "\n",
              "    .colab-df-buttons div {\n",
              "      margin-bottom: 4px;\n",
              "    }\n",
              "\n",
              "    [theme=dark] .colab-df-convert {\n",
              "      background-color: #3B4455;\n",
              "      fill: #D2E3FC;\n",
              "    }\n",
              "\n",
              "    [theme=dark] .colab-df-convert:hover {\n",
              "      background-color: #434B5C;\n",
              "      box-shadow: 0px 1px 3px 1px rgba(0, 0, 0, 0.15);\n",
              "      filter: drop-shadow(0px 1px 2px rgba(0, 0, 0, 0.3));\n",
              "      fill: #FFFFFF;\n",
              "    }\n",
              "  </style>\n",
              "\n",
              "    <script>\n",
              "      const buttonEl =\n",
              "        document.querySelector('#df-953f9f0c-4006-495d-8aeb-27c3f9b6ccad button.colab-df-convert');\n",
              "      buttonEl.style.display =\n",
              "        google.colab.kernel.accessAllowed ? 'block' : 'none';\n",
              "\n",
              "      async function convertToInteractive(key) {\n",
              "        const element = document.querySelector('#df-953f9f0c-4006-495d-8aeb-27c3f9b6ccad');\n",
              "        const dataTable =\n",
              "          await google.colab.kernel.invokeFunction('convertToInteractive',\n",
              "                                                    [key], {});\n",
              "        if (!dataTable) return;\n",
              "\n",
              "        const docLinkHtml = 'Like what you see? Visit the ' +\n",
              "          '<a target=\"_blank\" href=https://colab.research.google.com/notebooks/data_table.ipynb>data table notebook</a>'\n",
              "          + ' to learn more about interactive tables.';\n",
              "        element.innerHTML = '';\n",
              "        dataTable['output_type'] = 'display_data';\n",
              "        await google.colab.output.renderOutput(dataTable, element);\n",
              "        const docLink = document.createElement('div');\n",
              "        docLink.innerHTML = docLinkHtml;\n",
              "        element.appendChild(docLink);\n",
              "      }\n",
              "    </script>\n",
              "  </div>\n",
              "\n",
              "\n",
              "<div id=\"df-184a3fd3-d142-4a72-accc-f7c9fc59d1aa\">\n",
              "  <button class=\"colab-df-quickchart\" onclick=\"quickchart('df-184a3fd3-d142-4a72-accc-f7c9fc59d1aa')\"\n",
              "            title=\"Suggest charts.\"\n",
              "            style=\"display:none;\">\n",
              "\n",
              "<svg xmlns=\"http://www.w3.org/2000/svg\" height=\"24px\"viewBox=\"0 0 24 24\"\n",
              "     width=\"24px\">\n",
              "    <g>\n",
              "        <path d=\"M19 3H5c-1.1 0-2 .9-2 2v14c0 1.1.9 2 2 2h14c1.1 0 2-.9 2-2V5c0-1.1-.9-2-2-2zM9 17H7v-7h2v7zm4 0h-2V7h2v10zm4 0h-2v-4h2v4z\"/>\n",
              "    </g>\n",
              "</svg>\n",
              "  </button>\n",
              "\n",
              "<style>\n",
              "  .colab-df-quickchart {\n",
              "      --bg-color: #E8F0FE;\n",
              "      --fill-color: #1967D2;\n",
              "      --hover-bg-color: #E2EBFA;\n",
              "      --hover-fill-color: #174EA6;\n",
              "      --disabled-fill-color: #AAA;\n",
              "      --disabled-bg-color: #DDD;\n",
              "  }\n",
              "\n",
              "  [theme=dark] .colab-df-quickchart {\n",
              "      --bg-color: #3B4455;\n",
              "      --fill-color: #D2E3FC;\n",
              "      --hover-bg-color: #434B5C;\n",
              "      --hover-fill-color: #FFFFFF;\n",
              "      --disabled-bg-color: #3B4455;\n",
              "      --disabled-fill-color: #666;\n",
              "  }\n",
              "\n",
              "  .colab-df-quickchart {\n",
              "    background-color: var(--bg-color);\n",
              "    border: none;\n",
              "    border-radius: 50%;\n",
              "    cursor: pointer;\n",
              "    display: none;\n",
              "    fill: var(--fill-color);\n",
              "    height: 32px;\n",
              "    padding: 0;\n",
              "    width: 32px;\n",
              "  }\n",
              "\n",
              "  .colab-df-quickchart:hover {\n",
              "    background-color: var(--hover-bg-color);\n",
              "    box-shadow: 0 1px 2px rgba(60, 64, 67, 0.3), 0 1px 3px 1px rgba(60, 64, 67, 0.15);\n",
              "    fill: var(--button-hover-fill-color);\n",
              "  }\n",
              "\n",
              "  .colab-df-quickchart-complete:disabled,\n",
              "  .colab-df-quickchart-complete:disabled:hover {\n",
              "    background-color: var(--disabled-bg-color);\n",
              "    fill: var(--disabled-fill-color);\n",
              "    box-shadow: none;\n",
              "  }\n",
              "\n",
              "  .colab-df-spinner {\n",
              "    border: 2px solid var(--fill-color);\n",
              "    border-color: transparent;\n",
              "    border-bottom-color: var(--fill-color);\n",
              "    animation:\n",
              "      spin 1s steps(1) infinite;\n",
              "  }\n",
              "\n",
              "  @keyframes spin {\n",
              "    0% {\n",
              "      border-color: transparent;\n",
              "      border-bottom-color: var(--fill-color);\n",
              "      border-left-color: var(--fill-color);\n",
              "    }\n",
              "    20% {\n",
              "      border-color: transparent;\n",
              "      border-left-color: var(--fill-color);\n",
              "      border-top-color: var(--fill-color);\n",
              "    }\n",
              "    30% {\n",
              "      border-color: transparent;\n",
              "      border-left-color: var(--fill-color);\n",
              "      border-top-color: var(--fill-color);\n",
              "      border-right-color: var(--fill-color);\n",
              "    }\n",
              "    40% {\n",
              "      border-color: transparent;\n",
              "      border-right-color: var(--fill-color);\n",
              "      border-top-color: var(--fill-color);\n",
              "    }\n",
              "    60% {\n",
              "      border-color: transparent;\n",
              "      border-right-color: var(--fill-color);\n",
              "    }\n",
              "    80% {\n",
              "      border-color: transparent;\n",
              "      border-right-color: var(--fill-color);\n",
              "      border-bottom-color: var(--fill-color);\n",
              "    }\n",
              "    90% {\n",
              "      border-color: transparent;\n",
              "      border-bottom-color: var(--fill-color);\n",
              "    }\n",
              "  }\n",
              "</style>\n",
              "\n",
              "  <script>\n",
              "    async function quickchart(key) {\n",
              "      const quickchartButtonEl =\n",
              "        document.querySelector('#' + key + ' button');\n",
              "      quickchartButtonEl.disabled = true;  // To prevent multiple clicks.\n",
              "      quickchartButtonEl.classList.add('colab-df-spinner');\n",
              "      try {\n",
              "        const charts = await google.colab.kernel.invokeFunction(\n",
              "            'suggestCharts', [key], {});\n",
              "      } catch (error) {\n",
              "        console.error('Error during call to suggestCharts:', error);\n",
              "      }\n",
              "      quickchartButtonEl.classList.remove('colab-df-spinner');\n",
              "      quickchartButtonEl.classList.add('colab-df-quickchart-complete');\n",
              "    }\n",
              "    (() => {\n",
              "      let quickchartButtonEl =\n",
              "        document.querySelector('#df-184a3fd3-d142-4a72-accc-f7c9fc59d1aa button');\n",
              "      quickchartButtonEl.style.display =\n",
              "        google.colab.kernel.accessAllowed ? 'block' : 'none';\n",
              "    })();\n",
              "  </script>\n",
              "</div>\n",
              "    </div>\n",
              "  </div>\n"
            ]
          },
          "metadata": {},
          "execution_count": 89
        }
      ]
    },
    {
      "cell_type": "code",
      "source": [
        "geo_df_utm.shape"
      ],
      "metadata": {
        "colab": {
          "base_uri": "https://localhost:8080/"
        },
        "id": "z2eL37-u6riN",
        "outputId": "32690989-e289-45f2-9ac4-b416f9ac9af1"
      },
      "execution_count": 90,
      "outputs": [
        {
          "output_type": "execute_result",
          "data": {
            "text/plain": [
              "(46510, 15)"
            ]
          },
          "metadata": {},
          "execution_count": 90
        }
      ]
    },
    {
      "cell_type": "code",
      "source": [
        "geo_df_utm_final = geo_df_utm[geo_df_utm.place_slug.isin(suggestions_list)].drop_duplicates('geometry')"
      ],
      "metadata": {
        "id": "hM17C73-7MYA"
      },
      "execution_count": 91,
      "outputs": []
    },
    {
      "cell_type": "code",
      "source": [
        "!pip install mapclassify --q"
      ],
      "metadata": {
        "id": "DOtBH5FlGKVi"
      },
      "execution_count": 92,
      "outputs": []
    },
    {
      "cell_type": "code",
      "source": [
        "geo_df_utm_final['geometry'].plot()"
      ],
      "metadata": {
        "colab": {
          "base_uri": "https://localhost:8080/",
          "height": 471
        },
        "id": "QJO5LuXNGTwo",
        "outputId": "14a0f073-1ff2-4964-b44d-9637f01f3641"
      },
      "execution_count": 93,
      "outputs": [
        {
          "output_type": "execute_result",
          "data": {
            "text/plain": [
              "<Axes: >"
            ]
          },
          "metadata": {},
          "execution_count": 93
        },
        {
          "output_type": "display_data",
          "data": {
            "text/plain": [
              "<Figure size 640x480 with 1 Axes>"
            ],
            "image/png": "[encoded data removed]"
          },
          "metadata": {}
        }
      ]
    },
    {
      "cell_type": "code",
      "source": [
        "# Create a dictionary to store distances in the Projected Coordinate System (PCS)\n",
        "pcs_distance_dict = {}\n",
        "\n",
        "# Calculate distances for each pair of places using the built-in distance function in GeoPandas\n",
        "for i, row1 in geo_df_utm_final.iterrows():\n",
        "    for j, row2 in geo_df_utm_final.iterrows():\n",
        "        if i < j:\n",
        "            place1 = row1['place_slug']\n",
        "            place2 = row2['place_slug']\n",
        "\n",
        "            # Calculate distance in meters using the built-in distance function\n",
        "            distance_meters = row1['geometry'].distance(row2['geometry'])\n",
        "\n",
        "            # Convert distance to kilometers\n",
        "            distance_km = distance_meters / 1000\n",
        "\n",
        "            # Store the calculated distance\n",
        "            pcs_distance_dict[f\"{place1} to {place2}\"] = round(distance_km, 2)\n",
        "\n",
        "pcs_distance_dict"
      ],
      "metadata": {
        "colab": {
          "base_uri": "https://localhost:8080/"
        },
        "id": "58ikXhmM5mkm",
        "outputId": "e4298154-1004-428b-927d-0848164e8f74"
      },
      "execution_count": 94,
      "outputs": [
        {
          "output_type": "execute_result",
          "data": {
            "text/plain": [
              "{'mumbai-india to chiang-mai-thailand': 7933.33,\n",
              " 'mumbai-india to ko-lanta-thailand': 9339.42,\n",
              " 'mumbai-india to bangkok-thailand': 7660.4,\n",
              " 'mumbai-india to mumbai-india': 183.1,\n",
              " 'mumbai-india to cambodia': 9406.1,\n",
              " 'mumbai-india to pai-thailand': 6233.01,\n",
              " 'mumbai-india to sofia-bulgaria': 6400.68,\n",
              " 'mumbai-india to bangalore-india': 1552.8,\n",
              " 'mumbai-india to jakarta-indonesia': inf,\n",
              " 'mumbai-india to taiwan': 10610.24,\n",
              " 'chiang-mai-thailand to ko-lanta-thailand': 5060.07,\n",
              " 'chiang-mai-thailand to bangkok-thailand': 2040.06,\n",
              " 'chiang-mai-thailand to mumbai-india': 6091.41,\n",
              " 'chiang-mai-thailand to cambodia': 2253.75,\n",
              " 'chiang-mai-thailand to pai-thailand': 1797.53,\n",
              " 'chiang-mai-thailand to chiang-mai-thailand': 1856.44,\n",
              " 'chiang-mai-thailand to sofia-bulgaria': 12586.08,\n",
              " 'chiang-mai-thailand to bangalore-india': 7662.78,\n",
              " 'chiang-mai-thailand to jakarta-indonesia': inf,\n",
              " 'chiang-mai-thailand to taiwan': 5358.7,\n",
              " 'ko-lanta-thailand to bangkok-thailand': 3279.89,\n",
              " 'ko-lanta-thailand to mumbai-india': 9302.61,\n",
              " 'ko-lanta-thailand to cambodia': 3360.61,\n",
              " 'ko-lanta-thailand to pai-thailand': 4723.24,\n",
              " 'ko-lanta-thailand to chiang-mai-thailand': 4932.64,\n",
              " 'ko-lanta-thailand to sofia-bulgaria': 15328.82,\n",
              " 'ko-lanta-thailand to bangalore-india': 8222.2,\n",
              " 'ko-lanta-thailand to jakarta-indonesia': inf,\n",
              " 'ko-lanta-thailand to taiwan': 10217.88,\n",
              " 'bangkok-thailand to mumbai-india': 7684.94,\n",
              " 'bangkok-thailand to cambodia': 1731.26,\n",
              " 'bangkok-thailand to pai-thailand': 1733.08,\n",
              " 'bangkok-thailand to chiang-mai-thailand': 1730.58,\n",
              " 'bangkok-thailand to sofia-bulgaria': 13025.04,\n",
              " 'bangkok-thailand to bangalore-india': 7084.47,\n",
              " 'bangkok-thailand to jakarta-indonesia': inf,\n",
              " 'bangkok-thailand to taiwan': 7089.27,\n",
              " 'cambodia to pai-thailand': 3901.07,\n",
              " 'cambodia to chiang-mai-thailand': 2806.65,\n",
              " 'cambodia to sofia-bulgaria': 15014.39,\n",
              " 'cambodia to cambodia': 1107.68,\n",
              " 'cambodia to bangalore-india': 8260.43,\n",
              " 'cambodia to jakarta-indonesia': inf,\n",
              " 'cambodia to taiwan': 6327.95,\n",
              " 'pai-thailand to chiang-mai-thailand': 1970.51,\n",
              " 'pai-thailand to sofia-bulgaria': 10794.38,\n",
              " 'pai-thailand to cambodia': 3292.58,\n",
              " 'pai-thailand to bangalore-india': 5770.61,\n",
              " 'pai-thailand to jakarta-indonesia': inf,\n",
              " 'pai-thailand to taiwan': 6066.84,\n",
              " 'pai-thailand to pai-thailand': 658.93,\n",
              " 'sofia-bulgaria to cambodia': 14586.69,\n",
              " 'sofia-bulgaria to bangalore-india': 7936.5,\n",
              " 'sofia-bulgaria to jakarta-indonesia': inf,\n",
              " 'sofia-bulgaria to taiwan': 12615.87,\n",
              " 'sofia-bulgaria to sofia-bulgaria': 111.63,\n",
              " 'sofia-bulgaria to pai-thailand': 11316.89,\n",
              " 'bangalore-india to cambodia': 8811.85,\n",
              " 'bangalore-india to jakarta-indonesia': inf,\n",
              " 'bangalore-india to taiwan': 11081.1,\n",
              " 'bangalore-india to sofia-bulgaria': 7899.68,\n",
              " 'bangalore-india to pai-thailand': 5875.83,\n",
              " 'jakarta-indonesia to cambodia': inf,\n",
              " 'jakarta-indonesia to taiwan': inf,\n",
              " 'jakarta-indonesia to sofia-bulgaria': inf,\n",
              " 'jakarta-indonesia to pai-thailand': inf,\n",
              " 'taiwan to taiwan': 341.16,\n",
              " 'taiwan to cambodia': 7042.47,\n",
              " 'taiwan to sofia-bulgaria': 12688.82,\n",
              " 'taiwan to pai-thailand': 6469.35}"
            ]
          },
          "metadata": {},
          "execution_count": 94
        }
      ]
    },
    {
      "cell_type": "code",
      "source": [],
      "metadata": {
        "id": "iSi9fdMk5rAU"
      },
      "execution_count": 94,
      "outputs": []
    }
  ]
}