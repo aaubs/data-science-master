{
  "nbformat": 4,
  "nbformat_minor": 0,
  "metadata": {
    "colab": {
      "provenance": [],
      "authorship_tag": "ABX9TyNs+nIbk1WLXXQPhtyL9mgT",
      "include_colab_link": true
    },
    "kernelspec": {
      "name": "python3",
      "display_name": "Python 3"
    },
    "language_info": {
      "name": "python"
    }
  },
  "cells": [
    {
      "cell_type": "markdown",
      "metadata": {
        "id": "view-in-github",
        "colab_type": "text"
      },
      "source": [
        "<a href=\"https://colab.research.google.com/github/aaubs/ds-master/blob/main/notebooks/M6_Performing_a_Big_Data_workflow_with_Spark_Into.ipynb\" target=\"_parent\"><img src=\"https://colab.research.google.com/assets/colab-badge.svg\" alt=\"Open In Colab\"/></a>"
      ]
    },
    {
      "cell_type": "markdown",
      "source": [
        "#Introduction\n",
        "Apache Spark is an open-source distributed computing system that provides an interface for programming entire clusters with implicit data parallelism and fault tolerance. It is designed to handle large datasets by distributing the data and computation across a cluster of computers. In this tutorial, we will be using PySpark, the Python API for Spark, to perform a big data workflow."
      ],
      "metadata": {
        "id": "z7TkN6aZfgpO"
      }
    },
    {
      "cell_type": "markdown",
      "source": [
        "#A few word about Apache Spark\n",
        "Apache Spark started as a research project at the University of California, Berkeley in 2009 and it is an open source project written mostly in Scala. In a nutshell, Apache Spark is a fast and general engine for large-scale data processing.\n",
        "Spark’s main property is in-memory processing, but you can also process data on disk and it can be fully integrated with Hadoop to process data from HDFS. Spark provides three main API, in  Java, Scala and Python. \n",
        "Spark offers an abstraction called resilient distributed datasets (RDDs),  which are  immutable and lazy data collections partitioned across the nodes of a cluster.\n",
        "\n",
        "MLlib is a standard component of Spark providing machine learning primitives on top of Spark which contains common algorithms (regression, classification, recommendation, optimization, clustering..), and also basic statistics and feature extraction functions.\n",
        "\n",
        "If you want to get a better look at Apache Spark and its ecosystem, just check out the web site Apache Spark and its documentation."
      ],
      "metadata": {
        "id": "I4fBODs2406V"
      }
    },
    {
      "cell_type": "code",
      "source": [
        "!pip install pyspark --q"
      ],
      "metadata": {
        "colab": {
          "base_uri": "https://localhost:8080/"
        },
        "id": "uyIDbIszeazz",
        "outputId": "02b8f334-6513-4cbe-e2d1-7c8ee955d069"
      },
      "execution_count": null,
      "outputs": [
        {
          "output_type": "stream",
          "name": "stdout",
          "text": [
            "\u001b[2K     \u001b[90m━━━━━━━━━━━━━━━━━━━━━━━━━━━━━━━━━━━━━━━\u001b[0m \u001b[32m281.4/281.4 MB\u001b[0m \u001b[31m3.6 MB/s\u001b[0m eta \u001b[36m0:00:00\u001b[0m\n",
            "\u001b[?25h  Preparing metadata (setup.py) ... \u001b[?25l\u001b[?25hdone\n",
            "\u001b[2K     \u001b[90m━━━━━━━━━━━━━━━━━━━━━━━━━━━━━━━━━━━━━━\u001b[0m \u001b[32m199.7/199.7 KB\u001b[0m \u001b[31m10.7 MB/s\u001b[0m eta \u001b[36m0:00:00\u001b[0m\n",
            "\u001b[?25h  Building wheel for pyspark (setup.py) ... \u001b[?25l\u001b[?25hdone\n"
          ]
        }
      ]
    },
    {
      "cell_type": "markdown",
      "source": [
        "#Step 1: Setup\n",
        "Let's import the necessary modules and create a SparkSession, which is the entry point to programming Spark with the DataFrame and Dataset APIs:"
      ],
      "metadata": {
        "id": "mP9IREcWflM-"
      }
    },
    {
      "cell_type": "code",
      "execution_count": null,
      "metadata": {
        "id": "G_TizRRGeOOl"
      },
      "outputs": [],
      "source": [
        "from pyspark.sql import SparkSession\n",
        "\n",
        "spark = SparkSession.builder \\\n",
        "    .appName(\"Big Data Workflow with Spark\") \\\n",
        "    .getOrCreate()"
      ]
    },
    {
      "cell_type": "markdown",
      "source": [
        "#Step 2: Load Data\n",
        "Next, let's load some data into Spark. We'll be using the Iris dataset, which is a well-known dataset in machine learning. "
      ],
      "metadata": {
        "id": "j2ZtXCSofrYX"
      }
    },
    {
      "cell_type": "code",
      "source": [
        "from pyspark import SparkFiles\n",
        "\n",
        "url = \"https://archive.ics.uci.edu/ml/machine-learning-databases/iris/iris.data\"\n",
        "spark.sparkContext.addFile(url)\n",
        "\n",
        "df = spark.read.csv(SparkFiles.get(\"iris.data\"), header=False, inferSchema=True)\n",
        "df.show()\n"
      ],
      "metadata": {
        "colab": {
          "base_uri": "https://localhost:8080/"
        },
        "id": "qpNh7n93eUjp",
        "outputId": "d08eca10-21b1-45b7-8739-6bbdb9745314"
      },
      "execution_count": null,
      "outputs": [
        {
          "output_type": "stream",
          "name": "stdout",
          "text": [
            "+---+---+---+---+-----------+\n",
            "|_c0|_c1|_c2|_c3|        _c4|\n",
            "+---+---+---+---+-----------+\n",
            "|5.1|3.5|1.4|0.2|Iris-setosa|\n",
            "|4.9|3.0|1.4|0.2|Iris-setosa|\n",
            "|4.7|3.2|1.3|0.2|Iris-setosa|\n",
            "|4.6|3.1|1.5|0.2|Iris-setosa|\n",
            "|5.0|3.6|1.4|0.2|Iris-setosa|\n",
            "|5.4|3.9|1.7|0.4|Iris-setosa|\n",
            "|4.6|3.4|1.4|0.3|Iris-setosa|\n",
            "|5.0|3.4|1.5|0.2|Iris-setosa|\n",
            "|4.4|2.9|1.4|0.2|Iris-setosa|\n",
            "|4.9|3.1|1.5|0.1|Iris-setosa|\n",
            "|5.4|3.7|1.5|0.2|Iris-setosa|\n",
            "|4.8|3.4|1.6|0.2|Iris-setosa|\n",
            "|4.8|3.0|1.4|0.1|Iris-setosa|\n",
            "|4.3|3.0|1.1|0.1|Iris-setosa|\n",
            "|5.8|4.0|1.2|0.2|Iris-setosa|\n",
            "|5.7|4.4|1.5|0.4|Iris-setosa|\n",
            "|5.4|3.9|1.3|0.4|Iris-setosa|\n",
            "|5.1|3.5|1.4|0.3|Iris-setosa|\n",
            "|5.7|3.8|1.7|0.3|Iris-setosa|\n",
            "|5.1|3.8|1.5|0.3|Iris-setosa|\n",
            "+---+---+---+---+-----------+\n",
            "only showing top 20 rows\n",
            "\n"
          ]
        }
      ]
    },
    {
      "cell_type": "markdown",
      "source": [
        "#Step 3: Data Preprocessing\n",
        "Now that we have our data loaded into Spark, we can start preprocessing it. In this step, we will be renaming the columns and removing any null values."
      ],
      "metadata": {
        "id": "Wbi3I-GIfu49"
      }
    },
    {
      "cell_type": "code",
      "source": [
        "df = df.toDF(\"sepal_length\", \"sepal_width\", \"petal_length\", \"petal_width\", \"class\")\n",
        "df = df.dropna()\n",
        "\n",
        "df.show()"
      ],
      "metadata": {
        "colab": {
          "base_uri": "https://localhost:8080/"
        },
        "id": "teu2ycgYfD3f",
        "outputId": "d5179e96-3f43-4027-9daf-1ca676d105a5"
      },
      "execution_count": null,
      "outputs": [
        {
          "output_type": "stream",
          "name": "stdout",
          "text": [
            "+------------+-----------+------------+-----------+-----------+\n",
            "|sepal_length|sepal_width|petal_length|petal_width|      class|\n",
            "+------------+-----------+------------+-----------+-----------+\n",
            "|         5.1|        3.5|         1.4|        0.2|Iris-setosa|\n",
            "|         4.9|        3.0|         1.4|        0.2|Iris-setosa|\n",
            "|         4.7|        3.2|         1.3|        0.2|Iris-setosa|\n",
            "|         4.6|        3.1|         1.5|        0.2|Iris-setosa|\n",
            "|         5.0|        3.6|         1.4|        0.2|Iris-setosa|\n",
            "|         5.4|        3.9|         1.7|        0.4|Iris-setosa|\n",
            "|         4.6|        3.4|         1.4|        0.3|Iris-setosa|\n",
            "|         5.0|        3.4|         1.5|        0.2|Iris-setosa|\n",
            "|         4.4|        2.9|         1.4|        0.2|Iris-setosa|\n",
            "|         4.9|        3.1|         1.5|        0.1|Iris-setosa|\n",
            "|         5.4|        3.7|         1.5|        0.2|Iris-setosa|\n",
            "|         4.8|        3.4|         1.6|        0.2|Iris-setosa|\n",
            "|         4.8|        3.0|         1.4|        0.1|Iris-setosa|\n",
            "|         4.3|        3.0|         1.1|        0.1|Iris-setosa|\n",
            "|         5.8|        4.0|         1.2|        0.2|Iris-setosa|\n",
            "|         5.7|        4.4|         1.5|        0.4|Iris-setosa|\n",
            "|         5.4|        3.9|         1.3|        0.4|Iris-setosa|\n",
            "|         5.1|        3.5|         1.4|        0.3|Iris-setosa|\n",
            "|         5.7|        3.8|         1.7|        0.3|Iris-setosa|\n",
            "|         5.1|        3.8|         1.5|        0.3|Iris-setosa|\n",
            "+------------+-----------+------------+-----------+-----------+\n",
            "only showing top 20 rows\n",
            "\n"
          ]
        }
      ]
    },
    {
      "cell_type": "markdown",
      "source": [
        "#Step 4: Data Exploration\n",
        "Let's explore our data a bit. We can use the describe() method to get some basic statistics about each column."
      ],
      "metadata": {
        "id": "Tw63jLfffzJQ"
      }
    },
    {
      "cell_type": "code",
      "source": [
        "df.describe().show()"
      ],
      "metadata": {
        "colab": {
          "base_uri": "https://localhost:8080/"
        },
        "id": "qXEOugB2fPB-",
        "outputId": "e24ab177-cc4b-404a-f1c7-fc1c4183f6cc"
      },
      "execution_count": null,
      "outputs": [
        {
          "output_type": "stream",
          "name": "stdout",
          "text": [
            "+-------+------------------+-------------------+------------------+------------------+--------------+\n",
            "|summary|      sepal_length|        sepal_width|      petal_length|       petal_width|         class|\n",
            "+-------+------------------+-------------------+------------------+------------------+--------------+\n",
            "|  count|               150|                150|               150|               150|           150|\n",
            "|   mean| 5.843333333333335| 3.0540000000000007|3.7586666666666693|1.1986666666666672|          null|\n",
            "| stddev|0.8280661279778637|0.43359431136217375| 1.764420419952262|0.7631607417008414|          null|\n",
            "|    min|               4.3|                2.0|               1.0|               0.1|   Iris-setosa|\n",
            "|    max|               7.9|                4.4|               6.9|               2.5|Iris-virginica|\n",
            "+-------+------------------+-------------------+------------------+------------------+--------------+\n",
            "\n"
          ]
        }
      ]
    },
    {
      "cell_type": "markdown",
      "source": [
        "#Step 5: Data Analysis\n",
        "Now we can perform some data analysis. Let's group our data by class and calculate the average sepal length for each class."
      ],
      "metadata": {
        "id": "21kEMOWzf2k5"
      }
    },
    {
      "cell_type": "code",
      "source": [
        "from pyspark.sql.functions import avg\n",
        "\n",
        "avg_sepal_length = df.groupBy(\"class\").agg(avg(\"sepal_length\"))\n",
        "avg_sepal_length.show()\n"
      ],
      "metadata": {
        "colab": {
          "base_uri": "https://localhost:8080/"
        },
        "id": "HHLx5oSBfVD4",
        "outputId": "5314e187-7bda-4cb8-ddbb-aad9b9de36c0"
      },
      "execution_count": null,
      "outputs": [
        {
          "output_type": "stream",
          "name": "stdout",
          "text": [
            "+---------------+-----------------+\n",
            "|          class|avg(sepal_length)|\n",
            "+---------------+-----------------+\n",
            "| Iris-virginica|6.587999999999998|\n",
            "|    Iris-setosa|5.005999999999999|\n",
            "|Iris-versicolor|            5.936|\n",
            "+---------------+-----------------+\n",
            "\n"
          ]
        }
      ]
    },
    {
      "cell_type": "markdown",
      "source": [
        "#Step 6: Data Visualization\n",
        "Finally, let's visualize our data. We'll be using the matplotlib library to create a scatter plot of the sepal length and width."
      ],
      "metadata": {
        "id": "OgWnZ34df5sP"
      }
    },
    {
      "cell_type": "code",
      "source": [
        "import matplotlib.pyplot as plt\n",
        "\n",
        "plt.scatter(df.select(\"sepal_length\").collect(),\n",
        "            df.select(\"sepal_width\").collect())\n",
        "plt.xlabel(\"Sepal Length\")\n",
        "plt.ylabel(\"Sepal Width\")\n",
        "plt.show()\n"
      ],
      "metadata": {
        "colab": {
          "base_uri": "https://localhost:8080/",
          "height": 282
        },
        "id": "91jckeYyfYg5",
        "outputId": "8fb96139-ffec-45ce-c86c-4e8ec00dcd12"
      },
      "execution_count": null,
      "outputs": [
        {
          "output_type": "display_data",
          "data": {
            "text/plain": [
              "<Figure size 432x288 with 1 Axes>"
            ],
            "image/png": "[encoded data removed]"
          },
          "metadata": {
            "needs_background": "light"
          }
        }
      ]
    },
    {
      "cell_type": "markdown",
      "source": [
        "#Conclusion\n",
        "That's it! In this tutorial, we covered the basics of performing a big data workflow with Spark in Python. We loaded data, preprocessed it, explored it, analyzed it, and visualized it. Spark is a powerful tool for handling big data, and with PySpark, we can easily interface with it in Python."
      ],
      "metadata": {
        "id": "w77ANmL-f9ON"
      }
    }
  ]
}