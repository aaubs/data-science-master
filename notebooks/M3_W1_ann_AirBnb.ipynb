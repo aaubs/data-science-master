{
  "nbformat": 4,
  "nbformat_minor": 0,
  "metadata": {
    "colab": {
      "provenance": [],
      "include_colab_link": true
    },
    "kernelspec": {
      "name": "python3",
      "display_name": "Python 3"
    },
    "accelerator": "GPU"
  },
  "cells": [
    {
      "cell_type": "markdown",
      "metadata": {
        "id": "view-in-github",
        "colab_type": "text"
      },
      "source": [
        "<a href=\"https://colab.research.google.com/github/aaubs/ds-master/blob/main/notebooks/M3_W1_ann_AirBnb.ipynb\" target=\"_parent\"><img src=\"https://colab.research.google.com/assets/colab-badge.svg\" alt=\"Open In Colab\"/></a>"
      ]
    },
    {
      "cell_type": "markdown",
      "metadata": {
        "id": "NQv-jf2VAi7B"
      },
      "source": [
        "# M3 - Deep Learning Workshop 1\n",
        "\n",
        "In this workshop will revisit the [AirBnb dataset](http://data.insideairbnb.com/denmark/hovedstaden/copenhagen/2020-06-26/data/listings.csv.gz) that we used in M1. "
      ]
    },
    {
      "cell_type": "code",
      "metadata": {
        "id": "LQb5r0k48gas"
      },
      "source": [
        "!pip install -q fancyimpute"
      ],
      "execution_count": null,
      "outputs": []
    },
    {
      "cell_type": "code",
      "metadata": {
        "id": "lAXXAK-rABs8"
      },
      "source": [
        "# Import libraries \n",
        "import pandas as pd\n",
        "import numpy as np\n",
        "import matplotlib.pyplot as plt\n",
        "import seaborn as sns\n",
        "sns.set()\n",
        "\n",
        "#from sklearn.metrics import mean_squared_error\n",
        "\n",
        "# Import Keras libraries and metrics\n",
        "from keras.models import Sequential\n",
        "from keras.layers import Dense\n",
        "from keras.layers import Dropout\n",
        "from keras.metrics import mean_squared_error\n",
        "from keras.utils.vis_utils import plot_model"
      ],
      "execution_count": null,
      "outputs": []
    },
    {
      "cell_type": "code",
      "metadata": {
        "id": "rm9OAE0eA8CY"
      },
      "source": [
        "# import imputation\n",
        "from fancyimpute import IterativeImputer"
      ],
      "execution_count": null,
      "outputs": []
    },
    {
      "cell_type": "code",
      "execution_count": null,
      "metadata": {
        "id": "C6vBSEf2NN6I"
      },
      "outputs": [],
      "source": [
        "data = pd.read_csv('http://data.insideairbnb.com/denmark/hovedstaden/copenhagen/2022-06-24/data/listings.csv.gz')"
      ]
    },
    {
      "cell_type": "code",
      "source": [
        "data['price'] = data.price.str.replace('$','')\n",
        "data['price'] = data.price.str.replace(',','')"
      ],
      "metadata": {
        "id": "7FeA28ndcNmB"
      },
      "execution_count": null,
      "outputs": []
    },
    {
      "cell_type": "code",
      "source": [
        "data['price'] = data['price'].astype('float')"
      ],
      "metadata": {
        "id": "MrvbGNh9cci_"
      },
      "execution_count": null,
      "outputs": []
    },
    {
      "cell_type": "code",
      "source": [
        "mapping = {'f':False,'t':True}\n",
        "data.replace({\"instant_bookable\":mapping}, inplace=True)"
      ],
      "metadata": {
        "id": "f1PK3BeEchiM"
      },
      "execution_count": null,
      "outputs": []
    },
    {
      "cell_type": "code",
      "source": [
        "data = data[data.room_type.isin(['Private room', 'Entire home/apt'])]"
      ],
      "metadata": {
        "id": "eD-8UaGIdMjg"
      },
      "execution_count": null,
      "outputs": []
    },
    {
      "cell_type": "code",
      "source": [
        "data['price_z'] = (data['price'] - data['price'].mean())/data['price'].std(ddof=0)\n",
        "data['price_z'] = data['price_z'].abs()\n",
        "data = data[data.price_z < 2]"
      ],
      "metadata": {
        "id": "_1MeU5M0dP8Z"
      },
      "execution_count": null,
      "outputs": []
    },
    {
      "cell_type": "code",
      "source": [
        "data = data[data.number_of_reviews_l30d >= 1]"
      ],
      "metadata": {
        "id": "hFUMEDRzdVQx"
      },
      "execution_count": null,
      "outputs": []
    },
    {
      "cell_type": "code",
      "source": [
        "data = data[data.review_scores_rating >= 4]"
      ],
      "metadata": {
        "id": "5YrLpvrIdgDz"
      },
      "execution_count": null,
      "outputs": []
    },
    {
      "cell_type": "markdown",
      "source": [
        "## Feature Engineering\n",
        "\n",
        "- Selecting features\n",
        "- creating dummies\n",
        "- binning\n",
        "- scaling"
      ],
      "metadata": {
        "id": "AM3SeLPTV0r9"
      }
    },
    {
      "cell_type": "code",
      "source": [
        "selected_df = data[['neighbourhood_cleansed','room_type','instant_bookable','accommodates','bedrooms','beds','minimum_nights_avg_ntm','price']]"
      ],
      "metadata": {
        "id": "IuojYfh6dzAq"
      },
      "execution_count": null,
      "outputs": []
    },
    {
      "cell_type": "code",
      "source": [
        "selected_df = selected_df.dropna()\n",
        "#selected_df = selected_df.dropna(subset=['bedrooms','beds'])"
      ],
      "metadata": {
        "id": "jPjDIuiLel5V"
      },
      "execution_count": null,
      "outputs": []
    },
    {
      "cell_type": "code",
      "source": [
        "X = selected_df.iloc[:,:-1]"
      ],
      "metadata": {
        "id": "okOyKxUSfssU"
      },
      "execution_count": null,
      "outputs": []
    },
    {
      "cell_type": "code",
      "source": [
        "y = selected_df.price"
      ],
      "metadata": {
        "id": "A81TWOd4gSZ1"
      },
      "execution_count": null,
      "outputs": []
    },
    {
      "cell_type": "code",
      "source": [
        "from sklearn.preprocessing import OneHotEncoder"
      ],
      "metadata": {
        "id": "dQeHTUmcgUXJ"
      },
      "execution_count": null,
      "outputs": []
    },
    {
      "cell_type": "code",
      "source": [
        "import itertools"
      ],
      "metadata": {
        "id": "zypFK_uLgW8x"
      },
      "execution_count": null,
      "outputs": []
    },
    {
      "cell_type": "code",
      "source": [
        "ohe_X = OneHotEncoder(sparse=False)"
      ],
      "metadata": {
        "id": "xW0E_UbegVKJ"
      },
      "execution_count": null,
      "outputs": []
    },
    {
      "cell_type": "code",
      "source": [
        "X_ohe = ohe_X.fit_transform(X.iloc[:,:2]) "
      ],
      "metadata": {
        "id": "OmWbfyRsgsOb"
      },
      "execution_count": null,
      "outputs": []
    },
    {
      "cell_type": "code",
      "source": [
        "columns_X_ohe = list(itertools.chain(*ohe_X.categories_))"
      ],
      "metadata": {
        "id": "NwsYO9FTheMD"
      },
      "execution_count": null,
      "outputs": []
    },
    {
      "cell_type": "code",
      "source": [
        "X_cat = pd.DataFrame(X_ohe, columns = columns_X_ohe)"
      ],
      "metadata": {
        "id": "gFgQD776h0Vq"
      },
      "execution_count": null,
      "outputs": []
    },
    {
      "cell_type": "code",
      "source": [
        "X_cat"
      ],
      "metadata": {
        "id": "qRIzJZQ2h7cB"
      },
      "execution_count": null,
      "outputs": []
    },
    {
      "cell_type": "code",
      "source": [
        "from sklearn.preprocessing import StandardScaler"
      ],
      "metadata": {
        "id": "ec-BZoW4ijXr"
      },
      "execution_count": null,
      "outputs": []
    },
    {
      "cell_type": "code",
      "source": [
        "scaler = StandardScaler()"
      ],
      "metadata": {
        "id": "z0zC4RpwikQa"
      },
      "execution_count": null,
      "outputs": []
    },
    {
      "cell_type": "code",
      "source": [
        "transformed_nummerical = scaler.fit_transform(X.iloc[:,2:])"
      ],
      "metadata": {
        "id": "iCaSBfYmimAz"
      },
      "execution_count": null,
      "outputs": []
    },
    {
      "cell_type": "code",
      "source": [
        "X.iloc[:,2:] = transformed_nummerical"
      ],
      "metadata": {
        "id": "1vV6maaBisDr"
      },
      "execution_count": null,
      "outputs": []
    },
    {
      "cell_type": "code",
      "source": [
        "X"
      ],
      "metadata": {
        "id": "s1X-DduvitZF"
      },
      "execution_count": null,
      "outputs": []
    },
    {
      "cell_type": "code",
      "source": [
        "X.index = range(len(X))\n",
        "X_cat.index = range(len(X_cat))"
      ],
      "metadata": {
        "id": "JrMLKqnoizw0"
      },
      "execution_count": null,
      "outputs": []
    },
    {
      "cell_type": "code",
      "source": [
        "X_enc = X.iloc[:,2:].join(X_cat)"
      ],
      "metadata": {
        "id": "WNZDV3VEi8Kw"
      },
      "execution_count": null,
      "outputs": []
    },
    {
      "cell_type": "markdown",
      "source": [
        "## Splittng and preparing for ML\n",
        "\n"
      ],
      "metadata": {
        "id": "Y0Evv6BjWrBY"
      }
    },
    {
      "cell_type": "code",
      "source": [
        "from sklearn.model_selection import train_test_split"
      ],
      "metadata": {
        "id": "hvmHNtfujT-D"
      },
      "execution_count": null,
      "outputs": []
    },
    {
      "cell_type": "code",
      "source": [
        "X_train, X_test, y_train, y_test = train_test_split(X_enc, y, test_size=0.2)"
      ],
      "metadata": {
        "id": "jC1h2W5LV-gS"
      },
      "execution_count": null,
      "outputs": []
    },
    {
      "cell_type": "markdown",
      "metadata": {
        "id": "i-2cFF6PqQGT"
      },
      "source": [
        "benchmark non-neural models"
      ]
    },
    {
      "cell_type": "code",
      "metadata": {
        "id": "e5ushIjTEzgx"
      },
      "source": [
        "from sklearn.linear_model import LinearRegression"
      ],
      "execution_count": null,
      "outputs": []
    },
    {
      "cell_type": "code",
      "metadata": {
        "id": "pB6pCBwzE1ck"
      },
      "source": [
        "model_ols = LinearRegression()\n",
        "model_ols.fit(X_train, y_train)"
      ],
      "execution_count": null,
      "outputs": []
    },
    {
      "cell_type": "code",
      "metadata": {
        "id": "QfO3iazKZZG0"
      },
      "source": [
        "model_ols.score(X_train, y_train)"
      ],
      "execution_count": null,
      "outputs": []
    },
    {
      "cell_type": "code",
      "metadata": {
        "id": "CTuCTSfqZZG2"
      },
      "source": [
        "np.sqrt(mean_squared_error(y_train, model_ols.predict(X_train)))"
      ],
      "execution_count": null,
      "outputs": []
    },
    {
      "cell_type": "code",
      "metadata": {
        "id": "NIl1ZKnTE4w4"
      },
      "source": [
        "model_ols.score(X_test, y_test)"
      ],
      "execution_count": null,
      "outputs": []
    },
    {
      "cell_type": "code",
      "metadata": {
        "id": "aKeSx8MME7-B"
      },
      "source": [
        "np.sqrt(mean_squared_error(y_test, model_ols.predict(X_test)))"
      ],
      "execution_count": null,
      "outputs": []
    },
    {
      "cell_type": "code",
      "metadata": {
        "id": "WxgkTbojSJV8"
      },
      "source": [
        "from xgboost import XGBRegressor\n",
        "model_xgb = XGBRegressor()"
      ],
      "execution_count": null,
      "outputs": []
    },
    {
      "cell_type": "code",
      "metadata": {
        "id": "4RMqPQgASMIR"
      },
      "source": [
        "model_xgb.fit(X_train, y_train)"
      ],
      "execution_count": null,
      "outputs": []
    },
    {
      "cell_type": "code",
      "source": [
        "model_xgb.score(X_train, y_train)"
      ],
      "metadata": {
        "id": "RzAjbws8ZkTf"
      },
      "execution_count": null,
      "outputs": []
    },
    {
      "cell_type": "code",
      "metadata": {
        "id": "66gIn_r_SQRY"
      },
      "source": [
        "model_xgb.score(X_test, y_test)"
      ],
      "execution_count": null,
      "outputs": []
    },
    {
      "cell_type": "code",
      "metadata": {
        "id": "C7MQ6HQvSUqV"
      },
      "source": [
        "np.sqrt(mean_squared_error(y_test, model_xgb.predict(X_test)))"
      ],
      "execution_count": null,
      "outputs": []
    },
    {
      "cell_type": "code",
      "metadata": {
        "id": "PXDxXlJVFTN2"
      },
      "source": [
        "X_train.shape"
      ],
      "execution_count": null,
      "outputs": []
    },
    {
      "cell_type": "markdown",
      "metadata": {
        "id": "DKHmvX9SqTos"
      },
      "source": [
        "baseline neural model"
      ]
    },
    {
      "cell_type": "code",
      "metadata": {
        "id": "ZD6tuVvTFCTj"
      },
      "source": [
        "model = Sequential()\n",
        "model.add(Dense(10,activation='relu',input_shape = (18,)))\n",
        "model.add(Dense(1, kernel_initializer='normal'))\n",
        "model.compile(optimizer = 'adam', loss='mean_squared_error',\n",
        "             metrics=mean_squared_error)"
      ],
      "execution_count": null,
      "outputs": []
    },
    {
      "cell_type": "code",
      "metadata": {
        "id": "nAKZdOITGBm_"
      },
      "source": [
        "history = model.fit(X_train, \n",
        "                    y_train,\n",
        "                    epochs = 200,\n",
        "                    batch_size = 64,\n",
        "                    verbose=2, validation_split=0.1)"
      ],
      "execution_count": null,
      "outputs": []
    },
    {
      "cell_type": "code",
      "metadata": {
        "id": "A17eOn0EGXMq"
      },
      "source": [
        "# summarize history for accuracy\n",
        "plt.plot(history.history['mean_squared_error'])\n",
        "plt.plot(history.history['val_mean_squared_error'])\n",
        "plt.title('model MSE')\n",
        "plt.ylabel('MSE')\n",
        "plt.xlabel('epoch')\n",
        "plt.legend(['train', 'test'], loc='upper left')\n",
        "plt.show()"
      ],
      "execution_count": null,
      "outputs": []
    },
    {
      "cell_type": "code",
      "source": [
        "eval = model.evaluate(X_train, y_train)"
      ],
      "metadata": {
        "id": "IC_BFj94Z69_"
      },
      "execution_count": null,
      "outputs": []
    },
    {
      "cell_type": "code",
      "metadata": {
        "id": "n0uor_rWG6-R"
      },
      "source": [
        "eval = model.evaluate(X_test, y_test)"
      ],
      "execution_count": null,
      "outputs": []
    },
    {
      "cell_type": "code",
      "metadata": {
        "id": "-XFJN3q89Yxq"
      },
      "source": [
        "eval"
      ],
      "execution_count": null,
      "outputs": []
    },
    {
      "cell_type": "code",
      "metadata": {
        "id": "5xvNntGIHOgP"
      },
      "source": [
        "np.sqrt(eval[0])"
      ],
      "execution_count": null,
      "outputs": []
    },
    {
      "cell_type": "markdown",
      "metadata": {
        "id": "_EyR9cHMcvUe"
      },
      "source": [
        "## Prevent overfitting"
      ]
    },
    {
      "cell_type": "code",
      "metadata": {
        "id": "PxcXYzoee2KU"
      },
      "source": [
        "model = Sequential()\n",
        "model.add(Dense(256,activation='relu',input_shape = (18,)))\n",
        "model.add(Dense(16,activation='relu'))\n",
        "model.add(Dense(1, kernel_initializer='normal'))\n",
        "model.compile(optimizer = 'adam', loss='mean_squared_error',\n",
        "             metrics=mean_squared_error)\n"
      ],
      "execution_count": null,
      "outputs": []
    },
    {
      "cell_type": "code",
      "metadata": {
        "id": "v3-36QH4e2Kn"
      },
      "source": [
        "history = model.fit(X_train, \n",
        "                    y_train,\n",
        "                    epochs = 20,\n",
        "                    batch_size = 32,\n",
        "                    verbose=0, validation_split=0.1)"
      ],
      "execution_count": null,
      "outputs": []
    },
    {
      "cell_type": "code",
      "metadata": {
        "id": "C4IfeoB7e2Kr"
      },
      "source": [
        "eval = model.evaluate(X_test, y_test)\n",
        "np.sqrt(eval[0])"
      ],
      "execution_count": null,
      "outputs": []
    },
    {
      "cell_type": "markdown",
      "metadata": {
        "id": "s8drGOOMfBc0"
      },
      "source": [
        "![](https://miro.medium.com/max/1400/0*iNI8Oc80Eunm8NgI)\n",
        "\n",
        "https://matthewmcateer.me/blog/optimal-brain-damage/\n",
        "http://yann.lecun.com/exdb/publis/pdf/lecun-90b.pdf\n"
      ]
    },
    {
      "cell_type": "code",
      "metadata": {
        "id": "VTkB1LjUcyQl"
      },
      "source": [
        "model = Sequential()\n",
        "model.add(Dense(256,activation='relu',input_shape = (18,)))\n",
        "model.add(Dropout(0.3)) # <<-- Added dropout\n",
        "model.add(Dense(16,activation='relu'))\n",
        "model.add(Dense(1, kernel_initializer='normal'))\n",
        "model.compile(optimizer = 'adam', loss='mean_squared_error',\n",
        "             metrics=mean_squared_error)\n"
      ],
      "execution_count": null,
      "outputs": []
    },
    {
      "cell_type": "code",
      "metadata": {
        "id": "_sx2AHH_eFf1"
      },
      "source": [
        "plot_model(model, to_file='model_plot.png', show_shapes=True, show_layer_names=True)"
      ],
      "execution_count": null,
      "outputs": []
    },
    {
      "cell_type": "code",
      "metadata": {
        "id": "UU0j5ViNeIDl"
      },
      "source": [
        "history = model.fit(X_train, \n",
        "                    y_train,\n",
        "                    epochs = 20,\n",
        "                    batch_size = 32,\n",
        "                    verbose=0, validation_split=0.1)"
      ],
      "execution_count": null,
      "outputs": []
    },
    {
      "cell_type": "code",
      "metadata": {
        "id": "vTFonCmic51P"
      },
      "source": [
        "eval = model.evaluate(X_test, y_test)\n",
        "np.sqrt(eval[0])"
      ],
      "execution_count": null,
      "outputs": []
    },
    {
      "cell_type": "code",
      "metadata": {
        "id": "2zYl5FJFgqtI"
      },
      "source": [
        "from keras.regularizers import l1"
      ],
      "execution_count": null,
      "outputs": []
    },
    {
      "cell_type": "markdown",
      "metadata": {
        "id": "RrPoNcwnqZAr"
      },
      "source": [
        "### regualization"
      ]
    },
    {
      "cell_type": "code",
      "metadata": {
        "id": "td4AG-ipgbZq"
      },
      "source": [
        "model = Sequential()\n",
        "model.add(Dense(256,activation='relu',input_shape = (18,)))\n",
        "model.add(Dense(16,activation='relu',  activity_regularizer=l1(0.001))) # <-- add activity regularizer\n",
        "model.add(Dense(1, kernel_initializer='normal'))\n",
        "model.compile(optimizer = 'adam', loss='mean_squared_error',\n",
        "             metrics=mean_squared_error)\n",
        "\n",
        "history = model.fit(X_train, \n",
        "                    y_train,\n",
        "                    epochs = 20,\n",
        "                    batch_size = 32,\n",
        "                    verbose=0, validation_split=0.1)"
      ],
      "execution_count": null,
      "outputs": []
    },
    {
      "cell_type": "code",
      "metadata": {
        "id": "B1ImQF_yg4qw"
      },
      "source": [
        "eval = model.evaluate(X_test, y_test)\n",
        "np.sqrt(eval[0])"
      ],
      "execution_count": null,
      "outputs": []
    },
    {
      "cell_type": "markdown",
      "metadata": {
        "id": "zrBaQ_CpdqZ3"
      },
      "source": [
        "## Bonus: Multi-branch architecture\n",
        "\n",
        "This chunk is using the functional Keras API that is more flexible than the sequential model. Using this you can for instance use text and images together with tabular data for your model. \n",
        "Here I'm going to define two branches: One for all dummies the other one for the \"normal\" nummerical variables."
      ]
    },
    {
      "cell_type": "code",
      "source": [
        "X_enc.head()"
      ],
      "metadata": {
        "id": "1TT2sw0oahTA"
      },
      "execution_count": null,
      "outputs": []
    },
    {
      "cell_type": "code",
      "metadata": {
        "id": "llo8_ieMRGXP"
      },
      "source": [
        "from tensorflow.keras.layers import Input\n",
        "from tensorflow.keras.models import Model\n",
        "from tensorflow.keras.layers import concatenate\n",
        "from keras.utils.vis_utils import plot_model"
      ],
      "execution_count": null,
      "outputs": []
    },
    {
      "cell_type": "code",
      "metadata": {
        "id": "_35nDUBtO1Qi"
      },
      "source": [
        "# define two sets of inputs\n",
        "inputA = Input(shape=(5,))\n",
        "inputB = Input(shape=(13,))\n",
        "# the first branch operates on the first input\n",
        "x1 = Dense(8, activation=\"relu\")(inputA)\n",
        "x1 = Dense(4, activation=\"relu\")(x1)\n",
        "x1 = Model(inputs=inputA, outputs=x1)\n",
        "# the second branch opreates on the second input\n",
        "x2 = Dense(64, activation=\"relu\")(inputB)\n",
        "x2 = Dense(32, activation=\"relu\")(x2)\n",
        "x2 = Dense(4, activation=\"relu\")(x2)\n",
        "x2 = Model(inputs=inputB, outputs=x2)\n",
        "# combine the output of the two branches\n",
        "combined = concatenate([x1.output, x2.output])\n",
        "# apply a FC layer and then a regression prediction on the\n",
        "# combined outputs\n",
        "y = Dense(2, activation=\"relu\")(combined)\n",
        "y = Dense(1, activation=\"linear\")(y)\n",
        "# our model will accept the inputs of the two branches and\n",
        "# then output a single value\n",
        "model = Model(inputs=[x1.input, x2.input], outputs=y)"
      ],
      "execution_count": null,
      "outputs": []
    },
    {
      "cell_type": "code",
      "metadata": {
        "id": "fqVMpIdcRfUy"
      },
      "source": [
        "model.compile(optimizer = 'adam', loss='mean_squared_error',\n",
        "             metrics=mean_squared_error)"
      ],
      "execution_count": null,
      "outputs": []
    },
    {
      "cell_type": "code",
      "metadata": {
        "id": "iJR4YYKvd7T7"
      },
      "source": [
        "plot_model(model, to_file='model_plot.png', show_shapes=True, show_layer_names=True)"
      ],
      "execution_count": null,
      "outputs": []
    },
    {
      "cell_type": "code",
      "metadata": {
        "id": "JwISf2THQ9Ji"
      },
      "source": [
        "history = model.fit([X_train.iloc[:,:5],X_train.iloc[:,5:]], \n",
        "                    y_train,\n",
        "                    epochs = 100,\n",
        "                    batch_size = 64,\n",
        "                    verbose=1, validation_split=0.1)"
      ],
      "execution_count": null,
      "outputs": []
    },
    {
      "cell_type": "code",
      "metadata": {
        "id": "NR2cmcxMSe_p"
      },
      "source": [
        "# summarize history for accuracy\n",
        "plt.plot(history.history['mean_squared_error'])\n",
        "plt.plot(history.history['val_mean_squared_error'])\n",
        "plt.title('model MSE')\n",
        "plt.ylabel('MSE')\n",
        "plt.xlabel('epoch')\n",
        "plt.legend(['train', 'test'], loc='upper left')\n",
        "plt.show()"
      ],
      "execution_count": null,
      "outputs": []
    },
    {
      "cell_type": "code",
      "metadata": {
        "id": "38PF2QvURiHS"
      },
      "source": [
        "eval = model.evaluate([X_test.iloc[:,:5],X_test.iloc[:,5:]], y_test)\n",
        "np.sqrt(eval[0])"
      ],
      "execution_count": null,
      "outputs": []
    },
    {
      "cell_type": "code",
      "source": [],
      "metadata": {
        "id": "DFsfOBsQbApb"
      },
      "execution_count": null,
      "outputs": []
    }
  ]
}