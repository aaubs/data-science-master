{
  "nbformat": 4,
  "nbformat_minor": 0,
  "metadata": {
    "colab": {
      "provenance": [],
      "toc_visible": true,
      "authorship_tag": "ABX9TyM5dsT4uzw819MXli6k4gnH",
      "include_colab_link": true
    },
    "kernelspec": {
      "name": "python3",
      "display_name": "Python 3"
    },
    "language_info": {
      "name": "python"
    }
  },
  "cells": [
    {
      "cell_type": "markdown",
      "metadata": {
        "id": "view-in-github",
        "colab_type": "text"
      },
      "source": [
        "<a href=\"https://colab.research.google.com/github/aaubs/ds-master/blob/main/notebooks/RNN_Tutorial.ipynb\" target=\"_parent\"><img src=\"https://colab.research.google.com/assets/colab-badge.svg\" alt=\"Open In Colab\"/></a>"
      ]
    },
    {
      "cell_type": "markdown",
      "source": [
        "# The objective of this tutorial\n",
        "\n",
        "Our goal in this tutorial is to provide simple examples of the RNN model so that you can better understand its functionality and how it can be used in a domain.\n",
        "\n",
        "After completing this tutorial, you will know:\n",
        "\n",
        "\n",
        "```\n",
        "- What is an RNN (Recurrent Neural Network)\n",
        "- How RNNs work and their structure\n",
        "- How RNNs can be used for tasks such as timeseries\n",
        "- How to implement an RNN in code using PyTorch\n",
        "- How to train and fine-tune an RNN for a specific task\n",
        "- Common challenges and pitfalls to avoid when working with RNNs\n",
        "```\n"
      ],
      "metadata": {
        "id": "5YsD4lOPEdmK"
      }
    },
    {
      "cell_type": "markdown",
      "source": [
        "## A quick recap on Simple Neural Network (FeedForward)bold text"
      ],
      "metadata": {
        "id": "ZQawEI4XUZ-p"
      }
    },
    {
      "cell_type": "markdown",
      "source": [
        "A simple neural network consists of three different parts namely Parameters, Linear, and None-Linear (Activation Function ) parts:"
      ],
      "metadata": {
        "id": "Mg36lXTUh26q"
      }
    },
    {
      "cell_type": "markdown",
      "source": [
        "1. First, a weight is being applied to each input to an artificial neuron. \n",
        "2. Second, the inputs are multiplied by their weights, and then a bias is applied to the outcome. This is called the weighted sum. \n",
        "3. Third, the weighted sum is processed via an activation function, as a non-linear function."
      ],
      "metadata": {
        "id": "1IUeWB5KiCMj"
      }
    },
    {
      "cell_type": "markdown",
      "source": [
        "<img src=\"https://cdn.analyticsvidhya.com/wp-content/uploads/2020/02/13UpdymQx-C1tBKRnfD7eOg.gif\" width=\"500\"> "
      ],
      "metadata": {
        "id": "HBtJUGWIkxQN"
      }
    },
    {
      "cell_type": "markdown",
      "source": [
        "The neural network can compare the outputs of its nodes with the desired values using a property known as the delta rule, allowing the network to alter its weights through training to create more accurate output values. This training and learning procedure results in gradient descent. \n",
        "\n",
        "The technique of updating weights in multi-layered perceptrons is virtually the same, however, the process is referred to as back-propagation. In such circumstances, the output values provided by the final layer are used to alter each hidden layer inside the network."
      ],
      "metadata": {
        "id": "evhlndvXkzzx"
      }
    },
    {
      "cell_type": "markdown",
      "source": [
        "### Problems with a Simple Neural Network"
      ],
      "metadata": {
        "id": "Ivg_7TJWRZbb"
      }
    },
    {
      "cell_type": "markdown",
      "source": [
        "The main shortcomings of traditional neural networks are:\n",
        "\n",
        "1. They can not handle sequential data\n",
        "2. They can not remember the sequence of the data, i.e order is not important\n",
        "3. Can not share parameters across the sequence\n",
        "4. They have a fixed input length\n",
        "\n",
        "Let’s have a brief look at these problems, then dig deeper into RNN."
      ],
      "metadata": {
        "id": "J2NNUpctRz82"
      }
    },
    {
      "cell_type": "markdown",
      "source": [
        "#### 1. They can not handle sequential data"
      ],
      "metadata": {
        "id": "KfTNIi8UhsLu"
      }
    },
    {
      "cell_type": "markdown",
      "source": [
        "Sequential data in RNN (Recurrent Neural Network) refers to any type of data where the observations have a temporal or sequential relationship. This could include time series data, where each observation is dependent on the previous one, or sequence data, where the order of the observations is important. In RNNs, this type of data is processed through the recurrent connections in the network, allowing the model to maintain and update an internal state based on the information in the sequence. This makes RNNs particularly well suited for tasks such as language modeling, speech recognition, and time series forecasting. There are some variations to the neural network’s configuration based on the shape of the input or output which you can see in the following:"
      ],
      "metadata": {
        "id": "BhxBLbBnkTtY"
      }
    },
    {
      "cell_type": "markdown",
      "source": [
        "<img src=\"https://raw.githubusercontent.com/aaubs/ds-master/main/data/Images/SeqData_RNN.png\" width=\"400\">\n",
        "\n"
      ],
      "metadata": {
        "id": "3k4r4FqTksyQ"
      }
    },
    {
      "cell_type": "markdown",
      "source": [
        "#### 2. They can not remember the sequence of the data, i.e order is not important"
      ],
      "metadata": {
        "id": "QgCDwtjPbxRI"
      }
    },
    {
      "cell_type": "markdown",
      "source": [
        "The second limitation of traditional neural networks is that they can not remember the sequence of the data, or the order is not important to them. Let’s understand this problem with an example which is shown in this figure (MIT 6.S191 Intro to Deep Learning)."
      ],
      "metadata": {
        "id": "r_nG9WWAb4f8"
      }
    },
    {
      "cell_type": "markdown",
      "source": [
        "![image.jpeg](https://raw.githubusercontent.com/aaubs/ds-master/main/data/Images/Problems-with-Traditional-Neural-Network-2.jpeg)"
      ],
      "metadata": {
        "id": "SAJh08ejgB18"
      }
    },
    {
      "cell_type": "markdown",
      "source": [
        "\n",
        "\n",
        "> *RNNs use feedback connections that allow information to be passed from one step of the sequence to the next, allowing the network to maintain and update an internal state that depends on the past input. This enables RNNs to capture and understand the dependencies and patterns in the sequence data, making them well suited for tasks such as natural language processing and time series analysis.*\n",
        "\n"
      ],
      "metadata": {
        "id": "Eyl8isKBg08O"
      }
    },
    {
      "cell_type": "markdown",
      "source": [
        "#### 3. ANN Can not share parameters across the sequence\n",
        "\n",
        "In traditional feedforward Artificial Neural Networks (ANNs), each input is processed independently and there is no mechanism for sharing parameters across different inputs in a sequence. For example, let’s take the sentence **“what is your name? My name is Lasse”**. In an ANN, each word would be treated as a separate input and would be processed through separate hidden layers. There is no way for the network to share information across words in the sequence, such as information about the relationship between words or about common features that occur across different parts of the sequence. In this case, \"name\"'s parameters should have been shared and so the neural network should have been able to determine that \"name\"'s words are dependent in this sentence."
      ],
      "metadata": {
        "id": "5_a87DZzYAA3"
      }
    },
    {
      "cell_type": "markdown",
      "source": [
        "\n",
        "\n",
        "> *In contrast, Recurrent Neural Networks (RNNs) have a hidden state that is updated at each time step, allowing the network to maintain information about the sequence and share parameters across different time steps. This makes RNNs well-suited for processing sequential data and for tasks such as sequence classification, language modeling, and machine translation*\n",
        "\n",
        "\n"
      ],
      "metadata": {
        "id": "BYpgv8E9baFb"
      }
    },
    {
      "cell_type": "markdown",
      "source": [
        "Therefore Recurrent Neural Networks (RNN), originally were designed to handle some of the shortcomings that traditional neural networks have when dealing with sequential data."
      ],
      "metadata": {
        "id": "5x-VbMMUiw6z"
      }
    },
    {
      "cell_type": "markdown",
      "source": [
        "## What is a Recurrent Neural Network?"
      ],
      "metadata": {
        "id": "JIhY3uV3ipL1"
      }
    },
    {
      "cell_type": "markdown",
      "source": [
        "Here we can see that the Simple Neural Network is unidirectional, which means it has a single direction, whereas the RNN, has loops inside it to persist the information over timestamp t. This looping preserves the information over the sequence."
      ],
      "metadata": {
        "id": "9EdoHDLRsC_j"
      }
    },
    {
      "cell_type": "markdown",
      "source": [
        "<img src=\"https://raw.githubusercontent.com/aaubs/ds-master/main/data/Images/FNN-RNN.png\" width=\"500\">"
      ],
      "metadata": {
        "id": "wYP4GSJpj4Fn"
      }
    },
    {
      "cell_type": "markdown",
      "source": [
        "#### Structure of RNN"
      ],
      "metadata": {
        "id": "WRRo4fLIGilr"
      }
    },
    {
      "cell_type": "markdown",
      "source": [
        "Now, let’s dig deeper to understand what is happening under the hood. An RNN consists of four different parts:\n",
        "1. Parameters (This includes the weights and biases of the input-to-hidden layer, the hidden-to-hidden layer, and the hidden-to-output layer.)\n",
        "> *The hidden state is used to capture the information from the previous time steps, but this information is not relevant after the training process is finished. Therefore, resetting the hidden-to-hidden layer parameters to zero ensures that the network starts with a clean slate for making predictions on new, unseen data.*\n",
        "\n",
        "2. The hidden state (also known as the context state)\n",
        "> *you can think of the hidden state as representing the \"memory\" of the network, which is updated at each time step and used to produce the output.*\n",
        "\n",
        "\n",
        "3. Non-Linear part (Activation Function (Tanh))\n",
        "> As you can see in the equation above, you feed in both input vector Xt and the previous state ht-1 into the function. Here you’ll have 2 separate weight matrices then apply the Non-linearity (tanh) to the sum of input Xt and previous state ht-1 after multiplication to these 2 weight matrices. <img src=\"https://raw.githubusercontent.com/aaubs/ds-master/main/data/Images/sequence-2.png\" width=\"300\">\n",
        "\n",
        "\n",
        "4. Linear part: Finally, you’ll have the output vector ŷt at the timestamp t.\n",
        "> <img src=\"https://raw.githubusercontent.com/aaubs/ds-master/main/data/Images/sequence-3.png\" width=\"150\"> \n",
        "\n",
        "\n",
        "\n",
        "\n"
      ],
      "metadata": {
        "id": "zFlqx_2isQAr"
      }
    },
    {
      "cell_type": "markdown",
      "source": [
        "### RNN code implementation"
      ],
      "metadata": {
        "id": "lyzMY5Q8sTWK"
      }
    },
    {
      "cell_type": "code",
      "execution_count": null,
      "metadata": {
        "id": "8eXPICSmvgdP"
      },
      "outputs": [],
      "source": [
        "import torch\n",
        "from torch.autograd import Variable\n",
        "import numpy as np\n",
        "import pandas as pd\n",
        "import pylab as pl\n",
        "import torch.nn.init as init\n",
        "from sklearn.preprocessing import MinMaxScaler"
      ]
    },
    {
      "cell_type": "markdown",
      "source": [
        "In Recurrent Neural Networks (RNNs), the terms \"input size\", \"hidden size\", and \"number of outputs\" refer to the following:\n",
        "> Input size: Refers to the number of features in a single input sample. For example, if the input is a one-hot encoded word, the input size would be the number of unique words in the vocabulary.\n",
        "\n",
        "> Hidden size: Refers to the number of neurons in the hidden layer. The hidden state of the RNN at each time step is represented by this layer, which helps to capture information from the past time steps.\n",
        "\n",
        "> Number of outputs: Refers to the number of outputs generated by the RNN. This could be one output for a simple prediction problem, or multiple outputs for a multi-task prediction problem.\n",
        "\n",
        "Note that these hyperparameters need to be set prior to training the RNN and their choice can affect the model's performance."
      ],
      "metadata": {
        "id": "L5175gDHG1lH"
      }
    },
    {
      "cell_type": "code",
      "source": [
        "input_size = 1\n",
        "hidden_size = 1\n",
        "output_size = 1\n",
        "\n",
        "x = Variable(torch.tensor([[0.1], [0.2], [0.3], [0.4]]).type(torch.FloatTensor), requires_grad=False)\n",
        "y = Variable(torch.tensor([[0.2], [0.3], [0.4], [0.5]]).type(torch.FloatTensor), requires_grad=False)"
      ],
      "metadata": {
        "id": "BI3NfaS_vyPi"
      },
      "execution_count": null,
      "outputs": []
    },
    {
      "cell_type": "markdown",
      "source": [
        "The \"input to hidden\" weights are the connections or weights between the input layer and the hidden layer, and these connections allow the network to learn how to propagate information from the input to the hidden state.\n",
        "\n",
        "The \"hidden to output\" weights are the connections or weights between the hidden layer and the output layer, and these connections allow the network to learn how to produce the final output based on the hidden state."
      ],
      "metadata": {
        "id": "ZfNYUio8H_gr"
      }
    },
    {
      "cell_type": "code",
      "source": [
        "# 1. Initialize the weights matrix\n",
        "# Initialize (the input to hidden) and (the hidden to hidden) weights matrix with the given input size, hidden size, and output size.\n",
        "Wi2h = torch.FloatTensor(input_size + hidden_size, hidden_size).type(torch.FloatTensor)\n",
        "Wh2h = torch.FloatTensor(hidden_size, output_size).type(torch.FloatTensor)\n",
        "\n",
        "# 2. Initialize the values of the weights matrix\n",
        "# Initialize the values of (the input to hidden) and (the hidden to hidden) weights with a normal distribution centered at 0.0 and with a standard deviation of 0.4.\n",
        "init.normal(Wi2h, 0.0, 0.4)\n",
        "init.normal(Wh2h, 0.0, 0.3)\n",
        "\n",
        "# 3. Create a PyTorch Variable of the weights matrix\n",
        "# Convert (the input to hidden) and (the hidden to hidden) weights to a PyTorch Variable with requires_grad=True, indicating that this tensor requires gradient computation.\n",
        "Wi2h = Variable(Wi2h, requires_grad = True)\n",
        "Wh2h = Variable(Wh2h, requires_grad = True)"
      ],
      "metadata": {
        "colab": {
          "base_uri": "https://localhost:8080/"
        },
        "id": "e24P8JkoYrIY",
        "outputId": "bcf9d3f8-d298-4093-b795-76c64cdf74b8"
      },
      "execution_count": null,
      "outputs": [
        {
          "output_type": "stream",
          "name": "stderr",
          "text": [
            "<ipython-input-18-2c2f0c298745>:8: UserWarning: nn.init.normal is now deprecated in favor of nn.init.normal_.\n",
            "  init.normal(Wi2h, 0.0, 0.4)\n",
            "<ipython-input-18-2c2f0c298745>:9: UserWarning: nn.init.normal is now deprecated in favor of nn.init.normal_.\n",
            "  init.normal(Wh2h, 0.0, 0.3)\n"
          ]
        }
      ]
    },
    {
      "cell_type": "code",
      "source": [
        "print('The input to hidden weights matrix values: \\n', Wi2h)\n",
        "print('The hidden to hidden weights matrix value: \\n', Wh2h)"
      ],
      "metadata": {
        "colab": {
          "base_uri": "https://localhost:8080/"
        },
        "id": "4Nx2itVm1xV6",
        "outputId": "01b85eb3-7e0c-4d7e-f858-eb3fd2e27394"
      },
      "execution_count": null,
      "outputs": [
        {
          "output_type": "stream",
          "name": "stdout",
          "text": [
            "The input to hidden weights matrix values: \n",
            " tensor([[-0.9005],\n",
            "        [ 0.0342]], requires_grad=True)\n",
            "The hidden to hidden weights matrix value: \n",
            " tensor([[0.1807]], requires_grad=True)\n"
          ]
        }
      ]
    },
    {
      "cell_type": "code",
      "source": [
        "print('The input to hidden weights matrix shape: ', Wi2h.shape)\n",
        "print('The hidden to hidden weights matrix shape: ', Wh2h.shape)"
      ],
      "metadata": {
        "colab": {
          "base_uri": "https://localhost:8080/"
        },
        "id": "czAyPsgsazQO",
        "outputId": "ef029447-97b0-4a48-c48d-82f2f7b84cb0"
      },
      "execution_count": null,
      "outputs": [
        {
          "output_type": "stream",
          "name": "stdout",
          "text": [
            "The input to hidden weights matrix shape:  torch.Size([2, 1])\n",
            "The hidden to hidden weights matrix shape:  torch.Size([1, 1])\n"
          ]
        }
      ]
    },
    {
      "cell_type": "markdown",
      "source": [
        "The forward pass is the process of computing the output for a given input sequence. The forward pass starts by initializing the hidden state of the RNN with a zero vector or some other randomly generated values."
      ],
      "metadata": {
        "id": "hUyMWlphcdmQ"
      }
    },
    {
      "cell_type": "markdown",
      "source": [
        "In the forward pass we understood how the inputs and the hidden states interact with the weights and biases of the recurrent layers and how to use the information contained in the last hidden state to predict the next time step value.\n"
      ],
      "metadata": {
        "id": "AcOyCY_b_Ji4"
      }
    },
    {
      "cell_type": "code",
      "source": [
        "# 1. Creating a BackForwardNetwork\n",
        "def backforward(input_size, context_state, Wi2h, Wh2h):\n",
        "   xh = torch.cat((input_size, context_state), 1)\n",
        "   context_state = torch.tanh(xh.mm(Wi2h))\n",
        "   out = context_state.mm(Wh2h)\n",
        "   return (out, context_state)"
      ],
      "metadata": {
        "id": "PueQsehWwesq"
      },
      "execution_count": null,
      "outputs": []
    },
    {
      "cell_type": "markdown",
      "source": [
        "RNNs use feedback connections that allow information to be passed from one step of the sequence to the next, allowing the network to maintain and update an internal state that depends on the past input. This enables RNNs to capture and understand the dependencies and patterns in the sequence data, making them well suited for tasks such as natural language processing and time series analysis."
      ],
      "metadata": {
        "id": "gn7f3NVGwOt0"
      }
    },
    {
      "cell_type": "markdown",
      "source": [
        "<img src=\"https://raw.githubusercontent.com/aaubs/ds-master/main/data/Images/rnn_timestamps.gif\" width=\"700\">"
      ],
      "metadata": {
        "id": "fjIw-SzZBD4E"
      }
    },
    {
      "cell_type": "markdown",
      "source": [
        "The backward pass is just the application of the chain rule from the loss gradient with respect to the predictions until it becomes with respect to the parameters we want to optimize."
      ],
      "metadata": {
        "id": "ss-PWvFz_ZTk"
      }
    },
    {
      "cell_type": "markdown",
      "source": [
        "<img src=\"https://raw.githubusercontent.com/aaubs/ds-master/main/data/Images/understanding-gradient-descent.png\" width=\"400\">"
      ],
      "metadata": {
        "id": "Ecjc8TjoDy2Y"
      }
    },
    {
      "cell_type": "code",
      "source": [
        "# Initializing Hyperparameters\n",
        "epochs = 300\n",
        "seq_length = 1\n",
        "lr = 0.1\n",
        "\n",
        "# Loop over the number of epochs\n",
        "for i in range(epochs):\n",
        "   total_loss = 0\n",
        "   # Initialize the context state as a variable with shape (1, hidden_size) and set requires_grad to True\n",
        "   context_state = Variable(torch.zeros((1, hidden_size)).type(torch.FloatTensor), requires_grad = True)\n",
        "   for j in range(x.size(0)):\n",
        "      # Get the input and target at position j\n",
        "      input = x[j:(j+1)]\n",
        "      target = y[j:(j+1)]\n",
        "\n",
        "      # Run the forward pass\n",
        "      (pred, context_state) = backforward(input, context_state, Wi2h, Wh2h)\n",
        "\n",
        "      # 2. Network Evaluation\n",
        "      loss = (pred - target).pow(2).sum()/2\n",
        "      total_loss += loss\n",
        "\n",
        "      # 3. Gradient Calculation\n",
        "      loss.backward()\n",
        "\n",
        "      # 4. Back Propagation\n",
        "      Wi2h.data -= lr * Wi2h.grad.data\n",
        "      Wh2h.data -= lr * Wh2h.grad.data\n",
        "      Wi2h.grad.data.zero_()\n",
        "      Wh2h.grad.data.zero_()\n",
        "      context_state = Variable(context_state.data)\n",
        "  \n",
        "  \n",
        "   # Print the loss every 10 epochs\n",
        "   if i % 10 == 0:\n",
        "      print(\"Epoch: {} loss {}\".format(i, total_loss.data))"
      ],
      "metadata": {
        "colab": {
          "base_uri": "https://localhost:8080/"
        },
        "id": "Pm9nrCqEwhRX",
        "outputId": "6c936e0c-aa5b-4841-e2e8-de6ac8bbcf6e"
      },
      "execution_count": null,
      "outputs": [
        {
          "output_type": "stream",
          "name": "stdout",
          "text": [
            "Epoch: 0 loss 0.33313584327697754\n",
            "Epoch: 10 loss 0.2095305174589157\n",
            "Epoch: 20 loss 0.11528186500072479\n",
            "Epoch: 30 loss 0.0468616783618927\n",
            "Epoch: 40 loss 0.015346847474575043\n",
            "Epoch: 50 loss 0.006388046778738499\n",
            "Epoch: 60 loss 0.004518741276115179\n",
            "Epoch: 70 loss 0.004150786437094212\n",
            "Epoch: 80 loss 0.004045214969664812\n",
            "Epoch: 90 loss 0.003982219845056534\n",
            "Epoch: 100 loss 0.003926410805433989\n",
            "Epoch: 110 loss 0.003872348926961422\n",
            "Epoch: 120 loss 0.003819213015958667\n",
            "Epoch: 130 loss 0.003766884095966816\n",
            "Epoch: 140 loss 0.003715335624292493\n",
            "Epoch: 150 loss 0.003664541058242321\n",
            "Epoch: 160 loss 0.0036145017948001623\n",
            "Epoch: 170 loss 0.0035651957150548697\n",
            "Epoch: 180 loss 0.0035166123416274786\n",
            "Epoch: 190 loss 0.00346874026581645\n",
            "Epoch: 200 loss 0.0034215664491057396\n",
            "Epoch: 210 loss 0.003375075291842222\n",
            "Epoch: 220 loss 0.003329257247969508\n",
            "Epoch: 230 loss 0.0032841023057699203\n",
            "Epoch: 240 loss 0.0032396013848483562\n",
            "Epoch: 250 loss 0.003195737721398473\n",
            "Epoch: 260 loss 0.003152505960315466\n",
            "Epoch: 270 loss 0.0031098942272365093\n",
            "Epoch: 280 loss 0.003067893208935857\n",
            "Epoch: 290 loss 0.0030264907982200384\n"
          ]
        }
      ]
    },
    {
      "cell_type": "markdown",
      "source": [
        "The hidden state is used to capture the information from the previous time steps, but this information is not relevant after the training process is finished. Therefore, resetting the hidden state to zero ensures that the network starts with a clean slate for making predictions on new, unseen data.\n"
      ],
      "metadata": {
        "id": "9gCpg1IMx3cF"
      }
    },
    {
      "cell_type": "markdown",
      "source": [
        "<img src=\"https://raw.githubusercontent.com/aaubs/ds-master/main/data/Images/rnn-shorttermmemory.gif\" width=\"400\">"
      ],
      "metadata": {
        "id": "Zv93vePiy-CC"
      }
    },
    {
      "cell_type": "code",
      "source": [
        "context_state = Variable(torch.zeros((1, hidden_size)).type(torch.FloatTensor), requires_grad = False)\n",
        "predictions = []\n",
        "\n",
        "for i in range(x.size(0)):\n",
        "   input = x[i:i+1]\n",
        "   (pred, context_state) = backforward(input, context_state, Wi2h, Wh2h)\n",
        "   context_state = context_state\n",
        "   predictions.append(pred.data.numpy().ravel()[0])"
      ],
      "metadata": {
        "id": "8buG1LjToPZq"
      },
      "execution_count": null,
      "outputs": []
    },
    {
      "cell_type": "code",
      "source": [
        "data_time_steps = np.linspace(2, 10, x.shape[0])\n",
        "\n",
        "pl.scatter(data_time_steps[:], y.data.numpy(), s = 90, label = \"Actual\")\n",
        "pl.scatter(data_time_steps[:], predictions, label = \"Predicted\")\n",
        "pl.legend()\n",
        "pl.show()"
      ],
      "metadata": {
        "colab": {
          "base_uri": "https://localhost:8080/",
          "height": 265
        },
        "id": "R9o1xLH5wkFB",
        "outputId": "789bedfa-492d-4d00-b46e-63afbca7f638"
      },
      "execution_count": null,
      "outputs": [
        {
          "output_type": "display_data",
          "data": {
            "text/plain": [
              "<Figure size 432x288 with 1 Axes>"
            ],
            "image/png": "[encoded data removed]"
          },
          "metadata": {
            "needs_background": "light"
          }
        }
      ]
    },
    {
      "cell_type": "code",
      "source": [
        "predictions"
      ],
      "metadata": {
        "colab": {
          "base_uri": "https://localhost:8080/"
        },
        "id": "iF6jKbXtxwgM",
        "outputId": "94f919dc-dc35-4da8-c9cc-f330552f9ed7"
      },
      "execution_count": null,
      "outputs": [
        {
          "output_type": "execute_result",
          "data": {
            "text/plain": [
              "[0.13133748, 0.27376682, 0.40610337, 0.52211994]"
            ]
          },
          "metadata": {},
          "execution_count": 25
        }
      ]
    },
    {
      "cell_type": "code",
      "source": [
        "y"
      ],
      "metadata": {
        "colab": {
          "base_uri": "https://localhost:8080/"
        },
        "id": "asdTgR00wsIn",
        "outputId": "58498c70-65a4-464e-c193-6837cb7d6564"
      },
      "execution_count": null,
      "outputs": [
        {
          "output_type": "execute_result",
          "data": {
            "text/plain": [
              "tensor([[0.2000],\n",
              "        [0.3000],\n",
              "        [0.4000],\n",
              "        [0.5000]])"
            ]
          },
          "metadata": {},
          "execution_count": 26
        }
      ]
    },
    {
      "cell_type": "markdown",
      "source": [
        "### Which parameters have been trained and should be saved?"
      ],
      "metadata": {
        "id": "Qg9pMoqr2OE2"
      }
    },
    {
      "cell_type": "markdown",
      "source": [
        "The \"input to hidden\" as Wi2h and the \"hidden to hidden\" as Wh2h weights are learned during the training process through backpropagation and gradient descent optimization algorithms, and they determine the strength of the relationships between the input, hidden, and output layers."
      ],
      "metadata": {
        "id": "qVNe2og85Mxi"
      }
    },
    {
      "cell_type": "code",
      "source": [
        "Wi2h"
      ],
      "metadata": {
        "colab": {
          "base_uri": "https://localhost:8080/"
        },
        "id": "QALKKMNw1l3j",
        "outputId": "1658d2aa-0ab0-40c0-fead-137b3b83f9d7"
      },
      "execution_count": null,
      "outputs": [
        {
          "output_type": "execute_result",
          "data": {
            "text/plain": [
              "tensor([[-1.3332],\n",
              "        [ 0.1282]], requires_grad=True)"
            ]
          },
          "metadata": {},
          "execution_count": 27
        }
      ]
    },
    {
      "cell_type": "code",
      "source": [
        "Wh2h"
      ],
      "metadata": {
        "colab": {
          "base_uri": "https://localhost:8080/"
        },
        "id": "asfw-zXY1qiF",
        "outputId": "f0870974-e61b-4796-f918-f646deae2e7e"
      },
      "execution_count": null,
      "outputs": [
        {
          "output_type": "execute_result",
          "data": {
            "text/plain": [
              "tensor([[-0.9909]], requires_grad=True)"
            ]
          },
          "metadata": {},
          "execution_count": 28
        }
      ]
    },
    {
      "cell_type": "markdown",
      "source": [
        "## How does PyTorch help to implement an RNN?\n"
      ],
      "metadata": {
        "id": "z1NQv-uxetdr"
      }
    },
    {
      "cell_type": "markdown",
      "source": [
        "Let's implement this code using PyTorch!"
      ],
      "metadata": {
        "id": "RK3YjT2uggx-"
      }
    },
    {
      "cell_type": "code",
      "execution_count": null,
      "metadata": {
        "id": "FHf9wC3T0R7Z"
      },
      "outputs": [],
      "source": [
        "import torch\n",
        "from torch.autograd import Variable\n",
        "import numpy as np\n",
        "import pylab as pl\n",
        "import torch.nn.init as init"
      ]
    },
    {
      "cell_type": "code",
      "source": [
        "# Define the input size, hidden size and number of outputs\n",
        "\n",
        "input_size = 1\n",
        "hidden_size = 1\n",
        "output_size = 1\n",
        "\n",
        "epochs = 1000\n",
        "seq_length = 2\n",
        "lr = 0.3\n",
        "\n",
        "\n",
        "x = Variable(torch.tensor([[0.1], [0.2], [0.3], [0.4]]).type(torch.FloatTensor), requires_grad=False)\n",
        "y = Variable(torch.tensor([[0.2], [0.3], [0.4], [0.5]]).type(torch.FloatTensor), requires_grad=False)"
      ],
      "metadata": {
        "id": "d_3Uyse-0R7Z"
      },
      "execution_count": null,
      "outputs": []
    },
    {
      "cell_type": "code",
      "source": [
        "# 1. Creating a RNN model\n",
        "rnn = torch.nn.RNN(input_size, hidden_size, batch_first=True)\n",
        "\n",
        "# Initialize the output layer\n",
        "fc = torch.nn.Linear(hidden_size, output_size)\n",
        "\n",
        "\n",
        "# Define the loss function and optimizer\n",
        "criterion = torch.nn.MSELoss()\n",
        "optimizer = torch.optim.SGD(rnn.parameters(), lr=0.3)"
      ],
      "metadata": {
        "id": "2qQdk16m2hyW"
      },
      "execution_count": null,
      "outputs": []
    },
    {
      "cell_type": "code",
      "source": [
        "# Combine the parameters of the LSTM layer and linear layer\n",
        "params = list(rnn.parameters()) + list(fc.parameters())\n",
        "\n",
        "# Print the number of parameters\n",
        "print(\"Number of parameters:\", sum(p.numel() for p in params))\n",
        "\n",
        "# Print the shapes of the parameters\n",
        "for name, param in rnn.named_parameters():\n",
        "    print(\"Name: \", name)\n",
        "    print(\"shape: \", param.shape)\n",
        "    print(param)"
      ],
      "metadata": {
        "colab": {
          "base_uri": "https://localhost:8080/"
        },
        "id": "0zWfVNQfEU3o",
        "outputId": "5d18b936-ce9e-47f5-f955-f317324e6f18"
      },
      "execution_count": null,
      "outputs": [
        {
          "output_type": "stream",
          "name": "stdout",
          "text": [
            "Number of parameters: 6\n",
            "Name:  weight_ih_l0\n",
            "shape:  torch.Size([1, 1])\n",
            "Parameter containing:\n",
            "tensor([[0.3578]], requires_grad=True)\n",
            "Name:  weight_hh_l0\n",
            "shape:  torch.Size([1, 1])\n",
            "Parameter containing:\n",
            "tensor([[-0.7215]], requires_grad=True)\n",
            "Name:  bias_ih_l0\n",
            "shape:  torch.Size([1])\n",
            "Parameter containing:\n",
            "tensor([0.1824], requires_grad=True)\n",
            "Name:  bias_hh_l0\n",
            "shape:  torch.Size([1])\n",
            "Parameter containing:\n",
            "tensor([0.9001], requires_grad=True)\n"
          ]
        }
      ]
    },
    {
      "cell_type": "code",
      "source": [
        "for i in range(epochs):\n",
        "   total_loss = 0\n",
        "   for j in range(x.size(0)):\n",
        "      input = x[j:(j+1)]\n",
        "      target = y[j:(j+1)]\n",
        "\n",
        "      # Initialize the hidden state\n",
        "      h0 = torch.zeros(1,  hidden_size)\n",
        "\n",
        "      # Forward pass\n",
        "      out, hn = rnn(input, h0)\n",
        "\n",
        "      # 2. Model Evaluation\n",
        "      y_pred = fc(hn.squeeze(0))\n",
        "      loss = criterion(y_pred.view(-1), target)\n",
        "    \n",
        "      # 3. Gradient Calculation\n",
        "      optimizer.zero_grad()\n",
        "      total_loss += loss\n",
        "      loss.backward()\n",
        "\n",
        "      # 4. Back Propagation\n",
        "      optimizer.step()\n",
        "   # display loss \n",
        "   if i % 10 == 0:\n",
        "      print(\"Epoch: {} loss {}\".format(i, total_loss.data))"
      ],
      "metadata": {
        "colab": {
          "base_uri": "https://localhost:8080/"
        },
        "outputId": "cb7b80e4-f031-4d5f-8fc2-0ddbf32dacec",
        "id": "NmGOaqWb0R7a"
      },
      "execution_count": null,
      "outputs": [
        {
          "output_type": "stream",
          "name": "stdout",
          "text": [
            "Epoch: 0 loss 1.5554523468017578\n",
            "Epoch: 10 loss 0.02865719236433506\n",
            "Epoch: 20 loss 0.023501649498939514\n",
            "Epoch: 30 loss 0.019161978736519814\n",
            "Epoch: 40 loss 0.015542237088084221\n",
            "Epoch: 50 loss 0.012556536123156548\n",
            "Epoch: 60 loss 0.010118834674358368\n",
            "Epoch: 70 loss 0.008144168183207512\n",
            "Epoch: 80 loss 0.0065530939027667046\n",
            "Epoch: 90 loss 0.005275128409266472\n",
            "Epoch: 100 loss 0.004250234924256802\n",
            "Epoch: 110 loss 0.0034285990986973047\n",
            "Epoch: 120 loss 0.002769703045487404\n",
            "Epoch: 130 loss 0.002240898087620735\n",
            "Epoch: 140 loss 0.0018160605104640126\n",
            "Epoch: 150 loss 0.0014743651263415813\n",
            "Epoch: 160 loss 0.0011992081999778748\n",
            "Epoch: 170 loss 0.0009773604106158018\n",
            "Epoch: 180 loss 0.000798290129750967\n",
            "Epoch: 190 loss 0.0006535811116918921\n",
            "Epoch: 200 loss 0.0005365043180063367\n",
            "Epoch: 210 loss 0.000441679178038612\n",
            "Epoch: 220 loss 0.0003647962003014982\n",
            "Epoch: 230 loss 0.0003023929020855576\n",
            "Epoch: 240 loss 0.0002516917884349823\n",
            "Epoch: 250 loss 0.00021045216999482363\n",
            "Epoch: 260 loss 0.00017687286890577525\n",
            "Epoch: 270 loss 0.00014950009062886238\n",
            "Epoch: 280 loss 0.00012716226046904922\n",
            "Epoch: 290 loss 0.0001089111901819706\n",
            "Epoch: 300 loss 9.39835372264497e-05\n",
            "Epoch: 310 loss 8.175654511433095e-05\n",
            "Epoch: 320 loss 7.173071207944304e-05\n",
            "Epoch: 330 loss 6.349491013679653e-05\n",
            "Epoch: 340 loss 5.6721357395872474e-05\n",
            "Epoch: 350 loss 5.114159284858033e-05\n",
            "Epoch: 360 loss 4.653629366657697e-05\n",
            "Epoch: 370 loss 4.272921432857402e-05\n",
            "Epoch: 380 loss 3.957505032303743e-05\n",
            "Epoch: 390 loss 3.695728082675487e-05\n",
            "Epoch: 400 loss 3.4778739063767716e-05\n",
            "Epoch: 410 loss 3.296289287391119e-05\n",
            "Epoch: 420 loss 3.144350557704456e-05\n",
            "Epoch: 430 loss 3.0170456739142537e-05\n",
            "Epoch: 440 loss 2.9099779567332007e-05\n",
            "Epoch: 450 loss 2.8197442588862032e-05\n",
            "Epoch: 460 loss 2.7433567083789967e-05\n",
            "Epoch: 470 loss 2.6785573936649598e-05\n",
            "Epoch: 480 loss 2.6233272365061566e-05\n",
            "Epoch: 490 loss 2.5761099095689133e-05\n",
            "Epoch: 500 loss 2.535620478738565e-05\n",
            "Epoch: 510 loss 2.5007382646435872e-05\n",
            "Epoch: 520 loss 2.4704582756385207e-05\n",
            "Epoch: 530 loss 2.4441796995233744e-05\n",
            "Epoch: 540 loss 2.4212948119384237e-05\n",
            "Epoch: 550 loss 2.401227357040625e-05\n",
            "Epoch: 560 loss 2.3835351385059766e-05\n",
            "Epoch: 570 loss 2.3678519937675446e-05\n",
            "Epoch: 580 loss 2.3539405447081663e-05\n",
            "Epoch: 590 loss 2.34149210882606e-05\n",
            "Epoch: 600 loss 2.330348070245236e-05\n",
            "Epoch: 610 loss 2.3202183001558296e-05\n",
            "Epoch: 620 loss 2.311146818101406e-05\n",
            "Epoch: 630 loss 2.3027610950521193e-05\n",
            "Epoch: 640 loss 2.2951315258978866e-05\n",
            "Epoch: 650 loss 2.2881349650560878e-05\n",
            "Epoch: 660 loss 2.2816362616140395e-05\n",
            "Epoch: 670 loss 2.2756034013582394e-05\n",
            "Epoch: 680 loss 2.2700194676872343e-05\n",
            "Epoch: 690 loss 2.264807335450314e-05\n",
            "Epoch: 700 loss 2.259846769447904e-05\n",
            "Epoch: 710 loss 2.255157414765563e-05\n",
            "Epoch: 720 loss 2.2507887479150668e-05\n",
            "Epoch: 730 loss 2.2465581423602998e-05\n",
            "Epoch: 740 loss 2.242568189103622e-05\n",
            "Epoch: 750 loss 2.23869410547195e-05\n",
            "Epoch: 760 loss 2.235025749541819e-05\n",
            "Epoch: 770 loss 2.2314683519653045e-05\n",
            "Epoch: 780 loss 2.2280148186837323e-05\n",
            "Epoch: 790 loss 2.2247331799007952e-05\n",
            "Epoch: 800 loss 2.2214440832613036e-05\n",
            "Epoch: 810 loss 2.218273948528804e-05\n",
            "Epoch: 820 loss 2.2152182282297872e-05\n",
            "Epoch: 830 loss 2.2121672373032197e-05\n",
            "Epoch: 840 loss 2.209201738878619e-05\n",
            "Epoch: 850 loss 2.2062809875933453e-05\n",
            "Epoch: 860 loss 2.2034149878891185e-05\n",
            "Epoch: 870 loss 2.200569724664092e-05\n",
            "Epoch: 880 loss 2.1977670257911086e-05\n",
            "Epoch: 890 loss 2.1950301743345335e-05\n",
            "Epoch: 900 loss 2.192340798501391e-05\n",
            "Epoch: 910 loss 2.189647602790501e-05\n",
            "Epoch: 920 loss 2.1869571355637163e-05\n",
            "Epoch: 930 loss 2.1843541617272422e-05\n",
            "Epoch: 940 loss 2.1817273591295816e-05\n",
            "Epoch: 950 loss 2.179116017941851e-05\n",
            "Epoch: 960 loss 2.1765652491012588e-05\n",
            "Epoch: 970 loss 2.1739420844824053e-05\n",
            "Epoch: 980 loss 2.1714142349082977e-05\n",
            "Epoch: 990 loss 2.168881837860681e-05\n"
          ]
        }
      ]
    },
    {
      "cell_type": "code",
      "source": [
        "predictions = []\n",
        "\n",
        "for i in range(x.size(0)):\n",
        "   input = x[i:i+1]\n",
        "   # Forward pass\n",
        "   out, hn = rnn(input, h0)\n",
        "   # Pass the hidden state through the output layer\n",
        "   y_pred = fc(hn.squeeze(0))\n",
        "   predictions.append(y_pred.data.numpy().ravel()[0])"
      ],
      "metadata": {
        "id": "knhdQPnB3-4S"
      },
      "execution_count": null,
      "outputs": []
    },
    {
      "cell_type": "code",
      "source": [
        "data_time_steps"
      ],
      "metadata": {
        "colab": {
          "base_uri": "https://localhost:8080/"
        },
        "id": "0Xyxz85Z4bF3",
        "outputId": "247433a0-ddc5-446e-cc01-720412fccbce"
      },
      "execution_count": null,
      "outputs": [
        {
          "output_type": "execute_result",
          "data": {
            "text/plain": [
              "array([ 2.        ,  4.66666667,  7.33333333, 10.        ])"
            ]
          },
          "metadata": {},
          "execution_count": 33
        }
      ]
    },
    {
      "cell_type": "code",
      "source": [
        "data_time_steps = np.linspace(2, 10, x.shape[0])\n",
        "\n",
        "pl.scatter(data_time_steps[:], y.data.numpy(), s = 90, label = \"Actual\")\n",
        "pl.scatter(data_time_steps[:], predictions, label = \"Predicted\")\n",
        "pl.legend()\n",
        "pl.show()"
      ],
      "metadata": {
        "colab": {
          "base_uri": "https://localhost:8080/",
          "height": 265
        },
        "outputId": "ee7292c4-b3ad-43a9-c370-b392e0ade223",
        "id": "Lt0EG_uf0R7a"
      },
      "execution_count": null,
      "outputs": [
        {
          "output_type": "display_data",
          "data": {
            "text/plain": [
              "<Figure size 432x288 with 1 Axes>"
            ],
            "image/png": "[encoded data removed]"
          },
          "metadata": {
            "needs_background": "light"
          }
        }
      ]
    },
    {
      "cell_type": "code",
      "source": [
        "# Combine the parameters of the LSTM layer and linear layer\n",
        "params = list(rnn.parameters()) + list(fc.parameters())\n",
        "\n",
        "# Print the number of parameters\n",
        "print(\"Number of parameters:\", sum(p.numel() for p in params))\n",
        "\n",
        "# Print the shapes of the parameters\n",
        "for name, param in rnn.named_parameters():\n",
        "    print(\"Name:\", name)\n",
        "    print(\"Shape:\", param.shape)"
      ],
      "metadata": {
        "colab": {
          "base_uri": "https://localhost:8080/"
        },
        "id": "ZWM1b9iKMkKe",
        "outputId": "ee201cab-42ce-4525-8f96-608c74640d1e"
      },
      "execution_count": null,
      "outputs": [
        {
          "output_type": "stream",
          "name": "stdout",
          "text": [
            "Number of parameters: 13\n",
            "Name: weight_ih_l0\n",
            "Shape: torch.Size([2, 1])\n",
            "Name: weight_hh_l0\n",
            "Shape: torch.Size([2, 2])\n",
            "Name: bias_ih_l0\n",
            "Shape: torch.Size([2])\n",
            "Name: bias_hh_l0\n",
            "Shape: torch.Size([2])\n"
          ]
        }
      ]
    }
  ]
}