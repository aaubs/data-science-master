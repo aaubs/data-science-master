{
  "nbformat": 4,
  "nbformat_minor": 0,
  "metadata": {
    "colab": {
      "provenance": []
    },
    "kernelspec": {
      "name": "python3",
      "display_name": "Python 3"
    },
    "language_info": {
      "name": "python"
    }
  },
  "cells": [
    {
      "cell_type": "markdown",
      "metadata": {
        "id": "E-RCcRQUZAoZ"
      },
      "source": [
        "# Introduction to Supervised Machine Leearning (SML)\n",
        "\n",
        "Welcome to this introduction to machine learning (ML). In this session we cover the following topics\n",
        "1. Generalizating and valididating from ML models.\n",
        "2. The Bias-Variance Trade-Off\n",
        "3. Out-of-sample testing and cross-validation workflows\n",
        "4. Implementing Ml workflows in the Python (Sklearn) ecosystem."
      ]
    },
    {
      "cell_type": "code",
      "metadata": {
        "id": "MdCF5_Pz6EJO"
      },
      "source": [
        "# loading essential libraries\n",
        "\n",
        "import numpy as np\n",
        "import pandas as pd\n",
        "import seaborn as sns\n",
        "import statsmodels.api as sm\n",
        "\n",
        "sns.set(style=\"darkgrid\", color_codes=True)"
      ],
      "execution_count": null,
      "outputs": []
    },
    {
      "cell_type": "markdown",
      "metadata": {
        "id": "QcIXysyDZMXn"
      },
      "source": [
        "# The very basics:"
      ]
    },
    {
      "cell_type": "markdown",
      "source": [
        "## Regression problems\n",
        "\n",
        "Let' do a brief example for a simple linear model. We generate some data, where $y$ is a linear function of $x$ plus some random error.\n",
        "\n",
        "Here the idea is to get the model to figure out parameters that we intentionally set to generate the data. It is also a useful way of thinking about the relationship between inferential statistics / econometrics and machine learning."
      ],
      "metadata": {
        "id": "n7Mf_veu7bpg"
      }
    },
    {
      "cell_type": "code",
      "metadata": {
        "id": "CxDGjO6H7Y_-"
      },
      "source": [
        "np.random.seed(21)\n",
        "\n",
        "beta0 = 15\n",
        "beta1 = 0.3"
      ],
      "execution_count": null,
      "outputs": []
    },
    {
      "cell_type": "code",
      "metadata": {
        "id": "du0cebp57NbE"
      },
      "source": [
        "x = np.random.uniform(0,100, 500)\n",
        "y = beta0 + (beta1*x) + np.random.normal(0, 5, 500)"
      ],
      "execution_count": null,
      "outputs": []
    },
    {
      "cell_type": "code",
      "metadata": {
        "id": "PEOpPu-68RJO"
      },
      "source": [
        "sns.scatterplot(x = x, y = y)"
      ],
      "execution_count": null,
      "outputs": []
    },
    {
      "cell_type": "markdown",
      "metadata": {
        "id": "aFr17AHLZ6hS"
      },
      "source": [
        "Now that we have generated some data we can use statsmodels to run a simple linear regression.\n",
        "PS: Later we will not be using statsmodels as it isn't really a machine learning package. However, it is useful for this demo."
      ]
    },
    {
      "cell_type": "code",
      "metadata": {
        "id": "Pfc4_FOn8cGP"
      },
      "source": [
        "X = sm.add_constant(x)\n",
        "\n",
        "mod = sm.OLS(y, X)\n",
        "res = mod.fit()\n",
        "\n",
        "print(res.summary2())"
      ],
      "execution_count": null,
      "outputs": []
    },
    {
      "cell_type": "code",
      "metadata": {
        "id": "kWMp7h0e9iOD"
      },
      "source": [
        "sns.regplot(x = x, y = y, line_kws={\"color\": \"orange\"})"
      ],
      "execution_count": null,
      "outputs": []
    },
    {
      "cell_type": "markdown",
      "metadata": {
        "id": "kc6EfTbIa3Vs"
      },
      "source": [
        "\n",
        "We see it got the underlying relationship somewhat correct. Keep in mind, its ability to discover it is also limited by the small sample, where small random errors can bias the result.\n",
        "\n",
        "We can now use `predict()` to predict y values due to the fitted model.\n",
        "\n"
      ]
    },
    {
      "cell_type": "code",
      "metadata": {
        "id": "YZ0Skzt5B528"
      },
      "source": [
        "y_pred = res.predict(X)"
      ],
      "execution_count": null,
      "outputs": []
    },
    {
      "cell_type": "code",
      "metadata": {
        "id": "PvLxv7cZCJhc"
      },
      "source": [
        "sns.scatterplot(x = x, y = y, alpha=0.5)\n",
        "sns.scatterplot(x = x, y = y_pred)"
      ],
      "execution_count": null,
      "outputs": []
    },
    {
      "cell_type": "markdown",
      "metadata": {
        "id": "sFLtjkWvbBr-"
      },
      "source": [
        "It obviously predicts along th straight function line. Due to the random noise introduced, it is most of the time off a bit. Lets calculate the error term\n",
        "\n"
      ]
    },
    {
      "cell_type": "code",
      "metadata": {
        "id": "fb1EDq8sCZMF"
      },
      "source": [
        "error_reg = y - y_pred"
      ],
      "execution_count": null,
      "outputs": []
    },
    {
      "cell_type": "code",
      "metadata": {
        "id": "a1AXe__XDmtH"
      },
      "source": [
        "np.mean(error_reg)"
      ],
      "execution_count": null,
      "outputs": []
    },
    {
      "cell_type": "markdown",
      "metadata": {
        "id": "Fuh94LWibGjx"
      },
      "source": [
        "\n",
        "On average the error is very low. However, keep in mind positive and negative errors cancel each others out. Lets look at the RSME better.\n",
        "\n"
      ]
    },
    {
      "cell_type": "code",
      "metadata": {
        "id": "PvvMoNTBDqFz"
      },
      "source": [
        "np.sqrt(np.mean(error_reg**2))"
      ],
      "execution_count": null,
      "outputs": []
    },
    {
      "cell_type": "markdown",
      "metadata": {
        "id": "v0Z9mTFGbP2V"
      },
      "source": [
        "\n",
        "However, we predicted on the data the model was fitted on. How would it fair on new data?\n",
        "\n"
      ]
    },
    {
      "cell_type": "code",
      "metadata": {
        "id": "yCyXVmlBDx7D"
      },
      "source": [
        "np.random.seed(42)"
      ],
      "execution_count": null,
      "outputs": []
    },
    {
      "cell_type": "code",
      "metadata": {
        "id": "xdTU4kMhGgpR"
      },
      "source": [
        "x_new = np.random.uniform(0,100, 500)\n",
        "y_new = beta0 + (beta1*x_new) + np.random.normal(0, 5, 500)"
      ],
      "execution_count": null,
      "outputs": []
    },
    {
      "cell_type": "code",
      "metadata": {
        "id": "8ACRRxV-GtJW"
      },
      "source": [
        "X_new = sm.add_constant(x_new)"
      ],
      "execution_count": null,
      "outputs": []
    },
    {
      "cell_type": "code",
      "metadata": {
        "id": "_s_W0hvaHBa2"
      },
      "source": [
        "y_pred_new = res.predict(X_new)"
      ],
      "execution_count": null,
      "outputs": []
    },
    {
      "cell_type": "code",
      "metadata": {
        "id": "AlE_SG3bHaiR"
      },
      "source": [
        "error_reg_new = y_new - y_pred_new"
      ],
      "execution_count": null,
      "outputs": []
    },
    {
      "cell_type": "code",
      "metadata": {
        "id": "UR2XMAFyHnFE"
      },
      "source": [
        "np.sqrt(np.mean(error_reg_new**2))"
      ],
      "execution_count": null,
      "outputs": []
    },
    {
      "cell_type": "markdown",
      "metadata": {
        "id": "m4DkPKTzbWWu"
      },
      "source": [
        "\n",
        "## Classification problems\n",
        "\n",
        "Ok, lets try the same with a binary class prediction. Lets create a random x and an associated binary y.\n",
        "\n"
      ]
    },
    {
      "cell_type": "code",
      "metadata": {
        "id": "BX09NdGxIIjE"
      },
      "source": [
        "np.random.seed(21)"
      ],
      "execution_count": null,
      "outputs": []
    },
    {
      "cell_type": "code",
      "metadata": {
        "id": "N3co80U0IvTS"
      },
      "source": [
        "beta1 = 5\n",
        "\n",
        "x = np.random.normal(0, 1, 500)\n",
        "y = np.random.binomial(1, 1/(1+np.exp(-(beta1*x))))"
      ],
      "execution_count": null,
      "outputs": []
    },
    {
      "cell_type": "code",
      "metadata": {
        "id": "hwHJyORIJirb"
      },
      "source": [
        "sns.scatterplot(x = x, y = y, alpha=0.5)"
      ],
      "execution_count": null,
      "outputs": []
    },
    {
      "cell_type": "markdown",
      "metadata": {
        "id": "xFp9v8fsbk-j"
      },
      "source": [
        "\n",
        "let's fit a logistic regression on that\n"
      ]
    },
    {
      "cell_type": "code",
      "metadata": {
        "id": "y6RuloOyK3e0"
      },
      "source": [
        "X = sm.add_constant(x)\n",
        "\n",
        "mod = sm.GLM(y, X, sm.families.Binomial())\n",
        "res = mod.fit()"
      ],
      "execution_count": null,
      "outputs": []
    },
    {
      "cell_type": "code",
      "metadata": {
        "id": "FCyiZT9HLPVh"
      },
      "source": [
        "print(res.summary2())"
      ],
      "execution_count": null,
      "outputs": []
    },
    {
      "cell_type": "markdown",
      "metadata": {
        "id": "fkX47PrTbpko"
      },
      "source": [
        "\n",
        "\n",
        "We can again visualize it:\n",
        "\n"
      ]
    },
    {
      "cell_type": "code",
      "metadata": {
        "id": "x9aF5TLgLVne"
      },
      "source": [
        "sns.regplot(x= x, y = y, logistic=True)"
      ],
      "execution_count": null,
      "outputs": []
    },
    {
      "cell_type": "markdown",
      "metadata": {
        "id": "XLo5E2fibuES"
      },
      "source": [
        "\n",
        "We can use this fitted model to predict the datapoints y-class. Here, we have the choice to either report the **predicted class** or the **predicted probability**. We do both.\n",
        "\n"
      ]
    },
    {
      "cell_type": "code",
      "metadata": {
        "id": "hCS3PWH-MTwI"
      },
      "source": [
        "y_pred = res.predict(X)\n",
        "y_pred_class = np.round(y_pred)"
      ],
      "execution_count": null,
      "outputs": []
    },
    {
      "cell_type": "code",
      "metadata": {
        "id": "_tfP_nMnMtAr"
      },
      "source": [
        "data_class = pd.DataFrame({'x':x,\n",
        "                           'y':y,\n",
        "                           'predicted' : y_pred,\n",
        "                           'predicted_class' : y_pred_class})"
      ],
      "execution_count": null,
      "outputs": []
    },
    {
      "cell_type": "code",
      "metadata": {
        "id": "y-WerS9mNdfy"
      },
      "source": [
        "data_class.head()"
      ],
      "execution_count": null,
      "outputs": []
    },
    {
      "cell_type": "markdown",
      "metadata": {
        "id": "YhwsEF5dcHc1"
      },
      "source": [
        "From here we can look into different ways to measure the performance of our trained model."
      ]
    },
    {
      "cell_type": "code",
      "metadata": {
        "id": "WigGXbM6NiDR"
      },
      "source": [
        "from sklearn.metrics import confusion_matrix\n",
        "from sklearn.metrics import classification_report"
      ],
      "execution_count": null,
      "outputs": []
    },
    {
      "cell_type": "code",
      "metadata": {
        "id": "OVrIpYAvN0Bh"
      },
      "source": [
        "cm_log = confusion_matrix(y, y_pred_class)"
      ],
      "execution_count": null,
      "outputs": []
    },
    {
      "cell_type": "code",
      "metadata": {
        "id": "JvbMKSUCN5-8"
      },
      "source": [
        "cm_log"
      ],
      "execution_count": null,
      "outputs": []
    },
    {
      "cell_type": "code",
      "metadata": {
        "id": "eKL_tefzN6nD"
      },
      "source": [
        "# Import the confusion matrix plotter module\n",
        "from mlxtend.plotting import plot_confusion_matrix"
      ],
      "execution_count": null,
      "outputs": []
    },
    {
      "cell_type": "code",
      "metadata": {
        "id": "BHou2uG7ONaP"
      },
      "source": [
        "plot_confusion_matrix(conf_mat=cm_log,\n",
        "                                show_absolute=True,\n",
        "                                show_normed=True)"
      ],
      "execution_count": null,
      "outputs": []
    },
    {
      "cell_type": "code",
      "metadata": {
        "id": "1fwQI2cSO7Dd"
      },
      "source": [
        "print(classification_report(y,y_pred_class))"
      ],
      "execution_count": null,
      "outputs": []
    }
  ]
}